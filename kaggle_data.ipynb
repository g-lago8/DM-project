{
 "cells": [
  {
   "cell_type": "code",
   "execution_count": 1,
   "metadata": {
    "collapsed": true
   },
   "outputs": [],
   "source": [
    "import pandas as pd"
   ]
  },
  {
   "cell_type": "code",
   "execution_count": 2,
   "outputs": [],
   "source": [
    "df_kaggle=pd.read_csv('dataset_kaggle/gun-violence-data_01-2013_03-2018.csv')"
   ],
   "metadata": {
    "collapsed": false
   }
  },
  {
   "cell_type": "code",
   "execution_count": 3,
   "outputs": [
    {
     "data": {
      "text/plain": "        incident_id       n_killed      n_injured  congressional_district  \\\ncount  2.396770e+05  239677.000000  239677.000000           227733.000000   \nmean   5.593343e+05       0.252290       0.494007                8.001265   \nstd    2.931287e+05       0.521779       0.729952                8.480835   \nmin    9.211400e+04       0.000000       0.000000                0.000000   \n25%    3.085450e+05       0.000000       0.000000                2.000000   \n50%    5.435870e+05       0.000000       0.000000                5.000000   \n75%    8.172280e+05       0.000000       1.000000               10.000000   \nmax    1.083472e+06      50.000000      53.000000               53.000000   \n\n            latitude      longitude  n_guns_involved  state_house_district  \\\ncount  231754.000000  231754.000000    140226.000000         200905.000000   \nmean       37.546598     -89.338348         1.372442             55.447132   \nstd         5.130763      14.359546         4.678202             42.048117   \nmin        19.111400    -171.429000         1.000000              1.000000   \n25%        33.903400     -94.158725         1.000000             21.000000   \n50%        38.570600     -86.249600         1.000000             47.000000   \n75%        41.437375     -80.048625         1.000000             84.000000   \nmax        71.336800      97.433100       400.000000            901.000000   \n\n       state_senate_district  \ncount           207342.00000  \nmean                20.47711  \nstd                 14.20456  \nmin                  1.00000  \n25%                  9.00000  \n50%                 19.00000  \n75%                 30.00000  \nmax                 94.00000  ",
      "text/html": "<div>\n<style scoped>\n    .dataframe tbody tr th:only-of-type {\n        vertical-align: middle;\n    }\n\n    .dataframe tbody tr th {\n        vertical-align: top;\n    }\n\n    .dataframe thead th {\n        text-align: right;\n    }\n</style>\n<table border=\"1\" class=\"dataframe\">\n  <thead>\n    <tr style=\"text-align: right;\">\n      <th></th>\n      <th>incident_id</th>\n      <th>n_killed</th>\n      <th>n_injured</th>\n      <th>congressional_district</th>\n      <th>latitude</th>\n      <th>longitude</th>\n      <th>n_guns_involved</th>\n      <th>state_house_district</th>\n      <th>state_senate_district</th>\n    </tr>\n  </thead>\n  <tbody>\n    <tr>\n      <th>count</th>\n      <td>2.396770e+05</td>\n      <td>239677.000000</td>\n      <td>239677.000000</td>\n      <td>227733.000000</td>\n      <td>231754.000000</td>\n      <td>231754.000000</td>\n      <td>140226.000000</td>\n      <td>200905.000000</td>\n      <td>207342.00000</td>\n    </tr>\n    <tr>\n      <th>mean</th>\n      <td>5.593343e+05</td>\n      <td>0.252290</td>\n      <td>0.494007</td>\n      <td>8.001265</td>\n      <td>37.546598</td>\n      <td>-89.338348</td>\n      <td>1.372442</td>\n      <td>55.447132</td>\n      <td>20.47711</td>\n    </tr>\n    <tr>\n      <th>std</th>\n      <td>2.931287e+05</td>\n      <td>0.521779</td>\n      <td>0.729952</td>\n      <td>8.480835</td>\n      <td>5.130763</td>\n      <td>14.359546</td>\n      <td>4.678202</td>\n      <td>42.048117</td>\n      <td>14.20456</td>\n    </tr>\n    <tr>\n      <th>min</th>\n      <td>9.211400e+04</td>\n      <td>0.000000</td>\n      <td>0.000000</td>\n      <td>0.000000</td>\n      <td>19.111400</td>\n      <td>-171.429000</td>\n      <td>1.000000</td>\n      <td>1.000000</td>\n      <td>1.00000</td>\n    </tr>\n    <tr>\n      <th>25%</th>\n      <td>3.085450e+05</td>\n      <td>0.000000</td>\n      <td>0.000000</td>\n      <td>2.000000</td>\n      <td>33.903400</td>\n      <td>-94.158725</td>\n      <td>1.000000</td>\n      <td>21.000000</td>\n      <td>9.00000</td>\n    </tr>\n    <tr>\n      <th>50%</th>\n      <td>5.435870e+05</td>\n      <td>0.000000</td>\n      <td>0.000000</td>\n      <td>5.000000</td>\n      <td>38.570600</td>\n      <td>-86.249600</td>\n      <td>1.000000</td>\n      <td>47.000000</td>\n      <td>19.00000</td>\n    </tr>\n    <tr>\n      <th>75%</th>\n      <td>8.172280e+05</td>\n      <td>0.000000</td>\n      <td>1.000000</td>\n      <td>10.000000</td>\n      <td>41.437375</td>\n      <td>-80.048625</td>\n      <td>1.000000</td>\n      <td>84.000000</td>\n      <td>30.00000</td>\n    </tr>\n    <tr>\n      <th>max</th>\n      <td>1.083472e+06</td>\n      <td>50.000000</td>\n      <td>53.000000</td>\n      <td>53.000000</td>\n      <td>71.336800</td>\n      <td>97.433100</td>\n      <td>400.000000</td>\n      <td>901.000000</td>\n      <td>94.00000</td>\n    </tr>\n  </tbody>\n</table>\n</div>"
     },
     "execution_count": 3,
     "metadata": {},
     "output_type": "execute_result"
    }
   ],
   "source": [
    "df_kaggle.describe()"
   ],
   "metadata": {
    "collapsed": false
   }
  },
  {
   "cell_type": "code",
   "execution_count": 4,
   "outputs": [
    {
     "name": "stdout",
     "output_type": "stream",
     "text": [
      "<class 'pandas.core.frame.DataFrame'>\n",
      "RangeIndex: 239677 entries, 0 to 239676\n",
      "Data columns (total 29 columns):\n",
      " #   Column                       Non-Null Count   Dtype  \n",
      "---  ------                       --------------   -----  \n",
      " 0   incident_id                  239677 non-null  int64  \n",
      " 1   date                         239677 non-null  object \n",
      " 2   state                        239677 non-null  object \n",
      " 3   city_or_county               239677 non-null  object \n",
      " 4   address                      223180 non-null  object \n",
      " 5   n_killed                     239677 non-null  int64  \n",
      " 6   n_injured                    239677 non-null  int64  \n",
      " 7   incident_url                 239677 non-null  object \n",
      " 8   source_url                   239209 non-null  object \n",
      " 9   incident_url_fields_missing  239677 non-null  bool   \n",
      " 10  congressional_district       227733 non-null  float64\n",
      " 11  gun_stolen                   140179 non-null  object \n",
      " 12  gun_type                     140226 non-null  object \n",
      " 13  incident_characteristics     239351 non-null  object \n",
      " 14  latitude                     231754 non-null  float64\n",
      " 15  location_description         42089 non-null   object \n",
      " 16  longitude                    231754 non-null  float64\n",
      " 17  n_guns_involved              140226 non-null  float64\n",
      " 18  notes                        158660 non-null  object \n",
      " 19  participant_age              147379 non-null  object \n",
      " 20  participant_age_group        197558 non-null  object \n",
      " 21  participant_gender           203315 non-null  object \n",
      " 22  participant_name             117424 non-null  object \n",
      " 23  participant_relationship     15774 non-null   object \n",
      " 24  participant_status           212051 non-null  object \n",
      " 25  participant_type             214814 non-null  object \n",
      " 26  sources                      239068 non-null  object \n",
      " 27  state_house_district         200905 non-null  float64\n",
      " 28  state_senate_district        207342 non-null  float64\n",
      "dtypes: bool(1), float64(6), int64(3), object(19)\n",
      "memory usage: 51.4+ MB\n"
     ]
    }
   ],
   "source": [
    "df_kaggle.info()"
   ],
   "metadata": {
    "collapsed": false
   }
  },
  {
   "cell_type": "code",
   "execution_count": 24,
   "outputs": [
    {
     "ename": "ValueError",
     "evalue": "Can only compare identically-labeled Series objects",
     "output_type": "error",
     "traceback": [
      "\u001B[1;31m---------------------------------------------------------------------------\u001B[0m",
      "\u001B[1;31mValueError\u001B[0m                                Traceback (most recent call last)",
      "Cell \u001B[1;32mIn[24], line 2\u001B[0m\n\u001B[0;32m      1\u001B[0m \u001B[38;5;66;03m# show the rows where the state_house_district is the\u001B[39;00m\n\u001B[1;32m----> 2\u001B[0m df_kaggle[\u001B[43mdf_kaggle\u001B[49m\u001B[38;5;241;43m.\u001B[39;49m\u001B[43mstate_house_district\u001B[49m\u001B[38;5;241;43m==\u001B[39;49m\u001B[43mdf_kaggle\u001B[49m\u001B[38;5;241;43m.\u001B[39;49m\u001B[43mstate_house_district\u001B[49m\u001B[38;5;241;43m.\u001B[39;49m\u001B[43mnlargest\u001B[49m\u001B[43m(\u001B[49m\u001B[38;5;241;43m10\u001B[39;49m\u001B[43m)\u001B[49m]\n",
      "File \u001B[1;32m~\\AppData\\Local\\Programs\\Python\\Python310\\lib\\site-packages\\pandas\\core\\ops\\common.py:72\u001B[0m, in \u001B[0;36m_unpack_zerodim_and_defer.<locals>.new_method\u001B[1;34m(self, other)\u001B[0m\n\u001B[0;32m     68\u001B[0m             \u001B[38;5;28;01mreturn\u001B[39;00m \u001B[38;5;28mNotImplemented\u001B[39m\n\u001B[0;32m     70\u001B[0m other \u001B[38;5;241m=\u001B[39m item_from_zerodim(other)\n\u001B[1;32m---> 72\u001B[0m \u001B[38;5;28;01mreturn\u001B[39;00m \u001B[43mmethod\u001B[49m\u001B[43m(\u001B[49m\u001B[38;5;28;43mself\u001B[39;49m\u001B[43m,\u001B[49m\u001B[43m \u001B[49m\u001B[43mother\u001B[49m\u001B[43m)\u001B[49m\n",
      "File \u001B[1;32m~\\AppData\\Local\\Programs\\Python\\Python310\\lib\\site-packages\\pandas\\core\\arraylike.py:42\u001B[0m, in \u001B[0;36mOpsMixin.__eq__\u001B[1;34m(self, other)\u001B[0m\n\u001B[0;32m     40\u001B[0m \u001B[38;5;129m@unpack_zerodim_and_defer\u001B[39m(\u001B[38;5;124m\"\u001B[39m\u001B[38;5;124m__eq__\u001B[39m\u001B[38;5;124m\"\u001B[39m)\n\u001B[0;32m     41\u001B[0m \u001B[38;5;28;01mdef\u001B[39;00m \u001B[38;5;21m__eq__\u001B[39m(\u001B[38;5;28mself\u001B[39m, other):\n\u001B[1;32m---> 42\u001B[0m     \u001B[38;5;28;01mreturn\u001B[39;00m \u001B[38;5;28;43mself\u001B[39;49m\u001B[38;5;241;43m.\u001B[39;49m\u001B[43m_cmp_method\u001B[49m\u001B[43m(\u001B[49m\u001B[43mother\u001B[49m\u001B[43m,\u001B[49m\u001B[43m \u001B[49m\u001B[43moperator\u001B[49m\u001B[38;5;241;43m.\u001B[39;49m\u001B[43meq\u001B[49m\u001B[43m)\u001B[49m\n",
      "File \u001B[1;32m~\\AppData\\Local\\Programs\\Python\\Python310\\lib\\site-packages\\pandas\\core\\series.py:6237\u001B[0m, in \u001B[0;36mSeries._cmp_method\u001B[1;34m(self, other, op)\u001B[0m\n\u001B[0;32m   6234\u001B[0m res_name \u001B[38;5;241m=\u001B[39m ops\u001B[38;5;241m.\u001B[39mget_op_result_name(\u001B[38;5;28mself\u001B[39m, other)\n\u001B[0;32m   6236\u001B[0m \u001B[38;5;28;01mif\u001B[39;00m \u001B[38;5;28misinstance\u001B[39m(other, Series) \u001B[38;5;129;01mand\u001B[39;00m \u001B[38;5;129;01mnot\u001B[39;00m \u001B[38;5;28mself\u001B[39m\u001B[38;5;241m.\u001B[39m_indexed_same(other):\n\u001B[1;32m-> 6237\u001B[0m     \u001B[38;5;28;01mraise\u001B[39;00m \u001B[38;5;167;01mValueError\u001B[39;00m(\u001B[38;5;124m\"\u001B[39m\u001B[38;5;124mCan only compare identically-labeled Series objects\u001B[39m\u001B[38;5;124m\"\u001B[39m)\n\u001B[0;32m   6239\u001B[0m lvalues \u001B[38;5;241m=\u001B[39m \u001B[38;5;28mself\u001B[39m\u001B[38;5;241m.\u001B[39m_values\n\u001B[0;32m   6240\u001B[0m rvalues \u001B[38;5;241m=\u001B[39m extract_array(other, extract_numpy\u001B[38;5;241m=\u001B[39m\u001B[38;5;28;01mTrue\u001B[39;00m, extract_range\u001B[38;5;241m=\u001B[39m\u001B[38;5;28;01mTrue\u001B[39;00m)\n",
      "\u001B[1;31mValueError\u001B[0m: Can only compare identically-labeled Series objects"
     ]
    }
   ],
   "source": [
    "# show the rows where the state_house_district is the\n",
    "df_kaggle[df_kaggle.state_house_district==df_kaggle.state_house_district.nlargest(10)]"
   ],
   "metadata": {
    "collapsed": false
   }
  },
  {
   "cell_type": "code",
   "execution_count": null,
   "outputs": [],
   "source": [],
   "metadata": {
    "collapsed": false
   }
  }
 ],
 "metadata": {
  "kernelspec": {
   "display_name": "Python 3",
   "language": "python",
   "name": "python3"
  },
  "language_info": {
   "codemirror_mode": {
    "name": "ipython",
    "version": 2
   },
   "file_extension": ".py",
   "mimetype": "text/x-python",
   "name": "python",
   "nbconvert_exporter": "python",
   "pygments_lexer": "ipython2",
   "version": "2.7.6"
  }
 },
 "nbformat": 4,
 "nbformat_minor": 0
}
