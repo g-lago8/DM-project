{
 "cells": [
  {
   "cell_type": "markdown",
   "source": [
    "# Task 1.2 DataPreparation"
   ],
   "metadata": {
    "collapsed": false
   }
  },
  {
   "cell_type": "code",
   "execution_count": null,
   "outputs": [],
   "source": [
    "import math\n",
    "import sys\n",
    "import os\n",
    "import numpy as np\n",
    "import pandas as pd\n",
    "import seaborn as sn\n",
    "import scipy.stats as stats\n",
    "import matplotlib.pyplot as plt\n",
    "from sklearn.cluster import KMeans, DBSCAN\n",
    "from sklearn.preprocessing import StandardScaler"
   ],
   "metadata": {
    "collapsed": false,
    "ExecuteTime": {
     "start_time": "2023-11-23T11:54:39.787218Z",
     "end_time": "2023-11-23T11:54:40.129478Z"
    }
   }
  },
  {
   "cell_type": "code",
   "execution_count": null,
   "outputs": [],
   "source": [
    "# load the datasets\n",
    "df_incidents = pd.read_csv('../datasets_clean/incidents_clean.csv', sep=',', index_col=0)\n",
    "df_poverty = pd.read_csv('../datasets_clean/poverty_clean.csv', sep=',', index_col=0)\n",
    "df_elections = pd.read_csv('../datasets_clean/elections_clean.csv', sep=',', index_col=0)"
   ],
   "metadata": {
    "collapsed": false,
    "ExecuteTime": {
     "start_time": "2023-11-23T11:55:29.402172Z",
     "end_time": "2023-11-23T11:55:30.845242Z"
    }
   }
  },
  {
   "cell_type": "code",
   "execution_count": null,
   "outputs": [],
   "source": [
    "# types of the columns\n",
    "df_incidents.dtypes\n"
   ],
   "metadata": {
    "collapsed": false
   }
  },
  {
   "cell_type": "code",
   "execution_count": null,
   "outputs": [],
   "source": [
    "# fix the type of the columns\n",
    "df_incidents['date'] = pd.to_datetime(df_incidents['date'])\n",
    "df_incidents['state'] = df_incidents['state'].astype('string')\n",
    "df_incidents['city_or_county'] = df_incidents['city_or_county'].astype('string')\n",
    "df_incidents['city_or_county'] = df_incidents['city_or_county'].astype('string')\n",
    "df_incidents['incident_characteristics1']=df_incidents['incident_characteristics1'].astype('string')\n",
    "df_incidents['address'] = df_incidents['address'].astype('string')"
   ],
   "metadata": {
    "collapsed": false
   }
  },
  {
   "cell_type": "markdown",
   "source": [
    "## Joining datasets\n"
   ],
   "metadata": {
    "collapsed": false
   }
  },
  {
   "cell_type": "code",
   "execution_count": null,
   "outputs": [],
   "source": [
    "# We join the datasets df_incidents and df_poverty on the columns\n",
    "# -1 create a temporary column year in df_incidents\n",
    "df_incidents['year']=df_incidents['date'].dt.year"
   ],
   "metadata": {
    "collapsed": false
   }
  },
  {
   "cell_type": "code",
   "execution_count": null,
   "outputs": [],
   "source": [
    "# -2 join the datasets\n",
    "df_incidents = pd.merge(df_incidents, df_poverty, on=['state', 'year'], how='left')"
   ],
   "metadata": {
    "collapsed": false
   }
  },
  {
   "cell_type": "code",
   "execution_count": null,
   "outputs": [],
   "source": [
    "df_incidents.head()"
   ],
   "metadata": {
    "collapsed": false
   }
  },
  {
   "cell_type": "code",
   "execution_count": null,
   "outputs": [],
   "source": [
    "# We join the datasets df_incidents and df_elections on the columns\n",
    "# 1. turn congressional_district =0 in 1\n",
    "df_elections['congressional_district'] = df_elections['congressional_district'].replace(0, 1)"
   ],
   "metadata": {
    "collapsed": false
   }
  },
  {
   "cell_type": "code",
   "execution_count": null,
   "outputs": [],
   "source": [
    "df_elections['state'] = df_elections['state'].astype('string')"
   ],
   "metadata": {
    "collapsed": false
   }
  },
  {
   "cell_type": "code",
   "execution_count": null,
   "outputs": [],
   "source": [
    "df_elections['year'] = df_elections['year'].astype('float64')\n",
    "df_elections['congressional_district']=df_elections['congressional_district'].astype('float64')\n",
    "df_elections['state']=df_elections['state'].astype('string')\n",
    "\n",
    "df"
   ],
   "metadata": {
    "collapsed": false
   }
  },
  {
   "cell_type": "code",
   "execution_count": null,
   "outputs": [],
   "source": [
    "# join\n",
    "df_incidents = pd.merge(df_incidents, df_elections, on=['state', 'congressional_district', 'year'], how='left')\n",
    "df_incidents.head()"
   ],
   "metadata": {
    "collapsed": false
   }
  },
  {
   "cell_type": "markdown",
   "source": [
    "# Datasets"
   ],
   "metadata": {
    "collapsed": false
   }
  },
  {
   "cell_type": "code",
   "execution_count": null,
   "outputs": [],
   "source": [
    "df_incidents.head()"
   ],
   "metadata": {
    "collapsed": false,
    "ExecuteTime": {
     "start_time": "2023-11-23T11:55:33.719950Z",
     "end_time": "2023-11-23T11:55:33.898885Z"
    }
   }
  },
  {
   "cell_type": "code",
   "execution_count": null,
   "outputs": [],
   "source": [
    "df_poverty.head()"
   ],
   "metadata": {
    "collapsed": false,
    "ExecuteTime": {
     "start_time": "2023-11-23T11:55:35.173056Z",
     "end_time": "2023-11-23T11:55:35.214238Z"
    }
   }
  },
  {
   "cell_type": "code",
   "execution_count": null,
   "outputs": [],
   "source": [
    "df_elections.head()"
   ],
   "metadata": {
    "collapsed": false,
    "ExecuteTime": {
     "start_time": "2023-11-23T11:55:36.406362Z",
     "end_time": "2023-11-23T11:55:36.463004Z"
    }
   }
  },
  {
   "cell_type": "markdown",
   "source": [
    "# Definition of new indicators"
   ],
   "metadata": {
    "collapsed": false
   }
  },
  {
   "cell_type": "markdown",
   "source": [
    "## Severity of the incident\n",
    "We start considering the ratio of killed, injured, and unharmed participants in the incidents with respect to the total number of participants. Subsequently, we define the _severity_ of the incidents as the weighted mean of the ratios just defined. We assign to `ratio_killed` the weight 0.5, to `ratio_injured` weight 0.3 and to `ratio_unharmed` weight 0.2."
   ],
   "metadata": {
    "collapsed": false
   }
  },
  {
   "cell_type": "code",
   "execution_count": null,
   "outputs": [],
   "source": [
    "total = df_incidents['n_killed'] + df_incidents['n_injured'] + df_incidents['n_unharmed']\n",
    "df_incidents['ratio_killed'] = df_incidents['n_killed']/total*100\n",
    "df_incidents['ratio_injured'] = df_incidents['n_injured']/total*100\n",
    "df_incidents['ratio_unharmed'] = df_incidents['n_unharmed']/total*100"
   ],
   "metadata": {
    "collapsed": false,
    "ExecuteTime": {
     "start_time": "2023-11-23T11:55:44.041802Z",
     "end_time": "2023-11-23T11:55:44.076888Z"
    }
   }
  },
  {
   "cell_type": "code",
   "execution_count": null,
   "outputs": [],
   "source": [
    "df_incidents['severity'] = 0.6*df_incidents['ratio_killed'] + 0.3*df_incidents['ratio_injured'] + 0.1*df_incidents['ratio_unharmed']"
   ],
   "metadata": {
    "collapsed": false,
    "ExecuteTime": {
     "start_time": "2023-11-23T11:55:47.589620Z",
     "end_time": "2023-11-23T11:55:47.625813Z"
    }
   }
  },
  {
   "cell_type": "code",
   "execution_count": null,
   "outputs": [],
   "source": [
    "df_incidents['severity'].describe()"
   ],
   "metadata": {
    "collapsed": false,
    "ExecuteTime": {
     "start_time": "2023-11-23T11:55:48.537053Z",
     "end_time": "2023-11-23T11:55:48.786408Z"
    }
   }
  },
  {
   "cell_type": "code",
   "execution_count": null,
   "outputs": [],
   "source": [
    "plt.figure(figsize=(10, 5))\n",
    "plt.hist(df_incidents['severity'], bins=10)"
   ],
   "metadata": {
    "collapsed": false,
    "ExecuteTime": {
     "start_time": "2023-11-23T11:55:51.111653Z",
     "end_time": "2023-11-23T11:55:51.747953Z"
    }
   }
  },
  {
   "cell_type": "code",
   "execution_count": null,
   "outputs": [],
   "source": [
    "# We drop the columns of the ratios\n",
    "df_incidents.drop(['ratio_killed', 'ratio_injured', 'ratio_unharmed'], axis=1)"
   ],
   "metadata": {
    "collapsed": false,
    "ExecuteTime": {
     "start_time": "2023-11-23T11:57:47.851903Z",
     "end_time": "2023-11-23T11:57:48.134235Z"
    }
   }
  },
  {
   "cell_type": "markdown",
   "source": [
    "## Injured and killed in a given place and time\n",
    "We investigate how many injured and killed people have been involved w.r.t the total injured and\n",
    "killed people in the same congressional district in a month"
   ],
   "metadata": {
    "collapsed": false
   }
  },
  {
   "cell_type": "code",
   "execution_count": null,
   "outputs": [],
   "source": [
    "df_incidents.date=pd.to_datetime(df_incidents.date)"
   ],
   "metadata": {
    "collapsed": false,
    "ExecuteTime": {
     "start_time": "2023-11-23T11:58:07.077155Z",
     "end_time": "2023-11-23T11:58:07.516487Z"
    }
   }
  },
  {
   "cell_type": "code",
   "execution_count": null,
   "outputs": [],
   "source": [
    "#- raggruppare in base al mese, congressional district, stato\n",
    "#- injured / tot. injured , killed / tot. killed in congr. and month\n",
    "\n",
    "df_incidents['year_month'] = df_incidents.date.dt.strftime('%y-%m')\n",
    "df_incidents.year_month.isnull().sum()\n",
    "\n",
    "tot_killed = df_incidents.groupby(['state', 'congressional_district', 'year_month'])['n_killed'].sum()\n",
    "# Convert the Series to a DataFrame and reset the index\n",
    "tot_killed_df = tot_killed.reset_index()\n",
    "\n",
    "# Rename the 'n_killed' column to a desired name\n",
    "tot_killed_df = tot_killed_df.rename(columns={'n_killed': 'total_killed'})\n",
    "\n",
    "# Print the resulting DataFrame\n",
    "print(tot_killed_df)\n",
    "\n",
    "\n",
    "#Same for the injured\n",
    "tot_injured = df_incidents.groupby(['state', 'congressional_district', 'year_month'])['n_injured'].sum()\n",
    "# Convert the Series to a DataFrame and reset the index\n",
    "tot_injured_df = tot_injured.reset_index()\n",
    "\n",
    "# Rename the 'n_killed' column to a desired name\n",
    "tot_injured_df = tot_injured_df.rename(columns={'n_injured': 'total_injured'})"
   ],
   "metadata": {
    "collapsed": false,
    "ExecuteTime": {
     "start_time": "2023-11-23T11:58:08.747759Z",
     "end_time": "2023-11-23T11:58:11.330854Z"
    }
   }
  },
  {
   "cell_type": "code",
   "execution_count": null,
   "outputs": [],
   "source": [
    "# TODO: We recall that in the elections dataset, for the states that have just one congressional district, the number of the district was 0. We replace the zeros with 1"
   ],
   "metadata": {
    "collapsed": false,
    "ExecuteTime": {
     "start_time": "2023-11-22T18:13:02.311494Z",
     "end_time": "2023-11-22T18:13:02.318789Z"
    }
   }
  },
  {
   "cell_type": "code",
   "execution_count": null,
   "outputs": [],
   "source": [
    "# We join the 'total_killed' and 'total_injured' columns to the incidents dataset\n",
    "df_incidents =pd.merge( df_incidents, tot_killed_df, on=['state', 'congressional_district', 'year_month'])"
   ],
   "metadata": {
    "collapsed": false,
    "ExecuteTime": {
     "start_time": "2023-11-23T11:58:47.995781Z",
     "end_time": "2023-11-23T11:58:48.381099Z"
    }
   }
  },
  {
   "cell_type": "code",
   "execution_count": null,
   "outputs": [],
   "source": [
    "df_incidents = pd.merge(df_incidents, tot_injured_df, on=['state', 'congressional_district', 'year_month'])\n",
    "df_incidents.head()"
   ],
   "metadata": {
    "collapsed": false,
    "ExecuteTime": {
     "start_time": "2023-11-23T11:58:49.183061Z",
     "end_time": "2023-11-23T11:58:49.341731Z"
    }
   }
  },
  {
   "cell_type": "code",
   "execution_count": null,
   "outputs": [],
   "source": [
    "# We distinguish between the case with total_killed = 0, and total_killed != 0\n",
    "\n",
    "def f(x, y):\n",
    "    if y!=0:\n",
    "        return x/y\n",
    "    else:\n",
    "        return 0\n",
    "df_incidents['killed_by_district'] = df_incidents.apply(lambda row: f(row['n_killed'], row['total_killed']), axis=1)\n",
    "\n",
    "df_incidents['injured_by_district'] = df_incidents.apply(lambda row: f(row['n_injured'], row['total_injured']), axis=1)"
   ],
   "metadata": {
    "collapsed": false,
    "ExecuteTime": {
     "start_time": "2023-11-23T11:58:57.328657Z",
     "end_time": "2023-11-23T11:59:03.479402Z"
    }
   }
  },
  {
   "cell_type": "code",
   "execution_count": null,
   "outputs": [],
   "source": [
    "# Let's see the distribution of the feature 'killed_by_district'\n",
    "plt.figure(figsize=(10, 5))\n",
    "plt.hist(df_incidents['killed_by_district'], bins=5)"
   ],
   "metadata": {
    "collapsed": false,
    "ExecuteTime": {
     "start_time": "2023-11-23T12:01:22.364142Z",
     "end_time": "2023-11-23T12:01:22.866576Z"
    }
   }
  },
  {
   "cell_type": "code",
   "execution_count": null,
   "outputs": [],
   "source": [
    "plt.figure(figsize=(10, 5))\n",
    "plt.hist(df_incidents['injured_by_district'], bins=5)"
   ],
   "metadata": {
    "collapsed": false,
    "ExecuteTime": {
     "start_time": "2023-11-23T12:01:07.910747Z",
     "end_time": "2023-11-23T12:01:08.498867Z"
    }
   }
  },
  {
   "cell_type": "markdown",
   "source": [
    "# Aggregated dataset"
   ],
   "metadata": {
    "collapsed": false
   }
  },
  {
   "cell_type": "markdown",
   "source": [
    "We group the incidents that happened in the same congressional district of each state: label [state, congressional district] (and eventually in the same year, month).\n",
    "\n",
    "We consider the numerical features of the dataset df_incidents:\n",
    "- the mean of 'avg_age_participants'\n",
    "- the sum of the features 'n_participants_child'-'n_participants'\n",
    "\n",
    "We also add the 'povertyPercentage' feature of df_poverty for each state, year.\n",
    "\n",
    "Finally, given the year of the incident, we add the 'party', 'candidatevotes', 'totalvotes' features from the dataset df_elections for each [state, congressional district]."
   ],
   "metadata": {
    "collapsed": false
   }
  },
  {
   "cell_type": "code",
   "execution_count": null,
   "outputs": [],
   "source": [],
   "metadata": {
    "collapsed": false,
    "ExecuteTime": {
     "start_time": "2023-11-22T18:13:09.525801Z",
     "end_time": "2023-11-22T18:13:09.631619Z"
    }
   }
  },
  {
   "cell_type": "code",
   "execution_count": null,
   "outputs": [],
   "source": [],
   "metadata": {
    "collapsed": false,
    "ExecuteTime": {
     "start_time": "2023-11-22T18:13:09.540434Z",
     "end_time": "2023-11-22T18:13:09.632616Z"
    }
   }
  },
  {
   "cell_type": "code",
   "execution_count": null,
   "outputs": [],
   "source": [],
   "metadata": {
    "collapsed": false,
    "ExecuteTime": {
     "start_time": "2023-11-22T18:13:09.551067Z",
     "end_time": "2023-11-22T18:13:09.632616Z"
    }
   }
  },
  {
   "cell_type": "code",
   "execution_count": null,
   "outputs": [],
   "source": [],
   "metadata": {
    "collapsed": false,
    "ExecuteTime": {
     "start_time": "2023-11-22T18:13:09.566049Z",
     "end_time": "2023-11-22T18:13:09.632616Z"
    }
   }
  }
 ],
 "metadata": {
  "kernelspec": {
   "display_name": "Python 3",
   "language": "python",
   "name": "python3"
  },
  "language_info": {
   "codemirror_mode": {
    "name": "ipython",
    "version": 2
   },
   "file_extension": ".py",
   "mimetype": "text/x-python",
   "name": "python",
   "nbconvert_exporter": "python",
   "pygments_lexer": "ipython2",
   "version": "2.7.6"
  }
 },
 "nbformat": 4,
 "nbformat_minor": 0
}
