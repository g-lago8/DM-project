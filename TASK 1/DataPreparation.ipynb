{
 "cells": [
  {
   "cell_type": "markdown",
   "metadata": {
    "collapsed": false
   },
   "source": [
    "# Task 1.2 DataPreparation"
   ]
  },
  {
   "cell_type": "code",
   "execution_count": 43,
   "metadata": {
    "ExecuteTime": {
     "start_time": "2023-11-23T15:19:05.183646Z",
     "end_time": "2023-11-23T15:19:05.201816Z"
    },
    "collapsed": false
   },
   "outputs": [],
   "source": [
    "import math\n",
    "import sys\n",
    "import os\n",
    "import numpy as np\n",
    "import pandas as pd\n",
    "import seaborn as sn\n",
    "import scipy.stats as stats\n",
    "import matplotlib.pyplot as plt\n",
    "from sklearn.cluster import KMeans, DBSCAN\n",
    "from sklearn.preprocessing import StandardScaler"
   ]
  },
  {
   "cell_type": "code",
   "execution_count": 44,
   "metadata": {
    "ExecuteTime": {
     "start_time": "2023-11-23T15:19:06.938357Z",
     "end_time": "2023-11-23T15:19:08.386290Z"
    },
    "collapsed": false
   },
   "outputs": [],
   "source": [
    "# load the datasets\n",
    "df_incidents = pd.read_csv('../datasets_clean/incidents_clean.csv', sep=',', index_col=0)\n",
    "df_poverty = pd.read_csv('../datasets_clean/poverty_clean.csv', sep=',', index_col=0)\n",
    "df_elections = pd.read_csv('../datasets_clean/elections_clean.csv', sep=',', index_col=0)"
   ]
  },
  {
   "cell_type": "code",
   "execution_count": 45,
   "metadata": {
    "collapsed": false,
    "ExecuteTime": {
     "start_time": "2023-11-23T15:19:09.180708Z",
     "end_time": "2023-11-23T15:19:09.221538Z"
    }
   },
   "outputs": [
    {
     "data": {
      "text/plain": "date                          object\nstate                         object\ncity_or_county                object\naddress                       object\nlatitude                     float64\nlongitude                    float64\ncongressional_district       float64\navg_age_participants         float64\nn_participants_child         float64\nn_participants_teen          float64\nn_participants_adult         float64\nn_males                      float64\nn_females                    float64\nn_killed                       int64\nn_injured                      int64\nn_arrested                   float64\nn_unharmed                   float64\nn_participants               float64\nincident_characteristics1     object\ndtype: object"
     },
     "execution_count": 45,
     "metadata": {},
     "output_type": "execute_result"
    }
   ],
   "source": [
    "# types of the columns\n",
    "df_incidents.dtypes\n"
   ]
  },
  {
   "cell_type": "code",
   "execution_count": 46,
   "metadata": {
    "collapsed": false,
    "ExecuteTime": {
     "start_time": "2023-11-23T15:19:10.308925Z",
     "end_time": "2023-11-23T15:19:10.553788Z"
    }
   },
   "outputs": [],
   "source": [
    "# fix the type of the columns\n",
    "df_incidents['date'] = pd.to_datetime(df_incidents['date'])\n",
    "df_incidents['state'] = df_incidents['state'].astype('string')\n",
    "df_incidents['city_or_county'] = df_incidents['city_or_county'].astype('string')\n",
    "df_incidents['city_or_county'] = df_incidents['city_or_county'].astype('string')\n",
    "df_incidents['incident_characteristics1']=df_incidents['incident_characteristics1'].astype('string')\n",
    "df_incidents['address'] = df_incidents['address'].astype('string')"
   ]
  },
  {
   "cell_type": "markdown",
   "metadata": {
    "collapsed": false
   },
   "source": [
    "## Joining datasets\n"
   ]
  },
  {
   "cell_type": "code",
   "execution_count": 47,
   "metadata": {
    "collapsed": false,
    "ExecuteTime": {
     "start_time": "2023-11-23T15:19:12.889059Z",
     "end_time": "2023-11-23T15:19:13.736201Z"
    }
   },
   "outputs": [],
   "source": [
    "# We join the datasets df_incidents and df_poverty on the columns\n",
    "# -1 create a temporary column year in df_incidents\n",
    "df_incidents['year']=df_incidents['date'].dt.year"
   ]
  },
  {
   "cell_type": "code",
   "execution_count": 48,
   "metadata": {
    "collapsed": false,
    "ExecuteTime": {
     "start_time": "2023-11-23T15:19:14.440347Z",
     "end_time": "2023-11-23T15:19:14.630208Z"
    }
   },
   "outputs": [],
   "source": [
    "# -2 join the datasets\n",
    "df_incidents = pd.merge(df_incidents, df_poverty, on=['state', 'year'], how='left')"
   ]
  },
  {
   "cell_type": "code",
   "execution_count": 49,
   "metadata": {
    "collapsed": false,
    "ExecuteTime": {
     "start_time": "2023-11-23T15:19:17.097756Z",
     "end_time": "2023-11-23T15:19:17.221890Z"
    }
   },
   "outputs": [
    {
     "data": {
      "text/plain": "        date                 state city_or_county  \\\n0 2015-05-02               Indiana   Indianapolis   \n1 2017-04-03          Pennsylvania           Kane   \n2 2016-10-15  District of Columbia     Washington   \n3        NaT          Pennsylvania     Pittsburgh   \n4 2014-01-18        North Carolina   Wayne County   \n\n                              address  latitude  longitude  \\\n0       Lafayette Road and Pike Plaza   39.8322   -86.2492   \n1                           5647 US 6   41.6645   -78.7856   \n2  1000 block of Bladensburg Road, NE   38.9030   -76.9820   \n3     California and Marshall Avenues   40.4621   -80.0308   \n4  4700 block of U.S. Highway 70 East   35.1847   -77.9527   \n\n   congressional_district  avg_age_participants  n_participants_child  \\\n0                     7.0                  19.0                   0.0   \n1                     5.0                  62.0                   0.0   \n2                     1.0                  26.0                   0.0   \n3                    14.0                  40.0                   0.0   \n4                    13.0                  65.0                   0.0   \n\n   n_participants_teen  ...  n_males  n_females  n_killed  n_injured  \\\n0                  0.0  ...      1.0        0.0         0          1   \n1                  0.0  ...      1.0        0.0         1          0   \n2                  0.0  ...      1.0        0.0         0          1   \n3                  0.0  ...      1.0        0.0         0          1   \n4                  0.0  ...      1.0        0.0         0          1   \n\n   n_arrested  n_unharmed  n_participants  \\\n0         0.0         0.0             1.0   \n1         0.0         0.0             1.0   \n2         0.0         0.0             2.0   \n3         0.0         1.0             2.0   \n4         0.0         0.0             1.0   \n\n                   incident_characteristics1    year  povertyPercentage  \n0                     Shot - Wounded/Injured  2015.0               12.3  \n1  Shot - Dead (murder, accidental, suicide)  2017.0               10.5  \n2                     Shot - Wounded/Injured  2016.0               14.9  \n3                     Shot - Wounded/Injured     NaN                NaN  \n4                     Shot - Wounded/Injured  2014.0               15.3  \n\n[5 rows x 21 columns]",
      "text/html": "<div>\n<style scoped>\n    .dataframe tbody tr th:only-of-type {\n        vertical-align: middle;\n    }\n\n    .dataframe tbody tr th {\n        vertical-align: top;\n    }\n\n    .dataframe thead th {\n        text-align: right;\n    }\n</style>\n<table border=\"1\" class=\"dataframe\">\n  <thead>\n    <tr style=\"text-align: right;\">\n      <th></th>\n      <th>date</th>\n      <th>state</th>\n      <th>city_or_county</th>\n      <th>address</th>\n      <th>latitude</th>\n      <th>longitude</th>\n      <th>congressional_district</th>\n      <th>avg_age_participants</th>\n      <th>n_participants_child</th>\n      <th>n_participants_teen</th>\n      <th>...</th>\n      <th>n_males</th>\n      <th>n_females</th>\n      <th>n_killed</th>\n      <th>n_injured</th>\n      <th>n_arrested</th>\n      <th>n_unharmed</th>\n      <th>n_participants</th>\n      <th>incident_characteristics1</th>\n      <th>year</th>\n      <th>povertyPercentage</th>\n    </tr>\n  </thead>\n  <tbody>\n    <tr>\n      <th>0</th>\n      <td>2015-05-02</td>\n      <td>Indiana</td>\n      <td>Indianapolis</td>\n      <td>Lafayette Road and Pike Plaza</td>\n      <td>39.8322</td>\n      <td>-86.2492</td>\n      <td>7.0</td>\n      <td>19.0</td>\n      <td>0.0</td>\n      <td>0.0</td>\n      <td>...</td>\n      <td>1.0</td>\n      <td>0.0</td>\n      <td>0</td>\n      <td>1</td>\n      <td>0.0</td>\n      <td>0.0</td>\n      <td>1.0</td>\n      <td>Shot - Wounded/Injured</td>\n      <td>2015.0</td>\n      <td>12.3</td>\n    </tr>\n    <tr>\n      <th>1</th>\n      <td>2017-04-03</td>\n      <td>Pennsylvania</td>\n      <td>Kane</td>\n      <td>5647 US 6</td>\n      <td>41.6645</td>\n      <td>-78.7856</td>\n      <td>5.0</td>\n      <td>62.0</td>\n      <td>0.0</td>\n      <td>0.0</td>\n      <td>...</td>\n      <td>1.0</td>\n      <td>0.0</td>\n      <td>1</td>\n      <td>0</td>\n      <td>0.0</td>\n      <td>0.0</td>\n      <td>1.0</td>\n      <td>Shot - Dead (murder, accidental, suicide)</td>\n      <td>2017.0</td>\n      <td>10.5</td>\n    </tr>\n    <tr>\n      <th>2</th>\n      <td>2016-10-15</td>\n      <td>District of Columbia</td>\n      <td>Washington</td>\n      <td>1000 block of Bladensburg Road, NE</td>\n      <td>38.9030</td>\n      <td>-76.9820</td>\n      <td>1.0</td>\n      <td>26.0</td>\n      <td>0.0</td>\n      <td>0.0</td>\n      <td>...</td>\n      <td>1.0</td>\n      <td>0.0</td>\n      <td>0</td>\n      <td>1</td>\n      <td>0.0</td>\n      <td>0.0</td>\n      <td>2.0</td>\n      <td>Shot - Wounded/Injured</td>\n      <td>2016.0</td>\n      <td>14.9</td>\n    </tr>\n    <tr>\n      <th>3</th>\n      <td>NaT</td>\n      <td>Pennsylvania</td>\n      <td>Pittsburgh</td>\n      <td>California and Marshall Avenues</td>\n      <td>40.4621</td>\n      <td>-80.0308</td>\n      <td>14.0</td>\n      <td>40.0</td>\n      <td>0.0</td>\n      <td>0.0</td>\n      <td>...</td>\n      <td>1.0</td>\n      <td>0.0</td>\n      <td>0</td>\n      <td>1</td>\n      <td>0.0</td>\n      <td>1.0</td>\n      <td>2.0</td>\n      <td>Shot - Wounded/Injured</td>\n      <td>NaN</td>\n      <td>NaN</td>\n    </tr>\n    <tr>\n      <th>4</th>\n      <td>2014-01-18</td>\n      <td>North Carolina</td>\n      <td>Wayne County</td>\n      <td>4700 block of U.S. Highway 70 East</td>\n      <td>35.1847</td>\n      <td>-77.9527</td>\n      <td>13.0</td>\n      <td>65.0</td>\n      <td>0.0</td>\n      <td>0.0</td>\n      <td>...</td>\n      <td>1.0</td>\n      <td>0.0</td>\n      <td>0</td>\n      <td>1</td>\n      <td>0.0</td>\n      <td>0.0</td>\n      <td>1.0</td>\n      <td>Shot - Wounded/Injured</td>\n      <td>2014.0</td>\n      <td>15.3</td>\n    </tr>\n  </tbody>\n</table>\n<p>5 rows × 21 columns</p>\n</div>"
     },
     "execution_count": 49,
     "metadata": {},
     "output_type": "execute_result"
    }
   ],
   "source": [
    "df_incidents.head()"
   ]
  },
  {
   "cell_type": "code",
   "execution_count": 50,
   "metadata": {
    "collapsed": false,
    "ExecuteTime": {
     "start_time": "2023-11-23T15:19:19.639225Z",
     "end_time": "2023-11-23T15:19:19.667635Z"
    }
   },
   "outputs": [],
   "source": [
    "# We join the datasets df_incidents and df_elections on the columns\n",
    "# 1. turn congressional_district =0 in 1\n",
    "df_elections['congressional_district'] = df_elections['congressional_district'].replace(0, 1)"
   ]
  },
  {
   "cell_type": "code",
   "execution_count": 51,
   "metadata": {
    "collapsed": false,
    "ExecuteTime": {
     "start_time": "2023-11-23T15:19:21.007537Z",
     "end_time": "2023-11-23T15:19:21.029318Z"
    }
   },
   "outputs": [],
   "source": [
    "df_elections['state'] = df_elections['state'].astype('string')"
   ]
  },
  {
   "cell_type": "code",
   "execution_count": 52,
   "metadata": {
    "collapsed": false,
    "ExecuteTime": {
     "start_time": "2023-11-23T15:19:22.493653Z",
     "end_time": "2023-11-23T15:19:22.542462Z"
    }
   },
   "outputs": [
    {
     "data": {
      "text/plain": "<StringArray>\n[             'ALABAMA',               'ALASKA',              'ARIZONA',\n             'ARKANSAS',           'CALIFORNIA',             'COLORADO',\n          'CONNECTICUT',             'DELAWARE',              'FLORIDA',\n              'GEORGIA',               'HAWAII',                'IDAHO',\n             'ILLINOIS',              'INDIANA',                 'IOWA',\n               'KANSAS',             'KENTUCKY',            'LOUISIANA',\n                'MAINE',             'MARYLAND',        'MASSACHUSETTS',\n             'MICHIGAN',            'MINNESOTA',          'MISSISSIPPI',\n             'MISSOURI',              'MONTANA',             'NEBRASKA',\n               'NEVADA',        'NEW HAMPSHIRE',           'NEW JERSEY',\n           'NEW MEXICO',             'NEW YORK',       'NORTH CAROLINA',\n         'NORTH DAKOTA',                 'OHIO',             'OKLAHOMA',\n               'OREGON',         'PENNSYLVANIA',         'RHODE ISLAND',\n       'SOUTH CAROLINA',         'SOUTH DAKOTA',            'TENNESSEE',\n                'TEXAS',                 'UTAH',              'VERMONT',\n             'VIRGINIA',           'WASHINGTON',        'WEST VIRGINIA',\n            'WISCONSIN',              'WYOMING', 'DISTRICT OF COLUMBIA']\nLength: 51, dtype: string"
     },
     "execution_count": 52,
     "metadata": {},
     "output_type": "execute_result"
    }
   ],
   "source": [
    "df_elections['year'] = df_elections['year'].astype('float64')\n",
    "df_elections['congressional_district']=df_elections['congressional_district'].astype('float64')\n",
    "df_elections['state']=df_elections['state'].astype('string')\n",
    "\n",
    "df_incidents['year'] = df_incidents['year'].astype('float64')\n",
    "df_incidents['congressional_district']=df_incidents['congressional_district'].astype('float64')\n",
    "df_incidents['state']=df_incidents['state'].astype('string')\n",
    "\n",
    "df_elections.state.unique()"
   ]
  },
  {
   "cell_type": "code",
   "execution_count": 53,
   "metadata": {
    "ExecuteTime": {
     "start_time": "2023-11-23T15:19:24.242823Z",
     "end_time": "2023-11-23T15:19:24.334201Z"
    }
   },
   "outputs": [],
   "source": [
    "# convert the state columns to lowercases\n",
    "df_incidents['state'] = df_incidents['state'].str.lower() \n",
    "df_elections['state'] = df_elections['state'].str.lower()"
   ]
  },
  {
   "cell_type": "code",
   "execution_count": 54,
   "metadata": {
    "collapsed": false,
    "ExecuteTime": {
     "start_time": "2023-11-23T15:19:25.561276Z",
     "end_time": "2023-11-23T15:19:25.878965Z"
    }
   },
   "outputs": [
    {
     "data": {
      "text/plain": "        date                 state city_or_county  \\\n0 2015-05-02               indiana   Indianapolis   \n1 2017-04-03          pennsylvania           Kane   \n2 2016-10-15  district of columbia     Washington   \n3        NaT          pennsylvania     Pittsburgh   \n4 2014-01-18        north carolina   Wayne County   \n\n                              address  latitude  longitude  \\\n0       Lafayette Road and Pike Plaza   39.8322   -86.2492   \n1                           5647 US 6   41.6645   -78.7856   \n2  1000 block of Bladensburg Road, NE   38.9030   -76.9820   \n3     California and Marshall Avenues   40.4621   -80.0308   \n4  4700 block of U.S. Highway 70 East   35.1847   -77.9527   \n\n   congressional_district  avg_age_participants  n_participants_child  \\\n0                     7.0                  19.0                   0.0   \n1                     5.0                  62.0                   0.0   \n2                     1.0                  26.0                   0.0   \n3                    14.0                  40.0                   0.0   \n4                    13.0                  65.0                   0.0   \n\n   n_participants_teen  ...  n_injured  n_arrested  n_unharmed  \\\n0                  0.0  ...          1         0.0         0.0   \n1                  0.0  ...          0         0.0         0.0   \n2                  0.0  ...          1         0.0         0.0   \n3                  0.0  ...          1         0.0         1.0   \n4                  0.0  ...          1         0.0         0.0   \n\n   n_participants                  incident_characteristics1    year  \\\n0             1.0                     Shot - Wounded/Injured  2015.0   \n1             1.0  Shot - Dead (murder, accidental, suicide)  2017.0   \n2             2.0                     Shot - Wounded/Injured  2016.0   \n3             2.0                     Shot - Wounded/Injured     NaN   \n4             1.0                     Shot - Wounded/Injured  2014.0   \n\n   povertyPercentage       party candidatevotes  totalvotes  \n0               12.3         NaN            NaN         NaN  \n1               10.5         NaN            NaN         NaN  \n2               14.9         NaN            NaN         NaN  \n3                NaN         NaN            NaN         NaN  \n4               15.3  REPUBLICAN       153991.0    268709.0  \n\n[5 rows x 24 columns]",
      "text/html": "<div>\n<style scoped>\n    .dataframe tbody tr th:only-of-type {\n        vertical-align: middle;\n    }\n\n    .dataframe tbody tr th {\n        vertical-align: top;\n    }\n\n    .dataframe thead th {\n        text-align: right;\n    }\n</style>\n<table border=\"1\" class=\"dataframe\">\n  <thead>\n    <tr style=\"text-align: right;\">\n      <th></th>\n      <th>date</th>\n      <th>state</th>\n      <th>city_or_county</th>\n      <th>address</th>\n      <th>latitude</th>\n      <th>longitude</th>\n      <th>congressional_district</th>\n      <th>avg_age_participants</th>\n      <th>n_participants_child</th>\n      <th>n_participants_teen</th>\n      <th>...</th>\n      <th>n_injured</th>\n      <th>n_arrested</th>\n      <th>n_unharmed</th>\n      <th>n_participants</th>\n      <th>incident_characteristics1</th>\n      <th>year</th>\n      <th>povertyPercentage</th>\n      <th>party</th>\n      <th>candidatevotes</th>\n      <th>totalvotes</th>\n    </tr>\n  </thead>\n  <tbody>\n    <tr>\n      <th>0</th>\n      <td>2015-05-02</td>\n      <td>indiana</td>\n      <td>Indianapolis</td>\n      <td>Lafayette Road and Pike Plaza</td>\n      <td>39.8322</td>\n      <td>-86.2492</td>\n      <td>7.0</td>\n      <td>19.0</td>\n      <td>0.0</td>\n      <td>0.0</td>\n      <td>...</td>\n      <td>1</td>\n      <td>0.0</td>\n      <td>0.0</td>\n      <td>1.0</td>\n      <td>Shot - Wounded/Injured</td>\n      <td>2015.0</td>\n      <td>12.3</td>\n      <td>NaN</td>\n      <td>NaN</td>\n      <td>NaN</td>\n    </tr>\n    <tr>\n      <th>1</th>\n      <td>2017-04-03</td>\n      <td>pennsylvania</td>\n      <td>Kane</td>\n      <td>5647 US 6</td>\n      <td>41.6645</td>\n      <td>-78.7856</td>\n      <td>5.0</td>\n      <td>62.0</td>\n      <td>0.0</td>\n      <td>0.0</td>\n      <td>...</td>\n      <td>0</td>\n      <td>0.0</td>\n      <td>0.0</td>\n      <td>1.0</td>\n      <td>Shot - Dead (murder, accidental, suicide)</td>\n      <td>2017.0</td>\n      <td>10.5</td>\n      <td>NaN</td>\n      <td>NaN</td>\n      <td>NaN</td>\n    </tr>\n    <tr>\n      <th>2</th>\n      <td>2016-10-15</td>\n      <td>district of columbia</td>\n      <td>Washington</td>\n      <td>1000 block of Bladensburg Road, NE</td>\n      <td>38.9030</td>\n      <td>-76.9820</td>\n      <td>1.0</td>\n      <td>26.0</td>\n      <td>0.0</td>\n      <td>0.0</td>\n      <td>...</td>\n      <td>1</td>\n      <td>0.0</td>\n      <td>0.0</td>\n      <td>2.0</td>\n      <td>Shot - Wounded/Injured</td>\n      <td>2016.0</td>\n      <td>14.9</td>\n      <td>NaN</td>\n      <td>NaN</td>\n      <td>NaN</td>\n    </tr>\n    <tr>\n      <th>3</th>\n      <td>NaT</td>\n      <td>pennsylvania</td>\n      <td>Pittsburgh</td>\n      <td>California and Marshall Avenues</td>\n      <td>40.4621</td>\n      <td>-80.0308</td>\n      <td>14.0</td>\n      <td>40.0</td>\n      <td>0.0</td>\n      <td>0.0</td>\n      <td>...</td>\n      <td>1</td>\n      <td>0.0</td>\n      <td>1.0</td>\n      <td>2.0</td>\n      <td>Shot - Wounded/Injured</td>\n      <td>NaN</td>\n      <td>NaN</td>\n      <td>NaN</td>\n      <td>NaN</td>\n      <td>NaN</td>\n    </tr>\n    <tr>\n      <th>4</th>\n      <td>2014-01-18</td>\n      <td>north carolina</td>\n      <td>Wayne County</td>\n      <td>4700 block of U.S. Highway 70 East</td>\n      <td>35.1847</td>\n      <td>-77.9527</td>\n      <td>13.0</td>\n      <td>65.0</td>\n      <td>0.0</td>\n      <td>0.0</td>\n      <td>...</td>\n      <td>1</td>\n      <td>0.0</td>\n      <td>0.0</td>\n      <td>1.0</td>\n      <td>Shot - Wounded/Injured</td>\n      <td>2014.0</td>\n      <td>15.3</td>\n      <td>REPUBLICAN</td>\n      <td>153991.0</td>\n      <td>268709.0</td>\n    </tr>\n  </tbody>\n</table>\n<p>5 rows × 24 columns</p>\n</div>"
     },
     "execution_count": 54,
     "metadata": {},
     "output_type": "execute_result"
    }
   ],
   "source": [
    "# join\n",
    "\n",
    "df_incidents = pd.merge(df_incidents, df_elections, on=['state', 'congressional_district', 'year'], how='left')\n",
    "df_incidents.head()"
   ]
  },
  {
   "cell_type": "markdown",
   "metadata": {
    "collapsed": false
   },
   "source": [
    "# Datasets"
   ]
  },
  {
   "cell_type": "code",
   "execution_count": 55,
   "metadata": {
    "ExecuteTime": {
     "start_time": "2023-11-23T15:19:35.439810Z",
     "end_time": "2023-11-23T15:19:35.486521Z"
    },
    "collapsed": false
   },
   "outputs": [
    {
     "data": {
      "text/plain": "        date                 state city_or_county  \\\n0 2015-05-02               indiana   Indianapolis   \n1 2017-04-03          pennsylvania           Kane   \n2 2016-10-15  district of columbia     Washington   \n3        NaT          pennsylvania     Pittsburgh   \n4 2014-01-18        north carolina   Wayne County   \n\n                              address  latitude  longitude  \\\n0       Lafayette Road and Pike Plaza   39.8322   -86.2492   \n1                           5647 US 6   41.6645   -78.7856   \n2  1000 block of Bladensburg Road, NE   38.9030   -76.9820   \n3     California and Marshall Avenues   40.4621   -80.0308   \n4  4700 block of U.S. Highway 70 East   35.1847   -77.9527   \n\n   congressional_district  avg_age_participants  n_participants_child  \\\n0                     7.0                  19.0                   0.0   \n1                     5.0                  62.0                   0.0   \n2                     1.0                  26.0                   0.0   \n3                    14.0                  40.0                   0.0   \n4                    13.0                  65.0                   0.0   \n\n   n_participants_teen  ...  n_injured  n_arrested  n_unharmed  \\\n0                  0.0  ...          1         0.0         0.0   \n1                  0.0  ...          0         0.0         0.0   \n2                  0.0  ...          1         0.0         0.0   \n3                  0.0  ...          1         0.0         1.0   \n4                  0.0  ...          1         0.0         0.0   \n\n   n_participants                  incident_characteristics1    year  \\\n0             1.0                     Shot - Wounded/Injured  2015.0   \n1             1.0  Shot - Dead (murder, accidental, suicide)  2017.0   \n2             2.0                     Shot - Wounded/Injured  2016.0   \n3             2.0                     Shot - Wounded/Injured     NaN   \n4             1.0                     Shot - Wounded/Injured  2014.0   \n\n   povertyPercentage       party candidatevotes  totalvotes  \n0               12.3         NaN            NaN         NaN  \n1               10.5         NaN            NaN         NaN  \n2               14.9         NaN            NaN         NaN  \n3                NaN         NaN            NaN         NaN  \n4               15.3  REPUBLICAN       153991.0    268709.0  \n\n[5 rows x 24 columns]",
      "text/html": "<div>\n<style scoped>\n    .dataframe tbody tr th:only-of-type {\n        vertical-align: middle;\n    }\n\n    .dataframe tbody tr th {\n        vertical-align: top;\n    }\n\n    .dataframe thead th {\n        text-align: right;\n    }\n</style>\n<table border=\"1\" class=\"dataframe\">\n  <thead>\n    <tr style=\"text-align: right;\">\n      <th></th>\n      <th>date</th>\n      <th>state</th>\n      <th>city_or_county</th>\n      <th>address</th>\n      <th>latitude</th>\n      <th>longitude</th>\n      <th>congressional_district</th>\n      <th>avg_age_participants</th>\n      <th>n_participants_child</th>\n      <th>n_participants_teen</th>\n      <th>...</th>\n      <th>n_injured</th>\n      <th>n_arrested</th>\n      <th>n_unharmed</th>\n      <th>n_participants</th>\n      <th>incident_characteristics1</th>\n      <th>year</th>\n      <th>povertyPercentage</th>\n      <th>party</th>\n      <th>candidatevotes</th>\n      <th>totalvotes</th>\n    </tr>\n  </thead>\n  <tbody>\n    <tr>\n      <th>0</th>\n      <td>2015-05-02</td>\n      <td>indiana</td>\n      <td>Indianapolis</td>\n      <td>Lafayette Road and Pike Plaza</td>\n      <td>39.8322</td>\n      <td>-86.2492</td>\n      <td>7.0</td>\n      <td>19.0</td>\n      <td>0.0</td>\n      <td>0.0</td>\n      <td>...</td>\n      <td>1</td>\n      <td>0.0</td>\n      <td>0.0</td>\n      <td>1.0</td>\n      <td>Shot - Wounded/Injured</td>\n      <td>2015.0</td>\n      <td>12.3</td>\n      <td>NaN</td>\n      <td>NaN</td>\n      <td>NaN</td>\n    </tr>\n    <tr>\n      <th>1</th>\n      <td>2017-04-03</td>\n      <td>pennsylvania</td>\n      <td>Kane</td>\n      <td>5647 US 6</td>\n      <td>41.6645</td>\n      <td>-78.7856</td>\n      <td>5.0</td>\n      <td>62.0</td>\n      <td>0.0</td>\n      <td>0.0</td>\n      <td>...</td>\n      <td>0</td>\n      <td>0.0</td>\n      <td>0.0</td>\n      <td>1.0</td>\n      <td>Shot - Dead (murder, accidental, suicide)</td>\n      <td>2017.0</td>\n      <td>10.5</td>\n      <td>NaN</td>\n      <td>NaN</td>\n      <td>NaN</td>\n    </tr>\n    <tr>\n      <th>2</th>\n      <td>2016-10-15</td>\n      <td>district of columbia</td>\n      <td>Washington</td>\n      <td>1000 block of Bladensburg Road, NE</td>\n      <td>38.9030</td>\n      <td>-76.9820</td>\n      <td>1.0</td>\n      <td>26.0</td>\n      <td>0.0</td>\n      <td>0.0</td>\n      <td>...</td>\n      <td>1</td>\n      <td>0.0</td>\n      <td>0.0</td>\n      <td>2.0</td>\n      <td>Shot - Wounded/Injured</td>\n      <td>2016.0</td>\n      <td>14.9</td>\n      <td>NaN</td>\n      <td>NaN</td>\n      <td>NaN</td>\n    </tr>\n    <tr>\n      <th>3</th>\n      <td>NaT</td>\n      <td>pennsylvania</td>\n      <td>Pittsburgh</td>\n      <td>California and Marshall Avenues</td>\n      <td>40.4621</td>\n      <td>-80.0308</td>\n      <td>14.0</td>\n      <td>40.0</td>\n      <td>0.0</td>\n      <td>0.0</td>\n      <td>...</td>\n      <td>1</td>\n      <td>0.0</td>\n      <td>1.0</td>\n      <td>2.0</td>\n      <td>Shot - Wounded/Injured</td>\n      <td>NaN</td>\n      <td>NaN</td>\n      <td>NaN</td>\n      <td>NaN</td>\n      <td>NaN</td>\n    </tr>\n    <tr>\n      <th>4</th>\n      <td>2014-01-18</td>\n      <td>north carolina</td>\n      <td>Wayne County</td>\n      <td>4700 block of U.S. Highway 70 East</td>\n      <td>35.1847</td>\n      <td>-77.9527</td>\n      <td>13.0</td>\n      <td>65.0</td>\n      <td>0.0</td>\n      <td>0.0</td>\n      <td>...</td>\n      <td>1</td>\n      <td>0.0</td>\n      <td>0.0</td>\n      <td>1.0</td>\n      <td>Shot - Wounded/Injured</td>\n      <td>2014.0</td>\n      <td>15.3</td>\n      <td>REPUBLICAN</td>\n      <td>153991.0</td>\n      <td>268709.0</td>\n    </tr>\n  </tbody>\n</table>\n<p>5 rows × 24 columns</p>\n</div>"
     },
     "execution_count": 55,
     "metadata": {},
     "output_type": "execute_result"
    }
   ],
   "source": [
    "df_incidents.head()"
   ]
  },
  {
   "cell_type": "markdown",
   "metadata": {
    "collapsed": false
   },
   "source": [
    "# Definition of new indicators"
   ]
  },
  {
   "cell_type": "markdown",
   "metadata": {
    "collapsed": false
   },
   "source": [
    "## Severity of the incident\n",
    "We start considering the ratio of killed, injured, and unharmed participants in the incidents with respect to the total number of participants. Subsequently, we define the _severity_ of the incidents as the weighted mean of the ratios just defined. We assign to `ratio_killed` the weight 0.5, to `ratio_injured` weight 0.3 and to `ratio_unharmed` weight 0.2."
   ]
  },
  {
   "cell_type": "code",
   "execution_count": 56,
   "metadata": {
    "ExecuteTime": {
     "start_time": "2023-11-23T15:19:39.834602Z",
     "end_time": "2023-11-23T15:19:39.865946Z"
    },
    "collapsed": false
   },
   "outputs": [],
   "source": [
    "total = df_incidents['n_killed'] + df_incidents['n_injured'] + df_incidents['n_unharmed']\n",
    "df_incidents['ratio_killed'] = df_incidents['n_killed']/total*100\n",
    "df_incidents['ratio_injured'] = df_incidents['n_injured']/total*100\n",
    "df_incidents['ratio_unharmed'] = df_incidents['n_unharmed']/total*100"
   ]
  },
  {
   "cell_type": "code",
   "execution_count": 57,
   "metadata": {
    "ExecuteTime": {
     "start_time": "2023-11-23T15:19:40.928891Z",
     "end_time": "2023-11-23T15:19:40.957933Z"
    },
    "collapsed": false
   },
   "outputs": [],
   "source": [
    "df_incidents['severity'] = 0.7*df_incidents['ratio_killed'] + 0.3*df_incidents['ratio_injured']"
   ]
  },
  {
   "cell_type": "code",
   "execution_count": 58,
   "outputs": [
    {
     "data": {
      "text/plain": "count    162068.000000\nmean         32.346780\nstd          23.904806\nmin           0.000000\n25%          15.000000\n50%          30.000000\n75%          50.000000\nmax          70.000000\nName: severity, dtype: float64"
     },
     "execution_count": 58,
     "metadata": {},
     "output_type": "execute_result"
    }
   ],
   "source": [
    "df_incidents['severity'].describe()"
   ],
   "metadata": {
    "collapsed": false
   }
  },
  {
   "cell_type": "code",
   "execution_count": 60,
   "outputs": [
    {
     "data": {
      "text/plain": "Text(0.5, 1.0, 'Distribution of the severity')"
     },
     "execution_count": 60,
     "metadata": {},
     "output_type": "execute_result"
    },
    {
     "data": {
      "text/plain": "<Figure size 1000x500 with 1 Axes>",
      "image/png": "[encoded data removed]"
     },
     "metadata": {},
     "output_type": "display_data"
    }
   ],
   "source": [
    "# distribution of the severity\n",
    "plt.figure(figsize=(10,5))\n",
    "plt.hist(df_incidents['severity'], bins=10)\n",
    "plt.xlabel('Severity')\n",
    "plt.ylabel('Number of incidents')\n",
    "plt.title('Distribution of the severity')"
   ],
   "metadata": {
    "collapsed": false
   }
  },
  {
   "cell_type": "code",
   "execution_count": 65,
   "outputs": [
    {
     "data": {
      "text/plain": "Text(0.5, 1.0, 'Distribution of the severity')"
     },
     "execution_count": 65,
     "metadata": {},
     "output_type": "execute_result"
    },
    {
     "data": {
      "text/plain": "<Figure size 1000x500 with 1 Axes>",
      "image/png": "[encoded data removed]"
     },
     "metadata": {},
     "output_type": "display_data"
    }
   ],
   "source": [
    "# Let's try to define a new 'severity': we create a categorical feature with values 'low', 'medium', 'high' based on the severity\n",
    "# Assign low to those with severity <=20, medium to those with severity <=40, high to the others\n",
    "def f(x):\n",
    "    if x<=20:\n",
    "        return 'low'\n",
    "    elif x<=40:\n",
    "        return 'medium'\n",
    "    else:\n",
    "        return 'high'\n",
    "df_incidents['severity_cat'] = df_incidents['severity'].apply(f)\n",
    "# plot the distribution of the severity_cat\n",
    "plt.figure(figsize=(10,5))\n",
    "df_incidents['severity_cat'].value_counts().plot(kind='bar')\n",
    "# make the plot more readable\n",
    "plt.xticks(rotation=0)\n",
    "plt.xlabel('Severity')\n",
    "plt.ylabel('Number of incidents')\n",
    "plt.title('Distribution of the severity')\n"
   ],
   "metadata": {
    "collapsed": false,
    "ExecuteTime": {
     "start_time": "2023-11-23T15:25:25.234401Z",
     "end_time": "2023-11-23T15:25:25.741558Z"
    }
   }
  },
  {
   "cell_type": "code",
   "execution_count": 62,
   "outputs": [
    {
     "data": {
      "text/plain": "             date                 state    city_or_county  \\\n0      2015-05-02               indiana      Indianapolis   \n1      2017-04-03          pennsylvania              Kane   \n2      2016-10-15  district of columbia        Washington   \n3             NaT          pennsylvania        Pittsburgh   \n4      2014-01-18        north carolina      Wayne County   \n...           ...                   ...               ...   \n197197 2016-01-11             tennessee      Murfreesboro   \n197198        NaT              new york              Troy   \n197199 2017-08-17             tennessee           Memphis   \n197200 2016-06-07              colorado  Colorado Springs   \n197201 2016-06-12          pennsylvania           Chester   \n\n                                   address  latitude  longitude  \\\n0            Lafayette Road and Pike Plaza   39.8322   -86.2492   \n1                                5647 US 6   41.6645   -78.7856   \n2       1000 block of Bladensburg Road, NE   38.9030   -76.9820   \n3          California and Marshall Avenues   40.4621   -80.0308   \n4       4700 block of U.S. Highway 70 East   35.1847   -77.9527   \n...                                    ...       ...        ...   \n197197                    Hazelwood Street   35.8624   -86.3695   \n197198            Pawling and Plum Avenues   42.7043   -73.6590   \n197199         Barron Ave and Pendleton St   35.1007   -89.9700   \n197200             601 Prospect Lake Drive   38.8251  -104.8020   \n197201      500 block of West Sixth Street   39.8469   -75.3679   \n\n        congressional_district  avg_age_participants  n_participants_child  \\\n0                          7.0                  19.0                   0.0   \n1                          5.0                  62.0                   0.0   \n2                          1.0                  26.0                   0.0   \n3                         14.0                  40.0                   0.0   \n4                         13.0                  65.0                   0.0   \n...                        ...                   ...                   ...   \n197197                     4.0                  23.0                   0.0   \n197198                    20.0                  88.0                   0.0   \n197199                     9.0                  58.0                   0.0   \n197200                     5.0                  68.0                   0.0   \n197201                     1.0                  22.0                   0.0   \n\n        n_participants_teen  ...  n_unharmed  n_participants  \\\n0                       0.0  ...         0.0             1.0   \n1                       0.0  ...         0.0             1.0   \n2                       0.0  ...         0.0             2.0   \n3                       0.0  ...         1.0             2.0   \n4                       0.0  ...         0.0             1.0   \n...                     ...  ...         ...             ...   \n197197                  0.0  ...         0.0             1.0   \n197198                  0.0  ...         3.0             3.0   \n197199                  0.0  ...         0.0             1.0   \n197200                  0.0  ...         1.0             2.0   \n197201                  0.0  ...         0.0             1.0   \n\n                                incident_characteristics1    year  \\\n0                                  Shot - Wounded/Injured  2015.0   \n1               Shot - Dead (murder, accidental, suicide)  2017.0   \n2                                  Shot - Wounded/Injured  2016.0   \n3                                  Shot - Wounded/Injured     NaN   \n4                                  Shot - Wounded/Injured  2014.0   \n...                                                   ...     ...   \n197197                             Shot - Wounded/Injured  2016.0   \n197198  Armed robbery with injury/death and/or evidenc...     NaN   \n197199                             Shot - Wounded/Injured  2017.0   \n197200                              Non-Shooting Incident  2016.0   \n197201                             Shot - Wounded/Injured  2016.0   \n\n        povertyPercentage       party  candidatevotes  totalvotes severity  \\\n0                    12.3         NaN             NaN         NaN     30.0   \n1                    10.5         NaN             NaN         NaN     70.0   \n2                    14.9         NaN             NaN         NaN     30.0   \n3                     NaN         NaN             NaN         NaN     15.0   \n4                    15.3  REPUBLICAN        153991.0    268709.0     30.0   \n...                   ...         ...             ...         ...      ...   \n197197               12.6  REPUBLICAN        165796.0    254937.0     30.0   \n197198                NaN         NaN             NaN         NaN      0.0   \n197199               12.1         NaN             NaN         NaN     30.0   \n197200                8.9  REPUBLICAN        225445.0    361993.0      0.0   \n197201               11.5    DEMOCRAT        245791.0    299010.0     30.0   \n\n        severity_non_normalized  \n0                           0.3  \n1                           0.7  \n2                           0.3  \n3                           0.3  \n4                           0.3  \n...                         ...  \n197197                      0.3  \n197198                      0.0  \n197199                      0.3  \n197200                      0.0  \n197201                      0.3  \n\n[197202 rows x 26 columns]",
      "text/html": "<div>\n<style scoped>\n    .dataframe tbody tr th:only-of-type {\n        vertical-align: middle;\n    }\n\n    .dataframe tbody tr th {\n        vertical-align: top;\n    }\n\n    .dataframe thead th {\n        text-align: right;\n    }\n</style>\n<table border=\"1\" class=\"dataframe\">\n  <thead>\n    <tr style=\"text-align: right;\">\n      <th></th>\n      <th>date</th>\n      <th>state</th>\n      <th>city_or_county</th>\n      <th>address</th>\n      <th>latitude</th>\n      <th>longitude</th>\n      <th>congressional_district</th>\n      <th>avg_age_participants</th>\n      <th>n_participants_child</th>\n      <th>n_participants_teen</th>\n      <th>...</th>\n      <th>n_unharmed</th>\n      <th>n_participants</th>\n      <th>incident_characteristics1</th>\n      <th>year</th>\n      <th>povertyPercentage</th>\n      <th>party</th>\n      <th>candidatevotes</th>\n      <th>totalvotes</th>\n      <th>severity</th>\n      <th>severity_non_normalized</th>\n    </tr>\n  </thead>\n  <tbody>\n    <tr>\n      <th>0</th>\n      <td>2015-05-02</td>\n      <td>indiana</td>\n      <td>Indianapolis</td>\n      <td>Lafayette Road and Pike Plaza</td>\n      <td>39.8322</td>\n      <td>-86.2492</td>\n      <td>7.0</td>\n      <td>19.0</td>\n      <td>0.0</td>\n      <td>0.0</td>\n      <td>...</td>\n      <td>0.0</td>\n      <td>1.0</td>\n      <td>Shot - Wounded/Injured</td>\n      <td>2015.0</td>\n      <td>12.3</td>\n      <td>NaN</td>\n      <td>NaN</td>\n      <td>NaN</td>\n      <td>30.0</td>\n      <td>0.3</td>\n    </tr>\n    <tr>\n      <th>1</th>\n      <td>2017-04-03</td>\n      <td>pennsylvania</td>\n      <td>Kane</td>\n      <td>5647 US 6</td>\n      <td>41.6645</td>\n      <td>-78.7856</td>\n      <td>5.0</td>\n      <td>62.0</td>\n      <td>0.0</td>\n      <td>0.0</td>\n      <td>...</td>\n      <td>0.0</td>\n      <td>1.0</td>\n      <td>Shot - Dead (murder, accidental, suicide)</td>\n      <td>2017.0</td>\n      <td>10.5</td>\n      <td>NaN</td>\n      <td>NaN</td>\n      <td>NaN</td>\n      <td>70.0</td>\n      <td>0.7</td>\n    </tr>\n    <tr>\n      <th>2</th>\n      <td>2016-10-15</td>\n      <td>district of columbia</td>\n      <td>Washington</td>\n      <td>1000 block of Bladensburg Road, NE</td>\n      <td>38.9030</td>\n      <td>-76.9820</td>\n      <td>1.0</td>\n      <td>26.0</td>\n      <td>0.0</td>\n      <td>0.0</td>\n      <td>...</td>\n      <td>0.0</td>\n      <td>2.0</td>\n      <td>Shot - Wounded/Injured</td>\n      <td>2016.0</td>\n      <td>14.9</td>\n      <td>NaN</td>\n      <td>NaN</td>\n      <td>NaN</td>\n      <td>30.0</td>\n      <td>0.3</td>\n    </tr>\n    <tr>\n      <th>3</th>\n      <td>NaT</td>\n      <td>pennsylvania</td>\n      <td>Pittsburgh</td>\n      <td>California and Marshall Avenues</td>\n      <td>40.4621</td>\n      <td>-80.0308</td>\n      <td>14.0</td>\n      <td>40.0</td>\n      <td>0.0</td>\n      <td>0.0</td>\n      <td>...</td>\n      <td>1.0</td>\n      <td>2.0</td>\n      <td>Shot - Wounded/Injured</td>\n      <td>NaN</td>\n      <td>NaN</td>\n      <td>NaN</td>\n      <td>NaN</td>\n      <td>NaN</td>\n      <td>15.0</td>\n      <td>0.3</td>\n    </tr>\n    <tr>\n      <th>4</th>\n      <td>2014-01-18</td>\n      <td>north carolina</td>\n      <td>Wayne County</td>\n      <td>4700 block of U.S. Highway 70 East</td>\n      <td>35.1847</td>\n      <td>-77.9527</td>\n      <td>13.0</td>\n      <td>65.0</td>\n      <td>0.0</td>\n      <td>0.0</td>\n      <td>...</td>\n      <td>0.0</td>\n      <td>1.0</td>\n      <td>Shot - Wounded/Injured</td>\n      <td>2014.0</td>\n      <td>15.3</td>\n      <td>REPUBLICAN</td>\n      <td>153991.0</td>\n      <td>268709.0</td>\n      <td>30.0</td>\n      <td>0.3</td>\n    </tr>\n    <tr>\n      <th>...</th>\n      <td>...</td>\n      <td>...</td>\n      <td>...</td>\n      <td>...</td>\n      <td>...</td>\n      <td>...</td>\n      <td>...</td>\n      <td>...</td>\n      <td>...</td>\n      <td>...</td>\n      <td>...</td>\n      <td>...</td>\n      <td>...</td>\n      <td>...</td>\n      <td>...</td>\n      <td>...</td>\n      <td>...</td>\n      <td>...</td>\n      <td>...</td>\n      <td>...</td>\n      <td>...</td>\n    </tr>\n    <tr>\n      <th>197197</th>\n      <td>2016-01-11</td>\n      <td>tennessee</td>\n      <td>Murfreesboro</td>\n      <td>Hazelwood Street</td>\n      <td>35.8624</td>\n      <td>-86.3695</td>\n      <td>4.0</td>\n      <td>23.0</td>\n      <td>0.0</td>\n      <td>0.0</td>\n      <td>...</td>\n      <td>0.0</td>\n      <td>1.0</td>\n      <td>Shot - Wounded/Injured</td>\n      <td>2016.0</td>\n      <td>12.6</td>\n      <td>REPUBLICAN</td>\n      <td>165796.0</td>\n      <td>254937.0</td>\n      <td>30.0</td>\n      <td>0.3</td>\n    </tr>\n    <tr>\n      <th>197198</th>\n      <td>NaT</td>\n      <td>new york</td>\n      <td>Troy</td>\n      <td>Pawling and Plum Avenues</td>\n      <td>42.7043</td>\n      <td>-73.6590</td>\n      <td>20.0</td>\n      <td>88.0</td>\n      <td>0.0</td>\n      <td>0.0</td>\n      <td>...</td>\n      <td>3.0</td>\n      <td>3.0</td>\n      <td>Armed robbery with injury/death and/or evidenc...</td>\n      <td>NaN</td>\n      <td>NaN</td>\n      <td>NaN</td>\n      <td>NaN</td>\n      <td>NaN</td>\n      <td>0.0</td>\n      <td>0.0</td>\n    </tr>\n    <tr>\n      <th>197199</th>\n      <td>2017-08-17</td>\n      <td>tennessee</td>\n      <td>Memphis</td>\n      <td>Barron Ave and Pendleton St</td>\n      <td>35.1007</td>\n      <td>-89.9700</td>\n      <td>9.0</td>\n      <td>58.0</td>\n      <td>0.0</td>\n      <td>0.0</td>\n      <td>...</td>\n      <td>0.0</td>\n      <td>1.0</td>\n      <td>Shot - Wounded/Injured</td>\n      <td>2017.0</td>\n      <td>12.1</td>\n      <td>NaN</td>\n      <td>NaN</td>\n      <td>NaN</td>\n      <td>30.0</td>\n      <td>0.3</td>\n    </tr>\n    <tr>\n      <th>197200</th>\n      <td>2016-06-07</td>\n      <td>colorado</td>\n      <td>Colorado Springs</td>\n      <td>601 Prospect Lake Drive</td>\n      <td>38.8251</td>\n      <td>-104.8020</td>\n      <td>5.0</td>\n      <td>68.0</td>\n      <td>0.0</td>\n      <td>0.0</td>\n      <td>...</td>\n      <td>1.0</td>\n      <td>2.0</td>\n      <td>Non-Shooting Incident</td>\n      <td>2016.0</td>\n      <td>8.9</td>\n      <td>REPUBLICAN</td>\n      <td>225445.0</td>\n      <td>361993.0</td>\n      <td>0.0</td>\n      <td>0.0</td>\n    </tr>\n    <tr>\n      <th>197201</th>\n      <td>2016-06-12</td>\n      <td>pennsylvania</td>\n      <td>Chester</td>\n      <td>500 block of West Sixth Street</td>\n      <td>39.8469</td>\n      <td>-75.3679</td>\n      <td>1.0</td>\n      <td>22.0</td>\n      <td>0.0</td>\n      <td>0.0</td>\n      <td>...</td>\n      <td>0.0</td>\n      <td>1.0</td>\n      <td>Shot - Wounded/Injured</td>\n      <td>2016.0</td>\n      <td>11.5</td>\n      <td>DEMOCRAT</td>\n      <td>245791.0</td>\n      <td>299010.0</td>\n      <td>30.0</td>\n      <td>0.3</td>\n    </tr>\n  </tbody>\n</table>\n<p>197202 rows × 26 columns</p>\n</div>"
     },
     "execution_count": 62,
     "metadata": {},
     "output_type": "execute_result"
    }
   ],
   "source": [
    "# We drop the columns of the ratios\n",
    "df_incidents.drop(['ratio_killed', 'ratio_injured', 'ratio_unharmed'], axis=1)"
   ],
   "metadata": {
    "collapsed": false
   }
  },
  {
   "cell_type": "markdown",
   "source": [
    "## Children involved"
   ],
   "metadata": {
    "collapsed": false
   }
  },
  {
   "cell_type": "code",
   "execution_count": 72,
   "outputs": [
    {
     "data": {
      "text/plain": "Text(0, 0.5, 'Number of incidents')"
     },
     "execution_count": 72,
     "metadata": {},
     "output_type": "execute_result"
    },
    {
     "data": {
      "text/plain": "<Figure size 1000x500 with 1 Axes>",
      "image/png": "[encoded data removed]"
     },
     "metadata": {},
     "output_type": "display_data"
    }
   ],
   "source": [
    "# Now define another severity index based on the age of the participants\n",
    "# We do it in a categorical fashion as before\n",
    "\n",
    "total = df_incidents['n_participants_child'] + df_incidents['n_participants_teen'] + df_incidents['n_participants_adult']\n",
    "df_incidents['ratio_child'] = df_incidents['n_participants_child']\n",
    "df_incidents['ratio_teen'] = df_incidents['n_participants_teen']\n",
    "df_incidents['ratio_adult'] = df_incidents['n_participants_adult']\n",
    "\n",
    "df_incidents['age_score'] = 0.5*df_incidents['ratio_child'] + 0.4*df_incidents['ratio_teen'] + 0.1*df_incidents['ratio_adult']\n",
    "\n",
    "# histogram of the age_score\n",
    "plt.figure(figsize=(10,5))\n",
    "plt.hist(df_incidents['age_score'], bins=10)\n",
    "plt.xlabel('Age score')\n",
    "plt.ylabel('Number of incidents')\n"
   ],
   "metadata": {
    "collapsed": false,
    "ExecuteTime": {
     "start_time": "2023-11-23T15:46:19.431019Z",
     "end_time": "2023-11-23T15:46:19.828665Z"
    }
   }
  },
  {
   "cell_type": "code",
   "execution_count": 69,
   "outputs": [
    {
     "data": {
      "text/plain": "(1213, 34)"
     },
     "execution_count": 69,
     "metadata": {},
     "output_type": "execute_result"
    }
   ],
   "source": [
    "# show how many incidents with more than 3 children are there\n",
    "df_incidents[df_incidents['n_participants_teen']>=3].shape"
   ],
   "metadata": {
    "collapsed": false,
    "ExecuteTime": {
     "start_time": "2023-11-23T15:36:40.167425Z",
     "end_time": "2023-11-23T15:36:40.254982Z"
    }
   }
  },
  {
   "cell_type": "markdown",
   "source": [
    "### Discretization of ages"
   ],
   "metadata": {
    "collapsed": false
   }
  },
  {
   "cell_type": "code",
   "execution_count": 70,
   "outputs": [
    {
     "data": {
      "text/plain": "(array([0, 1, 2, 3, 4, 5, 6, 7, 8]),\n [Text(0, 0, '[18-24]'),\n  Text(1, 0, '[25-34]'),\n  Text(2, 0, '[35-44]'),\n  Text(3, 0, '[45-54]'),\n  Text(4, 0, '[12-17]'),\n  Text(5, 0, '[55-64]'),\n  Text(6, 0, '[65-74]'),\n  Text(7, 0, '[0-11]'),\n  Text(8, 0, '[75-100]')])"
     },
     "execution_count": 70,
     "metadata": {},
     "output_type": "execute_result"
    },
    {
     "data": {
      "text/plain": "<Figure size 1000x500 with 1 Axes>",
      "image/png": "[encoded data removed]"
     },
     "metadata": {},
     "output_type": "display_data"
    }
   ],
   "source": [
    "# We want to discretize the feature avg_age_participants in the following classes: [0-11], [12-17], [18-24], [25-34], [35-44], [45-54], [55-64], [65-74], [75-100]\n",
    "# We create a new feature 'age_group' with the corresponding class\n",
    "def f(x):\n",
    "    if x<=11:\n",
    "        return '[0-11]'\n",
    "    elif x<=17:\n",
    "        return '[12-17]'\n",
    "    elif x<=24:\n",
    "        return '[18-24]'\n",
    "    elif x<=34:\n",
    "        return '[25-34]'\n",
    "    elif x<=44:\n",
    "        return '[35-44]'\n",
    "    elif x<=54:\n",
    "        return '[45-54]'\n",
    "    elif x<=64:\n",
    "        return '[55-64]'\n",
    "    elif x<=74:\n",
    "        return '[65-74]'\n",
    "    else:\n",
    "        return '[75-100]'\n",
    "df_incidents['age_group'] = df_incidents['avg_age_participants'].apply(f)\n",
    "# histogram of the age_group\n",
    "plt.figure(figsize=(10,5))\n",
    "df_incidents['age_group'].value_counts().plot(kind='bar')\n",
    "# make the plot more readable\n",
    "plt.xticks(rotation=0)"
   ],
   "metadata": {
    "collapsed": false,
    "ExecuteTime": {
     "start_time": "2023-11-23T15:42:04.592625Z",
     "end_time": "2023-11-23T15:42:05.518547Z"
    }
   }
  },
  {
   "cell_type": "markdown",
   "metadata": {
    "collapsed": false
   },
   "source": [
    "## Injured and killed in a given place and time\n",
    "We investigate how many injured and killed people have been involved w.r.t the total injured and\n",
    "killed people in the same congressional district in a month"
   ]
  },
  {
   "cell_type": "code",
   "execution_count": 150,
   "metadata": {
    "ExecuteTime": {
     "end_time": "2023-11-23T11:58:07.516487Z",
     "start_time": "2023-11-23T11:58:07.077155Z"
    },
    "collapsed": false
   },
   "outputs": [],
   "source": [
    "df_incidents.date=pd.to_datetime(df_incidents.date)"
   ]
  },
  {
   "cell_type": "code",
   "execution_count": 151,
   "metadata": {
    "ExecuteTime": {
     "end_time": "2023-11-23T11:58:11.330854Z",
     "start_time": "2023-11-23T11:58:08.747759Z"
    },
    "collapsed": false
   },
   "outputs": [
    {
     "name": "stdout",
     "output_type": "stream",
     "text": [
      "         state  congressional_district year_month  total_killed\n",
      "0      alabama                     1.0      14-01             3\n",
      "1      alabama                     1.0      14-02             5\n",
      "2      alabama                     1.0      14-03             3\n",
      "3      alabama                     1.0      14-04             3\n",
      "4      alabama                     1.0      14-05             7\n",
      "...        ...                     ...        ...           ...\n",
      "21112  wyoming                     1.0      17-05             0\n",
      "21113  wyoming                     1.0      17-06             0\n",
      "21114  wyoming                     1.0      17-07             0\n",
      "21115  wyoming                     1.0      17-08             3\n",
      "21116  wyoming                     1.0      17-09             1\n",
      "\n",
      "[21117 rows x 4 columns]\n"
     ]
    }
   ],
   "source": [
    "#- raggruppare in base al mese, congressional district, stato\n",
    "#- injured / tot. injured , killed / tot. killed in congr. and month\n",
    "\n",
    "df_incidents['year_month'] = df_incidents.date.dt.strftime('%y-%m')\n",
    "df_incidents.year_month.isnull().sum()\n",
    "\n",
    "tot_killed = df_incidents.groupby(['state', 'congressional_district', 'year_month'])['n_killed'].sum()\n",
    "# Convert the Series to a DataFrame and reset the index\n",
    "tot_killed_df = tot_killed.reset_index()\n",
    "\n",
    "# Rename the 'n_killed' column to a desired name\n",
    "tot_killed_df = tot_killed_df.rename(columns={'n_killed': 'total_killed'})\n",
    "\n",
    "# Print the resulting DataFrame\n",
    "print(tot_killed_df)\n",
    "\n",
    "\n",
    "#Same for the injured\n",
    "tot_injured = df_incidents.groupby(['state', 'congressional_district', 'year_month'])['n_injured'].sum()\n",
    "# Convert the Series to a DataFrame and reset the index\n",
    "tot_injured_df = tot_injured.reset_index()\n",
    "\n",
    "# Rename the 'n_killed' column to a desired name\n",
    "tot_injured_df = tot_injured_df.rename(columns={'n_injured': 'total_injured'})"
   ]
  },
  {
   "cell_type": "code",
   "execution_count": 153,
   "metadata": {
    "ExecuteTime": {
     "end_time": "2023-11-23T11:58:48.381099Z",
     "start_time": "2023-11-23T11:58:47.995781Z"
    },
    "collapsed": false
   },
   "outputs": [],
   "source": [
    "# We join the 'total_killed' and 'total_injured' columns to the incidents dataset\n",
    "df_incidents =pd.merge( df_incidents, tot_killed_df, on=['state', 'congressional_district', 'year_month'])"
   ]
  },
  {
   "cell_type": "code",
   "execution_count": 154,
   "metadata": {
    "ExecuteTime": {
     "end_time": "2023-11-23T11:58:49.341731Z",
     "start_time": "2023-11-23T11:58:49.183061Z"
    },
    "collapsed": false
   },
   "outputs": [
    {
     "data": {
      "text/html": [
       "<div>\n",
       "<style scoped>\n",
       "    .dataframe tbody tr th:only-of-type {\n",
       "        vertical-align: middle;\n",
       "    }\n",
       "\n",
       "    .dataframe tbody tr th {\n",
       "        vertical-align: top;\n",
       "    }\n",
       "\n",
       "    .dataframe thead th {\n",
       "        text-align: right;\n",
       "    }\n",
       "</style>\n",
       "<table border=\"1\" class=\"dataframe\">\n",
       "  <thead>\n",
       "    <tr style=\"text-align: right;\">\n",
       "      <th></th>\n",
       "      <th>date</th>\n",
       "      <th>state</th>\n",
       "      <th>city_or_county</th>\n",
       "      <th>address</th>\n",
       "      <th>latitude</th>\n",
       "      <th>longitude</th>\n",
       "      <th>congressional_district</th>\n",
       "      <th>avg_age_participants</th>\n",
       "      <th>n_participants_child</th>\n",
       "      <th>n_participants_teen</th>\n",
       "      <th>...</th>\n",
       "      <th>candidatevotes</th>\n",
       "      <th>totalvotes</th>\n",
       "      <th>ratio_killed</th>\n",
       "      <th>ratio_injured</th>\n",
       "      <th>ratio_unharmed</th>\n",
       "      <th>severity</th>\n",
       "      <th>severity_non_normalized</th>\n",
       "      <th>year_month</th>\n",
       "      <th>total_killed</th>\n",
       "      <th>total_injured</th>\n",
       "    </tr>\n",
       "  </thead>\n",
       "  <tbody>\n",
       "    <tr>\n",
       "      <th>0</th>\n",
       "      <td>2015-05-02</td>\n",
       "      <td>indiana</td>\n",
       "      <td>Indianapolis</td>\n",
       "      <td>Lafayette Road and Pike Plaza</td>\n",
       "      <td>39.8322</td>\n",
       "      <td>-86.2492</td>\n",
       "      <td>7.0</td>\n",
       "      <td>19.0</td>\n",
       "      <td>0.0</td>\n",
       "      <td>0.0</td>\n",
       "      <td>...</td>\n",
       "      <td>NaN</td>\n",
       "      <td>NaN</td>\n",
       "      <td>0.0</td>\n",
       "      <td>100.0</td>\n",
       "      <td>0.0</td>\n",
       "      <td>30.0</td>\n",
       "      <td>0.3</td>\n",
       "      <td>15-05</td>\n",
       "      <td>3</td>\n",
       "      <td>4</td>\n",
       "    </tr>\n",
       "    <tr>\n",
       "      <th>1</th>\n",
       "      <td>2015-05-03</td>\n",
       "      <td>indiana</td>\n",
       "      <td>Indianapolis</td>\n",
       "      <td>502 N. Rural Street</td>\n",
       "      <td>39.7745</td>\n",
       "      <td>-86.1166</td>\n",
       "      <td>7.0</td>\n",
       "      <td>32.0</td>\n",
       "      <td>0.0</td>\n",
       "      <td>0.0</td>\n",
       "      <td>...</td>\n",
       "      <td>NaN</td>\n",
       "      <td>NaN</td>\n",
       "      <td>100.0</td>\n",
       "      <td>0.0</td>\n",
       "      <td>0.0</td>\n",
       "      <td>60.0</td>\n",
       "      <td>0.6</td>\n",
       "      <td>15-05</td>\n",
       "      <td>3</td>\n",
       "      <td>4</td>\n",
       "    </tr>\n",
       "    <tr>\n",
       "      <th>2</th>\n",
       "      <td>2015-05-25</td>\n",
       "      <td>indiana</td>\n",
       "      <td>Indianapolis</td>\n",
       "      <td>800 block of Chapelwood Boulevard</td>\n",
       "      <td>39.7759</td>\n",
       "      <td>-86.2940</td>\n",
       "      <td>7.0</td>\n",
       "      <td>36.0</td>\n",
       "      <td>0.0</td>\n",
       "      <td>0.0</td>\n",
       "      <td>...</td>\n",
       "      <td>NaN</td>\n",
       "      <td>NaN</td>\n",
       "      <td>100.0</td>\n",
       "      <td>0.0</td>\n",
       "      <td>0.0</td>\n",
       "      <td>60.0</td>\n",
       "      <td>0.6</td>\n",
       "      <td>15-05</td>\n",
       "      <td>3</td>\n",
       "      <td>4</td>\n",
       "    </tr>\n",
       "    <tr>\n",
       "      <th>3</th>\n",
       "      <td>2015-05-03</td>\n",
       "      <td>indiana</td>\n",
       "      <td>Indianapolis</td>\n",
       "      <td>East 25th Street and North Post Road</td>\n",
       "      <td>39.8040</td>\n",
       "      <td>-86.0095</td>\n",
       "      <td>7.0</td>\n",
       "      <td>18.0</td>\n",
       "      <td>0.0</td>\n",
       "      <td>0.0</td>\n",
       "      <td>...</td>\n",
       "      <td>NaN</td>\n",
       "      <td>NaN</td>\n",
       "      <td>100.0</td>\n",
       "      <td>0.0</td>\n",
       "      <td>0.0</td>\n",
       "      <td>60.0</td>\n",
       "      <td>0.6</td>\n",
       "      <td>15-05</td>\n",
       "      <td>3</td>\n",
       "      <td>4</td>\n",
       "    </tr>\n",
       "    <tr>\n",
       "      <th>4</th>\n",
       "      <td>2015-05-30</td>\n",
       "      <td>indiana</td>\n",
       "      <td>Indianapolis</td>\n",
       "      <td>3018 West 16th Street</td>\n",
       "      <td>39.7882</td>\n",
       "      <td>-86.2091</td>\n",
       "      <td>7.0</td>\n",
       "      <td>53.0</td>\n",
       "      <td>0.0</td>\n",
       "      <td>0.0</td>\n",
       "      <td>...</td>\n",
       "      <td>NaN</td>\n",
       "      <td>NaN</td>\n",
       "      <td>0.0</td>\n",
       "      <td>100.0</td>\n",
       "      <td>0.0</td>\n",
       "      <td>30.0</td>\n",
       "      <td>0.3</td>\n",
       "      <td>15-05</td>\n",
       "      <td>3</td>\n",
       "      <td>4</td>\n",
       "    </tr>\n",
       "  </tbody>\n",
       "</table>\n",
       "<p>5 rows × 32 columns</p>\n",
       "</div>"
      ],
      "text/plain": [
       "        date    state city_or_county                               address  \\\n",
       "0 2015-05-02  indiana   Indianapolis         Lafayette Road and Pike Plaza   \n",
       "1 2015-05-03  indiana   Indianapolis                   502 N. Rural Street   \n",
       "2 2015-05-25  indiana   Indianapolis     800 block of Chapelwood Boulevard   \n",
       "3 2015-05-03  indiana   Indianapolis  East 25th Street and North Post Road   \n",
       "4 2015-05-30  indiana   Indianapolis                 3018 West 16th Street   \n",
       "\n",
       "   latitude  longitude  congressional_district  avg_age_participants  \\\n",
       "0   39.8322   -86.2492                     7.0                  19.0   \n",
       "1   39.7745   -86.1166                     7.0                  32.0   \n",
       "2   39.7759   -86.2940                     7.0                  36.0   \n",
       "3   39.8040   -86.0095                     7.0                  18.0   \n",
       "4   39.7882   -86.2091                     7.0                  53.0   \n",
       "\n",
       "   n_participants_child  n_participants_teen  ...  candidatevotes  totalvotes  \\\n",
       "0                   0.0                  0.0  ...             NaN         NaN   \n",
       "1                   0.0                  0.0  ...             NaN         NaN   \n",
       "2                   0.0                  0.0  ...             NaN         NaN   \n",
       "3                   0.0                  0.0  ...             NaN         NaN   \n",
       "4                   0.0                  0.0  ...             NaN         NaN   \n",
       "\n",
       "   ratio_killed  ratio_injured  ratio_unharmed  severity  \\\n",
       "0           0.0          100.0             0.0      30.0   \n",
       "1         100.0            0.0             0.0      60.0   \n",
       "2         100.0            0.0             0.0      60.0   \n",
       "3         100.0            0.0             0.0      60.0   \n",
       "4           0.0          100.0             0.0      30.0   \n",
       "\n",
       "   severity_non_normalized  year_month total_killed  total_injured  \n",
       "0                      0.3       15-05            3              4  \n",
       "1                      0.6       15-05            3              4  \n",
       "2                      0.6       15-05            3              4  \n",
       "3                      0.6       15-05            3              4  \n",
       "4                      0.3       15-05            3              4  \n",
       "\n",
       "[5 rows x 32 columns]"
      ]
     },
     "execution_count": 154,
     "metadata": {},
     "output_type": "execute_result"
    }
   ],
   "source": [
    "df_incidents = pd.merge(df_incidents, tot_injured_df, on=['state', 'congressional_district', 'year_month'])\n",
    "df_incidents.head()"
   ]
  },
  {
   "cell_type": "code",
   "execution_count": 155,
   "metadata": {
    "ExecuteTime": {
     "end_time": "2023-11-23T11:59:03.479402Z",
     "start_time": "2023-11-23T11:58:57.328657Z"
    },
    "collapsed": false
   },
   "outputs": [],
   "source": [
    "# We distinguish between the case with total_killed = 0, and total_killed != 0\n",
    "\n",
    "def f(x, y):\n",
    "    if y!=0:\n",
    "        return x/y\n",
    "    else:\n",
    "        return 0\n",
    "df_incidents['killed_by_district'] = df_incidents.apply(lambda row: f(row['n_killed'], row['total_killed']), axis=1)\n",
    "\n",
    "df_incidents['injured_by_district'] = df_incidents.apply(lambda row: f(row['n_injured'], row['total_injured']), axis=1)"
   ]
  },
  {
   "cell_type": "code",
   "execution_count": 156,
   "metadata": {
    "ExecuteTime": {
     "end_time": "2023-11-23T12:01:22.866576Z",
     "start_time": "2023-11-23T12:01:22.364142Z"
    },
    "collapsed": false
   },
   "outputs": [
    {
     "data": {
      "text/plain": [
       "(array([ 9667., 11578.,  5210.,  6484.,  6517.,    92.,   698.,   141.,\n",
       "           16.,  5894.]),\n",
       " array([0.01639344, 0.1147541 , 0.21311475, 0.31147541, 0.40983607,\n",
       "        0.50819672, 0.60655738, 0.70491803, 0.80327869, 0.90163934,\n",
       "        1.        ]),\n",
       " <BarContainer object of 10 artists>)"
      ]
     },
     "execution_count": 156,
     "metadata": {},
     "output_type": "execute_result"
    },
    {
     "data": {
      "image/png": "[encoded data removed]",
      "text/plain": [
       "<Figure size 1000x500 with 1 Axes>"
      ]
     },
     "metadata": {},
     "output_type": "display_data"
    }
   ],
   "source": [
    "# Let's see the distribution of the feature 'killed_by_district'\n",
    "plt.figure(figsize=(10, 5))\n",
    "plt.hist(df_incidents.killed_by_district[df_incidents['killed_by_district']!=0], bins=10)"
   ]
  },
  {
   "cell_type": "code",
   "execution_count": 157,
   "metadata": {
    "ExecuteTime": {
     "end_time": "2023-11-23T12:01:08.498867Z",
     "start_time": "2023-11-23T12:01:07.910747Z"
    },
    "collapsed": false
   },
   "outputs": [
    {
     "data": {
      "text/plain": [
       "(array([135404.,  16050.,   6892.,    918.,   5243.]),\n",
       " array([0. , 0.2, 0.4, 0.6, 0.8, 1. ]),\n",
       " <BarContainer object of 5 artists>)"
      ]
     },
     "execution_count": 157,
     "metadata": {},
     "output_type": "execute_result"
    },
    {
     "data": {
      "image/png": "[encoded data removed]",
      "text/plain": [
       "<Figure size 1000x500 with 1 Axes>"
      ]
     },
     "metadata": {},
     "output_type": "display_data"
    }
   ],
   "source": [
    "plt.figure(figsize=(10, 5))\n",
    "plt.hist(df_incidents['injured_by_district'], bins=5)"
   ]
  },
  {
   "cell_type": "markdown",
   "metadata": {
    "collapsed": false
   },
   "source": [
    "# Aggregated dataset"
   ]
  },
  {
   "cell_type": "markdown",
   "metadata": {
    "collapsed": false
   },
   "source": [
    "We group the incidents that happened in the same congressional district of each state: label [state, congressional district] (and eventually in the same year, month).\n",
    "\n",
    "We consider the numerical features of the dataset df_incidents:\n",
    "- the mean of 'avg_age_participants'\n",
    "- the sum of the features 'n_participants_child'-'n_participants'\n",
    "\n",
    "We also add the 'povertyPercentage' feature of df_poverty for each state, year.\n",
    "\n",
    "Finally, given the year of the incident, we add the 'party', 'candidatevotes', 'totalvotes' features from the dataset df_elections for each [state, congressional district]."
   ]
  },
  {
   "cell_type": "code",
   "execution_count": 158,
   "metadata": {},
   "outputs": [],
   "source": [
    "#TODO : age groups\n",
    "#TODO : severity index based on age/age group with children or teens involved being more severe\n",
    "#TODO: ratio candidatevotes/totalvotes\n"
   ]
  }
 ],
 "metadata": {
  "kernelspec": {
   "display_name": "Python 3",
   "language": "python",
   "name": "python3"
  },
  "language_info": {
   "codemirror_mode": {
    "name": "ipython",
    "version": 3
   },
   "file_extension": ".py",
   "mimetype": "text/x-python",
   "name": "python",
   "nbconvert_exporter": "python",
   "pygments_lexer": "ipython3",
   "version": "3.10.8"
  }
 },
 "nbformat": 4,
 "nbformat_minor": 0
}
