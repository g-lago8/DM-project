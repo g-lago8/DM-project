{
 "cells": [
  {
   "cell_type": "code",
   "execution_count": 2,
   "metadata": {
    "collapsed": true
   },
   "outputs": [],
   "source": [
    "import pandas as pd\n",
    "import keras\n",
    "import numpy as np\n",
    "import matplotlib.pyplot as plt\n",
    "from keras.models import Sequential\n",
    "from keras.layers import Dense\n",
    "from keras.layers import Dropout\n",
    "from keras.callbacks import EarlyStopping"
   ]
  },
  {
   "cell_type": "code",
   "execution_count": 3,
   "outputs": [],
   "source": [
    "# Importing the dataset\n",
    "dataset_clean = pd.read_csv('../datasets_clean/incidents_clean.csv', low_memory=True, index_col=0)\n",
    "dataset_original=pd.read_csv('../datasets_original/incidents.csv', low_memory=False)\n"
   ],
   "metadata": {
    "collapsed": false
   }
  },
  {
   "cell_type": "code",
   "execution_count": 4,
   "outputs": [],
   "source": [
    "dataset_clean['avg_age_participants'] = dataset_original['avg_age_participants']\n"
   ],
   "metadata": {
    "collapsed": false
   }
  },
  {
   "cell_type": "code",
   "execution_count": 5,
   "outputs": [],
   "source": [
    "def convert_to_float(x):\n",
    "    \"\"\"\n",
    "    This function converts a string to float if possible, and to NaN otherwise.\n",
    "    \"\"\"\n",
    "    try:\n",
    "        return float(x)\n",
    "\n",
    "    except ValueError:\n",
    "        return np.nan\n",
    "\n",
    "dataset_clean['avg_age_participants'] = dataset_clean['avg_age_participants'].apply(convert_to_float)"
   ],
   "metadata": {
    "collapsed": false
   }
  },
  {
   "cell_type": "code",
   "execution_count": 6,
   "outputs": [],
   "source": [
    "#Clean ages by deleting negative values and outliers\n",
    "dataset_clean['avg_age_participants'] = dataset_clean['avg_age_participants'].apply(lambda x: np.nan if (x<0 or x>100)  else x)"
   ],
   "metadata": {
    "collapsed": false
   }
  },
  {
   "cell_type": "code",
   "execution_count": 7,
   "outputs": [],
   "source": [
    "# split the dataset into known and unknown ages\n",
    "dataset_known_ages = dataset_clean[dataset_clean['avg_age_participants'].notnull()]\n",
    "dataset_unknown_ages = dataset_clean[dataset_clean['avg_age_participants'].isnull()]\n"
   ],
   "metadata": {
    "collapsed": false
   }
  },
  {
   "cell_type": "code",
   "execution_count": 8,
   "outputs": [],
   "source": [
    "\n",
    "# drop columns with missing values\n",
    "dataset_known_ages = dataset_known_ages.dropna(axis=1, how='any')\n"
   ],
   "metadata": {
    "collapsed": false
   }
  },
  {
   "cell_type": "code",
   "execution_count": 9,
   "outputs": [
    {
     "data": {
      "text/plain": "         date           state city_or_county  latitude  longitude  \\\n0  2015-05-02         Indiana   Indianapolis   39.8322   -86.2492   \n1  2017-04-03    Pennsylvania           Kane   41.6645   -78.7856   \n5  2014-01-18  North Carolina   Wayne County   35.1847   -77.9527   \n6  2018-01-25       Louisiana        Zachary   30.6069   -91.2270   \n8  2016-08-01        Virginia       Stafford   38.3008   -77.4469   \n\n   avg_age_participants  n_participants_child  n_participants_teen  \\\n0                  19.0                   0.0                  0.0   \n1                  62.0                   0.0                  0.0   \n5                  65.0                   0.0                  0.0   \n6                  26.0                   0.0                  0.0   \n8                  65.0                   0.0                  0.0   \n\n   n_participants_adult  n_males  n_females  n_killed  n_injured  n_arrested  \\\n0                   1.0      1.0        0.0         0          1         0.0   \n1                   1.0      1.0        0.0         1          0         0.0   \n5                   1.0      1.0        0.0         0          1         0.0   \n6                   5.0      5.0        0.0         2          1         2.0   \n8                   1.0      1.0        0.0         1          0         0.0   \n\n   n_unharmed  n_participants                  incident_characteristics1  \\\n0         0.0             1.0                     Shot - Wounded/Injured   \n1         0.0             1.0  Shot - Dead (murder, accidental, suicide)   \n5         0.0             1.0                     Shot - Wounded/Injured   \n6         0.0             5.0                     Shot - Wounded/Injured   \n8         0.0             1.0  Shot - Dead (murder, accidental, suicide)   \n\n     year  \n0  2015.0  \n1  2017.0  \n5  2014.0  \n6  2018.0  \n8  2016.0  ",
      "text/html": "<div>\n<style scoped>\n    .dataframe tbody tr th:only-of-type {\n        vertical-align: middle;\n    }\n\n    .dataframe tbody tr th {\n        vertical-align: top;\n    }\n\n    .dataframe thead th {\n        text-align: right;\n    }\n</style>\n<table border=\"1\" class=\"dataframe\">\n  <thead>\n    <tr style=\"text-align: right;\">\n      <th></th>\n      <th>date</th>\n      <th>state</th>\n      <th>city_or_county</th>\n      <th>latitude</th>\n      <th>longitude</th>\n      <th>avg_age_participants</th>\n      <th>n_participants_child</th>\n      <th>n_participants_teen</th>\n      <th>n_participants_adult</th>\n      <th>n_males</th>\n      <th>n_females</th>\n      <th>n_killed</th>\n      <th>n_injured</th>\n      <th>n_arrested</th>\n      <th>n_unharmed</th>\n      <th>n_participants</th>\n      <th>incident_characteristics1</th>\n      <th>year</th>\n    </tr>\n  </thead>\n  <tbody>\n    <tr>\n      <th>0</th>\n      <td>2015-05-02</td>\n      <td>Indiana</td>\n      <td>Indianapolis</td>\n      <td>39.8322</td>\n      <td>-86.2492</td>\n      <td>19.0</td>\n      <td>0.0</td>\n      <td>0.0</td>\n      <td>1.0</td>\n      <td>1.0</td>\n      <td>0.0</td>\n      <td>0</td>\n      <td>1</td>\n      <td>0.0</td>\n      <td>0.0</td>\n      <td>1.0</td>\n      <td>Shot - Wounded/Injured</td>\n      <td>2015.0</td>\n    </tr>\n    <tr>\n      <th>1</th>\n      <td>2017-04-03</td>\n      <td>Pennsylvania</td>\n      <td>Kane</td>\n      <td>41.6645</td>\n      <td>-78.7856</td>\n      <td>62.0</td>\n      <td>0.0</td>\n      <td>0.0</td>\n      <td>1.0</td>\n      <td>1.0</td>\n      <td>0.0</td>\n      <td>1</td>\n      <td>0</td>\n      <td>0.0</td>\n      <td>0.0</td>\n      <td>1.0</td>\n      <td>Shot - Dead (murder, accidental, suicide)</td>\n      <td>2017.0</td>\n    </tr>\n    <tr>\n      <th>5</th>\n      <td>2014-01-18</td>\n      <td>North Carolina</td>\n      <td>Wayne County</td>\n      <td>35.1847</td>\n      <td>-77.9527</td>\n      <td>65.0</td>\n      <td>0.0</td>\n      <td>0.0</td>\n      <td>1.0</td>\n      <td>1.0</td>\n      <td>0.0</td>\n      <td>0</td>\n      <td>1</td>\n      <td>0.0</td>\n      <td>0.0</td>\n      <td>1.0</td>\n      <td>Shot - Wounded/Injured</td>\n      <td>2014.0</td>\n    </tr>\n    <tr>\n      <th>6</th>\n      <td>2018-01-25</td>\n      <td>Louisiana</td>\n      <td>Zachary</td>\n      <td>30.6069</td>\n      <td>-91.2270</td>\n      <td>26.0</td>\n      <td>0.0</td>\n      <td>0.0</td>\n      <td>5.0</td>\n      <td>5.0</td>\n      <td>0.0</td>\n      <td>2</td>\n      <td>1</td>\n      <td>2.0</td>\n      <td>0.0</td>\n      <td>5.0</td>\n      <td>Shot - Wounded/Injured</td>\n      <td>2018.0</td>\n    </tr>\n    <tr>\n      <th>8</th>\n      <td>2016-08-01</td>\n      <td>Virginia</td>\n      <td>Stafford</td>\n      <td>38.3008</td>\n      <td>-77.4469</td>\n      <td>65.0</td>\n      <td>0.0</td>\n      <td>0.0</td>\n      <td>1.0</td>\n      <td>1.0</td>\n      <td>0.0</td>\n      <td>1</td>\n      <td>0</td>\n      <td>0.0</td>\n      <td>0.0</td>\n      <td>1.0</td>\n      <td>Shot - Dead (murder, accidental, suicide)</td>\n      <td>2016.0</td>\n    </tr>\n  </tbody>\n</table>\n</div>"
     },
     "execution_count": 9,
     "metadata": {},
     "output_type": "execute_result"
    }
   ],
   "source": [
    "dataset_known_ages.head()"
   ],
   "metadata": {
    "collapsed": false
   }
  },
  {
   "cell_type": "code",
   "execution_count": 10,
   "outputs": [],
   "source": [
    "# y= avg_age_participants\n",
    "# X= all other numerical columns\n",
    "columns_X=dataset_known_ages.columns.drop(['avg_age_participants', 'city_or_county', 'incident_characteristics1', 'date', 'state', 'year', 'latitude', 'longitude'] )\n",
    "X= dataset_known_ages[columns_X]\n",
    "y= dataset_known_ages['avg_age_participants']"
   ],
   "metadata": {
    "collapsed": false
   }
  },
  {
   "cell_type": "code",
   "execution_count": 11,
   "outputs": [],
   "source": [
    "from sklearn.model_selection import train_test_split\n",
    "X_train, X_test, y_train, y_test = train_test_split(X, y)\n"
   ],
   "metadata": {
    "collapsed": false
   }
  },
  {
   "cell_type": "code",
   "execution_count": 12,
   "outputs": [
    {
     "data": {
      "text/plain": "        n_participants_child  n_participants_teen  n_participants_adult  \\\n171508                   0.0                  0.0                   7.0   \n212627                   0.0                  1.0                   0.0   \n198121                   0.0                  0.0                   1.0   \n115030                   0.0                  0.0                   1.0   \n193028                   0.0                  0.0                   2.0   \n...                      ...                  ...                   ...   \n131911                   0.0                  0.0                   2.0   \n159048                   0.0                  0.0                   1.0   \n358                      0.0                  0.0                   1.0   \n211180                   0.0                  0.0                   1.0   \n238925                   0.0                  0.0                   1.0   \n\n        n_males  n_females  n_killed  n_injured  n_arrested  n_unharmed  \\\n171508      7.0        0.0         2          2         0.0         3.0   \n212627      1.0        0.0         0          1         0.0         0.0   \n198121      1.0        0.0         0          0         1.0         0.0   \n115030      1.0        0.0         0          0         1.0         0.0   \n193028      2.0        0.0         0          1         1.0         0.0   \n...         ...        ...       ...        ...         ...         ...   \n131911      1.0        0.0         1          0         0.0         1.0   \n159048      1.0        0.0         1          0         0.0         0.0   \n358         1.0        0.0         1          0         0.0         0.0   \n211180      1.0        0.0         1          0         0.0         0.0   \n238925      1.0        1.0         0          1         0.0         1.0   \n\n        n_participants  \n171508             7.0  \n212627             1.0  \n198121             1.0  \n115030             1.0  \n193028             2.0  \n...                ...  \n131911             2.0  \n159048             1.0  \n358                1.0  \n211180             1.0  \n238925             2.0  \n\n[81261 rows x 10 columns]",
      "text/html": "<div>\n<style scoped>\n    .dataframe tbody tr th:only-of-type {\n        vertical-align: middle;\n    }\n\n    .dataframe tbody tr th {\n        vertical-align: top;\n    }\n\n    .dataframe thead th {\n        text-align: right;\n    }\n</style>\n<table border=\"1\" class=\"dataframe\">\n  <thead>\n    <tr style=\"text-align: right;\">\n      <th></th>\n      <th>n_participants_child</th>\n      <th>n_participants_teen</th>\n      <th>n_participants_adult</th>\n      <th>n_males</th>\n      <th>n_females</th>\n      <th>n_killed</th>\n      <th>n_injured</th>\n      <th>n_arrested</th>\n      <th>n_unharmed</th>\n      <th>n_participants</th>\n    </tr>\n  </thead>\n  <tbody>\n    <tr>\n      <th>171508</th>\n      <td>0.0</td>\n      <td>0.0</td>\n      <td>7.0</td>\n      <td>7.0</td>\n      <td>0.0</td>\n      <td>2</td>\n      <td>2</td>\n      <td>0.0</td>\n      <td>3.0</td>\n      <td>7.0</td>\n    </tr>\n    <tr>\n      <th>212627</th>\n      <td>0.0</td>\n      <td>1.0</td>\n      <td>0.0</td>\n      <td>1.0</td>\n      <td>0.0</td>\n      <td>0</td>\n      <td>1</td>\n      <td>0.0</td>\n      <td>0.0</td>\n      <td>1.0</td>\n    </tr>\n    <tr>\n      <th>198121</th>\n      <td>0.0</td>\n      <td>0.0</td>\n      <td>1.0</td>\n      <td>1.0</td>\n      <td>0.0</td>\n      <td>0</td>\n      <td>0</td>\n      <td>1.0</td>\n      <td>0.0</td>\n      <td>1.0</td>\n    </tr>\n    <tr>\n      <th>115030</th>\n      <td>0.0</td>\n      <td>0.0</td>\n      <td>1.0</td>\n      <td>1.0</td>\n      <td>0.0</td>\n      <td>0</td>\n      <td>0</td>\n      <td>1.0</td>\n      <td>0.0</td>\n      <td>1.0</td>\n    </tr>\n    <tr>\n      <th>193028</th>\n      <td>0.0</td>\n      <td>0.0</td>\n      <td>2.0</td>\n      <td>2.0</td>\n      <td>0.0</td>\n      <td>0</td>\n      <td>1</td>\n      <td>1.0</td>\n      <td>0.0</td>\n      <td>2.0</td>\n    </tr>\n    <tr>\n      <th>...</th>\n      <td>...</td>\n      <td>...</td>\n      <td>...</td>\n      <td>...</td>\n      <td>...</td>\n      <td>...</td>\n      <td>...</td>\n      <td>...</td>\n      <td>...</td>\n      <td>...</td>\n    </tr>\n    <tr>\n      <th>131911</th>\n      <td>0.0</td>\n      <td>0.0</td>\n      <td>2.0</td>\n      <td>1.0</td>\n      <td>0.0</td>\n      <td>1</td>\n      <td>0</td>\n      <td>0.0</td>\n      <td>1.0</td>\n      <td>2.0</td>\n    </tr>\n    <tr>\n      <th>159048</th>\n      <td>0.0</td>\n      <td>0.0</td>\n      <td>1.0</td>\n      <td>1.0</td>\n      <td>0.0</td>\n      <td>1</td>\n      <td>0</td>\n      <td>0.0</td>\n      <td>0.0</td>\n      <td>1.0</td>\n    </tr>\n    <tr>\n      <th>358</th>\n      <td>0.0</td>\n      <td>0.0</td>\n      <td>1.0</td>\n      <td>1.0</td>\n      <td>0.0</td>\n      <td>1</td>\n      <td>0</td>\n      <td>0.0</td>\n      <td>0.0</td>\n      <td>1.0</td>\n    </tr>\n    <tr>\n      <th>211180</th>\n      <td>0.0</td>\n      <td>0.0</td>\n      <td>1.0</td>\n      <td>1.0</td>\n      <td>0.0</td>\n      <td>1</td>\n      <td>0</td>\n      <td>0.0</td>\n      <td>0.0</td>\n      <td>1.0</td>\n    </tr>\n    <tr>\n      <th>238925</th>\n      <td>0.0</td>\n      <td>0.0</td>\n      <td>1.0</td>\n      <td>1.0</td>\n      <td>1.0</td>\n      <td>0</td>\n      <td>1</td>\n      <td>0.0</td>\n      <td>1.0</td>\n      <td>2.0</td>\n    </tr>\n  </tbody>\n</table>\n<p>81261 rows × 10 columns</p>\n</div>"
     },
     "execution_count": 12,
     "metadata": {},
     "output_type": "execute_result"
    }
   ],
   "source": [
    "X_train"
   ],
   "metadata": {
    "collapsed": false
   }
  },
  {
   "cell_type": "code",
   "execution_count": 13,
   "outputs": [],
   "source": [
    "# # Feature Scaling\n",
    "# from sklearn.preprocessing import StandardScaler\n",
    "# sc = StandardScaler()\n",
    "# X_train = sc.fit_transform(X_train)\n",
    "# X_test= sc.transform(X_test)\n",
    "# X_train"
   ],
   "metadata": {
    "collapsed": false
   }
  },
  {
   "cell_type": "code",
   "execution_count": 14,
   "outputs": [
    {
     "data": {
      "text/plain": "10"
     },
     "execution_count": 14,
     "metadata": {},
     "output_type": "execute_result"
    }
   ],
   "source": [
    "input_dim = X_train.shape[1]\n",
    "input_dim"
   ],
   "metadata": {
    "collapsed": false
   }
  },
  {
   "cell_type": "code",
   "execution_count": 15,
   "outputs": [],
   "source": [
    "weight_decay = keras.regularizers.l2(0.001)\n",
    "\n",
    "model = Sequential()\n",
    "model.add(Dense(64, input_dim=input_dim, activation='relu' ))\n",
    "model.add(Dense(32, activation='relu'))\n",
    "model.add(Dense(1, activation='linear'))"
   ],
   "metadata": {
    "collapsed": false
   }
  },
  {
   "cell_type": "code",
   "execution_count": 16,
   "outputs": [],
   "source": [
    "model.compile(loss='mean_squared_error', optimizer='adam', metrics=['mae'])"
   ],
   "metadata": {
    "collapsed": false
   }
  },
  {
   "cell_type": "code",
   "execution_count": 17,
   "outputs": [
    {
     "name": "stderr",
     "output_type": "stream",
     "text": [
      "C:\\Users\\HUAWEI\\AppData\\Local\\Programs\\Python\\Python310\\lib\\site-packages\\keras\\engine\\data_adapter.py:1700: FutureWarning: The behavior of `series[i:j]` with an integer-dtype index is deprecated. In a future version, this will be treated as *label-based* indexing, consistent with e.g. `series[i]` lookups. To retain the old behavior, use `series.iloc[i:j]`. To get the future behavior, use `series.loc[i:j]`.\n",
      "  return t[start:end]\n"
     ]
    },
    {
     "name": "stdout",
     "output_type": "stream",
     "text": [
      "Epoch 1/50\n",
      "2286/2286 [==============================] - 9s 3ms/step - loss: 199.8361 - mae: 10.5396 - val_loss: 179.9803 - val_mae: 9.5135\n",
      "Epoch 2/50\n",
      "2286/2286 [==============================] - 6s 3ms/step - loss: 154.4314 - mae: 9.5292 - val_loss: 152.8805 - val_mae: 9.5113\n",
      "Epoch 3/50\n",
      "2286/2286 [==============================] - 5s 2ms/step - loss: 154.2779 - mae: 9.5253 - val_loss: 153.3587 - val_mae: 9.3687\n",
      "Epoch 4/50\n",
      "2286/2286 [==============================] - 5s 2ms/step - loss: 154.1546 - mae: 9.5192 - val_loss: 153.5035 - val_mae: 9.5707\n",
      "Epoch 5/50\n",
      "2286/2286 [==============================] - 5s 2ms/step - loss: 154.2843 - mae: 9.5249 - val_loss: 153.3870 - val_mae: 9.4892\n"
     ]
    },
    {
     "data": {
      "text/plain": "<keras.callbacks.History at 0x1c1ab7af550>"
     },
     "execution_count": 17,
     "metadata": {},
     "output_type": "execute_result"
    }
   ],
   "source": [
    "model.fit(X_train, y_train, epochs=50, batch_size=32, callbacks=[EarlyStopping(patience=3, monitor='val_loss')], validation_split=0.1)"
   ],
   "metadata": {
    "collapsed": false
   }
  },
  {
   "cell_type": "code",
   "execution_count": 20,
   "outputs": [
    {
     "name": "stdout",
     "output_type": "stream",
     "text": [
      "847/847 [==============================] - 1s 2ms/step\n"
     ]
    },
    {
     "data": {
      "text/plain": "[<matplotlib.lines.Line2D at 0x1c1af18a980>]"
     },
     "execution_count": 20,
     "metadata": {},
     "output_type": "execute_result"
    },
    {
     "data": {
      "text/plain": "<Figure size 640x480 with 1 Axes>",
      "image/png": "[encoded data removed]"
     },
     "metadata": {},
     "output_type": "display_data"
    }
   ],
   "source": [
    "# plot some predictions\n",
    "y_pred = model.predict(X_test)\n",
    "plt.scatter(y_test, y_pred)\n",
    "plt.xlabel('True Values')\n",
    "plt.ylabel('Predictions')\n",
    "plt.axis('equal')\n",
    "plt.xlim(plt.xlim())\n",
    "plt.ylim(plt.ylim())\n",
    "plt.plot([-100, 100], [-100, 100])"
   ],
   "metadata": {
    "collapsed": false
   }
  },
  {
   "cell_type": "code",
   "execution_count": null,
   "outputs": [],
   "source": [],
   "metadata": {
    "collapsed": false,
    "pycharm": {
     "is_executing": true
    }
   }
  },
  {
   "cell_type": "code",
   "execution_count": 19,
   "outputs": [],
   "source": [],
   "metadata": {
    "collapsed": false
   }
  }
 ],
 "metadata": {
  "kernelspec": {
   "display_name": "Python 3",
   "language": "python",
   "name": "python3"
  },
  "language_info": {
   "codemirror_mode": {
    "name": "ipython",
    "version": 2
   },
   "file_extension": ".py",
   "mimetype": "text/x-python",
   "name": "python",
   "nbconvert_exporter": "python",
   "pygments_lexer": "ipython2",
   "version": "2.7.6"
  }
 },
 "nbformat": 4,
 "nbformat_minor": 0
}
