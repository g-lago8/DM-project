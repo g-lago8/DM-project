{
 "cells": [
  {
   "cell_type": "markdown",
   "metadata": {},
   "source": [
    "# Aggregated dataset"
   ]
  },
  {
   "cell_type": "markdown",
   "metadata": {},
   "source": [
    "We group the incidents that happened in the same congressional district of each state: label [state, congressional district] (and eventually in the same year, month).\n",
    "\n",
    "We consider the numerical features of the dataset df_incidents:\n",
    "- the mean of 'avg_age_participants'\n",
    "- the sum of the features 'n_participants_child'-'n_participants'\n",
    "\n",
    "We also add the 'povertyPercentage' feature of df_poverty for each state, year.\n",
    "\n",
    "Finally, given the year of the incident, we add the 'party', 'candidatevotes', 'totalvotes' features from the dataset df_elections for each [state, congressional district]."
   ]
  },
  {
   "cell_type": "code",
   "execution_count": null,
   "metadata": {},
   "outputs": [
    {
     "data": {
      "text/html": [
       "<div>\n",
       "<style scoped>\n",
       "    .dataframe tbody tr th:only-of-type {\n",
       "        vertical-align: middle;\n",
       "    }\n",
       "\n",
       "    .dataframe tbody tr th {\n",
       "        vertical-align: top;\n",
       "    }\n",
       "\n",
       "    .dataframe thead th {\n",
       "        text-align: right;\n",
       "    }\n",
       "</style>\n",
       "<table border=\"1\" class=\"dataframe\">\n",
       "  <thead>\n",
       "    <tr style=\"text-align: right;\">\n",
       "      <th></th>\n",
       "      <th>state</th>\n",
       "      <th>congressional_district</th>\n",
       "      <th>year_month</th>\n",
       "      <th>n_incidents</th>\n",
       "    </tr>\n",
       "  </thead>\n",
       "  <tbody>\n",
       "    <tr>\n",
       "      <th>0</th>\n",
       "      <td>alabama</td>\n",
       "      <td>1.0</td>\n",
       "      <td>14-01</td>\n",
       "      <td>7</td>\n",
       "    </tr>\n",
       "    <tr>\n",
       "      <th>1</th>\n",
       "      <td>alabama</td>\n",
       "      <td>1.0</td>\n",
       "      <td>14-02</td>\n",
       "      <td>10</td>\n",
       "    </tr>\n",
       "    <tr>\n",
       "      <th>2</th>\n",
       "      <td>alabama</td>\n",
       "      <td>1.0</td>\n",
       "      <td>14-03</td>\n",
       "      <td>7</td>\n",
       "    </tr>\n",
       "    <tr>\n",
       "      <th>3</th>\n",
       "      <td>alabama</td>\n",
       "      <td>1.0</td>\n",
       "      <td>14-04</td>\n",
       "      <td>8</td>\n",
       "    </tr>\n",
       "    <tr>\n",
       "      <th>4</th>\n",
       "      <td>alabama</td>\n",
       "      <td>1.0</td>\n",
       "      <td>14-05</td>\n",
       "      <td>13</td>\n",
       "    </tr>\n",
       "  </tbody>\n",
       "</table>\n",
       "</div>"
      ],
      "text/plain": [
       "     state  congressional_district year_month  n_incidents\n",
       "0  alabama                     1.0      14-01            7\n",
       "1  alabama                     1.0      14-02           10\n",
       "2  alabama                     1.0      14-03            7\n",
       "3  alabama                     1.0      14-04            8\n",
       "4  alabama                     1.0      14-05           13"
      ]
     },
     "metadata": {},
     "output_type": "display_data"
    }
   ],
   "source": [
    "# aggregated dataset creation\n",
    "# n. of incidents per districts and month\n",
    "df_incidents_agg = df_incidents.groupby(['state', 'congressional_district', 'year_month']).size().reset_index(name='n_incidents')\n",
    "df_incidents_agg.head()"
   ]
  },
  {
   "cell_type": "code",
   "execution_count": null,
   "metadata": {},
   "outputs": [],
   "source": []
  },
  {
   "cell_type": "code",
   "execution_count": null,
   "metadata": {},
   "outputs": [
    {
     "ename": "KeyError",
     "evalue": "'Column not found: n_killed'",
     "output_type": "error",
     "traceback": [
      "\u001b[1;31m---------------------------------------------------------------------------\u001b[0m\n",
      "\u001b[1;31mKeyError\u001b[0m                                  Traceback (most recent call last)\n",
      "\u001b[1;32mc:\\Users\\HUAWEI\\PycharmProjects\\DM-project\\TASK 1\\DataPreparation.ipynb Cell 67\u001b[0m line \u001b[0;36m6\n",
      "\u001b[0;32m      <a href='vscode-notebook-cell:/c%3A/Users/HUAWEI/PycharmProjects/DM-project/TASK%201/DataPreparation.ipynb#Y132sZmlsZQ%3D%3D?line=3'>4</a>\u001b[0m df_incidents_agg\u001b[39m.\u001b[39mhead()\n",
      "\u001b[0;32m      <a href='vscode-notebook-cell:/c%3A/Users/HUAWEI/PycharmProjects/DM-project/TASK%201/DataPreparation.ipynb#Y132sZmlsZQ%3D%3D?line=4'>5</a>\u001b[0m df_incidents_agg[\u001b[39m'\u001b[39m\u001b[39mn_participants\u001b[39m\u001b[39m'\u001b[39m] \u001b[39m=\u001b[39m df_incidents\u001b[39m.\u001b[39mgroupby([\u001b[39m'\u001b[39m\u001b[39mstate\u001b[39m\u001b[39m'\u001b[39m, \u001b[39m'\u001b[39m\u001b[39mcongressional_district\u001b[39m\u001b[39m'\u001b[39m, \u001b[39m'\u001b[39m\u001b[39myear_month\u001b[39m\u001b[39m'\u001b[39m])[\u001b[39m'\u001b[39m\u001b[39mn_participants\u001b[39m\u001b[39m'\u001b[39m]\u001b[39m.\u001b[39msum()\u001b[39m.\u001b[39mreset_index(name\u001b[39m=\u001b[39m\u001b[39m'\u001b[39m\u001b[39mn_participants\u001b[39m\u001b[39m'\u001b[39m)[\u001b[39m'\u001b[39m\u001b[39mn_participants\u001b[39m\u001b[39m'\u001b[39m]\n",
      "\u001b[1;32m----> <a href='vscode-notebook-cell:/c%3A/Users/HUAWEI/PycharmProjects/DM-project/TASK%201/DataPreparation.ipynb#Y132sZmlsZQ%3D%3D?line=5'>6</a>\u001b[0m df_incidents_agg[\u001b[39m'\u001b[39m\u001b[39mn_killed\u001b[39m\u001b[39m'\u001b[39m] \u001b[39m=\u001b[39m df_incidents\u001b[39m.\u001b[39;49mgroupby([\u001b[39m'\u001b[39;49m\u001b[39mstate\u001b[39;49m\u001b[39m'\u001b[39;49m, \u001b[39m'\u001b[39;49m\u001b[39mcongressional_district\u001b[39;49m\u001b[39m'\u001b[39;49m, \u001b[39m'\u001b[39;49m\u001b[39myear_month\u001b[39;49m\u001b[39m'\u001b[39;49m])[\u001b[39m'\u001b[39;49m\u001b[39mn_killed\u001b[39;49m\u001b[39m'\u001b[39;49m]\u001b[39m.\u001b[39msum()\u001b[39m.\u001b[39mreset_index(name\u001b[39m=\u001b[39m\u001b[39m'\u001b[39m\u001b[39mn_killed\u001b[39m\u001b[39m'\u001b[39m)[\u001b[39m'\u001b[39m\u001b[39mn_killed\u001b[39m\u001b[39m'\u001b[39m]\n",
      "\u001b[0;32m      <a href='vscode-notebook-cell:/c%3A/Users/HUAWEI/PycharmProjects/DM-project/TASK%201/DataPreparation.ipynb#Y132sZmlsZQ%3D%3D?line=6'>7</a>\u001b[0m df_incidents_agg[\u001b[39m'\u001b[39m\u001b[39mn_injured\u001b[39m\u001b[39m'\u001b[39m] \u001b[39m=\u001b[39m df_incidents\u001b[39m.\u001b[39mgroupby([\u001b[39m'\u001b[39m\u001b[39mstate\u001b[39m\u001b[39m'\u001b[39m, \u001b[39m'\u001b[39m\u001b[39mcongressional_district\u001b[39m\u001b[39m'\u001b[39m, \u001b[39m'\u001b[39m\u001b[39myear_month\u001b[39m\u001b[39m'\u001b[39m])[\u001b[39m'\u001b[39m\u001b[39mn_injured\u001b[39m\u001b[39m'\u001b[39m]\u001b[39m.\u001b[39msum()\u001b[39m.\u001b[39mreset_index(name\u001b[39m=\u001b[39m\u001b[39m'\u001b[39m\u001b[39mn_injured\u001b[39m\u001b[39m'\u001b[39m)[\u001b[39m'\u001b[39m\u001b[39mn_injured\u001b[39m\u001b[39m'\u001b[39m]\n",
      "\u001b[0;32m      <a href='vscode-notebook-cell:/c%3A/Users/HUAWEI/PycharmProjects/DM-project/TASK%201/DataPreparation.ipynb#Y132sZmlsZQ%3D%3D?line=7'>8</a>\u001b[0m df_incidents_agg[\u001b[39m'\u001b[39m\u001b[39mn_unharmed\u001b[39m\u001b[39m'\u001b[39m] \u001b[39m=\u001b[39m df_incidents\u001b[39m.\u001b[39mgroupby([\u001b[39m'\u001b[39m\u001b[39mstate\u001b[39m\u001b[39m'\u001b[39m, \u001b[39m'\u001b[39m\u001b[39mcongressional_district\u001b[39m\u001b[39m'\u001b[39m, \u001b[39m'\u001b[39m\u001b[39myear_month\u001b[39m\u001b[39m'\u001b[39m])[\u001b[39m'\u001b[39m\u001b[39mn_unharmed\u001b[39m\u001b[39m'\u001b[39m]\u001b[39m.\u001b[39msum()\u001b[39m.\u001b[39mreset_index(name\u001b[39m=\u001b[39m\u001b[39m'\u001b[39m\u001b[39mn_unharmed\u001b[39m\u001b[39m'\u001b[39m)[\u001b[39m'\u001b[39m\u001b[39mn_unharmed\u001b[39m\u001b[39m'\u001b[39m]\n",
      "\n",
      "File \u001b[1;32mc:\\Users\\HUAWEI\\AppData\\Local\\Programs\\Python\\Python310\\lib\\site-packages\\pandas\\core\\groupby\\generic.py:1415\u001b[0m, in \u001b[0;36mDataFrameGroupBy.__getitem__\u001b[1;34m(self, key)\u001b[0m\n",
      "\u001b[0;32m   1406\u001b[0m \u001b[39mif\u001b[39;00m \u001b[39misinstance\u001b[39m(key, \u001b[39mtuple\u001b[39m) \u001b[39mand\u001b[39;00m \u001b[39mlen\u001b[39m(key) \u001b[39m>\u001b[39m \u001b[39m1\u001b[39m:\n",
      "\u001b[0;32m   1407\u001b[0m     \u001b[39m# if len == 1, then it becomes a SeriesGroupBy and this is actually\u001b[39;00m\n",
      "\u001b[0;32m   1408\u001b[0m     \u001b[39m# valid syntax, so don't raise warning\u001b[39;00m\n",
      "\u001b[0;32m   1409\u001b[0m     warnings\u001b[39m.\u001b[39mwarn(\n",
      "\u001b[0;32m   1410\u001b[0m         \u001b[39m\"\u001b[39m\u001b[39mIndexing with multiple keys (implicitly converted to a tuple \u001b[39m\u001b[39m\"\u001b[39m\n",
      "\u001b[0;32m   1411\u001b[0m         \u001b[39m\"\u001b[39m\u001b[39mof keys) will be deprecated, use a list instead.\u001b[39m\u001b[39m\"\u001b[39m,\n",
      "\u001b[0;32m   1412\u001b[0m         \u001b[39mFutureWarning\u001b[39;00m,\n",
      "\u001b[0;32m   1413\u001b[0m         stacklevel\u001b[39m=\u001b[39mfind_stack_level(),\n",
      "\u001b[0;32m   1414\u001b[0m     )\n",
      "\u001b[1;32m-> 1415\u001b[0m \u001b[39mreturn\u001b[39;00m \u001b[39msuper\u001b[39;49m()\u001b[39m.\u001b[39;49m\u001b[39m__getitem__\u001b[39;49m(key)\n",
      "\n",
      "File \u001b[1;32mc:\\Users\\HUAWEI\\AppData\\Local\\Programs\\Python\\Python310\\lib\\site-packages\\pandas\\core\\base.py:248\u001b[0m, in \u001b[0;36mSelectionMixin.__getitem__\u001b[1;34m(self, key)\u001b[0m\n",
      "\u001b[0;32m    246\u001b[0m \u001b[39melse\u001b[39;00m:\n",
      "\u001b[0;32m    247\u001b[0m     \u001b[39mif\u001b[39;00m key \u001b[39mnot\u001b[39;00m \u001b[39min\u001b[39;00m \u001b[39mself\u001b[39m\u001b[39m.\u001b[39mobj:\n",
      "\u001b[1;32m--> 248\u001b[0m         \u001b[39mraise\u001b[39;00m \u001b[39mKeyError\u001b[39;00m(\u001b[39mf\u001b[39m\u001b[39m\"\u001b[39m\u001b[39mColumn not found: \u001b[39m\u001b[39m{\u001b[39;00mkey\u001b[39m}\u001b[39;00m\u001b[39m\"\u001b[39m)\n",
      "\u001b[0;32m    249\u001b[0m     subset \u001b[39m=\u001b[39m \u001b[39mself\u001b[39m\u001b[39m.\u001b[39mobj[key]\n",
      "\u001b[0;32m    250\u001b[0m     ndim \u001b[39m=\u001b[39m subset\u001b[39m.\u001b[39mndim\n",
      "\n",
      "\u001b[1;31mKeyError\u001b[0m: 'Column not found: n_killed'"
     ]
    }
   ],
   "source": [
    "# aggregated dataset creation\n",
    "# n. of incidents per districts and month\n",
    "df_incidents_agg = df_incidents.groupby(['state', 'congressional_district', 'year_month']).size().reset_index(name='n_incidents')\n",
    "df_incidents_agg.head()\n",
    "df_incidents_agg['n_participants'] = df_incidents.groupby(['state', 'congressional_district', 'year_month'])['n_participants'].sum().reset_index(name='n_participants')['n_participants']\n",
    "df_incidents_agg['n_killed'] = df_incidents.groupby(['state', 'congressional_district', 'year_month'])['n_killed'].sum().reset_index(name='n_killed')['n_killed']\n",
    "df_incidents_agg['n_injured'] = df_incidents.groupby(['state', 'congressional_district', 'year_month'])['n_injured'].sum().reset_index(name='n_injured')['n_injured']\n",
    "df_incidents_agg['n_unharmed'] = df_incidents.groupby(['state', 'congressional_district', 'year_month'])['n_unharmed'].sum().reset_index(name='n_unharmed')['n_unharmed']\n",
    "df_incidents_agg['n_participants_child'] = df_incidents.groupby(['state', 'congressional_district', 'year_month'])['n_participants_child'].sum().reset_index(name='n_participants_child')['n_participants_child']\n",
    "df_incidents_agg['n_participants_teen'] = df_incidents.groupby(['state', 'congressional_district', 'year_month'])['n_participants_teen'].sum().reset_index(name='n_participants_teen')['n_participants_teen']\n",
    "df_incidents_agg['n_participants_adult'] = df_incidents.groupby(['state', 'congressional_district', 'year_month'])['n_participants_adult'].sum().reset_index(name='n_participants_adult')['n_participants_adult']\n",
    "df_incidents_agg['avg_age_participants'] = df_incidents.groupby(['state', 'congressional_district', 'year_month'])['avg_age_participants'].mean().reset_index(name='avg_age_participants')['avg_age_participants']\n"
   ]
  },
  {
   "cell_type": "code",
   "execution_count": null,
   "metadata": {},
   "outputs": [],
   "source": [
    "\n",
    "# year and month\n",
    "df_incidents_agg['year'] = df_incidents_agg['year_month'].str[0:2]\n",
    "df_incidents_agg['month'] = df_incidents_agg['year_month'].str[3:5]\n",
    "df_incidents_agg['year'] = df_incidents_agg['year'].astype('int64')\n",
    "df_incidents_agg['month'] = df_incidents_agg['month'].astype('int64')\n",
    "df_incidents_agg['year']+=2000\n",
    "df_incidents_agg.head()\n",
    "df_incidents_agg['congressional_district'].replace(0, 1, inplace=True)\n"
   ]
  },
  {
   "cell_type": "code",
   "execution_count": null,
   "metadata": {},
   "outputs": [],
   "source": [
    "\n",
    "# join with elections on state and congressional district\n",
    "df_elections['state'] = df_elections['state'].str.lower()\n",
    "df_elections['year'] = df_elections['year'].astype('int64')\n",
    "df_incidents_agg = pd.merge(df_incidents_agg, df_elections, on=['state', 'congressional_district', 'year'], how='left')\n"
   ]
  },
  {
   "cell_type": "code",
   "execution_count": null,
   "metadata": {},
   "outputs": [],
   "source": [
    "\n",
    "# join with poverty on state and year\n",
    "df_poverty['year'] = df_poverty['year'].astype('int64')\n",
    "df_poverty['state'] = df_poverty['state'].str.lower()\n",
    "df_incidents_agg = pd.merge(df_incidents_agg, df_poverty, on=['state', 'year'], how='left')\n",
    "df_incidents_agg\n"
   ]
  },
  {
   "cell_type": "code",
   "execution_count": null,
   "metadata": {},
   "outputs": [],
   "source": [
    "\n",
    "# fill the missing values of 'party', 'candidatevotes', 'totalvotes' with data from the previous year, same state and same congressional district\n",
    "def fill_with_previous_year(row):\n",
    "    if pd.isnull(row['party']):\n",
    "        # find the previous year\n",
    "        previous_year = row['year']-1\n",
    "        # find the previous row\n",
    "        previous_row = df_incidents_agg[(df_incidents_agg['state']==row['state']) & (df_incidents_agg['congressional_district']==row['congressional_district']) & (df_incidents_agg['year']==previous_year)]\n",
    "        if previous_row.shape[0]>0:\n",
    "            # fill the missing values with the values of the previous row\n",
    "            row['party'] = previous_row['party'].values[0]\n",
    "            row['candidatevotes'] = previous_row['candidatevotes'].values[0]\n",
    "            row['totalvotes'] = previous_row['totalvotes'].values[0]\n",
    "        elif row['congressional_district']==0:\n",
    "            # fill with the sum of the values of the same state, previous year\n",
    "            previous_rows = df_incidents_agg[(df_incidents_agg['state']==row['state']) & (df_incidents_agg['year']==previous_year)]\n",
    "            if previous_rows.shape[0]>0:\n",
    "                row['candidatevotes'] = previous_rows['candidatevotes'].sum()\n",
    "                row['totalvotes'] = previous_rows['totalvotes'].sum()\n",
    "    return row\n",
    "# apply the function to the dataframe\n",
    "df_incidents_agg = df_incidents_agg.apply(fill_with_previous_year, axis=1)\n"
   ]
  }
 ],
 "metadata": {
  "language_info": {
   "name": "python"
  }
 },
 "nbformat": 4,
 "nbformat_minor": 2
}
