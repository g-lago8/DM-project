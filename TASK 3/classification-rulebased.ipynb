{
 "cells": [
  {
   "cell_type": "markdown",
   "metadata": {},
   "source": [
    "# gg"
   ]
  },
  {
   "cell_type": "code",
   "execution_count": 1,
   "metadata": {},
   "outputs": [],
   "source": [
    "# imports\n",
    "import numpy as np\n",
    "import pandas as pd\n",
    "from tqdm import tqdm\n",
    "import matplotlib.pyplot as plt\n",
    "import seaborn as sns\n",
    "import sklearn\n",
    "from sklearn.model_selection import train_test_split"
   ]
  },
  {
   "cell_type": "code",
   "execution_count": 2,
   "metadata": {},
   "outputs": [],
   "source": [
    "df_incidents_prepared = pd.read_csv('../dataset_preparation/incidents_prepared.csv', index_col=0)\n",
    "df_orig = pd.read_csv('../dataset_preparation/original_features.csv', index_col=0)"
   ]
  },
  {
   "cell_type": "code",
   "execution_count": 3,
   "metadata": {},
   "outputs": [],
   "source": [
    "df_incidents_prepared['isKilled'] = df_incidents_prepared['n_killed'] > 0"
   ]
  },
  {
   "cell_type": "code",
   "execution_count": 4,
   "metadata": {},
   "outputs": [],
   "source": [
    "df_incidents_prepared['n_participants'] = df_orig['n_participants']\n",
    "df_incidents_prepared['n_females'] = df_orig['n_females']\n",
    "df_incidents_prepared['n_teens'] = df_orig['n_participants_teen']\n",
    "df_incidents_prepared['n_children'] = df_orig['n_participants_child']\n",
    "df_incidents_prepared['n_injured'] = df_orig['n_injured']"
   ]
  },
  {
   "cell_type": "code",
   "execution_count": 5,
   "metadata": {},
   "outputs": [],
   "source": [
    "cols2drop=['address', 'city_or_county','congressional_district',\n",
    "           'avg_age_participants', 'n_killed', 'incident_characteristics1','severity',\n",
    "           'severity_cat','severity_minor','year_month','killed_by_district','injured_by_district',\n",
    "           'dfm_district_killed','dfm_district_injured', 'dfm_district_participants', 'dfm_district_child', 'dfm_district_teen', 'dfm_district_females', 'date','state', 'arrested_ratio', 'unharmed_ratio']\n",
    "df_incidents_prepared=df_incidents_prepared.drop(cols2drop, axis=1)"
   ]
  },
  {
   "cell_type": "code",
   "execution_count": 6,
   "metadata": {},
   "outputs": [
    {
     "name": "stdout",
     "output_type": "stream",
     "text": [
      "<class 'pandas.core.frame.DataFrame'>\n",
      "Index: 161550 entries, 0 to 164506\n",
      "Data columns (total 16 columns):\n",
      " #   Column                  Non-Null Count   Dtype  \n",
      "---  ------                  --------------   -----  \n",
      " 0   latitude                161550 non-null  float64\n",
      " 1   longitude               161550 non-null  float64\n",
      " 2   year                    161550 non-null  float64\n",
      " 3   age_group               161550 non-null  object \n",
      " 4   povertyPercentage       161550 non-null  float64\n",
      " 5   population              161550 non-null  int64  \n",
      " 6   party                   161550 non-null  object \n",
      " 7   candidatevotes          161550 non-null  float64\n",
      " 8   right_or_left           161550 non-null  float64\n",
      " 9   voters_over_population  161550 non-null  float64\n",
      " 10  isKilled                161550 non-null  bool   \n",
      " 11  n_participants          161550 non-null  float64\n",
      " 12  n_females               161550 non-null  float64\n",
      " 13  n_teens                 161550 non-null  float64\n",
      " 14  n_children              161550 non-null  float64\n",
      " 15  n_injured               161550 non-null  int64  \n",
      "dtypes: bool(1), float64(11), int64(2), object(2)\n",
      "memory usage: 19.9+ MB\n"
     ]
    }
   ],
   "source": [
    "df_incidents_prepared.info()"
   ]
  },
  {
   "cell_type": "code",
   "execution_count": 7,
   "metadata": {},
   "outputs": [],
   "source": [
    "X=df_incidents_prepared.drop('isKilled', axis=1)\n",
    "y=df_incidents_prepared['isKilled']"
   ]
  },
  {
   "cell_type": "code",
   "execution_count": 8,
   "metadata": {},
   "outputs": [
    {
     "name": "stdout",
     "output_type": "stream",
     "text": [
      "<class 'pandas.core.frame.DataFrame'>\n",
      "Index: 161550 entries, 0 to 164506\n",
      "Data columns (total 24 columns):\n",
      " #   Column                  Non-Null Count   Dtype  \n",
      "---  ------                  --------------   -----  \n",
      " 0   latitude                161550 non-null  float64\n",
      " 1   longitude               161550 non-null  float64\n",
      " 2   year                    161550 non-null  float64\n",
      " 3   povertyPercentage       161550 non-null  float64\n",
      " 4   population              161550 non-null  int64  \n",
      " 5   candidatevotes          161550 non-null  float64\n",
      " 6   right_or_left           161550 non-null  float64\n",
      " 7   voters_over_population  161550 non-null  float64\n",
      " 8   n_participants          161550 non-null  float64\n",
      " 9   n_females               161550 non-null  float64\n",
      " 10  n_teens                 161550 non-null  float64\n",
      " 11  n_children              161550 non-null  float64\n",
      " 12  n_injured               161550 non-null  int64  \n",
      " 13  age_group_[0-11]        161550 non-null  bool   \n",
      " 14  age_group_[12-17]       161550 non-null  bool   \n",
      " 15  age_group_[18-24]       161550 non-null  bool   \n",
      " 16  age_group_[25-34]       161550 non-null  bool   \n",
      " 17  age_group_[35-44]       161550 non-null  bool   \n",
      " 18  age_group_[45-54]       161550 non-null  bool   \n",
      " 19  age_group_[55-64]       161550 non-null  bool   \n",
      " 20  age_group_[65-74]       161550 non-null  bool   \n",
      " 21  age_group_[75-100]      161550 non-null  bool   \n",
      " 22  party_DEMOCRAT          161550 non-null  bool   \n",
      " 23  party_REPUBLICAN        161550 non-null  bool   \n",
      "dtypes: bool(11), float64(11), int64(2)\n",
      "memory usage: 19.0 MB\n"
     ]
    }
   ],
   "source": [
    "import pandas as pd\n",
    "X=pd.get_dummies(X)\n",
    "X.info()"
   ]
  },
  {
   "cell_type": "code",
   "execution_count": 9,
   "metadata": {},
   "outputs": [],
   "source": [
    "import numpy as np\n",
    "import matplotlib.pyplot as plt\n",
    "import wittgenstein as lw\n",
    "from sklearn.model_selection import train_test_split\n",
    "from sklearn.metrics import accuracy_score, precision_score, recall_score, f1_score, confusion_matrix, classification_report"
   ]
  },
  {
   "cell_type": "code",
   "execution_count": 10,
   "metadata": {},
   "outputs": [],
   "source": [
    "X_train, X_test, y_train, y_test = train_test_split(X, y, test_size=0.2, random_state=42)"
   ]
  },
  {
   "cell_type": "code",
   "execution_count": 11,
   "metadata": {},
   "outputs": [
    {
     "name": "stdout",
     "output_type": "stream",
     "text": [
      "discretizing 11 features\n"
     ]
    }
   ],
   "source": [
    "ripper_clf=lw.RIPPER(verbosity=1)\n",
    "ripper_clf.fit(X_train, y_train)\n",
    "y_pred = ripper_clf.predict(X_test)\n",
    "y_pred_train = ripper_clf.predict(X_train)\n",
    "\n",
    "print('Accuracy on training set: ', accuracy_score(y_train, y_pred_train))\n",
    "print('confusion_matrix on training set: \\n', confusion_matrix(y_train, y_pred_train))\n",
    "print('Accuracy on validation set: ', accuracy_score(y_test, y_pred))\n",
    "print('Confusion matrix: \\n', confusion_matrix(y_test, y_pred))\n",
    "print('Classification report: \\n', classification_report(y_test, y_pred))"
   ]
  }
 ],
 "metadata": {
  "kernelspec": {
   "display_name": "Python 3",
   "language": "python",
   "name": "python3"
  },
  "language_info": {
   "codemirror_mode": {
    "name": "ipython",
    "version": 3
   },
   "file_extension": ".py",
   "mimetype": "text/x-python",
   "name": "python",
   "nbconvert_exporter": "python",
   "pygments_lexer": "ipython3",
   "version": "3.12.0"
  }
 },
 "nbformat": 4,
 "nbformat_minor": 2
}
