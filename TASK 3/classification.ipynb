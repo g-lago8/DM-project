{
 "cells": [
  {
   "cell_type": "markdown",
   "source": [
    "# Task 3: Classification"
   ],
   "metadata": {
    "collapsed": false
   }
  },
  {
   "cell_type": "code",
   "execution_count": 1,
   "outputs": [],
   "source": [
    "# imports\n",
    "import numpy as np\n",
    "import pandas as pd\n",
    "from tqdm import tqdm\n",
    "import matplotlib.pyplot as plt\n",
    "import seaborn as sns\n",
    "import sklearn\n",
    "\n",
    "from sklearn.model_selection import train_test_split\n",
    "from sklearn.metrics import accuracy_score, precision_score, recall_score, f1_score, confusion_matrix, classification_report\n",
    "from my_model_selection import grid_search_kfold_cv, evaluate_model"
   ],
   "metadata": {
    "collapsed": false
   }
  },
  {
   "cell_type": "markdown",
   "source": [
    "## 3.1 Classification with all features available"
   ],
   "metadata": {
    "collapsed": false
   }
  },
  {
   "cell_type": "markdown",
   "source": [
    "Our first approach is to use all the features available in the original dataset, and those we created in the previous task from those features.\n",
    "\n",
    "In particular we can use `n_injured`, `n_unharmed` and `n_arrested` to predict `n_killed`. We can also use `n_participants`, `n_participants_adult`, `n_participants_child`, `n_participants_teen`, `n_participants_females` to predict `n_killed`."
   ],
   "metadata": {
    "collapsed": false
   }
  },
  {
   "cell_type": "markdown",
   "source": [
    "### 3.1.1 Preparing data for classification"
   ],
   "metadata": {
    "collapsed": false
   }
  },
  {
   "cell_type": "code",
   "execution_count": 2,
   "metadata": {},
   "outputs": [],
   "source": [
    "# imports\n",
    "import numpy as np\n",
    "import pandas as pd\n",
    "from tqdm import tqdm\n",
    "import matplotlib.pyplot as plt\n",
    "import seaborn as sns\n",
    "import sklearn\n",
    "from sklearn.model_selection import train_test_split"
   ]
  },
  {
   "cell_type": "code",
   "execution_count": 3,
   "metadata": {
    "collapsed": false
   },
   "outputs": [],
   "source": [
    "df_incidents_prepared = pd.read_csv('../dataset_preparation/incidents_prepared.csv', index_col=0)\n",
    "df_orig = pd.read_csv('../dataset_preparation/original_features.csv', index_col=0)"
   ]
  },
  {
   "cell_type": "code",
   "execution_count": 4,
   "outputs": [
    {
     "name": "stdout",
     "output_type": "stream",
     "text": [
      "<class 'pandas.core.frame.DataFrame'>\n",
      "Int64Index: 161550 entries, 0 to 164506\n",
      "Data columns (total 41 columns):\n",
      " #   Column                     Non-Null Count   Dtype  \n",
      "---  ------                     --------------   -----  \n",
      " 0   date                       161550 non-null  object \n",
      " 1   state                      161550 non-null  object \n",
      " 2   city_or_county             161550 non-null  object \n",
      " 3   address                    149848 non-null  object \n",
      " 4   latitude                   161550 non-null  float64\n",
      " 5   longitude                  161550 non-null  float64\n",
      " 6   congressional_district     161550 non-null  float64\n",
      " 7   avg_age_participants       161550 non-null  float64\n",
      " 8   n_killed                   161550 non-null  int64  \n",
      " 9   incident_characteristics1  161550 non-null  object \n",
      " 10  year                       161550 non-null  float64\n",
      " 11  age_group                  161550 non-null  object \n",
      " 12  povertyPercentage          161550 non-null  float64\n",
      " 13  population                 161550 non-null  int64  \n",
      " 14  party                      161550 non-null  object \n",
      " 15  candidatevotes             161550 non-null  float64\n",
      " 16  severity                   161550 non-null  float64\n",
      " 17  severity_cat               161550 non-null  object \n",
      " 18  severity_minor             161550 non-null  float64\n",
      " 19  year_month                 161550 non-null  object \n",
      " 20  killed_by_district         161550 non-null  float64\n",
      " 21  injured_by_district        161550 non-null  float64\n",
      " 22  arrested_ratio             161550 non-null  float64\n",
      " 23  unharmed_ratio             161550 non-null  float64\n",
      " 24  right_or_left              161550 non-null  float64\n",
      " 25  dfm_district_killed        161550 non-null  float64\n",
      " 26  dfm_district_injured       161550 non-null  float64\n",
      " 27  dfm_district_participants  161550 non-null  float64\n",
      " 28  dfm_district_child         161550 non-null  float64\n",
      " 29  dfm_district_teen          161550 non-null  float64\n",
      " 30  dfm_district_females       161550 non-null  float64\n",
      " 31  voters_over_population     161550 non-null  float64\n",
      " 32  n_arrested                 161550 non-null  float64\n",
      " 33  n_participants             161550 non-null  float64\n",
      " 34  n_participants_adult       161550 non-null  float64\n",
      " 35  n_participants_teen        161550 non-null  float64\n",
      " 36  n_participants_child       161550 non-null  float64\n",
      " 37  n_females                  161550 non-null  float64\n",
      " 38  n_males                    161550 non-null  float64\n",
      " 39  n_injured                  161550 non-null  int64  \n",
      " 40  n_unharmed                 161550 non-null  float64\n",
      "dtypes: float64(29), int64(3), object(9)\n",
      "memory usage: 55.8+ MB\n"
     ]
    }
   ],
   "source": [
    "df_incidents_prepared=df_incidents_prepared.join(df_orig)\n",
    "df_incidents_prepared.info()"
   ],
   "metadata": {
    "collapsed": false
   }
  },
  {
   "cell_type": "markdown",
   "source": [
    "Now, `incidents_prepared` is the whole dataset with both original features and features created by us.\n",
    "We decided to use only the original features for what concerns the gender and age groups of the participants: we kept `n_participants`, `n_participants_adult`, `n_participants_child`, `n_participants_teen`, `n_participants_females`. We dropped `n_participants_male` because it is highly correlated with `n_participants`."
   ],
   "metadata": {
    "collapsed": false
   }
  },
  {
   "cell_type": "code",
   "execution_count": 5,
   "outputs": [],
   "source": [
    "df_incidents_prepared['isKilled'] = df_incidents_prepared['n_killed'] > 0"
   ],
   "metadata": {
    "collapsed": false
   }
  },
  {
   "cell_type": "code",
   "execution_count": 6,
   "metadata": {},
   "outputs": [],
   "source": [
    "cols2drop=[\n",
    "            #categorical features difficult to encode\n",
    "           'address', 'city_or_county','congressional_district','date','state', 'year_month',\n",
    "           'avg_age_participants', # we already have age_group\n",
    "           'n_killed',  #label\n",
    "           'incident_characteristics1', # too similar to the label isKilled\n",
    "           'severity', 'severity_cat', # created from n_killed\n",
    "\n",
    "           # we decided to use original features n_females, n_injured etc. all those features are highly correlated. We decided to keep the original features because they are more interpretable\n",
    "           'killed_by_district','injured_by_district', 'dfm_district_killed','dfm_district_injured', 'dfm_district_participants', 'dfm_district_child', 'dfm_district_teen', 'dfm_district_females', 'arrested_ratio', 'unharmed_ratio', 'severity_minor',\n",
    "\n",
    "           # correlated with n_participants\n",
    "            'n_participants_adult'\n",
    "            ]\n",
    "df_incidents_prepared=df_incidents_prepared.drop(cols2drop, axis=1)"
   ]
  },
  {
   "cell_type": "code",
   "execution_count": 7,
   "outputs": [
    {
     "name": "stdout",
     "output_type": "stream",
     "text": [
      "<class 'pandas.core.frame.DataFrame'>\n",
      "Int64Index: 161550 entries, 0 to 164506\n",
      "Data columns (total 19 columns):\n",
      " #   Column                  Non-Null Count   Dtype  \n",
      "---  ------                  --------------   -----  \n",
      " 0   latitude                161550 non-null  float64\n",
      " 1   longitude               161550 non-null  float64\n",
      " 2   year                    161550 non-null  float64\n",
      " 3   age_group               161550 non-null  object \n",
      " 4   povertyPercentage       161550 non-null  float64\n",
      " 5   population              161550 non-null  int64  \n",
      " 6   party                   161550 non-null  object \n",
      " 7   candidatevotes          161550 non-null  float64\n",
      " 8   right_or_left           161550 non-null  float64\n",
      " 9   voters_over_population  161550 non-null  float64\n",
      " 10  n_arrested              161550 non-null  float64\n",
      " 11  n_participants          161550 non-null  float64\n",
      " 12  n_participants_teen     161550 non-null  float64\n",
      " 13  n_participants_child    161550 non-null  float64\n",
      " 14  n_females               161550 non-null  float64\n",
      " 15  n_males                 161550 non-null  float64\n",
      " 16  n_injured               161550 non-null  int64  \n",
      " 17  n_unharmed              161550 non-null  float64\n",
      " 18  isKilled                161550 non-null  bool   \n",
      "dtypes: bool(1), float64(14), int64(2), object(2)\n",
      "memory usage: 27.6+ MB\n"
     ]
    }
   ],
   "source": [
    "df_incidents_prepared.info()"
   ],
   "metadata": {
    "collapsed": false
   }
  },
  {
   "cell_type": "code",
   "execution_count": 8,
   "metadata": {},
   "outputs": [],
   "source": [
    "X=df_incidents_prepared.drop('isKilled', axis=1)\n",
    "y=df_incidents_prepared['isKilled']"
   ]
  },
  {
   "cell_type": "code",
   "execution_count": 9,
   "outputs": [
    {
     "data": {
      "text/plain": "   latitude  longitude    year age_group  povertyPercentage  population  \\\n0   39.8322   -86.2492  2015.0   [18-24]               12.3     6608422   \n1   39.7745   -86.1166  2015.0   [25-34]               12.3     6608422   \n2   39.7759   -86.2940  2015.0   [35-44]               12.3     6608422   \n3   39.8040   -86.0095  2015.0   [18-24]               12.3     6608422   \n4   39.7882   -86.2091  2015.0   [45-54]               12.3     6608422   \n\n      party  candidatevotes  right_or_left  voters_over_population  \\\n0  DEMOCRAT         61443.0       0.452677                0.203046   \n1  DEMOCRAT         61443.0       0.452677                0.203046   \n2  DEMOCRAT         61443.0       0.452677                0.203046   \n3  DEMOCRAT         61443.0       0.452677                0.203046   \n4  DEMOCRAT         61443.0       0.452677                0.203046   \n\n   n_arrested  n_participants  n_participants_teen  n_participants_child  \\\n0         0.0             1.0                  0.0                   0.0   \n1         1.0             2.0                  0.0                   0.0   \n2         1.0             2.0                  0.0                   0.0   \n3         0.0             1.0                  0.0                   0.0   \n4         0.0             1.0                  0.0                   0.0   \n\n   n_females  n_males  n_injured  n_unharmed  \n0        0.0      1.0          1         0.0  \n1        0.0      2.0          0         0.0  \n2        0.0      2.0          0         0.0  \n3        0.0      1.0          0         0.0  \n4        0.0      1.0          1         0.0  ",
      "text/html": "<div>\n<style scoped>\n    .dataframe tbody tr th:only-of-type {\n        vertical-align: middle;\n    }\n\n    .dataframe tbody tr th {\n        vertical-align: top;\n    }\n\n    .dataframe thead th {\n        text-align: right;\n    }\n</style>\n<table border=\"1\" class=\"dataframe\">\n  <thead>\n    <tr style=\"text-align: right;\">\n      <th></th>\n      <th>latitude</th>\n      <th>longitude</th>\n      <th>year</th>\n      <th>age_group</th>\n      <th>povertyPercentage</th>\n      <th>population</th>\n      <th>party</th>\n      <th>candidatevotes</th>\n      <th>right_or_left</th>\n      <th>voters_over_population</th>\n      <th>n_arrested</th>\n      <th>n_participants</th>\n      <th>n_participants_teen</th>\n      <th>n_participants_child</th>\n      <th>n_females</th>\n      <th>n_males</th>\n      <th>n_injured</th>\n      <th>n_unharmed</th>\n    </tr>\n  </thead>\n  <tbody>\n    <tr>\n      <th>0</th>\n      <td>39.8322</td>\n      <td>-86.2492</td>\n      <td>2015.0</td>\n      <td>[18-24]</td>\n      <td>12.3</td>\n      <td>6608422</td>\n      <td>DEMOCRAT</td>\n      <td>61443.0</td>\n      <td>0.452677</td>\n      <td>0.203046</td>\n      <td>0.0</td>\n      <td>1.0</td>\n      <td>0.0</td>\n      <td>0.0</td>\n      <td>0.0</td>\n      <td>1.0</td>\n      <td>1</td>\n      <td>0.0</td>\n    </tr>\n    <tr>\n      <th>1</th>\n      <td>39.7745</td>\n      <td>-86.1166</td>\n      <td>2015.0</td>\n      <td>[25-34]</td>\n      <td>12.3</td>\n      <td>6608422</td>\n      <td>DEMOCRAT</td>\n      <td>61443.0</td>\n      <td>0.452677</td>\n      <td>0.203046</td>\n      <td>1.0</td>\n      <td>2.0</td>\n      <td>0.0</td>\n      <td>0.0</td>\n      <td>0.0</td>\n      <td>2.0</td>\n      <td>0</td>\n      <td>0.0</td>\n    </tr>\n    <tr>\n      <th>2</th>\n      <td>39.7759</td>\n      <td>-86.2940</td>\n      <td>2015.0</td>\n      <td>[35-44]</td>\n      <td>12.3</td>\n      <td>6608422</td>\n      <td>DEMOCRAT</td>\n      <td>61443.0</td>\n      <td>0.452677</td>\n      <td>0.203046</td>\n      <td>1.0</td>\n      <td>2.0</td>\n      <td>0.0</td>\n      <td>0.0</td>\n      <td>0.0</td>\n      <td>2.0</td>\n      <td>0</td>\n      <td>0.0</td>\n    </tr>\n    <tr>\n      <th>3</th>\n      <td>39.8040</td>\n      <td>-86.0095</td>\n      <td>2015.0</td>\n      <td>[18-24]</td>\n      <td>12.3</td>\n      <td>6608422</td>\n      <td>DEMOCRAT</td>\n      <td>61443.0</td>\n      <td>0.452677</td>\n      <td>0.203046</td>\n      <td>0.0</td>\n      <td>1.0</td>\n      <td>0.0</td>\n      <td>0.0</td>\n      <td>0.0</td>\n      <td>1.0</td>\n      <td>0</td>\n      <td>0.0</td>\n    </tr>\n    <tr>\n      <th>4</th>\n      <td>39.7882</td>\n      <td>-86.2091</td>\n      <td>2015.0</td>\n      <td>[45-54]</td>\n      <td>12.3</td>\n      <td>6608422</td>\n      <td>DEMOCRAT</td>\n      <td>61443.0</td>\n      <td>0.452677</td>\n      <td>0.203046</td>\n      <td>0.0</td>\n      <td>1.0</td>\n      <td>0.0</td>\n      <td>0.0</td>\n      <td>0.0</td>\n      <td>1.0</td>\n      <td>1</td>\n      <td>0.0</td>\n    </tr>\n  </tbody>\n</table>\n</div>"
     },
     "execution_count": 9,
     "metadata": {},
     "output_type": "execute_result"
    }
   ],
   "source": [
    "X.head()"
   ],
   "metadata": {
    "collapsed": false
   }
  },
  {
   "cell_type": "markdown",
   "source": [
    "One Hot Encoding of categorical features"
   ],
   "metadata": {
    "collapsed": false
   }
  },
  {
   "cell_type": "code",
   "execution_count": 10,
   "metadata": {},
   "outputs": [
    {
     "name": "stdout",
     "output_type": "stream",
     "text": [
      "<class 'pandas.core.frame.DataFrame'>\n",
      "Int64Index: 161550 entries, 0 to 164506\n",
      "Data columns (total 27 columns):\n",
      " #   Column                  Non-Null Count   Dtype  \n",
      "---  ------                  --------------   -----  \n",
      " 0   latitude                161550 non-null  float64\n",
      " 1   longitude               161550 non-null  float64\n",
      " 2   year                    161550 non-null  float64\n",
      " 3   povertyPercentage       161550 non-null  float64\n",
      " 4   population              161550 non-null  int64  \n",
      " 5   candidatevotes          161550 non-null  float64\n",
      " 6   right_or_left           161550 non-null  float64\n",
      " 7   voters_over_population  161550 non-null  float64\n",
      " 8   n_arrested              161550 non-null  float64\n",
      " 9   n_participants          161550 non-null  float64\n",
      " 10  n_participants_teen     161550 non-null  float64\n",
      " 11  n_participants_child    161550 non-null  float64\n",
      " 12  n_females               161550 non-null  float64\n",
      " 13  n_males                 161550 non-null  float64\n",
      " 14  n_injured               161550 non-null  int64  \n",
      " 15  n_unharmed              161550 non-null  float64\n",
      " 16  age_group_[0-11]        161550 non-null  uint8  \n",
      " 17  age_group_[12-17]       161550 non-null  uint8  \n",
      " 18  age_group_[18-24]       161550 non-null  uint8  \n",
      " 19  age_group_[25-34]       161550 non-null  uint8  \n",
      " 20  age_group_[35-44]       161550 non-null  uint8  \n",
      " 21  age_group_[45-54]       161550 non-null  uint8  \n",
      " 22  age_group_[55-64]       161550 non-null  uint8  \n",
      " 23  age_group_[65-74]       161550 non-null  uint8  \n",
      " 24  age_group_[75-100]      161550 non-null  uint8  \n",
      " 25  party_DEMOCRAT          161550 non-null  uint8  \n",
      " 26  party_REPUBLICAN        161550 non-null  uint8  \n",
      "dtypes: float64(14), int64(2), uint8(11)\n",
      "memory usage: 26.7 MB\n"
     ]
    }
   ],
   "source": [
    "import pandas as pd\n",
    "X=pd.get_dummies(X)\n",
    "X.info()"
   ]
  },
  {
   "cell_type": "markdown",
   "source": [
    "### 3.1.2 Splitting data into train and test set"
   ],
   "metadata": {
    "collapsed": false
   }
  },
  {
   "cell_type": "code",
   "execution_count": 11,
   "outputs": [],
   "source": [
    "from sklearn.model_selection import train_test_split\n",
    "X_train, X_test, y_train, y_test = train_test_split(X, y, stratify=y, test_size=0.2, random_state=42)"
   ],
   "metadata": {
    "collapsed": false
   }
  },
  {
   "cell_type": "markdown",
   "source": [
    "### 3.1.3 Logistic Regression"
   ],
   "metadata": {
    "collapsed": false
   }
  },
  {
   "cell_type": "code",
   "execution_count": 12,
   "outputs": [],
   "source": [
    "from sklearn.preprocessing import StandardScaler\n",
    "from sklearn.linear_model import LogisticRegression"
   ],
   "metadata": {
    "collapsed": false
   }
  },
  {
   "cell_type": "code",
   "execution_count": 13,
   "outputs": [],
   "source": [
    "scaler = StandardScaler()\n",
    "X_train_scaled=scaler.fit_transform(X_train)\n",
    "X_test_scaled=scaler.transform(X_test)"
   ],
   "metadata": {
    "collapsed": false
   }
  },
  {
   "cell_type": "code",
   "execution_count": 14,
   "outputs": [
    {
     "data": {
      "text/plain": "LogisticRegression()",
      "text/html": "<style>#sk-container-id-1 {color: black;background-color: white;}#sk-container-id-1 pre{padding: 0;}#sk-container-id-1 div.sk-toggleable {background-color: white;}#sk-container-id-1 label.sk-toggleable__label {cursor: pointer;display: block;width: 100%;margin-bottom: 0;padding: 0.3em;box-sizing: border-box;text-align: center;}#sk-container-id-1 label.sk-toggleable__label-arrow:before {content: \"▸\";float: left;margin-right: 0.25em;color: #696969;}#sk-container-id-1 label.sk-toggleable__label-arrow:hover:before {color: black;}#sk-container-id-1 div.sk-estimator:hover label.sk-toggleable__label-arrow:before {color: black;}#sk-container-id-1 div.sk-toggleable__content {max-height: 0;max-width: 0;overflow: hidden;text-align: left;background-color: #f0f8ff;}#sk-container-id-1 div.sk-toggleable__content pre {margin: 0.2em;color: black;border-radius: 0.25em;background-color: #f0f8ff;}#sk-container-id-1 input.sk-toggleable__control:checked~div.sk-toggleable__content {max-height: 200px;max-width: 100%;overflow: auto;}#sk-container-id-1 input.sk-toggleable__control:checked~label.sk-toggleable__label-arrow:before {content: \"▾\";}#sk-container-id-1 div.sk-estimator input.sk-toggleable__control:checked~label.sk-toggleable__label {background-color: #d4ebff;}#sk-container-id-1 div.sk-label input.sk-toggleable__control:checked~label.sk-toggleable__label {background-color: #d4ebff;}#sk-container-id-1 input.sk-hidden--visually {border: 0;clip: rect(1px 1px 1px 1px);clip: rect(1px, 1px, 1px, 1px);height: 1px;margin: -1px;overflow: hidden;padding: 0;position: absolute;width: 1px;}#sk-container-id-1 div.sk-estimator {font-family: monospace;background-color: #f0f8ff;border: 1px dotted black;border-radius: 0.25em;box-sizing: border-box;margin-bottom: 0.5em;}#sk-container-id-1 div.sk-estimator:hover {background-color: #d4ebff;}#sk-container-id-1 div.sk-parallel-item::after {content: \"\";width: 100%;border-bottom: 1px solid gray;flex-grow: 1;}#sk-container-id-1 div.sk-label:hover label.sk-toggleable__label {background-color: #d4ebff;}#sk-container-id-1 div.sk-serial::before {content: \"\";position: absolute;border-left: 1px solid gray;box-sizing: border-box;top: 0;bottom: 0;left: 50%;z-index: 0;}#sk-container-id-1 div.sk-serial {display: flex;flex-direction: column;align-items: center;background-color: white;padding-right: 0.2em;padding-left: 0.2em;position: relative;}#sk-container-id-1 div.sk-item {position: relative;z-index: 1;}#sk-container-id-1 div.sk-parallel {display: flex;align-items: stretch;justify-content: center;background-color: white;position: relative;}#sk-container-id-1 div.sk-item::before, #sk-container-id-1 div.sk-parallel-item::before {content: \"\";position: absolute;border-left: 1px solid gray;box-sizing: border-box;top: 0;bottom: 0;left: 50%;z-index: -1;}#sk-container-id-1 div.sk-parallel-item {display: flex;flex-direction: column;z-index: 1;position: relative;background-color: white;}#sk-container-id-1 div.sk-parallel-item:first-child::after {align-self: flex-end;width: 50%;}#sk-container-id-1 div.sk-parallel-item:last-child::after {align-self: flex-start;width: 50%;}#sk-container-id-1 div.sk-parallel-item:only-child::after {width: 0;}#sk-container-id-1 div.sk-dashed-wrapped {border: 1px dashed gray;margin: 0 0.4em 0.5em 0.4em;box-sizing: border-box;padding-bottom: 0.4em;background-color: white;}#sk-container-id-1 div.sk-label label {font-family: monospace;font-weight: bold;display: inline-block;line-height: 1.2em;}#sk-container-id-1 div.sk-label-container {text-align: center;}#sk-container-id-1 div.sk-container {/* jupyter's `normalize.less` sets `[hidden] { display: none; }` but bootstrap.min.css set `[hidden] { display: none !important; }` so we also need the `!important` here to be able to override the default hidden behavior on the sphinx rendered scikit-learn.org. See: https://github.com/scikit-learn/scikit-learn/issues/21755 */display: inline-block !important;position: relative;}#sk-container-id-1 div.sk-text-repr-fallback {display: none;}</style><div id=\"sk-container-id-1\" class=\"sk-top-container\"><div class=\"sk-text-repr-fallback\"><pre>LogisticRegression()</pre><b>In a Jupyter environment, please rerun this cell to show the HTML representation or trust the notebook. <br />On GitHub, the HTML representation is unable to render, please try loading this page with nbviewer.org.</b></div><div class=\"sk-container\" hidden><div class=\"sk-item\"><div class=\"sk-estimator sk-toggleable\"><input class=\"sk-toggleable__control sk-hidden--visually\" id=\"sk-estimator-id-1\" type=\"checkbox\" checked><label for=\"sk-estimator-id-1\" class=\"sk-toggleable__label sk-toggleable__label-arrow\">LogisticRegression</label><div class=\"sk-toggleable__content\"><pre>LogisticRegression()</pre></div></div></div></div></div>"
     },
     "execution_count": 14,
     "metadata": {},
     "output_type": "execute_result"
    }
   ],
   "source": [
    "# fitting the model\n",
    "logreg = LogisticRegression()\n",
    "logreg.fit(X_train_scaled, y_train)"
   ],
   "metadata": {
    "collapsed": false
   }
  },
  {
   "cell_type": "code",
   "execution_count": 15,
   "outputs": [],
   "source": [
    "# predictions\n",
    "y_pred = logreg.predict(X_test_scaled)\n",
    "y_pred_train = logreg.predict(X_train_scaled)"
   ],
   "metadata": {
    "collapsed": false
   }
  },
  {
   "cell_type": "code",
   "execution_count": 16,
   "outputs": [
    {
     "name": "stdout",
     "output_type": "stream",
     "text": [
      "Accuracy on training set:  0.9764159702878366\n",
      "confusion_matrix on training set: \n",
      " [[90595  2310]\n",
      " [  738 35597]]\n",
      "Accuracy on validation set:  0.9776539770968741\n",
      "Confusion matrix: \n",
      " [[22685   541]\n",
      " [  181  8903]]\n",
      "Classification report: \n",
      "               precision    recall  f1-score   support\n",
      "\n",
      "       False       0.99      0.98      0.98     23226\n",
      "        True       0.94      0.98      0.96      9084\n",
      "\n",
      "    accuracy                           0.98     32310\n",
      "   macro avg       0.97      0.98      0.97     32310\n",
      "weighted avg       0.98      0.98      0.98     32310\n",
      "\n"
     ]
    }
   ],
   "source": [
    "# metrics\n",
    "results_logreg = evaluate_model(logreg, X_train_scaled, y_train, X_test_scaled, y_test)"
   ],
   "metadata": {
    "collapsed": false
   }
  },
  {
   "cell_type": "code",
   "execution_count": 17,
   "outputs": [
    {
     "data": {
      "text/plain": "<Axes: >"
     },
     "execution_count": 17,
     "metadata": {},
     "output_type": "execute_result"
    },
    {
     "data": {
      "text/plain": "<Figure size 640x480 with 2 Axes>",
      "image/png": "[encoded data removed]"
     },
     "metadata": {},
     "output_type": "display_data"
    }
   ],
   "source": [
    "# plot confusion matrix\n",
    "sns.heatmap(confusion_matrix(y_test, y_pred), annot=True, fmt='d', cmap='Blues')"
   ],
   "metadata": {
    "collapsed": false
   }
  },
  {
   "cell_type": "markdown",
   "source": [
    "### Decision tree"
   ],
   "metadata": {
    "collapsed": false
   }
  },
  {
   "cell_type": "code",
   "execution_count": 18,
   "outputs": [],
   "source": [
    "from sklearn.tree import DecisionTreeClassifier"
   ],
   "metadata": {
    "collapsed": false
   }
  },
  {
   "cell_type": "markdown",
   "source": [],
   "metadata": {
    "collapsed": false
   }
  },
  {
   "cell_type": "code",
   "execution_count": 19,
   "outputs": [
    {
     "name": "stdout",
     "output_type": "stream",
     "text": [
      "Accuracy on training set:  0.9879294336118849\n",
      "confusion_matrix on training set: \n",
      " [[92058   847]\n",
      " [  713 35622]]\n",
      "Accuracy on validation set:  0.978149179820489\n",
      "Confusion matrix: \n",
      " [[22859   367]\n",
      " [  339  8745]]\n",
      "Classification report: \n",
      "               precision    recall  f1-score   support\n",
      "\n",
      "       False       0.99      0.98      0.98     23226\n",
      "        True       0.96      0.96      0.96      9084\n",
      "\n",
      "    accuracy                           0.98     32310\n",
      "   macro avg       0.97      0.97      0.97     32310\n",
      "weighted avg       0.98      0.98      0.98     32310\n",
      "\n"
     ]
    }
   ],
   "source": [
    "# grid search\n",
    "from sklearn.model_selection import GridSearchCV\n",
    "param_grid = {'max_depth': [4, 8, 16],\n",
    "              'min_samples_split': [2,4, 8, 16],\n",
    "              'criterion': ['gini', 'entropy']\n",
    "}\n",
    "best_param_dt, best_tree, results_dt = grid_search_kfold_cv(model_class=DecisionTreeClassifier, param_grid=param_grid, X_train=X_train, y_train=y_train, X_test=X_test, y_test=y_test,  cv=3, metric='f1', eval=True)"
   ],
   "metadata": {
    "collapsed": false
   }
  },
  {
   "cell_type": "markdown",
   "source": [
    "### K-nearest neighbors\n"
   ],
   "metadata": {
    "collapsed": false
   }
  },
  {
   "cell_type": "code",
   "execution_count": 20,
   "outputs": [],
   "source": [
    "from sklearn.neighbors import KNeighborsClassifier"
   ],
   "metadata": {
    "collapsed": false
   }
  },
  {
   "cell_type": "code",
   "execution_count": 21,
   "outputs": [
    {
     "name": "stderr",
     "output_type": "stream",
     "text": [
      "100%|██████████| 9/9 [01:41<00:00, 11.30s/it]\n"
     ]
    }
   ],
   "source": [
    "# grid search\n",
    "accuracy_scores = []\n",
    "f1_scores =[]\n",
    "for i in tqdm(range(1, 10)):\n",
    "    knn = KNeighborsClassifier(n_neighbors=i)\n",
    "    knn.fit(X_train, y_train)\n",
    "    y_pred = knn.predict(X_test)\n",
    "    accuracy_scores.append(accuracy_score(y_test, y_pred))\n",
    "    f1_scores.append(f1_score(y_test, y_pred))"
   ],
   "metadata": {
    "collapsed": false
   }
  },
  {
   "cell_type": "code",
   "execution_count": 22,
   "outputs": [
    {
     "data": {
      "text/plain": "[<matplotlib.lines.Line2D at 0x1a16a4df2e0>]"
     },
     "execution_count": 22,
     "metadata": {},
     "output_type": "execute_result"
    },
    {
     "data": {
      "text/plain": "<Figure size 640x480 with 1 Axes>",
      "image/png": "[encoded data removed]"
     },
     "metadata": {},
     "output_type": "display_data"
    }
   ],
   "source": [
    "plt.plot(range(1, 10), accuracy_scores)\n",
    "plt.plot(range(1, 10), f1_scores)"
   ],
   "metadata": {
    "collapsed": false
   }
  },
  {
   "cell_type": "code",
   "execution_count": 22,
   "outputs": [],
   "source": [],
   "metadata": {
    "collapsed": false
   }
  },
  {
   "cell_type": "markdown",
   "source": [
    "### Discussion\n",
    "\n",
    "We can see that the arguably simpler model of them all is almost perfect, with an accuracy of $97.8\\%$ on the test set, and a F1-score of $0.97$.\n",
    "Our hypothesis is that the task is almost linear due to the fact that we have the features `n_injured` and `n_unharmed`. While those two features are not directly correlated to the label, it's easy to understand that $ n_{killed} \\approx n_{participants}- n_{injured}- n_{unharmed} -n_{arrested}$        in the majority of cases.\n",
    "\n",
    "We can verify our hypothesis by looking at the weights of the model:"
   ],
   "metadata": {
    "collapsed": false
   }
  },
  {
   "cell_type": "code",
   "execution_count": 23,
   "outputs": [
    {
     "name": "stdout",
     "output_type": "stream",
     "text": [
      "latitude -0.25124512786869685\n",
      "longitude -0.13040202157530473\n",
      "year 0.1283046129092459\n",
      "povertyPercentage -0.12676654016593625\n",
      "population -0.05025305344812988\n",
      "candidatevotes -0.0005995221194863229\n",
      "right_or_left -0.11980699244902059\n",
      "voters_over_population -0.11692770999880574\n",
      "n_arrested -6.15593309302245\n",
      "n_participants 6.468147365022189\n",
      "n_participants_teen 0.12357442760426762\n",
      "n_participants_child 0.08677346773359136\n",
      "n_females 0.7730949225546132\n",
      "n_males 1.707187146907592\n",
      "n_injured -5.472209128545939\n",
      "n_unharmed -6.485716478011078\n",
      "age_group_[0-11] -0.10603199934586036\n",
      "age_group_[12-17] -0.17925186895512008\n",
      "age_group_[18-24] -0.04170864107591622\n",
      "age_group_[25-34] 0.04768282902528395\n",
      "age_group_[35-44] 0.08920300558248082\n",
      "age_group_[45-54] 0.037578045018967374\n",
      "age_group_[55-64] 0.05641123432518574\n",
      "age_group_[65-74] 0.008325213194440679\n",
      "age_group_[75-100] 0.010692710057670833\n",
      "party_DEMOCRAT 0.011134922449219741\n",
      "party_REPUBLICAN -0.011134922449219741\n"
     ]
    }
   ],
   "source": [
    "for feature, weight in zip(X.columns, logreg.coef_[0]):\n",
    "    print(feature, weight)"
   ],
   "metadata": {
    "collapsed": false
   }
  },
  {
   "cell_type": "markdown",
   "source": [
    "We see that the order of magnitude of the weights is between $O(1)$ and $O(10)$, for the aforementioned features, while is smaller ($O(10^{-1})$ to $O(10^{-3})$) for almost all the other. This means that the leading computation is $n_{participants}- n_{injured} - n_{unharmed} - n_{arrested}$."
   ],
   "metadata": {
    "collapsed": false
   }
  },
  {
   "cell_type": "markdown",
   "source": [
    "For this reason, we decided to not use the features `n_injured`, `n_unharmed` and `n_arrested` in the following models."
   ],
   "metadata": {
    "collapsed": false
   }
  },
  {
   "cell_type": "markdown",
   "source": [
    "## 3.2 Classification without 'n_injured', 'n_unharmed', and 'n_arrested'\n",
    "\n",
    "We have seen that keeping those features leads to great results in classification, even with a simple model like logistic regression.\n",
    "That is because `n_participants` $\\approx$ `n_injured` + `n_unharmed` + `n_arrested`+ `n_killed`.\n",
    "We decided to drop those features because, if the number of killed is unknown, it is reasonable that the number of injured, unharmed and arrested could also be unknown."
   ],
   "metadata": {
    "collapsed": false
   }
  },
  {
   "cell_type": "code",
   "execution_count": 24,
   "outputs": [],
   "source": [
    "X2=X.drop(['n_injured', 'n_unharmed', 'n_arrested'], axis=1)"
   ],
   "metadata": {
    "collapsed": false
   }
  },
  {
   "cell_type": "code",
   "execution_count": 25,
   "outputs": [
    {
     "data": {
      "text/plain": "   latitude  longitude    year  povertyPercentage  population  candidatevotes  \\\n0   39.8322   -86.2492  2015.0               12.3     6608422         61443.0   \n1   39.7745   -86.1166  2015.0               12.3     6608422         61443.0   \n2   39.7759   -86.2940  2015.0               12.3     6608422         61443.0   \n3   39.8040   -86.0095  2015.0               12.3     6608422         61443.0   \n4   39.7882   -86.2091  2015.0               12.3     6608422         61443.0   \n\n   right_or_left  voters_over_population  n_participants  n_participants_teen  \\\n0       0.452677                0.203046             1.0                  0.0   \n1       0.452677                0.203046             2.0                  0.0   \n2       0.452677                0.203046             2.0                  0.0   \n3       0.452677                0.203046             1.0                  0.0   \n4       0.452677                0.203046             1.0                  0.0   \n\n   ...  age_group_[12-17]  age_group_[18-24]  age_group_[25-34]  \\\n0  ...                  0                  1                  0   \n1  ...                  0                  0                  1   \n2  ...                  0                  0                  0   \n3  ...                  0                  1                  0   \n4  ...                  0                  0                  0   \n\n   age_group_[35-44]  age_group_[45-54]  age_group_[55-64]  age_group_[65-74]  \\\n0                  0                  0                  0                  0   \n1                  0                  0                  0                  0   \n2                  1                  0                  0                  0   \n3                  0                  0                  0                  0   \n4                  0                  1                  0                  0   \n\n   age_group_[75-100]  party_DEMOCRAT  party_REPUBLICAN  \n0                   0               1                 0  \n1                   0               1                 0  \n2                   0               1                 0  \n3                   0               1                 0  \n4                   0               1                 0  \n\n[5 rows x 24 columns]",
      "text/html": "<div>\n<style scoped>\n    .dataframe tbody tr th:only-of-type {\n        vertical-align: middle;\n    }\n\n    .dataframe tbody tr th {\n        vertical-align: top;\n    }\n\n    .dataframe thead th {\n        text-align: right;\n    }\n</style>\n<table border=\"1\" class=\"dataframe\">\n  <thead>\n    <tr style=\"text-align: right;\">\n      <th></th>\n      <th>latitude</th>\n      <th>longitude</th>\n      <th>year</th>\n      <th>povertyPercentage</th>\n      <th>population</th>\n      <th>candidatevotes</th>\n      <th>right_or_left</th>\n      <th>voters_over_population</th>\n      <th>n_participants</th>\n      <th>n_participants_teen</th>\n      <th>...</th>\n      <th>age_group_[12-17]</th>\n      <th>age_group_[18-24]</th>\n      <th>age_group_[25-34]</th>\n      <th>age_group_[35-44]</th>\n      <th>age_group_[45-54]</th>\n      <th>age_group_[55-64]</th>\n      <th>age_group_[65-74]</th>\n      <th>age_group_[75-100]</th>\n      <th>party_DEMOCRAT</th>\n      <th>party_REPUBLICAN</th>\n    </tr>\n  </thead>\n  <tbody>\n    <tr>\n      <th>0</th>\n      <td>39.8322</td>\n      <td>-86.2492</td>\n      <td>2015.0</td>\n      <td>12.3</td>\n      <td>6608422</td>\n      <td>61443.0</td>\n      <td>0.452677</td>\n      <td>0.203046</td>\n      <td>1.0</td>\n      <td>0.0</td>\n      <td>...</td>\n      <td>0</td>\n      <td>1</td>\n      <td>0</td>\n      <td>0</td>\n      <td>0</td>\n      <td>0</td>\n      <td>0</td>\n      <td>0</td>\n      <td>1</td>\n      <td>0</td>\n    </tr>\n    <tr>\n      <th>1</th>\n      <td>39.7745</td>\n      <td>-86.1166</td>\n      <td>2015.0</td>\n      <td>12.3</td>\n      <td>6608422</td>\n      <td>61443.0</td>\n      <td>0.452677</td>\n      <td>0.203046</td>\n      <td>2.0</td>\n      <td>0.0</td>\n      <td>...</td>\n      <td>0</td>\n      <td>0</td>\n      <td>1</td>\n      <td>0</td>\n      <td>0</td>\n      <td>0</td>\n      <td>0</td>\n      <td>0</td>\n      <td>1</td>\n      <td>0</td>\n    </tr>\n    <tr>\n      <th>2</th>\n      <td>39.7759</td>\n      <td>-86.2940</td>\n      <td>2015.0</td>\n      <td>12.3</td>\n      <td>6608422</td>\n      <td>61443.0</td>\n      <td>0.452677</td>\n      <td>0.203046</td>\n      <td>2.0</td>\n      <td>0.0</td>\n      <td>...</td>\n      <td>0</td>\n      <td>0</td>\n      <td>0</td>\n      <td>1</td>\n      <td>0</td>\n      <td>0</td>\n      <td>0</td>\n      <td>0</td>\n      <td>1</td>\n      <td>0</td>\n    </tr>\n    <tr>\n      <th>3</th>\n      <td>39.8040</td>\n      <td>-86.0095</td>\n      <td>2015.0</td>\n      <td>12.3</td>\n      <td>6608422</td>\n      <td>61443.0</td>\n      <td>0.452677</td>\n      <td>0.203046</td>\n      <td>1.0</td>\n      <td>0.0</td>\n      <td>...</td>\n      <td>0</td>\n      <td>1</td>\n      <td>0</td>\n      <td>0</td>\n      <td>0</td>\n      <td>0</td>\n      <td>0</td>\n      <td>0</td>\n      <td>1</td>\n      <td>0</td>\n    </tr>\n    <tr>\n      <th>4</th>\n      <td>39.7882</td>\n      <td>-86.2091</td>\n      <td>2015.0</td>\n      <td>12.3</td>\n      <td>6608422</td>\n      <td>61443.0</td>\n      <td>0.452677</td>\n      <td>0.203046</td>\n      <td>1.0</td>\n      <td>0.0</td>\n      <td>...</td>\n      <td>0</td>\n      <td>0</td>\n      <td>0</td>\n      <td>0</td>\n      <td>1</td>\n      <td>0</td>\n      <td>0</td>\n      <td>0</td>\n      <td>1</td>\n      <td>0</td>\n    </tr>\n  </tbody>\n</table>\n<p>5 rows × 24 columns</p>\n</div>"
     },
     "execution_count": 25,
     "metadata": {},
     "output_type": "execute_result"
    }
   ],
   "source": [
    "X2.head()"
   ],
   "metadata": {
    "collapsed": false
   }
  },
  {
   "cell_type": "code",
   "execution_count": 26,
   "outputs": [],
   "source": [
    "X2_train, X2_test, y_train, y_test = train_test_split(X2, y, stratify=y, test_size=0.2, random_state=42)"
   ],
   "metadata": {
    "collapsed": false
   }
  },
  {
   "cell_type": "markdown",
   "source": [
    "### 3.2.2 Decision Trees"
   ],
   "metadata": {
    "collapsed": false
   }
  },
  {
   "cell_type": "code",
   "execution_count": 27,
   "outputs": [],
   "source": [
    "import numpy as np\n",
    "import matplotlib.pyplot as plt\n",
    "from sklearn.tree import DecisionTreeClassifier\n",
    "from sklearn.model_selection import train_test_split\n",
    "from sklearn.metrics import accuracy_score, precision_score, recall_score, f1_score, confusion_matrix, classification_report"
   ],
   "metadata": {
    "collapsed": false
   }
  },
  {
   "cell_type": "markdown",
   "source": [
    "#### Grid search for Decision Tree Parameters"
   ],
   "metadata": {
    "collapsed": false
   }
  },
  {
   "cell_type": "code",
   "execution_count": 29,
   "outputs": [],
   "source": [
    "best_params_dt2 = grid_search_kfold_cv(model_class=DecisionTreeClassifier, param_grid=param_grid, X_train=X2_train, y_train=y_train, X_test=X2_test, y_test=y_test,  cv=3, metric='f1', eval=False)"
   ],
   "metadata": {
    "collapsed": false
   }
  },
  {
   "cell_type": "code",
   "execution_count": 30,
   "outputs": [
    {
     "data": {
      "text/plain": "{'criterion': 'gini', 'max_depth': 16, 'min_samples_split': 2}"
     },
     "execution_count": 30,
     "metadata": {},
     "output_type": "execute_result"
    }
   ],
   "source": [
    "best_params_dt2"
   ],
   "metadata": {
    "collapsed": false
   }
  },
  {
   "cell_type": "markdown",
   "source": [
    "#### Finer grid search  around best parameters"
   ],
   "metadata": {
    "collapsed": false
   }
  },
  {
   "cell_type": "code",
   "execution_count": 31,
   "outputs": [
    {
     "name": "stdout",
     "output_type": "stream",
     "text": [
      "Accuracy on training set:  0.9973924481584648\n",
      "confusion_matrix on training set: \n",
      " [[92888    17]\n",
      " [  320 36015]]\n",
      "Accuracy on validation set:  0.6491798204890127\n",
      "Confusion matrix: \n",
      " [[17469  5757]\n",
      " [ 5578  3506]]\n",
      "Classification report: \n",
      "               precision    recall  f1-score   support\n",
      "\n",
      "       False       0.76      0.75      0.76     23226\n",
      "        True       0.38      0.39      0.38      9084\n",
      "\n",
      "    accuracy                           0.65     32310\n",
      "   macro avg       0.57      0.57      0.57     32310\n",
      "weighted avg       0.65      0.65      0.65     32310\n",
      "\n"
     ]
    }
   ],
   "source": [
    "# finer grid search around best parameters\n",
    "param_grid = {'max_depth': [20, 30, 40, 50 ],\n",
    "              'min_samples_split': [2,3,4],\n",
    "              'criterion': ['gini']\n",
    "}\n",
    "\n",
    "best_params_dt2, best_tree2, result_dt2 = grid_search_kfold_cv(model_class=DecisionTreeClassifier, param_grid=param_grid, X_train=X2_train, y_train=y_train, X_test=X2_test, y_test=y_test,  cv=3, metric='f1', eval=True)\n"
   ],
   "metadata": {
    "collapsed": false
   }
  },
  {
   "cell_type": "code",
   "execution_count": 32,
   "outputs": [
    {
     "data": {
      "text/plain": "<Figure size 640x480 with 1 Axes>",
      "image/png": "[encoded data removed]"
     },
     "metadata": {},
     "output_type": "display_data"
    }
   ],
   "source": [
    "# roc curve\n",
    "from sklearn.metrics import roc_curve, roc_auc_score\n",
    "y_pred_proba = best_tree2.predict_proba(X2_test)[:,1]\n",
    "fpr, tpr, thresholds = roc_curve(y_test, y_pred_proba)\n",
    "plt.plot([0,1], [0,1], 'k--')\n",
    "plt.plot(fpr, tpr, label='Decision Tree')\n",
    "plt.xlabel('False Positive Rate')\n",
    "plt.ylabel('True Positive Rate')\n",
    "plt.title(f'Decision Tree ROC Curve, AUC={ roc_auc_score(y_test, y_pred_proba):.3f}')\n",
    "\n",
    "plt.show()\n"
   ],
   "metadata": {
    "collapsed": false
   }
  },
  {
   "cell_type": "markdown",
   "source": [
    "#### Try balancing data"
   ],
   "metadata": {
    "collapsed": false
   }
  },
  {
   "cell_type": "markdown",
   "source": [
    "##### Undersampling"
   ],
   "metadata": {
    "collapsed": false
   }
  },
  {
   "cell_type": "code",
   "execution_count": 33,
   "outputs": [
    {
     "data": {
      "text/plain": "False    36335\nTrue     36335\nName: isKilled, dtype: int64"
     },
     "execution_count": 33,
     "metadata": {},
     "output_type": "execute_result"
    }
   ],
   "source": [
    "from imblearn.under_sampling import RandomUnderSampler\n",
    "rus = RandomUnderSampler(random_state=41)\n",
    "X2_undersampled, y_undersampled = rus.fit_resample(X2_train, y_train)\n",
    "y_undersampled.value_counts()"
   ],
   "metadata": {
    "collapsed": false
   }
  },
  {
   "cell_type": "code",
   "execution_count": 34,
   "outputs": [
    {
     "name": "stdout",
     "output_type": "stream",
     "text": [
      "Fitting 3 folds for each of 24 candidates, totalling 72 fits\n",
      "[CV 1/3] END criterion=gini, max_depth=4, min_samples_split=2;, score=0.648 total time=   0.1s\n",
      "[CV 2/3] END criterion=gini, max_depth=4, min_samples_split=2;, score=0.633 total time=   0.1s\n",
      "[CV 3/3] END criterion=gini, max_depth=4, min_samples_split=2;, score=0.641 total time=   0.1s\n",
      "[CV 1/3] END criterion=gini, max_depth=4, min_samples_split=4;, score=0.648 total time=   0.1s\n",
      "[CV 2/3] END criterion=gini, max_depth=4, min_samples_split=4;, score=0.633 total time=   0.1s\n",
      "[CV 3/3] END criterion=gini, max_depth=4, min_samples_split=4;, score=0.641 total time=   0.1s\n",
      "[CV 1/3] END criterion=gini, max_depth=4, min_samples_split=8;, score=0.648 total time=   0.1s\n",
      "[CV 2/3] END criterion=gini, max_depth=4, min_samples_split=8;, score=0.633 total time=   0.1s\n",
      "[CV 3/3] END criterion=gini, max_depth=4, min_samples_split=8;, score=0.641 total time=   0.1s\n",
      "[CV 1/3] END criterion=gini, max_depth=4, min_samples_split=16;, score=0.648 total time=   0.1s\n",
      "[CV 2/3] END criterion=gini, max_depth=4, min_samples_split=16;, score=0.633 total time=   0.1s\n",
      "[CV 3/3] END criterion=gini, max_depth=4, min_samples_split=16;, score=0.641 total time=   0.1s\n",
      "[CV 1/3] END criterion=gini, max_depth=8, min_samples_split=2;, score=0.640 total time=   0.2s\n",
      "[CV 2/3] END criterion=gini, max_depth=8, min_samples_split=2;, score=0.616 total time=   0.2s\n",
      "[CV 3/3] END criterion=gini, max_depth=8, min_samples_split=2;, score=0.615 total time=   0.2s\n",
      "[CV 1/3] END criterion=gini, max_depth=8, min_samples_split=4;, score=0.640 total time=   0.2s\n",
      "[CV 2/3] END criterion=gini, max_depth=8, min_samples_split=4;, score=0.616 total time=   0.2s\n",
      "[CV 3/3] END criterion=gini, max_depth=8, min_samples_split=4;, score=0.615 total time=   0.2s\n",
      "[CV 1/3] END criterion=gini, max_depth=8, min_samples_split=8;, score=0.640 total time=   0.2s\n",
      "[CV 2/3] END criterion=gini, max_depth=8, min_samples_split=8;, score=0.615 total time=   0.2s\n",
      "[CV 3/3] END criterion=gini, max_depth=8, min_samples_split=8;, score=0.615 total time=   0.2s\n",
      "[CV 1/3] END criterion=gini, max_depth=8, min_samples_split=16;, score=0.640 total time=   0.2s\n",
      "[CV 2/3] END criterion=gini, max_depth=8, min_samples_split=16;, score=0.616 total time=   0.2s\n",
      "[CV 3/3] END criterion=gini, max_depth=8, min_samples_split=16;, score=0.615 total time=   0.2s\n",
      "[CV 1/3] END criterion=gini, max_depth=16, min_samples_split=2;, score=0.612 total time=   0.3s\n",
      "[CV 2/3] END criterion=gini, max_depth=16, min_samples_split=2;, score=0.610 total time=   0.3s\n",
      "[CV 3/3] END criterion=gini, max_depth=16, min_samples_split=2;, score=0.607 total time=   0.3s\n",
      "[CV 1/3] END criterion=gini, max_depth=16, min_samples_split=4;, score=0.610 total time=   0.4s\n",
      "[CV 2/3] END criterion=gini, max_depth=16, min_samples_split=4;, score=0.606 total time=   0.4s\n",
      "[CV 3/3] END criterion=gini, max_depth=16, min_samples_split=4;, score=0.608 total time=   0.3s\n",
      "[CV 1/3] END criterion=gini, max_depth=16, min_samples_split=8;, score=0.611 total time=   0.3s\n",
      "[CV 2/3] END criterion=gini, max_depth=16, min_samples_split=8;, score=0.607 total time=   0.3s\n",
      "[CV 3/3] END criterion=gini, max_depth=16, min_samples_split=8;, score=0.605 total time=   0.3s\n",
      "[CV 1/3] END criterion=gini, max_depth=16, min_samples_split=16;, score=0.612 total time=   0.4s\n",
      "[CV 2/3] END criterion=gini, max_depth=16, min_samples_split=16;, score=0.608 total time=   0.3s\n",
      "[CV 3/3] END criterion=gini, max_depth=16, min_samples_split=16;, score=0.609 total time=   0.3s\n",
      "[CV 1/3] END criterion=entropy, max_depth=4, min_samples_split=2;, score=0.648 total time=   0.1s\n",
      "[CV 2/3] END criterion=entropy, max_depth=4, min_samples_split=2;, score=0.633 total time=   0.1s\n",
      "[CV 3/3] END criterion=entropy, max_depth=4, min_samples_split=2;, score=0.641 total time=   0.1s\n",
      "[CV 1/3] END criterion=entropy, max_depth=4, min_samples_split=4;, score=0.648 total time=   0.1s\n",
      "[CV 2/3] END criterion=entropy, max_depth=4, min_samples_split=4;, score=0.633 total time=   0.1s\n",
      "[CV 3/3] END criterion=entropy, max_depth=4, min_samples_split=4;, score=0.641 total time=   0.1s\n",
      "[CV 1/3] END criterion=entropy, max_depth=4, min_samples_split=8;, score=0.648 total time=   0.1s\n",
      "[CV 2/3] END criterion=entropy, max_depth=4, min_samples_split=8;, score=0.633 total time=   0.1s\n",
      "[CV 3/3] END criterion=entropy, max_depth=4, min_samples_split=8;, score=0.641 total time=   0.1s\n",
      "[CV 1/3] END criterion=entropy, max_depth=4, min_samples_split=16;, score=0.648 total time=   0.1s\n",
      "[CV 2/3] END criterion=entropy, max_depth=4, min_samples_split=16;, score=0.633 total time=   0.1s\n",
      "[CV 3/3] END criterion=entropy, max_depth=4, min_samples_split=16;, score=0.641 total time=   0.1s\n",
      "[CV 1/3] END criterion=entropy, max_depth=8, min_samples_split=2;, score=0.640 total time=   0.2s\n",
      "[CV 2/3] END criterion=entropy, max_depth=8, min_samples_split=2;, score=0.624 total time=   0.2s\n",
      "[CV 3/3] END criterion=entropy, max_depth=8, min_samples_split=2;, score=0.623 total time=   0.3s\n",
      "[CV 1/3] END criterion=entropy, max_depth=8, min_samples_split=4;, score=0.640 total time=   0.3s\n",
      "[CV 2/3] END criterion=entropy, max_depth=8, min_samples_split=4;, score=0.624 total time=   0.3s\n",
      "[CV 3/3] END criterion=entropy, max_depth=8, min_samples_split=4;, score=0.623 total time=   0.2s\n",
      "[CV 1/3] END criterion=entropy, max_depth=8, min_samples_split=8;, score=0.640 total time=   0.2s\n",
      "[CV 2/3] END criterion=entropy, max_depth=8, min_samples_split=8;, score=0.624 total time=   0.2s\n",
      "[CV 3/3] END criterion=entropy, max_depth=8, min_samples_split=8;, score=0.622 total time=   0.2s\n",
      "[CV 1/3] END criterion=entropy, max_depth=8, min_samples_split=16;, score=0.640 total time=   0.2s\n",
      "[CV 2/3] END criterion=entropy, max_depth=8, min_samples_split=16;, score=0.624 total time=   0.2s\n",
      "[CV 3/3] END criterion=entropy, max_depth=8, min_samples_split=16;, score=0.622 total time=   0.2s\n",
      "[CV 1/3] END criterion=entropy, max_depth=16, min_samples_split=2;, score=0.606 total time=   0.5s\n",
      "[CV 2/3] END criterion=entropy, max_depth=16, min_samples_split=2;, score=0.611 total time=   0.4s\n",
      "[CV 3/3] END criterion=entropy, max_depth=16, min_samples_split=2;, score=0.608 total time=   0.4s\n",
      "[CV 1/3] END criterion=entropy, max_depth=16, min_samples_split=4;, score=0.604 total time=   0.5s\n",
      "[CV 2/3] END criterion=entropy, max_depth=16, min_samples_split=4;, score=0.611 total time=   0.5s\n",
      "[CV 3/3] END criterion=entropy, max_depth=16, min_samples_split=4;, score=0.607 total time=   0.5s\n",
      "[CV 1/3] END criterion=entropy, max_depth=16, min_samples_split=8;, score=0.605 total time=   0.4s\n",
      "[CV 2/3] END criterion=entropy, max_depth=16, min_samples_split=8;, score=0.609 total time=   0.5s\n",
      "[CV 3/3] END criterion=entropy, max_depth=16, min_samples_split=8;, score=0.608 total time=   0.5s\n",
      "[CV 1/3] END criterion=entropy, max_depth=16, min_samples_split=16;, score=0.608 total time=   0.4s\n",
      "[CV 2/3] END criterion=entropy, max_depth=16, min_samples_split=16;, score=0.612 total time=   0.4s\n",
      "[CV 3/3] END criterion=entropy, max_depth=16, min_samples_split=16;, score=0.610 total time=   0.5s\n"
     ]
    },
    {
     "data": {
      "text/plain": "GridSearchCV(cv=3, estimator=DecisionTreeClassifier(random_state=42),\n             param_grid={'criterion': ['gini', 'entropy'],\n                         'max_depth': [4, 8, 16],\n                         'min_samples_split': [2, 4, 8, 16]},\n             scoring='f1', verbose=3)",
      "text/html": "<style>#sk-container-id-2 {color: black;background-color: white;}#sk-container-id-2 pre{padding: 0;}#sk-container-id-2 div.sk-toggleable {background-color: white;}#sk-container-id-2 label.sk-toggleable__label {cursor: pointer;display: block;width: 100%;margin-bottom: 0;padding: 0.3em;box-sizing: border-box;text-align: center;}#sk-container-id-2 label.sk-toggleable__label-arrow:before {content: \"▸\";float: left;margin-right: 0.25em;color: #696969;}#sk-container-id-2 label.sk-toggleable__label-arrow:hover:before {color: black;}#sk-container-id-2 div.sk-estimator:hover label.sk-toggleable__label-arrow:before {color: black;}#sk-container-id-2 div.sk-toggleable__content {max-height: 0;max-width: 0;overflow: hidden;text-align: left;background-color: #f0f8ff;}#sk-container-id-2 div.sk-toggleable__content pre {margin: 0.2em;color: black;border-radius: 0.25em;background-color: #f0f8ff;}#sk-container-id-2 input.sk-toggleable__control:checked~div.sk-toggleable__content {max-height: 200px;max-width: 100%;overflow: auto;}#sk-container-id-2 input.sk-toggleable__control:checked~label.sk-toggleable__label-arrow:before {content: \"▾\";}#sk-container-id-2 div.sk-estimator input.sk-toggleable__control:checked~label.sk-toggleable__label {background-color: #d4ebff;}#sk-container-id-2 div.sk-label input.sk-toggleable__control:checked~label.sk-toggleable__label {background-color: #d4ebff;}#sk-container-id-2 input.sk-hidden--visually {border: 0;clip: rect(1px 1px 1px 1px);clip: rect(1px, 1px, 1px, 1px);height: 1px;margin: -1px;overflow: hidden;padding: 0;position: absolute;width: 1px;}#sk-container-id-2 div.sk-estimator {font-family: monospace;background-color: #f0f8ff;border: 1px dotted black;border-radius: 0.25em;box-sizing: border-box;margin-bottom: 0.5em;}#sk-container-id-2 div.sk-estimator:hover {background-color: #d4ebff;}#sk-container-id-2 div.sk-parallel-item::after {content: \"\";width: 100%;border-bottom: 1px solid gray;flex-grow: 1;}#sk-container-id-2 div.sk-label:hover label.sk-toggleable__label {background-color: #d4ebff;}#sk-container-id-2 div.sk-serial::before {content: \"\";position: absolute;border-left: 1px solid gray;box-sizing: border-box;top: 0;bottom: 0;left: 50%;z-index: 0;}#sk-container-id-2 div.sk-serial {display: flex;flex-direction: column;align-items: center;background-color: white;padding-right: 0.2em;padding-left: 0.2em;position: relative;}#sk-container-id-2 div.sk-item {position: relative;z-index: 1;}#sk-container-id-2 div.sk-parallel {display: flex;align-items: stretch;justify-content: center;background-color: white;position: relative;}#sk-container-id-2 div.sk-item::before, #sk-container-id-2 div.sk-parallel-item::before {content: \"\";position: absolute;border-left: 1px solid gray;box-sizing: border-box;top: 0;bottom: 0;left: 50%;z-index: -1;}#sk-container-id-2 div.sk-parallel-item {display: flex;flex-direction: column;z-index: 1;position: relative;background-color: white;}#sk-container-id-2 div.sk-parallel-item:first-child::after {align-self: flex-end;width: 50%;}#sk-container-id-2 div.sk-parallel-item:last-child::after {align-self: flex-start;width: 50%;}#sk-container-id-2 div.sk-parallel-item:only-child::after {width: 0;}#sk-container-id-2 div.sk-dashed-wrapped {border: 1px dashed gray;margin: 0 0.4em 0.5em 0.4em;box-sizing: border-box;padding-bottom: 0.4em;background-color: white;}#sk-container-id-2 div.sk-label label {font-family: monospace;font-weight: bold;display: inline-block;line-height: 1.2em;}#sk-container-id-2 div.sk-label-container {text-align: center;}#sk-container-id-2 div.sk-container {/* jupyter's `normalize.less` sets `[hidden] { display: none; }` but bootstrap.min.css set `[hidden] { display: none !important; }` so we also need the `!important` here to be able to override the default hidden behavior on the sphinx rendered scikit-learn.org. See: https://github.com/scikit-learn/scikit-learn/issues/21755 */display: inline-block !important;position: relative;}#sk-container-id-2 div.sk-text-repr-fallback {display: none;}</style><div id=\"sk-container-id-2\" class=\"sk-top-container\"><div class=\"sk-text-repr-fallback\"><pre>GridSearchCV(cv=3, estimator=DecisionTreeClassifier(random_state=42),\n             param_grid={&#x27;criterion&#x27;: [&#x27;gini&#x27;, &#x27;entropy&#x27;],\n                         &#x27;max_depth&#x27;: [4, 8, 16],\n                         &#x27;min_samples_split&#x27;: [2, 4, 8, 16]},\n             scoring=&#x27;f1&#x27;, verbose=3)</pre><b>In a Jupyter environment, please rerun this cell to show the HTML representation or trust the notebook. <br />On GitHub, the HTML representation is unable to render, please try loading this page with nbviewer.org.</b></div><div class=\"sk-container\" hidden><div class=\"sk-item sk-dashed-wrapped\"><div class=\"sk-label-container\"><div class=\"sk-label sk-toggleable\"><input class=\"sk-toggleable__control sk-hidden--visually\" id=\"sk-estimator-id-2\" type=\"checkbox\" ><label for=\"sk-estimator-id-2\" class=\"sk-toggleable__label sk-toggleable__label-arrow\">GridSearchCV</label><div class=\"sk-toggleable__content\"><pre>GridSearchCV(cv=3, estimator=DecisionTreeClassifier(random_state=42),\n             param_grid={&#x27;criterion&#x27;: [&#x27;gini&#x27;, &#x27;entropy&#x27;],\n                         &#x27;max_depth&#x27;: [4, 8, 16],\n                         &#x27;min_samples_split&#x27;: [2, 4, 8, 16]},\n             scoring=&#x27;f1&#x27;, verbose=3)</pre></div></div></div><div class=\"sk-parallel\"><div class=\"sk-parallel-item\"><div class=\"sk-item\"><div class=\"sk-label-container\"><div class=\"sk-label sk-toggleable\"><input class=\"sk-toggleable__control sk-hidden--visually\" id=\"sk-estimator-id-3\" type=\"checkbox\" ><label for=\"sk-estimator-id-3\" class=\"sk-toggleable__label sk-toggleable__label-arrow\">estimator: DecisionTreeClassifier</label><div class=\"sk-toggleable__content\"><pre>DecisionTreeClassifier(random_state=42)</pre></div></div></div><div class=\"sk-serial\"><div class=\"sk-item\"><div class=\"sk-estimator sk-toggleable\"><input class=\"sk-toggleable__control sk-hidden--visually\" id=\"sk-estimator-id-4\" type=\"checkbox\" ><label for=\"sk-estimator-id-4\" class=\"sk-toggleable__label sk-toggleable__label-arrow\">DecisionTreeClassifier</label><div class=\"sk-toggleable__content\"><pre>DecisionTreeClassifier(random_state=42)</pre></div></div></div></div></div></div></div></div></div></div>"
     },
     "execution_count": 34,
     "metadata": {},
     "output_type": "execute_result"
    }
   ],
   "source": [
    "from sklearn.model_selection import GridSearchCV\n",
    "from sklearn.metrics import make_scorer, f1_score\n",
    "f1 = make_scorer(f1_score, pos_label =True)\n",
    "param_grid = {'max_depth': [4, 8, 16],\n",
    "              'min_samples_split': [2,4, 8, 16],\n",
    "              'criterion': ['gini', 'entropy']\n",
    "}\n",
    "grid = GridSearchCV(DecisionTreeClassifier(random_state=42), param_grid, cv=3, scoring='f1', verbose =3)\n",
    "grid.fit(X2_undersampled, y_undersampled)\n"
   ],
   "metadata": {
    "collapsed": false
   }
  },
  {
   "cell_type": "code",
   "execution_count": 35,
   "outputs": [
    {
     "data": {
      "text/plain": "{'criterion': 'gini', 'max_depth': 4, 'min_samples_split': 2}"
     },
     "execution_count": 35,
     "metadata": {},
     "output_type": "execute_result"
    }
   ],
   "source": [
    "grid.best_params_"
   ],
   "metadata": {
    "collapsed": false
   }
  },
  {
   "cell_type": "code",
   "execution_count": 36,
   "outputs": [
    {
     "name": "stdout",
     "output_type": "stream",
     "text": [
      "Accuracy on training set:  0.6013760836658869\n",
      "confusion_matrix on training set: \n",
      " [[16633 19702]\n",
      " [ 9266 27069]]\n",
      "Accuracy on validation set:  0.5338594862271743\n",
      "Confusion matrix: \n",
      " [[10548 12678]\n",
      " [ 2383  6701]]\n",
      "Classification report: \n",
      "               precision    recall  f1-score   support\n",
      "\n",
      "       False       0.82      0.45      0.58     23226\n",
      "        True       0.35      0.74      0.47      9084\n",
      "\n",
      "    accuracy                           0.53     32310\n",
      "   macro avg       0.58      0.60      0.53     32310\n",
      "weighted avg       0.68      0.53      0.55     32310\n",
      "\n"
     ]
    }
   ],
   "source": [
    "# new grid\n",
    "param_grid = {'max_depth': [4,5,6,7,8],\n",
    "              'min_samples_split': [6,7,8,9,10],\n",
    "              'criterion': ['gini']\n",
    "}\n",
    "best_param_dt_under, best_tree_under, result_dt_under = grid_search_kfold_cv(model_class=DecisionTreeClassifier, param_grid=param_grid, X_train=X2_undersampled, y_train=y_undersampled, X_test=X2_test, y_test=y_test,  cv=3, metric='f1', eval=True)"
   ],
   "metadata": {
    "collapsed": false
   }
  },
  {
   "cell_type": "markdown",
   "source": [
    "##### Oversampling"
   ],
   "metadata": {
    "collapsed": false
   }
  },
  {
   "cell_type": "code",
   "execution_count": 37,
   "outputs": [
    {
     "data": {
      "text/plain": "False    92905\nTrue     92905\nName: isKilled, dtype: int64"
     },
     "execution_count": 37,
     "metadata": {},
     "output_type": "execute_result"
    }
   ],
   "source": [
    "from imblearn.over_sampling import RandomOverSampler\n",
    "ros = RandomOverSampler(random_state=42)\n",
    "X2_oversampled, y_oversampled = ros.fit_resample(X2_train, y_train)\n",
    "y_oversampled.value_counts()"
   ],
   "metadata": {
    "collapsed": false
   }
  },
  {
   "cell_type": "code",
   "execution_count": 38,
   "outputs": [
    {
     "name": "stdout",
     "output_type": "stream",
     "text": [
      "Accuracy on training set:  0.7498681448791776\n",
      "confusion_matrix on training set: \n",
      " [[65598 27307]\n",
      " [19170 73735]]\n",
      "Accuracy on validation set:  0.6248529866914267\n",
      "Confusion matrix: \n",
      " [[14811  8415]\n",
      " [ 3706  5378]]\n",
      "Classification report: \n",
      "               precision    recall  f1-score   support\n",
      "\n",
      "       False       0.80      0.64      0.71     23226\n",
      "        True       0.39      0.59      0.47      9084\n",
      "\n",
      "    accuracy                           0.62     32310\n",
      "   macro avg       0.59      0.61      0.59     32310\n",
      "weighted avg       0.68      0.62      0.64     32310\n",
      "\n"
     ]
    }
   ],
   "source": [
    "\n",
    "param_grid = {'max_depth': [4, 8, 16],\n",
    "              'min_samples_split': [2,4, 8, 16],\n",
    "              'criterion': ['gini', 'entropy']\n",
    "}\n",
    "best_param_dt_over, best_tree_over, result_dt_over = grid_search_kfold_cv(model_class=DecisionTreeClassifier, param_grid=param_grid, X_train=X2_oversampled, y_train=y_oversampled, X_test=X2_test, y_test=y_test,  cv=3, metric='f1', eval=True)"
   ],
   "metadata": {
    "collapsed": false
   }
  },
  {
   "cell_type": "code",
   "execution_count": 39,
   "outputs": [
    {
     "data": {
      "text/plain": "{'criterion': 'gini', 'max_depth': 4, 'min_samples_split': 2}"
     },
     "execution_count": 39,
     "metadata": {},
     "output_type": "execute_result"
    }
   ],
   "source": [
    "grid.best_params_"
   ],
   "metadata": {
    "collapsed": false
   }
  },
  {
   "cell_type": "code",
   "execution_count": 40,
   "outputs": [
    {
     "data": {
      "text/plain": "DecisionTreeClassifier(max_depth=16, min_samples_split=6, random_state=42)",
      "text/html": "<style>#sk-container-id-3 {color: black;background-color: white;}#sk-container-id-3 pre{padding: 0;}#sk-container-id-3 div.sk-toggleable {background-color: white;}#sk-container-id-3 label.sk-toggleable__label {cursor: pointer;display: block;width: 100%;margin-bottom: 0;padding: 0.3em;box-sizing: border-box;text-align: center;}#sk-container-id-3 label.sk-toggleable__label-arrow:before {content: \"▸\";float: left;margin-right: 0.25em;color: #696969;}#sk-container-id-3 label.sk-toggleable__label-arrow:hover:before {color: black;}#sk-container-id-3 div.sk-estimator:hover label.sk-toggleable__label-arrow:before {color: black;}#sk-container-id-3 div.sk-toggleable__content {max-height: 0;max-width: 0;overflow: hidden;text-align: left;background-color: #f0f8ff;}#sk-container-id-3 div.sk-toggleable__content pre {margin: 0.2em;color: black;border-radius: 0.25em;background-color: #f0f8ff;}#sk-container-id-3 input.sk-toggleable__control:checked~div.sk-toggleable__content {max-height: 200px;max-width: 100%;overflow: auto;}#sk-container-id-3 input.sk-toggleable__control:checked~label.sk-toggleable__label-arrow:before {content: \"▾\";}#sk-container-id-3 div.sk-estimator input.sk-toggleable__control:checked~label.sk-toggleable__label {background-color: #d4ebff;}#sk-container-id-3 div.sk-label input.sk-toggleable__control:checked~label.sk-toggleable__label {background-color: #d4ebff;}#sk-container-id-3 input.sk-hidden--visually {border: 0;clip: rect(1px 1px 1px 1px);clip: rect(1px, 1px, 1px, 1px);height: 1px;margin: -1px;overflow: hidden;padding: 0;position: absolute;width: 1px;}#sk-container-id-3 div.sk-estimator {font-family: monospace;background-color: #f0f8ff;border: 1px dotted black;border-radius: 0.25em;box-sizing: border-box;margin-bottom: 0.5em;}#sk-container-id-3 div.sk-estimator:hover {background-color: #d4ebff;}#sk-container-id-3 div.sk-parallel-item::after {content: \"\";width: 100%;border-bottom: 1px solid gray;flex-grow: 1;}#sk-container-id-3 div.sk-label:hover label.sk-toggleable__label {background-color: #d4ebff;}#sk-container-id-3 div.sk-serial::before {content: \"\";position: absolute;border-left: 1px solid gray;box-sizing: border-box;top: 0;bottom: 0;left: 50%;z-index: 0;}#sk-container-id-3 div.sk-serial {display: flex;flex-direction: column;align-items: center;background-color: white;padding-right: 0.2em;padding-left: 0.2em;position: relative;}#sk-container-id-3 div.sk-item {position: relative;z-index: 1;}#sk-container-id-3 div.sk-parallel {display: flex;align-items: stretch;justify-content: center;background-color: white;position: relative;}#sk-container-id-3 div.sk-item::before, #sk-container-id-3 div.sk-parallel-item::before {content: \"\";position: absolute;border-left: 1px solid gray;box-sizing: border-box;top: 0;bottom: 0;left: 50%;z-index: -1;}#sk-container-id-3 div.sk-parallel-item {display: flex;flex-direction: column;z-index: 1;position: relative;background-color: white;}#sk-container-id-3 div.sk-parallel-item:first-child::after {align-self: flex-end;width: 50%;}#sk-container-id-3 div.sk-parallel-item:last-child::after {align-self: flex-start;width: 50%;}#sk-container-id-3 div.sk-parallel-item:only-child::after {width: 0;}#sk-container-id-3 div.sk-dashed-wrapped {border: 1px dashed gray;margin: 0 0.4em 0.5em 0.4em;box-sizing: border-box;padding-bottom: 0.4em;background-color: white;}#sk-container-id-3 div.sk-label label {font-family: monospace;font-weight: bold;display: inline-block;line-height: 1.2em;}#sk-container-id-3 div.sk-label-container {text-align: center;}#sk-container-id-3 div.sk-container {/* jupyter's `normalize.less` sets `[hidden] { display: none; }` but bootstrap.min.css set `[hidden] { display: none !important; }` so we also need the `!important` here to be able to override the default hidden behavior on the sphinx rendered scikit-learn.org. See: https://github.com/scikit-learn/scikit-learn/issues/21755 */display: inline-block !important;position: relative;}#sk-container-id-3 div.sk-text-repr-fallback {display: none;}</style><div id=\"sk-container-id-3\" class=\"sk-top-container\"><div class=\"sk-text-repr-fallback\"><pre>DecisionTreeClassifier(max_depth=16, min_samples_split=6, random_state=42)</pre><b>In a Jupyter environment, please rerun this cell to show the HTML representation or trust the notebook. <br />On GitHub, the HTML representation is unable to render, please try loading this page with nbviewer.org.</b></div><div class=\"sk-container\" hidden><div class=\"sk-item\"><div class=\"sk-estimator sk-toggleable\"><input class=\"sk-toggleable__control sk-hidden--visually\" id=\"sk-estimator-id-5\" type=\"checkbox\" checked><label for=\"sk-estimator-id-5\" class=\"sk-toggleable__label sk-toggleable__label-arrow\">DecisionTreeClassifier</label><div class=\"sk-toggleable__content\"><pre>DecisionTreeClassifier(max_depth=16, min_samples_split=6, random_state=42)</pre></div></div></div></div></div>"
     },
     "execution_count": 40,
     "metadata": {},
     "output_type": "execute_result"
    }
   ],
   "source": [
    "tree_oversampled = DecisionTreeClassifier(random_state=42, max_depth=16, min_samples_split=6,  criterion='gini')\n",
    "tree_oversampled.fit(X2_oversampled, y_oversampled)"
   ],
   "metadata": {
    "collapsed": false
   }
  },
  {
   "cell_type": "code",
   "execution_count": 41,
   "outputs": [
    {
     "name": "stdout",
     "output_type": "stream",
     "text": [
      "Accuracy on training set:  0.7467628222377698\n",
      "confusion_matrix on training set: \n",
      " [[65364 27541]\n",
      " [19513 73392]]\n",
      "Accuracy on validation set:  0.623800680903745\n",
      "Confusion matrix: \n",
      " [[14809  8417]\n",
      " [ 3738  5346]]\n",
      "Classification report: \n",
      "               precision    recall  f1-score   support\n",
      "\n",
      "       False       0.80      0.64      0.71     23226\n",
      "        True       0.39      0.59      0.47      9084\n",
      "\n",
      "    accuracy                           0.62     32310\n",
      "   macro avg       0.59      0.61      0.59     32310\n",
      "weighted avg       0.68      0.62      0.64     32310\n",
      "\n"
     ]
    }
   ],
   "source": [
    "y_pred = tree_oversampled.predict(X2_test)\n",
    "y_pred_train = tree_oversampled.predict(X2_oversampled)\n",
    "print('Accuracy on training set: ', accuracy_score(y_oversampled, y_pred_train))\n",
    "print('confusion_matrix on training set: \\n', confusion_matrix(y_oversampled, y_pred_train))\n",
    "print('Accuracy on validation set: ', accuracy_score(y_test, y_pred))\n",
    "print('Confusion matrix: \\n', confusion_matrix(y_test, y_pred))\n",
    "print('Classification report: \\n', classification_report(y_test, y_pred))"
   ],
   "metadata": {
    "collapsed": false
   }
  },
  {
   "cell_type": "markdown",
   "source": [
    "##### SMOTE"
   ],
   "metadata": {
    "collapsed": false
   }
  },
  {
   "cell_type": "markdown",
   "source": [
    "### 3.2.3 KNN"
   ],
   "metadata": {
    "collapsed": false
   }
  },
  {
   "cell_type": "code",
   "execution_count": 42,
   "outputs": [],
   "source": [
    "from sklearn.neighbors import KNeighborsClassifier\n",
    "from sklearn.model_selection import train_test_split\n",
    "from sklearn.metrics import accuracy_score, precision_score, recall_score, f1_score, confusion_matrix, classification_report\n",
    "from sklearn.metrics import confusion_matrix\n",
    "from sklearn.metrics import classification_report"
   ],
   "metadata": {
    "collapsed": false
   }
  },
  {
   "cell_type": "code",
   "execution_count": 43,
   "outputs": [
    {
     "name": "stderr",
     "output_type": "stream",
     "text": [
      "100%|██████████| 9/9 [01:13<00:00,  8.20s/it]\n"
     ]
    }
   ],
   "source": [
    "# train model\n",
    "accuracy_scores = []\n",
    "f1_scores =[]\n",
    "for i in tqdm(range(1, 10)):\n",
    "    knn = KNeighborsClassifier(n_neighbors=i)\n",
    "    knn.fit(X2_train, y_train)\n",
    "    y_pred = knn.predict(X2_test)\n",
    "    accuracy_scores.append(accuracy_score(y_test, y_pred))\n",
    "    f1_scores.append(f1_score(y_test, y_pred))"
   ],
   "metadata": {
    "collapsed": false
   }
  },
  {
   "cell_type": "code",
   "execution_count": 44,
   "outputs": [
    {
     "data": {
      "text/plain": "Text(0.5, 1.0, 'accuracy and f1-score for different k values')"
     },
     "execution_count": 44,
     "metadata": {},
     "output_type": "execute_result"
    },
    {
     "data": {
      "text/plain": "<Figure size 640x480 with 1 Axes>",
      "image/png": "[encoded data removed]"
     },
     "metadata": {},
     "output_type": "display_data"
    }
   ],
   "source": [
    "plt.plot(range(1, 10), accuracy_scores)\n",
    "plt.plot(range(1, 10), f1_scores)\n",
    "plt.xlabel('k')\n",
    "plt.legend(['accuracy' ,'f1'])\n",
    "plt.title('accuracy and f1-score for different k values')\n",
    "\n"
   ],
   "metadata": {
    "collapsed": false
   }
  },
  {
   "cell_type": "code",
   "execution_count": 45,
   "outputs": [
    {
     "name": "stdout",
     "output_type": "stream",
     "text": [
      "Accuracy on training set:  0.7772670999690499\n",
      "Confusion matrix on training set:  [[85102 20983]\n",
      " [ 7803 15352]]\n",
      "Accuracy on test set:  0.6988238935314144\n",
      "Confusion matrix: \n",
      " [[20046  3180]\n",
      " [ 6551  2533]]\n",
      "Classification report: \n",
      "               precision    recall  f1-score   support\n",
      "\n",
      "       False       0.75      0.86      0.80     23226\n",
      "        True       0.44      0.28      0.34      9084\n",
      "\n",
      "    accuracy                           0.70     32310\n",
      "   macro avg       0.60      0.57      0.57     32310\n",
      "weighted avg       0.67      0.70      0.67     32310\n",
      "\n"
     ]
    }
   ],
   "source": [
    "# train again with best k\n",
    "knn = KNeighborsClassifier(n_neighbors=5)\n",
    "knn.fit(X2_train, y_train)\n",
    "y_pred = knn.predict(X2_test)\n",
    "y_pred_train = knn.predict(X2_train)\n",
    "print('Accuracy on training set: ', accuracy_score(y_pred_train, y_train))\n",
    "print('Confusion matrix on training set: ', confusion_matrix(y_pred_train, y_train))\n",
    "print('Accuracy on test set: ', accuracy_score(y_test, y_pred))\n",
    "print('Confusion matrix: \\n', confusion_matrix(y_test, y_pred))\n",
    "print('Classification report: \\n', classification_report(y_test, y_pred))"
   ],
   "metadata": {
    "collapsed": false
   }
  },
  {
   "cell_type": "markdown",
   "source": [
    "### 3.2.1 Logistic regression"
   ],
   "metadata": {
    "collapsed": false
   }
  },
  {
   "cell_type": "code",
   "execution_count": 47,
   "metadata": {},
   "outputs": [
    {
     "name": "stdout",
     "output_type": "stream",
     "text": [
      "Accuracy on training set:  0.718717115444135\n",
      "confusion_matrix on training set: \n",
      " [[91286  1619]\n",
      " [34734  1601]]\n",
      "Accuracy on validation set:  0.7188177034973693\n",
      "Confusion matrix: \n",
      " [[22832   394]\n",
      " [ 8691   393]]\n",
      "Classification report: \n",
      "               precision    recall  f1-score   support\n",
      "\n",
      "       False       0.72      0.98      0.83     23226\n",
      "        True       0.50      0.04      0.08      9084\n",
      "\n",
      "    accuracy                           0.72     32310\n",
      "   macro avg       0.61      0.51      0.46     32310\n",
      "weighted avg       0.66      0.72      0.62     32310\n",
      "\n"
     ]
    }
   ],
   "source": [
    "from sklearn.preprocessing import StandardScaler\n",
    "from sklearn.linear_model import LogisticRegression\n",
    "scaler = StandardScaler()\n",
    "X2_train_scaled = scaler.fit_transform(X2_train)\n",
    "X2_test_scaled = scaler.fit_transform(X2_test)\n",
    "logreg = LogisticRegression()\n",
    "logreg_model = logreg.fit(X2_train_scaled, y_train)\n",
    "y_pred = logreg.predict(X2_test_scaled)\n",
    "y_pred_train = logreg.predict(X2_train_scaled)\n",
    "print('Accuracy on training set: ', accuracy_score(y_train, y_pred_train))\n",
    "print('confusion_matrix on training set: \\n', confusion_matrix(y_train, y_pred_train))\n",
    "print('Accuracy on validation set: ', accuracy_score(y_test, y_pred))\n",
    "print('Confusion matrix: \\n', confusion_matrix(y_test, y_pred))\n",
    "print('Classification report: \\n', classification_report(y_test, y_pred))"
   ]
  },
  {
   "cell_type": "code",
   "execution_count": 48,
   "outputs": [
    {
     "name": "stdout",
     "output_type": "stream",
     "text": [
      "('latitude', -0.2279061259152831)\n",
      "('longitude', -0.1565044988927179)\n",
      "('year', 0.010174639566654127)\n",
      "('povertyPercentage', -0.002259700209580947)\n",
      "('population', -0.046952870326052214)\n",
      "('candidatevotes', 0.010518710146572728)\n",
      "('right_or_left', -0.12164973902830302)\n",
      "('voters_over_population', -0.15400009927258154)\n",
      "('n_participants', -0.13222351307693353)\n",
      "('n_participants_teen', 0.041457141296639355)\n",
      "('n_participants_child', 0.05030380425126665)\n",
      "('n_females', 0.18559036699301174)\n",
      "('n_males', 0.31285555852397984)\n",
      "('age_group_[0-11]', -0.09322618633001725)\n",
      "('age_group_[12-17]', -0.17940536712787186)\n",
      "('age_group_[18-24]', -0.0810596244378866)\n",
      "('age_group_[25-34]', 0.029808795203353243)\n",
      "('age_group_[35-44]', 0.07995762496436633)\n",
      "('age_group_[45-54]', 0.10338442585716325)\n",
      "('age_group_[55-64]', 0.08417443253575393)\n",
      "('age_group_[65-74]', 0.04653436825285826)\n",
      "('age_group_[75-100]', 0.038289465704948566)\n",
      "('party_DEMOCRAT', 0.004510225288792418)\n",
      "('party_REPUBLICAN', -0.004510225288792418)\n"
     ]
    }
   ],
   "source": [
    "# weights of model\n",
    "for i in zip(X2.columns, logreg_model.coef_[0]):\n",
    "    print(i)"
   ],
   "metadata": {
    "collapsed": false
   }
  },
  {
   "cell_type": "code",
   "execution_count": 49,
   "outputs": [
    {
     "data": {
      "text/plain": "-0.3597385293540303"
     },
     "execution_count": 49,
     "metadata": {},
     "output_type": "execute_result"
    }
   ],
   "source": [
    "# correlation n_killed and n_injured\n",
    "df_orig['isKilled'] = df_incidents_prepared['isKilled']\n",
    "df_orig['isInjured'] = df_orig['n_injured'] > 0\n",
    "df_orig['isKilled'].corr(df_orig['isInjured'])"
   ],
   "metadata": {
    "collapsed": false
   }
  },
  {
   "cell_type": "markdown",
   "source": [
    "### 3.2.4 Random Forest"
   ],
   "metadata": {
    "collapsed": false
   }
  },
  {
   "cell_type": "code",
   "execution_count": 50,
   "metadata": {},
   "outputs": [],
   "source": [
    "from sklearn.ensemble import RandomForestClassifier\n",
    "from sklearn.model_selection import train_test_split, GridSearchCV\n"
   ]
  },
  {
   "cell_type": "code",
   "execution_count": null,
   "outputs": [],
   "source": [
    "# grid search for random forest\n",
    "from sklearn.model_selection import GridSearchCV\n",
    "\n",
    "param_grid = {'max_depth': [20,30,40],\n",
    "              'min_samples_split': [ 2, 4, 8],\n",
    "              'criterion': ['gini', 'entropy'],\n",
    "              'n_estimators': [ 20, 30, 50]\n",
    "}\n",
    "\n",
    "best_params_rf2 = grid_search_kfold_cv(model_class=RandomForestClassifier, param_grid=param_grid,\n",
    "                                       X_train=X2_train, y_train=y_train, X_test=X2_test, y_test=y_test,  cv=3,metric='f1', eval=False)"
   ],
   "metadata": {
    "collapsed": false,
    "pycharm": {
     "is_executing": true
    }
   }
  },
  {
   "cell_type": "code",
   "execution_count": null,
   "outputs": [],
   "source": [
    "best_params_rf2"
   ],
   "metadata": {
    "collapsed": false,
    "pycharm": {
     "is_executing": true
    }
   }
  },
  {
   "cell_type": "code",
   "execution_count": null,
   "outputs": [],
   "source": [
    "#new gs around best parameters max_depth =16, min_samples_split=2, criterion='gini', n_estimators=50\n",
    "param_grid_rf2 = {'max_depth': [16, 18, 20],\n",
    "              'min_samples_split': [ 2, 3, 4],\n",
    "              'criterion': ['gini'],\n",
    "              'n_estimators': [ 50, 60, 70]\n",
    "}\n",
    "best_params_rf2, best_rf2, result_rf2 = grid_search_kfold_cv(model_class=RandomForestClassifier,\n",
    "                                                             param_grid=param_grid_rf2,X_train=X2_train, y_train=y_train, X_test=X2_test, y_test=y_test,  cv=3, metric='f1', eval=True)"
   ],
   "metadata": {
    "collapsed": false,
    "pycharm": {
     "is_executing": true
    }
   }
  },
  {
   "cell_type": "markdown",
   "source": [
    "## 3.3 Classification using n_injured and n_participants"
   ],
   "metadata": {
    "collapsed": false
   }
  },
  {
   "cell_type": "code",
   "execution_count": null,
   "outputs": [],
   "source": [
    "X3=df_incidents_prepared.drop('isKilled', axis=1)"
   ],
   "metadata": {
    "collapsed": false,
    "pycharm": {
     "is_executing": true
    }
   }
  },
  {
   "cell_type": "code",
   "execution_count": null,
   "outputs": [],
   "source": [
    "X3.drop(['n_unharmed', 'n_arrested'], axis=1, inplace=True)"
   ],
   "metadata": {
    "collapsed": false,
    "pycharm": {
     "is_executing": true
    }
   }
  },
  {
   "cell_type": "code",
   "execution_count": null,
   "outputs": [],
   "source": [
    "X3.head()"
   ],
   "metadata": {
    "collapsed": false,
    "pycharm": {
     "is_executing": true
    }
   }
  },
  {
   "cell_type": "code",
   "execution_count": null,
   "outputs": [],
   "source": [
    "# one hot encoding\n",
    "X3=pd.get_dummies(X3)"
   ],
   "metadata": {
    "collapsed": false,
    "pycharm": {
     "is_executing": true
    }
   }
  },
  {
   "cell_type": "code",
   "execution_count": null,
   "outputs": [],
   "source": [
    "X3_train, X3_test, y_train, y_test = train_test_split(X3, y, test_size=0.2, random_state=42)"
   ],
   "metadata": {
    "collapsed": false,
    "pycharm": {
     "is_executing": true
    }
   }
  },
  {
   "cell_type": "markdown",
   "source": [
    "### Decision Tree"
   ],
   "metadata": {
    "collapsed": false
   }
  },
  {
   "cell_type": "code",
   "execution_count": null,
   "outputs": [],
   "source": [
    "# grid search\n",
    "from sklearn.model_selection import GridSearchCV\n",
    "param_grid = {'max_depth': [4, 8, 16],\n",
    "              'min_samples_split': [2,4, 8, 16],\n",
    "              'criterion': ['gini', 'entropy']\n",
    "}\n",
    "\n",
    "best_params_dt3, best_tree3, result_dt3 = grid_search_kfold_cv(model_class=DecisionTreeClassifier, param_grid=param_grid, X_train=X3_train, y_train=y_train, X_test=X3_test, y_test=y_test,  cv=3, metric='f1', eval=True)"
   ],
   "metadata": {
    "collapsed": false,
    "pycharm": {
     "is_executing": true
    }
   }
  },
  {
   "cell_type": "markdown",
   "source": [
    "### Random Forest"
   ],
   "metadata": {
    "collapsed": false
   }
  },
  {
   "cell_type": "code",
   "execution_count": null,
   "outputs": [],
   "source": [
    "# grid search\n",
    "\n",
    "param_grid_rf = {'max_depth': [4, 8, 16],\n",
    "              'min_samples_split': [ 2, 4, 8],\n",
    "              'criterion': ['gini', 'entropy'],\n",
    "              'n_estimators': [ 20, 30, 50]\n",
    "}\n",
    "\n",
    "best_params_rf3, best_rf3, result_rf3 = grid_search_kfold_cv(model_class=RandomForestClassifier,\n",
    "                                                            param_grid=param_grid_rf, X_train=X3_train, y_train=y_train, X_test=X3_test, y_test=y_test,  cv=3,\n",
    "                                                            metric='f1', eval=True)"
   ],
   "metadata": {
    "collapsed": false,
    "pycharm": {
     "is_executing": true
    }
   }
  },
  {
   "cell_type": "code",
   "execution_count": null,
   "outputs": [],
   "source": [
    "# plot confusion matrix\n",
    "y_pred = best_rf3.predict(X3_test)\n",
    "sns.heatmap(confusion_matrix(y_test, y_pred), annot=True, fmt='d', cmap='Blues')\n"
   ],
   "metadata": {
    "collapsed": false,
    "pycharm": {
     "is_executing": true
    }
   }
  },
  {
   "cell_type": "code",
   "execution_count": null,
   "outputs": [],
   "source": [
    "# roc curve\n",
    "from sklearn.metrics import roc_curve, roc_auc_score\n",
    "y_pred_proba = best_rf3.predict_proba(X3_test)[:,1]\n",
    "fpr, tpr, thresholds = roc_curve(y_test, y_pred_proba)\n",
    "plt.plot([0,1], [0,1], 'k--')\n",
    "plt.plot(fpr, tpr)\n",
    "plt.title(f'Random Forest ROC Curve, AUC={ roc_auc_score(y_test, y_pred_proba):.3f}')\n",
    "plt.show()"
   ],
   "metadata": {
    "collapsed": false,
    "pycharm": {
     "is_executing": true
    }
   }
  },
  {
   "cell_type": "code",
   "execution_count": null,
   "outputs": [],
   "source": [],
   "metadata": {
    "collapsed": false,
    "pycharm": {
     "is_executing": true
    }
   }
  },
  {
   "cell_type": "markdown",
   "source": [
    "### Neural Networks"
   ],
   "metadata": {
    "collapsed": false
   }
  },
  {
   "cell_type": "code",
   "execution_count": null,
   "outputs": [],
   "source": [
    "from keras.models import Sequential\n",
    "from keras.layers import Dense\n",
    "scaler = StandardScaler()\n",
    "X=df_incidents_prepared.drop('isKilled', axis=1)\n",
    "X.drop(['n_unharmed', 'n_arrested'], axis=1, inplace=True)\n",
    "X=pd.get_dummies(X)\n",
    "X.shape"
   ],
   "metadata": {
    "collapsed": false,
    "pycharm": {
     "is_executing": true
    }
   }
  },
  {
   "cell_type": "code",
   "execution_count": null,
   "outputs": [],
   "source": [
    "\n",
    "X_dev, X_test, y_dev, y_test = train_test_split(X, y, test_size=0.2, random_state=42)\n",
    "X_train, X_val, y_train, y_val = train_test_split(X_dev, y_dev, test_size=0.2, random_state=42, stratify=y_train)\n",
    "\n",
    "X_train_scaled=scaler.fit_transform(X_train)\n",
    "X_test_scaled=scaler.transform(X_test)\n",
    "X_val_scaled=scaler.transform(X_val)"
   ],
   "metadata": {
    "collapsed": false,
    "pycharm": {
     "is_executing": true
    }
   }
  },
  {
   "cell_type": "code",
   "execution_count": null,
   "outputs": [],
   "source": [
    "X.info()"
   ],
   "metadata": {
    "collapsed": false,
    "pycharm": {
     "is_executing": true
    }
   }
  },
  {
   "cell_type": "code",
   "execution_count": null,
   "outputs": [],
   "source": [
    "input_size = X_train.shape[1]"
   ],
   "metadata": {
    "collapsed": false,
    "pycharm": {
     "is_executing": true
    }
   }
  },
  {
   "cell_type": "code",
   "execution_count": null,
   "outputs": [],
   "source": [
    "model = Sequential([Dense(32, activation='relu', input_shape=(input_size, ) ),\n",
    "                    Dense(16, activation='relu'),\n",
    "                    Dense(1, activation='sigmoid')])"
   ],
   "metadata": {
    "collapsed": false,
    "pycharm": {
     "is_executing": true
    }
   }
  },
  {
   "cell_type": "code",
   "execution_count": null,
   "outputs": [],
   "source": [
    "from keras.callbacks import EarlyStopping\n",
    "from keras.optimizers import Adam\n",
    "\n",
    "sampler = RandomUnderSampler(random_state=42)\n",
    "X_train_scaled, y_train = sampler.fit_resample(X_train_scaled, y_train)"
   ],
   "metadata": {
    "collapsed": false,
    "pycharm": {
     "is_executing": true
    }
   }
  },
  {
   "cell_type": "code",
   "execution_count": null,
   "outputs": [],
   "source": [
    "early_stopping= EarlyStopping(patience=5, restore_best_weights=True, monitor='val_loss')\n",
    "optimizer = Adam(learning_rate=0.001)\n",
    "model.compile(optimizer=optimizer, loss='binary_crossentropy', metrics=['accuracy'])"
   ],
   "metadata": {
    "collapsed": false,
    "pycharm": {
     "is_executing": true
    }
   }
  },
  {
   "cell_type": "code",
   "execution_count": null,
   "outputs": [],
   "source": [
    "model.fit(X_train_scaled, y_train, validation_data=(X_val_scaled, y_val), epochs=10, callbacks=[early_stopping])"
   ],
   "metadata": {
    "collapsed": false,
    "pycharm": {
     "is_executing": true
    }
   }
  },
  {
   "cell_type": "code",
   "execution_count": null,
   "outputs": [],
   "source": [
    "y_pred = model.predict(X_test_scaled)\n",
    "y_pred_train = model.predict(X_train_scaled)\n",
    "y_pred = y_pred > 0.5\n",
    "y_pred_train = y_pred_train > 0.5\n",
    "print('Accuracy on training set: ', accuracy_score(y_train, y_pred_train))\n",
    "print('confusion_matrix on training set: \\n', confusion_matrix(y_train, y_pred_train))\n",
    "print('Accuracy on test set: ', accuracy_score(y_test, y_pred))\n",
    "print('Confusion matrix: \\n', confusion_matrix(y_test, y_pred))\n",
    "print('Classification report: \\n', classification_report(y_test, y_pred))"
   ],
   "metadata": {
    "collapsed": false,
    "pycharm": {
     "is_executing": true
    }
   }
  },
  {
   "cell_type": "markdown",
   "source": [
    "\n"
   ],
   "metadata": {
    "collapsed": false
   }
  },
  {
   "cell_type": "code",
   "execution_count": null,
   "outputs": [],
   "source": [
    "\n"
   ],
   "metadata": {
    "collapsed": false,
    "pycharm": {
     "is_executing": true
    }
   }
  }
 ],
 "metadata": {
  "kernelspec": {
   "display_name": "Python 3",
   "language": "python",
   "name": "python3"
  },
  "language_info": {
   "codemirror_mode": {
    "name": "ipython",
    "version": 3
   },
   "file_extension": ".py",
   "mimetype": "text/x-python",
   "name": "python",
   "nbconvert_exporter": "python",
   "pygments_lexer": "ipython3",
   "version": "3.12.0"
  }
 },
 "nbformat": 4,
 "nbformat_minor": 0
}
