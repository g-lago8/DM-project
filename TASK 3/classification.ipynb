{
 "cells": [
  {
   "cell_type": "markdown",
   "metadata": {
    "collapsed": false
   },
   "source": [
    "# Task 3: Classification"
   ]
  },
  {
   "cell_type": "code",
   "execution_count": null,
   "metadata": {
    "collapsed": false
   },
   "outputs": [],
   "source": [
    "# imports\n",
    "import numpy as np\n",
    "import pandas as pd\n",
    "from tqdm import tqdm\n",
    "import matplotlib.pyplot as plt\n",
    "import seaborn as sns\n",
    "import sklearn\n",
    "\n",
    "from sklearn.model_selection import train_test_split\n",
    "from sklearn.metrics import accuracy_score, precision_score, recall_score, f1_score, confusion_matrix, classification_report\n",
    "from my_model_selection import grid_search_kfold_cv, evaluate_model"
   ]
  },
  {
   "cell_type": "markdown",
   "metadata": {
    "collapsed": false
   },
   "source": [
    "## 3.1 Classification with all features available"
   ]
  },
  {
   "cell_type": "markdown",
   "metadata": {
    "collapsed": false
   },
   "source": [
    "Our first approach is to use all the features available in the original dataset, and those we created in the previous task from those features.\n",
    "\n",
    "In particular we can use `n_injured`, `n_unharmed` and `n_arrested` to predict `n_killed`. We can also use `n_participants`, `n_participants_adult`, `n_participants_child`, `n_participants_teen`, `n_participants_females` to predict `n_killed`."
   ]
  },
  {
   "cell_type": "markdown",
   "metadata": {
    "collapsed": false
   },
   "source": [
    "### 3.1.1 Preparing data for classification"
   ]
  },
  {
   "cell_type": "code",
   "execution_count": null,
   "metadata": {},
   "outputs": [
    {
     "name": "stderr",
     "output_type": "stream",
     "text": [
      "c:\\Users\\HUAWEI\\AppData\\Local\\Programs\\Python\\Python310\\lib\\site-packages\\scipy\\__init__.py:169: UserWarning: A NumPy version >=1.18.5 and <1.26.0 is required for this version of SciPy (detected version 1.26.2\n",
      "  warnings.warn(f\"A NumPy version >={np_minversion} and <{np_maxversion}\"\n"
     ]
    }
   ],
   "source": [
    "# imports\n",
    "import numpy as np\n",
    "import pandas as pd\n",
    "from tqdm import tqdm\n",
    "import matplotlib.pyplot as plt\n",
    "import seaborn as sns\n",
    "import sklearn\n",
    "from sklearn.model_selection import train_test_split"
   ]
  },
  {
   "cell_type": "code",
   "execution_count": null,
   "metadata": {
    "collapsed": false
   },
   "outputs": [],
   "source": [
    "df_incidents_prepared = pd.read_csv('../dataset_preparation/incidents_prepared.csv', index_col=0)\n",
    "df_orig = pd.read_csv('../dataset_preparation/original_features.csv', index_col=0)"
   ]
  },
  {
   "cell_type": "code",
   "execution_count": null,
   "metadata": {
    "collapsed": false
   },
   "outputs": [
    {
     "name": "stdout",
     "output_type": "stream",
     "text": [
      "<class 'pandas.core.frame.DataFrame'>\n",
      "Int64Index: 161550 entries, 0 to 164506\n",
      "Data columns (total 41 columns):\n",
      " #   Column                     Non-Null Count   Dtype  \n",
      "---  ------                     --------------   -----  \n",
      " 0   date                       161550 non-null  object \n",
      " 1   state                      161550 non-null  object \n",
      " 2   city_or_county             161550 non-null  object \n",
      " 3   address                    149848 non-null  object \n",
      " 4   latitude                   161550 non-null  float64\n",
      " 5   longitude                  161550 non-null  float64\n",
      " 6   congressional_district     161550 non-null  float64\n",
      " 7   avg_age_participants       161550 non-null  float64\n",
      " 8   n_killed                   161550 non-null  int64  \n",
      " 9   incident_characteristics1  161550 non-null  object \n",
      " 10  year                       161550 non-null  float64\n",
      " 11  age_group                  161550 non-null  object \n",
      " 12  povertyPercentage          161550 non-null  float64\n",
      " 13  population                 161550 non-null  int64  \n",
      " 14  party                      161550 non-null  object \n",
      " 15  candidatevotes             161550 non-null  float64\n",
      " 16  severity                   161550 non-null  float64\n",
      " 17  severity_cat               161550 non-null  object \n",
      " 18  severity_minor             161550 non-null  float64\n",
      " 19  year_month                 161550 non-null  object \n",
      " 20  killed_by_district         161550 non-null  float64\n",
      " 21  injured_by_district        161550 non-null  float64\n",
      " 22  arrested_ratio             161550 non-null  float64\n",
      " 23  unharmed_ratio             161550 non-null  float64\n",
      " 24  right_or_left              161550 non-null  float64\n",
      " 25  dfm_district_killed        161550 non-null  float64\n",
      " 26  dfm_district_injured       161550 non-null  float64\n",
      " 27  dfm_district_participants  161550 non-null  float64\n",
      " 28  dfm_district_child         161550 non-null  float64\n",
      " 29  dfm_district_teen          161550 non-null  float64\n",
      " 30  dfm_district_females       161550 non-null  float64\n",
      " 31  voters_over_population     161550 non-null  float64\n",
      " 32  n_arrested                 161550 non-null  float64\n",
      " 33  n_participants             161550 non-null  float64\n",
      " 34  n_participants_adult       161550 non-null  float64\n",
      " 35  n_participants_teen        161550 non-null  float64\n",
      " 36  n_participants_child       161550 non-null  float64\n",
      " 37  n_females                  161550 non-null  float64\n",
      " 38  n_males                    161550 non-null  float64\n",
      " 39  n_injured                  161550 non-null  int64  \n",
      " 40  n_unharmed                 161550 non-null  float64\n",
      "dtypes: float64(29), int64(3), object(9)\n",
      "memory usage: 55.8+ MB\n"
     ]
    }
   ],
   "source": [
    "df_incidents_prepared=df_incidents_prepared.join(df_orig)\n",
    "df_incidents_prepared.info()"
   ]
  },
  {
   "cell_type": "markdown",
   "metadata": {
    "collapsed": false
   },
   "source": [
    "Now, `incidents_prepared` is the whole dataset with both original features and features created by us.\n",
    "We decided to use only the original features for what concerns the gender and age groups of the participants: we kept `n_participants`, `n_participants_adult`, `n_participants_child`, `n_participants_teen`, `n_participants_females`. We dropped `n_participants_male` because it is highly correlated with `n_participants`."
   ]
  },
  {
   "cell_type": "code",
   "execution_count": null,
   "metadata": {
    "collapsed": false
   },
   "outputs": [],
   "source": [
    "df_incidents_prepared['isKilled'] = df_incidents_prepared['n_killed'] > 0"
   ]
  },
  {
   "cell_type": "code",
   "execution_count": null,
   "metadata": {},
   "outputs": [],
   "source": [
    "cols2drop=[\n",
    "            #categorical features difficult to encode\n",
    "           'address', 'city_or_county','congressional_district','date','state', 'year_month',\n",
    "           'avg_age_participants', # we already have age_group\n",
    "           'n_killed',  #label\n",
    "           'incident_characteristics1', # too similar to the label isKilled\n",
    "           'severity', 'severity_cat', # created from n_killed\n",
    "\n",
    "           # we decided to use original features n_females, n_injured etc. all those features are highly correlated. We decided to keep the original features because they are more interpretable\n",
    "           'killed_by_district','injured_by_district', 'dfm_district_killed','dfm_district_injured', 'dfm_district_participants', 'dfm_district_child', 'dfm_district_teen', 'dfm_district_females', 'arrested_ratio', 'unharmed_ratio', 'severity_minor',\n",
    "\n",
    "           # correlated with n_participants\n",
    "            'n_participants_adult'\n",
    "            ]\n",
    "df_incidents_prepared=df_incidents_prepared.drop(cols2drop, axis=1)"
   ]
  },
  {
   "cell_type": "code",
   "execution_count": null,
   "metadata": {
    "collapsed": false
   },
   "outputs": [
    {
     "name": "stdout",
     "output_type": "stream",
     "text": [
      "<class 'pandas.core.frame.DataFrame'>\n",
      "Int64Index: 161550 entries, 0 to 164506\n",
      "Data columns (total 19 columns):\n",
      " #   Column                  Non-Null Count   Dtype  \n",
      "---  ------                  --------------   -----  \n",
      " 0   latitude                161550 non-null  float64\n",
      " 1   longitude               161550 non-null  float64\n",
      " 2   year                    161550 non-null  float64\n",
      " 3   age_group               161550 non-null  object \n",
      " 4   povertyPercentage       161550 non-null  float64\n",
      " 5   population              161550 non-null  int64  \n",
      " 6   party                   161550 non-null  object \n",
      " 7   candidatevotes          161550 non-null  float64\n",
      " 8   right_or_left           161550 non-null  float64\n",
      " 9   voters_over_population  161550 non-null  float64\n",
      " 10  n_arrested              161550 non-null  float64\n",
      " 11  n_participants          161550 non-null  float64\n",
      " 12  n_participants_teen     161550 non-null  float64\n",
      " 13  n_participants_child    161550 non-null  float64\n",
      " 14  n_females               161550 non-null  float64\n",
      " 15  n_males                 161550 non-null  float64\n",
      " 16  n_injured               161550 non-null  int64  \n",
      " 17  n_unharmed              161550 non-null  float64\n",
      " 18  isKilled                161550 non-null  bool   \n",
      "dtypes: bool(1), float64(14), int64(2), object(2)\n",
      "memory usage: 27.6+ MB\n"
     ]
    }
   ],
   "source": [
    "df_incidents_prepared.info()"
   ]
  },
  {
   "cell_type": "code",
   "execution_count": null,
   "metadata": {},
   "outputs": [],
   "source": [
    "X=df_incidents_prepared.drop('isKilled', axis=1)\n",
    "y=df_incidents_prepared['isKilled']"
   ]
  },
  {
   "cell_type": "code",
   "execution_count": null,
   "metadata": {
    "collapsed": false
   },
   "outputs": [
    {
     "data": {
      "text/html": [
       "<div>\n",
       "<style scoped>\n",
       "    .dataframe tbody tr th:only-of-type {\n",
       "        vertical-align: middle;\n",
       "    }\n",
       "\n",
       "    .dataframe tbody tr th {\n",
       "        vertical-align: top;\n",
       "    }\n",
       "\n",
       "    .dataframe thead th {\n",
       "        text-align: right;\n",
       "    }\n",
       "</style>\n",
       "<table border=\"1\" class=\"dataframe\">\n",
       "  <thead>\n",
       "    <tr style=\"text-align: right;\">\n",
       "      <th></th>\n",
       "      <th>latitude</th>\n",
       "      <th>longitude</th>\n",
       "      <th>year</th>\n",
       "      <th>age_group</th>\n",
       "      <th>povertyPercentage</th>\n",
       "      <th>population</th>\n",
       "      <th>party</th>\n",
       "      <th>candidatevotes</th>\n",
       "      <th>right_or_left</th>\n",
       "      <th>voters_over_population</th>\n",
       "      <th>n_arrested</th>\n",
       "      <th>n_participants</th>\n",
       "      <th>n_participants_teen</th>\n",
       "      <th>n_participants_child</th>\n",
       "      <th>n_females</th>\n",
       "      <th>n_males</th>\n",
       "      <th>n_injured</th>\n",
       "      <th>n_unharmed</th>\n",
       "    </tr>\n",
       "  </thead>\n",
       "  <tbody>\n",
       "    <tr>\n",
       "      <th>0</th>\n",
       "      <td>39.8322</td>\n",
       "      <td>-86.2492</td>\n",
       "      <td>2015.0</td>\n",
       "      <td>[18-24]</td>\n",
       "      <td>12.3</td>\n",
       "      <td>6608422</td>\n",
       "      <td>DEMOCRAT</td>\n",
       "      <td>61443.0</td>\n",
       "      <td>0.452677</td>\n",
       "      <td>0.203046</td>\n",
       "      <td>0.0</td>\n",
       "      <td>1.0</td>\n",
       "      <td>0.0</td>\n",
       "      <td>0.0</td>\n",
       "      <td>0.0</td>\n",
       "      <td>1.0</td>\n",
       "      <td>1</td>\n",
       "      <td>0.0</td>\n",
       "    </tr>\n",
       "    <tr>\n",
       "      <th>1</th>\n",
       "      <td>39.7745</td>\n",
       "      <td>-86.1166</td>\n",
       "      <td>2015.0</td>\n",
       "      <td>[25-34]</td>\n",
       "      <td>12.3</td>\n",
       "      <td>6608422</td>\n",
       "      <td>DEMOCRAT</td>\n",
       "      <td>61443.0</td>\n",
       "      <td>0.452677</td>\n",
       "      <td>0.203046</td>\n",
       "      <td>1.0</td>\n",
       "      <td>2.0</td>\n",
       "      <td>0.0</td>\n",
       "      <td>0.0</td>\n",
       "      <td>0.0</td>\n",
       "      <td>2.0</td>\n",
       "      <td>0</td>\n",
       "      <td>0.0</td>\n",
       "    </tr>\n",
       "    <tr>\n",
       "      <th>2</th>\n",
       "      <td>39.7759</td>\n",
       "      <td>-86.2940</td>\n",
       "      <td>2015.0</td>\n",
       "      <td>[35-44]</td>\n",
       "      <td>12.3</td>\n",
       "      <td>6608422</td>\n",
       "      <td>DEMOCRAT</td>\n",
       "      <td>61443.0</td>\n",
       "      <td>0.452677</td>\n",
       "      <td>0.203046</td>\n",
       "      <td>1.0</td>\n",
       "      <td>2.0</td>\n",
       "      <td>0.0</td>\n",
       "      <td>0.0</td>\n",
       "      <td>0.0</td>\n",
       "      <td>2.0</td>\n",
       "      <td>0</td>\n",
       "      <td>0.0</td>\n",
       "    </tr>\n",
       "    <tr>\n",
       "      <th>3</th>\n",
       "      <td>39.8040</td>\n",
       "      <td>-86.0095</td>\n",
       "      <td>2015.0</td>\n",
       "      <td>[18-24]</td>\n",
       "      <td>12.3</td>\n",
       "      <td>6608422</td>\n",
       "      <td>DEMOCRAT</td>\n",
       "      <td>61443.0</td>\n",
       "      <td>0.452677</td>\n",
       "      <td>0.203046</td>\n",
       "      <td>0.0</td>\n",
       "      <td>1.0</td>\n",
       "      <td>0.0</td>\n",
       "      <td>0.0</td>\n",
       "      <td>0.0</td>\n",
       "      <td>1.0</td>\n",
       "      <td>0</td>\n",
       "      <td>0.0</td>\n",
       "    </tr>\n",
       "    <tr>\n",
       "      <th>4</th>\n",
       "      <td>39.7882</td>\n",
       "      <td>-86.2091</td>\n",
       "      <td>2015.0</td>\n",
       "      <td>[45-54]</td>\n",
       "      <td>12.3</td>\n",
       "      <td>6608422</td>\n",
       "      <td>DEMOCRAT</td>\n",
       "      <td>61443.0</td>\n",
       "      <td>0.452677</td>\n",
       "      <td>0.203046</td>\n",
       "      <td>0.0</td>\n",
       "      <td>1.0</td>\n",
       "      <td>0.0</td>\n",
       "      <td>0.0</td>\n",
       "      <td>0.0</td>\n",
       "      <td>1.0</td>\n",
       "      <td>1</td>\n",
       "      <td>0.0</td>\n",
       "    </tr>\n",
       "  </tbody>\n",
       "</table>\n",
       "</div>"
      ],
      "text/plain": [
       "   latitude  longitude    year age_group  povertyPercentage  population  \\\n",
       "0   39.8322   -86.2492  2015.0   [18-24]               12.3     6608422   \n",
       "1   39.7745   -86.1166  2015.0   [25-34]               12.3     6608422   \n",
       "2   39.7759   -86.2940  2015.0   [35-44]               12.3     6608422   \n",
       "3   39.8040   -86.0095  2015.0   [18-24]               12.3     6608422   \n",
       "4   39.7882   -86.2091  2015.0   [45-54]               12.3     6608422   \n",
       "\n",
       "      party  candidatevotes  right_or_left  voters_over_population  \\\n",
       "0  DEMOCRAT         61443.0       0.452677                0.203046   \n",
       "1  DEMOCRAT         61443.0       0.452677                0.203046   \n",
       "2  DEMOCRAT         61443.0       0.452677                0.203046   \n",
       "3  DEMOCRAT         61443.0       0.452677                0.203046   \n",
       "4  DEMOCRAT         61443.0       0.452677                0.203046   \n",
       "\n",
       "   n_arrested  n_participants  n_participants_teen  n_participants_child  \\\n",
       "0         0.0             1.0                  0.0                   0.0   \n",
       "1         1.0             2.0                  0.0                   0.0   \n",
       "2         1.0             2.0                  0.0                   0.0   \n",
       "3         0.0             1.0                  0.0                   0.0   \n",
       "4         0.0             1.0                  0.0                   0.0   \n",
       "\n",
       "   n_females  n_males  n_injured  n_unharmed  \n",
       "0        0.0      1.0          1         0.0  \n",
       "1        0.0      2.0          0         0.0  \n",
       "2        0.0      2.0          0         0.0  \n",
       "3        0.0      1.0          0         0.0  \n",
       "4        0.0      1.0          1         0.0  "
      ]
     },
     "execution_count": 8,
     "metadata": {},
     "output_type": "execute_result"
    }
   ],
   "source": [
    "X.head()"
   ]
  },
  {
   "cell_type": "markdown",
   "metadata": {
    "collapsed": false
   },
   "source": [
    "One Hot Encoding of categorical features"
   ]
  },
  {
   "cell_type": "code",
   "execution_count": null,
   "metadata": {},
   "outputs": [
    {
     "name": "stdout",
     "output_type": "stream",
     "text": [
      "<class 'pandas.core.frame.DataFrame'>\n",
      "Int64Index: 161550 entries, 0 to 164506\n",
      "Data columns (total 27 columns):\n",
      " #   Column                  Non-Null Count   Dtype  \n",
      "---  ------                  --------------   -----  \n",
      " 0   latitude                161550 non-null  float64\n",
      " 1   longitude               161550 non-null  float64\n",
      " 2   year                    161550 non-null  float64\n",
      " 3   povertyPercentage       161550 non-null  float64\n",
      " 4   population              161550 non-null  int64  \n",
      " 5   candidatevotes          161550 non-null  float64\n",
      " 6   right_or_left           161550 non-null  float64\n",
      " 7   voters_over_population  161550 non-null  float64\n",
      " 8   n_arrested              161550 non-null  float64\n",
      " 9   n_participants          161550 non-null  float64\n",
      " 10  n_participants_teen     161550 non-null  float64\n",
      " 11  n_participants_child    161550 non-null  float64\n",
      " 12  n_females               161550 non-null  float64\n",
      " 13  n_males                 161550 non-null  float64\n",
      " 14  n_injured               161550 non-null  int64  \n",
      " 15  n_unharmed              161550 non-null  float64\n",
      " 16  age_group_[0-11]        161550 non-null  uint8  \n",
      " 17  age_group_[12-17]       161550 non-null  uint8  \n",
      " 18  age_group_[18-24]       161550 non-null  uint8  \n",
      " 19  age_group_[25-34]       161550 non-null  uint8  \n",
      " 20  age_group_[35-44]       161550 non-null  uint8  \n",
      " 21  age_group_[45-54]       161550 non-null  uint8  \n",
      " 22  age_group_[55-64]       161550 non-null  uint8  \n",
      " 23  age_group_[65-74]       161550 non-null  uint8  \n",
      " 24  age_group_[75-100]      161550 non-null  uint8  \n",
      " 25  party_DEMOCRAT          161550 non-null  uint8  \n",
      " 26  party_REPUBLICAN        161550 non-null  uint8  \n",
      "dtypes: float64(14), int64(2), uint8(11)\n",
      "memory usage: 26.7 MB\n"
     ]
    }
   ],
   "source": [
    "import pandas as pd\n",
    "X=pd.get_dummies(X)\n",
    "X.info()"
   ]
  },
  {
   "cell_type": "markdown",
   "metadata": {
    "collapsed": false
   },
   "source": [
    "### 3.1.2 Splitting data into train and test set"
   ]
  },
  {
   "cell_type": "code",
   "execution_count": null,
   "metadata": {
    "collapsed": false
   },
   "outputs": [],
   "source": [
    "from sklearn.model_selection import train_test_split\n",
    "X_train, X_test, y_train, y_test = train_test_split(X, y, stratify=y, test_size=0.2, random_state=42)"
   ]
  },
  {
   "cell_type": "markdown",
   "metadata": {
    "collapsed": false
   },
   "source": [
    "### 3.1.3 Logistic Regression"
   ]
  },
  {
   "cell_type": "code",
   "execution_count": null,
   "metadata": {
    "collapsed": false
   },
   "outputs": [],
   "source": [
    "from sklearn.preprocessing import StandardScaler\n",
    "from sklearn.linear_model import LogisticRegression"
   ]
  },
  {
   "cell_type": "code",
   "execution_count": null,
   "metadata": {
    "collapsed": false
   },
   "outputs": [],
   "source": [
    "scaler = StandardScaler()\n",
    "X_train_scaled=scaler.fit_transform(X_train)\n",
    "X_test_scaled=scaler.transform(X_test)"
   ]
  },
  {
   "cell_type": "code",
   "execution_count": null,
   "metadata": {
    "collapsed": false
   },
   "outputs": [
    {
     "data": {
      "text/html": [
       "<style>#sk-container-id-14 {color: black;background-color: white;}#sk-container-id-14 pre{padding: 0;}#sk-container-id-14 div.sk-toggleable {background-color: white;}#sk-container-id-14 label.sk-toggleable__label {cursor: pointer;display: block;width: 100%;margin-bottom: 0;padding: 0.3em;box-sizing: border-box;text-align: center;}#sk-container-id-14 label.sk-toggleable__label-arrow:before {content: \"▸\";float: left;margin-right: 0.25em;color: #696969;}#sk-container-id-14 label.sk-toggleable__label-arrow:hover:before {color: black;}#sk-container-id-14 div.sk-estimator:hover label.sk-toggleable__label-arrow:before {color: black;}#sk-container-id-14 div.sk-toggleable__content {max-height: 0;max-width: 0;overflow: hidden;text-align: left;background-color: #f0f8ff;}#sk-container-id-14 div.sk-toggleable__content pre {margin: 0.2em;color: black;border-radius: 0.25em;background-color: #f0f8ff;}#sk-container-id-14 input.sk-toggleable__control:checked~div.sk-toggleable__content {max-height: 200px;max-width: 100%;overflow: auto;}#sk-container-id-14 input.sk-toggleable__control:checked~label.sk-toggleable__label-arrow:before {content: \"▾\";}#sk-container-id-14 div.sk-estimator input.sk-toggleable__control:checked~label.sk-toggleable__label {background-color: #d4ebff;}#sk-container-id-14 div.sk-label input.sk-toggleable__control:checked~label.sk-toggleable__label {background-color: #d4ebff;}#sk-container-id-14 input.sk-hidden--visually {border: 0;clip: rect(1px 1px 1px 1px);clip: rect(1px, 1px, 1px, 1px);height: 1px;margin: -1px;overflow: hidden;padding: 0;position: absolute;width: 1px;}#sk-container-id-14 div.sk-estimator {font-family: monospace;background-color: #f0f8ff;border: 1px dotted black;border-radius: 0.25em;box-sizing: border-box;margin-bottom: 0.5em;}#sk-container-id-14 div.sk-estimator:hover {background-color: #d4ebff;}#sk-container-id-14 div.sk-parallel-item::after {content: \"\";width: 100%;border-bottom: 1px solid gray;flex-grow: 1;}#sk-container-id-14 div.sk-label:hover label.sk-toggleable__label {background-color: #d4ebff;}#sk-container-id-14 div.sk-serial::before {content: \"\";position: absolute;border-left: 1px solid gray;box-sizing: border-box;top: 0;bottom: 0;left: 50%;z-index: 0;}#sk-container-id-14 div.sk-serial {display: flex;flex-direction: column;align-items: center;background-color: white;padding-right: 0.2em;padding-left: 0.2em;position: relative;}#sk-container-id-14 div.sk-item {position: relative;z-index: 1;}#sk-container-id-14 div.sk-parallel {display: flex;align-items: stretch;justify-content: center;background-color: white;position: relative;}#sk-container-id-14 div.sk-item::before, #sk-container-id-14 div.sk-parallel-item::before {content: \"\";position: absolute;border-left: 1px solid gray;box-sizing: border-box;top: 0;bottom: 0;left: 50%;z-index: -1;}#sk-container-id-14 div.sk-parallel-item {display: flex;flex-direction: column;z-index: 1;position: relative;background-color: white;}#sk-container-id-14 div.sk-parallel-item:first-child::after {align-self: flex-end;width: 50%;}#sk-container-id-14 div.sk-parallel-item:last-child::after {align-self: flex-start;width: 50%;}#sk-container-id-14 div.sk-parallel-item:only-child::after {width: 0;}#sk-container-id-14 div.sk-dashed-wrapped {border: 1px dashed gray;margin: 0 0.4em 0.5em 0.4em;box-sizing: border-box;padding-bottom: 0.4em;background-color: white;}#sk-container-id-14 div.sk-label label {font-family: monospace;font-weight: bold;display: inline-block;line-height: 1.2em;}#sk-container-id-14 div.sk-label-container {text-align: center;}#sk-container-id-14 div.sk-container {/* jupyter's `normalize.less` sets `[hidden] { display: none; }` but bootstrap.min.css set `[hidden] { display: none !important; }` so we also need the `!important` here to be able to override the default hidden behavior on the sphinx rendered scikit-learn.org. See: https://github.com/scikit-learn/scikit-learn/issues/21755 */display: inline-block !important;position: relative;}#sk-container-id-14 div.sk-text-repr-fallback {display: none;}</style><div id=\"sk-container-id-14\" class=\"sk-top-container\"><div class=\"sk-text-repr-fallback\"><pre>LogisticRegression()</pre><b>In a Jupyter environment, please rerun this cell to show the HTML representation or trust the notebook. <br />On GitHub, the HTML representation is unable to render, please try loading this page with nbviewer.org.</b></div><div class=\"sk-container\" hidden><div class=\"sk-item\"><div class=\"sk-estimator sk-toggleable\"><input class=\"sk-toggleable__control sk-hidden--visually\" id=\"sk-estimator-id-20\" type=\"checkbox\" checked><label for=\"sk-estimator-id-20\" class=\"sk-toggleable__label sk-toggleable__label-arrow\">LogisticRegression</label><div class=\"sk-toggleable__content\"><pre>LogisticRegression()</pre></div></div></div></div></div>"
      ],
      "text/plain": [
       "LogisticRegression()"
      ]
     },
     "execution_count": 181,
     "metadata": {},
     "output_type": "execute_result"
    }
   ],
   "source": [
    "# fitting the model\n",
    "logreg = LogisticRegression()\n",
    "logreg.fit(X_train_scaled, y_train)"
   ]
  },
  {
   "cell_type": "code",
   "execution_count": null,
   "metadata": {
    "collapsed": false
   },
   "outputs": [],
   "source": [
    "# predictions\n",
    "y_pred = logreg.predict(X_test_scaled)\n",
    "y_pred_train = logreg.predict(X_train_scaled)"
   ]
  },
  {
   "cell_type": "code",
   "execution_count": null,
   "metadata": {
    "collapsed": false
   },
   "outputs": [
    {
     "name": "stdout",
     "output_type": "stream",
     "text": [
      "Accuracy on training set:  0.9764159702878366\n",
      "confusion_matrix on training set: \n",
      " [[90595  2310]\n",
      " [  738 35597]]\n",
      "Accuracy on validation set:  0.9776539770968741\n",
      "Confusion matrix: \n",
      " [[22685   541]\n",
      " [  181  8903]]\n",
      "Classification report: \n",
      "               precision    recall  f1-score   support\n",
      "\n",
      "       False       0.99      0.98      0.98     23226\n",
      "        True       0.94      0.98      0.96      9084\n",
      "\n",
      "    accuracy                           0.98     32310\n",
      "   macro avg       0.97      0.98      0.97     32310\n",
      "weighted avg       0.98      0.98      0.98     32310\n",
      "\n"
     ]
    }
   ],
   "source": [
    "# metrics\n",
    "results_logreg = evaluate_model(logreg, X_train_scaled, y_train, X_test_scaled, y_test)"
   ]
  },
  {
   "cell_type": "code",
   "execution_count": null,
   "metadata": {
    "collapsed": false
   },
   "outputs": [
    {
     "data": {
      "text/plain": [
       "<Axes: >"
      ]
     },
     "execution_count": 184,
     "metadata": {},
     "output_type": "execute_result"
    },
    {
     "data": {
      "image/png": "[encoded data removed]",
      "text/plain": [
       "<Figure size 640x480 with 2 Axes>"
      ]
     },
     "metadata": {},
     "output_type": "display_data"
    }
   ],
   "source": [
    "# plot confusion matrix\n",
    "sns.heatmap(confusion_matrix(y_test, y_pred), annot=True, fmt='d', cmap='Blues')"
   ]
  },
  {
   "cell_type": "code",
   "execution_count": null,
   "metadata": {
    "collapsed": false
   },
   "outputs": [
    {
     "data": {
      "image/png": "[encoded data removed]",
      "text/plain": [
       "<Figure size 640x480 with 1 Axes>"
      ]
     },
     "metadata": {},
     "output_type": "display_data"
    }
   ],
   "source": [
    "# roc curve\n",
    "from sklearn.metrics import roc_curve, roc_auc_score\n",
    "y_pred_proba = logreg.predict_proba(X_test_scaled)[:,1]\n",
    "fpr, tpr, thresholds = roc_curve(y_test, y_pred_proba)\n",
    "plt.plot([0,1], [0,1], 'k--')\n",
    "plt.plot(fpr, tpr)\n",
    "plt.title(f'Logistic Regression ROC Curve, AUC={ roc_auc_score(y_test, y_pred_proba):.3f}')\n",
    "plt.show()"
   ]
  },
  {
   "cell_type": "code",
   "execution_count": null,
   "metadata": {
    "collapsed": false
   },
   "outputs": [],
   "source": []
  },
  {
   "cell_type": "markdown",
   "metadata": {
    "collapsed": false
   },
   "source": [
    "### Decision tree"
   ]
  },
  {
   "cell_type": "code",
   "execution_count": null,
   "metadata": {
    "collapsed": false
   },
   "outputs": [],
   "source": [
    "from sklearn.tree import DecisionTreeClassifier"
   ]
  },
  {
   "cell_type": "markdown",
   "metadata": {
    "collapsed": false
   },
   "source": []
  },
  {
   "cell_type": "code",
   "execution_count": null,
   "metadata": {
    "collapsed": false
   },
   "outputs": [
    {
     "name": "stdout",
     "output_type": "stream",
     "text": [
      "Fitting 3 folds for each of 24 candidates, totalling 72 fits\n",
      "[CV 1/3] END criterion=gini, max_depth=4, min_samples_split=2;, score=0.768 total time=   0.4s\n",
      "[CV 2/3] END criterion=gini, max_depth=4, min_samples_split=2;, score=0.761 total time=   0.5s\n",
      "[CV 3/3] END criterion=gini, max_depth=4, min_samples_split=2;, score=0.766 total time=   0.4s\n",
      "[CV 1/3] END criterion=gini, max_depth=4, min_samples_split=4;, score=0.768 total time=   0.5s\n",
      "[CV 2/3] END criterion=gini, max_depth=4, min_samples_split=4;, score=0.761 total time=   0.4s\n",
      "[CV 3/3] END criterion=gini, max_depth=4, min_samples_split=4;, score=0.766 total time=   1.5s\n",
      "[CV 1/3] END criterion=gini, max_depth=4, min_samples_split=8;, score=0.768 total time=   0.5s\n",
      "[CV 2/3] END criterion=gini, max_depth=4, min_samples_split=8;, score=0.761 total time=   0.9s\n",
      "[CV 3/3] END criterion=gini, max_depth=4, min_samples_split=8;, score=0.766 total time=   1.2s\n",
      "[CV 1/3] END criterion=gini, max_depth=4, min_samples_split=16;, score=0.768 total time=   0.5s\n",
      "[CV 2/3] END criterion=gini, max_depth=4, min_samples_split=16;, score=0.761 total time=   0.6s\n",
      "[CV 3/3] END criterion=gini, max_depth=4, min_samples_split=16;, score=0.766 total time=   1.1s\n",
      "[CV 1/3] END criterion=gini, max_depth=8, min_samples_split=2;, score=0.948 total time=   0.8s\n",
      "[CV 2/3] END criterion=gini, max_depth=8, min_samples_split=2;, score=0.945 total time=   0.7s\n",
      "[CV 3/3] END criterion=gini, max_depth=8, min_samples_split=2;, score=0.944 total time=   0.6s\n",
      "[CV 1/3] END criterion=gini, max_depth=8, min_samples_split=4;, score=0.948 total time=   0.6s\n",
      "[CV 2/3] END criterion=gini, max_depth=8, min_samples_split=4;, score=0.945 total time=   0.6s\n",
      "[CV 3/3] END criterion=gini, max_depth=8, min_samples_split=4;, score=0.944 total time=   0.7s\n",
      "[CV 1/3] END criterion=gini, max_depth=8, min_samples_split=8;, score=0.948 total time=   0.6s\n",
      "[CV 2/3] END criterion=gini, max_depth=8, min_samples_split=8;, score=0.946 total time=   0.7s\n",
      "[CV 3/3] END criterion=gini, max_depth=8, min_samples_split=8;, score=0.944 total time=   0.6s\n",
      "[CV 1/3] END criterion=gini, max_depth=8, min_samples_split=16;, score=0.948 total time=   0.6s\n",
      "[CV 2/3] END criterion=gini, max_depth=8, min_samples_split=16;, score=0.946 total time=   0.6s\n",
      "[CV 3/3] END criterion=gini, max_depth=8, min_samples_split=16;, score=0.944 total time=   0.6s\n",
      "[CV 1/3] END criterion=gini, max_depth=16, min_samples_split=2;, score=0.955 total time=   0.7s\n",
      "[CV 2/3] END criterion=gini, max_depth=16, min_samples_split=2;, score=0.953 total time=   0.7s\n",
      "[CV 3/3] END criterion=gini, max_depth=16, min_samples_split=2;, score=0.952 total time=   0.8s\n",
      "[CV 1/3] END criterion=gini, max_depth=16, min_samples_split=4;, score=0.953 total time=   0.8s\n",
      "[CV 2/3] END criterion=gini, max_depth=16, min_samples_split=4;, score=0.953 total time=   1.1s\n",
      "[CV 3/3] END criterion=gini, max_depth=16, min_samples_split=4;, score=0.952 total time=   0.9s\n",
      "[CV 1/3] END criterion=gini, max_depth=16, min_samples_split=8;, score=0.955 total time=   0.8s\n",
      "[CV 2/3] END criterion=gini, max_depth=16, min_samples_split=8;, score=0.954 total time=   0.7s\n",
      "[CV 3/3] END criterion=gini, max_depth=16, min_samples_split=8;, score=0.955 total time=   0.7s\n",
      "[CV 1/3] END criterion=gini, max_depth=16, min_samples_split=16;, score=0.957 total time=   0.7s\n",
      "[CV 2/3] END criterion=gini, max_depth=16, min_samples_split=16;, score=0.956 total time=   0.9s\n",
      "[CV 3/3] END criterion=gini, max_depth=16, min_samples_split=16;, score=0.957 total time=   0.9s\n",
      "[CV 1/3] END criterion=entropy, max_depth=4, min_samples_split=2;, score=0.751 total time=   0.5s\n",
      "[CV 2/3] END criterion=entropy, max_depth=4, min_samples_split=2;, score=0.747 total time=   0.5s\n",
      "[CV 3/3] END criterion=entropy, max_depth=4, min_samples_split=2;, score=0.748 total time=   0.4s\n",
      "[CV 1/3] END criterion=entropy, max_depth=4, min_samples_split=4;, score=0.751 total time=   0.4s\n",
      "[CV 2/3] END criterion=entropy, max_depth=4, min_samples_split=4;, score=0.747 total time=   0.5s\n",
      "[CV 3/3] END criterion=entropy, max_depth=4, min_samples_split=4;, score=0.748 total time=   0.4s\n",
      "[CV 1/3] END criterion=entropy, max_depth=4, min_samples_split=8;, score=0.751 total time=   0.4s\n",
      "[CV 2/3] END criterion=entropy, max_depth=4, min_samples_split=8;, score=0.747 total time=   0.4s\n",
      "[CV 3/3] END criterion=entropy, max_depth=4, min_samples_split=8;, score=0.748 total time=   0.4s\n",
      "[CV 1/3] END criterion=entropy, max_depth=4, min_samples_split=16;, score=0.751 total time=   0.4s\n",
      "[CV 2/3] END criterion=entropy, max_depth=4, min_samples_split=16;, score=0.747 total time=   0.4s\n",
      "[CV 3/3] END criterion=entropy, max_depth=4, min_samples_split=16;, score=0.748 total time=   0.4s\n",
      "[CV 1/3] END criterion=entropy, max_depth=8, min_samples_split=2;, score=0.943 total time=   0.7s\n",
      "[CV 2/3] END criterion=entropy, max_depth=8, min_samples_split=2;, score=0.938 total time=   0.7s\n",
      "[CV 3/3] END criterion=entropy, max_depth=8, min_samples_split=2;, score=0.937 total time=   0.6s\n",
      "[CV 1/3] END criterion=entropy, max_depth=8, min_samples_split=4;, score=0.943 total time=   0.7s\n",
      "[CV 2/3] END criterion=entropy, max_depth=8, min_samples_split=4;, score=0.938 total time=   0.6s\n",
      "[CV 3/3] END criterion=entropy, max_depth=8, min_samples_split=4;, score=0.937 total time=   0.6s\n",
      "[CV 1/3] END criterion=entropy, max_depth=8, min_samples_split=8;, score=0.943 total time=   0.7s\n",
      "[CV 2/3] END criterion=entropy, max_depth=8, min_samples_split=8;, score=0.938 total time=   0.7s\n",
      "[CV 3/3] END criterion=entropy, max_depth=8, min_samples_split=8;, score=0.937 total time=   0.6s\n",
      "[CV 1/3] END criterion=entropy, max_depth=8, min_samples_split=16;, score=0.943 total time=   0.6s\n",
      "[CV 2/3] END criterion=entropy, max_depth=8, min_samples_split=16;, score=0.938 total time=   0.7s\n",
      "[CV 3/3] END criterion=entropy, max_depth=8, min_samples_split=16;, score=0.937 total time=   0.6s\n",
      "[CV 1/3] END criterion=entropy, max_depth=16, min_samples_split=2;, score=0.955 total time=   0.9s\n",
      "[CV 2/3] END criterion=entropy, max_depth=16, min_samples_split=2;, score=0.953 total time=   0.8s\n",
      "[CV 3/3] END criterion=entropy, max_depth=16, min_samples_split=2;, score=0.955 total time=   0.8s\n",
      "[CV 1/3] END criterion=entropy, max_depth=16, min_samples_split=4;, score=0.955 total time=   0.8s\n",
      "[CV 2/3] END criterion=entropy, max_depth=16, min_samples_split=4;, score=0.953 total time=   0.8s\n",
      "[CV 3/3] END criterion=entropy, max_depth=16, min_samples_split=4;, score=0.956 total time=   0.8s\n",
      "[CV 1/3] END criterion=entropy, max_depth=16, min_samples_split=8;, score=0.954 total time=   0.8s\n",
      "[CV 2/3] END criterion=entropy, max_depth=16, min_samples_split=8;, score=0.952 total time=   0.8s\n",
      "[CV 3/3] END criterion=entropy, max_depth=16, min_samples_split=8;, score=0.956 total time=   0.8s\n",
      "[CV 1/3] END criterion=entropy, max_depth=16, min_samples_split=16;, score=0.957 total time=   0.8s\n",
      "[CV 2/3] END criterion=entropy, max_depth=16, min_samples_split=16;, score=0.955 total time=   0.8s\n",
      "[CV 3/3] END criterion=entropy, max_depth=16, min_samples_split=16;, score=0.959 total time=   0.8s\n",
      "Accuracy on training set:  0.9879913339523367\n",
      "confusion_matrix on training set: \n",
      " [[92073   832]\n",
      " [  720 35615]]\n",
      "Accuracy on validation set:  0.9779015784586815\n",
      "Confusion matrix: \n",
      " [[22860   366]\n",
      " [  348  8736]]\n",
      "Classification report: \n",
      "               precision    recall  f1-score   support\n",
      "\n",
      "       False       0.99      0.98      0.98     23226\n",
      "        True       0.96      0.96      0.96      9084\n",
      "\n",
      "    accuracy                           0.98     32310\n",
      "   macro avg       0.97      0.97      0.97     32310\n",
      "weighted avg       0.98      0.98      0.98     32310\n",
      "\n"
     ]
    }
   ],
   "source": [
    "# grid search\n",
    "from sklearn.model_selection import GridSearchCV\n",
    "param_grid = {'max_depth': [4, 8, 16],\n",
    "              'min_samples_split': [2,4, 8, 16],\n",
    "              'criterion': ['gini', 'entropy']\n",
    "}\n",
    "best_param_dt, best_tree, results_dt = grid_search_kfold_cv(model_class=DecisionTreeClassifier, param_grid=param_grid, X_train=X_train, y_train=y_train, X_test=X_test, y_test=y_test,  cv=3, metric='f1', eval=True)"
   ]
  },
  {
   "cell_type": "code",
   "execution_count": null,
   "metadata": {
    "collapsed": false
   },
   "outputs": [
    {
     "data": {
      "image/png": "[encoded data removed]",
      "text/plain": [
       "<Figure size 640x480 with 1 Axes>"
      ]
     },
     "metadata": {},
     "output_type": "display_data"
    }
   ],
   "source": [
    "# roc curves\n",
    "from sklearn.metrics import roc_curve, roc_auc_score\n",
    "y_pred_proba = best_tree.predict_proba(X_test)[:,1]\n",
    "fpr, tpr, thresholds = roc_curve(y_test, y_pred_proba)\n",
    "plt.plot([0,1], [0,1], 'k--')\n",
    "plt.plot(fpr, tpr)\n",
    "plt.title(f'Decision Tree ROC Curve, AUC={ roc_auc_score(y_test, y_pred_proba):.3f}')\n",
    "plt.show()"
   ]
  },
  {
   "cell_type": "markdown",
   "metadata": {
    "collapsed": false
   },
   "source": [
    "### K-nearest neighbors\n"
   ]
  },
  {
   "cell_type": "code",
   "execution_count": null,
   "metadata": {
    "collapsed": false
   },
   "outputs": [],
   "source": [
    "from sklearn.neighbors import KNeighborsClassifier"
   ]
  },
  {
   "cell_type": "code",
   "execution_count": null,
   "metadata": {
    "collapsed": false
   },
   "outputs": [
    {
     "name": "stderr",
     "output_type": "stream",
     "text": [
      "100%|██████████| 9/9 [01:52<00:00, 12.55s/it]\n"
     ]
    }
   ],
   "source": [
    "# grid search\n",
    "accuracy_scores = []\n",
    "f1_scores =[]\n",
    "for i in tqdm(range(1, 10)):\n",
    "    knn = KNeighborsClassifier(n_neighbors=i)\n",
    "    knn.fit(X_train, y_train)\n",
    "    y_pred = knn.predict(X_test)\n",
    "    accuracy_scores.append(accuracy_score(y_test, y_pred))\n",
    "    f1_scores.append(f1_score(y_test, y_pred))"
   ]
  },
  {
   "cell_type": "code",
   "execution_count": null,
   "metadata": {
    "collapsed": false
   },
   "outputs": [
    {
     "data": {
      "text/plain": [
       "[<matplotlib.lines.Line2D at 0x1b90f06bc10>]"
      ]
     },
     "execution_count": 191,
     "metadata": {},
     "output_type": "execute_result"
    },
    {
     "data": {
      "image/png": "[encoded data removed]",
      "text/plain": [
       "<Figure size 640x480 with 1 Axes>"
      ]
     },
     "metadata": {},
     "output_type": "display_data"
    }
   ],
   "source": [
    "plt.plot(range(1, 10), accuracy_scores)\n",
    "plt.plot(range(1, 10), f1_scores)"
   ]
  },
  {
   "cell_type": "code",
   "execution_count": null,
   "metadata": {
    "collapsed": false
   },
   "outputs": [],
   "source": []
  },
  {
   "cell_type": "markdown",
   "metadata": {
    "collapsed": false
   },
   "source": [
    "### Discussion\n",
    "\n",
    "We can see that the arguably simpler model of them all is almost perfect, with an accuracy of $97.8\\%$ on the test set, and a F1-score of $0.97$.\n",
    "Our hypothesis is that the task is almost linear due to the fact that we have the features `n_injured` and `n_unharmed`. While those two features are not directly correlated to the label, it's easy to understand that $ n_{killed} \\approx n_{participants}- n_{injured}- n_{unharmed} -n_{arrested}$        in the majority of cases.\n",
    "\n",
    "We can verify our hypothesis by looking at the weights of the model:"
   ]
  },
  {
   "cell_type": "code",
   "execution_count": null,
   "metadata": {
    "collapsed": false
   },
   "outputs": [],
   "source": [
    "for feature, weight in zip(X.columns, logreg.coef_[0]):\n",
    "    print(feature, weight)"
   ]
  },
  {
   "cell_type": "markdown",
   "metadata": {
    "collapsed": false
   },
   "source": [
    "We see that the order of magnitude of the weights is between $O(1)$ and $O(10)$, for the aforementioned features, while is smaller ($O(10^{-1})$ to $O(10^{-3})$) for almost all the other. This means that the leading computation is $n_{participants}- n_{injured} - n_{unharmed} - n_{arrested}$."
   ]
  },
  {
   "cell_type": "markdown",
   "metadata": {
    "collapsed": false
   },
   "source": [
    "For this reason, we decided to not use the features `n_injured`, `n_unharmed` and `n_arrested` in the following models."
   ]
  },
  {
   "cell_type": "markdown",
   "metadata": {
    "collapsed": false
   },
   "source": [
    "## 3.2 Classification without 'n_injured', 'n_unharmed', and 'n_arrested'\n",
    "\n",
    "We have seen that keeping those features leads to great results in classification, even with a simple model like logistic regression.\n",
    "That is because `n_participants` $\\approx$ `n_injured` + `n_unharmed` + `n_arrested`+ `n_killed`.\n",
    "We decided to drop those features because, if the number of killed is unknown, it is reasonable that the number of injured, unharmed and arrested could also be unknown."
   ]
  },
  {
   "cell_type": "code",
   "execution_count": null,
   "metadata": {
    "collapsed": false
   },
   "outputs": [],
   "source": [
    "X2=X.drop(['n_injured', 'n_unharmed', 'n_arrested'], axis=1)"
   ]
  },
  {
   "cell_type": "code",
   "execution_count": null,
   "metadata": {
    "collapsed": false
   },
   "outputs": [
    {
     "data": {
      "text/html": [
       "<div>\n",
       "<style scoped>\n",
       "    .dataframe tbody tr th:only-of-type {\n",
       "        vertical-align: middle;\n",
       "    }\n",
       "\n",
       "    .dataframe tbody tr th {\n",
       "        vertical-align: top;\n",
       "    }\n",
       "\n",
       "    .dataframe thead th {\n",
       "        text-align: right;\n",
       "    }\n",
       "</style>\n",
       "<table border=\"1\" class=\"dataframe\">\n",
       "  <thead>\n",
       "    <tr style=\"text-align: right;\">\n",
       "      <th></th>\n",
       "      <th>latitude</th>\n",
       "      <th>longitude</th>\n",
       "      <th>year</th>\n",
       "      <th>povertyPercentage</th>\n",
       "      <th>population</th>\n",
       "      <th>candidatevotes</th>\n",
       "      <th>right_or_left</th>\n",
       "      <th>voters_over_population</th>\n",
       "      <th>n_participants</th>\n",
       "      <th>n_participants_teen</th>\n",
       "      <th>...</th>\n",
       "      <th>age_group_[12-17]</th>\n",
       "      <th>age_group_[18-24]</th>\n",
       "      <th>age_group_[25-34]</th>\n",
       "      <th>age_group_[35-44]</th>\n",
       "      <th>age_group_[45-54]</th>\n",
       "      <th>age_group_[55-64]</th>\n",
       "      <th>age_group_[65-74]</th>\n",
       "      <th>age_group_[75-100]</th>\n",
       "      <th>party_DEMOCRAT</th>\n",
       "      <th>party_REPUBLICAN</th>\n",
       "    </tr>\n",
       "  </thead>\n",
       "  <tbody>\n",
       "    <tr>\n",
       "      <th>0</th>\n",
       "      <td>39.8322</td>\n",
       "      <td>-86.2492</td>\n",
       "      <td>2015.0</td>\n",
       "      <td>12.3</td>\n",
       "      <td>6608422</td>\n",
       "      <td>61443.0</td>\n",
       "      <td>0.452677</td>\n",
       "      <td>0.203046</td>\n",
       "      <td>1.0</td>\n",
       "      <td>0.0</td>\n",
       "      <td>...</td>\n",
       "      <td>0</td>\n",
       "      <td>1</td>\n",
       "      <td>0</td>\n",
       "      <td>0</td>\n",
       "      <td>0</td>\n",
       "      <td>0</td>\n",
       "      <td>0</td>\n",
       "      <td>0</td>\n",
       "      <td>1</td>\n",
       "      <td>0</td>\n",
       "    </tr>\n",
       "    <tr>\n",
       "      <th>1</th>\n",
       "      <td>39.7745</td>\n",
       "      <td>-86.1166</td>\n",
       "      <td>2015.0</td>\n",
       "      <td>12.3</td>\n",
       "      <td>6608422</td>\n",
       "      <td>61443.0</td>\n",
       "      <td>0.452677</td>\n",
       "      <td>0.203046</td>\n",
       "      <td>2.0</td>\n",
       "      <td>0.0</td>\n",
       "      <td>...</td>\n",
       "      <td>0</td>\n",
       "      <td>0</td>\n",
       "      <td>1</td>\n",
       "      <td>0</td>\n",
       "      <td>0</td>\n",
       "      <td>0</td>\n",
       "      <td>0</td>\n",
       "      <td>0</td>\n",
       "      <td>1</td>\n",
       "      <td>0</td>\n",
       "    </tr>\n",
       "    <tr>\n",
       "      <th>2</th>\n",
       "      <td>39.7759</td>\n",
       "      <td>-86.2940</td>\n",
       "      <td>2015.0</td>\n",
       "      <td>12.3</td>\n",
       "      <td>6608422</td>\n",
       "      <td>61443.0</td>\n",
       "      <td>0.452677</td>\n",
       "      <td>0.203046</td>\n",
       "      <td>2.0</td>\n",
       "      <td>0.0</td>\n",
       "      <td>...</td>\n",
       "      <td>0</td>\n",
       "      <td>0</td>\n",
       "      <td>0</td>\n",
       "      <td>1</td>\n",
       "      <td>0</td>\n",
       "      <td>0</td>\n",
       "      <td>0</td>\n",
       "      <td>0</td>\n",
       "      <td>1</td>\n",
       "      <td>0</td>\n",
       "    </tr>\n",
       "    <tr>\n",
       "      <th>3</th>\n",
       "      <td>39.8040</td>\n",
       "      <td>-86.0095</td>\n",
       "      <td>2015.0</td>\n",
       "      <td>12.3</td>\n",
       "      <td>6608422</td>\n",
       "      <td>61443.0</td>\n",
       "      <td>0.452677</td>\n",
       "      <td>0.203046</td>\n",
       "      <td>1.0</td>\n",
       "      <td>0.0</td>\n",
       "      <td>...</td>\n",
       "      <td>0</td>\n",
       "      <td>1</td>\n",
       "      <td>0</td>\n",
       "      <td>0</td>\n",
       "      <td>0</td>\n",
       "      <td>0</td>\n",
       "      <td>0</td>\n",
       "      <td>0</td>\n",
       "      <td>1</td>\n",
       "      <td>0</td>\n",
       "    </tr>\n",
       "    <tr>\n",
       "      <th>4</th>\n",
       "      <td>39.7882</td>\n",
       "      <td>-86.2091</td>\n",
       "      <td>2015.0</td>\n",
       "      <td>12.3</td>\n",
       "      <td>6608422</td>\n",
       "      <td>61443.0</td>\n",
       "      <td>0.452677</td>\n",
       "      <td>0.203046</td>\n",
       "      <td>1.0</td>\n",
       "      <td>0.0</td>\n",
       "      <td>...</td>\n",
       "      <td>0</td>\n",
       "      <td>0</td>\n",
       "      <td>0</td>\n",
       "      <td>0</td>\n",
       "      <td>1</td>\n",
       "      <td>0</td>\n",
       "      <td>0</td>\n",
       "      <td>0</td>\n",
       "      <td>1</td>\n",
       "      <td>0</td>\n",
       "    </tr>\n",
       "  </tbody>\n",
       "</table>\n",
       "<p>5 rows × 24 columns</p>\n",
       "</div>"
      ],
      "text/plain": [
       "   latitude  longitude    year  povertyPercentage  population  candidatevotes  \\\n",
       "0   39.8322   -86.2492  2015.0               12.3     6608422         61443.0   \n",
       "1   39.7745   -86.1166  2015.0               12.3     6608422         61443.0   \n",
       "2   39.7759   -86.2940  2015.0               12.3     6608422         61443.0   \n",
       "3   39.8040   -86.0095  2015.0               12.3     6608422         61443.0   \n",
       "4   39.7882   -86.2091  2015.0               12.3     6608422         61443.0   \n",
       "\n",
       "   right_or_left  voters_over_population  n_participants  n_participants_teen  \\\n",
       "0       0.452677                0.203046             1.0                  0.0   \n",
       "1       0.452677                0.203046             2.0                  0.0   \n",
       "2       0.452677                0.203046             2.0                  0.0   \n",
       "3       0.452677                0.203046             1.0                  0.0   \n",
       "4       0.452677                0.203046             1.0                  0.0   \n",
       "\n",
       "   ...  age_group_[12-17]  age_group_[18-24]  age_group_[25-34]  \\\n",
       "0  ...                  0                  1                  0   \n",
       "1  ...                  0                  0                  1   \n",
       "2  ...                  0                  0                  0   \n",
       "3  ...                  0                  1                  0   \n",
       "4  ...                  0                  0                  0   \n",
       "\n",
       "   age_group_[35-44]  age_group_[45-54]  age_group_[55-64]  age_group_[65-74]  \\\n",
       "0                  0                  0                  0                  0   \n",
       "1                  0                  0                  0                  0   \n",
       "2                  1                  0                  0                  0   \n",
       "3                  0                  0                  0                  0   \n",
       "4                  0                  1                  0                  0   \n",
       "\n",
       "   age_group_[75-100]  party_DEMOCRAT  party_REPUBLICAN  \n",
       "0                   0               1                 0  \n",
       "1                   0               1                 0  \n",
       "2                   0               1                 0  \n",
       "3                   0               1                 0  \n",
       "4                   0               1                 0  \n",
       "\n",
       "[5 rows x 24 columns]"
      ]
     },
     "execution_count": 206,
     "metadata": {},
     "output_type": "execute_result"
    }
   ],
   "source": [
    "X2.head()"
   ]
  },
  {
   "cell_type": "code",
   "execution_count": null,
   "metadata": {
    "collapsed": false
   },
   "outputs": [],
   "source": [
    "X2_train, X2_test, y_train, y_test = train_test_split(X2, y, stratify=y, test_size=0.2, random_state=42)"
   ]
  },
  {
   "cell_type": "markdown",
   "source": [
    "### 3.2.1 Logistic regression"
   ],
   "metadata": {
    "collapsed": false
   }
  },
  {
   "cell_type": "code",
   "execution_count": null,
   "outputs": [
    {
     "name": "stdout",
     "output_type": "stream",
     "text": [
      "Accuracy on training set:  0.718717115444135\n",
      "confusion_matrix on training set: \n",
      " [[91286  1619]\n",
      " [34734  1601]]\n",
      "Accuracy on validation set:  0.7188177034973693\n",
      "Confusion matrix: \n",
      " [[22832   394]\n",
      " [ 8691   393]]\n",
      "Classification report: \n",
      "               precision    recall  f1-score   support\n",
      "\n",
      "       False       0.72      0.98      0.83     23226\n",
      "        True       0.50      0.04      0.08      9084\n",
      "\n",
      "    accuracy                           0.72     32310\n",
      "   macro avg       0.61      0.51      0.46     32310\n",
      "weighted avg       0.66      0.72      0.62     32310\n",
      "\n"
     ]
    }
   ],
   "source": [
    "from sklearn.preprocessing import StandardScaler\n",
    "from sklearn.linear_model import LogisticRegression\n",
    "scaler = StandardScaler()\n",
    "X2_train_scaled = scaler.fit_transform(X2_train)\n",
    "X2_test_scaled = scaler.fit_transform(X2_test)\n",
    "logreg2 = LogisticRegression()\n",
    "logreg2.fit(X2_train_scaled, y_train)\n",
    "results_logreg2 = evaluate_model(logreg2, X2_train_scaled, y_train, X2_test_scaled, y_test)"
   ],
   "metadata": {
    "collapsed": false
   }
  },
  {
   "cell_type": "code",
   "execution_count": null,
   "outputs": [
    {
     "name": "stdout",
     "output_type": "stream",
     "text": [
      "('latitude', -0.22790612591528284)\n",
      "('longitude', -0.15650449889271636)\n",
      "('year', 0.010174639566656088)\n",
      "('povertyPercentage', -0.0022597002095804605)\n",
      "('population', -0.04695287032605304)\n",
      "('candidatevotes', 0.010518710146574092)\n",
      "('right_or_left', -0.12164973902830145)\n",
      "('voters_over_population', -0.15400009927258226)\n",
      "('n_participants', -0.13222351307693564)\n",
      "('n_participants_teen', 0.04145714129663868)\n",
      "('n_participants_child', 0.05030380425126637)\n",
      "('n_females', 0.18559036699301323)\n",
      "('n_males', 0.31285555852398184)\n",
      "('age_group_[0-11]', -0.09322618633001656)\n",
      "('age_group_[12-17]', -0.17940536712786967)\n",
      "('age_group_[18-24]', -0.08105962443788459)\n",
      "('age_group_[25-34]', 0.02980879520335465)\n",
      "('age_group_[35-44]', 0.07995762496436773)\n",
      "('age_group_[45-54]', 0.10338442585716469)\n",
      "('age_group_[55-64]', 0.08417443253575532)\n",
      "('age_group_[65-74]', 0.046534368252859094)\n",
      "('age_group_[75-100]', 0.03828946570494916)\n",
      "('party_DEMOCRAT', 0.004510225288789716)\n",
      "('party_REPUBLICAN', -0.004510225288789716)\n"
     ]
    }
   ],
   "source": [
    "# weights of model\n",
    "for i in zip(X2.columns, logreg2.coef_[0]):\n",
    "    print(i)"
   ],
   "metadata": {
    "collapsed": false
   }
  },
  {
   "cell_type": "code",
   "execution_count": null,
   "outputs": [
    {
     "data": {
      "text/plain": [
       "-0.3597385293540303"
      ]
     },
     "execution_count": 219,
     "metadata": {},
     "output_type": "execute_result"
    }
   ],
   "source": [
    "# correlation n_killed and n_injured\n",
    "df_orig['isKilled'] = df_incidents_prepared['isKilled']\n",
    "df_orig['isInjured'] = df_orig['n_injured'] > 0\n",
    "df_orig['isKilled'].corr(df_orig['isInjured'])"
   ],
   "metadata": {
    "collapsed": false
   }
  },
  {
   "cell_type": "markdown",
   "metadata": {
    "collapsed": false
   },
   "source": [
    "### 3.2.2 Decision Trees"
   ]
  },
  {
   "cell_type": "code",
   "execution_count": null,
   "metadata": {
    "collapsed": false
   },
   "outputs": [],
   "source": [
    "import numpy as np\n",
    "import matplotlib.pyplot as plt\n",
    "from sklearn.tree import DecisionTreeClassifier\n",
    "from sklearn.model_selection import train_test_split\n",
    "from sklearn.metrics import accuracy_score, precision_score, recall_score, f1_score, confusion_matrix, classification_report"
   ]
  },
  {
   "cell_type": "markdown",
   "metadata": {
    "collapsed": false
   },
   "source": [
    "#### Grid search for Decision Tree Parameters"
   ]
  },
  {
   "cell_type": "code",
   "execution_count": null,
   "metadata": {
    "collapsed": false
   },
   "outputs": [
    {
     "name": "stdout",
     "output_type": "stream",
     "text": [
      "Fitting 3 folds for each of 9 candidates, totalling 27 fits\n",
      "[CV 1/3] END criterion=gini, max_depth=10, min_samples_split=2;, score=0.230 total time=   0.7s\n",
      "[CV 2/3] END criterion=gini, max_depth=10, min_samples_split=2;, score=0.174 total time=   0.7s\n",
      "[CV 3/3] END criterion=gini, max_depth=10, min_samples_split=2;, score=0.211 total time=   1.8s\n",
      "[CV 1/3] END criterion=gini, max_depth=10, min_samples_split=3;, score=0.230 total time=   0.7s\n",
      "[CV 2/3] END criterion=gini, max_depth=10, min_samples_split=3;, score=0.174 total time=   0.7s\n",
      "[CV 3/3] END criterion=gini, max_depth=10, min_samples_split=3;, score=0.211 total time=   0.7s\n",
      "[CV 1/3] END criterion=gini, max_depth=10, min_samples_split=4;, score=0.231 total time=   0.8s\n",
      "[CV 2/3] END criterion=gini, max_depth=10, min_samples_split=4;, score=0.174 total time=   1.5s\n",
      "[CV 3/3] END criterion=gini, max_depth=10, min_samples_split=4;, score=0.211 total time=   0.6s\n",
      "[CV 1/3] END criterion=gini, max_depth=20, min_samples_split=2;, score=0.323 total time=   1.0s\n",
      "[CV 2/3] END criterion=gini, max_depth=20, min_samples_split=2;, score=0.335 total time=   1.0s\n",
      "[CV 3/3] END criterion=gini, max_depth=20, min_samples_split=2;, score=0.341 total time=   1.2s\n",
      "[CV 1/3] END criterion=gini, max_depth=20, min_samples_split=3;, score=0.319 total time=   1.1s\n",
      "[CV 2/3] END criterion=gini, max_depth=20, min_samples_split=3;, score=0.328 total time=   0.9s\n",
      "[CV 3/3] END criterion=gini, max_depth=20, min_samples_split=3;, score=0.336 total time=   1.0s\n",
      "[CV 1/3] END criterion=gini, max_depth=20, min_samples_split=4;, score=0.320 total time=   0.9s\n",
      "[CV 2/3] END criterion=gini, max_depth=20, min_samples_split=4;, score=0.329 total time=   1.4s\n",
      "[CV 3/3] END criterion=gini, max_depth=20, min_samples_split=4;, score=0.338 total time=   1.4s\n",
      "[CV 1/3] END criterion=gini, max_depth=30, min_samples_split=2;, score=0.368 total time=   1.5s\n",
      "[CV 2/3] END criterion=gini, max_depth=30, min_samples_split=2;, score=0.376 total time=   1.3s\n",
      "[CV 3/3] END criterion=gini, max_depth=30, min_samples_split=2;, score=0.377 total time=   2.1s\n",
      "[CV 1/3] END criterion=gini, max_depth=30, min_samples_split=3;, score=0.363 total time=   2.2s\n",
      "[CV 2/3] END criterion=gini, max_depth=30, min_samples_split=3;, score=0.370 total time=   2.1s\n",
      "[CV 3/3] END criterion=gini, max_depth=30, min_samples_split=3;, score=0.368 total time=   1.1s\n",
      "[CV 1/3] END criterion=gini, max_depth=30, min_samples_split=4;, score=0.368 total time=   1.0s\n",
      "[CV 2/3] END criterion=gini, max_depth=30, min_samples_split=4;, score=0.371 total time=   0.9s\n",
      "[CV 3/3] END criterion=gini, max_depth=30, min_samples_split=4;, score=0.368 total time=   0.9s\n"
     ]
    }
   ],
   "source": [
    "param_grid = {'max_depth': [10, 20, 30],\n",
    "              'min_samples_split': [2,3,4],\n",
    "              'criterion': ['gini']\n",
    "}\n",
    "\n",
    "best_params_dt2 = grid_search_kfold_cv(model_class=DecisionTreeClassifier, param_grid=param_grid, X_train=X2_train, y_train=y_train, X_test=X2_test, y_test=y_test,  cv=3, metric='f1', eval=False)"
   ]
  },
  {
   "cell_type": "code",
   "execution_count": null,
   "metadata": {
    "collapsed": false
   },
   "outputs": [
    {
     "data": {
      "text/plain": [
       "{'criterion': 'gini', 'max_depth': 30, 'min_samples_split': 2}"
      ]
     },
     "execution_count": 210,
     "metadata": {},
     "output_type": "execute_result"
    }
   ],
   "source": [
    "best_params_dt2"
   ]
  },
  {
   "cell_type": "code",
   "execution_count": null,
   "metadata": {
    "collapsed": false
   },
   "outputs": [
    {
     "name": "stdout",
     "output_type": "stream",
     "text": [
      "Accuracy on training set:  0.9624110182606004\n",
      "confusion_matrix on training set: \n",
      " [[92227   678]\n",
      " [ 4180 32155]]\n",
      "Accuracy on validation set:  0.6571030640668524\n",
      "Confusion matrix: \n",
      " [[17978  5248]\n",
      " [ 5831  3253]]\n",
      "Classification report: \n",
      "               precision    recall  f1-score   support\n",
      "\n",
      "       False       0.76      0.77      0.76     23226\n",
      "        True       0.38      0.36      0.37      9084\n",
      "\n",
      "    accuracy                           0.66     32310\n",
      "   macro avg       0.57      0.57      0.57     32310\n",
      "weighted avg       0.65      0.66      0.65     32310\n",
      "\n"
     ]
    }
   ],
   "source": [
    "best_tree2 =DecisionTreeClassifier(**best_params_dt2)\n",
    "best_tree2.fit(X2_train, y_train)\n",
    "results_dt2 = evaluate_model(best_tree2,X2_train, y_train, X2_test, y_test)"
   ]
  },
  {
   "cell_type": "markdown",
   "metadata": {
    "collapsed": false
   },
   "source": [
    "We can see that the best model in grid search is overfitting the training set and doing poorly in validation. Simpler models and regularization don't help, because the best model outputted by the grid search is the one with the biggest depth and the minimum number of samples for splitting.\n",
    " The accuracy of $65\\%$ in test is lower than the accuracy of the trivial classifier that outputs always False.\n",
    "\n",
    " Our  guess is that the reason is that the available features are not enough to generalize the classification results. We can also see from the ROC curve that the model is not able to achieve any tradeoff between TPR and TNR.\n"
   ]
  },
  {
   "cell_type": "markdown",
   "metadata": {
    "collapsed": false
   },
   "source": [
    "#### Try balancing data\n",
    "\n",
    "A reason for the poor performance could be the inbalance between the two labels. To see if that's the case, we trained the model with _undersampling_ and _oversampling_ training set.\n",
    "The undersampled training set has over 30.000 examples for each label, the oversampled one has over 90.000 examples per label."
   ]
  },
  {
   "cell_type": "markdown",
   "metadata": {
    "collapsed": false
   },
   "source": [
    "##### Undersampling"
   ]
  },
  {
   "cell_type": "code",
   "execution_count": null,
   "metadata": {
    "collapsed": false
   },
   "outputs": [
    {
     "data": {
      "text/plain": [
       "False    36335\n",
       "True     36335\n",
       "Name: isKilled, dtype: int64"
      ]
     },
     "execution_count": 194,
     "metadata": {},
     "output_type": "execute_result"
    }
   ],
   "source": [
    "from imblearn.under_sampling import RandomUnderSampler\n",
    "rus = RandomUnderSampler(random_state=41)\n",
    "X2_undersampled, y_undersampled = rus.fit_resample(X2_train, y_train)\n",
    "y_undersampled.value_counts()"
   ]
  },
  {
   "cell_type": "code",
   "execution_count": null,
   "metadata": {
    "collapsed": false
   },
   "outputs": [
    {
     "name": "stdout",
     "output_type": "stream",
     "text": [
      "Fitting 3 folds for each of 24 candidates, totalling 72 fits\n",
      "[CV 1/3] END criterion=gini, max_depth=4, min_samples_split=2;, score=0.648 total time=   0.2s\n",
      "[CV 2/3] END criterion=gini, max_depth=4, min_samples_split=2;, score=0.633 total time=   0.2s\n",
      "[CV 3/3] END criterion=gini, max_depth=4, min_samples_split=2;, score=0.641 total time=   0.2s\n",
      "[CV 1/3] END criterion=gini, max_depth=4, min_samples_split=4;, score=0.648 total time=   0.2s\n",
      "[CV 2/3] END criterion=gini, max_depth=4, min_samples_split=4;, score=0.633 total time=   0.2s\n",
      "[CV 3/3] END criterion=gini, max_depth=4, min_samples_split=4;, score=0.641 total time=   0.3s\n",
      "[CV 1/3] END criterion=gini, max_depth=4, min_samples_split=8;, score=0.648 total time=   0.2s\n",
      "[CV 2/3] END criterion=gini, max_depth=4, min_samples_split=8;, score=0.633 total time=   0.2s\n",
      "[CV 3/3] END criterion=gini, max_depth=4, min_samples_split=8;, score=0.641 total time=   0.2s\n",
      "[CV 1/3] END criterion=gini, max_depth=4, min_samples_split=16;, score=0.648 total time=   0.2s\n",
      "[CV 2/3] END criterion=gini, max_depth=4, min_samples_split=16;, score=0.633 total time=   0.2s\n",
      "[CV 3/3] END criterion=gini, max_depth=4, min_samples_split=16;, score=0.641 total time=   0.2s\n",
      "[CV 1/3] END criterion=gini, max_depth=8, min_samples_split=2;, score=0.640 total time=   0.4s\n",
      "[CV 2/3] END criterion=gini, max_depth=8, min_samples_split=2;, score=0.616 total time=   0.4s\n",
      "[CV 3/3] END criterion=gini, max_depth=8, min_samples_split=2;, score=0.615 total time=   0.4s\n",
      "[CV 1/3] END criterion=gini, max_depth=8, min_samples_split=4;, score=0.640 total time=   0.4s\n",
      "[CV 2/3] END criterion=gini, max_depth=8, min_samples_split=4;, score=0.616 total time=   0.4s\n",
      "[CV 3/3] END criterion=gini, max_depth=8, min_samples_split=4;, score=0.615 total time=   0.5s\n",
      "[CV 1/3] END criterion=gini, max_depth=8, min_samples_split=8;, score=0.640 total time=   0.8s\n",
      "[CV 2/3] END criterion=gini, max_depth=8, min_samples_split=8;, score=0.615 total time=   0.7s\n",
      "[CV 3/3] END criterion=gini, max_depth=8, min_samples_split=8;, score=0.615 total time=   0.4s\n",
      "[CV 1/3] END criterion=gini, max_depth=8, min_samples_split=16;, score=0.640 total time=   1.0s\n",
      "[CV 2/3] END criterion=gini, max_depth=8, min_samples_split=16;, score=0.616 total time=   0.4s\n",
      "[CV 3/3] END criterion=gini, max_depth=8, min_samples_split=16;, score=0.615 total time=   0.4s\n",
      "[CV 1/3] END criterion=gini, max_depth=16, min_samples_split=2;, score=0.612 total time=   0.9s\n",
      "[CV 2/3] END criterion=gini, max_depth=16, min_samples_split=2;, score=0.610 total time=   1.6s\n",
      "[CV 3/3] END criterion=gini, max_depth=16, min_samples_split=2;, score=0.607 total time=   0.6s\n",
      "[CV 1/3] END criterion=gini, max_depth=16, min_samples_split=4;, score=0.610 total time=   0.8s\n",
      "[CV 2/3] END criterion=gini, max_depth=16, min_samples_split=4;, score=0.606 total time=   1.1s\n",
      "[CV 3/3] END criterion=gini, max_depth=16, min_samples_split=4;, score=0.608 total time=   0.7s\n",
      "[CV 1/3] END criterion=gini, max_depth=16, min_samples_split=8;, score=0.611 total time=   1.4s\n",
      "[CV 2/3] END criterion=gini, max_depth=16, min_samples_split=8;, score=0.607 total time=   0.6s\n",
      "[CV 3/3] END criterion=gini, max_depth=16, min_samples_split=8;, score=0.605 total time=   0.6s\n",
      "[CV 1/3] END criterion=gini, max_depth=16, min_samples_split=16;, score=0.612 total time=   0.6s\n",
      "[CV 2/3] END criterion=gini, max_depth=16, min_samples_split=16;, score=0.608 total time=   0.6s\n",
      "[CV 3/3] END criterion=gini, max_depth=16, min_samples_split=16;, score=0.609 total time=   0.6s\n",
      "[CV 1/3] END criterion=entropy, max_depth=4, min_samples_split=2;, score=0.648 total time=   0.2s\n",
      "[CV 2/3] END criterion=entropy, max_depth=4, min_samples_split=2;, score=0.633 total time=   0.2s\n",
      "[CV 3/3] END criterion=entropy, max_depth=4, min_samples_split=2;, score=0.641 total time=   0.2s\n",
      "[CV 1/3] END criterion=entropy, max_depth=4, min_samples_split=4;, score=0.648 total time=   0.2s\n",
      "[CV 2/3] END criterion=entropy, max_depth=4, min_samples_split=4;, score=0.633 total time=   0.2s\n",
      "[CV 3/3] END criterion=entropy, max_depth=4, min_samples_split=4;, score=0.641 total time=   0.3s\n",
      "[CV 1/3] END criterion=entropy, max_depth=4, min_samples_split=8;, score=0.648 total time=   0.2s\n",
      "[CV 2/3] END criterion=entropy, max_depth=4, min_samples_split=8;, score=0.633 total time=   0.2s\n",
      "[CV 3/3] END criterion=entropy, max_depth=4, min_samples_split=8;, score=0.641 total time=   0.2s\n",
      "[CV 1/3] END criterion=entropy, max_depth=4, min_samples_split=16;, score=0.648 total time=   0.2s\n",
      "[CV 2/3] END criterion=entropy, max_depth=4, min_samples_split=16;, score=0.633 total time=   0.2s\n",
      "[CV 3/3] END criterion=entropy, max_depth=4, min_samples_split=16;, score=0.641 total time=   0.2s\n",
      "[CV 1/3] END criterion=entropy, max_depth=8, min_samples_split=2;, score=0.640 total time=   0.5s\n",
      "[CV 2/3] END criterion=entropy, max_depth=8, min_samples_split=2;, score=0.624 total time=   0.5s\n",
      "[CV 3/3] END criterion=entropy, max_depth=8, min_samples_split=2;, score=0.623 total time=   0.4s\n",
      "[CV 1/3] END criterion=entropy, max_depth=8, min_samples_split=4;, score=0.640 total time=   0.4s\n",
      "[CV 2/3] END criterion=entropy, max_depth=8, min_samples_split=4;, score=0.624 total time=   0.4s\n",
      "[CV 3/3] END criterion=entropy, max_depth=8, min_samples_split=4;, score=0.623 total time=   0.4s\n",
      "[CV 1/3] END criterion=entropy, max_depth=8, min_samples_split=8;, score=0.640 total time=   0.5s\n",
      "[CV 2/3] END criterion=entropy, max_depth=8, min_samples_split=8;, score=0.624 total time=   1.6s\n",
      "[CV 3/3] END criterion=entropy, max_depth=8, min_samples_split=8;, score=0.622 total time=   1.1s\n",
      "[CV 1/3] END criterion=entropy, max_depth=8, min_samples_split=16;, score=0.640 total time=   1.4s\n",
      "[CV 2/3] END criterion=entropy, max_depth=8, min_samples_split=16;, score=0.624 total time=   1.4s\n",
      "[CV 3/3] END criterion=entropy, max_depth=8, min_samples_split=16;, score=0.622 total time=   0.9s\n",
      "[CV 1/3] END criterion=entropy, max_depth=16, min_samples_split=2;, score=0.606 total time=   1.3s\n",
      "[CV 2/3] END criterion=entropy, max_depth=16, min_samples_split=2;, score=0.611 total time=   1.5s\n",
      "[CV 3/3] END criterion=entropy, max_depth=16, min_samples_split=2;, score=0.608 total time=   1.9s\n",
      "[CV 1/3] END criterion=entropy, max_depth=16, min_samples_split=4;, score=0.604 total time=   1.2s\n",
      "[CV 2/3] END criterion=entropy, max_depth=16, min_samples_split=4;, score=0.611 total time=   0.6s\n",
      "[CV 3/3] END criterion=entropy, max_depth=16, min_samples_split=4;, score=0.607 total time=   0.8s\n",
      "[CV 1/3] END criterion=entropy, max_depth=16, min_samples_split=8;, score=0.605 total time=   0.8s\n",
      "[CV 2/3] END criterion=entropy, max_depth=16, min_samples_split=8;, score=0.609 total time=   1.0s\n",
      "[CV 3/3] END criterion=entropy, max_depth=16, min_samples_split=8;, score=0.608 total time=   1.0s\n",
      "[CV 1/3] END criterion=entropy, max_depth=16, min_samples_split=16;, score=0.608 total time=   0.8s\n",
      "[CV 2/3] END criterion=entropy, max_depth=16, min_samples_split=16;, score=0.612 total time=   0.8s\n",
      "[CV 3/3] END criterion=entropy, max_depth=16, min_samples_split=16;, score=0.610 total time=   0.9s\n"
     ]
    },
    {
     "data": {
      "text/html": [
       "<style>#sk-container-id-15 {color: black;background-color: white;}#sk-container-id-15 pre{padding: 0;}#sk-container-id-15 div.sk-toggleable {background-color: white;}#sk-container-id-15 label.sk-toggleable__label {cursor: pointer;display: block;width: 100%;margin-bottom: 0;padding: 0.3em;box-sizing: border-box;text-align: center;}#sk-container-id-15 label.sk-toggleable__label-arrow:before {content: \"▸\";float: left;margin-right: 0.25em;color: #696969;}#sk-container-id-15 label.sk-toggleable__label-arrow:hover:before {color: black;}#sk-container-id-15 div.sk-estimator:hover label.sk-toggleable__label-arrow:before {color: black;}#sk-container-id-15 div.sk-toggleable__content {max-height: 0;max-width: 0;overflow: hidden;text-align: left;background-color: #f0f8ff;}#sk-container-id-15 div.sk-toggleable__content pre {margin: 0.2em;color: black;border-radius: 0.25em;background-color: #f0f8ff;}#sk-container-id-15 input.sk-toggleable__control:checked~div.sk-toggleable__content {max-height: 200px;max-width: 100%;overflow: auto;}#sk-container-id-15 input.sk-toggleable__control:checked~label.sk-toggleable__label-arrow:before {content: \"▾\";}#sk-container-id-15 div.sk-estimator input.sk-toggleable__control:checked~label.sk-toggleable__label {background-color: #d4ebff;}#sk-container-id-15 div.sk-label input.sk-toggleable__control:checked~label.sk-toggleable__label {background-color: #d4ebff;}#sk-container-id-15 input.sk-hidden--visually {border: 0;clip: rect(1px 1px 1px 1px);clip: rect(1px, 1px, 1px, 1px);height: 1px;margin: -1px;overflow: hidden;padding: 0;position: absolute;width: 1px;}#sk-container-id-15 div.sk-estimator {font-family: monospace;background-color: #f0f8ff;border: 1px dotted black;border-radius: 0.25em;box-sizing: border-box;margin-bottom: 0.5em;}#sk-container-id-15 div.sk-estimator:hover {background-color: #d4ebff;}#sk-container-id-15 div.sk-parallel-item::after {content: \"\";width: 100%;border-bottom: 1px solid gray;flex-grow: 1;}#sk-container-id-15 div.sk-label:hover label.sk-toggleable__label {background-color: #d4ebff;}#sk-container-id-15 div.sk-serial::before {content: \"\";position: absolute;border-left: 1px solid gray;box-sizing: border-box;top: 0;bottom: 0;left: 50%;z-index: 0;}#sk-container-id-15 div.sk-serial {display: flex;flex-direction: column;align-items: center;background-color: white;padding-right: 0.2em;padding-left: 0.2em;position: relative;}#sk-container-id-15 div.sk-item {position: relative;z-index: 1;}#sk-container-id-15 div.sk-parallel {display: flex;align-items: stretch;justify-content: center;background-color: white;position: relative;}#sk-container-id-15 div.sk-item::before, #sk-container-id-15 div.sk-parallel-item::before {content: \"\";position: absolute;border-left: 1px solid gray;box-sizing: border-box;top: 0;bottom: 0;left: 50%;z-index: -1;}#sk-container-id-15 div.sk-parallel-item {display: flex;flex-direction: column;z-index: 1;position: relative;background-color: white;}#sk-container-id-15 div.sk-parallel-item:first-child::after {align-self: flex-end;width: 50%;}#sk-container-id-15 div.sk-parallel-item:last-child::after {align-self: flex-start;width: 50%;}#sk-container-id-15 div.sk-parallel-item:only-child::after {width: 0;}#sk-container-id-15 div.sk-dashed-wrapped {border: 1px dashed gray;margin: 0 0.4em 0.5em 0.4em;box-sizing: border-box;padding-bottom: 0.4em;background-color: white;}#sk-container-id-15 div.sk-label label {font-family: monospace;font-weight: bold;display: inline-block;line-height: 1.2em;}#sk-container-id-15 div.sk-label-container {text-align: center;}#sk-container-id-15 div.sk-container {/* jupyter's `normalize.less` sets `[hidden] { display: none; }` but bootstrap.min.css set `[hidden] { display: none !important; }` so we also need the `!important` here to be able to override the default hidden behavior on the sphinx rendered scikit-learn.org. See: https://github.com/scikit-learn/scikit-learn/issues/21755 */display: inline-block !important;position: relative;}#sk-container-id-15 div.sk-text-repr-fallback {display: none;}</style><div id=\"sk-container-id-15\" class=\"sk-top-container\"><div class=\"sk-text-repr-fallback\"><pre>GridSearchCV(cv=3, estimator=DecisionTreeClassifier(random_state=42),\n",
       "             param_grid={&#x27;criterion&#x27;: [&#x27;gini&#x27;, &#x27;entropy&#x27;],\n",
       "                         &#x27;max_depth&#x27;: [4, 8, 16],\n",
       "                         &#x27;min_samples_split&#x27;: [2, 4, 8, 16]},\n",
       "             scoring=&#x27;f1&#x27;, verbose=3)</pre><b>In a Jupyter environment, please rerun this cell to show the HTML representation or trust the notebook. <br />On GitHub, the HTML representation is unable to render, please try loading this page with nbviewer.org.</b></div><div class=\"sk-container\" hidden><div class=\"sk-item sk-dashed-wrapped\"><div class=\"sk-label-container\"><div class=\"sk-label sk-toggleable\"><input class=\"sk-toggleable__control sk-hidden--visually\" id=\"sk-estimator-id-21\" type=\"checkbox\" ><label for=\"sk-estimator-id-21\" class=\"sk-toggleable__label sk-toggleable__label-arrow\">GridSearchCV</label><div class=\"sk-toggleable__content\"><pre>GridSearchCV(cv=3, estimator=DecisionTreeClassifier(random_state=42),\n",
       "             param_grid={&#x27;criterion&#x27;: [&#x27;gini&#x27;, &#x27;entropy&#x27;],\n",
       "                         &#x27;max_depth&#x27;: [4, 8, 16],\n",
       "                         &#x27;min_samples_split&#x27;: [2, 4, 8, 16]},\n",
       "             scoring=&#x27;f1&#x27;, verbose=3)</pre></div></div></div><div class=\"sk-parallel\"><div class=\"sk-parallel-item\"><div class=\"sk-item\"><div class=\"sk-label-container\"><div class=\"sk-label sk-toggleable\"><input class=\"sk-toggleable__control sk-hidden--visually\" id=\"sk-estimator-id-22\" type=\"checkbox\" ><label for=\"sk-estimator-id-22\" class=\"sk-toggleable__label sk-toggleable__label-arrow\">estimator: DecisionTreeClassifier</label><div class=\"sk-toggleable__content\"><pre>DecisionTreeClassifier(random_state=42)</pre></div></div></div><div class=\"sk-serial\"><div class=\"sk-item\"><div class=\"sk-estimator sk-toggleable\"><input class=\"sk-toggleable__control sk-hidden--visually\" id=\"sk-estimator-id-23\" type=\"checkbox\" ><label for=\"sk-estimator-id-23\" class=\"sk-toggleable__label sk-toggleable__label-arrow\">DecisionTreeClassifier</label><div class=\"sk-toggleable__content\"><pre>DecisionTreeClassifier(random_state=42)</pre></div></div></div></div></div></div></div></div></div></div>"
      ],
      "text/plain": [
       "GridSearchCV(cv=3, estimator=DecisionTreeClassifier(random_state=42),\n",
       "             param_grid={'criterion': ['gini', 'entropy'],\n",
       "                         'max_depth': [4, 8, 16],\n",
       "                         'min_samples_split': [2, 4, 8, 16]},\n",
       "             scoring='f1', verbose=3)"
      ]
     },
     "execution_count": 195,
     "metadata": {},
     "output_type": "execute_result"
    }
   ],
   "source": [
    "from sklearn.model_selection import GridSearchCV\n",
    "from sklearn.metrics import make_scorer, f1_score\n",
    "f1 = make_scorer(f1_score, pos_label =True)\n",
    "param_grid = {'max_depth': [4, 8, 16],\n",
    "              'min_samples_split': [2,4, 8, 16],\n",
    "              'criterion': ['gini', 'entropy']\n",
    "}\n",
    "grid = GridSearchCV(DecisionTreeClassifier(random_state=42), param_grid, cv=3, scoring='f1', verbose =3)\n",
    "grid.fit(X2_undersampled, y_undersampled)\n"
   ]
  },
  {
   "cell_type": "code",
   "execution_count": null,
   "metadata": {
    "collapsed": false
   },
   "outputs": [
    {
     "data": {
      "text/plain": [
       "{'criterion': 'gini', 'max_depth': 4, 'min_samples_split': 2}"
      ]
     },
     "execution_count": 196,
     "metadata": {},
     "output_type": "execute_result"
    }
   ],
   "source": [
    "grid.best_params_"
   ]
  },
  {
   "cell_type": "code",
   "execution_count": null,
   "metadata": {
    "collapsed": false
   },
   "outputs": [
    {
     "name": "stdout",
     "output_type": "stream",
     "text": [
      "Fitting 3 folds for each of 25 candidates, totalling 75 fits\n",
      "[CV 1/3] END criterion=gini, max_depth=4, min_samples_split=6;, score=0.648 total time=   0.2s\n",
      "[CV 2/3] END criterion=gini, max_depth=4, min_samples_split=6;, score=0.633 total time=   0.2s\n",
      "[CV 3/3] END criterion=gini, max_depth=4, min_samples_split=6;, score=0.641 total time=   0.2s\n",
      "[CV 1/3] END criterion=gini, max_depth=4, min_samples_split=7;, score=0.648 total time=   0.2s\n",
      "[CV 2/3] END criterion=gini, max_depth=4, min_samples_split=7;, score=0.633 total time=   0.2s\n",
      "[CV 3/3] END criterion=gini, max_depth=4, min_samples_split=7;, score=0.641 total time=   0.2s\n",
      "[CV 1/3] END criterion=gini, max_depth=4, min_samples_split=8;, score=0.648 total time=   0.2s\n",
      "[CV 2/3] END criterion=gini, max_depth=4, min_samples_split=8;, score=0.633 total time=   0.2s\n",
      "[CV 3/3] END criterion=gini, max_depth=4, min_samples_split=8;, score=0.641 total time=   0.2s\n",
      "[CV 1/3] END criterion=gini, max_depth=4, min_samples_split=9;, score=0.648 total time=   0.1s\n",
      "[CV 2/3] END criterion=gini, max_depth=4, min_samples_split=9;, score=0.633 total time=   0.1s\n",
      "[CV 3/3] END criterion=gini, max_depth=4, min_samples_split=9;, score=0.641 total time=   0.1s\n",
      "[CV 1/3] END criterion=gini, max_depth=4, min_samples_split=10;, score=0.648 total time=   0.2s\n",
      "[CV 2/3] END criterion=gini, max_depth=4, min_samples_split=10;, score=0.633 total time=   0.1s\n",
      "[CV 3/3] END criterion=gini, max_depth=4, min_samples_split=10;, score=0.641 total time=   0.1s\n",
      "[CV 1/3] END criterion=gini, max_depth=5, min_samples_split=6;, score=0.610 total time=   0.2s\n",
      "[CV 2/3] END criterion=gini, max_depth=5, min_samples_split=6;, score=0.629 total time=   0.2s\n",
      "[CV 3/3] END criterion=gini, max_depth=5, min_samples_split=6;, score=0.606 total time=   0.2s\n",
      "[CV 1/3] END criterion=gini, max_depth=5, min_samples_split=7;, score=0.610 total time=   0.2s\n",
      "[CV 2/3] END criterion=gini, max_depth=5, min_samples_split=7;, score=0.629 total time=   0.2s\n",
      "[CV 3/3] END criterion=gini, max_depth=5, min_samples_split=7;, score=0.606 total time=   0.2s\n",
      "[CV 1/3] END criterion=gini, max_depth=5, min_samples_split=8;, score=0.610 total time=   0.2s\n",
      "[CV 2/3] END criterion=gini, max_depth=5, min_samples_split=8;, score=0.629 total time=   0.2s\n",
      "[CV 3/3] END criterion=gini, max_depth=5, min_samples_split=8;, score=0.606 total time=   0.2s\n",
      "[CV 1/3] END criterion=gini, max_depth=5, min_samples_split=9;, score=0.610 total time=   0.2s\n",
      "[CV 2/3] END criterion=gini, max_depth=5, min_samples_split=9;, score=0.629 total time=   0.2s\n",
      "[CV 3/3] END criterion=gini, max_depth=5, min_samples_split=9;, score=0.606 total time=   0.2s\n",
      "[CV 1/3] END criterion=gini, max_depth=5, min_samples_split=10;, score=0.610 total time=   0.2s\n",
      "[CV 2/3] END criterion=gini, max_depth=5, min_samples_split=10;, score=0.629 total time=   0.2s\n",
      "[CV 3/3] END criterion=gini, max_depth=5, min_samples_split=10;, score=0.606 total time=   0.2s\n",
      "[CV 1/3] END criterion=gini, max_depth=6, min_samples_split=6;, score=0.623 total time=   0.3s\n",
      "[CV 2/3] END criterion=gini, max_depth=6, min_samples_split=6;, score=0.624 total time=   0.3s\n",
      "[CV 3/3] END criterion=gini, max_depth=6, min_samples_split=6;, score=0.628 total time=   0.3s\n",
      "[CV 1/3] END criterion=gini, max_depth=6, min_samples_split=7;, score=0.623 total time=   0.3s\n",
      "[CV 2/3] END criterion=gini, max_depth=6, min_samples_split=7;, score=0.624 total time=   0.2s\n",
      "[CV 3/3] END criterion=gini, max_depth=6, min_samples_split=7;, score=0.628 total time=   0.3s\n",
      "[CV 1/3] END criterion=gini, max_depth=6, min_samples_split=8;, score=0.623 total time=   0.3s\n",
      "[CV 2/3] END criterion=gini, max_depth=6, min_samples_split=8;, score=0.624 total time=   0.3s\n",
      "[CV 3/3] END criterion=gini, max_depth=6, min_samples_split=8;, score=0.628 total time=   0.2s\n",
      "[CV 1/3] END criterion=gini, max_depth=6, min_samples_split=9;, score=0.623 total time=   0.3s\n",
      "[CV 2/3] END criterion=gini, max_depth=6, min_samples_split=9;, score=0.624 total time=   0.3s\n",
      "[CV 3/3] END criterion=gini, max_depth=6, min_samples_split=9;, score=0.628 total time=   0.3s\n",
      "[CV 1/3] END criterion=gini, max_depth=6, min_samples_split=10;, score=0.623 total time=   0.3s\n",
      "[CV 2/3] END criterion=gini, max_depth=6, min_samples_split=10;, score=0.624 total time=   0.3s\n",
      "[CV 3/3] END criterion=gini, max_depth=6, min_samples_split=10;, score=0.628 total time=   0.3s\n",
      "[CV 1/3] END criterion=gini, max_depth=7, min_samples_split=6;, score=0.625 total time=   0.3s\n",
      "[CV 2/3] END criterion=gini, max_depth=7, min_samples_split=6;, score=0.637 total time=   0.3s\n",
      "[CV 3/3] END criterion=gini, max_depth=7, min_samples_split=6;, score=0.626 total time=   0.3s\n",
      "[CV 1/3] END criterion=gini, max_depth=7, min_samples_split=7;, score=0.625 total time=   0.3s\n",
      "[CV 2/3] END criterion=gini, max_depth=7, min_samples_split=7;, score=0.637 total time=   0.3s\n",
      "[CV 3/3] END criterion=gini, max_depth=7, min_samples_split=7;, score=0.626 total time=   0.3s\n",
      "[CV 1/3] END criterion=gini, max_depth=7, min_samples_split=8;, score=0.625 total time=   0.3s\n",
      "[CV 2/3] END criterion=gini, max_depth=7, min_samples_split=8;, score=0.637 total time=   0.3s\n",
      "[CV 3/3] END criterion=gini, max_depth=7, min_samples_split=8;, score=0.626 total time=   0.4s\n",
      "[CV 1/3] END criterion=gini, max_depth=7, min_samples_split=9;, score=0.625 total time=   0.3s\n",
      "[CV 2/3] END criterion=gini, max_depth=7, min_samples_split=9;, score=0.637 total time=   0.3s\n",
      "[CV 3/3] END criterion=gini, max_depth=7, min_samples_split=9;, score=0.626 total time=   0.3s\n",
      "[CV 1/3] END criterion=gini, max_depth=7, min_samples_split=10;, score=0.625 total time=   0.3s\n",
      "[CV 2/3] END criterion=gini, max_depth=7, min_samples_split=10;, score=0.637 total time=   0.3s\n",
      "[CV 3/3] END criterion=gini, max_depth=7, min_samples_split=10;, score=0.626 total time=   0.3s\n",
      "[CV 1/3] END criterion=gini, max_depth=8, min_samples_split=6;, score=0.640 total time=   0.3s\n",
      "[CV 2/3] END criterion=gini, max_depth=8, min_samples_split=6;, score=0.616 total time=   0.3s\n",
      "[CV 3/3] END criterion=gini, max_depth=8, min_samples_split=6;, score=0.615 total time=   0.4s\n",
      "[CV 1/3] END criterion=gini, max_depth=8, min_samples_split=7;, score=0.640 total time=   0.3s\n",
      "[CV 2/3] END criterion=gini, max_depth=8, min_samples_split=7;, score=0.615 total time=   0.3s\n",
      "[CV 3/3] END criterion=gini, max_depth=8, min_samples_split=7;, score=0.615 total time=   0.3s\n",
      "[CV 1/3] END criterion=gini, max_depth=8, min_samples_split=8;, score=0.640 total time=   0.3s\n",
      "[CV 2/3] END criterion=gini, max_depth=8, min_samples_split=8;, score=0.615 total time=   0.3s\n",
      "[CV 3/3] END criterion=gini, max_depth=8, min_samples_split=8;, score=0.615 total time=   0.3s\n",
      "[CV 1/3] END criterion=gini, max_depth=8, min_samples_split=9;, score=0.640 total time=   0.4s\n",
      "[CV 2/3] END criterion=gini, max_depth=8, min_samples_split=9;, score=0.615 total time=   0.3s\n",
      "[CV 3/3] END criterion=gini, max_depth=8, min_samples_split=9;, score=0.615 total time=   0.3s\n",
      "[CV 1/3] END criterion=gini, max_depth=8, min_samples_split=10;, score=0.640 total time=   0.3s\n",
      "[CV 2/3] END criterion=gini, max_depth=8, min_samples_split=10;, score=0.615 total time=   0.4s\n",
      "[CV 3/3] END criterion=gini, max_depth=8, min_samples_split=10;, score=0.615 total time=   0.3s\n",
      "Accuracy on training set:  0.6013760836658869\n",
      "confusion_matrix on training set: \n",
      " [[16633 19702]\n",
      " [ 9266 27069]]\n",
      "Accuracy on validation set:  0.5338594862271743\n",
      "Confusion matrix: \n",
      " [[10548 12678]\n",
      " [ 2383  6701]]\n",
      "Classification report: \n",
      "               precision    recall  f1-score   support\n",
      "\n",
      "       False       0.82      0.45      0.58     23226\n",
      "        True       0.35      0.74      0.47      9084\n",
      "\n",
      "    accuracy                           0.53     32310\n",
      "   macro avg       0.58      0.60      0.53     32310\n",
      "weighted avg       0.68      0.53      0.55     32310\n",
      "\n"
     ]
    }
   ],
   "source": [
    "# new grid\n",
    "param_grid = {'max_depth': [4,5,6,7,8],\n",
    "              'min_samples_split': [6,7,8,9,10],\n",
    "              'criterion': ['gini']\n",
    "}\n",
    "best_param_dt_under, best_tree_under, result_dt_under = grid_search_kfold_cv(model_class=DecisionTreeClassifier, param_grid=param_grid, X_train=X2_undersampled, y_train=y_undersampled, X_test=X2_test, y_test=y_test,  cv=3, metric='f1', eval=True)"
   ]
  },
  {
   "cell_type": "markdown",
   "metadata": {
    "collapsed": false
   },
   "source": [
    "##### Oversampling"
   ]
  },
  {
   "cell_type": "code",
   "execution_count": null,
   "metadata": {
    "collapsed": false
   },
   "outputs": [
    {
     "data": {
      "text/plain": [
       "False    92905\n",
       "True     92905\n",
       "Name: isKilled, dtype: int64"
      ]
     },
     "execution_count": 198,
     "metadata": {},
     "output_type": "execute_result"
    }
   ],
   "source": [
    "from imblearn.over_sampling import RandomOverSampler\n",
    "ros = RandomOverSampler(random_state=42)\n",
    "X2_oversampled, y_oversampled = ros.fit_resample(X2_train, y_train)\n",
    "y_oversampled.value_counts()"
   ]
  },
  {
   "cell_type": "code",
   "execution_count": null,
   "metadata": {
    "collapsed": false
   },
   "outputs": [
    {
     "name": "stdout",
     "output_type": "stream",
     "text": [
      "Fitting 3 folds for each of 24 candidates, totalling 72 fits\n",
      "[CV 1/3] END criterion=gini, max_depth=4, min_samples_split=2;, score=0.651 total time=   0.8s\n",
      "[CV 2/3] END criterion=gini, max_depth=4, min_samples_split=2;, score=0.650 total time=   0.7s\n",
      "[CV 3/3] END criterion=gini, max_depth=4, min_samples_split=2;, score=0.654 total time=   0.6s\n",
      "[CV 1/3] END criterion=gini, max_depth=4, min_samples_split=4;, score=0.651 total time=   0.6s\n",
      "[CV 2/3] END criterion=gini, max_depth=4, min_samples_split=4;, score=0.650 total time=   0.6s\n",
      "[CV 3/3] END criterion=gini, max_depth=4, min_samples_split=4;, score=0.654 total time=   0.6s\n",
      "[CV 1/3] END criterion=gini, max_depth=4, min_samples_split=8;, score=0.651 total time=   0.6s\n",
      "[CV 2/3] END criterion=gini, max_depth=4, min_samples_split=8;, score=0.650 total time=   0.6s\n",
      "[CV 3/3] END criterion=gini, max_depth=4, min_samples_split=8;, score=0.654 total time=   0.6s\n",
      "[CV 1/3] END criterion=gini, max_depth=4, min_samples_split=16;, score=0.651 total time=   0.5s\n",
      "[CV 2/3] END criterion=gini, max_depth=4, min_samples_split=16;, score=0.650 total time=   0.6s\n",
      "[CV 3/3] END criterion=gini, max_depth=4, min_samples_split=16;, score=0.654 total time=   0.6s\n",
      "[CV 1/3] END criterion=gini, max_depth=8, min_samples_split=2;, score=0.634 total time=   1.1s\n",
      "[CV 2/3] END criterion=gini, max_depth=8, min_samples_split=2;, score=0.643 total time=   1.1s\n",
      "[CV 3/3] END criterion=gini, max_depth=8, min_samples_split=2;, score=0.648 total time=   1.3s\n",
      "[CV 1/3] END criterion=gini, max_depth=8, min_samples_split=4;, score=0.634 total time=   1.0s\n",
      "[CV 2/3] END criterion=gini, max_depth=8, min_samples_split=4;, score=0.643 total time=   1.1s\n",
      "[CV 3/3] END criterion=gini, max_depth=8, min_samples_split=4;, score=0.648 total time=   1.0s\n",
      "[CV 1/3] END criterion=gini, max_depth=8, min_samples_split=8;, score=0.634 total time=   1.2s\n",
      "[CV 2/3] END criterion=gini, max_depth=8, min_samples_split=8;, score=0.643 total time=   1.1s\n",
      "[CV 3/3] END criterion=gini, max_depth=8, min_samples_split=8;, score=0.648 total time=   1.1s\n",
      "[CV 1/3] END criterion=gini, max_depth=8, min_samples_split=16;, score=0.634 total time=   1.1s\n",
      "[CV 2/3] END criterion=gini, max_depth=8, min_samples_split=16;, score=0.643 total time=   1.1s\n",
      "[CV 3/3] END criterion=gini, max_depth=8, min_samples_split=16;, score=0.647 total time=   1.2s\n",
      "[CV 1/3] END criterion=gini, max_depth=16, min_samples_split=2;, score=0.699 total time=   1.9s\n",
      "[CV 2/3] END criterion=gini, max_depth=16, min_samples_split=2;, score=0.706 total time=   2.2s\n",
      "[CV 3/3] END criterion=gini, max_depth=16, min_samples_split=2;, score=0.719 total time=   1.9s\n",
      "[CV 1/3] END criterion=gini, max_depth=16, min_samples_split=4;, score=0.696 total time=   1.8s\n",
      "[CV 2/3] END criterion=gini, max_depth=16, min_samples_split=4;, score=0.704 total time=   1.8s\n",
      "[CV 3/3] END criterion=gini, max_depth=16, min_samples_split=4;, score=0.715 total time=   1.8s\n",
      "[CV 1/3] END criterion=gini, max_depth=16, min_samples_split=8;, score=0.690 total time=   1.9s\n",
      "[CV 2/3] END criterion=gini, max_depth=16, min_samples_split=8;, score=0.699 total time=   1.7s\n",
      "[CV 3/3] END criterion=gini, max_depth=16, min_samples_split=8;, score=0.709 total time=   1.9s\n",
      "[CV 1/3] END criterion=gini, max_depth=16, min_samples_split=16;, score=0.682 total time=   1.9s\n",
      "[CV 2/3] END criterion=gini, max_depth=16, min_samples_split=16;, score=0.691 total time=   1.9s\n",
      "[CV 3/3] END criterion=gini, max_depth=16, min_samples_split=16;, score=0.701 total time=   2.0s\n",
      "[CV 1/3] END criterion=entropy, max_depth=4, min_samples_split=2;, score=0.651 total time=   0.7s\n",
      "[CV 2/3] END criterion=entropy, max_depth=4, min_samples_split=2;, score=0.650 total time=   0.7s\n",
      "[CV 3/3] END criterion=entropy, max_depth=4, min_samples_split=2;, score=0.654 total time=   0.7s\n",
      "[CV 1/3] END criterion=entropy, max_depth=4, min_samples_split=4;, score=0.651 total time=   0.7s\n",
      "[CV 2/3] END criterion=entropy, max_depth=4, min_samples_split=4;, score=0.650 total time=   0.7s\n",
      "[CV 3/3] END criterion=entropy, max_depth=4, min_samples_split=4;, score=0.654 total time=   0.7s\n",
      "[CV 1/3] END criterion=entropy, max_depth=4, min_samples_split=8;, score=0.651 total time=   0.6s\n",
      "[CV 2/3] END criterion=entropy, max_depth=4, min_samples_split=8;, score=0.650 total time=   0.6s\n",
      "[CV 3/3] END criterion=entropy, max_depth=4, min_samples_split=8;, score=0.654 total time=   0.6s\n",
      "[CV 1/3] END criterion=entropy, max_depth=4, min_samples_split=16;, score=0.651 total time=   0.7s\n",
      "[CV 2/3] END criterion=entropy, max_depth=4, min_samples_split=16;, score=0.650 total time=   1.0s\n",
      "[CV 3/3] END criterion=entropy, max_depth=4, min_samples_split=16;, score=0.654 total time=   1.4s\n",
      "[CV 1/3] END criterion=entropy, max_depth=8, min_samples_split=2;, score=0.634 total time=   1.9s\n",
      "[CV 2/3] END criterion=entropy, max_depth=8, min_samples_split=2;, score=0.645 total time=   2.6s\n",
      "[CV 3/3] END criterion=entropy, max_depth=8, min_samples_split=2;, score=0.643 total time=   2.2s\n",
      "[CV 1/3] END criterion=entropy, max_depth=8, min_samples_split=4;, score=0.634 total time=   2.2s\n",
      "[CV 2/3] END criterion=entropy, max_depth=8, min_samples_split=4;, score=0.645 total time=   1.3s\n",
      "[CV 3/3] END criterion=entropy, max_depth=8, min_samples_split=4;, score=0.643 total time=   1.3s\n",
      "[CV 1/3] END criterion=entropy, max_depth=8, min_samples_split=8;, score=0.634 total time=   2.5s\n",
      "[CV 2/3] END criterion=entropy, max_depth=8, min_samples_split=8;, score=0.645 total time=   1.9s\n",
      "[CV 3/3] END criterion=entropy, max_depth=8, min_samples_split=8;, score=0.643 total time=   1.3s\n",
      "[CV 1/3] END criterion=entropy, max_depth=8, min_samples_split=16;, score=0.634 total time=   1.5s\n",
      "[CV 2/3] END criterion=entropy, max_depth=8, min_samples_split=16;, score=0.645 total time=   1.4s\n",
      "[CV 3/3] END criterion=entropy, max_depth=8, min_samples_split=16;, score=0.643 total time=   1.3s\n",
      "[CV 1/3] END criterion=entropy, max_depth=16, min_samples_split=2;, score=0.687 total time=   2.2s\n",
      "[CV 2/3] END criterion=entropy, max_depth=16, min_samples_split=2;, score=0.692 total time=   2.1s\n",
      "[CV 3/3] END criterion=entropy, max_depth=16, min_samples_split=2;, score=0.705 total time=   2.0s\n",
      "[CV 1/3] END criterion=entropy, max_depth=16, min_samples_split=4;, score=0.685 total time=   2.2s\n",
      "[CV 2/3] END criterion=entropy, max_depth=16, min_samples_split=4;, score=0.689 total time=   2.4s\n",
      "[CV 3/3] END criterion=entropy, max_depth=16, min_samples_split=4;, score=0.703 total time=   2.3s\n",
      "[CV 1/3] END criterion=entropy, max_depth=16, min_samples_split=8;, score=0.681 total time=   2.2s\n",
      "[CV 2/3] END criterion=entropy, max_depth=16, min_samples_split=8;, score=0.686 total time=   2.1s\n",
      "[CV 3/3] END criterion=entropy, max_depth=16, min_samples_split=8;, score=0.699 total time=   2.0s\n",
      "[CV 1/3] END criterion=entropy, max_depth=16, min_samples_split=16;, score=0.676 total time=   2.0s\n",
      "[CV 2/3] END criterion=entropy, max_depth=16, min_samples_split=16;, score=0.681 total time=   2.2s\n",
      "[CV 3/3] END criterion=entropy, max_depth=16, min_samples_split=16;, score=0.694 total time=   2.1s\n",
      "Accuracy on training set:  0.749851999354179\n",
      "confusion_matrix on training set: \n",
      " [[65620 27285]\n",
      " [19195 73710]]\n",
      "Accuracy on validation set:  0.6247291860105231\n",
      "Confusion matrix: \n",
      " [[14822  8404]\n",
      " [ 3721  5363]]\n",
      "Classification report: \n",
      "               precision    recall  f1-score   support\n",
      "\n",
      "       False       0.80      0.64      0.71     23226\n",
      "        True       0.39      0.59      0.47      9084\n",
      "\n",
      "    accuracy                           0.62     32310\n",
      "   macro avg       0.59      0.61      0.59     32310\n",
      "weighted avg       0.68      0.62      0.64     32310\n",
      "\n"
     ]
    }
   ],
   "source": [
    "\n",
    "param_grid = {'max_depth': [4, 8, 16],\n",
    "              'min_samples_split': [2,4, 8, 16],\n",
    "              'criterion': ['gini', 'entropy']\n",
    "}\n",
    "best_param_dt_over, best_tree_over, result_dt_over = grid_search_kfold_cv(model_class=DecisionTreeClassifier, param_grid=param_grid, X_train=X2_oversampled, y_train=y_oversampled, X_test=X2_test, y_test=y_test,  cv=3, metric='f1', eval=True)"
   ]
  },
  {
   "cell_type": "code",
   "execution_count": null,
   "metadata": {
    "collapsed": false
   },
   "outputs": [
    {
     "data": {
      "text/plain": [
       "{'criterion': 'gini', 'max_depth': 4, 'min_samples_split': 2}"
      ]
     },
     "execution_count": 200,
     "metadata": {},
     "output_type": "execute_result"
    }
   ],
   "source": [
    "grid.best_params_"
   ]
  },
  {
   "cell_type": "code",
   "execution_count": null,
   "metadata": {
    "collapsed": false
   },
   "outputs": [
    {
     "data": {
      "text/html": [
       "<style>#sk-container-id-16 {color: black;background-color: white;}#sk-container-id-16 pre{padding: 0;}#sk-container-id-16 div.sk-toggleable {background-color: white;}#sk-container-id-16 label.sk-toggleable__label {cursor: pointer;display: block;width: 100%;margin-bottom: 0;padding: 0.3em;box-sizing: border-box;text-align: center;}#sk-container-id-16 label.sk-toggleable__label-arrow:before {content: \"▸\";float: left;margin-right: 0.25em;color: #696969;}#sk-container-id-16 label.sk-toggleable__label-arrow:hover:before {color: black;}#sk-container-id-16 div.sk-estimator:hover label.sk-toggleable__label-arrow:before {color: black;}#sk-container-id-16 div.sk-toggleable__content {max-height: 0;max-width: 0;overflow: hidden;text-align: left;background-color: #f0f8ff;}#sk-container-id-16 div.sk-toggleable__content pre {margin: 0.2em;color: black;border-radius: 0.25em;background-color: #f0f8ff;}#sk-container-id-16 input.sk-toggleable__control:checked~div.sk-toggleable__content {max-height: 200px;max-width: 100%;overflow: auto;}#sk-container-id-16 input.sk-toggleable__control:checked~label.sk-toggleable__label-arrow:before {content: \"▾\";}#sk-container-id-16 div.sk-estimator input.sk-toggleable__control:checked~label.sk-toggleable__label {background-color: #d4ebff;}#sk-container-id-16 div.sk-label input.sk-toggleable__control:checked~label.sk-toggleable__label {background-color: #d4ebff;}#sk-container-id-16 input.sk-hidden--visually {border: 0;clip: rect(1px 1px 1px 1px);clip: rect(1px, 1px, 1px, 1px);height: 1px;margin: -1px;overflow: hidden;padding: 0;position: absolute;width: 1px;}#sk-container-id-16 div.sk-estimator {font-family: monospace;background-color: #f0f8ff;border: 1px dotted black;border-radius: 0.25em;box-sizing: border-box;margin-bottom: 0.5em;}#sk-container-id-16 div.sk-estimator:hover {background-color: #d4ebff;}#sk-container-id-16 div.sk-parallel-item::after {content: \"\";width: 100%;border-bottom: 1px solid gray;flex-grow: 1;}#sk-container-id-16 div.sk-label:hover label.sk-toggleable__label {background-color: #d4ebff;}#sk-container-id-16 div.sk-serial::before {content: \"\";position: absolute;border-left: 1px solid gray;box-sizing: border-box;top: 0;bottom: 0;left: 50%;z-index: 0;}#sk-container-id-16 div.sk-serial {display: flex;flex-direction: column;align-items: center;background-color: white;padding-right: 0.2em;padding-left: 0.2em;position: relative;}#sk-container-id-16 div.sk-item {position: relative;z-index: 1;}#sk-container-id-16 div.sk-parallel {display: flex;align-items: stretch;justify-content: center;background-color: white;position: relative;}#sk-container-id-16 div.sk-item::before, #sk-container-id-16 div.sk-parallel-item::before {content: \"\";position: absolute;border-left: 1px solid gray;box-sizing: border-box;top: 0;bottom: 0;left: 50%;z-index: -1;}#sk-container-id-16 div.sk-parallel-item {display: flex;flex-direction: column;z-index: 1;position: relative;background-color: white;}#sk-container-id-16 div.sk-parallel-item:first-child::after {align-self: flex-end;width: 50%;}#sk-container-id-16 div.sk-parallel-item:last-child::after {align-self: flex-start;width: 50%;}#sk-container-id-16 div.sk-parallel-item:only-child::after {width: 0;}#sk-container-id-16 div.sk-dashed-wrapped {border: 1px dashed gray;margin: 0 0.4em 0.5em 0.4em;box-sizing: border-box;padding-bottom: 0.4em;background-color: white;}#sk-container-id-16 div.sk-label label {font-family: monospace;font-weight: bold;display: inline-block;line-height: 1.2em;}#sk-container-id-16 div.sk-label-container {text-align: center;}#sk-container-id-16 div.sk-container {/* jupyter's `normalize.less` sets `[hidden] { display: none; }` but bootstrap.min.css set `[hidden] { display: none !important; }` so we also need the `!important` here to be able to override the default hidden behavior on the sphinx rendered scikit-learn.org. See: https://github.com/scikit-learn/scikit-learn/issues/21755 */display: inline-block !important;position: relative;}#sk-container-id-16 div.sk-text-repr-fallback {display: none;}</style><div id=\"sk-container-id-16\" class=\"sk-top-container\"><div class=\"sk-text-repr-fallback\"><pre>DecisionTreeClassifier(max_depth=16, min_samples_split=6, random_state=42)</pre><b>In a Jupyter environment, please rerun this cell to show the HTML representation or trust the notebook. <br />On GitHub, the HTML representation is unable to render, please try loading this page with nbviewer.org.</b></div><div class=\"sk-container\" hidden><div class=\"sk-item\"><div class=\"sk-estimator sk-toggleable\"><input class=\"sk-toggleable__control sk-hidden--visually\" id=\"sk-estimator-id-24\" type=\"checkbox\" checked><label for=\"sk-estimator-id-24\" class=\"sk-toggleable__label sk-toggleable__label-arrow\">DecisionTreeClassifier</label><div class=\"sk-toggleable__content\"><pre>DecisionTreeClassifier(max_depth=16, min_samples_split=6, random_state=42)</pre></div></div></div></div></div>"
      ],
      "text/plain": [
       "DecisionTreeClassifier(max_depth=16, min_samples_split=6, random_state=42)"
      ]
     },
     "execution_count": 201,
     "metadata": {},
     "output_type": "execute_result"
    }
   ],
   "source": [
    "tree_oversampled = DecisionTreeClassifier(random_state=42, max_depth=16, min_samples_split=6,  criterion='gini')\n",
    "tree_oversampled.fit(X2_oversampled, y_oversampled)"
   ]
  },
  {
   "cell_type": "code",
   "execution_count": null,
   "metadata": {
    "collapsed": false
   },
   "outputs": [
    {
     "name": "stdout",
     "output_type": "stream",
     "text": [
      "Accuracy on training set:  0.7467628222377698\n",
      "confusion_matrix on training set: \n",
      " [[65364 27541]\n",
      " [19513 73392]]\n",
      "Accuracy on validation set:  0.623800680903745\n",
      "Confusion matrix: \n",
      " [[14809  8417]\n",
      " [ 3738  5346]]\n",
      "Classification report: \n",
      "               precision    recall  f1-score   support\n",
      "\n",
      "       False       0.80      0.64      0.71     23226\n",
      "        True       0.39      0.59      0.47      9084\n",
      "\n",
      "    accuracy                           0.62     32310\n",
      "   macro avg       0.59      0.61      0.59     32310\n",
      "weighted avg       0.68      0.62      0.64     32310\n",
      "\n"
     ]
    }
   ],
   "source": [
    "y_pred = tree_oversampled.predict(X2_test)\n",
    "y_pred_train = tree_oversampled.predict(X2_oversampled)\n",
    "print('Accuracy on training set: ', accuracy_score(y_oversampled, y_pred_train))\n",
    "print('confusion_matrix on training set: \\n', confusion_matrix(y_oversampled, y_pred_train))\n",
    "print('Accuracy on validation set: ', accuracy_score(y_test, y_pred))\n",
    "print('Confusion matrix: \\n', confusion_matrix(y_test, y_pred))\n",
    "print('Classification report: \\n', classification_report(y_test, y_pred))"
   ]
  },
  {
   "cell_type": "markdown",
   "metadata": {
    "collapsed": false
   },
   "source": [
    "##### SMOTE"
   ]
  },
  {
   "cell_type": "code",
   "execution_count": null,
   "metadata": {
    "collapsed": false
   },
   "outputs": [
    {
     "data": {
      "text/plain": [
       "False    92905\n",
       "True     92905\n",
       "Name: isKilled, dtype: int64"
      ]
     },
     "execution_count": 203,
     "metadata": {},
     "output_type": "execute_result"
    }
   ],
   "source": [
    "from imblearn.over_sampling import SMOTE\n",
    "smote = SMOTE(random_state=42)\n",
    "X2_smote, y_smote = smote.fit_resample(X2_train, y_train)\n",
    "y_smote.value_counts()"
   ]
  },
  {
   "cell_type": "code",
   "execution_count": null,
   "metadata": {
    "collapsed": false
   },
   "outputs": [
    {
     "name": "stdout",
     "output_type": "stream",
     "text": [
      "Fitting 3 folds for each of 24 candidates, totalling 72 fits\n",
      "[CV 1/3] END criterion=gini, max_depth=4, min_samples_split=2;, score=0.577 total time=   0.7s\n",
      "[CV 2/3] END criterion=gini, max_depth=4, min_samples_split=2;, score=0.640 total time=   0.6s\n",
      "[CV 3/3] END criterion=gini, max_depth=4, min_samples_split=2;, score=0.627 total time=   0.6s\n",
      "[CV 1/3] END criterion=gini, max_depth=4, min_samples_split=4;, score=0.577 total time=   0.6s\n",
      "[CV 2/3] END criterion=gini, max_depth=4, min_samples_split=4;, score=0.640 total time=   0.6s\n",
      "[CV 3/3] END criterion=gini, max_depth=4, min_samples_split=4;, score=0.627 total time=   0.6s\n",
      "[CV 1/3] END criterion=gini, max_depth=4, min_samples_split=8;, score=0.577 total time=   0.7s\n",
      "[CV 2/3] END criterion=gini, max_depth=4, min_samples_split=8;, score=0.640 total time=   0.7s\n",
      "[CV 3/3] END criterion=gini, max_depth=4, min_samples_split=8;, score=0.627 total time=   0.7s\n",
      "[CV 1/3] END criterion=gini, max_depth=4, min_samples_split=16;, score=0.577 total time=   0.7s\n",
      "[CV 2/3] END criterion=gini, max_depth=4, min_samples_split=16;, score=0.640 total time=   0.6s\n",
      "[CV 3/3] END criterion=gini, max_depth=4, min_samples_split=16;, score=0.627 total time=   0.6s\n",
      "[CV 1/3] END criterion=gini, max_depth=8, min_samples_split=2;, score=0.444 total time=   1.1s\n",
      "[CV 2/3] END criterion=gini, max_depth=8, min_samples_split=2;, score=0.725 total time=   1.1s\n",
      "[CV 3/3] END criterion=gini, max_depth=8, min_samples_split=2;, score=0.737 total time=   1.1s\n",
      "[CV 1/3] END criterion=gini, max_depth=8, min_samples_split=4;, score=0.444 total time=   1.1s\n",
      "[CV 2/3] END criterion=gini, max_depth=8, min_samples_split=4;, score=0.725 total time=   1.1s\n",
      "[CV 3/3] END criterion=gini, max_depth=8, min_samples_split=4;, score=0.737 total time=   1.1s\n",
      "[CV 1/3] END criterion=gini, max_depth=8, min_samples_split=8;, score=0.444 total time=   1.2s\n",
      "[CV 2/3] END criterion=gini, max_depth=8, min_samples_split=8;, score=0.725 total time=   1.1s\n",
      "[CV 3/3] END criterion=gini, max_depth=8, min_samples_split=8;, score=0.737 total time=   1.1s\n",
      "[CV 1/3] END criterion=gini, max_depth=8, min_samples_split=16;, score=0.444 total time=   1.1s\n",
      "[CV 2/3] END criterion=gini, max_depth=8, min_samples_split=16;, score=0.725 total time=   1.1s\n",
      "[CV 3/3] END criterion=gini, max_depth=8, min_samples_split=16;, score=0.737 total time=   1.1s\n",
      "[CV 1/3] END criterion=gini, max_depth=16, min_samples_split=2;, score=0.378 total time=   1.7s\n",
      "[CV 2/3] END criterion=gini, max_depth=16, min_samples_split=2;, score=0.775 total time=   1.7s\n",
      "[CV 3/3] END criterion=gini, max_depth=16, min_samples_split=2;, score=0.797 total time=   1.7s\n",
      "[CV 1/3] END criterion=gini, max_depth=16, min_samples_split=4;, score=0.374 total time=   1.7s\n",
      "[CV 2/3] END criterion=gini, max_depth=16, min_samples_split=4;, score=0.776 total time=   1.9s\n",
      "[CV 3/3] END criterion=gini, max_depth=16, min_samples_split=4;, score=0.798 total time=   1.7s\n",
      "[CV 1/3] END criterion=gini, max_depth=16, min_samples_split=8;, score=0.370 total time=   1.6s\n",
      "[CV 2/3] END criterion=gini, max_depth=16, min_samples_split=8;, score=0.776 total time=   1.8s\n",
      "[CV 3/3] END criterion=gini, max_depth=16, min_samples_split=8;, score=0.797 total time=   1.7s\n",
      "[CV 1/3] END criterion=gini, max_depth=16, min_samples_split=16;, score=0.364 total time=   1.6s\n",
      "[CV 2/3] END criterion=gini, max_depth=16, min_samples_split=16;, score=0.775 total time=   1.8s\n",
      "[CV 3/3] END criterion=gini, max_depth=16, min_samples_split=16;, score=0.796 total time=   1.7s\n",
      "[CV 1/3] END criterion=entropy, max_depth=4, min_samples_split=2;, score=0.583 total time=   0.7s\n",
      "[CV 2/3] END criterion=entropy, max_depth=4, min_samples_split=2;, score=0.640 total time=   0.7s\n",
      "[CV 3/3] END criterion=entropy, max_depth=4, min_samples_split=2;, score=0.627 total time=   0.7s\n",
      "[CV 1/3] END criterion=entropy, max_depth=4, min_samples_split=4;, score=0.583 total time=   0.7s\n",
      "[CV 2/3] END criterion=entropy, max_depth=4, min_samples_split=4;, score=0.640 total time=   0.7s\n",
      "[CV 3/3] END criterion=entropy, max_depth=4, min_samples_split=4;, score=0.627 total time=   0.7s\n",
      "[CV 1/3] END criterion=entropy, max_depth=4, min_samples_split=8;, score=0.583 total time=   0.8s\n",
      "[CV 2/3] END criterion=entropy, max_depth=4, min_samples_split=8;, score=0.640 total time=   0.7s\n",
      "[CV 3/3] END criterion=entropy, max_depth=4, min_samples_split=8;, score=0.627 total time=   0.7s\n",
      "[CV 1/3] END criterion=entropy, max_depth=4, min_samples_split=16;, score=0.583 total time=   0.7s\n",
      "[CV 2/3] END criterion=entropy, max_depth=4, min_samples_split=16;, score=0.640 total time=   0.7s\n",
      "[CV 3/3] END criterion=entropy, max_depth=4, min_samples_split=16;, score=0.627 total time=   0.7s\n",
      "[CV 1/3] END criterion=entropy, max_depth=8, min_samples_split=2;, score=0.378 total time=   1.3s\n",
      "[CV 2/3] END criterion=entropy, max_depth=8, min_samples_split=2;, score=0.725 total time=   1.3s\n",
      "[CV 3/3] END criterion=entropy, max_depth=8, min_samples_split=2;, score=0.741 total time=   1.2s\n",
      "[CV 1/3] END criterion=entropy, max_depth=8, min_samples_split=4;, score=0.378 total time=   1.3s\n",
      "[CV 2/3] END criterion=entropy, max_depth=8, min_samples_split=4;, score=0.725 total time=   1.3s\n",
      "[CV 3/3] END criterion=entropy, max_depth=8, min_samples_split=4;, score=0.741 total time=   1.3s\n",
      "[CV 1/3] END criterion=entropy, max_depth=8, min_samples_split=8;, score=0.378 total time=   1.4s\n",
      "[CV 2/3] END criterion=entropy, max_depth=8, min_samples_split=8;, score=0.725 total time=   1.3s\n",
      "[CV 3/3] END criterion=entropy, max_depth=8, min_samples_split=8;, score=0.741 total time=   1.3s\n",
      "[CV 1/3] END criterion=entropy, max_depth=8, min_samples_split=16;, score=0.378 total time=   1.3s\n",
      "[CV 2/3] END criterion=entropy, max_depth=8, min_samples_split=16;, score=0.725 total time=   1.4s\n",
      "[CV 3/3] END criterion=entropy, max_depth=8, min_samples_split=16;, score=0.741 total time=   1.3s\n",
      "[CV 1/3] END criterion=entropy, max_depth=16, min_samples_split=2;, score=0.365 total time=   2.1s\n",
      "[CV 2/3] END criterion=entropy, max_depth=16, min_samples_split=2;, score=0.771 total time=   2.2s\n",
      "[CV 3/3] END criterion=entropy, max_depth=16, min_samples_split=2;, score=0.794 total time=   2.2s\n",
      "[CV 1/3] END criterion=entropy, max_depth=16, min_samples_split=4;, score=0.364 total time=   2.1s\n",
      "[CV 2/3] END criterion=entropy, max_depth=16, min_samples_split=4;, score=0.772 total time=   2.2s\n",
      "[CV 3/3] END criterion=entropy, max_depth=16, min_samples_split=4;, score=0.794 total time=   2.3s\n",
      "[CV 1/3] END criterion=entropy, max_depth=16, min_samples_split=8;, score=0.358 total time=   2.1s\n",
      "[CV 2/3] END criterion=entropy, max_depth=16, min_samples_split=8;, score=0.771 total time=   2.4s\n",
      "[CV 3/3] END criterion=entropy, max_depth=16, min_samples_split=8;, score=0.794 total time=   2.3s\n",
      "[CV 1/3] END criterion=entropy, max_depth=16, min_samples_split=16;, score=0.352 total time=   2.2s\n",
      "[CV 2/3] END criterion=entropy, max_depth=16, min_samples_split=16;, score=0.771 total time=   2.4s\n",
      "[CV 3/3] END criterion=entropy, max_depth=16, min_samples_split=16;, score=0.794 total time=   2.5s\n",
      "Accuracy on training set:  0.7989989774500834\n",
      "confusion_matrix on training set: \n",
      " [[76912 15993]\n",
      " [21355 71550]]\n",
      "Accuracy on validation set:  0.6601671309192201\n",
      "Confusion matrix: \n",
      " [[17631  5595]\n",
      " [ 5385  3699]]\n",
      "Classification report: \n",
      "               precision    recall  f1-score   support\n",
      "\n",
      "       False       0.77      0.76      0.76     23226\n",
      "        True       0.40      0.41      0.40      9084\n",
      "\n",
      "    accuracy                           0.66     32310\n",
      "   macro avg       0.58      0.58      0.58     32310\n",
      "weighted avg       0.66      0.66      0.66     32310\n",
      "\n"
     ]
    }
   ],
   "source": [
    "param_grid = {'max_depth': [4, 8, 16],\n",
    "              'min_samples_split': [2,4, 8, 16],\n",
    "              'criterion': ['gini', 'entropy']\n",
    "}\n",
    "best_param_dt_smote, best_tree_smote, result_dt_smote = grid_search_kfold_cv(model_class=DecisionTreeClassifier, param_grid=param_grid, X_train=X2_smote, y_train=y_smote, X_test=X2_test, y_test=y_test,  cv=3, metric='f1', eval=True)"
   ]
  },
  {
   "cell_type": "markdown",
   "metadata": {
    "collapsed": false
   },
   "source": [
    "### 3.2.3 KNN"
   ]
  },
  {
   "cell_type": "code",
   "execution_count": null,
   "metadata": {
    "collapsed": false
   },
   "outputs": [],
   "source": [
    "from sklearn.neighbors import KNeighborsClassifier\n",
    "from sklearn.model_selection import train_test_split\n",
    "from sklearn.metrics import accuracy_score, precision_score, recall_score, f1_score, confusion_matrix, classification_report\n",
    "from sklearn.metrics import confusion_matrix\n",
    "from sklearn.metrics import classification_report"
   ]
  },
  {
   "cell_type": "code",
   "execution_count": null,
   "metadata": {
    "collapsed": false
   },
   "outputs": [
    {
     "name": "stderr",
     "output_type": "stream",
     "text": [
      "100%|██████████| 9/9 [01:20<00:00,  8.94s/it]\n"
     ]
    }
   ],
   "source": [
    "# train model\n",
    "accuracy_scores = []\n",
    "f1_scores =[]\n",
    "for i in tqdm(range(1, 10)):\n",
    "    knn2 = KNeighborsClassifier(n_neighbors=i)\n",
    "    knn2.fit(X2_train, y_train)\n",
    "    y_pred = knn2.predict(X2_test)\n",
    "    accuracy_scores.append(accuracy_score(y_test, y_pred))\n",
    "    f1_scores.append(f1_score(y_test, y_pred))"
   ]
  },
  {
   "cell_type": "code",
   "execution_count": null,
   "metadata": {
    "collapsed": false
   },
   "outputs": [
    {
     "data": {
      "text/plain": [
       "Text(0.5, 1.0, 'accuracy and f1-score for different k values')"
      ]
     },
     "execution_count": 215,
     "metadata": {},
     "output_type": "execute_result"
    },
    {
     "data": {
      "image/png": "[encoded data removed]",
      "text/plain": [
       "<Figure size 640x480 with 1 Axes>"
      ]
     },
     "metadata": {},
     "output_type": "display_data"
    }
   ],
   "source": [
    "plt.plot(range(1, 10), accuracy_scores)\n",
    "plt.plot(range(1, 10), f1_scores)\n",
    "plt.xlabel('k')\n",
    "plt.legend(['accuracy' ,'f1'])\n",
    "plt.title('accuracy and f1-score for different k values')\n",
    "\n"
   ]
  },
  {
   "cell_type": "code",
   "execution_count": null,
   "metadata": {
    "collapsed": false
   },
   "outputs": [
    {
     "name": "stdout",
     "output_type": "stream",
     "text": [
      "Accuracy on training set:  0.7772670999690499\n",
      "confusion_matrix on training set: \n",
      " [[85102  7803]\n",
      " [20983 15352]]\n",
      "Accuracy on validation set:  0.6988238935314144\n",
      "Confusion matrix: \n",
      " [[20046  3180]\n",
      " [ 6551  2533]]\n",
      "Classification report: \n",
      "               precision    recall  f1-score   support\n",
      "\n",
      "       False       0.75      0.86      0.80     23226\n",
      "        True       0.44      0.28      0.34      9084\n",
      "\n",
      "    accuracy                           0.70     32310\n",
      "   macro avg       0.60      0.57      0.57     32310\n",
      "weighted avg       0.67      0.70      0.67     32310\n",
      "\n"
     ]
    }
   ],
   "source": [
    "# train again with best k\n",
    "knn2 = KNeighborsClassifier(n_neighbors=5)\n",
    "knn2.fit(X2_train, y_train)\n",
    "results_knn2 = evaluate_model(knn2, X2_train, y_train, X2_test, y_test)"
   ]
  },
  {
   "cell_type": "markdown",
   "metadata": {
    "collapsed": false
   },
   "source": [
    "### 3.2.4 Random Forest"
   ]
  },
  {
   "cell_type": "code",
   "execution_count": null,
   "metadata": {},
   "outputs": [],
   "source": [
    "from sklearn.ensemble import RandomForestClassifier\n"
   ]
  },
  {
   "cell_type": "code",
   "execution_count": null,
   "metadata": {
    "collapsed": false,
    "pycharm": {
     "is_executing": true
    }
   },
   "outputs": [],
   "source": [
    "# grid search for random forest\n",
    "from sklearn.model_selection import GridSearchCV\n",
    "\n",
    "param_grid = {'max_depth': [16, 32],\n",
    "              'min_samples_split': [ 2, 4, 8],\n",
    "              'criterion': ['gini', 'entropy'],\n",
    "              'n_estimators': [ 10, 20, 30]\n",
    "}\n",
    "\n",
    "best_params_rf2 = grid_search_kfold_cv(model_class=RandomForestClassifier, param_grid=param_grid,\n",
    "                                       X_train=X2_train, y_train=y_train, X_test=X2_test, y_test=y_test,  cv=3,metric='f1', eval=False, verbose=3)"
   ]
  },
  {
   "cell_type": "code",
   "execution_count": null,
   "metadata": {
    "collapsed": false
   },
   "outputs": [
    {
     "data": {
      "text/plain": [
       "{'criterion': 'gini',\n",
       " 'max_depth': 32,\n",
       " 'min_samples_split': 2,\n",
       " 'n_estimators': 30}"
      ]
     },
     "execution_count": 255,
     "metadata": {},
     "output_type": "execute_result"
    }
   ],
   "source": [
    "best_params_rf2"
   ]
  },
  {
   "cell_type": "code",
   "execution_count": null,
   "metadata": {
    "collapsed": false
   },
   "outputs": [
    {
     "name": "stdout",
     "output_type": "stream",
     "text": [
      "Accuracy on training set:  0.9901810584958217\n",
      "confusion_matrix on training set: \n",
      " [[92797   108]\n",
      " [ 1161 35174]]\n",
      "Accuracy on validation set:  0.7\n",
      "Confusion matrix: \n",
      " [[19833  3393]\n",
      " [ 6300  2784]]\n",
      "Classification report: \n",
      "               precision    recall  f1-score   support\n",
      "\n",
      "       False       0.76      0.85      0.80     23226\n",
      "        True       0.45      0.31      0.36      9084\n",
      "\n",
      "    accuracy                           0.70     32310\n",
      "   macro avg       0.60      0.58      0.58     32310\n",
      "weighted avg       0.67      0.70      0.68     32310\n",
      "\n"
     ]
    }
   ],
   "source": [
    "# train model with best parameters\n",
    "rf2 = RandomForestClassifier(**best_params_rf2)\n",
    "rf2.fit(X2_train, y_train)\n",
    "results_rf2 = evaluate_model(rf2, X2_train, y_train, X2_test, y_test)\n"
   ]
  },
  {
   "cell_type": "code",
   "execution_count": null,
   "metadata": {
    "collapsed": false
   },
   "outputs": [
    {
     "data": {
      "text/plain": [
       "<matplotlib.legend.Legend at 0x1b8ef67aaa0>"
      ]
     },
     "execution_count": 260,
     "metadata": {},
     "output_type": "execute_result"
    },
    {
     "data": {
      "image/png": "[encoded data removed]",
      "text/plain": [
       "<Figure size 640x480 with 1 Axes>"
      ]
     },
     "metadata": {},
     "output_type": "display_data"
    }
   ],
   "source": [
    "# roc curves af all the models\n",
    "\n",
    "y_pred_proba_rf = rf2.predict_proba(X2_test)[:,1]\n",
    "y_pred_proba_dt = best_tree2.predict_proba(X2_test)[:,1]\n",
    "y_pred_proba_knn = knn2.predict_proba(X2_test)[:,1]\n",
    "y_pred_proba_logreg = logreg2.predict_proba(X2_test_scaled)[:,1]\n",
    "\n",
    "plt.plot([0,1], [0,1], 'k--')\n",
    "\n",
    "fpr_rf, tpr_rf, thresholds_rf = roc_curve(y_test, y_pred_proba_rf)\n",
    "fpr_dt, tpr_dt, thresholds_dt = roc_curve(y_test, y_pred_proba_dt)\n",
    "fpr_knn, tpr_knn, thresholds_knn = roc_curve(y_test, y_pred_proba_knn)\n",
    "fpr_logreg, tpr_logreg, thresholds_logreg = roc_curve(y_test, y_pred_proba_logreg)\n",
    "\n",
    "plt.plot(fpr_rf, tpr_rf)\n",
    "plt.plot(fpr_dt, tpr_dt)\n",
    "plt.plot(fpr_knn, tpr_knn)\n",
    "plt.plot(fpr_logreg, tpr_logreg)\n",
    "plt.legend([ f'random forest', 'decision tree', 'knn', 'logistic regression'])\n",
    "\n"
   ]
  },
  {
   "cell_type": "markdown",
   "metadata": {
    "collapsed": false
   },
   "source": [
    "### 3.2.5 Discussion"
   ]
  },
  {
   "cell_type": "markdown",
   "metadata": {
    "collapsed": false
   },
   "source": [
    "In this case, none of the model we tried was able to achieve good performances on the test set. It is evident that having only the features `n_participants`, `n_participants_adult`, `n_participants_child`, `n_participants_teen`, `n_participants_females` is not enough to predict the number of killed in a shooting. We can then try to add at least the feature `n_injured` to see if the performances improve."
   ]
  },
  {
   "cell_type": "markdown",
   "metadata": {
    "collapsed": false
   },
   "source": [
    "## 3.3 Classification using n_injured and n_participants"
   ]
  },
  {
   "cell_type": "code",
   "execution_count": null,
   "metadata": {
    "collapsed": false
   },
   "outputs": [],
   "source": [
    "X3=df_incidents_prepared.drop('isKilled', axis=1)"
   ]
  },
  {
   "cell_type": "code",
   "execution_count": null,
   "metadata": {
    "collapsed": false
   },
   "outputs": [],
   "source": [
    "X3.drop(['n_unharmed', 'n_arrested'], axis=1, inplace=True)"
   ]
  },
  {
   "cell_type": "code",
   "execution_count": null,
   "metadata": {
    "collapsed": false
   },
   "outputs": [
    {
     "data": {
      "text/html": [
       "<div>\n",
       "<style scoped>\n",
       "    .dataframe tbody tr th:only-of-type {\n",
       "        vertical-align: middle;\n",
       "    }\n",
       "\n",
       "    .dataframe tbody tr th {\n",
       "        vertical-align: top;\n",
       "    }\n",
       "\n",
       "    .dataframe thead th {\n",
       "        text-align: right;\n",
       "    }\n",
       "</style>\n",
       "<table border=\"1\" class=\"dataframe\">\n",
       "  <thead>\n",
       "    <tr style=\"text-align: right;\">\n",
       "      <th></th>\n",
       "      <th>latitude</th>\n",
       "      <th>longitude</th>\n",
       "      <th>year</th>\n",
       "      <th>age_group</th>\n",
       "      <th>povertyPercentage</th>\n",
       "      <th>population</th>\n",
       "      <th>party</th>\n",
       "      <th>candidatevotes</th>\n",
       "      <th>right_or_left</th>\n",
       "      <th>voters_over_population</th>\n",
       "      <th>n_participants</th>\n",
       "      <th>n_participants_teen</th>\n",
       "      <th>n_participants_child</th>\n",
       "      <th>n_females</th>\n",
       "      <th>n_males</th>\n",
       "      <th>n_injured</th>\n",
       "    </tr>\n",
       "  </thead>\n",
       "  <tbody>\n",
       "    <tr>\n",
       "      <th>0</th>\n",
       "      <td>39.8322</td>\n",
       "      <td>-86.2492</td>\n",
       "      <td>2015.0</td>\n",
       "      <td>[18-24]</td>\n",
       "      <td>12.3</td>\n",
       "      <td>6608422</td>\n",
       "      <td>DEMOCRAT</td>\n",
       "      <td>61443.0</td>\n",
       "      <td>0.452677</td>\n",
       "      <td>0.203046</td>\n",
       "      <td>1.0</td>\n",
       "      <td>0.0</td>\n",
       "      <td>0.0</td>\n",
       "      <td>0.0</td>\n",
       "      <td>1.0</td>\n",
       "      <td>1</td>\n",
       "    </tr>\n",
       "    <tr>\n",
       "      <th>1</th>\n",
       "      <td>39.7745</td>\n",
       "      <td>-86.1166</td>\n",
       "      <td>2015.0</td>\n",
       "      <td>[25-34]</td>\n",
       "      <td>12.3</td>\n",
       "      <td>6608422</td>\n",
       "      <td>DEMOCRAT</td>\n",
       "      <td>61443.0</td>\n",
       "      <td>0.452677</td>\n",
       "      <td>0.203046</td>\n",
       "      <td>2.0</td>\n",
       "      <td>0.0</td>\n",
       "      <td>0.0</td>\n",
       "      <td>0.0</td>\n",
       "      <td>2.0</td>\n",
       "      <td>0</td>\n",
       "    </tr>\n",
       "    <tr>\n",
       "      <th>2</th>\n",
       "      <td>39.7759</td>\n",
       "      <td>-86.2940</td>\n",
       "      <td>2015.0</td>\n",
       "      <td>[35-44]</td>\n",
       "      <td>12.3</td>\n",
       "      <td>6608422</td>\n",
       "      <td>DEMOCRAT</td>\n",
       "      <td>61443.0</td>\n",
       "      <td>0.452677</td>\n",
       "      <td>0.203046</td>\n",
       "      <td>2.0</td>\n",
       "      <td>0.0</td>\n",
       "      <td>0.0</td>\n",
       "      <td>0.0</td>\n",
       "      <td>2.0</td>\n",
       "      <td>0</td>\n",
       "    </tr>\n",
       "    <tr>\n",
       "      <th>3</th>\n",
       "      <td>39.8040</td>\n",
       "      <td>-86.0095</td>\n",
       "      <td>2015.0</td>\n",
       "      <td>[18-24]</td>\n",
       "      <td>12.3</td>\n",
       "      <td>6608422</td>\n",
       "      <td>DEMOCRAT</td>\n",
       "      <td>61443.0</td>\n",
       "      <td>0.452677</td>\n",
       "      <td>0.203046</td>\n",
       "      <td>1.0</td>\n",
       "      <td>0.0</td>\n",
       "      <td>0.0</td>\n",
       "      <td>0.0</td>\n",
       "      <td>1.0</td>\n",
       "      <td>0</td>\n",
       "    </tr>\n",
       "    <tr>\n",
       "      <th>4</th>\n",
       "      <td>39.7882</td>\n",
       "      <td>-86.2091</td>\n",
       "      <td>2015.0</td>\n",
       "      <td>[45-54]</td>\n",
       "      <td>12.3</td>\n",
       "      <td>6608422</td>\n",
       "      <td>DEMOCRAT</td>\n",
       "      <td>61443.0</td>\n",
       "      <td>0.452677</td>\n",
       "      <td>0.203046</td>\n",
       "      <td>1.0</td>\n",
       "      <td>0.0</td>\n",
       "      <td>0.0</td>\n",
       "      <td>0.0</td>\n",
       "      <td>1.0</td>\n",
       "      <td>1</td>\n",
       "    </tr>\n",
       "  </tbody>\n",
       "</table>\n",
       "</div>"
      ],
      "text/plain": [
       "   latitude  longitude    year age_group  povertyPercentage  population  \\\n",
       "0   39.8322   -86.2492  2015.0   [18-24]               12.3     6608422   \n",
       "1   39.7745   -86.1166  2015.0   [25-34]               12.3     6608422   \n",
       "2   39.7759   -86.2940  2015.0   [35-44]               12.3     6608422   \n",
       "3   39.8040   -86.0095  2015.0   [18-24]               12.3     6608422   \n",
       "4   39.7882   -86.2091  2015.0   [45-54]               12.3     6608422   \n",
       "\n",
       "      party  candidatevotes  right_or_left  voters_over_population  \\\n",
       "0  DEMOCRAT         61443.0       0.452677                0.203046   \n",
       "1  DEMOCRAT         61443.0       0.452677                0.203046   \n",
       "2  DEMOCRAT         61443.0       0.452677                0.203046   \n",
       "3  DEMOCRAT         61443.0       0.452677                0.203046   \n",
       "4  DEMOCRAT         61443.0       0.452677                0.203046   \n",
       "\n",
       "   n_participants  n_participants_teen  n_participants_child  n_females  \\\n",
       "0             1.0                  0.0                   0.0        0.0   \n",
       "1             2.0                  0.0                   0.0        0.0   \n",
       "2             2.0                  0.0                   0.0        0.0   \n",
       "3             1.0                  0.0                   0.0        0.0   \n",
       "4             1.0                  0.0                   0.0        0.0   \n",
       "\n",
       "   n_males  n_injured  \n",
       "0      1.0          1  \n",
       "1      2.0          0  \n",
       "2      2.0          0  \n",
       "3      1.0          0  \n",
       "4      1.0          1  "
      ]
     },
     "execution_count": 97,
     "metadata": {},
     "output_type": "execute_result"
    }
   ],
   "source": [
    "X3.head()"
   ]
  },
  {
   "cell_type": "code",
   "execution_count": null,
   "metadata": {
    "collapsed": false
   },
   "outputs": [],
   "source": [
    "# one hot encoding\n",
    "X3=pd.get_dummies(X3)"
   ]
  },
  {
   "cell_type": "code",
   "execution_count": null,
   "metadata": {
    "collapsed": false
   },
   "outputs": [],
   "source": [
    "X3_train, X3_test, y_train, y_test = train_test_split(X3, y, test_size=0.2, random_state=42)"
   ]
  },
  {
   "cell_type": "markdown",
   "metadata": {
    "collapsed": false
   },
   "source": [
    "### Decision Tree"
   ]
  },
  {
   "cell_type": "code",
   "execution_count": null,
   "metadata": {
    "collapsed": false
   },
   "outputs": [
    {
     "name": "stdout",
     "output_type": "stream",
     "text": [
      "Fitting 3 folds for each of 24 candidates, totalling 72 fits\n",
      "[CV 1/3] END criterion=gini, max_depth=4, min_samples_split=2;, score=0.537 total time=   0.3s\n",
      "[CV 2/3] END criterion=gini, max_depth=4, min_samples_split=2;, score=0.571 total time=   0.3s\n",
      "[CV 3/3] END criterion=gini, max_depth=4, min_samples_split=2;, score=0.560 total time=   0.3s\n",
      "[CV 1/3] END criterion=gini, max_depth=4, min_samples_split=4;, score=0.537 total time=   0.3s\n",
      "[CV 2/3] END criterion=gini, max_depth=4, min_samples_split=4;, score=0.571 total time=   0.3s\n",
      "[CV 3/3] END criterion=gini, max_depth=4, min_samples_split=4;, score=0.560 total time=   0.3s\n",
      "[CV 1/3] END criterion=gini, max_depth=4, min_samples_split=8;, score=0.537 total time=   0.3s\n",
      "[CV 2/3] END criterion=gini, max_depth=4, min_samples_split=8;, score=0.571 total time=   0.2s\n",
      "[CV 3/3] END criterion=gini, max_depth=4, min_samples_split=8;, score=0.560 total time=   0.3s\n",
      "[CV 1/3] END criterion=gini, max_depth=4, min_samples_split=16;, score=0.537 total time=   0.3s\n",
      "[CV 2/3] END criterion=gini, max_depth=4, min_samples_split=16;, score=0.571 total time=   0.3s\n",
      "[CV 3/3] END criterion=gini, max_depth=4, min_samples_split=16;, score=0.560 total time=   0.3s\n",
      "[CV 1/3] END criterion=gini, max_depth=8, min_samples_split=2;, score=0.546 total time=   0.6s\n",
      "[CV 2/3] END criterion=gini, max_depth=8, min_samples_split=2;, score=0.548 total time=   1.3s\n",
      "[CV 3/3] END criterion=gini, max_depth=8, min_samples_split=2;, score=0.542 total time=   0.5s\n",
      "[CV 1/3] END criterion=gini, max_depth=8, min_samples_split=4;, score=0.546 total time=   0.4s\n",
      "[CV 2/3] END criterion=gini, max_depth=8, min_samples_split=4;, score=0.548 total time=   0.4s\n",
      "[CV 3/3] END criterion=gini, max_depth=8, min_samples_split=4;, score=0.542 total time=   0.4s\n",
      "[CV 1/3] END criterion=gini, max_depth=8, min_samples_split=8;, score=0.546 total time=   0.4s\n",
      "[CV 2/3] END criterion=gini, max_depth=8, min_samples_split=8;, score=0.548 total time=   0.5s\n",
      "[CV 3/3] END criterion=gini, max_depth=8, min_samples_split=8;, score=0.542 total time=   0.4s\n",
      "[CV 1/3] END criterion=gini, max_depth=8, min_samples_split=16;, score=0.546 total time=   0.4s\n",
      "[CV 2/3] END criterion=gini, max_depth=8, min_samples_split=16;, score=0.548 total time=   0.4s\n",
      "[CV 3/3] END criterion=gini, max_depth=8, min_samples_split=16;, score=0.543 total time=   0.5s\n",
      "[CV 1/3] END criterion=gini, max_depth=16, min_samples_split=2;, score=0.572 total time=   0.6s\n",
      "[CV 2/3] END criterion=gini, max_depth=16, min_samples_split=2;, score=0.570 total time=   0.6s\n",
      "[CV 3/3] END criterion=gini, max_depth=16, min_samples_split=2;, score=0.548 total time=   0.6s\n",
      "[CV 1/3] END criterion=gini, max_depth=16, min_samples_split=4;, score=0.571 total time=   0.6s\n",
      "[CV 2/3] END criterion=gini, max_depth=16, min_samples_split=4;, score=0.570 total time=   0.6s\n",
      "[CV 3/3] END criterion=gini, max_depth=16, min_samples_split=4;, score=0.548 total time=   0.6s\n",
      "[CV 1/3] END criterion=gini, max_depth=16, min_samples_split=8;, score=0.570 total time=   0.6s\n",
      "[CV 2/3] END criterion=gini, max_depth=16, min_samples_split=8;, score=0.569 total time=   0.6s\n",
      "[CV 3/3] END criterion=gini, max_depth=16, min_samples_split=8;, score=0.548 total time=   0.6s\n",
      "[CV 1/3] END criterion=gini, max_depth=16, min_samples_split=16;, score=0.572 total time=   0.6s\n",
      "[CV 2/3] END criterion=gini, max_depth=16, min_samples_split=16;, score=0.574 total time=   0.6s\n",
      "[CV 3/3] END criterion=gini, max_depth=16, min_samples_split=16;, score=0.549 total time=   0.6s\n",
      "[CV 1/3] END criterion=entropy, max_depth=4, min_samples_split=2;, score=0.557 total time=   0.2s\n",
      "[CV 2/3] END criterion=entropy, max_depth=4, min_samples_split=2;, score=0.369 total time=   0.2s\n",
      "[CV 3/3] END criterion=entropy, max_depth=4, min_samples_split=2;, score=0.364 total time=   0.2s\n",
      "[CV 1/3] END criterion=entropy, max_depth=4, min_samples_split=4;, score=0.557 total time=   0.2s\n",
      "[CV 2/3] END criterion=entropy, max_depth=4, min_samples_split=4;, score=0.369 total time=   0.2s\n",
      "[CV 3/3] END criterion=entropy, max_depth=4, min_samples_split=4;, score=0.364 total time=   0.2s\n",
      "[CV 1/3] END criterion=entropy, max_depth=4, min_samples_split=8;, score=0.557 total time=   0.2s\n",
      "[CV 2/3] END criterion=entropy, max_depth=4, min_samples_split=8;, score=0.369 total time=   0.2s\n",
      "[CV 3/3] END criterion=entropy, max_depth=4, min_samples_split=8;, score=0.364 total time=   0.2s\n",
      "[CV 1/3] END criterion=entropy, max_depth=4, min_samples_split=16;, score=0.557 total time=   0.2s\n",
      "[CV 2/3] END criterion=entropy, max_depth=4, min_samples_split=16;, score=0.369 total time=   0.3s\n",
      "[CV 3/3] END criterion=entropy, max_depth=4, min_samples_split=16;, score=0.364 total time=   0.2s\n",
      "[CV 1/3] END criterion=entropy, max_depth=8, min_samples_split=2;, score=0.551 total time=   0.6s\n",
      "[CV 2/3] END criterion=entropy, max_depth=8, min_samples_split=2;, score=0.561 total time=   0.5s\n",
      "[CV 3/3] END criterion=entropy, max_depth=8, min_samples_split=2;, score=0.550 total time=   0.4s\n",
      "[CV 1/3] END criterion=entropy, max_depth=8, min_samples_split=4;, score=0.551 total time=   0.4s\n",
      "[CV 2/3] END criterion=entropy, max_depth=8, min_samples_split=4;, score=0.561 total time=   0.4s\n",
      "[CV 3/3] END criterion=entropy, max_depth=8, min_samples_split=4;, score=0.550 total time=   0.4s\n",
      "[CV 1/3] END criterion=entropy, max_depth=8, min_samples_split=8;, score=0.551 total time=   0.4s\n",
      "[CV 2/3] END criterion=entropy, max_depth=8, min_samples_split=8;, score=0.561 total time=   0.4s\n",
      "[CV 3/3] END criterion=entropy, max_depth=8, min_samples_split=8;, score=0.550 total time=   0.4s\n",
      "[CV 1/3] END criterion=entropy, max_depth=8, min_samples_split=16;, score=0.551 total time=   0.4s\n",
      "[CV 2/3] END criterion=entropy, max_depth=8, min_samples_split=16;, score=0.561 total time=   0.4s\n",
      "[CV 3/3] END criterion=entropy, max_depth=8, min_samples_split=16;, score=0.550 total time=   0.5s\n",
      "[CV 1/3] END criterion=entropy, max_depth=16, min_samples_split=2;, score=0.557 total time=   0.8s\n",
      "[CV 2/3] END criterion=entropy, max_depth=16, min_samples_split=2;, score=0.554 total time=   0.8s\n",
      "[CV 3/3] END criterion=entropy, max_depth=16, min_samples_split=2;, score=0.563 total time=   0.8s\n",
      "[CV 1/3] END criterion=entropy, max_depth=16, min_samples_split=4;, score=0.558 total time=   0.8s\n",
      "[CV 2/3] END criterion=entropy, max_depth=16, min_samples_split=4;, score=0.554 total time=   0.8s\n",
      "[CV 3/3] END criterion=entropy, max_depth=16, min_samples_split=4;, score=0.563 total time=   0.8s\n",
      "[CV 1/3] END criterion=entropy, max_depth=16, min_samples_split=8;, score=0.559 total time=   0.8s\n",
      "[CV 2/3] END criterion=entropy, max_depth=16, min_samples_split=8;, score=0.554 total time=   0.8s\n",
      "[CV 3/3] END criterion=entropy, max_depth=16, min_samples_split=8;, score=0.564 total time=   0.8s\n",
      "[CV 1/3] END criterion=entropy, max_depth=16, min_samples_split=16;, score=0.559 total time=   0.8s\n",
      "[CV 2/3] END criterion=entropy, max_depth=16, min_samples_split=16;, score=0.556 total time=   0.8s\n",
      "[CV 3/3] END criterion=entropy, max_depth=16, min_samples_split=16;, score=0.564 total time=   0.8s\n",
      "Accuracy on training set:  0.8419761683689261\n",
      "confusion_matrix on training set: \n",
      " [[85018  7764]\n",
      " [12659 23799]]\n",
      "Accuracy on validation set:  0.7768183225007738\n",
      "Confusion matrix: \n",
      " [[20333  3016]\n",
      " [ 4195  4766]]\n",
      "Classification report: \n",
      "               precision    recall  f1-score   support\n",
      "\n",
      "       False       0.83      0.87      0.85     23349\n",
      "        True       0.61      0.53      0.57      8961\n",
      "\n",
      "    accuracy                           0.78     32310\n",
      "   macro avg       0.72      0.70      0.71     32310\n",
      "weighted avg       0.77      0.78      0.77     32310\n",
      "\n"
     ]
    }
   ],
   "source": [
    "# grid search\n",
    "from sklearn.model_selection import GridSearchCV\n",
    "param_grid = {'max_depth': [4, 8, 16],\n",
    "              'min_samples_split': [2,4, 8, 16],\n",
    "              'criterion': ['gini', 'entropy']\n",
    "}\n",
    "\n",
    "best_params_dt3, best_tree3, result_dt3 = grid_search_kfold_cv(model_class=DecisionTreeClassifier, param_grid=param_grid, X_train=X3_train, y_train=y_train, X_test=X3_test, y_test=y_test,  cv=3, metric='f1', eval=True)"
   ]
  },
  {
   "cell_type": "markdown",
   "metadata": {
    "collapsed": false
   },
   "source": [
    "### Random Forest"
   ]
  },
  {
   "cell_type": "code",
   "execution_count": null,
   "metadata": {
    "collapsed": false
   },
   "outputs": [
    {
     "name": "stdout",
     "output_type": "stream",
     "text": [
      "Fitting 3 folds for each of 54 candidates, totalling 162 fits\n",
      "[CV 1/3] END criterion=gini, max_depth=4, min_samples_split=2, n_estimators=20;, score=0.023 total time=   0.9s\n",
      "[CV 2/3] END criterion=gini, max_depth=4, min_samples_split=2, n_estimators=20;, score=0.020 total time=   0.9s\n",
      "[CV 3/3] END criterion=gini, max_depth=4, min_samples_split=2, n_estimators=20;, score=0.035 total time=   0.9s\n",
      "[CV 1/3] END criterion=gini, max_depth=4, min_samples_split=2, n_estimators=30;, score=0.037 total time=   1.3s\n",
      "[CV 2/3] END criterion=gini, max_depth=4, min_samples_split=2, n_estimators=30;, score=0.037 total time=   1.4s\n",
      "[CV 3/3] END criterion=gini, max_depth=4, min_samples_split=2, n_estimators=30;, score=0.040 total time=   1.3s\n",
      "[CV 1/3] END criterion=gini, max_depth=4, min_samples_split=2, n_estimators=50;, score=0.053 total time=   2.2s\n",
      "[CV 2/3] END criterion=gini, max_depth=4, min_samples_split=2, n_estimators=50;, score=0.038 total time=   2.3s\n",
      "[CV 3/3] END criterion=gini, max_depth=4, min_samples_split=2, n_estimators=50;, score=0.045 total time=   2.2s\n",
      "[CV 1/3] END criterion=gini, max_depth=4, min_samples_split=4, n_estimators=20;, score=0.023 total time=   0.9s\n",
      "[CV 2/3] END criterion=gini, max_depth=4, min_samples_split=4, n_estimators=20;, score=0.020 total time=   0.9s\n",
      "[CV 3/3] END criterion=gini, max_depth=4, min_samples_split=4, n_estimators=20;, score=0.035 total time=   1.1s\n",
      "[CV 1/3] END criterion=gini, max_depth=4, min_samples_split=4, n_estimators=30;, score=0.037 total time=   1.6s\n",
      "[CV 2/3] END criterion=gini, max_depth=4, min_samples_split=4, n_estimators=30;, score=0.037 total time=   1.5s\n",
      "[CV 3/3] END criterion=gini, max_depth=4, min_samples_split=4, n_estimators=30;, score=0.040 total time=   1.4s\n",
      "[CV 1/3] END criterion=gini, max_depth=4, min_samples_split=4, n_estimators=50;, score=0.053 total time=   2.4s\n",
      "[CV 2/3] END criterion=gini, max_depth=4, min_samples_split=4, n_estimators=50;, score=0.038 total time=   2.4s\n",
      "[CV 3/3] END criterion=gini, max_depth=4, min_samples_split=4, n_estimators=50;, score=0.045 total time=   2.7s\n",
      "[CV 1/3] END criterion=gini, max_depth=4, min_samples_split=8, n_estimators=20;, score=0.023 total time=   0.9s\n",
      "[CV 2/3] END criterion=gini, max_depth=4, min_samples_split=8, n_estimators=20;, score=0.020 total time=   1.0s\n",
      "[CV 3/3] END criterion=gini, max_depth=4, min_samples_split=8, n_estimators=20;, score=0.035 total time=   1.0s\n",
      "[CV 1/3] END criterion=gini, max_depth=4, min_samples_split=8, n_estimators=30;, score=0.037 total time=   1.4s\n",
      "[CV 2/3] END criterion=gini, max_depth=4, min_samples_split=8, n_estimators=30;, score=0.037 total time=   1.5s\n",
      "[CV 3/3] END criterion=gini, max_depth=4, min_samples_split=8, n_estimators=30;, score=0.040 total time=   1.5s\n",
      "[CV 1/3] END criterion=gini, max_depth=4, min_samples_split=8, n_estimators=50;, score=0.053 total time=   2.6s\n",
      "[CV 2/3] END criterion=gini, max_depth=4, min_samples_split=8, n_estimators=50;, score=0.038 total time=   2.6s\n",
      "[CV 3/3] END criterion=gini, max_depth=4, min_samples_split=8, n_estimators=50;, score=0.045 total time=   2.5s\n",
      "[CV 1/3] END criterion=gini, max_depth=8, min_samples_split=2, n_estimators=20;, score=0.494 total time=   1.7s\n",
      "[CV 2/3] END criterion=gini, max_depth=8, min_samples_split=2, n_estimators=20;, score=0.512 total time=   1.7s\n",
      "[CV 3/3] END criterion=gini, max_depth=8, min_samples_split=2, n_estimators=20;, score=0.425 total time=   1.7s\n",
      "[CV 1/3] END criterion=gini, max_depth=8, min_samples_split=2, n_estimators=30;, score=0.495 total time=   2.7s\n",
      "[CV 2/3] END criterion=gini, max_depth=8, min_samples_split=2, n_estimators=30;, score=0.516 total time=   2.7s\n",
      "[CV 3/3] END criterion=gini, max_depth=8, min_samples_split=2, n_estimators=30;, score=0.463 total time=   2.9s\n",
      "[CV 1/3] END criterion=gini, max_depth=8, min_samples_split=2, n_estimators=50;, score=0.495 total time=   4.4s\n",
      "[CV 2/3] END criterion=gini, max_depth=8, min_samples_split=2, n_estimators=50;, score=0.506 total time=   4.0s\n",
      "[CV 3/3] END criterion=gini, max_depth=8, min_samples_split=2, n_estimators=50;, score=0.489 total time=   4.0s\n",
      "[CV 1/3] END criterion=gini, max_depth=8, min_samples_split=4, n_estimators=20;, score=0.458 total time=   1.5s\n",
      "[CV 2/3] END criterion=gini, max_depth=8, min_samples_split=4, n_estimators=20;, score=0.478 total time=   1.6s\n",
      "[CV 3/3] END criterion=gini, max_depth=8, min_samples_split=4, n_estimators=20;, score=0.462 total time=   1.9s\n",
      "[CV 1/3] END criterion=gini, max_depth=8, min_samples_split=4, n_estimators=30;, score=0.477 total time=   2.5s\n",
      "[CV 2/3] END criterion=gini, max_depth=8, min_samples_split=4, n_estimators=30;, score=0.508 total time=   2.4s\n",
      "[CV 3/3] END criterion=gini, max_depth=8, min_samples_split=4, n_estimators=30;, score=0.491 total time=   2.7s\n",
      "[CV 1/3] END criterion=gini, max_depth=8, min_samples_split=4, n_estimators=50;, score=0.483 total time=   4.6s\n",
      "[CV 2/3] END criterion=gini, max_depth=8, min_samples_split=4, n_estimators=50;, score=0.512 total time=   4.3s\n",
      "[CV 3/3] END criterion=gini, max_depth=8, min_samples_split=4, n_estimators=50;, score=0.496 total time=   4.0s\n",
      "[CV 1/3] END criterion=gini, max_depth=8, min_samples_split=8, n_estimators=20;, score=0.457 total time=   1.6s\n",
      "[CV 2/3] END criterion=gini, max_depth=8, min_samples_split=8, n_estimators=20;, score=0.453 total time=   1.6s\n",
      "[CV 3/3] END criterion=gini, max_depth=8, min_samples_split=8, n_estimators=20;, score=0.481 total time=   1.6s\n",
      "[CV 1/3] END criterion=gini, max_depth=8, min_samples_split=8, n_estimators=30;, score=0.475 total time=   2.4s\n",
      "[CV 2/3] END criterion=gini, max_depth=8, min_samples_split=8, n_estimators=30;, score=0.472 total time=   2.4s\n",
      "[CV 3/3] END criterion=gini, max_depth=8, min_samples_split=8, n_estimators=30;, score=0.508 total time=   2.4s\n",
      "[CV 1/3] END criterion=gini, max_depth=8, min_samples_split=8, n_estimators=50;, score=0.490 total time=   4.0s\n",
      "[CV 2/3] END criterion=gini, max_depth=8, min_samples_split=8, n_estimators=50;, score=0.489 total time=   4.0s\n",
      "[CV 3/3] END criterion=gini, max_depth=8, min_samples_split=8, n_estimators=50;, score=0.511 total time=   3.9s\n",
      "[CV 1/3] END criterion=gini, max_depth=16, min_samples_split=2, n_estimators=20;, score=0.570 total time=   2.6s\n",
      "[CV 2/3] END criterion=gini, max_depth=16, min_samples_split=2, n_estimators=20;, score=0.580 total time=   2.7s\n",
      "[CV 3/3] END criterion=gini, max_depth=16, min_samples_split=2, n_estimators=20;, score=0.572 total time=   2.8s\n",
      "[CV 1/3] END criterion=gini, max_depth=16, min_samples_split=2, n_estimators=30;, score=0.575 total time=   4.2s\n",
      "[CV 2/3] END criterion=gini, max_depth=16, min_samples_split=2, n_estimators=30;, score=0.581 total time=   4.7s\n",
      "[CV 3/3] END criterion=gini, max_depth=16, min_samples_split=2, n_estimators=30;, score=0.575 total time=   3.9s\n",
      "[CV 1/3] END criterion=gini, max_depth=16, min_samples_split=2, n_estimators=50;, score=0.579 total time=   6.3s\n",
      "[CV 2/3] END criterion=gini, max_depth=16, min_samples_split=2, n_estimators=50;, score=0.586 total time=   6.8s\n",
      "[CV 3/3] END criterion=gini, max_depth=16, min_samples_split=2, n_estimators=50;, score=0.577 total time=   6.7s\n",
      "[CV 1/3] END criterion=gini, max_depth=16, min_samples_split=4, n_estimators=20;, score=0.573 total time=   2.5s\n",
      "[CV 2/3] END criterion=gini, max_depth=16, min_samples_split=4, n_estimators=20;, score=0.580 total time=   2.5s\n",
      "[CV 3/3] END criterion=gini, max_depth=16, min_samples_split=4, n_estimators=20;, score=0.574 total time=   2.5s\n",
      "[CV 1/3] END criterion=gini, max_depth=16, min_samples_split=4, n_estimators=30;, score=0.577 total time=   3.7s\n",
      "[CV 2/3] END criterion=gini, max_depth=16, min_samples_split=4, n_estimators=30;, score=0.582 total time=   3.7s\n",
      "[CV 3/3] END criterion=gini, max_depth=16, min_samples_split=4, n_estimators=30;, score=0.575 total time=   3.7s\n",
      "[CV 1/3] END criterion=gini, max_depth=16, min_samples_split=4, n_estimators=50;, score=0.580 total time=   6.2s\n",
      "[CV 2/3] END criterion=gini, max_depth=16, min_samples_split=4, n_estimators=50;, score=0.585 total time=   6.4s\n",
      "[CV 3/3] END criterion=gini, max_depth=16, min_samples_split=4, n_estimators=50;, score=0.576 total time=   6.8s\n",
      "[CV 1/3] END criterion=gini, max_depth=16, min_samples_split=8, n_estimators=20;, score=0.574 total time=   2.5s\n",
      "[CV 2/3] END criterion=gini, max_depth=16, min_samples_split=8, n_estimators=20;, score=0.578 total time=   2.5s\n",
      "[CV 3/3] END criterion=gini, max_depth=16, min_samples_split=8, n_estimators=20;, score=0.572 total time=   2.5s\n",
      "[CV 1/3] END criterion=gini, max_depth=16, min_samples_split=8, n_estimators=30;, score=0.579 total time=   3.8s\n",
      "[CV 2/3] END criterion=gini, max_depth=16, min_samples_split=8, n_estimators=30;, score=0.578 total time=   3.7s\n",
      "[CV 3/3] END criterion=gini, max_depth=16, min_samples_split=8, n_estimators=30;, score=0.576 total time=   3.7s\n",
      "[CV 1/3] END criterion=gini, max_depth=16, min_samples_split=8, n_estimators=50;, score=0.578 total time=   6.2s\n",
      "[CV 2/3] END criterion=gini, max_depth=16, min_samples_split=8, n_estimators=50;, score=0.583 total time=   6.3s\n",
      "[CV 3/3] END criterion=gini, max_depth=16, min_samples_split=8, n_estimators=50;, score=0.576 total time=   6.3s\n",
      "[CV 1/3] END criterion=entropy, max_depth=4, min_samples_split=2, n_estimators=20;, score=0.012 total time=   1.0s\n",
      "[CV 2/3] END criterion=entropy, max_depth=4, min_samples_split=2, n_estimators=20;, score=0.020 total time=   1.0s\n",
      "[CV 3/3] END criterion=entropy, max_depth=4, min_samples_split=2, n_estimators=20;, score=0.026 total time=   1.0s\n",
      "[CV 1/3] END criterion=entropy, max_depth=4, min_samples_split=2, n_estimators=30;, score=0.024 total time=   1.5s\n",
      "[CV 2/3] END criterion=entropy, max_depth=4, min_samples_split=2, n_estimators=30;, score=0.024 total time=   1.5s\n",
      "[CV 3/3] END criterion=entropy, max_depth=4, min_samples_split=2, n_estimators=30;, score=0.027 total time=   1.5s\n",
      "[CV 1/3] END criterion=entropy, max_depth=4, min_samples_split=2, n_estimators=50;, score=0.031 total time=   2.5s\n",
      "[CV 2/3] END criterion=entropy, max_depth=4, min_samples_split=2, n_estimators=50;, score=0.029 total time=   2.6s\n",
      "[CV 3/3] END criterion=entropy, max_depth=4, min_samples_split=2, n_estimators=50;, score=0.035 total time=   2.5s\n",
      "[CV 1/3] END criterion=entropy, max_depth=4, min_samples_split=4, n_estimators=20;, score=0.012 total time=   1.0s\n",
      "[CV 2/3] END criterion=entropy, max_depth=4, min_samples_split=4, n_estimators=20;, score=0.020 total time=   1.0s\n",
      "[CV 3/3] END criterion=entropy, max_depth=4, min_samples_split=4, n_estimators=20;, score=0.026 total time=   1.0s\n",
      "[CV 1/3] END criterion=entropy, max_depth=4, min_samples_split=4, n_estimators=30;, score=0.024 total time=   1.5s\n",
      "[CV 2/3] END criterion=entropy, max_depth=4, min_samples_split=4, n_estimators=30;, score=0.024 total time=   1.6s\n",
      "[CV 3/3] END criterion=entropy, max_depth=4, min_samples_split=4, n_estimators=30;, score=0.027 total time=   1.6s\n",
      "[CV 1/3] END criterion=entropy, max_depth=4, min_samples_split=4, n_estimators=50;, score=0.031 total time=   2.5s\n",
      "[CV 2/3] END criterion=entropy, max_depth=4, min_samples_split=4, n_estimators=50;, score=0.029 total time=   2.5s\n",
      "[CV 3/3] END criterion=entropy, max_depth=4, min_samples_split=4, n_estimators=50;, score=0.035 total time=   2.5s\n",
      "[CV 1/3] END criterion=entropy, max_depth=4, min_samples_split=8, n_estimators=20;, score=0.012 total time=   1.0s\n",
      "[CV 2/3] END criterion=entropy, max_depth=4, min_samples_split=8, n_estimators=20;, score=0.020 total time=   1.0s\n",
      "[CV 3/3] END criterion=entropy, max_depth=4, min_samples_split=8, n_estimators=20;, score=0.026 total time=   1.0s\n",
      "[CV 1/3] END criterion=entropy, max_depth=4, min_samples_split=8, n_estimators=30;, score=0.024 total time=   1.5s\n",
      "[CV 2/3] END criterion=entropy, max_depth=4, min_samples_split=8, n_estimators=30;, score=0.024 total time=   1.5s\n",
      "[CV 3/3] END criterion=entropy, max_depth=4, min_samples_split=8, n_estimators=30;, score=0.027 total time=   1.5s\n",
      "[CV 1/3] END criterion=entropy, max_depth=4, min_samples_split=8, n_estimators=50;, score=0.031 total time=   2.6s\n",
      "[CV 2/3] END criterion=entropy, max_depth=4, min_samples_split=8, n_estimators=50;, score=0.029 total time=   2.6s\n",
      "[CV 3/3] END criterion=entropy, max_depth=4, min_samples_split=8, n_estimators=50;, score=0.035 total time=   2.5s\n",
      "[CV 1/3] END criterion=entropy, max_depth=8, min_samples_split=2, n_estimators=20;, score=0.457 total time=   1.8s\n",
      "[CV 2/3] END criterion=entropy, max_depth=8, min_samples_split=2, n_estimators=20;, score=0.468 total time=   1.9s\n",
      "[CV 3/3] END criterion=entropy, max_depth=8, min_samples_split=2, n_estimators=20;, score=0.483 total time=   1.8s\n",
      "[CV 1/3] END criterion=entropy, max_depth=8, min_samples_split=2, n_estimators=30;, score=0.478 total time=   2.9s\n",
      "[CV 2/3] END criterion=entropy, max_depth=8, min_samples_split=2, n_estimators=30;, score=0.480 total time=   2.7s\n",
      "[CV 3/3] END criterion=entropy, max_depth=8, min_samples_split=2, n_estimators=30;, score=0.480 total time=   2.7s\n",
      "[CV 1/3] END criterion=entropy, max_depth=8, min_samples_split=2, n_estimators=50;, score=0.472 total time=   4.5s\n",
      "[CV 2/3] END criterion=entropy, max_depth=8, min_samples_split=2, n_estimators=50;, score=0.493 total time=   4.5s\n",
      "[CV 3/3] END criterion=entropy, max_depth=8, min_samples_split=2, n_estimators=50;, score=0.484 total time=   4.6s\n",
      "[CV 1/3] END criterion=entropy, max_depth=8, min_samples_split=4, n_estimators=20;, score=0.484 total time=   1.8s\n",
      "[CV 2/3] END criterion=entropy, max_depth=8, min_samples_split=4, n_estimators=20;, score=0.439 total time=   1.8s\n",
      "[CV 3/3] END criterion=entropy, max_depth=8, min_samples_split=4, n_estimators=20;, score=0.467 total time=   1.8s\n",
      "[CV 1/3] END criterion=entropy, max_depth=8, min_samples_split=4, n_estimators=30;, score=0.491 total time=   2.6s\n",
      "[CV 2/3] END criterion=entropy, max_depth=8, min_samples_split=4, n_estimators=30;, score=0.469 total time=   2.8s\n",
      "[CV 3/3] END criterion=entropy, max_depth=8, min_samples_split=4, n_estimators=30;, score=0.484 total time=   2.8s\n",
      "[CV 1/3] END criterion=entropy, max_depth=8, min_samples_split=4, n_estimators=50;, score=0.499 total time=   4.5s\n",
      "[CV 2/3] END criterion=entropy, max_depth=8, min_samples_split=4, n_estimators=50;, score=0.481 total time=   4.5s\n",
      "[CV 3/3] END criterion=entropy, max_depth=8, min_samples_split=4, n_estimators=50;, score=0.484 total time=   4.5s\n",
      "[CV 1/3] END criterion=entropy, max_depth=8, min_samples_split=8, n_estimators=20;, score=0.444 total time=   1.8s\n",
      "[CV 2/3] END criterion=entropy, max_depth=8, min_samples_split=8, n_estimators=20;, score=0.473 total time=   2.1s\n",
      "[CV 3/3] END criterion=entropy, max_depth=8, min_samples_split=8, n_estimators=20;, score=0.470 total time=   2.2s\n",
      "[CV 1/3] END criterion=entropy, max_depth=8, min_samples_split=8, n_estimators=30;, score=0.466 total time=   2.8s\n",
      "[CV 2/3] END criterion=entropy, max_depth=8, min_samples_split=8, n_estimators=30;, score=0.478 total time=   2.9s\n",
      "[CV 3/3] END criterion=entropy, max_depth=8, min_samples_split=8, n_estimators=30;, score=0.478 total time=   3.3s\n",
      "[CV 1/3] END criterion=entropy, max_depth=8, min_samples_split=8, n_estimators=50;, score=0.466 total time=   4.5s\n",
      "[CV 2/3] END criterion=entropy, max_depth=8, min_samples_split=8, n_estimators=50;, score=0.486 total time=   4.6s\n",
      "[CV 3/3] END criterion=entropy, max_depth=8, min_samples_split=8, n_estimators=50;, score=0.486 total time=   4.4s\n",
      "[CV 1/3] END criterion=entropy, max_depth=16, min_samples_split=2, n_estimators=20;, score=0.572 total time=   3.0s\n",
      "[CV 2/3] END criterion=entropy, max_depth=16, min_samples_split=2, n_estimators=20;, score=0.587 total time=   3.2s\n",
      "[CV 3/3] END criterion=entropy, max_depth=16, min_samples_split=2, n_estimators=20;, score=0.571 total time=   3.0s\n",
      "[CV 1/3] END criterion=entropy, max_depth=16, min_samples_split=2, n_estimators=30;, score=0.573 total time=   4.4s\n",
      "[CV 2/3] END criterion=entropy, max_depth=16, min_samples_split=2, n_estimators=30;, score=0.588 total time=   4.5s\n",
      "[CV 3/3] END criterion=entropy, max_depth=16, min_samples_split=2, n_estimators=30;, score=0.575 total time=   4.4s\n",
      "[CV 1/3] END criterion=entropy, max_depth=16, min_samples_split=2, n_estimators=50;, score=0.578 total time=   7.8s\n",
      "[CV 2/3] END criterion=entropy, max_depth=16, min_samples_split=2, n_estimators=50;, score=0.589 total time=   8.8s\n",
      "[CV 3/3] END criterion=entropy, max_depth=16, min_samples_split=2, n_estimators=50;, score=0.577 total time=   7.6s\n",
      "[CV 1/3] END criterion=entropy, max_depth=16, min_samples_split=4, n_estimators=20;, score=0.572 total time=   2.9s\n",
      "[CV 2/3] END criterion=entropy, max_depth=16, min_samples_split=4, n_estimators=20;, score=0.582 total time=   3.2s\n",
      "[CV 3/3] END criterion=entropy, max_depth=16, min_samples_split=4, n_estimators=20;, score=0.568 total time=   2.9s\n",
      "[CV 1/3] END criterion=entropy, max_depth=16, min_samples_split=4, n_estimators=30;, score=0.576 total time=   4.4s\n",
      "[CV 2/3] END criterion=entropy, max_depth=16, min_samples_split=4, n_estimators=30;, score=0.582 total time=   4.4s\n",
      "[CV 3/3] END criterion=entropy, max_depth=16, min_samples_split=4, n_estimators=30;, score=0.573 total time=   4.3s\n",
      "[CV 1/3] END criterion=entropy, max_depth=16, min_samples_split=4, n_estimators=50;, score=0.577 total time=   7.9s\n",
      "[CV 2/3] END criterion=entropy, max_depth=16, min_samples_split=4, n_estimators=50;, score=0.587 total time=   7.9s\n",
      "[CV 3/3] END criterion=entropy, max_depth=16, min_samples_split=4, n_estimators=50;, score=0.576 total time=   7.2s\n",
      "[CV 1/3] END criterion=entropy, max_depth=16, min_samples_split=8, n_estimators=20;, score=0.575 total time=   2.8s\n",
      "[CV 2/3] END criterion=entropy, max_depth=16, min_samples_split=8, n_estimators=20;, score=0.586 total time=   2.8s\n",
      "[CV 3/3] END criterion=entropy, max_depth=16, min_samples_split=8, n_estimators=20;, score=0.571 total time=   2.9s\n",
      "[CV 1/3] END criterion=entropy, max_depth=16, min_samples_split=8, n_estimators=30;, score=0.578 total time=   4.3s\n",
      "[CV 2/3] END criterion=entropy, max_depth=16, min_samples_split=8, n_estimators=30;, score=0.588 total time=   4.3s\n",
      "[CV 3/3] END criterion=entropy, max_depth=16, min_samples_split=8, n_estimators=30;, score=0.573 total time=   4.3s\n",
      "[CV 1/3] END criterion=entropy, max_depth=16, min_samples_split=8, n_estimators=50;, score=0.578 total time=   7.1s\n",
      "[CV 2/3] END criterion=entropy, max_depth=16, min_samples_split=8, n_estimators=50;, score=0.587 total time=   7.2s\n",
      "[CV 3/3] END criterion=entropy, max_depth=16, min_samples_split=8, n_estimators=50;, score=0.575 total time=   7.2s\n",
      "Accuracy on training set:  0.8576679046734758\n",
      "confusion_matrix on training set: \n",
      " [[87332  5450]\n",
      " [12945 23513]]\n",
      "Accuracy on validation set:  0.7973382853605695\n",
      "Confusion matrix: \n",
      " [[21180  2169]\n",
      " [ 4379  4582]]\n",
      "Classification report: \n",
      "               precision    recall  f1-score   support\n",
      "\n",
      "       False       0.83      0.91      0.87     23349\n",
      "        True       0.68      0.51      0.58      8961\n",
      "\n",
      "    accuracy                           0.80     32310\n",
      "   macro avg       0.75      0.71      0.72     32310\n",
      "weighted avg       0.79      0.80      0.79     32310\n",
      "\n"
     ]
    }
   ],
   "source": [
    "# grid search\n",
    "\n",
    "param_grid_rf = {'max_depth': [4, 8, 16],\n",
    "              'min_samples_split': [ 2, 4, 8],\n",
    "              'criterion': ['gini', 'entropy'],\n",
    "              'n_estimators': [ 20, 30, 50]\n",
    "}\n",
    "\n",
    "best_params_rf3, best_rf3, result_rf3 = grid_search_kfold_cv(model_class=RandomForestClassifier,\n",
    "                                                            param_grid=param_grid_rf, X_train=X3_train, y_train=y_train, X_test=X3_test, y_test=y_test,  cv=3,\n",
    "                                                            metric='f1', eval=True)"
   ]
  },
  {
   "cell_type": "code",
   "execution_count": null,
   "metadata": {
    "collapsed": false
   },
   "outputs": [
    {
     "data": {
      "text/plain": [
       "<Axes: >"
      ]
     },
     "execution_count": 102,
     "metadata": {},
     "output_type": "execute_result"
    },
    {
     "data": {
      "image/png": "[encoded data removed]",
      "text/plain": [
       "<Figure size 640x480 with 2 Axes>"
      ]
     },
     "metadata": {},
     "output_type": "display_data"
    }
   ],
   "source": [
    "# plot confusion matrix\n",
    "y_pred = best_rf3.predict(X3_test)\n",
    "sns.heatmap(confusion_matrix(y_test, y_pred), annot=True, fmt='d', cmap='Blues')\n"
   ]
  },
  {
   "cell_type": "code",
   "execution_count": null,
   "metadata": {
    "collapsed": false
   },
   "outputs": [
    {
     "data": {
      "image/png": "[encoded data removed]",
      "text/plain": [
       "<Figure size 640x480 with 1 Axes>"
      ]
     },
     "metadata": {},
     "output_type": "display_data"
    }
   ],
   "source": [
    "# roc curve\n",
    "from sklearn.metrics import roc_curve, roc_auc_score\n",
    "y_pred_proba = best_rf3.predict_proba(X3_test)[:,1]\n",
    "fpr, tpr, thresholds = roc_curve(y_test, y_pred_proba)\n",
    "plt.plot([0,1], [0,1], 'k--')\n",
    "plt.plot(fpr, tpr)\n",
    "plt.title(f'Random Forest ROC Curve, AUC={ roc_auc_score(y_test, y_pred_proba):.3f}')\n",
    "plt.show()"
   ]
  },
  {
   "cell_type": "markdown",
   "metadata": {
    "collapsed": false
   },
   "source": [
    "### ADABoost"
   ]
  },
  {
   "cell_type": "code",
   "execution_count": null,
   "metadata": {
    "collapsed": false
   },
   "outputs": [],
   "source": [
    "from sklearn.ensemble import AdaBoostClassifier"
   ]
  },
  {
   "cell_type": "code",
   "execution_count": null,
   "metadata": {
    "collapsed": false
   },
   "outputs": [],
   "source": [
    "sampler=RandomUnderSampler()\n",
    "X3_tr_us, y3_train_us= sampler.fit_resample(X3_train, y_train)"
   ]
  },
  {
   "cell_type": "code",
   "execution_count": null,
   "metadata": {
    "collapsed": false
   },
   "outputs": [],
   "source": [
    "ada_boost = AdaBoostClassifier(n_estimators=100, learning_rate=1, base_estimator=LogisticRegression())"
   ]
  },
  {
   "cell_type": "code",
   "execution_count": null,
   "metadata": {
    "collapsed": false
   },
   "outputs": [
    {
     "data": {
      "text/html": [
       "<style>#sk-container-id-13 {color: black;background-color: white;}#sk-container-id-13 pre{padding: 0;}#sk-container-id-13 div.sk-toggleable {background-color: white;}#sk-container-id-13 label.sk-toggleable__label {cursor: pointer;display: block;width: 100%;margin-bottom: 0;padding: 0.3em;box-sizing: border-box;text-align: center;}#sk-container-id-13 label.sk-toggleable__label-arrow:before {content: \"▸\";float: left;margin-right: 0.25em;color: #696969;}#sk-container-id-13 label.sk-toggleable__label-arrow:hover:before {color: black;}#sk-container-id-13 div.sk-estimator:hover label.sk-toggleable__label-arrow:before {color: black;}#sk-container-id-13 div.sk-toggleable__content {max-height: 0;max-width: 0;overflow: hidden;text-align: left;background-color: #f0f8ff;}#sk-container-id-13 div.sk-toggleable__content pre {margin: 0.2em;color: black;border-radius: 0.25em;background-color: #f0f8ff;}#sk-container-id-13 input.sk-toggleable__control:checked~div.sk-toggleable__content {max-height: 200px;max-width: 100%;overflow: auto;}#sk-container-id-13 input.sk-toggleable__control:checked~label.sk-toggleable__label-arrow:before {content: \"▾\";}#sk-container-id-13 div.sk-estimator input.sk-toggleable__control:checked~label.sk-toggleable__label {background-color: #d4ebff;}#sk-container-id-13 div.sk-label input.sk-toggleable__control:checked~label.sk-toggleable__label {background-color: #d4ebff;}#sk-container-id-13 input.sk-hidden--visually {border: 0;clip: rect(1px 1px 1px 1px);clip: rect(1px, 1px, 1px, 1px);height: 1px;margin: -1px;overflow: hidden;padding: 0;position: absolute;width: 1px;}#sk-container-id-13 div.sk-estimator {font-family: monospace;background-color: #f0f8ff;border: 1px dotted black;border-radius: 0.25em;box-sizing: border-box;margin-bottom: 0.5em;}#sk-container-id-13 div.sk-estimator:hover {background-color: #d4ebff;}#sk-container-id-13 div.sk-parallel-item::after {content: \"\";width: 100%;border-bottom: 1px solid gray;flex-grow: 1;}#sk-container-id-13 div.sk-label:hover label.sk-toggleable__label {background-color: #d4ebff;}#sk-container-id-13 div.sk-serial::before {content: \"\";position: absolute;border-left: 1px solid gray;box-sizing: border-box;top: 0;bottom: 0;left: 50%;z-index: 0;}#sk-container-id-13 div.sk-serial {display: flex;flex-direction: column;align-items: center;background-color: white;padding-right: 0.2em;padding-left: 0.2em;position: relative;}#sk-container-id-13 div.sk-item {position: relative;z-index: 1;}#sk-container-id-13 div.sk-parallel {display: flex;align-items: stretch;justify-content: center;background-color: white;position: relative;}#sk-container-id-13 div.sk-item::before, #sk-container-id-13 div.sk-parallel-item::before {content: \"\";position: absolute;border-left: 1px solid gray;box-sizing: border-box;top: 0;bottom: 0;left: 50%;z-index: -1;}#sk-container-id-13 div.sk-parallel-item {display: flex;flex-direction: column;z-index: 1;position: relative;background-color: white;}#sk-container-id-13 div.sk-parallel-item:first-child::after {align-self: flex-end;width: 50%;}#sk-container-id-13 div.sk-parallel-item:last-child::after {align-self: flex-start;width: 50%;}#sk-container-id-13 div.sk-parallel-item:only-child::after {width: 0;}#sk-container-id-13 div.sk-dashed-wrapped {border: 1px dashed gray;margin: 0 0.4em 0.5em 0.4em;box-sizing: border-box;padding-bottom: 0.4em;background-color: white;}#sk-container-id-13 div.sk-label label {font-family: monospace;font-weight: bold;display: inline-block;line-height: 1.2em;}#sk-container-id-13 div.sk-label-container {text-align: center;}#sk-container-id-13 div.sk-container {/* jupyter's `normalize.less` sets `[hidden] { display: none; }` but bootstrap.min.css set `[hidden] { display: none !important; }` so we also need the `!important` here to be able to override the default hidden behavior on the sphinx rendered scikit-learn.org. See: https://github.com/scikit-learn/scikit-learn/issues/21755 */display: inline-block !important;position: relative;}#sk-container-id-13 div.sk-text-repr-fallback {display: none;}</style><div id=\"sk-container-id-13\" class=\"sk-top-container\"><div class=\"sk-text-repr-fallback\"><pre>AdaBoostClassifier(base_estimator=LogisticRegression(), learning_rate=1,\n",
       "                   n_estimators=100)</pre><b>In a Jupyter environment, please rerun this cell to show the HTML representation or trust the notebook. <br />On GitHub, the HTML representation is unable to render, please try loading this page with nbviewer.org.</b></div><div class=\"sk-container\" hidden><div class=\"sk-item sk-dashed-wrapped\"><div class=\"sk-label-container\"><div class=\"sk-label sk-toggleable\"><input class=\"sk-toggleable__control sk-hidden--visually\" id=\"sk-estimator-id-17\" type=\"checkbox\" ><label for=\"sk-estimator-id-17\" class=\"sk-toggleable__label sk-toggleable__label-arrow\">AdaBoostClassifier</label><div class=\"sk-toggleable__content\"><pre>AdaBoostClassifier(base_estimator=LogisticRegression(), learning_rate=1,\n",
       "                   n_estimators=100)</pre></div></div></div><div class=\"sk-parallel\"><div class=\"sk-parallel-item\"><div class=\"sk-item\"><div class=\"sk-label-container\"><div class=\"sk-label sk-toggleable\"><input class=\"sk-toggleable__control sk-hidden--visually\" id=\"sk-estimator-id-18\" type=\"checkbox\" ><label for=\"sk-estimator-id-18\" class=\"sk-toggleable__label sk-toggleable__label-arrow\">base_estimator: LogisticRegression</label><div class=\"sk-toggleable__content\"><pre>LogisticRegression()</pre></div></div></div><div class=\"sk-serial\"><div class=\"sk-item\"><div class=\"sk-estimator sk-toggleable\"><input class=\"sk-toggleable__control sk-hidden--visually\" id=\"sk-estimator-id-19\" type=\"checkbox\" ><label for=\"sk-estimator-id-19\" class=\"sk-toggleable__label sk-toggleable__label-arrow\">LogisticRegression</label><div class=\"sk-toggleable__content\"><pre>LogisticRegression()</pre></div></div></div></div></div></div></div></div></div></div>"
      ],
      "text/plain": [
       "AdaBoostClassifier(base_estimator=LogisticRegression(), learning_rate=1,\n",
       "                   n_estimators=100)"
      ]
     },
     "execution_count": 166,
     "metadata": {},
     "output_type": "execute_result"
    }
   ],
   "source": [
    "ada_boost.fit(X3_tr_us, y3_train_us)"
   ]
  },
  {
   "cell_type": "code",
   "execution_count": null,
   "metadata": {
    "collapsed": false
   },
   "outputs": [
    {
     "name": "stdout",
     "output_type": "stream",
     "text": [
      "Accuracy on training set:  0.3465103683070257\n",
      "confusion_matrix on training set: \n",
      " [[13834 79071]\n",
      " [ 5386 30949]]\n",
      "Accuracy on validation set:  0.34589910244506344\n",
      "Confusion matrix: \n",
      " [[ 3508 19718]\n",
      " [ 1416  7668]]\n",
      "Classification report: \n",
      "               precision    recall  f1-score   support\n",
      "\n",
      "       False       0.71      0.15      0.25     23226\n",
      "        True       0.28      0.84      0.42      9084\n",
      "\n",
      "    accuracy                           0.35     32310\n",
      "   macro avg       0.50      0.50      0.33     32310\n",
      "weighted avg       0.59      0.35      0.30     32310\n",
      "\n"
     ]
    }
   ],
   "source": [
    "result_ab3=evaluate_model(model=ada_boost, X_train=X3_train, y_train=y_train, X_test=X3_test, y_test=y_test)"
   ]
  },
  {
   "cell_type": "markdown",
   "metadata": {
    "collapsed": false
   },
   "source": [
    "### Neural Networks"
   ]
  },
  {
   "cell_type": "code",
   "execution_count": null,
   "metadata": {
    "collapsed": false
   },
   "outputs": [
    {
     "data": {
      "text/plain": [
       "(161550, 25)"
      ]
     },
     "execution_count": 236,
     "metadata": {},
     "output_type": "execute_result"
    }
   ],
   "source": [
    "from keras.models import Sequential\n",
    "from keras.layers import Dense\n",
    "from keras import regularizers\n",
    "\n",
    "scaler = StandardScaler()\n",
    "X=df_incidents_prepared.drop('isKilled', axis=1)\n",
    "X.drop(['n_unharmed', 'n_arrested'], axis=1, inplace=True)\n",
    "X=pd.get_dummies(X)\n",
    "X.shape"
   ]
  },
  {
   "cell_type": "code",
   "execution_count": null,
   "metadata": {
    "collapsed": false
   },
   "outputs": [],
   "source": [
    "\n",
    "X_dev, X_test, y_dev, y_test = train_test_split(X, y, test_size=0.2, random_state=42)\n",
    "X_train, X_val, y_train, y_val = train_test_split(X_dev, y_dev, test_size=0.2, random_state=42, stratify=y_train)\n",
    "\n",
    "X_train_scaled=scaler.fit_transform(X_train)\n",
    "X_test_scaled=scaler.transform(X_test)\n",
    "X_val_scaled=scaler.transform(X_val)"
   ]
  },
  {
   "cell_type": "code",
   "execution_count": null,
   "metadata": {
    "collapsed": false
   },
   "outputs": [
    {
     "name": "stdout",
     "output_type": "stream",
     "text": [
      "<class 'pandas.core.frame.DataFrame'>\n",
      "Int64Index: 161550 entries, 0 to 164506\n",
      "Data columns (total 25 columns):\n",
      " #   Column                  Non-Null Count   Dtype  \n",
      "---  ------                  --------------   -----  \n",
      " 0   latitude                161550 non-null  float64\n",
      " 1   longitude               161550 non-null  float64\n",
      " 2   year                    161550 non-null  float64\n",
      " 3   povertyPercentage       161550 non-null  float64\n",
      " 4   population              161550 non-null  int64  \n",
      " 5   candidatevotes          161550 non-null  float64\n",
      " 6   right_or_left           161550 non-null  float64\n",
      " 7   voters_over_population  161550 non-null  float64\n",
      " 8   n_participants          161550 non-null  float64\n",
      " 9   n_participants_teen     161550 non-null  float64\n",
      " 10  n_participants_child    161550 non-null  float64\n",
      " 11  n_females               161550 non-null  float64\n",
      " 12  n_males                 161550 non-null  float64\n",
      " 13  n_injured               161550 non-null  int64  \n",
      " 14  age_group_[0-11]        161550 non-null  uint8  \n",
      " 15  age_group_[12-17]       161550 non-null  uint8  \n",
      " 16  age_group_[18-24]       161550 non-null  uint8  \n",
      " 17  age_group_[25-34]       161550 non-null  uint8  \n",
      " 18  age_group_[35-44]       161550 non-null  uint8  \n",
      " 19  age_group_[45-54]       161550 non-null  uint8  \n",
      " 20  age_group_[55-64]       161550 non-null  uint8  \n",
      " 21  age_group_[65-74]       161550 non-null  uint8  \n",
      " 22  age_group_[75-100]      161550 non-null  uint8  \n",
      " 23  party_DEMOCRAT          161550 non-null  uint8  \n",
      " 24  party_REPUBLICAN        161550 non-null  uint8  \n",
      "dtypes: float64(12), int64(2), uint8(11)\n",
      "memory usage: 24.2 MB\n"
     ]
    }
   ],
   "source": [
    "X.info()"
   ]
  },
  {
   "cell_type": "code",
   "execution_count": null,
   "metadata": {
    "collapsed": false
   },
   "outputs": [],
   "source": [
    "input_size = X_train.shape[1]"
   ]
  },
  {
   "cell_type": "code",
   "execution_count": null,
   "metadata": {
    "collapsed": false
   },
   "outputs": [],
   "source": [
    "model = Sequential([Dense(32, activation='relu', input_shape=(input_size, ) ),\n",
    "                    Dense(16, activation='relu'),\n",
    "                    Dense(1, activation='sigmoid')])"
   ]
  },
  {
   "cell_type": "code",
   "execution_count": null,
   "metadata": {
    "collapsed": false
   },
   "outputs": [],
   "source": [
    "from keras.callbacks import EarlyStopping\n",
    "from keras.optimizers import Adam\n",
    "\n",
    "sampler = RandomUnderSampler(random_state=42)\n",
    "X_train_scaled, y_train = sampler.fit_resample(X_train_scaled, y_train)"
   ]
  },
  {
   "cell_type": "code",
   "execution_count": null,
   "metadata": {
    "collapsed": false
   },
   "outputs": [],
   "source": [
    "early_stopping= EarlyStopping(patience=5, restore_best_weights=True, monitor='val_loss')\n",
    "optimizer = Adam(learning_rate=0.001)\n",
    "model.compile(optimizer=optimizer, loss='binary_crossentropy', metrics=['accuracy'])"
   ]
  },
  {
   "cell_type": "code",
   "execution_count": null,
   "metadata": {
    "collapsed": false
   },
   "outputs": [
    {
     "name": "stdout",
     "output_type": "stream",
     "text": [
      "Epoch 1/10\n",
      "1823/1823 [==============================] - 6s 3ms/step - loss: 0.5483 - accuracy: 0.7102 - val_loss: 0.5305 - val_accuracy: 0.6996\n",
      "Epoch 2/10\n",
      "1823/1823 [==============================] - 5s 3ms/step - loss: 0.5050 - accuracy: 0.7370 - val_loss: 0.5006 - val_accuracy: 0.7191\n",
      "Epoch 3/10\n",
      "1823/1823 [==============================] - 5s 3ms/step - loss: 0.4977 - accuracy: 0.7416 - val_loss: 0.4843 - val_accuracy: 0.7298\n",
      "Epoch 4/10\n",
      "1823/1823 [==============================] - 5s 3ms/step - loss: 0.4934 - accuracy: 0.7435 - val_loss: 0.4986 - val_accuracy: 0.7163\n",
      "Epoch 5/10\n",
      "1823/1823 [==============================] - 5s 3ms/step - loss: 0.4901 - accuracy: 0.7456 - val_loss: 0.4936 - val_accuracy: 0.7242\n",
      "Epoch 6/10\n",
      "1823/1823 [==============================] - 5s 3ms/step - loss: 0.4879 - accuracy: 0.7484 - val_loss: 0.4961 - val_accuracy: 0.7206\n",
      "Epoch 7/10\n",
      "1823/1823 [==============================] - 5s 3ms/step - loss: 0.4865 - accuracy: 0.7488 - val_loss: 0.5096 - val_accuracy: 0.7113\n",
      "Epoch 8/10\n",
      "1823/1823 [==============================] - 5s 3ms/step - loss: 0.4847 - accuracy: 0.7501 - val_loss: 0.5117 - val_accuracy: 0.7117\n"
     ]
    },
    {
     "data": {
      "text/plain": [
       "<keras.callbacks.History at 0x1b889b7dae0>"
      ]
     },
     "execution_count": 111,
     "metadata": {},
     "output_type": "execute_result"
    }
   ],
   "source": [
    "model.fit(X_train_scaled, y_train, validation_data=(X_val_scaled, y_val), epochs=10, callbacks=[early_stopping])"
   ]
  },
  {
   "cell_type": "code",
   "execution_count": null,
   "metadata": {
    "collapsed": false
   },
   "outputs": [
    {
     "name": "stdout",
     "output_type": "stream",
     "text": [
      "1010/1010 [==============================] - 1s 1ms/step\n",
      "1823/1823 [==============================] - 3s 2ms/step\n",
      "Accuracy on training set:  0.7438455736131112\n",
      "confusion_matrix on training set: \n",
      " [[21248  7918]\n",
      " [ 7024 22142]]\n",
      "Accuracy on test set:  0.7337975858867224\n",
      "Confusion matrix: \n",
      " [[16913  6436]\n",
      " [ 2165  6796]]\n",
      "Classification report: \n",
      "               precision    recall  f1-score   support\n",
      "\n",
      "       False       0.89      0.72      0.80     23349\n",
      "        True       0.51      0.76      0.61      8961\n",
      "\n",
      "    accuracy                           0.73     32310\n",
      "   macro avg       0.70      0.74      0.70     32310\n",
      "weighted avg       0.78      0.73      0.75     32310\n",
      "\n"
     ]
    }
   ],
   "source": [
    "y_pred = model.predict(X_test_scaled)\n",
    "y_pred_train = model.predict(X_train_scaled)\n",
    "y_pred = y_pred > 0.5\n",
    "y_pred_train = y_pred_train > 0.5\n",
    "print('Accuracy on training set: ', accuracy_score(y_train, y_pred_train))\n",
    "print('confusion_matrix on training set: \\n', confusion_matrix(y_train, y_pred_train))\n",
    "print('Accuracy on test set: ', accuracy_score(y_test, y_pred))\n",
    "print('Confusion matrix: \\n', confusion_matrix(y_test, y_pred))\n",
    "print('Classification report: \\n', classification_report(y_test, y_pred))"
   ]
  },
  {
   "cell_type": "markdown",
   "metadata": {
    "collapsed": false
   },
   "source": [
    "\n"
   ]
  },
  {
   "cell_type": "code",
   "execution_count": null,
   "metadata": {
    "collapsed": false
   },
   "outputs": [],
   "source": [
    "param_grid={\n",
    "    'optimizer': ['adam'],\n",
    "    'first_layer_size': [ 32, 64],\n",
    "    'second_layer_size': [16, 32],\n",
    "    'reg_strength': [0.0001, 0.001, 0.01,],\n",
    "    'lr':[0.001, 0.0001]\n",
    "}"
   ]
  },
  {
   "cell_type": "code",
   "execution_count": null,
   "metadata": {
    "collapsed": false
   },
   "outputs": [],
   "source": [
    "\n",
    "from sklearn.model_selection import ParameterGrid\n",
    "from tqdm import tqdm\n",
    "from keras.callbacks import EarlyStopping\n",
    "from keras.regularizers import l2\n",
    "from keras.optimizers import Adam\n",
    "from keras.models import Sequential\n",
    "from keras.layers import Dense, Dropout\n",
    "import keras\n",
    "def kfold(X, y, k):\n",
    "    for i in range(k+1):\n",
    "        X_train, X_test, y_train, y_test = train_test_split(X, y, test_size=int(X.shape[0]/k), random_state=i)\n",
    "        yield X_train, X_test, y_train, y_test\n",
    "\n",
    "def grid_search_kfold(X,y, k, param_grid):\n",
    "    best_score =0\n",
    "    X_train, X_test, y_train, y_test = train_test_split(X, y, stratify=y, test_size=0.2, random_state=42)\n",
    "    for params in tqdm(ParameterGrid(param_grid)):\n",
    "        #train on the k-1 folds\n",
    "\n",
    "        model =Sequential([\n",
    "                          Dense(params['first_layer_size'], activation='relu',\n",
    "                                input_shape=(X.shape[1],), kernel_regularizer=l2(params['reg_strength'])),\n",
    "                          Dense(params['second_layer_size'], activation='relu', kernel_regularizer=l2(params['reg_strength'])),\n",
    "                          Dense(1, activation='sigmoid', kernel_regularizer=l2(params['reg_strength']))\n",
    "                          ]\n",
    "                        )\n",
    "        early_stopping= EarlyStopping(patience=5, restore_best_weights=True, monitor='val_loss')\n",
    "        if params['optimizer']=='adam':\n",
    "          opt= keras.optimizers.Adam(learning_rate=params['lr'])\n",
    "        else:\n",
    "          opt= keras.optimizers.SGD(learning_rate=params['lr'])\n",
    "          \n",
    "        model.compile(optimizer=opt, loss='binary_crossentropy', metrics=['accuracy'])\n",
    "        model.fit(X_train, y_train, validation_data=(X_test, y_test), epochs=20, callbacks=[early_stopping], verbose=True)\n",
    "        score = model.evaluate(X_test, y_test)\n",
    "        print(score)\n",
    "        if score[1] > best_score:\n",
    "            best_score = score[1]\n",
    "            best_params = params\n",
    "    return best_params, best_score\n"
   ]
  },
  {
   "cell_type": "code",
   "execution_count": null,
   "metadata": {
    "collapsed": false
   },
   "outputs": [],
   "source": [
    "from sklearn.preprocessing import StandardScaler\n",
    "scaler = StandardScaler()\n",
    "X3_train_scaled=scaler.fit_transform(X3_train)"
   ]
  },
  {
   "cell_type": "code",
   "execution_count": null,
   "metadata": {
    "collapsed": false
   },
   "outputs": [],
   "source": [
    "best_params, best_score = grid_search_kfold(X3_train_scaled, y_train, 3, param_grid)"
   ]
  },
  {
   "cell_type": "code",
   "execution_count": 38,
   "metadata": {},
   "outputs": [
    {
     "name": "stdout",
     "output_type": "stream",
     "text": [
      "{'first_layer_size': 32, 'lr': 0.001, 'optimizer': 'adam', 'reg_strength': 0.0001, 'second_layer_size': 32} 0.7825750708580017\n"
     ]
    }
   ],
   "source": [
    "print(best_params, best_score)"
   ]
  },
  {
   "cell_type": "code",
   "execution_count": 41,
   "metadata": {},
   "outputs": [
    {
     "name": "stdout",
     "output_type": "stream",
     "text": [
      "Epoch 1/100\n",
      "4039/4039 [==============================] - 15s 4ms/step - loss: 0.4719 - accuracy: 0.7581 - val_loss: 0.4487 - val_accuracy: 0.7717\n",
      "Epoch 2/100\n",
      "4039/4039 [==============================] - 14s 3ms/step - loss: 0.4475 - accuracy: 0.7735 - val_loss: 0.4414 - val_accuracy: 0.7766\n",
      "Epoch 3/100\n",
      "4039/4039 [==============================] - 14s 3ms/step - loss: 0.4424 - accuracy: 0.7760 - val_loss: 0.4411 - val_accuracy: 0.7799\n",
      "Epoch 4/100\n",
      "4039/4039 [==============================] - 14s 4ms/step - loss: 0.4401 - accuracy: 0.7788 - val_loss: 0.4370 - val_accuracy: 0.7834\n",
      "Epoch 5/100\n",
      "4039/4039 [==============================] - 14s 4ms/step - loss: 0.4384 - accuracy: 0.7789 - val_loss: 0.4390 - val_accuracy: 0.7799\n",
      "Epoch 6/100\n",
      "4039/4039 [==============================] - 14s 4ms/step - loss: 0.4373 - accuracy: 0.7808 - val_loss: 0.4334 - val_accuracy: 0.7835\n",
      "Epoch 7/100\n",
      "4039/4039 [==============================] - 14s 3ms/step - loss: 0.4363 - accuracy: 0.7812 - val_loss: 0.4344 - val_accuracy: 0.7837\n",
      "Epoch 8/100\n",
      "4039/4039 [==============================] - 14s 3ms/step - loss: 0.4355 - accuracy: 0.7821 - val_loss: 0.4346 - val_accuracy: 0.7831\n",
      "Epoch 9/100\n",
      "4039/4039 [==============================] - 16s 4ms/step - loss: 0.4351 - accuracy: 0.7825 - val_loss: 0.4331 - val_accuracy: 0.7838\n",
      "Epoch 10/100\n",
      "4039/4039 [==============================] - 14s 4ms/step - loss: 0.4343 - accuracy: 0.7832 - val_loss: 0.4328 - val_accuracy: 0.7851\n",
      "Epoch 11/100\n",
      "4039/4039 [==============================] - 14s 3ms/step - loss: 0.4341 - accuracy: 0.7843 - val_loss: 0.4319 - val_accuracy: 0.7867\n",
      "Epoch 12/100\n",
      "4039/4039 [==============================] - 14s 3ms/step - loss: 0.4335 - accuracy: 0.7841 - val_loss: 0.4322 - val_accuracy: 0.7847\n",
      "Epoch 13/100\n",
      "4039/4039 [==============================] - 14s 4ms/step - loss: 0.4332 - accuracy: 0.7848 - val_loss: 0.4328 - val_accuracy: 0.7855\n",
      "Epoch 14/100\n",
      "4039/4039 [==============================] - 15s 4ms/step - loss: 0.4330 - accuracy: 0.7847 - val_loss: 0.4330 - val_accuracy: 0.7855\n",
      "Epoch 15/100\n",
      "4039/4039 [==============================] - 14s 3ms/step - loss: 0.4327 - accuracy: 0.7852 - val_loss: 0.4335 - val_accuracy: 0.7835\n",
      "Epoch 16/100\n",
      "4039/4039 [==============================] - 14s 3ms/step - loss: 0.4322 - accuracy: 0.7852 - val_loss: 0.4338 - val_accuracy: 0.7833\n"
     ]
    },
    {
     "data": {
      "text/plain": [
       "<keras.callbacks.History at 0x27a396834f0>"
      ]
     },
     "execution_count": 41,
     "metadata": {},
     "output_type": "execute_result"
    }
   ],
   "source": [
    "best_nn = Sequential([\n",
    "                            Dense(32, activation='relu',\n",
    "                                    input_shape=(X3_train_scaled.shape[1],), kernel_regularizer=l2(0.0001)),\n",
    "                            Dense(32, activation='relu', kernel_regularizer=l2(0.0001)),\n",
    "                            Dense(1, activation='sigmoid', kernel_regularizer=l2(0.0001))\n",
    "                            ]\n",
    "                            )\n",
    "best_nn.compile(optimizer=Adam(learning_rate=0.001), loss='binary_crossentropy', metrics=['accuracy'])\n",
    "X3_test_scaled=scaler.transform(X3_test)\n",
    "early_stopping= EarlyStopping(patience=5, restore_best_weights=True, monitor='val_loss')\n",
    "best_nn.fit(X3_train_scaled, y_train, validation_data=(X3_test_scaled, y_test), epochs=100, callbacks=[early_stopping], verbose=True)\n"
   ]
  },
  {
   "cell_type": "code",
   "execution_count": 43,
   "metadata": {},
   "outputs": [
    {
     "name": "stdout",
     "output_type": "stream",
     "text": [
      "   1/1010 [..............................] - ETA: 40s"
     ]
    },
    {
     "name": "stdout",
     "output_type": "stream",
     "text": [
      "1010/1010 [==============================] - 2s 2ms/step\n",
      "4039/4039 [==============================] - 9s 2ms/step\n",
      "Accuracy on training set:  0.7860105230578768\n",
      "confusion_matrix on training set: \n",
      " [[83017  9765]\n",
      " [17891 18567]]\n",
      "Accuracy on test set:  0.7866914268028474\n",
      "Confusion matrix: \n",
      " [[20900  2449]\n",
      " [ 4443  4518]]\n",
      "Classification report: \n",
      "               precision    recall  f1-score   support\n",
      "\n",
      "       False       0.82      0.90      0.86     23349\n",
      "        True       0.65      0.50      0.57      8961\n",
      "\n",
      "    accuracy                           0.79     32310\n",
      "   macro avg       0.74      0.70      0.71     32310\n",
      "weighted avg       0.78      0.79      0.78     32310\n",
      "\n"
     ]
    }
   ],
   "source": [
    "from sklearn.metrics import accuracy_score, precision_score, recall_score, f1_score, confusion_matrix, classification_report\n",
    "y_pred = best_nn.predict(X3_test_scaled)\n",
    "y_pred_train = best_nn.predict(X3_train_scaled)\n",
    "y_pred = y_pred > 0.5\n",
    "y_pred_train = y_pred_train > 0.5\n",
    "print('Accuracy on training set: ', accuracy_score(y_train, y_pred_train))\n",
    "print('confusion_matrix on training set: \\n', confusion_matrix(y_train, y_pred_train))\n",
    "print('Accuracy on test set: ', accuracy_score(y_test, y_pred))\n",
    "print('Confusion matrix: \\n', confusion_matrix(y_test, y_pred))\n",
    "print('Classification report: \\n', classification_report(y_test, y_pred))\n"
   ]
  },
  {
   "cell_type": "code",
   "execution_count": null,
   "metadata": {},
   "outputs": [],
   "source": [
    "y_pred = best_nn.predict(X3_test_scaled)\n"
   ]
  },
  {
   "cell_type": "code",
   "execution_count": 69,
   "metadata": {},
   "outputs": [],
   "source": [
    "def plot_roc_curve(y_pred, y_test):\n",
    "    y_pred=y_pred.reshape((y_pred.shape[0],))\n",
    "    thresholds = np.linspace(0, 1, 100)\n",
    "    tpr = []\n",
    "    fpr = []\n",
    "    for threshold in thresholds:\n",
    "        y_pred_threshold = y_pred > threshold\n",
    "     \n",
    "        true_positive = np.sum(y_pred_threshold * y_test)\n",
    "        false_positive = np.sum(y_pred_threshold * (1-y_test))\n",
    "        true_negative = np.sum((1-y_pred_threshold) * (1-y_test))\n",
    "        false_negative = np.sum((1-y_pred_threshold) * y_test)\n",
    "        tpr.append(true_positive / (true_positive + false_negative))\n",
    "        fpr.append(false_positive / (false_positive + true_negative))   \n",
    "    return tpr, fpr, thresholds    \n",
    "\n",
    "\n"
   ]
  },
  {
   "cell_type": "code",
   "execution_count": 71,
   "metadata": {},
   "outputs": [
    {
     "data": {
      "image/png": "[encoded data removed]",
      "text/plain": [
       "<Figure size 640x480 with 1 Axes>"
      ]
     },
     "metadata": {},
     "output_type": "display_data"
    }
   ],
   "source": [
    "fpr, tpr, thresholds = plot_roc_curve(y_pred, y_test)\n",
    "plt.plot([0,1], [0,1], 'k--')\n",
    "plt.plot(tpr, fpr)\n",
    "plt.xlabel('False Positive Rate')\n",
    "plt.ylabel('True Positive Rate')\n",
    "plt.title(f'Neural Network ROC Curve, AUC={ roc_auc_score(y_test, y_pred):.3f}')\n",
    "plt.show()\n"
   ]
  },
  {
   "cell_type": "code",
   "execution_count": 72,
   "metadata": {},
   "outputs": [
    {
     "ename": "NameError",
     "evalue": "name 'best_rf3' is not defined",
     "output_type": "error",
     "traceback": [
      "\u001B[1;31m---------------------------------------------------------------------------\u001B[0m",
      "\u001B[1;31mNameError\u001B[0m                                 Traceback (most recent call last)",
      "Cell \u001B[1;32mIn[72], line 3\u001B[0m\n\u001B[0;32m      1\u001B[0m \u001B[38;5;66;03m# plot all the roc curves\u001B[39;00m\n\u001B[0;32m      2\u001B[0m \u001B[38;5;28;01mfrom\u001B[39;00m \u001B[38;5;21;01msklearn\u001B[39;00m\u001B[38;5;21;01m.\u001B[39;00m\u001B[38;5;21;01mmetrics\u001B[39;00m \u001B[38;5;28;01mimport\u001B[39;00m roc_curve, roc_auc_score\n\u001B[1;32m----> 3\u001B[0m y_pred_proba_rf \u001B[38;5;241m=\u001B[39m \u001B[43mbest_rf3\u001B[49m\u001B[38;5;241m.\u001B[39mpredict_proba(X3_test)[:,\u001B[38;5;241m1\u001B[39m]\n\u001B[0;32m      4\u001B[0m y_pred_proba_dt \u001B[38;5;241m=\u001B[39m best_tree3\u001B[38;5;241m.\u001B[39mpredict_proba(X3_test)[:,\u001B[38;5;241m1\u001B[39m]\n\u001B[0;32m      6\u001B[0m tpr_rf3, fpr_rf3, thresholds_rf3 \u001B[38;5;241m=\u001B[39m roc_curve(y_test, y_pred_proba_rf)\n",
      "\u001B[1;31mNameError\u001B[0m: name 'best_rf3' is not defined"
     ]
    }
   ],
   "source": []
  },
  {
   "cell_type": "code",
   "execution_count": 73,
   "metadata": {
    "collapsed": false
   },
   "outputs": [
    {
     "ename": "NameError",
     "evalue": "name 'results_logreg' is not defined",
     "output_type": "error",
     "traceback": [
      "\u001B[1;31m---------------------------------------------------------------------------\u001B[0m",
      "\u001B[1;31mNameError\u001B[0m                                 Traceback (most recent call last)",
      "Cell \u001B[1;32mIn[73], line 3\u001B[0m\n\u001B[0;32m      1\u001B[0m \u001B[38;5;66;03m# save all the results\u001B[39;00m\n\u001B[0;32m      2\u001B[0m results \u001B[38;5;241m=\u001B[39m pd\u001B[38;5;241m.\u001B[39mDataFrame(columns\u001B[38;5;241m=\u001B[39m[\u001B[38;5;124m'\u001B[39m\u001B[38;5;124mconfusion_matrix\u001B[39m\u001B[38;5;124m'\u001B[39m, \u001B[38;5;124m'\u001B[39m\u001B[38;5;124mclassification_report\u001B[39m\u001B[38;5;124m'\u001B[39m])\n\u001B[1;32m----> 3\u001B[0m results\u001B[38;5;241m.\u001B[39mloc[\u001B[38;5;124m'\u001B[39m\u001B[38;5;124mlogreg\u001B[39m\u001B[38;5;124m'\u001B[39m] \u001B[38;5;241m=\u001B[39m \u001B[43mresults_logreg\u001B[49m\n\u001B[0;32m      4\u001B[0m results\u001B[38;5;241m.\u001B[39mloc[\u001B[38;5;124m'\u001B[39m\u001B[38;5;124mdt\u001B[39m\u001B[38;5;124m'\u001B[39m] \u001B[38;5;241m=\u001B[39m results_dt\n\u001B[0;32m      5\u001B[0m results\u001B[38;5;241m.\u001B[39mloc[\u001B[38;5;124m'\u001B[39m\u001B[38;5;124mdt2\u001B[39m\u001B[38;5;124m'\u001B[39m] \u001B[38;5;241m=\u001B[39m results_dt2\n",
      "\u001B[1;31mNameError\u001B[0m: name 'results_logreg' is not defined"
     ]
    }
   ],
   "source": [
    "# save all the results\n",
    "results = pd.DataFrame(columns=['confusion_matrix', 'classification_report'])\n",
    "results.loc['logreg'] = results_logreg\n",
    "results.loc['dt'] = results_dt\n",
    "results.loc['dt2'] = results_dt2\n",
    "results.loc['rf2'] = results_rf2\n",
    "results.loc['knn2'] = results_knn2\n",
    "results.loc['logreg2'] = results_logreg2\n",
    "results.loc['dt3'] = result_dt3\n",
    "results.loc['rf3'] = result_rf3\n",
    "results.loc['nn3'] = {'confusion_matrix': confusion_matrix(y_test, y_pred), 'classification_report': classification_report(y_test, y_pred) }\n",
    "results.to_csv('results.csv')"
   ]
  },
  {
   "cell_type": "code",
   "execution_count": 74,
   "metadata": {
    "collapsed": false
   },
   "outputs": [],
   "source": [
    "results= pd.read_csv('results.csv', index_col=False)"
   ]
  },
  {
   "cell_type": "code",
   "execution_count": 77,
   "metadata": {
    "collapsed": false
   },
   "outputs": [],
   "source": [
    "# add a new row\n",
    "y_pred = y_pred>0.5\n",
    "results.loc[-1] = {'model': 'nn3', 'confusion_matrix': confusion_matrix(y_test, y_pred), 'classification_report': classification_report(y_test, y_pred) }\n"
   ]
  },
  {
   "cell_type": "code",
   "execution_count": null,
   "metadata": {},
   "outputs": [],
   "source": []
  }
 ],
 "metadata": {
  "kernelspec": {
   "display_name": "Python 3",
   "language": "python",
   "name": "python3"
  },
  "language_info": {
   "codemirror_mode": {
    "name": "ipython",
    "version": 3
   },
   "file_extension": ".py",
   "mimetype": "text/x-python",
   "name": "python",
   "nbconvert_exporter": "python",
   "pygments_lexer": "ipython3",
   "version": "3.10.8"
  }
 },
 "nbformat": 4,
 "nbformat_minor": 0
}
