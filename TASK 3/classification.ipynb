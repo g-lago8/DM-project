{
 "cells": [
  {
   "cell_type": "markdown",
   "source": [
    "# Task 3: Classification"
   ],
   "metadata": {
    "collapsed": false
   }
  },
  {
   "cell_type": "code",
   "execution_count": 74,
   "outputs": [],
   "source": [
    "# imports\n",
    "import numpy as np\n",
    "import pandas as pd\n",
    "from tqdm import tqdm\n",
    "import matplotlib.pyplot as plt\n",
    "import seaborn as sns\n",
    "import sklearn\n",
    "\n",
    "from sklearn.model_selection import train_test_split\n",
    "from sklearn.metrics import accuracy_score, precision_score, recall_score, f1_score, confusion_matrix, classification_report\n",
    "from my_model_selection import grid_search_kfold_cv, evaluate_model"
   ],
   "metadata": {
    "collapsed": false
   }
  },
  {
   "cell_type": "markdown",
   "source": [
    "## 3.1 Classification with all features available"
   ],
   "metadata": {
    "collapsed": false
   }
  },
  {
   "cell_type": "markdown",
   "source": [
    "Our first approach is to use all the features available in the original dataset, and those we created in the previous task from those features.\n",
    "\n",
    "In particular we can use `n_injured`, `n_unharmed` and `n_arrested` to predict `n_killed`. We can also use `n_participants`, `n_participants_adult`, `n_participants_child`, `n_participants_teen`, `n_participants_females` to predict `n_killed`."
   ],
   "metadata": {
    "collapsed": false
   }
  },
  {
   "cell_type": "markdown",
   "source": [
    "### 3.1.1 Preparing data for classification"
   ],
   "metadata": {
    "collapsed": false
   }
  },
  {
   "cell_type": "code",
   "execution_count": 75,
   "metadata": {},
   "outputs": [],
   "source": [
    "# imports\n",
    "import numpy as np\n",
    "import pandas as pd\n",
    "from tqdm import tqdm\n",
    "import matplotlib.pyplot as plt\n",
    "import seaborn as sns\n",
    "import sklearn\n",
    "from sklearn.model_selection import train_test_split"
   ]
  },
  {
   "cell_type": "code",
   "execution_count": 76,
   "metadata": {
    "collapsed": false
   },
   "outputs": [],
   "source": [
    "df_incidents_prepared = pd.read_csv('../dataset_preparation/incidents_prepared.csv', index_col=0)\n",
    "df_orig = pd.read_csv('../dataset_preparation/original_features.csv', index_col=0)"
   ]
  },
  {
   "cell_type": "code",
   "execution_count": 77,
   "outputs": [
    {
     "name": "stdout",
     "output_type": "stream",
     "text": [
      "<class 'pandas.core.frame.DataFrame'>\n",
      "Int64Index: 161550 entries, 0 to 164506\n",
      "Data columns (total 41 columns):\n",
      " #   Column                     Non-Null Count   Dtype  \n",
      "---  ------                     --------------   -----  \n",
      " 0   date                       161550 non-null  object \n",
      " 1   state                      161550 non-null  object \n",
      " 2   city_or_county             161550 non-null  object \n",
      " 3   address                    149848 non-null  object \n",
      " 4   latitude                   161550 non-null  float64\n",
      " 5   longitude                  161550 non-null  float64\n",
      " 6   congressional_district     161550 non-null  float64\n",
      " 7   avg_age_participants       161550 non-null  float64\n",
      " 8   n_killed                   161550 non-null  int64  \n",
      " 9   incident_characteristics1  161550 non-null  object \n",
      " 10  year                       161550 non-null  float64\n",
      " 11  age_group                  161550 non-null  object \n",
      " 12  povertyPercentage          161550 non-null  float64\n",
      " 13  population                 161550 non-null  int64  \n",
      " 14  party                      161550 non-null  object \n",
      " 15  candidatevotes             161550 non-null  float64\n",
      " 16  severity                   161550 non-null  float64\n",
      " 17  severity_cat               161550 non-null  object \n",
      " 18  severity_minor             161550 non-null  float64\n",
      " 19  year_month                 161550 non-null  object \n",
      " 20  killed_by_district         161550 non-null  float64\n",
      " 21  injured_by_district        161550 non-null  float64\n",
      " 22  arrested_ratio             161550 non-null  float64\n",
      " 23  unharmed_ratio             161550 non-null  float64\n",
      " 24  right_or_left              161550 non-null  float64\n",
      " 25  dfm_district_killed        161550 non-null  float64\n",
      " 26  dfm_district_injured       161550 non-null  float64\n",
      " 27  dfm_district_participants  161550 non-null  float64\n",
      " 28  dfm_district_child         161550 non-null  float64\n",
      " 29  dfm_district_teen          161550 non-null  float64\n",
      " 30  dfm_district_females       161550 non-null  float64\n",
      " 31  voters_over_population     161550 non-null  float64\n",
      " 32  n_arrested                 161550 non-null  float64\n",
      " 33  n_participants             161550 non-null  float64\n",
      " 34  n_participants_adult       161550 non-null  float64\n",
      " 35  n_participants_teen        161550 non-null  float64\n",
      " 36  n_participants_child       161550 non-null  float64\n",
      " 37  n_females                  161550 non-null  float64\n",
      " 38  n_males                    161550 non-null  float64\n",
      " 39  n_injured                  161550 non-null  int64  \n",
      " 40  n_unharmed                 161550 non-null  float64\n",
      "dtypes: float64(29), int64(3), object(9)\n",
      "memory usage: 55.8+ MB\n"
     ]
    }
   ],
   "source": [
    "df_incidents_prepared=df_incidents_prepared.join(df_orig)\n",
    "df_incidents_prepared.info()"
   ],
   "metadata": {
    "collapsed": false
   }
  },
  {
   "cell_type": "markdown",
   "source": [
    "Now, `incidents_prepared` is the whole dataset with both original features and features created by us.\n",
    "We decided to use only the original features for what concerns the gender and age groups of the participants: we kept `n_participants`, `n_participants_adult`, `n_participants_child`, `n_participants_teen`, `n_participants_females`. We dropped `n_participants_male` because it is highly correlated with `n_participants`."
   ],
   "metadata": {
    "collapsed": false
   }
  },
  {
   "cell_type": "code",
   "execution_count": 78,
   "outputs": [],
   "source": [
    "df_incidents_prepared['isKilled'] = df_incidents_prepared['n_killed'] > 0"
   ],
   "metadata": {
    "collapsed": false
   }
  },
  {
   "cell_type": "code",
   "execution_count": 79,
   "metadata": {},
   "outputs": [],
   "source": [
    "cols2drop=[\n",
    "            #categorical features difficult to encode\n",
    "           'address', 'city_or_county','congressional_district','date','state', 'year_month',\n",
    "           'avg_age_participants', # we already have age_group\n",
    "           'n_killed',  #label\n",
    "           'incident_characteristics1', # too similar to the label isKilled\n",
    "           'severity', 'severity_cat', # created from n_killed\n",
    "\n",
    "           # we decided to use original features n_females, n_injured etc. all those features are highly correlated. We decided to keep the original features because they are more interpretable\n",
    "           'killed_by_district','injured_by_district', 'dfm_district_killed','dfm_district_injured', 'dfm_district_participants', 'dfm_district_child', 'dfm_district_teen', 'dfm_district_females', 'arrested_ratio', 'unharmed_ratio', 'severity_minor',\n",
    "\n",
    "           # correlated with n_participants\n",
    "            'n_participants_adult'\n",
    "            ]\n",
    "df_incidents_prepared=df_incidents_prepared.drop(cols2drop, axis=1)"
   ]
  },
  {
   "cell_type": "code",
   "execution_count": 80,
   "outputs": [
    {
     "name": "stdout",
     "output_type": "stream",
     "text": [
      "<class 'pandas.core.frame.DataFrame'>\n",
      "Int64Index: 161550 entries, 0 to 164506\n",
      "Data columns (total 19 columns):\n",
      " #   Column                  Non-Null Count   Dtype  \n",
      "---  ------                  --------------   -----  \n",
      " 0   latitude                161550 non-null  float64\n",
      " 1   longitude               161550 non-null  float64\n",
      " 2   year                    161550 non-null  float64\n",
      " 3   age_group               161550 non-null  object \n",
      " 4   povertyPercentage       161550 non-null  float64\n",
      " 5   population              161550 non-null  int64  \n",
      " 6   party                   161550 non-null  object \n",
      " 7   candidatevotes          161550 non-null  float64\n",
      " 8   right_or_left           161550 non-null  float64\n",
      " 9   voters_over_population  161550 non-null  float64\n",
      " 10  n_arrested              161550 non-null  float64\n",
      " 11  n_participants          161550 non-null  float64\n",
      " 12  n_participants_teen     161550 non-null  float64\n",
      " 13  n_participants_child    161550 non-null  float64\n",
      " 14  n_females               161550 non-null  float64\n",
      " 15  n_males                 161550 non-null  float64\n",
      " 16  n_injured               161550 non-null  int64  \n",
      " 17  n_unharmed              161550 non-null  float64\n",
      " 18  isKilled                161550 non-null  bool   \n",
      "dtypes: bool(1), float64(14), int64(2), object(2)\n",
      "memory usage: 27.6+ MB\n"
     ]
    }
   ],
   "source": [
    "df_incidents_prepared.info()"
   ],
   "metadata": {
    "collapsed": false
   }
  },
  {
   "cell_type": "code",
   "execution_count": 81,
   "metadata": {},
   "outputs": [],
   "source": [
    "X=df_incidents_prepared.drop('isKilled', axis=1)\n",
    "y=df_incidents_prepared['isKilled']"
   ]
  },
  {
   "cell_type": "code",
   "execution_count": 82,
   "outputs": [
    {
     "data": {
      "text/plain": "   latitude  longitude    year age_group  povertyPercentage  population  \\\n0   39.8322   -86.2492  2015.0   [18-24]               12.3     6608422   \n1   39.7745   -86.1166  2015.0   [25-34]               12.3     6608422   \n2   39.7759   -86.2940  2015.0   [35-44]               12.3     6608422   \n3   39.8040   -86.0095  2015.0   [18-24]               12.3     6608422   \n4   39.7882   -86.2091  2015.0   [45-54]               12.3     6608422   \n\n      party  candidatevotes  right_or_left  voters_over_population  \\\n0  DEMOCRAT         61443.0       0.452677                0.203046   \n1  DEMOCRAT         61443.0       0.452677                0.203046   \n2  DEMOCRAT         61443.0       0.452677                0.203046   \n3  DEMOCRAT         61443.0       0.452677                0.203046   \n4  DEMOCRAT         61443.0       0.452677                0.203046   \n\n   n_arrested  n_participants  n_participants_teen  n_participants_child  \\\n0         0.0             1.0                  0.0                   0.0   \n1         1.0             2.0                  0.0                   0.0   \n2         1.0             2.0                  0.0                   0.0   \n3         0.0             1.0                  0.0                   0.0   \n4         0.0             1.0                  0.0                   0.0   \n\n   n_females  n_males  n_injured  n_unharmed  \n0        0.0      1.0          1         0.0  \n1        0.0      2.0          0         0.0  \n2        0.0      2.0          0         0.0  \n3        0.0      1.0          0         0.0  \n4        0.0      1.0          1         0.0  ",
      "text/html": "<div>\n<style scoped>\n    .dataframe tbody tr th:only-of-type {\n        vertical-align: middle;\n    }\n\n    .dataframe tbody tr th {\n        vertical-align: top;\n    }\n\n    .dataframe thead th {\n        text-align: right;\n    }\n</style>\n<table border=\"1\" class=\"dataframe\">\n  <thead>\n    <tr style=\"text-align: right;\">\n      <th></th>\n      <th>latitude</th>\n      <th>longitude</th>\n      <th>year</th>\n      <th>age_group</th>\n      <th>povertyPercentage</th>\n      <th>population</th>\n      <th>party</th>\n      <th>candidatevotes</th>\n      <th>right_or_left</th>\n      <th>voters_over_population</th>\n      <th>n_arrested</th>\n      <th>n_participants</th>\n      <th>n_participants_teen</th>\n      <th>n_participants_child</th>\n      <th>n_females</th>\n      <th>n_males</th>\n      <th>n_injured</th>\n      <th>n_unharmed</th>\n    </tr>\n  </thead>\n  <tbody>\n    <tr>\n      <th>0</th>\n      <td>39.8322</td>\n      <td>-86.2492</td>\n      <td>2015.0</td>\n      <td>[18-24]</td>\n      <td>12.3</td>\n      <td>6608422</td>\n      <td>DEMOCRAT</td>\n      <td>61443.0</td>\n      <td>0.452677</td>\n      <td>0.203046</td>\n      <td>0.0</td>\n      <td>1.0</td>\n      <td>0.0</td>\n      <td>0.0</td>\n      <td>0.0</td>\n      <td>1.0</td>\n      <td>1</td>\n      <td>0.0</td>\n    </tr>\n    <tr>\n      <th>1</th>\n      <td>39.7745</td>\n      <td>-86.1166</td>\n      <td>2015.0</td>\n      <td>[25-34]</td>\n      <td>12.3</td>\n      <td>6608422</td>\n      <td>DEMOCRAT</td>\n      <td>61443.0</td>\n      <td>0.452677</td>\n      <td>0.203046</td>\n      <td>1.0</td>\n      <td>2.0</td>\n      <td>0.0</td>\n      <td>0.0</td>\n      <td>0.0</td>\n      <td>2.0</td>\n      <td>0</td>\n      <td>0.0</td>\n    </tr>\n    <tr>\n      <th>2</th>\n      <td>39.7759</td>\n      <td>-86.2940</td>\n      <td>2015.0</td>\n      <td>[35-44]</td>\n      <td>12.3</td>\n      <td>6608422</td>\n      <td>DEMOCRAT</td>\n      <td>61443.0</td>\n      <td>0.452677</td>\n      <td>0.203046</td>\n      <td>1.0</td>\n      <td>2.0</td>\n      <td>0.0</td>\n      <td>0.0</td>\n      <td>0.0</td>\n      <td>2.0</td>\n      <td>0</td>\n      <td>0.0</td>\n    </tr>\n    <tr>\n      <th>3</th>\n      <td>39.8040</td>\n      <td>-86.0095</td>\n      <td>2015.0</td>\n      <td>[18-24]</td>\n      <td>12.3</td>\n      <td>6608422</td>\n      <td>DEMOCRAT</td>\n      <td>61443.0</td>\n      <td>0.452677</td>\n      <td>0.203046</td>\n      <td>0.0</td>\n      <td>1.0</td>\n      <td>0.0</td>\n      <td>0.0</td>\n      <td>0.0</td>\n      <td>1.0</td>\n      <td>0</td>\n      <td>0.0</td>\n    </tr>\n    <tr>\n      <th>4</th>\n      <td>39.7882</td>\n      <td>-86.2091</td>\n      <td>2015.0</td>\n      <td>[45-54]</td>\n      <td>12.3</td>\n      <td>6608422</td>\n      <td>DEMOCRAT</td>\n      <td>61443.0</td>\n      <td>0.452677</td>\n      <td>0.203046</td>\n      <td>0.0</td>\n      <td>1.0</td>\n      <td>0.0</td>\n      <td>0.0</td>\n      <td>0.0</td>\n      <td>1.0</td>\n      <td>1</td>\n      <td>0.0</td>\n    </tr>\n  </tbody>\n</table>\n</div>"
     },
     "execution_count": 82,
     "metadata": {},
     "output_type": "execute_result"
    }
   ],
   "source": [
    "X.head()"
   ],
   "metadata": {
    "collapsed": false
   }
  },
  {
   "cell_type": "markdown",
   "source": [
    "One Hot Encoding of categorical features"
   ],
   "metadata": {
    "collapsed": false
   }
  },
  {
   "cell_type": "code",
   "execution_count": 83,
   "metadata": {},
   "outputs": [
    {
     "name": "stdout",
     "output_type": "stream",
     "text": [
      "<class 'pandas.core.frame.DataFrame'>\n",
      "Int64Index: 161550 entries, 0 to 164506\n",
      "Data columns (total 27 columns):\n",
      " #   Column                  Non-Null Count   Dtype  \n",
      "---  ------                  --------------   -----  \n",
      " 0   latitude                161550 non-null  float64\n",
      " 1   longitude               161550 non-null  float64\n",
      " 2   year                    161550 non-null  float64\n",
      " 3   povertyPercentage       161550 non-null  float64\n",
      " 4   population              161550 non-null  int64  \n",
      " 5   candidatevotes          161550 non-null  float64\n",
      " 6   right_or_left           161550 non-null  float64\n",
      " 7   voters_over_population  161550 non-null  float64\n",
      " 8   n_arrested              161550 non-null  float64\n",
      " 9   n_participants          161550 non-null  float64\n",
      " 10  n_participants_teen     161550 non-null  float64\n",
      " 11  n_participants_child    161550 non-null  float64\n",
      " 12  n_females               161550 non-null  float64\n",
      " 13  n_males                 161550 non-null  float64\n",
      " 14  n_injured               161550 non-null  int64  \n",
      " 15  n_unharmed              161550 non-null  float64\n",
      " 16  age_group_[0-11]        161550 non-null  uint8  \n",
      " 17  age_group_[12-17]       161550 non-null  uint8  \n",
      " 18  age_group_[18-24]       161550 non-null  uint8  \n",
      " 19  age_group_[25-34]       161550 non-null  uint8  \n",
      " 20  age_group_[35-44]       161550 non-null  uint8  \n",
      " 21  age_group_[45-54]       161550 non-null  uint8  \n",
      " 22  age_group_[55-64]       161550 non-null  uint8  \n",
      " 23  age_group_[65-74]       161550 non-null  uint8  \n",
      " 24  age_group_[75-100]      161550 non-null  uint8  \n",
      " 25  party_DEMOCRAT          161550 non-null  uint8  \n",
      " 26  party_REPUBLICAN        161550 non-null  uint8  \n",
      "dtypes: float64(14), int64(2), uint8(11)\n",
      "memory usage: 26.7 MB\n"
     ]
    }
   ],
   "source": [
    "import pandas as pd\n",
    "X=pd.get_dummies(X)\n",
    "X.info()"
   ]
  },
  {
   "cell_type": "markdown",
   "source": [
    "### 3.1.2 Splitting data into train and test set"
   ],
   "metadata": {
    "collapsed": false
   }
  },
  {
   "cell_type": "code",
   "execution_count": 84,
   "outputs": [],
   "source": [
    "from sklearn.model_selection import train_test_split\n",
    "X_train, X_test, y_train, y_test = train_test_split(X, y, stratify=y, test_size=0.2, random_state=42)"
   ],
   "metadata": {
    "collapsed": false
   }
  },
  {
   "cell_type": "markdown",
   "source": [
    "### 3.1.3 Logistic Regression"
   ],
   "metadata": {
    "collapsed": false
   }
  },
  {
   "cell_type": "code",
   "execution_count": 85,
   "outputs": [],
   "source": [
    "from sklearn.preprocessing import StandardScaler\n",
    "from sklearn.linear_model import LogisticRegression"
   ],
   "metadata": {
    "collapsed": false
   }
  },
  {
   "cell_type": "code",
   "execution_count": 86,
   "outputs": [],
   "source": [
    "scaler = StandardScaler()\n",
    "X_train_scaled=scaler.fit_transform(X_train)\n",
    "X_test_scaled=scaler.transform(X_test)"
   ],
   "metadata": {
    "collapsed": false
   }
  },
  {
   "cell_type": "code",
   "execution_count": 87,
   "outputs": [
    {
     "data": {
      "text/plain": "LogisticRegression()",
      "text/html": "<style>#sk-container-id-4 {color: black;background-color: white;}#sk-container-id-4 pre{padding: 0;}#sk-container-id-4 div.sk-toggleable {background-color: white;}#sk-container-id-4 label.sk-toggleable__label {cursor: pointer;display: block;width: 100%;margin-bottom: 0;padding: 0.3em;box-sizing: border-box;text-align: center;}#sk-container-id-4 label.sk-toggleable__label-arrow:before {content: \"▸\";float: left;margin-right: 0.25em;color: #696969;}#sk-container-id-4 label.sk-toggleable__label-arrow:hover:before {color: black;}#sk-container-id-4 div.sk-estimator:hover label.sk-toggleable__label-arrow:before {color: black;}#sk-container-id-4 div.sk-toggleable__content {max-height: 0;max-width: 0;overflow: hidden;text-align: left;background-color: #f0f8ff;}#sk-container-id-4 div.sk-toggleable__content pre {margin: 0.2em;color: black;border-radius: 0.25em;background-color: #f0f8ff;}#sk-container-id-4 input.sk-toggleable__control:checked~div.sk-toggleable__content {max-height: 200px;max-width: 100%;overflow: auto;}#sk-container-id-4 input.sk-toggleable__control:checked~label.sk-toggleable__label-arrow:before {content: \"▾\";}#sk-container-id-4 div.sk-estimator input.sk-toggleable__control:checked~label.sk-toggleable__label {background-color: #d4ebff;}#sk-container-id-4 div.sk-label input.sk-toggleable__control:checked~label.sk-toggleable__label {background-color: #d4ebff;}#sk-container-id-4 input.sk-hidden--visually {border: 0;clip: rect(1px 1px 1px 1px);clip: rect(1px, 1px, 1px, 1px);height: 1px;margin: -1px;overflow: hidden;padding: 0;position: absolute;width: 1px;}#sk-container-id-4 div.sk-estimator {font-family: monospace;background-color: #f0f8ff;border: 1px dotted black;border-radius: 0.25em;box-sizing: border-box;margin-bottom: 0.5em;}#sk-container-id-4 div.sk-estimator:hover {background-color: #d4ebff;}#sk-container-id-4 div.sk-parallel-item::after {content: \"\";width: 100%;border-bottom: 1px solid gray;flex-grow: 1;}#sk-container-id-4 div.sk-label:hover label.sk-toggleable__label {background-color: #d4ebff;}#sk-container-id-4 div.sk-serial::before {content: \"\";position: absolute;border-left: 1px solid gray;box-sizing: border-box;top: 0;bottom: 0;left: 50%;z-index: 0;}#sk-container-id-4 div.sk-serial {display: flex;flex-direction: column;align-items: center;background-color: white;padding-right: 0.2em;padding-left: 0.2em;position: relative;}#sk-container-id-4 div.sk-item {position: relative;z-index: 1;}#sk-container-id-4 div.sk-parallel {display: flex;align-items: stretch;justify-content: center;background-color: white;position: relative;}#sk-container-id-4 div.sk-item::before, #sk-container-id-4 div.sk-parallel-item::before {content: \"\";position: absolute;border-left: 1px solid gray;box-sizing: border-box;top: 0;bottom: 0;left: 50%;z-index: -1;}#sk-container-id-4 div.sk-parallel-item {display: flex;flex-direction: column;z-index: 1;position: relative;background-color: white;}#sk-container-id-4 div.sk-parallel-item:first-child::after {align-self: flex-end;width: 50%;}#sk-container-id-4 div.sk-parallel-item:last-child::after {align-self: flex-start;width: 50%;}#sk-container-id-4 div.sk-parallel-item:only-child::after {width: 0;}#sk-container-id-4 div.sk-dashed-wrapped {border: 1px dashed gray;margin: 0 0.4em 0.5em 0.4em;box-sizing: border-box;padding-bottom: 0.4em;background-color: white;}#sk-container-id-4 div.sk-label label {font-family: monospace;font-weight: bold;display: inline-block;line-height: 1.2em;}#sk-container-id-4 div.sk-label-container {text-align: center;}#sk-container-id-4 div.sk-container {/* jupyter's `normalize.less` sets `[hidden] { display: none; }` but bootstrap.min.css set `[hidden] { display: none !important; }` so we also need the `!important` here to be able to override the default hidden behavior on the sphinx rendered scikit-learn.org. See: https://github.com/scikit-learn/scikit-learn/issues/21755 */display: inline-block !important;position: relative;}#sk-container-id-4 div.sk-text-repr-fallback {display: none;}</style><div id=\"sk-container-id-4\" class=\"sk-top-container\"><div class=\"sk-text-repr-fallback\"><pre>LogisticRegression()</pre><b>In a Jupyter environment, please rerun this cell to show the HTML representation or trust the notebook. <br />On GitHub, the HTML representation is unable to render, please try loading this page with nbviewer.org.</b></div><div class=\"sk-container\" hidden><div class=\"sk-item\"><div class=\"sk-estimator sk-toggleable\"><input class=\"sk-toggleable__control sk-hidden--visually\" id=\"sk-estimator-id-6\" type=\"checkbox\" checked><label for=\"sk-estimator-id-6\" class=\"sk-toggleable__label sk-toggleable__label-arrow\">LogisticRegression</label><div class=\"sk-toggleable__content\"><pre>LogisticRegression()</pre></div></div></div></div></div>"
     },
     "execution_count": 87,
     "metadata": {},
     "output_type": "execute_result"
    }
   ],
   "source": [
    "# fitting the model\n",
    "logreg = LogisticRegression()\n",
    "logreg.fit(X_train_scaled, y_train)"
   ],
   "metadata": {
    "collapsed": false
   }
  },
  {
   "cell_type": "code",
   "execution_count": 88,
   "outputs": [],
   "source": [
    "# predictions\n",
    "y_pred = logreg.predict(X_test_scaled)\n",
    "y_pred_train = logreg.predict(X_train_scaled)"
   ],
   "metadata": {
    "collapsed": false
   }
  },
  {
   "cell_type": "code",
   "execution_count": 89,
   "outputs": [
    {
     "name": "stdout",
     "output_type": "stream",
     "text": [
      "Accuracy on training set:  0.9764159702878366\n",
      "confusion_matrix on training set: \n",
      " [[90595  2310]\n",
      " [  738 35597]]\n",
      "Accuracy on validation set:  0.9776539770968741\n",
      "Confusion matrix: \n",
      " [[22685   541]\n",
      " [  181  8903]]\n",
      "Classification report: \n",
      "               precision    recall  f1-score   support\n",
      "\n",
      "       False       0.99      0.98      0.98     23226\n",
      "        True       0.94      0.98      0.96      9084\n",
      "\n",
      "    accuracy                           0.98     32310\n",
      "   macro avg       0.97      0.98      0.97     32310\n",
      "weighted avg       0.98      0.98      0.98     32310\n",
      "\n"
     ]
    }
   ],
   "source": [
    "# metrics\n",
    "results_logreg = evaluate_model(logreg, X_train_scaled, y_train, X_test_scaled, y_test)"
   ],
   "metadata": {
    "collapsed": false
   }
  },
  {
   "cell_type": "code",
   "execution_count": 90,
   "outputs": [
    {
     "data": {
      "text/plain": "<Axes: >"
     },
     "execution_count": 90,
     "metadata": {},
     "output_type": "execute_result"
    },
    {
     "data": {
      "text/plain": "<Figure size 640x480 with 2 Axes>",
      "image/png": "[encoded data removed]"
     },
     "metadata": {},
     "output_type": "display_data"
    }
   ],
   "source": [
    "# plot confusion matrix\n",
    "sns.heatmap(confusion_matrix(y_test, y_pred), annot=True, fmt='d', cmap='Blues')"
   ],
   "metadata": {
    "collapsed": false
   }
  },
  {
   "cell_type": "markdown",
   "source": [
    "### Decision tree"
   ],
   "metadata": {
    "collapsed": false
   }
  },
  {
   "cell_type": "code",
   "execution_count": 91,
   "outputs": [],
   "source": [
    "from sklearn.tree import DecisionTreeClassifier"
   ],
   "metadata": {
    "collapsed": false
   }
  },
  {
   "cell_type": "markdown",
   "source": [],
   "metadata": {
    "collapsed": false
   }
  },
  {
   "cell_type": "code",
   "execution_count": 92,
   "outputs": [
    {
     "name": "stdout",
     "output_type": "stream",
     "text": [
      "Fitting 3 folds for each of 24 candidates, totalling 72 fits\n",
      "[CV 1/3] END criterion=gini, max_depth=4, min_samples_split=2;, score=0.768 total time=   0.3s\n",
      "[CV 2/3] END criterion=gini, max_depth=4, min_samples_split=2;, score=0.761 total time=   0.3s\n",
      "[CV 3/3] END criterion=gini, max_depth=4, min_samples_split=2;, score=0.766 total time=   0.4s\n",
      "[CV 1/3] END criterion=gini, max_depth=4, min_samples_split=4;, score=0.768 total time=   0.9s\n",
      "[CV 2/3] END criterion=gini, max_depth=4, min_samples_split=4;, score=0.761 total time=   0.8s\n",
      "[CV 3/3] END criterion=gini, max_depth=4, min_samples_split=4;, score=0.766 total time=   0.4s\n",
      "[CV 1/3] END criterion=gini, max_depth=4, min_samples_split=8;, score=0.768 total time=   0.4s\n",
      "[CV 2/3] END criterion=gini, max_depth=4, min_samples_split=8;, score=0.761 total time=   0.3s\n",
      "[CV 3/3] END criterion=gini, max_depth=4, min_samples_split=8;, score=0.766 total time=   0.2s\n",
      "[CV 1/3] END criterion=gini, max_depth=4, min_samples_split=16;, score=0.768 total time=   0.3s\n",
      "[CV 2/3] END criterion=gini, max_depth=4, min_samples_split=16;, score=0.761 total time=   0.3s\n",
      "[CV 3/3] END criterion=gini, max_depth=4, min_samples_split=16;, score=0.766 total time=   0.3s\n",
      "[CV 1/3] END criterion=gini, max_depth=8, min_samples_split=2;, score=0.948 total time=   0.5s\n",
      "[CV 2/3] END criterion=gini, max_depth=8, min_samples_split=2;, score=0.945 total time=   0.4s\n",
      "[CV 3/3] END criterion=gini, max_depth=8, min_samples_split=2;, score=0.944 total time=   0.4s\n",
      "[CV 1/3] END criterion=gini, max_depth=8, min_samples_split=4;, score=0.948 total time=   0.5s\n",
      "[CV 2/3] END criterion=gini, max_depth=8, min_samples_split=4;, score=0.945 total time=   0.5s\n",
      "[CV 3/3] END criterion=gini, max_depth=8, min_samples_split=4;, score=0.944 total time=   0.5s\n",
      "[CV 1/3] END criterion=gini, max_depth=8, min_samples_split=8;, score=0.948 total time=   0.4s\n",
      "[CV 2/3] END criterion=gini, max_depth=8, min_samples_split=8;, score=0.946 total time=   0.5s\n",
      "[CV 3/3] END criterion=gini, max_depth=8, min_samples_split=8;, score=0.944 total time=   0.5s\n",
      "[CV 1/3] END criterion=gini, max_depth=8, min_samples_split=16;, score=0.948 total time=   0.4s\n",
      "[CV 2/3] END criterion=gini, max_depth=8, min_samples_split=16;, score=0.946 total time=   0.4s\n",
      "[CV 3/3] END criterion=gini, max_depth=8, min_samples_split=16;, score=0.944 total time=   0.3s\n",
      "[CV 1/3] END criterion=gini, max_depth=16, min_samples_split=2;, score=0.955 total time=   0.5s\n",
      "[CV 2/3] END criterion=gini, max_depth=16, min_samples_split=2;, score=0.953 total time=   0.5s\n",
      "[CV 3/3] END criterion=gini, max_depth=16, min_samples_split=2;, score=0.952 total time=   0.5s\n",
      "[CV 1/3] END criterion=gini, max_depth=16, min_samples_split=4;, score=0.953 total time=   0.5s\n",
      "[CV 2/3] END criterion=gini, max_depth=16, min_samples_split=4;, score=0.953 total time=   0.5s\n",
      "[CV 3/3] END criterion=gini, max_depth=16, min_samples_split=4;, score=0.952 total time=   0.7s\n",
      "[CV 1/3] END criterion=gini, max_depth=16, min_samples_split=8;, score=0.955 total time=   0.7s\n",
      "[CV 2/3] END criterion=gini, max_depth=16, min_samples_split=8;, score=0.954 total time=   0.5s\n",
      "[CV 3/3] END criterion=gini, max_depth=16, min_samples_split=8;, score=0.955 total time=   0.5s\n",
      "[CV 1/3] END criterion=gini, max_depth=16, min_samples_split=16;, score=0.957 total time=   0.5s\n",
      "[CV 2/3] END criterion=gini, max_depth=16, min_samples_split=16;, score=0.956 total time=   0.5s\n",
      "[CV 3/3] END criterion=gini, max_depth=16, min_samples_split=16;, score=0.957 total time=   0.6s\n",
      "[CV 1/3] END criterion=entropy, max_depth=4, min_samples_split=2;, score=0.751 total time=   0.4s\n",
      "[CV 2/3] END criterion=entropy, max_depth=4, min_samples_split=2;, score=0.747 total time=   0.3s\n",
      "[CV 3/3] END criterion=entropy, max_depth=4, min_samples_split=2;, score=0.748 total time=   0.2s\n",
      "[CV 1/3] END criterion=entropy, max_depth=4, min_samples_split=4;, score=0.751 total time=   0.2s\n",
      "[CV 2/3] END criterion=entropy, max_depth=4, min_samples_split=4;, score=0.747 total time=   0.2s\n",
      "[CV 3/3] END criterion=entropy, max_depth=4, min_samples_split=4;, score=0.748 total time=   0.2s\n",
      "[CV 1/3] END criterion=entropy, max_depth=4, min_samples_split=8;, score=0.751 total time=   0.3s\n",
      "[CV 2/3] END criterion=entropy, max_depth=4, min_samples_split=8;, score=0.747 total time=   0.3s\n",
      "[CV 3/3] END criterion=entropy, max_depth=4, min_samples_split=8;, score=0.748 total time=   0.3s\n",
      "[CV 1/3] END criterion=entropy, max_depth=4, min_samples_split=16;, score=0.751 total time=   0.2s\n",
      "[CV 2/3] END criterion=entropy, max_depth=4, min_samples_split=16;, score=0.747 total time=   0.2s\n",
      "[CV 3/3] END criterion=entropy, max_depth=4, min_samples_split=16;, score=0.748 total time=   0.3s\n",
      "[CV 1/3] END criterion=entropy, max_depth=8, min_samples_split=2;, score=0.943 total time=   0.5s\n",
      "[CV 2/3] END criterion=entropy, max_depth=8, min_samples_split=2;, score=0.938 total time=   0.4s\n",
      "[CV 3/3] END criterion=entropy, max_depth=8, min_samples_split=2;, score=0.937 total time=   0.4s\n",
      "[CV 1/3] END criterion=entropy, max_depth=8, min_samples_split=4;, score=0.943 total time=   0.4s\n",
      "[CV 2/3] END criterion=entropy, max_depth=8, min_samples_split=4;, score=0.938 total time=   0.5s\n",
      "[CV 3/3] END criterion=entropy, max_depth=8, min_samples_split=4;, score=0.937 total time=   0.4s\n",
      "[CV 1/3] END criterion=entropy, max_depth=8, min_samples_split=8;, score=0.943 total time=   0.5s\n",
      "[CV 2/3] END criterion=entropy, max_depth=8, min_samples_split=8;, score=0.938 total time=   0.5s\n",
      "[CV 3/3] END criterion=entropy, max_depth=8, min_samples_split=8;, score=0.937 total time=   0.4s\n",
      "[CV 1/3] END criterion=entropy, max_depth=8, min_samples_split=16;, score=0.943 total time=   0.5s\n",
      "[CV 2/3] END criterion=entropy, max_depth=8, min_samples_split=16;, score=0.938 total time=   0.5s\n",
      "[CV 3/3] END criterion=entropy, max_depth=8, min_samples_split=16;, score=0.937 total time=   0.5s\n",
      "[CV 1/3] END criterion=entropy, max_depth=16, min_samples_split=2;, score=0.955 total time=   0.7s\n",
      "[CV 2/3] END criterion=entropy, max_depth=16, min_samples_split=2;, score=0.953 total time=   0.5s\n",
      "[CV 3/3] END criterion=entropy, max_depth=16, min_samples_split=2;, score=0.955 total time=   0.6s\n",
      "[CV 1/3] END criterion=entropy, max_depth=16, min_samples_split=4;, score=0.955 total time=   0.6s\n",
      "[CV 2/3] END criterion=entropy, max_depth=16, min_samples_split=4;, score=0.953 total time=   0.7s\n",
      "[CV 3/3] END criterion=entropy, max_depth=16, min_samples_split=4;, score=0.956 total time=   0.7s\n",
      "[CV 1/3] END criterion=entropy, max_depth=16, min_samples_split=8;, score=0.954 total time=   0.6s\n",
      "[CV 2/3] END criterion=entropy, max_depth=16, min_samples_split=8;, score=0.952 total time=   0.6s\n",
      "[CV 3/3] END criterion=entropy, max_depth=16, min_samples_split=8;, score=0.956 total time=   0.5s\n",
      "[CV 1/3] END criterion=entropy, max_depth=16, min_samples_split=16;, score=0.957 total time=   0.8s\n",
      "[CV 2/3] END criterion=entropy, max_depth=16, min_samples_split=16;, score=0.955 total time=   0.6s\n",
      "[CV 3/3] END criterion=entropy, max_depth=16, min_samples_split=16;, score=0.959 total time=   0.6s\n",
      "Accuracy on training set:  0.9880532342927886\n",
      "confusion_matrix on training set: \n",
      " [[92073   832]\n",
      " [  712 35623]]\n",
      "Accuracy on validation set:  0.9779325286289074\n",
      "Confusion matrix: \n",
      " [[22864   362]\n",
      " [  351  8733]]\n",
      "Classification report: \n",
      "               precision    recall  f1-score   support\n",
      "\n",
      "       False       0.98      0.98      0.98     23226\n",
      "        True       0.96      0.96      0.96      9084\n",
      "\n",
      "    accuracy                           0.98     32310\n",
      "   macro avg       0.97      0.97      0.97     32310\n",
      "weighted avg       0.98      0.98      0.98     32310\n",
      "\n"
     ]
    }
   ],
   "source": [
    "# grid search\n",
    "from sklearn.model_selection import GridSearchCV\n",
    "param_grid = {'max_depth': [4, 8, 16],\n",
    "              'min_samples_split': [2,4, 8, 16],\n",
    "              'criterion': ['gini', 'entropy']\n",
    "}\n",
    "best_param_dt, best_tree, results_dt = grid_search_kfold_cv(model_class=DecisionTreeClassifier, param_grid=param_grid, X_train=X_train, y_train=y_train, X_test=X_test, y_test=y_test,  cv=3, metric='f1', eval=True)"
   ],
   "metadata": {
    "collapsed": false
   }
  },
  {
   "cell_type": "markdown",
   "source": [
    "### K-nearest neighbors\n"
   ],
   "metadata": {
    "collapsed": false
   }
  },
  {
   "cell_type": "code",
   "execution_count": 93,
   "outputs": [],
   "source": [
    "from sklearn.neighbors import KNeighborsClassifier"
   ],
   "metadata": {
    "collapsed": false
   }
  },
  {
   "cell_type": "code",
   "execution_count": 94,
   "outputs": [
    {
     "name": "stderr",
     "output_type": "stream",
     "text": [
      "  0%|          | 0/9 [00:08<?, ?it/s]\n"
     ]
    },
    {
     "ename": "KeyboardInterrupt",
     "evalue": "",
     "output_type": "error",
     "traceback": [
      "\u001B[1;31m---------------------------------------------------------------------------\u001B[0m",
      "\u001B[1;31mKeyboardInterrupt\u001B[0m                         Traceback (most recent call last)",
      "Cell \u001B[1;32mIn[94], line 7\u001B[0m\n\u001B[0;32m      5\u001B[0m knn \u001B[38;5;241m=\u001B[39m KNeighborsClassifier(n_neighbors\u001B[38;5;241m=\u001B[39mi)\n\u001B[0;32m      6\u001B[0m knn\u001B[38;5;241m.\u001B[39mfit(X_train, y_train)\n\u001B[1;32m----> 7\u001B[0m y_pred \u001B[38;5;241m=\u001B[39m \u001B[43mknn\u001B[49m\u001B[38;5;241;43m.\u001B[39;49m\u001B[43mpredict\u001B[49m\u001B[43m(\u001B[49m\u001B[43mX_test\u001B[49m\u001B[43m)\u001B[49m\n\u001B[0;32m      8\u001B[0m accuracy_scores\u001B[38;5;241m.\u001B[39mappend(accuracy_score(y_test, y_pred))\n\u001B[0;32m      9\u001B[0m f1_scores\u001B[38;5;241m.\u001B[39mappend(f1_score(y_test, y_pred))\n",
      "File \u001B[1;32m~\\AppData\\Local\\Programs\\Python\\Python310\\lib\\site-packages\\sklearn\\neighbors\\_classification.py:226\u001B[0m, in \u001B[0;36mKNeighborsClassifier.predict\u001B[1;34m(self, X)\u001B[0m\n\u001B[0;32m    210\u001B[0m \u001B[38;5;124;03m\"\"\"Predict the class labels for the provided data.\u001B[39;00m\n\u001B[0;32m    211\u001B[0m \n\u001B[0;32m    212\u001B[0m \u001B[38;5;124;03mParameters\u001B[39;00m\n\u001B[1;32m   (...)\u001B[0m\n\u001B[0;32m    221\u001B[0m \u001B[38;5;124;03m    Class labels for each data sample.\u001B[39;00m\n\u001B[0;32m    222\u001B[0m \u001B[38;5;124;03m\"\"\"\u001B[39;00m\n\u001B[0;32m    223\u001B[0m \u001B[38;5;28;01mif\u001B[39;00m \u001B[38;5;28mself\u001B[39m\u001B[38;5;241m.\u001B[39mweights \u001B[38;5;241m==\u001B[39m \u001B[38;5;124m\"\u001B[39m\u001B[38;5;124muniform\u001B[39m\u001B[38;5;124m\"\u001B[39m:\n\u001B[0;32m    224\u001B[0m     \u001B[38;5;66;03m# In that case, we do not need the distances to perform\u001B[39;00m\n\u001B[0;32m    225\u001B[0m     \u001B[38;5;66;03m# the weighting so we do not compute them.\u001B[39;00m\n\u001B[1;32m--> 226\u001B[0m     neigh_ind \u001B[38;5;241m=\u001B[39m \u001B[38;5;28;43mself\u001B[39;49m\u001B[38;5;241;43m.\u001B[39;49m\u001B[43mkneighbors\u001B[49m\u001B[43m(\u001B[49m\u001B[43mX\u001B[49m\u001B[43m,\u001B[49m\u001B[43m \u001B[49m\u001B[43mreturn_distance\u001B[49m\u001B[38;5;241;43m=\u001B[39;49m\u001B[38;5;28;43;01mFalse\u001B[39;49;00m\u001B[43m)\u001B[49m\n\u001B[0;32m    227\u001B[0m     neigh_dist \u001B[38;5;241m=\u001B[39m \u001B[38;5;28;01mNone\u001B[39;00m\n\u001B[0;32m    228\u001B[0m \u001B[38;5;28;01melse\u001B[39;00m:\n",
      "File \u001B[1;32m~\\AppData\\Local\\Programs\\Python\\Python310\\lib\\site-packages\\sklearn\\neighbors\\_base.py:763\u001B[0m, in \u001B[0;36mKNeighborsMixin.kneighbors\u001B[1;34m(self, X, n_neighbors, return_distance)\u001B[0m\n\u001B[0;32m    756\u001B[0m use_pairwise_distances_reductions \u001B[38;5;241m=\u001B[39m (\n\u001B[0;32m    757\u001B[0m     \u001B[38;5;28mself\u001B[39m\u001B[38;5;241m.\u001B[39m_fit_method \u001B[38;5;241m==\u001B[39m \u001B[38;5;124m\"\u001B[39m\u001B[38;5;124mbrute\u001B[39m\u001B[38;5;124m\"\u001B[39m\n\u001B[0;32m    758\u001B[0m     \u001B[38;5;129;01mand\u001B[39;00m PairwiseDistancesArgKmin\u001B[38;5;241m.\u001B[39mis_usable_for(\n\u001B[0;32m    759\u001B[0m         X \u001B[38;5;28;01mif\u001B[39;00m X \u001B[38;5;129;01mis\u001B[39;00m \u001B[38;5;129;01mnot\u001B[39;00m \u001B[38;5;28;01mNone\u001B[39;00m \u001B[38;5;28;01melse\u001B[39;00m \u001B[38;5;28mself\u001B[39m\u001B[38;5;241m.\u001B[39m_fit_X, \u001B[38;5;28mself\u001B[39m\u001B[38;5;241m.\u001B[39m_fit_X, \u001B[38;5;28mself\u001B[39m\u001B[38;5;241m.\u001B[39meffective_metric_\n\u001B[0;32m    760\u001B[0m     )\n\u001B[0;32m    761\u001B[0m )\n\u001B[0;32m    762\u001B[0m \u001B[38;5;28;01mif\u001B[39;00m use_pairwise_distances_reductions:\n\u001B[1;32m--> 763\u001B[0m     results \u001B[38;5;241m=\u001B[39m \u001B[43mPairwiseDistancesArgKmin\u001B[49m\u001B[38;5;241;43m.\u001B[39;49m\u001B[43mcompute\u001B[49m\u001B[43m(\u001B[49m\n\u001B[0;32m    764\u001B[0m \u001B[43m        \u001B[49m\u001B[43mX\u001B[49m\u001B[38;5;241;43m=\u001B[39;49m\u001B[43mX\u001B[49m\u001B[43m,\u001B[49m\n\u001B[0;32m    765\u001B[0m \u001B[43m        \u001B[49m\u001B[43mY\u001B[49m\u001B[38;5;241;43m=\u001B[39;49m\u001B[38;5;28;43mself\u001B[39;49m\u001B[38;5;241;43m.\u001B[39;49m\u001B[43m_fit_X\u001B[49m\u001B[43m,\u001B[49m\n\u001B[0;32m    766\u001B[0m \u001B[43m        \u001B[49m\u001B[43mk\u001B[49m\u001B[38;5;241;43m=\u001B[39;49m\u001B[43mn_neighbors\u001B[49m\u001B[43m,\u001B[49m\n\u001B[0;32m    767\u001B[0m \u001B[43m        \u001B[49m\u001B[43mmetric\u001B[49m\u001B[38;5;241;43m=\u001B[39;49m\u001B[38;5;28;43mself\u001B[39;49m\u001B[38;5;241;43m.\u001B[39;49m\u001B[43meffective_metric_\u001B[49m\u001B[43m,\u001B[49m\n\u001B[0;32m    768\u001B[0m \u001B[43m        \u001B[49m\u001B[43mmetric_kwargs\u001B[49m\u001B[38;5;241;43m=\u001B[39;49m\u001B[38;5;28;43mself\u001B[39;49m\u001B[38;5;241;43m.\u001B[39;49m\u001B[43meffective_metric_params_\u001B[49m\u001B[43m,\u001B[49m\n\u001B[0;32m    769\u001B[0m \u001B[43m        \u001B[49m\u001B[43mstrategy\u001B[49m\u001B[38;5;241;43m=\u001B[39;49m\u001B[38;5;124;43m\"\u001B[39;49m\u001B[38;5;124;43mauto\u001B[39;49m\u001B[38;5;124;43m\"\u001B[39;49m\u001B[43m,\u001B[49m\n\u001B[0;32m    770\u001B[0m \u001B[43m        \u001B[49m\u001B[43mreturn_distance\u001B[49m\u001B[38;5;241;43m=\u001B[39;49m\u001B[43mreturn_distance\u001B[49m\u001B[43m,\u001B[49m\n\u001B[0;32m    771\u001B[0m \u001B[43m    \u001B[49m\u001B[43m)\u001B[49m\n\u001B[0;32m    773\u001B[0m \u001B[38;5;28;01melif\u001B[39;00m (\n\u001B[0;32m    774\u001B[0m     \u001B[38;5;28mself\u001B[39m\u001B[38;5;241m.\u001B[39m_fit_method \u001B[38;5;241m==\u001B[39m \u001B[38;5;124m\"\u001B[39m\u001B[38;5;124mbrute\u001B[39m\u001B[38;5;124m\"\u001B[39m \u001B[38;5;129;01mand\u001B[39;00m \u001B[38;5;28mself\u001B[39m\u001B[38;5;241m.\u001B[39mmetric \u001B[38;5;241m==\u001B[39m \u001B[38;5;124m\"\u001B[39m\u001B[38;5;124mprecomputed\u001B[39m\u001B[38;5;124m\"\u001B[39m \u001B[38;5;129;01mand\u001B[39;00m issparse(X)\n\u001B[0;32m    775\u001B[0m ):\n\u001B[0;32m    776\u001B[0m     results \u001B[38;5;241m=\u001B[39m _kneighbors_from_graph(\n\u001B[0;32m    777\u001B[0m         X, n_neighbors\u001B[38;5;241m=\u001B[39mn_neighbors, return_distance\u001B[38;5;241m=\u001B[39mreturn_distance\n\u001B[0;32m    778\u001B[0m     )\n",
      "File \u001B[1;32msklearn\\metrics\\_pairwise_distances_reduction.pyx:698\u001B[0m, in \u001B[0;36msklearn.metrics._pairwise_distances_reduction.PairwiseDistancesArgKmin.compute\u001B[1;34m()\u001B[0m\n",
      "File \u001B[1;32m~\\AppData\\Local\\Programs\\Python\\Python310\\lib\\site-packages\\threadpoolctl.py:171\u001B[0m, in \u001B[0;36m_ThreadpoolLimiter.__exit__\u001B[1;34m(self, type, value, traceback)\u001B[0m\n\u001B[0;32m    168\u001B[0m \u001B[38;5;28;01mdef\u001B[39;00m \u001B[38;5;21m__enter__\u001B[39m(\u001B[38;5;28mself\u001B[39m):\n\u001B[0;32m    169\u001B[0m     \u001B[38;5;28;01mreturn\u001B[39;00m \u001B[38;5;28mself\u001B[39m\n\u001B[1;32m--> 171\u001B[0m \u001B[38;5;28;01mdef\u001B[39;00m \u001B[38;5;21m__exit__\u001B[39m(\u001B[38;5;28mself\u001B[39m, \u001B[38;5;28mtype\u001B[39m, value, traceback):\n\u001B[0;32m    172\u001B[0m     \u001B[38;5;28mself\u001B[39m\u001B[38;5;241m.\u001B[39mrestore_original_limits()\n\u001B[0;32m    174\u001B[0m \u001B[38;5;129m@classmethod\u001B[39m\n\u001B[0;32m    175\u001B[0m \u001B[38;5;28;01mdef\u001B[39;00m \u001B[38;5;21mwrap\u001B[39m(\u001B[38;5;28mcls\u001B[39m, controller, \u001B[38;5;241m*\u001B[39m, limits\u001B[38;5;241m=\u001B[39m\u001B[38;5;28;01mNone\u001B[39;00m, user_api\u001B[38;5;241m=\u001B[39m\u001B[38;5;28;01mNone\u001B[39;00m):\n",
      "\u001B[1;31mKeyboardInterrupt\u001B[0m: "
     ]
    }
   ],
   "source": [
    "# grid search\n",
    "accuracy_scores = []\n",
    "f1_scores =[]\n",
    "for i in tqdm(range(1, 10)):\n",
    "    knn = KNeighborsClassifier(n_neighbors=i)\n",
    "    knn.fit(X_train, y_train)\n",
    "    y_pred = knn.predict(X_test)\n",
    "    accuracy_scores.append(accuracy_score(y_test, y_pred))\n",
    "    f1_scores.append(f1_score(y_test, y_pred))"
   ],
   "metadata": {
    "collapsed": false
   }
  },
  {
   "cell_type": "code",
   "execution_count": null,
   "outputs": [],
   "source": [
    "plt.plot(range(1, 10), accuracy_scores)\n",
    "plt.plot(range(1, 10), f1_scores)"
   ],
   "metadata": {
    "collapsed": false
   }
  },
  {
   "cell_type": "code",
   "execution_count": null,
   "outputs": [],
   "source": [],
   "metadata": {
    "collapsed": false
   }
  },
  {
   "cell_type": "markdown",
   "source": [
    "### Discussion\n",
    "\n",
    "We can see that the arguably simpler model of them all is almost perfect, with an accuracy of $97.8\\%$ on the test set, and a F1-score of $0.97$.\n",
    "Our hypothesis is that the task is almost linear due to the fact that we have the features `n_injured` and `n_unharmed`. While those two features are not directly correlated to the label, it's easy to understand that $ n_{killed} \\approx n_{participants}- n_{injured}- n_{unharmed} -n_{arrested}$        in the majority of cases.\n",
    "\n",
    "We can verify our hypothesis by looking at the weights of the model:"
   ],
   "metadata": {
    "collapsed": false
   }
  },
  {
   "cell_type": "code",
   "execution_count": null,
   "outputs": [],
   "source": [
    "for feature, weight in zip(X.columns, logreg.coef_[0]):\n",
    "    print(feature, weight)"
   ],
   "metadata": {
    "collapsed": false
   }
  },
  {
   "cell_type": "markdown",
   "source": [
    "We see that the order of magnitude of the weights is between $O(1)$ and $O(10)$, for the aforementioned features, while is smaller ($O(10^{-1})$ to $O(10^{-3})$) for almost all the other. This means that the leading computation is $n_{participants}- n_{injured} - n_{unharmed} - n_{arrested}$."
   ],
   "metadata": {
    "collapsed": false
   }
  },
  {
   "cell_type": "markdown",
   "source": [
    "For this reason, we decided to not use the features `n_injured`, `n_unharmed` and `n_arrested` in the following models."
   ],
   "metadata": {
    "collapsed": false
   }
  },
  {
   "cell_type": "markdown",
   "source": [
    "## 3.2 Classification without 'n_injured', 'n_unharmed', and 'n_arrested'\n",
    "\n",
    "We have seen that keeping those features leads to great results in classification, even with a simple model like logistic regression.\n",
    "That is because `n_participants` $\\approx$ `n_injured` + `n_unharmed` + `n_arrested`+ `n_killed`.\n",
    "We decided to drop those features because, if the number of killed is unknown, it is reasonable that the number of injured, unharmed and arrested could also be unknown."
   ],
   "metadata": {
    "collapsed": false
   }
  },
  {
   "cell_type": "code",
   "execution_count": null,
   "outputs": [],
   "source": [
    "X2=X.drop(['n_injured', 'n_unharmed', 'n_arrested'], axis=1)"
   ],
   "metadata": {
    "collapsed": false
   }
  },
  {
   "cell_type": "code",
   "execution_count": null,
   "outputs": [],
   "source": [
    "X2.head()"
   ],
   "metadata": {
    "collapsed": false
   }
  },
  {
   "cell_type": "code",
   "execution_count": null,
   "outputs": [],
   "source": [
    "X2_train, X2_test, y_train, y_test = train_test_split(X2, y, stratify=y, test_size=0.2, random_state=42)"
   ],
   "metadata": {
    "collapsed": false
   }
  },
  {
   "cell_type": "markdown",
   "source": [
    "### 3.2.2 Decision Trees"
   ],
   "metadata": {
    "collapsed": false
   }
  },
  {
   "cell_type": "code",
   "execution_count": null,
   "outputs": [],
   "source": [
    "import numpy as np\n",
    "import matplotlib.pyplot as plt\n",
    "from sklearn.tree import DecisionTreeClassifier\n",
    "from sklearn.model_selection import train_test_split\n",
    "from sklearn.metrics import accuracy_score, precision_score, recall_score, f1_score, confusion_matrix, classification_report"
   ],
   "metadata": {
    "collapsed": false
   }
  },
  {
   "cell_type": "markdown",
   "source": [
    "#### Grid search for Decision Tree Parameters"
   ],
   "metadata": {
    "collapsed": false
   }
  },
  {
   "cell_type": "code",
   "execution_count": null,
   "outputs": [],
   "source": [
    "best_params_dt2 = grid_search_kfold_cv(model_class=DecisionTreeClassifier, param_grid=param_grid, X_train=X2_train, y_train=y_train, X_test=X2_test, y_test=y_test,  cv=3, metric='f1', eval=False)"
   ],
   "metadata": {
    "collapsed": false
   }
  },
  {
   "cell_type": "code",
   "execution_count": null,
   "outputs": [],
   "source": [
    "best_params_dt2"
   ],
   "metadata": {
    "collapsed": false
   }
  },
  {
   "cell_type": "markdown",
   "source": [
    "#### Finer grid search  around best parameters"
   ],
   "metadata": {
    "collapsed": false
   }
  },
  {
   "cell_type": "code",
   "execution_count": null,
   "outputs": [],
   "source": [
    "# finer grid search around best parameters\n",
    "param_grid = {'max_depth': [20, 30, 40, 50 ],\n",
    "              'min_samples_split': [2,3,4],\n",
    "              'criterion': ['gini']\n",
    "}\n",
    "\n",
    "best_params_dt2, best_tree2, result_dt2 = grid_search_kfold_cv(model_class=DecisionTreeClassifier, param_grid=param_grid, X_train=X2_train, y_train=y_train, X_test=X2_test, y_test=y_test,  cv=3, metric='f1', eval=True)\n"
   ],
   "metadata": {
    "collapsed": false
   }
  },
  {
   "cell_type": "code",
   "execution_count": null,
   "outputs": [],
   "source": [
    "# roc curve\n",
    "from sklearn.metrics import roc_curve, roc_auc_score\n",
    "y_pred_proba = best_tree2.predict_proba(X2_test)[:,1]\n",
    "fpr, tpr, thresholds = roc_curve(y_test, y_pred_proba)\n",
    "plt.plot([0,1], [0,1], 'k--')\n",
    "plt.plot(fpr, tpr, label='Decision Tree')\n",
    "plt.xlabel('False Positive Rate')\n",
    "plt.ylabel('True Positive Rate')\n",
    "plt.title(f'Decision Tree ROC Curve, AUC={ roc_auc_score(y_test, y_pred_proba):.3f}')\n",
    "\n",
    "plt.show()\n"
   ],
   "metadata": {
    "collapsed": false
   }
  },
  {
   "cell_type": "markdown",
   "source": [
    "#### Try balancing data"
   ],
   "metadata": {
    "collapsed": false
   }
  },
  {
   "cell_type": "markdown",
   "source": [
    "##### Undersampling"
   ],
   "metadata": {
    "collapsed": false
   }
  },
  {
   "cell_type": "code",
   "execution_count": null,
   "outputs": [],
   "source": [
    "from imblearn.under_sampling import RandomUnderSampler\n",
    "rus = RandomUnderSampler(random_state=41)\n",
    "X2_undersampled, y_undersampled = rus.fit_resample(X2_train, y_train)\n",
    "y_undersampled.value_counts()"
   ],
   "metadata": {
    "collapsed": false
   }
  },
  {
   "cell_type": "code",
   "execution_count": null,
   "outputs": [],
   "source": [
    "from sklearn.model_selection import GridSearchCV\n",
    "from sklearn.metrics import make_scorer, f1_score\n",
    "f1 = make_scorer(f1_score, pos_label =True)\n",
    "param_grid = {'max_depth': [4, 8, 16],\n",
    "              'min_samples_split': [2,4, 8, 16],\n",
    "              'criterion': ['gini', 'entropy']\n",
    "}\n",
    "grid = GridSearchCV(DecisionTreeClassifier(random_state=42), param_grid, cv=3, scoring='f1', verbose =3)\n",
    "grid.fit(X2_undersampled, y_undersampled)\n"
   ],
   "metadata": {
    "collapsed": false
   }
  },
  {
   "cell_type": "code",
   "execution_count": null,
   "outputs": [],
   "source": [
    "grid.best_params_"
   ],
   "metadata": {
    "collapsed": false
   }
  },
  {
   "cell_type": "code",
   "execution_count": null,
   "outputs": [],
   "source": [
    "# new grid\n",
    "param_grid = {'max_depth': [4,5,6,7,8],\n",
    "              'min_samples_split': [6,7,8,9,10],\n",
    "              'criterion': ['gini']\n",
    "}\n",
    "best_param_dt_under, best_tree_under, result_dt_under = grid_search_kfold_cv(model_class=DecisionTreeClassifier, param_grid=param_grid, X_train=X2_undersampled, y_train=y_undersampled, X_test=X2_test, y_test=y_test,  cv=3, metric='f1', eval=True)"
   ],
   "metadata": {
    "collapsed": false
   }
  },
  {
   "cell_type": "markdown",
   "source": [
    "##### Oversampling"
   ],
   "metadata": {
    "collapsed": false
   }
  },
  {
   "cell_type": "code",
   "execution_count": null,
   "outputs": [],
   "source": [
    "from imblearn.over_sampling import RandomOverSampler\n",
    "ros = RandomOverSampler(random_state=42)\n",
    "X2_oversampled, y_oversampled = ros.fit_resample(X2_train, y_train)\n",
    "y_oversampled.value_counts()"
   ],
   "metadata": {
    "collapsed": false
   }
  },
  {
   "cell_type": "code",
   "execution_count": null,
   "outputs": [],
   "source": [
    "\n",
    "param_grid = {'max_depth': [4, 8, 16],\n",
    "              'min_samples_split': [2,4, 8, 16],\n",
    "              'criterion': ['gini', 'entropy']\n",
    "}\n",
    "best_param_dt_over, best_tree_over, result_dt_over = grid_search_kfold_cv(model_class=DecisionTreeClassifier, param_grid=param_grid, X_train=X2_oversampled, y_train=y_oversampled, X_test=X2_test, y_test=y_test,  cv=3, metric='f1', eval=True)"
   ],
   "metadata": {
    "collapsed": false
   }
  },
  {
   "cell_type": "code",
   "execution_count": null,
   "outputs": [],
   "source": [
    "grid.best_params_"
   ],
   "metadata": {
    "collapsed": false
   }
  },
  {
   "cell_type": "code",
   "execution_count": null,
   "outputs": [],
   "source": [
    "tree_oversampled = DecisionTreeClassifier(random_state=42, max_depth=16, min_samples_split=6,  criterion='gini')\n",
    "tree_oversampled.fit(X2_oversampled, y_oversampled)"
   ],
   "metadata": {
    "collapsed": false
   }
  },
  {
   "cell_type": "code",
   "execution_count": null,
   "outputs": [],
   "source": [
    "y_pred = tree_oversampled.predict(X2_test)\n",
    "y_pred_train = tree_oversampled.predict(X2_oversampled)\n",
    "print('Accuracy on training set: ', accuracy_score(y_oversampled, y_pred_train))\n",
    "print('confusion_matrix on training set: \\n', confusion_matrix(y_oversampled, y_pred_train))\n",
    "print('Accuracy on validation set: ', accuracy_score(y_test, y_pred))\n",
    "print('Confusion matrix: \\n', confusion_matrix(y_test, y_pred))\n",
    "print('Classification report: \\n', classification_report(y_test, y_pred))"
   ],
   "metadata": {
    "collapsed": false
   }
  },
  {
   "cell_type": "markdown",
   "source": [
    "##### SMOTE"
   ],
   "metadata": {
    "collapsed": false
   }
  },
  {
   "cell_type": "markdown",
   "source": [
    "### 3.2.3 KNN"
   ],
   "metadata": {
    "collapsed": false
   }
  },
  {
   "cell_type": "code",
   "execution_count": null,
   "outputs": [],
   "source": [
    "from sklearn.neighbors import KNeighborsClassifier\n",
    "from sklearn.model_selection import train_test_split\n",
    "from sklearn.metrics import accuracy_score, precision_score, recall_score, f1_score, confusion_matrix, classification_report\n",
    "from sklearn.metrics import confusion_matrix\n",
    "from sklearn.metrics import classification_report"
   ],
   "metadata": {
    "collapsed": false
   }
  },
  {
   "cell_type": "code",
   "execution_count": null,
   "outputs": [],
   "source": [
    "# train model\n",
    "accuracy_scores = []\n",
    "f1_scores =[]\n",
    "for i in tqdm(range(1, 10)):\n",
    "    knn = KNeighborsClassifier(n_neighbors=i)\n",
    "    knn.fit(X2_train, y_train)\n",
    "    y_pred = knn.predict(X2_test)\n",
    "    accuracy_scores.append(accuracy_score(y_test, y_pred))\n",
    "    f1_scores.append(f1_score(y_test, y_pred))"
   ],
   "metadata": {
    "collapsed": false
   }
  },
  {
   "cell_type": "code",
   "execution_count": null,
   "outputs": [],
   "source": [
    "plt.plot(range(1, 10), accuracy_scores)\n",
    "plt.plot(range(1, 10), f1_scores)\n",
    "plt.xlabel('k')\n",
    "plt.legend(['accuracy' ,'f1'])\n",
    "plt.title('accuracy and f1-score for different k values')\n",
    "\n"
   ],
   "metadata": {
    "collapsed": false
   }
  },
  {
   "cell_type": "code",
   "execution_count": null,
   "outputs": [],
   "source": [
    "# train again with best k\n",
    "knn = KNeighborsClassifier(n_neighbors=5)\n",
    "knn.fit(X2_train, y_train)\n",
    "y_pred = knn.predict(X2_test)\n",
    "y_pred_train = knn.predict(X2_train)\n",
    "print('Accuracy on training set: ', accuracy_score(y_pred_train, y_train))\n",
    "print('Confusion matrix on training set: ', confusion_matrix(y_pred_train, y_train))\n",
    "print('Accuracy on test set: ', accuracy_score(y_test, y_pred))\n",
    "print('Confusion matrix: \\n', confusion_matrix(y_test, y_pred))\n",
    "print('Classification report: \\n', classification_report(y_test, y_pred))"
   ],
   "metadata": {
    "collapsed": false
   }
  },
  {
   "cell_type": "markdown",
   "source": [
    "### 3.2.1 Logistic regression"
   ],
   "metadata": {
    "collapsed": false
   }
  },
  {
   "cell_type": "code",
   "execution_count": null,
   "metadata": {},
   "outputs": [],
   "source": [
    "from sklearn.preprocessing import StandardScaler\n",
    "from sklearn.linear_model import LogisticRegression\n",
    "scaler = StandardScaler()\n",
    "X2_train_scaled = scaler.fit_transform(X2_train)\n",
    "X2_test_scaled = scaler.fit_transform(X2_test)\n",
    "logreg = LogisticRegression()\n",
    "logreg_model = logreg.fit(X2_train_scaled, y_train)\n",
    "y_pred = logreg.predict(X2_test_scaled)\n",
    "y_pred_train = logreg.predict(X2_train_scaled)\n",
    "print('Accuracy on training set: ', accuracy_score(y_train, y_pred_train))\n",
    "print('confusion_matrix on training set: \\n', confusion_matrix(y_train, y_pred_train))\n",
    "print('Accuracy on validation set: ', accuracy_score(y_test, y_pred))\n",
    "print('Confusion matrix: \\n', confusion_matrix(y_test, y_pred))\n",
    "print('Classification report: \\n', classification_report(y_test, y_pred))"
   ]
  },
  {
   "cell_type": "code",
   "execution_count": null,
   "outputs": [],
   "source": [
    "# weights of model\n",
    "for i in zip(X2.columns, logreg_model.coef_[0]):\n",
    "    print(i)"
   ],
   "metadata": {
    "collapsed": false
   }
  },
  {
   "cell_type": "code",
   "execution_count": null,
   "outputs": [],
   "source": [
    "# correlation n_killed and n_injured\n",
    "df_orig['isKilled'] = df_incidents_prepared['isKilled']\n",
    "df_orig['isInjured'] = df_orig['n_injured'] > 0\n",
    "df_orig['isKilled'].corr(df_orig['isInjured'])"
   ],
   "metadata": {
    "collapsed": false
   }
  },
  {
   "cell_type": "markdown",
   "source": [
    "### 3.2.4 Random Forest"
   ],
   "metadata": {
    "collapsed": false
   }
  },
  {
   "cell_type": "code",
   "execution_count": null,
   "metadata": {},
   "outputs": [],
   "source": [
    "from sklearn.ensemble import RandomForestClassifier\n"
   ]
  },
  {
   "cell_type": "code",
   "execution_count": null,
   "outputs": [],
   "source": [
    "# grid search for random forest\n",
    "from sklearn.model_selection import GridSearchCV\n",
    "\n",
    "param_grid = {'max_depth': [20,30,40],\n",
    "              'min_samples_split': [ 2, 4, 8],\n",
    "              'criterion': ['gini', 'entropy'],\n",
    "              'n_estimators': [ 20, 30, 50]\n",
    "}\n",
    "\n",
    "best_params_rf2 = grid_search_kfold_cv(model_class=RandomForestClassifier, param_grid=param_grid,\n",
    "                                       X_train=X2_train, y_train=y_train, X_test=X2_test, y_test=y_test,  cv=3,metric='f1', eval=False, verbose=2)"
   ],
   "metadata": {
    "collapsed": false
   }
  },
  {
   "cell_type": "code",
   "execution_count": null,
   "outputs": [],
   "source": [
    "best_params_rf2"
   ],
   "metadata": {
    "collapsed": false
   }
  },
  {
   "cell_type": "code",
   "execution_count": null,
   "outputs": [],
   "source": [
    "# train model with best parameters\n",
    "rf = RandomForestClassifier(max_depth=40, min_samples_split=2, criterion='gini', n_estimators=50)\n",
    "rf.fit(X2_train, y_train)\n",
    "y_pred = rf.predict(X2_test)\n",
    "y_pred_train = rf.predict(X2_train)\n",
    "print('Accuracy on training set: ', accuracy_score(y_train, y_pred_train))\n",
    "print('confusion_matrix on training set: \\n', confusion_matrix(y_train, y_pred_train))\n",
    "print('Accuracy on validation set: ', accuracy_score(y_test, y_pred))\n",
    "print('Confusion matrix: \\n', confusion_matrix(y_test, y_pred))\n",
    "print('Classification report: \\n', classification_report(y_test, y_pred))\n"
   ],
   "metadata": {
    "collapsed": false
   }
  },
  {
   "cell_type": "code",
   "execution_count": null,
   "outputs": [],
   "source": [
    "#new gs around best parameters max_depth =16, min_samples_split=2, criterion='gini', n_estimators=50\n",
    "param_grid_rf2 = {'max_depth': [16, 18, 20],\n",
    "              'min_samples_split': [ 2, 3, 4],\n",
    "              'criterion': ['gini'],\n",
    "              'n_estimators': [ 50, 60, 70]\n",
    "}\n",
    "best_params_rf2, best_rf2, result_rf2 = grid_search_kfold_cv(model_class=RandomForestClassifier,\n",
    "                                                             param_grid=param_grid_rf2,X_train=X2_train, y_train=y_train, X_test=X2_test, y_test=y_test,  cv=3, metric='f1', eval=True)"
   ],
   "metadata": {
    "collapsed": false
   }
  },
  {
   "cell_type": "markdown",
   "source": [
    "## 3.3 Classification using n_injured and n_participants"
   ],
   "metadata": {
    "collapsed": false
   }
  },
  {
   "cell_type": "code",
   "execution_count": 95,
   "outputs": [],
   "source": [
    "X3=df_incidents_prepared.drop('isKilled', axis=1)"
   ],
   "metadata": {
    "collapsed": false
   }
  },
  {
   "cell_type": "code",
   "execution_count": 96,
   "outputs": [],
   "source": [
    "X3.drop(['n_unharmed', 'n_arrested'], axis=1, inplace=True)"
   ],
   "metadata": {
    "collapsed": false
   }
  },
  {
   "cell_type": "code",
   "execution_count": 97,
   "outputs": [
    {
     "data": {
      "text/plain": "   latitude  longitude    year age_group  povertyPercentage  population  \\\n0   39.8322   -86.2492  2015.0   [18-24]               12.3     6608422   \n1   39.7745   -86.1166  2015.0   [25-34]               12.3     6608422   \n2   39.7759   -86.2940  2015.0   [35-44]               12.3     6608422   \n3   39.8040   -86.0095  2015.0   [18-24]               12.3     6608422   \n4   39.7882   -86.2091  2015.0   [45-54]               12.3     6608422   \n\n      party  candidatevotes  right_or_left  voters_over_population  \\\n0  DEMOCRAT         61443.0       0.452677                0.203046   \n1  DEMOCRAT         61443.0       0.452677                0.203046   \n2  DEMOCRAT         61443.0       0.452677                0.203046   \n3  DEMOCRAT         61443.0       0.452677                0.203046   \n4  DEMOCRAT         61443.0       0.452677                0.203046   \n\n   n_participants  n_participants_teen  n_participants_child  n_females  \\\n0             1.0                  0.0                   0.0        0.0   \n1             2.0                  0.0                   0.0        0.0   \n2             2.0                  0.0                   0.0        0.0   \n3             1.0                  0.0                   0.0        0.0   \n4             1.0                  0.0                   0.0        0.0   \n\n   n_males  n_injured  \n0      1.0          1  \n1      2.0          0  \n2      2.0          0  \n3      1.0          0  \n4      1.0          1  ",
      "text/html": "<div>\n<style scoped>\n    .dataframe tbody tr th:only-of-type {\n        vertical-align: middle;\n    }\n\n    .dataframe tbody tr th {\n        vertical-align: top;\n    }\n\n    .dataframe thead th {\n        text-align: right;\n    }\n</style>\n<table border=\"1\" class=\"dataframe\">\n  <thead>\n    <tr style=\"text-align: right;\">\n      <th></th>\n      <th>latitude</th>\n      <th>longitude</th>\n      <th>year</th>\n      <th>age_group</th>\n      <th>povertyPercentage</th>\n      <th>population</th>\n      <th>party</th>\n      <th>candidatevotes</th>\n      <th>right_or_left</th>\n      <th>voters_over_population</th>\n      <th>n_participants</th>\n      <th>n_participants_teen</th>\n      <th>n_participants_child</th>\n      <th>n_females</th>\n      <th>n_males</th>\n      <th>n_injured</th>\n    </tr>\n  </thead>\n  <tbody>\n    <tr>\n      <th>0</th>\n      <td>39.8322</td>\n      <td>-86.2492</td>\n      <td>2015.0</td>\n      <td>[18-24]</td>\n      <td>12.3</td>\n      <td>6608422</td>\n      <td>DEMOCRAT</td>\n      <td>61443.0</td>\n      <td>0.452677</td>\n      <td>0.203046</td>\n      <td>1.0</td>\n      <td>0.0</td>\n      <td>0.0</td>\n      <td>0.0</td>\n      <td>1.0</td>\n      <td>1</td>\n    </tr>\n    <tr>\n      <th>1</th>\n      <td>39.7745</td>\n      <td>-86.1166</td>\n      <td>2015.0</td>\n      <td>[25-34]</td>\n      <td>12.3</td>\n      <td>6608422</td>\n      <td>DEMOCRAT</td>\n      <td>61443.0</td>\n      <td>0.452677</td>\n      <td>0.203046</td>\n      <td>2.0</td>\n      <td>0.0</td>\n      <td>0.0</td>\n      <td>0.0</td>\n      <td>2.0</td>\n      <td>0</td>\n    </tr>\n    <tr>\n      <th>2</th>\n      <td>39.7759</td>\n      <td>-86.2940</td>\n      <td>2015.0</td>\n      <td>[35-44]</td>\n      <td>12.3</td>\n      <td>6608422</td>\n      <td>DEMOCRAT</td>\n      <td>61443.0</td>\n      <td>0.452677</td>\n      <td>0.203046</td>\n      <td>2.0</td>\n      <td>0.0</td>\n      <td>0.0</td>\n      <td>0.0</td>\n      <td>2.0</td>\n      <td>0</td>\n    </tr>\n    <tr>\n      <th>3</th>\n      <td>39.8040</td>\n      <td>-86.0095</td>\n      <td>2015.0</td>\n      <td>[18-24]</td>\n      <td>12.3</td>\n      <td>6608422</td>\n      <td>DEMOCRAT</td>\n      <td>61443.0</td>\n      <td>0.452677</td>\n      <td>0.203046</td>\n      <td>1.0</td>\n      <td>0.0</td>\n      <td>0.0</td>\n      <td>0.0</td>\n      <td>1.0</td>\n      <td>0</td>\n    </tr>\n    <tr>\n      <th>4</th>\n      <td>39.7882</td>\n      <td>-86.2091</td>\n      <td>2015.0</td>\n      <td>[45-54]</td>\n      <td>12.3</td>\n      <td>6608422</td>\n      <td>DEMOCRAT</td>\n      <td>61443.0</td>\n      <td>0.452677</td>\n      <td>0.203046</td>\n      <td>1.0</td>\n      <td>0.0</td>\n      <td>0.0</td>\n      <td>0.0</td>\n      <td>1.0</td>\n      <td>1</td>\n    </tr>\n  </tbody>\n</table>\n</div>"
     },
     "execution_count": 97,
     "metadata": {},
     "output_type": "execute_result"
    }
   ],
   "source": [
    "X3.head()"
   ],
   "metadata": {
    "collapsed": false
   }
  },
  {
   "cell_type": "code",
   "execution_count": 98,
   "outputs": [],
   "source": [
    "# one hot encoding\n",
    "X3=pd.get_dummies(X3)"
   ],
   "metadata": {
    "collapsed": false
   }
  },
  {
   "cell_type": "code",
   "execution_count": 99,
   "outputs": [],
   "source": [
    "X3_train, X3_test, y_train, y_test = train_test_split(X3, y, test_size=0.2, random_state=42)"
   ],
   "metadata": {
    "collapsed": false
   }
  },
  {
   "cell_type": "markdown",
   "source": [
    "### Decision Tree"
   ],
   "metadata": {
    "collapsed": false
   }
  },
  {
   "cell_type": "code",
   "execution_count": 100,
   "outputs": [
    {
     "name": "stdout",
     "output_type": "stream",
     "text": [
      "Fitting 3 folds for each of 24 candidates, totalling 72 fits\n",
      "[CV 1/3] END criterion=gini, max_depth=4, min_samples_split=2;, score=0.537 total time=   0.3s\n",
      "[CV 2/3] END criterion=gini, max_depth=4, min_samples_split=2;, score=0.571 total time=   0.3s\n",
      "[CV 3/3] END criterion=gini, max_depth=4, min_samples_split=2;, score=0.560 total time=   0.3s\n",
      "[CV 1/3] END criterion=gini, max_depth=4, min_samples_split=4;, score=0.537 total time=   0.3s\n",
      "[CV 2/3] END criterion=gini, max_depth=4, min_samples_split=4;, score=0.571 total time=   0.3s\n",
      "[CV 3/3] END criterion=gini, max_depth=4, min_samples_split=4;, score=0.560 total time=   0.3s\n",
      "[CV 1/3] END criterion=gini, max_depth=4, min_samples_split=8;, score=0.537 total time=   0.3s\n",
      "[CV 2/3] END criterion=gini, max_depth=4, min_samples_split=8;, score=0.571 total time=   0.2s\n",
      "[CV 3/3] END criterion=gini, max_depth=4, min_samples_split=8;, score=0.560 total time=   0.3s\n",
      "[CV 1/3] END criterion=gini, max_depth=4, min_samples_split=16;, score=0.537 total time=   0.3s\n",
      "[CV 2/3] END criterion=gini, max_depth=4, min_samples_split=16;, score=0.571 total time=   0.3s\n",
      "[CV 3/3] END criterion=gini, max_depth=4, min_samples_split=16;, score=0.560 total time=   0.3s\n",
      "[CV 1/3] END criterion=gini, max_depth=8, min_samples_split=2;, score=0.546 total time=   0.6s\n",
      "[CV 2/3] END criterion=gini, max_depth=8, min_samples_split=2;, score=0.548 total time=   1.3s\n",
      "[CV 3/3] END criterion=gini, max_depth=8, min_samples_split=2;, score=0.542 total time=   0.5s\n",
      "[CV 1/3] END criterion=gini, max_depth=8, min_samples_split=4;, score=0.546 total time=   0.4s\n",
      "[CV 2/3] END criterion=gini, max_depth=8, min_samples_split=4;, score=0.548 total time=   0.4s\n",
      "[CV 3/3] END criterion=gini, max_depth=8, min_samples_split=4;, score=0.542 total time=   0.4s\n",
      "[CV 1/3] END criterion=gini, max_depth=8, min_samples_split=8;, score=0.546 total time=   0.4s\n",
      "[CV 2/3] END criterion=gini, max_depth=8, min_samples_split=8;, score=0.548 total time=   0.5s\n",
      "[CV 3/3] END criterion=gini, max_depth=8, min_samples_split=8;, score=0.542 total time=   0.4s\n",
      "[CV 1/3] END criterion=gini, max_depth=8, min_samples_split=16;, score=0.546 total time=   0.4s\n",
      "[CV 2/3] END criterion=gini, max_depth=8, min_samples_split=16;, score=0.548 total time=   0.4s\n",
      "[CV 3/3] END criterion=gini, max_depth=8, min_samples_split=16;, score=0.543 total time=   0.5s\n",
      "[CV 1/3] END criterion=gini, max_depth=16, min_samples_split=2;, score=0.572 total time=   0.6s\n",
      "[CV 2/3] END criterion=gini, max_depth=16, min_samples_split=2;, score=0.570 total time=   0.6s\n",
      "[CV 3/3] END criterion=gini, max_depth=16, min_samples_split=2;, score=0.548 total time=   0.6s\n",
      "[CV 1/3] END criterion=gini, max_depth=16, min_samples_split=4;, score=0.571 total time=   0.6s\n",
      "[CV 2/3] END criterion=gini, max_depth=16, min_samples_split=4;, score=0.570 total time=   0.6s\n",
      "[CV 3/3] END criterion=gini, max_depth=16, min_samples_split=4;, score=0.548 total time=   0.6s\n",
      "[CV 1/3] END criterion=gini, max_depth=16, min_samples_split=8;, score=0.570 total time=   0.6s\n",
      "[CV 2/3] END criterion=gini, max_depth=16, min_samples_split=8;, score=0.569 total time=   0.6s\n",
      "[CV 3/3] END criterion=gini, max_depth=16, min_samples_split=8;, score=0.548 total time=   0.6s\n",
      "[CV 1/3] END criterion=gini, max_depth=16, min_samples_split=16;, score=0.572 total time=   0.6s\n",
      "[CV 2/3] END criterion=gini, max_depth=16, min_samples_split=16;, score=0.574 total time=   0.6s\n",
      "[CV 3/3] END criterion=gini, max_depth=16, min_samples_split=16;, score=0.549 total time=   0.6s\n",
      "[CV 1/3] END criterion=entropy, max_depth=4, min_samples_split=2;, score=0.557 total time=   0.2s\n",
      "[CV 2/3] END criterion=entropy, max_depth=4, min_samples_split=2;, score=0.369 total time=   0.2s\n",
      "[CV 3/3] END criterion=entropy, max_depth=4, min_samples_split=2;, score=0.364 total time=   0.2s\n",
      "[CV 1/3] END criterion=entropy, max_depth=4, min_samples_split=4;, score=0.557 total time=   0.2s\n",
      "[CV 2/3] END criterion=entropy, max_depth=4, min_samples_split=4;, score=0.369 total time=   0.2s\n",
      "[CV 3/3] END criterion=entropy, max_depth=4, min_samples_split=4;, score=0.364 total time=   0.2s\n",
      "[CV 1/3] END criterion=entropy, max_depth=4, min_samples_split=8;, score=0.557 total time=   0.2s\n",
      "[CV 2/3] END criterion=entropy, max_depth=4, min_samples_split=8;, score=0.369 total time=   0.2s\n",
      "[CV 3/3] END criterion=entropy, max_depth=4, min_samples_split=8;, score=0.364 total time=   0.2s\n",
      "[CV 1/3] END criterion=entropy, max_depth=4, min_samples_split=16;, score=0.557 total time=   0.2s\n",
      "[CV 2/3] END criterion=entropy, max_depth=4, min_samples_split=16;, score=0.369 total time=   0.3s\n",
      "[CV 3/3] END criterion=entropy, max_depth=4, min_samples_split=16;, score=0.364 total time=   0.2s\n",
      "[CV 1/3] END criterion=entropy, max_depth=8, min_samples_split=2;, score=0.551 total time=   0.6s\n",
      "[CV 2/3] END criterion=entropy, max_depth=8, min_samples_split=2;, score=0.561 total time=   0.5s\n",
      "[CV 3/3] END criterion=entropy, max_depth=8, min_samples_split=2;, score=0.550 total time=   0.4s\n",
      "[CV 1/3] END criterion=entropy, max_depth=8, min_samples_split=4;, score=0.551 total time=   0.4s\n",
      "[CV 2/3] END criterion=entropy, max_depth=8, min_samples_split=4;, score=0.561 total time=   0.4s\n",
      "[CV 3/3] END criterion=entropy, max_depth=8, min_samples_split=4;, score=0.550 total time=   0.4s\n",
      "[CV 1/3] END criterion=entropy, max_depth=8, min_samples_split=8;, score=0.551 total time=   0.4s\n",
      "[CV 2/3] END criterion=entropy, max_depth=8, min_samples_split=8;, score=0.561 total time=   0.4s\n",
      "[CV 3/3] END criterion=entropy, max_depth=8, min_samples_split=8;, score=0.550 total time=   0.4s\n",
      "[CV 1/3] END criterion=entropy, max_depth=8, min_samples_split=16;, score=0.551 total time=   0.4s\n",
      "[CV 2/3] END criterion=entropy, max_depth=8, min_samples_split=16;, score=0.561 total time=   0.4s\n",
      "[CV 3/3] END criterion=entropy, max_depth=8, min_samples_split=16;, score=0.550 total time=   0.5s\n",
      "[CV 1/3] END criterion=entropy, max_depth=16, min_samples_split=2;, score=0.557 total time=   0.8s\n",
      "[CV 2/3] END criterion=entropy, max_depth=16, min_samples_split=2;, score=0.554 total time=   0.8s\n",
      "[CV 3/3] END criterion=entropy, max_depth=16, min_samples_split=2;, score=0.563 total time=   0.8s\n",
      "[CV 1/3] END criterion=entropy, max_depth=16, min_samples_split=4;, score=0.558 total time=   0.8s\n",
      "[CV 2/3] END criterion=entropy, max_depth=16, min_samples_split=4;, score=0.554 total time=   0.8s\n",
      "[CV 3/3] END criterion=entropy, max_depth=16, min_samples_split=4;, score=0.563 total time=   0.8s\n",
      "[CV 1/3] END criterion=entropy, max_depth=16, min_samples_split=8;, score=0.559 total time=   0.8s\n",
      "[CV 2/3] END criterion=entropy, max_depth=16, min_samples_split=8;, score=0.554 total time=   0.8s\n",
      "[CV 3/3] END criterion=entropy, max_depth=16, min_samples_split=8;, score=0.564 total time=   0.8s\n",
      "[CV 1/3] END criterion=entropy, max_depth=16, min_samples_split=16;, score=0.559 total time=   0.8s\n",
      "[CV 2/3] END criterion=entropy, max_depth=16, min_samples_split=16;, score=0.556 total time=   0.8s\n",
      "[CV 3/3] END criterion=entropy, max_depth=16, min_samples_split=16;, score=0.564 total time=   0.8s\n",
      "Accuracy on training set:  0.8419761683689261\n",
      "confusion_matrix on training set: \n",
      " [[85018  7764]\n",
      " [12659 23799]]\n",
      "Accuracy on validation set:  0.7768183225007738\n",
      "Confusion matrix: \n",
      " [[20333  3016]\n",
      " [ 4195  4766]]\n",
      "Classification report: \n",
      "               precision    recall  f1-score   support\n",
      "\n",
      "       False       0.83      0.87      0.85     23349\n",
      "        True       0.61      0.53      0.57      8961\n",
      "\n",
      "    accuracy                           0.78     32310\n",
      "   macro avg       0.72      0.70      0.71     32310\n",
      "weighted avg       0.77      0.78      0.77     32310\n",
      "\n"
     ]
    }
   ],
   "source": [
    "# grid search\n",
    "from sklearn.model_selection import GridSearchCV\n",
    "param_grid = {'max_depth': [4, 8, 16],\n",
    "              'min_samples_split': [2,4, 8, 16],\n",
    "              'criterion': ['gini', 'entropy']\n",
    "}\n",
    "\n",
    "best_params_dt3, best_tree3, result_dt3 = grid_search_kfold_cv(model_class=DecisionTreeClassifier, param_grid=param_grid, X_train=X3_train, y_train=y_train, X_test=X3_test, y_test=y_test,  cv=3, metric='f1', eval=True)"
   ],
   "metadata": {
    "collapsed": false
   }
  },
  {
   "cell_type": "markdown",
   "source": [
    "### Random Forest"
   ],
   "metadata": {
    "collapsed": false
   }
  },
  {
   "cell_type": "code",
   "execution_count": 101,
   "outputs": [
    {
     "name": "stdout",
     "output_type": "stream",
     "text": [
      "Fitting 3 folds for each of 54 candidates, totalling 162 fits\n",
      "[CV 1/3] END criterion=gini, max_depth=4, min_samples_split=2, n_estimators=20;, score=0.023 total time=   0.9s\n",
      "[CV 2/3] END criterion=gini, max_depth=4, min_samples_split=2, n_estimators=20;, score=0.020 total time=   0.9s\n",
      "[CV 3/3] END criterion=gini, max_depth=4, min_samples_split=2, n_estimators=20;, score=0.035 total time=   0.9s\n",
      "[CV 1/3] END criterion=gini, max_depth=4, min_samples_split=2, n_estimators=30;, score=0.037 total time=   1.3s\n",
      "[CV 2/3] END criterion=gini, max_depth=4, min_samples_split=2, n_estimators=30;, score=0.037 total time=   1.4s\n",
      "[CV 3/3] END criterion=gini, max_depth=4, min_samples_split=2, n_estimators=30;, score=0.040 total time=   1.3s\n",
      "[CV 1/3] END criterion=gini, max_depth=4, min_samples_split=2, n_estimators=50;, score=0.053 total time=   2.2s\n",
      "[CV 2/3] END criterion=gini, max_depth=4, min_samples_split=2, n_estimators=50;, score=0.038 total time=   2.3s\n",
      "[CV 3/3] END criterion=gini, max_depth=4, min_samples_split=2, n_estimators=50;, score=0.045 total time=   2.2s\n",
      "[CV 1/3] END criterion=gini, max_depth=4, min_samples_split=4, n_estimators=20;, score=0.023 total time=   0.9s\n",
      "[CV 2/3] END criterion=gini, max_depth=4, min_samples_split=4, n_estimators=20;, score=0.020 total time=   0.9s\n",
      "[CV 3/3] END criterion=gini, max_depth=4, min_samples_split=4, n_estimators=20;, score=0.035 total time=   1.1s\n",
      "[CV 1/3] END criterion=gini, max_depth=4, min_samples_split=4, n_estimators=30;, score=0.037 total time=   1.6s\n",
      "[CV 2/3] END criterion=gini, max_depth=4, min_samples_split=4, n_estimators=30;, score=0.037 total time=   1.5s\n",
      "[CV 3/3] END criterion=gini, max_depth=4, min_samples_split=4, n_estimators=30;, score=0.040 total time=   1.4s\n",
      "[CV 1/3] END criterion=gini, max_depth=4, min_samples_split=4, n_estimators=50;, score=0.053 total time=   2.4s\n",
      "[CV 2/3] END criterion=gini, max_depth=4, min_samples_split=4, n_estimators=50;, score=0.038 total time=   2.4s\n",
      "[CV 3/3] END criterion=gini, max_depth=4, min_samples_split=4, n_estimators=50;, score=0.045 total time=   2.7s\n",
      "[CV 1/3] END criterion=gini, max_depth=4, min_samples_split=8, n_estimators=20;, score=0.023 total time=   0.9s\n",
      "[CV 2/3] END criterion=gini, max_depth=4, min_samples_split=8, n_estimators=20;, score=0.020 total time=   1.0s\n",
      "[CV 3/3] END criterion=gini, max_depth=4, min_samples_split=8, n_estimators=20;, score=0.035 total time=   1.0s\n",
      "[CV 1/3] END criterion=gini, max_depth=4, min_samples_split=8, n_estimators=30;, score=0.037 total time=   1.4s\n",
      "[CV 2/3] END criterion=gini, max_depth=4, min_samples_split=8, n_estimators=30;, score=0.037 total time=   1.5s\n",
      "[CV 3/3] END criterion=gini, max_depth=4, min_samples_split=8, n_estimators=30;, score=0.040 total time=   1.5s\n",
      "[CV 1/3] END criterion=gini, max_depth=4, min_samples_split=8, n_estimators=50;, score=0.053 total time=   2.6s\n",
      "[CV 2/3] END criterion=gini, max_depth=4, min_samples_split=8, n_estimators=50;, score=0.038 total time=   2.6s\n",
      "[CV 3/3] END criterion=gini, max_depth=4, min_samples_split=8, n_estimators=50;, score=0.045 total time=   2.5s\n",
      "[CV 1/3] END criterion=gini, max_depth=8, min_samples_split=2, n_estimators=20;, score=0.494 total time=   1.7s\n",
      "[CV 2/3] END criterion=gini, max_depth=8, min_samples_split=2, n_estimators=20;, score=0.512 total time=   1.7s\n",
      "[CV 3/3] END criterion=gini, max_depth=8, min_samples_split=2, n_estimators=20;, score=0.425 total time=   1.7s\n",
      "[CV 1/3] END criterion=gini, max_depth=8, min_samples_split=2, n_estimators=30;, score=0.495 total time=   2.7s\n",
      "[CV 2/3] END criterion=gini, max_depth=8, min_samples_split=2, n_estimators=30;, score=0.516 total time=   2.7s\n",
      "[CV 3/3] END criterion=gini, max_depth=8, min_samples_split=2, n_estimators=30;, score=0.463 total time=   2.9s\n",
      "[CV 1/3] END criterion=gini, max_depth=8, min_samples_split=2, n_estimators=50;, score=0.495 total time=   4.4s\n",
      "[CV 2/3] END criterion=gini, max_depth=8, min_samples_split=2, n_estimators=50;, score=0.506 total time=   4.0s\n",
      "[CV 3/3] END criterion=gini, max_depth=8, min_samples_split=2, n_estimators=50;, score=0.489 total time=   4.0s\n",
      "[CV 1/3] END criterion=gini, max_depth=8, min_samples_split=4, n_estimators=20;, score=0.458 total time=   1.5s\n",
      "[CV 2/3] END criterion=gini, max_depth=8, min_samples_split=4, n_estimators=20;, score=0.478 total time=   1.6s\n",
      "[CV 3/3] END criterion=gini, max_depth=8, min_samples_split=4, n_estimators=20;, score=0.462 total time=   1.9s\n",
      "[CV 1/3] END criterion=gini, max_depth=8, min_samples_split=4, n_estimators=30;, score=0.477 total time=   2.5s\n",
      "[CV 2/3] END criterion=gini, max_depth=8, min_samples_split=4, n_estimators=30;, score=0.508 total time=   2.4s\n",
      "[CV 3/3] END criterion=gini, max_depth=8, min_samples_split=4, n_estimators=30;, score=0.491 total time=   2.7s\n",
      "[CV 1/3] END criterion=gini, max_depth=8, min_samples_split=4, n_estimators=50;, score=0.483 total time=   4.6s\n",
      "[CV 2/3] END criterion=gini, max_depth=8, min_samples_split=4, n_estimators=50;, score=0.512 total time=   4.3s\n",
      "[CV 3/3] END criterion=gini, max_depth=8, min_samples_split=4, n_estimators=50;, score=0.496 total time=   4.0s\n",
      "[CV 1/3] END criterion=gini, max_depth=8, min_samples_split=8, n_estimators=20;, score=0.457 total time=   1.6s\n",
      "[CV 2/3] END criterion=gini, max_depth=8, min_samples_split=8, n_estimators=20;, score=0.453 total time=   1.6s\n",
      "[CV 3/3] END criterion=gini, max_depth=8, min_samples_split=8, n_estimators=20;, score=0.481 total time=   1.6s\n",
      "[CV 1/3] END criterion=gini, max_depth=8, min_samples_split=8, n_estimators=30;, score=0.475 total time=   2.4s\n",
      "[CV 2/3] END criterion=gini, max_depth=8, min_samples_split=8, n_estimators=30;, score=0.472 total time=   2.4s\n",
      "[CV 3/3] END criterion=gini, max_depth=8, min_samples_split=8, n_estimators=30;, score=0.508 total time=   2.4s\n",
      "[CV 1/3] END criterion=gini, max_depth=8, min_samples_split=8, n_estimators=50;, score=0.490 total time=   4.0s\n",
      "[CV 2/3] END criterion=gini, max_depth=8, min_samples_split=8, n_estimators=50;, score=0.489 total time=   4.0s\n",
      "[CV 3/3] END criterion=gini, max_depth=8, min_samples_split=8, n_estimators=50;, score=0.511 total time=   3.9s\n",
      "[CV 1/3] END criterion=gini, max_depth=16, min_samples_split=2, n_estimators=20;, score=0.570 total time=   2.6s\n",
      "[CV 2/3] END criterion=gini, max_depth=16, min_samples_split=2, n_estimators=20;, score=0.580 total time=   2.7s\n",
      "[CV 3/3] END criterion=gini, max_depth=16, min_samples_split=2, n_estimators=20;, score=0.572 total time=   2.8s\n",
      "[CV 1/3] END criterion=gini, max_depth=16, min_samples_split=2, n_estimators=30;, score=0.575 total time=   4.2s\n",
      "[CV 2/3] END criterion=gini, max_depth=16, min_samples_split=2, n_estimators=30;, score=0.581 total time=   4.7s\n",
      "[CV 3/3] END criterion=gini, max_depth=16, min_samples_split=2, n_estimators=30;, score=0.575 total time=   3.9s\n",
      "[CV 1/3] END criterion=gini, max_depth=16, min_samples_split=2, n_estimators=50;, score=0.579 total time=   6.3s\n",
      "[CV 2/3] END criterion=gini, max_depth=16, min_samples_split=2, n_estimators=50;, score=0.586 total time=   6.8s\n",
      "[CV 3/3] END criterion=gini, max_depth=16, min_samples_split=2, n_estimators=50;, score=0.577 total time=   6.7s\n",
      "[CV 1/3] END criterion=gini, max_depth=16, min_samples_split=4, n_estimators=20;, score=0.573 total time=   2.5s\n",
      "[CV 2/3] END criterion=gini, max_depth=16, min_samples_split=4, n_estimators=20;, score=0.580 total time=   2.5s\n",
      "[CV 3/3] END criterion=gini, max_depth=16, min_samples_split=4, n_estimators=20;, score=0.574 total time=   2.5s\n",
      "[CV 1/3] END criterion=gini, max_depth=16, min_samples_split=4, n_estimators=30;, score=0.577 total time=   3.7s\n",
      "[CV 2/3] END criterion=gini, max_depth=16, min_samples_split=4, n_estimators=30;, score=0.582 total time=   3.7s\n",
      "[CV 3/3] END criterion=gini, max_depth=16, min_samples_split=4, n_estimators=30;, score=0.575 total time=   3.7s\n",
      "[CV 1/3] END criterion=gini, max_depth=16, min_samples_split=4, n_estimators=50;, score=0.580 total time=   6.2s\n",
      "[CV 2/3] END criterion=gini, max_depth=16, min_samples_split=4, n_estimators=50;, score=0.585 total time=   6.4s\n",
      "[CV 3/3] END criterion=gini, max_depth=16, min_samples_split=4, n_estimators=50;, score=0.576 total time=   6.8s\n",
      "[CV 1/3] END criterion=gini, max_depth=16, min_samples_split=8, n_estimators=20;, score=0.574 total time=   2.5s\n",
      "[CV 2/3] END criterion=gini, max_depth=16, min_samples_split=8, n_estimators=20;, score=0.578 total time=   2.5s\n",
      "[CV 3/3] END criterion=gini, max_depth=16, min_samples_split=8, n_estimators=20;, score=0.572 total time=   2.5s\n",
      "[CV 1/3] END criterion=gini, max_depth=16, min_samples_split=8, n_estimators=30;, score=0.579 total time=   3.8s\n",
      "[CV 2/3] END criterion=gini, max_depth=16, min_samples_split=8, n_estimators=30;, score=0.578 total time=   3.7s\n",
      "[CV 3/3] END criterion=gini, max_depth=16, min_samples_split=8, n_estimators=30;, score=0.576 total time=   3.7s\n",
      "[CV 1/3] END criterion=gini, max_depth=16, min_samples_split=8, n_estimators=50;, score=0.578 total time=   6.2s\n",
      "[CV 2/3] END criterion=gini, max_depth=16, min_samples_split=8, n_estimators=50;, score=0.583 total time=   6.3s\n",
      "[CV 3/3] END criterion=gini, max_depth=16, min_samples_split=8, n_estimators=50;, score=0.576 total time=   6.3s\n",
      "[CV 1/3] END criterion=entropy, max_depth=4, min_samples_split=2, n_estimators=20;, score=0.012 total time=   1.0s\n",
      "[CV 2/3] END criterion=entropy, max_depth=4, min_samples_split=2, n_estimators=20;, score=0.020 total time=   1.0s\n",
      "[CV 3/3] END criterion=entropy, max_depth=4, min_samples_split=2, n_estimators=20;, score=0.026 total time=   1.0s\n",
      "[CV 1/3] END criterion=entropy, max_depth=4, min_samples_split=2, n_estimators=30;, score=0.024 total time=   1.5s\n",
      "[CV 2/3] END criterion=entropy, max_depth=4, min_samples_split=2, n_estimators=30;, score=0.024 total time=   1.5s\n",
      "[CV 3/3] END criterion=entropy, max_depth=4, min_samples_split=2, n_estimators=30;, score=0.027 total time=   1.5s\n",
      "[CV 1/3] END criterion=entropy, max_depth=4, min_samples_split=2, n_estimators=50;, score=0.031 total time=   2.5s\n",
      "[CV 2/3] END criterion=entropy, max_depth=4, min_samples_split=2, n_estimators=50;, score=0.029 total time=   2.6s\n",
      "[CV 3/3] END criterion=entropy, max_depth=4, min_samples_split=2, n_estimators=50;, score=0.035 total time=   2.5s\n",
      "[CV 1/3] END criterion=entropy, max_depth=4, min_samples_split=4, n_estimators=20;, score=0.012 total time=   1.0s\n",
      "[CV 2/3] END criterion=entropy, max_depth=4, min_samples_split=4, n_estimators=20;, score=0.020 total time=   1.0s\n",
      "[CV 3/3] END criterion=entropy, max_depth=4, min_samples_split=4, n_estimators=20;, score=0.026 total time=   1.0s\n",
      "[CV 1/3] END criterion=entropy, max_depth=4, min_samples_split=4, n_estimators=30;, score=0.024 total time=   1.5s\n",
      "[CV 2/3] END criterion=entropy, max_depth=4, min_samples_split=4, n_estimators=30;, score=0.024 total time=   1.6s\n",
      "[CV 3/3] END criterion=entropy, max_depth=4, min_samples_split=4, n_estimators=30;, score=0.027 total time=   1.6s\n",
      "[CV 1/3] END criterion=entropy, max_depth=4, min_samples_split=4, n_estimators=50;, score=0.031 total time=   2.5s\n",
      "[CV 2/3] END criterion=entropy, max_depth=4, min_samples_split=4, n_estimators=50;, score=0.029 total time=   2.5s\n",
      "[CV 3/3] END criterion=entropy, max_depth=4, min_samples_split=4, n_estimators=50;, score=0.035 total time=   2.5s\n",
      "[CV 1/3] END criterion=entropy, max_depth=4, min_samples_split=8, n_estimators=20;, score=0.012 total time=   1.0s\n",
      "[CV 2/3] END criterion=entropy, max_depth=4, min_samples_split=8, n_estimators=20;, score=0.020 total time=   1.0s\n",
      "[CV 3/3] END criterion=entropy, max_depth=4, min_samples_split=8, n_estimators=20;, score=0.026 total time=   1.0s\n",
      "[CV 1/3] END criterion=entropy, max_depth=4, min_samples_split=8, n_estimators=30;, score=0.024 total time=   1.5s\n",
      "[CV 2/3] END criterion=entropy, max_depth=4, min_samples_split=8, n_estimators=30;, score=0.024 total time=   1.5s\n",
      "[CV 3/3] END criterion=entropy, max_depth=4, min_samples_split=8, n_estimators=30;, score=0.027 total time=   1.5s\n",
      "[CV 1/3] END criterion=entropy, max_depth=4, min_samples_split=8, n_estimators=50;, score=0.031 total time=   2.6s\n",
      "[CV 2/3] END criterion=entropy, max_depth=4, min_samples_split=8, n_estimators=50;, score=0.029 total time=   2.6s\n",
      "[CV 3/3] END criterion=entropy, max_depth=4, min_samples_split=8, n_estimators=50;, score=0.035 total time=   2.5s\n",
      "[CV 1/3] END criterion=entropy, max_depth=8, min_samples_split=2, n_estimators=20;, score=0.457 total time=   1.8s\n",
      "[CV 2/3] END criterion=entropy, max_depth=8, min_samples_split=2, n_estimators=20;, score=0.468 total time=   1.9s\n",
      "[CV 3/3] END criterion=entropy, max_depth=8, min_samples_split=2, n_estimators=20;, score=0.483 total time=   1.8s\n",
      "[CV 1/3] END criterion=entropy, max_depth=8, min_samples_split=2, n_estimators=30;, score=0.478 total time=   2.9s\n",
      "[CV 2/3] END criterion=entropy, max_depth=8, min_samples_split=2, n_estimators=30;, score=0.480 total time=   2.7s\n",
      "[CV 3/3] END criterion=entropy, max_depth=8, min_samples_split=2, n_estimators=30;, score=0.480 total time=   2.7s\n",
      "[CV 1/3] END criterion=entropy, max_depth=8, min_samples_split=2, n_estimators=50;, score=0.472 total time=   4.5s\n",
      "[CV 2/3] END criterion=entropy, max_depth=8, min_samples_split=2, n_estimators=50;, score=0.493 total time=   4.5s\n",
      "[CV 3/3] END criterion=entropy, max_depth=8, min_samples_split=2, n_estimators=50;, score=0.484 total time=   4.6s\n",
      "[CV 1/3] END criterion=entropy, max_depth=8, min_samples_split=4, n_estimators=20;, score=0.484 total time=   1.8s\n",
      "[CV 2/3] END criterion=entropy, max_depth=8, min_samples_split=4, n_estimators=20;, score=0.439 total time=   1.8s\n",
      "[CV 3/3] END criterion=entropy, max_depth=8, min_samples_split=4, n_estimators=20;, score=0.467 total time=   1.8s\n",
      "[CV 1/3] END criterion=entropy, max_depth=8, min_samples_split=4, n_estimators=30;, score=0.491 total time=   2.6s\n",
      "[CV 2/3] END criterion=entropy, max_depth=8, min_samples_split=4, n_estimators=30;, score=0.469 total time=   2.8s\n",
      "[CV 3/3] END criterion=entropy, max_depth=8, min_samples_split=4, n_estimators=30;, score=0.484 total time=   2.8s\n",
      "[CV 1/3] END criterion=entropy, max_depth=8, min_samples_split=4, n_estimators=50;, score=0.499 total time=   4.5s\n",
      "[CV 2/3] END criterion=entropy, max_depth=8, min_samples_split=4, n_estimators=50;, score=0.481 total time=   4.5s\n",
      "[CV 3/3] END criterion=entropy, max_depth=8, min_samples_split=4, n_estimators=50;, score=0.484 total time=   4.5s\n",
      "[CV 1/3] END criterion=entropy, max_depth=8, min_samples_split=8, n_estimators=20;, score=0.444 total time=   1.8s\n",
      "[CV 2/3] END criterion=entropy, max_depth=8, min_samples_split=8, n_estimators=20;, score=0.473 total time=   2.1s\n",
      "[CV 3/3] END criterion=entropy, max_depth=8, min_samples_split=8, n_estimators=20;, score=0.470 total time=   2.2s\n",
      "[CV 1/3] END criterion=entropy, max_depth=8, min_samples_split=8, n_estimators=30;, score=0.466 total time=   2.8s\n",
      "[CV 2/3] END criterion=entropy, max_depth=8, min_samples_split=8, n_estimators=30;, score=0.478 total time=   2.9s\n",
      "[CV 3/3] END criterion=entropy, max_depth=8, min_samples_split=8, n_estimators=30;, score=0.478 total time=   3.3s\n",
      "[CV 1/3] END criterion=entropy, max_depth=8, min_samples_split=8, n_estimators=50;, score=0.466 total time=   4.5s\n",
      "[CV 2/3] END criterion=entropy, max_depth=8, min_samples_split=8, n_estimators=50;, score=0.486 total time=   4.6s\n",
      "[CV 3/3] END criterion=entropy, max_depth=8, min_samples_split=8, n_estimators=50;, score=0.486 total time=   4.4s\n",
      "[CV 1/3] END criterion=entropy, max_depth=16, min_samples_split=2, n_estimators=20;, score=0.572 total time=   3.0s\n",
      "[CV 2/3] END criterion=entropy, max_depth=16, min_samples_split=2, n_estimators=20;, score=0.587 total time=   3.2s\n",
      "[CV 3/3] END criterion=entropy, max_depth=16, min_samples_split=2, n_estimators=20;, score=0.571 total time=   3.0s\n",
      "[CV 1/3] END criterion=entropy, max_depth=16, min_samples_split=2, n_estimators=30;, score=0.573 total time=   4.4s\n",
      "[CV 2/3] END criterion=entropy, max_depth=16, min_samples_split=2, n_estimators=30;, score=0.588 total time=   4.5s\n",
      "[CV 3/3] END criterion=entropy, max_depth=16, min_samples_split=2, n_estimators=30;, score=0.575 total time=   4.4s\n",
      "[CV 1/3] END criterion=entropy, max_depth=16, min_samples_split=2, n_estimators=50;, score=0.578 total time=   7.8s\n",
      "[CV 2/3] END criterion=entropy, max_depth=16, min_samples_split=2, n_estimators=50;, score=0.589 total time=   8.8s\n",
      "[CV 3/3] END criterion=entropy, max_depth=16, min_samples_split=2, n_estimators=50;, score=0.577 total time=   7.6s\n",
      "[CV 1/3] END criterion=entropy, max_depth=16, min_samples_split=4, n_estimators=20;, score=0.572 total time=   2.9s\n",
      "[CV 2/3] END criterion=entropy, max_depth=16, min_samples_split=4, n_estimators=20;, score=0.582 total time=   3.2s\n",
      "[CV 3/3] END criterion=entropy, max_depth=16, min_samples_split=4, n_estimators=20;, score=0.568 total time=   2.9s\n",
      "[CV 1/3] END criterion=entropy, max_depth=16, min_samples_split=4, n_estimators=30;, score=0.576 total time=   4.4s\n",
      "[CV 2/3] END criterion=entropy, max_depth=16, min_samples_split=4, n_estimators=30;, score=0.582 total time=   4.4s\n",
      "[CV 3/3] END criterion=entropy, max_depth=16, min_samples_split=4, n_estimators=30;, score=0.573 total time=   4.3s\n",
      "[CV 1/3] END criterion=entropy, max_depth=16, min_samples_split=4, n_estimators=50;, score=0.577 total time=   7.9s\n",
      "[CV 2/3] END criterion=entropy, max_depth=16, min_samples_split=4, n_estimators=50;, score=0.587 total time=   7.9s\n",
      "[CV 3/3] END criterion=entropy, max_depth=16, min_samples_split=4, n_estimators=50;, score=0.576 total time=   7.2s\n",
      "[CV 1/3] END criterion=entropy, max_depth=16, min_samples_split=8, n_estimators=20;, score=0.575 total time=   2.8s\n",
      "[CV 2/3] END criterion=entropy, max_depth=16, min_samples_split=8, n_estimators=20;, score=0.586 total time=   2.8s\n",
      "[CV 3/3] END criterion=entropy, max_depth=16, min_samples_split=8, n_estimators=20;, score=0.571 total time=   2.9s\n",
      "[CV 1/3] END criterion=entropy, max_depth=16, min_samples_split=8, n_estimators=30;, score=0.578 total time=   4.3s\n",
      "[CV 2/3] END criterion=entropy, max_depth=16, min_samples_split=8, n_estimators=30;, score=0.588 total time=   4.3s\n",
      "[CV 3/3] END criterion=entropy, max_depth=16, min_samples_split=8, n_estimators=30;, score=0.573 total time=   4.3s\n",
      "[CV 1/3] END criterion=entropy, max_depth=16, min_samples_split=8, n_estimators=50;, score=0.578 total time=   7.1s\n",
      "[CV 2/3] END criterion=entropy, max_depth=16, min_samples_split=8, n_estimators=50;, score=0.587 total time=   7.2s\n",
      "[CV 3/3] END criterion=entropy, max_depth=16, min_samples_split=8, n_estimators=50;, score=0.575 total time=   7.2s\n",
      "Accuracy on training set:  0.8576679046734758\n",
      "confusion_matrix on training set: \n",
      " [[87332  5450]\n",
      " [12945 23513]]\n",
      "Accuracy on validation set:  0.7973382853605695\n",
      "Confusion matrix: \n",
      " [[21180  2169]\n",
      " [ 4379  4582]]\n",
      "Classification report: \n",
      "               precision    recall  f1-score   support\n",
      "\n",
      "       False       0.83      0.91      0.87     23349\n",
      "        True       0.68      0.51      0.58      8961\n",
      "\n",
      "    accuracy                           0.80     32310\n",
      "   macro avg       0.75      0.71      0.72     32310\n",
      "weighted avg       0.79      0.80      0.79     32310\n",
      "\n"
     ]
    }
   ],
   "source": [
    "# grid search\n",
    "\n",
    "param_grid_rf = {'max_depth': [4, 8, 16],\n",
    "              'min_samples_split': [ 2, 4, 8],\n",
    "              'criterion': ['gini', 'entropy'],\n",
    "              'n_estimators': [ 20, 30, 50]\n",
    "}\n",
    "\n",
    "best_params_rf3, best_rf3, result_rf3 = grid_search_kfold_cv(model_class=RandomForestClassifier,\n",
    "                                                            param_grid=param_grid_rf, X_train=X3_train, y_train=y_train, X_test=X3_test, y_test=y_test,  cv=3,\n",
    "                                                            metric='f1', eval=True)"
   ],
   "metadata": {
    "collapsed": false
   }
  },
  {
   "cell_type": "code",
   "execution_count": 102,
   "outputs": [
    {
     "data": {
      "text/plain": "<Axes: >"
     },
     "execution_count": 102,
     "metadata": {},
     "output_type": "execute_result"
    },
    {
     "data": {
      "text/plain": "<Figure size 640x480 with 2 Axes>",
      "image/png": "[encoded data removed]"
     },
     "metadata": {},
     "output_type": "display_data"
    }
   ],
   "source": [
    "# plot confusion matrix\n",
    "y_pred = best_rf3.predict(X3_test)\n",
    "sns.heatmap(confusion_matrix(y_test, y_pred), annot=True, fmt='d', cmap='Blues')\n"
   ],
   "metadata": {
    "collapsed": false
   }
  },
  {
   "cell_type": "code",
   "execution_count": 103,
   "outputs": [
    {
     "data": {
      "text/plain": "<Figure size 640x480 with 1 Axes>",
      "image/png": "[encoded data removed]"
     },
     "metadata": {},
     "output_type": "display_data"
    }
   ],
   "source": [
    "# roc curve\n",
    "from sklearn.metrics import roc_curve, roc_auc_score\n",
    "y_pred_proba = best_rf3.predict_proba(X3_test)[:,1]\n",
    "fpr, tpr, thresholds = roc_curve(y_test, y_pred_proba)\n",
    "plt.plot([0,1], [0,1], 'k--')\n",
    "plt.plot(fpr, tpr)\n",
    "plt.title(f'Random Forest ROC Curve, AUC={ roc_auc_score(y_test, y_pred_proba):.3f}')\n",
    "plt.show()"
   ],
   "metadata": {
    "collapsed": false
   }
  },
  {
   "cell_type": "code",
   "execution_count": 103,
   "outputs": [],
   "source": [],
   "metadata": {
    "collapsed": false
   }
  },
  {
   "cell_type": "markdown",
   "source": [
    "### Neural Networks"
   ],
   "metadata": {
    "collapsed": false
   }
  },
  {
   "cell_type": "code",
   "execution_count": 104,
   "outputs": [
    {
     "data": {
      "text/plain": "(161550, 25)"
     },
     "execution_count": 104,
     "metadata": {},
     "output_type": "execute_result"
    }
   ],
   "source": [
    "from keras.models import Sequential\n",
    "from keras.layers import Dense\n",
    "scaler = StandardScaler()\n",
    "X=df_incidents_prepared.drop('isKilled', axis=1)\n",
    "X.drop(['n_unharmed', 'n_arrested'], axis=1, inplace=True)\n",
    "X=pd.get_dummies(X)\n",
    "X.shape"
   ],
   "metadata": {
    "collapsed": false
   }
  },
  {
   "cell_type": "code",
   "execution_count": 105,
   "outputs": [],
   "source": [
    "\n",
    "X_dev, X_test, y_dev, y_test = train_test_split(X, y, test_size=0.2, random_state=42)\n",
    "X_train, X_val, y_train, y_val = train_test_split(X_dev, y_dev, test_size=0.2, random_state=42, stratify=y_train)\n",
    "\n",
    "X_train_scaled=scaler.fit_transform(X_train)\n",
    "X_test_scaled=scaler.transform(X_test)\n",
    "X_val_scaled=scaler.transform(X_val)"
   ],
   "metadata": {
    "collapsed": false
   }
  },
  {
   "cell_type": "code",
   "execution_count": 106,
   "outputs": [
    {
     "name": "stdout",
     "output_type": "stream",
     "text": [
      "<class 'pandas.core.frame.DataFrame'>\n",
      "Int64Index: 161550 entries, 0 to 164506\n",
      "Data columns (total 25 columns):\n",
      " #   Column                  Non-Null Count   Dtype  \n",
      "---  ------                  --------------   -----  \n",
      " 0   latitude                161550 non-null  float64\n",
      " 1   longitude               161550 non-null  float64\n",
      " 2   year                    161550 non-null  float64\n",
      " 3   povertyPercentage       161550 non-null  float64\n",
      " 4   population              161550 non-null  int64  \n",
      " 5   candidatevotes          161550 non-null  float64\n",
      " 6   right_or_left           161550 non-null  float64\n",
      " 7   voters_over_population  161550 non-null  float64\n",
      " 8   n_participants          161550 non-null  float64\n",
      " 9   n_participants_teen     161550 non-null  float64\n",
      " 10  n_participants_child    161550 non-null  float64\n",
      " 11  n_females               161550 non-null  float64\n",
      " 12  n_males                 161550 non-null  float64\n",
      " 13  n_injured               161550 non-null  int64  \n",
      " 14  age_group_[0-11]        161550 non-null  uint8  \n",
      " 15  age_group_[12-17]       161550 non-null  uint8  \n",
      " 16  age_group_[18-24]       161550 non-null  uint8  \n",
      " 17  age_group_[25-34]       161550 non-null  uint8  \n",
      " 18  age_group_[35-44]       161550 non-null  uint8  \n",
      " 19  age_group_[45-54]       161550 non-null  uint8  \n",
      " 20  age_group_[55-64]       161550 non-null  uint8  \n",
      " 21  age_group_[65-74]       161550 non-null  uint8  \n",
      " 22  age_group_[75-100]      161550 non-null  uint8  \n",
      " 23  party_DEMOCRAT          161550 non-null  uint8  \n",
      " 24  party_REPUBLICAN        161550 non-null  uint8  \n",
      "dtypes: float64(12), int64(2), uint8(11)\n",
      "memory usage: 24.2 MB\n"
     ]
    }
   ],
   "source": [
    "X.info()"
   ],
   "metadata": {
    "collapsed": false
   }
  },
  {
   "cell_type": "code",
   "execution_count": 107,
   "outputs": [],
   "source": [
    "input_size = X_train.shape[1]"
   ],
   "metadata": {
    "collapsed": false
   }
  },
  {
   "cell_type": "code",
   "execution_count": 108,
   "outputs": [],
   "source": [
    "model = Sequential([Dense(32, activation='relu', input_shape=(input_size, ) ),\n",
    "                    Dense(16, activation='relu'),\n",
    "                    Dense(1, activation='sigmoid')])"
   ],
   "metadata": {
    "collapsed": false
   }
  },
  {
   "cell_type": "code",
   "execution_count": 109,
   "outputs": [],
   "source": [
    "from keras.callbacks import EarlyStopping\n",
    "from keras.optimizers import Adam\n",
    "\n",
    "sampler = RandomUnderSampler(random_state=42)\n",
    "X_train_scaled, y_train = sampler.fit_resample(X_train_scaled, y_train)"
   ],
   "metadata": {
    "collapsed": false
   }
  },
  {
   "cell_type": "code",
   "execution_count": 110,
   "outputs": [],
   "source": [
    "early_stopping= EarlyStopping(patience=5, restore_best_weights=True, monitor='val_loss')\n",
    "optimizer = Adam(learning_rate=0.001)\n",
    "model.compile(optimizer=optimizer, loss='binary_crossentropy', metrics=['accuracy'])"
   ],
   "metadata": {
    "collapsed": false
   }
  },
  {
   "cell_type": "code",
   "execution_count": 111,
   "outputs": [
    {
     "name": "stdout",
     "output_type": "stream",
     "text": [
      "Epoch 1/10\n",
      "1823/1823 [==============================] - 6s 3ms/step - loss: 0.5483 - accuracy: 0.7102 - val_loss: 0.5305 - val_accuracy: 0.6996\n",
      "Epoch 2/10\n",
      "1823/1823 [==============================] - 5s 3ms/step - loss: 0.5050 - accuracy: 0.7370 - val_loss: 0.5006 - val_accuracy: 0.7191\n",
      "Epoch 3/10\n",
      "1823/1823 [==============================] - 5s 3ms/step - loss: 0.4977 - accuracy: 0.7416 - val_loss: 0.4843 - val_accuracy: 0.7298\n",
      "Epoch 4/10\n",
      "1823/1823 [==============================] - 5s 3ms/step - loss: 0.4934 - accuracy: 0.7435 - val_loss: 0.4986 - val_accuracy: 0.7163\n",
      "Epoch 5/10\n",
      "1823/1823 [==============================] - 5s 3ms/step - loss: 0.4901 - accuracy: 0.7456 - val_loss: 0.4936 - val_accuracy: 0.7242\n",
      "Epoch 6/10\n",
      "1823/1823 [==============================] - 5s 3ms/step - loss: 0.4879 - accuracy: 0.7484 - val_loss: 0.4961 - val_accuracy: 0.7206\n",
      "Epoch 7/10\n",
      "1823/1823 [==============================] - 5s 3ms/step - loss: 0.4865 - accuracy: 0.7488 - val_loss: 0.5096 - val_accuracy: 0.7113\n",
      "Epoch 8/10\n",
      "1823/1823 [==============================] - 5s 3ms/step - loss: 0.4847 - accuracy: 0.7501 - val_loss: 0.5117 - val_accuracy: 0.7117\n"
     ]
    },
    {
     "data": {
      "text/plain": "<keras.callbacks.History at 0x1b889b7dae0>"
     },
     "execution_count": 111,
     "metadata": {},
     "output_type": "execute_result"
    }
   ],
   "source": [
    "model.fit(X_train_scaled, y_train, validation_data=(X_val_scaled, y_val), epochs=10, callbacks=[early_stopping])"
   ],
   "metadata": {
    "collapsed": false
   }
  },
  {
   "cell_type": "code",
   "execution_count": 112,
   "outputs": [
    {
     "name": "stdout",
     "output_type": "stream",
     "text": [
      "1010/1010 [==============================] - 1s 1ms/step\n",
      "1823/1823 [==============================] - 3s 2ms/step\n",
      "Accuracy on training set:  0.7438455736131112\n",
      "confusion_matrix on training set: \n",
      " [[21248  7918]\n",
      " [ 7024 22142]]\n",
      "Accuracy on test set:  0.7337975858867224\n",
      "Confusion matrix: \n",
      " [[16913  6436]\n",
      " [ 2165  6796]]\n",
      "Classification report: \n",
      "               precision    recall  f1-score   support\n",
      "\n",
      "       False       0.89      0.72      0.80     23349\n",
      "        True       0.51      0.76      0.61      8961\n",
      "\n",
      "    accuracy                           0.73     32310\n",
      "   macro avg       0.70      0.74      0.70     32310\n",
      "weighted avg       0.78      0.73      0.75     32310\n",
      "\n"
     ]
    }
   ],
   "source": [
    "y_pred = model.predict(X_test_scaled)\n",
    "y_pred_train = model.predict(X_train_scaled)\n",
    "y_pred = y_pred > 0.5\n",
    "y_pred_train = y_pred_train > 0.5\n",
    "print('Accuracy on training set: ', accuracy_score(y_train, y_pred_train))\n",
    "print('confusion_matrix on training set: \\n', confusion_matrix(y_train, y_pred_train))\n",
    "print('Accuracy on test set: ', accuracy_score(y_test, y_pred))\n",
    "print('Confusion matrix: \\n', confusion_matrix(y_test, y_pred))\n",
    "print('Classification report: \\n', classification_report(y_test, y_pred))"
   ],
   "metadata": {
    "collapsed": false
   }
  },
  {
   "cell_type": "markdown",
   "source": [
    "\n"
   ],
   "metadata": {
    "collapsed": false
   }
  },
  {
   "cell_type": "code",
   "execution_count": 112,
   "outputs": [],
   "source": [
    "\n"
   ],
   "metadata": {
    "collapsed": false
   }
  }
 ],
 "metadata": {
  "kernelspec": {
   "display_name": "Python 3",
   "language": "python",
   "name": "python3"
  },
  "language_info": {
   "codemirror_mode": {
    "name": "ipython",
    "version": 3
   },
   "file_extension": ".py",
   "mimetype": "text/x-python",
   "name": "python",
   "nbconvert_exporter": "python",
   "pygments_lexer": "ipython3",
   "version": "3.12.0"
  }
 },
 "nbformat": 4,
 "nbformat_minor": 0
}
