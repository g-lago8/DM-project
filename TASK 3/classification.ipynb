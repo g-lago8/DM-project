{
 "cells": [
  {
   "cell_type": "code",
   "execution_count": 126,
   "metadata": {
    "collapsed": true
   },
   "outputs": [],
   "source": [
    "# imports\n",
    "import numpy as np\n",
    "import pandas as pd\n",
    "from tqdm import tqdm\n",
    "import matplotlib.pyplot as plt\n",
    "import seaborn as sns\n",
    "import sklearn\n",
    "from sklearn.model_selection import train_test_split\n"
   ]
  },
  {
   "cell_type": "code",
   "execution_count": 127,
   "outputs": [],
   "source": [
    "# read data\n",
    "df_incidents = pd.read_csv('../datasets_clean/incidents_clean.csv', index_col=0)\n"
   ],
   "metadata": {
    "collapsed": false
   }
  },
  {
   "cell_type": "code",
   "execution_count": 128,
   "outputs": [
    {
     "data": {
      "text/plain": "         date                 state city_or_county  \\\n0  2015-05-02               Indiana   Indianapolis   \n1  2017-04-03          Pennsylvania           Kane   \n3  2016-10-15  District of Columbia     Washington   \n5  2014-01-18        North Carolina   Wayne County   \n6  2018-01-25             Louisiana        Zachary   \n\n                              address  latitude  longitude  \\\n0       Lafayette Road and Pike Plaza   39.8322   -86.2492   \n1                           5647 US 6   41.6645   -78.7856   \n3  1000 block of Bladensburg Road, NE   38.9030   -76.9820   \n5  4700 block of U.S. Highway 70 East   35.1847   -77.9527   \n6                    18733 Samuels Rd   30.6069   -91.2270   \n\n   congressional_district  avg_age_participants  n_participants_child  \\\n0                     7.0                  19.0                   0.0   \n1                     5.0                  62.0                   0.0   \n3                     1.0                  26.0                   0.0   \n5                    13.0                  65.0                   0.0   \n6                     6.0                  26.0                   0.0   \n\n   n_participants_teen  n_participants_adult  n_males  n_females  n_killed  \\\n0                  0.0                   1.0      1.0        0.0         0   \n1                  0.0                   1.0      1.0        0.0         1   \n3                  0.0                   1.0      1.0        0.0         0   \n5                  0.0                   1.0      1.0        0.0         0   \n6                  0.0                   5.0      5.0        0.0         2   \n\n   n_injured  n_arrested  n_unharmed  n_participants  \\\n0          1         0.0         0.0             1.0   \n1          0         0.0         0.0             1.0   \n3          1         0.0         0.0             2.0   \n5          1         0.0         0.0             1.0   \n6          1         2.0         0.0             5.0   \n\n                   incident_characteristics1    year  \n0                     Shot - Wounded/Injured  2015.0  \n1  Shot - Dead (murder, accidental, suicide)  2017.0  \n3                     Shot - Wounded/Injured  2016.0  \n5                     Shot - Wounded/Injured  2014.0  \n6                     Shot - Wounded/Injured  2018.0  ",
      "text/html": "<div>\n<style scoped>\n    .dataframe tbody tr th:only-of-type {\n        vertical-align: middle;\n    }\n\n    .dataframe tbody tr th {\n        vertical-align: top;\n    }\n\n    .dataframe thead th {\n        text-align: right;\n    }\n</style>\n<table border=\"1\" class=\"dataframe\">\n  <thead>\n    <tr style=\"text-align: right;\">\n      <th></th>\n      <th>date</th>\n      <th>state</th>\n      <th>city_or_county</th>\n      <th>address</th>\n      <th>latitude</th>\n      <th>longitude</th>\n      <th>congressional_district</th>\n      <th>avg_age_participants</th>\n      <th>n_participants_child</th>\n      <th>n_participants_teen</th>\n      <th>n_participants_adult</th>\n      <th>n_males</th>\n      <th>n_females</th>\n      <th>n_killed</th>\n      <th>n_injured</th>\n      <th>n_arrested</th>\n      <th>n_unharmed</th>\n      <th>n_participants</th>\n      <th>incident_characteristics1</th>\n      <th>year</th>\n    </tr>\n  </thead>\n  <tbody>\n    <tr>\n      <th>0</th>\n      <td>2015-05-02</td>\n      <td>Indiana</td>\n      <td>Indianapolis</td>\n      <td>Lafayette Road and Pike Plaza</td>\n      <td>39.8322</td>\n      <td>-86.2492</td>\n      <td>7.0</td>\n      <td>19.0</td>\n      <td>0.0</td>\n      <td>0.0</td>\n      <td>1.0</td>\n      <td>1.0</td>\n      <td>0.0</td>\n      <td>0</td>\n      <td>1</td>\n      <td>0.0</td>\n      <td>0.0</td>\n      <td>1.0</td>\n      <td>Shot - Wounded/Injured</td>\n      <td>2015.0</td>\n    </tr>\n    <tr>\n      <th>1</th>\n      <td>2017-04-03</td>\n      <td>Pennsylvania</td>\n      <td>Kane</td>\n      <td>5647 US 6</td>\n      <td>41.6645</td>\n      <td>-78.7856</td>\n      <td>5.0</td>\n      <td>62.0</td>\n      <td>0.0</td>\n      <td>0.0</td>\n      <td>1.0</td>\n      <td>1.0</td>\n      <td>0.0</td>\n      <td>1</td>\n      <td>0</td>\n      <td>0.0</td>\n      <td>0.0</td>\n      <td>1.0</td>\n      <td>Shot - Dead (murder, accidental, suicide)</td>\n      <td>2017.0</td>\n    </tr>\n    <tr>\n      <th>3</th>\n      <td>2016-10-15</td>\n      <td>District of Columbia</td>\n      <td>Washington</td>\n      <td>1000 block of Bladensburg Road, NE</td>\n      <td>38.9030</td>\n      <td>-76.9820</td>\n      <td>1.0</td>\n      <td>26.0</td>\n      <td>0.0</td>\n      <td>0.0</td>\n      <td>1.0</td>\n      <td>1.0</td>\n      <td>0.0</td>\n      <td>0</td>\n      <td>1</td>\n      <td>0.0</td>\n      <td>0.0</td>\n      <td>2.0</td>\n      <td>Shot - Wounded/Injured</td>\n      <td>2016.0</td>\n    </tr>\n    <tr>\n      <th>5</th>\n      <td>2014-01-18</td>\n      <td>North Carolina</td>\n      <td>Wayne County</td>\n      <td>4700 block of U.S. Highway 70 East</td>\n      <td>35.1847</td>\n      <td>-77.9527</td>\n      <td>13.0</td>\n      <td>65.0</td>\n      <td>0.0</td>\n      <td>0.0</td>\n      <td>1.0</td>\n      <td>1.0</td>\n      <td>0.0</td>\n      <td>0</td>\n      <td>1</td>\n      <td>0.0</td>\n      <td>0.0</td>\n      <td>1.0</td>\n      <td>Shot - Wounded/Injured</td>\n      <td>2014.0</td>\n    </tr>\n    <tr>\n      <th>6</th>\n      <td>2018-01-25</td>\n      <td>Louisiana</td>\n      <td>Zachary</td>\n      <td>18733 Samuels Rd</td>\n      <td>30.6069</td>\n      <td>-91.2270</td>\n      <td>6.0</td>\n      <td>26.0</td>\n      <td>0.0</td>\n      <td>0.0</td>\n      <td>5.0</td>\n      <td>5.0</td>\n      <td>0.0</td>\n      <td>2</td>\n      <td>1</td>\n      <td>2.0</td>\n      <td>0.0</td>\n      <td>5.0</td>\n      <td>Shot - Wounded/Injured</td>\n      <td>2018.0</td>\n    </tr>\n  </tbody>\n</table>\n</div>"
     },
     "execution_count": 128,
     "metadata": {},
     "output_type": "execute_result"
    }
   ],
   "source": [
    "df_incidents.head()"
   ],
   "metadata": {
    "collapsed": false
   }
  },
  {
   "cell_type": "code",
   "execution_count": 129,
   "outputs": [
    {
     "name": "stdout",
     "output_type": "stream",
     "text": [
      "<class 'pandas.core.frame.DataFrame'>\n",
      "Int64Index: 174421 entries, 0 to 239311\n",
      "Data columns (total 20 columns):\n",
      " #   Column                     Non-Null Count   Dtype  \n",
      "---  ------                     --------------   -----  \n",
      " 0   date                       174421 non-null  object \n",
      " 1   state                      174421 non-null  object \n",
      " 2   city_or_county             174421 non-null  object \n",
      " 3   address                    162143 non-null  object \n",
      " 4   latitude                   174421 non-null  float64\n",
      " 5   longitude                  174421 non-null  float64\n",
      " 6   congressional_district     164507 non-null  float64\n",
      " 7   avg_age_participants       174421 non-null  float64\n",
      " 8   n_participants_child       174421 non-null  float64\n",
      " 9   n_participants_teen        174421 non-null  float64\n",
      " 10  n_participants_adult       174421 non-null  float64\n",
      " 11  n_males                    174421 non-null  float64\n",
      " 12  n_females                  174421 non-null  float64\n",
      " 13  n_killed                   174421 non-null  int64  \n",
      " 14  n_injured                  174421 non-null  int64  \n",
      " 15  n_arrested                 174421 non-null  float64\n",
      " 16  n_unharmed                 174421 non-null  float64\n",
      " 17  n_participants             174421 non-null  float64\n",
      " 18  incident_characteristics1  174421 non-null  object \n",
      " 19  year                       174421 non-null  float64\n",
      "dtypes: float64(13), int64(2), object(5)\n",
      "memory usage: 27.9+ MB\n"
     ]
    }
   ],
   "source": [
    "df_incidents.info()"
   ],
   "metadata": {
    "collapsed": false
   }
  },
  {
   "cell_type": "code",
   "execution_count": 130,
   "outputs": [],
   "source": [
    "df_incidents['isKilled'] = df_incidents['n_killed'] > 0"
   ],
   "metadata": {
    "collapsed": false
   }
  },
  {
   "cell_type": "code",
   "execution_count": 131,
   "outputs": [
    {
     "data": {
      "text/plain": "<Axes: title={'center': 'Percentage of incidents with killed people'}, ylabel='isKilled'>"
     },
     "execution_count": 131,
     "metadata": {},
     "output_type": "execute_result"
    },
    {
     "data": {
      "text/plain": "<Figure size 640x480 with 1 Axes>",
      "image/png": "[encoded data removed]"
     },
     "metadata": {},
     "output_type": "display_data"
    }
   ],
   "source": [
    "#pie chart\n",
    "df_incidents['isKilled'].value_counts().plot.pie(autopct='%1.1f%%', startangle=90, title = 'Percentage of incidents with killed people')"
   ],
   "metadata": {
    "collapsed": false
   }
  },
  {
   "cell_type": "markdown",
   "source": [
    "## Extracting features"
   ],
   "metadata": {
    "collapsed": false
   }
  },
  {
   "cell_type": "code",
   "execution_count": 132,
   "outputs": [],
   "source": [
    "cols2drop =['date', 'year', 'state', 'city_or_county', 'n_killed', 'incident_characteristics1', 'congressional_district', 'address']\n",
    "df_incidents = df_incidents.drop(cols2drop, axis=1)"
   ],
   "metadata": {
    "collapsed": false
   }
  },
  {
   "cell_type": "code",
   "execution_count": 133,
   "outputs": [
    {
     "name": "stdout",
     "output_type": "stream",
     "text": [
      "<class 'pandas.core.frame.DataFrame'>\n",
      "Int64Index: 174421 entries, 0 to 239311\n",
      "Data columns (total 13 columns):\n",
      " #   Column                Non-Null Count   Dtype  \n",
      "---  ------                --------------   -----  \n",
      " 0   latitude              174421 non-null  float64\n",
      " 1   longitude             174421 non-null  float64\n",
      " 2   avg_age_participants  174421 non-null  float64\n",
      " 3   n_participants_child  174421 non-null  float64\n",
      " 4   n_participants_teen   174421 non-null  float64\n",
      " 5   n_participants_adult  174421 non-null  float64\n",
      " 6   n_males               174421 non-null  float64\n",
      " 7   n_females             174421 non-null  float64\n",
      " 8   n_injured             174421 non-null  int64  \n",
      " 9   n_arrested            174421 non-null  float64\n",
      " 10  n_unharmed            174421 non-null  float64\n",
      " 11  n_participants        174421 non-null  float64\n",
      " 12  isKilled              174421 non-null  bool   \n",
      "dtypes: bool(1), float64(11), int64(1)\n",
      "memory usage: 17.5 MB\n"
     ]
    }
   ],
   "source": [
    "df_incidents.info()"
   ],
   "metadata": {
    "collapsed": false
   }
  },
  {
   "cell_type": "markdown",
   "source": [
    "## K-nearest neighbors"
   ],
   "metadata": {
    "collapsed": false
   }
  },
  {
   "cell_type": "code",
   "execution_count": 134,
   "outputs": [],
   "source": [
    "from sklearn.neighbors import KNeighborsClassifier\n",
    "from sklearn.model_selection import train_test_split\n",
    "from sklearn.metrics import accuracy_score\n",
    "from sklearn.metrics import confusion_matrix\n",
    "from sklearn.metrics import classification_report"
   ],
   "metadata": {
    "collapsed": false
   }
  },
  {
   "cell_type": "markdown",
   "source": [
    "We split the data first into development and test set, then we split again the development set into training and validation set. We use the training set to train the model and the validation set to evaluate the model. We use the test set to evaluate the model on unseen data.\n",
    "We used a ratio of 70% development set and 30% test set.\n",
    "Then we used a ratio of 75% training set and 25% validation set."
   ],
   "metadata": {
    "collapsed": false
   }
  },
  {
   "cell_type": "code",
   "execution_count": 135,
   "outputs": [
    {
     "name": "stdout",
     "output_type": "stream",
     "text": [
      " # X_train:  111192\n",
      " # X_val :  37065\n",
      " # X_test :  26164\n",
      "% killed in train set:  0.28671127419238795\n",
      "% killed in val set:  0.28700930797248075\n",
      "% killed in test set:  0.28898486469958723\n"
     ]
    }
   ],
   "source": [
    "# split data\n",
    "X = df_incidents.drop('isKilled', axis=1)\n",
    "y = df_incidents['isKilled']\n",
    "X_dev, X_test, y_dev, y_test = train_test_split(X, y, test_size=0.15, random_state=42)\n",
    "X_train, X_val, y_train, y_val = train_test_split(X_dev, y_dev, test_size=0.25, random_state=42)\n",
    "print(' # X_train: ', X_train.shape[0])\n",
    "print(' # X_val : ', X_val.shape[0])\n",
    "print(' # X_test : ', X_test.shape[0])\n",
    "print(\"% killed in train set: \", y_train.sum()/y_train.shape[0])\n",
    "print(\"% killed in val set: \", y_val.sum()/y_val.shape[0])\n",
    "print(\"% killed in test set: \", y_test.sum()/y_test.shape[0])\n"
   ],
   "metadata": {
    "collapsed": false
   }
  },
  {
   "cell_type": "code",
   "execution_count": 136,
   "outputs": [],
   "source": [
    "# standardize data\n",
    "from sklearn.preprocessing import StandardScaler\n",
    "scaler = StandardScaler()\n",
    "X_train = scaler.fit_transform(X_train)\n",
    "X_val = scaler.transform(X_val)\n",
    "X_test = scaler.transform(X_test)\n"
   ],
   "metadata": {
    "collapsed": false
   }
  },
  {
   "cell_type": "code",
   "execution_count": 137,
   "outputs": [
    {
     "name": "stdout",
     "output_type": "stream",
     "text": [
      " # X_train_balanced:  63760\n",
      " # y_train_balanced:  63760\n",
      "% killed in train set:  0.5\n"
     ]
    },
    {
     "name": "stderr",
     "output_type": "stream",
     "text": [
      "C:\\Users\\HUAWEI\\AppData\\Local\\Temp\\ipykernel_4108\\1769743730.py:2: FutureWarning: The behavior of `series[i:j]` with an integer-dtype index is deprecated. In a future version, this will be treated as *label-based* indexing, consistent with e.g. `series[i]` lookups. To retain the old behavior, use `series.iloc[i:j]`. To get the future behavior, use `series.loc[i:j]`.\n",
      "  y_train_balanced = np.concatenate((y_train[y_train==1], y_train[y_train==0][:y_train[y_train==1].shape[0]]))\n"
     ]
    }
   ],
   "source": [
    "X_train_balanced = np.concatenate((X_train[y_train==1], X_train[y_train==0][:X_train[y_train==1].shape[0]]))\n",
    "y_train_balanced = np.concatenate((y_train[y_train==1], y_train[y_train==0][:y_train[y_train==1].shape[0]]))\n",
    "print(' # X_train_balanced: ', X_train_balanced.shape[0])\n",
    "print(' # y_train_balanced: ', y_train_balanced.shape[0])\n",
    "print(\"% killed in train set: \", y_train_balanced.sum()/y_train_balanced.shape[0])"
   ],
   "metadata": {
    "collapsed": false
   }
  },
  {
   "cell_type": "code",
   "execution_count": 137,
   "outputs": [],
   "source": [],
   "metadata": {
    "collapsed": false
   }
  },
  {
   "cell_type": "code",
   "execution_count": 138,
   "outputs": [
    {
     "name": "stderr",
     "output_type": "stream",
     "text": [
      "100%|██████████| 9/9 [03:55<00:00, 26.20s/it]\n"
     ]
    }
   ],
   "source": [
    "# train model\n",
    "accuracy_scores = []\n",
    "for i in tqdm(range(1, 10)):\n",
    "    knn = KNeighborsClassifier(n_neighbors=i)\n",
    "    knn.fit(X_train, y_train)\n",
    "    y_pred = knn.predict(X_val)\n",
    "    accuracy_scores.append(accuracy_score(y_val, y_pred))"
   ],
   "metadata": {
    "collapsed": false
   }
  },
  {
   "cell_type": "code",
   "execution_count": 139,
   "outputs": [
    {
     "data": {
      "text/plain": "<Figure size 640x480 with 1 Axes>",
      "image/png": "[encoded data removed]"
     },
     "metadata": {},
     "output_type": "display_data"
    }
   ],
   "source": [
    "plt.plot(range(1, 10), accuracy_scores)\n",
    "plt.xlabel('k')\n",
    "plt.ylabel('accuracy')\n",
    "plt.title('Accuracy for different k values')\n",
    "plt.show()"
   ],
   "metadata": {
    "collapsed": false
   }
  },
  {
   "cell_type": "code",
   "execution_count": 140,
   "outputs": [
    {
     "name": "stdout",
     "output_type": "stream",
     "text": [
      "ended fit\n",
      "Accuracy on test set:  0.9711053355756001\n",
      "Confusion matrix: \n",
      " [[18240   363]\n",
      " [  393  7168]]\n",
      "Classification report: \n",
      "               precision    recall  f1-score   support\n",
      "\n",
      "       False       0.98      0.98      0.98     18603\n",
      "        True       0.95      0.95      0.95      7561\n",
      "\n",
      "    accuracy                           0.97     26164\n",
      "   macro avg       0.97      0.96      0.96     26164\n",
      "weighted avg       0.97      0.97      0.97     26164\n",
      "\n"
     ]
    }
   ],
   "source": [
    "# train again with best k on whole dev set\n",
    "X_dev = scaler.fit_transform(X_dev)\n",
    "knn = KNeighborsClassifier(n_neighbors=3)\n",
    "knn.fit(X_dev, y_dev)\n",
    "print('ended fit')\n",
    "y_pred = knn.predict(X_test)\n",
    "print('Accuracy on test set: ', accuracy_score(y_test, y_pred))\n",
    "print('Confusion matrix: \\n', confusion_matrix(y_test, y_pred))\n",
    "print('Classification report: \\n', classification_report(y_test, y_pred))"
   ],
   "metadata": {
    "collapsed": false
   }
  },
  {
   "cell_type": "markdown",
   "source": [
    "## Logistic regression"
   ],
   "metadata": {
    "collapsed": false
   }
  },
  {
   "cell_type": "code",
   "execution_count": 141,
   "outputs": [],
   "source": [
    "from sklearn.linear_model import LogisticRegression\n"
   ],
   "metadata": {
    "collapsed": false
   }
  },
  {
   "cell_type": "code",
   "execution_count": 142,
   "outputs": [
    {
     "name": "stdout",
     "output_type": "stream",
     "text": [
      "Accuracy on training set:  0.9805207026348808\n",
      "confusion_matrix on training set: \n",
      " [[31082   798]\n",
      " [  444 31436]]\n",
      "Accuracy on validation set:  0.9774180493727236\n",
      "Confusion matrix: \n",
      " [[25756   671]\n",
      " [  166 10472]]\n",
      "Classification report: \n",
      "               precision    recall  f1-score   support\n",
      "\n",
      "       False       0.99      0.97      0.98     26427\n",
      "        True       0.94      0.98      0.96     10638\n",
      "\n",
      "    accuracy                           0.98     37065\n",
      "   macro avg       0.97      0.98      0.97     37065\n",
      "weighted avg       0.98      0.98      0.98     37065\n",
      "\n"
     ]
    }
   ],
   "source": [
    "# train model\n",
    "logreg = LogisticRegression('none')\n",
    "logreg_model = logreg.fit(X_train_balanced, y_train_balanced)\n",
    "y_pred = logreg.predict(X_val)\n",
    "y_pred_train = logreg.predict(X_train_balanced)\n",
    "print('Accuracy on training set: ', accuracy_score(y_train_balanced, y_pred_train))\n",
    "print('confusion_matrix on training set: \\n', confusion_matrix(y_train_balanced, y_pred_train))\n",
    "print('Accuracy on validation set: ', accuracy_score(y_val, y_pred))\n",
    "print('Confusion matrix: \\n', confusion_matrix(y_val, y_pred))\n",
    "print('Classification report: \\n', classification_report(y_val, y_pred))"
   ],
   "metadata": {
    "collapsed": false
   }
  },
  {
   "cell_type": "code",
   "execution_count": 143,
   "outputs": [
    {
     "name": "stderr",
     "output_type": "stream",
     "text": [
      "C:\\Users\\HUAWEI\\AppData\\Local\\Programs\\Python\\Python310\\lib\\site-packages\\sklearn\\utils\\deprecation.py:87: FutureWarning: Function plot_confusion_matrix is deprecated; Function `plot_confusion_matrix` is deprecated in 1.0 and will be removed in 1.2. Use one of the class methods: ConfusionMatrixDisplay.from_predictions or ConfusionMatrixDisplay.from_estimator.\n",
      "  warnings.warn(msg, category=FutureWarning)\n"
     ]
    },
    {
     "data": {
      "text/plain": "<Figure size 640x480 with 2 Axes>",
      "image/png": "[encoded data removed]"
     },
     "metadata": {},
     "output_type": "display_data"
    }
   ],
   "source": [
    "# plot confusion matrix\n",
    "from sklearn.metrics import plot_confusion_matrix\n",
    "plot_confusion_matrix(logreg_model, X_val, y_val, cmap=plt.cm.Blues)\n",
    "plt.show()"
   ],
   "metadata": {
    "collapsed": false
   }
  },
  {
   "cell_type": "code",
   "execution_count": 144,
   "outputs": [
    {
     "name": "stdout",
     "output_type": "stream",
     "text": [
      "Feature weights: \n",
      " [[-0.18385853 -0.10369904  0.1177874   0.16865053  0.51424418  1.28627031\n",
      "   0.81813529  0.2477195  -5.90679017 -6.66275363 -6.9126678   7.29308995]]\n"
     ]
    }
   ],
   "source": [
    "# print weights of model\n",
    "print('Feature weights: \\n', logreg_model.coef_)"
   ],
   "metadata": {
    "collapsed": false
   }
  },
  {
   "cell_type": "markdown",
   "source": [
    "We noticed that the last four weights are very big.\n",
    "Those weights correspond to the features 'n_injured', 'n_unharmed', 'n_arrested' and 'n_participants'.\n",
    "The model is learning to predict the target variable subtracting the first three feature from 'n_participants'.\n",
    "We can argue that if the number of killed is unknown, the number of injured,  is also unknown.\n"
   ],
   "metadata": {
    "collapsed": false
   }
  },
  {
   "cell_type": "markdown",
   "source": [
    "## Logistic regression with less features"
   ],
   "metadata": {
    "collapsed": false
   }
  },
  {
   "cell_type": "code",
   "execution_count": 145,
   "outputs": [],
   "source": [
    "more_cols2drop=['n_injured', 'n_unharmed', 'n_arrested']"
   ],
   "metadata": {
    "collapsed": false
   }
  },
  {
   "cell_type": "code",
   "execution_count": 146,
   "outputs": [],
   "source": [
    "df_incidents = df_incidents.drop(more_cols2drop, axis=1)\n"
   ],
   "metadata": {
    "collapsed": false
   }
  },
  {
   "cell_type": "code",
   "execution_count": 147,
   "outputs": [
    {
     "name": "stdout",
     "output_type": "stream",
     "text": [
      "<class 'pandas.core.frame.DataFrame'>\n",
      "Int64Index: 174421 entries, 0 to 239311\n",
      "Data columns (total 10 columns):\n",
      " #   Column                Non-Null Count   Dtype  \n",
      "---  ------                --------------   -----  \n",
      " 0   latitude              174421 non-null  float64\n",
      " 1   longitude             174421 non-null  float64\n",
      " 2   avg_age_participants  174421 non-null  float64\n",
      " 3   n_participants_child  174421 non-null  float64\n",
      " 4   n_participants_teen   174421 non-null  float64\n",
      " 5   n_participants_adult  174421 non-null  float64\n",
      " 6   n_males               174421 non-null  float64\n",
      " 7   n_females             174421 non-null  float64\n",
      " 8   n_participants        174421 non-null  float64\n",
      " 9   isKilled              174421 non-null  bool   \n",
      "dtypes: bool(1), float64(9)\n",
      "memory usage: 13.5 MB\n"
     ]
    }
   ],
   "source": [
    "df_incidents.info()"
   ],
   "metadata": {
    "collapsed": false
   }
  },
  {
   "cell_type": "code",
   "execution_count": 148,
   "outputs": [],
   "source": [
    "X2=df_incidents.drop('isKilled', axis=1)\n",
    "y2=df_incidents['isKilled']\n",
    "X_dev2, X_test2, y_dev2, y_test2 = train_test_split(X2, y2, test_size=0.15, random_state=42)"
   ],
   "metadata": {
    "collapsed": false
   }
  },
  {
   "cell_type": "code",
   "execution_count": 149,
   "outputs": [
    {
     "name": "stdout",
     "output_type": "stream",
     "text": [
      " # X_train2:  111192\n",
      " # X_val2 :  37065\n",
      " # X_test2 :  26164\n",
      "% killed in train set:  0.28671127419238795\n",
      "% killed in val set:  0.28700930797248075\n",
      "% killed in test set:  0.28898486469958723\n"
     ]
    }
   ],
   "source": [
    "X_train2, X_val2, y_train2, y_val2 = train_test_split(X_dev2, y_dev2, test_size=0.25, random_state=42)\n",
    "print(' # X_train2: ', X_train2.shape[0])\n",
    "print(' # X_val2 : ', X_val2.shape[0])\n",
    "print(' # X_test2 : ', X_test2.shape[0])\n",
    "print(\"% killed in train set: \", y_train2.sum()/y_train2.shape[0])\n",
    "print(\"% killed in val set: \", y_val2.sum()/y_val2.shape[0])\n",
    "print(\"% killed in test set: \", y_test2.sum()/y_test2.shape[0])\n"
   ],
   "metadata": {
    "collapsed": false
   }
  },
  {
   "cell_type": "code",
   "execution_count": 150,
   "outputs": [],
   "source": [
    "# standardize data\n",
    "X_train2 = scaler.fit_transform(X_train2)\n",
    "X_val2 = scaler.transform(X_val2)\n",
    "X_test2 = scaler.transform(X_test2)\n"
   ],
   "metadata": {
    "collapsed": false
   }
  },
  {
   "cell_type": "code",
   "execution_count": 151,
   "outputs": [
    {
     "data": {
      "text/plain": "(111192, 9)"
     },
     "execution_count": 151,
     "metadata": {},
     "output_type": "execute_result"
    }
   ],
   "source": [
    "X_train2.shape"
   ],
   "metadata": {
    "collapsed": false
   }
  },
  {
   "cell_type": "code",
   "execution_count": 152,
   "outputs": [
    {
     "name": "stdout",
     "output_type": "stream",
     "text": [
      "Accuracy on validation set:  0.7113449345743963\n",
      "Confusion matrix: \n",
      " [[25890   537]\n",
      " [10162   476]]\n",
      "Classification report: \n",
      "               precision    recall  f1-score   support\n",
      "\n",
      "       False       0.72      0.98      0.83     26427\n",
      "        True       0.47      0.04      0.08     10638\n",
      "\n",
      "    accuracy                           0.71     37065\n",
      "   macro avg       0.59      0.51      0.46     37065\n",
      "weighted avg       0.65      0.71      0.61     37065\n",
      "\n"
     ]
    }
   ],
   "source": [
    "#logistic regression\n",
    "logreg2 = LogisticRegression('none')\n",
    "logreg_model2 = logreg2.fit(X_train2, y_train2)\n",
    "y_pred2 = logreg2.predict(X_val2)\n",
    "y_pred_train2 = logreg2.predict(X_train2)\n",
    "print('Accuracy on validation set: ', accuracy_score(y_val2, y_pred2))\n",
    "print('Confusion matrix: \\n', confusion_matrix(y_val2, y_pred2))\n",
    "print('Classification report: \\n', classification_report(y_val2, y_pred2))"
   ],
   "metadata": {
    "collapsed": false
   }
  },
  {
   "cell_type": "code",
   "execution_count": 166,
   "outputs": [
    {
     "name": "stderr",
     "output_type": "stream",
     "text": [
      "C:\\Users\\HUAWEI\\AppData\\Local\\Programs\\Python\\Python310\\lib\\site-packages\\sklearn\\utils\\deprecation.py:87: FutureWarning: Function plot_confusion_matrix is deprecated; Function `plot_confusion_matrix` is deprecated in 1.0 and will be removed in 1.2. Use one of the class methods: ConfusionMatrixDisplay.from_predictions or ConfusionMatrixDisplay.from_estimator.\n",
      "  warnings.warn(msg, category=FutureWarning)\n"
     ]
    },
    {
     "data": {
      "text/plain": "<sklearn.metrics._plot.confusion_matrix.ConfusionMatrixDisplay at 0x2932bf36650>"
     },
     "execution_count": 166,
     "metadata": {},
     "output_type": "execute_result"
    },
    {
     "data": {
      "text/plain": "<Figure size 640x480 with 2 Axes>",
      "image/png": "[encoded data removed]"
     },
     "metadata": {},
     "output_type": "display_data"
    }
   ],
   "source": [
    "# plot confusion matrix\n",
    "plot_confusion_matrix(logreg_model2, X_val2, y_val2, cmap=plt.cm.Blues)"
   ],
   "metadata": {
    "collapsed": false
   }
  },
  {
   "cell_type": "code",
   "execution_count": 153,
   "outputs": [
    {
     "name": "stderr",
     "output_type": "stream",
     "text": [
      "100%|██████████| 9/9 [02:36<00:00, 17.43s/it]\n"
     ]
    }
   ],
   "source": [
    "# knn\n",
    "accuracy_scores2 = []\n",
    "for i in tqdm(range(1, 10)):\n",
    "    knn2 = KNeighborsClassifier(n_neighbors=i)\n",
    "    knn2.fit(X_train2, y_train2)\n",
    "    y_pred2 = knn2.predict(X_val2)\n",
    "    accuracy_scores2.append(accuracy_score(y_val2, y_pred2))"
   ],
   "metadata": {
    "collapsed": false
   }
  },
  {
   "cell_type": "code",
   "execution_count": 154,
   "outputs": [
    {
     "data": {
      "text/plain": "[<matplotlib.lines.Line2D at 0x2932bfc21d0>]"
     },
     "execution_count": 154,
     "metadata": {},
     "output_type": "execute_result"
    },
    {
     "data": {
      "text/plain": "<Figure size 640x480 with 1 Axes>",
      "image/png": "[encoded data removed]"
     },
     "metadata": {},
     "output_type": "display_data"
    }
   ],
   "source": [
    "plt.plot(range(1, 10), accuracy_scores2)"
   ],
   "metadata": {
    "collapsed": false
   }
  },
  {
   "cell_type": "code",
   "execution_count": 155,
   "outputs": [
    {
     "name": "stdout",
     "output_type": "stream",
     "text": [
      "Accuracy on test set:  0.7078810579422107\n",
      "Confusion matrix: \n",
      " [[17109  1494]\n",
      " [ 6149  1412]]\n",
      "Classification report: \n",
      "               precision    recall  f1-score   support\n",
      "\n",
      "       False       0.74      0.92      0.82     18603\n",
      "        True       0.49      0.19      0.27      7561\n",
      "\n",
      "    accuracy                           0.71     26164\n",
      "   macro avg       0.61      0.55      0.54     26164\n",
      "weighted avg       0.66      0.71      0.66     26164\n",
      "\n"
     ]
    }
   ],
   "source": [
    "# train again with best k on whole dev set\n",
    "X_dev2 = scaler.fit_transform(X_dev2)\n",
    "knn2 = KNeighborsClassifier(n_neighbors=8)\n",
    "knn2.fit(X_dev2, y_dev2)\n",
    "y_pred2 = knn2.predict(X_test2)\n",
    "print('Accuracy on test set: ', accuracy_score(y_test2, y_pred2))\n",
    "print('Confusion matrix: \\n', confusion_matrix(y_test2, y_pred2))\n",
    "print('Classification report: \\n', classification_report(y_test2, y_pred2))"
   ],
   "metadata": {
    "collapsed": false
   }
  },
  {
   "cell_type": "markdown",
   "source": [
    "## df with prepared features"
   ],
   "metadata": {
    "collapsed": false
   }
  },
  {
   "cell_type": "code",
   "execution_count": 156,
   "outputs": [],
   "source": [
    "df_incidents_prepared = pd.read_csv('../dataset_preparation/incidents_prepared.csv', index_col=0)"
   ],
   "metadata": {
    "collapsed": false
   }
  },
  {
   "cell_type": "code",
   "execution_count": 157,
   "outputs": [
    {
     "name": "stdout",
     "output_type": "stream",
     "text": [
      "<class 'pandas.core.frame.DataFrame'>\n",
      "Index: 161550 entries, 2015-05-02 to 2015-05-05\n",
      "Data columns (total 31 columns):\n",
      " #   Column                     Non-Null Count   Dtype  \n",
      "---  ------                     --------------   -----  \n",
      " 0   state                      161550 non-null  object \n",
      " 1   city_or_county             161550 non-null  object \n",
      " 2   address                    149848 non-null  object \n",
      " 3   latitude                   161550 non-null  float64\n",
      " 4   longitude                  161550 non-null  float64\n",
      " 5   congressional_district     161550 non-null  float64\n",
      " 6   avg_age_participants       161550 non-null  float64\n",
      " 7   n_killed                   161550 non-null  int64  \n",
      " 8   incident_characteristics1  161550 non-null  object \n",
      " 9   year                       161550 non-null  float64\n",
      " 10  age_group                  161550 non-null  object \n",
      " 11  povertyPercentage          161550 non-null  float64\n",
      " 12  population                 161550 non-null  int64  \n",
      " 13  party                      161550 non-null  object \n",
      " 14  candidatevotes             161550 non-null  float64\n",
      " 15  severity                   161550 non-null  float64\n",
      " 16  severity_cat               161550 non-null  object \n",
      " 17  severity_minor             161550 non-null  float64\n",
      " 18  year_month                 161550 non-null  object \n",
      " 19  killed_by_district         161550 non-null  float64\n",
      " 20  injured_by_district        161550 non-null  float64\n",
      " 21  arrested_ratio             161550 non-null  float64\n",
      " 22  unharmed_ratio             161550 non-null  float64\n",
      " 23  right_or_left              161550 non-null  float64\n",
      " 24  dfm_district_killed        161550 non-null  float64\n",
      " 25  dfm_district_injured       161550 non-null  float64\n",
      " 26  dfm_district_participants  161550 non-null  float64\n",
      " 27  dfm_district_child         161550 non-null  float64\n",
      " 28  dfm_district_teen          161550 non-null  float64\n",
      " 29  dfm_district_females       161550 non-null  float64\n",
      " 30  voters_over_population     161550 non-null  float64\n",
      "dtypes: float64(21), int64(2), object(8)\n",
      "memory usage: 39.4+ MB\n"
     ]
    }
   ],
   "source": [
    "df_incidents_prepared.info()"
   ],
   "metadata": {
    "collapsed": false
   }
  },
  {
   "cell_type": "code",
   "execution_count": 158,
   "outputs": [],
   "source": [
    "df_incidents_prepared['isKilled'] = df_incidents_prepared['n_killed'] > 0"
   ],
   "metadata": {
    "collapsed": false
   }
  },
  {
   "cell_type": "code",
   "execution_count": 159,
   "outputs": [],
   "source": [
    "cols2drop =['year', 'state', 'city_or_county', 'n_killed', 'incident_characteristics1', 'congressional_district', 'address', 'year_month', 'age_group', 'party', 'candidatevotes', 'severity_cat', 'dfm_district_killed', 'killed_by_district', 'severity' ]\n",
    "df_incidents_prepared = df_incidents_prepared.drop(cols2drop, axis=1)"
   ],
   "metadata": {
    "collapsed": false
   }
  },
  {
   "cell_type": "code",
   "execution_count": 160,
   "outputs": [
    {
     "name": "stdout",
     "output_type": "stream",
     "text": [
      "<class 'pandas.core.frame.DataFrame'>\n",
      "Index: 161550 entries, 2015-05-02 to 2015-05-05\n",
      "Data columns (total 17 columns):\n",
      " #   Column                     Non-Null Count   Dtype  \n",
      "---  ------                     --------------   -----  \n",
      " 0   latitude                   161550 non-null  float64\n",
      " 1   longitude                  161550 non-null  float64\n",
      " 2   avg_age_participants       161550 non-null  float64\n",
      " 3   povertyPercentage          161550 non-null  float64\n",
      " 4   population                 161550 non-null  int64  \n",
      " 5   severity_minor             161550 non-null  float64\n",
      " 6   injured_by_district        161550 non-null  float64\n",
      " 7   arrested_ratio             161550 non-null  float64\n",
      " 8   unharmed_ratio             161550 non-null  float64\n",
      " 9   right_or_left              161550 non-null  float64\n",
      " 10  dfm_district_injured       161550 non-null  float64\n",
      " 11  dfm_district_participants  161550 non-null  float64\n",
      " 12  dfm_district_child         161550 non-null  float64\n",
      " 13  dfm_district_teen          161550 non-null  float64\n",
      " 14  dfm_district_females       161550 non-null  float64\n",
      " 15  voters_over_population     161550 non-null  float64\n",
      " 16  isKilled                   161550 non-null  bool   \n",
      "dtypes: bool(1), float64(15), int64(1)\n",
      "memory usage: 21.1+ MB\n"
     ]
    }
   ],
   "source": [
    "df_incidents_prepared.info()"
   ],
   "metadata": {
    "collapsed": false
   }
  },
  {
   "cell_type": "code",
   "execution_count": 161,
   "outputs": [],
   "source": [
    "X3=df_incidents_prepared.drop('isKilled', axis=1)\n",
    "y3=df_incidents_prepared['isKilled']\n",
    "X_dev3, X_test3, y_dev3, y_test3 = train_test_split(X3, y3, test_size=0.15, random_state=42)"
   ],
   "metadata": {
    "collapsed": false
   }
  },
  {
   "cell_type": "code",
   "execution_count": 162,
   "outputs": [
    {
     "name": "stdout",
     "output_type": "stream",
     "text": [
      " # X_train3:  102987\n",
      " # X_val3 :  34330\n",
      " # X_test3 :  24233\n",
      "% killed in train set:  0.2818705273481119\n",
      "% killed in val set:  0.28191086513253716\n",
      "% killed in test set:  0.2769776750711839\n"
     ]
    }
   ],
   "source": [
    "X_train3, X_val3, y_train3, y_val3 = train_test_split(X_dev3, y_dev3, test_size=0.25, random_state=42)\n",
    "print(' # X_train3: ', X_train3.shape[0])\n",
    "print(' # X_val3 : ', X_val3.shape[0])\n",
    "print(' # X_test3 : ', X_test3.shape[0])\n",
    "print(\"% killed in train set: \", y_train3.sum()/y_train3.shape[0])\n",
    "print(\"% killed in val set: \", y_val3.sum()/y_val3.shape[0])\n",
    "print(\"% killed in test set: \", y_test3.sum()/y_test3.shape[0])\n"
   ],
   "metadata": {
    "collapsed": false
   }
  },
  {
   "cell_type": "code",
   "execution_count": 163,
   "outputs": [],
   "source": [
    "# standardize data\n",
    "X_train3 = scaler.fit_transform(X_train3)\n",
    "X_val3 = scaler.transform(X_val3)\n",
    "X_test3 = scaler.transform(X_test3)\n",
    "X_dev3 = scaler.transform(X_dev3)"
   ],
   "metadata": {
    "collapsed": false
   }
  },
  {
   "cell_type": "code",
   "execution_count": 164,
   "outputs": [
    {
     "name": "stdout",
     "output_type": "stream",
     "text": [
      "Accuracy on training set:  0.9257964597473467\n",
      "confusion_matrix on training set: \n",
      " [[71204  2754]\n",
      " [ 4888 24141]]\n",
      "Accuracy on validation set:  0.9282551704048937\n",
      "Confusion matrix: \n",
      " [[23774   878]\n",
      " [ 1585  8093]]\n",
      "Classification report: \n",
      "               precision    recall  f1-score   support\n",
      "\n",
      "       False       0.94      0.96      0.95     24652\n",
      "        True       0.90      0.84      0.87      9678\n",
      "\n",
      "    accuracy                           0.93     34330\n",
      "   macro avg       0.92      0.90      0.91     34330\n",
      "weighted avg       0.93      0.93      0.93     34330\n",
      "\n"
     ]
    }
   ],
   "source": [
    "#logistic regression\n",
    "logreg = LogisticRegression('l2')\n",
    "logreg_model3 = logreg.fit(X_train3, y_train3)\n",
    "y_pred3 = logreg.predict(X_val3)\n",
    "y_pred_train3 = logreg.predict(X_train3)\n",
    "print('Accuracy on training set: ', accuracy_score(y_train3, y_pred_train3))\n",
    "print('confusion_matrix on training set: \\n', confusion_matrix(y_train3, y_pred_train3))\n",
    "print('Accuracy on validation set: ', accuracy_score(y_val3, y_pred3))\n",
    "print('Confusion matrix: \\n', confusion_matrix(y_val3, y_pred3))\n",
    "print('Classification report: \\n', classification_report(y_val3, y_pred3))"
   ],
   "metadata": {
    "collapsed": false
   }
  },
  {
   "cell_type": "code",
   "execution_count": 167,
   "outputs": [
    {
     "name": "stderr",
     "output_type": "stream",
     "text": [
      "C:\\Users\\HUAWEI\\AppData\\Local\\Programs\\Python\\Python310\\lib\\site-packages\\sklearn\\utils\\deprecation.py:87: FutureWarning: Function plot_confusion_matrix is deprecated; Function `plot_confusion_matrix` is deprecated in 1.0 and will be removed in 1.2. Use one of the class methods: ConfusionMatrixDisplay.from_predictions or ConfusionMatrixDisplay.from_estimator.\n",
      "  warnings.warn(msg, category=FutureWarning)\n"
     ]
    },
    {
     "data": {
      "text/plain": "<sklearn.metrics._plot.confusion_matrix.ConfusionMatrixDisplay at 0x2932beec460>"
     },
     "execution_count": 167,
     "metadata": {},
     "output_type": "execute_result"
    },
    {
     "data": {
      "text/plain": "<Figure size 640x480 with 2 Axes>",
      "image/png": "[encoded data removed]"
     },
     "metadata": {},
     "output_type": "display_data"
    }
   ],
   "source": [
    "# plot confusion matrix\n",
    "plot_confusion_matrix(logreg_model3, X_val3, y_val3, cmap=plt.cm.Blues)\n"
   ],
   "metadata": {
    "collapsed": false
   }
  },
  {
   "cell_type": "code",
   "execution_count": 165,
   "outputs": [
    {
     "name": "stdout",
     "output_type": "stream",
     "text": [
      "('latitude', -0.46202007724890354)\n",
      "('longitude', -0.3843752693380765)\n",
      "('avg_age_participants', 0.2564377040933466)\n",
      "('povertyPercentage', -0.009851598082919999)\n",
      "('population', -0.10358036428262433)\n",
      "('severity_minor', 0.1334638097274995)\n",
      "('injured_by_district', 0.04962406852988731)\n",
      "('arrested_ratio', -3.1853076926974992)\n",
      "('unharmed_ratio', -3.182546267789495)\n",
      "('right_or_left', 0.38320046946359615)\n",
      "('dfm_district_injured', -3.284565086173139)\n",
      "('dfm_district_participants', 2.6103575784797677)\n",
      "('dfm_district_child', -0.20675243751900094)\n",
      "('dfm_district_teen', -0.20537345355500752)\n",
      "('dfm_district_females', -0.010692479634205516)\n",
      "('voters_over_population', -0.07989185846781695)\n"
     ]
    }
   ],
   "source": [
    "# weights of model\n",
    "for i in zip(df_incidents_prepared.columns, logreg_model3.coef_[0]):\n",
    "    print(i)"
   ],
   "metadata": {
    "collapsed": false
   }
  },
  {
   "cell_type": "code",
   "execution_count": 165,
   "outputs": [],
   "source": [],
   "metadata": {
    "collapsed": false
   }
  }
 ],
 "metadata": {
  "kernelspec": {
   "display_name": "Python 3",
   "language": "python",
   "name": "python3"
  },
  "language_info": {
   "codemirror_mode": {
    "name": "ipython",
    "version": 2
   },
   "file_extension": ".py",
   "mimetype": "text/x-python",
   "name": "python",
   "nbconvert_exporter": "python",
   "pygments_lexer": "ipython2",
   "version": "2.7.6"
  }
 },
 "nbformat": 4,
 "nbformat_minor": 0
}
