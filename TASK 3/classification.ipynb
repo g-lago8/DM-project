{
 "cells": [
  {
   "cell_type": "markdown",
   "source": [
    "# Task 3: Classification"
   ],
   "metadata": {
    "collapsed": false
   }
  },
  {
   "cell_type": "code",
   "execution_count": 234,
   "outputs": [],
   "source": [
    "# imports\n",
    "import numpy as np\n",
    "import pandas as pd\n",
    "from tqdm import tqdm\n",
    "import matplotlib.pyplot as plt\n",
    "import seaborn as sns\n",
    "import sklearn\n",
    "\n",
    "from sklearn.model_selection import train_test_split\n",
    "from sklearn.metrics import accuracy_score, precision_score, recall_score, f1_score, confusion_matrix, classification_report"
   ],
   "metadata": {
    "collapsed": false
   }
  },
  {
   "cell_type": "markdown",
   "source": [
    "## 3.1 Classification with all features available"
   ],
   "metadata": {
    "collapsed": false
   }
  },
  {
   "cell_type": "markdown",
   "source": [
    "Our first approach is to use all the features available in the original dataset, and those we created in the previous task from those features.\n",
    "\n",
    "In particular we can use `n_injured`, `n_unharmed` and `n_arrested` to predict `n_killed`. We can also use `n_participants`, `n_participants_adult`, `n_participants_child`, `n_participants_teen`, `n_participants_females` to predict `n_killed`."
   ],
   "metadata": {
    "collapsed": false
   }
  },
  {
   "cell_type": "markdown",
   "source": [
    "### 3.1.1 Preparing data for classification"
   ],
   "metadata": {
    "collapsed": false
   }
  },
  {
   "cell_type": "code",
   "execution_count": 235,
   "metadata": {},
   "outputs": [],
   "source": [
    "# imports\n",
    "import numpy as np\n",
    "import pandas as pd\n",
    "from tqdm import tqdm\n",
    "import matplotlib.pyplot as plt\n",
    "import seaborn as sns\n",
    "import sklearn\n",
    "from sklearn.model_selection import train_test_split"
   ]
  },
  {
   "cell_type": "code",
   "execution_count": 236,
   "metadata": {
    "collapsed": false
   },
   "outputs": [],
   "source": [
    "df_incidents_prepared = pd.read_csv('../dataset_preparation/incidents_prepared.csv', index_col=0)\n",
    "df_orig = pd.read_csv('../dataset_preparation/original_features.csv', index_col=0)"
   ]
  },
  {
   "cell_type": "code",
   "execution_count": 237,
   "outputs": [
    {
     "name": "stdout",
     "output_type": "stream",
     "text": [
      "<class 'pandas.core.frame.DataFrame'>\n",
      "Int64Index: 161550 entries, 0 to 164506\n",
      "Data columns (total 41 columns):\n",
      " #   Column                     Non-Null Count   Dtype  \n",
      "---  ------                     --------------   -----  \n",
      " 0   date                       161550 non-null  object \n",
      " 1   state                      161550 non-null  object \n",
      " 2   city_or_county             161550 non-null  object \n",
      " 3   address                    149848 non-null  object \n",
      " 4   latitude                   161550 non-null  float64\n",
      " 5   longitude                  161550 non-null  float64\n",
      " 6   congressional_district     161550 non-null  float64\n",
      " 7   avg_age_participants       161550 non-null  float64\n",
      " 8   n_killed                   161550 non-null  int64  \n",
      " 9   incident_characteristics1  161550 non-null  object \n",
      " 10  year                       161550 non-null  float64\n",
      " 11  age_group                  161550 non-null  object \n",
      " 12  povertyPercentage          161550 non-null  float64\n",
      " 13  population                 161550 non-null  int64  \n",
      " 14  party                      161550 non-null  object \n",
      " 15  candidatevotes             161550 non-null  float64\n",
      " 16  severity                   161550 non-null  float64\n",
      " 17  severity_cat               161550 non-null  object \n",
      " 18  severity_minor             161550 non-null  float64\n",
      " 19  year_month                 161550 non-null  object \n",
      " 20  killed_by_district         161550 non-null  float64\n",
      " 21  injured_by_district        161550 non-null  float64\n",
      " 22  arrested_ratio             161550 non-null  float64\n",
      " 23  unharmed_ratio             161550 non-null  float64\n",
      " 24  right_or_left              161550 non-null  float64\n",
      " 25  dfm_district_killed        161550 non-null  float64\n",
      " 26  dfm_district_injured       161550 non-null  float64\n",
      " 27  dfm_district_participants  161550 non-null  float64\n",
      " 28  dfm_district_child         161550 non-null  float64\n",
      " 29  dfm_district_teen          161550 non-null  float64\n",
      " 30  dfm_district_females       161550 non-null  float64\n",
      " 31  voters_over_population     161550 non-null  float64\n",
      " 32  n_arrested                 161550 non-null  float64\n",
      " 33  n_participants             161550 non-null  float64\n",
      " 34  n_participants_adult       161550 non-null  float64\n",
      " 35  n_participants_teen        161550 non-null  float64\n",
      " 36  n_participants_child       161550 non-null  float64\n",
      " 37  n_females                  161550 non-null  float64\n",
      " 38  n_males                    161550 non-null  float64\n",
      " 39  n_injured                  161550 non-null  int64  \n",
      " 40  n_unharmed                 161550 non-null  float64\n",
      "dtypes: float64(29), int64(3), object(9)\n",
      "memory usage: 55.8+ MB\n"
     ]
    }
   ],
   "source": [
    "df_incidents_prepared=df_incidents_prepared.join(df_orig)\n",
    "df_incidents_prepared.info()"
   ],
   "metadata": {
    "collapsed": false
   }
  },
  {
   "cell_type": "markdown",
   "source": [
    "Now, `incidents_prepared` is the whole dataset with both original features and features created by us.\n",
    "We decided to use only the original features for what concerns the gender and age groups of the participants: we kept `n_participants`, `n_participants_adult`, `n_participants_child`, `n_participants_teen`, `n_participants_females`. We dropped `n_participants_male` because it is highly correlated with `n_participants`."
   ],
   "metadata": {
    "collapsed": false
   }
  },
  {
   "cell_type": "code",
   "execution_count": 238,
   "outputs": [],
   "source": [
    "df_incidents_prepared['isKilled'] = df_incidents_prepared['n_killed'] > 0"
   ],
   "metadata": {
    "collapsed": false
   }
  },
  {
   "cell_type": "code",
   "execution_count": 239,
   "metadata": {},
   "outputs": [],
   "source": [
    "cols2drop=[\n",
    "            #categorical features difficult to encode\n",
    "           'address', 'city_or_county','congressional_district','date','state', 'year_month',\n",
    "           'avg_age_participants', # we already have age_group\n",
    "           'n_killed',  #label\n",
    "           'incident_characteristics1', # too similar to the label isKilled\n",
    "           'severity', 'severity_cat', # created from n_killed\n",
    "\n",
    "           # we decided to use original features n_females, n_injured etc. all those features are highly correlated. We decided to keep the original features because they are more interpretable\n",
    "           'killed_by_district','injured_by_district', 'dfm_district_killed','dfm_district_injured', 'dfm_district_participants', 'dfm_district_child', 'dfm_district_teen', 'dfm_district_females', 'arrested_ratio', 'unharmed_ratio', 'severity_minor',\n",
    "\n",
    "           # correlated with n_participants\n",
    "            'n_participants_adult'\n",
    "            ]\n",
    "df_incidents_prepared=df_incidents_prepared.drop(cols2drop, axis=1)"
   ]
  },
  {
   "cell_type": "code",
   "execution_count": 240,
   "outputs": [
    {
     "name": "stdout",
     "output_type": "stream",
     "text": [
      "<class 'pandas.core.frame.DataFrame'>\n",
      "Int64Index: 161550 entries, 0 to 164506\n",
      "Data columns (total 19 columns):\n",
      " #   Column                  Non-Null Count   Dtype  \n",
      "---  ------                  --------------   -----  \n",
      " 0   latitude                161550 non-null  float64\n",
      " 1   longitude               161550 non-null  float64\n",
      " 2   year                    161550 non-null  float64\n",
      " 3   age_group               161550 non-null  object \n",
      " 4   povertyPercentage       161550 non-null  float64\n",
      " 5   population              161550 non-null  int64  \n",
      " 6   party                   161550 non-null  object \n",
      " 7   candidatevotes          161550 non-null  float64\n",
      " 8   right_or_left           161550 non-null  float64\n",
      " 9   voters_over_population  161550 non-null  float64\n",
      " 10  n_arrested              161550 non-null  float64\n",
      " 11  n_participants          161550 non-null  float64\n",
      " 12  n_participants_teen     161550 non-null  float64\n",
      " 13  n_participants_child    161550 non-null  float64\n",
      " 14  n_females               161550 non-null  float64\n",
      " 15  n_males                 161550 non-null  float64\n",
      " 16  n_injured               161550 non-null  int64  \n",
      " 17  n_unharmed              161550 non-null  float64\n",
      " 18  isKilled                161550 non-null  bool   \n",
      "dtypes: bool(1), float64(14), int64(2), object(2)\n",
      "memory usage: 27.6+ MB\n"
     ]
    }
   ],
   "source": [
    "df_incidents_prepared.info()"
   ],
   "metadata": {
    "collapsed": false
   }
  },
  {
   "cell_type": "code",
   "execution_count": 241,
   "metadata": {},
   "outputs": [],
   "source": [
    "X=df_incidents_prepared.drop('isKilled', axis=1)\n",
    "y=df_incidents_prepared['isKilled']"
   ]
  },
  {
   "cell_type": "code",
   "execution_count": 242,
   "outputs": [
    {
     "data": {
      "text/plain": "   latitude  longitude    year age_group  povertyPercentage  population  \\\n0   39.8322   -86.2492  2015.0   [18-24]               12.3     6608422   \n1   39.7745   -86.1166  2015.0   [25-34]               12.3     6608422   \n2   39.7759   -86.2940  2015.0   [35-44]               12.3     6608422   \n3   39.8040   -86.0095  2015.0   [18-24]               12.3     6608422   \n4   39.7882   -86.2091  2015.0   [45-54]               12.3     6608422   \n\n      party  candidatevotes  right_or_left  voters_over_population  \\\n0  DEMOCRAT         61443.0       0.452677                0.203046   \n1  DEMOCRAT         61443.0       0.452677                0.203046   \n2  DEMOCRAT         61443.0       0.452677                0.203046   \n3  DEMOCRAT         61443.0       0.452677                0.203046   \n4  DEMOCRAT         61443.0       0.452677                0.203046   \n\n   n_arrested  n_participants  n_participants_teen  n_participants_child  \\\n0         0.0             1.0                  0.0                   0.0   \n1         1.0             2.0                  0.0                   0.0   \n2         1.0             2.0                  0.0                   0.0   \n3         0.0             1.0                  0.0                   0.0   \n4         0.0             1.0                  0.0                   0.0   \n\n   n_females  n_males  n_injured  n_unharmed  \n0        0.0      1.0          1         0.0  \n1        0.0      2.0          0         0.0  \n2        0.0      2.0          0         0.0  \n3        0.0      1.0          0         0.0  \n4        0.0      1.0          1         0.0  ",
      "text/html": "<div>\n<style scoped>\n    .dataframe tbody tr th:only-of-type {\n        vertical-align: middle;\n    }\n\n    .dataframe tbody tr th {\n        vertical-align: top;\n    }\n\n    .dataframe thead th {\n        text-align: right;\n    }\n</style>\n<table border=\"1\" class=\"dataframe\">\n  <thead>\n    <tr style=\"text-align: right;\">\n      <th></th>\n      <th>latitude</th>\n      <th>longitude</th>\n      <th>year</th>\n      <th>age_group</th>\n      <th>povertyPercentage</th>\n      <th>population</th>\n      <th>party</th>\n      <th>candidatevotes</th>\n      <th>right_or_left</th>\n      <th>voters_over_population</th>\n      <th>n_arrested</th>\n      <th>n_participants</th>\n      <th>n_participants_teen</th>\n      <th>n_participants_child</th>\n      <th>n_females</th>\n      <th>n_males</th>\n      <th>n_injured</th>\n      <th>n_unharmed</th>\n    </tr>\n  </thead>\n  <tbody>\n    <tr>\n      <th>0</th>\n      <td>39.8322</td>\n      <td>-86.2492</td>\n      <td>2015.0</td>\n      <td>[18-24]</td>\n      <td>12.3</td>\n      <td>6608422</td>\n      <td>DEMOCRAT</td>\n      <td>61443.0</td>\n      <td>0.452677</td>\n      <td>0.203046</td>\n      <td>0.0</td>\n      <td>1.0</td>\n      <td>0.0</td>\n      <td>0.0</td>\n      <td>0.0</td>\n      <td>1.0</td>\n      <td>1</td>\n      <td>0.0</td>\n    </tr>\n    <tr>\n      <th>1</th>\n      <td>39.7745</td>\n      <td>-86.1166</td>\n      <td>2015.0</td>\n      <td>[25-34]</td>\n      <td>12.3</td>\n      <td>6608422</td>\n      <td>DEMOCRAT</td>\n      <td>61443.0</td>\n      <td>0.452677</td>\n      <td>0.203046</td>\n      <td>1.0</td>\n      <td>2.0</td>\n      <td>0.0</td>\n      <td>0.0</td>\n      <td>0.0</td>\n      <td>2.0</td>\n      <td>0</td>\n      <td>0.0</td>\n    </tr>\n    <tr>\n      <th>2</th>\n      <td>39.7759</td>\n      <td>-86.2940</td>\n      <td>2015.0</td>\n      <td>[35-44]</td>\n      <td>12.3</td>\n      <td>6608422</td>\n      <td>DEMOCRAT</td>\n      <td>61443.0</td>\n      <td>0.452677</td>\n      <td>0.203046</td>\n      <td>1.0</td>\n      <td>2.0</td>\n      <td>0.0</td>\n      <td>0.0</td>\n      <td>0.0</td>\n      <td>2.0</td>\n      <td>0</td>\n      <td>0.0</td>\n    </tr>\n    <tr>\n      <th>3</th>\n      <td>39.8040</td>\n      <td>-86.0095</td>\n      <td>2015.0</td>\n      <td>[18-24]</td>\n      <td>12.3</td>\n      <td>6608422</td>\n      <td>DEMOCRAT</td>\n      <td>61443.0</td>\n      <td>0.452677</td>\n      <td>0.203046</td>\n      <td>0.0</td>\n      <td>1.0</td>\n      <td>0.0</td>\n      <td>0.0</td>\n      <td>0.0</td>\n      <td>1.0</td>\n      <td>0</td>\n      <td>0.0</td>\n    </tr>\n    <tr>\n      <th>4</th>\n      <td>39.7882</td>\n      <td>-86.2091</td>\n      <td>2015.0</td>\n      <td>[45-54]</td>\n      <td>12.3</td>\n      <td>6608422</td>\n      <td>DEMOCRAT</td>\n      <td>61443.0</td>\n      <td>0.452677</td>\n      <td>0.203046</td>\n      <td>0.0</td>\n      <td>1.0</td>\n      <td>0.0</td>\n      <td>0.0</td>\n      <td>0.0</td>\n      <td>1.0</td>\n      <td>1</td>\n      <td>0.0</td>\n    </tr>\n  </tbody>\n</table>\n</div>"
     },
     "execution_count": 242,
     "metadata": {},
     "output_type": "execute_result"
    }
   ],
   "source": [
    "X.head()"
   ],
   "metadata": {
    "collapsed": false
   }
  },
  {
   "cell_type": "markdown",
   "source": [
    "One Hot Encoding of categorical features"
   ],
   "metadata": {
    "collapsed": false
   }
  },
  {
   "cell_type": "code",
   "execution_count": 243,
   "metadata": {},
   "outputs": [
    {
     "name": "stdout",
     "output_type": "stream",
     "text": [
      "<class 'pandas.core.frame.DataFrame'>\n",
      "Int64Index: 161550 entries, 0 to 164506\n",
      "Data columns (total 27 columns):\n",
      " #   Column                  Non-Null Count   Dtype  \n",
      "---  ------                  --------------   -----  \n",
      " 0   latitude                161550 non-null  float64\n",
      " 1   longitude               161550 non-null  float64\n",
      " 2   year                    161550 non-null  float64\n",
      " 3   povertyPercentage       161550 non-null  float64\n",
      " 4   population              161550 non-null  int64  \n",
      " 5   candidatevotes          161550 non-null  float64\n",
      " 6   right_or_left           161550 non-null  float64\n",
      " 7   voters_over_population  161550 non-null  float64\n",
      " 8   n_arrested              161550 non-null  float64\n",
      " 9   n_participants          161550 non-null  float64\n",
      " 10  n_participants_teen     161550 non-null  float64\n",
      " 11  n_participants_child    161550 non-null  float64\n",
      " 12  n_females               161550 non-null  float64\n",
      " 13  n_males                 161550 non-null  float64\n",
      " 14  n_injured               161550 non-null  int64  \n",
      " 15  n_unharmed              161550 non-null  float64\n",
      " 16  age_group_[0-11]        161550 non-null  uint8  \n",
      " 17  age_group_[12-17]       161550 non-null  uint8  \n",
      " 18  age_group_[18-24]       161550 non-null  uint8  \n",
      " 19  age_group_[25-34]       161550 non-null  uint8  \n",
      " 20  age_group_[35-44]       161550 non-null  uint8  \n",
      " 21  age_group_[45-54]       161550 non-null  uint8  \n",
      " 22  age_group_[55-64]       161550 non-null  uint8  \n",
      " 23  age_group_[65-74]       161550 non-null  uint8  \n",
      " 24  age_group_[75-100]      161550 non-null  uint8  \n",
      " 25  party_DEMOCRAT          161550 non-null  uint8  \n",
      " 26  party_REPUBLICAN        161550 non-null  uint8  \n",
      "dtypes: float64(14), int64(2), uint8(11)\n",
      "memory usage: 26.7 MB\n"
     ]
    }
   ],
   "source": [
    "import pandas as pd\n",
    "X=pd.get_dummies(X)\n",
    "X.info()"
   ]
  },
  {
   "cell_type": "markdown",
   "source": [
    "### 3.1.2 Splitting data into train and test set"
   ],
   "metadata": {
    "collapsed": false
   }
  },
  {
   "cell_type": "code",
   "execution_count": 244,
   "outputs": [],
   "source": [
    "from sklearn.model_selection import train_test_split\n",
    "X_train, X_test, y_train, y_test = train_test_split(X, y, stratify=y, test_size=0.2, random_state=42)"
   ],
   "metadata": {
    "collapsed": false
   }
  },
  {
   "cell_type": "markdown",
   "source": [
    "### 3.1.3 Logistic Regression"
   ],
   "metadata": {
    "collapsed": false
   }
  },
  {
   "cell_type": "code",
   "execution_count": 245,
   "outputs": [],
   "source": [
    "from sklearn.preprocessing import StandardScaler\n",
    "from sklearn.linear_model import LogisticRegression"
   ],
   "metadata": {
    "collapsed": false
   }
  },
  {
   "cell_type": "code",
   "execution_count": 246,
   "outputs": [],
   "source": [
    "scaler = StandardScaler()\n",
    "X_train_scaled=scaler.fit_transform(X_train)\n",
    "X_test_scaled=scaler.transform(X_test)"
   ],
   "metadata": {
    "collapsed": false
   }
  },
  {
   "cell_type": "code",
   "execution_count": 247,
   "outputs": [],
   "source": [
    "# fitting the model\n",
    "logreg = LogisticRegression()\n",
    "logreg_model = logreg.fit(X_train_scaled, y_train)"
   ],
   "metadata": {
    "collapsed": false
   }
  },
  {
   "cell_type": "code",
   "execution_count": 248,
   "outputs": [],
   "source": [
    "# predictions\n",
    "y_pred = logreg.predict(X_test_scaled)\n",
    "y_pred_train = logreg.predict(X_train_scaled)"
   ],
   "metadata": {
    "collapsed": false
   }
  },
  {
   "cell_type": "code",
   "execution_count": 249,
   "outputs": [
    {
     "name": "stdout",
     "output_type": "stream",
     "text": [
      "Accuracy on training set:  0.9764159702878366\n",
      "confusion_matrix on training set: \n",
      " [[90595  2310]\n",
      " [  738 35597]]\n",
      "Accuracy on validation set:  0.9776539770968741\n",
      "Confusion matrix: \n",
      " [[22685   541]\n",
      " [  181  8903]]\n",
      "Classification report: \n",
      "               precision    recall  f1-score   support\n",
      "\n",
      "       False       0.99      0.98      0.98     23226\n",
      "        True       0.94      0.98      0.96      9084\n",
      "\n",
      "    accuracy                           0.98     32310\n",
      "   macro avg       0.97      0.98      0.97     32310\n",
      "weighted avg       0.98      0.98      0.98     32310\n",
      "\n"
     ]
    }
   ],
   "source": [
    "# metrics\n",
    "print('Accuracy on training set: ', accuracy_score(y_train, y_pred_train))\n",
    "print('confusion_matrix on training set: \\n', confusion_matrix(y_train, y_pred_train))\n",
    "print('Accuracy on validation set: ', accuracy_score(y_test, y_pred))\n",
    "print('Confusion matrix: \\n', confusion_matrix(y_test, y_pred))\n",
    "print('Classification report: \\n', classification_report(y_test, y_pred))"
   ],
   "metadata": {
    "collapsed": false
   }
  },
  {
   "cell_type": "code",
   "execution_count": 254,
   "outputs": [
    {
     "data": {
      "text/plain": "<Axes: >"
     },
     "execution_count": 254,
     "metadata": {},
     "output_type": "execute_result"
    },
    {
     "data": {
      "text/plain": "<Figure size 640x480 with 2 Axes>",
      "image/png": "[encoded data removed]"
     },
     "metadata": {},
     "output_type": "display_data"
    }
   ],
   "source": [
    "# plot confusion matrix\n",
    "sns.heatmap(confusion_matrix(y_test, y_pred), annot=True, fmt='d', cmap='Blues')"
   ],
   "metadata": {
    "collapsed": false
   }
  },
  {
   "cell_type": "markdown",
   "source": [
    "#### Discussion\n",
    "\n",
    "We can see that the arguably simpler model of them all is almost perfect, with an accuracy of $97.8\\%$ on the test set, and a F1-score of $0.97$.\n",
    "Our hypothesis is that the task is almost linear due to the fact that we have the features `n_injured` and `n_unharmed`. While those two features are not directly correlated to the label, it's easy to understand that $ n_{killed} \\approx n_{participants}- n_{injured}- n_{unharmed} -n_{arrested}$        in the majority of cases.\n",
    "\n",
    "We can verify our hypothesis by looking at the weights of the model:"
   ],
   "metadata": {
    "collapsed": false
   }
  },
  {
   "cell_type": "code",
   "execution_count": 257,
   "outputs": [
    {
     "name": "stdout",
     "output_type": "stream",
     "text": [
      "latitude -0.25124512786869685\n",
      "longitude -0.13040202157530473\n",
      "year 0.1283046129092459\n",
      "povertyPercentage -0.12676654016593625\n",
      "population -0.05025305344812988\n",
      "candidatevotes -0.0005995221194863229\n",
      "right_or_left -0.11980699244902059\n",
      "voters_over_population -0.11692770999880574\n",
      "n_arrested -6.15593309302245\n",
      "n_participants 6.468147365022189\n",
      "n_participants_teen 0.12357442760426762\n",
      "n_participants_child 0.08677346773359136\n",
      "n_females 0.7730949225546132\n",
      "n_males 1.707187146907592\n",
      "n_injured -5.472209128545939\n",
      "n_unharmed -6.485716478011078\n",
      "age_group_[0-11] -0.10603199934586036\n",
      "age_group_[12-17] -0.17925186895512008\n",
      "age_group_[18-24] -0.04170864107591622\n",
      "age_group_[25-34] 0.04768282902528395\n",
      "age_group_[35-44] 0.08920300558248082\n",
      "age_group_[45-54] 0.037578045018967374\n",
      "age_group_[55-64] 0.05641123432518574\n",
      "age_group_[65-74] 0.008325213194440679\n",
      "age_group_[75-100] 0.010692710057670833\n",
      "party_DEMOCRAT 0.011134922449219741\n",
      "party_REPUBLICAN -0.011134922449219741\n"
     ]
    }
   ],
   "source": [
    "for feature, weight in zip(X.columns, logreg_model.coef_[0]):\n",
    "    print(feature, weight)"
   ],
   "metadata": {
    "collapsed": false
   }
  },
  {
   "cell_type": "markdown",
   "source": [
    "We see that the order of magnitude of the weights is between $O(1)$ and $O(10)$, for the aforementioned features, while is smaller ($O(10^{-1})$ to $O(10^{-3})$) for almost all the other. This means that the leading computation is $n_{participants}- n_{injured} - n_{unharmed} - n_{arrested}$."
   ],
   "metadata": {
    "collapsed": false
   }
  },
  {
   "cell_type": "markdown",
   "source": [
    "For this reason, we decided to not use the features `n_injured`, `n_unharmed` and `n_arrested` in the following models."
   ],
   "metadata": {
    "collapsed": false
   }
  },
  {
   "cell_type": "markdown",
   "source": [
    "## 3.2 Classification without 'n_injured', 'n_unharmed', and 'n_arrested'\n",
    "\n",
    "We have seen that keeping those features leads to great results in classification, even with a simple model like logistic regression.\n",
    "That is because `n_participants` $\\approx$ `n_injured` + `n_unharmed` + `n_arrested`+ `n_killed`.\n",
    "We decided to drop those features because, if the number of killed is unknown, it is reasonable that the number of injured, unharmed and arrested could also be unknown."
   ],
   "metadata": {
    "collapsed": false
   }
  },
  {
   "cell_type": "code",
   "execution_count": 258,
   "outputs": [],
   "source": [
    "X.drop(['n_injured', 'n_unharmed', 'n_arrested'], axis=1, inplace=True)"
   ],
   "metadata": {
    "collapsed": false
   }
  },
  {
   "cell_type": "code",
   "execution_count": 260,
   "outputs": [
    {
     "data": {
      "text/plain": "   latitude  longitude    year  povertyPercentage  population  candidatevotes  \\\n0   39.8322   -86.2492  2015.0               12.3     6608422         61443.0   \n1   39.7745   -86.1166  2015.0               12.3     6608422         61443.0   \n2   39.7759   -86.2940  2015.0               12.3     6608422         61443.0   \n3   39.8040   -86.0095  2015.0               12.3     6608422         61443.0   \n4   39.7882   -86.2091  2015.0               12.3     6608422         61443.0   \n\n   right_or_left  voters_over_population  n_participants  n_participants_teen  \\\n0       0.452677                0.203046             1.0                  0.0   \n1       0.452677                0.203046             2.0                  0.0   \n2       0.452677                0.203046             2.0                  0.0   \n3       0.452677                0.203046             1.0                  0.0   \n4       0.452677                0.203046             1.0                  0.0   \n\n   ...  age_group_[12-17]  age_group_[18-24]  age_group_[25-34]  \\\n0  ...                  0                  1                  0   \n1  ...                  0                  0                  1   \n2  ...                  0                  0                  0   \n3  ...                  0                  1                  0   \n4  ...                  0                  0                  0   \n\n   age_group_[35-44]  age_group_[45-54]  age_group_[55-64]  age_group_[65-74]  \\\n0                  0                  0                  0                  0   \n1                  0                  0                  0                  0   \n2                  1                  0                  0                  0   \n3                  0                  0                  0                  0   \n4                  0                  1                  0                  0   \n\n   age_group_[75-100]  party_DEMOCRAT  party_REPUBLICAN  \n0                   0               1                 0  \n1                   0               1                 0  \n2                   0               1                 0  \n3                   0               1                 0  \n4                   0               1                 0  \n\n[5 rows x 24 columns]",
      "text/html": "<div>\n<style scoped>\n    .dataframe tbody tr th:only-of-type {\n        vertical-align: middle;\n    }\n\n    .dataframe tbody tr th {\n        vertical-align: top;\n    }\n\n    .dataframe thead th {\n        text-align: right;\n    }\n</style>\n<table border=\"1\" class=\"dataframe\">\n  <thead>\n    <tr style=\"text-align: right;\">\n      <th></th>\n      <th>latitude</th>\n      <th>longitude</th>\n      <th>year</th>\n      <th>povertyPercentage</th>\n      <th>population</th>\n      <th>candidatevotes</th>\n      <th>right_or_left</th>\n      <th>voters_over_population</th>\n      <th>n_participants</th>\n      <th>n_participants_teen</th>\n      <th>...</th>\n      <th>age_group_[12-17]</th>\n      <th>age_group_[18-24]</th>\n      <th>age_group_[25-34]</th>\n      <th>age_group_[35-44]</th>\n      <th>age_group_[45-54]</th>\n      <th>age_group_[55-64]</th>\n      <th>age_group_[65-74]</th>\n      <th>age_group_[75-100]</th>\n      <th>party_DEMOCRAT</th>\n      <th>party_REPUBLICAN</th>\n    </tr>\n  </thead>\n  <tbody>\n    <tr>\n      <th>0</th>\n      <td>39.8322</td>\n      <td>-86.2492</td>\n      <td>2015.0</td>\n      <td>12.3</td>\n      <td>6608422</td>\n      <td>61443.0</td>\n      <td>0.452677</td>\n      <td>0.203046</td>\n      <td>1.0</td>\n      <td>0.0</td>\n      <td>...</td>\n      <td>0</td>\n      <td>1</td>\n      <td>0</td>\n      <td>0</td>\n      <td>0</td>\n      <td>0</td>\n      <td>0</td>\n      <td>0</td>\n      <td>1</td>\n      <td>0</td>\n    </tr>\n    <tr>\n      <th>1</th>\n      <td>39.7745</td>\n      <td>-86.1166</td>\n      <td>2015.0</td>\n      <td>12.3</td>\n      <td>6608422</td>\n      <td>61443.0</td>\n      <td>0.452677</td>\n      <td>0.203046</td>\n      <td>2.0</td>\n      <td>0.0</td>\n      <td>...</td>\n      <td>0</td>\n      <td>0</td>\n      <td>1</td>\n      <td>0</td>\n      <td>0</td>\n      <td>0</td>\n      <td>0</td>\n      <td>0</td>\n      <td>1</td>\n      <td>0</td>\n    </tr>\n    <tr>\n      <th>2</th>\n      <td>39.7759</td>\n      <td>-86.2940</td>\n      <td>2015.0</td>\n      <td>12.3</td>\n      <td>6608422</td>\n      <td>61443.0</td>\n      <td>0.452677</td>\n      <td>0.203046</td>\n      <td>2.0</td>\n      <td>0.0</td>\n      <td>...</td>\n      <td>0</td>\n      <td>0</td>\n      <td>0</td>\n      <td>1</td>\n      <td>0</td>\n      <td>0</td>\n      <td>0</td>\n      <td>0</td>\n      <td>1</td>\n      <td>0</td>\n    </tr>\n    <tr>\n      <th>3</th>\n      <td>39.8040</td>\n      <td>-86.0095</td>\n      <td>2015.0</td>\n      <td>12.3</td>\n      <td>6608422</td>\n      <td>61443.0</td>\n      <td>0.452677</td>\n      <td>0.203046</td>\n      <td>1.0</td>\n      <td>0.0</td>\n      <td>...</td>\n      <td>0</td>\n      <td>1</td>\n      <td>0</td>\n      <td>0</td>\n      <td>0</td>\n      <td>0</td>\n      <td>0</td>\n      <td>0</td>\n      <td>1</td>\n      <td>0</td>\n    </tr>\n    <tr>\n      <th>4</th>\n      <td>39.7882</td>\n      <td>-86.2091</td>\n      <td>2015.0</td>\n      <td>12.3</td>\n      <td>6608422</td>\n      <td>61443.0</td>\n      <td>0.452677</td>\n      <td>0.203046</td>\n      <td>1.0</td>\n      <td>0.0</td>\n      <td>...</td>\n      <td>0</td>\n      <td>0</td>\n      <td>0</td>\n      <td>0</td>\n      <td>1</td>\n      <td>0</td>\n      <td>0</td>\n      <td>0</td>\n      <td>1</td>\n      <td>0</td>\n    </tr>\n  </tbody>\n</table>\n<p>5 rows × 24 columns</p>\n</div>"
     },
     "execution_count": 260,
     "metadata": {},
     "output_type": "execute_result"
    }
   ],
   "source": [
    "X.head()"
   ],
   "metadata": {
    "collapsed": false
   }
  },
  {
   "cell_type": "code",
   "execution_count": 259,
   "outputs": [],
   "source": [
    "X_train, X_test, y_train, y_test = train_test_split(X, y, stratify=y, test_size=0.2, random_state=42)"
   ],
   "metadata": {
    "collapsed": false
   }
  },
  {
   "cell_type": "markdown",
   "source": [
    "### 3.2.2 Decision Trees"
   ],
   "metadata": {
    "collapsed": false
   }
  },
  {
   "cell_type": "code",
   "execution_count": 261,
   "outputs": [],
   "source": [
    "import numpy as np\n",
    "import matplotlib.pyplot as plt\n",
    "from sklearn.tree import DecisionTreeClassifier\n",
    "from sklearn.model_selection import train_test_split\n",
    "from sklearn.metrics import accuracy_score, precision_score, recall_score, f1_score, confusion_matrix, classification_report"
   ],
   "metadata": {
    "collapsed": false
   }
  },
  {
   "cell_type": "markdown",
   "source": [
    "#### Grid search for Decision Tree Parameters"
   ],
   "metadata": {
    "collapsed": false
   }
  },
  {
   "cell_type": "code",
   "execution_count": 263,
   "outputs": [
    {
     "name": "stdout",
     "output_type": "stream",
     "text": [
      "Fitting 3 folds for each of 24 candidates, totalling 72 fits\n",
      "[CV 1/3] END criterion=gini, max_depth=4, min_samples_split=2;, score=0.000 total time=   0.7s\n",
      "[CV 2/3] END criterion=gini, max_depth=4, min_samples_split=2;, score=0.000 total time=   1.1s\n",
      "[CV 3/3] END criterion=gini, max_depth=4, min_samples_split=2;, score=0.000 total time=   0.3s\n",
      "[CV 1/3] END criterion=gini, max_depth=4, min_samples_split=4;, score=0.000 total time=   0.3s\n",
      "[CV 2/3] END criterion=gini, max_depth=4, min_samples_split=4;, score=0.000 total time=   0.3s\n",
      "[CV 3/3] END criterion=gini, max_depth=4, min_samples_split=4;, score=0.000 total time=   0.3s\n",
      "[CV 1/3] END criterion=gini, max_depth=4, min_samples_split=8;, score=0.000 total time=   0.3s\n",
      "[CV 2/3] END criterion=gini, max_depth=4, min_samples_split=8;, score=0.000 total time=   0.3s\n",
      "[CV 3/3] END criterion=gini, max_depth=4, min_samples_split=8;, score=0.000 total time=   0.4s\n",
      "[CV 1/3] END criterion=gini, max_depth=4, min_samples_split=16;, score=0.000 total time=   0.4s\n",
      "[CV 2/3] END criterion=gini, max_depth=4, min_samples_split=16;, score=0.000 total time=   0.4s\n",
      "[CV 3/3] END criterion=gini, max_depth=4, min_samples_split=16;, score=0.000 total time=   0.3s\n",
      "[CV 1/3] END criterion=gini, max_depth=8, min_samples_split=2;, score=0.128 total time=   0.7s\n",
      "[CV 2/3] END criterion=gini, max_depth=8, min_samples_split=2;, score=0.157 total time=   0.7s\n",
      "[CV 3/3] END criterion=gini, max_depth=8, min_samples_split=2;, score=0.233 total time=   0.7s\n",
      "[CV 1/3] END criterion=gini, max_depth=8, min_samples_split=4;, score=0.128 total time=   0.7s\n",
      "[CV 2/3] END criterion=gini, max_depth=8, min_samples_split=4;, score=0.157 total time=   0.7s\n",
      "[CV 3/3] END criterion=gini, max_depth=8, min_samples_split=4;, score=0.233 total time=   0.7s\n",
      "[CV 1/3] END criterion=gini, max_depth=8, min_samples_split=8;, score=0.128 total time=   0.7s\n",
      "[CV 2/3] END criterion=gini, max_depth=8, min_samples_split=8;, score=0.157 total time=   0.7s\n",
      "[CV 3/3] END criterion=gini, max_depth=8, min_samples_split=8;, score=0.233 total time=   0.7s\n",
      "[CV 1/3] END criterion=gini, max_depth=8, min_samples_split=16;, score=0.128 total time=   0.7s\n",
      "[CV 2/3] END criterion=gini, max_depth=8, min_samples_split=16;, score=0.157 total time=   0.7s\n",
      "[CV 3/3] END criterion=gini, max_depth=8, min_samples_split=16;, score=0.233 total time=   0.7s\n",
      "[CV 1/3] END criterion=gini, max_depth=16, min_samples_split=2;, score=0.303 total time=   1.3s\n",
      "[CV 2/3] END criterion=gini, max_depth=16, min_samples_split=2;, score=0.298 total time=   1.1s\n",
      "[CV 3/3] END criterion=gini, max_depth=16, min_samples_split=2;, score=0.326 total time=   1.2s\n",
      "[CV 1/3] END criterion=gini, max_depth=16, min_samples_split=4;, score=0.302 total time=   1.2s\n",
      "[CV 2/3] END criterion=gini, max_depth=16, min_samples_split=4;, score=0.297 total time=   1.1s\n",
      "[CV 3/3] END criterion=gini, max_depth=16, min_samples_split=4;, score=0.324 total time=   1.2s\n",
      "[CV 1/3] END criterion=gini, max_depth=16, min_samples_split=8;, score=0.303 total time=   1.2s\n",
      "[CV 2/3] END criterion=gini, max_depth=16, min_samples_split=8;, score=0.294 total time=   1.2s\n",
      "[CV 3/3] END criterion=gini, max_depth=16, min_samples_split=8;, score=0.325 total time=   1.1s\n",
      "[CV 1/3] END criterion=gini, max_depth=16, min_samples_split=16;, score=0.301 total time=   1.1s\n",
      "[CV 2/3] END criterion=gini, max_depth=16, min_samples_split=16;, score=0.296 total time=   1.1s\n",
      "[CV 3/3] END criterion=gini, max_depth=16, min_samples_split=16;, score=0.322 total time=   1.2s\n",
      "[CV 1/3] END criterion=entropy, max_depth=4, min_samples_split=2;, score=0.000 total time=   0.4s\n",
      "[CV 2/3] END criterion=entropy, max_depth=4, min_samples_split=2;, score=0.000 total time=   0.4s\n",
      "[CV 3/3] END criterion=entropy, max_depth=4, min_samples_split=2;, score=0.000 total time=   0.4s\n",
      "[CV 1/3] END criterion=entropy, max_depth=4, min_samples_split=4;, score=0.000 total time=   0.4s\n",
      "[CV 2/3] END criterion=entropy, max_depth=4, min_samples_split=4;, score=0.000 total time=   0.4s\n",
      "[CV 3/3] END criterion=entropy, max_depth=4, min_samples_split=4;, score=0.000 total time=   0.4s\n",
      "[CV 1/3] END criterion=entropy, max_depth=4, min_samples_split=8;, score=0.000 total time=   0.4s\n",
      "[CV 2/3] END criterion=entropy, max_depth=4, min_samples_split=8;, score=0.000 total time=   0.4s\n",
      "[CV 3/3] END criterion=entropy, max_depth=4, min_samples_split=8;, score=0.000 total time=   0.4s\n",
      "[CV 1/3] END criterion=entropy, max_depth=4, min_samples_split=16;, score=0.000 total time=   0.4s\n",
      "[CV 2/3] END criterion=entropy, max_depth=4, min_samples_split=16;, score=0.000 total time=   0.4s\n",
      "[CV 3/3] END criterion=entropy, max_depth=4, min_samples_split=16;, score=0.000 total time=   0.4s\n",
      "[CV 1/3] END criterion=entropy, max_depth=8, min_samples_split=2;, score=0.124 total time=   0.8s\n",
      "[CV 2/3] END criterion=entropy, max_depth=8, min_samples_split=2;, score=0.131 total time=   0.9s\n",
      "[CV 3/3] END criterion=entropy, max_depth=8, min_samples_split=2;, score=0.231 total time=   0.8s\n",
      "[CV 1/3] END criterion=entropy, max_depth=8, min_samples_split=4;, score=0.124 total time=   0.8s\n",
      "[CV 2/3] END criterion=entropy, max_depth=8, min_samples_split=4;, score=0.131 total time=   0.8s\n",
      "[CV 3/3] END criterion=entropy, max_depth=8, min_samples_split=4;, score=0.231 total time=   0.8s\n",
      "[CV 1/3] END criterion=entropy, max_depth=8, min_samples_split=8;, score=0.124 total time=   0.8s\n",
      "[CV 2/3] END criterion=entropy, max_depth=8, min_samples_split=8;, score=0.131 total time=   0.9s\n",
      "[CV 3/3] END criterion=entropy, max_depth=8, min_samples_split=8;, score=0.231 total time=   0.8s\n",
      "[CV 1/3] END criterion=entropy, max_depth=8, min_samples_split=16;, score=0.123 total time=   0.8s\n",
      "[CV 2/3] END criterion=entropy, max_depth=8, min_samples_split=16;, score=0.131 total time=   0.8s\n",
      "[CV 3/3] END criterion=entropy, max_depth=8, min_samples_split=16;, score=0.231 total time=   0.8s\n",
      "[CV 1/3] END criterion=entropy, max_depth=16, min_samples_split=2;, score=0.301 total time=   1.4s\n",
      "[CV 2/3] END criterion=entropy, max_depth=16, min_samples_split=2;, score=0.283 total time=   1.5s\n",
      "[CV 3/3] END criterion=entropy, max_depth=16, min_samples_split=2;, score=0.311 total time=   1.4s\n",
      "[CV 1/3] END criterion=entropy, max_depth=16, min_samples_split=4;, score=0.297 total time=   1.4s\n",
      "[CV 2/3] END criterion=entropy, max_depth=16, min_samples_split=4;, score=0.282 total time=   1.4s\n",
      "[CV 3/3] END criterion=entropy, max_depth=16, min_samples_split=4;, score=0.308 total time=   1.5s\n",
      "[CV 1/3] END criterion=entropy, max_depth=16, min_samples_split=8;, score=0.299 total time=   1.4s\n",
      "[CV 2/3] END criterion=entropy, max_depth=16, min_samples_split=8;, score=0.280 total time=   1.5s\n",
      "[CV 3/3] END criterion=entropy, max_depth=16, min_samples_split=8;, score=0.308 total time=   1.6s\n",
      "[CV 1/3] END criterion=entropy, max_depth=16, min_samples_split=16;, score=0.300 total time=   1.7s\n",
      "[CV 2/3] END criterion=entropy, max_depth=16, min_samples_split=16;, score=0.284 total time=   1.5s\n",
      "[CV 3/3] END criterion=entropy, max_depth=16, min_samples_split=16;, score=0.313 total time=   1.5s\n"
     ]
    },
    {
     "data": {
      "text/plain": "GridSearchCV(cv=3, estimator=DecisionTreeClassifier(random_state=42),\n             param_grid={'criterion': ['gini', 'entropy'],\n                         'max_depth': [4, 8, 16],\n                         'min_samples_split': [2, 4, 8, 16]},\n             scoring='f1', verbose=3)",
      "text/html": "<style>#sk-container-id-10 {color: black;background-color: white;}#sk-container-id-10 pre{padding: 0;}#sk-container-id-10 div.sk-toggleable {background-color: white;}#sk-container-id-10 label.sk-toggleable__label {cursor: pointer;display: block;width: 100%;margin-bottom: 0;padding: 0.3em;box-sizing: border-box;text-align: center;}#sk-container-id-10 label.sk-toggleable__label-arrow:before {content: \"▸\";float: left;margin-right: 0.25em;color: #696969;}#sk-container-id-10 label.sk-toggleable__label-arrow:hover:before {color: black;}#sk-container-id-10 div.sk-estimator:hover label.sk-toggleable__label-arrow:before {color: black;}#sk-container-id-10 div.sk-toggleable__content {max-height: 0;max-width: 0;overflow: hidden;text-align: left;background-color: #f0f8ff;}#sk-container-id-10 div.sk-toggleable__content pre {margin: 0.2em;color: black;border-radius: 0.25em;background-color: #f0f8ff;}#sk-container-id-10 input.sk-toggleable__control:checked~div.sk-toggleable__content {max-height: 200px;max-width: 100%;overflow: auto;}#sk-container-id-10 input.sk-toggleable__control:checked~label.sk-toggleable__label-arrow:before {content: \"▾\";}#sk-container-id-10 div.sk-estimator input.sk-toggleable__control:checked~label.sk-toggleable__label {background-color: #d4ebff;}#sk-container-id-10 div.sk-label input.sk-toggleable__control:checked~label.sk-toggleable__label {background-color: #d4ebff;}#sk-container-id-10 input.sk-hidden--visually {border: 0;clip: rect(1px 1px 1px 1px);clip: rect(1px, 1px, 1px, 1px);height: 1px;margin: -1px;overflow: hidden;padding: 0;position: absolute;width: 1px;}#sk-container-id-10 div.sk-estimator {font-family: monospace;background-color: #f0f8ff;border: 1px dotted black;border-radius: 0.25em;box-sizing: border-box;margin-bottom: 0.5em;}#sk-container-id-10 div.sk-estimator:hover {background-color: #d4ebff;}#sk-container-id-10 div.sk-parallel-item::after {content: \"\";width: 100%;border-bottom: 1px solid gray;flex-grow: 1;}#sk-container-id-10 div.sk-label:hover label.sk-toggleable__label {background-color: #d4ebff;}#sk-container-id-10 div.sk-serial::before {content: \"\";position: absolute;border-left: 1px solid gray;box-sizing: border-box;top: 0;bottom: 0;left: 50%;z-index: 0;}#sk-container-id-10 div.sk-serial {display: flex;flex-direction: column;align-items: center;background-color: white;padding-right: 0.2em;padding-left: 0.2em;position: relative;}#sk-container-id-10 div.sk-item {position: relative;z-index: 1;}#sk-container-id-10 div.sk-parallel {display: flex;align-items: stretch;justify-content: center;background-color: white;position: relative;}#sk-container-id-10 div.sk-item::before, #sk-container-id-10 div.sk-parallel-item::before {content: \"\";position: absolute;border-left: 1px solid gray;box-sizing: border-box;top: 0;bottom: 0;left: 50%;z-index: -1;}#sk-container-id-10 div.sk-parallel-item {display: flex;flex-direction: column;z-index: 1;position: relative;background-color: white;}#sk-container-id-10 div.sk-parallel-item:first-child::after {align-self: flex-end;width: 50%;}#sk-container-id-10 div.sk-parallel-item:last-child::after {align-self: flex-start;width: 50%;}#sk-container-id-10 div.sk-parallel-item:only-child::after {width: 0;}#sk-container-id-10 div.sk-dashed-wrapped {border: 1px dashed gray;margin: 0 0.4em 0.5em 0.4em;box-sizing: border-box;padding-bottom: 0.4em;background-color: white;}#sk-container-id-10 div.sk-label label {font-family: monospace;font-weight: bold;display: inline-block;line-height: 1.2em;}#sk-container-id-10 div.sk-label-container {text-align: center;}#sk-container-id-10 div.sk-container {/* jupyter's `normalize.less` sets `[hidden] { display: none; }` but bootstrap.min.css set `[hidden] { display: none !important; }` so we also need the `!important` here to be able to override the default hidden behavior on the sphinx rendered scikit-learn.org. See: https://github.com/scikit-learn/scikit-learn/issues/21755 */display: inline-block !important;position: relative;}#sk-container-id-10 div.sk-text-repr-fallback {display: none;}</style><div id=\"sk-container-id-10\" class=\"sk-top-container\"><div class=\"sk-text-repr-fallback\"><pre>GridSearchCV(cv=3, estimator=DecisionTreeClassifier(random_state=42),\n             param_grid={&#x27;criterion&#x27;: [&#x27;gini&#x27;, &#x27;entropy&#x27;],\n                         &#x27;max_depth&#x27;: [4, 8, 16],\n                         &#x27;min_samples_split&#x27;: [2, 4, 8, 16]},\n             scoring=&#x27;f1&#x27;, verbose=3)</pre><b>In a Jupyter environment, please rerun this cell to show the HTML representation or trust the notebook. <br />On GitHub, the HTML representation is unable to render, please try loading this page with nbviewer.org.</b></div><div class=\"sk-container\" hidden><div class=\"sk-item sk-dashed-wrapped\"><div class=\"sk-label-container\"><div class=\"sk-label sk-toggleable\"><input class=\"sk-toggleable__control sk-hidden--visually\" id=\"sk-estimator-id-22\" type=\"checkbox\" ><label for=\"sk-estimator-id-22\" class=\"sk-toggleable__label sk-toggleable__label-arrow\">GridSearchCV</label><div class=\"sk-toggleable__content\"><pre>GridSearchCV(cv=3, estimator=DecisionTreeClassifier(random_state=42),\n             param_grid={&#x27;criterion&#x27;: [&#x27;gini&#x27;, &#x27;entropy&#x27;],\n                         &#x27;max_depth&#x27;: [4, 8, 16],\n                         &#x27;min_samples_split&#x27;: [2, 4, 8, 16]},\n             scoring=&#x27;f1&#x27;, verbose=3)</pre></div></div></div><div class=\"sk-parallel\"><div class=\"sk-parallel-item\"><div class=\"sk-item\"><div class=\"sk-label-container\"><div class=\"sk-label sk-toggleable\"><input class=\"sk-toggleable__control sk-hidden--visually\" id=\"sk-estimator-id-23\" type=\"checkbox\" ><label for=\"sk-estimator-id-23\" class=\"sk-toggleable__label sk-toggleable__label-arrow\">estimator: DecisionTreeClassifier</label><div class=\"sk-toggleable__content\"><pre>DecisionTreeClassifier(random_state=42)</pre></div></div></div><div class=\"sk-serial\"><div class=\"sk-item\"><div class=\"sk-estimator sk-toggleable\"><input class=\"sk-toggleable__control sk-hidden--visually\" id=\"sk-estimator-id-24\" type=\"checkbox\" ><label for=\"sk-estimator-id-24\" class=\"sk-toggleable__label sk-toggleable__label-arrow\">DecisionTreeClassifier</label><div class=\"sk-toggleable__content\"><pre>DecisionTreeClassifier(random_state=42)</pre></div></div></div></div></div></div></div></div></div></div>"
     },
     "execution_count": 263,
     "metadata": {},
     "output_type": "execute_result"
    }
   ],
   "source": [
    "from sklearn.model_selection import GridSearchCV\n",
    "from sklearn.metrics import make_scorer, f1_score\n",
    "param_grid = {'max_depth': [4, 8, 16],\n",
    "              'min_samples_split': [2,4, 8, 16],\n",
    "              'criterion': ['gini', 'entropy']\n",
    "}\n",
    "\n",
    "grid = GridSearchCV(DecisionTreeClassifier(random_state=42), param_grid, cv=3, scoring='f1', verbose =3)\n",
    "grid.fit(X_train, y_train)"
   ],
   "metadata": {
    "collapsed": false
   }
  },
  {
   "cell_type": "code",
   "execution_count": 264,
   "outputs": [
    {
     "data": {
      "text/plain": "{'criterion': 'gini', 'max_depth': 16, 'min_samples_split': 2}"
     },
     "execution_count": 264,
     "metadata": {},
     "output_type": "execute_result"
    }
   ],
   "source": [
    "grid.best_params_"
   ],
   "metadata": {
    "collapsed": false
   }
  },
  {
   "cell_type": "markdown",
   "source": [
    "#### Finer grid search  around best parameters"
   ],
   "metadata": {
    "collapsed": false
   }
  },
  {
   "cell_type": "code",
   "execution_count": 273,
   "outputs": [
    {
     "name": "stdout",
     "output_type": "stream",
     "text": [
      "Fitting 3 folds for each of 12 candidates, totalling 36 fits\n",
      "[CV 1/3] END criterion=gini, max_depth=20, min_samples_split=2;, score=0.323 total time=   2.6s\n",
      "[CV 2/3] END criterion=gini, max_depth=20, min_samples_split=2;, score=0.335 total time=   1.5s\n",
      "[CV 3/3] END criterion=gini, max_depth=20, min_samples_split=2;, score=0.341 total time=   1.5s\n",
      "[CV 1/3] END criterion=gini, max_depth=20, min_samples_split=3;, score=0.319 total time=   1.5s\n",
      "[CV 2/3] END criterion=gini, max_depth=20, min_samples_split=3;, score=0.328 total time=   2.3s\n",
      "[CV 3/3] END criterion=gini, max_depth=20, min_samples_split=3;, score=0.336 total time=   2.4s\n",
      "[CV 1/3] END criterion=gini, max_depth=20, min_samples_split=4;, score=0.320 total time=   1.4s\n",
      "[CV 2/3] END criterion=gini, max_depth=20, min_samples_split=4;, score=0.329 total time=   1.4s\n",
      "[CV 3/3] END criterion=gini, max_depth=20, min_samples_split=4;, score=0.338 total time=   1.4s\n",
      "[CV 1/3] END criterion=gini, max_depth=30, min_samples_split=2;, score=0.368 total time=   1.6s\n",
      "[CV 2/3] END criterion=gini, max_depth=30, min_samples_split=2;, score=0.376 total time=   1.6s\n",
      "[CV 3/3] END criterion=gini, max_depth=30, min_samples_split=2;, score=0.377 total time=   1.7s\n",
      "[CV 1/3] END criterion=gini, max_depth=30, min_samples_split=3;, score=0.363 total time=   1.5s\n",
      "[CV 2/3] END criterion=gini, max_depth=30, min_samples_split=3;, score=0.370 total time=   1.5s\n",
      "[CV 3/3] END criterion=gini, max_depth=30, min_samples_split=3;, score=0.368 total time=   1.7s\n",
      "[CV 1/3] END criterion=gini, max_depth=30, min_samples_split=4;, score=0.368 total time=   1.6s\n",
      "[CV 2/3] END criterion=gini, max_depth=30, min_samples_split=4;, score=0.371 total time=   1.5s\n",
      "[CV 3/3] END criterion=gini, max_depth=30, min_samples_split=4;, score=0.368 total time=   1.7s\n",
      "[CV 1/3] END criterion=gini, max_depth=40, min_samples_split=2;, score=0.375 total time=   1.6s\n",
      "[CV 2/3] END criterion=gini, max_depth=40, min_samples_split=2;, score=0.381 total time=   1.6s\n",
      "[CV 3/3] END criterion=gini, max_depth=40, min_samples_split=2;, score=0.384 total time=   1.6s\n",
      "[CV 1/3] END criterion=gini, max_depth=40, min_samples_split=3;, score=0.368 total time=   1.5s\n",
      "[CV 2/3] END criterion=gini, max_depth=40, min_samples_split=3;, score=0.372 total time=   1.5s\n",
      "[CV 3/3] END criterion=gini, max_depth=40, min_samples_split=3;, score=0.375 total time=   1.6s\n",
      "[CV 1/3] END criterion=gini, max_depth=40, min_samples_split=4;, score=0.370 total time=   1.6s\n",
      "[CV 2/3] END criterion=gini, max_depth=40, min_samples_split=4;, score=0.374 total time=   1.5s\n",
      "[CV 3/3] END criterion=gini, max_depth=40, min_samples_split=4;, score=0.374 total time=   1.7s\n",
      "[CV 1/3] END criterion=gini, max_depth=50, min_samples_split=2;, score=0.377 total time=   1.5s\n",
      "[CV 2/3] END criterion=gini, max_depth=50, min_samples_split=2;, score=0.382 total time=   1.5s\n",
      "[CV 3/3] END criterion=gini, max_depth=50, min_samples_split=2;, score=0.386 total time=   1.5s\n",
      "[CV 1/3] END criterion=gini, max_depth=50, min_samples_split=3;, score=0.367 total time=   1.5s\n",
      "[CV 2/3] END criterion=gini, max_depth=50, min_samples_split=3;, score=0.372 total time=   1.5s\n",
      "[CV 3/3] END criterion=gini, max_depth=50, min_samples_split=3;, score=0.375 total time=   1.5s\n",
      "[CV 1/3] END criterion=gini, max_depth=50, min_samples_split=4;, score=0.373 total time=   1.4s\n",
      "[CV 2/3] END criterion=gini, max_depth=50, min_samples_split=4;, score=0.373 total time=   1.5s\n",
      "[CV 3/3] END criterion=gini, max_depth=50, min_samples_split=4;, score=0.376 total time=   1.5s\n"
     ]
    },
    {
     "data": {
      "text/plain": "GridSearchCV(cv=3, estimator=DecisionTreeClassifier(random_state=42),\n             param_grid={'criterion': ['gini'], 'max_depth': [20, 30, 40, 50],\n                         'min_samples_split': [2, 3, 4]},\n             scoring='f1', verbose=3)",
      "text/html": "<style>#sk-container-id-12 {color: black;background-color: white;}#sk-container-id-12 pre{padding: 0;}#sk-container-id-12 div.sk-toggleable {background-color: white;}#sk-container-id-12 label.sk-toggleable__label {cursor: pointer;display: block;width: 100%;margin-bottom: 0;padding: 0.3em;box-sizing: border-box;text-align: center;}#sk-container-id-12 label.sk-toggleable__label-arrow:before {content: \"▸\";float: left;margin-right: 0.25em;color: #696969;}#sk-container-id-12 label.sk-toggleable__label-arrow:hover:before {color: black;}#sk-container-id-12 div.sk-estimator:hover label.sk-toggleable__label-arrow:before {color: black;}#sk-container-id-12 div.sk-toggleable__content {max-height: 0;max-width: 0;overflow: hidden;text-align: left;background-color: #f0f8ff;}#sk-container-id-12 div.sk-toggleable__content pre {margin: 0.2em;color: black;border-radius: 0.25em;background-color: #f0f8ff;}#sk-container-id-12 input.sk-toggleable__control:checked~div.sk-toggleable__content {max-height: 200px;max-width: 100%;overflow: auto;}#sk-container-id-12 input.sk-toggleable__control:checked~label.sk-toggleable__label-arrow:before {content: \"▾\";}#sk-container-id-12 div.sk-estimator input.sk-toggleable__control:checked~label.sk-toggleable__label {background-color: #d4ebff;}#sk-container-id-12 div.sk-label input.sk-toggleable__control:checked~label.sk-toggleable__label {background-color: #d4ebff;}#sk-container-id-12 input.sk-hidden--visually {border: 0;clip: rect(1px 1px 1px 1px);clip: rect(1px, 1px, 1px, 1px);height: 1px;margin: -1px;overflow: hidden;padding: 0;position: absolute;width: 1px;}#sk-container-id-12 div.sk-estimator {font-family: monospace;background-color: #f0f8ff;border: 1px dotted black;border-radius: 0.25em;box-sizing: border-box;margin-bottom: 0.5em;}#sk-container-id-12 div.sk-estimator:hover {background-color: #d4ebff;}#sk-container-id-12 div.sk-parallel-item::after {content: \"\";width: 100%;border-bottom: 1px solid gray;flex-grow: 1;}#sk-container-id-12 div.sk-label:hover label.sk-toggleable__label {background-color: #d4ebff;}#sk-container-id-12 div.sk-serial::before {content: \"\";position: absolute;border-left: 1px solid gray;box-sizing: border-box;top: 0;bottom: 0;left: 50%;z-index: 0;}#sk-container-id-12 div.sk-serial {display: flex;flex-direction: column;align-items: center;background-color: white;padding-right: 0.2em;padding-left: 0.2em;position: relative;}#sk-container-id-12 div.sk-item {position: relative;z-index: 1;}#sk-container-id-12 div.sk-parallel {display: flex;align-items: stretch;justify-content: center;background-color: white;position: relative;}#sk-container-id-12 div.sk-item::before, #sk-container-id-12 div.sk-parallel-item::before {content: \"\";position: absolute;border-left: 1px solid gray;box-sizing: border-box;top: 0;bottom: 0;left: 50%;z-index: -1;}#sk-container-id-12 div.sk-parallel-item {display: flex;flex-direction: column;z-index: 1;position: relative;background-color: white;}#sk-container-id-12 div.sk-parallel-item:first-child::after {align-self: flex-end;width: 50%;}#sk-container-id-12 div.sk-parallel-item:last-child::after {align-self: flex-start;width: 50%;}#sk-container-id-12 div.sk-parallel-item:only-child::after {width: 0;}#sk-container-id-12 div.sk-dashed-wrapped {border: 1px dashed gray;margin: 0 0.4em 0.5em 0.4em;box-sizing: border-box;padding-bottom: 0.4em;background-color: white;}#sk-container-id-12 div.sk-label label {font-family: monospace;font-weight: bold;display: inline-block;line-height: 1.2em;}#sk-container-id-12 div.sk-label-container {text-align: center;}#sk-container-id-12 div.sk-container {/* jupyter's `normalize.less` sets `[hidden] { display: none; }` but bootstrap.min.css set `[hidden] { display: none !important; }` so we also need the `!important` here to be able to override the default hidden behavior on the sphinx rendered scikit-learn.org. See: https://github.com/scikit-learn/scikit-learn/issues/21755 */display: inline-block !important;position: relative;}#sk-container-id-12 div.sk-text-repr-fallback {display: none;}</style><div id=\"sk-container-id-12\" class=\"sk-top-container\"><div class=\"sk-text-repr-fallback\"><pre>GridSearchCV(cv=3, estimator=DecisionTreeClassifier(random_state=42),\n             param_grid={&#x27;criterion&#x27;: [&#x27;gini&#x27;], &#x27;max_depth&#x27;: [20, 30, 40, 50],\n                         &#x27;min_samples_split&#x27;: [2, 3, 4]},\n             scoring=&#x27;f1&#x27;, verbose=3)</pre><b>In a Jupyter environment, please rerun this cell to show the HTML representation or trust the notebook. <br />On GitHub, the HTML representation is unable to render, please try loading this page with nbviewer.org.</b></div><div class=\"sk-container\" hidden><div class=\"sk-item sk-dashed-wrapped\"><div class=\"sk-label-container\"><div class=\"sk-label sk-toggleable\"><input class=\"sk-toggleable__control sk-hidden--visually\" id=\"sk-estimator-id-28\" type=\"checkbox\" ><label for=\"sk-estimator-id-28\" class=\"sk-toggleable__label sk-toggleable__label-arrow\">GridSearchCV</label><div class=\"sk-toggleable__content\"><pre>GridSearchCV(cv=3, estimator=DecisionTreeClassifier(random_state=42),\n             param_grid={&#x27;criterion&#x27;: [&#x27;gini&#x27;], &#x27;max_depth&#x27;: [20, 30, 40, 50],\n                         &#x27;min_samples_split&#x27;: [2, 3, 4]},\n             scoring=&#x27;f1&#x27;, verbose=3)</pre></div></div></div><div class=\"sk-parallel\"><div class=\"sk-parallel-item\"><div class=\"sk-item\"><div class=\"sk-label-container\"><div class=\"sk-label sk-toggleable\"><input class=\"sk-toggleable__control sk-hidden--visually\" id=\"sk-estimator-id-29\" type=\"checkbox\" ><label for=\"sk-estimator-id-29\" class=\"sk-toggleable__label sk-toggleable__label-arrow\">estimator: DecisionTreeClassifier</label><div class=\"sk-toggleable__content\"><pre>DecisionTreeClassifier(random_state=42)</pre></div></div></div><div class=\"sk-serial\"><div class=\"sk-item\"><div class=\"sk-estimator sk-toggleable\"><input class=\"sk-toggleable__control sk-hidden--visually\" id=\"sk-estimator-id-30\" type=\"checkbox\" ><label for=\"sk-estimator-id-30\" class=\"sk-toggleable__label sk-toggleable__label-arrow\">DecisionTreeClassifier</label><div class=\"sk-toggleable__content\"><pre>DecisionTreeClassifier(random_state=42)</pre></div></div></div></div></div></div></div></div></div></div>"
     },
     "execution_count": 273,
     "metadata": {},
     "output_type": "execute_result"
    }
   ],
   "source": [
    "# finer grid search around best parameters\n",
    "param_grid = {'max_depth': [20, 30, 40, 50 ],\n",
    "              'min_samples_split': [2,3,4],\n",
    "              'criterion': ['gini']\n",
    "}\n",
    "grid = GridSearchCV(DecisionTreeClassifier(random_state=42), param_grid, cv=3, scoring='f1', verbose =3)\n",
    "grid.fit(X_train, y_train)\n"
   ],
   "metadata": {
    "collapsed": false
   }
  },
  {
   "cell_type": "code",
   "execution_count": 274,
   "outputs": [
    {
     "data": {
      "text/plain": "{'criterion': 'gini', 'max_depth': 50, 'min_samples_split': 2}"
     },
     "execution_count": 274,
     "metadata": {},
     "output_type": "execute_result"
    }
   ],
   "source": [
    "grid.best_params_"
   ],
   "metadata": {
    "collapsed": false
   }
  },
  {
   "cell_type": "code",
   "execution_count": 275,
   "outputs": [
    {
     "data": {
      "text/plain": "DecisionTreeClassifier(max_depth=50, random_state=42)",
      "text/html": "<style>#sk-container-id-13 {color: black;background-color: white;}#sk-container-id-13 pre{padding: 0;}#sk-container-id-13 div.sk-toggleable {background-color: white;}#sk-container-id-13 label.sk-toggleable__label {cursor: pointer;display: block;width: 100%;margin-bottom: 0;padding: 0.3em;box-sizing: border-box;text-align: center;}#sk-container-id-13 label.sk-toggleable__label-arrow:before {content: \"▸\";float: left;margin-right: 0.25em;color: #696969;}#sk-container-id-13 label.sk-toggleable__label-arrow:hover:before {color: black;}#sk-container-id-13 div.sk-estimator:hover label.sk-toggleable__label-arrow:before {color: black;}#sk-container-id-13 div.sk-toggleable__content {max-height: 0;max-width: 0;overflow: hidden;text-align: left;background-color: #f0f8ff;}#sk-container-id-13 div.sk-toggleable__content pre {margin: 0.2em;color: black;border-radius: 0.25em;background-color: #f0f8ff;}#sk-container-id-13 input.sk-toggleable__control:checked~div.sk-toggleable__content {max-height: 200px;max-width: 100%;overflow: auto;}#sk-container-id-13 input.sk-toggleable__control:checked~label.sk-toggleable__label-arrow:before {content: \"▾\";}#sk-container-id-13 div.sk-estimator input.sk-toggleable__control:checked~label.sk-toggleable__label {background-color: #d4ebff;}#sk-container-id-13 div.sk-label input.sk-toggleable__control:checked~label.sk-toggleable__label {background-color: #d4ebff;}#sk-container-id-13 input.sk-hidden--visually {border: 0;clip: rect(1px 1px 1px 1px);clip: rect(1px, 1px, 1px, 1px);height: 1px;margin: -1px;overflow: hidden;padding: 0;position: absolute;width: 1px;}#sk-container-id-13 div.sk-estimator {font-family: monospace;background-color: #f0f8ff;border: 1px dotted black;border-radius: 0.25em;box-sizing: border-box;margin-bottom: 0.5em;}#sk-container-id-13 div.sk-estimator:hover {background-color: #d4ebff;}#sk-container-id-13 div.sk-parallel-item::after {content: \"\";width: 100%;border-bottom: 1px solid gray;flex-grow: 1;}#sk-container-id-13 div.sk-label:hover label.sk-toggleable__label {background-color: #d4ebff;}#sk-container-id-13 div.sk-serial::before {content: \"\";position: absolute;border-left: 1px solid gray;box-sizing: border-box;top: 0;bottom: 0;left: 50%;z-index: 0;}#sk-container-id-13 div.sk-serial {display: flex;flex-direction: column;align-items: center;background-color: white;padding-right: 0.2em;padding-left: 0.2em;position: relative;}#sk-container-id-13 div.sk-item {position: relative;z-index: 1;}#sk-container-id-13 div.sk-parallel {display: flex;align-items: stretch;justify-content: center;background-color: white;position: relative;}#sk-container-id-13 div.sk-item::before, #sk-container-id-13 div.sk-parallel-item::before {content: \"\";position: absolute;border-left: 1px solid gray;box-sizing: border-box;top: 0;bottom: 0;left: 50%;z-index: -1;}#sk-container-id-13 div.sk-parallel-item {display: flex;flex-direction: column;z-index: 1;position: relative;background-color: white;}#sk-container-id-13 div.sk-parallel-item:first-child::after {align-self: flex-end;width: 50%;}#sk-container-id-13 div.sk-parallel-item:last-child::after {align-self: flex-start;width: 50%;}#sk-container-id-13 div.sk-parallel-item:only-child::after {width: 0;}#sk-container-id-13 div.sk-dashed-wrapped {border: 1px dashed gray;margin: 0 0.4em 0.5em 0.4em;box-sizing: border-box;padding-bottom: 0.4em;background-color: white;}#sk-container-id-13 div.sk-label label {font-family: monospace;font-weight: bold;display: inline-block;line-height: 1.2em;}#sk-container-id-13 div.sk-label-container {text-align: center;}#sk-container-id-13 div.sk-container {/* jupyter's `normalize.less` sets `[hidden] { display: none; }` but bootstrap.min.css set `[hidden] { display: none !important; }` so we also need the `!important` here to be able to override the default hidden behavior on the sphinx rendered scikit-learn.org. See: https://github.com/scikit-learn/scikit-learn/issues/21755 */display: inline-block !important;position: relative;}#sk-container-id-13 div.sk-text-repr-fallback {display: none;}</style><div id=\"sk-container-id-13\" class=\"sk-top-container\"><div class=\"sk-text-repr-fallback\"><pre>DecisionTreeClassifier(max_depth=50, random_state=42)</pre><b>In a Jupyter environment, please rerun this cell to show the HTML representation or trust the notebook. <br />On GitHub, the HTML representation is unable to render, please try loading this page with nbviewer.org.</b></div><div class=\"sk-container\" hidden><div class=\"sk-item\"><div class=\"sk-estimator sk-toggleable\"><input class=\"sk-toggleable__control sk-hidden--visually\" id=\"sk-estimator-id-31\" type=\"checkbox\" checked><label for=\"sk-estimator-id-31\" class=\"sk-toggleable__label sk-toggleable__label-arrow\">DecisionTreeClassifier</label><div class=\"sk-toggleable__content\"><pre>DecisionTreeClassifier(max_depth=50, random_state=42)</pre></div></div></div></div></div>"
     },
     "execution_count": 275,
     "metadata": {},
     "output_type": "execute_result"
    }
   ],
   "source": [
    "#best parameters\n",
    "tree = DecisionTreeClassifier(random_state=42, max_depth=grid.best_params_['max_depth'], min_samples_split=grid.best_params_['min_samples_split'], criterion=grid.best_params_['criterion'])\n",
    "tree.fit(X_train, y_train)"
   ],
   "metadata": {
    "collapsed": false
   }
  },
  {
   "cell_type": "markdown",
   "source": [
    "#### Metrics"
   ],
   "metadata": {
    "collapsed": false
   }
  },
  {
   "cell_type": "code",
   "execution_count": 276,
   "outputs": [
    {
     "name": "stdout",
     "output_type": "stream",
     "text": [
      "Best decision Tree model trained on whole development set (unbalanced)\n",
      "Accuracy on training set:  0.9974698235840297\n",
      "confusion_matrix on training set: \n",
      " [[92895    10]\n",
      " [  317 36018]]\n",
      "Accuracy on validation set:  0.6498297740637573\n",
      "Confusion matrix: \n",
      " [[17485  5741]\n",
      " [ 5573  3511]]\n",
      "Classification report: \n",
      "               precision    recall  f1-score   support\n",
      "\n",
      "       False       0.76      0.75      0.76     23226\n",
      "        True       0.38      0.39      0.38      9084\n",
      "\n",
      "    accuracy                           0.65     32310\n",
      "   macro avg       0.57      0.57      0.57     32310\n",
      "weighted avg       0.65      0.65      0.65     32310\n",
      "\n"
     ]
    }
   ],
   "source": [
    "y_pred = tree.predict(X_test)\n",
    "y_pred_train = tree.predict(X_train)\n",
    "print('Best decision Tree model trained on whole development set (unbalanced)')\n",
    "print('Accuracy on training set: ', accuracy_score(y_train, y_pred_train))\n",
    "print('confusion_matrix on training set: \\n', confusion_matrix(y_train, y_pred_train))\n",
    "print('Accuracy on validation set: ', accuracy_score(y_test, y_pred))\n",
    "print('Confusion matrix: \\n', confusion_matrix(y_test, y_pred))\n",
    "print('Classification report: \\n', classification_report(y_test, y_pred))\n"
   ],
   "metadata": {
    "collapsed": false
   }
  },
  {
   "cell_type": "code",
   "execution_count": 277,
   "outputs": [
    {
     "data": {
      "text/plain": "<Figure size 640x480 with 1 Axes>",
      "image/png": "[encoded data removed]"
     },
     "metadata": {},
     "output_type": "display_data"
    }
   ],
   "source": [
    "# roc curve\n",
    "from sklearn.metrics import roc_curve, roc_auc_score\n",
    "y_pred_proba = tree.predict_proba(X_test)[:,1]\n",
    "fpr, tpr, thresholds = roc_curve(y_test, y_pred_proba)\n",
    "plt.plot([0,1], [0,1], 'k--')\n",
    "plt.plot(fpr, tpr, label='Decision Tree')\n",
    "plt.xlabel('False Positive Rate')\n",
    "plt.ylabel('True Positive Rate')\n",
    "plt.title(f'Decision Tree ROC Curve, AUC={ roc_auc_score(y_test, y_pred_proba):.3f}')\n",
    "\n",
    "plt.show()\n"
   ],
   "metadata": {
    "collapsed": false
   }
  },
  {
   "cell_type": "markdown",
   "source": [
    "#### Try balancing data"
   ],
   "metadata": {
    "collapsed": false
   }
  },
  {
   "cell_type": "markdown",
   "source": [
    "##### Undersampling"
   ],
   "metadata": {
    "collapsed": false
   }
  },
  {
   "cell_type": "code",
   "execution_count": 278,
   "outputs": [
    {
     "data": {
      "text/plain": "False    36458\nTrue     36458\nName: isKilled, dtype: int64"
     },
     "execution_count": 278,
     "metadata": {},
     "output_type": "execute_result"
    }
   ],
   "source": [
    "from imblearn.under_sampling import RandomUnderSampler\n",
    "X_train, X_test, y_train, y_test = train_test_split(X, y, test_size=0.2, random_state=42)\n",
    "rus = RandomUnderSampler(random_state=41)\n",
    "X_undersampled, y_undersampled = rus.fit_resample(X_train, y_train)\n",
    "y_undersampled.value_counts()"
   ],
   "metadata": {
    "collapsed": false
   }
  },
  {
   "cell_type": "code",
   "execution_count": 279,
   "outputs": [
    {
     "name": "stdout",
     "output_type": "stream",
     "text": [
      "Fitting 3 folds for each of 24 candidates, totalling 72 fits\n",
      "[CV 1/3] END criterion=gini, max_depth=4, min_samples_split=2;, score=0.626 total time=   0.2s\n",
      "[CV 2/3] END criterion=gini, max_depth=4, min_samples_split=2;, score=0.631 total time=   0.2s\n",
      "[CV 3/3] END criterion=gini, max_depth=4, min_samples_split=2;, score=0.635 total time=   0.2s\n",
      "[CV 1/3] END criterion=gini, max_depth=4, min_samples_split=4;, score=0.626 total time=   0.2s\n",
      "[CV 2/3] END criterion=gini, max_depth=4, min_samples_split=4;, score=0.631 total time=   0.2s\n",
      "[CV 3/3] END criterion=gini, max_depth=4, min_samples_split=4;, score=0.635 total time=   0.2s\n",
      "[CV 1/3] END criterion=gini, max_depth=4, min_samples_split=8;, score=0.626 total time=   0.2s\n",
      "[CV 2/3] END criterion=gini, max_depth=4, min_samples_split=8;, score=0.631 total time=   0.2s\n",
      "[CV 3/3] END criterion=gini, max_depth=4, min_samples_split=8;, score=0.635 total time=   0.2s\n",
      "[CV 1/3] END criterion=gini, max_depth=4, min_samples_split=16;, score=0.626 total time=   0.2s\n",
      "[CV 2/3] END criterion=gini, max_depth=4, min_samples_split=16;, score=0.631 total time=   0.2s\n",
      "[CV 3/3] END criterion=gini, max_depth=4, min_samples_split=16;, score=0.635 total time=   0.2s\n",
      "[CV 1/3] END criterion=gini, max_depth=8, min_samples_split=2;, score=0.617 total time=   0.4s\n",
      "[CV 2/3] END criterion=gini, max_depth=8, min_samples_split=2;, score=0.644 total time=   0.7s\n",
      "[CV 3/3] END criterion=gini, max_depth=8, min_samples_split=2;, score=0.634 total time=   0.5s\n",
      "[CV 1/3] END criterion=gini, max_depth=8, min_samples_split=4;, score=0.617 total time=   1.1s\n",
      "[CV 2/3] END criterion=gini, max_depth=8, min_samples_split=4;, score=0.644 total time=   0.4s\n",
      "[CV 3/3] END criterion=gini, max_depth=8, min_samples_split=4;, score=0.634 total time=   0.4s\n",
      "[CV 1/3] END criterion=gini, max_depth=8, min_samples_split=8;, score=0.618 total time=   0.4s\n",
      "[CV 2/3] END criterion=gini, max_depth=8, min_samples_split=8;, score=0.644 total time=   0.4s\n",
      "[CV 3/3] END criterion=gini, max_depth=8, min_samples_split=8;, score=0.634 total time=   0.3s\n",
      "[CV 1/3] END criterion=gini, max_depth=8, min_samples_split=16;, score=0.618 total time=   0.4s\n",
      "[CV 2/3] END criterion=gini, max_depth=8, min_samples_split=16;, score=0.644 total time=   0.3s\n",
      "[CV 3/3] END criterion=gini, max_depth=8, min_samples_split=16;, score=0.634 total time=   0.4s\n",
      "[CV 1/3] END criterion=gini, max_depth=16, min_samples_split=2;, score=0.618 total time=   0.7s\n",
      "[CV 2/3] END criterion=gini, max_depth=16, min_samples_split=2;, score=0.599 total time=   0.6s\n",
      "[CV 3/3] END criterion=gini, max_depth=16, min_samples_split=2;, score=0.608 total time=   0.6s\n",
      "[CV 1/3] END criterion=gini, max_depth=16, min_samples_split=4;, score=0.618 total time=   0.6s\n",
      "[CV 2/3] END criterion=gini, max_depth=16, min_samples_split=4;, score=0.597 total time=   0.6s\n",
      "[CV 3/3] END criterion=gini, max_depth=16, min_samples_split=4;, score=0.609 total time=   0.6s\n",
      "[CV 1/3] END criterion=gini, max_depth=16, min_samples_split=8;, score=0.616 total time=   0.6s\n",
      "[CV 2/3] END criterion=gini, max_depth=16, min_samples_split=8;, score=0.599 total time=   0.6s\n",
      "[CV 3/3] END criterion=gini, max_depth=16, min_samples_split=8;, score=0.608 total time=   0.6s\n",
      "[CV 1/3] END criterion=gini, max_depth=16, min_samples_split=16;, score=0.617 total time=   0.7s\n",
      "[CV 2/3] END criterion=gini, max_depth=16, min_samples_split=16;, score=0.599 total time=   0.6s\n",
      "[CV 3/3] END criterion=gini, max_depth=16, min_samples_split=16;, score=0.608 total time=   0.6s\n",
      "[CV 1/3] END criterion=entropy, max_depth=4, min_samples_split=2;, score=0.626 total time=   0.3s\n",
      "[CV 2/3] END criterion=entropy, max_depth=4, min_samples_split=2;, score=0.631 total time=   0.3s\n",
      "[CV 3/3] END criterion=entropy, max_depth=4, min_samples_split=2;, score=0.635 total time=   0.2s\n",
      "[CV 1/3] END criterion=entropy, max_depth=4, min_samples_split=4;, score=0.626 total time=   0.2s\n",
      "[CV 2/3] END criterion=entropy, max_depth=4, min_samples_split=4;, score=0.631 total time=   0.3s\n",
      "[CV 3/3] END criterion=entropy, max_depth=4, min_samples_split=4;, score=0.635 total time=   0.2s\n",
      "[CV 1/3] END criterion=entropy, max_depth=4, min_samples_split=8;, score=0.626 total time=   0.2s\n",
      "[CV 2/3] END criterion=entropy, max_depth=4, min_samples_split=8;, score=0.631 total time=   0.2s\n",
      "[CV 3/3] END criterion=entropy, max_depth=4, min_samples_split=8;, score=0.635 total time=   0.2s\n",
      "[CV 1/3] END criterion=entropy, max_depth=4, min_samples_split=16;, score=0.626 total time=   0.2s\n",
      "[CV 2/3] END criterion=entropy, max_depth=4, min_samples_split=16;, score=0.631 total time=   0.2s\n",
      "[CV 3/3] END criterion=entropy, max_depth=4, min_samples_split=16;, score=0.635 total time=   0.2s\n",
      "[CV 1/3] END criterion=entropy, max_depth=8, min_samples_split=2;, score=0.620 total time=   0.5s\n",
      "[CV 2/3] END criterion=entropy, max_depth=8, min_samples_split=2;, score=0.635 total time=   0.4s\n",
      "[CV 3/3] END criterion=entropy, max_depth=8, min_samples_split=2;, score=0.633 total time=   0.4s\n",
      "[CV 1/3] END criterion=entropy, max_depth=8, min_samples_split=4;, score=0.620 total time=   0.5s\n",
      "[CV 2/3] END criterion=entropy, max_depth=8, min_samples_split=4;, score=0.635 total time=   0.4s\n",
      "[CV 3/3] END criterion=entropy, max_depth=8, min_samples_split=4;, score=0.633 total time=   0.4s\n",
      "[CV 1/3] END criterion=entropy, max_depth=8, min_samples_split=8;, score=0.621 total time=   0.5s\n",
      "[CV 2/3] END criterion=entropy, max_depth=8, min_samples_split=8;, score=0.635 total time=   0.4s\n",
      "[CV 3/3] END criterion=entropy, max_depth=8, min_samples_split=8;, score=0.633 total time=   0.5s\n",
      "[CV 1/3] END criterion=entropy, max_depth=8, min_samples_split=16;, score=0.621 total time=   0.5s\n",
      "[CV 2/3] END criterion=entropy, max_depth=8, min_samples_split=16;, score=0.635 total time=   0.5s\n",
      "[CV 3/3] END criterion=entropy, max_depth=8, min_samples_split=16;, score=0.633 total time=   0.5s\n",
      "[CV 1/3] END criterion=entropy, max_depth=16, min_samples_split=2;, score=0.617 total time=   0.8s\n",
      "[CV 2/3] END criterion=entropy, max_depth=16, min_samples_split=2;, score=0.611 total time=   0.8s\n",
      "[CV 3/3] END criterion=entropy, max_depth=16, min_samples_split=2;, score=0.616 total time=   0.8s\n",
      "[CV 1/3] END criterion=entropy, max_depth=16, min_samples_split=4;, score=0.616 total time=   0.8s\n",
      "[CV 2/3] END criterion=entropy, max_depth=16, min_samples_split=4;, score=0.609 total time=   1.1s\n",
      "[CV 3/3] END criterion=entropy, max_depth=16, min_samples_split=4;, score=0.615 total time=   1.0s\n",
      "[CV 1/3] END criterion=entropy, max_depth=16, min_samples_split=8;, score=0.615 total time=   0.9s\n",
      "[CV 2/3] END criterion=entropy, max_depth=16, min_samples_split=8;, score=0.610 total time=   0.8s\n",
      "[CV 3/3] END criterion=entropy, max_depth=16, min_samples_split=8;, score=0.614 total time=   0.9s\n",
      "[CV 1/3] END criterion=entropy, max_depth=16, min_samples_split=16;, score=0.619 total time=   0.8s\n",
      "[CV 2/3] END criterion=entropy, max_depth=16, min_samples_split=16;, score=0.610 total time=   0.8s\n",
      "[CV 3/3] END criterion=entropy, max_depth=16, min_samples_split=16;, score=0.616 total time=   0.9s\n"
     ]
    },
    {
     "data": {
      "text/plain": "GridSearchCV(cv=3, estimator=DecisionTreeClassifier(random_state=42),\n             param_grid={'criterion': ['gini', 'entropy'],\n                         'max_depth': [4, 8, 16],\n                         'min_samples_split': [2, 4, 8, 16]},\n             scoring='f1', verbose=3)",
      "text/html": "<style>#sk-container-id-14 {color: black;background-color: white;}#sk-container-id-14 pre{padding: 0;}#sk-container-id-14 div.sk-toggleable {background-color: white;}#sk-container-id-14 label.sk-toggleable__label {cursor: pointer;display: block;width: 100%;margin-bottom: 0;padding: 0.3em;box-sizing: border-box;text-align: center;}#sk-container-id-14 label.sk-toggleable__label-arrow:before {content: \"▸\";float: left;margin-right: 0.25em;color: #696969;}#sk-container-id-14 label.sk-toggleable__label-arrow:hover:before {color: black;}#sk-container-id-14 div.sk-estimator:hover label.sk-toggleable__label-arrow:before {color: black;}#sk-container-id-14 div.sk-toggleable__content {max-height: 0;max-width: 0;overflow: hidden;text-align: left;background-color: #f0f8ff;}#sk-container-id-14 div.sk-toggleable__content pre {margin: 0.2em;color: black;border-radius: 0.25em;background-color: #f0f8ff;}#sk-container-id-14 input.sk-toggleable__control:checked~div.sk-toggleable__content {max-height: 200px;max-width: 100%;overflow: auto;}#sk-container-id-14 input.sk-toggleable__control:checked~label.sk-toggleable__label-arrow:before {content: \"▾\";}#sk-container-id-14 div.sk-estimator input.sk-toggleable__control:checked~label.sk-toggleable__label {background-color: #d4ebff;}#sk-container-id-14 div.sk-label input.sk-toggleable__control:checked~label.sk-toggleable__label {background-color: #d4ebff;}#sk-container-id-14 input.sk-hidden--visually {border: 0;clip: rect(1px 1px 1px 1px);clip: rect(1px, 1px, 1px, 1px);height: 1px;margin: -1px;overflow: hidden;padding: 0;position: absolute;width: 1px;}#sk-container-id-14 div.sk-estimator {font-family: monospace;background-color: #f0f8ff;border: 1px dotted black;border-radius: 0.25em;box-sizing: border-box;margin-bottom: 0.5em;}#sk-container-id-14 div.sk-estimator:hover {background-color: #d4ebff;}#sk-container-id-14 div.sk-parallel-item::after {content: \"\";width: 100%;border-bottom: 1px solid gray;flex-grow: 1;}#sk-container-id-14 div.sk-label:hover label.sk-toggleable__label {background-color: #d4ebff;}#sk-container-id-14 div.sk-serial::before {content: \"\";position: absolute;border-left: 1px solid gray;box-sizing: border-box;top: 0;bottom: 0;left: 50%;z-index: 0;}#sk-container-id-14 div.sk-serial {display: flex;flex-direction: column;align-items: center;background-color: white;padding-right: 0.2em;padding-left: 0.2em;position: relative;}#sk-container-id-14 div.sk-item {position: relative;z-index: 1;}#sk-container-id-14 div.sk-parallel {display: flex;align-items: stretch;justify-content: center;background-color: white;position: relative;}#sk-container-id-14 div.sk-item::before, #sk-container-id-14 div.sk-parallel-item::before {content: \"\";position: absolute;border-left: 1px solid gray;box-sizing: border-box;top: 0;bottom: 0;left: 50%;z-index: -1;}#sk-container-id-14 div.sk-parallel-item {display: flex;flex-direction: column;z-index: 1;position: relative;background-color: white;}#sk-container-id-14 div.sk-parallel-item:first-child::after {align-self: flex-end;width: 50%;}#sk-container-id-14 div.sk-parallel-item:last-child::after {align-self: flex-start;width: 50%;}#sk-container-id-14 div.sk-parallel-item:only-child::after {width: 0;}#sk-container-id-14 div.sk-dashed-wrapped {border: 1px dashed gray;margin: 0 0.4em 0.5em 0.4em;box-sizing: border-box;padding-bottom: 0.4em;background-color: white;}#sk-container-id-14 div.sk-label label {font-family: monospace;font-weight: bold;display: inline-block;line-height: 1.2em;}#sk-container-id-14 div.sk-label-container {text-align: center;}#sk-container-id-14 div.sk-container {/* jupyter's `normalize.less` sets `[hidden] { display: none; }` but bootstrap.min.css set `[hidden] { display: none !important; }` so we also need the `!important` here to be able to override the default hidden behavior on the sphinx rendered scikit-learn.org. See: https://github.com/scikit-learn/scikit-learn/issues/21755 */display: inline-block !important;position: relative;}#sk-container-id-14 div.sk-text-repr-fallback {display: none;}</style><div id=\"sk-container-id-14\" class=\"sk-top-container\"><div class=\"sk-text-repr-fallback\"><pre>GridSearchCV(cv=3, estimator=DecisionTreeClassifier(random_state=42),\n             param_grid={&#x27;criterion&#x27;: [&#x27;gini&#x27;, &#x27;entropy&#x27;],\n                         &#x27;max_depth&#x27;: [4, 8, 16],\n                         &#x27;min_samples_split&#x27;: [2, 4, 8, 16]},\n             scoring=&#x27;f1&#x27;, verbose=3)</pre><b>In a Jupyter environment, please rerun this cell to show the HTML representation or trust the notebook. <br />On GitHub, the HTML representation is unable to render, please try loading this page with nbviewer.org.</b></div><div class=\"sk-container\" hidden><div class=\"sk-item sk-dashed-wrapped\"><div class=\"sk-label-container\"><div class=\"sk-label sk-toggleable\"><input class=\"sk-toggleable__control sk-hidden--visually\" id=\"sk-estimator-id-32\" type=\"checkbox\" ><label for=\"sk-estimator-id-32\" class=\"sk-toggleable__label sk-toggleable__label-arrow\">GridSearchCV</label><div class=\"sk-toggleable__content\"><pre>GridSearchCV(cv=3, estimator=DecisionTreeClassifier(random_state=42),\n             param_grid={&#x27;criterion&#x27;: [&#x27;gini&#x27;, &#x27;entropy&#x27;],\n                         &#x27;max_depth&#x27;: [4, 8, 16],\n                         &#x27;min_samples_split&#x27;: [2, 4, 8, 16]},\n             scoring=&#x27;f1&#x27;, verbose=3)</pre></div></div></div><div class=\"sk-parallel\"><div class=\"sk-parallel-item\"><div class=\"sk-item\"><div class=\"sk-label-container\"><div class=\"sk-label sk-toggleable\"><input class=\"sk-toggleable__control sk-hidden--visually\" id=\"sk-estimator-id-33\" type=\"checkbox\" ><label for=\"sk-estimator-id-33\" class=\"sk-toggleable__label sk-toggleable__label-arrow\">estimator: DecisionTreeClassifier</label><div class=\"sk-toggleable__content\"><pre>DecisionTreeClassifier(random_state=42)</pre></div></div></div><div class=\"sk-serial\"><div class=\"sk-item\"><div class=\"sk-estimator sk-toggleable\"><input class=\"sk-toggleable__control sk-hidden--visually\" id=\"sk-estimator-id-34\" type=\"checkbox\" ><label for=\"sk-estimator-id-34\" class=\"sk-toggleable__label sk-toggleable__label-arrow\">DecisionTreeClassifier</label><div class=\"sk-toggleable__content\"><pre>DecisionTreeClassifier(random_state=42)</pre></div></div></div></div></div></div></div></div></div></div>"
     },
     "execution_count": 279,
     "metadata": {},
     "output_type": "execute_result"
    }
   ],
   "source": [
    "from sklearn.model_selection import GridSearchCV\n",
    "from sklearn.metrics import make_scorer, f1_score\n",
    "f1 = make_scorer(f1_score, pos_label =True)\n",
    "param_grid = {'max_depth': [4, 8, 16],\n",
    "              'min_samples_split': [2,4, 8, 16],\n",
    "              'criterion': ['gini', 'entropy']\n",
    "}\n",
    "grid = GridSearchCV(DecisionTreeClassifier(random_state=42), param_grid, cv=3, scoring='f1', verbose =3)\n",
    "grid.fit(X_undersampled, y_undersampled)\n"
   ],
   "metadata": {
    "collapsed": false
   }
  },
  {
   "cell_type": "code",
   "execution_count": 280,
   "outputs": [
    {
     "data": {
      "text/plain": "{'criterion': 'gini', 'max_depth': 8, 'min_samples_split': 16}"
     },
     "execution_count": 280,
     "metadata": {},
     "output_type": "execute_result"
    }
   ],
   "source": [
    "grid.best_params_"
   ],
   "metadata": {
    "collapsed": false
   }
  },
  {
   "cell_type": "code",
   "execution_count": 281,
   "outputs": [
    {
     "name": "stdout",
     "output_type": "stream",
     "text": [
      "Fitting 3 folds for each of 25 candidates, totalling 75 fits\n",
      "[CV 1/3] END criterion=gini, max_depth=4, min_samples_split=6;, score=0.626 total time=   0.1s\n",
      "[CV 2/3] END criterion=gini, max_depth=4, min_samples_split=6;, score=0.631 total time=   0.2s\n",
      "[CV 3/3] END criterion=gini, max_depth=4, min_samples_split=6;, score=0.635 total time=   0.2s\n",
      "[CV 1/3] END criterion=gini, max_depth=4, min_samples_split=7;, score=0.626 total time=   0.2s\n",
      "[CV 2/3] END criterion=gini, max_depth=4, min_samples_split=7;, score=0.631 total time=   0.1s\n",
      "[CV 3/3] END criterion=gini, max_depth=4, min_samples_split=7;, score=0.635 total time=   0.2s\n",
      "[CV 1/3] END criterion=gini, max_depth=4, min_samples_split=8;, score=0.626 total time=   0.2s\n",
      "[CV 2/3] END criterion=gini, max_depth=4, min_samples_split=8;, score=0.631 total time=   0.2s\n",
      "[CV 3/3] END criterion=gini, max_depth=4, min_samples_split=8;, score=0.635 total time=   0.1s\n",
      "[CV 1/3] END criterion=gini, max_depth=4, min_samples_split=9;, score=0.626 total time=   0.2s\n",
      "[CV 2/3] END criterion=gini, max_depth=4, min_samples_split=9;, score=0.631 total time=   0.2s\n",
      "[CV 3/3] END criterion=gini, max_depth=4, min_samples_split=9;, score=0.635 total time=   0.2s\n",
      "[CV 1/3] END criterion=gini, max_depth=4, min_samples_split=10;, score=0.626 total time=   0.2s\n",
      "[CV 2/3] END criterion=gini, max_depth=4, min_samples_split=10;, score=0.631 total time=   0.2s\n",
      "[CV 3/3] END criterion=gini, max_depth=4, min_samples_split=10;, score=0.635 total time=   0.2s\n",
      "[CV 1/3] END criterion=gini, max_depth=5, min_samples_split=6;, score=0.630 total time=   0.2s\n",
      "[CV 2/3] END criterion=gini, max_depth=5, min_samples_split=6;, score=0.633 total time=   0.2s\n",
      "[CV 3/3] END criterion=gini, max_depth=5, min_samples_split=6;, score=0.625 total time=   0.2s\n",
      "[CV 1/3] END criterion=gini, max_depth=5, min_samples_split=7;, score=0.630 total time=   0.2s\n",
      "[CV 2/3] END criterion=gini, max_depth=5, min_samples_split=7;, score=0.633 total time=   0.2s\n",
      "[CV 3/3] END criterion=gini, max_depth=5, min_samples_split=7;, score=0.625 total time=   0.2s\n",
      "[CV 1/3] END criterion=gini, max_depth=5, min_samples_split=8;, score=0.630 total time=   0.2s\n",
      "[CV 2/3] END criterion=gini, max_depth=5, min_samples_split=8;, score=0.633 total time=   0.2s\n",
      "[CV 3/3] END criterion=gini, max_depth=5, min_samples_split=8;, score=0.625 total time=   0.2s\n",
      "[CV 1/3] END criterion=gini, max_depth=5, min_samples_split=9;, score=0.630 total time=   0.2s\n",
      "[CV 2/3] END criterion=gini, max_depth=5, min_samples_split=9;, score=0.633 total time=   0.2s\n",
      "[CV 3/3] END criterion=gini, max_depth=5, min_samples_split=9;, score=0.625 total time=   0.2s\n",
      "[CV 1/3] END criterion=gini, max_depth=5, min_samples_split=10;, score=0.630 total time=   0.2s\n",
      "[CV 2/3] END criterion=gini, max_depth=5, min_samples_split=10;, score=0.633 total time=   0.2s\n",
      "[CV 3/3] END criterion=gini, max_depth=5, min_samples_split=10;, score=0.625 total time=   0.2s\n",
      "[CV 1/3] END criterion=gini, max_depth=6, min_samples_split=6;, score=0.636 total time=   0.3s\n",
      "[CV 2/3] END criterion=gini, max_depth=6, min_samples_split=6;, score=0.641 total time=   0.3s\n",
      "[CV 3/3] END criterion=gini, max_depth=6, min_samples_split=6;, score=0.643 total time=   0.3s\n",
      "[CV 1/3] END criterion=gini, max_depth=6, min_samples_split=7;, score=0.636 total time=   0.2s\n",
      "[CV 2/3] END criterion=gini, max_depth=6, min_samples_split=7;, score=0.641 total time=   0.2s\n",
      "[CV 3/3] END criterion=gini, max_depth=6, min_samples_split=7;, score=0.643 total time=   0.2s\n",
      "[CV 1/3] END criterion=gini, max_depth=6, min_samples_split=8;, score=0.636 total time=   0.3s\n",
      "[CV 2/3] END criterion=gini, max_depth=6, min_samples_split=8;, score=0.641 total time=   0.2s\n",
      "[CV 3/3] END criterion=gini, max_depth=6, min_samples_split=8;, score=0.643 total time=   0.3s\n",
      "[CV 1/3] END criterion=gini, max_depth=6, min_samples_split=9;, score=0.636 total time=   0.2s\n",
      "[CV 2/3] END criterion=gini, max_depth=6, min_samples_split=9;, score=0.641 total time=   0.3s\n",
      "[CV 3/3] END criterion=gini, max_depth=6, min_samples_split=9;, score=0.643 total time=   0.3s\n",
      "[CV 1/3] END criterion=gini, max_depth=6, min_samples_split=10;, score=0.636 total time=   0.3s\n",
      "[CV 2/3] END criterion=gini, max_depth=6, min_samples_split=10;, score=0.641 total time=   0.3s\n",
      "[CV 3/3] END criterion=gini, max_depth=6, min_samples_split=10;, score=0.643 total time=   0.3s\n",
      "[CV 1/3] END criterion=gini, max_depth=7, min_samples_split=6;, score=0.625 total time=   0.3s\n",
      "[CV 2/3] END criterion=gini, max_depth=7, min_samples_split=6;, score=0.637 total time=   0.3s\n",
      "[CV 3/3] END criterion=gini, max_depth=7, min_samples_split=6;, score=0.628 total time=   0.3s\n",
      "[CV 1/3] END criterion=gini, max_depth=7, min_samples_split=7;, score=0.625 total time=   0.3s\n",
      "[CV 2/3] END criterion=gini, max_depth=7, min_samples_split=7;, score=0.637 total time=   0.4s\n",
      "[CV 3/3] END criterion=gini, max_depth=7, min_samples_split=7;, score=0.628 total time=   0.5s\n",
      "[CV 1/3] END criterion=gini, max_depth=7, min_samples_split=8;, score=0.625 total time=   0.3s\n",
      "[CV 2/3] END criterion=gini, max_depth=7, min_samples_split=8;, score=0.637 total time=   0.3s\n",
      "[CV 3/3] END criterion=gini, max_depth=7, min_samples_split=8;, score=0.628 total time=   0.3s\n",
      "[CV 1/3] END criterion=gini, max_depth=7, min_samples_split=9;, score=0.625 total time=   0.3s\n",
      "[CV 2/3] END criterion=gini, max_depth=7, min_samples_split=9;, score=0.637 total time=   0.3s\n",
      "[CV 3/3] END criterion=gini, max_depth=7, min_samples_split=9;, score=0.628 total time=   0.3s\n",
      "[CV 1/3] END criterion=gini, max_depth=7, min_samples_split=10;, score=0.625 total time=   0.3s\n",
      "[CV 2/3] END criterion=gini, max_depth=7, min_samples_split=10;, score=0.637 total time=   0.3s\n",
      "[CV 3/3] END criterion=gini, max_depth=7, min_samples_split=10;, score=0.628 total time=   0.4s\n",
      "[CV 1/3] END criterion=gini, max_depth=8, min_samples_split=6;, score=0.618 total time=   0.3s\n",
      "[CV 2/3] END criterion=gini, max_depth=8, min_samples_split=6;, score=0.644 total time=   0.5s\n",
      "[CV 3/3] END criterion=gini, max_depth=8, min_samples_split=6;, score=0.634 total time=   0.4s\n",
      "[CV 1/3] END criterion=gini, max_depth=8, min_samples_split=7;, score=0.618 total time=   0.3s\n",
      "[CV 2/3] END criterion=gini, max_depth=8, min_samples_split=7;, score=0.644 total time=   0.3s\n",
      "[CV 3/3] END criterion=gini, max_depth=8, min_samples_split=7;, score=0.634 total time=   0.3s\n",
      "[CV 1/3] END criterion=gini, max_depth=8, min_samples_split=8;, score=0.618 total time=   0.5s\n",
      "[CV 2/3] END criterion=gini, max_depth=8, min_samples_split=8;, score=0.644 total time=   0.3s\n",
      "[CV 3/3] END criterion=gini, max_depth=8, min_samples_split=8;, score=0.634 total time=   0.3s\n",
      "[CV 1/3] END criterion=gini, max_depth=8, min_samples_split=9;, score=0.618 total time=   0.4s\n",
      "[CV 2/3] END criterion=gini, max_depth=8, min_samples_split=9;, score=0.643 total time=   0.3s\n",
      "[CV 3/3] END criterion=gini, max_depth=8, min_samples_split=9;, score=0.634 total time=   0.3s\n",
      "[CV 1/3] END criterion=gini, max_depth=8, min_samples_split=10;, score=0.618 total time=   0.4s\n",
      "[CV 2/3] END criterion=gini, max_depth=8, min_samples_split=10;, score=0.643 total time=   0.4s\n",
      "[CV 3/3] END criterion=gini, max_depth=8, min_samples_split=10;, score=0.634 total time=   0.4s\n"
     ]
    },
    {
     "data": {
      "text/plain": "GridSearchCV(cv=3, estimator=DecisionTreeClassifier(random_state=42),\n             param_grid={'criterion': ['gini'], 'max_depth': [4, 5, 6, 7, 8],\n                         'min_samples_split': [6, 7, 8, 9, 10]},\n             scoring='f1', verbose=3)",
      "text/html": "<style>#sk-container-id-15 {color: black;background-color: white;}#sk-container-id-15 pre{padding: 0;}#sk-container-id-15 div.sk-toggleable {background-color: white;}#sk-container-id-15 label.sk-toggleable__label {cursor: pointer;display: block;width: 100%;margin-bottom: 0;padding: 0.3em;box-sizing: border-box;text-align: center;}#sk-container-id-15 label.sk-toggleable__label-arrow:before {content: \"▸\";float: left;margin-right: 0.25em;color: #696969;}#sk-container-id-15 label.sk-toggleable__label-arrow:hover:before {color: black;}#sk-container-id-15 div.sk-estimator:hover label.sk-toggleable__label-arrow:before {color: black;}#sk-container-id-15 div.sk-toggleable__content {max-height: 0;max-width: 0;overflow: hidden;text-align: left;background-color: #f0f8ff;}#sk-container-id-15 div.sk-toggleable__content pre {margin: 0.2em;color: black;border-radius: 0.25em;background-color: #f0f8ff;}#sk-container-id-15 input.sk-toggleable__control:checked~div.sk-toggleable__content {max-height: 200px;max-width: 100%;overflow: auto;}#sk-container-id-15 input.sk-toggleable__control:checked~label.sk-toggleable__label-arrow:before {content: \"▾\";}#sk-container-id-15 div.sk-estimator input.sk-toggleable__control:checked~label.sk-toggleable__label {background-color: #d4ebff;}#sk-container-id-15 div.sk-label input.sk-toggleable__control:checked~label.sk-toggleable__label {background-color: #d4ebff;}#sk-container-id-15 input.sk-hidden--visually {border: 0;clip: rect(1px 1px 1px 1px);clip: rect(1px, 1px, 1px, 1px);height: 1px;margin: -1px;overflow: hidden;padding: 0;position: absolute;width: 1px;}#sk-container-id-15 div.sk-estimator {font-family: monospace;background-color: #f0f8ff;border: 1px dotted black;border-radius: 0.25em;box-sizing: border-box;margin-bottom: 0.5em;}#sk-container-id-15 div.sk-estimator:hover {background-color: #d4ebff;}#sk-container-id-15 div.sk-parallel-item::after {content: \"\";width: 100%;border-bottom: 1px solid gray;flex-grow: 1;}#sk-container-id-15 div.sk-label:hover label.sk-toggleable__label {background-color: #d4ebff;}#sk-container-id-15 div.sk-serial::before {content: \"\";position: absolute;border-left: 1px solid gray;box-sizing: border-box;top: 0;bottom: 0;left: 50%;z-index: 0;}#sk-container-id-15 div.sk-serial {display: flex;flex-direction: column;align-items: center;background-color: white;padding-right: 0.2em;padding-left: 0.2em;position: relative;}#sk-container-id-15 div.sk-item {position: relative;z-index: 1;}#sk-container-id-15 div.sk-parallel {display: flex;align-items: stretch;justify-content: center;background-color: white;position: relative;}#sk-container-id-15 div.sk-item::before, #sk-container-id-15 div.sk-parallel-item::before {content: \"\";position: absolute;border-left: 1px solid gray;box-sizing: border-box;top: 0;bottom: 0;left: 50%;z-index: -1;}#sk-container-id-15 div.sk-parallel-item {display: flex;flex-direction: column;z-index: 1;position: relative;background-color: white;}#sk-container-id-15 div.sk-parallel-item:first-child::after {align-self: flex-end;width: 50%;}#sk-container-id-15 div.sk-parallel-item:last-child::after {align-self: flex-start;width: 50%;}#sk-container-id-15 div.sk-parallel-item:only-child::after {width: 0;}#sk-container-id-15 div.sk-dashed-wrapped {border: 1px dashed gray;margin: 0 0.4em 0.5em 0.4em;box-sizing: border-box;padding-bottom: 0.4em;background-color: white;}#sk-container-id-15 div.sk-label label {font-family: monospace;font-weight: bold;display: inline-block;line-height: 1.2em;}#sk-container-id-15 div.sk-label-container {text-align: center;}#sk-container-id-15 div.sk-container {/* jupyter's `normalize.less` sets `[hidden] { display: none; }` but bootstrap.min.css set `[hidden] { display: none !important; }` so we also need the `!important` here to be able to override the default hidden behavior on the sphinx rendered scikit-learn.org. See: https://github.com/scikit-learn/scikit-learn/issues/21755 */display: inline-block !important;position: relative;}#sk-container-id-15 div.sk-text-repr-fallback {display: none;}</style><div id=\"sk-container-id-15\" class=\"sk-top-container\"><div class=\"sk-text-repr-fallback\"><pre>GridSearchCV(cv=3, estimator=DecisionTreeClassifier(random_state=42),\n             param_grid={&#x27;criterion&#x27;: [&#x27;gini&#x27;], &#x27;max_depth&#x27;: [4, 5, 6, 7, 8],\n                         &#x27;min_samples_split&#x27;: [6, 7, 8, 9, 10]},\n             scoring=&#x27;f1&#x27;, verbose=3)</pre><b>In a Jupyter environment, please rerun this cell to show the HTML representation or trust the notebook. <br />On GitHub, the HTML representation is unable to render, please try loading this page with nbviewer.org.</b></div><div class=\"sk-container\" hidden><div class=\"sk-item sk-dashed-wrapped\"><div class=\"sk-label-container\"><div class=\"sk-label sk-toggleable\"><input class=\"sk-toggleable__control sk-hidden--visually\" id=\"sk-estimator-id-35\" type=\"checkbox\" ><label for=\"sk-estimator-id-35\" class=\"sk-toggleable__label sk-toggleable__label-arrow\">GridSearchCV</label><div class=\"sk-toggleable__content\"><pre>GridSearchCV(cv=3, estimator=DecisionTreeClassifier(random_state=42),\n             param_grid={&#x27;criterion&#x27;: [&#x27;gini&#x27;], &#x27;max_depth&#x27;: [4, 5, 6, 7, 8],\n                         &#x27;min_samples_split&#x27;: [6, 7, 8, 9, 10]},\n             scoring=&#x27;f1&#x27;, verbose=3)</pre></div></div></div><div class=\"sk-parallel\"><div class=\"sk-parallel-item\"><div class=\"sk-item\"><div class=\"sk-label-container\"><div class=\"sk-label sk-toggleable\"><input class=\"sk-toggleable__control sk-hidden--visually\" id=\"sk-estimator-id-36\" type=\"checkbox\" ><label for=\"sk-estimator-id-36\" class=\"sk-toggleable__label sk-toggleable__label-arrow\">estimator: DecisionTreeClassifier</label><div class=\"sk-toggleable__content\"><pre>DecisionTreeClassifier(random_state=42)</pre></div></div></div><div class=\"sk-serial\"><div class=\"sk-item\"><div class=\"sk-estimator sk-toggleable\"><input class=\"sk-toggleable__control sk-hidden--visually\" id=\"sk-estimator-id-37\" type=\"checkbox\" ><label for=\"sk-estimator-id-37\" class=\"sk-toggleable__label sk-toggleable__label-arrow\">DecisionTreeClassifier</label><div class=\"sk-toggleable__content\"><pre>DecisionTreeClassifier(random_state=42)</pre></div></div></div></div></div></div></div></div></div></div>"
     },
     "execution_count": 281,
     "metadata": {},
     "output_type": "execute_result"
    }
   ],
   "source": [
    "# new grid\n",
    "param_grid = {'max_depth': [4,5,6,7,8],\n",
    "              'min_samples_split': [6,7,8,9,10],\n",
    "              'criterion': ['gini']\n",
    "}\n",
    "grid = GridSearchCV(DecisionTreeClassifier(random_state=42), param_grid, cv=3, scoring='f1', verbose =3)\n",
    "grid.fit(X_undersampled, y_undersampled)\n"
   ],
   "metadata": {
    "collapsed": false
   }
  },
  {
   "cell_type": "code",
   "execution_count": 282,
   "outputs": [
    {
     "data": {
      "text/plain": "{'criterion': 'gini', 'max_depth': 6, 'min_samples_split': 6}"
     },
     "execution_count": 282,
     "metadata": {},
     "output_type": "execute_result"
    }
   ],
   "source": [
    "grid.best_params_"
   ],
   "metadata": {
    "collapsed": false
   }
  },
  {
   "cell_type": "code",
   "execution_count": 286,
   "outputs": [
    {
     "data": {
      "text/plain": "DecisionTreeClassifier(max_depth=8, min_samples_split=16, random_state=42)",
      "text/html": "<style>#sk-container-id-18 {color: black;background-color: white;}#sk-container-id-18 pre{padding: 0;}#sk-container-id-18 div.sk-toggleable {background-color: white;}#sk-container-id-18 label.sk-toggleable__label {cursor: pointer;display: block;width: 100%;margin-bottom: 0;padding: 0.3em;box-sizing: border-box;text-align: center;}#sk-container-id-18 label.sk-toggleable__label-arrow:before {content: \"▸\";float: left;margin-right: 0.25em;color: #696969;}#sk-container-id-18 label.sk-toggleable__label-arrow:hover:before {color: black;}#sk-container-id-18 div.sk-estimator:hover label.sk-toggleable__label-arrow:before {color: black;}#sk-container-id-18 div.sk-toggleable__content {max-height: 0;max-width: 0;overflow: hidden;text-align: left;background-color: #f0f8ff;}#sk-container-id-18 div.sk-toggleable__content pre {margin: 0.2em;color: black;border-radius: 0.25em;background-color: #f0f8ff;}#sk-container-id-18 input.sk-toggleable__control:checked~div.sk-toggleable__content {max-height: 200px;max-width: 100%;overflow: auto;}#sk-container-id-18 input.sk-toggleable__control:checked~label.sk-toggleable__label-arrow:before {content: \"▾\";}#sk-container-id-18 div.sk-estimator input.sk-toggleable__control:checked~label.sk-toggleable__label {background-color: #d4ebff;}#sk-container-id-18 div.sk-label input.sk-toggleable__control:checked~label.sk-toggleable__label {background-color: #d4ebff;}#sk-container-id-18 input.sk-hidden--visually {border: 0;clip: rect(1px 1px 1px 1px);clip: rect(1px, 1px, 1px, 1px);height: 1px;margin: -1px;overflow: hidden;padding: 0;position: absolute;width: 1px;}#sk-container-id-18 div.sk-estimator {font-family: monospace;background-color: #f0f8ff;border: 1px dotted black;border-radius: 0.25em;box-sizing: border-box;margin-bottom: 0.5em;}#sk-container-id-18 div.sk-estimator:hover {background-color: #d4ebff;}#sk-container-id-18 div.sk-parallel-item::after {content: \"\";width: 100%;border-bottom: 1px solid gray;flex-grow: 1;}#sk-container-id-18 div.sk-label:hover label.sk-toggleable__label {background-color: #d4ebff;}#sk-container-id-18 div.sk-serial::before {content: \"\";position: absolute;border-left: 1px solid gray;box-sizing: border-box;top: 0;bottom: 0;left: 50%;z-index: 0;}#sk-container-id-18 div.sk-serial {display: flex;flex-direction: column;align-items: center;background-color: white;padding-right: 0.2em;padding-left: 0.2em;position: relative;}#sk-container-id-18 div.sk-item {position: relative;z-index: 1;}#sk-container-id-18 div.sk-parallel {display: flex;align-items: stretch;justify-content: center;background-color: white;position: relative;}#sk-container-id-18 div.sk-item::before, #sk-container-id-18 div.sk-parallel-item::before {content: \"\";position: absolute;border-left: 1px solid gray;box-sizing: border-box;top: 0;bottom: 0;left: 50%;z-index: -1;}#sk-container-id-18 div.sk-parallel-item {display: flex;flex-direction: column;z-index: 1;position: relative;background-color: white;}#sk-container-id-18 div.sk-parallel-item:first-child::after {align-self: flex-end;width: 50%;}#sk-container-id-18 div.sk-parallel-item:last-child::after {align-self: flex-start;width: 50%;}#sk-container-id-18 div.sk-parallel-item:only-child::after {width: 0;}#sk-container-id-18 div.sk-dashed-wrapped {border: 1px dashed gray;margin: 0 0.4em 0.5em 0.4em;box-sizing: border-box;padding-bottom: 0.4em;background-color: white;}#sk-container-id-18 div.sk-label label {font-family: monospace;font-weight: bold;display: inline-block;line-height: 1.2em;}#sk-container-id-18 div.sk-label-container {text-align: center;}#sk-container-id-18 div.sk-container {/* jupyter's `normalize.less` sets `[hidden] { display: none; }` but bootstrap.min.css set `[hidden] { display: none !important; }` so we also need the `!important` here to be able to override the default hidden behavior on the sphinx rendered scikit-learn.org. See: https://github.com/scikit-learn/scikit-learn/issues/21755 */display: inline-block !important;position: relative;}#sk-container-id-18 div.sk-text-repr-fallback {display: none;}</style><div id=\"sk-container-id-18\" class=\"sk-top-container\"><div class=\"sk-text-repr-fallback\"><pre>DecisionTreeClassifier(max_depth=8, min_samples_split=16, random_state=42)</pre><b>In a Jupyter environment, please rerun this cell to show the HTML representation or trust the notebook. <br />On GitHub, the HTML representation is unable to render, please try loading this page with nbviewer.org.</b></div><div class=\"sk-container\" hidden><div class=\"sk-item\"><div class=\"sk-estimator sk-toggleable\"><input class=\"sk-toggleable__control sk-hidden--visually\" id=\"sk-estimator-id-40\" type=\"checkbox\" checked><label for=\"sk-estimator-id-40\" class=\"sk-toggleable__label sk-toggleable__label-arrow\">DecisionTreeClassifier</label><div class=\"sk-toggleable__content\"><pre>DecisionTreeClassifier(max_depth=8, min_samples_split=16, random_state=42)</pre></div></div></div></div></div>"
     },
     "execution_count": 286,
     "metadata": {},
     "output_type": "execute_result"
    }
   ],
   "source": [
    "tree_balanced = DecisionTreeClassifier(random_state=42, max_depth=8, min_samples_split=16,  criterion='gini')\n",
    "tree_balanced.fit(X_undersampled, y_undersampled)"
   ],
   "metadata": {
    "collapsed": false
   }
  },
  {
   "cell_type": "code",
   "execution_count": 287,
   "outputs": [
    {
     "name": "stdout",
     "output_type": "stream",
     "text": [
      "Accuracy on training set:  0.6322480662680344\n",
      "confusion_matrix on training set: \n",
      " [[21274 15184]\n",
      " [11631 24827]]\n",
      "Accuracy on validation set:  0.5929743113587125\n",
      "Confusion matrix: \n",
      " [[13200 10149]\n",
      " [ 3002  5959]]\n",
      "Classification report: \n",
      "               precision    recall  f1-score   support\n",
      "\n",
      "       False       0.81      0.57      0.67     23349\n",
      "        True       0.37      0.66      0.48      8961\n",
      "\n",
      "    accuracy                           0.59     32310\n",
      "   macro avg       0.59      0.62      0.57     32310\n",
      "weighted avg       0.69      0.59      0.61     32310\n",
      "\n"
     ]
    }
   ],
   "source": [
    "y_pred = tree_balanced.predict(X_test)\n",
    "y_pred_train = tree_balanced.predict(X_undersampled)\n",
    "print('Accuracy on training set: ', accuracy_score(y_undersampled, y_pred_train))\n",
    "print('confusion_matrix on training set: \\n', confusion_matrix(y_undersampled, y_pred_train))\n",
    "print('Accuracy on validation set: ', accuracy_score(y_test, y_pred))\n",
    "print('Confusion matrix: \\n', confusion_matrix(y_test, y_pred))\n",
    "print('Classification report: \\n', classification_report(y_test, y_pred))"
   ],
   "metadata": {
    "collapsed": false
   }
  },
  {
   "cell_type": "markdown",
   "source": [
    "##### Oversampling"
   ],
   "metadata": {
    "collapsed": false
   }
  },
  {
   "cell_type": "code",
   "execution_count": 167,
   "outputs": [
    {
     "data": {
      "text/plain": "False    92782\nTrue     92782\nName: isKilled, dtype: int64"
     },
     "execution_count": 167,
     "metadata": {},
     "output_type": "execute_result"
    }
   ],
   "source": [
    "from imblearn.over_sampling import RandomOverSampler\n",
    "ros = RandomOverSampler(random_state=42)\n",
    "X_oversampled, y_oversampled = ros.fit_resample(X_train, y_train)\n",
    "y_oversampled.value_counts()"
   ],
   "metadata": {
    "collapsed": false
   }
  },
  {
   "cell_type": "code",
   "execution_count": 114,
   "outputs": [
    {
     "name": "stdout",
     "output_type": "stream",
     "text": [
      "Fitting 3 folds for each of 24 candidates, totalling 72 fits\n",
      "[CV 1/3] END criterion=gini, max_depth=4, min_samples_split=2;, score=0.765 total time=   1.1s\n",
      "[CV 2/3] END criterion=gini, max_depth=4, min_samples_split=2;, score=0.769 total time=   0.7s\n",
      "[CV 3/3] END criterion=gini, max_depth=4, min_samples_split=2;, score=0.768 total time=   1.1s\n",
      "[CV 1/3] END criterion=gini, max_depth=4, min_samples_split=4;, score=0.765 total time=   0.5s\n",
      "[CV 2/3] END criterion=gini, max_depth=4, min_samples_split=4;, score=0.769 total time=   0.6s\n",
      "[CV 3/3] END criterion=gini, max_depth=4, min_samples_split=4;, score=0.768 total time=   1.3s\n",
      "[CV 1/3] END criterion=gini, max_depth=4, min_samples_split=8;, score=0.765 total time=   0.9s\n",
      "[CV 2/3] END criterion=gini, max_depth=4, min_samples_split=8;, score=0.769 total time=   0.8s\n",
      "[CV 3/3] END criterion=gini, max_depth=4, min_samples_split=8;, score=0.768 total time=   1.0s\n",
      "[CV 1/3] END criterion=gini, max_depth=4, min_samples_split=16;, score=0.765 total time=   0.7s\n",
      "[CV 2/3] END criterion=gini, max_depth=4, min_samples_split=16;, score=0.769 total time=   0.8s\n",
      "[CV 3/3] END criterion=gini, max_depth=4, min_samples_split=16;, score=0.768 total time=   0.6s\n",
      "[CV 1/3] END criterion=gini, max_depth=8, min_samples_split=2;, score=0.759 total time=   1.6s\n",
      "[CV 2/3] END criterion=gini, max_depth=8, min_samples_split=2;, score=0.760 total time=   1.9s\n",
      "[CV 3/3] END criterion=gini, max_depth=8, min_samples_split=2;, score=0.767 total time=   1.7s\n",
      "[CV 1/3] END criterion=gini, max_depth=8, min_samples_split=4;, score=0.759 total time=   1.3s\n",
      "[CV 2/3] END criterion=gini, max_depth=8, min_samples_split=4;, score=0.760 total time=   1.6s\n",
      "[CV 3/3] END criterion=gini, max_depth=8, min_samples_split=4;, score=0.767 total time=   1.5s\n",
      "[CV 1/3] END criterion=gini, max_depth=8, min_samples_split=8;, score=0.759 total time=   1.6s\n",
      "[CV 2/3] END criterion=gini, max_depth=8, min_samples_split=8;, score=0.760 total time=   1.8s\n",
      "[CV 3/3] END criterion=gini, max_depth=8, min_samples_split=8;, score=0.767 total time=   1.1s\n",
      "[CV 1/3] END criterion=gini, max_depth=8, min_samples_split=16;, score=0.759 total time=   1.1s\n",
      "[CV 2/3] END criterion=gini, max_depth=8, min_samples_split=16;, score=0.760 total time=   1.0s\n",
      "[CV 3/3] END criterion=gini, max_depth=8, min_samples_split=16;, score=0.767 total time=   1.6s\n",
      "[CV 1/3] END criterion=gini, max_depth=16, min_samples_split=2;, score=0.803 total time=   1.8s\n",
      "[CV 2/3] END criterion=gini, max_depth=16, min_samples_split=2;, score=0.812 total time=   1.6s\n",
      "[CV 3/3] END criterion=gini, max_depth=16, min_samples_split=2;, score=0.819 total time=   1.6s\n",
      "[CV 1/3] END criterion=gini, max_depth=16, min_samples_split=4;, score=0.800 total time=   1.4s\n",
      "[CV 2/3] END criterion=gini, max_depth=16, min_samples_split=4;, score=0.810 total time=   1.5s\n",
      "[CV 3/3] END criterion=gini, max_depth=16, min_samples_split=4;, score=0.816 total time=   2.8s\n",
      "[CV 1/3] END criterion=gini, max_depth=16, min_samples_split=8;, score=0.797 total time=   1.7s\n",
      "[CV 2/3] END criterion=gini, max_depth=16, min_samples_split=8;, score=0.806 total time=   1.7s\n",
      "[CV 3/3] END criterion=gini, max_depth=16, min_samples_split=8;, score=0.812 total time=   1.7s\n",
      "[CV 1/3] END criterion=gini, max_depth=16, min_samples_split=16;, score=0.792 total time=   1.5s\n",
      "[CV 2/3] END criterion=gini, max_depth=16, min_samples_split=16;, score=0.800 total time=   1.6s\n",
      "[CV 3/3] END criterion=gini, max_depth=16, min_samples_split=16;, score=0.804 total time=   1.5s\n",
      "[CV 1/3] END criterion=entropy, max_depth=4, min_samples_split=2;, score=0.750 total time=   0.5s\n",
      "[CV 2/3] END criterion=entropy, max_depth=4, min_samples_split=2;, score=0.752 total time=   0.5s\n",
      "[CV 3/3] END criterion=entropy, max_depth=4, min_samples_split=2;, score=0.752 total time=   0.5s\n",
      "[CV 1/3] END criterion=entropy, max_depth=4, min_samples_split=4;, score=0.750 total time=   0.5s\n",
      "[CV 2/3] END criterion=entropy, max_depth=4, min_samples_split=4;, score=0.752 total time=   0.5s\n",
      "[CV 3/3] END criterion=entropy, max_depth=4, min_samples_split=4;, score=0.752 total time=   0.6s\n",
      "[CV 1/3] END criterion=entropy, max_depth=4, min_samples_split=8;, score=0.750 total time=   0.5s\n",
      "[CV 2/3] END criterion=entropy, max_depth=4, min_samples_split=8;, score=0.752 total time=   0.5s\n",
      "[CV 3/3] END criterion=entropy, max_depth=4, min_samples_split=8;, score=0.752 total time=   0.6s\n",
      "[CV 1/3] END criterion=entropy, max_depth=4, min_samples_split=16;, score=0.750 total time=   0.5s\n",
      "[CV 2/3] END criterion=entropy, max_depth=4, min_samples_split=16;, score=0.752 total time=   0.5s\n",
      "[CV 3/3] END criterion=entropy, max_depth=4, min_samples_split=16;, score=0.752 total time=   0.5s\n",
      "[CV 1/3] END criterion=entropy, max_depth=8, min_samples_split=2;, score=0.755 total time=   1.0s\n",
      "[CV 2/3] END criterion=entropy, max_depth=8, min_samples_split=2;, score=0.760 total time=   1.0s\n",
      "[CV 3/3] END criterion=entropy, max_depth=8, min_samples_split=2;, score=0.766 total time=   1.1s\n",
      "[CV 1/3] END criterion=entropy, max_depth=8, min_samples_split=4;, score=0.755 total time=   1.0s\n",
      "[CV 2/3] END criterion=entropy, max_depth=8, min_samples_split=4;, score=0.760 total time=   1.1s\n",
      "[CV 3/3] END criterion=entropy, max_depth=8, min_samples_split=4;, score=0.766 total time=   1.1s\n",
      "[CV 1/3] END criterion=entropy, max_depth=8, min_samples_split=8;, score=0.755 total time=   1.0s\n",
      "[CV 2/3] END criterion=entropy, max_depth=8, min_samples_split=8;, score=0.760 total time=   1.0s\n",
      "[CV 3/3] END criterion=entropy, max_depth=8, min_samples_split=8;, score=0.766 total time=   1.2s\n",
      "[CV 1/3] END criterion=entropy, max_depth=8, min_samples_split=16;, score=0.755 total time=   1.0s\n",
      "[CV 2/3] END criterion=entropy, max_depth=8, min_samples_split=16;, score=0.760 total time=   1.1s\n",
      "[CV 3/3] END criterion=entropy, max_depth=8, min_samples_split=16;, score=0.766 total time=   1.0s\n",
      "[CV 1/3] END criterion=entropy, max_depth=16, min_samples_split=2;, score=0.795 total time=   2.2s\n",
      "[CV 2/3] END criterion=entropy, max_depth=16, min_samples_split=2;, score=0.800 total time=   2.0s\n",
      "[CV 3/3] END criterion=entropy, max_depth=16, min_samples_split=2;, score=0.808 total time=   2.0s\n",
      "[CV 1/3] END criterion=entropy, max_depth=16, min_samples_split=4;, score=0.793 total time=   2.1s\n",
      "[CV 2/3] END criterion=entropy, max_depth=16, min_samples_split=4;, score=0.800 total time=   2.1s\n",
      "[CV 3/3] END criterion=entropy, max_depth=16, min_samples_split=4;, score=0.806 total time=   2.1s\n",
      "[CV 1/3] END criterion=entropy, max_depth=16, min_samples_split=8;, score=0.791 total time=   2.0s\n",
      "[CV 2/3] END criterion=entropy, max_depth=16, min_samples_split=8;, score=0.797 total time=   1.8s\n",
      "[CV 3/3] END criterion=entropy, max_depth=16, min_samples_split=8;, score=0.804 total time=   1.7s\n",
      "[CV 1/3] END criterion=entropy, max_depth=16, min_samples_split=16;, score=0.787 total time=   1.5s\n",
      "[CV 2/3] END criterion=entropy, max_depth=16, min_samples_split=16;, score=0.793 total time=   1.5s\n",
      "[CV 3/3] END criterion=entropy, max_depth=16, min_samples_split=16;, score=0.800 total time=   1.9s\n"
     ]
    },
    {
     "data": {
      "text/plain": "GridSearchCV(cv=3, estimator=DecisionTreeClassifier(random_state=42),\n             param_grid={'criterion': ['gini', 'entropy'],\n                         'max_depth': [4, 8, 16],\n                         'min_samples_split': [2, 4, 8, 16]},\n             scoring='f1', verbose=3)",
      "text/html": "<style>#sk-container-id-12 {color: black;background-color: white;}#sk-container-id-12 pre{padding: 0;}#sk-container-id-12 div.sk-toggleable {background-color: white;}#sk-container-id-12 label.sk-toggleable__label {cursor: pointer;display: block;width: 100%;margin-bottom: 0;padding: 0.3em;box-sizing: border-box;text-align: center;}#sk-container-id-12 label.sk-toggleable__label-arrow:before {content: \"▸\";float: left;margin-right: 0.25em;color: #696969;}#sk-container-id-12 label.sk-toggleable__label-arrow:hover:before {color: black;}#sk-container-id-12 div.sk-estimator:hover label.sk-toggleable__label-arrow:before {color: black;}#sk-container-id-12 div.sk-toggleable__content {max-height: 0;max-width: 0;overflow: hidden;text-align: left;background-color: #f0f8ff;}#sk-container-id-12 div.sk-toggleable__content pre {margin: 0.2em;color: black;border-radius: 0.25em;background-color: #f0f8ff;}#sk-container-id-12 input.sk-toggleable__control:checked~div.sk-toggleable__content {max-height: 200px;max-width: 100%;overflow: auto;}#sk-container-id-12 input.sk-toggleable__control:checked~label.sk-toggleable__label-arrow:before {content: \"▾\";}#sk-container-id-12 div.sk-estimator input.sk-toggleable__control:checked~label.sk-toggleable__label {background-color: #d4ebff;}#sk-container-id-12 div.sk-label input.sk-toggleable__control:checked~label.sk-toggleable__label {background-color: #d4ebff;}#sk-container-id-12 input.sk-hidden--visually {border: 0;clip: rect(1px 1px 1px 1px);clip: rect(1px, 1px, 1px, 1px);height: 1px;margin: -1px;overflow: hidden;padding: 0;position: absolute;width: 1px;}#sk-container-id-12 div.sk-estimator {font-family: monospace;background-color: #f0f8ff;border: 1px dotted black;border-radius: 0.25em;box-sizing: border-box;margin-bottom: 0.5em;}#sk-container-id-12 div.sk-estimator:hover {background-color: #d4ebff;}#sk-container-id-12 div.sk-parallel-item::after {content: \"\";width: 100%;border-bottom: 1px solid gray;flex-grow: 1;}#sk-container-id-12 div.sk-label:hover label.sk-toggleable__label {background-color: #d4ebff;}#sk-container-id-12 div.sk-serial::before {content: \"\";position: absolute;border-left: 1px solid gray;box-sizing: border-box;top: 0;bottom: 0;left: 50%;z-index: 0;}#sk-container-id-12 div.sk-serial {display: flex;flex-direction: column;align-items: center;background-color: white;padding-right: 0.2em;padding-left: 0.2em;position: relative;}#sk-container-id-12 div.sk-item {position: relative;z-index: 1;}#sk-container-id-12 div.sk-parallel {display: flex;align-items: stretch;justify-content: center;background-color: white;position: relative;}#sk-container-id-12 div.sk-item::before, #sk-container-id-12 div.sk-parallel-item::before {content: \"\";position: absolute;border-left: 1px solid gray;box-sizing: border-box;top: 0;bottom: 0;left: 50%;z-index: -1;}#sk-container-id-12 div.sk-parallel-item {display: flex;flex-direction: column;z-index: 1;position: relative;background-color: white;}#sk-container-id-12 div.sk-parallel-item:first-child::after {align-self: flex-end;width: 50%;}#sk-container-id-12 div.sk-parallel-item:last-child::after {align-self: flex-start;width: 50%;}#sk-container-id-12 div.sk-parallel-item:only-child::after {width: 0;}#sk-container-id-12 div.sk-dashed-wrapped {border: 1px dashed gray;margin: 0 0.4em 0.5em 0.4em;box-sizing: border-box;padding-bottom: 0.4em;background-color: white;}#sk-container-id-12 div.sk-label label {font-family: monospace;font-weight: bold;display: inline-block;line-height: 1.2em;}#sk-container-id-12 div.sk-label-container {text-align: center;}#sk-container-id-12 div.sk-container {/* jupyter's `normalize.less` sets `[hidden] { display: none; }` but bootstrap.min.css set `[hidden] { display: none !important; }` so we also need the `!important` here to be able to override the default hidden behavior on the sphinx rendered scikit-learn.org. See: https://github.com/scikit-learn/scikit-learn/issues/21755 */display: inline-block !important;position: relative;}#sk-container-id-12 div.sk-text-repr-fallback {display: none;}</style><div id=\"sk-container-id-12\" class=\"sk-top-container\"><div class=\"sk-text-repr-fallback\"><pre>GridSearchCV(cv=3, estimator=DecisionTreeClassifier(random_state=42),\n             param_grid={&#x27;criterion&#x27;: [&#x27;gini&#x27;, &#x27;entropy&#x27;],\n                         &#x27;max_depth&#x27;: [4, 8, 16],\n                         &#x27;min_samples_split&#x27;: [2, 4, 8, 16]},\n             scoring=&#x27;f1&#x27;, verbose=3)</pre><b>In a Jupyter environment, please rerun this cell to show the HTML representation or trust the notebook. <br />On GitHub, the HTML representation is unable to render, please try loading this page with nbviewer.org.</b></div><div class=\"sk-container\" hidden><div class=\"sk-item sk-dashed-wrapped\"><div class=\"sk-label-container\"><div class=\"sk-label sk-toggleable\"><input class=\"sk-toggleable__control sk-hidden--visually\" id=\"sk-estimator-id-22\" type=\"checkbox\" ><label for=\"sk-estimator-id-22\" class=\"sk-toggleable__label sk-toggleable__label-arrow\">GridSearchCV</label><div class=\"sk-toggleable__content\"><pre>GridSearchCV(cv=3, estimator=DecisionTreeClassifier(random_state=42),\n             param_grid={&#x27;criterion&#x27;: [&#x27;gini&#x27;, &#x27;entropy&#x27;],\n                         &#x27;max_depth&#x27;: [4, 8, 16],\n                         &#x27;min_samples_split&#x27;: [2, 4, 8, 16]},\n             scoring=&#x27;f1&#x27;, verbose=3)</pre></div></div></div><div class=\"sk-parallel\"><div class=\"sk-parallel-item\"><div class=\"sk-item\"><div class=\"sk-label-container\"><div class=\"sk-label sk-toggleable\"><input class=\"sk-toggleable__control sk-hidden--visually\" id=\"sk-estimator-id-23\" type=\"checkbox\" ><label for=\"sk-estimator-id-23\" class=\"sk-toggleable__label sk-toggleable__label-arrow\">estimator: DecisionTreeClassifier</label><div class=\"sk-toggleable__content\"><pre>DecisionTreeClassifier(random_state=42)</pre></div></div></div><div class=\"sk-serial\"><div class=\"sk-item\"><div class=\"sk-estimator sk-toggleable\"><input class=\"sk-toggleable__control sk-hidden--visually\" id=\"sk-estimator-id-24\" type=\"checkbox\" ><label for=\"sk-estimator-id-24\" class=\"sk-toggleable__label sk-toggleable__label-arrow\">DecisionTreeClassifier</label><div class=\"sk-toggleable__content\"><pre>DecisionTreeClassifier(random_state=42)</pre></div></div></div></div></div></div></div></div></div></div>"
     },
     "execution_count": 114,
     "metadata": {},
     "output_type": "execute_result"
    }
   ],
   "source": [
    "from sklearn.model_selection import GridSearchCV\n",
    "from sklearn.metrics import make_scorer, f1_score\n",
    "f1 = make_scorer(f1_score, pos_label =True)\n",
    "param_grid = {'max_depth': [4, 8, 16],\n",
    "              'min_samples_split': [2,4, 8, 16],\n",
    "              'criterion': ['gini', 'entropy']\n",
    "}\n",
    "grid = GridSearchCV(DecisionTreeClassifier(random_state=42), param_grid, cv=3, scoring='f1', verbose =3)\n",
    "grid.fit(X_oversampled, y_oversampled)\n"
   ],
   "metadata": {
    "collapsed": false
   }
  },
  {
   "cell_type": "code",
   "execution_count": 116,
   "outputs": [
    {
     "data": {
      "text/plain": "{'criterion': 'gini', 'max_depth': 16, 'min_samples_split': 2}"
     },
     "execution_count": 116,
     "metadata": {},
     "output_type": "execute_result"
    }
   ],
   "source": [
    "grid.best_params_"
   ],
   "metadata": {
    "collapsed": false
   }
  },
  {
   "cell_type": "code",
   "execution_count": 165,
   "outputs": [
    {
     "data": {
      "text/plain": "DecisionTreeClassifier(max_depth=16, min_samples_split=6, random_state=42)",
      "text/html": "<style>#sk-container-id-19 {color: black;background-color: white;}#sk-container-id-19 pre{padding: 0;}#sk-container-id-19 div.sk-toggleable {background-color: white;}#sk-container-id-19 label.sk-toggleable__label {cursor: pointer;display: block;width: 100%;margin-bottom: 0;padding: 0.3em;box-sizing: border-box;text-align: center;}#sk-container-id-19 label.sk-toggleable__label-arrow:before {content: \"▸\";float: left;margin-right: 0.25em;color: #696969;}#sk-container-id-19 label.sk-toggleable__label-arrow:hover:before {color: black;}#sk-container-id-19 div.sk-estimator:hover label.sk-toggleable__label-arrow:before {color: black;}#sk-container-id-19 div.sk-toggleable__content {max-height: 0;max-width: 0;overflow: hidden;text-align: left;background-color: #f0f8ff;}#sk-container-id-19 div.sk-toggleable__content pre {margin: 0.2em;color: black;border-radius: 0.25em;background-color: #f0f8ff;}#sk-container-id-19 input.sk-toggleable__control:checked~div.sk-toggleable__content {max-height: 200px;max-width: 100%;overflow: auto;}#sk-container-id-19 input.sk-toggleable__control:checked~label.sk-toggleable__label-arrow:before {content: \"▾\";}#sk-container-id-19 div.sk-estimator input.sk-toggleable__control:checked~label.sk-toggleable__label {background-color: #d4ebff;}#sk-container-id-19 div.sk-label input.sk-toggleable__control:checked~label.sk-toggleable__label {background-color: #d4ebff;}#sk-container-id-19 input.sk-hidden--visually {border: 0;clip: rect(1px 1px 1px 1px);clip: rect(1px, 1px, 1px, 1px);height: 1px;margin: -1px;overflow: hidden;padding: 0;position: absolute;width: 1px;}#sk-container-id-19 div.sk-estimator {font-family: monospace;background-color: #f0f8ff;border: 1px dotted black;border-radius: 0.25em;box-sizing: border-box;margin-bottom: 0.5em;}#sk-container-id-19 div.sk-estimator:hover {background-color: #d4ebff;}#sk-container-id-19 div.sk-parallel-item::after {content: \"\";width: 100%;border-bottom: 1px solid gray;flex-grow: 1;}#sk-container-id-19 div.sk-label:hover label.sk-toggleable__label {background-color: #d4ebff;}#sk-container-id-19 div.sk-serial::before {content: \"\";position: absolute;border-left: 1px solid gray;box-sizing: border-box;top: 0;bottom: 0;left: 50%;z-index: 0;}#sk-container-id-19 div.sk-serial {display: flex;flex-direction: column;align-items: center;background-color: white;padding-right: 0.2em;padding-left: 0.2em;position: relative;}#sk-container-id-19 div.sk-item {position: relative;z-index: 1;}#sk-container-id-19 div.sk-parallel {display: flex;align-items: stretch;justify-content: center;background-color: white;position: relative;}#sk-container-id-19 div.sk-item::before, #sk-container-id-19 div.sk-parallel-item::before {content: \"\";position: absolute;border-left: 1px solid gray;box-sizing: border-box;top: 0;bottom: 0;left: 50%;z-index: -1;}#sk-container-id-19 div.sk-parallel-item {display: flex;flex-direction: column;z-index: 1;position: relative;background-color: white;}#sk-container-id-19 div.sk-parallel-item:first-child::after {align-self: flex-end;width: 50%;}#sk-container-id-19 div.sk-parallel-item:last-child::after {align-self: flex-start;width: 50%;}#sk-container-id-19 div.sk-parallel-item:only-child::after {width: 0;}#sk-container-id-19 div.sk-dashed-wrapped {border: 1px dashed gray;margin: 0 0.4em 0.5em 0.4em;box-sizing: border-box;padding-bottom: 0.4em;background-color: white;}#sk-container-id-19 div.sk-label label {font-family: monospace;font-weight: bold;display: inline-block;line-height: 1.2em;}#sk-container-id-19 div.sk-label-container {text-align: center;}#sk-container-id-19 div.sk-container {/* jupyter's `normalize.less` sets `[hidden] { display: none; }` but bootstrap.min.css set `[hidden] { display: none !important; }` so we also need the `!important` here to be able to override the default hidden behavior on the sphinx rendered scikit-learn.org. See: https://github.com/scikit-learn/scikit-learn/issues/21755 */display: inline-block !important;position: relative;}#sk-container-id-19 div.sk-text-repr-fallback {display: none;}</style><div id=\"sk-container-id-19\" class=\"sk-top-container\"><div class=\"sk-text-repr-fallback\"><pre>DecisionTreeClassifier(max_depth=16, min_samples_split=6, random_state=42)</pre><b>In a Jupyter environment, please rerun this cell to show the HTML representation or trust the notebook. <br />On GitHub, the HTML representation is unable to render, please try loading this page with nbviewer.org.</b></div><div class=\"sk-container\" hidden><div class=\"sk-item\"><div class=\"sk-estimator sk-toggleable\"><input class=\"sk-toggleable__control sk-hidden--visually\" id=\"sk-estimator-id-37\" type=\"checkbox\" checked><label for=\"sk-estimator-id-37\" class=\"sk-toggleable__label sk-toggleable__label-arrow\">DecisionTreeClassifier</label><div class=\"sk-toggleable__content\"><pre>DecisionTreeClassifier(max_depth=16, min_samples_split=6, random_state=42)</pre></div></div></div></div></div>"
     },
     "execution_count": 165,
     "metadata": {},
     "output_type": "execute_result"
    }
   ],
   "source": [
    "tree_oversampled = DecisionTreeClassifier(random_state=42, max_depth=16, min_samples_split=6,  criterion='gini')\n",
    "tree_oversampled.fit(X_oversampled, y_oversampled)"
   ],
   "metadata": {
    "collapsed": false
   }
  },
  {
   "cell_type": "code",
   "execution_count": 166,
   "outputs": [
    {
     "name": "stdout",
     "output_type": "stream",
     "text": [
      "Accuracy on training set:  0.841666487034123\n",
      "confusion_matrix on training set: \n",
      " [[73142 19640]\n",
      " [ 9741 83041]]\n",
      "Accuracy on validation set:  0.7363354998452492\n",
      "Confusion matrix: \n",
      " [[17177  6172]\n",
      " [ 2347  6614]]\n",
      "Classification report: \n",
      "               precision    recall  f1-score   support\n",
      "\n",
      "       False       0.88      0.74      0.80     23349\n",
      "        True       0.52      0.74      0.61      8961\n",
      "\n",
      "    accuracy                           0.74     32310\n",
      "   macro avg       0.70      0.74      0.70     32310\n",
      "weighted avg       0.78      0.74      0.75     32310\n",
      "\n"
     ]
    }
   ],
   "source": [
    "y_pred = tree_oversampled.predict(X_test)\n",
    "y_pred_train = tree_oversampled.predict(X_oversampled)\n",
    "print('Accuracy on training set: ', accuracy_score(y_oversampled, y_pred_train))\n",
    "print('confusion_matrix on training set: \\n', confusion_matrix(y_oversampled, y_pred_train))\n",
    "print('Accuracy on validation set: ', accuracy_score(y_test, y_pred))\n",
    "print('Confusion matrix: \\n', confusion_matrix(y_test, y_pred))\n",
    "print('Classification report: \\n', classification_report(y_test, y_pred))"
   ],
   "metadata": {
    "collapsed": false
   }
  },
  {
   "cell_type": "markdown",
   "source": [
    "##### SMOTE"
   ],
   "metadata": {
    "collapsed": false
   }
  },
  {
   "cell_type": "markdown",
   "source": [
    "### KNN"
   ],
   "metadata": {
    "collapsed": false
   }
  },
  {
   "cell_type": "code",
   "execution_count": 140,
   "outputs": [],
   "source": [
    "from sklearn.neighbors import KNeighborsClassifier\n",
    "from sklearn.model_selection import train_test_split\n",
    "from sklearn.metrics import accuracy_score, precision_score, recall_score, f1_score, confusion_matrix, classification_report\n",
    "from sklearn.metrics import confusion_matrix\n",
    "from sklearn.metrics import classification_report"
   ],
   "metadata": {
    "collapsed": false
   }
  },
  {
   "cell_type": "code",
   "execution_count": 145,
   "outputs": [
    {
     "name": "stderr",
     "output_type": "stream",
     "text": [
      "100%|██████████| 9/9 [02:02<00:00, 13.59s/it]\n"
     ]
    }
   ],
   "source": [
    "# train model\n",
    "accuracy_scores = []\n",
    "f1_scores =[]\n",
    "for i in tqdm(range(1, 10)):\n",
    "    knn = KNeighborsClassifier(n_neighbors=i)\n",
    "    knn.fit(X_train, y_train)\n",
    "    y_pred = knn.predict(X_test)\n",
    "    accuracy_scores.append(accuracy_score(y_test, y_pred))\n",
    "    f1_scores.append(f1_score(y_test, y_pred))"
   ],
   "metadata": {
    "collapsed": false
   }
  },
  {
   "cell_type": "code",
   "execution_count": 146,
   "outputs": [
    {
     "data": {
      "text/plain": "Text(0.5, 1.0, 'accuracy and f1-score for different k values')"
     },
     "execution_count": 146,
     "metadata": {},
     "output_type": "execute_result"
    },
    {
     "data": {
      "text/plain": "<Figure size 640x480 with 1 Axes>",
      "image/png": "[encoded data removed]"
     },
     "metadata": {},
     "output_type": "display_data"
    }
   ],
   "source": [
    "plt.plot(range(1, 10), accuracy_scores)\n",
    "plt.plot(range(1, 10), f1_scores)\n",
    "plt.xlabel('k')\n",
    "plt.legend(['accuracy' ,'f1'])\n",
    "plt.title('accuracy and f1-score for different k values')\n",
    "\n"
   ],
   "metadata": {
    "collapsed": false
   }
  },
  {
   "cell_type": "code",
   "execution_count": null,
   "outputs": [],
   "source": [],
   "metadata": {
    "collapsed": false
   }
  },
  {
   "cell_type": "code",
   "execution_count": 147,
   "outputs": [
    {
     "name": "stdout",
     "output_type": "stream",
     "text": [
      "Accuracy on test set:  0.7596409780253791\n",
      "Confusion matrix: \n",
      " [[20478  2871]\n",
      " [ 4895  4066]]\n",
      "Classification report: \n",
      "               precision    recall  f1-score   support\n",
      "\n",
      "       False       0.81      0.88      0.84     23349\n",
      "        True       0.59      0.45      0.51      8961\n",
      "\n",
      "    accuracy                           0.76     32310\n",
      "   macro avg       0.70      0.67      0.68     32310\n",
      "weighted avg       0.75      0.76      0.75     32310\n",
      "\n"
     ]
    }
   ],
   "source": [
    "# train again with best k on whole dev set\n",
    "knn = KNeighborsClassifier(n_neighbors=5)\n",
    "knn.fit(X_train, y_train)\n",
    "y_pred = knn.predict(X_test)\n",
    "\n",
    "print('Accuracy on test set: ', accuracy_score(y_test, y_pred))\n",
    "print('Confusion matrix: \\n', confusion_matrix(y_test, y_pred))\n",
    "print('Classification report: \\n', classification_report(y_test, y_pred))"
   ],
   "metadata": {
    "collapsed": false
   }
  },
  {
   "cell_type": "markdown",
   "source": [
    "### Logistic regression"
   ],
   "metadata": {
    "collapsed": false
   }
  },
  {
   "cell_type": "code",
   "execution_count": 92,
   "outputs": [
    {
     "data": {
      "text/plain": "        latitude  longitude    year  povertyPercentage  population  \\\n72096    41.5094   -87.3501  2016.0               11.8     6634304   \n159077   30.0788   -95.4261  2015.0               14.0    27470056   \n124316   34.1473   -77.8766  2017.0               13.6    10268233   \n144416   42.4051   -82.9640  2017.0               10.7     9973114   \n41932    33.5675  -112.1560  2014.0               18.1     6730413   \n...          ...        ...     ...                ...         ...   \n122307   40.8303   -73.9478  2016.0               11.8    19633428   \n105898   36.8071  -119.6720  2016.0               12.5    39167117   \n134581   42.7352   -87.7959  2014.0               11.0     5751525   \n149666   27.3226   -80.3804  2017.0               12.8    20963613   \n124404   29.5286   -95.0316  2015.0               14.0    27470056   \n\n        candidatevotes  right_or_left  voters_over_population  n_participants  \\\n72096         207515.0       0.184883                0.400700             2.0   \n159077        101936.0       0.679456                0.162122             4.0   \n124316        211801.0       0.609138                0.447833             2.0   \n144416        244135.0       0.214934                0.468350             1.0   \n41932         128710.0       0.758117                0.218055             1.0   \n...                ...            ...                     ...             ...   \n122307        207194.0       0.188235                0.397300             3.0   \n105898        158755.0       0.675651                0.342482             3.0   \n134581        182316.0       0.632668                0.409557             2.0   \n149666        201488.0       0.535989                0.421560             1.0   \n124404         90116.0       0.618512                0.162122             1.0   \n\n        n_females  ...  age_group_[12-17]  age_group_[18-24]  \\\n72096         0.0  ...                  0                  1   \n159077        0.0  ...                  0                  1   \n124316        1.0  ...                  0                  0   \n144416        0.0  ...                  0                  0   \n41932         0.0  ...                  0                  0   \n...           ...  ...                ...                ...   \n122307        0.0  ...                  0                  0   \n105898        0.0  ...                  0                  0   \n134581        0.0  ...                  1                  0   \n149666        0.0  ...                  0                  0   \n124404        0.0  ...                  0                  0   \n\n        age_group_[25-34]  age_group_[35-44]  age_group_[45-54]  \\\n72096                   0                  0                  0   \n159077                  0                  0                  0   \n124316                  0                  1                  0   \n144416                  0                  0                  0   \n41932                   0                  0                  1   \n...                   ...                ...                ...   \n122307                  1                  0                  0   \n105898                  1                  0                  0   \n134581                  0                  0                  0   \n149666                  1                  0                  0   \n124404                  1                  0                  0   \n\n        age_group_[55-64]  age_group_[65-74]  age_group_[75-100]  \\\n72096                   0                  0                   0   \n159077                  0                  0                   0   \n124316                  0                  0                   0   \n144416                  1                  0                   0   \n41932                   0                  0                   0   \n...                   ...                ...                 ...   \n122307                  0                  0                   0   \n105898                  0                  0                   0   \n134581                  0                  0                   0   \n149666                  0                  0                   0   \n124404                  0                  0                   0   \n\n        party_DEMOCRAT  party_REPUBLICAN  \n72096                1                 0  \n159077               0                 1  \n124316               0                 1  \n144416               1                 0  \n41932                0                 1  \n...                ...               ...  \n122307               1                 0  \n105898               0                 1  \n134581               0                 1  \n149666               0                 1  \n124404               0                 1  \n\n[129240 rows x 24 columns]",
      "text/html": "<div>\n<style scoped>\n    .dataframe tbody tr th:only-of-type {\n        vertical-align: middle;\n    }\n\n    .dataframe tbody tr th {\n        vertical-align: top;\n    }\n\n    .dataframe thead th {\n        text-align: right;\n    }\n</style>\n<table border=\"1\" class=\"dataframe\">\n  <thead>\n    <tr style=\"text-align: right;\">\n      <th></th>\n      <th>latitude</th>\n      <th>longitude</th>\n      <th>year</th>\n      <th>povertyPercentage</th>\n      <th>population</th>\n      <th>candidatevotes</th>\n      <th>right_or_left</th>\n      <th>voters_over_population</th>\n      <th>n_participants</th>\n      <th>n_females</th>\n      <th>...</th>\n      <th>age_group_[12-17]</th>\n      <th>age_group_[18-24]</th>\n      <th>age_group_[25-34]</th>\n      <th>age_group_[35-44]</th>\n      <th>age_group_[45-54]</th>\n      <th>age_group_[55-64]</th>\n      <th>age_group_[65-74]</th>\n      <th>age_group_[75-100]</th>\n      <th>party_DEMOCRAT</th>\n      <th>party_REPUBLICAN</th>\n    </tr>\n  </thead>\n  <tbody>\n    <tr>\n      <th>72096</th>\n      <td>41.5094</td>\n      <td>-87.3501</td>\n      <td>2016.0</td>\n      <td>11.8</td>\n      <td>6634304</td>\n      <td>207515.0</td>\n      <td>0.184883</td>\n      <td>0.400700</td>\n      <td>2.0</td>\n      <td>0.0</td>\n      <td>...</td>\n      <td>0</td>\n      <td>1</td>\n      <td>0</td>\n      <td>0</td>\n      <td>0</td>\n      <td>0</td>\n      <td>0</td>\n      <td>0</td>\n      <td>1</td>\n      <td>0</td>\n    </tr>\n    <tr>\n      <th>159077</th>\n      <td>30.0788</td>\n      <td>-95.4261</td>\n      <td>2015.0</td>\n      <td>14.0</td>\n      <td>27470056</td>\n      <td>101936.0</td>\n      <td>0.679456</td>\n      <td>0.162122</td>\n      <td>4.0</td>\n      <td>0.0</td>\n      <td>...</td>\n      <td>0</td>\n      <td>1</td>\n      <td>0</td>\n      <td>0</td>\n      <td>0</td>\n      <td>0</td>\n      <td>0</td>\n      <td>0</td>\n      <td>0</td>\n      <td>1</td>\n    </tr>\n    <tr>\n      <th>124316</th>\n      <td>34.1473</td>\n      <td>-77.8766</td>\n      <td>2017.0</td>\n      <td>13.6</td>\n      <td>10268233</td>\n      <td>211801.0</td>\n      <td>0.609138</td>\n      <td>0.447833</td>\n      <td>2.0</td>\n      <td>1.0</td>\n      <td>...</td>\n      <td>0</td>\n      <td>0</td>\n      <td>0</td>\n      <td>1</td>\n      <td>0</td>\n      <td>0</td>\n      <td>0</td>\n      <td>0</td>\n      <td>0</td>\n      <td>1</td>\n    </tr>\n    <tr>\n      <th>144416</th>\n      <td>42.4051</td>\n      <td>-82.9640</td>\n      <td>2017.0</td>\n      <td>10.7</td>\n      <td>9973114</td>\n      <td>244135.0</td>\n      <td>0.214934</td>\n      <td>0.468350</td>\n      <td>1.0</td>\n      <td>0.0</td>\n      <td>...</td>\n      <td>0</td>\n      <td>0</td>\n      <td>0</td>\n      <td>0</td>\n      <td>0</td>\n      <td>1</td>\n      <td>0</td>\n      <td>0</td>\n      <td>1</td>\n      <td>0</td>\n    </tr>\n    <tr>\n      <th>41932</th>\n      <td>33.5675</td>\n      <td>-112.1560</td>\n      <td>2014.0</td>\n      <td>18.1</td>\n      <td>6730413</td>\n      <td>128710.0</td>\n      <td>0.758117</td>\n      <td>0.218055</td>\n      <td>1.0</td>\n      <td>0.0</td>\n      <td>...</td>\n      <td>0</td>\n      <td>0</td>\n      <td>0</td>\n      <td>0</td>\n      <td>1</td>\n      <td>0</td>\n      <td>0</td>\n      <td>0</td>\n      <td>0</td>\n      <td>1</td>\n    </tr>\n    <tr>\n      <th>...</th>\n      <td>...</td>\n      <td>...</td>\n      <td>...</td>\n      <td>...</td>\n      <td>...</td>\n      <td>...</td>\n      <td>...</td>\n      <td>...</td>\n      <td>...</td>\n      <td>...</td>\n      <td>...</td>\n      <td>...</td>\n      <td>...</td>\n      <td>...</td>\n      <td>...</td>\n      <td>...</td>\n      <td>...</td>\n      <td>...</td>\n      <td>...</td>\n      <td>...</td>\n      <td>...</td>\n    </tr>\n    <tr>\n      <th>122307</th>\n      <td>40.8303</td>\n      <td>-73.9478</td>\n      <td>2016.0</td>\n      <td>11.8</td>\n      <td>19633428</td>\n      <td>207194.0</td>\n      <td>0.188235</td>\n      <td>0.397300</td>\n      <td>3.0</td>\n      <td>0.0</td>\n      <td>...</td>\n      <td>0</td>\n      <td>0</td>\n      <td>1</td>\n      <td>0</td>\n      <td>0</td>\n      <td>0</td>\n      <td>0</td>\n      <td>0</td>\n      <td>1</td>\n      <td>0</td>\n    </tr>\n    <tr>\n      <th>105898</th>\n      <td>36.8071</td>\n      <td>-119.6720</td>\n      <td>2016.0</td>\n      <td>12.5</td>\n      <td>39167117</td>\n      <td>158755.0</td>\n      <td>0.675651</td>\n      <td>0.342482</td>\n      <td>3.0</td>\n      <td>0.0</td>\n      <td>...</td>\n      <td>0</td>\n      <td>0</td>\n      <td>1</td>\n      <td>0</td>\n      <td>0</td>\n      <td>0</td>\n      <td>0</td>\n      <td>0</td>\n      <td>0</td>\n      <td>1</td>\n    </tr>\n    <tr>\n      <th>134581</th>\n      <td>42.7352</td>\n      <td>-87.7959</td>\n      <td>2014.0</td>\n      <td>11.0</td>\n      <td>5751525</td>\n      <td>182316.0</td>\n      <td>0.632668</td>\n      <td>0.409557</td>\n      <td>2.0</td>\n      <td>0.0</td>\n      <td>...</td>\n      <td>1</td>\n      <td>0</td>\n      <td>0</td>\n      <td>0</td>\n      <td>0</td>\n      <td>0</td>\n      <td>0</td>\n      <td>0</td>\n      <td>0</td>\n      <td>1</td>\n    </tr>\n    <tr>\n      <th>149666</th>\n      <td>27.3226</td>\n      <td>-80.3804</td>\n      <td>2017.0</td>\n      <td>12.8</td>\n      <td>20963613</td>\n      <td>201488.0</td>\n      <td>0.535989</td>\n      <td>0.421560</td>\n      <td>1.0</td>\n      <td>0.0</td>\n      <td>...</td>\n      <td>0</td>\n      <td>0</td>\n      <td>1</td>\n      <td>0</td>\n      <td>0</td>\n      <td>0</td>\n      <td>0</td>\n      <td>0</td>\n      <td>0</td>\n      <td>1</td>\n    </tr>\n    <tr>\n      <th>124404</th>\n      <td>29.5286</td>\n      <td>-95.0316</td>\n      <td>2015.0</td>\n      <td>14.0</td>\n      <td>27470056</td>\n      <td>90116.0</td>\n      <td>0.618512</td>\n      <td>0.162122</td>\n      <td>1.0</td>\n      <td>0.0</td>\n      <td>...</td>\n      <td>0</td>\n      <td>0</td>\n      <td>1</td>\n      <td>0</td>\n      <td>0</td>\n      <td>0</td>\n      <td>0</td>\n      <td>0</td>\n      <td>0</td>\n      <td>1</td>\n    </tr>\n  </tbody>\n</table>\n<p>129240 rows × 24 columns</p>\n</div>"
     },
     "execution_count": 92,
     "metadata": {},
     "output_type": "execute_result"
    }
   ],
   "source": [
    "X_train"
   ],
   "metadata": {
    "collapsed": false
   }
  },
  {
   "cell_type": "code",
   "execution_count": 74,
   "metadata": {},
   "outputs": [
    {
     "name": "stdout",
     "output_type": "stream",
     "text": [
      "Accuracy on training set:  0.7352367688022284\n",
      "confusion_matrix on training set: \n",
      " [[85702  7080]\n",
      " [27138  9320]]\n",
      "Accuracy on validation set:  0.7373878056329309\n",
      "Confusion matrix: \n",
      " [[21575  1774]\n",
      " [ 6711  2250]]\n",
      "Classification report: \n",
      "               precision    recall  f1-score   support\n",
      "\n",
      "       False       0.76      0.92      0.84     23349\n",
      "        True       0.56      0.25      0.35      8961\n",
      "\n",
      "    accuracy                           0.74     32310\n",
      "   macro avg       0.66      0.59      0.59     32310\n",
      "weighted avg       0.71      0.74      0.70     32310\n",
      "\n"
     ]
    }
   ],
   "source": [
    "from sklearn.preprocessing import StandardScaler\n",
    "from sklearn.linear_model import LogisticRegression\n",
    "scaler = StandardScaler()\n",
    "X_scaled=scaler.fit_transform(X)\n",
    "X_train, X_test, y_train, y_test = train_test_split(X_scaled, y, test_size=0.2, random_state=42)\n",
    "logreg = LogisticRegression()\n",
    "logreg_model = logreg.fit(X_train, y_train)\n",
    "y_pred = logreg.predict(X_test)\n",
    "y_pred_train = logreg.predict(X_train)\n",
    "print('Accuracy on training set: ', accuracy_score(y_train, y_pred_train))\n",
    "print('confusion_matrix on training set: \\n', confusion_matrix(y_train, y_pred_train))\n",
    "print('Accuracy on validation set: ', accuracy_score(y_test, y_pred))\n",
    "print('Confusion matrix: \\n', confusion_matrix(y_test, y_pred))\n",
    "print('Classification report: \\n', classification_report(y_test, y_pred))"
   ]
  },
  {
   "cell_type": "code",
   "execution_count": 94,
   "outputs": [
    {
     "name": "stdout",
     "output_type": "stream",
     "text": [
      "('latitude', -0.22691250734656887)\n",
      "('longitude', -0.1345313800112381)\n",
      "('year', 0.04517083613502728)\n",
      "('povertyPercentage', 0.006232838324137299)\n",
      "('population', -0.04485873722895585)\n",
      "('candidatevotes', 0.07737770772894101)\n",
      "('right_or_left', -0.25058822943825504)\n",
      "('voters_over_population', -0.2134447414103283)\n",
      "('n_participants', 0.4607719484178424)\n",
      "('n_females', 0.06590461710916817)\n",
      "('n_teens', -0.003972764296771843)\n",
      "('n_children', 0.029711379332977256)\n",
      "('n_injured', -1.0778567064453866)\n",
      "('age_group_[0-11]', -0.053281099514143775)\n",
      "('age_group_[12-17]', -0.1377974671670315)\n",
      "('age_group_[18-24]', -0.08509522353840995)\n",
      "('age_group_[25-34]', 0.02799710222386613)\n",
      "('age_group_[35-44]', 0.06762885756513441)\n",
      "('age_group_[45-54]', 0.08835807658420265)\n",
      "('age_group_[55-64]', 0.07135393719270403)\n",
      "('age_group_[65-74]', 0.03955356385425818)\n",
      "('age_group_[75-100]', 0.033195025406183784)\n",
      "('party_DEMOCRAT', 0.005182070158533279)\n",
      "('party_REPUBLICAN', -0.005182070158533279)\n"
     ]
    }
   ],
   "source": [
    "# weights of model\n",
    "for i in zip(X.columns, logreg_model.coef_[0]):\n",
    "    print(i)"
   ],
   "metadata": {
    "collapsed": false
   }
  },
  {
   "cell_type": "code",
   "execution_count": 259,
   "outputs": [
    {
     "data": {
      "text/plain": "-0.3597385293540303"
     },
     "execution_count": 259,
     "metadata": {},
     "output_type": "execute_result"
    }
   ],
   "source": [
    "# correlation n_killed and n_injured\n",
    "df_orig['isKilled'] = df_incidents_prepared['isKilled']\n",
    "df_orig['isInjured'] = df_orig['n_injured'] > 0\n",
    "df_orig['isKilled'].corr(df_orig['isInjured'])"
   ],
   "metadata": {
    "collapsed": false
   }
  },
  {
   "cell_type": "markdown",
   "source": [
    "### Random Forest"
   ],
   "metadata": {
    "collapsed": false
   }
  },
  {
   "cell_type": "code",
   "execution_count": 167,
   "metadata": {},
   "outputs": [],
   "source": [
    "from sklearn.ensemble import RandomForestClassifier\n",
    "from sklearn.model_selection import train_test_split, GridSearchCV\n",
    "X_train, X_test, y_train, y_test = train_test_split(X, y, test_size=0.2, random_state=42)\n"
   ]
  },
  {
   "cell_type": "code",
   "execution_count": 169,
   "outputs": [
    {
     "name": "stdout",
     "output_type": "stream",
     "text": [
      "Fitting 3 folds for each of 54 candidates, totalling 162 fits\n",
      "[CV 1/3] END criterion=gini, max_depth=4, min_samples_split=2, n_estimators=20;, score=0.025 total time=   2.8s\n",
      "[CV 2/3] END criterion=gini, max_depth=4, min_samples_split=2, n_estimators=20;, score=0.005 total time=   0.9s\n",
      "[CV 3/3] END criterion=gini, max_depth=4, min_samples_split=2, n_estimators=20;, score=0.010 total time=   0.9s\n",
      "[CV 1/3] END criterion=gini, max_depth=4, min_samples_split=2, n_estimators=30;, score=0.026 total time=   1.4s\n",
      "[CV 2/3] END criterion=gini, max_depth=4, min_samples_split=2, n_estimators=30;, score=0.009 total time=   1.4s\n",
      "[CV 3/3] END criterion=gini, max_depth=4, min_samples_split=2, n_estimators=30;, score=0.016 total time=   1.4s\n",
      "[CV 1/3] END criterion=gini, max_depth=4, min_samples_split=2, n_estimators=50;, score=0.044 total time=   2.4s\n",
      "[CV 2/3] END criterion=gini, max_depth=4, min_samples_split=2, n_estimators=50;, score=0.043 total time=   2.3s\n",
      "[CV 3/3] END criterion=gini, max_depth=4, min_samples_split=2, n_estimators=50;, score=0.037 total time=   2.5s\n",
      "[CV 1/3] END criterion=gini, max_depth=4, min_samples_split=4, n_estimators=20;, score=0.025 total time=   1.0s\n",
      "[CV 2/3] END criterion=gini, max_depth=4, min_samples_split=4, n_estimators=20;, score=0.005 total time=   0.9s\n",
      "[CV 3/3] END criterion=gini, max_depth=4, min_samples_split=4, n_estimators=20;, score=0.010 total time=   0.9s\n",
      "[CV 1/3] END criterion=gini, max_depth=4, min_samples_split=4, n_estimators=30;, score=0.026 total time=   1.4s\n",
      "[CV 2/3] END criterion=gini, max_depth=4, min_samples_split=4, n_estimators=30;, score=0.009 total time=   1.4s\n",
      "[CV 3/3] END criterion=gini, max_depth=4, min_samples_split=4, n_estimators=30;, score=0.016 total time=   1.7s\n",
      "[CV 1/3] END criterion=gini, max_depth=4, min_samples_split=4, n_estimators=50;, score=0.044 total time=   2.4s\n",
      "[CV 2/3] END criterion=gini, max_depth=4, min_samples_split=4, n_estimators=50;, score=0.043 total time=   2.3s\n",
      "[CV 3/3] END criterion=gini, max_depth=4, min_samples_split=4, n_estimators=50;, score=0.037 total time=   2.4s\n",
      "[CV 1/3] END criterion=gini, max_depth=4, min_samples_split=8, n_estimators=20;, score=0.025 total time=   0.9s\n",
      "[CV 2/3] END criterion=gini, max_depth=4, min_samples_split=8, n_estimators=20;, score=0.005 total time=   0.9s\n",
      "[CV 3/3] END criterion=gini, max_depth=4, min_samples_split=8, n_estimators=20;, score=0.010 total time=   1.0s\n",
      "[CV 1/3] END criterion=gini, max_depth=4, min_samples_split=8, n_estimators=30;, score=0.026 total time=   1.9s\n",
      "[CV 2/3] END criterion=gini, max_depth=4, min_samples_split=8, n_estimators=30;, score=0.009 total time=   1.7s\n",
      "[CV 3/3] END criterion=gini, max_depth=4, min_samples_split=8, n_estimators=30;, score=0.016 total time=   1.7s\n",
      "[CV 1/3] END criterion=gini, max_depth=4, min_samples_split=8, n_estimators=50;, score=0.044 total time=   2.7s\n",
      "[CV 2/3] END criterion=gini, max_depth=4, min_samples_split=8, n_estimators=50;, score=0.043 total time=   2.4s\n",
      "[CV 3/3] END criterion=gini, max_depth=4, min_samples_split=8, n_estimators=50;, score=0.037 total time=   2.6s\n",
      "[CV 1/3] END criterion=gini, max_depth=8, min_samples_split=2, n_estimators=20;, score=0.368 total time=   1.7s\n",
      "[CV 2/3] END criterion=gini, max_depth=8, min_samples_split=2, n_estimators=20;, score=0.445 total time=   1.9s\n",
      "[CV 3/3] END criterion=gini, max_depth=8, min_samples_split=2, n_estimators=20;, score=0.392 total time=   1.8s\n",
      "[CV 1/3] END criterion=gini, max_depth=8, min_samples_split=2, n_estimators=30;, score=0.379 total time=   2.7s\n",
      "[CV 2/3] END criterion=gini, max_depth=8, min_samples_split=2, n_estimators=30;, score=0.415 total time=   2.5s\n",
      "[CV 3/3] END criterion=gini, max_depth=8, min_samples_split=2, n_estimators=30;, score=0.380 total time=   2.3s\n",
      "[CV 1/3] END criterion=gini, max_depth=8, min_samples_split=2, n_estimators=50;, score=0.411 total time=   3.9s\n",
      "[CV 2/3] END criterion=gini, max_depth=8, min_samples_split=2, n_estimators=50;, score=0.423 total time=   4.5s\n",
      "[CV 3/3] END criterion=gini, max_depth=8, min_samples_split=2, n_estimators=50;, score=0.386 total time=   5.7s\n",
      "[CV 1/3] END criterion=gini, max_depth=8, min_samples_split=4, n_estimators=20;, score=0.398 total time=   1.5s\n",
      "[CV 2/3] END criterion=gini, max_depth=8, min_samples_split=4, n_estimators=20;, score=0.400 total time=   1.5s\n",
      "[CV 3/3] END criterion=gini, max_depth=8, min_samples_split=4, n_estimators=20;, score=0.369 total time=   1.5s\n",
      "[CV 1/3] END criterion=gini, max_depth=8, min_samples_split=4, n_estimators=30;, score=0.372 total time=   2.3s\n",
      "[CV 2/3] END criterion=gini, max_depth=8, min_samples_split=4, n_estimators=30;, score=0.407 total time=   2.3s\n",
      "[CV 3/3] END criterion=gini, max_depth=8, min_samples_split=4, n_estimators=30;, score=0.400 total time=   2.3s\n",
      "[CV 1/3] END criterion=gini, max_depth=8, min_samples_split=4, n_estimators=50;, score=0.396 total time=   3.9s\n",
      "[CV 2/3] END criterion=gini, max_depth=8, min_samples_split=4, n_estimators=50;, score=0.417 total time=   4.0s\n",
      "[CV 3/3] END criterion=gini, max_depth=8, min_samples_split=4, n_estimators=50;, score=0.398 total time=   4.0s\n",
      "[CV 1/3] END criterion=gini, max_depth=8, min_samples_split=8, n_estimators=20;, score=0.428 total time=   1.5s\n",
      "[CV 2/3] END criterion=gini, max_depth=8, min_samples_split=8, n_estimators=20;, score=0.376 total time=   1.5s\n",
      "[CV 3/3] END criterion=gini, max_depth=8, min_samples_split=8, n_estimators=20;, score=0.379 total time=   1.6s\n",
      "[CV 1/3] END criterion=gini, max_depth=8, min_samples_split=8, n_estimators=30;, score=0.436 total time=   2.3s\n",
      "[CV 2/3] END criterion=gini, max_depth=8, min_samples_split=8, n_estimators=30;, score=0.390 total time=   2.2s\n",
      "[CV 3/3] END criterion=gini, max_depth=8, min_samples_split=8, n_estimators=30;, score=0.361 total time=   2.2s\n",
      "[CV 1/3] END criterion=gini, max_depth=8, min_samples_split=8, n_estimators=50;, score=0.439 total time=   3.9s\n",
      "[CV 2/3] END criterion=gini, max_depth=8, min_samples_split=8, n_estimators=50;, score=0.409 total time=   3.9s\n",
      "[CV 3/3] END criterion=gini, max_depth=8, min_samples_split=8, n_estimators=50;, score=0.373 total time=   3.8s\n",
      "[CV 1/3] END criterion=gini, max_depth=16, min_samples_split=2, n_estimators=20;, score=0.559 total time=   2.9s\n",
      "[CV 2/3] END criterion=gini, max_depth=16, min_samples_split=2, n_estimators=20;, score=0.572 total time=   3.1s\n",
      "[CV 3/3] END criterion=gini, max_depth=16, min_samples_split=2, n_estimators=20;, score=0.557 total time=   2.9s\n",
      "[CV 1/3] END criterion=gini, max_depth=16, min_samples_split=2, n_estimators=30;, score=0.559 total time=   4.3s\n",
      "[CV 2/3] END criterion=gini, max_depth=16, min_samples_split=2, n_estimators=30;, score=0.573 total time=   4.2s\n",
      "[CV 3/3] END criterion=gini, max_depth=16, min_samples_split=2, n_estimators=30;, score=0.560 total time=   4.6s\n",
      "[CV 1/3] END criterion=gini, max_depth=16, min_samples_split=2, n_estimators=50;, score=0.564 total time=   7.8s\n",
      "[CV 2/3] END criterion=gini, max_depth=16, min_samples_split=2, n_estimators=50;, score=0.574 total time=   7.7s\n",
      "[CV 3/3] END criterion=gini, max_depth=16, min_samples_split=2, n_estimators=50;, score=0.563 total time=   7.4s\n",
      "[CV 1/3] END criterion=gini, max_depth=16, min_samples_split=4, n_estimators=20;, score=0.562 total time=   2.8s\n",
      "[CV 2/3] END criterion=gini, max_depth=16, min_samples_split=4, n_estimators=20;, score=0.566 total time=   2.8s\n",
      "[CV 3/3] END criterion=gini, max_depth=16, min_samples_split=4, n_estimators=20;, score=0.559 total time=   2.7s\n",
      "[CV 1/3] END criterion=gini, max_depth=16, min_samples_split=4, n_estimators=30;, score=0.562 total time=   4.1s\n",
      "[CV 2/3] END criterion=gini, max_depth=16, min_samples_split=4, n_estimators=30;, score=0.565 total time=   4.2s\n",
      "[CV 3/3] END criterion=gini, max_depth=16, min_samples_split=4, n_estimators=30;, score=0.559 total time=   4.1s\n",
      "[CV 1/3] END criterion=gini, max_depth=16, min_samples_split=4, n_estimators=50;, score=0.564 total time=   7.1s\n",
      "[CV 2/3] END criterion=gini, max_depth=16, min_samples_split=4, n_estimators=50;, score=0.568 total time=   6.6s\n",
      "[CV 3/3] END criterion=gini, max_depth=16, min_samples_split=4, n_estimators=50;, score=0.561 total time=   6.7s\n",
      "[CV 1/3] END criterion=gini, max_depth=16, min_samples_split=8, n_estimators=20;, score=0.561 total time=   2.7s\n",
      "[CV 2/3] END criterion=gini, max_depth=16, min_samples_split=8, n_estimators=20;, score=0.563 total time=   4.8s\n",
      "[CV 3/3] END criterion=gini, max_depth=16, min_samples_split=8, n_estimators=20;, score=0.556 total time=   2.7s\n",
      "[CV 1/3] END criterion=gini, max_depth=16, min_samples_split=8, n_estimators=30;, score=0.559 total time=   4.0s\n",
      "[CV 2/3] END criterion=gini, max_depth=16, min_samples_split=8, n_estimators=30;, score=0.561 total time=   3.9s\n",
      "[CV 3/3] END criterion=gini, max_depth=16, min_samples_split=8, n_estimators=30;, score=0.559 total time=   3.9s\n",
      "[CV 1/3] END criterion=gini, max_depth=16, min_samples_split=8, n_estimators=50;, score=0.560 total time=   7.8s\n",
      "[CV 2/3] END criterion=gini, max_depth=16, min_samples_split=8, n_estimators=50;, score=0.566 total time=   7.3s\n",
      "[CV 3/3] END criterion=gini, max_depth=16, min_samples_split=8, n_estimators=50;, score=0.560 total time=   6.4s\n",
      "[CV 1/3] END criterion=entropy, max_depth=4, min_samples_split=2, n_estimators=20;, score=0.024 total time=   1.0s\n",
      "[CV 2/3] END criterion=entropy, max_depth=4, min_samples_split=2, n_estimators=20;, score=0.010 total time=   1.0s\n",
      "[CV 3/3] END criterion=entropy, max_depth=4, min_samples_split=2, n_estimators=20;, score=0.012 total time=   1.1s\n",
      "[CV 1/3] END criterion=entropy, max_depth=4, min_samples_split=2, n_estimators=30;, score=0.019 total time=   1.6s\n",
      "[CV 2/3] END criterion=entropy, max_depth=4, min_samples_split=2, n_estimators=30;, score=0.015 total time=   2.2s\n",
      "[CV 3/3] END criterion=entropy, max_depth=4, min_samples_split=2, n_estimators=30;, score=0.017 total time=   2.8s\n",
      "[CV 1/3] END criterion=entropy, max_depth=4, min_samples_split=2, n_estimators=50;, score=0.036 total time=   2.9s\n",
      "[CV 2/3] END criterion=entropy, max_depth=4, min_samples_split=2, n_estimators=50;, score=0.040 total time=   2.7s\n",
      "[CV 3/3] END criterion=entropy, max_depth=4, min_samples_split=2, n_estimators=50;, score=0.044 total time=   2.6s\n",
      "[CV 1/3] END criterion=entropy, max_depth=4, min_samples_split=4, n_estimators=20;, score=0.024 total time=   1.0s\n",
      "[CV 2/3] END criterion=entropy, max_depth=4, min_samples_split=4, n_estimators=20;, score=0.010 total time=   1.1s\n",
      "[CV 3/3] END criterion=entropy, max_depth=4, min_samples_split=4, n_estimators=20;, score=0.012 total time=   1.1s\n",
      "[CV 1/3] END criterion=entropy, max_depth=4, min_samples_split=4, n_estimators=30;, score=0.019 total time=   1.6s\n",
      "[CV 2/3] END criterion=entropy, max_depth=4, min_samples_split=4, n_estimators=30;, score=0.015 total time=   1.6s\n",
      "[CV 3/3] END criterion=entropy, max_depth=4, min_samples_split=4, n_estimators=30;, score=0.017 total time=   1.6s\n",
      "[CV 1/3] END criterion=entropy, max_depth=4, min_samples_split=4, n_estimators=50;, score=0.036 total time=   2.6s\n",
      "[CV 2/3] END criterion=entropy, max_depth=4, min_samples_split=4, n_estimators=50;, score=0.040 total time=   2.7s\n",
      "[CV 3/3] END criterion=entropy, max_depth=4, min_samples_split=4, n_estimators=50;, score=0.044 total time=   3.0s\n",
      "[CV 1/3] END criterion=entropy, max_depth=4, min_samples_split=8, n_estimators=20;, score=0.024 total time=   1.0s\n",
      "[CV 2/3] END criterion=entropy, max_depth=4, min_samples_split=8, n_estimators=20;, score=0.010 total time=   1.0s\n",
      "[CV 3/3] END criterion=entropy, max_depth=4, min_samples_split=8, n_estimators=20;, score=0.012 total time=   1.1s\n",
      "[CV 1/3] END criterion=entropy, max_depth=4, min_samples_split=8, n_estimators=30;, score=0.019 total time=   1.5s\n",
      "[CV 2/3] END criterion=entropy, max_depth=4, min_samples_split=8, n_estimators=30;, score=0.015 total time=   1.6s\n",
      "[CV 3/3] END criterion=entropy, max_depth=4, min_samples_split=8, n_estimators=30;, score=0.017 total time=   1.6s\n",
      "[CV 1/3] END criterion=entropy, max_depth=4, min_samples_split=8, n_estimators=50;, score=0.037 total time=   2.6s\n",
      "[CV 2/3] END criterion=entropy, max_depth=4, min_samples_split=8, n_estimators=50;, score=0.040 total time=   2.6s\n",
      "[CV 3/3] END criterion=entropy, max_depth=4, min_samples_split=8, n_estimators=50;, score=0.044 total time=   2.7s\n",
      "[CV 1/3] END criterion=entropy, max_depth=8, min_samples_split=2, n_estimators=20;, score=0.413 total time=   1.8s\n",
      "[CV 2/3] END criterion=entropy, max_depth=8, min_samples_split=2, n_estimators=20;, score=0.387 total time=   1.8s\n",
      "[CV 3/3] END criterion=entropy, max_depth=8, min_samples_split=2, n_estimators=20;, score=0.371 total time=   1.8s\n",
      "[CV 1/3] END criterion=entropy, max_depth=8, min_samples_split=2, n_estimators=30;, score=0.406 total time=   2.7s\n",
      "[CV 2/3] END criterion=entropy, max_depth=8, min_samples_split=2, n_estimators=30;, score=0.369 total time=   2.7s\n",
      "[CV 3/3] END criterion=entropy, max_depth=8, min_samples_split=2, n_estimators=30;, score=0.367 total time=   2.8s\n",
      "[CV 1/3] END criterion=entropy, max_depth=8, min_samples_split=2, n_estimators=50;, score=0.427 total time=   4.9s\n",
      "[CV 2/3] END criterion=entropy, max_depth=8, min_samples_split=2, n_estimators=50;, score=0.389 total time=   4.5s\n",
      "[CV 3/3] END criterion=entropy, max_depth=8, min_samples_split=2, n_estimators=50;, score=0.424 total time=   4.5s\n",
      "[CV 1/3] END criterion=entropy, max_depth=8, min_samples_split=4, n_estimators=20;, score=0.417 total time=   1.8s\n",
      "[CV 2/3] END criterion=entropy, max_depth=8, min_samples_split=4, n_estimators=20;, score=0.426 total time=   1.8s\n",
      "[CV 3/3] END criterion=entropy, max_depth=8, min_samples_split=4, n_estimators=20;, score=0.359 total time=   1.8s\n",
      "[CV 1/3] END criterion=entropy, max_depth=8, min_samples_split=4, n_estimators=30;, score=0.438 total time=   2.8s\n",
      "[CV 2/3] END criterion=entropy, max_depth=8, min_samples_split=4, n_estimators=30;, score=0.426 total time=   4.8s\n",
      "[CV 3/3] END criterion=entropy, max_depth=8, min_samples_split=4, n_estimators=30;, score=0.392 total time=   3.7s\n",
      "[CV 1/3] END criterion=entropy, max_depth=8, min_samples_split=4, n_estimators=50;, score=0.446 total time=   4.7s\n",
      "[CV 2/3] END criterion=entropy, max_depth=8, min_samples_split=4, n_estimators=50;, score=0.411 total time=   4.6s\n",
      "[CV 3/3] END criterion=entropy, max_depth=8, min_samples_split=4, n_estimators=50;, score=0.403 total time=   4.6s\n",
      "[CV 1/3] END criterion=entropy, max_depth=8, min_samples_split=8, n_estimators=20;, score=0.443 total time=   1.8s\n",
      "[CV 2/3] END criterion=entropy, max_depth=8, min_samples_split=8, n_estimators=20;, score=0.394 total time=   1.8s\n",
      "[CV 3/3] END criterion=entropy, max_depth=8, min_samples_split=8, n_estimators=20;, score=0.377 total time=   1.8s\n",
      "[CV 1/3] END criterion=entropy, max_depth=8, min_samples_split=8, n_estimators=30;, score=0.415 total time=   3.1s\n",
      "[CV 2/3] END criterion=entropy, max_depth=8, min_samples_split=8, n_estimators=30;, score=0.392 total time=   3.2s\n",
      "[CV 3/3] END criterion=entropy, max_depth=8, min_samples_split=8, n_estimators=30;, score=0.395 total time=   3.4s\n",
      "[CV 1/3] END criterion=entropy, max_depth=8, min_samples_split=8, n_estimators=50;, score=0.417 total time=   4.5s\n",
      "[CV 2/3] END criterion=entropy, max_depth=8, min_samples_split=8, n_estimators=50;, score=0.392 total time=   4.6s\n",
      "[CV 3/3] END criterion=entropy, max_depth=8, min_samples_split=8, n_estimators=50;, score=0.408 total time=   4.3s\n",
      "[CV 1/3] END criterion=entropy, max_depth=16, min_samples_split=2, n_estimators=20;, score=0.553 total time=   3.1s\n",
      "[CV 2/3] END criterion=entropy, max_depth=16, min_samples_split=2, n_estimators=20;, score=0.565 total time=   3.0s\n",
      "[CV 3/3] END criterion=entropy, max_depth=16, min_samples_split=2, n_estimators=20;, score=0.555 total time=   3.1s\n",
      "[CV 1/3] END criterion=entropy, max_depth=16, min_samples_split=2, n_estimators=30;, score=0.555 total time=   4.8s\n",
      "[CV 2/3] END criterion=entropy, max_depth=16, min_samples_split=2, n_estimators=30;, score=0.566 total time=   5.3s\n",
      "[CV 3/3] END criterion=entropy, max_depth=16, min_samples_split=2, n_estimators=30;, score=0.557 total time=   5.0s\n",
      "[CV 1/3] END criterion=entropy, max_depth=16, min_samples_split=2, n_estimators=50;, score=0.562 total time=   8.0s\n",
      "[CV 2/3] END criterion=entropy, max_depth=16, min_samples_split=2, n_estimators=50;, score=0.566 total time=   7.8s\n",
      "[CV 3/3] END criterion=entropy, max_depth=16, min_samples_split=2, n_estimators=50;, score=0.557 total time=   9.4s\n",
      "[CV 1/3] END criterion=entropy, max_depth=16, min_samples_split=4, n_estimators=20;, score=0.556 total time=   3.8s\n",
      "[CV 2/3] END criterion=entropy, max_depth=16, min_samples_split=4, n_estimators=20;, score=0.566 total time=   3.2s\n",
      "[CV 3/3] END criterion=entropy, max_depth=16, min_samples_split=4, n_estimators=20;, score=0.560 total time=   3.0s\n",
      "[CV 1/3] END criterion=entropy, max_depth=16, min_samples_split=4, n_estimators=30;, score=0.558 total time=   4.7s\n",
      "[CV 2/3] END criterion=entropy, max_depth=16, min_samples_split=4, n_estimators=30;, score=0.567 total time=   4.8s\n",
      "[CV 3/3] END criterion=entropy, max_depth=16, min_samples_split=4, n_estimators=30;, score=0.562 total time=   4.6s\n",
      "[CV 1/3] END criterion=entropy, max_depth=16, min_samples_split=4, n_estimators=50;, score=0.561 total time=   7.9s\n",
      "[CV 2/3] END criterion=entropy, max_depth=16, min_samples_split=4, n_estimators=50;, score=0.567 total time=   7.7s\n",
      "[CV 3/3] END criterion=entropy, max_depth=16, min_samples_split=4, n_estimators=50;, score=0.564 total time=   7.8s\n",
      "[CV 1/3] END criterion=entropy, max_depth=16, min_samples_split=8, n_estimators=20;, score=0.559 total time=   3.4s\n",
      "[CV 2/3] END criterion=entropy, max_depth=16, min_samples_split=8, n_estimators=20;, score=0.566 total time=   3.3s\n",
      "[CV 3/3] END criterion=entropy, max_depth=16, min_samples_split=8, n_estimators=20;, score=0.555 total time=   3.0s\n",
      "[CV 1/3] END criterion=entropy, max_depth=16, min_samples_split=8, n_estimators=30;, score=0.560 total time=   4.6s\n",
      "[CV 2/3] END criterion=entropy, max_depth=16, min_samples_split=8, n_estimators=30;, score=0.566 total time=   4.6s\n",
      "[CV 3/3] END criterion=entropy, max_depth=16, min_samples_split=8, n_estimators=30;, score=0.556 total time=   5.3s\n",
      "[CV 1/3] END criterion=entropy, max_depth=16, min_samples_split=8, n_estimators=50;, score=0.562 total time=   8.3s\n",
      "[CV 2/3] END criterion=entropy, max_depth=16, min_samples_split=8, n_estimators=50;, score=0.569 total time=   7.8s\n",
      "[CV 3/3] END criterion=entropy, max_depth=16, min_samples_split=8, n_estimators=50;, score=0.563 total time=   7.7s\n"
     ]
    },
    {
     "data": {
      "text/plain": "GridSearchCV(cv=3, estimator=RandomForestClassifier(random_state=42),\n             param_grid={'criterion': ['gini', 'entropy'],\n                         'max_depth': [4, 8, 16],\n                         'min_samples_split': [2, 4, 8],\n                         'n_estimators': [20, 30, 50]},\n             scoring='f1', verbose=3)",
      "text/html": "<style>#sk-container-id-4 {color: black;background-color: white;}#sk-container-id-4 pre{padding: 0;}#sk-container-id-4 div.sk-toggleable {background-color: white;}#sk-container-id-4 label.sk-toggleable__label {cursor: pointer;display: block;width: 100%;margin-bottom: 0;padding: 0.3em;box-sizing: border-box;text-align: center;}#sk-container-id-4 label.sk-toggleable__label-arrow:before {content: \"▸\";float: left;margin-right: 0.25em;color: #696969;}#sk-container-id-4 label.sk-toggleable__label-arrow:hover:before {color: black;}#sk-container-id-4 div.sk-estimator:hover label.sk-toggleable__label-arrow:before {color: black;}#sk-container-id-4 div.sk-toggleable__content {max-height: 0;max-width: 0;overflow: hidden;text-align: left;background-color: #f0f8ff;}#sk-container-id-4 div.sk-toggleable__content pre {margin: 0.2em;color: black;border-radius: 0.25em;background-color: #f0f8ff;}#sk-container-id-4 input.sk-toggleable__control:checked~div.sk-toggleable__content {max-height: 200px;max-width: 100%;overflow: auto;}#sk-container-id-4 input.sk-toggleable__control:checked~label.sk-toggleable__label-arrow:before {content: \"▾\";}#sk-container-id-4 div.sk-estimator input.sk-toggleable__control:checked~label.sk-toggleable__label {background-color: #d4ebff;}#sk-container-id-4 div.sk-label input.sk-toggleable__control:checked~label.sk-toggleable__label {background-color: #d4ebff;}#sk-container-id-4 input.sk-hidden--visually {border: 0;clip: rect(1px 1px 1px 1px);clip: rect(1px, 1px, 1px, 1px);height: 1px;margin: -1px;overflow: hidden;padding: 0;position: absolute;width: 1px;}#sk-container-id-4 div.sk-estimator {font-family: monospace;background-color: #f0f8ff;border: 1px dotted black;border-radius: 0.25em;box-sizing: border-box;margin-bottom: 0.5em;}#sk-container-id-4 div.sk-estimator:hover {background-color: #d4ebff;}#sk-container-id-4 div.sk-parallel-item::after {content: \"\";width: 100%;border-bottom: 1px solid gray;flex-grow: 1;}#sk-container-id-4 div.sk-label:hover label.sk-toggleable__label {background-color: #d4ebff;}#sk-container-id-4 div.sk-serial::before {content: \"\";position: absolute;border-left: 1px solid gray;box-sizing: border-box;top: 0;bottom: 0;left: 50%;z-index: 0;}#sk-container-id-4 div.sk-serial {display: flex;flex-direction: column;align-items: center;background-color: white;padding-right: 0.2em;padding-left: 0.2em;position: relative;}#sk-container-id-4 div.sk-item {position: relative;z-index: 1;}#sk-container-id-4 div.sk-parallel {display: flex;align-items: stretch;justify-content: center;background-color: white;position: relative;}#sk-container-id-4 div.sk-item::before, #sk-container-id-4 div.sk-parallel-item::before {content: \"\";position: absolute;border-left: 1px solid gray;box-sizing: border-box;top: 0;bottom: 0;left: 50%;z-index: -1;}#sk-container-id-4 div.sk-parallel-item {display: flex;flex-direction: column;z-index: 1;position: relative;background-color: white;}#sk-container-id-4 div.sk-parallel-item:first-child::after {align-self: flex-end;width: 50%;}#sk-container-id-4 div.sk-parallel-item:last-child::after {align-self: flex-start;width: 50%;}#sk-container-id-4 div.sk-parallel-item:only-child::after {width: 0;}#sk-container-id-4 div.sk-dashed-wrapped {border: 1px dashed gray;margin: 0 0.4em 0.5em 0.4em;box-sizing: border-box;padding-bottom: 0.4em;background-color: white;}#sk-container-id-4 div.sk-label label {font-family: monospace;font-weight: bold;display: inline-block;line-height: 1.2em;}#sk-container-id-4 div.sk-label-container {text-align: center;}#sk-container-id-4 div.sk-container {/* jupyter's `normalize.less` sets `[hidden] { display: none; }` but bootstrap.min.css set `[hidden] { display: none !important; }` so we also need the `!important` here to be able to override the default hidden behavior on the sphinx rendered scikit-learn.org. See: https://github.com/scikit-learn/scikit-learn/issues/21755 */display: inline-block !important;position: relative;}#sk-container-id-4 div.sk-text-repr-fallback {display: none;}</style><div id=\"sk-container-id-4\" class=\"sk-top-container\"><div class=\"sk-text-repr-fallback\"><pre>GridSearchCV(cv=3, estimator=RandomForestClassifier(random_state=42),\n             param_grid={&#x27;criterion&#x27;: [&#x27;gini&#x27;, &#x27;entropy&#x27;],\n                         &#x27;max_depth&#x27;: [4, 8, 16],\n                         &#x27;min_samples_split&#x27;: [2, 4, 8],\n                         &#x27;n_estimators&#x27;: [20, 30, 50]},\n             scoring=&#x27;f1&#x27;, verbose=3)</pre><b>In a Jupyter environment, please rerun this cell to show the HTML representation or trust the notebook. <br />On GitHub, the HTML representation is unable to render, please try loading this page with nbviewer.org.</b></div><div class=\"sk-container\" hidden><div class=\"sk-item sk-dashed-wrapped\"><div class=\"sk-label-container\"><div class=\"sk-label sk-toggleable\"><input class=\"sk-toggleable__control sk-hidden--visually\" id=\"sk-estimator-id-8\" type=\"checkbox\" ><label for=\"sk-estimator-id-8\" class=\"sk-toggleable__label sk-toggleable__label-arrow\">GridSearchCV</label><div class=\"sk-toggleable__content\"><pre>GridSearchCV(cv=3, estimator=RandomForestClassifier(random_state=42),\n             param_grid={&#x27;criterion&#x27;: [&#x27;gini&#x27;, &#x27;entropy&#x27;],\n                         &#x27;max_depth&#x27;: [4, 8, 16],\n                         &#x27;min_samples_split&#x27;: [2, 4, 8],\n                         &#x27;n_estimators&#x27;: [20, 30, 50]},\n             scoring=&#x27;f1&#x27;, verbose=3)</pre></div></div></div><div class=\"sk-parallel\"><div class=\"sk-parallel-item\"><div class=\"sk-item\"><div class=\"sk-label-container\"><div class=\"sk-label sk-toggleable\"><input class=\"sk-toggleable__control sk-hidden--visually\" id=\"sk-estimator-id-9\" type=\"checkbox\" ><label for=\"sk-estimator-id-9\" class=\"sk-toggleable__label sk-toggleable__label-arrow\">estimator: RandomForestClassifier</label><div class=\"sk-toggleable__content\"><pre>RandomForestClassifier(random_state=42)</pre></div></div></div><div class=\"sk-serial\"><div class=\"sk-item\"><div class=\"sk-estimator sk-toggleable\"><input class=\"sk-toggleable__control sk-hidden--visually\" id=\"sk-estimator-id-10\" type=\"checkbox\" ><label for=\"sk-estimator-id-10\" class=\"sk-toggleable__label sk-toggleable__label-arrow\">RandomForestClassifier</label><div class=\"sk-toggleable__content\"><pre>RandomForestClassifier(random_state=42)</pre></div></div></div></div></div></div></div></div></div></div>"
     },
     "execution_count": 169,
     "metadata": {},
     "output_type": "execute_result"
    }
   ],
   "source": [
    "# grid search for random forest\n",
    "from sklearn.model_selection import GridSearchCV\n",
    "\n",
    "param_grid = {'max_depth': [4, 8, 16],\n",
    "              'min_samples_split': [ 2, 4, 8],\n",
    "              'criterion': ['gini', 'entropy'],\n",
    "              'n_estimators': [ 20, 30, 50]\n",
    "}\n",
    "\n",
    "grid_rf = GridSearchCV(RandomForestClassifier(random_state=42), param_grid, cv=3, scoring='f1', verbose =3)\n",
    "\n",
    "grid_rf.fit(X_train, y_train)"
   ],
   "metadata": {
    "collapsed": false
   }
  },
  {
   "cell_type": "code",
   "execution_count": 170,
   "outputs": [
    {
     "data": {
      "text/plain": "{'criterion': 'gini',\n 'max_depth': 16,\n 'min_samples_split': 2,\n 'n_estimators': 50}"
     },
     "execution_count": 170,
     "metadata": {},
     "output_type": "execute_result"
    }
   ],
   "source": [
    "grid_rf.best_params_"
   ],
   "metadata": {
    "collapsed": false
   }
  },
  {
   "cell_type": "code",
   "execution_count": 171,
   "outputs": [
    {
     "name": "stdout",
     "output_type": "stream",
     "text": [
      "Accuracy on training set:  0.8584571340142371\n",
      "confusion_matrix on training set: \n",
      " [[87878  4904]\n",
      " [13389 23069]]\n",
      "Accuracy on validation set:  0.7935004642525534\n",
      "Confusion matrix: \n",
      " [[21256  2093]\n",
      " [ 4579  4382]]\n",
      "Classification report: \n",
      "               precision    recall  f1-score   support\n",
      "\n",
      "       False       0.82      0.91      0.86     23349\n",
      "        True       0.68      0.49      0.57      8961\n",
      "\n",
      "    accuracy                           0.79     32310\n",
      "   macro avg       0.75      0.70      0.72     32310\n",
      "weighted avg       0.78      0.79      0.78     32310\n",
      "\n"
     ]
    }
   ],
   "source": [
    "# train model\n",
    "rf = RandomForestClassifier(random_state=42, max_depth=16, min_samples_split=2, criterion='gini', n_estimators=50)\n",
    "rf.fit(X_train, y_train)\n",
    "y_pred = rf.predict(X_test)\n",
    "y_pred_train = rf.predict(X_train)\n",
    "print('Accuracy on training set: ', accuracy_score(y_train, y_pred_train))\n",
    "print('confusion_matrix on training set: \\n', confusion_matrix(y_train, y_pred_train))\n",
    "print('Accuracy on validation set: ', accuracy_score(y_test, y_pred))\n",
    "print('Confusion matrix: \\n', confusion_matrix(y_test, y_pred))\n",
    "print('Classification report: \\n', classification_report(y_test, y_pred))"
   ],
   "metadata": {
    "collapsed": false
   }
  },
  {
   "cell_type": "code",
   "execution_count": 173,
   "outputs": [
    {
     "name": "stdout",
     "output_type": "stream",
     "text": [
      "Fitting 3 folds for each of 27 candidates, totalling 81 fits\n",
      "[CV 1/3] END criterion=gini, max_depth=16, min_samples_split=2, n_estimators=50;, score=0.564 total time=   7.1s\n",
      "[CV 2/3] END criterion=gini, max_depth=16, min_samples_split=2, n_estimators=50;, score=0.574 total time=   7.3s\n",
      "[CV 3/3] END criterion=gini, max_depth=16, min_samples_split=2, n_estimators=50;, score=0.563 total time=   8.5s\n",
      "[CV 1/3] END criterion=gini, max_depth=16, min_samples_split=2, n_estimators=60;, score=0.565 total time=   8.4s\n",
      "[CV 2/3] END criterion=gini, max_depth=16, min_samples_split=2, n_estimators=60;, score=0.574 total time=   8.0s\n",
      "[CV 3/3] END criterion=gini, max_depth=16, min_samples_split=2, n_estimators=60;, score=0.563 total time=   8.1s\n",
      "[CV 1/3] END criterion=gini, max_depth=16, min_samples_split=2, n_estimators=70;, score=0.564 total time=   9.5s\n",
      "[CV 2/3] END criterion=gini, max_depth=16, min_samples_split=2, n_estimators=70;, score=0.574 total time=  10.2s\n",
      "[CV 3/3] END criterion=gini, max_depth=16, min_samples_split=2, n_estimators=70;, score=0.563 total time=  12.9s\n",
      "[CV 1/3] END criterion=gini, max_depth=16, min_samples_split=3, n_estimators=50;, score=0.566 total time=   7.4s\n",
      "[CV 2/3] END criterion=gini, max_depth=16, min_samples_split=3, n_estimators=50;, score=0.569 total time=   7.8s\n",
      "[CV 3/3] END criterion=gini, max_depth=16, min_samples_split=3, n_estimators=50;, score=0.561 total time=  12.6s\n",
      "[CV 1/3] END criterion=gini, max_depth=16, min_samples_split=3, n_estimators=60;, score=0.565 total time=  13.2s\n",
      "[CV 2/3] END criterion=gini, max_depth=16, min_samples_split=3, n_estimators=60;, score=0.568 total time=   8.0s\n",
      "[CV 3/3] END criterion=gini, max_depth=16, min_samples_split=3, n_estimators=60;, score=0.562 total time=   9.0s\n",
      "[CV 1/3] END criterion=gini, max_depth=16, min_samples_split=3, n_estimators=70;, score=0.566 total time=  10.0s\n",
      "[CV 2/3] END criterion=gini, max_depth=16, min_samples_split=3, n_estimators=70;, score=0.570 total time=  10.9s\n",
      "[CV 3/3] END criterion=gini, max_depth=16, min_samples_split=3, n_estimators=70;, score=0.563 total time=  10.6s\n",
      "[CV 1/3] END criterion=gini, max_depth=16, min_samples_split=4, n_estimators=50;, score=0.564 total time=   6.7s\n",
      "[CV 2/3] END criterion=gini, max_depth=16, min_samples_split=4, n_estimators=50;, score=0.568 total time=   6.8s\n",
      "[CV 3/3] END criterion=gini, max_depth=16, min_samples_split=4, n_estimators=50;, score=0.561 total time=   6.6s\n",
      "[CV 1/3] END criterion=gini, max_depth=16, min_samples_split=4, n_estimators=60;, score=0.566 total time=   8.0s\n",
      "[CV 2/3] END criterion=gini, max_depth=16, min_samples_split=4, n_estimators=60;, score=0.570 total time=   8.0s\n",
      "[CV 3/3] END criterion=gini, max_depth=16, min_samples_split=4, n_estimators=60;, score=0.562 total time=   9.2s\n",
      "[CV 1/3] END criterion=gini, max_depth=16, min_samples_split=4, n_estimators=70;, score=0.566 total time=   9.8s\n",
      "[CV 2/3] END criterion=gini, max_depth=16, min_samples_split=4, n_estimators=70;, score=0.570 total time=  10.0s\n",
      "[CV 3/3] END criterion=gini, max_depth=16, min_samples_split=4, n_estimators=70;, score=0.563 total time=   9.3s\n",
      "[CV 1/3] END criterion=gini, max_depth=18, min_samples_split=2, n_estimators=50;, score=0.566 total time=   6.9s\n",
      "[CV 2/3] END criterion=gini, max_depth=18, min_samples_split=2, n_estimators=50;, score=0.575 total time=   7.2s\n",
      "[CV 3/3] END criterion=gini, max_depth=18, min_samples_split=2, n_estimators=50;, score=0.568 total time=   7.1s\n",
      "[CV 1/3] END criterion=gini, max_depth=18, min_samples_split=2, n_estimators=60;, score=0.569 total time=   8.6s\n",
      "[CV 2/3] END criterion=gini, max_depth=18, min_samples_split=2, n_estimators=60;, score=0.574 total time=   9.3s\n",
      "[CV 3/3] END criterion=gini, max_depth=18, min_samples_split=2, n_estimators=60;, score=0.567 total time=   9.9s\n",
      "[CV 1/3] END criterion=gini, max_depth=18, min_samples_split=2, n_estimators=70;, score=0.568 total time=  10.1s\n",
      "[CV 2/3] END criterion=gini, max_depth=18, min_samples_split=2, n_estimators=70;, score=0.574 total time=   9.8s\n",
      "[CV 3/3] END criterion=gini, max_depth=18, min_samples_split=2, n_estimators=70;, score=0.567 total time=   9.8s\n",
      "[CV 1/3] END criterion=gini, max_depth=18, min_samples_split=3, n_estimators=50;, score=0.567 total time=   7.3s\n",
      "[CV 2/3] END criterion=gini, max_depth=18, min_samples_split=3, n_estimators=50;, score=0.574 total time=   7.3s\n",
      "[CV 3/3] END criterion=gini, max_depth=18, min_samples_split=3, n_estimators=50;, score=0.566 total time=   9.1s\n",
      "[CV 1/3] END criterion=gini, max_depth=18, min_samples_split=3, n_estimators=60;, score=0.569 total time=   8.3s\n",
      "[CV 2/3] END criterion=gini, max_depth=18, min_samples_split=3, n_estimators=60;, score=0.576 total time=   8.5s\n",
      "[CV 3/3] END criterion=gini, max_depth=18, min_samples_split=3, n_estimators=60;, score=0.567 total time=   8.2s\n",
      "[CV 1/3] END criterion=gini, max_depth=18, min_samples_split=3, n_estimators=70;, score=0.570 total time=   9.8s\n",
      "[CV 2/3] END criterion=gini, max_depth=18, min_samples_split=3, n_estimators=70;, score=0.577 total time=   9.6s\n",
      "[CV 3/3] END criterion=gini, max_depth=18, min_samples_split=3, n_estimators=70;, score=0.568 total time=   9.3s\n",
      "[CV 1/3] END criterion=gini, max_depth=18, min_samples_split=4, n_estimators=50;, score=0.571 total time=   6.8s\n",
      "[CV 2/3] END criterion=gini, max_depth=18, min_samples_split=4, n_estimators=50;, score=0.577 total time=   6.8s\n",
      "[CV 3/3] END criterion=gini, max_depth=18, min_samples_split=4, n_estimators=50;, score=0.568 total time=   6.8s\n",
      "[CV 1/3] END criterion=gini, max_depth=18, min_samples_split=4, n_estimators=60;, score=0.573 total time=   7.9s\n",
      "[CV 2/3] END criterion=gini, max_depth=18, min_samples_split=4, n_estimators=60;, score=0.577 total time=   8.0s\n",
      "[CV 3/3] END criterion=gini, max_depth=18, min_samples_split=4, n_estimators=60;, score=0.567 total time=   8.3s\n",
      "[CV 1/3] END criterion=gini, max_depth=18, min_samples_split=4, n_estimators=70;, score=0.572 total time=  10.3s\n",
      "[CV 2/3] END criterion=gini, max_depth=18, min_samples_split=4, n_estimators=70;, score=0.578 total time=  12.2s\n",
      "[CV 3/3] END criterion=gini, max_depth=18, min_samples_split=4, n_estimators=70;, score=0.569 total time=   9.5s\n",
      "[CV 1/3] END criterion=gini, max_depth=20, min_samples_split=2, n_estimators=50;, score=0.571 total time=   7.6s\n",
      "[CV 2/3] END criterion=gini, max_depth=20, min_samples_split=2, n_estimators=50;, score=0.580 total time=   7.2s\n",
      "[CV 3/3] END criterion=gini, max_depth=20, min_samples_split=2, n_estimators=50;, score=0.568 total time=   7.3s\n",
      "[CV 1/3] END criterion=gini, max_depth=20, min_samples_split=2, n_estimators=60;, score=0.572 total time=  11.7s\n",
      "[CV 2/3] END criterion=gini, max_depth=20, min_samples_split=2, n_estimators=60;, score=0.580 total time=  12.6s\n",
      "[CV 3/3] END criterion=gini, max_depth=20, min_samples_split=2, n_estimators=60;, score=0.569 total time=  10.3s\n",
      "[CV 1/3] END criterion=gini, max_depth=20, min_samples_split=2, n_estimators=70;, score=0.573 total time=  13.4s\n",
      "[CV 2/3] END criterion=gini, max_depth=20, min_samples_split=2, n_estimators=70;, score=0.580 total time=  14.9s\n",
      "[CV 3/3] END criterion=gini, max_depth=20, min_samples_split=2, n_estimators=70;, score=0.569 total time=  16.9s\n",
      "[CV 1/3] END criterion=gini, max_depth=20, min_samples_split=3, n_estimators=50;, score=0.573 total time=   7.2s\n",
      "[CV 2/3] END criterion=gini, max_depth=20, min_samples_split=3, n_estimators=50;, score=0.581 total time=  10.3s\n",
      "[CV 3/3] END criterion=gini, max_depth=20, min_samples_split=3, n_estimators=50;, score=0.567 total time=   7.5s\n",
      "[CV 1/3] END criterion=gini, max_depth=20, min_samples_split=3, n_estimators=60;, score=0.572 total time=   8.8s\n",
      "[CV 2/3] END criterion=gini, max_depth=20, min_samples_split=3, n_estimators=60;, score=0.582 total time=  10.6s\n",
      "[CV 3/3] END criterion=gini, max_depth=20, min_samples_split=3, n_estimators=60;, score=0.567 total time=   9.6s\n",
      "[CV 1/3] END criterion=gini, max_depth=20, min_samples_split=3, n_estimators=70;, score=0.573 total time=   9.9s\n",
      "[CV 2/3] END criterion=gini, max_depth=20, min_samples_split=3, n_estimators=70;, score=0.582 total time=  13.8s\n",
      "[CV 3/3] END criterion=gini, max_depth=20, min_samples_split=3, n_estimators=70;, score=0.569 total time=  11.9s\n",
      "[CV 1/3] END criterion=gini, max_depth=20, min_samples_split=4, n_estimators=50;, score=0.573 total time=   7.4s\n",
      "[CV 2/3] END criterion=gini, max_depth=20, min_samples_split=4, n_estimators=50;, score=0.580 total time=   8.7s\n",
      "[CV 3/3] END criterion=gini, max_depth=20, min_samples_split=4, n_estimators=50;, score=0.569 total time=   8.4s\n",
      "[CV 1/3] END criterion=gini, max_depth=20, min_samples_split=4, n_estimators=60;, score=0.574 total time=  10.0s\n",
      "[CV 2/3] END criterion=gini, max_depth=20, min_samples_split=4, n_estimators=60;, score=0.581 total time=   8.8s\n",
      "[CV 3/3] END criterion=gini, max_depth=20, min_samples_split=4, n_estimators=60;, score=0.569 total time=   8.9s\n",
      "[CV 1/3] END criterion=gini, max_depth=20, min_samples_split=4, n_estimators=70;, score=0.573 total time=  10.5s\n",
      "[CV 2/3] END criterion=gini, max_depth=20, min_samples_split=4, n_estimators=70;, score=0.579 total time=  10.3s\n",
      "[CV 3/3] END criterion=gini, max_depth=20, min_samples_split=4, n_estimators=70;, score=0.570 total time=  12.0s\n"
     ]
    },
    {
     "data": {
      "text/plain": "GridSearchCV(cv=3, estimator=RandomForestClassifier(random_state=42),\n             param_grid={'criterion': ['gini'], 'max_depth': [16, 18, 20],\n                         'min_samples_split': [2, 3, 4],\n                         'n_estimators': [50, 60, 70]},\n             scoring='f1', verbose=3)",
      "text/html": "<style>#sk-container-id-5 {color: black;background-color: white;}#sk-container-id-5 pre{padding: 0;}#sk-container-id-5 div.sk-toggleable {background-color: white;}#sk-container-id-5 label.sk-toggleable__label {cursor: pointer;display: block;width: 100%;margin-bottom: 0;padding: 0.3em;box-sizing: border-box;text-align: center;}#sk-container-id-5 label.sk-toggleable__label-arrow:before {content: \"▸\";float: left;margin-right: 0.25em;color: #696969;}#sk-container-id-5 label.sk-toggleable__label-arrow:hover:before {color: black;}#sk-container-id-5 div.sk-estimator:hover label.sk-toggleable__label-arrow:before {color: black;}#sk-container-id-5 div.sk-toggleable__content {max-height: 0;max-width: 0;overflow: hidden;text-align: left;background-color: #f0f8ff;}#sk-container-id-5 div.sk-toggleable__content pre {margin: 0.2em;color: black;border-radius: 0.25em;background-color: #f0f8ff;}#sk-container-id-5 input.sk-toggleable__control:checked~div.sk-toggleable__content {max-height: 200px;max-width: 100%;overflow: auto;}#sk-container-id-5 input.sk-toggleable__control:checked~label.sk-toggleable__label-arrow:before {content: \"▾\";}#sk-container-id-5 div.sk-estimator input.sk-toggleable__control:checked~label.sk-toggleable__label {background-color: #d4ebff;}#sk-container-id-5 div.sk-label input.sk-toggleable__control:checked~label.sk-toggleable__label {background-color: #d4ebff;}#sk-container-id-5 input.sk-hidden--visually {border: 0;clip: rect(1px 1px 1px 1px);clip: rect(1px, 1px, 1px, 1px);height: 1px;margin: -1px;overflow: hidden;padding: 0;position: absolute;width: 1px;}#sk-container-id-5 div.sk-estimator {font-family: monospace;background-color: #f0f8ff;border: 1px dotted black;border-radius: 0.25em;box-sizing: border-box;margin-bottom: 0.5em;}#sk-container-id-5 div.sk-estimator:hover {background-color: #d4ebff;}#sk-container-id-5 div.sk-parallel-item::after {content: \"\";width: 100%;border-bottom: 1px solid gray;flex-grow: 1;}#sk-container-id-5 div.sk-label:hover label.sk-toggleable__label {background-color: #d4ebff;}#sk-container-id-5 div.sk-serial::before {content: \"\";position: absolute;border-left: 1px solid gray;box-sizing: border-box;top: 0;bottom: 0;left: 50%;z-index: 0;}#sk-container-id-5 div.sk-serial {display: flex;flex-direction: column;align-items: center;background-color: white;padding-right: 0.2em;padding-left: 0.2em;position: relative;}#sk-container-id-5 div.sk-item {position: relative;z-index: 1;}#sk-container-id-5 div.sk-parallel {display: flex;align-items: stretch;justify-content: center;background-color: white;position: relative;}#sk-container-id-5 div.sk-item::before, #sk-container-id-5 div.sk-parallel-item::before {content: \"\";position: absolute;border-left: 1px solid gray;box-sizing: border-box;top: 0;bottom: 0;left: 50%;z-index: -1;}#sk-container-id-5 div.sk-parallel-item {display: flex;flex-direction: column;z-index: 1;position: relative;background-color: white;}#sk-container-id-5 div.sk-parallel-item:first-child::after {align-self: flex-end;width: 50%;}#sk-container-id-5 div.sk-parallel-item:last-child::after {align-self: flex-start;width: 50%;}#sk-container-id-5 div.sk-parallel-item:only-child::after {width: 0;}#sk-container-id-5 div.sk-dashed-wrapped {border: 1px dashed gray;margin: 0 0.4em 0.5em 0.4em;box-sizing: border-box;padding-bottom: 0.4em;background-color: white;}#sk-container-id-5 div.sk-label label {font-family: monospace;font-weight: bold;display: inline-block;line-height: 1.2em;}#sk-container-id-5 div.sk-label-container {text-align: center;}#sk-container-id-5 div.sk-container {/* jupyter's `normalize.less` sets `[hidden] { display: none; }` but bootstrap.min.css set `[hidden] { display: none !important; }` so we also need the `!important` here to be able to override the default hidden behavior on the sphinx rendered scikit-learn.org. See: https://github.com/scikit-learn/scikit-learn/issues/21755 */display: inline-block !important;position: relative;}#sk-container-id-5 div.sk-text-repr-fallback {display: none;}</style><div id=\"sk-container-id-5\" class=\"sk-top-container\"><div class=\"sk-text-repr-fallback\"><pre>GridSearchCV(cv=3, estimator=RandomForestClassifier(random_state=42),\n             param_grid={&#x27;criterion&#x27;: [&#x27;gini&#x27;], &#x27;max_depth&#x27;: [16, 18, 20],\n                         &#x27;min_samples_split&#x27;: [2, 3, 4],\n                         &#x27;n_estimators&#x27;: [50, 60, 70]},\n             scoring=&#x27;f1&#x27;, verbose=3)</pre><b>In a Jupyter environment, please rerun this cell to show the HTML representation or trust the notebook. <br />On GitHub, the HTML representation is unable to render, please try loading this page with nbviewer.org.</b></div><div class=\"sk-container\" hidden><div class=\"sk-item sk-dashed-wrapped\"><div class=\"sk-label-container\"><div class=\"sk-label sk-toggleable\"><input class=\"sk-toggleable__control sk-hidden--visually\" id=\"sk-estimator-id-11\" type=\"checkbox\" ><label for=\"sk-estimator-id-11\" class=\"sk-toggleable__label sk-toggleable__label-arrow\">GridSearchCV</label><div class=\"sk-toggleable__content\"><pre>GridSearchCV(cv=3, estimator=RandomForestClassifier(random_state=42),\n             param_grid={&#x27;criterion&#x27;: [&#x27;gini&#x27;], &#x27;max_depth&#x27;: [16, 18, 20],\n                         &#x27;min_samples_split&#x27;: [2, 3, 4],\n                         &#x27;n_estimators&#x27;: [50, 60, 70]},\n             scoring=&#x27;f1&#x27;, verbose=3)</pre></div></div></div><div class=\"sk-parallel\"><div class=\"sk-parallel-item\"><div class=\"sk-item\"><div class=\"sk-label-container\"><div class=\"sk-label sk-toggleable\"><input class=\"sk-toggleable__control sk-hidden--visually\" id=\"sk-estimator-id-12\" type=\"checkbox\" ><label for=\"sk-estimator-id-12\" class=\"sk-toggleable__label sk-toggleable__label-arrow\">estimator: RandomForestClassifier</label><div class=\"sk-toggleable__content\"><pre>RandomForestClassifier(random_state=42)</pre></div></div></div><div class=\"sk-serial\"><div class=\"sk-item\"><div class=\"sk-estimator sk-toggleable\"><input class=\"sk-toggleable__control sk-hidden--visually\" id=\"sk-estimator-id-13\" type=\"checkbox\" ><label for=\"sk-estimator-id-13\" class=\"sk-toggleable__label sk-toggleable__label-arrow\">RandomForestClassifier</label><div class=\"sk-toggleable__content\"><pre>RandomForestClassifier(random_state=42)</pre></div></div></div></div></div></div></div></div></div></div>"
     },
     "execution_count": 173,
     "metadata": {},
     "output_type": "execute_result"
    }
   ],
   "source": [
    "#new gs around best parameters max_depth =16, min_samples_split=2, criterion='gini', n_estimators=50\n",
    "param_grid_rf2 = {'max_depth': [16, 18, 20],\n",
    "              'min_samples_split': [ 2, 3, 4],\n",
    "              'criterion': ['gini'],\n",
    "              'n_estimators': [ 50, 60, 70]\n",
    "}\n",
    "grid_rf2 = GridSearchCV(RandomForestClassifier(random_state=42), param_grid_rf2, cv=3, scoring='f1', verbose =3)\n",
    "grid_rf2.fit(X_train, y_train)"
   ],
   "metadata": {
    "collapsed": false
   }
  },
  {
   "cell_type": "code",
   "execution_count": 174,
   "outputs": [
    {
     "data": {
      "text/plain": "{'criterion': 'gini',\n 'max_depth': 20,\n 'min_samples_split': 3,\n 'n_estimators': 70}"
     },
     "execution_count": 174,
     "metadata": {},
     "output_type": "execute_result"
    }
   ],
   "source": [
    "grid_rf2.best_params_"
   ],
   "metadata": {
    "collapsed": false
   }
  },
  {
   "cell_type": "markdown",
   "source": [
    "best_params= {'criterion': 'gini',\n",
    "               'max_depth': 20,\n",
    "               'min_samples_split': 3,\n",
    "               'n_estimators': 70}"
   ],
   "metadata": {
    "collapsed": false
   }
  },
  {
   "cell_type": "code",
   "execution_count": 175,
   "outputs": [],
   "source": [
    "best_rf = RandomForestClassifier(random_state=42, max_depth=grid_rf2.best_params_['max_depth'], min_samples_split=grid_rf2.best_params_['min_samples_split'], criterion='gini', n_estimators=grid_rf2.best_params_['n_estimators'])"
   ],
   "metadata": {
    "collapsed": false
   }
  },
  {
   "cell_type": "code",
   "execution_count": 176,
   "outputs": [
    {
     "name": "stdout",
     "output_type": "stream",
     "text": [
      "Accuracy on training set:  0.9131692974311358\n",
      "confusion_matrix on training set: \n",
      " [[89936  2846]\n",
      " [ 8376 28082]]\n",
      "Accuracy on validation set:  0.7952646239554317\n",
      "Confusion matrix: \n",
      " [[21058  2291]\n",
      " [ 4324  4637]]\n",
      "Classification report: \n",
      "               precision    recall  f1-score   support\n",
      "\n",
      "       False       0.83      0.90      0.86     23349\n",
      "        True       0.67      0.52      0.58      8961\n",
      "\n",
      "    accuracy                           0.80     32310\n",
      "   macro avg       0.75      0.71      0.72     32310\n",
      "weighted avg       0.79      0.80      0.79     32310\n",
      "\n"
     ]
    }
   ],
   "source": [
    "best_rf.fit(X_train, y_train)\n",
    "y_pred = best_rf.predict(X_test)\n",
    "y_pred_train = best_rf.predict(X_train)\n",
    "print('Accuracy on training set: ', accuracy_score(y_train, y_pred_train))\n",
    "print('confusion_matrix on training set: \\n', confusion_matrix(y_train, y_pred_train))\n",
    "print('Accuracy on validation set: ', accuracy_score(y_test, y_pred))\n",
    "print('Confusion matrix: \\n', confusion_matrix(y_test, y_pred))\n",
    "print('Classification report: \\n', classification_report(y_test, y_pred))\n"
   ],
   "metadata": {
    "collapsed": false
   }
  },
  {
   "cell_type": "code",
   "execution_count": 177,
   "outputs": [
    {
     "data": {
      "text/plain": "        latitude  longitude    year  povertyPercentage  population  \\\n72096    41.5094   -87.3501  2016.0               11.8     6634304   \n159077   30.0788   -95.4261  2015.0               14.0    27470056   \n124316   34.1473   -77.8766  2017.0               13.6    10268233   \n144416   42.4051   -82.9640  2017.0               10.7     9973114   \n41932    33.5675  -112.1560  2014.0               18.1     6730413   \n...          ...        ...     ...                ...         ...   \n122307   40.8303   -73.9478  2016.0               11.8    19633428   \n105898   36.8071  -119.6720  2016.0               12.5    39167117   \n134581   42.7352   -87.7959  2014.0               11.0     5751525   \n149666   27.3226   -80.3804  2017.0               12.8    20963613   \n124404   29.5286   -95.0316  2015.0               14.0    27470056   \n\n        candidatevotes  right_or_left  voters_over_population  \\\n72096         207515.0       0.184883                0.400700   \n159077        101936.0       0.679456                0.162122   \n124316        211801.0       0.609138                0.447833   \n144416        244135.0       0.214934                0.468350   \n41932         128710.0       0.758117                0.218055   \n...                ...            ...                     ...   \n122307        207194.0       0.188235                0.397300   \n105898        158755.0       0.675651                0.342482   \n134581        182316.0       0.632668                0.409557   \n149666        201488.0       0.535989                0.421560   \n124404         90116.0       0.618512                0.162122   \n\n        n_participants_teen  n_participants_child  ...  age_group_[12-17]  \\\n72096                   0.0                   0.0  ...                  0   \n159077                  0.0                   0.0  ...                  0   \n124316                  0.0                   0.0  ...                  0   \n144416                  0.0                   0.0  ...                  0   \n41932                   0.0                   0.0  ...                  0   \n...                     ...                   ...  ...                ...   \n122307                  0.0                   0.0  ...                  0   \n105898                  1.0                   0.0  ...                  0   \n134581                  1.0                   0.0  ...                  1   \n149666                  0.0                   0.0  ...                  0   \n124404                  0.0                   0.0  ...                  0   \n\n        age_group_[18-24]  age_group_[25-34]  age_group_[35-44]  \\\n72096                   1                  0                  0   \n159077                  1                  0                  0   \n124316                  0                  0                  1   \n144416                  0                  0                  0   \n41932                   0                  0                  0   \n...                   ...                ...                ...   \n122307                  0                  1                  0   \n105898                  0                  1                  0   \n134581                  0                  0                  0   \n149666                  0                  1                  0   \n124404                  0                  1                  0   \n\n        age_group_[45-54]  age_group_[55-64]  age_group_[65-74]  \\\n72096                   0                  0                  0   \n159077                  0                  0                  0   \n124316                  0                  0                  0   \n144416                  0                  1                  0   \n41932                   1                  0                  0   \n...                   ...                ...                ...   \n122307                  0                  0                  0   \n105898                  0                  0                  0   \n134581                  0                  0                  0   \n149666                  0                  0                  0   \n124404                  0                  0                  0   \n\n        age_group_[75-100]  party_DEMOCRAT  party_REPUBLICAN  \n72096                    0               1                 0  \n159077                   0               0                 1  \n124316                   0               0                 1  \n144416                   0               1                 0  \n41932                    0               0                 1  \n...                    ...             ...               ...  \n122307                   0               1                 0  \n105898                   0               0                 1  \n134581                   0               0                 1  \n149666                   0               0                 1  \n124404                   0               0                 1  \n\n[129240 rows x 24 columns]",
      "text/html": "<div>\n<style scoped>\n    .dataframe tbody tr th:only-of-type {\n        vertical-align: middle;\n    }\n\n    .dataframe tbody tr th {\n        vertical-align: top;\n    }\n\n    .dataframe thead th {\n        text-align: right;\n    }\n</style>\n<table border=\"1\" class=\"dataframe\">\n  <thead>\n    <tr style=\"text-align: right;\">\n      <th></th>\n      <th>latitude</th>\n      <th>longitude</th>\n      <th>year</th>\n      <th>povertyPercentage</th>\n      <th>population</th>\n      <th>candidatevotes</th>\n      <th>right_or_left</th>\n      <th>voters_over_population</th>\n      <th>n_participants_teen</th>\n      <th>n_participants_child</th>\n      <th>...</th>\n      <th>age_group_[12-17]</th>\n      <th>age_group_[18-24]</th>\n      <th>age_group_[25-34]</th>\n      <th>age_group_[35-44]</th>\n      <th>age_group_[45-54]</th>\n      <th>age_group_[55-64]</th>\n      <th>age_group_[65-74]</th>\n      <th>age_group_[75-100]</th>\n      <th>party_DEMOCRAT</th>\n      <th>party_REPUBLICAN</th>\n    </tr>\n  </thead>\n  <tbody>\n    <tr>\n      <th>72096</th>\n      <td>41.5094</td>\n      <td>-87.3501</td>\n      <td>2016.0</td>\n      <td>11.8</td>\n      <td>6634304</td>\n      <td>207515.0</td>\n      <td>0.184883</td>\n      <td>0.400700</td>\n      <td>0.0</td>\n      <td>0.0</td>\n      <td>...</td>\n      <td>0</td>\n      <td>1</td>\n      <td>0</td>\n      <td>0</td>\n      <td>0</td>\n      <td>0</td>\n      <td>0</td>\n      <td>0</td>\n      <td>1</td>\n      <td>0</td>\n    </tr>\n    <tr>\n      <th>159077</th>\n      <td>30.0788</td>\n      <td>-95.4261</td>\n      <td>2015.0</td>\n      <td>14.0</td>\n      <td>27470056</td>\n      <td>101936.0</td>\n      <td>0.679456</td>\n      <td>0.162122</td>\n      <td>0.0</td>\n      <td>0.0</td>\n      <td>...</td>\n      <td>0</td>\n      <td>1</td>\n      <td>0</td>\n      <td>0</td>\n      <td>0</td>\n      <td>0</td>\n      <td>0</td>\n      <td>0</td>\n      <td>0</td>\n      <td>1</td>\n    </tr>\n    <tr>\n      <th>124316</th>\n      <td>34.1473</td>\n      <td>-77.8766</td>\n      <td>2017.0</td>\n      <td>13.6</td>\n      <td>10268233</td>\n      <td>211801.0</td>\n      <td>0.609138</td>\n      <td>0.447833</td>\n      <td>0.0</td>\n      <td>0.0</td>\n      <td>...</td>\n      <td>0</td>\n      <td>0</td>\n      <td>0</td>\n      <td>1</td>\n      <td>0</td>\n      <td>0</td>\n      <td>0</td>\n      <td>0</td>\n      <td>0</td>\n      <td>1</td>\n    </tr>\n    <tr>\n      <th>144416</th>\n      <td>42.4051</td>\n      <td>-82.9640</td>\n      <td>2017.0</td>\n      <td>10.7</td>\n      <td>9973114</td>\n      <td>244135.0</td>\n      <td>0.214934</td>\n      <td>0.468350</td>\n      <td>0.0</td>\n      <td>0.0</td>\n      <td>...</td>\n      <td>0</td>\n      <td>0</td>\n      <td>0</td>\n      <td>0</td>\n      <td>0</td>\n      <td>1</td>\n      <td>0</td>\n      <td>0</td>\n      <td>1</td>\n      <td>0</td>\n    </tr>\n    <tr>\n      <th>41932</th>\n      <td>33.5675</td>\n      <td>-112.1560</td>\n      <td>2014.0</td>\n      <td>18.1</td>\n      <td>6730413</td>\n      <td>128710.0</td>\n      <td>0.758117</td>\n      <td>0.218055</td>\n      <td>0.0</td>\n      <td>0.0</td>\n      <td>...</td>\n      <td>0</td>\n      <td>0</td>\n      <td>0</td>\n      <td>0</td>\n      <td>1</td>\n      <td>0</td>\n      <td>0</td>\n      <td>0</td>\n      <td>0</td>\n      <td>1</td>\n    </tr>\n    <tr>\n      <th>...</th>\n      <td>...</td>\n      <td>...</td>\n      <td>...</td>\n      <td>...</td>\n      <td>...</td>\n      <td>...</td>\n      <td>...</td>\n      <td>...</td>\n      <td>...</td>\n      <td>...</td>\n      <td>...</td>\n      <td>...</td>\n      <td>...</td>\n      <td>...</td>\n      <td>...</td>\n      <td>...</td>\n      <td>...</td>\n      <td>...</td>\n      <td>...</td>\n      <td>...</td>\n      <td>...</td>\n    </tr>\n    <tr>\n      <th>122307</th>\n      <td>40.8303</td>\n      <td>-73.9478</td>\n      <td>2016.0</td>\n      <td>11.8</td>\n      <td>19633428</td>\n      <td>207194.0</td>\n      <td>0.188235</td>\n      <td>0.397300</td>\n      <td>0.0</td>\n      <td>0.0</td>\n      <td>...</td>\n      <td>0</td>\n      <td>0</td>\n      <td>1</td>\n      <td>0</td>\n      <td>0</td>\n      <td>0</td>\n      <td>0</td>\n      <td>0</td>\n      <td>1</td>\n      <td>0</td>\n    </tr>\n    <tr>\n      <th>105898</th>\n      <td>36.8071</td>\n      <td>-119.6720</td>\n      <td>2016.0</td>\n      <td>12.5</td>\n      <td>39167117</td>\n      <td>158755.0</td>\n      <td>0.675651</td>\n      <td>0.342482</td>\n      <td>1.0</td>\n      <td>0.0</td>\n      <td>...</td>\n      <td>0</td>\n      <td>0</td>\n      <td>1</td>\n      <td>0</td>\n      <td>0</td>\n      <td>0</td>\n      <td>0</td>\n      <td>0</td>\n      <td>0</td>\n      <td>1</td>\n    </tr>\n    <tr>\n      <th>134581</th>\n      <td>42.7352</td>\n      <td>-87.7959</td>\n      <td>2014.0</td>\n      <td>11.0</td>\n      <td>5751525</td>\n      <td>182316.0</td>\n      <td>0.632668</td>\n      <td>0.409557</td>\n      <td>1.0</td>\n      <td>0.0</td>\n      <td>...</td>\n      <td>1</td>\n      <td>0</td>\n      <td>0</td>\n      <td>0</td>\n      <td>0</td>\n      <td>0</td>\n      <td>0</td>\n      <td>0</td>\n      <td>0</td>\n      <td>1</td>\n    </tr>\n    <tr>\n      <th>149666</th>\n      <td>27.3226</td>\n      <td>-80.3804</td>\n      <td>2017.0</td>\n      <td>12.8</td>\n      <td>20963613</td>\n      <td>201488.0</td>\n      <td>0.535989</td>\n      <td>0.421560</td>\n      <td>0.0</td>\n      <td>0.0</td>\n      <td>...</td>\n      <td>0</td>\n      <td>0</td>\n      <td>1</td>\n      <td>0</td>\n      <td>0</td>\n      <td>0</td>\n      <td>0</td>\n      <td>0</td>\n      <td>0</td>\n      <td>1</td>\n    </tr>\n    <tr>\n      <th>124404</th>\n      <td>29.5286</td>\n      <td>-95.0316</td>\n      <td>2015.0</td>\n      <td>14.0</td>\n      <td>27470056</td>\n      <td>90116.0</td>\n      <td>0.618512</td>\n      <td>0.162122</td>\n      <td>0.0</td>\n      <td>0.0</td>\n      <td>...</td>\n      <td>0</td>\n      <td>0</td>\n      <td>1</td>\n      <td>0</td>\n      <td>0</td>\n      <td>0</td>\n      <td>0</td>\n      <td>0</td>\n      <td>0</td>\n      <td>1</td>\n    </tr>\n  </tbody>\n</table>\n<p>129240 rows × 24 columns</p>\n</div>"
     },
     "execution_count": 177,
     "metadata": {},
     "output_type": "execute_result"
    }
   ],
   "source": [
    "X_train"
   ],
   "metadata": {
    "collapsed": false
   }
  },
  {
   "cell_type": "markdown",
   "source": [
    "### SVC"
   ],
   "metadata": {
    "collapsed": false
   }
  },
  {
   "cell_type": "code",
   "execution_count": null,
   "outputs": [],
   "source": [
    "from sklearn.svm import SVC\n",
    "X_train, X_test, y_train, y_test = train_test_split(X, y, test_size=0.2, random_state=42)\n",
    "svc = SVC()\n",
    "svc.fit(X_train, y_train)\n",
    "y_pred = svc.predict(X_test)\n",
    "y_pred_train = svc.predict(X_train)\n",
    "print('Accuracy on training set: ', accuracy_score(y_train, y_pred_train))\n",
    "print('confusion_matrix on training set: \\n', confusion_matrix(y_train, y_pred_train))\n",
    "print('Accuracy on validation set: ', accuracy_score(y_test, y_pred))\n",
    "print('Confusion matrix: \\n', confusion_matrix(y_test, y_pred))\n",
    "print('Classification report: \\n', classification_report(y_test, y_pred))"
   ],
   "metadata": {
    "collapsed": false
   }
  },
  {
   "cell_type": "markdown",
   "source": [
    "## 3.3 Classification using n_injured and n_participants"
   ],
   "metadata": {
    "collapsed": false
   }
  },
  {
   "cell_type": "code",
   "execution_count": 301,
   "outputs": [],
   "source": [
    "X=df_incidents_prepared.drop('isKilled', axis=1)"
   ],
   "metadata": {
    "collapsed": false
   }
  },
  {
   "cell_type": "code",
   "execution_count": 302,
   "outputs": [],
   "source": [
    "X.drop(['n_unharmed', 'n_arrested'], axis=1, inplace=True)"
   ],
   "metadata": {
    "collapsed": false
   }
  },
  {
   "cell_type": "code",
   "execution_count": 303,
   "outputs": [
    {
     "data": {
      "text/plain": "   latitude  longitude    year age_group  povertyPercentage  population  \\\n0   39.8322   -86.2492  2015.0   [18-24]               12.3     6608422   \n1   39.7745   -86.1166  2015.0   [25-34]               12.3     6608422   \n2   39.7759   -86.2940  2015.0   [35-44]               12.3     6608422   \n3   39.8040   -86.0095  2015.0   [18-24]               12.3     6608422   \n4   39.7882   -86.2091  2015.0   [45-54]               12.3     6608422   \n\n      party  candidatevotes  right_or_left  voters_over_population  \\\n0  DEMOCRAT         61443.0       0.452677                0.203046   \n1  DEMOCRAT         61443.0       0.452677                0.203046   \n2  DEMOCRAT         61443.0       0.452677                0.203046   \n3  DEMOCRAT         61443.0       0.452677                0.203046   \n4  DEMOCRAT         61443.0       0.452677                0.203046   \n\n   n_participants  n_participants_teen  n_participants_child  n_females  \\\n0             1.0                  0.0                   0.0        0.0   \n1             2.0                  0.0                   0.0        0.0   \n2             2.0                  0.0                   0.0        0.0   \n3             1.0                  0.0                   0.0        0.0   \n4             1.0                  0.0                   0.0        0.0   \n\n   n_males  n_injured  \n0      1.0          1  \n1      2.0          0  \n2      2.0          0  \n3      1.0          0  \n4      1.0          1  ",
      "text/html": "<div>\n<style scoped>\n    .dataframe tbody tr th:only-of-type {\n        vertical-align: middle;\n    }\n\n    .dataframe tbody tr th {\n        vertical-align: top;\n    }\n\n    .dataframe thead th {\n        text-align: right;\n    }\n</style>\n<table border=\"1\" class=\"dataframe\">\n  <thead>\n    <tr style=\"text-align: right;\">\n      <th></th>\n      <th>latitude</th>\n      <th>longitude</th>\n      <th>year</th>\n      <th>age_group</th>\n      <th>povertyPercentage</th>\n      <th>population</th>\n      <th>party</th>\n      <th>candidatevotes</th>\n      <th>right_or_left</th>\n      <th>voters_over_population</th>\n      <th>n_participants</th>\n      <th>n_participants_teen</th>\n      <th>n_participants_child</th>\n      <th>n_females</th>\n      <th>n_males</th>\n      <th>n_injured</th>\n    </tr>\n  </thead>\n  <tbody>\n    <tr>\n      <th>0</th>\n      <td>39.8322</td>\n      <td>-86.2492</td>\n      <td>2015.0</td>\n      <td>[18-24]</td>\n      <td>12.3</td>\n      <td>6608422</td>\n      <td>DEMOCRAT</td>\n      <td>61443.0</td>\n      <td>0.452677</td>\n      <td>0.203046</td>\n      <td>1.0</td>\n      <td>0.0</td>\n      <td>0.0</td>\n      <td>0.0</td>\n      <td>1.0</td>\n      <td>1</td>\n    </tr>\n    <tr>\n      <th>1</th>\n      <td>39.7745</td>\n      <td>-86.1166</td>\n      <td>2015.0</td>\n      <td>[25-34]</td>\n      <td>12.3</td>\n      <td>6608422</td>\n      <td>DEMOCRAT</td>\n      <td>61443.0</td>\n      <td>0.452677</td>\n      <td>0.203046</td>\n      <td>2.0</td>\n      <td>0.0</td>\n      <td>0.0</td>\n      <td>0.0</td>\n      <td>2.0</td>\n      <td>0</td>\n    </tr>\n    <tr>\n      <th>2</th>\n      <td>39.7759</td>\n      <td>-86.2940</td>\n      <td>2015.0</td>\n      <td>[35-44]</td>\n      <td>12.3</td>\n      <td>6608422</td>\n      <td>DEMOCRAT</td>\n      <td>61443.0</td>\n      <td>0.452677</td>\n      <td>0.203046</td>\n      <td>2.0</td>\n      <td>0.0</td>\n      <td>0.0</td>\n      <td>0.0</td>\n      <td>2.0</td>\n      <td>0</td>\n    </tr>\n    <tr>\n      <th>3</th>\n      <td>39.8040</td>\n      <td>-86.0095</td>\n      <td>2015.0</td>\n      <td>[18-24]</td>\n      <td>12.3</td>\n      <td>6608422</td>\n      <td>DEMOCRAT</td>\n      <td>61443.0</td>\n      <td>0.452677</td>\n      <td>0.203046</td>\n      <td>1.0</td>\n      <td>0.0</td>\n      <td>0.0</td>\n      <td>0.0</td>\n      <td>1.0</td>\n      <td>0</td>\n    </tr>\n    <tr>\n      <th>4</th>\n      <td>39.7882</td>\n      <td>-86.2091</td>\n      <td>2015.0</td>\n      <td>[45-54]</td>\n      <td>12.3</td>\n      <td>6608422</td>\n      <td>DEMOCRAT</td>\n      <td>61443.0</td>\n      <td>0.452677</td>\n      <td>0.203046</td>\n      <td>1.0</td>\n      <td>0.0</td>\n      <td>0.0</td>\n      <td>0.0</td>\n      <td>1.0</td>\n      <td>1</td>\n    </tr>\n  </tbody>\n</table>\n</div>"
     },
     "execution_count": 303,
     "metadata": {},
     "output_type": "execute_result"
    }
   ],
   "source": [
    "X.head()"
   ],
   "metadata": {
    "collapsed": false
   }
  },
  {
   "cell_type": "code",
   "execution_count": 304,
   "outputs": [],
   "source": [
    "# one hot encoding\n",
    "X=pd.get_dummies(X)"
   ],
   "metadata": {
    "collapsed": false
   }
  },
  {
   "cell_type": "code",
   "execution_count": 305,
   "outputs": [],
   "source": [
    "X_train, X_test, y_train, y_test = train_test_split(X, y, test_size=0.2, random_state=42)"
   ],
   "metadata": {
    "collapsed": false
   }
  },
  {
   "cell_type": "markdown",
   "source": [
    "### Decision Tree"
   ],
   "metadata": {
    "collapsed": false
   }
  },
  {
   "cell_type": "code",
   "execution_count": 306,
   "outputs": [
    {
     "name": "stdout",
     "output_type": "stream",
     "text": [
      "Fitting 3 folds for each of 24 candidates, totalling 72 fits\n",
      "[CV 1/3] END criterion=gini, max_depth=4, min_samples_split=2;, score=0.537 total time=   1.8s\n",
      "[CV 2/3] END criterion=gini, max_depth=4, min_samples_split=2;, score=0.571 total time=   0.6s\n",
      "[CV 3/3] END criterion=gini, max_depth=4, min_samples_split=2;, score=0.560 total time=   1.4s\n",
      "[CV 1/3] END criterion=gini, max_depth=4, min_samples_split=4;, score=0.537 total time=   0.5s\n",
      "[CV 2/3] END criterion=gini, max_depth=4, min_samples_split=4;, score=0.571 total time=   0.5s\n",
      "[CV 3/3] END criterion=gini, max_depth=4, min_samples_split=4;, score=0.560 total time=   0.4s\n",
      "[CV 1/3] END criterion=gini, max_depth=4, min_samples_split=8;, score=0.537 total time=   0.4s\n",
      "[CV 2/3] END criterion=gini, max_depth=4, min_samples_split=8;, score=0.571 total time=   0.5s\n",
      "[CV 3/3] END criterion=gini, max_depth=4, min_samples_split=8;, score=0.560 total time=   0.4s\n",
      "[CV 1/3] END criterion=gini, max_depth=4, min_samples_split=16;, score=0.537 total time=   0.4s\n"
     ]
    },
    {
     "ename": "KeyboardInterrupt",
     "evalue": "",
     "output_type": "error",
     "traceback": [
      "\u001B[1;31m---------------------------------------------------------------------------\u001B[0m",
      "\u001B[1;31mKeyboardInterrupt\u001B[0m                         Traceback (most recent call last)",
      "Cell \u001B[1;32mIn[306], line 8\u001B[0m\n\u001B[0;32m      3\u001B[0m param_grid \u001B[38;5;241m=\u001B[39m {\u001B[38;5;124m'\u001B[39m\u001B[38;5;124mmax_depth\u001B[39m\u001B[38;5;124m'\u001B[39m: [\u001B[38;5;241m4\u001B[39m, \u001B[38;5;241m8\u001B[39m, \u001B[38;5;241m16\u001B[39m],\n\u001B[0;32m      4\u001B[0m               \u001B[38;5;124m'\u001B[39m\u001B[38;5;124mmin_samples_split\u001B[39m\u001B[38;5;124m'\u001B[39m: [\u001B[38;5;241m2\u001B[39m,\u001B[38;5;241m4\u001B[39m, \u001B[38;5;241m8\u001B[39m, \u001B[38;5;241m16\u001B[39m],\n\u001B[0;32m      5\u001B[0m               \u001B[38;5;124m'\u001B[39m\u001B[38;5;124mcriterion\u001B[39m\u001B[38;5;124m'\u001B[39m: [\u001B[38;5;124m'\u001B[39m\u001B[38;5;124mgini\u001B[39m\u001B[38;5;124m'\u001B[39m, \u001B[38;5;124m'\u001B[39m\u001B[38;5;124mentropy\u001B[39m\u001B[38;5;124m'\u001B[39m]\n\u001B[0;32m      6\u001B[0m }\n\u001B[0;32m      7\u001B[0m grid \u001B[38;5;241m=\u001B[39m GridSearchCV(DecisionTreeClassifier(random_state\u001B[38;5;241m=\u001B[39m\u001B[38;5;241m42\u001B[39m), param_grid, cv\u001B[38;5;241m=\u001B[39m\u001B[38;5;241m3\u001B[39m, scoring\u001B[38;5;241m=\u001B[39m\u001B[38;5;124m'\u001B[39m\u001B[38;5;124mf1\u001B[39m\u001B[38;5;124m'\u001B[39m, verbose \u001B[38;5;241m=\u001B[39m\u001B[38;5;241m3\u001B[39m)\n\u001B[1;32m----> 8\u001B[0m \u001B[43mgrid\u001B[49m\u001B[38;5;241;43m.\u001B[39;49m\u001B[43mfit\u001B[49m\u001B[43m(\u001B[49m\u001B[43mX_train\u001B[49m\u001B[43m,\u001B[49m\u001B[43m \u001B[49m\u001B[43my_train\u001B[49m\u001B[43m)\u001B[49m\n",
      "File \u001B[1;32m~\\AppData\\Local\\Programs\\Python\\Python310\\lib\\site-packages\\sklearn\\model_selection\\_search.py:875\u001B[0m, in \u001B[0;36mBaseSearchCV.fit\u001B[1;34m(self, X, y, groups, **fit_params)\u001B[0m\n\u001B[0;32m    869\u001B[0m     results \u001B[38;5;241m=\u001B[39m \u001B[38;5;28mself\u001B[39m\u001B[38;5;241m.\u001B[39m_format_results(\n\u001B[0;32m    870\u001B[0m         all_candidate_params, n_splits, all_out, all_more_results\n\u001B[0;32m    871\u001B[0m     )\n\u001B[0;32m    873\u001B[0m     \u001B[38;5;28;01mreturn\u001B[39;00m results\n\u001B[1;32m--> 875\u001B[0m \u001B[38;5;28;43mself\u001B[39;49m\u001B[38;5;241;43m.\u001B[39;49m\u001B[43m_run_search\u001B[49m\u001B[43m(\u001B[49m\u001B[43mevaluate_candidates\u001B[49m\u001B[43m)\u001B[49m\n\u001B[0;32m    877\u001B[0m \u001B[38;5;66;03m# multimetric is determined here because in the case of a callable\u001B[39;00m\n\u001B[0;32m    878\u001B[0m \u001B[38;5;66;03m# self.scoring the return type is only known after calling\u001B[39;00m\n\u001B[0;32m    879\u001B[0m first_test_score \u001B[38;5;241m=\u001B[39m all_out[\u001B[38;5;241m0\u001B[39m][\u001B[38;5;124m\"\u001B[39m\u001B[38;5;124mtest_scores\u001B[39m\u001B[38;5;124m\"\u001B[39m]\n",
      "File \u001B[1;32m~\\AppData\\Local\\Programs\\Python\\Python310\\lib\\site-packages\\sklearn\\model_selection\\_search.py:1379\u001B[0m, in \u001B[0;36mGridSearchCV._run_search\u001B[1;34m(self, evaluate_candidates)\u001B[0m\n\u001B[0;32m   1377\u001B[0m \u001B[38;5;28;01mdef\u001B[39;00m \u001B[38;5;21m_run_search\u001B[39m(\u001B[38;5;28mself\u001B[39m, evaluate_candidates):\n\u001B[0;32m   1378\u001B[0m     \u001B[38;5;124;03m\"\"\"Search all candidates in param_grid\"\"\"\u001B[39;00m\n\u001B[1;32m-> 1379\u001B[0m     \u001B[43mevaluate_candidates\u001B[49m\u001B[43m(\u001B[49m\u001B[43mParameterGrid\u001B[49m\u001B[43m(\u001B[49m\u001B[38;5;28;43mself\u001B[39;49m\u001B[38;5;241;43m.\u001B[39;49m\u001B[43mparam_grid\u001B[49m\u001B[43m)\u001B[49m\u001B[43m)\u001B[49m\n",
      "File \u001B[1;32m~\\AppData\\Local\\Programs\\Python\\Python310\\lib\\site-packages\\sklearn\\model_selection\\_search.py:822\u001B[0m, in \u001B[0;36mBaseSearchCV.fit.<locals>.evaluate_candidates\u001B[1;34m(candidate_params, cv, more_results)\u001B[0m\n\u001B[0;32m    814\u001B[0m \u001B[38;5;28;01mif\u001B[39;00m \u001B[38;5;28mself\u001B[39m\u001B[38;5;241m.\u001B[39mverbose \u001B[38;5;241m>\u001B[39m \u001B[38;5;241m0\u001B[39m:\n\u001B[0;32m    815\u001B[0m     \u001B[38;5;28mprint\u001B[39m(\n\u001B[0;32m    816\u001B[0m         \u001B[38;5;124m\"\u001B[39m\u001B[38;5;124mFitting \u001B[39m\u001B[38;5;132;01m{0}\u001B[39;00m\u001B[38;5;124m folds for each of \u001B[39m\u001B[38;5;132;01m{1}\u001B[39;00m\u001B[38;5;124m candidates,\u001B[39m\u001B[38;5;124m\"\u001B[39m\n\u001B[0;32m    817\u001B[0m         \u001B[38;5;124m\"\u001B[39m\u001B[38;5;124m totalling \u001B[39m\u001B[38;5;132;01m{2}\u001B[39;00m\u001B[38;5;124m fits\u001B[39m\u001B[38;5;124m\"\u001B[39m\u001B[38;5;241m.\u001B[39mformat(\n\u001B[0;32m    818\u001B[0m             n_splits, n_candidates, n_candidates \u001B[38;5;241m*\u001B[39m n_splits\n\u001B[0;32m    819\u001B[0m         )\n\u001B[0;32m    820\u001B[0m     )\n\u001B[1;32m--> 822\u001B[0m out \u001B[38;5;241m=\u001B[39m \u001B[43mparallel\u001B[49m\u001B[43m(\u001B[49m\n\u001B[0;32m    823\u001B[0m \u001B[43m    \u001B[49m\u001B[43mdelayed\u001B[49m\u001B[43m(\u001B[49m\u001B[43m_fit_and_score\u001B[49m\u001B[43m)\u001B[49m\u001B[43m(\u001B[49m\n\u001B[0;32m    824\u001B[0m \u001B[43m        \u001B[49m\u001B[43mclone\u001B[49m\u001B[43m(\u001B[49m\u001B[43mbase_estimator\u001B[49m\u001B[43m)\u001B[49m\u001B[43m,\u001B[49m\n\u001B[0;32m    825\u001B[0m \u001B[43m        \u001B[49m\u001B[43mX\u001B[49m\u001B[43m,\u001B[49m\n\u001B[0;32m    826\u001B[0m \u001B[43m        \u001B[49m\u001B[43my\u001B[49m\u001B[43m,\u001B[49m\n\u001B[0;32m    827\u001B[0m \u001B[43m        \u001B[49m\u001B[43mtrain\u001B[49m\u001B[38;5;241;43m=\u001B[39;49m\u001B[43mtrain\u001B[49m\u001B[43m,\u001B[49m\n\u001B[0;32m    828\u001B[0m \u001B[43m        \u001B[49m\u001B[43mtest\u001B[49m\u001B[38;5;241;43m=\u001B[39;49m\u001B[43mtest\u001B[49m\u001B[43m,\u001B[49m\n\u001B[0;32m    829\u001B[0m \u001B[43m        \u001B[49m\u001B[43mparameters\u001B[49m\u001B[38;5;241;43m=\u001B[39;49m\u001B[43mparameters\u001B[49m\u001B[43m,\u001B[49m\n\u001B[0;32m    830\u001B[0m \u001B[43m        \u001B[49m\u001B[43msplit_progress\u001B[49m\u001B[38;5;241;43m=\u001B[39;49m\u001B[43m(\u001B[49m\u001B[43msplit_idx\u001B[49m\u001B[43m,\u001B[49m\u001B[43m \u001B[49m\u001B[43mn_splits\u001B[49m\u001B[43m)\u001B[49m\u001B[43m,\u001B[49m\n\u001B[0;32m    831\u001B[0m \u001B[43m        \u001B[49m\u001B[43mcandidate_progress\u001B[49m\u001B[38;5;241;43m=\u001B[39;49m\u001B[43m(\u001B[49m\u001B[43mcand_idx\u001B[49m\u001B[43m,\u001B[49m\u001B[43m \u001B[49m\u001B[43mn_candidates\u001B[49m\u001B[43m)\u001B[49m\u001B[43m,\u001B[49m\n\u001B[0;32m    832\u001B[0m \u001B[43m        \u001B[49m\u001B[38;5;241;43m*\u001B[39;49m\u001B[38;5;241;43m*\u001B[39;49m\u001B[43mfit_and_score_kwargs\u001B[49m\u001B[43m,\u001B[49m\n\u001B[0;32m    833\u001B[0m \u001B[43m    \u001B[49m\u001B[43m)\u001B[49m\n\u001B[0;32m    834\u001B[0m \u001B[43m    \u001B[49m\u001B[38;5;28;43;01mfor\u001B[39;49;00m\u001B[43m \u001B[49m\u001B[43m(\u001B[49m\u001B[43mcand_idx\u001B[49m\u001B[43m,\u001B[49m\u001B[43m \u001B[49m\u001B[43mparameters\u001B[49m\u001B[43m)\u001B[49m\u001B[43m,\u001B[49m\u001B[43m \u001B[49m\u001B[43m(\u001B[49m\u001B[43msplit_idx\u001B[49m\u001B[43m,\u001B[49m\u001B[43m \u001B[49m\u001B[43m(\u001B[49m\u001B[43mtrain\u001B[49m\u001B[43m,\u001B[49m\u001B[43m \u001B[49m\u001B[43mtest\u001B[49m\u001B[43m)\u001B[49m\u001B[43m)\u001B[49m\u001B[43m \u001B[49m\u001B[38;5;129;43;01min\u001B[39;49;00m\u001B[43m \u001B[49m\u001B[43mproduct\u001B[49m\u001B[43m(\u001B[49m\n\u001B[0;32m    835\u001B[0m \u001B[43m        \u001B[49m\u001B[38;5;28;43menumerate\u001B[39;49m\u001B[43m(\u001B[49m\u001B[43mcandidate_params\u001B[49m\u001B[43m)\u001B[49m\u001B[43m,\u001B[49m\u001B[43m \u001B[49m\u001B[38;5;28;43menumerate\u001B[39;49m\u001B[43m(\u001B[49m\u001B[43mcv\u001B[49m\u001B[38;5;241;43m.\u001B[39;49m\u001B[43msplit\u001B[49m\u001B[43m(\u001B[49m\u001B[43mX\u001B[49m\u001B[43m,\u001B[49m\u001B[43m \u001B[49m\u001B[43my\u001B[49m\u001B[43m,\u001B[49m\u001B[43m \u001B[49m\u001B[43mgroups\u001B[49m\u001B[43m)\u001B[49m\u001B[43m)\u001B[49m\n\u001B[0;32m    836\u001B[0m \u001B[43m    \u001B[49m\u001B[43m)\u001B[49m\n\u001B[0;32m    837\u001B[0m \u001B[43m\u001B[49m\u001B[43m)\u001B[49m\n\u001B[0;32m    839\u001B[0m \u001B[38;5;28;01mif\u001B[39;00m \u001B[38;5;28mlen\u001B[39m(out) \u001B[38;5;241m<\u001B[39m \u001B[38;5;241m1\u001B[39m:\n\u001B[0;32m    840\u001B[0m     \u001B[38;5;28;01mraise\u001B[39;00m \u001B[38;5;167;01mValueError\u001B[39;00m(\n\u001B[0;32m    841\u001B[0m         \u001B[38;5;124m\"\u001B[39m\u001B[38;5;124mNo fits were performed. \u001B[39m\u001B[38;5;124m\"\u001B[39m\n\u001B[0;32m    842\u001B[0m         \u001B[38;5;124m\"\u001B[39m\u001B[38;5;124mWas the CV iterator empty? \u001B[39m\u001B[38;5;124m\"\u001B[39m\n\u001B[0;32m    843\u001B[0m         \u001B[38;5;124m\"\u001B[39m\u001B[38;5;124mWere there no candidates?\u001B[39m\u001B[38;5;124m\"\u001B[39m\n\u001B[0;32m    844\u001B[0m     )\n",
      "File \u001B[1;32m~\\AppData\\Local\\Programs\\Python\\Python310\\lib\\site-packages\\joblib\\parallel.py:1088\u001B[0m, in \u001B[0;36mParallel.__call__\u001B[1;34m(self, iterable)\u001B[0m\n\u001B[0;32m   1085\u001B[0m \u001B[38;5;28;01mif\u001B[39;00m \u001B[38;5;28mself\u001B[39m\u001B[38;5;241m.\u001B[39mdispatch_one_batch(iterator):\n\u001B[0;32m   1086\u001B[0m     \u001B[38;5;28mself\u001B[39m\u001B[38;5;241m.\u001B[39m_iterating \u001B[38;5;241m=\u001B[39m \u001B[38;5;28mself\u001B[39m\u001B[38;5;241m.\u001B[39m_original_iterator \u001B[38;5;129;01mis\u001B[39;00m \u001B[38;5;129;01mnot\u001B[39;00m \u001B[38;5;28;01mNone\u001B[39;00m\n\u001B[1;32m-> 1088\u001B[0m \u001B[38;5;28;01mwhile\u001B[39;00m \u001B[38;5;28;43mself\u001B[39;49m\u001B[38;5;241;43m.\u001B[39;49m\u001B[43mdispatch_one_batch\u001B[49m\u001B[43m(\u001B[49m\u001B[43miterator\u001B[49m\u001B[43m)\u001B[49m:\n\u001B[0;32m   1089\u001B[0m     \u001B[38;5;28;01mpass\u001B[39;00m\n\u001B[0;32m   1091\u001B[0m \u001B[38;5;28;01mif\u001B[39;00m pre_dispatch \u001B[38;5;241m==\u001B[39m \u001B[38;5;124m\"\u001B[39m\u001B[38;5;124mall\u001B[39m\u001B[38;5;124m\"\u001B[39m \u001B[38;5;129;01mor\u001B[39;00m n_jobs \u001B[38;5;241m==\u001B[39m \u001B[38;5;241m1\u001B[39m:\n\u001B[0;32m   1092\u001B[0m     \u001B[38;5;66;03m# The iterable was consumed all at once by the above for loop.\u001B[39;00m\n\u001B[0;32m   1093\u001B[0m     \u001B[38;5;66;03m# No need to wait for async callbacks to trigger to\u001B[39;00m\n\u001B[0;32m   1094\u001B[0m     \u001B[38;5;66;03m# consumption.\u001B[39;00m\n",
      "File \u001B[1;32m~\\AppData\\Local\\Programs\\Python\\Python310\\lib\\site-packages\\joblib\\parallel.py:901\u001B[0m, in \u001B[0;36mParallel.dispatch_one_batch\u001B[1;34m(self, iterator)\u001B[0m\n\u001B[0;32m    899\u001B[0m     \u001B[38;5;28;01mreturn\u001B[39;00m \u001B[38;5;28;01mFalse\u001B[39;00m\n\u001B[0;32m    900\u001B[0m \u001B[38;5;28;01melse\u001B[39;00m:\n\u001B[1;32m--> 901\u001B[0m     \u001B[38;5;28;43mself\u001B[39;49m\u001B[38;5;241;43m.\u001B[39;49m\u001B[43m_dispatch\u001B[49m\u001B[43m(\u001B[49m\u001B[43mtasks\u001B[49m\u001B[43m)\u001B[49m\n\u001B[0;32m    902\u001B[0m     \u001B[38;5;28;01mreturn\u001B[39;00m \u001B[38;5;28;01mTrue\u001B[39;00m\n",
      "File \u001B[1;32m~\\AppData\\Local\\Programs\\Python\\Python310\\lib\\site-packages\\joblib\\parallel.py:819\u001B[0m, in \u001B[0;36mParallel._dispatch\u001B[1;34m(self, batch)\u001B[0m\n\u001B[0;32m    817\u001B[0m \u001B[38;5;28;01mwith\u001B[39;00m \u001B[38;5;28mself\u001B[39m\u001B[38;5;241m.\u001B[39m_lock:\n\u001B[0;32m    818\u001B[0m     job_idx \u001B[38;5;241m=\u001B[39m \u001B[38;5;28mlen\u001B[39m(\u001B[38;5;28mself\u001B[39m\u001B[38;5;241m.\u001B[39m_jobs)\n\u001B[1;32m--> 819\u001B[0m     job \u001B[38;5;241m=\u001B[39m \u001B[38;5;28;43mself\u001B[39;49m\u001B[38;5;241;43m.\u001B[39;49m\u001B[43m_backend\u001B[49m\u001B[38;5;241;43m.\u001B[39;49m\u001B[43mapply_async\u001B[49m\u001B[43m(\u001B[49m\u001B[43mbatch\u001B[49m\u001B[43m,\u001B[49m\u001B[43m \u001B[49m\u001B[43mcallback\u001B[49m\u001B[38;5;241;43m=\u001B[39;49m\u001B[43mcb\u001B[49m\u001B[43m)\u001B[49m\n\u001B[0;32m    820\u001B[0m     \u001B[38;5;66;03m# A job can complete so quickly than its callback is\u001B[39;00m\n\u001B[0;32m    821\u001B[0m     \u001B[38;5;66;03m# called before we get here, causing self._jobs to\u001B[39;00m\n\u001B[0;32m    822\u001B[0m     \u001B[38;5;66;03m# grow. To ensure correct results ordering, .insert is\u001B[39;00m\n\u001B[0;32m    823\u001B[0m     \u001B[38;5;66;03m# used (rather than .append) in the following line\u001B[39;00m\n\u001B[0;32m    824\u001B[0m     \u001B[38;5;28mself\u001B[39m\u001B[38;5;241m.\u001B[39m_jobs\u001B[38;5;241m.\u001B[39minsert(job_idx, job)\n",
      "File \u001B[1;32m~\\AppData\\Local\\Programs\\Python\\Python310\\lib\\site-packages\\joblib\\_parallel_backends.py:208\u001B[0m, in \u001B[0;36mSequentialBackend.apply_async\u001B[1;34m(self, func, callback)\u001B[0m\n\u001B[0;32m    206\u001B[0m \u001B[38;5;28;01mdef\u001B[39;00m \u001B[38;5;21mapply_async\u001B[39m(\u001B[38;5;28mself\u001B[39m, func, callback\u001B[38;5;241m=\u001B[39m\u001B[38;5;28;01mNone\u001B[39;00m):\n\u001B[0;32m    207\u001B[0m     \u001B[38;5;124;03m\"\"\"Schedule a func to be run\"\"\"\u001B[39;00m\n\u001B[1;32m--> 208\u001B[0m     result \u001B[38;5;241m=\u001B[39m \u001B[43mImmediateResult\u001B[49m\u001B[43m(\u001B[49m\u001B[43mfunc\u001B[49m\u001B[43m)\u001B[49m\n\u001B[0;32m    209\u001B[0m     \u001B[38;5;28;01mif\u001B[39;00m callback:\n\u001B[0;32m    210\u001B[0m         callback(result)\n",
      "File \u001B[1;32m~\\AppData\\Local\\Programs\\Python\\Python310\\lib\\site-packages\\joblib\\_parallel_backends.py:597\u001B[0m, in \u001B[0;36mImmediateResult.__init__\u001B[1;34m(self, batch)\u001B[0m\n\u001B[0;32m    594\u001B[0m \u001B[38;5;28;01mdef\u001B[39;00m \u001B[38;5;21m__init__\u001B[39m(\u001B[38;5;28mself\u001B[39m, batch):\n\u001B[0;32m    595\u001B[0m     \u001B[38;5;66;03m# Don't delay the application, to avoid keeping the input\u001B[39;00m\n\u001B[0;32m    596\u001B[0m     \u001B[38;5;66;03m# arguments in memory\u001B[39;00m\n\u001B[1;32m--> 597\u001B[0m     \u001B[38;5;28mself\u001B[39m\u001B[38;5;241m.\u001B[39mresults \u001B[38;5;241m=\u001B[39m \u001B[43mbatch\u001B[49m\u001B[43m(\u001B[49m\u001B[43m)\u001B[49m\n",
      "File \u001B[1;32m~\\AppData\\Local\\Programs\\Python\\Python310\\lib\\site-packages\\joblib\\parallel.py:288\u001B[0m, in \u001B[0;36mBatchedCalls.__call__\u001B[1;34m(self)\u001B[0m\n\u001B[0;32m    284\u001B[0m \u001B[38;5;28;01mdef\u001B[39;00m \u001B[38;5;21m__call__\u001B[39m(\u001B[38;5;28mself\u001B[39m):\n\u001B[0;32m    285\u001B[0m     \u001B[38;5;66;03m# Set the default nested backend to self._backend but do not set the\u001B[39;00m\n\u001B[0;32m    286\u001B[0m     \u001B[38;5;66;03m# change the default number of processes to -1\u001B[39;00m\n\u001B[0;32m    287\u001B[0m     \u001B[38;5;28;01mwith\u001B[39;00m parallel_backend(\u001B[38;5;28mself\u001B[39m\u001B[38;5;241m.\u001B[39m_backend, n_jobs\u001B[38;5;241m=\u001B[39m\u001B[38;5;28mself\u001B[39m\u001B[38;5;241m.\u001B[39m_n_jobs):\n\u001B[1;32m--> 288\u001B[0m         \u001B[38;5;28;01mreturn\u001B[39;00m [func(\u001B[38;5;241m*\u001B[39margs, \u001B[38;5;241m*\u001B[39m\u001B[38;5;241m*\u001B[39mkwargs)\n\u001B[0;32m    289\u001B[0m                 \u001B[38;5;28;01mfor\u001B[39;00m func, args, kwargs \u001B[38;5;129;01min\u001B[39;00m \u001B[38;5;28mself\u001B[39m\u001B[38;5;241m.\u001B[39mitems]\n",
      "File \u001B[1;32m~\\AppData\\Local\\Programs\\Python\\Python310\\lib\\site-packages\\joblib\\parallel.py:288\u001B[0m, in \u001B[0;36m<listcomp>\u001B[1;34m(.0)\u001B[0m\n\u001B[0;32m    284\u001B[0m \u001B[38;5;28;01mdef\u001B[39;00m \u001B[38;5;21m__call__\u001B[39m(\u001B[38;5;28mself\u001B[39m):\n\u001B[0;32m    285\u001B[0m     \u001B[38;5;66;03m# Set the default nested backend to self._backend but do not set the\u001B[39;00m\n\u001B[0;32m    286\u001B[0m     \u001B[38;5;66;03m# change the default number of processes to -1\u001B[39;00m\n\u001B[0;32m    287\u001B[0m     \u001B[38;5;28;01mwith\u001B[39;00m parallel_backend(\u001B[38;5;28mself\u001B[39m\u001B[38;5;241m.\u001B[39m_backend, n_jobs\u001B[38;5;241m=\u001B[39m\u001B[38;5;28mself\u001B[39m\u001B[38;5;241m.\u001B[39m_n_jobs):\n\u001B[1;32m--> 288\u001B[0m         \u001B[38;5;28;01mreturn\u001B[39;00m [func(\u001B[38;5;241m*\u001B[39margs, \u001B[38;5;241m*\u001B[39m\u001B[38;5;241m*\u001B[39mkwargs)\n\u001B[0;32m    289\u001B[0m                 \u001B[38;5;28;01mfor\u001B[39;00m func, args, kwargs \u001B[38;5;129;01min\u001B[39;00m \u001B[38;5;28mself\u001B[39m\u001B[38;5;241m.\u001B[39mitems]\n",
      "File \u001B[1;32m~\\AppData\\Local\\Programs\\Python\\Python310\\lib\\site-packages\\sklearn\\utils\\fixes.py:117\u001B[0m, in \u001B[0;36m_FuncWrapper.__call__\u001B[1;34m(self, *args, **kwargs)\u001B[0m\n\u001B[0;32m    115\u001B[0m \u001B[38;5;28;01mdef\u001B[39;00m \u001B[38;5;21m__call__\u001B[39m(\u001B[38;5;28mself\u001B[39m, \u001B[38;5;241m*\u001B[39margs, \u001B[38;5;241m*\u001B[39m\u001B[38;5;241m*\u001B[39mkwargs):\n\u001B[0;32m    116\u001B[0m     \u001B[38;5;28;01mwith\u001B[39;00m config_context(\u001B[38;5;241m*\u001B[39m\u001B[38;5;241m*\u001B[39m\u001B[38;5;28mself\u001B[39m\u001B[38;5;241m.\u001B[39mconfig):\n\u001B[1;32m--> 117\u001B[0m         \u001B[38;5;28;01mreturn\u001B[39;00m \u001B[38;5;28mself\u001B[39m\u001B[38;5;241m.\u001B[39mfunction(\u001B[38;5;241m*\u001B[39margs, \u001B[38;5;241m*\u001B[39m\u001B[38;5;241m*\u001B[39mkwargs)\n",
      "File \u001B[1;32m~\\AppData\\Local\\Programs\\Python\\Python310\\lib\\site-packages\\sklearn\\model_selection\\_validation.py:686\u001B[0m, in \u001B[0;36m_fit_and_score\u001B[1;34m(estimator, X, y, scorer, train, test, verbose, parameters, fit_params, return_train_score, return_parameters, return_n_test_samples, return_times, return_estimator, split_progress, candidate_progress, error_score)\u001B[0m\n\u001B[0;32m    684\u001B[0m         estimator\u001B[38;5;241m.\u001B[39mfit(X_train, \u001B[38;5;241m*\u001B[39m\u001B[38;5;241m*\u001B[39mfit_params)\n\u001B[0;32m    685\u001B[0m     \u001B[38;5;28;01melse\u001B[39;00m:\n\u001B[1;32m--> 686\u001B[0m         estimator\u001B[38;5;241m.\u001B[39mfit(X_train, y_train, \u001B[38;5;241m*\u001B[39m\u001B[38;5;241m*\u001B[39mfit_params)\n\u001B[0;32m    688\u001B[0m \u001B[38;5;28;01mexcept\u001B[39;00m \u001B[38;5;167;01mException\u001B[39;00m:\n\u001B[0;32m    689\u001B[0m     \u001B[38;5;66;03m# Note fit time as time until error\u001B[39;00m\n\u001B[0;32m    690\u001B[0m     fit_time \u001B[38;5;241m=\u001B[39m time\u001B[38;5;241m.\u001B[39mtime() \u001B[38;5;241m-\u001B[39m start_time\n",
      "File \u001B[1;32m~\\AppData\\Local\\Programs\\Python\\Python310\\lib\\site-packages\\sklearn\\tree\\_classes.py:969\u001B[0m, in \u001B[0;36mDecisionTreeClassifier.fit\u001B[1;34m(self, X, y, sample_weight, check_input)\u001B[0m\n\u001B[0;32m    939\u001B[0m \u001B[38;5;28;01mdef\u001B[39;00m \u001B[38;5;21mfit\u001B[39m(\u001B[38;5;28mself\u001B[39m, X, y, sample_weight\u001B[38;5;241m=\u001B[39m\u001B[38;5;28;01mNone\u001B[39;00m, check_input\u001B[38;5;241m=\u001B[39m\u001B[38;5;28;01mTrue\u001B[39;00m):\n\u001B[0;32m    940\u001B[0m     \u001B[38;5;124;03m\"\"\"Build a decision tree classifier from the training set (X, y).\u001B[39;00m\n\u001B[0;32m    941\u001B[0m \n\u001B[0;32m    942\u001B[0m \u001B[38;5;124;03m    Parameters\u001B[39;00m\n\u001B[1;32m   (...)\u001B[0m\n\u001B[0;32m    966\u001B[0m \u001B[38;5;124;03m        Fitted estimator.\u001B[39;00m\n\u001B[0;32m    967\u001B[0m \u001B[38;5;124;03m    \"\"\"\u001B[39;00m\n\u001B[1;32m--> 969\u001B[0m     \u001B[38;5;28;43msuper\u001B[39;49m\u001B[43m(\u001B[49m\u001B[43m)\u001B[49m\u001B[38;5;241;43m.\u001B[39;49m\u001B[43mfit\u001B[49m\u001B[43m(\u001B[49m\n\u001B[0;32m    970\u001B[0m \u001B[43m        \u001B[49m\u001B[43mX\u001B[49m\u001B[43m,\u001B[49m\n\u001B[0;32m    971\u001B[0m \u001B[43m        \u001B[49m\u001B[43my\u001B[49m\u001B[43m,\u001B[49m\n\u001B[0;32m    972\u001B[0m \u001B[43m        \u001B[49m\u001B[43msample_weight\u001B[49m\u001B[38;5;241;43m=\u001B[39;49m\u001B[43msample_weight\u001B[49m\u001B[43m,\u001B[49m\n\u001B[0;32m    973\u001B[0m \u001B[43m        \u001B[49m\u001B[43mcheck_input\u001B[49m\u001B[38;5;241;43m=\u001B[39;49m\u001B[43mcheck_input\u001B[49m\u001B[43m,\u001B[49m\n\u001B[0;32m    974\u001B[0m \u001B[43m    \u001B[49m\u001B[43m)\u001B[49m\n\u001B[0;32m    975\u001B[0m     \u001B[38;5;28;01mreturn\u001B[39;00m \u001B[38;5;28mself\u001B[39m\n",
      "File \u001B[1;32m~\\AppData\\Local\\Programs\\Python\\Python310\\lib\\site-packages\\sklearn\\tree\\_classes.py:458\u001B[0m, in \u001B[0;36mBaseDecisionTree.fit\u001B[1;34m(self, X, y, sample_weight, check_input)\u001B[0m\n\u001B[0;32m    447\u001B[0m \u001B[38;5;28;01melse\u001B[39;00m:\n\u001B[0;32m    448\u001B[0m     builder \u001B[38;5;241m=\u001B[39m BestFirstTreeBuilder(\n\u001B[0;32m    449\u001B[0m         splitter,\n\u001B[0;32m    450\u001B[0m         min_samples_split,\n\u001B[1;32m   (...)\u001B[0m\n\u001B[0;32m    455\u001B[0m         \u001B[38;5;28mself\u001B[39m\u001B[38;5;241m.\u001B[39mmin_impurity_decrease,\n\u001B[0;32m    456\u001B[0m     )\n\u001B[1;32m--> 458\u001B[0m \u001B[43mbuilder\u001B[49m\u001B[38;5;241;43m.\u001B[39;49m\u001B[43mbuild\u001B[49m\u001B[43m(\u001B[49m\u001B[38;5;28;43mself\u001B[39;49m\u001B[38;5;241;43m.\u001B[39;49m\u001B[43mtree_\u001B[49m\u001B[43m,\u001B[49m\u001B[43m \u001B[49m\u001B[43mX\u001B[49m\u001B[43m,\u001B[49m\u001B[43m \u001B[49m\u001B[43my\u001B[49m\u001B[43m,\u001B[49m\u001B[43m \u001B[49m\u001B[43msample_weight\u001B[49m\u001B[43m)\u001B[49m\n\u001B[0;32m    460\u001B[0m \u001B[38;5;28;01mif\u001B[39;00m \u001B[38;5;28mself\u001B[39m\u001B[38;5;241m.\u001B[39mn_outputs_ \u001B[38;5;241m==\u001B[39m \u001B[38;5;241m1\u001B[39m \u001B[38;5;129;01mand\u001B[39;00m is_classifier(\u001B[38;5;28mself\u001B[39m):\n\u001B[0;32m    461\u001B[0m     \u001B[38;5;28mself\u001B[39m\u001B[38;5;241m.\u001B[39mn_classes_ \u001B[38;5;241m=\u001B[39m \u001B[38;5;28mself\u001B[39m\u001B[38;5;241m.\u001B[39mn_classes_[\u001B[38;5;241m0\u001B[39m]\n",
      "\u001B[1;31mKeyboardInterrupt\u001B[0m: "
     ]
    }
   ],
   "source": [
    "# grid search\n",
    "from sklearn.model_selection import GridSearchCV\n",
    "param_grid = {'max_depth': [4, 8, 16],\n",
    "              'min_samples_split': [2,4, 8, 16],\n",
    "              'criterion': ['gini', 'entropy']\n",
    "}\n",
    "grid = GridSearchCV(DecisionTreeClassifier(random_state=42), param_grid, cv=3, scoring='f1', verbose =3)\n",
    "grid.fit(X_train, y_train)"
   ],
   "metadata": {
    "collapsed": false
   }
  },
  {
   "cell_type": "code",
   "execution_count": 310,
   "outputs": [
    {
     "name": "stdout",
     "output_type": "stream",
     "text": [
      "Accuracy on training set:  0.842007118539152\n",
      "confusion_matrix on training set: \n",
      " [[85060  7722]\n",
      " [12697 23761]]\n",
      "Accuracy on validation set:  0.77669452181987\n",
      "Confusion matrix: \n",
      " [[20349  3000]\n",
      " [ 4215  4746]]\n",
      "Classification report: \n",
      "               precision    recall  f1-score   support\n",
      "\n",
      "       False       0.83      0.87      0.85     23349\n",
      "        True       0.61      0.53      0.57      8961\n",
      "\n",
      "    accuracy                           0.78     32310\n",
      "   macro avg       0.72      0.70      0.71     32310\n",
      "weighted avg       0.77      0.78      0.77     32310\n",
      "\n"
     ]
    }
   ],
   "source": [
    "# train model\n",
    "tree = DecisionTreeClassifier(random_state=42, max_depth=16, min_samples_split=16, criterion='gini')\n",
    "tree.fit(X_train, y_train)\n",
    "y_pred = tree.predict(X_test)\n",
    "y_pred_train = tree.predict(X_train)\n",
    "print('Accuracy on training set: ', accuracy_score(y_train, y_pred_train))\n",
    "print('confusion_matrix on training set: \\n', confusion_matrix(y_train, y_pred_train))\n",
    "print('Accuracy on validation set: ', accuracy_score(y_test, y_pred))\n",
    "print('Confusion matrix: \\n', confusion_matrix(y_test, y_pred))\n",
    "print('Classification report: \\n', classification_report(y_test, y_pred))\n"
   ],
   "metadata": {
    "collapsed": false
   }
  },
  {
   "cell_type": "markdown",
   "source": [
    "### Random Forest"
   ],
   "metadata": {
    "collapsed": false
   }
  },
  {
   "cell_type": "code",
   "execution_count": 312,
   "outputs": [
    {
     "name": "stdout",
     "output_type": "stream",
     "text": [
      "Fitting 3 folds for each of 54 candidates, totalling 162 fits\n",
      "[CV 1/3] END criterion=gini, max_depth=4, min_samples_split=2, n_estimators=20;, score=0.023 total time=   1.7s\n",
      "[CV 2/3] END criterion=gini, max_depth=4, min_samples_split=2, n_estimators=20;, score=0.020 total time=   1.7s\n",
      "[CV 3/3] END criterion=gini, max_depth=4, min_samples_split=2, n_estimators=20;, score=0.035 total time=   2.7s\n",
      "[CV 1/3] END criterion=gini, max_depth=4, min_samples_split=2, n_estimators=30;, score=0.037 total time=   3.2s\n",
      "[CV 2/3] END criterion=gini, max_depth=4, min_samples_split=2, n_estimators=30;, score=0.037 total time=   2.7s\n",
      "[CV 3/3] END criterion=gini, max_depth=4, min_samples_split=2, n_estimators=30;, score=0.040 total time=   2.7s\n",
      "[CV 1/3] END criterion=gini, max_depth=4, min_samples_split=2, n_estimators=50;, score=0.053 total time=   4.1s\n",
      "[CV 2/3] END criterion=gini, max_depth=4, min_samples_split=2, n_estimators=50;, score=0.038 total time=   4.3s\n",
      "[CV 3/3] END criterion=gini, max_depth=4, min_samples_split=2, n_estimators=50;, score=0.045 total time=   4.0s\n",
      "[CV 1/3] END criterion=gini, max_depth=4, min_samples_split=4, n_estimators=20;, score=0.023 total time=   1.6s\n",
      "[CV 2/3] END criterion=gini, max_depth=4, min_samples_split=4, n_estimators=20;, score=0.020 total time=   1.8s\n",
      "[CV 3/3] END criterion=gini, max_depth=4, min_samples_split=4, n_estimators=20;, score=0.035 total time=   1.6s\n",
      "[CV 1/3] END criterion=gini, max_depth=4, min_samples_split=4, n_estimators=30;, score=0.037 total time=   2.6s\n",
      "[CV 2/3] END criterion=gini, max_depth=4, min_samples_split=4, n_estimators=30;, score=0.037 total time=   2.8s\n",
      "[CV 3/3] END criterion=gini, max_depth=4, min_samples_split=4, n_estimators=30;, score=0.040 total time=   2.6s\n",
      "[CV 1/3] END criterion=gini, max_depth=4, min_samples_split=4, n_estimators=50;, score=0.053 total time=   4.0s\n",
      "[CV 2/3] END criterion=gini, max_depth=4, min_samples_split=4, n_estimators=50;, score=0.038 total time=   4.1s\n",
      "[CV 3/3] END criterion=gini, max_depth=4, min_samples_split=4, n_estimators=50;, score=0.045 total time=   4.0s\n",
      "[CV 1/3] END criterion=gini, max_depth=4, min_samples_split=8, n_estimators=20;, score=0.023 total time=   1.7s\n",
      "[CV 2/3] END criterion=gini, max_depth=4, min_samples_split=8, n_estimators=20;, score=0.020 total time=   1.8s\n",
      "[CV 3/3] END criterion=gini, max_depth=4, min_samples_split=8, n_estimators=20;, score=0.035 total time=   1.7s\n",
      "[CV 1/3] END criterion=gini, max_depth=4, min_samples_split=8, n_estimators=30;, score=0.037 total time=   2.5s\n",
      "[CV 2/3] END criterion=gini, max_depth=4, min_samples_split=8, n_estimators=30;, score=0.037 total time=   2.6s\n",
      "[CV 3/3] END criterion=gini, max_depth=4, min_samples_split=8, n_estimators=30;, score=0.040 total time=   2.8s\n",
      "[CV 1/3] END criterion=gini, max_depth=4, min_samples_split=8, n_estimators=50;, score=0.053 total time=   4.1s\n",
      "[CV 2/3] END criterion=gini, max_depth=4, min_samples_split=8, n_estimators=50;, score=0.038 total time=   4.3s\n",
      "[CV 3/3] END criterion=gini, max_depth=4, min_samples_split=8, n_estimators=50;, score=0.045 total time=   4.0s\n",
      "[CV 1/3] END criterion=gini, max_depth=8, min_samples_split=2, n_estimators=20;, score=0.494 total time=   3.2s\n",
      "[CV 2/3] END criterion=gini, max_depth=8, min_samples_split=2, n_estimators=20;, score=0.512 total time=   3.1s\n",
      "[CV 3/3] END criterion=gini, max_depth=8, min_samples_split=2, n_estimators=20;, score=0.425 total time=   2.9s\n",
      "[CV 1/3] END criterion=gini, max_depth=8, min_samples_split=2, n_estimators=30;, score=0.495 total time=   4.2s\n",
      "[CV 2/3] END criterion=gini, max_depth=8, min_samples_split=2, n_estimators=30;, score=0.516 total time=   4.2s\n",
      "[CV 3/3] END criterion=gini, max_depth=8, min_samples_split=2, n_estimators=30;, score=0.463 total time=   4.4s\n",
      "[CV 1/3] END criterion=gini, max_depth=8, min_samples_split=2, n_estimators=50;, score=0.495 total time=   6.8s\n",
      "[CV 2/3] END criterion=gini, max_depth=8, min_samples_split=2, n_estimators=50;, score=0.506 total time=   9.1s\n",
      "[CV 3/3] END criterion=gini, max_depth=8, min_samples_split=2, n_estimators=50;, score=0.489 total time=   6.9s\n",
      "[CV 1/3] END criterion=gini, max_depth=8, min_samples_split=4, n_estimators=20;, score=0.458 total time=   2.8s\n",
      "[CV 2/3] END criterion=gini, max_depth=8, min_samples_split=4, n_estimators=20;, score=0.478 total time=   2.8s\n",
      "[CV 3/3] END criterion=gini, max_depth=8, min_samples_split=4, n_estimators=20;, score=0.462 total time=   2.8s\n",
      "[CV 1/3] END criterion=gini, max_depth=8, min_samples_split=4, n_estimators=30;, score=0.477 total time=   4.3s\n",
      "[CV 2/3] END criterion=gini, max_depth=8, min_samples_split=4, n_estimators=30;, score=0.508 total time=   4.7s\n",
      "[CV 3/3] END criterion=gini, max_depth=8, min_samples_split=4, n_estimators=30;, score=0.491 total time=   4.3s\n",
      "[CV 1/3] END criterion=gini, max_depth=8, min_samples_split=4, n_estimators=50;, score=0.483 total time=   7.1s\n",
      "[CV 2/3] END criterion=gini, max_depth=8, min_samples_split=4, n_estimators=50;, score=0.512 total time=   7.9s\n",
      "[CV 3/3] END criterion=gini, max_depth=8, min_samples_split=4, n_estimators=50;, score=0.496 total time=   7.2s\n",
      "[CV 1/3] END criterion=gini, max_depth=8, min_samples_split=8, n_estimators=20;, score=0.457 total time=   2.8s\n",
      "[CV 2/3] END criterion=gini, max_depth=8, min_samples_split=8, n_estimators=20;, score=0.453 total time=   3.0s\n",
      "[CV 3/3] END criterion=gini, max_depth=8, min_samples_split=8, n_estimators=20;, score=0.481 total time=   2.9s\n",
      "[CV 1/3] END criterion=gini, max_depth=8, min_samples_split=8, n_estimators=30;, score=0.475 total time=   4.2s\n",
      "[CV 2/3] END criterion=gini, max_depth=8, min_samples_split=8, n_estimators=30;, score=0.472 total time=   4.5s\n",
      "[CV 3/3] END criterion=gini, max_depth=8, min_samples_split=8, n_estimators=30;, score=0.508 total time=   4.5s\n",
      "[CV 1/3] END criterion=gini, max_depth=8, min_samples_split=8, n_estimators=50;, score=0.490 total time=   7.6s\n",
      "[CV 2/3] END criterion=gini, max_depth=8, min_samples_split=8, n_estimators=50;, score=0.489 total time=   7.4s\n",
      "[CV 3/3] END criterion=gini, max_depth=8, min_samples_split=8, n_estimators=50;, score=0.511 total time=   7.3s\n",
      "[CV 1/3] END criterion=gini, max_depth=16, min_samples_split=2, n_estimators=20;, score=0.570 total time=   4.8s\n",
      "[CV 2/3] END criterion=gini, max_depth=16, min_samples_split=2, n_estimators=20;, score=0.580 total time=   6.4s\n",
      "[CV 3/3] END criterion=gini, max_depth=16, min_samples_split=2, n_estimators=20;, score=0.572 total time=   4.5s\n",
      "[CV 1/3] END criterion=gini, max_depth=16, min_samples_split=2, n_estimators=30;, score=0.575 total time=   6.7s\n",
      "[CV 2/3] END criterion=gini, max_depth=16, min_samples_split=2, n_estimators=30;, score=0.581 total time=   6.6s\n",
      "[CV 3/3] END criterion=gini, max_depth=16, min_samples_split=2, n_estimators=30;, score=0.575 total time=   7.1s\n",
      "[CV 1/3] END criterion=gini, max_depth=16, min_samples_split=2, n_estimators=50;, score=0.579 total time=  12.0s\n",
      "[CV 2/3] END criterion=gini, max_depth=16, min_samples_split=2, n_estimators=50;, score=0.586 total time=  12.6s\n",
      "[CV 3/3] END criterion=gini, max_depth=16, min_samples_split=2, n_estimators=50;, score=0.577 total time=  13.9s\n",
      "[CV 1/3] END criterion=gini, max_depth=16, min_samples_split=4, n_estimators=20;, score=0.573 total time=   4.5s\n",
      "[CV 2/3] END criterion=gini, max_depth=16, min_samples_split=4, n_estimators=20;, score=0.580 total time=   4.5s\n",
      "[CV 3/3] END criterion=gini, max_depth=16, min_samples_split=4, n_estimators=20;, score=0.574 total time=   4.4s\n",
      "[CV 1/3] END criterion=gini, max_depth=16, min_samples_split=4, n_estimators=30;, score=0.577 total time=   6.5s\n",
      "[CV 2/3] END criterion=gini, max_depth=16, min_samples_split=4, n_estimators=30;, score=0.582 total time=   6.8s\n",
      "[CV 3/3] END criterion=gini, max_depth=16, min_samples_split=4, n_estimators=30;, score=0.575 total time=   6.8s\n",
      "[CV 1/3] END criterion=gini, max_depth=16, min_samples_split=4, n_estimators=50;, score=0.580 total time=  11.6s\n",
      "[CV 2/3] END criterion=gini, max_depth=16, min_samples_split=4, n_estimators=50;, score=0.585 total time=  11.9s\n",
      "[CV 3/3] END criterion=gini, max_depth=16, min_samples_split=4, n_estimators=50;, score=0.576 total time=  11.4s\n",
      "[CV 1/3] END criterion=gini, max_depth=16, min_samples_split=8, n_estimators=20;, score=0.574 total time=   4.3s\n",
      "[CV 2/3] END criterion=gini, max_depth=16, min_samples_split=8, n_estimators=20;, score=0.578 total time=   4.4s\n",
      "[CV 3/3] END criterion=gini, max_depth=16, min_samples_split=8, n_estimators=20;, score=0.572 total time=   4.7s\n",
      "[CV 1/3] END criterion=gini, max_depth=16, min_samples_split=8, n_estimators=30;, score=0.579 total time=   6.9s\n",
      "[CV 2/3] END criterion=gini, max_depth=16, min_samples_split=8, n_estimators=30;, score=0.578 total time=   6.7s\n",
      "[CV 3/3] END criterion=gini, max_depth=16, min_samples_split=8, n_estimators=30;, score=0.576 total time=   6.9s\n",
      "[CV 1/3] END criterion=gini, max_depth=16, min_samples_split=8, n_estimators=50;, score=0.578 total time=  11.9s\n",
      "[CV 2/3] END criterion=gini, max_depth=16, min_samples_split=8, n_estimators=50;, score=0.583 total time=  12.5s\n",
      "[CV 3/3] END criterion=gini, max_depth=16, min_samples_split=8, n_estimators=50;, score=0.576 total time=  11.1s\n",
      "[CV 1/3] END criterion=entropy, max_depth=4, min_samples_split=2, n_estimators=20;, score=0.012 total time=   1.9s\n",
      "[CV 2/3] END criterion=entropy, max_depth=4, min_samples_split=2, n_estimators=20;, score=0.020 total time=   2.0s\n",
      "[CV 3/3] END criterion=entropy, max_depth=4, min_samples_split=2, n_estimators=20;, score=0.026 total time=   2.0s\n",
      "[CV 1/3] END criterion=entropy, max_depth=4, min_samples_split=2, n_estimators=30;, score=0.024 total time=   3.2s\n",
      "[CV 2/3] END criterion=entropy, max_depth=4, min_samples_split=2, n_estimators=30;, score=0.024 total time=   2.9s\n",
      "[CV 3/3] END criterion=entropy, max_depth=4, min_samples_split=2, n_estimators=30;, score=0.027 total time=   2.8s\n",
      "[CV 1/3] END criterion=entropy, max_depth=4, min_samples_split=2, n_estimators=50;, score=0.031 total time=   4.6s\n",
      "[CV 2/3] END criterion=entropy, max_depth=4, min_samples_split=2, n_estimators=50;, score=0.029 total time=   4.8s\n",
      "[CV 3/3] END criterion=entropy, max_depth=4, min_samples_split=2, n_estimators=50;, score=0.035 total time=   4.7s\n",
      "[CV 1/3] END criterion=entropy, max_depth=4, min_samples_split=4, n_estimators=20;, score=0.012 total time=   2.0s\n",
      "[CV 2/3] END criterion=entropy, max_depth=4, min_samples_split=4, n_estimators=20;, score=0.020 total time=   2.1s\n",
      "[CV 3/3] END criterion=entropy, max_depth=4, min_samples_split=4, n_estimators=20;, score=0.026 total time=   2.1s\n",
      "[CV 1/3] END criterion=entropy, max_depth=4, min_samples_split=4, n_estimators=30;, score=0.024 total time=   5.1s\n",
      "[CV 2/3] END criterion=entropy, max_depth=4, min_samples_split=4, n_estimators=30;, score=0.024 total time=   3.2s\n",
      "[CV 3/3] END criterion=entropy, max_depth=4, min_samples_split=4, n_estimators=30;, score=0.027 total time=   2.9s\n",
      "[CV 1/3] END criterion=entropy, max_depth=4, min_samples_split=4, n_estimators=50;, score=0.031 total time=   4.6s\n",
      "[CV 2/3] END criterion=entropy, max_depth=4, min_samples_split=4, n_estimators=50;, score=0.029 total time=   4.7s\n",
      "[CV 3/3] END criterion=entropy, max_depth=4, min_samples_split=4, n_estimators=50;, score=0.035 total time=   5.0s\n",
      "[CV 1/3] END criterion=entropy, max_depth=4, min_samples_split=8, n_estimators=20;, score=0.012 total time=   1.9s\n",
      "[CV 2/3] END criterion=entropy, max_depth=4, min_samples_split=8, n_estimators=20;, score=0.020 total time=   1.9s\n",
      "[CV 3/3] END criterion=entropy, max_depth=4, min_samples_split=8, n_estimators=20;, score=0.026 total time=   1.9s\n",
      "[CV 1/3] END criterion=entropy, max_depth=4, min_samples_split=8, n_estimators=30;, score=0.024 total time=   2.8s\n",
      "[CV 2/3] END criterion=entropy, max_depth=4, min_samples_split=8, n_estimators=30;, score=0.024 total time=   2.8s\n",
      "[CV 3/3] END criterion=entropy, max_depth=4, min_samples_split=8, n_estimators=30;, score=0.027 total time=   2.8s\n",
      "[CV 1/3] END criterion=entropy, max_depth=4, min_samples_split=8, n_estimators=50;, score=0.031 total time=   4.6s\n",
      "[CV 2/3] END criterion=entropy, max_depth=4, min_samples_split=8, n_estimators=50;, score=0.029 total time=   4.7s\n",
      "[CV 3/3] END criterion=entropy, max_depth=4, min_samples_split=8, n_estimators=50;, score=0.035 total time=   5.0s\n",
      "[CV 1/3] END criterion=entropy, max_depth=8, min_samples_split=2, n_estimators=20;, score=0.457 total time=   3.4s\n",
      "[CV 2/3] END criterion=entropy, max_depth=8, min_samples_split=2, n_estimators=20;, score=0.468 total time=   3.3s\n",
      "[CV 3/3] END criterion=entropy, max_depth=8, min_samples_split=2, n_estimators=20;, score=0.483 total time=   3.3s\n",
      "[CV 1/3] END criterion=entropy, max_depth=8, min_samples_split=2, n_estimators=30;, score=0.478 total time=   4.8s\n",
      "[CV 2/3] END criterion=entropy, max_depth=8, min_samples_split=2, n_estimators=30;, score=0.480 total time=   4.8s\n",
      "[CV 3/3] END criterion=entropy, max_depth=8, min_samples_split=2, n_estimators=30;, score=0.480 total time=   4.9s\n",
      "[CV 1/3] END criterion=entropy, max_depth=8, min_samples_split=2, n_estimators=50;, score=0.472 total time=   8.7s\n",
      "[CV 2/3] END criterion=entropy, max_depth=8, min_samples_split=2, n_estimators=50;, score=0.493 total time=   8.0s\n",
      "[CV 3/3] END criterion=entropy, max_depth=8, min_samples_split=2, n_estimators=50;, score=0.484 total time=   8.8s\n",
      "[CV 1/3] END criterion=entropy, max_depth=8, min_samples_split=4, n_estimators=20;, score=0.484 total time=   3.3s\n",
      "[CV 2/3] END criterion=entropy, max_depth=8, min_samples_split=4, n_estimators=20;, score=0.439 total time=   3.2s\n",
      "[CV 3/3] END criterion=entropy, max_depth=8, min_samples_split=4, n_estimators=20;, score=0.467 total time=   3.3s\n",
      "[CV 1/3] END criterion=entropy, max_depth=8, min_samples_split=4, n_estimators=30;, score=0.491 total time=   4.8s\n",
      "[CV 2/3] END criterion=entropy, max_depth=8, min_samples_split=4, n_estimators=30;, score=0.469 total time=   5.0s\n",
      "[CV 3/3] END criterion=entropy, max_depth=8, min_samples_split=4, n_estimators=30;, score=0.484 total time=   5.2s\n",
      "[CV 1/3] END criterion=entropy, max_depth=8, min_samples_split=4, n_estimators=50;, score=0.499 total time=   8.2s\n",
      "[CV 2/3] END criterion=entropy, max_depth=8, min_samples_split=4, n_estimators=50;, score=0.481 total time=   8.5s\n",
      "[CV 3/3] END criterion=entropy, max_depth=8, min_samples_split=4, n_estimators=50;, score=0.484 total time=   8.7s\n",
      "[CV 1/3] END criterion=entropy, max_depth=8, min_samples_split=8, n_estimators=20;, score=0.444 total time=   3.5s\n",
      "[CV 2/3] END criterion=entropy, max_depth=8, min_samples_split=8, n_estimators=20;, score=0.473 total time=   3.4s\n",
      "[CV 3/3] END criterion=entropy, max_depth=8, min_samples_split=8, n_estimators=20;, score=0.470 total time=   3.5s\n",
      "[CV 1/3] END criterion=entropy, max_depth=8, min_samples_split=8, n_estimators=30;, score=0.466 total time=   4.6s\n",
      "[CV 2/3] END criterion=entropy, max_depth=8, min_samples_split=8, n_estimators=30;, score=0.478 total time=   5.0s\n",
      "[CV 3/3] END criterion=entropy, max_depth=8, min_samples_split=8, n_estimators=30;, score=0.478 total time=   4.9s\n",
      "[CV 1/3] END criterion=entropy, max_depth=8, min_samples_split=8, n_estimators=50;, score=0.466 total time=   8.1s\n",
      "[CV 2/3] END criterion=entropy, max_depth=8, min_samples_split=8, n_estimators=50;, score=0.486 total time=   7.9s\n",
      "[CV 3/3] END criterion=entropy, max_depth=8, min_samples_split=8, n_estimators=50;, score=0.486 total time=   8.1s\n",
      "[CV 1/3] END criterion=entropy, max_depth=16, min_samples_split=2, n_estimators=20;, score=0.572 total time=   5.5s\n",
      "[CV 2/3] END criterion=entropy, max_depth=16, min_samples_split=2, n_estimators=20;, score=0.587 total time=   5.4s\n",
      "[CV 3/3] END criterion=entropy, max_depth=16, min_samples_split=2, n_estimators=20;, score=0.571 total time=   5.4s\n",
      "[CV 1/3] END criterion=entropy, max_depth=16, min_samples_split=2, n_estimators=30;, score=0.573 total time=   7.8s\n",
      "[CV 2/3] END criterion=entropy, max_depth=16, min_samples_split=2, n_estimators=30;, score=0.588 total time=   8.0s\n",
      "[CV 3/3] END criterion=entropy, max_depth=16, min_samples_split=2, n_estimators=30;, score=0.575 total time=   8.6s\n",
      "[CV 1/3] END criterion=entropy, max_depth=16, min_samples_split=2, n_estimators=50;, score=0.578 total time=  13.7s\n",
      "[CV 2/3] END criterion=entropy, max_depth=16, min_samples_split=2, n_estimators=50;, score=0.589 total time=  14.3s\n",
      "[CV 3/3] END criterion=entropy, max_depth=16, min_samples_split=2, n_estimators=50;, score=0.577 total time=  13.4s\n",
      "[CV 1/3] END criterion=entropy, max_depth=16, min_samples_split=4, n_estimators=20;, score=0.572 total time=   5.3s\n",
      "[CV 2/3] END criterion=entropy, max_depth=16, min_samples_split=4, n_estimators=20;, score=0.582 total time=   6.2s\n",
      "[CV 3/3] END criterion=entropy, max_depth=16, min_samples_split=4, n_estimators=20;, score=0.568 total time=   5.5s\n",
      "[CV 1/3] END criterion=entropy, max_depth=16, min_samples_split=4, n_estimators=30;, score=0.576 total time=   8.2s\n",
      "[CV 2/3] END criterion=entropy, max_depth=16, min_samples_split=4, n_estimators=30;, score=0.582 total time=   8.1s\n",
      "[CV 3/3] END criterion=entropy, max_depth=16, min_samples_split=4, n_estimators=30;, score=0.573 total time=   7.8s\n",
      "[CV 1/3] END criterion=entropy, max_depth=16, min_samples_split=4, n_estimators=50;, score=0.577 total time=  16.0s\n",
      "[CV 2/3] END criterion=entropy, max_depth=16, min_samples_split=4, n_estimators=50;, score=0.587 total time=  13.3s\n",
      "[CV 3/3] END criterion=entropy, max_depth=16, min_samples_split=4, n_estimators=50;, score=0.576 total time=  13.3s\n",
      "[CV 1/3] END criterion=entropy, max_depth=16, min_samples_split=8, n_estimators=20;, score=0.575 total time=   5.9s\n",
      "[CV 2/3] END criterion=entropy, max_depth=16, min_samples_split=8, n_estimators=20;, score=0.586 total time=   5.1s\n",
      "[CV 3/3] END criterion=entropy, max_depth=16, min_samples_split=8, n_estimators=20;, score=0.571 total time=   5.9s\n",
      "[CV 1/3] END criterion=entropy, max_depth=16, min_samples_split=8, n_estimators=30;, score=0.578 total time=   7.7s\n",
      "[CV 2/3] END criterion=entropy, max_depth=16, min_samples_split=8, n_estimators=30;, score=0.588 total time=  12.4s\n",
      "[CV 3/3] END criterion=entropy, max_depth=16, min_samples_split=8, n_estimators=30;, score=0.573 total time=  10.8s\n",
      "[CV 1/3] END criterion=entropy, max_depth=16, min_samples_split=8, n_estimators=50;, score=0.578 total time=  17.1s\n",
      "[CV 2/3] END criterion=entropy, max_depth=16, min_samples_split=8, n_estimators=50;, score=0.587 total time=  21.2s\n",
      "[CV 3/3] END criterion=entropy, max_depth=16, min_samples_split=8, n_estimators=50;, score=0.575 total time=  13.3s\n"
     ]
    },
    {
     "data": {
      "text/plain": "GridSearchCV(cv=3, estimator=RandomForestClassifier(random_state=42),\n             param_grid={'criterion': ['gini', 'entropy'],\n                         'max_depth': [4, 8, 16],\n                         'min_samples_split': [2, 4, 8],\n                         'n_estimators': [20, 30, 50]},\n             scoring='f1', verbose=3)",
      "text/html": "<style>#sk-container-id-20 {color: black;background-color: white;}#sk-container-id-20 pre{padding: 0;}#sk-container-id-20 div.sk-toggleable {background-color: white;}#sk-container-id-20 label.sk-toggleable__label {cursor: pointer;display: block;width: 100%;margin-bottom: 0;padding: 0.3em;box-sizing: border-box;text-align: center;}#sk-container-id-20 label.sk-toggleable__label-arrow:before {content: \"▸\";float: left;margin-right: 0.25em;color: #696969;}#sk-container-id-20 label.sk-toggleable__label-arrow:hover:before {color: black;}#sk-container-id-20 div.sk-estimator:hover label.sk-toggleable__label-arrow:before {color: black;}#sk-container-id-20 div.sk-toggleable__content {max-height: 0;max-width: 0;overflow: hidden;text-align: left;background-color: #f0f8ff;}#sk-container-id-20 div.sk-toggleable__content pre {margin: 0.2em;color: black;border-radius: 0.25em;background-color: #f0f8ff;}#sk-container-id-20 input.sk-toggleable__control:checked~div.sk-toggleable__content {max-height: 200px;max-width: 100%;overflow: auto;}#sk-container-id-20 input.sk-toggleable__control:checked~label.sk-toggleable__label-arrow:before {content: \"▾\";}#sk-container-id-20 div.sk-estimator input.sk-toggleable__control:checked~label.sk-toggleable__label {background-color: #d4ebff;}#sk-container-id-20 div.sk-label input.sk-toggleable__control:checked~label.sk-toggleable__label {background-color: #d4ebff;}#sk-container-id-20 input.sk-hidden--visually {border: 0;clip: rect(1px 1px 1px 1px);clip: rect(1px, 1px, 1px, 1px);height: 1px;margin: -1px;overflow: hidden;padding: 0;position: absolute;width: 1px;}#sk-container-id-20 div.sk-estimator {font-family: monospace;background-color: #f0f8ff;border: 1px dotted black;border-radius: 0.25em;box-sizing: border-box;margin-bottom: 0.5em;}#sk-container-id-20 div.sk-estimator:hover {background-color: #d4ebff;}#sk-container-id-20 div.sk-parallel-item::after {content: \"\";width: 100%;border-bottom: 1px solid gray;flex-grow: 1;}#sk-container-id-20 div.sk-label:hover label.sk-toggleable__label {background-color: #d4ebff;}#sk-container-id-20 div.sk-serial::before {content: \"\";position: absolute;border-left: 1px solid gray;box-sizing: border-box;top: 0;bottom: 0;left: 50%;z-index: 0;}#sk-container-id-20 div.sk-serial {display: flex;flex-direction: column;align-items: center;background-color: white;padding-right: 0.2em;padding-left: 0.2em;position: relative;}#sk-container-id-20 div.sk-item {position: relative;z-index: 1;}#sk-container-id-20 div.sk-parallel {display: flex;align-items: stretch;justify-content: center;background-color: white;position: relative;}#sk-container-id-20 div.sk-item::before, #sk-container-id-20 div.sk-parallel-item::before {content: \"\";position: absolute;border-left: 1px solid gray;box-sizing: border-box;top: 0;bottom: 0;left: 50%;z-index: -1;}#sk-container-id-20 div.sk-parallel-item {display: flex;flex-direction: column;z-index: 1;position: relative;background-color: white;}#sk-container-id-20 div.sk-parallel-item:first-child::after {align-self: flex-end;width: 50%;}#sk-container-id-20 div.sk-parallel-item:last-child::after {align-self: flex-start;width: 50%;}#sk-container-id-20 div.sk-parallel-item:only-child::after {width: 0;}#sk-container-id-20 div.sk-dashed-wrapped {border: 1px dashed gray;margin: 0 0.4em 0.5em 0.4em;box-sizing: border-box;padding-bottom: 0.4em;background-color: white;}#sk-container-id-20 div.sk-label label {font-family: monospace;font-weight: bold;display: inline-block;line-height: 1.2em;}#sk-container-id-20 div.sk-label-container {text-align: center;}#sk-container-id-20 div.sk-container {/* jupyter's `normalize.less` sets `[hidden] { display: none; }` but bootstrap.min.css set `[hidden] { display: none !important; }` so we also need the `!important` here to be able to override the default hidden behavior on the sphinx rendered scikit-learn.org. See: https://github.com/scikit-learn/scikit-learn/issues/21755 */display: inline-block !important;position: relative;}#sk-container-id-20 div.sk-text-repr-fallback {display: none;}</style><div id=\"sk-container-id-20\" class=\"sk-top-container\"><div class=\"sk-text-repr-fallback\"><pre>GridSearchCV(cv=3, estimator=RandomForestClassifier(random_state=42),\n             param_grid={&#x27;criterion&#x27;: [&#x27;gini&#x27;, &#x27;entropy&#x27;],\n                         &#x27;max_depth&#x27;: [4, 8, 16],\n                         &#x27;min_samples_split&#x27;: [2, 4, 8],\n                         &#x27;n_estimators&#x27;: [20, 30, 50]},\n             scoring=&#x27;f1&#x27;, verbose=3)</pre><b>In a Jupyter environment, please rerun this cell to show the HTML representation or trust the notebook. <br />On GitHub, the HTML representation is unable to render, please try loading this page with nbviewer.org.</b></div><div class=\"sk-container\" hidden><div class=\"sk-item sk-dashed-wrapped\"><div class=\"sk-label-container\"><div class=\"sk-label sk-toggleable\"><input class=\"sk-toggleable__control sk-hidden--visually\" id=\"sk-estimator-id-44\" type=\"checkbox\" ><label for=\"sk-estimator-id-44\" class=\"sk-toggleable__label sk-toggleable__label-arrow\">GridSearchCV</label><div class=\"sk-toggleable__content\"><pre>GridSearchCV(cv=3, estimator=RandomForestClassifier(random_state=42),\n             param_grid={&#x27;criterion&#x27;: [&#x27;gini&#x27;, &#x27;entropy&#x27;],\n                         &#x27;max_depth&#x27;: [4, 8, 16],\n                         &#x27;min_samples_split&#x27;: [2, 4, 8],\n                         &#x27;n_estimators&#x27;: [20, 30, 50]},\n             scoring=&#x27;f1&#x27;, verbose=3)</pre></div></div></div><div class=\"sk-parallel\"><div class=\"sk-parallel-item\"><div class=\"sk-item\"><div class=\"sk-label-container\"><div class=\"sk-label sk-toggleable\"><input class=\"sk-toggleable__control sk-hidden--visually\" id=\"sk-estimator-id-45\" type=\"checkbox\" ><label for=\"sk-estimator-id-45\" class=\"sk-toggleable__label sk-toggleable__label-arrow\">estimator: RandomForestClassifier</label><div class=\"sk-toggleable__content\"><pre>RandomForestClassifier(random_state=42)</pre></div></div></div><div class=\"sk-serial\"><div class=\"sk-item\"><div class=\"sk-estimator sk-toggleable\"><input class=\"sk-toggleable__control sk-hidden--visually\" id=\"sk-estimator-id-46\" type=\"checkbox\" ><label for=\"sk-estimator-id-46\" class=\"sk-toggleable__label sk-toggleable__label-arrow\">RandomForestClassifier</label><div class=\"sk-toggleable__content\"><pre>RandomForestClassifier(random_state=42)</pre></div></div></div></div></div></div></div></div></div></div>"
     },
     "execution_count": 312,
     "metadata": {},
     "output_type": "execute_result"
    }
   ],
   "source": [
    "# grid search\n",
    "\n",
    "param_grid_rf = {'max_depth': [4, 8, 16],\n",
    "              'min_samples_split': [ 2, 4, 8],\n",
    "              'criterion': ['gini', 'entropy'],\n",
    "              'n_estimators': [ 20, 30, 50]\n",
    "}\n",
    "\n",
    "grid_rf = GridSearchCV(RandomForestClassifier(random_state=42), param_grid_rf, cv=3, scoring='f1', verbose =3)\n",
    "grid_rf.fit(X_train, y_train)"
   ],
   "metadata": {
    "collapsed": false
   }
  },
  {
   "cell_type": "code",
   "execution_count": 314,
   "outputs": [
    {
     "data": {
      "text/plain": "{'criterion': 'entropy',\n 'max_depth': 16,\n 'min_samples_split': 2,\n 'n_estimators': 50}"
     },
     "execution_count": 314,
     "metadata": {},
     "output_type": "execute_result"
    }
   ],
   "source": [
    "grid_rf.best_params_"
   ],
   "metadata": {
    "collapsed": false
   }
  },
  {
   "cell_type": "code",
   "execution_count": 315,
   "outputs": [],
   "source": [
    "# train model\n",
    "rf = RandomForestClassifier(random_state=42, max_depth=grid_rf.best_params_['max_depth'], min_samples_split=grid_rf.best_params_['min_samples_split'], criterion=grid_rf.best_params_['criterion'], n_estimators=grid_rf.best_params_['n_estimators'])\n"
   ],
   "metadata": {
    "collapsed": false
   }
  },
  {
   "cell_type": "code",
   "execution_count": 316,
   "outputs": [
    {
     "data": {
      "text/plain": "RandomForestClassifier(criterion='entropy', max_depth=16, n_estimators=50,\n                       random_state=42)",
      "text/html": "<style>#sk-container-id-21 {color: black;background-color: white;}#sk-container-id-21 pre{padding: 0;}#sk-container-id-21 div.sk-toggleable {background-color: white;}#sk-container-id-21 label.sk-toggleable__label {cursor: pointer;display: block;width: 100%;margin-bottom: 0;padding: 0.3em;box-sizing: border-box;text-align: center;}#sk-container-id-21 label.sk-toggleable__label-arrow:before {content: \"▸\";float: left;margin-right: 0.25em;color: #696969;}#sk-container-id-21 label.sk-toggleable__label-arrow:hover:before {color: black;}#sk-container-id-21 div.sk-estimator:hover label.sk-toggleable__label-arrow:before {color: black;}#sk-container-id-21 div.sk-toggleable__content {max-height: 0;max-width: 0;overflow: hidden;text-align: left;background-color: #f0f8ff;}#sk-container-id-21 div.sk-toggleable__content pre {margin: 0.2em;color: black;border-radius: 0.25em;background-color: #f0f8ff;}#sk-container-id-21 input.sk-toggleable__control:checked~div.sk-toggleable__content {max-height: 200px;max-width: 100%;overflow: auto;}#sk-container-id-21 input.sk-toggleable__control:checked~label.sk-toggleable__label-arrow:before {content: \"▾\";}#sk-container-id-21 div.sk-estimator input.sk-toggleable__control:checked~label.sk-toggleable__label {background-color: #d4ebff;}#sk-container-id-21 div.sk-label input.sk-toggleable__control:checked~label.sk-toggleable__label {background-color: #d4ebff;}#sk-container-id-21 input.sk-hidden--visually {border: 0;clip: rect(1px 1px 1px 1px);clip: rect(1px, 1px, 1px, 1px);height: 1px;margin: -1px;overflow: hidden;padding: 0;position: absolute;width: 1px;}#sk-container-id-21 div.sk-estimator {font-family: monospace;background-color: #f0f8ff;border: 1px dotted black;border-radius: 0.25em;box-sizing: border-box;margin-bottom: 0.5em;}#sk-container-id-21 div.sk-estimator:hover {background-color: #d4ebff;}#sk-container-id-21 div.sk-parallel-item::after {content: \"\";width: 100%;border-bottom: 1px solid gray;flex-grow: 1;}#sk-container-id-21 div.sk-label:hover label.sk-toggleable__label {background-color: #d4ebff;}#sk-container-id-21 div.sk-serial::before {content: \"\";position: absolute;border-left: 1px solid gray;box-sizing: border-box;top: 0;bottom: 0;left: 50%;z-index: 0;}#sk-container-id-21 div.sk-serial {display: flex;flex-direction: column;align-items: center;background-color: white;padding-right: 0.2em;padding-left: 0.2em;position: relative;}#sk-container-id-21 div.sk-item {position: relative;z-index: 1;}#sk-container-id-21 div.sk-parallel {display: flex;align-items: stretch;justify-content: center;background-color: white;position: relative;}#sk-container-id-21 div.sk-item::before, #sk-container-id-21 div.sk-parallel-item::before {content: \"\";position: absolute;border-left: 1px solid gray;box-sizing: border-box;top: 0;bottom: 0;left: 50%;z-index: -1;}#sk-container-id-21 div.sk-parallel-item {display: flex;flex-direction: column;z-index: 1;position: relative;background-color: white;}#sk-container-id-21 div.sk-parallel-item:first-child::after {align-self: flex-end;width: 50%;}#sk-container-id-21 div.sk-parallel-item:last-child::after {align-self: flex-start;width: 50%;}#sk-container-id-21 div.sk-parallel-item:only-child::after {width: 0;}#sk-container-id-21 div.sk-dashed-wrapped {border: 1px dashed gray;margin: 0 0.4em 0.5em 0.4em;box-sizing: border-box;padding-bottom: 0.4em;background-color: white;}#sk-container-id-21 div.sk-label label {font-family: monospace;font-weight: bold;display: inline-block;line-height: 1.2em;}#sk-container-id-21 div.sk-label-container {text-align: center;}#sk-container-id-21 div.sk-container {/* jupyter's `normalize.less` sets `[hidden] { display: none; }` but bootstrap.min.css set `[hidden] { display: none !important; }` so we also need the `!important` here to be able to override the default hidden behavior on the sphinx rendered scikit-learn.org. See: https://github.com/scikit-learn/scikit-learn/issues/21755 */display: inline-block !important;position: relative;}#sk-container-id-21 div.sk-text-repr-fallback {display: none;}</style><div id=\"sk-container-id-21\" class=\"sk-top-container\"><div class=\"sk-text-repr-fallback\"><pre>RandomForestClassifier(criterion=&#x27;entropy&#x27;, max_depth=16, n_estimators=50,\n                       random_state=42)</pre><b>In a Jupyter environment, please rerun this cell to show the HTML representation or trust the notebook. <br />On GitHub, the HTML representation is unable to render, please try loading this page with nbviewer.org.</b></div><div class=\"sk-container\" hidden><div class=\"sk-item\"><div class=\"sk-estimator sk-toggleable\"><input class=\"sk-toggleable__control sk-hidden--visually\" id=\"sk-estimator-id-47\" type=\"checkbox\" checked><label for=\"sk-estimator-id-47\" class=\"sk-toggleable__label sk-toggleable__label-arrow\">RandomForestClassifier</label><div class=\"sk-toggleable__content\"><pre>RandomForestClassifier(criterion=&#x27;entropy&#x27;, max_depth=16, n_estimators=50,\n                       random_state=42)</pre></div></div></div></div></div>"
     },
     "execution_count": 316,
     "metadata": {},
     "output_type": "execute_result"
    }
   ],
   "source": [
    "rf.fit(X_train, y_train)\n"
   ],
   "metadata": {
    "collapsed": false
   }
  },
  {
   "cell_type": "code",
   "execution_count": 317,
   "outputs": [
    {
     "name": "stdout",
     "output_type": "stream",
     "text": [
      "Accuracy on training set:  0.8587511606313835\n",
      "confusion_matrix on training set: \n",
      " [[87332  5450]\n",
      " [12805 23653]]\n",
      "Accuracy on validation set:  0.7969359331476323\n",
      "Confusion matrix: \n",
      " [[21158  2191]\n",
      " [ 4370  4591]]\n",
      "Classification report: \n",
      "               precision    recall  f1-score   support\n",
      "\n",
      "       False       0.83      0.91      0.87     23349\n",
      "        True       0.68      0.51      0.58      8961\n",
      "\n",
      "    accuracy                           0.80     32310\n",
      "   macro avg       0.75      0.71      0.72     32310\n",
      "weighted avg       0.79      0.80      0.79     32310\n",
      "\n"
     ]
    }
   ],
   "source": [
    "y_pred = rf.predict(X_test)\n",
    "y_pred_train = rf.predict(X_train)\n",
    "print('Accuracy on training set: ', accuracy_score(y_train, y_pred_train))\n",
    "print('confusion_matrix on training set: \\n', confusion_matrix(y_train, y_pred_train))\n",
    "print('Accuracy on test set: ', accuracy_score(y_test, y_pred))\n",
    "print('Confusion matrix: \\n', confusion_matrix(y_test, y_pred))\n",
    "print('Classification report: \\n', classification_report(y_test, y_pred))\n"
   ],
   "metadata": {
    "collapsed": false
   }
  },
  {
   "cell_type": "code",
   "execution_count": 326,
   "outputs": [
    {
     "data": {
      "text/plain": "<Axes: >"
     },
     "execution_count": 326,
     "metadata": {},
     "output_type": "execute_result"
    },
    {
     "data": {
      "text/plain": "<Figure size 640x480 with 2 Axes>",
      "image/png": "[encoded data removed]"
     },
     "metadata": {},
     "output_type": "display_data"
    }
   ],
   "source": [
    "# plot confusion matrix\n",
    "sns.heatmap(confusion_matrix(y_test, y_pred), annot=True, fmt='d', cmap='Blues')\n"
   ],
   "metadata": {
    "collapsed": false
   }
  },
  {
   "cell_type": "code",
   "execution_count": 325,
   "outputs": [
    {
     "data": {
      "text/plain": "<Figure size 640x480 with 1 Axes>",
      "image/png": "[encoded data removed]"
     },
     "metadata": {},
     "output_type": "display_data"
    }
   ],
   "source": [
    "# roc curve\n",
    "from sklearn.metrics import roc_curve, roc_auc_score\n",
    "y_pred_proba = rf.predict_proba(X_test)[:,1]\n",
    "fpr, tpr, thresholds = roc_curve(y_test, y_pred_proba)\n",
    "plt.plot([0,1], [0,1], 'k--')\n",
    "plt.plot(fpr, tpr)\n",
    "plt.title(f'Random Forest ROC Curve, AUC={ roc_auc_score(y_test, y_pred_proba):.3f}')\n",
    "plt.show()"
   ],
   "metadata": {
    "collapsed": false
   }
  },
  {
   "cell_type": "code",
   "execution_count": 329,
   "outputs": [
    {
     "data": {
      "text/plain": "False    29166\nTrue     29166\nName: isKilled, dtype: int64"
     },
     "execution_count": 329,
     "metadata": {},
     "output_type": "execute_result"
    }
   ],
   "source": [
    "# undersampling\n",
    "X_train, X_val, y_train, y_val = train_test_split(X_train, y_train, test_size=0.2, random_state=42, stratify=y_train)\n",
    "from imblearn.under_sampling import RandomUnderSampler\n",
    "rus = RandomUnderSampler(random_state=42)\n",
    "X_undersampled, y_undersampled = rus.fit_resample(X_train, y_train)\n",
    "y_undersampled.value_counts()\n"
   ],
   "metadata": {
    "collapsed": false
   }
  },
  {
   "cell_type": "code",
   "execution_count": 328,
   "outputs": [
    {
     "ename": "ImportError",
     "evalue": "cannot import name 'GridSearch' from 'sklearn.model_selection' (C:\\Users\\HUAWEI\\AppData\\Local\\Programs\\Python\\Python310\\lib\\site-packages\\sklearn\\model_selection\\__init__.py)",
     "output_type": "error",
     "traceback": [
      "\u001B[1;31m---------------------------------------------------------------------------\u001B[0m",
      "\u001B[1;31mImportError\u001B[0m                               Traceback (most recent call last)",
      "Cell \u001B[1;32mIn[328], line 2\u001B[0m\n\u001B[0;32m      1\u001B[0m \u001B[38;5;66;03m# grid search\u001B[39;00m\n\u001B[1;32m----> 2\u001B[0m \u001B[38;5;28;01mfrom\u001B[39;00m \u001B[38;5;21;01msklearn\u001B[39;00m\u001B[38;5;21;01m.\u001B[39;00m\u001B[38;5;21;01mmodel_selection\u001B[39;00m \u001B[38;5;28;01mimport\u001B[39;00m GridSearch\n\u001B[0;32m      3\u001B[0m param_grid_rf \u001B[38;5;241m=\u001B[39m {\u001B[38;5;124m'\u001B[39m\u001B[38;5;124mmax_depth\u001B[39m\u001B[38;5;124m'\u001B[39m: [\u001B[38;5;241m4\u001B[39m, \u001B[38;5;241m8\u001B[39m, \u001B[38;5;241m16\u001B[39m],\n\u001B[0;32m      4\u001B[0m               \u001B[38;5;124m'\u001B[39m\u001B[38;5;124mmin_samples_split\u001B[39m\u001B[38;5;124m'\u001B[39m: [ \u001B[38;5;241m2\u001B[39m, \u001B[38;5;241m4\u001B[39m, \u001B[38;5;241m8\u001B[39m],\n\u001B[0;32m      5\u001B[0m               \u001B[38;5;124m'\u001B[39m\u001B[38;5;124mcriterion\u001B[39m\u001B[38;5;124m'\u001B[39m: [\u001B[38;5;124m'\u001B[39m\u001B[38;5;124mgini\u001B[39m\u001B[38;5;124m'\u001B[39m, \u001B[38;5;124m'\u001B[39m\u001B[38;5;124mentropy\u001B[39m\u001B[38;5;124m'\u001B[39m],\n\u001B[0;32m      6\u001B[0m               \u001B[38;5;124m'\u001B[39m\u001B[38;5;124mn_estimators\u001B[39m\u001B[38;5;124m'\u001B[39m: [ \u001B[38;5;241m20\u001B[39m, \u001B[38;5;241m30\u001B[39m, \u001B[38;5;241m50\u001B[39m]\n\u001B[0;32m      7\u001B[0m }\n\u001B[0;32m      8\u001B[0m grid_rf_us \u001B[38;5;241m=\u001B[39m GridSearchCV(RandomForestClassifier(random_state\u001B[38;5;241m=\u001B[39m\u001B[38;5;241m42\u001B[39m), param_grid_rf, cv\u001B[38;5;241m=\u001B[39m\u001B[38;5;241m3\u001B[39m, scoring\u001B[38;5;241m=\u001B[39m\u001B[38;5;124m'\u001B[39m\u001B[38;5;124mf1\u001B[39m\u001B[38;5;124m'\u001B[39m, verbose \u001B[38;5;241m=\u001B[39m\u001B[38;5;241m3\u001B[39m)\n",
      "\u001B[1;31mImportError\u001B[0m: cannot import name 'GridSearch' from 'sklearn.model_selection' (C:\\Users\\HUAWEI\\AppData\\Local\\Programs\\Python\\Python310\\lib\\site-packages\\sklearn\\model_selection\\__init__.py)"
     ]
    }
   ],
   "source": [
    "# grid search with hold out set X_val\n",
    "from sklearn.model_selection import GridSearchCV, StratifiedKFold\n",
    "param_grid_rf = {'max_depth': [4, 8, 16],\n",
    "              'min_samples_split': [ 2, 4, 8],\n",
    "              'criterion': ['gini', 'entropy'],\n",
    "              'n_estimators': [ 20, 30, 50]\n",
    "}\n",
    "\n",
    "\n",
    "\n"
   ],
   "metadata": {
    "collapsed": false
   }
  },
  {
   "cell_type": "code",
   "execution_count": 343,
   "outputs": [],
   "source": [
    "from itertools import product\n",
    "\n",
    "def hold_out_gs( X_train, y_train, X_val, y_val, param_grid, model, cv=3, scoring='f1', verbose=1):\n",
    "    \"\"\"\n",
    "    Performs grid search on X_train, y_train, and evaluates the best model on X_val, y_val\n",
    "    \"\"\"\n",
    "    params = list[(product(*param_grid.values()))]\n",
    "    print(params)\n",
    "    best_score = 0\n",
    "    best_params = None\n",
    "    for param in params:\n",
    "        score_fold=np.zeros(cv)\n",
    "        for i in range(cv):\n",
    "            param = dict(zip(param_grid.keys(), param))\n",
    "            model.set_params(**param)\n",
    "            model.fit(X_train, y_train)\n",
    "            y_pred = model.predict(X_val)\n",
    "            score_fold[i] = f1_score(y_val, y_pred)\n",
    "            if verbose:\n",
    "                print(f'params: {param}, score: {score_fold[i]}')\n",
    "        score = score_fold.mean()\n",
    "        if score > best_score:\n",
    "            best_score = score\n",
    "            best_params = param"
   ],
   "metadata": {
    "collapsed": false
   }
  },
  {
   "cell_type": "code",
   "execution_count": 344,
   "outputs": [
    {
     "name": "stdout",
     "output_type": "stream",
     "text": [
      "list[<itertools.product object at 0x000001B1A0F02540>]\n"
     ]
    },
    {
     "ename": "TypeError",
     "evalue": "'types.GenericAlias' object is not iterable",
     "output_type": "error",
     "traceback": [
      "\u001B[1;31m---------------------------------------------------------------------------\u001B[0m",
      "\u001B[1;31mTypeError\u001B[0m                                 Traceback (most recent call last)",
      "Cell \u001B[1;32mIn[344], line 1\u001B[0m\n\u001B[1;32m----> 1\u001B[0m \u001B[43mhold_out_gs\u001B[49m\u001B[43m(\u001B[49m\u001B[43mX_undersampled\u001B[49m\u001B[43m,\u001B[49m\u001B[43m \u001B[49m\u001B[43my_undersampled\u001B[49m\u001B[43m,\u001B[49m\u001B[43m \u001B[49m\u001B[43mX_val\u001B[49m\u001B[43m,\u001B[49m\u001B[43m \u001B[49m\u001B[43my_val\u001B[49m\u001B[43m,\u001B[49m\u001B[43m \u001B[49m\u001B[43mparam_grid_rf\u001B[49m\u001B[43m,\u001B[49m\u001B[43m \u001B[49m\u001B[43mRandomForestClassifier\u001B[49m\u001B[43m(\u001B[49m\u001B[43mrandom_state\u001B[49m\u001B[38;5;241;43m=\u001B[39;49m\u001B[38;5;241;43m42\u001B[39;49m\u001B[43m)\u001B[49m\u001B[43m)\u001B[49m\n",
      "Cell \u001B[1;32mIn[343], line 11\u001B[0m, in \u001B[0;36mhold_out_gs\u001B[1;34m(X_train, y_train, X_val, y_val, param_grid, model, cv, scoring, verbose)\u001B[0m\n\u001B[0;32m      9\u001B[0m best_score \u001B[38;5;241m=\u001B[39m \u001B[38;5;241m0\u001B[39m\n\u001B[0;32m     10\u001B[0m best_params \u001B[38;5;241m=\u001B[39m \u001B[38;5;28;01mNone\u001B[39;00m\n\u001B[1;32m---> 11\u001B[0m \u001B[38;5;28;01mfor\u001B[39;00m param \u001B[38;5;129;01min\u001B[39;00m params:\n\u001B[0;32m     12\u001B[0m     score_fold\u001B[38;5;241m=\u001B[39mnp\u001B[38;5;241m.\u001B[39mzeros(cv)\n\u001B[0;32m     13\u001B[0m     \u001B[38;5;28;01mfor\u001B[39;00m i \u001B[38;5;129;01min\u001B[39;00m \u001B[38;5;28mrange\u001B[39m(cv):\n",
      "\u001B[1;31mTypeError\u001B[0m: 'types.GenericAlias' object is not iterable"
     ]
    }
   ],
   "source": [
    "hold_out_gs(X_undersampled, y_undersampled, X_val, y_val, param_grid_rf, RandomForestClassifier(random_state=42))"
   ],
   "metadata": {
    "collapsed": false
   }
  },
  {
   "cell_type": "code",
   "execution_count": null,
   "outputs": [],
   "source": [],
   "metadata": {
    "collapsed": false
   }
  }
 ],
 "metadata": {
  "kernelspec": {
   "display_name": "Python 3",
   "language": "python",
   "name": "python3"
  },
  "language_info": {
   "codemirror_mode": {
    "name": "ipython",
    "version": 3
   },
   "file_extension": ".py",
   "mimetype": "text/x-python",
   "name": "python",
   "nbconvert_exporter": "python",
   "pygments_lexer": "ipython3",
   "version": "3.12.0"
  }
 },
 "nbformat": 4,
 "nbformat_minor": 0
}
