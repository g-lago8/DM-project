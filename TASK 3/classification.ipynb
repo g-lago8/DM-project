{
 "cells": [
  {
   "cell_type": "code",
   "execution_count": 1,
   "metadata": {
    "collapsed": true
   },
   "outputs": [],
   "source": [
    "# imports\n",
    "import numpy as np\n",
    "import pandas as pd\n",
    "from tqdm import tqdm\n",
    "import matplotlib.pyplot as plt\n",
    "import seaborn as sns\n",
    "import sklearn\n",
    "from sklearn.model_selection import train_test_split\n"
   ]
  },
  {
   "cell_type": "markdown",
   "source": [
    "# With original features"
   ],
   "metadata": {
    "collapsed": false
   }
  },
  {
   "cell_type": "code",
   "execution_count": 2,
   "metadata": {
    "collapsed": false
   },
   "outputs": [],
   "source": [
    "# read data\n",
    "df_incidents = pd.read_csv('../datasets_clean/incidents_clean.csv', index_col=0)"
   ]
  },
  {
   "cell_type": "code",
   "execution_count": 3,
   "metadata": {
    "collapsed": false
   },
   "outputs": [
    {
     "data": {
      "text/html": [
       "<div>\n",
       "<style scoped>\n",
       "    .dataframe tbody tr th:only-of-type {\n",
       "        vertical-align: middle;\n",
       "    }\n",
       "\n",
       "    .dataframe tbody tr th {\n",
       "        vertical-align: top;\n",
       "    }\n",
       "\n",
       "    .dataframe thead th {\n",
       "        text-align: right;\n",
       "    }\n",
       "</style>\n",
       "<table border=\"1\" class=\"dataframe\">\n",
       "  <thead>\n",
       "    <tr style=\"text-align: right;\">\n",
       "      <th></th>\n",
       "      <th>date</th>\n",
       "      <th>state</th>\n",
       "      <th>city_or_county</th>\n",
       "      <th>address</th>\n",
       "      <th>latitude</th>\n",
       "      <th>longitude</th>\n",
       "      <th>congressional_district</th>\n",
       "      <th>avg_age_participants</th>\n",
       "      <th>n_participants_child</th>\n",
       "      <th>n_participants_teen</th>\n",
       "      <th>n_participants_adult</th>\n",
       "      <th>n_males</th>\n",
       "      <th>n_females</th>\n",
       "      <th>n_killed</th>\n",
       "      <th>n_injured</th>\n",
       "      <th>n_arrested</th>\n",
       "      <th>n_unharmed</th>\n",
       "      <th>n_participants</th>\n",
       "      <th>incident_characteristics1</th>\n",
       "      <th>year</th>\n",
       "    </tr>\n",
       "  </thead>\n",
       "  <tbody>\n",
       "    <tr>\n",
       "      <th>0</th>\n",
       "      <td>2015-05-02</td>\n",
       "      <td>Indiana</td>\n",
       "      <td>Indianapolis</td>\n",
       "      <td>Lafayette Road and Pike Plaza</td>\n",
       "      <td>39.8322</td>\n",
       "      <td>-86.2492</td>\n",
       "      <td>7.0</td>\n",
       "      <td>19.0</td>\n",
       "      <td>0.0</td>\n",
       "      <td>0.0</td>\n",
       "      <td>1.0</td>\n",
       "      <td>1.0</td>\n",
       "      <td>0.0</td>\n",
       "      <td>0</td>\n",
       "      <td>1</td>\n",
       "      <td>0.0</td>\n",
       "      <td>0.0</td>\n",
       "      <td>1.0</td>\n",
       "      <td>Shot - Wounded/Injured</td>\n",
       "      <td>2015.0</td>\n",
       "    </tr>\n",
       "    <tr>\n",
       "      <th>1</th>\n",
       "      <td>2017-04-03</td>\n",
       "      <td>Pennsylvania</td>\n",
       "      <td>Kane</td>\n",
       "      <td>5647 US 6</td>\n",
       "      <td>41.6645</td>\n",
       "      <td>-78.7856</td>\n",
       "      <td>5.0</td>\n",
       "      <td>62.0</td>\n",
       "      <td>0.0</td>\n",
       "      <td>0.0</td>\n",
       "      <td>1.0</td>\n",
       "      <td>1.0</td>\n",
       "      <td>0.0</td>\n",
       "      <td>1</td>\n",
       "      <td>0</td>\n",
       "      <td>0.0</td>\n",
       "      <td>0.0</td>\n",
       "      <td>1.0</td>\n",
       "      <td>Shot - Dead (murder, accidental, suicide)</td>\n",
       "      <td>2017.0</td>\n",
       "    </tr>\n",
       "    <tr>\n",
       "      <th>3</th>\n",
       "      <td>2016-10-15</td>\n",
       "      <td>District of Columbia</td>\n",
       "      <td>Washington</td>\n",
       "      <td>1000 block of Bladensburg Road, NE</td>\n",
       "      <td>38.9030</td>\n",
       "      <td>-76.9820</td>\n",
       "      <td>1.0</td>\n",
       "      <td>26.0</td>\n",
       "      <td>0.0</td>\n",
       "      <td>0.0</td>\n",
       "      <td>1.0</td>\n",
       "      <td>1.0</td>\n",
       "      <td>0.0</td>\n",
       "      <td>0</td>\n",
       "      <td>1</td>\n",
       "      <td>0.0</td>\n",
       "      <td>0.0</td>\n",
       "      <td>2.0</td>\n",
       "      <td>Shot - Wounded/Injured</td>\n",
       "      <td>2016.0</td>\n",
       "    </tr>\n",
       "    <tr>\n",
       "      <th>5</th>\n",
       "      <td>2014-01-18</td>\n",
       "      <td>North Carolina</td>\n",
       "      <td>Wayne County</td>\n",
       "      <td>4700 block of U.S. Highway 70 East</td>\n",
       "      <td>35.1847</td>\n",
       "      <td>-77.9527</td>\n",
       "      <td>13.0</td>\n",
       "      <td>65.0</td>\n",
       "      <td>0.0</td>\n",
       "      <td>0.0</td>\n",
       "      <td>1.0</td>\n",
       "      <td>1.0</td>\n",
       "      <td>0.0</td>\n",
       "      <td>0</td>\n",
       "      <td>1</td>\n",
       "      <td>0.0</td>\n",
       "      <td>0.0</td>\n",
       "      <td>1.0</td>\n",
       "      <td>Shot - Wounded/Injured</td>\n",
       "      <td>2014.0</td>\n",
       "    </tr>\n",
       "    <tr>\n",
       "      <th>6</th>\n",
       "      <td>2018-01-25</td>\n",
       "      <td>Louisiana</td>\n",
       "      <td>Zachary</td>\n",
       "      <td>18733 Samuels Rd</td>\n",
       "      <td>30.6069</td>\n",
       "      <td>-91.2270</td>\n",
       "      <td>6.0</td>\n",
       "      <td>26.0</td>\n",
       "      <td>0.0</td>\n",
       "      <td>0.0</td>\n",
       "      <td>5.0</td>\n",
       "      <td>5.0</td>\n",
       "      <td>0.0</td>\n",
       "      <td>2</td>\n",
       "      <td>1</td>\n",
       "      <td>2.0</td>\n",
       "      <td>0.0</td>\n",
       "      <td>5.0</td>\n",
       "      <td>Shot - Wounded/Injured</td>\n",
       "      <td>2018.0</td>\n",
       "    </tr>\n",
       "  </tbody>\n",
       "</table>\n",
       "</div>"
      ],
      "text/plain": [
       "         date                 state city_or_county  \\\n",
       "0  2015-05-02               Indiana   Indianapolis   \n",
       "1  2017-04-03          Pennsylvania           Kane   \n",
       "3  2016-10-15  District of Columbia     Washington   \n",
       "5  2014-01-18        North Carolina   Wayne County   \n",
       "6  2018-01-25             Louisiana        Zachary   \n",
       "\n",
       "                              address  latitude  longitude  \\\n",
       "0       Lafayette Road and Pike Plaza   39.8322   -86.2492   \n",
       "1                           5647 US 6   41.6645   -78.7856   \n",
       "3  1000 block of Bladensburg Road, NE   38.9030   -76.9820   \n",
       "5  4700 block of U.S. Highway 70 East   35.1847   -77.9527   \n",
       "6                    18733 Samuels Rd   30.6069   -91.2270   \n",
       "\n",
       "   congressional_district  avg_age_participants  n_participants_child  \\\n",
       "0                     7.0                  19.0                   0.0   \n",
       "1                     5.0                  62.0                   0.0   \n",
       "3                     1.0                  26.0                   0.0   \n",
       "5                    13.0                  65.0                   0.0   \n",
       "6                     6.0                  26.0                   0.0   \n",
       "\n",
       "   n_participants_teen  n_participants_adult  n_males  n_females  n_killed  \\\n",
       "0                  0.0                   1.0      1.0        0.0         0   \n",
       "1                  0.0                   1.0      1.0        0.0         1   \n",
       "3                  0.0                   1.0      1.0        0.0         0   \n",
       "5                  0.0                   1.0      1.0        0.0         0   \n",
       "6                  0.0                   5.0      5.0        0.0         2   \n",
       "\n",
       "   n_injured  n_arrested  n_unharmed  n_participants  \\\n",
       "0          1         0.0         0.0             1.0   \n",
       "1          0         0.0         0.0             1.0   \n",
       "3          1         0.0         0.0             2.0   \n",
       "5          1         0.0         0.0             1.0   \n",
       "6          1         2.0         0.0             5.0   \n",
       "\n",
       "                   incident_characteristics1    year  \n",
       "0                     Shot - Wounded/Injured  2015.0  \n",
       "1  Shot - Dead (murder, accidental, suicide)  2017.0  \n",
       "3                     Shot - Wounded/Injured  2016.0  \n",
       "5                     Shot - Wounded/Injured  2014.0  \n",
       "6                     Shot - Wounded/Injured  2018.0  "
      ]
     },
     "execution_count": 3,
     "metadata": {},
     "output_type": "execute_result"
    }
   ],
   "source": [
    "df_incidents.head()"
   ]
  },
  {
   "cell_type": "code",
   "execution_count": 4,
   "metadata": {
    "collapsed": false
   },
   "outputs": [
    {
     "name": "stdout",
     "output_type": "stream",
     "text": [
      "<class 'pandas.core.frame.DataFrame'>\n",
      "Index: 174421 entries, 0 to 239311\n",
      "Data columns (total 20 columns):\n",
      " #   Column                     Non-Null Count   Dtype  \n",
      "---  ------                     --------------   -----  \n",
      " 0   date                       174421 non-null  object \n",
      " 1   state                      174421 non-null  object \n",
      " 2   city_or_county             174421 non-null  object \n",
      " 3   address                    162143 non-null  object \n",
      " 4   latitude                   174421 non-null  float64\n",
      " 5   longitude                  174421 non-null  float64\n",
      " 6   congressional_district     164507 non-null  float64\n",
      " 7   avg_age_participants       174421 non-null  float64\n",
      " 8   n_participants_child       174421 non-null  float64\n",
      " 9   n_participants_teen        174421 non-null  float64\n",
      " 10  n_participants_adult       174421 non-null  float64\n",
      " 11  n_males                    174421 non-null  float64\n",
      " 12  n_females                  174421 non-null  float64\n",
      " 13  n_killed                   174421 non-null  int64  \n",
      " 14  n_injured                  174421 non-null  int64  \n",
      " 15  n_arrested                 174421 non-null  float64\n",
      " 16  n_unharmed                 174421 non-null  float64\n",
      " 17  n_participants             174421 non-null  float64\n",
      " 18  incident_characteristics1  174421 non-null  object \n",
      " 19  year                       174421 non-null  float64\n",
      "dtypes: float64(13), int64(2), object(5)\n",
      "memory usage: 27.9+ MB\n"
     ]
    }
   ],
   "source": [
    "df_incidents.info()"
   ]
  },
  {
   "cell_type": "code",
   "execution_count": 5,
   "metadata": {
    "collapsed": false
   },
   "outputs": [],
   "source": [
    "df_incidents['isKilled'] = df_incidents['n_killed'] > 0"
   ]
  },
  {
   "cell_type": "code",
   "execution_count": 6,
   "metadata": {
    "collapsed": false
   },
   "outputs": [
    {
     "data": {
      "text/plain": [
       "<Axes: title={'center': 'Percentage of incidents with killed people'}, ylabel='count'>"
      ]
     },
     "execution_count": 6,
     "metadata": {},
     "output_type": "execute_result"
    },
    {
     "data": {
      "image/png": "[encoded data removed]",
      "text/plain": [
       "<Figure size 640x480 with 1 Axes>"
      ]
     },
     "metadata": {},
     "output_type": "display_data"
    }
   ],
   "source": [
    "#pie chart\n",
    "df_incidents['isKilled'].value_counts().plot.pie(autopct='%1.1f%%', startangle=90, title = 'Percentage of incidents with killed people')"
   ]
  },
  {
   "cell_type": "markdown",
   "metadata": {
    "collapsed": false
   },
   "source": [
    "## Extracting features"
   ]
  },
  {
   "cell_type": "code",
   "execution_count": 7,
   "metadata": {
    "collapsed": false
   },
   "outputs": [],
   "source": [
    "cols2drop =['date', 'year', 'state', 'city_or_county', 'n_killed', 'incident_characteristics1', 'congressional_district', 'address']\n",
    "df_incidents = df_incidents.drop(cols2drop, axis=1)"
   ]
  },
  {
   "cell_type": "code",
   "execution_count": 8,
   "metadata": {
    "collapsed": false
   },
   "outputs": [
    {
     "name": "stdout",
     "output_type": "stream",
     "text": [
      "<class 'pandas.core.frame.DataFrame'>\n",
      "Index: 174421 entries, 0 to 239311\n",
      "Data columns (total 13 columns):\n",
      " #   Column                Non-Null Count   Dtype  \n",
      "---  ------                --------------   -----  \n",
      " 0   latitude              174421 non-null  float64\n",
      " 1   longitude             174421 non-null  float64\n",
      " 2   avg_age_participants  174421 non-null  float64\n",
      " 3   n_participants_child  174421 non-null  float64\n",
      " 4   n_participants_teen   174421 non-null  float64\n",
      " 5   n_participants_adult  174421 non-null  float64\n",
      " 6   n_males               174421 non-null  float64\n",
      " 7   n_females             174421 non-null  float64\n",
      " 8   n_injured             174421 non-null  int64  \n",
      " 9   n_arrested            174421 non-null  float64\n",
      " 10  n_unharmed            174421 non-null  float64\n",
      " 11  n_participants        174421 non-null  float64\n",
      " 12  isKilled              174421 non-null  bool   \n",
      "dtypes: bool(1), float64(11), int64(1)\n",
      "memory usage: 17.5 MB\n"
     ]
    }
   ],
   "source": [
    "df_incidents.info()"
   ]
  },
  {
   "cell_type": "markdown",
   "metadata": {
    "collapsed": false
   },
   "source": [
    "## K-nearest neighbors"
   ]
  },
  {
   "cell_type": "code",
   "execution_count": 3,
   "metadata": {
    "collapsed": false
   },
   "outputs": [],
   "source": [
    "from sklearn.neighbors import KNeighborsClassifier\n",
    "from sklearn.model_selection import train_test_split\n",
    "from sklearn.metrics import accuracy_score\n",
    "from sklearn.metrics import confusion_matrix\n",
    "from sklearn.metrics import classification_report"
   ]
  },
  {
   "cell_type": "markdown",
   "metadata": {
    "collapsed": false
   },
   "source": [
    "We split the data first into development and test set, then we split again the development set into training and validation set. We use the training set to train the model and the validation set to evaluate the model. We use the test set to evaluate the model on unseen data.\n",
    "We used a ratio of 70% development set and 30% test set.\n",
    "Then we used a ratio of 75% training set and 25% validation set."
   ]
  },
  {
   "cell_type": "code",
   "execution_count": 10,
   "metadata": {
    "collapsed": false
   },
   "outputs": [
    {
     "name": "stdout",
     "output_type": "stream",
     "text": [
      " # X_train:  111192\n",
      " # X_val :  37065\n",
      " # X_test :  26164\n",
      "% killed in train set:  0.28671127419238795\n",
      "% killed in val set:  0.28700930797248075\n",
      "% killed in test set:  0.28898486469958723\n"
     ]
    }
   ],
   "source": [
    "# split data\n",
    "X = df_incidents.drop('isKilled', axis=1)\n",
    "y = df_incidents['isKilled']\n",
    "X_dev, X_test, y_dev, y_test = train_test_split(X, y, test_size=0.15, random_state=42)\n",
    "X_train, X_val, y_train, y_val = train_test_split(X_dev, y_dev, test_size=0.25, random_state=42)\n",
    "print(' # X_train: ', X_train.shape[0])\n",
    "print(' # X_val : ', X_val.shape[0])\n",
    "print(' # X_test : ', X_test.shape[0])\n",
    "print(\"% killed in train set: \", y_train.sum()/y_train.shape[0])\n",
    "print(\"% killed in val set: \", y_val.sum()/y_val.shape[0])\n",
    "print(\"% killed in test set: \", y_test.sum()/y_test.shape[0])\n"
   ]
  },
  {
   "cell_type": "code",
   "execution_count": 11,
   "metadata": {
    "collapsed": false
   },
   "outputs": [
    {
     "ename": "NameError",
     "evalue": "name 'X_train' is not defined",
     "output_type": "error",
     "traceback": [
      "\u001B[1;31m---------------------------------------------------------------------------\u001B[0m",
      "\u001B[1;31mNameError\u001B[0m                                 Traceback (most recent call last)",
      "Cell \u001B[1;32mIn[11], line 4\u001B[0m\n\u001B[0;32m      2\u001B[0m \u001B[38;5;28;01mfrom\u001B[39;00m \u001B[38;5;21;01msklearn\u001B[39;00m\u001B[38;5;21;01m.\u001B[39;00m\u001B[38;5;21;01mpreprocessing\u001B[39;00m \u001B[38;5;28;01mimport\u001B[39;00m StandardScaler\n\u001B[0;32m      3\u001B[0m scaler \u001B[38;5;241m=\u001B[39m StandardScaler()\n\u001B[1;32m----> 4\u001B[0m X_train \u001B[38;5;241m=\u001B[39m scaler\u001B[38;5;241m.\u001B[39mfit_transform(\u001B[43mX_train\u001B[49m)\n\u001B[0;32m      5\u001B[0m X_val \u001B[38;5;241m=\u001B[39m scaler\u001B[38;5;241m.\u001B[39mtransform(X_val)\n\u001B[0;32m      6\u001B[0m X_test \u001B[38;5;241m=\u001B[39m scaler\u001B[38;5;241m.\u001B[39mtransform(X_test)\n",
      "\u001B[1;31mNameError\u001B[0m: name 'X_train' is not defined"
     ]
    }
   ],
   "source": [
    "# standardize data\n",
    "from sklearn.preprocessing import StandardScaler\n",
    "scaler = StandardScaler()\n",
    "X_train = scaler.fit_transform(X_train)\n",
    "X_val = scaler.transform(X_val)\n",
    "X_test = scaler.transform(X_test)\n"
   ]
  },
  {
   "cell_type": "code",
   "execution_count": 12,
   "metadata": {
    "collapsed": false
   },
   "outputs": [
    {
     "name": "stdout",
     "output_type": "stream",
     "text": [
      " # X_train_balanced:  63760\n",
      " # y_train_balanced:  63760\n",
      "% killed in train set:  0.5\n"
     ]
    }
   ],
   "source": [
    "X_train_balanced = np.concatenate((X_train[y_train==1], X_train[y_train==0][:X_train[y_train==1].shape[0]]))\n",
    "y_train_balanced = np.concatenate((y_train[y_train==1], y_train[y_train==0][:y_train[y_train==1].shape[0]]))\n",
    "print(' # X_train_balanced: ', X_train_balanced.shape[0])\n",
    "print(' # y_train_balanced: ', y_train_balanced.shape[0])\n",
    "print(\"% killed in train set: \", y_train_balanced.sum()/y_train_balanced.shape[0])"
   ]
  },
  {
   "cell_type": "code",
   "execution_count": null,
   "metadata": {
    "collapsed": false
   },
   "outputs": [],
   "source": []
  },
  {
   "cell_type": "code",
   "execution_count": 13,
   "metadata": {
    "collapsed": false
   },
   "outputs": [
    {
     "name": "stderr",
     "output_type": "stream",
     "text": [
      "  0%|          | 0/9 [00:00<?, ?it/s]"
     ]
    },
    {
     "name": "stderr",
     "output_type": "stream",
     "text": [
      "100%|██████████| 9/9 [21:38<00:00, 144.23s/it]\n"
     ]
    }
   ],
   "source": [
    "# train model\n",
    "accuracy_scores = []\n",
    "for i in tqdm(range(1, 10)):\n",
    "    knn = KNeighborsClassifier(n_neighbors=i)\n",
    "    knn.fit(X_train, y_train)\n",
    "    y_pred = knn.predict(X_val)\n",
    "    accuracy_scores.append(accuracy_score(y_val, y_pred))"
   ]
  },
  {
   "cell_type": "code",
   "execution_count": 14,
   "metadata": {
    "collapsed": false
   },
   "outputs": [
    {
     "data": {
      "image/png": "[encoded data removed]",
      "text/plain": [
       "<Figure size 640x480 with 1 Axes>"
      ]
     },
     "metadata": {},
     "output_type": "display_data"
    }
   ],
   "source": [
    "plt.plot(range(1, 10), accuracy_scores)\n",
    "plt.xlabel('k')\n",
    "plt.ylabel('accuracy')\n",
    "plt.title('Accuracy for different k values')\n",
    "plt.show()"
   ]
  },
  {
   "cell_type": "code",
   "execution_count": 15,
   "metadata": {
    "collapsed": false
   },
   "outputs": [
    {
     "ename": "KeyboardInterrupt",
     "evalue": "",
     "output_type": "error",
     "traceback": [
      "\u001B[1;31m---------------------------------------------------------------------------\u001B[0m",
      "\u001B[1;31mKeyboardInterrupt\u001B[0m                         Traceback (most recent call last)",
      "Cell \u001B[1;32mIn[15], line 4\u001B[0m\n\u001B[0;32m      2\u001B[0m X_dev \u001B[38;5;241m=\u001B[39m scaler\u001B[38;5;241m.\u001B[39mfit_transform(X_dev)\n\u001B[0;32m      3\u001B[0m knn \u001B[38;5;241m=\u001B[39m KNeighborsClassifier(n_neighbors\u001B[38;5;241m=\u001B[39m\u001B[38;5;241m3\u001B[39m)\n\u001B[1;32m----> 4\u001B[0m \u001B[43mknn\u001B[49m\u001B[38;5;241;43m.\u001B[39;49m\u001B[43mfit\u001B[49m\u001B[43m(\u001B[49m\u001B[43mX_dev\u001B[49m\u001B[43m,\u001B[49m\u001B[43m \u001B[49m\u001B[43my_dev\u001B[49m\u001B[43m)\u001B[49m\n\u001B[0;32m      5\u001B[0m \u001B[38;5;28mprint\u001B[39m(\u001B[38;5;124m'\u001B[39m\u001B[38;5;124mended fit\u001B[39m\u001B[38;5;124m'\u001B[39m)\n\u001B[0;32m      6\u001B[0m y_pred \u001B[38;5;241m=\u001B[39m knn\u001B[38;5;241m.\u001B[39mpredict(X_test)\n",
      "File \u001B[1;32md:\\Python\\Lib\\site-packages\\sklearn\\base.py:1147\u001B[0m, in \u001B[0;36m_fit_context.<locals>.decorator.<locals>.wrapper\u001B[1;34m(estimator, *args, **kwargs)\u001B[0m\n\u001B[0;32m   1144\u001B[0m \u001B[38;5;28;01mif\u001B[39;00m \u001B[38;5;129;01mnot\u001B[39;00m global_skip_validation \u001B[38;5;129;01mand\u001B[39;00m \u001B[38;5;129;01mnot\u001B[39;00m partial_fit_and_fitted:\n\u001B[0;32m   1145\u001B[0m     estimator\u001B[38;5;241m.\u001B[39m_validate_params()\n\u001B[1;32m-> 1147\u001B[0m \u001B[43m\u001B[49m\u001B[38;5;28;43;01mwith\u001B[39;49;00m\u001B[43m \u001B[49m\u001B[43mconfig_context\u001B[49m\u001B[43m(\u001B[49m\n\u001B[0;32m   1148\u001B[0m \u001B[43m    \u001B[49m\u001B[43mskip_parameter_validation\u001B[49m\u001B[38;5;241;43m=\u001B[39;49m\u001B[43m(\u001B[49m\n\u001B[0;32m   1149\u001B[0m \u001B[43m        \u001B[49m\u001B[43mprefer_skip_nested_validation\u001B[49m\u001B[43m \u001B[49m\u001B[38;5;129;43;01mor\u001B[39;49;00m\u001B[43m \u001B[49m\u001B[43mglobal_skip_validation\u001B[49m\n\u001B[0;32m   1150\u001B[0m \u001B[43m    \u001B[49m\u001B[43m)\u001B[49m\n\u001B[0;32m   1151\u001B[0m \u001B[43m\u001B[49m\u001B[43m)\u001B[49m\u001B[43m:\u001B[49m\n\u001B[0;32m   1152\u001B[0m \u001B[43m    \u001B[49m\u001B[38;5;28;43;01mreturn\u001B[39;49;00m\u001B[43m \u001B[49m\u001B[43mfit_method\u001B[49m\u001B[43m(\u001B[49m\u001B[43mestimator\u001B[49m\u001B[43m,\u001B[49m\u001B[43m \u001B[49m\u001B[38;5;241;43m*\u001B[39;49m\u001B[43margs\u001B[49m\u001B[43m,\u001B[49m\u001B[43m \u001B[49m\u001B[38;5;241;43m*\u001B[39;49m\u001B[38;5;241;43m*\u001B[39;49m\u001B[43mkwargs\u001B[49m\u001B[43m)\u001B[49m\n",
      "File \u001B[1;32md:\\Python\\Lib\\contextlib.py:141\u001B[0m, in \u001B[0;36m_GeneratorContextManager.__exit__\u001B[1;34m(self, typ, value, traceback)\u001B[0m\n\u001B[0;32m    138\u001B[0m     \u001B[38;5;28;01mexcept\u001B[39;00m \u001B[38;5;167;01mStopIteration\u001B[39;00m:\n\u001B[0;32m    139\u001B[0m         \u001B[38;5;28;01mraise\u001B[39;00m \u001B[38;5;167;01mRuntimeError\u001B[39;00m(\u001B[38;5;124m\"\u001B[39m\u001B[38;5;124mgenerator didn\u001B[39m\u001B[38;5;124m'\u001B[39m\u001B[38;5;124mt yield\u001B[39m\u001B[38;5;124m\"\u001B[39m) \u001B[38;5;28;01mfrom\u001B[39;00m \u001B[38;5;28;01mNone\u001B[39;00m\n\u001B[1;32m--> 141\u001B[0m \u001B[38;5;28;01mdef\u001B[39;00m \u001B[38;5;21m__exit__\u001B[39m(\u001B[38;5;28mself\u001B[39m, typ, value, traceback):\n\u001B[0;32m    142\u001B[0m     \u001B[38;5;28;01mif\u001B[39;00m typ \u001B[38;5;129;01mis\u001B[39;00m \u001B[38;5;28;01mNone\u001B[39;00m:\n\u001B[0;32m    143\u001B[0m         \u001B[38;5;28;01mtry\u001B[39;00m:\n",
      "\u001B[1;31mKeyboardInterrupt\u001B[0m: "
     ]
    }
   ],
   "source": [
    "# train again with best k on whole dev set\n",
    "X_dev = scaler.fit_transform(X_dev)\n",
    "knn = KNeighborsClassifier(n_neighbors=3)\n",
    "knn.fit(X_dev, y_dev)\n",
    "print('ended fit')\n",
    "y_pred = knn.predict(X_test)\n",
    "print('Accuracy on test set: ', accuracy_score(y_test, y_pred))\n",
    "print('Confusion matrix: \\n', confusion_matrix(y_test, y_pred))\n",
    "print('Classification report: \\n', classification_report(y_test, y_pred))"
   ]
  },
  {
   "cell_type": "markdown",
   "metadata": {
    "collapsed": false
   },
   "source": [
    "## Logistic regression"
   ]
  },
  {
   "cell_type": "code",
   "execution_count": 14,
   "metadata": {
    "collapsed": false
   },
   "outputs": [],
   "source": [
    "from sklearn.linear_model import LogisticRegression\n"
   ]
  },
  {
   "cell_type": "code",
   "execution_count": 17,
   "metadata": {
    "collapsed": false
   },
   "outputs": [
    {
     "name": "stderr",
     "output_type": "stream",
     "text": [
      "d:\\Python\\Lib\\site-packages\\sklearn\\linear_model\\_logistic.py:1183: FutureWarning: `penalty='none'`has been deprecated in 1.2 and will be removed in 1.4. To keep the past behaviour, set `penalty=None`.\n",
      "  warnings.warn(\n"
     ]
    },
    {
     "name": "stdout",
     "output_type": "stream",
     "text": [
      "Accuracy on training set:  0.9805207026348808\n",
      "confusion_matrix on training set: \n",
      " [[31082   798]\n",
      " [  444 31436]]\n",
      "Accuracy on validation set:  0.9774180493727236\n",
      "Confusion matrix: \n",
      " [[25756   671]\n",
      " [  166 10472]]\n",
      "Classification report: \n",
      "               precision    recall  f1-score   support\n",
      "\n",
      "       False       0.99      0.97      0.98     26427\n",
      "        True       0.94      0.98      0.96     10638\n",
      "\n",
      "    accuracy                           0.98     37065\n",
      "   macro avg       0.97      0.98      0.97     37065\n",
      "weighted avg       0.98      0.98      0.98     37065\n",
      "\n"
     ]
    }
   ],
   "source": [
    "# train model\n",
    "logreg = LogisticRegression('none')\n",
    "logreg_model = logreg.fit(X_train_balanced, y_train_balanced)\n",
    "y_pred = logreg.predict(X_val)\n",
    "y_pred_train = logreg.predict(X_train_balanced)\n",
    "print('Accuracy on training set: ', accuracy_score(y_train_balanced, y_pred_train))\n",
    "print('confusion_matrix on training set: \\n', confusion_matrix(y_train_balanced, y_pred_train))\n",
    "print('Accuracy on validation set: ', accuracy_score(y_val, y_pred))\n",
    "print('Confusion matrix: \\n', confusion_matrix(y_val, y_pred))\n",
    "print('Classification report: \\n', classification_report(y_val, y_pred))"
   ]
  },
  {
   "cell_type": "code",
   "execution_count": 18,
   "metadata": {
    "collapsed": false
   },
   "outputs": [
    {
     "ename": "ImportError",
     "evalue": "cannot import name 'plot_confusion_matrix' from 'sklearn.metrics' (d:\\Python\\Lib\\site-packages\\sklearn\\metrics\\__init__.py)",
     "output_type": "error",
     "traceback": [
      "\u001B[1;31m---------------------------------------------------------------------------\u001B[0m",
      "\u001B[1;31mImportError\u001B[0m                               Traceback (most recent call last)",
      "Cell \u001B[1;32mIn[18], line 2\u001B[0m\n\u001B[0;32m      1\u001B[0m \u001B[38;5;66;03m# plot confusion matrix\u001B[39;00m\n\u001B[1;32m----> 2\u001B[0m \u001B[38;5;28;01mfrom\u001B[39;00m \u001B[38;5;21;01msklearn\u001B[39;00m\u001B[38;5;21;01m.\u001B[39;00m\u001B[38;5;21;01mmetrics\u001B[39;00m \u001B[38;5;28;01mimport\u001B[39;00m plot_confusion_matrix\n\u001B[0;32m      3\u001B[0m plot_confusion_matrix(logreg_model, X_val, y_val, cmap\u001B[38;5;241m=\u001B[39mplt\u001B[38;5;241m.\u001B[39mcm\u001B[38;5;241m.\u001B[39mBlues)\n\u001B[0;32m      4\u001B[0m plt\u001B[38;5;241m.\u001B[39mshow()\n",
      "\u001B[1;31mImportError\u001B[0m: cannot import name 'plot_confusion_matrix' from 'sklearn.metrics' (d:\\Python\\Lib\\site-packages\\sklearn\\metrics\\__init__.py)"
     ]
    }
   ],
   "source": [
    "# plot confusion matrix\n",
    "from sklearn.metrics import plot_confusion_matrix\n",
    "plot_confusion_matrix(logreg_model, X_val, y_val, cmap=plt.cm.Blues)\n",
    "plt.show()"
   ]
  },
  {
   "cell_type": "code",
   "execution_count": 19,
   "metadata": {
    "collapsed": false
   },
   "outputs": [
    {
     "name": "stdout",
     "output_type": "stream",
     "text": [
      "Feature weights: \n",
      " [[-0.18385853 -0.10369904  0.1177874   0.16865053  0.51424418  1.28627031\n",
      "   0.81813529  0.2477195  -5.90679017 -6.66275363 -6.9126678   7.29308995]]\n"
     ]
    }
   ],
   "source": [
    "# print weights of model\n",
    "print('Feature weights: \\n', logreg_model.coef_)"
   ]
  },
  {
   "cell_type": "markdown",
   "metadata": {
    "collapsed": false
   },
   "source": [
    "We noticed that the last four weights are very big.\n",
    "Those weights correspond to the features 'n_injured', 'n_unharmed', 'n_arrested' and 'n_participants'.\n",
    "The model is learning to predict the target variable subtracting the first three feature from 'n_participants'.\n",
    "We can argue that if the number of killed is unknown, the number of injured,  is also unknown.\n"
   ]
  },
  {
   "cell_type": "markdown",
   "metadata": {
    "collapsed": false
   },
   "source": [
    "## Logistic regression with less features"
   ]
  },
  {
   "cell_type": "code",
   "execution_count": 20,
   "metadata": {
    "collapsed": false
   },
   "outputs": [],
   "source": [
    "more_cols2drop=['n_injured', 'n_unharmed', 'n_arrested']"
   ]
  },
  {
   "cell_type": "code",
   "execution_count": 21,
   "metadata": {
    "collapsed": false
   },
   "outputs": [],
   "source": [
    "df_incidents = df_incidents.drop(more_cols2drop, axis=1)\n"
   ]
  },
  {
   "cell_type": "code",
   "execution_count": 22,
   "metadata": {
    "collapsed": false
   },
   "outputs": [
    {
     "name": "stdout",
     "output_type": "stream",
     "text": [
      "<class 'pandas.core.frame.DataFrame'>\n",
      "Index: 174421 entries, 0 to 239311\n",
      "Data columns (total 10 columns):\n",
      " #   Column                Non-Null Count   Dtype  \n",
      "---  ------                --------------   -----  \n",
      " 0   latitude              174421 non-null  float64\n",
      " 1   longitude             174421 non-null  float64\n",
      " 2   avg_age_participants  174421 non-null  float64\n",
      " 3   n_participants_child  174421 non-null  float64\n",
      " 4   n_participants_teen   174421 non-null  float64\n",
      " 5   n_participants_adult  174421 non-null  float64\n",
      " 6   n_males               174421 non-null  float64\n",
      " 7   n_females             174421 non-null  float64\n",
      " 8   n_participants        174421 non-null  float64\n",
      " 9   isKilled              174421 non-null  bool   \n",
      "dtypes: bool(1), float64(9)\n",
      "memory usage: 13.5 MB\n"
     ]
    }
   ],
   "source": [
    "df_incidents.info()"
   ]
  },
  {
   "cell_type": "code",
   "execution_count": 23,
   "metadata": {
    "collapsed": false
   },
   "outputs": [],
   "source": [
    "X2=df_incidents.drop('isKilled', axis=1)\n",
    "y2=df_incidents['isKilled']\n",
    "X_dev2, X_test2, y_dev2, y_test2 = train_test_split(X2, y2, test_size=0.15, random_state=42)"
   ]
  },
  {
   "cell_type": "code",
   "execution_count": 24,
   "metadata": {
    "collapsed": false
   },
   "outputs": [
    {
     "name": "stdout",
     "output_type": "stream",
     "text": [
      " # X_train2:  111192\n",
      " # X_val2 :  37065\n",
      " # X_test2 :  26164\n",
      "% killed in train set:  0.28671127419238795\n",
      "% killed in val set:  0.28700930797248075\n",
      "% killed in test set:  0.28898486469958723\n"
     ]
    }
   ],
   "source": [
    "X_train2, X_val2, y_train2, y_val2 = train_test_split(X_dev2, y_dev2, test_size=0.25, random_state=42)\n",
    "print(' # X_train2: ', X_train2.shape[0])\n",
    "print(' # X_val2 : ', X_val2.shape[0])\n",
    "print(' # X_test2 : ', X_test2.shape[0])\n",
    "print(\"% killed in train set: \", y_train2.sum()/y_train2.shape[0])\n",
    "print(\"% killed in val set: \", y_val2.sum()/y_val2.shape[0])\n",
    "print(\"% killed in test set: \", y_test2.sum()/y_test2.shape[0])\n"
   ]
  },
  {
   "cell_type": "code",
   "execution_count": 25,
   "metadata": {
    "collapsed": false
   },
   "outputs": [],
   "source": [
    "# standardize data\n",
    "X_train2 = scaler.fit_transform(X_train2)\n",
    "X_val2 = scaler.transform(X_val2)\n",
    "X_test2 = scaler.transform(X_test2)\n"
   ]
  },
  {
   "cell_type": "code",
   "execution_count": 26,
   "metadata": {
    "collapsed": false
   },
   "outputs": [
    {
     "data": {
      "text/plain": [
       "(111192, 9)"
      ]
     },
     "execution_count": 26,
     "metadata": {},
     "output_type": "execute_result"
    }
   ],
   "source": [
    "X_train2.shape"
   ]
  },
  {
   "cell_type": "code",
   "execution_count": 27,
   "metadata": {
    "collapsed": false
   },
   "outputs": [
    {
     "name": "stderr",
     "output_type": "stream",
     "text": [
      "d:\\Python\\Lib\\site-packages\\sklearn\\linear_model\\_logistic.py:1183: FutureWarning: `penalty='none'`has been deprecated in 1.2 and will be removed in 1.4. To keep the past behaviour, set `penalty=None`.\n",
      "  warnings.warn(\n"
     ]
    },
    {
     "name": "stdout",
     "output_type": "stream",
     "text": [
      "Accuracy on validation set:  0.7113449345743963\n",
      "Confusion matrix: \n",
      " [[25890   537]\n",
      " [10162   476]]\n",
      "Classification report: \n",
      "               precision    recall  f1-score   support\n",
      "\n",
      "       False       0.72      0.98      0.83     26427\n",
      "        True       0.47      0.04      0.08     10638\n",
      "\n",
      "    accuracy                           0.71     37065\n",
      "   macro avg       0.59      0.51      0.46     37065\n",
      "weighted avg       0.65      0.71      0.61     37065\n",
      "\n"
     ]
    }
   ],
   "source": [
    "#logistic regression\n",
    "logreg2 = LogisticRegression('none')\n",
    "logreg_model2 = logreg2.fit(X_train2, y_train2)\n",
    "y_pred2 = logreg2.predict(X_val2)\n",
    "y_pred_train2 = logreg2.predict(X_train2)\n",
    "print('Accuracy on validation set: ', accuracy_score(y_val2, y_pred2))\n",
    "print('Confusion matrix: \\n', confusion_matrix(y_val2, y_pred2))\n",
    "print('Classification report: \\n', classification_report(y_val2, y_pred2))"
   ]
  },
  {
   "cell_type": "code",
   "execution_count": 28,
   "metadata": {
    "collapsed": false
   },
   "outputs": [
    {
     "ename": "NameError",
     "evalue": "name 'plot_confusion_matrix' is not defined",
     "output_type": "error",
     "traceback": [
      "\u001B[1;31m---------------------------------------------------------------------------\u001B[0m",
      "\u001B[1;31mNameError\u001B[0m                                 Traceback (most recent call last)",
      "Cell \u001B[1;32mIn[28], line 2\u001B[0m\n\u001B[0;32m      1\u001B[0m \u001B[38;5;66;03m# plot confusion matrix\u001B[39;00m\n\u001B[1;32m----> 2\u001B[0m \u001B[43mplot_confusion_matrix\u001B[49m(logreg_model2, X_val2, y_val2, cmap\u001B[38;5;241m=\u001B[39mplt\u001B[38;5;241m.\u001B[39mcm\u001B[38;5;241m.\u001B[39mBlues)\n",
      "\u001B[1;31mNameError\u001B[0m: name 'plot_confusion_matrix' is not defined"
     ]
    }
   ],
   "source": [
    "# plot confusion matrix\n",
    "plot_confusion_matrix(logreg_model2, X_val2, y_val2, cmap=plt.cm.Blues)"
   ]
  },
  {
   "cell_type": "code",
   "execution_count": 29,
   "metadata": {
    "collapsed": false
   },
   "outputs": [
    {
     "name": "stderr",
     "output_type": "stream",
     "text": [
      "  0%|          | 0/9 [00:00<?, ?it/s]"
     ]
    },
    {
     "name": "stderr",
     "output_type": "stream",
     "text": [
      "  0%|          | 0/9 [01:07<?, ?it/s]\n"
     ]
    }
   ],
   "source": [
    "# knn\n",
    "accuracy_scores2 = []\n",
    "for i in tqdm(range(1, 10)):\n",
    "    knn2 = KNeighborsClassifier(n_neighbors=i)\n",
    "    knn2.fit(X_train2, y_train2)\n",
    "    y_pred2 = knn2.predict(X_val2)\n",
    "    accuracy_scores2.append(accuracy_score(y_val2, y_pred2))"
   ]
  },
  {
   "cell_type": "code",
   "execution_count": null,
   "metadata": {
    "collapsed": false
   },
   "outputs": [
    {
     "data": {
      "text/plain": [
       "[<matplotlib.lines.Line2D at 0x2932bfc21d0>]"
      ]
     },
     "execution_count": 154,
     "metadata": {},
     "output_type": "execute_result"
    },
    {
     "data": {
      "image/png": "[encoded data removed]",
      "text/plain": [
       "<Figure size 640x480 with 1 Axes>"
      ]
     },
     "metadata": {},
     "output_type": "display_data"
    }
   ],
   "source": [
    "plt.plot(range(1, 10), accuracy_scores2)"
   ]
  },
  {
   "cell_type": "code",
   "execution_count": null,
   "metadata": {
    "collapsed": false
   },
   "outputs": [
    {
     "name": "stdout",
     "output_type": "stream",
     "text": [
      "Accuracy on test set:  0.7078810579422107\n",
      "Confusion matrix: \n",
      " [[17109  1494]\n",
      " [ 6149  1412]]\n",
      "Classification report: \n",
      "               precision    recall  f1-score   support\n",
      "\n",
      "       False       0.74      0.92      0.82     18603\n",
      "        True       0.49      0.19      0.27      7561\n",
      "\n",
      "    accuracy                           0.71     26164\n",
      "   macro avg       0.61      0.55      0.54     26164\n",
      "weighted avg       0.66      0.71      0.66     26164\n",
      "\n"
     ]
    }
   ],
   "source": [
    "# train again with best k on whole dev set\n",
    "X_dev2 = scaler.fit_transform(X_dev2)\n",
    "knn2 = KNeighborsClassifier(n_neighbors=8)\n",
    "knn2.fit(X_dev2, y_dev2)\n",
    "y_pred2 = knn2.predict(X_test2)\n",
    "print('Accuracy on test set: ', accuracy_score(y_test2, y_pred2))\n",
    "print('Confusion matrix: \\n', confusion_matrix(y_test2, y_pred2))\n",
    "print('Classification report: \\n', classification_report(y_test2, y_pred2))"
   ]
  },
  {
   "cell_type": "markdown",
   "metadata": {
    "collapsed": false
   },
   "source": [
    "# df with prepared features"
   ]
  },
  {
   "cell_type": "code",
   "execution_count": 3,
   "metadata": {
    "collapsed": false
   },
   "outputs": [],
   "source": [
    "df_incidents_prepared = pd.read_csv('../dataset_preparation/incidents_prepared.csv', index_col=0)"
   ]
  },
  {
   "cell_type": "code",
   "execution_count": 4,
   "metadata": {
    "collapsed": false
   },
   "outputs": [
    {
     "name": "stdout",
     "output_type": "stream",
     "text": [
      "<class 'pandas.core.frame.DataFrame'>\n",
      "Index: 161550 entries, 2015-05-02 to 2015-05-05\n",
      "Data columns (total 31 columns):\n",
      " #   Column                     Non-Null Count   Dtype  \n",
      "---  ------                     --------------   -----  \n",
      " 0   state                      161550 non-null  object \n",
      " 1   city_or_county             161550 non-null  object \n",
      " 2   address                    149848 non-null  object \n",
      " 3   latitude                   161550 non-null  float64\n",
      " 4   longitude                  161550 non-null  float64\n",
      " 5   congressional_district     161550 non-null  float64\n",
      " 6   avg_age_participants       161550 non-null  float64\n",
      " 7   n_killed                   161550 non-null  int64  \n",
      " 8   incident_characteristics1  161550 non-null  object \n",
      " 9   year                       161550 non-null  float64\n",
      " 10  age_group                  161550 non-null  object \n",
      " 11  povertyPercentage          161550 non-null  float64\n",
      " 12  population                 161550 non-null  int64  \n",
      " 13  party                      161550 non-null  object \n",
      " 14  candidatevotes             161550 non-null  float64\n",
      " 15  severity                   161550 non-null  float64\n",
      " 16  severity_cat               161550 non-null  object \n",
      " 17  severity_minor             161550 non-null  float64\n",
      " 18  year_month                 161550 non-null  object \n",
      " 19  killed_by_district         161550 non-null  float64\n",
      " 20  injured_by_district        161550 non-null  float64\n",
      " 21  arrested_ratio             161550 non-null  float64\n",
      " 22  unharmed_ratio             161550 non-null  float64\n",
      " 23  right_or_left              161550 non-null  float64\n",
      " 24  dfm_district_killed        161550 non-null  float64\n",
      " 25  dfm_district_injured       161550 non-null  float64\n",
      " 26  dfm_district_participants  161550 non-null  float64\n",
      " 27  dfm_district_child         161550 non-null  float64\n",
      " 28  dfm_district_teen          161550 non-null  float64\n",
      " 29  dfm_district_females       161550 non-null  float64\n",
      " 30  voters_over_population     161550 non-null  float64\n",
      "dtypes: float64(21), int64(2), object(8)\n",
      "memory usage: 39.4+ MB\n"
     ]
    }
   ],
   "source": [
    "df_incidents_prepared.info()"
   ]
  },
  {
   "cell_type": "code",
   "execution_count": 5,
   "metadata": {
    "collapsed": false
   },
   "outputs": [],
   "source": [
    "df_incidents_prepared['isKilled'] = df_incidents_prepared['n_killed'] > 0"
   ]
  },
  {
   "cell_type": "code",
   "execution_count": 6,
   "metadata": {
    "collapsed": false
   },
   "outputs": [],
   "source": [
    "cols2drop =['year', 'state', 'city_or_county', 'n_killed', 'incident_characteristics1',\n",
    "             'congressional_district', 'address', 'year_month', 'age_group', 'party',\n",
    "             'candidatevotes', 'severity_cat', 'dfm_district_killed', 'killed_by_district', 'severity' ]\n",
    "df_incidents_prepared = df_incidents_prepared.drop(cols2drop, axis=1)"
   ]
  },
  {
   "cell_type": "code",
   "execution_count": 7,
   "metadata": {
    "collapsed": false
   },
   "outputs": [
    {
     "name": "stdout",
     "output_type": "stream",
     "text": [
      "<class 'pandas.core.frame.DataFrame'>\n",
      "Index: 161550 entries, 2015-05-02 to 2015-05-05\n",
      "Data columns (total 17 columns):\n",
      " #   Column                     Non-Null Count   Dtype  \n",
      "---  ------                     --------------   -----  \n",
      " 0   latitude                   161550 non-null  float64\n",
      " 1   longitude                  161550 non-null  float64\n",
      " 2   avg_age_participants       161550 non-null  float64\n",
      " 3   povertyPercentage          161550 non-null  float64\n",
      " 4   population                 161550 non-null  int64  \n",
      " 5   severity_minor             161550 non-null  float64\n",
      " 6   injured_by_district        161550 non-null  float64\n",
      " 7   arrested_ratio             161550 non-null  float64\n",
      " 8   unharmed_ratio             161550 non-null  float64\n",
      " 9   right_or_left              161550 non-null  float64\n",
      " 10  dfm_district_injured       161550 non-null  float64\n",
      " 11  dfm_district_participants  161550 non-null  float64\n",
      " 12  dfm_district_child         161550 non-null  float64\n",
      " 13  dfm_district_teen          161550 non-null  float64\n",
      " 14  dfm_district_females       161550 non-null  float64\n",
      " 15  voters_over_population     161550 non-null  float64\n",
      " 16  isKilled                   161550 non-null  bool   \n",
      "dtypes: bool(1), float64(15), int64(1)\n",
      "memory usage: 21.1+ MB\n"
     ]
    }
   ],
   "source": [
    "df_incidents_prepared.info()"
   ]
  },
  {
   "cell_type": "code",
   "execution_count": 8,
   "metadata": {
    "collapsed": false
   },
   "outputs": [],
   "source": [
    "X3=df_incidents_prepared.drop('isKilled', axis=1)\n",
    "y3=df_incidents_prepared['isKilled']\n",
    "X_dev3, X_test3, y_dev3, y_test3 = train_test_split(X3, y3, test_size=0.15, random_state=42)"
   ]
  },
  {
   "cell_type": "code",
   "execution_count": 9,
   "metadata": {
    "collapsed": false
   },
   "outputs": [
    {
     "name": "stdout",
     "output_type": "stream",
     "text": [
      " # X_train3:  102987\n",
      " # X_val3 :  34330\n",
      " # X_test3 :  24233\n",
      "% killed in train set:  0.2818705273481119\n",
      "% killed in val set:  0.28191086513253716\n",
      "% killed in test set:  0.2769776750711839\n"
     ]
    }
   ],
   "source": [
    "X_train3, X_val3, y_train3, y_val3 = train_test_split(X_dev3, y_dev3, test_size=0.25, random_state=42)\n",
    "print(' # X_train3: ', X_train3.shape[0])\n",
    "print(' # X_val3 : ', X_val3.shape[0])\n",
    "print(' # X_test3 : ', X_test3.shape[0])\n",
    "print(\"% killed in train set: \", y_train3.sum()/y_train3.shape[0])\n",
    "print(\"% killed in val set: \", y_val3.sum()/y_val3.shape[0])\n",
    "print(\"% killed in test set: \", y_test3.sum()/y_test3.shape[0])\n"
   ]
  },
  {
   "cell_type": "code",
   "execution_count": 12,
   "metadata": {
    "collapsed": false
   },
   "outputs": [],
   "source": [
    "# standardize data\n",
    "X_train3 = scaler.fit_transform(X_train3)\n",
    "X_val3 = scaler.transform(X_val3)\n",
    "X_test3 = scaler.transform(X_test3)\n",
    "X_dev3 = scaler.transform(X_dev3)"
   ]
  },
  {
   "cell_type": "code",
   "execution_count": 17,
   "metadata": {
    "collapsed": false
   },
   "outputs": [
    {
     "name": "stdout",
     "output_type": "stream",
     "text": [
      "Accuracy on training set:  0.9257964597473467\n",
      "confusion_matrix on training set: \n",
      " [[71204  2754]\n",
      " [ 4888 24141]]\n",
      "Accuracy on validation set:  0.9282551704048937\n",
      "Confusion matrix: \n",
      " [[23774   878]\n",
      " [ 1585  8093]]\n",
      "Classification report: \n",
      "               precision    recall  f1-score   support\n",
      "\n",
      "       False       0.94      0.96      0.95     24652\n",
      "        True       0.90      0.84      0.87      9678\n",
      "\n",
      "    accuracy                           0.93     34330\n",
      "   macro avg       0.92      0.90      0.91     34330\n",
      "weighted avg       0.93      0.93      0.93     34330\n",
      "\n"
     ]
    }
   ],
   "source": [
    "#logistic regression\n",
    "logreg = LogisticRegression('l2')\n",
    "logreg_model3 = logreg.fit(X_train3, y_train3)\n",
    "y_pred3 = logreg.predict(X_val3)\n",
    "y_pred_train3 = logreg.predict(X_train3)\n",
    "print('Accuracy on training set: ', accuracy_score(y_train3, y_pred_train3))\n",
    "print('confusion_matrix on training set: \\n', confusion_matrix(y_train3, y_pred_train3))\n",
    "print('Accuracy on validation set: ', accuracy_score(y_val3, y_pred3))\n",
    "print('Confusion matrix: \\n', confusion_matrix(y_val3, y_pred3))\n",
    "print('Classification report: \\n', classification_report(y_val3, y_pred3))"
   ]
  },
  {
   "cell_type": "code",
   "execution_count": 18,
   "metadata": {
    "collapsed": false
   },
   "outputs": [
    {
     "ename": "NameError",
     "evalue": "name 'plot_confusion_matrix' is not defined",
     "output_type": "error",
     "traceback": [
      "\u001B[1;31m---------------------------------------------------------------------------\u001B[0m",
      "\u001B[1;31mNameError\u001B[0m                                 Traceback (most recent call last)",
      "Cell \u001B[1;32mIn[18], line 2\u001B[0m\n\u001B[0;32m      1\u001B[0m \u001B[38;5;66;03m# plot confusion matrix\u001B[39;00m\n\u001B[1;32m----> 2\u001B[0m \u001B[43mplot_confusion_matrix\u001B[49m(logreg_model3, X_val3, y_val3, cmap\u001B[38;5;241m=\u001B[39mplt\u001B[38;5;241m.\u001B[39mcm\u001B[38;5;241m.\u001B[39mBlues)\n",
      "\u001B[1;31mNameError\u001B[0m: name 'plot_confusion_matrix' is not defined"
     ]
    }
   ],
   "source": [
    "# plot confusion matrix\n",
    "plot_confusion_matrix(logreg_model3, X_val3, y_val3, cmap=plt.cm.Blues)\n"
   ]
  },
  {
   "cell_type": "code",
   "execution_count": 19,
   "metadata": {
    "collapsed": false
   },
   "outputs": [
    {
     "name": "stdout",
     "output_type": "stream",
     "text": [
      "('latitude', -0.4620200772489034)\n",
      "('longitude', -0.3843752693380765)\n",
      "('avg_age_participants', 0.25643770409334654)\n",
      "('povertyPercentage', -0.009851598082919863)\n",
      "('population', -0.10358036428262425)\n",
      "('severity_minor', 0.13346380972749947)\n",
      "('injured_by_district', 0.0496240685298872)\n",
      "('arrested_ratio', -3.1853076926974992)\n",
      "('unharmed_ratio', -3.1825462677894945)\n",
      "('right_or_left', 0.38320046946359615)\n",
      "('dfm_district_injured', -3.2845650861731386)\n",
      "('dfm_district_participants', 2.6103575784797672)\n",
      "('dfm_district_child', -0.20675243751900108)\n",
      "('dfm_district_teen', -0.20537345355500747)\n",
      "('dfm_district_females', -0.010692479634205719)\n",
      "('voters_over_population', -0.07989185846781685)\n"
     ]
    }
   ],
   "source": [
    "# weights of model\n",
    "for i in zip(df_incidents_prepared.columns, logreg_model3.coef_[0]):\n",
    "    print(i)"
   ]
  },
  {
   "cell_type": "markdown",
   "metadata": {},
   "source": [
    "# Without 'n_injured', 'n_unharmed', 'n_arrested'"
   ]
  },
  {
   "cell_type": "code",
   "execution_count": 77,
   "metadata": {},
   "outputs": [],
   "source": [
    "# imports\n",
    "import numpy as np\n",
    "import pandas as pd\n",
    "from tqdm import tqdm\n",
    "import matplotlib.pyplot as plt\n",
    "import seaborn as sns\n",
    "import sklearn\n",
    "from sklearn.model_selection import train_test_split"
   ]
  },
  {
   "cell_type": "code",
   "execution_count": 78,
   "metadata": {
    "collapsed": false
   },
   "outputs": [],
   "source": [
    "df_incidents_prepared = pd.read_csv('../dataset_preparation/incidents_prepared.csv', index_col=0)\n",
    "df_orig = pd.read_csv('../dataset_preparation/original_features.csv', index_col=0)"
   ]
  },
  {
   "cell_type": "code",
   "execution_count": 79,
   "outputs": [],
   "source": [
    "df_incidents_prepared['isKilled'] = df_incidents_prepared['n_killed'] > 0"
   ],
   "metadata": {
    "collapsed": false
   }
  },
  {
   "cell_type": "code",
   "execution_count": 80,
   "outputs": [],
   "source": [
    "df_incidents_prepared['n_participants'] = df_orig['n_participants']"
   ],
   "metadata": {
    "collapsed": false
   }
  },
  {
   "cell_type": "code",
   "execution_count": 81,
   "outputs": [],
   "source": [
    "df_incidents_prepared['n_females'] = df_orig['n_females']"
   ],
   "metadata": {
    "collapsed": false
   }
  },
  {
   "cell_type": "code",
   "execution_count": 82,
   "outputs": [],
   "source": [
    "df_incidents_prepared['n_teens'] = df_orig['n_participants_teen']"
   ],
   "metadata": {
    "collapsed": false
   }
  },
  {
   "cell_type": "code",
   "execution_count": 83,
   "outputs": [],
   "source": [
    "df_incidents_prepared['n_children'] = df_orig['n_participants_child']"
   ],
   "metadata": {
    "collapsed": false
   }
  },
  {
   "cell_type": "code",
   "execution_count": 84,
   "outputs": [],
   "source": [
    "df_incidents_prepared['n_injured'] = df_orig['n_injured']\n"
   ],
   "metadata": {
    "collapsed": false
   }
  },
  {
   "cell_type": "code",
   "execution_count": 85,
   "metadata": {},
   "outputs": [],
   "source": [
    "cols2drop=['address', 'city_or_county','congressional_district',\n",
    "           'avg_age_participants', 'n_killed', 'incident_characteristics1','severity',\n",
    "           'severity_cat','severity_minor','year_month','killed_by_district','injured_by_district',\n",
    "           'dfm_district_killed','dfm_district_injured', 'dfm_district_participants', 'dfm_district_child', 'dfm_district_teen', 'dfm_district_females', 'date','state', 'arrested_ratio', 'unharmed_ratio']\n",
    "df_incidents_prepared=df_incidents_prepared.drop(cols2drop, axis=1)"
   ]
  },
  {
   "cell_type": "code",
   "execution_count": 86,
   "metadata": {},
   "outputs": [
    {
     "name": "stdout",
     "output_type": "stream",
     "text": [
      "<class 'pandas.core.frame.DataFrame'>\n",
      "Int64Index: 161550 entries, 0 to 164506\n",
      "Data columns (total 16 columns):\n",
      " #   Column                  Non-Null Count   Dtype  \n",
      "---  ------                  --------------   -----  \n",
      " 0   latitude                161550 non-null  float64\n",
      " 1   longitude               161550 non-null  float64\n",
      " 2   year                    161550 non-null  float64\n",
      " 3   age_group               161550 non-null  object \n",
      " 4   povertyPercentage       161550 non-null  float64\n",
      " 5   population              161550 non-null  int64  \n",
      " 6   party                   161550 non-null  object \n",
      " 7   candidatevotes          161550 non-null  float64\n",
      " 8   right_or_left           161550 non-null  float64\n",
      " 9   voters_over_population  161550 non-null  float64\n",
      " 10  isKilled                161550 non-null  bool   \n",
      " 11  n_participants          161550 non-null  float64\n",
      " 12  n_females               161550 non-null  float64\n",
      " 13  n_teens                 161550 non-null  float64\n",
      " 14  n_children              161550 non-null  float64\n",
      " 15  n_injured               161550 non-null  int64  \n",
      "dtypes: bool(1), float64(11), int64(2), object(2)\n",
      "memory usage: 19.9+ MB\n"
     ]
    }
   ],
   "source": [
    "df_incidents_prepared.info()"
   ]
  },
  {
   "cell_type": "code",
   "execution_count": 87,
   "metadata": {},
   "outputs": [],
   "source": [
    "X=df_incidents_prepared.drop('isKilled', axis=1)\n",
    "y=df_incidents_prepared['isKilled']"
   ]
  },
  {
   "cell_type": "code",
   "execution_count": 88,
   "outputs": [
    {
     "data": {
      "text/plain": "(161550, 15)"
     },
     "execution_count": 88,
     "metadata": {},
     "output_type": "execute_result"
    }
   ],
   "source": [
    "X.shape"
   ],
   "metadata": {
    "collapsed": false
   }
  },
  {
   "cell_type": "code",
   "execution_count": 89,
   "metadata": {},
   "outputs": [
    {
     "name": "stdout",
     "output_type": "stream",
     "text": [
      "<class 'pandas.core.frame.DataFrame'>\n",
      "Int64Index: 161550 entries, 0 to 164506\n",
      "Data columns (total 24 columns):\n",
      " #   Column                  Non-Null Count   Dtype  \n",
      "---  ------                  --------------   -----  \n",
      " 0   latitude                161550 non-null  float64\n",
      " 1   longitude               161550 non-null  float64\n",
      " 2   year                    161550 non-null  float64\n",
      " 3   povertyPercentage       161550 non-null  float64\n",
      " 4   population              161550 non-null  int64  \n",
      " 5   candidatevotes          161550 non-null  float64\n",
      " 6   right_or_left           161550 non-null  float64\n",
      " 7   voters_over_population  161550 non-null  float64\n",
      " 8   n_participants          161550 non-null  float64\n",
      " 9   n_females               161550 non-null  float64\n",
      " 10  n_teens                 161550 non-null  float64\n",
      " 11  n_children              161550 non-null  float64\n",
      " 12  n_injured               161550 non-null  int64  \n",
      " 13  age_group_[0-11]        161550 non-null  uint8  \n",
      " 14  age_group_[12-17]       161550 non-null  uint8  \n",
      " 15  age_group_[18-24]       161550 non-null  uint8  \n",
      " 16  age_group_[25-34]       161550 non-null  uint8  \n",
      " 17  age_group_[35-44]       161550 non-null  uint8  \n",
      " 18  age_group_[45-54]       161550 non-null  uint8  \n",
      " 19  age_group_[55-64]       161550 non-null  uint8  \n",
      " 20  age_group_[65-74]       161550 non-null  uint8  \n",
      " 21  age_group_[75-100]      161550 non-null  uint8  \n",
      " 22  party_DEMOCRAT          161550 non-null  uint8  \n",
      " 23  party_REPUBLICAN        161550 non-null  uint8  \n",
      "dtypes: float64(11), int64(2), uint8(11)\n",
      "memory usage: 19.0 MB\n"
     ]
    }
   ],
   "source": [
    "import pandas as pd\n",
    "X=pd.get_dummies(X)\n",
    "X.info()"
   ]
  },
  {
   "cell_type": "markdown",
   "source": [
    "## Decision Tree"
   ],
   "metadata": {
    "collapsed": false
   }
  },
  {
   "cell_type": "code",
   "execution_count": 120,
   "metadata": {},
   "outputs": [],
   "source": [
    "import numpy as np\n",
    "import matplotlib.pyplot as plt\n",
    "from sklearn.tree import DecisionTreeClassifier\n",
    "from sklearn.model_selection import train_test_split\n",
    "from sklearn.metrics import accuracy_score, precision_score, recall_score, f1_score, confusion_matrix, classification_report"
   ]
  },
  {
   "cell_type": "code",
   "execution_count": 121,
   "metadata": {},
   "outputs": [
    {
     "data": {
      "text/plain": "        latitude  longitude    year  povertyPercentage  population  \\\n72096    41.5094   -87.3501  2016.0               11.8     6634304   \n159077   30.0788   -95.4261  2015.0               14.0    27470056   \n124316   34.1473   -77.8766  2017.0               13.6    10268233   \n144416   42.4051   -82.9640  2017.0               10.7     9973114   \n41932    33.5675  -112.1560  2014.0               18.1     6730413   \n\n        candidatevotes  right_or_left  voters_over_population  n_participants  \\\n72096         207515.0       0.184883                0.400700             2.0   \n159077        101936.0       0.679456                0.162122             4.0   \n124316        211801.0       0.609138                0.447833             2.0   \n144416        244135.0       0.214934                0.468350             1.0   \n41932         128710.0       0.758117                0.218055             1.0   \n\n        n_females  ...  age_group_[12-17]  age_group_[18-24]  \\\n72096         0.0  ...                  0                  1   \n159077        0.0  ...                  0                  1   \n124316        1.0  ...                  0                  0   \n144416        0.0  ...                  0                  0   \n41932         0.0  ...                  0                  0   \n\n        age_group_[25-34]  age_group_[35-44]  age_group_[45-54]  \\\n72096                   0                  0                  0   \n159077                  0                  0                  0   \n124316                  0                  1                  0   \n144416                  0                  0                  0   \n41932                   0                  0                  1   \n\n        age_group_[55-64]  age_group_[65-74]  age_group_[75-100]  \\\n72096                   0                  0                   0   \n159077                  0                  0                   0   \n124316                  0                  0                   0   \n144416                  1                  0                   0   \n41932                   0                  0                   0   \n\n        party_DEMOCRAT  party_REPUBLICAN  \n72096                1                 0  \n159077               0                 1  \n124316               0                 1  \n144416               1                 0  \n41932                0                 1  \n\n[5 rows x 24 columns]",
      "text/html": "<div>\n<style scoped>\n    .dataframe tbody tr th:only-of-type {\n        vertical-align: middle;\n    }\n\n    .dataframe tbody tr th {\n        vertical-align: top;\n    }\n\n    .dataframe thead th {\n        text-align: right;\n    }\n</style>\n<table border=\"1\" class=\"dataframe\">\n  <thead>\n    <tr style=\"text-align: right;\">\n      <th></th>\n      <th>latitude</th>\n      <th>longitude</th>\n      <th>year</th>\n      <th>povertyPercentage</th>\n      <th>population</th>\n      <th>candidatevotes</th>\n      <th>right_or_left</th>\n      <th>voters_over_population</th>\n      <th>n_participants</th>\n      <th>n_females</th>\n      <th>...</th>\n      <th>age_group_[12-17]</th>\n      <th>age_group_[18-24]</th>\n      <th>age_group_[25-34]</th>\n      <th>age_group_[35-44]</th>\n      <th>age_group_[45-54]</th>\n      <th>age_group_[55-64]</th>\n      <th>age_group_[65-74]</th>\n      <th>age_group_[75-100]</th>\n      <th>party_DEMOCRAT</th>\n      <th>party_REPUBLICAN</th>\n    </tr>\n  </thead>\n  <tbody>\n    <tr>\n      <th>72096</th>\n      <td>41.5094</td>\n      <td>-87.3501</td>\n      <td>2016.0</td>\n      <td>11.8</td>\n      <td>6634304</td>\n      <td>207515.0</td>\n      <td>0.184883</td>\n      <td>0.400700</td>\n      <td>2.0</td>\n      <td>0.0</td>\n      <td>...</td>\n      <td>0</td>\n      <td>1</td>\n      <td>0</td>\n      <td>0</td>\n      <td>0</td>\n      <td>0</td>\n      <td>0</td>\n      <td>0</td>\n      <td>1</td>\n      <td>0</td>\n    </tr>\n    <tr>\n      <th>159077</th>\n      <td>30.0788</td>\n      <td>-95.4261</td>\n      <td>2015.0</td>\n      <td>14.0</td>\n      <td>27470056</td>\n      <td>101936.0</td>\n      <td>0.679456</td>\n      <td>0.162122</td>\n      <td>4.0</td>\n      <td>0.0</td>\n      <td>...</td>\n      <td>0</td>\n      <td>1</td>\n      <td>0</td>\n      <td>0</td>\n      <td>0</td>\n      <td>0</td>\n      <td>0</td>\n      <td>0</td>\n      <td>0</td>\n      <td>1</td>\n    </tr>\n    <tr>\n      <th>124316</th>\n      <td>34.1473</td>\n      <td>-77.8766</td>\n      <td>2017.0</td>\n      <td>13.6</td>\n      <td>10268233</td>\n      <td>211801.0</td>\n      <td>0.609138</td>\n      <td>0.447833</td>\n      <td>2.0</td>\n      <td>1.0</td>\n      <td>...</td>\n      <td>0</td>\n      <td>0</td>\n      <td>0</td>\n      <td>1</td>\n      <td>0</td>\n      <td>0</td>\n      <td>0</td>\n      <td>0</td>\n      <td>0</td>\n      <td>1</td>\n    </tr>\n    <tr>\n      <th>144416</th>\n      <td>42.4051</td>\n      <td>-82.9640</td>\n      <td>2017.0</td>\n      <td>10.7</td>\n      <td>9973114</td>\n      <td>244135.0</td>\n      <td>0.214934</td>\n      <td>0.468350</td>\n      <td>1.0</td>\n      <td>0.0</td>\n      <td>...</td>\n      <td>0</td>\n      <td>0</td>\n      <td>0</td>\n      <td>0</td>\n      <td>0</td>\n      <td>1</td>\n      <td>0</td>\n      <td>0</td>\n      <td>1</td>\n      <td>0</td>\n    </tr>\n    <tr>\n      <th>41932</th>\n      <td>33.5675</td>\n      <td>-112.1560</td>\n      <td>2014.0</td>\n      <td>18.1</td>\n      <td>6730413</td>\n      <td>128710.0</td>\n      <td>0.758117</td>\n      <td>0.218055</td>\n      <td>1.0</td>\n      <td>0.0</td>\n      <td>...</td>\n      <td>0</td>\n      <td>0</td>\n      <td>0</td>\n      <td>0</td>\n      <td>1</td>\n      <td>0</td>\n      <td>0</td>\n      <td>0</td>\n      <td>0</td>\n      <td>1</td>\n    </tr>\n  </tbody>\n</table>\n<p>5 rows × 24 columns</p>\n</div>"
     },
     "execution_count": 121,
     "metadata": {},
     "output_type": "execute_result"
    }
   ],
   "source": [
    "X_train, X_test, y_train, y_test = train_test_split(X, y, test_size=0.2, random_state=42)\n",
    "X_train.head()"
   ]
  },
  {
   "cell_type": "code",
   "execution_count": 122,
   "metadata": {},
   "outputs": [
    {
     "name": "stderr",
     "output_type": "stream",
     "text": [
      "  0%|          | 0/19 [00:00<?, ?it/s]C:\\Users\\HUAWEI\\AppData\\Local\\Programs\\Python\\Python310\\lib\\site-packages\\sklearn\\metrics\\_classification.py:1334: UndefinedMetricWarning: Precision is ill-defined and being set to 0.0 due to no predicted samples. Use `zero_division` parameter to control this behavior.\n",
      "  _warn_prf(average, modifier, msg_start, len(result))\n",
      "  5%|▌         | 1/19 [00:00<00:06,  2.86it/s]C:\\Users\\HUAWEI\\AppData\\Local\\Programs\\Python\\Python310\\lib\\site-packages\\sklearn\\metrics\\_classification.py:1334: UndefinedMetricWarning: Precision is ill-defined and being set to 0.0 due to no predicted samples. Use `zero_division` parameter to control this behavior.\n",
      "  _warn_prf(average, modifier, msg_start, len(result))\n",
      "100%|██████████| 19/19 [00:25<00:00,  1.32s/it]\n"
     ]
    }
   ],
   "source": [
    "# for loop to determine best depth\n",
    "accuracy_scores = []\n",
    "precisions=[]\n",
    "recalls=[]\n",
    "f1 = []\n",
    "for i in tqdm(range(1, 20)):\n",
    "    tree = DecisionTreeClassifier(random_state=42, max_depth=i)\n",
    "    tree.fit(X_train, y_train)\n",
    "    y_pred = tree.predict(X_test)\n",
    "    accuracy_scores.append(accuracy_score(y_test, y_pred))\n",
    "    precisions.append(precision_score(y_test, y_pred))\n",
    "    recalls.append(recall_score(y_test, y_pred))\n",
    "    f1.append(f1_score(y_test, y_pred))"
   ]
  },
  {
   "cell_type": "code",
   "execution_count": 123,
   "metadata": {},
   "outputs": [
    {
     "data": {
      "text/plain": "<Figure size 640x480 with 1 Axes>",
      "image/png": "[encoded data removed]"
     },
     "metadata": {},
     "output_type": "display_data"
    }
   ],
   "source": [
    "plt.plot(range(1, 20), accuracy_scores)\n",
    "plt.plot(range(1, 20), precisions)\n",
    "plt.plot(range(1, 20), recalls)\n",
    "plt.plot(range(1, 20), f1)\n",
    "plt.xlabel('max_depth')\n",
    "plt.legend(['accuracy' ,'precision', 'recall','f1'])\n",
    "plt.title('accuracy, precisions, recall, and f1-score for different depths')\n",
    "plt.show()"
   ]
  },
  {
   "cell_type": "code",
   "execution_count": 124,
   "metadata": {},
   "outputs": [
    {
     "name": "stdout",
     "output_type": "stream",
     "text": [
      "Accuracy on training set:  0.9994970597338285\n",
      "confusion_matrix on training set: \n",
      " [[92779     3]\n",
      " [   62 36396]]\n",
      "Accuracy on validation set:  0.7469823584029712\n",
      "Confusion matrix: \n",
      " [[19213  4136]\n",
      " [ 4039  4922]]\n",
      "Classification report: \n",
      "               precision    recall  f1-score   support\n",
      "\n",
      "       False       0.83      0.82      0.82     23349\n",
      "        True       0.54      0.55      0.55      8961\n",
      "\n",
      "    accuracy                           0.75     32310\n",
      "   macro avg       0.68      0.69      0.69     32310\n",
      "weighted avg       0.75      0.75      0.75     32310\n",
      "\n"
     ]
    }
   ],
   "source": [
    "tree = DecisionTreeClassifier(random_state=42, max_depth=100)\n",
    "tree.fit(X_train, y_train)\n",
    "y_pred = tree.predict(X_test)\n",
    "y_pred_train = tree.predict(X_train)\n",
    "print('Accuracy on training set: ', accuracy_score(y_train, y_pred_train))\n",
    "print('confusion_matrix on training set: \\n', confusion_matrix(y_train, y_pred_train))\n",
    "print('Accuracy on validation set: ', accuracy_score(y_test, y_pred))\n",
    "print('Confusion matrix: \\n', confusion_matrix(y_test, y_pred))\n",
    "print('Classification report: \\n', classification_report(y_test, y_pred))"
   ]
  },
  {
   "cell_type": "markdown",
   "source": [
    "### Grid search for Decision Tree Parameters"
   ],
   "metadata": {
    "collapsed": false
   }
  },
  {
   "cell_type": "code",
   "execution_count": 125,
   "outputs": [
    {
     "name": "stdout",
     "output_type": "stream",
     "text": [
      "Fitting 3 folds for each of 24 candidates, totalling 72 fits\n",
      "[CV 1/3] END criterion=gini, max_depth=4, min_samples_split=2;, score=0.537 total time=   0.3s\n",
      "[CV 2/3] END criterion=gini, max_depth=4, min_samples_split=2;, score=0.571 total time=   0.2s\n",
      "[CV 3/3] END criterion=gini, max_depth=4, min_samples_split=2;, score=0.560 total time=   0.2s\n",
      "[CV 1/3] END criterion=gini, max_depth=4, min_samples_split=4;, score=0.537 total time=   0.3s\n",
      "[CV 2/3] END criterion=gini, max_depth=4, min_samples_split=4;, score=0.571 total time=   0.2s\n",
      "[CV 3/3] END criterion=gini, max_depth=4, min_samples_split=4;, score=0.560 total time=   0.2s\n",
      "[CV 1/3] END criterion=gini, max_depth=4, min_samples_split=8;, score=0.537 total time=   0.4s\n",
      "[CV 2/3] END criterion=gini, max_depth=4, min_samples_split=8;, score=0.571 total time=   0.2s\n",
      "[CV 3/3] END criterion=gini, max_depth=4, min_samples_split=8;, score=0.560 total time=   0.3s\n",
      "[CV 1/3] END criterion=gini, max_depth=4, min_samples_split=16;, score=0.537 total time=   0.3s\n",
      "[CV 2/3] END criterion=gini, max_depth=4, min_samples_split=16;, score=0.571 total time=   0.3s\n",
      "[CV 3/3] END criterion=gini, max_depth=4, min_samples_split=16;, score=0.560 total time=   0.2s\n",
      "[CV 1/3] END criterion=gini, max_depth=8, min_samples_split=2;, score=0.550 total time=   0.5s\n",
      "[CV 2/3] END criterion=gini, max_depth=8, min_samples_split=2;, score=0.533 total time=   0.4s\n",
      "[CV 3/3] END criterion=gini, max_depth=8, min_samples_split=2;, score=0.536 total time=   0.4s\n",
      "[CV 1/3] END criterion=gini, max_depth=8, min_samples_split=4;, score=0.550 total time=   0.4s\n",
      "[CV 2/3] END criterion=gini, max_depth=8, min_samples_split=4;, score=0.533 total time=   0.6s\n",
      "[CV 3/3] END criterion=gini, max_depth=8, min_samples_split=4;, score=0.536 total time=   0.6s\n",
      "[CV 1/3] END criterion=gini, max_depth=8, min_samples_split=8;, score=0.550 total time=   0.5s\n",
      "[CV 2/3] END criterion=gini, max_depth=8, min_samples_split=8;, score=0.533 total time=   0.6s\n",
      "[CV 3/3] END criterion=gini, max_depth=8, min_samples_split=8;, score=0.536 total time=   0.6s\n",
      "[CV 1/3] END criterion=gini, max_depth=8, min_samples_split=16;, score=0.550 total time=   0.5s\n",
      "[CV 2/3] END criterion=gini, max_depth=8, min_samples_split=16;, score=0.533 total time=   0.5s\n",
      "[CV 3/3] END criterion=gini, max_depth=8, min_samples_split=16;, score=0.536 total time=   0.5s\n",
      "[CV 1/3] END criterion=gini, max_depth=16, min_samples_split=2;, score=0.570 total time=   1.1s\n",
      "[CV 2/3] END criterion=gini, max_depth=16, min_samples_split=2;, score=0.566 total time=   0.8s\n",
      "[CV 3/3] END criterion=gini, max_depth=16, min_samples_split=2;, score=0.548 total time=   0.8s\n",
      "[CV 1/3] END criterion=gini, max_depth=16, min_samples_split=4;, score=0.569 total time=   0.7s\n",
      "[CV 2/3] END criterion=gini, max_depth=16, min_samples_split=4;, score=0.566 total time=   0.8s\n",
      "[CV 3/3] END criterion=gini, max_depth=16, min_samples_split=4;, score=0.547 total time=   0.7s\n",
      "[CV 1/3] END criterion=gini, max_depth=16, min_samples_split=8;, score=0.569 total time=   0.7s\n",
      "[CV 2/3] END criterion=gini, max_depth=16, min_samples_split=8;, score=0.564 total time=   0.7s\n",
      "[CV 3/3] END criterion=gini, max_depth=16, min_samples_split=8;, score=0.547 total time=   0.8s\n",
      "[CV 1/3] END criterion=gini, max_depth=16, min_samples_split=16;, score=0.571 total time=   0.7s\n",
      "[CV 2/3] END criterion=gini, max_depth=16, min_samples_split=16;, score=0.567 total time=   0.9s\n",
      "[CV 3/3] END criterion=gini, max_depth=16, min_samples_split=16;, score=0.549 total time=   0.8s\n",
      "[CV 1/3] END criterion=entropy, max_depth=4, min_samples_split=2;, score=0.557 total time=   0.3s\n",
      "[CV 2/3] END criterion=entropy, max_depth=4, min_samples_split=2;, score=0.369 total time=   0.3s\n",
      "[CV 3/3] END criterion=entropy, max_depth=4, min_samples_split=2;, score=0.364 total time=   0.3s\n",
      "[CV 1/3] END criterion=entropy, max_depth=4, min_samples_split=4;, score=0.557 total time=   0.3s\n",
      "[CV 2/3] END criterion=entropy, max_depth=4, min_samples_split=4;, score=0.369 total time=   0.3s\n",
      "[CV 3/3] END criterion=entropy, max_depth=4, min_samples_split=4;, score=0.364 total time=   0.3s\n",
      "[CV 1/3] END criterion=entropy, max_depth=4, min_samples_split=8;, score=0.557 total time=   0.3s\n",
      "[CV 2/3] END criterion=entropy, max_depth=4, min_samples_split=8;, score=0.369 total time=   0.3s\n",
      "[CV 3/3] END criterion=entropy, max_depth=4, min_samples_split=8;, score=0.364 total time=   0.3s\n",
      "[CV 1/3] END criterion=entropy, max_depth=4, min_samples_split=16;, score=0.557 total time=   0.4s\n",
      "[CV 2/3] END criterion=entropy, max_depth=4, min_samples_split=16;, score=0.369 total time=   0.3s\n",
      "[CV 3/3] END criterion=entropy, max_depth=4, min_samples_split=16;, score=0.364 total time=   0.3s\n",
      "[CV 1/3] END criterion=entropy, max_depth=8, min_samples_split=2;, score=0.554 total time=   0.6s\n",
      "[CV 2/3] END criterion=entropy, max_depth=8, min_samples_split=2;, score=0.561 total time=   0.7s\n",
      "[CV 3/3] END criterion=entropy, max_depth=8, min_samples_split=2;, score=0.555 total time=   0.6s\n",
      "[CV 1/3] END criterion=entropy, max_depth=8, min_samples_split=4;, score=0.554 total time=   0.6s\n",
      "[CV 2/3] END criterion=entropy, max_depth=8, min_samples_split=4;, score=0.561 total time=   0.6s\n",
      "[CV 3/3] END criterion=entropy, max_depth=8, min_samples_split=4;, score=0.555 total time=   0.6s\n",
      "[CV 1/3] END criterion=entropy, max_depth=8, min_samples_split=8;, score=0.554 total time=   0.5s\n",
      "[CV 2/3] END criterion=entropy, max_depth=8, min_samples_split=8;, score=0.561 total time=   0.5s\n",
      "[CV 3/3] END criterion=entropy, max_depth=8, min_samples_split=8;, score=0.555 total time=   0.5s\n",
      "[CV 1/3] END criterion=entropy, max_depth=8, min_samples_split=16;, score=0.555 total time=   0.6s\n",
      "[CV 2/3] END criterion=entropy, max_depth=8, min_samples_split=16;, score=0.561 total time=   0.5s\n",
      "[CV 3/3] END criterion=entropy, max_depth=8, min_samples_split=16;, score=0.555 total time=   0.5s\n",
      "[CV 1/3] END criterion=entropy, max_depth=16, min_samples_split=2;, score=0.554 total time=   1.0s\n",
      "[CV 2/3] END criterion=entropy, max_depth=16, min_samples_split=2;, score=0.558 total time=   1.0s\n",
      "[CV 3/3] END criterion=entropy, max_depth=16, min_samples_split=2;, score=0.550 total time=   1.1s\n",
      "[CV 1/3] END criterion=entropy, max_depth=16, min_samples_split=4;, score=0.554 total time=   0.9s\n",
      "[CV 2/3] END criterion=entropy, max_depth=16, min_samples_split=4;, score=0.557 total time=   1.0s\n",
      "[CV 3/3] END criterion=entropy, max_depth=16, min_samples_split=4;, score=0.551 total time=   1.1s\n",
      "[CV 1/3] END criterion=entropy, max_depth=16, min_samples_split=8;, score=0.554 total time=   1.1s\n",
      "[CV 2/3] END criterion=entropy, max_depth=16, min_samples_split=8;, score=0.558 total time=   1.1s\n",
      "[CV 3/3] END criterion=entropy, max_depth=16, min_samples_split=8;, score=0.551 total time=   1.1s\n",
      "[CV 1/3] END criterion=entropy, max_depth=16, min_samples_split=16;, score=0.556 total time=   1.2s\n",
      "[CV 2/3] END criterion=entropy, max_depth=16, min_samples_split=16;, score=0.557 total time=   1.3s\n",
      "[CV 3/3] END criterion=entropy, max_depth=16, min_samples_split=16;, score=0.551 total time=   1.0s\n"
     ]
    },
    {
     "data": {
      "text/plain": "GridSearchCV(cv=3, estimator=DecisionTreeClassifier(random_state=42),\n             param_grid={'criterion': ['gini', 'entropy'],\n                         'max_depth': [4, 8, 16],\n                         'min_samples_split': [2, 4, 8, 16]},\n             scoring=make_scorer(f1_score, pos_label=True), verbose=3)",
      "text/html": "<style>#sk-container-id-14 {color: black;background-color: white;}#sk-container-id-14 pre{padding: 0;}#sk-container-id-14 div.sk-toggleable {background-color: white;}#sk-container-id-14 label.sk-toggleable__label {cursor: pointer;display: block;width: 100%;margin-bottom: 0;padding: 0.3em;box-sizing: border-box;text-align: center;}#sk-container-id-14 label.sk-toggleable__label-arrow:before {content: \"▸\";float: left;margin-right: 0.25em;color: #696969;}#sk-container-id-14 label.sk-toggleable__label-arrow:hover:before {color: black;}#sk-container-id-14 div.sk-estimator:hover label.sk-toggleable__label-arrow:before {color: black;}#sk-container-id-14 div.sk-toggleable__content {max-height: 0;max-width: 0;overflow: hidden;text-align: left;background-color: #f0f8ff;}#sk-container-id-14 div.sk-toggleable__content pre {margin: 0.2em;color: black;border-radius: 0.25em;background-color: #f0f8ff;}#sk-container-id-14 input.sk-toggleable__control:checked~div.sk-toggleable__content {max-height: 200px;max-width: 100%;overflow: auto;}#sk-container-id-14 input.sk-toggleable__control:checked~label.sk-toggleable__label-arrow:before {content: \"▾\";}#sk-container-id-14 div.sk-estimator input.sk-toggleable__control:checked~label.sk-toggleable__label {background-color: #d4ebff;}#sk-container-id-14 div.sk-label input.sk-toggleable__control:checked~label.sk-toggleable__label {background-color: #d4ebff;}#sk-container-id-14 input.sk-hidden--visually {border: 0;clip: rect(1px 1px 1px 1px);clip: rect(1px, 1px, 1px, 1px);height: 1px;margin: -1px;overflow: hidden;padding: 0;position: absolute;width: 1px;}#sk-container-id-14 div.sk-estimator {font-family: monospace;background-color: #f0f8ff;border: 1px dotted black;border-radius: 0.25em;box-sizing: border-box;margin-bottom: 0.5em;}#sk-container-id-14 div.sk-estimator:hover {background-color: #d4ebff;}#sk-container-id-14 div.sk-parallel-item::after {content: \"\";width: 100%;border-bottom: 1px solid gray;flex-grow: 1;}#sk-container-id-14 div.sk-label:hover label.sk-toggleable__label {background-color: #d4ebff;}#sk-container-id-14 div.sk-serial::before {content: \"\";position: absolute;border-left: 1px solid gray;box-sizing: border-box;top: 0;bottom: 0;left: 50%;z-index: 0;}#sk-container-id-14 div.sk-serial {display: flex;flex-direction: column;align-items: center;background-color: white;padding-right: 0.2em;padding-left: 0.2em;position: relative;}#sk-container-id-14 div.sk-item {position: relative;z-index: 1;}#sk-container-id-14 div.sk-parallel {display: flex;align-items: stretch;justify-content: center;background-color: white;position: relative;}#sk-container-id-14 div.sk-item::before, #sk-container-id-14 div.sk-parallel-item::before {content: \"\";position: absolute;border-left: 1px solid gray;box-sizing: border-box;top: 0;bottom: 0;left: 50%;z-index: -1;}#sk-container-id-14 div.sk-parallel-item {display: flex;flex-direction: column;z-index: 1;position: relative;background-color: white;}#sk-container-id-14 div.sk-parallel-item:first-child::after {align-self: flex-end;width: 50%;}#sk-container-id-14 div.sk-parallel-item:last-child::after {align-self: flex-start;width: 50%;}#sk-container-id-14 div.sk-parallel-item:only-child::after {width: 0;}#sk-container-id-14 div.sk-dashed-wrapped {border: 1px dashed gray;margin: 0 0.4em 0.5em 0.4em;box-sizing: border-box;padding-bottom: 0.4em;background-color: white;}#sk-container-id-14 div.sk-label label {font-family: monospace;font-weight: bold;display: inline-block;line-height: 1.2em;}#sk-container-id-14 div.sk-label-container {text-align: center;}#sk-container-id-14 div.sk-container {/* jupyter's `normalize.less` sets `[hidden] { display: none; }` but bootstrap.min.css set `[hidden] { display: none !important; }` so we also need the `!important` here to be able to override the default hidden behavior on the sphinx rendered scikit-learn.org. See: https://github.com/scikit-learn/scikit-learn/issues/21755 */display: inline-block !important;position: relative;}#sk-container-id-14 div.sk-text-repr-fallback {display: none;}</style><div id=\"sk-container-id-14\" class=\"sk-top-container\"><div class=\"sk-text-repr-fallback\"><pre>GridSearchCV(cv=3, estimator=DecisionTreeClassifier(random_state=42),\n             param_grid={&#x27;criterion&#x27;: [&#x27;gini&#x27;, &#x27;entropy&#x27;],\n                         &#x27;max_depth&#x27;: [4, 8, 16],\n                         &#x27;min_samples_split&#x27;: [2, 4, 8, 16]},\n             scoring=make_scorer(f1_score, pos_label=True), verbose=3)</pre><b>In a Jupyter environment, please rerun this cell to show the HTML representation or trust the notebook. <br />On GitHub, the HTML representation is unable to render, please try loading this page with nbviewer.org.</b></div><div class=\"sk-container\" hidden><div class=\"sk-item sk-dashed-wrapped\"><div class=\"sk-label-container\"><div class=\"sk-label sk-toggleable\"><input class=\"sk-toggleable__control sk-hidden--visually\" id=\"sk-estimator-id-26\" type=\"checkbox\" ><label for=\"sk-estimator-id-26\" class=\"sk-toggleable__label sk-toggleable__label-arrow\">GridSearchCV</label><div class=\"sk-toggleable__content\"><pre>GridSearchCV(cv=3, estimator=DecisionTreeClassifier(random_state=42),\n             param_grid={&#x27;criterion&#x27;: [&#x27;gini&#x27;, &#x27;entropy&#x27;],\n                         &#x27;max_depth&#x27;: [4, 8, 16],\n                         &#x27;min_samples_split&#x27;: [2, 4, 8, 16]},\n             scoring=make_scorer(f1_score, pos_label=True), verbose=3)</pre></div></div></div><div class=\"sk-parallel\"><div class=\"sk-parallel-item\"><div class=\"sk-item\"><div class=\"sk-label-container\"><div class=\"sk-label sk-toggleable\"><input class=\"sk-toggleable__control sk-hidden--visually\" id=\"sk-estimator-id-27\" type=\"checkbox\" ><label for=\"sk-estimator-id-27\" class=\"sk-toggleable__label sk-toggleable__label-arrow\">estimator: DecisionTreeClassifier</label><div class=\"sk-toggleable__content\"><pre>DecisionTreeClassifier(random_state=42)</pre></div></div></div><div class=\"sk-serial\"><div class=\"sk-item\"><div class=\"sk-estimator sk-toggleable\"><input class=\"sk-toggleable__control sk-hidden--visually\" id=\"sk-estimator-id-28\" type=\"checkbox\" ><label for=\"sk-estimator-id-28\" class=\"sk-toggleable__label sk-toggleable__label-arrow\">DecisionTreeClassifier</label><div class=\"sk-toggleable__content\"><pre>DecisionTreeClassifier(random_state=42)</pre></div></div></div></div></div></div></div></div></div></div>"
     },
     "execution_count": 125,
     "metadata": {},
     "output_type": "execute_result"
    }
   ],
   "source": [
    "from sklearn.model_selection import GridSearchCV\n",
    "from sklearn.metrics import make_scorer, f1_score\n",
    "f1 = make_scorer(f1_score, pos_label =True)\n",
    "param_grid = {'max_depth': [4, 8, 16],\n",
    "              'min_samples_split': [2,4, 8, 16],\n",
    "              'criterion': ['gini', 'entropy']\n",
    "}\n",
    "\n",
    "grid = GridSearchCV(DecisionTreeClassifier(random_state=42), param_grid, cv=3, scoring=f1, verbose =3)\n",
    "grid.fit(X_train, y_train)"
   ],
   "metadata": {
    "collapsed": false
   }
  },
  {
   "cell_type": "code",
   "execution_count": 126,
   "outputs": [
    {
     "data": {
      "text/plain": "{'criterion': 'gini', 'max_depth': 16, 'min_samples_split': 16}"
     },
     "execution_count": 126,
     "metadata": {},
     "output_type": "execute_result"
    }
   ],
   "source": [
    "grid.best_params_"
   ],
   "metadata": {
    "collapsed": false
   }
  },
  {
   "cell_type": "markdown",
   "source": [
    "#### Finer grid search  around best parameters"
   ],
   "metadata": {
    "collapsed": false
   }
  },
  {
   "cell_type": "code",
   "execution_count": 133,
   "outputs": [
    {
     "name": "stdout",
     "output_type": "stream",
     "text": [
      "Fitting 3 folds for each of 20 candidates, totalling 60 fits\n",
      "[CV 1/3] END criterion=gini, max_depth=12, min_samples_split=12;, score=0.537 total time=   2.3s\n",
      "[CV 2/3] END criterion=gini, max_depth=12, min_samples_split=12;, score=0.554 total time=   0.6s\n",
      "[CV 3/3] END criterion=gini, max_depth=12, min_samples_split=12;, score=0.555 total time=   0.6s\n",
      "[CV 1/3] END criterion=gini, max_depth=12, min_samples_split=14;, score=0.537 total time=   0.6s\n",
      "[CV 2/3] END criterion=gini, max_depth=12, min_samples_split=14;, score=0.554 total time=   0.6s\n",
      "[CV 3/3] END criterion=gini, max_depth=12, min_samples_split=14;, score=0.554 total time=   0.8s\n",
      "[CV 1/3] END criterion=gini, max_depth=12, min_samples_split=16;, score=0.537 total time=   0.6s\n",
      "[CV 2/3] END criterion=gini, max_depth=12, min_samples_split=16;, score=0.554 total time=   0.6s\n",
      "[CV 3/3] END criterion=gini, max_depth=12, min_samples_split=16;, score=0.554 total time=   0.7s\n",
      "[CV 1/3] END criterion=gini, max_depth=12, min_samples_split=18;, score=0.537 total time=   0.6s\n",
      "[CV 2/3] END criterion=gini, max_depth=12, min_samples_split=18;, score=0.554 total time=   0.7s\n",
      "[CV 3/3] END criterion=gini, max_depth=12, min_samples_split=18;, score=0.554 total time=   0.7s\n",
      "[CV 1/3] END criterion=gini, max_depth=14, min_samples_split=12;, score=0.564 total time=   0.7s\n",
      "[CV 2/3] END criterion=gini, max_depth=14, min_samples_split=12;, score=0.563 total time=   0.7s\n",
      "[CV 3/3] END criterion=gini, max_depth=14, min_samples_split=12;, score=0.557 total time=   0.7s\n",
      "[CV 1/3] END criterion=gini, max_depth=14, min_samples_split=14;, score=0.566 total time=   0.7s\n",
      "[CV 2/3] END criterion=gini, max_depth=14, min_samples_split=14;, score=0.563 total time=   0.8s\n",
      "[CV 3/3] END criterion=gini, max_depth=14, min_samples_split=14;, score=0.558 total time=   0.8s\n",
      "[CV 1/3] END criterion=gini, max_depth=14, min_samples_split=16;, score=0.566 total time=   0.8s\n",
      "[CV 2/3] END criterion=gini, max_depth=14, min_samples_split=16;, score=0.563 total time=   0.8s\n",
      "[CV 3/3] END criterion=gini, max_depth=14, min_samples_split=16;, score=0.558 total time=   0.8s\n",
      "[CV 1/3] END criterion=gini, max_depth=14, min_samples_split=18;, score=0.566 total time=   0.7s\n",
      "[CV 2/3] END criterion=gini, max_depth=14, min_samples_split=18;, score=0.564 total time=   0.7s\n",
      "[CV 3/3] END criterion=gini, max_depth=14, min_samples_split=18;, score=0.558 total time=   0.8s\n",
      "[CV 1/3] END criterion=gini, max_depth=16, min_samples_split=12;, score=0.569 total time=   1.5s\n",
      "[CV 2/3] END criterion=gini, max_depth=16, min_samples_split=12;, score=0.566 total time=   1.6s\n",
      "[CV 3/3] END criterion=gini, max_depth=16, min_samples_split=12;, score=0.549 total time=   1.2s\n",
      "[CV 1/3] END criterion=gini, max_depth=16, min_samples_split=14;, score=0.570 total time=   1.3s\n",
      "[CV 2/3] END criterion=gini, max_depth=16, min_samples_split=14;, score=0.568 total time=   1.4s\n",
      "[CV 3/3] END criterion=gini, max_depth=16, min_samples_split=14;, score=0.546 total time=   0.9s\n",
      "[CV 1/3] END criterion=gini, max_depth=16, min_samples_split=16;, score=0.571 total time=   0.7s\n",
      "[CV 2/3] END criterion=gini, max_depth=16, min_samples_split=16;, score=0.567 total time=   0.8s\n",
      "[CV 3/3] END criterion=gini, max_depth=16, min_samples_split=16;, score=0.549 total time=   0.9s\n",
      "[CV 1/3] END criterion=gini, max_depth=16, min_samples_split=18;, score=0.571 total time=   0.8s\n",
      "[CV 2/3] END criterion=gini, max_depth=16, min_samples_split=18;, score=0.567 total time=   0.8s\n",
      "[CV 3/3] END criterion=gini, max_depth=16, min_samples_split=18;, score=0.549 total time=   0.7s\n",
      "[CV 1/3] END criterion=gini, max_depth=18, min_samples_split=12;, score=0.565 total time=   0.8s\n",
      "[CV 2/3] END criterion=gini, max_depth=18, min_samples_split=12;, score=0.553 total time=   0.8s\n",
      "[CV 3/3] END criterion=gini, max_depth=18, min_samples_split=12;, score=0.542 total time=   0.8s\n",
      "[CV 1/3] END criterion=gini, max_depth=18, min_samples_split=14;, score=0.568 total time=   0.9s\n",
      "[CV 2/3] END criterion=gini, max_depth=18, min_samples_split=14;, score=0.557 total time=   0.9s\n",
      "[CV 3/3] END criterion=gini, max_depth=18, min_samples_split=14;, score=0.544 total time=   0.9s\n",
      "[CV 1/3] END criterion=gini, max_depth=18, min_samples_split=16;, score=0.567 total time=   0.8s\n",
      "[CV 2/3] END criterion=gini, max_depth=18, min_samples_split=16;, score=0.554 total time=   0.8s\n",
      "[CV 3/3] END criterion=gini, max_depth=18, min_samples_split=16;, score=0.543 total time=   0.8s\n",
      "[CV 1/3] END criterion=gini, max_depth=18, min_samples_split=18;, score=0.568 total time=   0.8s\n",
      "[CV 2/3] END criterion=gini, max_depth=18, min_samples_split=18;, score=0.554 total time=   0.8s\n",
      "[CV 3/3] END criterion=gini, max_depth=18, min_samples_split=18;, score=0.543 total time=   0.9s\n",
      "[CV 1/3] END criterion=gini, max_depth=20, min_samples_split=12;, score=0.556 total time=   1.0s\n",
      "[CV 2/3] END criterion=gini, max_depth=20, min_samples_split=12;, score=0.547 total time=   0.8s\n",
      "[CV 3/3] END criterion=gini, max_depth=20, min_samples_split=12;, score=0.541 total time=   0.8s\n",
      "[CV 1/3] END criterion=gini, max_depth=20, min_samples_split=14;, score=0.559 total time=   0.8s\n",
      "[CV 2/3] END criterion=gini, max_depth=20, min_samples_split=14;, score=0.552 total time=   0.8s\n",
      "[CV 3/3] END criterion=gini, max_depth=20, min_samples_split=14;, score=0.542 total time=   0.8s\n",
      "[CV 1/3] END criterion=gini, max_depth=20, min_samples_split=16;, score=0.559 total time=   0.8s\n",
      "[CV 2/3] END criterion=gini, max_depth=20, min_samples_split=16;, score=0.552 total time=   0.7s\n",
      "[CV 3/3] END criterion=gini, max_depth=20, min_samples_split=16;, score=0.541 total time=   0.7s\n",
      "[CV 1/3] END criterion=gini, max_depth=20, min_samples_split=18;, score=0.560 total time=   0.8s\n",
      "[CV 2/3] END criterion=gini, max_depth=20, min_samples_split=18;, score=0.551 total time=   0.9s\n",
      "[CV 3/3] END criterion=gini, max_depth=20, min_samples_split=18;, score=0.542 total time=   0.8s\n"
     ]
    },
    {
     "data": {
      "text/plain": "GridSearchCV(cv=3, estimator=DecisionTreeClassifier(random_state=42),\n             param_grid={'criterion': ['gini'],\n                         'max_depth': [12, 14, 16, 18, 20],\n                         'min_samples_split': [12, 14, 16, 18]},\n             scoring='f1', verbose=3)",
      "text/html": "<style>#sk-container-id-17 {color: black;background-color: white;}#sk-container-id-17 pre{padding: 0;}#sk-container-id-17 div.sk-toggleable {background-color: white;}#sk-container-id-17 label.sk-toggleable__label {cursor: pointer;display: block;width: 100%;margin-bottom: 0;padding: 0.3em;box-sizing: border-box;text-align: center;}#sk-container-id-17 label.sk-toggleable__label-arrow:before {content: \"▸\";float: left;margin-right: 0.25em;color: #696969;}#sk-container-id-17 label.sk-toggleable__label-arrow:hover:before {color: black;}#sk-container-id-17 div.sk-estimator:hover label.sk-toggleable__label-arrow:before {color: black;}#sk-container-id-17 div.sk-toggleable__content {max-height: 0;max-width: 0;overflow: hidden;text-align: left;background-color: #f0f8ff;}#sk-container-id-17 div.sk-toggleable__content pre {margin: 0.2em;color: black;border-radius: 0.25em;background-color: #f0f8ff;}#sk-container-id-17 input.sk-toggleable__control:checked~div.sk-toggleable__content {max-height: 200px;max-width: 100%;overflow: auto;}#sk-container-id-17 input.sk-toggleable__control:checked~label.sk-toggleable__label-arrow:before {content: \"▾\";}#sk-container-id-17 div.sk-estimator input.sk-toggleable__control:checked~label.sk-toggleable__label {background-color: #d4ebff;}#sk-container-id-17 div.sk-label input.sk-toggleable__control:checked~label.sk-toggleable__label {background-color: #d4ebff;}#sk-container-id-17 input.sk-hidden--visually {border: 0;clip: rect(1px 1px 1px 1px);clip: rect(1px, 1px, 1px, 1px);height: 1px;margin: -1px;overflow: hidden;padding: 0;position: absolute;width: 1px;}#sk-container-id-17 div.sk-estimator {font-family: monospace;background-color: #f0f8ff;border: 1px dotted black;border-radius: 0.25em;box-sizing: border-box;margin-bottom: 0.5em;}#sk-container-id-17 div.sk-estimator:hover {background-color: #d4ebff;}#sk-container-id-17 div.sk-parallel-item::after {content: \"\";width: 100%;border-bottom: 1px solid gray;flex-grow: 1;}#sk-container-id-17 div.sk-label:hover label.sk-toggleable__label {background-color: #d4ebff;}#sk-container-id-17 div.sk-serial::before {content: \"\";position: absolute;border-left: 1px solid gray;box-sizing: border-box;top: 0;bottom: 0;left: 50%;z-index: 0;}#sk-container-id-17 div.sk-serial {display: flex;flex-direction: column;align-items: center;background-color: white;padding-right: 0.2em;padding-left: 0.2em;position: relative;}#sk-container-id-17 div.sk-item {position: relative;z-index: 1;}#sk-container-id-17 div.sk-parallel {display: flex;align-items: stretch;justify-content: center;background-color: white;position: relative;}#sk-container-id-17 div.sk-item::before, #sk-container-id-17 div.sk-parallel-item::before {content: \"\";position: absolute;border-left: 1px solid gray;box-sizing: border-box;top: 0;bottom: 0;left: 50%;z-index: -1;}#sk-container-id-17 div.sk-parallel-item {display: flex;flex-direction: column;z-index: 1;position: relative;background-color: white;}#sk-container-id-17 div.sk-parallel-item:first-child::after {align-self: flex-end;width: 50%;}#sk-container-id-17 div.sk-parallel-item:last-child::after {align-self: flex-start;width: 50%;}#sk-container-id-17 div.sk-parallel-item:only-child::after {width: 0;}#sk-container-id-17 div.sk-dashed-wrapped {border: 1px dashed gray;margin: 0 0.4em 0.5em 0.4em;box-sizing: border-box;padding-bottom: 0.4em;background-color: white;}#sk-container-id-17 div.sk-label label {font-family: monospace;font-weight: bold;display: inline-block;line-height: 1.2em;}#sk-container-id-17 div.sk-label-container {text-align: center;}#sk-container-id-17 div.sk-container {/* jupyter's `normalize.less` sets `[hidden] { display: none; }` but bootstrap.min.css set `[hidden] { display: none !important; }` so we also need the `!important` here to be able to override the default hidden behavior on the sphinx rendered scikit-learn.org. See: https://github.com/scikit-learn/scikit-learn/issues/21755 */display: inline-block !important;position: relative;}#sk-container-id-17 div.sk-text-repr-fallback {display: none;}</style><div id=\"sk-container-id-17\" class=\"sk-top-container\"><div class=\"sk-text-repr-fallback\"><pre>GridSearchCV(cv=3, estimator=DecisionTreeClassifier(random_state=42),\n             param_grid={&#x27;criterion&#x27;: [&#x27;gini&#x27;],\n                         &#x27;max_depth&#x27;: [12, 14, 16, 18, 20],\n                         &#x27;min_samples_split&#x27;: [12, 14, 16, 18]},\n             scoring=&#x27;f1&#x27;, verbose=3)</pre><b>In a Jupyter environment, please rerun this cell to show the HTML representation or trust the notebook. <br />On GitHub, the HTML representation is unable to render, please try loading this page with nbviewer.org.</b></div><div class=\"sk-container\" hidden><div class=\"sk-item sk-dashed-wrapped\"><div class=\"sk-label-container\"><div class=\"sk-label sk-toggleable\"><input class=\"sk-toggleable__control sk-hidden--visually\" id=\"sk-estimator-id-33\" type=\"checkbox\" ><label for=\"sk-estimator-id-33\" class=\"sk-toggleable__label sk-toggleable__label-arrow\">GridSearchCV</label><div class=\"sk-toggleable__content\"><pre>GridSearchCV(cv=3, estimator=DecisionTreeClassifier(random_state=42),\n             param_grid={&#x27;criterion&#x27;: [&#x27;gini&#x27;],\n                         &#x27;max_depth&#x27;: [12, 14, 16, 18, 20],\n                         &#x27;min_samples_split&#x27;: [12, 14, 16, 18]},\n             scoring=&#x27;f1&#x27;, verbose=3)</pre></div></div></div><div class=\"sk-parallel\"><div class=\"sk-parallel-item\"><div class=\"sk-item\"><div class=\"sk-label-container\"><div class=\"sk-label sk-toggleable\"><input class=\"sk-toggleable__control sk-hidden--visually\" id=\"sk-estimator-id-34\" type=\"checkbox\" ><label for=\"sk-estimator-id-34\" class=\"sk-toggleable__label sk-toggleable__label-arrow\">estimator: DecisionTreeClassifier</label><div class=\"sk-toggleable__content\"><pre>DecisionTreeClassifier(random_state=42)</pre></div></div></div><div class=\"sk-serial\"><div class=\"sk-item\"><div class=\"sk-estimator sk-toggleable\"><input class=\"sk-toggleable__control sk-hidden--visually\" id=\"sk-estimator-id-35\" type=\"checkbox\" ><label for=\"sk-estimator-id-35\" class=\"sk-toggleable__label sk-toggleable__label-arrow\">DecisionTreeClassifier</label><div class=\"sk-toggleable__content\"><pre>DecisionTreeClassifier(random_state=42)</pre></div></div></div></div></div></div></div></div></div></div>"
     },
     "execution_count": 133,
     "metadata": {},
     "output_type": "execute_result"
    }
   ],
   "source": [
    "# finer grid search around best parameters\n",
    "param_grid = {'max_depth': [12, 14,16, 18,20],\n",
    "              'min_samples_split': [12, 14,16, 18 ],\n",
    "              'criterion': ['gini']\n",
    "}\n",
    "grid = GridSearchCV(DecisionTreeClassifier(random_state=42), param_grid, cv=3, scoring='f1', verbose =3)\n",
    "grid.fit(X_train, y_train)\n"
   ],
   "metadata": {
    "collapsed": false
   }
  },
  {
   "cell_type": "code",
   "execution_count": 134,
   "outputs": [
    {
     "data": {
      "text/plain": "{'criterion': 'gini', 'max_depth': 14, 'min_samples_split': 18}"
     },
     "execution_count": 134,
     "metadata": {},
     "output_type": "execute_result"
    }
   ],
   "source": [
    "grid.best_params_"
   ],
   "metadata": {
    "collapsed": false
   }
  },
  {
   "cell_type": "code",
   "execution_count": 135,
   "outputs": [
    {
     "data": {
      "text/plain": "DecisionTreeClassifier(max_depth=14, min_samples_leaf=18, random_state=42)",
      "text/html": "<style>#sk-container-id-18 {color: black;background-color: white;}#sk-container-id-18 pre{padding: 0;}#sk-container-id-18 div.sk-toggleable {background-color: white;}#sk-container-id-18 label.sk-toggleable__label {cursor: pointer;display: block;width: 100%;margin-bottom: 0;padding: 0.3em;box-sizing: border-box;text-align: center;}#sk-container-id-18 label.sk-toggleable__label-arrow:before {content: \"▸\";float: left;margin-right: 0.25em;color: #696969;}#sk-container-id-18 label.sk-toggleable__label-arrow:hover:before {color: black;}#sk-container-id-18 div.sk-estimator:hover label.sk-toggleable__label-arrow:before {color: black;}#sk-container-id-18 div.sk-toggleable__content {max-height: 0;max-width: 0;overflow: hidden;text-align: left;background-color: #f0f8ff;}#sk-container-id-18 div.sk-toggleable__content pre {margin: 0.2em;color: black;border-radius: 0.25em;background-color: #f0f8ff;}#sk-container-id-18 input.sk-toggleable__control:checked~div.sk-toggleable__content {max-height: 200px;max-width: 100%;overflow: auto;}#sk-container-id-18 input.sk-toggleable__control:checked~label.sk-toggleable__label-arrow:before {content: \"▾\";}#sk-container-id-18 div.sk-estimator input.sk-toggleable__control:checked~label.sk-toggleable__label {background-color: #d4ebff;}#sk-container-id-18 div.sk-label input.sk-toggleable__control:checked~label.sk-toggleable__label {background-color: #d4ebff;}#sk-container-id-18 input.sk-hidden--visually {border: 0;clip: rect(1px 1px 1px 1px);clip: rect(1px, 1px, 1px, 1px);height: 1px;margin: -1px;overflow: hidden;padding: 0;position: absolute;width: 1px;}#sk-container-id-18 div.sk-estimator {font-family: monospace;background-color: #f0f8ff;border: 1px dotted black;border-radius: 0.25em;box-sizing: border-box;margin-bottom: 0.5em;}#sk-container-id-18 div.sk-estimator:hover {background-color: #d4ebff;}#sk-container-id-18 div.sk-parallel-item::after {content: \"\";width: 100%;border-bottom: 1px solid gray;flex-grow: 1;}#sk-container-id-18 div.sk-label:hover label.sk-toggleable__label {background-color: #d4ebff;}#sk-container-id-18 div.sk-serial::before {content: \"\";position: absolute;border-left: 1px solid gray;box-sizing: border-box;top: 0;bottom: 0;left: 50%;z-index: 0;}#sk-container-id-18 div.sk-serial {display: flex;flex-direction: column;align-items: center;background-color: white;padding-right: 0.2em;padding-left: 0.2em;position: relative;}#sk-container-id-18 div.sk-item {position: relative;z-index: 1;}#sk-container-id-18 div.sk-parallel {display: flex;align-items: stretch;justify-content: center;background-color: white;position: relative;}#sk-container-id-18 div.sk-item::before, #sk-container-id-18 div.sk-parallel-item::before {content: \"\";position: absolute;border-left: 1px solid gray;box-sizing: border-box;top: 0;bottom: 0;left: 50%;z-index: -1;}#sk-container-id-18 div.sk-parallel-item {display: flex;flex-direction: column;z-index: 1;position: relative;background-color: white;}#sk-container-id-18 div.sk-parallel-item:first-child::after {align-self: flex-end;width: 50%;}#sk-container-id-18 div.sk-parallel-item:last-child::after {align-self: flex-start;width: 50%;}#sk-container-id-18 div.sk-parallel-item:only-child::after {width: 0;}#sk-container-id-18 div.sk-dashed-wrapped {border: 1px dashed gray;margin: 0 0.4em 0.5em 0.4em;box-sizing: border-box;padding-bottom: 0.4em;background-color: white;}#sk-container-id-18 div.sk-label label {font-family: monospace;font-weight: bold;display: inline-block;line-height: 1.2em;}#sk-container-id-18 div.sk-label-container {text-align: center;}#sk-container-id-18 div.sk-container {/* jupyter's `normalize.less` sets `[hidden] { display: none; }` but bootstrap.min.css set `[hidden] { display: none !important; }` so we also need the `!important` here to be able to override the default hidden behavior on the sphinx rendered scikit-learn.org. See: https://github.com/scikit-learn/scikit-learn/issues/21755 */display: inline-block !important;position: relative;}#sk-container-id-18 div.sk-text-repr-fallback {display: none;}</style><div id=\"sk-container-id-18\" class=\"sk-top-container\"><div class=\"sk-text-repr-fallback\"><pre>DecisionTreeClassifier(max_depth=14, min_samples_leaf=18, random_state=42)</pre><b>In a Jupyter environment, please rerun this cell to show the HTML representation or trust the notebook. <br />On GitHub, the HTML representation is unable to render, please try loading this page with nbviewer.org.</b></div><div class=\"sk-container\" hidden><div class=\"sk-item\"><div class=\"sk-estimator sk-toggleable\"><input class=\"sk-toggleable__control sk-hidden--visually\" id=\"sk-estimator-id-36\" type=\"checkbox\" checked><label for=\"sk-estimator-id-36\" class=\"sk-toggleable__label sk-toggleable__label-arrow\">DecisionTreeClassifier</label><div class=\"sk-toggleable__content\"><pre>DecisionTreeClassifier(max_depth=14, min_samples_leaf=18, random_state=42)</pre></div></div></div></div></div>"
     },
     "execution_count": 135,
     "metadata": {},
     "output_type": "execute_result"
    }
   ],
   "source": [
    "#best parameters\n",
    "tree = DecisionTreeClassifier(random_state=42, max_depth=14, min_samples_leaf=18, criterion='gini')\n",
    "tree.fit(X_train, y_train)"
   ],
   "metadata": {
    "collapsed": false
   }
  },
  {
   "cell_type": "code",
   "execution_count": 136,
   "outputs": [
    {
     "name": "stdout",
     "output_type": "stream",
     "text": [
      "Best decision Tree model trained on whole development set (unbalanced)\n",
      "Accuracy on training set:  0.8091070875889818\n",
      "confusion_matrix on training set: \n",
      " [[84539  8243]\n",
      " [16428 20030]]\n",
      "Accuracy on validation set:  0.7784586815227483\n",
      "Confusion matrix: \n",
      " [[20712  2637]\n",
      " [ 4521  4440]]\n",
      "Classification report: \n",
      "               precision    recall  f1-score   support\n",
      "\n",
      "       False       0.82      0.89      0.85     23349\n",
      "        True       0.63      0.50      0.55      8961\n",
      "\n",
      "    accuracy                           0.78     32310\n",
      "   macro avg       0.72      0.69      0.70     32310\n",
      "weighted avg       0.77      0.78      0.77     32310\n",
      "\n"
     ]
    }
   ],
   "source": [
    "y_pred = tree.predict(X_test)\n",
    "y_pred_train = tree.predict(X_train)\n",
    "print('Best decision Tree model trained on whole development set (unbalanced)')\n",
    "print('Accuracy on training set: ', accuracy_score(y_train, y_pred_train))\n",
    "print('confusion_matrix on training set: \\n', confusion_matrix(y_train, y_pred_train))\n",
    "print('Accuracy on validation set: ', accuracy_score(y_test, y_pred))\n",
    "print('Confusion matrix: \\n', confusion_matrix(y_test, y_pred))\n",
    "print('Classification report: \\n', classification_report(y_test, y_pred))\n"
   ],
   "metadata": {
    "collapsed": false
   }
  },
  {
   "cell_type": "code",
   "execution_count": 139,
   "outputs": [
    {
     "data": {
      "text/plain": "<Figure size 640x480 with 1 Axes>",
      "image/png": "[encoded data removed]"
     },
     "metadata": {},
     "output_type": "display_data"
    }
   ],
   "source": [
    "# roc curve\n",
    "from sklearn.metrics import roc_curve, roc_auc_score\n",
    "y_pred_proba = tree.predict_proba(X_test)[:,1]\n",
    "fpr, tpr, thresholds = roc_curve(y_test, y_pred_proba)\n",
    "plt.plot([0,1], [0,1], 'k--')\n",
    "plt.plot(fpr, tpr, label='Decision Tree')\n",
    "plt.xlabel('False Positive Rate')\n",
    "plt.ylabel('True Positive Rate')\n",
    "plt.title(f'Decision Tree ROC Curve, AUC={ roc_auc_score(y_test, y_pred_proba):.3f}')\n",
    "\n",
    "plt.show()\n"
   ],
   "metadata": {
    "collapsed": false
   }
  },
  {
   "cell_type": "markdown",
   "source": [
    "### Try balancing data"
   ],
   "metadata": {
    "collapsed": false
   }
  },
  {
   "cell_type": "markdown",
   "source": [
    "#### Undersampling"
   ],
   "metadata": {
    "collapsed": false
   }
  },
  {
   "cell_type": "code",
   "execution_count": 106,
   "outputs": [
    {
     "data": {
      "text/plain": "(72916, 24)"
     },
     "execution_count": 106,
     "metadata": {},
     "output_type": "execute_result"
    }
   ],
   "source": [
    "from imblearn.under_sampling import RandomUnderSampler\n",
    "X_train, X_test, y_train, y_test = train_test_split(X, y, test_size=0.2, random_state=42)\n",
    "rus = RandomUnderSampler(random_state=41)\n",
    "X_undersampled, y_undersampled = rus.fit_resample(X_train, y_train)\n",
    "X_undersampled.shape"
   ],
   "metadata": {
    "collapsed": false
   }
  },
  {
   "cell_type": "code",
   "execution_count": 107,
   "outputs": [
    {
     "name": "stdout",
     "output_type": "stream",
     "text": [
      "Fitting 3 folds for each of 24 candidates, totalling 72 fits\n",
      "[CV 1/3] END criterion=gini, max_depth=4, min_samples_split=2;, score=0.766 total time=   0.1s\n",
      "[CV 2/3] END criterion=gini, max_depth=4, min_samples_split=2;, score=0.753 total time=   0.1s\n",
      "[CV 3/3] END criterion=gini, max_depth=4, min_samples_split=2;, score=0.763 total time=   0.1s\n",
      "[CV 1/3] END criterion=gini, max_depth=4, min_samples_split=4;, score=0.766 total time=   0.1s\n",
      "[CV 2/3] END criterion=gini, max_depth=4, min_samples_split=4;, score=0.753 total time=   0.1s\n",
      "[CV 3/3] END criterion=gini, max_depth=4, min_samples_split=4;, score=0.763 total time=   0.1s\n",
      "[CV 1/3] END criterion=gini, max_depth=4, min_samples_split=8;, score=0.766 total time=   0.1s\n",
      "[CV 2/3] END criterion=gini, max_depth=4, min_samples_split=8;, score=0.753 total time=   0.1s\n",
      "[CV 3/3] END criterion=gini, max_depth=4, min_samples_split=8;, score=0.763 total time=   0.2s\n",
      "[CV 1/3] END criterion=gini, max_depth=4, min_samples_split=16;, score=0.766 total time=   0.1s\n",
      "[CV 2/3] END criterion=gini, max_depth=4, min_samples_split=16;, score=0.753 total time=   0.1s\n",
      "[CV 3/3] END criterion=gini, max_depth=4, min_samples_split=16;, score=0.763 total time=   0.1s\n",
      "[CV 1/3] END criterion=gini, max_depth=8, min_samples_split=2;, score=0.762 total time=   0.3s\n",
      "[CV 2/3] END criterion=gini, max_depth=8, min_samples_split=2;, score=0.759 total time=   0.4s\n",
      "[CV 3/3] END criterion=gini, max_depth=8, min_samples_split=2;, score=0.750 total time=   0.3s\n",
      "[CV 1/3] END criterion=gini, max_depth=8, min_samples_split=4;, score=0.762 total time=   0.4s\n",
      "[CV 2/3] END criterion=gini, max_depth=8, min_samples_split=4;, score=0.759 total time=   0.4s\n",
      "[CV 3/3] END criterion=gini, max_depth=8, min_samples_split=4;, score=0.750 total time=   0.4s\n",
      "[CV 1/3] END criterion=gini, max_depth=8, min_samples_split=8;, score=0.762 total time=   0.3s\n",
      "[CV 2/3] END criterion=gini, max_depth=8, min_samples_split=8;, score=0.759 total time=   0.4s\n",
      "[CV 3/3] END criterion=gini, max_depth=8, min_samples_split=8;, score=0.750 total time=   0.4s\n",
      "[CV 1/3] END criterion=gini, max_depth=8, min_samples_split=16;, score=0.761 total time=   0.4s\n",
      "[CV 2/3] END criterion=gini, max_depth=8, min_samples_split=16;, score=0.759 total time=   0.4s\n",
      "[CV 3/3] END criterion=gini, max_depth=8, min_samples_split=16;, score=0.749 total time=   0.4s\n",
      "[CV 1/3] END criterion=gini, max_depth=16, min_samples_split=2;, score=0.742 total time=   1.2s\n",
      "[CV 2/3] END criterion=gini, max_depth=16, min_samples_split=2;, score=0.748 total time=   1.1s\n",
      "[CV 3/3] END criterion=gini, max_depth=16, min_samples_split=2;, score=0.735 total time=   0.7s\n",
      "[CV 1/3] END criterion=gini, max_depth=16, min_samples_split=4;, score=0.741 total time=   1.2s\n",
      "[CV 2/3] END criterion=gini, max_depth=16, min_samples_split=4;, score=0.748 total time=   1.1s\n",
      "[CV 3/3] END criterion=gini, max_depth=16, min_samples_split=4;, score=0.734 total time=   1.3s\n",
      "[CV 1/3] END criterion=gini, max_depth=16, min_samples_split=8;, score=0.741 total time=   2.2s\n",
      "[CV 2/3] END criterion=gini, max_depth=16, min_samples_split=8;, score=0.746 total time=   2.2s\n",
      "[CV 3/3] END criterion=gini, max_depth=16, min_samples_split=8;, score=0.734 total time=   2.4s\n",
      "[CV 1/3] END criterion=gini, max_depth=16, min_samples_split=16;, score=0.741 total time=   0.9s\n",
      "[CV 2/3] END criterion=gini, max_depth=16, min_samples_split=16;, score=0.743 total time=   1.1s\n",
      "[CV 3/3] END criterion=gini, max_depth=16, min_samples_split=16;, score=0.734 total time=   0.7s\n",
      "[CV 1/3] END criterion=entropy, max_depth=4, min_samples_split=2;, score=0.750 total time=   0.3s\n",
      "[CV 2/3] END criterion=entropy, max_depth=4, min_samples_split=2;, score=0.718 total time=   0.3s\n",
      "[CV 3/3] END criterion=entropy, max_depth=4, min_samples_split=2;, score=0.749 total time=   0.1s\n",
      "[CV 1/3] END criterion=entropy, max_depth=4, min_samples_split=4;, score=0.750 total time=   0.1s\n",
      "[CV 2/3] END criterion=entropy, max_depth=4, min_samples_split=4;, score=0.718 total time=   0.1s\n",
      "[CV 3/3] END criterion=entropy, max_depth=4, min_samples_split=4;, score=0.749 total time=   0.1s\n",
      "[CV 1/3] END criterion=entropy, max_depth=4, min_samples_split=8;, score=0.750 total time=   0.1s\n",
      "[CV 2/3] END criterion=entropy, max_depth=4, min_samples_split=8;, score=0.718 total time=   0.1s\n",
      "[CV 3/3] END criterion=entropy, max_depth=4, min_samples_split=8;, score=0.749 total time=   0.1s\n",
      "[CV 1/3] END criterion=entropy, max_depth=4, min_samples_split=16;, score=0.750 total time=   0.1s\n",
      "[CV 2/3] END criterion=entropy, max_depth=4, min_samples_split=16;, score=0.718 total time=   0.1s\n",
      "[CV 3/3] END criterion=entropy, max_depth=4, min_samples_split=16;, score=0.749 total time=   0.1s\n",
      "[CV 1/3] END criterion=entropy, max_depth=8, min_samples_split=2;, score=0.761 total time=   0.3s\n",
      "[CV 2/3] END criterion=entropy, max_depth=8, min_samples_split=2;, score=0.759 total time=   0.5s\n",
      "[CV 3/3] END criterion=entropy, max_depth=8, min_samples_split=2;, score=0.748 total time=   0.4s\n",
      "[CV 1/3] END criterion=entropy, max_depth=8, min_samples_split=4;, score=0.761 total time=   0.9s\n",
      "[CV 2/3] END criterion=entropy, max_depth=8, min_samples_split=4;, score=0.758 total time=   0.6s\n",
      "[CV 3/3] END criterion=entropy, max_depth=8, min_samples_split=4;, score=0.748 total time=   0.5s\n",
      "[CV 1/3] END criterion=entropy, max_depth=8, min_samples_split=8;, score=0.761 total time=   0.5s\n",
      "[CV 2/3] END criterion=entropy, max_depth=8, min_samples_split=8;, score=0.758 total time=   0.7s\n",
      "[CV 3/3] END criterion=entropy, max_depth=8, min_samples_split=8;, score=0.748 total time=   0.6s\n",
      "[CV 1/3] END criterion=entropy, max_depth=8, min_samples_split=16;, score=0.761 total time=   0.5s\n",
      "[CV 2/3] END criterion=entropy, max_depth=8, min_samples_split=16;, score=0.758 total time=   0.4s\n",
      "[CV 3/3] END criterion=entropy, max_depth=8, min_samples_split=16;, score=0.748 total time=   0.4s\n",
      "[CV 1/3] END criterion=entropy, max_depth=16, min_samples_split=2;, score=0.742 total time=   1.2s\n",
      "[CV 2/3] END criterion=entropy, max_depth=16, min_samples_split=2;, score=0.745 total time=   1.1s\n",
      "[CV 3/3] END criterion=entropy, max_depth=16, min_samples_split=2;, score=0.742 total time=   1.3s\n",
      "[CV 1/3] END criterion=entropy, max_depth=16, min_samples_split=4;, score=0.741 total time=   0.8s\n",
      "[CV 2/3] END criterion=entropy, max_depth=16, min_samples_split=4;, score=0.745 total time=   1.5s\n",
      "[CV 3/3] END criterion=entropy, max_depth=16, min_samples_split=4;, score=0.741 total time=   0.9s\n",
      "[CV 1/3] END criterion=entropy, max_depth=16, min_samples_split=8;, score=0.742 total time=   1.0s\n",
      "[CV 2/3] END criterion=entropy, max_depth=16, min_samples_split=8;, score=0.744 total time=   1.4s\n",
      "[CV 3/3] END criterion=entropy, max_depth=16, min_samples_split=8;, score=0.740 total time=   1.3s\n",
      "[CV 1/3] END criterion=entropy, max_depth=16, min_samples_split=16;, score=0.745 total time=   1.3s\n",
      "[CV 2/3] END criterion=entropy, max_depth=16, min_samples_split=16;, score=0.746 total time=   1.3s\n",
      "[CV 3/3] END criterion=entropy, max_depth=16, min_samples_split=16;, score=0.740 total time=   1.1s\n"
     ]
    },
    {
     "data": {
      "text/plain": "GridSearchCV(cv=3, estimator=DecisionTreeClassifier(random_state=42),\n             param_grid={'criterion': ['gini', 'entropy'],\n                         'max_depth': [4, 8, 16],\n                         'min_samples_split': [2, 4, 8, 16]},\n             scoring='f1', verbose=3)",
      "text/html": "<style>#sk-container-id-9 {color: black;background-color: white;}#sk-container-id-9 pre{padding: 0;}#sk-container-id-9 div.sk-toggleable {background-color: white;}#sk-container-id-9 label.sk-toggleable__label {cursor: pointer;display: block;width: 100%;margin-bottom: 0;padding: 0.3em;box-sizing: border-box;text-align: center;}#sk-container-id-9 label.sk-toggleable__label-arrow:before {content: \"▸\";float: left;margin-right: 0.25em;color: #696969;}#sk-container-id-9 label.sk-toggleable__label-arrow:hover:before {color: black;}#sk-container-id-9 div.sk-estimator:hover label.sk-toggleable__label-arrow:before {color: black;}#sk-container-id-9 div.sk-toggleable__content {max-height: 0;max-width: 0;overflow: hidden;text-align: left;background-color: #f0f8ff;}#sk-container-id-9 div.sk-toggleable__content pre {margin: 0.2em;color: black;border-radius: 0.25em;background-color: #f0f8ff;}#sk-container-id-9 input.sk-toggleable__control:checked~div.sk-toggleable__content {max-height: 200px;max-width: 100%;overflow: auto;}#sk-container-id-9 input.sk-toggleable__control:checked~label.sk-toggleable__label-arrow:before {content: \"▾\";}#sk-container-id-9 div.sk-estimator input.sk-toggleable__control:checked~label.sk-toggleable__label {background-color: #d4ebff;}#sk-container-id-9 div.sk-label input.sk-toggleable__control:checked~label.sk-toggleable__label {background-color: #d4ebff;}#sk-container-id-9 input.sk-hidden--visually {border: 0;clip: rect(1px 1px 1px 1px);clip: rect(1px, 1px, 1px, 1px);height: 1px;margin: -1px;overflow: hidden;padding: 0;position: absolute;width: 1px;}#sk-container-id-9 div.sk-estimator {font-family: monospace;background-color: #f0f8ff;border: 1px dotted black;border-radius: 0.25em;box-sizing: border-box;margin-bottom: 0.5em;}#sk-container-id-9 div.sk-estimator:hover {background-color: #d4ebff;}#sk-container-id-9 div.sk-parallel-item::after {content: \"\";width: 100%;border-bottom: 1px solid gray;flex-grow: 1;}#sk-container-id-9 div.sk-label:hover label.sk-toggleable__label {background-color: #d4ebff;}#sk-container-id-9 div.sk-serial::before {content: \"\";position: absolute;border-left: 1px solid gray;box-sizing: border-box;top: 0;bottom: 0;left: 50%;z-index: 0;}#sk-container-id-9 div.sk-serial {display: flex;flex-direction: column;align-items: center;background-color: white;padding-right: 0.2em;padding-left: 0.2em;position: relative;}#sk-container-id-9 div.sk-item {position: relative;z-index: 1;}#sk-container-id-9 div.sk-parallel {display: flex;align-items: stretch;justify-content: center;background-color: white;position: relative;}#sk-container-id-9 div.sk-item::before, #sk-container-id-9 div.sk-parallel-item::before {content: \"\";position: absolute;border-left: 1px solid gray;box-sizing: border-box;top: 0;bottom: 0;left: 50%;z-index: -1;}#sk-container-id-9 div.sk-parallel-item {display: flex;flex-direction: column;z-index: 1;position: relative;background-color: white;}#sk-container-id-9 div.sk-parallel-item:first-child::after {align-self: flex-end;width: 50%;}#sk-container-id-9 div.sk-parallel-item:last-child::after {align-self: flex-start;width: 50%;}#sk-container-id-9 div.sk-parallel-item:only-child::after {width: 0;}#sk-container-id-9 div.sk-dashed-wrapped {border: 1px dashed gray;margin: 0 0.4em 0.5em 0.4em;box-sizing: border-box;padding-bottom: 0.4em;background-color: white;}#sk-container-id-9 div.sk-label label {font-family: monospace;font-weight: bold;display: inline-block;line-height: 1.2em;}#sk-container-id-9 div.sk-label-container {text-align: center;}#sk-container-id-9 div.sk-container {/* jupyter's `normalize.less` sets `[hidden] { display: none; }` but bootstrap.min.css set `[hidden] { display: none !important; }` so we also need the `!important` here to be able to override the default hidden behavior on the sphinx rendered scikit-learn.org. See: https://github.com/scikit-learn/scikit-learn/issues/21755 */display: inline-block !important;position: relative;}#sk-container-id-9 div.sk-text-repr-fallback {display: none;}</style><div id=\"sk-container-id-9\" class=\"sk-top-container\"><div class=\"sk-text-repr-fallback\"><pre>GridSearchCV(cv=3, estimator=DecisionTreeClassifier(random_state=42),\n             param_grid={&#x27;criterion&#x27;: [&#x27;gini&#x27;, &#x27;entropy&#x27;],\n                         &#x27;max_depth&#x27;: [4, 8, 16],\n                         &#x27;min_samples_split&#x27;: [2, 4, 8, 16]},\n             scoring=&#x27;f1&#x27;, verbose=3)</pre><b>In a Jupyter environment, please rerun this cell to show the HTML representation or trust the notebook. <br />On GitHub, the HTML representation is unable to render, please try loading this page with nbviewer.org.</b></div><div class=\"sk-container\" hidden><div class=\"sk-item sk-dashed-wrapped\"><div class=\"sk-label-container\"><div class=\"sk-label sk-toggleable\"><input class=\"sk-toggleable__control sk-hidden--visually\" id=\"sk-estimator-id-17\" type=\"checkbox\" ><label for=\"sk-estimator-id-17\" class=\"sk-toggleable__label sk-toggleable__label-arrow\">GridSearchCV</label><div class=\"sk-toggleable__content\"><pre>GridSearchCV(cv=3, estimator=DecisionTreeClassifier(random_state=42),\n             param_grid={&#x27;criterion&#x27;: [&#x27;gini&#x27;, &#x27;entropy&#x27;],\n                         &#x27;max_depth&#x27;: [4, 8, 16],\n                         &#x27;min_samples_split&#x27;: [2, 4, 8, 16]},\n             scoring=&#x27;f1&#x27;, verbose=3)</pre></div></div></div><div class=\"sk-parallel\"><div class=\"sk-parallel-item\"><div class=\"sk-item\"><div class=\"sk-label-container\"><div class=\"sk-label sk-toggleable\"><input class=\"sk-toggleable__control sk-hidden--visually\" id=\"sk-estimator-id-18\" type=\"checkbox\" ><label for=\"sk-estimator-id-18\" class=\"sk-toggleable__label sk-toggleable__label-arrow\">estimator: DecisionTreeClassifier</label><div class=\"sk-toggleable__content\"><pre>DecisionTreeClassifier(random_state=42)</pre></div></div></div><div class=\"sk-serial\"><div class=\"sk-item\"><div class=\"sk-estimator sk-toggleable\"><input class=\"sk-toggleable__control sk-hidden--visually\" id=\"sk-estimator-id-19\" type=\"checkbox\" ><label for=\"sk-estimator-id-19\" class=\"sk-toggleable__label sk-toggleable__label-arrow\">DecisionTreeClassifier</label><div class=\"sk-toggleable__content\"><pre>DecisionTreeClassifier(random_state=42)</pre></div></div></div></div></div></div></div></div></div></div>"
     },
     "execution_count": 107,
     "metadata": {},
     "output_type": "execute_result"
    }
   ],
   "source": [
    "from sklearn.model_selection import GridSearchCV\n",
    "from sklearn.metrics import make_scorer, f1_score\n",
    "f1 = make_scorer(f1_score, pos_label =True)\n",
    "param_grid = {'max_depth': [4, 8, 16],\n",
    "              'min_samples_split': [2,4, 8, 16],\n",
    "              'criterion': ['gini', 'entropy']\n",
    "}\n",
    "grid = GridSearchCV(DecisionTreeClassifier(random_state=42), param_grid, cv=3, scoring='f1', verbose =3)\n",
    "grid.fit(X_undersampled, y_undersampled)\n"
   ],
   "metadata": {
    "collapsed": false
   }
  },
  {
   "cell_type": "code",
   "execution_count": 108,
   "outputs": [
    {
     "data": {
      "text/plain": "{'criterion': 'gini', 'max_depth': 4, 'min_samples_split': 2}"
     },
     "execution_count": 108,
     "metadata": {},
     "output_type": "execute_result"
    }
   ],
   "source": [
    "grid.best_params_"
   ],
   "metadata": {
    "collapsed": false
   }
  },
  {
   "cell_type": "code",
   "execution_count": 314,
   "outputs": [
    {
     "name": "stdout",
     "output_type": "stream",
     "text": [
      "Fitting 3 folds for each of 25 candidates, totalling 75 fits\n",
      "[CV 1/3] END criterion=gini, max_depth=4, min_samples_split=6;, score=0.780 total time=   0.1s\n",
      "[CV 2/3] END criterion=gini, max_depth=4, min_samples_split=6;, score=0.779 total time=   0.1s\n",
      "[CV 3/3] END criterion=gini, max_depth=4, min_samples_split=6;, score=0.779 total time=   0.2s\n",
      "[CV 1/3] END criterion=gini, max_depth=4, min_samples_split=7;, score=0.780 total time=   0.2s\n",
      "[CV 2/3] END criterion=gini, max_depth=4, min_samples_split=7;, score=0.779 total time=   0.1s\n",
      "[CV 3/3] END criterion=gini, max_depth=4, min_samples_split=7;, score=0.779 total time=   0.1s\n",
      "[CV 1/3] END criterion=gini, max_depth=4, min_samples_split=8;, score=0.780 total time=   0.1s\n",
      "[CV 2/3] END criterion=gini, max_depth=4, min_samples_split=8;, score=0.779 total time=   0.1s\n",
      "[CV 3/3] END criterion=gini, max_depth=4, min_samples_split=8;, score=0.779 total time=   0.1s\n",
      "[CV 1/3] END criterion=gini, max_depth=4, min_samples_split=9;, score=0.780 total time=   0.1s\n",
      "[CV 2/3] END criterion=gini, max_depth=4, min_samples_split=9;, score=0.779 total time=   0.1s\n",
      "[CV 3/3] END criterion=gini, max_depth=4, min_samples_split=9;, score=0.779 total time=   0.1s\n",
      "[CV 1/3] END criterion=gini, max_depth=4, min_samples_split=10;, score=0.780 total time=   0.1s\n",
      "[CV 2/3] END criterion=gini, max_depth=4, min_samples_split=10;, score=0.779 total time=   0.1s\n",
      "[CV 3/3] END criterion=gini, max_depth=4, min_samples_split=10;, score=0.779 total time=   0.1s\n",
      "[CV 1/3] END criterion=gini, max_depth=5, min_samples_split=6;, score=0.768 total time=   0.2s\n",
      "[CV 2/3] END criterion=gini, max_depth=5, min_samples_split=6;, score=0.777 total time=   0.1s\n",
      "[CV 3/3] END criterion=gini, max_depth=5, min_samples_split=6;, score=0.753 total time=   0.1s\n",
      "[CV 1/3] END criterion=gini, max_depth=5, min_samples_split=7;, score=0.768 total time=   0.1s\n",
      "[CV 2/3] END criterion=gini, max_depth=5, min_samples_split=7;, score=0.777 total time=   0.1s\n",
      "[CV 3/3] END criterion=gini, max_depth=5, min_samples_split=7;, score=0.753 total time=   0.1s\n",
      "[CV 1/3] END criterion=gini, max_depth=5, min_samples_split=8;, score=0.768 total time=   0.2s\n",
      "[CV 2/3] END criterion=gini, max_depth=5, min_samples_split=8;, score=0.777 total time=   0.1s\n",
      "[CV 3/3] END criterion=gini, max_depth=5, min_samples_split=8;, score=0.753 total time=   0.1s\n",
      "[CV 1/3] END criterion=gini, max_depth=5, min_samples_split=9;, score=0.768 total time=   0.1s\n",
      "[CV 2/3] END criterion=gini, max_depth=5, min_samples_split=9;, score=0.777 total time=   0.2s\n",
      "[CV 3/3] END criterion=gini, max_depth=5, min_samples_split=9;, score=0.753 total time=   0.2s\n",
      "[CV 1/3] END criterion=gini, max_depth=5, min_samples_split=10;, score=0.768 total time=   0.1s\n",
      "[CV 2/3] END criterion=gini, max_depth=5, min_samples_split=10;, score=0.777 total time=   0.2s\n",
      "[CV 3/3] END criterion=gini, max_depth=5, min_samples_split=10;, score=0.753 total time=   0.1s\n",
      "[CV 1/3] END criterion=gini, max_depth=6, min_samples_split=6;, score=0.766 total time=   0.2s\n",
      "[CV 2/3] END criterion=gini, max_depth=6, min_samples_split=6;, score=0.772 total time=   0.2s\n",
      "[CV 3/3] END criterion=gini, max_depth=6, min_samples_split=6;, score=0.770 total time=   0.2s\n",
      "[CV 1/3] END criterion=gini, max_depth=6, min_samples_split=7;, score=0.766 total time=   0.3s\n",
      "[CV 2/3] END criterion=gini, max_depth=6, min_samples_split=7;, score=0.772 total time=   0.3s\n",
      "[CV 3/3] END criterion=gini, max_depth=6, min_samples_split=7;, score=0.770 total time=   0.3s\n",
      "[CV 1/3] END criterion=gini, max_depth=6, min_samples_split=8;, score=0.766 total time=   0.3s\n",
      "[CV 2/3] END criterion=gini, max_depth=6, min_samples_split=8;, score=0.772 total time=   0.3s\n",
      "[CV 3/3] END criterion=gini, max_depth=6, min_samples_split=8;, score=0.770 total time=   0.2s\n",
      "[CV 1/3] END criterion=gini, max_depth=6, min_samples_split=9;, score=0.766 total time=   0.2s\n",
      "[CV 2/3] END criterion=gini, max_depth=6, min_samples_split=9;, score=0.772 total time=   0.2s\n",
      "[CV 3/3] END criterion=gini, max_depth=6, min_samples_split=9;, score=0.770 total time=   0.2s\n",
      "[CV 1/3] END criterion=gini, max_depth=6, min_samples_split=10;, score=0.766 total time=   0.2s\n",
      "[CV 2/3] END criterion=gini, max_depth=6, min_samples_split=10;, score=0.772 total time=   0.2s\n",
      "[CV 3/3] END criterion=gini, max_depth=6, min_samples_split=10;, score=0.770 total time=   0.2s\n",
      "[CV 1/3] END criterion=gini, max_depth=7, min_samples_split=6;, score=0.777 total time=   0.2s\n",
      "[CV 2/3] END criterion=gini, max_depth=7, min_samples_split=6;, score=0.782 total time=   0.2s\n",
      "[CV 3/3] END criterion=gini, max_depth=7, min_samples_split=6;, score=0.778 total time=   0.2s\n",
      "[CV 1/3] END criterion=gini, max_depth=7, min_samples_split=7;, score=0.777 total time=   0.2s\n",
      "[CV 2/3] END criterion=gini, max_depth=7, min_samples_split=7;, score=0.782 total time=   0.3s\n",
      "[CV 3/3] END criterion=gini, max_depth=7, min_samples_split=7;, score=0.778 total time=   0.2s\n",
      "[CV 1/3] END criterion=gini, max_depth=7, min_samples_split=8;, score=0.777 total time=   0.2s\n",
      "[CV 2/3] END criterion=gini, max_depth=7, min_samples_split=8;, score=0.782 total time=   0.3s\n",
      "[CV 3/3] END criterion=gini, max_depth=7, min_samples_split=8;, score=0.778 total time=   0.2s\n",
      "[CV 1/3] END criterion=gini, max_depth=7, min_samples_split=9;, score=0.777 total time=   0.2s\n",
      "[CV 2/3] END criterion=gini, max_depth=7, min_samples_split=9;, score=0.782 total time=   0.2s\n",
      "[CV 3/3] END criterion=gini, max_depth=7, min_samples_split=9;, score=0.778 total time=   0.2s\n",
      "[CV 1/3] END criterion=gini, max_depth=7, min_samples_split=10;, score=0.777 total time=   0.2s\n",
      "[CV 2/3] END criterion=gini, max_depth=7, min_samples_split=10;, score=0.782 total time=   0.2s\n",
      "[CV 3/3] END criterion=gini, max_depth=7, min_samples_split=10;, score=0.778 total time=   0.2s\n",
      "[CV 1/3] END criterion=gini, max_depth=8, min_samples_split=6;, score=0.775 total time=   0.3s\n",
      "[CV 2/3] END criterion=gini, max_depth=8, min_samples_split=6;, score=0.778 total time=   0.3s\n",
      "[CV 3/3] END criterion=gini, max_depth=8, min_samples_split=6;, score=0.777 total time=   0.2s\n",
      "[CV 1/3] END criterion=gini, max_depth=8, min_samples_split=7;, score=0.775 total time=   0.3s\n",
      "[CV 2/3] END criterion=gini, max_depth=8, min_samples_split=7;, score=0.778 total time=   0.3s\n",
      "[CV 3/3] END criterion=gini, max_depth=8, min_samples_split=7;, score=0.777 total time=   0.2s\n",
      "[CV 1/3] END criterion=gini, max_depth=8, min_samples_split=8;, score=0.775 total time=   0.3s\n",
      "[CV 2/3] END criterion=gini, max_depth=8, min_samples_split=8;, score=0.778 total time=   0.3s\n",
      "[CV 3/3] END criterion=gini, max_depth=8, min_samples_split=8;, score=0.777 total time=   0.3s\n",
      "[CV 1/3] END criterion=gini, max_depth=8, min_samples_split=9;, score=0.775 total time=   0.3s\n",
      "[CV 2/3] END criterion=gini, max_depth=8, min_samples_split=9;, score=0.778 total time=   0.3s\n",
      "[CV 3/3] END criterion=gini, max_depth=8, min_samples_split=9;, score=0.777 total time=   0.3s\n",
      "[CV 1/3] END criterion=gini, max_depth=8, min_samples_split=10;, score=0.775 total time=   0.3s\n",
      "[CV 2/3] END criterion=gini, max_depth=8, min_samples_split=10;, score=0.778 total time=   0.2s\n",
      "[CV 3/3] END criterion=gini, max_depth=8, min_samples_split=10;, score=0.777 total time=   0.3s\n"
     ]
    },
    {
     "data": {
      "text/plain": "GridSearchCV(cv=3, estimator=DecisionTreeClassifier(random_state=42),\n             param_grid={'criterion': ['gini'], 'max_depth': [4, 5, 6, 7, 8],\n                         'min_samples_split': [6, 7, 8, 9, 10]},\n             scoring='f1', verbose=3)",
      "text/html": "<style>#sk-container-id-40 {color: black;background-color: white;}#sk-container-id-40 pre{padding: 0;}#sk-container-id-40 div.sk-toggleable {background-color: white;}#sk-container-id-40 label.sk-toggleable__label {cursor: pointer;display: block;width: 100%;margin-bottom: 0;padding: 0.3em;box-sizing: border-box;text-align: center;}#sk-container-id-40 label.sk-toggleable__label-arrow:before {content: \"▸\";float: left;margin-right: 0.25em;color: #696969;}#sk-container-id-40 label.sk-toggleable__label-arrow:hover:before {color: black;}#sk-container-id-40 div.sk-estimator:hover label.sk-toggleable__label-arrow:before {color: black;}#sk-container-id-40 div.sk-toggleable__content {max-height: 0;max-width: 0;overflow: hidden;text-align: left;background-color: #f0f8ff;}#sk-container-id-40 div.sk-toggleable__content pre {margin: 0.2em;color: black;border-radius: 0.25em;background-color: #f0f8ff;}#sk-container-id-40 input.sk-toggleable__control:checked~div.sk-toggleable__content {max-height: 200px;max-width: 100%;overflow: auto;}#sk-container-id-40 input.sk-toggleable__control:checked~label.sk-toggleable__label-arrow:before {content: \"▾\";}#sk-container-id-40 div.sk-estimator input.sk-toggleable__control:checked~label.sk-toggleable__label {background-color: #d4ebff;}#sk-container-id-40 div.sk-label input.sk-toggleable__control:checked~label.sk-toggleable__label {background-color: #d4ebff;}#sk-container-id-40 input.sk-hidden--visually {border: 0;clip: rect(1px 1px 1px 1px);clip: rect(1px, 1px, 1px, 1px);height: 1px;margin: -1px;overflow: hidden;padding: 0;position: absolute;width: 1px;}#sk-container-id-40 div.sk-estimator {font-family: monospace;background-color: #f0f8ff;border: 1px dotted black;border-radius: 0.25em;box-sizing: border-box;margin-bottom: 0.5em;}#sk-container-id-40 div.sk-estimator:hover {background-color: #d4ebff;}#sk-container-id-40 div.sk-parallel-item::after {content: \"\";width: 100%;border-bottom: 1px solid gray;flex-grow: 1;}#sk-container-id-40 div.sk-label:hover label.sk-toggleable__label {background-color: #d4ebff;}#sk-container-id-40 div.sk-serial::before {content: \"\";position: absolute;border-left: 1px solid gray;box-sizing: border-box;top: 0;bottom: 0;left: 50%;z-index: 0;}#sk-container-id-40 div.sk-serial {display: flex;flex-direction: column;align-items: center;background-color: white;padding-right: 0.2em;padding-left: 0.2em;position: relative;}#sk-container-id-40 div.sk-item {position: relative;z-index: 1;}#sk-container-id-40 div.sk-parallel {display: flex;align-items: stretch;justify-content: center;background-color: white;position: relative;}#sk-container-id-40 div.sk-item::before, #sk-container-id-40 div.sk-parallel-item::before {content: \"\";position: absolute;border-left: 1px solid gray;box-sizing: border-box;top: 0;bottom: 0;left: 50%;z-index: -1;}#sk-container-id-40 div.sk-parallel-item {display: flex;flex-direction: column;z-index: 1;position: relative;background-color: white;}#sk-container-id-40 div.sk-parallel-item:first-child::after {align-self: flex-end;width: 50%;}#sk-container-id-40 div.sk-parallel-item:last-child::after {align-self: flex-start;width: 50%;}#sk-container-id-40 div.sk-parallel-item:only-child::after {width: 0;}#sk-container-id-40 div.sk-dashed-wrapped {border: 1px dashed gray;margin: 0 0.4em 0.5em 0.4em;box-sizing: border-box;padding-bottom: 0.4em;background-color: white;}#sk-container-id-40 div.sk-label label {font-family: monospace;font-weight: bold;display: inline-block;line-height: 1.2em;}#sk-container-id-40 div.sk-label-container {text-align: center;}#sk-container-id-40 div.sk-container {/* jupyter's `normalize.less` sets `[hidden] { display: none; }` but bootstrap.min.css set `[hidden] { display: none !important; }` so we also need the `!important` here to be able to override the default hidden behavior on the sphinx rendered scikit-learn.org. See: https://github.com/scikit-learn/scikit-learn/issues/21755 */display: inline-block !important;position: relative;}#sk-container-id-40 div.sk-text-repr-fallback {display: none;}</style><div id=\"sk-container-id-40\" class=\"sk-top-container\"><div class=\"sk-text-repr-fallback\"><pre>GridSearchCV(cv=3, estimator=DecisionTreeClassifier(random_state=42),\n             param_grid={&#x27;criterion&#x27;: [&#x27;gini&#x27;], &#x27;max_depth&#x27;: [4, 5, 6, 7, 8],\n                         &#x27;min_samples_split&#x27;: [6, 7, 8, 9, 10]},\n             scoring=&#x27;f1&#x27;, verbose=3)</pre><b>In a Jupyter environment, please rerun this cell to show the HTML representation or trust the notebook. <br />On GitHub, the HTML representation is unable to render, please try loading this page with nbviewer.org.</b></div><div class=\"sk-container\" hidden><div class=\"sk-item sk-dashed-wrapped\"><div class=\"sk-label-container\"><div class=\"sk-label sk-toggleable\"><input class=\"sk-toggleable__control sk-hidden--visually\" id=\"sk-estimator-id-54\" type=\"checkbox\" ><label for=\"sk-estimator-id-54\" class=\"sk-toggleable__label sk-toggleable__label-arrow\">GridSearchCV</label><div class=\"sk-toggleable__content\"><pre>GridSearchCV(cv=3, estimator=DecisionTreeClassifier(random_state=42),\n             param_grid={&#x27;criterion&#x27;: [&#x27;gini&#x27;], &#x27;max_depth&#x27;: [4, 5, 6, 7, 8],\n                         &#x27;min_samples_split&#x27;: [6, 7, 8, 9, 10]},\n             scoring=&#x27;f1&#x27;, verbose=3)</pre></div></div></div><div class=\"sk-parallel\"><div class=\"sk-parallel-item\"><div class=\"sk-item\"><div class=\"sk-label-container\"><div class=\"sk-label sk-toggleable\"><input class=\"sk-toggleable__control sk-hidden--visually\" id=\"sk-estimator-id-55\" type=\"checkbox\" ><label for=\"sk-estimator-id-55\" class=\"sk-toggleable__label sk-toggleable__label-arrow\">estimator: DecisionTreeClassifier</label><div class=\"sk-toggleable__content\"><pre>DecisionTreeClassifier(random_state=42)</pre></div></div></div><div class=\"sk-serial\"><div class=\"sk-item\"><div class=\"sk-estimator sk-toggleable\"><input class=\"sk-toggleable__control sk-hidden--visually\" id=\"sk-estimator-id-56\" type=\"checkbox\" ><label for=\"sk-estimator-id-56\" class=\"sk-toggleable__label sk-toggleable__label-arrow\">DecisionTreeClassifier</label><div class=\"sk-toggleable__content\"><pre>DecisionTreeClassifier(random_state=42)</pre></div></div></div></div></div></div></div></div></div></div>"
     },
     "execution_count": 314,
     "metadata": {},
     "output_type": "execute_result"
    }
   ],
   "source": [
    "# new grid\n",
    "param_grid = {'max_depth': [4,5,6,7,8],\n",
    "              'min_samples_split': [6,7,8,9,10],\n",
    "              'criterion': ['gini']\n",
    "}\n",
    "grid = GridSearchCV(DecisionTreeClassifier(random_state=42), param_grid, cv=3, scoring='f1', verbose =3)\n",
    "grid.fit(X_undersampled, y_undersampled)\n"
   ],
   "metadata": {
    "collapsed": false
   }
  },
  {
   "cell_type": "code",
   "execution_count": 315,
   "outputs": [
    {
     "data": {
      "text/plain": "{'criterion': 'gini', 'max_depth': 4, 'min_samples_split': 6}"
     },
     "execution_count": 315,
     "metadata": {},
     "output_type": "execute_result"
    }
   ],
   "source": [
    "grid.best_params_"
   ],
   "metadata": {
    "collapsed": false
   }
  },
  {
   "cell_type": "code",
   "execution_count": 110,
   "outputs": [
    {
     "data": {
      "text/plain": "DecisionTreeClassifier(max_depth=2, min_samples_split=6, random_state=42)",
      "text/html": "<style>#sk-container-id-11 {color: black;background-color: white;}#sk-container-id-11 pre{padding: 0;}#sk-container-id-11 div.sk-toggleable {background-color: white;}#sk-container-id-11 label.sk-toggleable__label {cursor: pointer;display: block;width: 100%;margin-bottom: 0;padding: 0.3em;box-sizing: border-box;text-align: center;}#sk-container-id-11 label.sk-toggleable__label-arrow:before {content: \"▸\";float: left;margin-right: 0.25em;color: #696969;}#sk-container-id-11 label.sk-toggleable__label-arrow:hover:before {color: black;}#sk-container-id-11 div.sk-estimator:hover label.sk-toggleable__label-arrow:before {color: black;}#sk-container-id-11 div.sk-toggleable__content {max-height: 0;max-width: 0;overflow: hidden;text-align: left;background-color: #f0f8ff;}#sk-container-id-11 div.sk-toggleable__content pre {margin: 0.2em;color: black;border-radius: 0.25em;background-color: #f0f8ff;}#sk-container-id-11 input.sk-toggleable__control:checked~div.sk-toggleable__content {max-height: 200px;max-width: 100%;overflow: auto;}#sk-container-id-11 input.sk-toggleable__control:checked~label.sk-toggleable__label-arrow:before {content: \"▾\";}#sk-container-id-11 div.sk-estimator input.sk-toggleable__control:checked~label.sk-toggleable__label {background-color: #d4ebff;}#sk-container-id-11 div.sk-label input.sk-toggleable__control:checked~label.sk-toggleable__label {background-color: #d4ebff;}#sk-container-id-11 input.sk-hidden--visually {border: 0;clip: rect(1px 1px 1px 1px);clip: rect(1px, 1px, 1px, 1px);height: 1px;margin: -1px;overflow: hidden;padding: 0;position: absolute;width: 1px;}#sk-container-id-11 div.sk-estimator {font-family: monospace;background-color: #f0f8ff;border: 1px dotted black;border-radius: 0.25em;box-sizing: border-box;margin-bottom: 0.5em;}#sk-container-id-11 div.sk-estimator:hover {background-color: #d4ebff;}#sk-container-id-11 div.sk-parallel-item::after {content: \"\";width: 100%;border-bottom: 1px solid gray;flex-grow: 1;}#sk-container-id-11 div.sk-label:hover label.sk-toggleable__label {background-color: #d4ebff;}#sk-container-id-11 div.sk-serial::before {content: \"\";position: absolute;border-left: 1px solid gray;box-sizing: border-box;top: 0;bottom: 0;left: 50%;z-index: 0;}#sk-container-id-11 div.sk-serial {display: flex;flex-direction: column;align-items: center;background-color: white;padding-right: 0.2em;padding-left: 0.2em;position: relative;}#sk-container-id-11 div.sk-item {position: relative;z-index: 1;}#sk-container-id-11 div.sk-parallel {display: flex;align-items: stretch;justify-content: center;background-color: white;position: relative;}#sk-container-id-11 div.sk-item::before, #sk-container-id-11 div.sk-parallel-item::before {content: \"\";position: absolute;border-left: 1px solid gray;box-sizing: border-box;top: 0;bottom: 0;left: 50%;z-index: -1;}#sk-container-id-11 div.sk-parallel-item {display: flex;flex-direction: column;z-index: 1;position: relative;background-color: white;}#sk-container-id-11 div.sk-parallel-item:first-child::after {align-self: flex-end;width: 50%;}#sk-container-id-11 div.sk-parallel-item:last-child::after {align-self: flex-start;width: 50%;}#sk-container-id-11 div.sk-parallel-item:only-child::after {width: 0;}#sk-container-id-11 div.sk-dashed-wrapped {border: 1px dashed gray;margin: 0 0.4em 0.5em 0.4em;box-sizing: border-box;padding-bottom: 0.4em;background-color: white;}#sk-container-id-11 div.sk-label label {font-family: monospace;font-weight: bold;display: inline-block;line-height: 1.2em;}#sk-container-id-11 div.sk-label-container {text-align: center;}#sk-container-id-11 div.sk-container {/* jupyter's `normalize.less` sets `[hidden] { display: none; }` but bootstrap.min.css set `[hidden] { display: none !important; }` so we also need the `!important` here to be able to override the default hidden behavior on the sphinx rendered scikit-learn.org. See: https://github.com/scikit-learn/scikit-learn/issues/21755 */display: inline-block !important;position: relative;}#sk-container-id-11 div.sk-text-repr-fallback {display: none;}</style><div id=\"sk-container-id-11\" class=\"sk-top-container\"><div class=\"sk-text-repr-fallback\"><pre>DecisionTreeClassifier(max_depth=2, min_samples_split=6, random_state=42)</pre><b>In a Jupyter environment, please rerun this cell to show the HTML representation or trust the notebook. <br />On GitHub, the HTML representation is unable to render, please try loading this page with nbviewer.org.</b></div><div class=\"sk-container\" hidden><div class=\"sk-item\"><div class=\"sk-estimator sk-toggleable\"><input class=\"sk-toggleable__control sk-hidden--visually\" id=\"sk-estimator-id-21\" type=\"checkbox\" checked><label for=\"sk-estimator-id-21\" class=\"sk-toggleable__label sk-toggleable__label-arrow\">DecisionTreeClassifier</label><div class=\"sk-toggleable__content\"><pre>DecisionTreeClassifier(max_depth=2, min_samples_split=6, random_state=42)</pre></div></div></div></div></div>"
     },
     "execution_count": 110,
     "metadata": {},
     "output_type": "execute_result"
    }
   ],
   "source": [
    "tree_balanced = DecisionTreeClassifier(random_state=42, max_depth=2, min_samples_split=6,  criterion='gini')\n",
    "tree_balanced.fit(X_undersampled, y_undersampled)"
   ],
   "metadata": {
    "collapsed": false
   }
  },
  {
   "cell_type": "code",
   "execution_count": 111,
   "outputs": [
    {
     "name": "stdout",
     "output_type": "stream",
     "text": [
      "Accuracy on training set:  0.7144659608316419\n",
      "confusion_matrix on training set: \n",
      " [[18453 18005]\n",
      " [ 2815 33643]]\n",
      "Accuracy on validation set:  0.6215413184772516\n",
      "Confusion matrix: \n",
      " [[11826 11523]\n",
      " [  705  8256]]\n",
      "Classification report: \n",
      "               precision    recall  f1-score   support\n",
      "\n",
      "       False       0.94      0.51      0.66     23349\n",
      "        True       0.42      0.92      0.57      8961\n",
      "\n",
      "    accuracy                           0.62     32310\n",
      "   macro avg       0.68      0.71      0.62     32310\n",
      "weighted avg       0.80      0.62      0.64     32310\n",
      "\n"
     ]
    }
   ],
   "source": [
    "y_pred = tree_balanced.predict(X_test)\n",
    "y_pred_train = tree_balanced.predict(X_undersampled)\n",
    "print('Accuracy on training set: ', accuracy_score(y_undersampled, y_pred_train))\n",
    "print('confusion_matrix on training set: \\n', confusion_matrix(y_undersampled, y_pred_train))\n",
    "print('Accuracy on validation set: ', accuracy_score(y_test, y_pred))\n",
    "print('Confusion matrix: \\n', confusion_matrix(y_test, y_pred))\n",
    "print('Classification report: \\n', classification_report(y_test, y_pred))"
   ],
   "metadata": {
    "collapsed": false
   }
  },
  {
   "cell_type": "markdown",
   "source": [
    "#### Oversampling"
   ],
   "metadata": {
    "collapsed": false
   }
  },
  {
   "cell_type": "code",
   "execution_count": 112,
   "outputs": [
    {
     "data": {
      "text/plain": "(185564, 24)"
     },
     "execution_count": 112,
     "metadata": {},
     "output_type": "execute_result"
    }
   ],
   "source": [
    "from imblearn.over_sampling import RandomOverSampler\n",
    "ros = RandomOverSampler(random_state=42)\n",
    "X_oversampled, y_oversampled = ros.fit_resample(X_train, y_train)\n",
    "X_oversampled.shape"
   ],
   "metadata": {
    "collapsed": false
   }
  },
  {
   "cell_type": "code",
   "execution_count": 114,
   "outputs": [
    {
     "name": "stdout",
     "output_type": "stream",
     "text": [
      "Fitting 3 folds for each of 24 candidates, totalling 72 fits\n",
      "[CV 1/3] END criterion=gini, max_depth=4, min_samples_split=2;, score=0.765 total time=   1.1s\n",
      "[CV 2/3] END criterion=gini, max_depth=4, min_samples_split=2;, score=0.769 total time=   0.7s\n",
      "[CV 3/3] END criterion=gini, max_depth=4, min_samples_split=2;, score=0.768 total time=   1.1s\n",
      "[CV 1/3] END criterion=gini, max_depth=4, min_samples_split=4;, score=0.765 total time=   0.5s\n",
      "[CV 2/3] END criterion=gini, max_depth=4, min_samples_split=4;, score=0.769 total time=   0.6s\n",
      "[CV 3/3] END criterion=gini, max_depth=4, min_samples_split=4;, score=0.768 total time=   1.3s\n",
      "[CV 1/3] END criterion=gini, max_depth=4, min_samples_split=8;, score=0.765 total time=   0.9s\n",
      "[CV 2/3] END criterion=gini, max_depth=4, min_samples_split=8;, score=0.769 total time=   0.8s\n",
      "[CV 3/3] END criterion=gini, max_depth=4, min_samples_split=8;, score=0.768 total time=   1.0s\n",
      "[CV 1/3] END criterion=gini, max_depth=4, min_samples_split=16;, score=0.765 total time=   0.7s\n",
      "[CV 2/3] END criterion=gini, max_depth=4, min_samples_split=16;, score=0.769 total time=   0.8s\n",
      "[CV 3/3] END criterion=gini, max_depth=4, min_samples_split=16;, score=0.768 total time=   0.6s\n",
      "[CV 1/3] END criterion=gini, max_depth=8, min_samples_split=2;, score=0.759 total time=   1.6s\n",
      "[CV 2/3] END criterion=gini, max_depth=8, min_samples_split=2;, score=0.760 total time=   1.9s\n",
      "[CV 3/3] END criterion=gini, max_depth=8, min_samples_split=2;, score=0.767 total time=   1.7s\n",
      "[CV 1/3] END criterion=gini, max_depth=8, min_samples_split=4;, score=0.759 total time=   1.3s\n",
      "[CV 2/3] END criterion=gini, max_depth=8, min_samples_split=4;, score=0.760 total time=   1.6s\n",
      "[CV 3/3] END criterion=gini, max_depth=8, min_samples_split=4;, score=0.767 total time=   1.5s\n",
      "[CV 1/3] END criterion=gini, max_depth=8, min_samples_split=8;, score=0.759 total time=   1.6s\n",
      "[CV 2/3] END criterion=gini, max_depth=8, min_samples_split=8;, score=0.760 total time=   1.8s\n",
      "[CV 3/3] END criterion=gini, max_depth=8, min_samples_split=8;, score=0.767 total time=   1.1s\n",
      "[CV 1/3] END criterion=gini, max_depth=8, min_samples_split=16;, score=0.759 total time=   1.1s\n",
      "[CV 2/3] END criterion=gini, max_depth=8, min_samples_split=16;, score=0.760 total time=   1.0s\n",
      "[CV 3/3] END criterion=gini, max_depth=8, min_samples_split=16;, score=0.767 total time=   1.6s\n",
      "[CV 1/3] END criterion=gini, max_depth=16, min_samples_split=2;, score=0.803 total time=   1.8s\n",
      "[CV 2/3] END criterion=gini, max_depth=16, min_samples_split=2;, score=0.812 total time=   1.6s\n",
      "[CV 3/3] END criterion=gini, max_depth=16, min_samples_split=2;, score=0.819 total time=   1.6s\n",
      "[CV 1/3] END criterion=gini, max_depth=16, min_samples_split=4;, score=0.800 total time=   1.4s\n",
      "[CV 2/3] END criterion=gini, max_depth=16, min_samples_split=4;, score=0.810 total time=   1.5s\n",
      "[CV 3/3] END criterion=gini, max_depth=16, min_samples_split=4;, score=0.816 total time=   2.8s\n",
      "[CV 1/3] END criterion=gini, max_depth=16, min_samples_split=8;, score=0.797 total time=   1.7s\n",
      "[CV 2/3] END criterion=gini, max_depth=16, min_samples_split=8;, score=0.806 total time=   1.7s\n",
      "[CV 3/3] END criterion=gini, max_depth=16, min_samples_split=8;, score=0.812 total time=   1.7s\n",
      "[CV 1/3] END criterion=gini, max_depth=16, min_samples_split=16;, score=0.792 total time=   1.5s\n",
      "[CV 2/3] END criterion=gini, max_depth=16, min_samples_split=16;, score=0.800 total time=   1.6s\n",
      "[CV 3/3] END criterion=gini, max_depth=16, min_samples_split=16;, score=0.804 total time=   1.5s\n",
      "[CV 1/3] END criterion=entropy, max_depth=4, min_samples_split=2;, score=0.750 total time=   0.5s\n",
      "[CV 2/3] END criterion=entropy, max_depth=4, min_samples_split=2;, score=0.752 total time=   0.5s\n",
      "[CV 3/3] END criterion=entropy, max_depth=4, min_samples_split=2;, score=0.752 total time=   0.5s\n",
      "[CV 1/3] END criterion=entropy, max_depth=4, min_samples_split=4;, score=0.750 total time=   0.5s\n",
      "[CV 2/3] END criterion=entropy, max_depth=4, min_samples_split=4;, score=0.752 total time=   0.5s\n",
      "[CV 3/3] END criterion=entropy, max_depth=4, min_samples_split=4;, score=0.752 total time=   0.6s\n",
      "[CV 1/3] END criterion=entropy, max_depth=4, min_samples_split=8;, score=0.750 total time=   0.5s\n",
      "[CV 2/3] END criterion=entropy, max_depth=4, min_samples_split=8;, score=0.752 total time=   0.5s\n",
      "[CV 3/3] END criterion=entropy, max_depth=4, min_samples_split=8;, score=0.752 total time=   0.6s\n",
      "[CV 1/3] END criterion=entropy, max_depth=4, min_samples_split=16;, score=0.750 total time=   0.5s\n",
      "[CV 2/3] END criterion=entropy, max_depth=4, min_samples_split=16;, score=0.752 total time=   0.5s\n",
      "[CV 3/3] END criterion=entropy, max_depth=4, min_samples_split=16;, score=0.752 total time=   0.5s\n",
      "[CV 1/3] END criterion=entropy, max_depth=8, min_samples_split=2;, score=0.755 total time=   1.0s\n",
      "[CV 2/3] END criterion=entropy, max_depth=8, min_samples_split=2;, score=0.760 total time=   1.0s\n",
      "[CV 3/3] END criterion=entropy, max_depth=8, min_samples_split=2;, score=0.766 total time=   1.1s\n",
      "[CV 1/3] END criterion=entropy, max_depth=8, min_samples_split=4;, score=0.755 total time=   1.0s\n",
      "[CV 2/3] END criterion=entropy, max_depth=8, min_samples_split=4;, score=0.760 total time=   1.1s\n",
      "[CV 3/3] END criterion=entropy, max_depth=8, min_samples_split=4;, score=0.766 total time=   1.1s\n",
      "[CV 1/3] END criterion=entropy, max_depth=8, min_samples_split=8;, score=0.755 total time=   1.0s\n",
      "[CV 2/3] END criterion=entropy, max_depth=8, min_samples_split=8;, score=0.760 total time=   1.0s\n",
      "[CV 3/3] END criterion=entropy, max_depth=8, min_samples_split=8;, score=0.766 total time=   1.2s\n",
      "[CV 1/3] END criterion=entropy, max_depth=8, min_samples_split=16;, score=0.755 total time=   1.0s\n",
      "[CV 2/3] END criterion=entropy, max_depth=8, min_samples_split=16;, score=0.760 total time=   1.1s\n",
      "[CV 3/3] END criterion=entropy, max_depth=8, min_samples_split=16;, score=0.766 total time=   1.0s\n",
      "[CV 1/3] END criterion=entropy, max_depth=16, min_samples_split=2;, score=0.795 total time=   2.2s\n",
      "[CV 2/3] END criterion=entropy, max_depth=16, min_samples_split=2;, score=0.800 total time=   2.0s\n",
      "[CV 3/3] END criterion=entropy, max_depth=16, min_samples_split=2;, score=0.808 total time=   2.0s\n",
      "[CV 1/3] END criterion=entropy, max_depth=16, min_samples_split=4;, score=0.793 total time=   2.1s\n",
      "[CV 2/3] END criterion=entropy, max_depth=16, min_samples_split=4;, score=0.800 total time=   2.1s\n",
      "[CV 3/3] END criterion=entropy, max_depth=16, min_samples_split=4;, score=0.806 total time=   2.1s\n",
      "[CV 1/3] END criterion=entropy, max_depth=16, min_samples_split=8;, score=0.791 total time=   2.0s\n",
      "[CV 2/3] END criterion=entropy, max_depth=16, min_samples_split=8;, score=0.797 total time=   1.8s\n",
      "[CV 3/3] END criterion=entropy, max_depth=16, min_samples_split=8;, score=0.804 total time=   1.7s\n",
      "[CV 1/3] END criterion=entropy, max_depth=16, min_samples_split=16;, score=0.787 total time=   1.5s\n",
      "[CV 2/3] END criterion=entropy, max_depth=16, min_samples_split=16;, score=0.793 total time=   1.5s\n",
      "[CV 3/3] END criterion=entropy, max_depth=16, min_samples_split=16;, score=0.800 total time=   1.9s\n"
     ]
    },
    {
     "data": {
      "text/plain": "GridSearchCV(cv=3, estimator=DecisionTreeClassifier(random_state=42),\n             param_grid={'criterion': ['gini', 'entropy'],\n                         'max_depth': [4, 8, 16],\n                         'min_samples_split': [2, 4, 8, 16]},\n             scoring='f1', verbose=3)",
      "text/html": "<style>#sk-container-id-12 {color: black;background-color: white;}#sk-container-id-12 pre{padding: 0;}#sk-container-id-12 div.sk-toggleable {background-color: white;}#sk-container-id-12 label.sk-toggleable__label {cursor: pointer;display: block;width: 100%;margin-bottom: 0;padding: 0.3em;box-sizing: border-box;text-align: center;}#sk-container-id-12 label.sk-toggleable__label-arrow:before {content: \"▸\";float: left;margin-right: 0.25em;color: #696969;}#sk-container-id-12 label.sk-toggleable__label-arrow:hover:before {color: black;}#sk-container-id-12 div.sk-estimator:hover label.sk-toggleable__label-arrow:before {color: black;}#sk-container-id-12 div.sk-toggleable__content {max-height: 0;max-width: 0;overflow: hidden;text-align: left;background-color: #f0f8ff;}#sk-container-id-12 div.sk-toggleable__content pre {margin: 0.2em;color: black;border-radius: 0.25em;background-color: #f0f8ff;}#sk-container-id-12 input.sk-toggleable__control:checked~div.sk-toggleable__content {max-height: 200px;max-width: 100%;overflow: auto;}#sk-container-id-12 input.sk-toggleable__control:checked~label.sk-toggleable__label-arrow:before {content: \"▾\";}#sk-container-id-12 div.sk-estimator input.sk-toggleable__control:checked~label.sk-toggleable__label {background-color: #d4ebff;}#sk-container-id-12 div.sk-label input.sk-toggleable__control:checked~label.sk-toggleable__label {background-color: #d4ebff;}#sk-container-id-12 input.sk-hidden--visually {border: 0;clip: rect(1px 1px 1px 1px);clip: rect(1px, 1px, 1px, 1px);height: 1px;margin: -1px;overflow: hidden;padding: 0;position: absolute;width: 1px;}#sk-container-id-12 div.sk-estimator {font-family: monospace;background-color: #f0f8ff;border: 1px dotted black;border-radius: 0.25em;box-sizing: border-box;margin-bottom: 0.5em;}#sk-container-id-12 div.sk-estimator:hover {background-color: #d4ebff;}#sk-container-id-12 div.sk-parallel-item::after {content: \"\";width: 100%;border-bottom: 1px solid gray;flex-grow: 1;}#sk-container-id-12 div.sk-label:hover label.sk-toggleable__label {background-color: #d4ebff;}#sk-container-id-12 div.sk-serial::before {content: \"\";position: absolute;border-left: 1px solid gray;box-sizing: border-box;top: 0;bottom: 0;left: 50%;z-index: 0;}#sk-container-id-12 div.sk-serial {display: flex;flex-direction: column;align-items: center;background-color: white;padding-right: 0.2em;padding-left: 0.2em;position: relative;}#sk-container-id-12 div.sk-item {position: relative;z-index: 1;}#sk-container-id-12 div.sk-parallel {display: flex;align-items: stretch;justify-content: center;background-color: white;position: relative;}#sk-container-id-12 div.sk-item::before, #sk-container-id-12 div.sk-parallel-item::before {content: \"\";position: absolute;border-left: 1px solid gray;box-sizing: border-box;top: 0;bottom: 0;left: 50%;z-index: -1;}#sk-container-id-12 div.sk-parallel-item {display: flex;flex-direction: column;z-index: 1;position: relative;background-color: white;}#sk-container-id-12 div.sk-parallel-item:first-child::after {align-self: flex-end;width: 50%;}#sk-container-id-12 div.sk-parallel-item:last-child::after {align-self: flex-start;width: 50%;}#sk-container-id-12 div.sk-parallel-item:only-child::after {width: 0;}#sk-container-id-12 div.sk-dashed-wrapped {border: 1px dashed gray;margin: 0 0.4em 0.5em 0.4em;box-sizing: border-box;padding-bottom: 0.4em;background-color: white;}#sk-container-id-12 div.sk-label label {font-family: monospace;font-weight: bold;display: inline-block;line-height: 1.2em;}#sk-container-id-12 div.sk-label-container {text-align: center;}#sk-container-id-12 div.sk-container {/* jupyter's `normalize.less` sets `[hidden] { display: none; }` but bootstrap.min.css set `[hidden] { display: none !important; }` so we also need the `!important` here to be able to override the default hidden behavior on the sphinx rendered scikit-learn.org. See: https://github.com/scikit-learn/scikit-learn/issues/21755 */display: inline-block !important;position: relative;}#sk-container-id-12 div.sk-text-repr-fallback {display: none;}</style><div id=\"sk-container-id-12\" class=\"sk-top-container\"><div class=\"sk-text-repr-fallback\"><pre>GridSearchCV(cv=3, estimator=DecisionTreeClassifier(random_state=42),\n             param_grid={&#x27;criterion&#x27;: [&#x27;gini&#x27;, &#x27;entropy&#x27;],\n                         &#x27;max_depth&#x27;: [4, 8, 16],\n                         &#x27;min_samples_split&#x27;: [2, 4, 8, 16]},\n             scoring=&#x27;f1&#x27;, verbose=3)</pre><b>In a Jupyter environment, please rerun this cell to show the HTML representation or trust the notebook. <br />On GitHub, the HTML representation is unable to render, please try loading this page with nbviewer.org.</b></div><div class=\"sk-container\" hidden><div class=\"sk-item sk-dashed-wrapped\"><div class=\"sk-label-container\"><div class=\"sk-label sk-toggleable\"><input class=\"sk-toggleable__control sk-hidden--visually\" id=\"sk-estimator-id-22\" type=\"checkbox\" ><label for=\"sk-estimator-id-22\" class=\"sk-toggleable__label sk-toggleable__label-arrow\">GridSearchCV</label><div class=\"sk-toggleable__content\"><pre>GridSearchCV(cv=3, estimator=DecisionTreeClassifier(random_state=42),\n             param_grid={&#x27;criterion&#x27;: [&#x27;gini&#x27;, &#x27;entropy&#x27;],\n                         &#x27;max_depth&#x27;: [4, 8, 16],\n                         &#x27;min_samples_split&#x27;: [2, 4, 8, 16]},\n             scoring=&#x27;f1&#x27;, verbose=3)</pre></div></div></div><div class=\"sk-parallel\"><div class=\"sk-parallel-item\"><div class=\"sk-item\"><div class=\"sk-label-container\"><div class=\"sk-label sk-toggleable\"><input class=\"sk-toggleable__control sk-hidden--visually\" id=\"sk-estimator-id-23\" type=\"checkbox\" ><label for=\"sk-estimator-id-23\" class=\"sk-toggleable__label sk-toggleable__label-arrow\">estimator: DecisionTreeClassifier</label><div class=\"sk-toggleable__content\"><pre>DecisionTreeClassifier(random_state=42)</pre></div></div></div><div class=\"sk-serial\"><div class=\"sk-item\"><div class=\"sk-estimator sk-toggleable\"><input class=\"sk-toggleable__control sk-hidden--visually\" id=\"sk-estimator-id-24\" type=\"checkbox\" ><label for=\"sk-estimator-id-24\" class=\"sk-toggleable__label sk-toggleable__label-arrow\">DecisionTreeClassifier</label><div class=\"sk-toggleable__content\"><pre>DecisionTreeClassifier(random_state=42)</pre></div></div></div></div></div></div></div></div></div></div>"
     },
     "execution_count": 114,
     "metadata": {},
     "output_type": "execute_result"
    }
   ],
   "source": [
    "from sklearn.model_selection import GridSearchCV\n",
    "from sklearn.metrics import make_scorer, f1_score\n",
    "f1 = make_scorer(f1_score, pos_label =True)\n",
    "param_grid = {'max_depth': [4, 8, 16],\n",
    "              'min_samples_split': [2,4, 8, 16],\n",
    "              'criterion': ['gini', 'entropy']\n",
    "}\n",
    "grid = GridSearchCV(DecisionTreeClassifier(random_state=42), param_grid, cv=3, scoring='f1', verbose =3)\n",
    "grid.fit(X_oversampled, y_oversampled)\n"
   ],
   "metadata": {
    "collapsed": false
   }
  },
  {
   "cell_type": "code",
   "execution_count": 116,
   "outputs": [
    {
     "data": {
      "text/plain": "{'criterion': 'gini', 'max_depth': 16, 'min_samples_split': 2}"
     },
     "execution_count": 116,
     "metadata": {},
     "output_type": "execute_result"
    }
   ],
   "source": [
    "grid.best_params_"
   ],
   "metadata": {
    "collapsed": false
   }
  },
  {
   "cell_type": "code",
   "execution_count": 117,
   "outputs": [
    {
     "data": {
      "text/plain": "DecisionTreeClassifier(max_depth=16, random_state=42)",
      "text/html": "<style>#sk-container-id-13 {color: black;background-color: white;}#sk-container-id-13 pre{padding: 0;}#sk-container-id-13 div.sk-toggleable {background-color: white;}#sk-container-id-13 label.sk-toggleable__label {cursor: pointer;display: block;width: 100%;margin-bottom: 0;padding: 0.3em;box-sizing: border-box;text-align: center;}#sk-container-id-13 label.sk-toggleable__label-arrow:before {content: \"▸\";float: left;margin-right: 0.25em;color: #696969;}#sk-container-id-13 label.sk-toggleable__label-arrow:hover:before {color: black;}#sk-container-id-13 div.sk-estimator:hover label.sk-toggleable__label-arrow:before {color: black;}#sk-container-id-13 div.sk-toggleable__content {max-height: 0;max-width: 0;overflow: hidden;text-align: left;background-color: #f0f8ff;}#sk-container-id-13 div.sk-toggleable__content pre {margin: 0.2em;color: black;border-radius: 0.25em;background-color: #f0f8ff;}#sk-container-id-13 input.sk-toggleable__control:checked~div.sk-toggleable__content {max-height: 200px;max-width: 100%;overflow: auto;}#sk-container-id-13 input.sk-toggleable__control:checked~label.sk-toggleable__label-arrow:before {content: \"▾\";}#sk-container-id-13 div.sk-estimator input.sk-toggleable__control:checked~label.sk-toggleable__label {background-color: #d4ebff;}#sk-container-id-13 div.sk-label input.sk-toggleable__control:checked~label.sk-toggleable__label {background-color: #d4ebff;}#sk-container-id-13 input.sk-hidden--visually {border: 0;clip: rect(1px 1px 1px 1px);clip: rect(1px, 1px, 1px, 1px);height: 1px;margin: -1px;overflow: hidden;padding: 0;position: absolute;width: 1px;}#sk-container-id-13 div.sk-estimator {font-family: monospace;background-color: #f0f8ff;border: 1px dotted black;border-radius: 0.25em;box-sizing: border-box;margin-bottom: 0.5em;}#sk-container-id-13 div.sk-estimator:hover {background-color: #d4ebff;}#sk-container-id-13 div.sk-parallel-item::after {content: \"\";width: 100%;border-bottom: 1px solid gray;flex-grow: 1;}#sk-container-id-13 div.sk-label:hover label.sk-toggleable__label {background-color: #d4ebff;}#sk-container-id-13 div.sk-serial::before {content: \"\";position: absolute;border-left: 1px solid gray;box-sizing: border-box;top: 0;bottom: 0;left: 50%;z-index: 0;}#sk-container-id-13 div.sk-serial {display: flex;flex-direction: column;align-items: center;background-color: white;padding-right: 0.2em;padding-left: 0.2em;position: relative;}#sk-container-id-13 div.sk-item {position: relative;z-index: 1;}#sk-container-id-13 div.sk-parallel {display: flex;align-items: stretch;justify-content: center;background-color: white;position: relative;}#sk-container-id-13 div.sk-item::before, #sk-container-id-13 div.sk-parallel-item::before {content: \"\";position: absolute;border-left: 1px solid gray;box-sizing: border-box;top: 0;bottom: 0;left: 50%;z-index: -1;}#sk-container-id-13 div.sk-parallel-item {display: flex;flex-direction: column;z-index: 1;position: relative;background-color: white;}#sk-container-id-13 div.sk-parallel-item:first-child::after {align-self: flex-end;width: 50%;}#sk-container-id-13 div.sk-parallel-item:last-child::after {align-self: flex-start;width: 50%;}#sk-container-id-13 div.sk-parallel-item:only-child::after {width: 0;}#sk-container-id-13 div.sk-dashed-wrapped {border: 1px dashed gray;margin: 0 0.4em 0.5em 0.4em;box-sizing: border-box;padding-bottom: 0.4em;background-color: white;}#sk-container-id-13 div.sk-label label {font-family: monospace;font-weight: bold;display: inline-block;line-height: 1.2em;}#sk-container-id-13 div.sk-label-container {text-align: center;}#sk-container-id-13 div.sk-container {/* jupyter's `normalize.less` sets `[hidden] { display: none; }` but bootstrap.min.css set `[hidden] { display: none !important; }` so we also need the `!important` here to be able to override the default hidden behavior on the sphinx rendered scikit-learn.org. See: https://github.com/scikit-learn/scikit-learn/issues/21755 */display: inline-block !important;position: relative;}#sk-container-id-13 div.sk-text-repr-fallback {display: none;}</style><div id=\"sk-container-id-13\" class=\"sk-top-container\"><div class=\"sk-text-repr-fallback\"><pre>DecisionTreeClassifier(max_depth=16, random_state=42)</pre><b>In a Jupyter environment, please rerun this cell to show the HTML representation or trust the notebook. <br />On GitHub, the HTML representation is unable to render, please try loading this page with nbviewer.org.</b></div><div class=\"sk-container\" hidden><div class=\"sk-item\"><div class=\"sk-estimator sk-toggleable\"><input class=\"sk-toggleable__control sk-hidden--visually\" id=\"sk-estimator-id-25\" type=\"checkbox\" checked><label for=\"sk-estimator-id-25\" class=\"sk-toggleable__label sk-toggleable__label-arrow\">DecisionTreeClassifier</label><div class=\"sk-toggleable__content\"><pre>DecisionTreeClassifier(max_depth=16, random_state=42)</pre></div></div></div></div></div>"
     },
     "execution_count": 117,
     "metadata": {},
     "output_type": "execute_result"
    }
   ],
   "source": [
    "tree_oversampled = DecisionTreeClassifier(random_state=42, max_depth=16, min_samples_split=2,  criterion='gini')\n",
    "tree_oversampled.fit(X_oversampled, y_oversampled)"
   ],
   "metadata": {
    "collapsed": false
   }
  },
  {
   "cell_type": "code",
   "execution_count": 118,
   "outputs": [
    {
     "name": "stdout",
     "output_type": "stream",
     "text": [
      "Accuracy on training set:  0.844630424004656\n",
      "confusion_matrix on training set: \n",
      " [[73386 19396]\n",
      " [ 9435 83347]]\n",
      "Accuracy on validation set:  0.7369235530795419\n",
      "Confusion matrix: \n",
      " [[17191  6158]\n",
      " [ 2342  6619]]\n",
      "Classification report: \n",
      "               precision    recall  f1-score   support\n",
      "\n",
      "       False       0.88      0.74      0.80     23349\n",
      "        True       0.52      0.74      0.61      8961\n",
      "\n",
      "    accuracy                           0.74     32310\n",
      "   macro avg       0.70      0.74      0.71     32310\n",
      "weighted avg       0.78      0.74      0.75     32310\n",
      "\n"
     ]
    }
   ],
   "source": [
    "y_pred = tree_oversampled.predict(X_test)\n",
    "y_pred_train = tree_oversampled.predict(X_oversampled)\n",
    "print('Accuracy on training set: ', accuracy_score(y_oversampled, y_pred_train))\n",
    "print('confusion_matrix on training set: \\n', confusion_matrix(y_oversampled, y_pred_train))\n",
    "print('Accuracy on validation set: ', accuracy_score(y_test, y_pred))\n",
    "print('Confusion matrix: \\n', confusion_matrix(y_test, y_pred))\n",
    "print('Classification report: \\n', classification_report(y_test, y_pred))"
   ],
   "metadata": {
    "collapsed": false
   }
  },
  {
   "cell_type": "markdown",
   "source": [
    "## KNN"
   ],
   "metadata": {
    "collapsed": false
   }
  },
  {
   "cell_type": "code",
   "execution_count": 140,
   "outputs": [],
   "source": [
    "from sklearn.neighbors import KNeighborsClassifier\n",
    "from sklearn.model_selection import train_test_split\n",
    "from sklearn.metrics import accuracy_score, precision_score, recall_score, f1_score, confusion_matrix, classification_report\n",
    "from sklearn.metrics import confusion_matrix\n",
    "from sklearn.metrics import classification_report"
   ],
   "metadata": {
    "collapsed": false
   }
  },
  {
   "cell_type": "code",
   "execution_count": 145,
   "outputs": [
    {
     "name": "stderr",
     "output_type": "stream",
     "text": [
      "100%|██████████| 9/9 [02:02<00:00, 13.59s/it]\n"
     ]
    }
   ],
   "source": [
    "# train model\n",
    "accuracy_scores = []\n",
    "f1_scores =[]\n",
    "for i in tqdm(range(1, 10)):\n",
    "    knn = KNeighborsClassifier(n_neighbors=i)\n",
    "    knn.fit(X_train, y_train)\n",
    "    y_pred = knn.predict(X_test)\n",
    "    accuracy_scores.append(accuracy_score(y_test, y_pred))\n",
    "    f1_scores.append(f1_score(y_test, y_pred))"
   ],
   "metadata": {
    "collapsed": false
   }
  },
  {
   "cell_type": "code",
   "execution_count": 146,
   "outputs": [
    {
     "data": {
      "text/plain": "Text(0.5, 1.0, 'accuracy and f1-score for different k values')"
     },
     "execution_count": 146,
     "metadata": {},
     "output_type": "execute_result"
    },
    {
     "data": {
      "text/plain": "<Figure size 640x480 with 1 Axes>",
      "image/png": "[encoded data removed]"
     },
     "metadata": {},
     "output_type": "display_data"
    }
   ],
   "source": [
    "plt.plot(range(1, 10), accuracy_scores)\n",
    "plt.plot(range(1, 10), f1_scores)\n",
    "plt.xlabel('k')\n",
    "plt.legend(['accuracy' ,'f1'])\n",
    "plt.title('accuracy and f1-score for different k values')\n",
    "\n"
   ],
   "metadata": {
    "collapsed": false
   }
  },
  {
   "cell_type": "code",
   "execution_count": null,
   "outputs": [],
   "source": [],
   "metadata": {
    "collapsed": false
   }
  },
  {
   "cell_type": "code",
   "execution_count": 147,
   "outputs": [
    {
     "name": "stdout",
     "output_type": "stream",
     "text": [
      "Accuracy on test set:  0.7596409780253791\n",
      "Confusion matrix: \n",
      " [[20478  2871]\n",
      " [ 4895  4066]]\n",
      "Classification report: \n",
      "               precision    recall  f1-score   support\n",
      "\n",
      "       False       0.81      0.88      0.84     23349\n",
      "        True       0.59      0.45      0.51      8961\n",
      "\n",
      "    accuracy                           0.76     32310\n",
      "   macro avg       0.70      0.67      0.68     32310\n",
      "weighted avg       0.75      0.76      0.75     32310\n",
      "\n"
     ]
    }
   ],
   "source": [
    "# train again with best k on whole dev set\n",
    "knn = KNeighborsClassifier(n_neighbors=5)\n",
    "knn.fit(X_train, y_train)\n",
    "y_pred = knn.predict(X_test)\n",
    "\n",
    "print('Accuracy on test set: ', accuracy_score(y_test, y_pred))\n",
    "print('Confusion matrix: \\n', confusion_matrix(y_test, y_pred))\n",
    "print('Classification report: \\n', classification_report(y_test, y_pred))"
   ],
   "metadata": {
    "collapsed": false
   }
  },
  {
   "cell_type": "markdown",
   "source": [
    "## Logistic regression"
   ],
   "metadata": {
    "collapsed": false
   }
  },
  {
   "cell_type": "code",
   "execution_count": 92,
   "outputs": [
    {
     "data": {
      "text/plain": "        latitude  longitude    year  povertyPercentage  population  \\\n72096    41.5094   -87.3501  2016.0               11.8     6634304   \n159077   30.0788   -95.4261  2015.0               14.0    27470056   \n124316   34.1473   -77.8766  2017.0               13.6    10268233   \n144416   42.4051   -82.9640  2017.0               10.7     9973114   \n41932    33.5675  -112.1560  2014.0               18.1     6730413   \n...          ...        ...     ...                ...         ...   \n122307   40.8303   -73.9478  2016.0               11.8    19633428   \n105898   36.8071  -119.6720  2016.0               12.5    39167117   \n134581   42.7352   -87.7959  2014.0               11.0     5751525   \n149666   27.3226   -80.3804  2017.0               12.8    20963613   \n124404   29.5286   -95.0316  2015.0               14.0    27470056   \n\n        candidatevotes  right_or_left  voters_over_population  n_participants  \\\n72096         207515.0       0.184883                0.400700             2.0   \n159077        101936.0       0.679456                0.162122             4.0   \n124316        211801.0       0.609138                0.447833             2.0   \n144416        244135.0       0.214934                0.468350             1.0   \n41932         128710.0       0.758117                0.218055             1.0   \n...                ...            ...                     ...             ...   \n122307        207194.0       0.188235                0.397300             3.0   \n105898        158755.0       0.675651                0.342482             3.0   \n134581        182316.0       0.632668                0.409557             2.0   \n149666        201488.0       0.535989                0.421560             1.0   \n124404         90116.0       0.618512                0.162122             1.0   \n\n        n_females  ...  age_group_[12-17]  age_group_[18-24]  \\\n72096         0.0  ...                  0                  1   \n159077        0.0  ...                  0                  1   \n124316        1.0  ...                  0                  0   \n144416        0.0  ...                  0                  0   \n41932         0.0  ...                  0                  0   \n...           ...  ...                ...                ...   \n122307        0.0  ...                  0                  0   \n105898        0.0  ...                  0                  0   \n134581        0.0  ...                  1                  0   \n149666        0.0  ...                  0                  0   \n124404        0.0  ...                  0                  0   \n\n        age_group_[25-34]  age_group_[35-44]  age_group_[45-54]  \\\n72096                   0                  0                  0   \n159077                  0                  0                  0   \n124316                  0                  1                  0   \n144416                  0                  0                  0   \n41932                   0                  0                  1   \n...                   ...                ...                ...   \n122307                  1                  0                  0   \n105898                  1                  0                  0   \n134581                  0                  0                  0   \n149666                  1                  0                  0   \n124404                  1                  0                  0   \n\n        age_group_[55-64]  age_group_[65-74]  age_group_[75-100]  \\\n72096                   0                  0                   0   \n159077                  0                  0                   0   \n124316                  0                  0                   0   \n144416                  1                  0                   0   \n41932                   0                  0                   0   \n...                   ...                ...                 ...   \n122307                  0                  0                   0   \n105898                  0                  0                   0   \n134581                  0                  0                   0   \n149666                  0                  0                   0   \n124404                  0                  0                   0   \n\n        party_DEMOCRAT  party_REPUBLICAN  \n72096                1                 0  \n159077               0                 1  \n124316               0                 1  \n144416               1                 0  \n41932                0                 1  \n...                ...               ...  \n122307               1                 0  \n105898               0                 1  \n134581               0                 1  \n149666               0                 1  \n124404               0                 1  \n\n[129240 rows x 24 columns]",
      "text/html": "<div>\n<style scoped>\n    .dataframe tbody tr th:only-of-type {\n        vertical-align: middle;\n    }\n\n    .dataframe tbody tr th {\n        vertical-align: top;\n    }\n\n    .dataframe thead th {\n        text-align: right;\n    }\n</style>\n<table border=\"1\" class=\"dataframe\">\n  <thead>\n    <tr style=\"text-align: right;\">\n      <th></th>\n      <th>latitude</th>\n      <th>longitude</th>\n      <th>year</th>\n      <th>povertyPercentage</th>\n      <th>population</th>\n      <th>candidatevotes</th>\n      <th>right_or_left</th>\n      <th>voters_over_population</th>\n      <th>n_participants</th>\n      <th>n_females</th>\n      <th>...</th>\n      <th>age_group_[12-17]</th>\n      <th>age_group_[18-24]</th>\n      <th>age_group_[25-34]</th>\n      <th>age_group_[35-44]</th>\n      <th>age_group_[45-54]</th>\n      <th>age_group_[55-64]</th>\n      <th>age_group_[65-74]</th>\n      <th>age_group_[75-100]</th>\n      <th>party_DEMOCRAT</th>\n      <th>party_REPUBLICAN</th>\n    </tr>\n  </thead>\n  <tbody>\n    <tr>\n      <th>72096</th>\n      <td>41.5094</td>\n      <td>-87.3501</td>\n      <td>2016.0</td>\n      <td>11.8</td>\n      <td>6634304</td>\n      <td>207515.0</td>\n      <td>0.184883</td>\n      <td>0.400700</td>\n      <td>2.0</td>\n      <td>0.0</td>\n      <td>...</td>\n      <td>0</td>\n      <td>1</td>\n      <td>0</td>\n      <td>0</td>\n      <td>0</td>\n      <td>0</td>\n      <td>0</td>\n      <td>0</td>\n      <td>1</td>\n      <td>0</td>\n    </tr>\n    <tr>\n      <th>159077</th>\n      <td>30.0788</td>\n      <td>-95.4261</td>\n      <td>2015.0</td>\n      <td>14.0</td>\n      <td>27470056</td>\n      <td>101936.0</td>\n      <td>0.679456</td>\n      <td>0.162122</td>\n      <td>4.0</td>\n      <td>0.0</td>\n      <td>...</td>\n      <td>0</td>\n      <td>1</td>\n      <td>0</td>\n      <td>0</td>\n      <td>0</td>\n      <td>0</td>\n      <td>0</td>\n      <td>0</td>\n      <td>0</td>\n      <td>1</td>\n    </tr>\n    <tr>\n      <th>124316</th>\n      <td>34.1473</td>\n      <td>-77.8766</td>\n      <td>2017.0</td>\n      <td>13.6</td>\n      <td>10268233</td>\n      <td>211801.0</td>\n      <td>0.609138</td>\n      <td>0.447833</td>\n      <td>2.0</td>\n      <td>1.0</td>\n      <td>...</td>\n      <td>0</td>\n      <td>0</td>\n      <td>0</td>\n      <td>1</td>\n      <td>0</td>\n      <td>0</td>\n      <td>0</td>\n      <td>0</td>\n      <td>0</td>\n      <td>1</td>\n    </tr>\n    <tr>\n      <th>144416</th>\n      <td>42.4051</td>\n      <td>-82.9640</td>\n      <td>2017.0</td>\n      <td>10.7</td>\n      <td>9973114</td>\n      <td>244135.0</td>\n      <td>0.214934</td>\n      <td>0.468350</td>\n      <td>1.0</td>\n      <td>0.0</td>\n      <td>...</td>\n      <td>0</td>\n      <td>0</td>\n      <td>0</td>\n      <td>0</td>\n      <td>0</td>\n      <td>1</td>\n      <td>0</td>\n      <td>0</td>\n      <td>1</td>\n      <td>0</td>\n    </tr>\n    <tr>\n      <th>41932</th>\n      <td>33.5675</td>\n      <td>-112.1560</td>\n      <td>2014.0</td>\n      <td>18.1</td>\n      <td>6730413</td>\n      <td>128710.0</td>\n      <td>0.758117</td>\n      <td>0.218055</td>\n      <td>1.0</td>\n      <td>0.0</td>\n      <td>...</td>\n      <td>0</td>\n      <td>0</td>\n      <td>0</td>\n      <td>0</td>\n      <td>1</td>\n      <td>0</td>\n      <td>0</td>\n      <td>0</td>\n      <td>0</td>\n      <td>1</td>\n    </tr>\n    <tr>\n      <th>...</th>\n      <td>...</td>\n      <td>...</td>\n      <td>...</td>\n      <td>...</td>\n      <td>...</td>\n      <td>...</td>\n      <td>...</td>\n      <td>...</td>\n      <td>...</td>\n      <td>...</td>\n      <td>...</td>\n      <td>...</td>\n      <td>...</td>\n      <td>...</td>\n      <td>...</td>\n      <td>...</td>\n      <td>...</td>\n      <td>...</td>\n      <td>...</td>\n      <td>...</td>\n      <td>...</td>\n    </tr>\n    <tr>\n      <th>122307</th>\n      <td>40.8303</td>\n      <td>-73.9478</td>\n      <td>2016.0</td>\n      <td>11.8</td>\n      <td>19633428</td>\n      <td>207194.0</td>\n      <td>0.188235</td>\n      <td>0.397300</td>\n      <td>3.0</td>\n      <td>0.0</td>\n      <td>...</td>\n      <td>0</td>\n      <td>0</td>\n      <td>1</td>\n      <td>0</td>\n      <td>0</td>\n      <td>0</td>\n      <td>0</td>\n      <td>0</td>\n      <td>1</td>\n      <td>0</td>\n    </tr>\n    <tr>\n      <th>105898</th>\n      <td>36.8071</td>\n      <td>-119.6720</td>\n      <td>2016.0</td>\n      <td>12.5</td>\n      <td>39167117</td>\n      <td>158755.0</td>\n      <td>0.675651</td>\n      <td>0.342482</td>\n      <td>3.0</td>\n      <td>0.0</td>\n      <td>...</td>\n      <td>0</td>\n      <td>0</td>\n      <td>1</td>\n      <td>0</td>\n      <td>0</td>\n      <td>0</td>\n      <td>0</td>\n      <td>0</td>\n      <td>0</td>\n      <td>1</td>\n    </tr>\n    <tr>\n      <th>134581</th>\n      <td>42.7352</td>\n      <td>-87.7959</td>\n      <td>2014.0</td>\n      <td>11.0</td>\n      <td>5751525</td>\n      <td>182316.0</td>\n      <td>0.632668</td>\n      <td>0.409557</td>\n      <td>2.0</td>\n      <td>0.0</td>\n      <td>...</td>\n      <td>1</td>\n      <td>0</td>\n      <td>0</td>\n      <td>0</td>\n      <td>0</td>\n      <td>0</td>\n      <td>0</td>\n      <td>0</td>\n      <td>0</td>\n      <td>1</td>\n    </tr>\n    <tr>\n      <th>149666</th>\n      <td>27.3226</td>\n      <td>-80.3804</td>\n      <td>2017.0</td>\n      <td>12.8</td>\n      <td>20963613</td>\n      <td>201488.0</td>\n      <td>0.535989</td>\n      <td>0.421560</td>\n      <td>1.0</td>\n      <td>0.0</td>\n      <td>...</td>\n      <td>0</td>\n      <td>0</td>\n      <td>1</td>\n      <td>0</td>\n      <td>0</td>\n      <td>0</td>\n      <td>0</td>\n      <td>0</td>\n      <td>0</td>\n      <td>1</td>\n    </tr>\n    <tr>\n      <th>124404</th>\n      <td>29.5286</td>\n      <td>-95.0316</td>\n      <td>2015.0</td>\n      <td>14.0</td>\n      <td>27470056</td>\n      <td>90116.0</td>\n      <td>0.618512</td>\n      <td>0.162122</td>\n      <td>1.0</td>\n      <td>0.0</td>\n      <td>...</td>\n      <td>0</td>\n      <td>0</td>\n      <td>1</td>\n      <td>0</td>\n      <td>0</td>\n      <td>0</td>\n      <td>0</td>\n      <td>0</td>\n      <td>0</td>\n      <td>1</td>\n    </tr>\n  </tbody>\n</table>\n<p>129240 rows × 24 columns</p>\n</div>"
     },
     "execution_count": 92,
     "metadata": {},
     "output_type": "execute_result"
    }
   ],
   "source": [
    "X_train"
   ],
   "metadata": {
    "collapsed": false
   }
  },
  {
   "cell_type": "code",
   "execution_count": 93,
   "metadata": {},
   "outputs": [
    {
     "name": "stdout",
     "output_type": "stream",
     "text": [
      "Accuracy on training set:  0.7318090374497059\n",
      "confusion_matrix on training set: \n",
      " [[85674  7108]\n",
      " [27553  8905]]\n",
      "Accuracy on validation set:  0.7332714329928814\n",
      "Confusion matrix: \n",
      " [[21560  1789]\n",
      " [ 6829  2132]]\n",
      "Classification report: \n",
      "               precision    recall  f1-score   support\n",
      "\n",
      "       False       0.76      0.92      0.83     23349\n",
      "        True       0.54      0.24      0.33      8961\n",
      "\n",
      "    accuracy                           0.73     32310\n",
      "   macro avg       0.65      0.58      0.58     32310\n",
      "weighted avg       0.70      0.73      0.69     32310\n",
      "\n"
     ]
    }
   ],
   "source": [
    "from sklearn.preprocessing import StandardScaler\n",
    "from sklearn.linear_model import LogisticRegression\n",
    "scaler = StandardScaler()\n",
    "X_scaled=scaler.fit_transform(X)\n",
    "X_train, X_test, y_train, y_test = train_test_split(X_scaled, y, test_size=0.2, random_state=42)\n",
    "logreg = LogisticRegression()\n",
    "logreg_model = logreg.fit(X_train, y_train)\n",
    "y_pred = logreg.predict(X_test)\n",
    "y_pred_train = logreg.predict(X_train)\n",
    "print('Accuracy on training set: ', accuracy_score(y_train, y_pred_train))\n",
    "print('confusion_matrix on training set: \\n', confusion_matrix(y_train, y_pred_train))\n",
    "print('Accuracy on validation set: ', accuracy_score(y_test, y_pred))\n",
    "print('Confusion matrix: \\n', confusion_matrix(y_test, y_pred))\n",
    "print('Classification report: \\n', classification_report(y_test, y_pred))"
   ]
  },
  {
   "cell_type": "code",
   "execution_count": 94,
   "outputs": [
    {
     "name": "stdout",
     "output_type": "stream",
     "text": [
      "('latitude', -0.22691250734656887)\n",
      "('longitude', -0.1345313800112381)\n",
      "('year', 0.04517083613502728)\n",
      "('povertyPercentage', 0.006232838324137299)\n",
      "('population', -0.04485873722895585)\n",
      "('candidatevotes', 0.07737770772894101)\n",
      "('right_or_left', -0.25058822943825504)\n",
      "('voters_over_population', -0.2134447414103283)\n",
      "('n_participants', 0.4607719484178424)\n",
      "('n_females', 0.06590461710916817)\n",
      "('n_teens', -0.003972764296771843)\n",
      "('n_children', 0.029711379332977256)\n",
      "('n_injured', -1.0778567064453866)\n",
      "('age_group_[0-11]', -0.053281099514143775)\n",
      "('age_group_[12-17]', -0.1377974671670315)\n",
      "('age_group_[18-24]', -0.08509522353840995)\n",
      "('age_group_[25-34]', 0.02799710222386613)\n",
      "('age_group_[35-44]', 0.06762885756513441)\n",
      "('age_group_[45-54]', 0.08835807658420265)\n",
      "('age_group_[55-64]', 0.07135393719270403)\n",
      "('age_group_[65-74]', 0.03955356385425818)\n",
      "('age_group_[75-100]', 0.033195025406183784)\n",
      "('party_DEMOCRAT', 0.005182070158533279)\n",
      "('party_REPUBLICAN', -0.005182070158533279)\n"
     ]
    }
   ],
   "source": [
    "# weights of model\n",
    "for i in zip(X.columns, logreg_model.coef_[0]):\n",
    "    print(i)"
   ],
   "metadata": {
    "collapsed": false
   }
  },
  {
   "cell_type": "code",
   "execution_count": 259,
   "outputs": [
    {
     "data": {
      "text/plain": "-0.3597385293540303"
     },
     "execution_count": 259,
     "metadata": {},
     "output_type": "execute_result"
    }
   ],
   "source": [
    "# correlation n_killed and n_injured\n",
    "df_orig['isKilled'] = df_incidents_prepared['isKilled']\n",
    "df_orig['isInjured'] = df_orig['n_injured'] > 0\n",
    "df_orig['isKilled'].corr(df_orig['isInjured'])"
   ],
   "metadata": {
    "collapsed": false
   }
  },
  {
   "cell_type": "markdown",
   "source": [
    "## Random Forest"
   ],
   "metadata": {
    "collapsed": false
   }
  },
  {
   "cell_type": "code",
   "execution_count": 115,
   "metadata": {},
   "outputs": [
    {
     "name": "stdout",
     "output_type": "stream",
     "text": [
      "Accuracy on validation set:  0.7156607861343237\n",
      "Confusion matrix: \n",
      " [[15973  7376]\n",
      " [ 1811  7150]]\n",
      "Classification report: \n",
      "               precision    recall  f1-score   support\n",
      "\n",
      "       False       0.90      0.68      0.78     23349\n",
      "        True       0.49      0.80      0.61      8961\n",
      "\n",
      "    accuracy                           0.72     32310\n",
      "   macro avg       0.70      0.74      0.69     32310\n",
      "weighted avg       0.79      0.72      0.73     32310\n",
      "\n"
     ]
    }
   ],
   "source": [
    "from sklearn.ensemble import RandomForestClassifier\n",
    "X_train, X_test, y_train, y_test = train_test_split(X, y, test_size=0.2, random_state=42)\n",
    "rand_for = RandomForestClassifier(max_depth=8, min_samples_split=4, criterion='gini', random_state=42)\n",
    "rand_for.fit(X_undersampled, y_undersampled)\n",
    "y_pred = rand_for.predict(X_test)\n",
    "y_pred_train = rand_for.predict(X_train)\n",
    "#print('Accuracy on training set: ', accuracy_score(y_train, y_pred_train))\n",
    "#print('confusion_matrix on training set: \\n', confusion_matrix(y_train, y_pred_train))\n",
    "print('Accuracy on validation set: ', accuracy_score(y_test, y_pred))\n",
    "print('Confusion matrix: \\n', confusion_matrix(y_test, y_pred))\n",
    "print('Classification report: \\n', classification_report(y_test, y_pred))\n"
   ]
  },
  {
   "cell_type": "code",
   "execution_count": 136,
   "outputs": [
    {
     "name": "stderr",
     "output_type": "stream",
     "text": [
      "C:\\Users\\HUAWEI\\AppData\\Local\\Temp\\ipykernel_19692\\3544837073.py:2: FutureWarning: The behavior of `series[i:j]` with an integer-dtype index is deprecated. In a future version, this will be treated as *label-based* indexing, consistent with e.g. `series[i]` lookups. To retain the old behavior, use `series.iloc[i:j]`. To get the future behavior, use `series.loc[i:j]`.\n",
      "  y_train_balanced = np.concatenate((y_train[y_train==1], y_train[y_train==0][:y_train[y_train==1].shape[0]]))\n"
     ]
    },
    {
     "data": {
      "text/plain": "RandomForestClassifier()",
      "text/html": "<style>#sk-container-id-21 {color: black;background-color: white;}#sk-container-id-21 pre{padding: 0;}#sk-container-id-21 div.sk-toggleable {background-color: white;}#sk-container-id-21 label.sk-toggleable__label {cursor: pointer;display: block;width: 100%;margin-bottom: 0;padding: 0.3em;box-sizing: border-box;text-align: center;}#sk-container-id-21 label.sk-toggleable__label-arrow:before {content: \"▸\";float: left;margin-right: 0.25em;color: #696969;}#sk-container-id-21 label.sk-toggleable__label-arrow:hover:before {color: black;}#sk-container-id-21 div.sk-estimator:hover label.sk-toggleable__label-arrow:before {color: black;}#sk-container-id-21 div.sk-toggleable__content {max-height: 0;max-width: 0;overflow: hidden;text-align: left;background-color: #f0f8ff;}#sk-container-id-21 div.sk-toggleable__content pre {margin: 0.2em;color: black;border-radius: 0.25em;background-color: #f0f8ff;}#sk-container-id-21 input.sk-toggleable__control:checked~div.sk-toggleable__content {max-height: 200px;max-width: 100%;overflow: auto;}#sk-container-id-21 input.sk-toggleable__control:checked~label.sk-toggleable__label-arrow:before {content: \"▾\";}#sk-container-id-21 div.sk-estimator input.sk-toggleable__control:checked~label.sk-toggleable__label {background-color: #d4ebff;}#sk-container-id-21 div.sk-label input.sk-toggleable__control:checked~label.sk-toggleable__label {background-color: #d4ebff;}#sk-container-id-21 input.sk-hidden--visually {border: 0;clip: rect(1px 1px 1px 1px);clip: rect(1px, 1px, 1px, 1px);height: 1px;margin: -1px;overflow: hidden;padding: 0;position: absolute;width: 1px;}#sk-container-id-21 div.sk-estimator {font-family: monospace;background-color: #f0f8ff;border: 1px dotted black;border-radius: 0.25em;box-sizing: border-box;margin-bottom: 0.5em;}#sk-container-id-21 div.sk-estimator:hover {background-color: #d4ebff;}#sk-container-id-21 div.sk-parallel-item::after {content: \"\";width: 100%;border-bottom: 1px solid gray;flex-grow: 1;}#sk-container-id-21 div.sk-label:hover label.sk-toggleable__label {background-color: #d4ebff;}#sk-container-id-21 div.sk-serial::before {content: \"\";position: absolute;border-left: 1px solid gray;box-sizing: border-box;top: 0;bottom: 0;left: 50%;z-index: 0;}#sk-container-id-21 div.sk-serial {display: flex;flex-direction: column;align-items: center;background-color: white;padding-right: 0.2em;padding-left: 0.2em;position: relative;}#sk-container-id-21 div.sk-item {position: relative;z-index: 1;}#sk-container-id-21 div.sk-parallel {display: flex;align-items: stretch;justify-content: center;background-color: white;position: relative;}#sk-container-id-21 div.sk-item::before, #sk-container-id-21 div.sk-parallel-item::before {content: \"\";position: absolute;border-left: 1px solid gray;box-sizing: border-box;top: 0;bottom: 0;left: 50%;z-index: -1;}#sk-container-id-21 div.sk-parallel-item {display: flex;flex-direction: column;z-index: 1;position: relative;background-color: white;}#sk-container-id-21 div.sk-parallel-item:first-child::after {align-self: flex-end;width: 50%;}#sk-container-id-21 div.sk-parallel-item:last-child::after {align-self: flex-start;width: 50%;}#sk-container-id-21 div.sk-parallel-item:only-child::after {width: 0;}#sk-container-id-21 div.sk-dashed-wrapped {border: 1px dashed gray;margin: 0 0.4em 0.5em 0.4em;box-sizing: border-box;padding-bottom: 0.4em;background-color: white;}#sk-container-id-21 div.sk-label label {font-family: monospace;font-weight: bold;display: inline-block;line-height: 1.2em;}#sk-container-id-21 div.sk-label-container {text-align: center;}#sk-container-id-21 div.sk-container {/* jupyter's `normalize.less` sets `[hidden] { display: none; }` but bootstrap.min.css set `[hidden] { display: none !important; }` so we also need the `!important` here to be able to override the default hidden behavior on the sphinx rendered scikit-learn.org. See: https://github.com/scikit-learn/scikit-learn/issues/21755 */display: inline-block !important;position: relative;}#sk-container-id-21 div.sk-text-repr-fallback {display: none;}</style><div id=\"sk-container-id-21\" class=\"sk-top-container\"><div class=\"sk-text-repr-fallback\"><pre>RandomForestClassifier()</pre><b>In a Jupyter environment, please rerun this cell to show the HTML representation or trust the notebook. <br />On GitHub, the HTML representation is unable to render, please try loading this page with nbviewer.org.</b></div><div class=\"sk-container\" hidden><div class=\"sk-item\"><div class=\"sk-estimator sk-toggleable\"><input class=\"sk-toggleable__control sk-hidden--visually\" id=\"sk-estimator-id-23\" type=\"checkbox\" checked><label for=\"sk-estimator-id-23\" class=\"sk-toggleable__label sk-toggleable__label-arrow\">RandomForestClassifier</label><div class=\"sk-toggleable__content\"><pre>RandomForestClassifier()</pre></div></div></div></div></div>"
     },
     "execution_count": 136,
     "metadata": {},
     "output_type": "execute_result"
    }
   ],
   "source": [
    "X_train_balanced = np.concatenate((X_train[y_train==1], X_train[y_train==0][:X_train[y_train==1].shape[0]]))\n",
    "y_train_balanced = np.concatenate((y_train[y_train==1], y_train[y_train==0][:y_train[y_train==1].shape[0]]))\n",
    "rand_for = RandomForestClassifier()\n",
    "rand_for.fit(X_train_balanced, y_train_balanced)"
   ],
   "metadata": {
    "collapsed": false
   }
  },
  {
   "cell_type": "code",
   "execution_count": 137,
   "outputs": [
    {
     "name": "stderr",
     "output_type": "stream",
     "text": [
      "C:\\Users\\HUAWEI\\AppData\\Local\\Programs\\Python\\Python310\\lib\\site-packages\\sklearn\\base.py:443: UserWarning: X has feature names, but RandomForestClassifier was fitted without feature names\n",
      "  warnings.warn(\n"
     ]
    },
    {
     "name": "stdout",
     "output_type": "stream",
     "text": [
      "Accuracy on training set:  0.8958801909046026\n",
      "confusion_matrix on training set: \n",
      " [[32183  4275]\n",
      " [ 3317 33141]]\n",
      "Accuracy on validation set:  0.7131538223460229\n",
      "Confusion matrix: \n",
      " [[16095  7254]\n",
      " [ 2014  6947]]\n",
      "Classification report: \n",
      "               precision    recall  f1-score   support\n",
      "\n",
      "       False       0.89      0.69      0.78     23349\n",
      "        True       0.49      0.78      0.60      8961\n",
      "\n",
      "    accuracy                           0.71     32310\n",
      "   macro avg       0.69      0.73      0.69     32310\n",
      "weighted avg       0.78      0.71      0.73     32310\n",
      "\n"
     ]
    }
   ],
   "source": [
    "\n",
    "y_pred = rand_for.predict(X_test)\n",
    "y_pred_train = rand_for.predict(X_train_balanced)\n",
    "\n",
    "print('Accuracy on training set: ', accuracy_score(y_train_balanced, y_pred_train))\n",
    "print('confusion_matrix on training set: \\n', confusion_matrix(y_train_balanced, y_pred_train))\n",
    "print('Accuracy on validation set: ', accuracy_score(y_test, y_pred))\n",
    "print('Confusion matrix: \\n', confusion_matrix(y_test, y_pred))\n",
    "print('Classification report: \\n', classification_report(y_test, y_pred))"
   ],
   "metadata": {
    "collapsed": false
   }
  },
  {
   "cell_type": "code",
   "execution_count": null,
   "outputs": [],
   "source": [],
   "metadata": {
    "collapsed": false
   }
  },
  {
   "cell_type": "code",
   "execution_count": 140,
   "outputs": [
    {
     "name": "stdout",
     "output_type": "stream",
     "text": [
      "Fitting 3 folds for each of 162 candidates, totalling 486 fits\n",
      "[CV 1/3] END criterion=gini, max_depth=16, min_samples_leaf=4, min_samples_split=8, n_estimators=20;, score=0.483 total time=   2.2s\n",
      "[CV 2/3] END criterion=gini, max_depth=16, min_samples_leaf=4, min_samples_split=8, n_estimators=20;, score=0.492 total time=   2.1s\n",
      "[CV 3/3] END criterion=gini, max_depth=16, min_samples_leaf=4, min_samples_split=8, n_estimators=20;, score=0.488 total time=   2.1s\n",
      "[CV 1/3] END criterion=gini, max_depth=16, min_samples_leaf=4, min_samples_split=8, n_estimators=30;, score=0.488 total time=   3.2s\n",
      "[CV 2/3] END criterion=gini, max_depth=16, min_samples_leaf=4, min_samples_split=8, n_estimators=30;, score=0.488 total time=   3.3s\n",
      "[CV 3/3] END criterion=gini, max_depth=16, min_samples_leaf=4, min_samples_split=8, n_estimators=30;, score=0.492 total time=   3.3s\n",
      "[CV 1/3] END criterion=gini, max_depth=16, min_samples_leaf=4, min_samples_split=8, n_estimators=50;, score=0.493 total time=   5.4s\n",
      "[CV 2/3] END criterion=gini, max_depth=16, min_samples_leaf=4, min_samples_split=8, n_estimators=50;, score=0.495 total time=   5.2s\n",
      "[CV 3/3] END criterion=gini, max_depth=16, min_samples_leaf=4, min_samples_split=8, n_estimators=50;, score=0.494 total time=   5.3s\n",
      "[CV 1/3] END criterion=gini, max_depth=16, min_samples_leaf=4, min_samples_split=16, n_estimators=20;, score=0.486 total time=   2.2s\n",
      "[CV 2/3] END criterion=gini, max_depth=16, min_samples_leaf=4, min_samples_split=16, n_estimators=20;, score=0.485 total time=   2.1s\n",
      "[CV 3/3] END criterion=gini, max_depth=16, min_samples_leaf=4, min_samples_split=16, n_estimators=20;, score=0.479 total time=   2.0s\n",
      "[CV 1/3] END criterion=gini, max_depth=16, min_samples_leaf=4, min_samples_split=16, n_estimators=30;, score=0.485 total time=   3.1s\n",
      "[CV 2/3] END criterion=gini, max_depth=16, min_samples_leaf=4, min_samples_split=16, n_estimators=30;, score=0.486 total time=   3.1s\n",
      "[CV 3/3] END criterion=gini, max_depth=16, min_samples_leaf=4, min_samples_split=16, n_estimators=30;, score=0.485 total time=   3.2s\n",
      "[CV 1/3] END criterion=gini, max_depth=16, min_samples_leaf=4, min_samples_split=16, n_estimators=50;, score=0.485 total time=   5.2s\n",
      "[CV 2/3] END criterion=gini, max_depth=16, min_samples_leaf=4, min_samples_split=16, n_estimators=50;, score=0.491 total time=   6.0s\n",
      "[CV 3/3] END criterion=gini, max_depth=16, min_samples_leaf=4, min_samples_split=16, n_estimators=50;, score=0.492 total time=   5.5s\n",
      "[CV 1/3] END criterion=gini, max_depth=16, min_samples_leaf=4, min_samples_split=32, n_estimators=20;, score=0.486 total time=   2.0s\n",
      "[CV 2/3] END criterion=gini, max_depth=16, min_samples_leaf=4, min_samples_split=32, n_estimators=20;, score=0.486 total time=   2.0s\n",
      "[CV 3/3] END criterion=gini, max_depth=16, min_samples_leaf=4, min_samples_split=32, n_estimators=20;, score=0.485 total time=   2.0s\n",
      "[CV 1/3] END criterion=gini, max_depth=16, min_samples_leaf=4, min_samples_split=32, n_estimators=30;, score=0.483 total time=   3.1s\n",
      "[CV 2/3] END criterion=gini, max_depth=16, min_samples_leaf=4, min_samples_split=32, n_estimators=30;, score=0.483 total time=   2.9s\n",
      "[CV 3/3] END criterion=gini, max_depth=16, min_samples_leaf=4, min_samples_split=32, n_estimators=30;, score=0.488 total time=   3.1s\n",
      "[CV 1/3] END criterion=gini, max_depth=16, min_samples_leaf=4, min_samples_split=32, n_estimators=50;, score=0.488 total time=   5.4s\n",
      "[CV 2/3] END criterion=gini, max_depth=16, min_samples_leaf=4, min_samples_split=32, n_estimators=50;, score=0.487 total time=   7.5s\n",
      "[CV 3/3] END criterion=gini, max_depth=16, min_samples_leaf=4, min_samples_split=32, n_estimators=50;, score=0.493 total time=   5.7s\n",
      "[CV 1/3] END criterion=gini, max_depth=16, min_samples_leaf=8, min_samples_split=8, n_estimators=20;, score=0.484 total time=   2.4s\n",
      "[CV 2/3] END criterion=gini, max_depth=16, min_samples_leaf=8, min_samples_split=8, n_estimators=20;, score=0.477 total time=   2.2s\n",
      "[CV 3/3] END criterion=gini, max_depth=16, min_samples_leaf=8, min_samples_split=8, n_estimators=20;, score=0.478 total time=   2.4s\n",
      "[CV 1/3] END criterion=gini, max_depth=16, min_samples_leaf=8, min_samples_split=8, n_estimators=30;, score=0.486 total time=   3.2s\n",
      "[CV 2/3] END criterion=gini, max_depth=16, min_samples_leaf=8, min_samples_split=8, n_estimators=30;, score=0.479 total time=   3.4s\n",
      "[CV 3/3] END criterion=gini, max_depth=16, min_samples_leaf=8, min_samples_split=8, n_estimators=30;, score=0.483 total time=   3.4s\n",
      "[CV 1/3] END criterion=gini, max_depth=16, min_samples_leaf=8, min_samples_split=8, n_estimators=50;, score=0.492 total time=   5.3s\n",
      "[CV 2/3] END criterion=gini, max_depth=16, min_samples_leaf=8, min_samples_split=8, n_estimators=50;, score=0.482 total time=   6.2s\n",
      "[CV 3/3] END criterion=gini, max_depth=16, min_samples_leaf=8, min_samples_split=8, n_estimators=50;, score=0.488 total time=   9.6s\n",
      "[CV 1/3] END criterion=gini, max_depth=16, min_samples_leaf=8, min_samples_split=16, n_estimators=20;, score=0.484 total time=   2.6s\n",
      "[CV 2/3] END criterion=gini, max_depth=16, min_samples_leaf=8, min_samples_split=16, n_estimators=20;, score=0.477 total time=   2.5s\n",
      "[CV 3/3] END criterion=gini, max_depth=16, min_samples_leaf=8, min_samples_split=16, n_estimators=20;, score=0.478 total time=   2.4s\n",
      "[CV 1/3] END criterion=gini, max_depth=16, min_samples_leaf=8, min_samples_split=16, n_estimators=30;, score=0.486 total time=   3.7s\n",
      "[CV 2/3] END criterion=gini, max_depth=16, min_samples_leaf=8, min_samples_split=16, n_estimators=30;, score=0.479 total time=   3.3s\n",
      "[CV 3/3] END criterion=gini, max_depth=16, min_samples_leaf=8, min_samples_split=16, n_estimators=30;, score=0.483 total time=   3.4s\n",
      "[CV 1/3] END criterion=gini, max_depth=16, min_samples_leaf=8, min_samples_split=16, n_estimators=50;, score=0.492 total time=   5.6s\n",
      "[CV 2/3] END criterion=gini, max_depth=16, min_samples_leaf=8, min_samples_split=16, n_estimators=50;, score=0.482 total time=   5.5s\n",
      "[CV 3/3] END criterion=gini, max_depth=16, min_samples_leaf=8, min_samples_split=16, n_estimators=50;, score=0.488 total time=   5.6s\n",
      "[CV 1/3] END criterion=gini, max_depth=16, min_samples_leaf=8, min_samples_split=32, n_estimators=20;, score=0.477 total time=   2.2s\n",
      "[CV 2/3] END criterion=gini, max_depth=16, min_samples_leaf=8, min_samples_split=32, n_estimators=20;, score=0.478 total time=   2.3s\n",
      "[CV 3/3] END criterion=gini, max_depth=16, min_samples_leaf=8, min_samples_split=32, n_estimators=20;, score=0.474 total time=   2.2s\n",
      "[CV 1/3] END criterion=gini, max_depth=16, min_samples_leaf=8, min_samples_split=32, n_estimators=30;, score=0.481 total time=   3.4s\n",
      "[CV 2/3] END criterion=gini, max_depth=16, min_samples_leaf=8, min_samples_split=32, n_estimators=30;, score=0.476 total time=   4.0s\n",
      "[CV 3/3] END criterion=gini, max_depth=16, min_samples_leaf=8, min_samples_split=32, n_estimators=30;, score=0.479 total time=   3.4s\n",
      "[CV 1/3] END criterion=gini, max_depth=16, min_samples_leaf=8, min_samples_split=32, n_estimators=50;, score=0.483 total time=   5.5s\n",
      "[CV 2/3] END criterion=gini, max_depth=16, min_samples_leaf=8, min_samples_split=32, n_estimators=50;, score=0.481 total time=   5.8s\n",
      "[CV 3/3] END criterion=gini, max_depth=16, min_samples_leaf=8, min_samples_split=32, n_estimators=50;, score=0.485 total time=   5.7s\n",
      "[CV 1/3] END criterion=gini, max_depth=16, min_samples_leaf=16, min_samples_split=8, n_estimators=20;, score=0.467 total time=   2.2s\n",
      "[CV 2/3] END criterion=gini, max_depth=16, min_samples_leaf=16, min_samples_split=8, n_estimators=20;, score=0.472 total time=   2.2s\n",
      "[CV 3/3] END criterion=gini, max_depth=16, min_samples_leaf=16, min_samples_split=8, n_estimators=20;, score=0.452 total time=   2.4s\n",
      "[CV 1/3] END criterion=gini, max_depth=16, min_samples_leaf=16, min_samples_split=8, n_estimators=30;, score=0.463 total time=   3.1s\n",
      "[CV 2/3] END criterion=gini, max_depth=16, min_samples_leaf=16, min_samples_split=8, n_estimators=30;, score=0.469 total time=   3.1s\n",
      "[CV 3/3] END criterion=gini, max_depth=16, min_samples_leaf=16, min_samples_split=8, n_estimators=30;, score=0.454 total time=   3.1s\n",
      "[CV 1/3] END criterion=gini, max_depth=16, min_samples_leaf=16, min_samples_split=8, n_estimators=50;, score=0.475 total time=   6.1s\n",
      "[CV 2/3] END criterion=gini, max_depth=16, min_samples_leaf=16, min_samples_split=8, n_estimators=50;, score=0.468 total time=   6.8s\n",
      "[CV 3/3] END criterion=gini, max_depth=16, min_samples_leaf=16, min_samples_split=8, n_estimators=50;, score=0.462 total time=   5.2s\n",
      "[CV 1/3] END criterion=gini, max_depth=16, min_samples_leaf=16, min_samples_split=16, n_estimators=20;, score=0.467 total time=   2.1s\n",
      "[CV 2/3] END criterion=gini, max_depth=16, min_samples_leaf=16, min_samples_split=16, n_estimators=20;, score=0.472 total time=   2.1s\n",
      "[CV 3/3] END criterion=gini, max_depth=16, min_samples_leaf=16, min_samples_split=16, n_estimators=20;, score=0.452 total time=   3.2s\n",
      "[CV 1/3] END criterion=gini, max_depth=16, min_samples_leaf=16, min_samples_split=16, n_estimators=30;, score=0.463 total time=   4.2s\n"
     ]
    },
    {
     "ename": "KeyboardInterrupt",
     "evalue": "",
     "output_type": "error",
     "traceback": [
      "\u001B[1;31m---------------------------------------------------------------------------\u001B[0m",
      "\u001B[1;31mKeyboardInterrupt\u001B[0m                         Traceback (most recent call last)",
      "Cell \u001B[1;32mIn[140], line 13\u001B[0m\n\u001B[0;32m      4\u001B[0m param_grid \u001B[38;5;241m=\u001B[39m {\u001B[38;5;124m'\u001B[39m\u001B[38;5;124mmax_depth\u001B[39m\u001B[38;5;124m'\u001B[39m: [ \u001B[38;5;241m16\u001B[39m, \u001B[38;5;241m32\u001B[39m, \u001B[38;5;241m64\u001B[39m],\n\u001B[0;32m      5\u001B[0m               \u001B[38;5;124m'\u001B[39m\u001B[38;5;124mmin_samples_split\u001B[39m\u001B[38;5;124m'\u001B[39m: [ \u001B[38;5;241m8\u001B[39m, \u001B[38;5;241m16\u001B[39m, \u001B[38;5;241m32\u001B[39m],\n\u001B[0;32m      6\u001B[0m               \u001B[38;5;124m'\u001B[39m\u001B[38;5;124mmin_samples_leaf\u001B[39m\u001B[38;5;124m'\u001B[39m: [ \u001B[38;5;241m4\u001B[39m, \u001B[38;5;241m8\u001B[39m, \u001B[38;5;241m16\u001B[39m],\n\u001B[0;32m      7\u001B[0m               \u001B[38;5;124m'\u001B[39m\u001B[38;5;124mcriterion\u001B[39m\u001B[38;5;124m'\u001B[39m: [\u001B[38;5;124m'\u001B[39m\u001B[38;5;124mgini\u001B[39m\u001B[38;5;124m'\u001B[39m, \u001B[38;5;124m'\u001B[39m\u001B[38;5;124mentropy\u001B[39m\u001B[38;5;124m'\u001B[39m],\n\u001B[0;32m      8\u001B[0m               \u001B[38;5;124m'\u001B[39m\u001B[38;5;124mn_estimators\u001B[39m\u001B[38;5;124m'\u001B[39m: [ \u001B[38;5;241m20\u001B[39m, \u001B[38;5;241m30\u001B[39m, \u001B[38;5;241m50\u001B[39m]\n\u001B[0;32m      9\u001B[0m }\n\u001B[0;32m     11\u001B[0m grid_rf \u001B[38;5;241m=\u001B[39m GridSearchCV(RandomForestClassifier(random_state\u001B[38;5;241m=\u001B[39m\u001B[38;5;241m42\u001B[39m), param_grid, cv\u001B[38;5;241m=\u001B[39m\u001B[38;5;241m3\u001B[39m, scoring\u001B[38;5;241m=\u001B[39m\u001B[38;5;124m'\u001B[39m\u001B[38;5;124mf1\u001B[39m\u001B[38;5;124m'\u001B[39m, verbose \u001B[38;5;241m=\u001B[39m\u001B[38;5;241m3\u001B[39m)\n\u001B[1;32m---> 13\u001B[0m \u001B[43mgrid_rf\u001B[49m\u001B[38;5;241;43m.\u001B[39;49m\u001B[43mfit\u001B[49m\u001B[43m(\u001B[49m\u001B[43mX_train\u001B[49m\u001B[43m,\u001B[49m\u001B[43m \u001B[49m\u001B[43my_train\u001B[49m\u001B[43m)\u001B[49m\n",
      "File \u001B[1;32m~\\AppData\\Local\\Programs\\Python\\Python310\\lib\\site-packages\\sklearn\\model_selection\\_search.py:875\u001B[0m, in \u001B[0;36mBaseSearchCV.fit\u001B[1;34m(self, X, y, groups, **fit_params)\u001B[0m\n\u001B[0;32m    869\u001B[0m     results \u001B[38;5;241m=\u001B[39m \u001B[38;5;28mself\u001B[39m\u001B[38;5;241m.\u001B[39m_format_results(\n\u001B[0;32m    870\u001B[0m         all_candidate_params, n_splits, all_out, all_more_results\n\u001B[0;32m    871\u001B[0m     )\n\u001B[0;32m    873\u001B[0m     \u001B[38;5;28;01mreturn\u001B[39;00m results\n\u001B[1;32m--> 875\u001B[0m \u001B[38;5;28;43mself\u001B[39;49m\u001B[38;5;241;43m.\u001B[39;49m\u001B[43m_run_search\u001B[49m\u001B[43m(\u001B[49m\u001B[43mevaluate_candidates\u001B[49m\u001B[43m)\u001B[49m\n\u001B[0;32m    877\u001B[0m \u001B[38;5;66;03m# multimetric is determined here because in the case of a callable\u001B[39;00m\n\u001B[0;32m    878\u001B[0m \u001B[38;5;66;03m# self.scoring the return type is only known after calling\u001B[39;00m\n\u001B[0;32m    879\u001B[0m first_test_score \u001B[38;5;241m=\u001B[39m all_out[\u001B[38;5;241m0\u001B[39m][\u001B[38;5;124m\"\u001B[39m\u001B[38;5;124mtest_scores\u001B[39m\u001B[38;5;124m\"\u001B[39m]\n",
      "File \u001B[1;32m~\\AppData\\Local\\Programs\\Python\\Python310\\lib\\site-packages\\sklearn\\model_selection\\_search.py:1379\u001B[0m, in \u001B[0;36mGridSearchCV._run_search\u001B[1;34m(self, evaluate_candidates)\u001B[0m\n\u001B[0;32m   1377\u001B[0m \u001B[38;5;28;01mdef\u001B[39;00m \u001B[38;5;21m_run_search\u001B[39m(\u001B[38;5;28mself\u001B[39m, evaluate_candidates):\n\u001B[0;32m   1378\u001B[0m     \u001B[38;5;124;03m\"\"\"Search all candidates in param_grid\"\"\"\u001B[39;00m\n\u001B[1;32m-> 1379\u001B[0m     \u001B[43mevaluate_candidates\u001B[49m\u001B[43m(\u001B[49m\u001B[43mParameterGrid\u001B[49m\u001B[43m(\u001B[49m\u001B[38;5;28;43mself\u001B[39;49m\u001B[38;5;241;43m.\u001B[39;49m\u001B[43mparam_grid\u001B[49m\u001B[43m)\u001B[49m\u001B[43m)\u001B[49m\n",
      "File \u001B[1;32m~\\AppData\\Local\\Programs\\Python\\Python310\\lib\\site-packages\\sklearn\\model_selection\\_search.py:822\u001B[0m, in \u001B[0;36mBaseSearchCV.fit.<locals>.evaluate_candidates\u001B[1;34m(candidate_params, cv, more_results)\u001B[0m\n\u001B[0;32m    814\u001B[0m \u001B[38;5;28;01mif\u001B[39;00m \u001B[38;5;28mself\u001B[39m\u001B[38;5;241m.\u001B[39mverbose \u001B[38;5;241m>\u001B[39m \u001B[38;5;241m0\u001B[39m:\n\u001B[0;32m    815\u001B[0m     \u001B[38;5;28mprint\u001B[39m(\n\u001B[0;32m    816\u001B[0m         \u001B[38;5;124m\"\u001B[39m\u001B[38;5;124mFitting \u001B[39m\u001B[38;5;132;01m{0}\u001B[39;00m\u001B[38;5;124m folds for each of \u001B[39m\u001B[38;5;132;01m{1}\u001B[39;00m\u001B[38;5;124m candidates,\u001B[39m\u001B[38;5;124m\"\u001B[39m\n\u001B[0;32m    817\u001B[0m         \u001B[38;5;124m\"\u001B[39m\u001B[38;5;124m totalling \u001B[39m\u001B[38;5;132;01m{2}\u001B[39;00m\u001B[38;5;124m fits\u001B[39m\u001B[38;5;124m\"\u001B[39m\u001B[38;5;241m.\u001B[39mformat(\n\u001B[0;32m    818\u001B[0m             n_splits, n_candidates, n_candidates \u001B[38;5;241m*\u001B[39m n_splits\n\u001B[0;32m    819\u001B[0m         )\n\u001B[0;32m    820\u001B[0m     )\n\u001B[1;32m--> 822\u001B[0m out \u001B[38;5;241m=\u001B[39m \u001B[43mparallel\u001B[49m\u001B[43m(\u001B[49m\n\u001B[0;32m    823\u001B[0m \u001B[43m    \u001B[49m\u001B[43mdelayed\u001B[49m\u001B[43m(\u001B[49m\u001B[43m_fit_and_score\u001B[49m\u001B[43m)\u001B[49m\u001B[43m(\u001B[49m\n\u001B[0;32m    824\u001B[0m \u001B[43m        \u001B[49m\u001B[43mclone\u001B[49m\u001B[43m(\u001B[49m\u001B[43mbase_estimator\u001B[49m\u001B[43m)\u001B[49m\u001B[43m,\u001B[49m\n\u001B[0;32m    825\u001B[0m \u001B[43m        \u001B[49m\u001B[43mX\u001B[49m\u001B[43m,\u001B[49m\n\u001B[0;32m    826\u001B[0m \u001B[43m        \u001B[49m\u001B[43my\u001B[49m\u001B[43m,\u001B[49m\n\u001B[0;32m    827\u001B[0m \u001B[43m        \u001B[49m\u001B[43mtrain\u001B[49m\u001B[38;5;241;43m=\u001B[39;49m\u001B[43mtrain\u001B[49m\u001B[43m,\u001B[49m\n\u001B[0;32m    828\u001B[0m \u001B[43m        \u001B[49m\u001B[43mtest\u001B[49m\u001B[38;5;241;43m=\u001B[39;49m\u001B[43mtest\u001B[49m\u001B[43m,\u001B[49m\n\u001B[0;32m    829\u001B[0m \u001B[43m        \u001B[49m\u001B[43mparameters\u001B[49m\u001B[38;5;241;43m=\u001B[39;49m\u001B[43mparameters\u001B[49m\u001B[43m,\u001B[49m\n\u001B[0;32m    830\u001B[0m \u001B[43m        \u001B[49m\u001B[43msplit_progress\u001B[49m\u001B[38;5;241;43m=\u001B[39;49m\u001B[43m(\u001B[49m\u001B[43msplit_idx\u001B[49m\u001B[43m,\u001B[49m\u001B[43m \u001B[49m\u001B[43mn_splits\u001B[49m\u001B[43m)\u001B[49m\u001B[43m,\u001B[49m\n\u001B[0;32m    831\u001B[0m \u001B[43m        \u001B[49m\u001B[43mcandidate_progress\u001B[49m\u001B[38;5;241;43m=\u001B[39;49m\u001B[43m(\u001B[49m\u001B[43mcand_idx\u001B[49m\u001B[43m,\u001B[49m\u001B[43m \u001B[49m\u001B[43mn_candidates\u001B[49m\u001B[43m)\u001B[49m\u001B[43m,\u001B[49m\n\u001B[0;32m    832\u001B[0m \u001B[43m        \u001B[49m\u001B[38;5;241;43m*\u001B[39;49m\u001B[38;5;241;43m*\u001B[39;49m\u001B[43mfit_and_score_kwargs\u001B[49m\u001B[43m,\u001B[49m\n\u001B[0;32m    833\u001B[0m \u001B[43m    \u001B[49m\u001B[43m)\u001B[49m\n\u001B[0;32m    834\u001B[0m \u001B[43m    \u001B[49m\u001B[38;5;28;43;01mfor\u001B[39;49;00m\u001B[43m \u001B[49m\u001B[43m(\u001B[49m\u001B[43mcand_idx\u001B[49m\u001B[43m,\u001B[49m\u001B[43m \u001B[49m\u001B[43mparameters\u001B[49m\u001B[43m)\u001B[49m\u001B[43m,\u001B[49m\u001B[43m \u001B[49m\u001B[43m(\u001B[49m\u001B[43msplit_idx\u001B[49m\u001B[43m,\u001B[49m\u001B[43m \u001B[49m\u001B[43m(\u001B[49m\u001B[43mtrain\u001B[49m\u001B[43m,\u001B[49m\u001B[43m \u001B[49m\u001B[43mtest\u001B[49m\u001B[43m)\u001B[49m\u001B[43m)\u001B[49m\u001B[43m \u001B[49m\u001B[38;5;129;43;01min\u001B[39;49;00m\u001B[43m \u001B[49m\u001B[43mproduct\u001B[49m\u001B[43m(\u001B[49m\n\u001B[0;32m    835\u001B[0m \u001B[43m        \u001B[49m\u001B[38;5;28;43menumerate\u001B[39;49m\u001B[43m(\u001B[49m\u001B[43mcandidate_params\u001B[49m\u001B[43m)\u001B[49m\u001B[43m,\u001B[49m\u001B[43m \u001B[49m\u001B[38;5;28;43menumerate\u001B[39;49m\u001B[43m(\u001B[49m\u001B[43mcv\u001B[49m\u001B[38;5;241;43m.\u001B[39;49m\u001B[43msplit\u001B[49m\u001B[43m(\u001B[49m\u001B[43mX\u001B[49m\u001B[43m,\u001B[49m\u001B[43m \u001B[49m\u001B[43my\u001B[49m\u001B[43m,\u001B[49m\u001B[43m \u001B[49m\u001B[43mgroups\u001B[49m\u001B[43m)\u001B[49m\u001B[43m)\u001B[49m\n\u001B[0;32m    836\u001B[0m \u001B[43m    \u001B[49m\u001B[43m)\u001B[49m\n\u001B[0;32m    837\u001B[0m \u001B[43m\u001B[49m\u001B[43m)\u001B[49m\n\u001B[0;32m    839\u001B[0m \u001B[38;5;28;01mif\u001B[39;00m \u001B[38;5;28mlen\u001B[39m(out) \u001B[38;5;241m<\u001B[39m \u001B[38;5;241m1\u001B[39m:\n\u001B[0;32m    840\u001B[0m     \u001B[38;5;28;01mraise\u001B[39;00m \u001B[38;5;167;01mValueError\u001B[39;00m(\n\u001B[0;32m    841\u001B[0m         \u001B[38;5;124m\"\u001B[39m\u001B[38;5;124mNo fits were performed. \u001B[39m\u001B[38;5;124m\"\u001B[39m\n\u001B[0;32m    842\u001B[0m         \u001B[38;5;124m\"\u001B[39m\u001B[38;5;124mWas the CV iterator empty? \u001B[39m\u001B[38;5;124m\"\u001B[39m\n\u001B[0;32m    843\u001B[0m         \u001B[38;5;124m\"\u001B[39m\u001B[38;5;124mWere there no candidates?\u001B[39m\u001B[38;5;124m\"\u001B[39m\n\u001B[0;32m    844\u001B[0m     )\n",
      "File \u001B[1;32m~\\AppData\\Local\\Programs\\Python\\Python310\\lib\\site-packages\\joblib\\parallel.py:1088\u001B[0m, in \u001B[0;36mParallel.__call__\u001B[1;34m(self, iterable)\u001B[0m\n\u001B[0;32m   1085\u001B[0m \u001B[38;5;28;01mif\u001B[39;00m \u001B[38;5;28mself\u001B[39m\u001B[38;5;241m.\u001B[39mdispatch_one_batch(iterator):\n\u001B[0;32m   1086\u001B[0m     \u001B[38;5;28mself\u001B[39m\u001B[38;5;241m.\u001B[39m_iterating \u001B[38;5;241m=\u001B[39m \u001B[38;5;28mself\u001B[39m\u001B[38;5;241m.\u001B[39m_original_iterator \u001B[38;5;129;01mis\u001B[39;00m \u001B[38;5;129;01mnot\u001B[39;00m \u001B[38;5;28;01mNone\u001B[39;00m\n\u001B[1;32m-> 1088\u001B[0m \u001B[38;5;28;01mwhile\u001B[39;00m \u001B[38;5;28;43mself\u001B[39;49m\u001B[38;5;241;43m.\u001B[39;49m\u001B[43mdispatch_one_batch\u001B[49m\u001B[43m(\u001B[49m\u001B[43miterator\u001B[49m\u001B[43m)\u001B[49m:\n\u001B[0;32m   1089\u001B[0m     \u001B[38;5;28;01mpass\u001B[39;00m\n\u001B[0;32m   1091\u001B[0m \u001B[38;5;28;01mif\u001B[39;00m pre_dispatch \u001B[38;5;241m==\u001B[39m \u001B[38;5;124m\"\u001B[39m\u001B[38;5;124mall\u001B[39m\u001B[38;5;124m\"\u001B[39m \u001B[38;5;129;01mor\u001B[39;00m n_jobs \u001B[38;5;241m==\u001B[39m \u001B[38;5;241m1\u001B[39m:\n\u001B[0;32m   1092\u001B[0m     \u001B[38;5;66;03m# The iterable was consumed all at once by the above for loop.\u001B[39;00m\n\u001B[0;32m   1093\u001B[0m     \u001B[38;5;66;03m# No need to wait for async callbacks to trigger to\u001B[39;00m\n\u001B[0;32m   1094\u001B[0m     \u001B[38;5;66;03m# consumption.\u001B[39;00m\n",
      "File \u001B[1;32m~\\AppData\\Local\\Programs\\Python\\Python310\\lib\\site-packages\\joblib\\parallel.py:901\u001B[0m, in \u001B[0;36mParallel.dispatch_one_batch\u001B[1;34m(self, iterator)\u001B[0m\n\u001B[0;32m    899\u001B[0m     \u001B[38;5;28;01mreturn\u001B[39;00m \u001B[38;5;28;01mFalse\u001B[39;00m\n\u001B[0;32m    900\u001B[0m \u001B[38;5;28;01melse\u001B[39;00m:\n\u001B[1;32m--> 901\u001B[0m     \u001B[38;5;28;43mself\u001B[39;49m\u001B[38;5;241;43m.\u001B[39;49m\u001B[43m_dispatch\u001B[49m\u001B[43m(\u001B[49m\u001B[43mtasks\u001B[49m\u001B[43m)\u001B[49m\n\u001B[0;32m    902\u001B[0m     \u001B[38;5;28;01mreturn\u001B[39;00m \u001B[38;5;28;01mTrue\u001B[39;00m\n",
      "File \u001B[1;32m~\\AppData\\Local\\Programs\\Python\\Python310\\lib\\site-packages\\joblib\\parallel.py:819\u001B[0m, in \u001B[0;36mParallel._dispatch\u001B[1;34m(self, batch)\u001B[0m\n\u001B[0;32m    817\u001B[0m \u001B[38;5;28;01mwith\u001B[39;00m \u001B[38;5;28mself\u001B[39m\u001B[38;5;241m.\u001B[39m_lock:\n\u001B[0;32m    818\u001B[0m     job_idx \u001B[38;5;241m=\u001B[39m \u001B[38;5;28mlen\u001B[39m(\u001B[38;5;28mself\u001B[39m\u001B[38;5;241m.\u001B[39m_jobs)\n\u001B[1;32m--> 819\u001B[0m     job \u001B[38;5;241m=\u001B[39m \u001B[38;5;28;43mself\u001B[39;49m\u001B[38;5;241;43m.\u001B[39;49m\u001B[43m_backend\u001B[49m\u001B[38;5;241;43m.\u001B[39;49m\u001B[43mapply_async\u001B[49m\u001B[43m(\u001B[49m\u001B[43mbatch\u001B[49m\u001B[43m,\u001B[49m\u001B[43m \u001B[49m\u001B[43mcallback\u001B[49m\u001B[38;5;241;43m=\u001B[39;49m\u001B[43mcb\u001B[49m\u001B[43m)\u001B[49m\n\u001B[0;32m    820\u001B[0m     \u001B[38;5;66;03m# A job can complete so quickly than its callback is\u001B[39;00m\n\u001B[0;32m    821\u001B[0m     \u001B[38;5;66;03m# called before we get here, causing self._jobs to\u001B[39;00m\n\u001B[0;32m    822\u001B[0m     \u001B[38;5;66;03m# grow. To ensure correct results ordering, .insert is\u001B[39;00m\n\u001B[0;32m    823\u001B[0m     \u001B[38;5;66;03m# used (rather than .append) in the following line\u001B[39;00m\n\u001B[0;32m    824\u001B[0m     \u001B[38;5;28mself\u001B[39m\u001B[38;5;241m.\u001B[39m_jobs\u001B[38;5;241m.\u001B[39minsert(job_idx, job)\n",
      "File \u001B[1;32m~\\AppData\\Local\\Programs\\Python\\Python310\\lib\\site-packages\\joblib\\_parallel_backends.py:208\u001B[0m, in \u001B[0;36mSequentialBackend.apply_async\u001B[1;34m(self, func, callback)\u001B[0m\n\u001B[0;32m    206\u001B[0m \u001B[38;5;28;01mdef\u001B[39;00m \u001B[38;5;21mapply_async\u001B[39m(\u001B[38;5;28mself\u001B[39m, func, callback\u001B[38;5;241m=\u001B[39m\u001B[38;5;28;01mNone\u001B[39;00m):\n\u001B[0;32m    207\u001B[0m     \u001B[38;5;124;03m\"\"\"Schedule a func to be run\"\"\"\u001B[39;00m\n\u001B[1;32m--> 208\u001B[0m     result \u001B[38;5;241m=\u001B[39m \u001B[43mImmediateResult\u001B[49m\u001B[43m(\u001B[49m\u001B[43mfunc\u001B[49m\u001B[43m)\u001B[49m\n\u001B[0;32m    209\u001B[0m     \u001B[38;5;28;01mif\u001B[39;00m callback:\n\u001B[0;32m    210\u001B[0m         callback(result)\n",
      "File \u001B[1;32m~\\AppData\\Local\\Programs\\Python\\Python310\\lib\\site-packages\\joblib\\_parallel_backends.py:597\u001B[0m, in \u001B[0;36mImmediateResult.__init__\u001B[1;34m(self, batch)\u001B[0m\n\u001B[0;32m    594\u001B[0m \u001B[38;5;28;01mdef\u001B[39;00m \u001B[38;5;21m__init__\u001B[39m(\u001B[38;5;28mself\u001B[39m, batch):\n\u001B[0;32m    595\u001B[0m     \u001B[38;5;66;03m# Don't delay the application, to avoid keeping the input\u001B[39;00m\n\u001B[0;32m    596\u001B[0m     \u001B[38;5;66;03m# arguments in memory\u001B[39;00m\n\u001B[1;32m--> 597\u001B[0m     \u001B[38;5;28mself\u001B[39m\u001B[38;5;241m.\u001B[39mresults \u001B[38;5;241m=\u001B[39m \u001B[43mbatch\u001B[49m\u001B[43m(\u001B[49m\u001B[43m)\u001B[49m\n",
      "File \u001B[1;32m~\\AppData\\Local\\Programs\\Python\\Python310\\lib\\site-packages\\joblib\\parallel.py:288\u001B[0m, in \u001B[0;36mBatchedCalls.__call__\u001B[1;34m(self)\u001B[0m\n\u001B[0;32m    284\u001B[0m \u001B[38;5;28;01mdef\u001B[39;00m \u001B[38;5;21m__call__\u001B[39m(\u001B[38;5;28mself\u001B[39m):\n\u001B[0;32m    285\u001B[0m     \u001B[38;5;66;03m# Set the default nested backend to self._backend but do not set the\u001B[39;00m\n\u001B[0;32m    286\u001B[0m     \u001B[38;5;66;03m# change the default number of processes to -1\u001B[39;00m\n\u001B[0;32m    287\u001B[0m     \u001B[38;5;28;01mwith\u001B[39;00m parallel_backend(\u001B[38;5;28mself\u001B[39m\u001B[38;5;241m.\u001B[39m_backend, n_jobs\u001B[38;5;241m=\u001B[39m\u001B[38;5;28mself\u001B[39m\u001B[38;5;241m.\u001B[39m_n_jobs):\n\u001B[1;32m--> 288\u001B[0m         \u001B[38;5;28;01mreturn\u001B[39;00m [func(\u001B[38;5;241m*\u001B[39margs, \u001B[38;5;241m*\u001B[39m\u001B[38;5;241m*\u001B[39mkwargs)\n\u001B[0;32m    289\u001B[0m                 \u001B[38;5;28;01mfor\u001B[39;00m func, args, kwargs \u001B[38;5;129;01min\u001B[39;00m \u001B[38;5;28mself\u001B[39m\u001B[38;5;241m.\u001B[39mitems]\n",
      "File \u001B[1;32m~\\AppData\\Local\\Programs\\Python\\Python310\\lib\\site-packages\\joblib\\parallel.py:288\u001B[0m, in \u001B[0;36m<listcomp>\u001B[1;34m(.0)\u001B[0m\n\u001B[0;32m    284\u001B[0m \u001B[38;5;28;01mdef\u001B[39;00m \u001B[38;5;21m__call__\u001B[39m(\u001B[38;5;28mself\u001B[39m):\n\u001B[0;32m    285\u001B[0m     \u001B[38;5;66;03m# Set the default nested backend to self._backend but do not set the\u001B[39;00m\n\u001B[0;32m    286\u001B[0m     \u001B[38;5;66;03m# change the default number of processes to -1\u001B[39;00m\n\u001B[0;32m    287\u001B[0m     \u001B[38;5;28;01mwith\u001B[39;00m parallel_backend(\u001B[38;5;28mself\u001B[39m\u001B[38;5;241m.\u001B[39m_backend, n_jobs\u001B[38;5;241m=\u001B[39m\u001B[38;5;28mself\u001B[39m\u001B[38;5;241m.\u001B[39m_n_jobs):\n\u001B[1;32m--> 288\u001B[0m         \u001B[38;5;28;01mreturn\u001B[39;00m [func(\u001B[38;5;241m*\u001B[39margs, \u001B[38;5;241m*\u001B[39m\u001B[38;5;241m*\u001B[39mkwargs)\n\u001B[0;32m    289\u001B[0m                 \u001B[38;5;28;01mfor\u001B[39;00m func, args, kwargs \u001B[38;5;129;01min\u001B[39;00m \u001B[38;5;28mself\u001B[39m\u001B[38;5;241m.\u001B[39mitems]\n",
      "File \u001B[1;32m~\\AppData\\Local\\Programs\\Python\\Python310\\lib\\site-packages\\sklearn\\utils\\fixes.py:117\u001B[0m, in \u001B[0;36m_FuncWrapper.__call__\u001B[1;34m(self, *args, **kwargs)\u001B[0m\n\u001B[0;32m    115\u001B[0m \u001B[38;5;28;01mdef\u001B[39;00m \u001B[38;5;21m__call__\u001B[39m(\u001B[38;5;28mself\u001B[39m, \u001B[38;5;241m*\u001B[39margs, \u001B[38;5;241m*\u001B[39m\u001B[38;5;241m*\u001B[39mkwargs):\n\u001B[0;32m    116\u001B[0m     \u001B[38;5;28;01mwith\u001B[39;00m config_context(\u001B[38;5;241m*\u001B[39m\u001B[38;5;241m*\u001B[39m\u001B[38;5;28mself\u001B[39m\u001B[38;5;241m.\u001B[39mconfig):\n\u001B[1;32m--> 117\u001B[0m         \u001B[38;5;28;01mreturn\u001B[39;00m \u001B[38;5;28mself\u001B[39m\u001B[38;5;241m.\u001B[39mfunction(\u001B[38;5;241m*\u001B[39margs, \u001B[38;5;241m*\u001B[39m\u001B[38;5;241m*\u001B[39mkwargs)\n",
      "File \u001B[1;32m~\\AppData\\Local\\Programs\\Python\\Python310\\lib\\site-packages\\sklearn\\model_selection\\_validation.py:686\u001B[0m, in \u001B[0;36m_fit_and_score\u001B[1;34m(estimator, X, y, scorer, train, test, verbose, parameters, fit_params, return_train_score, return_parameters, return_n_test_samples, return_times, return_estimator, split_progress, candidate_progress, error_score)\u001B[0m\n\u001B[0;32m    684\u001B[0m         estimator\u001B[38;5;241m.\u001B[39mfit(X_train, \u001B[38;5;241m*\u001B[39m\u001B[38;5;241m*\u001B[39mfit_params)\n\u001B[0;32m    685\u001B[0m     \u001B[38;5;28;01melse\u001B[39;00m:\n\u001B[1;32m--> 686\u001B[0m         estimator\u001B[38;5;241m.\u001B[39mfit(X_train, y_train, \u001B[38;5;241m*\u001B[39m\u001B[38;5;241m*\u001B[39mfit_params)\n\u001B[0;32m    688\u001B[0m \u001B[38;5;28;01mexcept\u001B[39;00m \u001B[38;5;167;01mException\u001B[39;00m:\n\u001B[0;32m    689\u001B[0m     \u001B[38;5;66;03m# Note fit time as time until error\u001B[39;00m\n\u001B[0;32m    690\u001B[0m     fit_time \u001B[38;5;241m=\u001B[39m time\u001B[38;5;241m.\u001B[39mtime() \u001B[38;5;241m-\u001B[39m start_time\n",
      "File \u001B[1;32m~\\AppData\\Local\\Programs\\Python\\Python310\\lib\\site-packages\\sklearn\\ensemble\\_forest.py:476\u001B[0m, in \u001B[0;36mBaseForest.fit\u001B[1;34m(self, X, y, sample_weight)\u001B[0m\n\u001B[0;32m    465\u001B[0m trees \u001B[38;5;241m=\u001B[39m [\n\u001B[0;32m    466\u001B[0m     \u001B[38;5;28mself\u001B[39m\u001B[38;5;241m.\u001B[39m_make_estimator(append\u001B[38;5;241m=\u001B[39m\u001B[38;5;28;01mFalse\u001B[39;00m, random_state\u001B[38;5;241m=\u001B[39mrandom_state)\n\u001B[0;32m    467\u001B[0m     \u001B[38;5;28;01mfor\u001B[39;00m i \u001B[38;5;129;01min\u001B[39;00m \u001B[38;5;28mrange\u001B[39m(n_more_estimators)\n\u001B[0;32m    468\u001B[0m ]\n\u001B[0;32m    470\u001B[0m \u001B[38;5;66;03m# Parallel loop: we prefer the threading backend as the Cython code\u001B[39;00m\n\u001B[0;32m    471\u001B[0m \u001B[38;5;66;03m# for fitting the trees is internally releasing the Python GIL\u001B[39;00m\n\u001B[0;32m    472\u001B[0m \u001B[38;5;66;03m# making threading more efficient than multiprocessing in\u001B[39;00m\n\u001B[0;32m    473\u001B[0m \u001B[38;5;66;03m# that case. However, for joblib 0.12+ we respect any\u001B[39;00m\n\u001B[0;32m    474\u001B[0m \u001B[38;5;66;03m# parallel_backend contexts set at a higher level,\u001B[39;00m\n\u001B[0;32m    475\u001B[0m \u001B[38;5;66;03m# since correctness does not rely on using threads.\u001B[39;00m\n\u001B[1;32m--> 476\u001B[0m trees \u001B[38;5;241m=\u001B[39m \u001B[43mParallel\u001B[49m\u001B[43m(\u001B[49m\n\u001B[0;32m    477\u001B[0m \u001B[43m    \u001B[49m\u001B[43mn_jobs\u001B[49m\u001B[38;5;241;43m=\u001B[39;49m\u001B[38;5;28;43mself\u001B[39;49m\u001B[38;5;241;43m.\u001B[39;49m\u001B[43mn_jobs\u001B[49m\u001B[43m,\u001B[49m\n\u001B[0;32m    478\u001B[0m \u001B[43m    \u001B[49m\u001B[43mverbose\u001B[49m\u001B[38;5;241;43m=\u001B[39;49m\u001B[38;5;28;43mself\u001B[39;49m\u001B[38;5;241;43m.\u001B[39;49m\u001B[43mverbose\u001B[49m\u001B[43m,\u001B[49m\n\u001B[0;32m    479\u001B[0m \u001B[43m    \u001B[49m\u001B[43mprefer\u001B[49m\u001B[38;5;241;43m=\u001B[39;49m\u001B[38;5;124;43m\"\u001B[39;49m\u001B[38;5;124;43mthreads\u001B[39;49m\u001B[38;5;124;43m\"\u001B[39;49m\u001B[43m,\u001B[49m\n\u001B[0;32m    480\u001B[0m \u001B[43m\u001B[49m\u001B[43m)\u001B[49m\u001B[43m(\u001B[49m\n\u001B[0;32m    481\u001B[0m \u001B[43m    \u001B[49m\u001B[43mdelayed\u001B[49m\u001B[43m(\u001B[49m\u001B[43m_parallel_build_trees\u001B[49m\u001B[43m)\u001B[49m\u001B[43m(\u001B[49m\n\u001B[0;32m    482\u001B[0m \u001B[43m        \u001B[49m\u001B[43mt\u001B[49m\u001B[43m,\u001B[49m\n\u001B[0;32m    483\u001B[0m \u001B[43m        \u001B[49m\u001B[38;5;28;43mself\u001B[39;49m\u001B[38;5;241;43m.\u001B[39;49m\u001B[43mbootstrap\u001B[49m\u001B[43m,\u001B[49m\n\u001B[0;32m    484\u001B[0m \u001B[43m        \u001B[49m\u001B[43mX\u001B[49m\u001B[43m,\u001B[49m\n\u001B[0;32m    485\u001B[0m \u001B[43m        \u001B[49m\u001B[43my\u001B[49m\u001B[43m,\u001B[49m\n\u001B[0;32m    486\u001B[0m \u001B[43m        \u001B[49m\u001B[43msample_weight\u001B[49m\u001B[43m,\u001B[49m\n\u001B[0;32m    487\u001B[0m \u001B[43m        \u001B[49m\u001B[43mi\u001B[49m\u001B[43m,\u001B[49m\n\u001B[0;32m    488\u001B[0m \u001B[43m        \u001B[49m\u001B[38;5;28;43mlen\u001B[39;49m\u001B[43m(\u001B[49m\u001B[43mtrees\u001B[49m\u001B[43m)\u001B[49m\u001B[43m,\u001B[49m\n\u001B[0;32m    489\u001B[0m \u001B[43m        \u001B[49m\u001B[43mverbose\u001B[49m\u001B[38;5;241;43m=\u001B[39;49m\u001B[38;5;28;43mself\u001B[39;49m\u001B[38;5;241;43m.\u001B[39;49m\u001B[43mverbose\u001B[49m\u001B[43m,\u001B[49m\n\u001B[0;32m    490\u001B[0m \u001B[43m        \u001B[49m\u001B[43mclass_weight\u001B[49m\u001B[38;5;241;43m=\u001B[39;49m\u001B[38;5;28;43mself\u001B[39;49m\u001B[38;5;241;43m.\u001B[39;49m\u001B[43mclass_weight\u001B[49m\u001B[43m,\u001B[49m\n\u001B[0;32m    491\u001B[0m \u001B[43m        \u001B[49m\u001B[43mn_samples_bootstrap\u001B[49m\u001B[38;5;241;43m=\u001B[39;49m\u001B[43mn_samples_bootstrap\u001B[49m\u001B[43m,\u001B[49m\n\u001B[0;32m    492\u001B[0m \u001B[43m    \u001B[49m\u001B[43m)\u001B[49m\n\u001B[0;32m    493\u001B[0m \u001B[43m    \u001B[49m\u001B[38;5;28;43;01mfor\u001B[39;49;00m\u001B[43m \u001B[49m\u001B[43mi\u001B[49m\u001B[43m,\u001B[49m\u001B[43m \u001B[49m\u001B[43mt\u001B[49m\u001B[43m \u001B[49m\u001B[38;5;129;43;01min\u001B[39;49;00m\u001B[43m \u001B[49m\u001B[38;5;28;43menumerate\u001B[39;49m\u001B[43m(\u001B[49m\u001B[43mtrees\u001B[49m\u001B[43m)\u001B[49m\n\u001B[0;32m    494\u001B[0m \u001B[43m\u001B[49m\u001B[43m)\u001B[49m\n\u001B[0;32m    496\u001B[0m \u001B[38;5;66;03m# Collect newly grown trees\u001B[39;00m\n\u001B[0;32m    497\u001B[0m \u001B[38;5;28mself\u001B[39m\u001B[38;5;241m.\u001B[39mestimators_\u001B[38;5;241m.\u001B[39mextend(trees)\n",
      "File \u001B[1;32m~\\AppData\\Local\\Programs\\Python\\Python310\\lib\\site-packages\\joblib\\parallel.py:1088\u001B[0m, in \u001B[0;36mParallel.__call__\u001B[1;34m(self, iterable)\u001B[0m\n\u001B[0;32m   1085\u001B[0m \u001B[38;5;28;01mif\u001B[39;00m \u001B[38;5;28mself\u001B[39m\u001B[38;5;241m.\u001B[39mdispatch_one_batch(iterator):\n\u001B[0;32m   1086\u001B[0m     \u001B[38;5;28mself\u001B[39m\u001B[38;5;241m.\u001B[39m_iterating \u001B[38;5;241m=\u001B[39m \u001B[38;5;28mself\u001B[39m\u001B[38;5;241m.\u001B[39m_original_iterator \u001B[38;5;129;01mis\u001B[39;00m \u001B[38;5;129;01mnot\u001B[39;00m \u001B[38;5;28;01mNone\u001B[39;00m\n\u001B[1;32m-> 1088\u001B[0m \u001B[38;5;28;01mwhile\u001B[39;00m \u001B[38;5;28;43mself\u001B[39;49m\u001B[38;5;241;43m.\u001B[39;49m\u001B[43mdispatch_one_batch\u001B[49m\u001B[43m(\u001B[49m\u001B[43miterator\u001B[49m\u001B[43m)\u001B[49m:\n\u001B[0;32m   1089\u001B[0m     \u001B[38;5;28;01mpass\u001B[39;00m\n\u001B[0;32m   1091\u001B[0m \u001B[38;5;28;01mif\u001B[39;00m pre_dispatch \u001B[38;5;241m==\u001B[39m \u001B[38;5;124m\"\u001B[39m\u001B[38;5;124mall\u001B[39m\u001B[38;5;124m\"\u001B[39m \u001B[38;5;129;01mor\u001B[39;00m n_jobs \u001B[38;5;241m==\u001B[39m \u001B[38;5;241m1\u001B[39m:\n\u001B[0;32m   1092\u001B[0m     \u001B[38;5;66;03m# The iterable was consumed all at once by the above for loop.\u001B[39;00m\n\u001B[0;32m   1093\u001B[0m     \u001B[38;5;66;03m# No need to wait for async callbacks to trigger to\u001B[39;00m\n\u001B[0;32m   1094\u001B[0m     \u001B[38;5;66;03m# consumption.\u001B[39;00m\n",
      "File \u001B[1;32m~\\AppData\\Local\\Programs\\Python\\Python310\\lib\\site-packages\\joblib\\parallel.py:901\u001B[0m, in \u001B[0;36mParallel.dispatch_one_batch\u001B[1;34m(self, iterator)\u001B[0m\n\u001B[0;32m    899\u001B[0m     \u001B[38;5;28;01mreturn\u001B[39;00m \u001B[38;5;28;01mFalse\u001B[39;00m\n\u001B[0;32m    900\u001B[0m \u001B[38;5;28;01melse\u001B[39;00m:\n\u001B[1;32m--> 901\u001B[0m     \u001B[38;5;28;43mself\u001B[39;49m\u001B[38;5;241;43m.\u001B[39;49m\u001B[43m_dispatch\u001B[49m\u001B[43m(\u001B[49m\u001B[43mtasks\u001B[49m\u001B[43m)\u001B[49m\n\u001B[0;32m    902\u001B[0m     \u001B[38;5;28;01mreturn\u001B[39;00m \u001B[38;5;28;01mTrue\u001B[39;00m\n",
      "File \u001B[1;32m~\\AppData\\Local\\Programs\\Python\\Python310\\lib\\site-packages\\joblib\\parallel.py:819\u001B[0m, in \u001B[0;36mParallel._dispatch\u001B[1;34m(self, batch)\u001B[0m\n\u001B[0;32m    817\u001B[0m \u001B[38;5;28;01mwith\u001B[39;00m \u001B[38;5;28mself\u001B[39m\u001B[38;5;241m.\u001B[39m_lock:\n\u001B[0;32m    818\u001B[0m     job_idx \u001B[38;5;241m=\u001B[39m \u001B[38;5;28mlen\u001B[39m(\u001B[38;5;28mself\u001B[39m\u001B[38;5;241m.\u001B[39m_jobs)\n\u001B[1;32m--> 819\u001B[0m     job \u001B[38;5;241m=\u001B[39m \u001B[38;5;28;43mself\u001B[39;49m\u001B[38;5;241;43m.\u001B[39;49m\u001B[43m_backend\u001B[49m\u001B[38;5;241;43m.\u001B[39;49m\u001B[43mapply_async\u001B[49m\u001B[43m(\u001B[49m\u001B[43mbatch\u001B[49m\u001B[43m,\u001B[49m\u001B[43m \u001B[49m\u001B[43mcallback\u001B[49m\u001B[38;5;241;43m=\u001B[39;49m\u001B[43mcb\u001B[49m\u001B[43m)\u001B[49m\n\u001B[0;32m    820\u001B[0m     \u001B[38;5;66;03m# A job can complete so quickly than its callback is\u001B[39;00m\n\u001B[0;32m    821\u001B[0m     \u001B[38;5;66;03m# called before we get here, causing self._jobs to\u001B[39;00m\n\u001B[0;32m    822\u001B[0m     \u001B[38;5;66;03m# grow. To ensure correct results ordering, .insert is\u001B[39;00m\n\u001B[0;32m    823\u001B[0m     \u001B[38;5;66;03m# used (rather than .append) in the following line\u001B[39;00m\n\u001B[0;32m    824\u001B[0m     \u001B[38;5;28mself\u001B[39m\u001B[38;5;241m.\u001B[39m_jobs\u001B[38;5;241m.\u001B[39minsert(job_idx, job)\n",
      "File \u001B[1;32m~\\AppData\\Local\\Programs\\Python\\Python310\\lib\\site-packages\\joblib\\_parallel_backends.py:208\u001B[0m, in \u001B[0;36mSequentialBackend.apply_async\u001B[1;34m(self, func, callback)\u001B[0m\n\u001B[0;32m    206\u001B[0m \u001B[38;5;28;01mdef\u001B[39;00m \u001B[38;5;21mapply_async\u001B[39m(\u001B[38;5;28mself\u001B[39m, func, callback\u001B[38;5;241m=\u001B[39m\u001B[38;5;28;01mNone\u001B[39;00m):\n\u001B[0;32m    207\u001B[0m     \u001B[38;5;124;03m\"\"\"Schedule a func to be run\"\"\"\u001B[39;00m\n\u001B[1;32m--> 208\u001B[0m     result \u001B[38;5;241m=\u001B[39m \u001B[43mImmediateResult\u001B[49m\u001B[43m(\u001B[49m\u001B[43mfunc\u001B[49m\u001B[43m)\u001B[49m\n\u001B[0;32m    209\u001B[0m     \u001B[38;5;28;01mif\u001B[39;00m callback:\n\u001B[0;32m    210\u001B[0m         callback(result)\n",
      "File \u001B[1;32m~\\AppData\\Local\\Programs\\Python\\Python310\\lib\\site-packages\\joblib\\_parallel_backends.py:597\u001B[0m, in \u001B[0;36mImmediateResult.__init__\u001B[1;34m(self, batch)\u001B[0m\n\u001B[0;32m    594\u001B[0m \u001B[38;5;28;01mdef\u001B[39;00m \u001B[38;5;21m__init__\u001B[39m(\u001B[38;5;28mself\u001B[39m, batch):\n\u001B[0;32m    595\u001B[0m     \u001B[38;5;66;03m# Don't delay the application, to avoid keeping the input\u001B[39;00m\n\u001B[0;32m    596\u001B[0m     \u001B[38;5;66;03m# arguments in memory\u001B[39;00m\n\u001B[1;32m--> 597\u001B[0m     \u001B[38;5;28mself\u001B[39m\u001B[38;5;241m.\u001B[39mresults \u001B[38;5;241m=\u001B[39m \u001B[43mbatch\u001B[49m\u001B[43m(\u001B[49m\u001B[43m)\u001B[49m\n",
      "File \u001B[1;32m~\\AppData\\Local\\Programs\\Python\\Python310\\lib\\site-packages\\joblib\\parallel.py:288\u001B[0m, in \u001B[0;36mBatchedCalls.__call__\u001B[1;34m(self)\u001B[0m\n\u001B[0;32m    284\u001B[0m \u001B[38;5;28;01mdef\u001B[39;00m \u001B[38;5;21m__call__\u001B[39m(\u001B[38;5;28mself\u001B[39m):\n\u001B[0;32m    285\u001B[0m     \u001B[38;5;66;03m# Set the default nested backend to self._backend but do not set the\u001B[39;00m\n\u001B[0;32m    286\u001B[0m     \u001B[38;5;66;03m# change the default number of processes to -1\u001B[39;00m\n\u001B[0;32m    287\u001B[0m     \u001B[38;5;28;01mwith\u001B[39;00m parallel_backend(\u001B[38;5;28mself\u001B[39m\u001B[38;5;241m.\u001B[39m_backend, n_jobs\u001B[38;5;241m=\u001B[39m\u001B[38;5;28mself\u001B[39m\u001B[38;5;241m.\u001B[39m_n_jobs):\n\u001B[1;32m--> 288\u001B[0m         \u001B[38;5;28;01mreturn\u001B[39;00m [func(\u001B[38;5;241m*\u001B[39margs, \u001B[38;5;241m*\u001B[39m\u001B[38;5;241m*\u001B[39mkwargs)\n\u001B[0;32m    289\u001B[0m                 \u001B[38;5;28;01mfor\u001B[39;00m func, args, kwargs \u001B[38;5;129;01min\u001B[39;00m \u001B[38;5;28mself\u001B[39m\u001B[38;5;241m.\u001B[39mitems]\n",
      "File \u001B[1;32m~\\AppData\\Local\\Programs\\Python\\Python310\\lib\\site-packages\\joblib\\parallel.py:288\u001B[0m, in \u001B[0;36m<listcomp>\u001B[1;34m(.0)\u001B[0m\n\u001B[0;32m    284\u001B[0m \u001B[38;5;28;01mdef\u001B[39;00m \u001B[38;5;21m__call__\u001B[39m(\u001B[38;5;28mself\u001B[39m):\n\u001B[0;32m    285\u001B[0m     \u001B[38;5;66;03m# Set the default nested backend to self._backend but do not set the\u001B[39;00m\n\u001B[0;32m    286\u001B[0m     \u001B[38;5;66;03m# change the default number of processes to -1\u001B[39;00m\n\u001B[0;32m    287\u001B[0m     \u001B[38;5;28;01mwith\u001B[39;00m parallel_backend(\u001B[38;5;28mself\u001B[39m\u001B[38;5;241m.\u001B[39m_backend, n_jobs\u001B[38;5;241m=\u001B[39m\u001B[38;5;28mself\u001B[39m\u001B[38;5;241m.\u001B[39m_n_jobs):\n\u001B[1;32m--> 288\u001B[0m         \u001B[38;5;28;01mreturn\u001B[39;00m [func(\u001B[38;5;241m*\u001B[39margs, \u001B[38;5;241m*\u001B[39m\u001B[38;5;241m*\u001B[39mkwargs)\n\u001B[0;32m    289\u001B[0m                 \u001B[38;5;28;01mfor\u001B[39;00m func, args, kwargs \u001B[38;5;129;01min\u001B[39;00m \u001B[38;5;28mself\u001B[39m\u001B[38;5;241m.\u001B[39mitems]\n",
      "File \u001B[1;32m~\\AppData\\Local\\Programs\\Python\\Python310\\lib\\site-packages\\sklearn\\utils\\fixes.py:117\u001B[0m, in \u001B[0;36m_FuncWrapper.__call__\u001B[1;34m(self, *args, **kwargs)\u001B[0m\n\u001B[0;32m    115\u001B[0m \u001B[38;5;28;01mdef\u001B[39;00m \u001B[38;5;21m__call__\u001B[39m(\u001B[38;5;28mself\u001B[39m, \u001B[38;5;241m*\u001B[39margs, \u001B[38;5;241m*\u001B[39m\u001B[38;5;241m*\u001B[39mkwargs):\n\u001B[0;32m    116\u001B[0m     \u001B[38;5;28;01mwith\u001B[39;00m config_context(\u001B[38;5;241m*\u001B[39m\u001B[38;5;241m*\u001B[39m\u001B[38;5;28mself\u001B[39m\u001B[38;5;241m.\u001B[39mconfig):\n\u001B[1;32m--> 117\u001B[0m         \u001B[38;5;28;01mreturn\u001B[39;00m \u001B[38;5;28mself\u001B[39m\u001B[38;5;241m.\u001B[39mfunction(\u001B[38;5;241m*\u001B[39margs, \u001B[38;5;241m*\u001B[39m\u001B[38;5;241m*\u001B[39mkwargs)\n",
      "File \u001B[1;32m~\\AppData\\Local\\Programs\\Python\\Python310\\lib\\site-packages\\sklearn\\ensemble\\_forest.py:189\u001B[0m, in \u001B[0;36m_parallel_build_trees\u001B[1;34m(tree, bootstrap, X, y, sample_weight, tree_idx, n_trees, verbose, class_weight, n_samples_bootstrap)\u001B[0m\n\u001B[0;32m    186\u001B[0m     \u001B[38;5;28;01melif\u001B[39;00m class_weight \u001B[38;5;241m==\u001B[39m \u001B[38;5;124m\"\u001B[39m\u001B[38;5;124mbalanced_subsample\u001B[39m\u001B[38;5;124m\"\u001B[39m:\n\u001B[0;32m    187\u001B[0m         curr_sample_weight \u001B[38;5;241m*\u001B[39m\u001B[38;5;241m=\u001B[39m compute_sample_weight(\u001B[38;5;124m\"\u001B[39m\u001B[38;5;124mbalanced\u001B[39m\u001B[38;5;124m\"\u001B[39m, y, indices\u001B[38;5;241m=\u001B[39mindices)\n\u001B[1;32m--> 189\u001B[0m     \u001B[43mtree\u001B[49m\u001B[38;5;241;43m.\u001B[39;49m\u001B[43mfit\u001B[49m\u001B[43m(\u001B[49m\u001B[43mX\u001B[49m\u001B[43m,\u001B[49m\u001B[43m \u001B[49m\u001B[43my\u001B[49m\u001B[43m,\u001B[49m\u001B[43m \u001B[49m\u001B[43msample_weight\u001B[49m\u001B[38;5;241;43m=\u001B[39;49m\u001B[43mcurr_sample_weight\u001B[49m\u001B[43m,\u001B[49m\u001B[43m \u001B[49m\u001B[43mcheck_input\u001B[49m\u001B[38;5;241;43m=\u001B[39;49m\u001B[38;5;28;43;01mFalse\u001B[39;49;00m\u001B[43m)\u001B[49m\n\u001B[0;32m    190\u001B[0m \u001B[38;5;28;01melse\u001B[39;00m:\n\u001B[0;32m    191\u001B[0m     tree\u001B[38;5;241m.\u001B[39mfit(X, y, sample_weight\u001B[38;5;241m=\u001B[39msample_weight, check_input\u001B[38;5;241m=\u001B[39m\u001B[38;5;28;01mFalse\u001B[39;00m)\n",
      "File \u001B[1;32m~\\AppData\\Local\\Programs\\Python\\Python310\\lib\\site-packages\\sklearn\\tree\\_classes.py:969\u001B[0m, in \u001B[0;36mDecisionTreeClassifier.fit\u001B[1;34m(self, X, y, sample_weight, check_input)\u001B[0m\n\u001B[0;32m    939\u001B[0m \u001B[38;5;28;01mdef\u001B[39;00m \u001B[38;5;21mfit\u001B[39m(\u001B[38;5;28mself\u001B[39m, X, y, sample_weight\u001B[38;5;241m=\u001B[39m\u001B[38;5;28;01mNone\u001B[39;00m, check_input\u001B[38;5;241m=\u001B[39m\u001B[38;5;28;01mTrue\u001B[39;00m):\n\u001B[0;32m    940\u001B[0m     \u001B[38;5;124;03m\"\"\"Build a decision tree classifier from the training set (X, y).\u001B[39;00m\n\u001B[0;32m    941\u001B[0m \n\u001B[0;32m    942\u001B[0m \u001B[38;5;124;03m    Parameters\u001B[39;00m\n\u001B[1;32m   (...)\u001B[0m\n\u001B[0;32m    966\u001B[0m \u001B[38;5;124;03m        Fitted estimator.\u001B[39;00m\n\u001B[0;32m    967\u001B[0m \u001B[38;5;124;03m    \"\"\"\u001B[39;00m\n\u001B[1;32m--> 969\u001B[0m     \u001B[38;5;28;43msuper\u001B[39;49m\u001B[43m(\u001B[49m\u001B[43m)\u001B[49m\u001B[38;5;241;43m.\u001B[39;49m\u001B[43mfit\u001B[49m\u001B[43m(\u001B[49m\n\u001B[0;32m    970\u001B[0m \u001B[43m        \u001B[49m\u001B[43mX\u001B[49m\u001B[43m,\u001B[49m\n\u001B[0;32m    971\u001B[0m \u001B[43m        \u001B[49m\u001B[43my\u001B[49m\u001B[43m,\u001B[49m\n\u001B[0;32m    972\u001B[0m \u001B[43m        \u001B[49m\u001B[43msample_weight\u001B[49m\u001B[38;5;241;43m=\u001B[39;49m\u001B[43msample_weight\u001B[49m\u001B[43m,\u001B[49m\n\u001B[0;32m    973\u001B[0m \u001B[43m        \u001B[49m\u001B[43mcheck_input\u001B[49m\u001B[38;5;241;43m=\u001B[39;49m\u001B[43mcheck_input\u001B[49m\u001B[43m,\u001B[49m\n\u001B[0;32m    974\u001B[0m \u001B[43m    \u001B[49m\u001B[43m)\u001B[49m\n\u001B[0;32m    975\u001B[0m     \u001B[38;5;28;01mreturn\u001B[39;00m \u001B[38;5;28mself\u001B[39m\n",
      "File \u001B[1;32m~\\AppData\\Local\\Programs\\Python\\Python310\\lib\\site-packages\\sklearn\\tree\\_classes.py:458\u001B[0m, in \u001B[0;36mBaseDecisionTree.fit\u001B[1;34m(self, X, y, sample_weight, check_input)\u001B[0m\n\u001B[0;32m    447\u001B[0m \u001B[38;5;28;01melse\u001B[39;00m:\n\u001B[0;32m    448\u001B[0m     builder \u001B[38;5;241m=\u001B[39m BestFirstTreeBuilder(\n\u001B[0;32m    449\u001B[0m         splitter,\n\u001B[0;32m    450\u001B[0m         min_samples_split,\n\u001B[1;32m   (...)\u001B[0m\n\u001B[0;32m    455\u001B[0m         \u001B[38;5;28mself\u001B[39m\u001B[38;5;241m.\u001B[39mmin_impurity_decrease,\n\u001B[0;32m    456\u001B[0m     )\n\u001B[1;32m--> 458\u001B[0m \u001B[43mbuilder\u001B[49m\u001B[38;5;241;43m.\u001B[39;49m\u001B[43mbuild\u001B[49m\u001B[43m(\u001B[49m\u001B[38;5;28;43mself\u001B[39;49m\u001B[38;5;241;43m.\u001B[39;49m\u001B[43mtree_\u001B[49m\u001B[43m,\u001B[49m\u001B[43m \u001B[49m\u001B[43mX\u001B[49m\u001B[43m,\u001B[49m\u001B[43m \u001B[49m\u001B[43my\u001B[49m\u001B[43m,\u001B[49m\u001B[43m \u001B[49m\u001B[43msample_weight\u001B[49m\u001B[43m)\u001B[49m\n\u001B[0;32m    460\u001B[0m \u001B[38;5;28;01mif\u001B[39;00m \u001B[38;5;28mself\u001B[39m\u001B[38;5;241m.\u001B[39mn_outputs_ \u001B[38;5;241m==\u001B[39m \u001B[38;5;241m1\u001B[39m \u001B[38;5;129;01mand\u001B[39;00m is_classifier(\u001B[38;5;28mself\u001B[39m):\n\u001B[0;32m    461\u001B[0m     \u001B[38;5;28mself\u001B[39m\u001B[38;5;241m.\u001B[39mn_classes_ \u001B[38;5;241m=\u001B[39m \u001B[38;5;28mself\u001B[39m\u001B[38;5;241m.\u001B[39mn_classes_[\u001B[38;5;241m0\u001B[39m]\n",
      "\u001B[1;31mKeyboardInterrupt\u001B[0m: "
     ]
    }
   ],
   "source": [
    "# grid search for random forest\n",
    "from sklearn.model_selection import GridSearchCV\n",
    "\n",
    "param_grid = {'max_depth': [ 16, 32, 64],\n",
    "              'min_samples_split': [ 8, 16, 32],\n",
    "              'min_samples_leaf': [ 4, 8, 16],\n",
    "              'criterion': ['gini', 'entropy'],\n",
    "              'n_estimators': [ 20, 30, 50]\n",
    "}\n",
    "\n",
    "grid_rf = GridSearchCV(RandomForestClassifier(random_state=42), param_grid, cv=3, scoring='f1', verbose =3)\n",
    "\n",
    "grid_rf.fit(X_train, y_train)"
   ],
   "metadata": {
    "collapsed": false
   }
  },
  {
   "cell_type": "code",
   "execution_count": 35,
   "outputs": [
    {
     "name": "stderr",
     "output_type": "stream",
     "text": [
      "d:\\Python\\Lib\\site-packages\\sklearn\\neural_network\\_multilayer_perceptron.py:698: UserWarning: Training interrupted by user.\n",
      "  warnings.warn(\"Training interrupted by user.\")\n"
     ]
    }
   ],
   "source": [
    "# from sklearn.neural_network import MLPClassifier\n",
    "# X_train, X_test, y_train, y_test = train_test_split(X, y, test_size=0.2, random_state=42)\n",
    "# nn = MLPClassifier()\n",
    "# nn.fit(X_train, y_train)\n",
    "# y_pred = nn.predict(X_test)\n",
    "# y_pred_train = nn.predict(X_train)\n",
    "# print('Accuracy on training set: ', accuracy_score(y_train, y_pred_train))\n",
    "# print('confusion_matrix on training set: \\n', confusion_matrix(y_train, y_pred_train))\n",
    "# print('Accuracy on validation set: ', accuracy_score(y_test, y_pred))\n",
    "# print('Confusion matrix: \\n', confusion_matrix(y_test, y_pred))\n",
    "# print('Classification report: \\n', classification_report(y_test, y_pred))"
   ],
   "metadata": {
    "collapsed": false
   }
  },
  {
   "cell_type": "code",
   "execution_count": null,
   "outputs": [],
   "source": [
    "from sklearn.svm import SVC\n",
    "X_train, X_test, y_train, y_test = train_test_split(X, y, test_size=0.2, random_state=42)\n",
    "svc = SVC()\n",
    "svc.fit(X_train, y_train)\n",
    "y_pred = svc.predict(X_test)\n",
    "y_pred_train = svc.predict(X_train)\n",
    "print('Accuracy on training set: ', accuracy_score(y_train, y_pred_train))\n",
    "print('confusion_matrix on training set: \\n', confusion_matrix(y_train, y_pred_train))\n",
    "print('Accuracy on validation set: ', accuracy_score(y_test, y_pred))\n",
    "print('Confusion matrix: \\n', confusion_matrix(y_test, y_pred))\n",
    "print('Classification report: \\n', classification_report(y_test, y_pred))"
   ],
   "metadata": {
    "collapsed": false
   }
  },
  {
   "cell_type": "code",
   "execution_count": null,
   "outputs": [],
   "source": [],
   "metadata": {
    "collapsed": false
   }
  }
 ],
 "metadata": {
  "kernelspec": {
   "display_name": "Python 3",
   "language": "python",
   "name": "python3"
  },
  "language_info": {
   "codemirror_mode": {
    "name": "ipython",
    "version": 3
   },
   "file_extension": ".py",
   "mimetype": "text/x-python",
   "name": "python",
   "nbconvert_exporter": "python",
   "pygments_lexer": "ipython3",
   "version": "3.12.0"
  }
 },
 "nbformat": 4,
 "nbformat_minor": 0
}
