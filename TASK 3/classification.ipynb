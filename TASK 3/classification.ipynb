{
 "cells": [
  {
   "cell_type": "code",
   "execution_count": 2,
   "metadata": {
    "collapsed": true
   },
   "outputs": [],
   "source": [
    "# imports\n",
    "import numpy as np\n",
    "import pandas as pd\n",
    "from tqdm import tqdm\n",
    "import matplotlib.pyplot as plt\n",
    "import seaborn as sns\n",
    "import sklearn\n",
    "from sklearn.model_selection import train_test_split\n"
   ]
  },
  {
   "cell_type": "code",
   "execution_count": 2,
   "metadata": {
    "collapsed": false
   },
   "outputs": [],
   "source": [
    "# read data\n",
    "df_incidents = pd.read_csv('../datasets_clean/incidents_clean.csv', index_col=0)\n"
   ]
  },
  {
   "cell_type": "code",
   "execution_count": 3,
   "metadata": {
    "collapsed": false
   },
   "outputs": [
    {
     "data": {
      "text/html": [
       "<div>\n",
       "<style scoped>\n",
       "    .dataframe tbody tr th:only-of-type {\n",
       "        vertical-align: middle;\n",
       "    }\n",
       "\n",
       "    .dataframe tbody tr th {\n",
       "        vertical-align: top;\n",
       "    }\n",
       "\n",
       "    .dataframe thead th {\n",
       "        text-align: right;\n",
       "    }\n",
       "</style>\n",
       "<table border=\"1\" class=\"dataframe\">\n",
       "  <thead>\n",
       "    <tr style=\"text-align: right;\">\n",
       "      <th></th>\n",
       "      <th>date</th>\n",
       "      <th>state</th>\n",
       "      <th>city_or_county</th>\n",
       "      <th>address</th>\n",
       "      <th>latitude</th>\n",
       "      <th>longitude</th>\n",
       "      <th>congressional_district</th>\n",
       "      <th>avg_age_participants</th>\n",
       "      <th>n_participants_child</th>\n",
       "      <th>n_participants_teen</th>\n",
       "      <th>n_participants_adult</th>\n",
       "      <th>n_males</th>\n",
       "      <th>n_females</th>\n",
       "      <th>n_killed</th>\n",
       "      <th>n_injured</th>\n",
       "      <th>n_arrested</th>\n",
       "      <th>n_unharmed</th>\n",
       "      <th>n_participants</th>\n",
       "      <th>incident_characteristics1</th>\n",
       "      <th>year</th>\n",
       "    </tr>\n",
       "  </thead>\n",
       "  <tbody>\n",
       "    <tr>\n",
       "      <th>0</th>\n",
       "      <td>2015-05-02</td>\n",
       "      <td>Indiana</td>\n",
       "      <td>Indianapolis</td>\n",
       "      <td>Lafayette Road and Pike Plaza</td>\n",
       "      <td>39.8322</td>\n",
       "      <td>-86.2492</td>\n",
       "      <td>7.0</td>\n",
       "      <td>19.0</td>\n",
       "      <td>0.0</td>\n",
       "      <td>0.0</td>\n",
       "      <td>1.0</td>\n",
       "      <td>1.0</td>\n",
       "      <td>0.0</td>\n",
       "      <td>0</td>\n",
       "      <td>1</td>\n",
       "      <td>0.0</td>\n",
       "      <td>0.0</td>\n",
       "      <td>1.0</td>\n",
       "      <td>Shot - Wounded/Injured</td>\n",
       "      <td>2015.0</td>\n",
       "    </tr>\n",
       "    <tr>\n",
       "      <th>1</th>\n",
       "      <td>2017-04-03</td>\n",
       "      <td>Pennsylvania</td>\n",
       "      <td>Kane</td>\n",
       "      <td>5647 US 6</td>\n",
       "      <td>41.6645</td>\n",
       "      <td>-78.7856</td>\n",
       "      <td>5.0</td>\n",
       "      <td>62.0</td>\n",
       "      <td>0.0</td>\n",
       "      <td>0.0</td>\n",
       "      <td>1.0</td>\n",
       "      <td>1.0</td>\n",
       "      <td>0.0</td>\n",
       "      <td>1</td>\n",
       "      <td>0</td>\n",
       "      <td>0.0</td>\n",
       "      <td>0.0</td>\n",
       "      <td>1.0</td>\n",
       "      <td>Shot - Dead (murder, accidental, suicide)</td>\n",
       "      <td>2017.0</td>\n",
       "    </tr>\n",
       "    <tr>\n",
       "      <th>3</th>\n",
       "      <td>2016-10-15</td>\n",
       "      <td>District of Columbia</td>\n",
       "      <td>Washington</td>\n",
       "      <td>1000 block of Bladensburg Road, NE</td>\n",
       "      <td>38.9030</td>\n",
       "      <td>-76.9820</td>\n",
       "      <td>1.0</td>\n",
       "      <td>26.0</td>\n",
       "      <td>0.0</td>\n",
       "      <td>0.0</td>\n",
       "      <td>1.0</td>\n",
       "      <td>1.0</td>\n",
       "      <td>0.0</td>\n",
       "      <td>0</td>\n",
       "      <td>1</td>\n",
       "      <td>0.0</td>\n",
       "      <td>0.0</td>\n",
       "      <td>2.0</td>\n",
       "      <td>Shot - Wounded/Injured</td>\n",
       "      <td>2016.0</td>\n",
       "    </tr>\n",
       "    <tr>\n",
       "      <th>5</th>\n",
       "      <td>2014-01-18</td>\n",
       "      <td>North Carolina</td>\n",
       "      <td>Wayne County</td>\n",
       "      <td>4700 block of U.S. Highway 70 East</td>\n",
       "      <td>35.1847</td>\n",
       "      <td>-77.9527</td>\n",
       "      <td>13.0</td>\n",
       "      <td>65.0</td>\n",
       "      <td>0.0</td>\n",
       "      <td>0.0</td>\n",
       "      <td>1.0</td>\n",
       "      <td>1.0</td>\n",
       "      <td>0.0</td>\n",
       "      <td>0</td>\n",
       "      <td>1</td>\n",
       "      <td>0.0</td>\n",
       "      <td>0.0</td>\n",
       "      <td>1.0</td>\n",
       "      <td>Shot - Wounded/Injured</td>\n",
       "      <td>2014.0</td>\n",
       "    </tr>\n",
       "    <tr>\n",
       "      <th>6</th>\n",
       "      <td>2018-01-25</td>\n",
       "      <td>Louisiana</td>\n",
       "      <td>Zachary</td>\n",
       "      <td>18733 Samuels Rd</td>\n",
       "      <td>30.6069</td>\n",
       "      <td>-91.2270</td>\n",
       "      <td>6.0</td>\n",
       "      <td>26.0</td>\n",
       "      <td>0.0</td>\n",
       "      <td>0.0</td>\n",
       "      <td>5.0</td>\n",
       "      <td>5.0</td>\n",
       "      <td>0.0</td>\n",
       "      <td>2</td>\n",
       "      <td>1</td>\n",
       "      <td>2.0</td>\n",
       "      <td>0.0</td>\n",
       "      <td>5.0</td>\n",
       "      <td>Shot - Wounded/Injured</td>\n",
       "      <td>2018.0</td>\n",
       "    </tr>\n",
       "  </tbody>\n",
       "</table>\n",
       "</div>"
      ],
      "text/plain": [
       "         date                 state city_or_county  \\\n",
       "0  2015-05-02               Indiana   Indianapolis   \n",
       "1  2017-04-03          Pennsylvania           Kane   \n",
       "3  2016-10-15  District of Columbia     Washington   \n",
       "5  2014-01-18        North Carolina   Wayne County   \n",
       "6  2018-01-25             Louisiana        Zachary   \n",
       "\n",
       "                              address  latitude  longitude  \\\n",
       "0       Lafayette Road and Pike Plaza   39.8322   -86.2492   \n",
       "1                           5647 US 6   41.6645   -78.7856   \n",
       "3  1000 block of Bladensburg Road, NE   38.9030   -76.9820   \n",
       "5  4700 block of U.S. Highway 70 East   35.1847   -77.9527   \n",
       "6                    18733 Samuels Rd   30.6069   -91.2270   \n",
       "\n",
       "   congressional_district  avg_age_participants  n_participants_child  \\\n",
       "0                     7.0                  19.0                   0.0   \n",
       "1                     5.0                  62.0                   0.0   \n",
       "3                     1.0                  26.0                   0.0   \n",
       "5                    13.0                  65.0                   0.0   \n",
       "6                     6.0                  26.0                   0.0   \n",
       "\n",
       "   n_participants_teen  n_participants_adult  n_males  n_females  n_killed  \\\n",
       "0                  0.0                   1.0      1.0        0.0         0   \n",
       "1                  0.0                   1.0      1.0        0.0         1   \n",
       "3                  0.0                   1.0      1.0        0.0         0   \n",
       "5                  0.0                   1.0      1.0        0.0         0   \n",
       "6                  0.0                   5.0      5.0        0.0         2   \n",
       "\n",
       "   n_injured  n_arrested  n_unharmed  n_participants  \\\n",
       "0          1         0.0         0.0             1.0   \n",
       "1          0         0.0         0.0             1.0   \n",
       "3          1         0.0         0.0             2.0   \n",
       "5          1         0.0         0.0             1.0   \n",
       "6          1         2.0         0.0             5.0   \n",
       "\n",
       "                   incident_characteristics1    year  \n",
       "0                     Shot - Wounded/Injured  2015.0  \n",
       "1  Shot - Dead (murder, accidental, suicide)  2017.0  \n",
       "3                     Shot - Wounded/Injured  2016.0  \n",
       "5                     Shot - Wounded/Injured  2014.0  \n",
       "6                     Shot - Wounded/Injured  2018.0  "
      ]
     },
     "execution_count": 3,
     "metadata": {},
     "output_type": "execute_result"
    }
   ],
   "source": [
    "df_incidents.head()"
   ]
  },
  {
   "cell_type": "code",
   "execution_count": 4,
   "metadata": {
    "collapsed": false
   },
   "outputs": [
    {
     "name": "stdout",
     "output_type": "stream",
     "text": [
      "<class 'pandas.core.frame.DataFrame'>\n",
      "Index: 174421 entries, 0 to 239311\n",
      "Data columns (total 20 columns):\n",
      " #   Column                     Non-Null Count   Dtype  \n",
      "---  ------                     --------------   -----  \n",
      " 0   date                       174421 non-null  object \n",
      " 1   state                      174421 non-null  object \n",
      " 2   city_or_county             174421 non-null  object \n",
      " 3   address                    162143 non-null  object \n",
      " 4   latitude                   174421 non-null  float64\n",
      " 5   longitude                  174421 non-null  float64\n",
      " 6   congressional_district     164507 non-null  float64\n",
      " 7   avg_age_participants       174421 non-null  float64\n",
      " 8   n_participants_child       174421 non-null  float64\n",
      " 9   n_participants_teen        174421 non-null  float64\n",
      " 10  n_participants_adult       174421 non-null  float64\n",
      " 11  n_males                    174421 non-null  float64\n",
      " 12  n_females                  174421 non-null  float64\n",
      " 13  n_killed                   174421 non-null  int64  \n",
      " 14  n_injured                  174421 non-null  int64  \n",
      " 15  n_arrested                 174421 non-null  float64\n",
      " 16  n_unharmed                 174421 non-null  float64\n",
      " 17  n_participants             174421 non-null  float64\n",
      " 18  incident_characteristics1  174421 non-null  object \n",
      " 19  year                       174421 non-null  float64\n",
      "dtypes: float64(13), int64(2), object(5)\n",
      "memory usage: 27.9+ MB\n"
     ]
    }
   ],
   "source": [
    "df_incidents.info()"
   ]
  },
  {
   "cell_type": "code",
   "execution_count": 5,
   "metadata": {
    "collapsed": false
   },
   "outputs": [],
   "source": [
    "df_incidents['isKilled'] = df_incidents['n_killed'] > 0"
   ]
  },
  {
   "cell_type": "code",
   "execution_count": 6,
   "metadata": {
    "collapsed": false
   },
   "outputs": [
    {
     "data": {
      "text/plain": [
       "<Axes: title={'center': 'Percentage of incidents with killed people'}, ylabel='count'>"
      ]
     },
     "execution_count": 6,
     "metadata": {},
     "output_type": "execute_result"
    },
    {
     "data": {
      "image/png": "[encoded data removed]",
      "text/plain": [
       "<Figure size 640x480 with 1 Axes>"
      ]
     },
     "metadata": {},
     "output_type": "display_data"
    }
   ],
   "source": [
    "#pie chart\n",
    "df_incidents['isKilled'].value_counts().plot.pie(autopct='%1.1f%%', startangle=90, title = 'Percentage of incidents with killed people')"
   ]
  },
  {
   "cell_type": "markdown",
   "metadata": {
    "collapsed": false
   },
   "source": [
    "## Extracting features"
   ]
  },
  {
   "cell_type": "code",
   "execution_count": 7,
   "metadata": {
    "collapsed": false
   },
   "outputs": [],
   "source": [
    "cols2drop =['date', 'year', 'state', 'city_or_county', 'n_killed', 'incident_characteristics1', 'congressional_district', 'address']\n",
    "df_incidents = df_incidents.drop(cols2drop, axis=1)"
   ]
  },
  {
   "cell_type": "code",
   "execution_count": 8,
   "metadata": {
    "collapsed": false
   },
   "outputs": [
    {
     "name": "stdout",
     "output_type": "stream",
     "text": [
      "<class 'pandas.core.frame.DataFrame'>\n",
      "Index: 174421 entries, 0 to 239311\n",
      "Data columns (total 13 columns):\n",
      " #   Column                Non-Null Count   Dtype  \n",
      "---  ------                --------------   -----  \n",
      " 0   latitude              174421 non-null  float64\n",
      " 1   longitude             174421 non-null  float64\n",
      " 2   avg_age_participants  174421 non-null  float64\n",
      " 3   n_participants_child  174421 non-null  float64\n",
      " 4   n_participants_teen   174421 non-null  float64\n",
      " 5   n_participants_adult  174421 non-null  float64\n",
      " 6   n_males               174421 non-null  float64\n",
      " 7   n_females             174421 non-null  float64\n",
      " 8   n_injured             174421 non-null  int64  \n",
      " 9   n_arrested            174421 non-null  float64\n",
      " 10  n_unharmed            174421 non-null  float64\n",
      " 11  n_participants        174421 non-null  float64\n",
      " 12  isKilled              174421 non-null  bool   \n",
      "dtypes: bool(1), float64(11), int64(1)\n",
      "memory usage: 17.5 MB\n"
     ]
    }
   ],
   "source": [
    "df_incidents.info()"
   ]
  },
  {
   "cell_type": "markdown",
   "metadata": {
    "collapsed": false
   },
   "source": [
    "## K-nearest neighbors"
   ]
  },
  {
   "cell_type": "code",
   "execution_count": 16,
   "metadata": {
    "collapsed": false
   },
   "outputs": [],
   "source": [
    "from sklearn.neighbors import KNeighborsClassifier\n",
    "from sklearn.model_selection import train_test_split\n",
    "from sklearn.metrics import accuracy_score\n",
    "from sklearn.metrics import confusion_matrix\n",
    "from sklearn.metrics import classification_report"
   ]
  },
  {
   "cell_type": "markdown",
   "metadata": {
    "collapsed": false
   },
   "source": [
    "We split the data first into development and test set, then we split again the development set into training and validation set. We use the training set to train the model and the validation set to evaluate the model. We use the test set to evaluate the model on unseen data.\n",
    "We used a ratio of 70% development set and 30% test set.\n",
    "Then we used a ratio of 75% training set and 25% validation set."
   ]
  },
  {
   "cell_type": "code",
   "execution_count": 10,
   "metadata": {
    "collapsed": false
   },
   "outputs": [
    {
     "name": "stdout",
     "output_type": "stream",
     "text": [
      " # X_train:  111192\n",
      " # X_val :  37065\n",
      " # X_test :  26164\n",
      "% killed in train set:  0.28671127419238795\n",
      "% killed in val set:  0.28700930797248075\n",
      "% killed in test set:  0.28898486469958723\n"
     ]
    }
   ],
   "source": [
    "# split data\n",
    "X = df_incidents.drop('isKilled', axis=1)\n",
    "y = df_incidents['isKilled']\n",
    "X_dev, X_test, y_dev, y_test = train_test_split(X, y, test_size=0.15, random_state=42)\n",
    "X_train, X_val, y_train, y_val = train_test_split(X_dev, y_dev, test_size=0.25, random_state=42)\n",
    "print(' # X_train: ', X_train.shape[0])\n",
    "print(' # X_val : ', X_val.shape[0])\n",
    "print(' # X_test : ', X_test.shape[0])\n",
    "print(\"% killed in train set: \", y_train.sum()/y_train.shape[0])\n",
    "print(\"% killed in val set: \", y_val.sum()/y_val.shape[0])\n",
    "print(\"% killed in test set: \", y_test.sum()/y_test.shape[0])\n"
   ]
  },
  {
   "cell_type": "code",
   "execution_count": 11,
   "metadata": {
    "collapsed": false
   },
   "outputs": [
    {
     "ename": "NameError",
     "evalue": "name 'X_train' is not defined",
     "output_type": "error",
     "traceback": [
      "\u001b[1;31m---------------------------------------------------------------------------\u001b[0m",
      "\u001b[1;31mNameError\u001b[0m                                 Traceback (most recent call last)",
      "Cell \u001b[1;32mIn[11], line 4\u001b[0m\n\u001b[0;32m      2\u001b[0m \u001b[38;5;28;01mfrom\u001b[39;00m \u001b[38;5;21;01msklearn\u001b[39;00m\u001b[38;5;21;01m.\u001b[39;00m\u001b[38;5;21;01mpreprocessing\u001b[39;00m \u001b[38;5;28;01mimport\u001b[39;00m StandardScaler\n\u001b[0;32m      3\u001b[0m scaler \u001b[38;5;241m=\u001b[39m StandardScaler()\n\u001b[1;32m----> 4\u001b[0m X_train \u001b[38;5;241m=\u001b[39m scaler\u001b[38;5;241m.\u001b[39mfit_transform(\u001b[43mX_train\u001b[49m)\n\u001b[0;32m      5\u001b[0m X_val \u001b[38;5;241m=\u001b[39m scaler\u001b[38;5;241m.\u001b[39mtransform(X_val)\n\u001b[0;32m      6\u001b[0m X_test \u001b[38;5;241m=\u001b[39m scaler\u001b[38;5;241m.\u001b[39mtransform(X_test)\n",
      "\u001b[1;31mNameError\u001b[0m: name 'X_train' is not defined"
     ]
    }
   ],
   "source": [
    "# standardize data\n",
    "from sklearn.preprocessing import StandardScaler\n",
    "scaler = StandardScaler()\n",
    "X_train = scaler.fit_transform(X_train)\n",
    "X_val = scaler.transform(X_val)\n",
    "X_test = scaler.transform(X_test)\n"
   ]
  },
  {
   "cell_type": "code",
   "execution_count": 12,
   "metadata": {
    "collapsed": false
   },
   "outputs": [
    {
     "name": "stdout",
     "output_type": "stream",
     "text": [
      " # X_train_balanced:  63760\n",
      " # y_train_balanced:  63760\n",
      "% killed in train set:  0.5\n"
     ]
    }
   ],
   "source": [
    "X_train_balanced = np.concatenate((X_train[y_train==1], X_train[y_train==0][:X_train[y_train==1].shape[0]]))\n",
    "y_train_balanced = np.concatenate((y_train[y_train==1], y_train[y_train==0][:y_train[y_train==1].shape[0]]))\n",
    "print(' # X_train_balanced: ', X_train_balanced.shape[0])\n",
    "print(' # y_train_balanced: ', y_train_balanced.shape[0])\n",
    "print(\"% killed in train set: \", y_train_balanced.sum()/y_train_balanced.shape[0])"
   ]
  },
  {
   "cell_type": "code",
   "execution_count": null,
   "metadata": {
    "collapsed": false
   },
   "outputs": [],
   "source": []
  },
  {
   "cell_type": "code",
   "execution_count": 13,
   "metadata": {
    "collapsed": false
   },
   "outputs": [
    {
     "name": "stderr",
     "output_type": "stream",
     "text": [
      "  0%|          | 0/9 [00:00<?, ?it/s]"
     ]
    },
    {
     "name": "stderr",
     "output_type": "stream",
     "text": [
      "100%|██████████| 9/9 [21:38<00:00, 144.23s/it]\n"
     ]
    }
   ],
   "source": [
    "# train model\n",
    "accuracy_scores = []\n",
    "for i in tqdm(range(1, 10)):\n",
    "    knn = KNeighborsClassifier(n_neighbors=i)\n",
    "    knn.fit(X_train, y_train)\n",
    "    y_pred = knn.predict(X_val)\n",
    "    accuracy_scores.append(accuracy_score(y_val, y_pred))"
   ]
  },
  {
   "cell_type": "code",
   "execution_count": 14,
   "metadata": {
    "collapsed": false
   },
   "outputs": [
    {
     "data": {
      "image/png": "[encoded data removed]",
      "text/plain": [
       "<Figure size 640x480 with 1 Axes>"
      ]
     },
     "metadata": {},
     "output_type": "display_data"
    }
   ],
   "source": [
    "plt.plot(range(1, 10), accuracy_scores)\n",
    "plt.xlabel('k')\n",
    "plt.ylabel('accuracy')\n",
    "plt.title('Accuracy for different k values')\n",
    "plt.show()"
   ]
  },
  {
   "cell_type": "code",
   "execution_count": 15,
   "metadata": {
    "collapsed": false
   },
   "outputs": [
    {
     "ename": "KeyboardInterrupt",
     "evalue": "",
     "output_type": "error",
     "traceback": [
      "\u001b[1;31m---------------------------------------------------------------------------\u001b[0m",
      "\u001b[1;31mKeyboardInterrupt\u001b[0m                         Traceback (most recent call last)",
      "Cell \u001b[1;32mIn[15], line 4\u001b[0m\n\u001b[0;32m      2\u001b[0m X_dev \u001b[38;5;241m=\u001b[39m scaler\u001b[38;5;241m.\u001b[39mfit_transform(X_dev)\n\u001b[0;32m      3\u001b[0m knn \u001b[38;5;241m=\u001b[39m KNeighborsClassifier(n_neighbors\u001b[38;5;241m=\u001b[39m\u001b[38;5;241m3\u001b[39m)\n\u001b[1;32m----> 4\u001b[0m \u001b[43mknn\u001b[49m\u001b[38;5;241;43m.\u001b[39;49m\u001b[43mfit\u001b[49m\u001b[43m(\u001b[49m\u001b[43mX_dev\u001b[49m\u001b[43m,\u001b[49m\u001b[43m \u001b[49m\u001b[43my_dev\u001b[49m\u001b[43m)\u001b[49m\n\u001b[0;32m      5\u001b[0m \u001b[38;5;28mprint\u001b[39m(\u001b[38;5;124m'\u001b[39m\u001b[38;5;124mended fit\u001b[39m\u001b[38;5;124m'\u001b[39m)\n\u001b[0;32m      6\u001b[0m y_pred \u001b[38;5;241m=\u001b[39m knn\u001b[38;5;241m.\u001b[39mpredict(X_test)\n",
      "File \u001b[1;32md:\\Python\\Lib\\site-packages\\sklearn\\base.py:1147\u001b[0m, in \u001b[0;36m_fit_context.<locals>.decorator.<locals>.wrapper\u001b[1;34m(estimator, *args, **kwargs)\u001b[0m\n\u001b[0;32m   1144\u001b[0m \u001b[38;5;28;01mif\u001b[39;00m \u001b[38;5;129;01mnot\u001b[39;00m global_skip_validation \u001b[38;5;129;01mand\u001b[39;00m \u001b[38;5;129;01mnot\u001b[39;00m partial_fit_and_fitted:\n\u001b[0;32m   1145\u001b[0m     estimator\u001b[38;5;241m.\u001b[39m_validate_params()\n\u001b[1;32m-> 1147\u001b[0m \u001b[43m\u001b[49m\u001b[38;5;28;43;01mwith\u001b[39;49;00m\u001b[43m \u001b[49m\u001b[43mconfig_context\u001b[49m\u001b[43m(\u001b[49m\n\u001b[0;32m   1148\u001b[0m \u001b[43m    \u001b[49m\u001b[43mskip_parameter_validation\u001b[49m\u001b[38;5;241;43m=\u001b[39;49m\u001b[43m(\u001b[49m\n\u001b[0;32m   1149\u001b[0m \u001b[43m        \u001b[49m\u001b[43mprefer_skip_nested_validation\u001b[49m\u001b[43m \u001b[49m\u001b[38;5;129;43;01mor\u001b[39;49;00m\u001b[43m \u001b[49m\u001b[43mglobal_skip_validation\u001b[49m\n\u001b[0;32m   1150\u001b[0m \u001b[43m    \u001b[49m\u001b[43m)\u001b[49m\n\u001b[0;32m   1151\u001b[0m \u001b[43m\u001b[49m\u001b[43m)\u001b[49m\u001b[43m:\u001b[49m\n\u001b[0;32m   1152\u001b[0m \u001b[43m    \u001b[49m\u001b[38;5;28;43;01mreturn\u001b[39;49;00m\u001b[43m \u001b[49m\u001b[43mfit_method\u001b[49m\u001b[43m(\u001b[49m\u001b[43mestimator\u001b[49m\u001b[43m,\u001b[49m\u001b[43m \u001b[49m\u001b[38;5;241;43m*\u001b[39;49m\u001b[43margs\u001b[49m\u001b[43m,\u001b[49m\u001b[43m \u001b[49m\u001b[38;5;241;43m*\u001b[39;49m\u001b[38;5;241;43m*\u001b[39;49m\u001b[43mkwargs\u001b[49m\u001b[43m)\u001b[49m\n",
      "File \u001b[1;32md:\\Python\\Lib\\contextlib.py:141\u001b[0m, in \u001b[0;36m_GeneratorContextManager.__exit__\u001b[1;34m(self, typ, value, traceback)\u001b[0m\n\u001b[0;32m    138\u001b[0m     \u001b[38;5;28;01mexcept\u001b[39;00m \u001b[38;5;167;01mStopIteration\u001b[39;00m:\n\u001b[0;32m    139\u001b[0m         \u001b[38;5;28;01mraise\u001b[39;00m \u001b[38;5;167;01mRuntimeError\u001b[39;00m(\u001b[38;5;124m\"\u001b[39m\u001b[38;5;124mgenerator didn\u001b[39m\u001b[38;5;124m'\u001b[39m\u001b[38;5;124mt yield\u001b[39m\u001b[38;5;124m\"\u001b[39m) \u001b[38;5;28;01mfrom\u001b[39;00m \u001b[38;5;28;01mNone\u001b[39;00m\n\u001b[1;32m--> 141\u001b[0m \u001b[38;5;28;01mdef\u001b[39;00m \u001b[38;5;21m__exit__\u001b[39m(\u001b[38;5;28mself\u001b[39m, typ, value, traceback):\n\u001b[0;32m    142\u001b[0m     \u001b[38;5;28;01mif\u001b[39;00m typ \u001b[38;5;129;01mis\u001b[39;00m \u001b[38;5;28;01mNone\u001b[39;00m:\n\u001b[0;32m    143\u001b[0m         \u001b[38;5;28;01mtry\u001b[39;00m:\n",
      "\u001b[1;31mKeyboardInterrupt\u001b[0m: "
     ]
    }
   ],
   "source": [
    "# train again with best k on whole dev set\n",
    "X_dev = scaler.fit_transform(X_dev)\n",
    "knn = KNeighborsClassifier(n_neighbors=3)\n",
    "knn.fit(X_dev, y_dev)\n",
    "print('ended fit')\n",
    "y_pred = knn.predict(X_test)\n",
    "print('Accuracy on test set: ', accuracy_score(y_test, y_pred))\n",
    "print('Confusion matrix: \\n', confusion_matrix(y_test, y_pred))\n",
    "print('Classification report: \\n', classification_report(y_test, y_pred))"
   ]
  },
  {
   "cell_type": "markdown",
   "metadata": {
    "collapsed": false
   },
   "source": [
    "## Logistic regression"
   ]
  },
  {
   "cell_type": "code",
   "execution_count": 14,
   "metadata": {
    "collapsed": false
   },
   "outputs": [],
   "source": [
    "from sklearn.linear_model import LogisticRegression\n"
   ]
  },
  {
   "cell_type": "code",
   "execution_count": 17,
   "metadata": {
    "collapsed": false
   },
   "outputs": [
    {
     "name": "stderr",
     "output_type": "stream",
     "text": [
      "d:\\Python\\Lib\\site-packages\\sklearn\\linear_model\\_logistic.py:1183: FutureWarning: `penalty='none'`has been deprecated in 1.2 and will be removed in 1.4. To keep the past behaviour, set `penalty=None`.\n",
      "  warnings.warn(\n"
     ]
    },
    {
     "name": "stdout",
     "output_type": "stream",
     "text": [
      "Accuracy on training set:  0.9805207026348808\n",
      "confusion_matrix on training set: \n",
      " [[31082   798]\n",
      " [  444 31436]]\n",
      "Accuracy on validation set:  0.9774180493727236\n",
      "Confusion matrix: \n",
      " [[25756   671]\n",
      " [  166 10472]]\n",
      "Classification report: \n",
      "               precision    recall  f1-score   support\n",
      "\n",
      "       False       0.99      0.97      0.98     26427\n",
      "        True       0.94      0.98      0.96     10638\n",
      "\n",
      "    accuracy                           0.98     37065\n",
      "   macro avg       0.97      0.98      0.97     37065\n",
      "weighted avg       0.98      0.98      0.98     37065\n",
      "\n"
     ]
    }
   ],
   "source": [
    "# train model\n",
    "logreg = LogisticRegression('none')\n",
    "logreg_model = logreg.fit(X_train_balanced, y_train_balanced)\n",
    "y_pred = logreg.predict(X_val)\n",
    "y_pred_train = logreg.predict(X_train_balanced)\n",
    "print('Accuracy on training set: ', accuracy_score(y_train_balanced, y_pred_train))\n",
    "print('confusion_matrix on training set: \\n', confusion_matrix(y_train_balanced, y_pred_train))\n",
    "print('Accuracy on validation set: ', accuracy_score(y_val, y_pred))\n",
    "print('Confusion matrix: \\n', confusion_matrix(y_val, y_pred))\n",
    "print('Classification report: \\n', classification_report(y_val, y_pred))"
   ]
  },
  {
   "cell_type": "code",
   "execution_count": 18,
   "metadata": {
    "collapsed": false
   },
   "outputs": [
    {
     "ename": "ImportError",
     "evalue": "cannot import name 'plot_confusion_matrix' from 'sklearn.metrics' (d:\\Python\\Lib\\site-packages\\sklearn\\metrics\\__init__.py)",
     "output_type": "error",
     "traceback": [
      "\u001b[1;31m---------------------------------------------------------------------------\u001b[0m",
      "\u001b[1;31mImportError\u001b[0m                               Traceback (most recent call last)",
      "Cell \u001b[1;32mIn[18], line 2\u001b[0m\n\u001b[0;32m      1\u001b[0m \u001b[38;5;66;03m# plot confusion matrix\u001b[39;00m\n\u001b[1;32m----> 2\u001b[0m \u001b[38;5;28;01mfrom\u001b[39;00m \u001b[38;5;21;01msklearn\u001b[39;00m\u001b[38;5;21;01m.\u001b[39;00m\u001b[38;5;21;01mmetrics\u001b[39;00m \u001b[38;5;28;01mimport\u001b[39;00m plot_confusion_matrix\n\u001b[0;32m      3\u001b[0m plot_confusion_matrix(logreg_model, X_val, y_val, cmap\u001b[38;5;241m=\u001b[39mplt\u001b[38;5;241m.\u001b[39mcm\u001b[38;5;241m.\u001b[39mBlues)\n\u001b[0;32m      4\u001b[0m plt\u001b[38;5;241m.\u001b[39mshow()\n",
      "\u001b[1;31mImportError\u001b[0m: cannot import name 'plot_confusion_matrix' from 'sklearn.metrics' (d:\\Python\\Lib\\site-packages\\sklearn\\metrics\\__init__.py)"
     ]
    }
   ],
   "source": [
    "# plot confusion matrix\n",
    "from sklearn.metrics import plot_confusion_matrix\n",
    "plot_confusion_matrix(logreg_model, X_val, y_val, cmap=plt.cm.Blues)\n",
    "plt.show()"
   ]
  },
  {
   "cell_type": "code",
   "execution_count": 19,
   "metadata": {
    "collapsed": false
   },
   "outputs": [
    {
     "name": "stdout",
     "output_type": "stream",
     "text": [
      "Feature weights: \n",
      " [[-0.18385853 -0.10369904  0.1177874   0.16865053  0.51424418  1.28627031\n",
      "   0.81813529  0.2477195  -5.90679017 -6.66275363 -6.9126678   7.29308995]]\n"
     ]
    }
   ],
   "source": [
    "# print weights of model\n",
    "print('Feature weights: \\n', logreg_model.coef_)"
   ]
  },
  {
   "cell_type": "markdown",
   "metadata": {
    "collapsed": false
   },
   "source": [
    "We noticed that the last four weights are very big.\n",
    "Those weights correspond to the features 'n_injured', 'n_unharmed', 'n_arrested' and 'n_participants'.\n",
    "The model is learning to predict the target variable subtracting the first three feature from 'n_participants'.\n",
    "We can argue that if the number of killed is unknown, the number of injured,  is also unknown.\n"
   ]
  },
  {
   "cell_type": "markdown",
   "metadata": {
    "collapsed": false
   },
   "source": [
    "## Logistic regression with less features"
   ]
  },
  {
   "cell_type": "code",
   "execution_count": 20,
   "metadata": {
    "collapsed": false
   },
   "outputs": [],
   "source": [
    "more_cols2drop=['n_injured', 'n_unharmed', 'n_arrested']"
   ]
  },
  {
   "cell_type": "code",
   "execution_count": 21,
   "metadata": {
    "collapsed": false
   },
   "outputs": [],
   "source": [
    "df_incidents = df_incidents.drop(more_cols2drop, axis=1)\n"
   ]
  },
  {
   "cell_type": "code",
   "execution_count": 22,
   "metadata": {
    "collapsed": false
   },
   "outputs": [
    {
     "name": "stdout",
     "output_type": "stream",
     "text": [
      "<class 'pandas.core.frame.DataFrame'>\n",
      "Index: 174421 entries, 0 to 239311\n",
      "Data columns (total 10 columns):\n",
      " #   Column                Non-Null Count   Dtype  \n",
      "---  ------                --------------   -----  \n",
      " 0   latitude              174421 non-null  float64\n",
      " 1   longitude             174421 non-null  float64\n",
      " 2   avg_age_participants  174421 non-null  float64\n",
      " 3   n_participants_child  174421 non-null  float64\n",
      " 4   n_participants_teen   174421 non-null  float64\n",
      " 5   n_participants_adult  174421 non-null  float64\n",
      " 6   n_males               174421 non-null  float64\n",
      " 7   n_females             174421 non-null  float64\n",
      " 8   n_participants        174421 non-null  float64\n",
      " 9   isKilled              174421 non-null  bool   \n",
      "dtypes: bool(1), float64(9)\n",
      "memory usage: 13.5 MB\n"
     ]
    }
   ],
   "source": [
    "df_incidents.info()"
   ]
  },
  {
   "cell_type": "code",
   "execution_count": 23,
   "metadata": {
    "collapsed": false
   },
   "outputs": [],
   "source": [
    "X2=df_incidents.drop('isKilled', axis=1)\n",
    "y2=df_incidents['isKilled']\n",
    "X_dev2, X_test2, y_dev2, y_test2 = train_test_split(X2, y2, test_size=0.15, random_state=42)"
   ]
  },
  {
   "cell_type": "code",
   "execution_count": 24,
   "metadata": {
    "collapsed": false
   },
   "outputs": [
    {
     "name": "stdout",
     "output_type": "stream",
     "text": [
      " # X_train2:  111192\n",
      " # X_val2 :  37065\n",
      " # X_test2 :  26164\n",
      "% killed in train set:  0.28671127419238795\n",
      "% killed in val set:  0.28700930797248075\n",
      "% killed in test set:  0.28898486469958723\n"
     ]
    }
   ],
   "source": [
    "X_train2, X_val2, y_train2, y_val2 = train_test_split(X_dev2, y_dev2, test_size=0.25, random_state=42)\n",
    "print(' # X_train2: ', X_train2.shape[0])\n",
    "print(' # X_val2 : ', X_val2.shape[0])\n",
    "print(' # X_test2 : ', X_test2.shape[0])\n",
    "print(\"% killed in train set: \", y_train2.sum()/y_train2.shape[0])\n",
    "print(\"% killed in val set: \", y_val2.sum()/y_val2.shape[0])\n",
    "print(\"% killed in test set: \", y_test2.sum()/y_test2.shape[0])\n"
   ]
  },
  {
   "cell_type": "code",
   "execution_count": 25,
   "metadata": {
    "collapsed": false
   },
   "outputs": [],
   "source": [
    "# standardize data\n",
    "X_train2 = scaler.fit_transform(X_train2)\n",
    "X_val2 = scaler.transform(X_val2)\n",
    "X_test2 = scaler.transform(X_test2)\n"
   ]
  },
  {
   "cell_type": "code",
   "execution_count": 26,
   "metadata": {
    "collapsed": false
   },
   "outputs": [
    {
     "data": {
      "text/plain": [
       "(111192, 9)"
      ]
     },
     "execution_count": 26,
     "metadata": {},
     "output_type": "execute_result"
    }
   ],
   "source": [
    "X_train2.shape"
   ]
  },
  {
   "cell_type": "code",
   "execution_count": 27,
   "metadata": {
    "collapsed": false
   },
   "outputs": [
    {
     "name": "stderr",
     "output_type": "stream",
     "text": [
      "d:\\Python\\Lib\\site-packages\\sklearn\\linear_model\\_logistic.py:1183: FutureWarning: `penalty='none'`has been deprecated in 1.2 and will be removed in 1.4. To keep the past behaviour, set `penalty=None`.\n",
      "  warnings.warn(\n"
     ]
    },
    {
     "name": "stdout",
     "output_type": "stream",
     "text": [
      "Accuracy on validation set:  0.7113449345743963\n",
      "Confusion matrix: \n",
      " [[25890   537]\n",
      " [10162   476]]\n",
      "Classification report: \n",
      "               precision    recall  f1-score   support\n",
      "\n",
      "       False       0.72      0.98      0.83     26427\n",
      "        True       0.47      0.04      0.08     10638\n",
      "\n",
      "    accuracy                           0.71     37065\n",
      "   macro avg       0.59      0.51      0.46     37065\n",
      "weighted avg       0.65      0.71      0.61     37065\n",
      "\n"
     ]
    }
   ],
   "source": [
    "#logistic regression\n",
    "logreg2 = LogisticRegression('none')\n",
    "logreg_model2 = logreg2.fit(X_train2, y_train2)\n",
    "y_pred2 = logreg2.predict(X_val2)\n",
    "y_pred_train2 = logreg2.predict(X_train2)\n",
    "print('Accuracy on validation set: ', accuracy_score(y_val2, y_pred2))\n",
    "print('Confusion matrix: \\n', confusion_matrix(y_val2, y_pred2))\n",
    "print('Classification report: \\n', classification_report(y_val2, y_pred2))"
   ]
  },
  {
   "cell_type": "code",
   "execution_count": 28,
   "metadata": {
    "collapsed": false
   },
   "outputs": [
    {
     "ename": "NameError",
     "evalue": "name 'plot_confusion_matrix' is not defined",
     "output_type": "error",
     "traceback": [
      "\u001b[1;31m---------------------------------------------------------------------------\u001b[0m",
      "\u001b[1;31mNameError\u001b[0m                                 Traceback (most recent call last)",
      "Cell \u001b[1;32mIn[28], line 2\u001b[0m\n\u001b[0;32m      1\u001b[0m \u001b[38;5;66;03m# plot confusion matrix\u001b[39;00m\n\u001b[1;32m----> 2\u001b[0m \u001b[43mplot_confusion_matrix\u001b[49m(logreg_model2, X_val2, y_val2, cmap\u001b[38;5;241m=\u001b[39mplt\u001b[38;5;241m.\u001b[39mcm\u001b[38;5;241m.\u001b[39mBlues)\n",
      "\u001b[1;31mNameError\u001b[0m: name 'plot_confusion_matrix' is not defined"
     ]
    }
   ],
   "source": [
    "# plot confusion matrix\n",
    "plot_confusion_matrix(logreg_model2, X_val2, y_val2, cmap=plt.cm.Blues)"
   ]
  },
  {
   "cell_type": "code",
   "execution_count": 29,
   "metadata": {
    "collapsed": false
   },
   "outputs": [
    {
     "name": "stderr",
     "output_type": "stream",
     "text": [
      "  0%|          | 0/9 [00:00<?, ?it/s]"
     ]
    },
    {
     "name": "stderr",
     "output_type": "stream",
     "text": [
      "  0%|          | 0/9 [01:07<?, ?it/s]\n"
     ]
    }
   ],
   "source": [
    "# knn\n",
    "accuracy_scores2 = []\n",
    "for i in tqdm(range(1, 10)):\n",
    "    knn2 = KNeighborsClassifier(n_neighbors=i)\n",
    "    knn2.fit(X_train2, y_train2)\n",
    "    y_pred2 = knn2.predict(X_val2)\n",
    "    accuracy_scores2.append(accuracy_score(y_val2, y_pred2))"
   ]
  },
  {
   "cell_type": "code",
   "execution_count": null,
   "metadata": {
    "collapsed": false
   },
   "outputs": [
    {
     "data": {
      "text/plain": [
       "[<matplotlib.lines.Line2D at 0x2932bfc21d0>]"
      ]
     },
     "execution_count": 154,
     "metadata": {},
     "output_type": "execute_result"
    },
    {
     "data": {
      "image/png": "[encoded data removed]",
      "text/plain": [
       "<Figure size 640x480 with 1 Axes>"
      ]
     },
     "metadata": {},
     "output_type": "display_data"
    }
   ],
   "source": [
    "plt.plot(range(1, 10), accuracy_scores2)"
   ]
  },
  {
   "cell_type": "code",
   "execution_count": null,
   "metadata": {
    "collapsed": false
   },
   "outputs": [
    {
     "name": "stdout",
     "output_type": "stream",
     "text": [
      "Accuracy on test set:  0.7078810579422107\n",
      "Confusion matrix: \n",
      " [[17109  1494]\n",
      " [ 6149  1412]]\n",
      "Classification report: \n",
      "               precision    recall  f1-score   support\n",
      "\n",
      "       False       0.74      0.92      0.82     18603\n",
      "        True       0.49      0.19      0.27      7561\n",
      "\n",
      "    accuracy                           0.71     26164\n",
      "   macro avg       0.61      0.55      0.54     26164\n",
      "weighted avg       0.66      0.71      0.66     26164\n",
      "\n"
     ]
    }
   ],
   "source": [
    "# train again with best k on whole dev set\n",
    "X_dev2 = scaler.fit_transform(X_dev2)\n",
    "knn2 = KNeighborsClassifier(n_neighbors=8)\n",
    "knn2.fit(X_dev2, y_dev2)\n",
    "y_pred2 = knn2.predict(X_test2)\n",
    "print('Accuracy on test set: ', accuracy_score(y_test2, y_pred2))\n",
    "print('Confusion matrix: \\n', confusion_matrix(y_test2, y_pred2))\n",
    "print('Classification report: \\n', classification_report(y_test2, y_pred2))"
   ]
  },
  {
   "cell_type": "markdown",
   "metadata": {
    "collapsed": false
   },
   "source": [
    "## df with prepared features"
   ]
  },
  {
   "cell_type": "code",
   "execution_count": 3,
   "metadata": {
    "collapsed": false
   },
   "outputs": [],
   "source": [
    "df_incidents_prepared = pd.read_csv('../dataset_preparation/incidents_prepared.csv', index_col=0)"
   ]
  },
  {
   "cell_type": "code",
   "execution_count": 4,
   "metadata": {
    "collapsed": false
   },
   "outputs": [
    {
     "name": "stdout",
     "output_type": "stream",
     "text": [
      "<class 'pandas.core.frame.DataFrame'>\n",
      "Index: 161550 entries, 2015-05-02 to 2015-05-05\n",
      "Data columns (total 31 columns):\n",
      " #   Column                     Non-Null Count   Dtype  \n",
      "---  ------                     --------------   -----  \n",
      " 0   state                      161550 non-null  object \n",
      " 1   city_or_county             161550 non-null  object \n",
      " 2   address                    149848 non-null  object \n",
      " 3   latitude                   161550 non-null  float64\n",
      " 4   longitude                  161550 non-null  float64\n",
      " 5   congressional_district     161550 non-null  float64\n",
      " 6   avg_age_participants       161550 non-null  float64\n",
      " 7   n_killed                   161550 non-null  int64  \n",
      " 8   incident_characteristics1  161550 non-null  object \n",
      " 9   year                       161550 non-null  float64\n",
      " 10  age_group                  161550 non-null  object \n",
      " 11  povertyPercentage          161550 non-null  float64\n",
      " 12  population                 161550 non-null  int64  \n",
      " 13  party                      161550 non-null  object \n",
      " 14  candidatevotes             161550 non-null  float64\n",
      " 15  severity                   161550 non-null  float64\n",
      " 16  severity_cat               161550 non-null  object \n",
      " 17  severity_minor             161550 non-null  float64\n",
      " 18  year_month                 161550 non-null  object \n",
      " 19  killed_by_district         161550 non-null  float64\n",
      " 20  injured_by_district        161550 non-null  float64\n",
      " 21  arrested_ratio             161550 non-null  float64\n",
      " 22  unharmed_ratio             161550 non-null  float64\n",
      " 23  right_or_left              161550 non-null  float64\n",
      " 24  dfm_district_killed        161550 non-null  float64\n",
      " 25  dfm_district_injured       161550 non-null  float64\n",
      " 26  dfm_district_participants  161550 non-null  float64\n",
      " 27  dfm_district_child         161550 non-null  float64\n",
      " 28  dfm_district_teen          161550 non-null  float64\n",
      " 29  dfm_district_females       161550 non-null  float64\n",
      " 30  voters_over_population     161550 non-null  float64\n",
      "dtypes: float64(21), int64(2), object(8)\n",
      "memory usage: 39.4+ MB\n"
     ]
    }
   ],
   "source": [
    "df_incidents_prepared.info()"
   ]
  },
  {
   "cell_type": "code",
   "execution_count": 5,
   "metadata": {
    "collapsed": false
   },
   "outputs": [],
   "source": [
    "df_incidents_prepared['isKilled'] = df_incidents_prepared['n_killed'] > 0"
   ]
  },
  {
   "cell_type": "code",
   "execution_count": 6,
   "metadata": {
    "collapsed": false
   },
   "outputs": [],
   "source": [
    "cols2drop =['year', 'state', 'city_or_county', 'n_killed', 'incident_characteristics1',\n",
    "             'congressional_district', 'address', 'year_month', 'age_group', 'party',\n",
    "             'candidatevotes', 'severity_cat', 'dfm_district_killed', 'killed_by_district', 'severity' ]\n",
    "df_incidents_prepared = df_incidents_prepared.drop(cols2drop, axis=1)"
   ]
  },
  {
   "cell_type": "code",
   "execution_count": 7,
   "metadata": {
    "collapsed": false
   },
   "outputs": [
    {
     "name": "stdout",
     "output_type": "stream",
     "text": [
      "<class 'pandas.core.frame.DataFrame'>\n",
      "Index: 161550 entries, 2015-05-02 to 2015-05-05\n",
      "Data columns (total 17 columns):\n",
      " #   Column                     Non-Null Count   Dtype  \n",
      "---  ------                     --------------   -----  \n",
      " 0   latitude                   161550 non-null  float64\n",
      " 1   longitude                  161550 non-null  float64\n",
      " 2   avg_age_participants       161550 non-null  float64\n",
      " 3   povertyPercentage          161550 non-null  float64\n",
      " 4   population                 161550 non-null  int64  \n",
      " 5   severity_minor             161550 non-null  float64\n",
      " 6   injured_by_district        161550 non-null  float64\n",
      " 7   arrested_ratio             161550 non-null  float64\n",
      " 8   unharmed_ratio             161550 non-null  float64\n",
      " 9   right_or_left              161550 non-null  float64\n",
      " 10  dfm_district_injured       161550 non-null  float64\n",
      " 11  dfm_district_participants  161550 non-null  float64\n",
      " 12  dfm_district_child         161550 non-null  float64\n",
      " 13  dfm_district_teen          161550 non-null  float64\n",
      " 14  dfm_district_females       161550 non-null  float64\n",
      " 15  voters_over_population     161550 non-null  float64\n",
      " 16  isKilled                   161550 non-null  bool   \n",
      "dtypes: bool(1), float64(15), int64(1)\n",
      "memory usage: 21.1+ MB\n"
     ]
    }
   ],
   "source": [
    "df_incidents_prepared.info()"
   ]
  },
  {
   "cell_type": "code",
   "execution_count": 8,
   "metadata": {
    "collapsed": false
   },
   "outputs": [],
   "source": [
    "X3=df_incidents_prepared.drop('isKilled', axis=1)\n",
    "y3=df_incidents_prepared['isKilled']\n",
    "X_dev3, X_test3, y_dev3, y_test3 = train_test_split(X3, y3, test_size=0.15, random_state=42)"
   ]
  },
  {
   "cell_type": "code",
   "execution_count": 9,
   "metadata": {
    "collapsed": false
   },
   "outputs": [
    {
     "name": "stdout",
     "output_type": "stream",
     "text": [
      " # X_train3:  102987\n",
      " # X_val3 :  34330\n",
      " # X_test3 :  24233\n",
      "% killed in train set:  0.2818705273481119\n",
      "% killed in val set:  0.28191086513253716\n",
      "% killed in test set:  0.2769776750711839\n"
     ]
    }
   ],
   "source": [
    "X_train3, X_val3, y_train3, y_val3 = train_test_split(X_dev3, y_dev3, test_size=0.25, random_state=42)\n",
    "print(' # X_train3: ', X_train3.shape[0])\n",
    "print(' # X_val3 : ', X_val3.shape[0])\n",
    "print(' # X_test3 : ', X_test3.shape[0])\n",
    "print(\"% killed in train set: \", y_train3.sum()/y_train3.shape[0])\n",
    "print(\"% killed in val set: \", y_val3.sum()/y_val3.shape[0])\n",
    "print(\"% killed in test set: \", y_test3.sum()/y_test3.shape[0])\n"
   ]
  },
  {
   "cell_type": "code",
   "execution_count": 12,
   "metadata": {
    "collapsed": false
   },
   "outputs": [],
   "source": [
    "# standardize data\n",
    "X_train3 = scaler.fit_transform(X_train3)\n",
    "X_val3 = scaler.transform(X_val3)\n",
    "X_test3 = scaler.transform(X_test3)\n",
    "X_dev3 = scaler.transform(X_dev3)"
   ]
  },
  {
   "cell_type": "code",
   "execution_count": 17,
   "metadata": {
    "collapsed": false
   },
   "outputs": [
    {
     "name": "stdout",
     "output_type": "stream",
     "text": [
      "Accuracy on training set:  0.9257964597473467\n",
      "confusion_matrix on training set: \n",
      " [[71204  2754]\n",
      " [ 4888 24141]]\n",
      "Accuracy on validation set:  0.9282551704048937\n",
      "Confusion matrix: \n",
      " [[23774   878]\n",
      " [ 1585  8093]]\n",
      "Classification report: \n",
      "               precision    recall  f1-score   support\n",
      "\n",
      "       False       0.94      0.96      0.95     24652\n",
      "        True       0.90      0.84      0.87      9678\n",
      "\n",
      "    accuracy                           0.93     34330\n",
      "   macro avg       0.92      0.90      0.91     34330\n",
      "weighted avg       0.93      0.93      0.93     34330\n",
      "\n"
     ]
    }
   ],
   "source": [
    "#logistic regression\n",
    "logreg = LogisticRegression('l2')\n",
    "logreg_model3 = logreg.fit(X_train3, y_train3)\n",
    "y_pred3 = logreg.predict(X_val3)\n",
    "y_pred_train3 = logreg.predict(X_train3)\n",
    "print('Accuracy on training set: ', accuracy_score(y_train3, y_pred_train3))\n",
    "print('confusion_matrix on training set: \\n', confusion_matrix(y_train3, y_pred_train3))\n",
    "print('Accuracy on validation set: ', accuracy_score(y_val3, y_pred3))\n",
    "print('Confusion matrix: \\n', confusion_matrix(y_val3, y_pred3))\n",
    "print('Classification report: \\n', classification_report(y_val3, y_pred3))"
   ]
  },
  {
   "cell_type": "code",
   "execution_count": 18,
   "metadata": {
    "collapsed": false
   },
   "outputs": [
    {
     "ename": "NameError",
     "evalue": "name 'plot_confusion_matrix' is not defined",
     "output_type": "error",
     "traceback": [
      "\u001b[1;31m---------------------------------------------------------------------------\u001b[0m",
      "\u001b[1;31mNameError\u001b[0m                                 Traceback (most recent call last)",
      "Cell \u001b[1;32mIn[18], line 2\u001b[0m\n\u001b[0;32m      1\u001b[0m \u001b[38;5;66;03m# plot confusion matrix\u001b[39;00m\n\u001b[1;32m----> 2\u001b[0m \u001b[43mplot_confusion_matrix\u001b[49m(logreg_model3, X_val3, y_val3, cmap\u001b[38;5;241m=\u001b[39mplt\u001b[38;5;241m.\u001b[39mcm\u001b[38;5;241m.\u001b[39mBlues)\n",
      "\u001b[1;31mNameError\u001b[0m: name 'plot_confusion_matrix' is not defined"
     ]
    }
   ],
   "source": [
    "# plot confusion matrix\n",
    "plot_confusion_matrix(logreg_model3, X_val3, y_val3, cmap=plt.cm.Blues)\n"
   ]
  },
  {
   "cell_type": "code",
   "execution_count": 19,
   "metadata": {
    "collapsed": false
   },
   "outputs": [
    {
     "name": "stdout",
     "output_type": "stream",
     "text": [
      "('latitude', -0.4620200772489034)\n",
      "('longitude', -0.3843752693380765)\n",
      "('avg_age_participants', 0.25643770409334654)\n",
      "('povertyPercentage', -0.009851598082919863)\n",
      "('population', -0.10358036428262425)\n",
      "('severity_minor', 0.13346380972749947)\n",
      "('injured_by_district', 0.0496240685298872)\n",
      "('arrested_ratio', -3.1853076926974992)\n",
      "('unharmed_ratio', -3.1825462677894945)\n",
      "('right_or_left', 0.38320046946359615)\n",
      "('dfm_district_injured', -3.2845650861731386)\n",
      "('dfm_district_participants', 2.6103575784797672)\n",
      "('dfm_district_child', -0.20675243751900108)\n",
      "('dfm_district_teen', -0.20537345355500747)\n",
      "('dfm_district_females', -0.010692479634205719)\n",
      "('voters_over_population', -0.07989185846781685)\n"
     ]
    }
   ],
   "source": [
    "# weights of model\n",
    "for i in zip(df_incidents_prepared.columns, logreg_model3.coef_[0]):\n",
    "    print(i)"
   ]
  },
  {
   "cell_type": "markdown",
   "metadata": {},
   "source": [
    "## Sbuneck"
   ]
  },
  {
   "cell_type": "code",
   "execution_count": 20,
   "metadata": {
    "collapsed": false
   },
   "outputs": [],
   "source": [
    "df_incidents_prepared = pd.read_csv('../dataset_preparation/incidents_prepared.csv', index_col=0)"
   ]
  },
  {
   "cell_type": "code",
   "execution_count": 21,
   "metadata": {},
   "outputs": [],
   "source": [
    "df_incidents_prepared['isKilled'] = df_incidents_prepared['n_killed'] > 0"
   ]
  },
  {
   "cell_type": "code",
   "execution_count": 22,
   "metadata": {},
   "outputs": [
    {
     "name": "stdout",
     "output_type": "stream",
     "text": [
      "<class 'pandas.core.frame.DataFrame'>\n",
      "Index: 161550 entries, 2015-05-02 to 2015-05-05\n",
      "Data columns (total 32 columns):\n",
      " #   Column                     Non-Null Count   Dtype  \n",
      "---  ------                     --------------   -----  \n",
      " 0   state                      161550 non-null  object \n",
      " 1   city_or_county             161550 non-null  object \n",
      " 2   address                    149848 non-null  object \n",
      " 3   latitude                   161550 non-null  float64\n",
      " 4   longitude                  161550 non-null  float64\n",
      " 5   congressional_district     161550 non-null  float64\n",
      " 6   avg_age_participants       161550 non-null  float64\n",
      " 7   n_killed                   161550 non-null  int64  \n",
      " 8   incident_characteristics1  161550 non-null  object \n",
      " 9   year                       161550 non-null  float64\n",
      " 10  age_group                  161550 non-null  object \n",
      " 11  povertyPercentage          161550 non-null  float64\n",
      " 12  population                 161550 non-null  int64  \n",
      " 13  party                      161550 non-null  object \n",
      " 14  candidatevotes             161550 non-null  float64\n",
      " 15  severity                   161550 non-null  float64\n",
      " 16  severity_cat               161550 non-null  object \n",
      " 17  severity_minor             161550 non-null  float64\n",
      " 18  year_month                 161550 non-null  object \n",
      " 19  killed_by_district         161550 non-null  float64\n",
      " 20  injured_by_district        161550 non-null  float64\n",
      " 21  arrested_ratio             161550 non-null  float64\n",
      " 22  unharmed_ratio             161550 non-null  float64\n",
      " 23  right_or_left              161550 non-null  float64\n",
      " 24  dfm_district_killed        161550 non-null  float64\n",
      " 25  dfm_district_injured       161550 non-null  float64\n",
      " 26  dfm_district_participants  161550 non-null  float64\n",
      " 27  dfm_district_child         161550 non-null  float64\n",
      " 28  dfm_district_teen          161550 non-null  float64\n",
      " 29  dfm_district_females       161550 non-null  float64\n",
      " 30  voters_over_population     161550 non-null  float64\n",
      " 31  isKilled                   161550 non-null  bool   \n",
      "dtypes: bool(1), float64(21), int64(2), object(8)\n",
      "memory usage: 39.6+ MB\n"
     ]
    }
   ],
   "source": [
    "df_incidents_prepared.info()"
   ]
  },
  {
   "cell_type": "code",
   "execution_count": 26,
   "metadata": {},
   "outputs": [],
   "source": [
    "cols2drop=['latitude','longitude','address', 'city_or_county','congressional_district',\n",
    "           'avg_age_participants', 'n_killed', 'incident_characteristics1','severity',\n",
    "           'severity_cat','severity_minor','year_month','killed_by_district','injured_by_district',\n",
    "           'dfm_district_killed','dfm_district_injured']\n",
    "df_incidents_prepared=df_incidents_prepared.drop(cols2drop, axis=1)"
   ]
  },
  {
   "cell_type": "code",
   "execution_count": 27,
   "metadata": {},
   "outputs": [
    {
     "name": "stdout",
     "output_type": "stream",
     "text": [
      "<class 'pandas.core.frame.DataFrame'>\n",
      "Index: 161550 entries, 2015-05-02 to 2015-05-05\n",
      "Data columns (total 16 columns):\n",
      " #   Column                     Non-Null Count   Dtype  \n",
      "---  ------                     --------------   -----  \n",
      " 0   state                      161550 non-null  object \n",
      " 1   year                       161550 non-null  float64\n",
      " 2   age_group                  161550 non-null  object \n",
      " 3   povertyPercentage          161550 non-null  float64\n",
      " 4   population                 161550 non-null  int64  \n",
      " 5   party                      161550 non-null  object \n",
      " 6   candidatevotes             161550 non-null  float64\n",
      " 7   arrested_ratio             161550 non-null  float64\n",
      " 8   unharmed_ratio             161550 non-null  float64\n",
      " 9   right_or_left              161550 non-null  float64\n",
      " 10  dfm_district_participants  161550 non-null  float64\n",
      " 11  dfm_district_child         161550 non-null  float64\n",
      " 12  dfm_district_teen          161550 non-null  float64\n",
      " 13  dfm_district_females       161550 non-null  float64\n",
      " 14  voters_over_population     161550 non-null  float64\n",
      " 15  isKilled                   161550 non-null  bool   \n",
      "dtypes: bool(1), float64(11), int64(1), object(3)\n",
      "memory usage: 23.9+ MB\n"
     ]
    }
   ],
   "source": [
    "df_incidents_prepared.info()"
   ]
  },
  {
   "cell_type": "code",
   "execution_count": 28,
   "metadata": {},
   "outputs": [],
   "source": [
    "X=df_incidents_prepared.drop('isKilled', axis=1)\n",
    "y=df_incidents_prepared['isKilled']"
   ]
  },
  {
   "cell_type": "code",
   "execution_count": 37,
   "metadata": {},
   "outputs": [
    {
     "name": "stdout",
     "output_type": "stream",
     "text": [
      "<class 'pandas.core.frame.DataFrame'>\n",
      "Index: 161550 entries, 2015-05-02 to 2015-05-05\n",
      "Data columns (total 73 columns):\n",
      " #   Column                     Non-Null Count   Dtype  \n",
      "---  ------                     --------------   -----  \n",
      " 0   year                       161550 non-null  float64\n",
      " 1   povertyPercentage          161550 non-null  float64\n",
      " 2   population                 161550 non-null  int64  \n",
      " 3   candidatevotes             161550 non-null  float64\n",
      " 4   arrested_ratio             161550 non-null  float64\n",
      " 5   unharmed_ratio             161550 non-null  float64\n",
      " 6   right_or_left              161550 non-null  float64\n",
      " 7   dfm_district_participants  161550 non-null  float64\n",
      " 8   dfm_district_child         161550 non-null  float64\n",
      " 9   dfm_district_teen          161550 non-null  float64\n",
      " 10  dfm_district_females       161550 non-null  float64\n",
      " 11  voters_over_population     161550 non-null  float64\n",
      " 12  state_alabama              161550 non-null  bool   \n",
      " 13  state_alaska               161550 non-null  bool   \n",
      " 14  state_arizona              161550 non-null  bool   \n",
      " 15  state_arkansas             161550 non-null  bool   \n",
      " 16  state_california           161550 non-null  bool   \n",
      " 17  state_colorado             161550 non-null  bool   \n",
      " 18  state_connecticut          161550 non-null  bool   \n",
      " 19  state_delaware             161550 non-null  bool   \n",
      " 20  state_florida              161550 non-null  bool   \n",
      " 21  state_georgia              161550 non-null  bool   \n",
      " 22  state_hawaii               161550 non-null  bool   \n",
      " 23  state_idaho                161550 non-null  bool   \n",
      " 24  state_illinois             161550 non-null  bool   \n",
      " 25  state_indiana              161550 non-null  bool   \n",
      " 26  state_iowa                 161550 non-null  bool   \n",
      " 27  state_kansas               161550 non-null  bool   \n",
      " 28  state_kentucky             161550 non-null  bool   \n",
      " 29  state_louisiana            161550 non-null  bool   \n",
      " 30  state_maine                161550 non-null  bool   \n",
      " 31  state_maryland             161550 non-null  bool   \n",
      " 32  state_massachusetts        161550 non-null  bool   \n",
      " 33  state_michigan             161550 non-null  bool   \n",
      " 34  state_minnesota            161550 non-null  bool   \n",
      " 35  state_mississippi          161550 non-null  bool   \n",
      " 36  state_missouri             161550 non-null  bool   \n",
      " 37  state_montana              161550 non-null  bool   \n",
      " 38  state_nebraska             161550 non-null  bool   \n",
      " 39  state_nevada               161550 non-null  bool   \n",
      " 40  state_new hampshire        161550 non-null  bool   \n",
      " 41  state_new jersey           161550 non-null  bool   \n",
      " 42  state_new mexico           161550 non-null  bool   \n",
      " 43  state_new york             161550 non-null  bool   \n",
      " 44  state_north carolina       161550 non-null  bool   \n",
      " 45  state_north dakota         161550 non-null  bool   \n",
      " 46  state_ohio                 161550 non-null  bool   \n",
      " 47  state_oklahoma             161550 non-null  bool   \n",
      " 48  state_oregon               161550 non-null  bool   \n",
      " 49  state_pennsylvania         161550 non-null  bool   \n",
      " 50  state_rhode island         161550 non-null  bool   \n",
      " 51  state_south carolina       161550 non-null  bool   \n",
      " 52  state_south dakota         161550 non-null  bool   \n",
      " 53  state_tennessee            161550 non-null  bool   \n",
      " 54  state_texas                161550 non-null  bool   \n",
      " 55  state_utah                 161550 non-null  bool   \n",
      " 56  state_vermont              161550 non-null  bool   \n",
      " 57  state_virginia             161550 non-null  bool   \n",
      " 58  state_washington           161550 non-null  bool   \n",
      " 59  state_west virginia        161550 non-null  bool   \n",
      " 60  state_wisconsin            161550 non-null  bool   \n",
      " 61  state_wyoming              161550 non-null  bool   \n",
      " 62  age_group_[0-11]           161550 non-null  bool   \n",
      " 63  age_group_[12-17]          161550 non-null  bool   \n",
      " 64  age_group_[18-24]          161550 non-null  bool   \n",
      " 65  age_group_[25-34]          161550 non-null  bool   \n",
      " 66  age_group_[35-44]          161550 non-null  bool   \n",
      " 67  age_group_[45-54]          161550 non-null  bool   \n",
      " 68  age_group_[55-64]          161550 non-null  bool   \n",
      " 69  age_group_[65-74]          161550 non-null  bool   \n",
      " 70  age_group_[75-100]         161550 non-null  bool   \n",
      " 71  party_DEMOCRAT             161550 non-null  bool   \n",
      " 72  party_REPUBLICAN           161550 non-null  bool   \n",
      "dtypes: bool(61), float64(11), int64(1)\n",
      "memory usage: 29.5+ MB\n"
     ]
    }
   ],
   "source": [
    "import pandas as pd\n",
    "X=pd.get_dummies(X)\n",
    "X.info()"
   ]
  },
  {
   "cell_type": "code",
   "execution_count": 58,
   "metadata": {},
   "outputs": [],
   "source": [
    "import numpy as np\n",
    "import matplotlib.pyplot as plt\n",
    "from sklearn.tree import DecisionTreeClassifier\n",
    "from sklearn.model_selection import train_test_split\n",
    "from sklearn.metrics import accuracy_score, precision_score, recall_score, confusion_matrix"
   ]
  },
  {
   "cell_type": "code",
   "execution_count": null,
   "metadata": {},
   "outputs": [],
   "source": [
    "X_train, X_test, y_train, y_test = train_test_split(X, y, test_size=0.2, random_state=42)"
   ]
  },
  {
   "cell_type": "code",
   "execution_count": 59,
   "metadata": {},
   "outputs": [
    {
     "name": "stderr",
     "output_type": "stream",
     "text": [
      "  0%|          | 0/19 [00:00<?, ?it/s]d:\\Python\\Lib\\site-packages\\sklearn\\metrics\\_classification.py:1471: UndefinedMetricWarning: Precision is ill-defined and being set to 0.0 due to no predicted samples. Use `zero_division` parameter to control this behavior.\n",
      "  _warn_prf(average, modifier, msg_start, len(result))\n",
      "  5%|▌         | 1/19 [00:02<00:43,  2.41s/it]d:\\Python\\Lib\\site-packages\\sklearn\\metrics\\_classification.py:1471: UndefinedMetricWarning: Precision is ill-defined and being set to 0.0 due to no predicted samples. Use `zero_division` parameter to control this behavior.\n",
      "  _warn_prf(average, modifier, msg_start, len(result))\n",
      "100%|██████████| 19/19 [02:48<00:00,  8.89s/it]\n"
     ]
    }
   ],
   "source": [
    "# Create a CART template\n",
    "tree = DecisionTreeClassifier(random_state=42, max_depth=20)\n",
    "\n",
    "# Train the model on the training data\n",
    "\n",
    "accuracy_scores = []\n",
    "precisions=[]\n",
    "recalls=[]\n",
    "for i in tqdm(range(1, 20)):\n",
    "    tree = DecisionTreeClassifier(random_state=42, max_depth=i)\n",
    "    knn = KNeighborsClassifier(n_neighbors=i)\n",
    "    tree.fit(X_train, y_train)\n",
    "    y_pred = tree.predict(X_test)\n",
    "    accuracy_scores.append(accuracy_score(y_test, y_pred))\n",
    "    precisions.append(precision_score(y_test, y_pred))\n",
    "    recalls.append(recall_score(y_test, y_pred))"
   ]
  },
  {
   "cell_type": "code",
   "execution_count": 63,
   "metadata": {},
   "outputs": [
    {
     "data": {
      "image/png": "[encoded data removed]",
      "text/plain": [
       "<Figure size 640x480 with 1 Axes>"
      ]
     },
     "metadata": {},
     "output_type": "display_data"
    }
   ],
   "source": [
    "plt.plot(range(1, 20), accuracy_scores)\n",
    "plt.plot(range(1, 20), precisions)\n",
    "plt.plot(range(1, 20), recalls)\n",
    "plt.xlabel('max_depth')\n",
    "plt.legend(['accuracy' ,'precision', 'recall'])\n",
    "plt.title('accuracy, precisions and recall for different depth')\n",
    "plt.show()"
   ]
  },
  {
   "cell_type": "code",
   "execution_count": 54,
   "metadata": {},
   "outputs": [
    {
     "name": "stdout",
     "output_type": "stream",
     "text": [
      "Accuracy on validation set:  0.749025069637883\n",
      "Confusion matrix: \n",
      " [[20018  3331]\n",
      " [ 4778  4183]]\n",
      "Classification report: \n",
      "               precision    recall  f1-score   support\n",
      "\n",
      "       False       0.81      0.86      0.83     23349\n",
      "        True       0.56      0.47      0.51      8961\n",
      "\n",
      "    accuracy                           0.75     32310\n",
      "   macro avg       0.68      0.66      0.67     32310\n",
      "weighted avg       0.74      0.75      0.74     32310\n",
      "\n"
     ]
    }
   ],
   "source": [
    "y_pred = tree.predict(X_test)\n",
    "print('Accuracy on validation set: ', accuracy_score(y_test, y_pred))\n",
    "print('Confusion matrix: \\n', confusion_matrix(y_test, y_pred))\n",
    "print('Classification report: \\n', classification_report(y_test, y_pred))"
   ]
  },
  {
   "cell_type": "code",
   "execution_count": 65,
   "metadata": {},
   "outputs": [
    {
     "name": "stdout",
     "output_type": "stream",
     "text": [
      "Accuracy on training set:  0.7179046734757041\n",
      "confusion_matrix on training set: \n",
      " [[92782     0]\n",
      " [36458     0]]\n",
      "Accuracy on validation set:  0.7226555246053853\n",
      "Confusion matrix: \n",
      " [[23349     0]\n",
      " [ 8961     0]]\n",
      "Classification report: \n",
      "               precision    recall  f1-score   support\n",
      "\n",
      "       False       0.72      1.00      0.84     23349\n",
      "        True       0.00      0.00      0.00      8961\n",
      "\n",
      "    accuracy                           0.72     32310\n",
      "   macro avg       0.36      0.50      0.42     32310\n",
      "weighted avg       0.52      0.72      0.61     32310\n",
      "\n"
     ]
    },
    {
     "name": "stderr",
     "output_type": "stream",
     "text": [
      "d:\\Python\\Lib\\site-packages\\sklearn\\metrics\\_classification.py:1471: UndefinedMetricWarning: Precision and F-score are ill-defined and being set to 0.0 in labels with no predicted samples. Use `zero_division` parameter to control this behavior.\n",
      "  _warn_prf(average, modifier, msg_start, len(result))\n",
      "d:\\Python\\Lib\\site-packages\\sklearn\\metrics\\_classification.py:1471: UndefinedMetricWarning: Precision and F-score are ill-defined and being set to 0.0 in labels with no predicted samples. Use `zero_division` parameter to control this behavior.\n",
      "  _warn_prf(average, modifier, msg_start, len(result))\n",
      "d:\\Python\\Lib\\site-packages\\sklearn\\metrics\\_classification.py:1471: UndefinedMetricWarning: Precision and F-score are ill-defined and being set to 0.0 in labels with no predicted samples. Use `zero_division` parameter to control this behavior.\n",
      "  _warn_prf(average, modifier, msg_start, len(result))\n"
     ]
    }
   ],
   "source": [
    "# train model\n",
    "logreg = LogisticRegression(None)\n",
    "logreg_model = logreg.fit(X_train, y_train)\n",
    "y_pred = logreg.predict(X_test)\n",
    "y_pred_train = logreg.predict(X_train)\n",
    "print('Accuracy on training set: ', accuracy_score(y_train, y_pred_train))\n",
    "print('confusion_matrix on training set: \\n', confusion_matrix(y_train, y_pred_train))\n",
    "print('Accuracy on validation set: ', accuracy_score(y_test, y_pred))\n",
    "print('Confusion matrix: \\n', confusion_matrix(y_test, y_pred))\n",
    "print('Classification report: \\n', classification_report(y_test, y_pred))"
   ]
  }
 ],
 "metadata": {
  "kernelspec": {
   "display_name": "Python 3",
   "language": "python",
   "name": "python3"
  },
  "language_info": {
   "codemirror_mode": {
    "name": "ipython",
    "version": 3
   },
   "file_extension": ".py",
   "mimetype": "text/x-python",
   "name": "python",
   "nbconvert_exporter": "python",
   "pygments_lexer": "ipython3",
   "version": "3.12.0"
  }
 },
 "nbformat": 4,
 "nbformat_minor": 0
}
