{
 "cells": [
  {
   "cell_type": "markdown",
   "source": [
    "# Task 1.2 DataPreparation"
   ],
   "metadata": {
    "collapsed": false
   }
  },
  {
   "cell_type": "code",
   "execution_count": 138,
   "outputs": [],
   "source": [
    "import math\n",
    "import sys\n",
    "import os\n",
    "import numpy as np\n",
    "import pandas as pd\n",
    "import seaborn as sn\n",
    "import scipy.stats as stats\n",
    "import matplotlib.pyplot as plt\n",
    "from sklearn.cluster import KMeans, DBSCAN\n",
    "from sklearn.preprocessing import StandardScaler"
   ],
   "metadata": {
    "collapsed": false,
    "ExecuteTime": {
     "start_time": "2023-11-22T18:12:58.230959Z",
     "end_time": "2023-11-22T18:12:58.310994Z"
    }
   }
  },
  {
   "cell_type": "code",
   "execution_count": 139,
   "outputs": [],
   "source": [
    "# We load the updated datasets\n",
    "df_incidents = pd.read_csv('datasets_clean/incidents_clean.csv', sep=',', index_col=0)\n",
    "df_poverty = pd.read_csv('datasets_clean/poverty_clean.csv', sep=',', index_col=0)\n",
    "df_elections = pd.read_csv('datasets_clean/elections_clean.csv', sep=',', index_col=0)"
   ],
   "metadata": {
    "collapsed": false,
    "ExecuteTime": {
     "start_time": "2023-11-22T18:12:58.239270Z",
     "end_time": "2023-11-22T18:12:59.092920Z"
    }
   }
  },
  {
   "cell_type": "markdown",
   "source": [
    "# Datasets"
   ],
   "metadata": {
    "collapsed": false
   }
  },
  {
   "cell_type": "code",
   "execution_count": 140,
   "outputs": [
    {
     "data": {
      "text/plain": "         date                 state city_or_county  \\\n0  2015-05-02               Indiana   Indianapolis   \n1  2017-04-03          Pennsylvania           Kane   \n3  2016-10-15  District of Columbia     Washington   \n4         NaN          Pennsylvania     Pittsburgh   \n5  2014-01-18        North Carolina   Wayne County   \n\n                              address  latitude  longitude  \\\n0       Lafayette Road and Pike Plaza   39.8322   -86.2492   \n1                           5647 US 6   41.6645   -78.7856   \n3  1000 block of Bladensburg Road, NE   38.9030   -76.9820   \n4     California and Marshall Avenues   40.4621   -80.0308   \n5  4700 block of U.S. Highway 70 East   35.1847   -77.9527   \n\n   congressional_district  avg_age_participants  n_participants_child  \\\n0                     7.0                  19.0                   0.0   \n1                     5.0                  62.0                   0.0   \n3                     1.0                  26.0                   0.0   \n4                    14.0                  40.0                   0.0   \n5                    13.0                  65.0                   0.0   \n\n   n_participants_teen  n_participants_adult  n_males  n_females  n_killed  \\\n0                  0.0                   1.0      1.0        0.0         0   \n1                  0.0                   1.0      1.0        0.0         1   \n3                  0.0                   1.0      1.0        0.0         0   \n4                  0.0                   1.0      1.0        0.0         0   \n5                  0.0                   1.0      1.0        0.0         0   \n\n   n_injured  n_arrested  n_unharmed  n_participants  \\\n0          1         0.0         0.0             1.0   \n1          0         0.0         0.0             1.0   \n3          1         0.0         0.0             2.0   \n4          1         0.0         1.0             2.0   \n5          1         0.0         0.0             1.0   \n\n                   incident_characteristics1  \n0                     Shot - Wounded/Injured  \n1  Shot - Dead (murder, accidental, suicide)  \n3                     Shot - Wounded/Injured  \n4                     Shot - Wounded/Injured  \n5                     Shot - Wounded/Injured  ",
      "text/html": "<div>\n<style scoped>\n    .dataframe tbody tr th:only-of-type {\n        vertical-align: middle;\n    }\n\n    .dataframe tbody tr th {\n        vertical-align: top;\n    }\n\n    .dataframe thead th {\n        text-align: right;\n    }\n</style>\n<table border=\"1\" class=\"dataframe\">\n  <thead>\n    <tr style=\"text-align: right;\">\n      <th></th>\n      <th>date</th>\n      <th>state</th>\n      <th>city_or_county</th>\n      <th>address</th>\n      <th>latitude</th>\n      <th>longitude</th>\n      <th>congressional_district</th>\n      <th>avg_age_participants</th>\n      <th>n_participants_child</th>\n      <th>n_participants_teen</th>\n      <th>n_participants_adult</th>\n      <th>n_males</th>\n      <th>n_females</th>\n      <th>n_killed</th>\n      <th>n_injured</th>\n      <th>n_arrested</th>\n      <th>n_unharmed</th>\n      <th>n_participants</th>\n      <th>incident_characteristics1</th>\n    </tr>\n  </thead>\n  <tbody>\n    <tr>\n      <th>0</th>\n      <td>2015-05-02</td>\n      <td>Indiana</td>\n      <td>Indianapolis</td>\n      <td>Lafayette Road and Pike Plaza</td>\n      <td>39.8322</td>\n      <td>-86.2492</td>\n      <td>7.0</td>\n      <td>19.0</td>\n      <td>0.0</td>\n      <td>0.0</td>\n      <td>1.0</td>\n      <td>1.0</td>\n      <td>0.0</td>\n      <td>0</td>\n      <td>1</td>\n      <td>0.0</td>\n      <td>0.0</td>\n      <td>1.0</td>\n      <td>Shot - Wounded/Injured</td>\n    </tr>\n    <tr>\n      <th>1</th>\n      <td>2017-04-03</td>\n      <td>Pennsylvania</td>\n      <td>Kane</td>\n      <td>5647 US 6</td>\n      <td>41.6645</td>\n      <td>-78.7856</td>\n      <td>5.0</td>\n      <td>62.0</td>\n      <td>0.0</td>\n      <td>0.0</td>\n      <td>1.0</td>\n      <td>1.0</td>\n      <td>0.0</td>\n      <td>1</td>\n      <td>0</td>\n      <td>0.0</td>\n      <td>0.0</td>\n      <td>1.0</td>\n      <td>Shot - Dead (murder, accidental, suicide)</td>\n    </tr>\n    <tr>\n      <th>3</th>\n      <td>2016-10-15</td>\n      <td>District of Columbia</td>\n      <td>Washington</td>\n      <td>1000 block of Bladensburg Road, NE</td>\n      <td>38.9030</td>\n      <td>-76.9820</td>\n      <td>1.0</td>\n      <td>26.0</td>\n      <td>0.0</td>\n      <td>0.0</td>\n      <td>1.0</td>\n      <td>1.0</td>\n      <td>0.0</td>\n      <td>0</td>\n      <td>1</td>\n      <td>0.0</td>\n      <td>0.0</td>\n      <td>2.0</td>\n      <td>Shot - Wounded/Injured</td>\n    </tr>\n    <tr>\n      <th>4</th>\n      <td>NaN</td>\n      <td>Pennsylvania</td>\n      <td>Pittsburgh</td>\n      <td>California and Marshall Avenues</td>\n      <td>40.4621</td>\n      <td>-80.0308</td>\n      <td>14.0</td>\n      <td>40.0</td>\n      <td>0.0</td>\n      <td>0.0</td>\n      <td>1.0</td>\n      <td>1.0</td>\n      <td>0.0</td>\n      <td>0</td>\n      <td>1</td>\n      <td>0.0</td>\n      <td>1.0</td>\n      <td>2.0</td>\n      <td>Shot - Wounded/Injured</td>\n    </tr>\n    <tr>\n      <th>5</th>\n      <td>2014-01-18</td>\n      <td>North Carolina</td>\n      <td>Wayne County</td>\n      <td>4700 block of U.S. Highway 70 East</td>\n      <td>35.1847</td>\n      <td>-77.9527</td>\n      <td>13.0</td>\n      <td>65.0</td>\n      <td>0.0</td>\n      <td>0.0</td>\n      <td>1.0</td>\n      <td>1.0</td>\n      <td>0.0</td>\n      <td>0</td>\n      <td>1</td>\n      <td>0.0</td>\n      <td>0.0</td>\n      <td>1.0</td>\n      <td>Shot - Wounded/Injured</td>\n    </tr>\n  </tbody>\n</table>\n</div>"
     },
     "execution_count": 140,
     "metadata": {},
     "output_type": "execute_result"
    }
   ],
   "source": [
    "df_incidents.head()"
   ],
   "metadata": {
    "collapsed": false,
    "ExecuteTime": {
     "start_time": "2023-11-22T18:12:59.100870Z",
     "end_time": "2023-11-22T18:12:59.159956Z"
    }
   }
  },
  {
   "cell_type": "code",
   "execution_count": 141,
   "outputs": [
    {
     "data": {
      "text/plain": "           state  year  povertyPercentage\n0  United States  2020               11.5\n1        Alabama  2020               14.8\n2         Alaska  2020               11.5\n3        Arizona  2020               12.1\n4       Arkansas  2020               15.8",
      "text/html": "<div>\n<style scoped>\n    .dataframe tbody tr th:only-of-type {\n        vertical-align: middle;\n    }\n\n    .dataframe tbody tr th {\n        vertical-align: top;\n    }\n\n    .dataframe thead th {\n        text-align: right;\n    }\n</style>\n<table border=\"1\" class=\"dataframe\">\n  <thead>\n    <tr style=\"text-align: right;\">\n      <th></th>\n      <th>state</th>\n      <th>year</th>\n      <th>povertyPercentage</th>\n    </tr>\n  </thead>\n  <tbody>\n    <tr>\n      <th>0</th>\n      <td>United States</td>\n      <td>2020</td>\n      <td>11.5</td>\n    </tr>\n    <tr>\n      <th>1</th>\n      <td>Alabama</td>\n      <td>2020</td>\n      <td>14.8</td>\n    </tr>\n    <tr>\n      <th>2</th>\n      <td>Alaska</td>\n      <td>2020</td>\n      <td>11.5</td>\n    </tr>\n    <tr>\n      <th>3</th>\n      <td>Arizona</td>\n      <td>2020</td>\n      <td>12.1</td>\n    </tr>\n    <tr>\n      <th>4</th>\n      <td>Arkansas</td>\n      <td>2020</td>\n      <td>15.8</td>\n    </tr>\n  </tbody>\n</table>\n</div>"
     },
     "execution_count": 141,
     "metadata": {},
     "output_type": "execute_result"
    }
   ],
   "source": [
    "df_poverty.head()"
   ],
   "metadata": {
    "collapsed": false,
    "ExecuteTime": {
     "start_time": "2023-11-22T18:12:59.147918Z",
     "end_time": "2023-11-22T18:12:59.175942Z"
    }
   }
  },
  {
   "cell_type": "code",
   "execution_count": 142,
   "outputs": [
    {
     "data": {
      "text/plain": "   year    state  congressional_district       party  candidatevotes  \\\n0  1976  ALABAMA                       1  REPUBLICAN         98257.0   \n1  1976  ALABAMA                       2  REPUBLICAN         90069.0   \n2  1976  ALABAMA                       3    DEMOCRAT        106935.0   \n3  1976  ALABAMA                       4    DEMOCRAT        141490.0   \n4  1976  ALABAMA                       5    DEMOCRAT        113553.0   \n\n   totalvotes  \n0    157170.0  \n1    156362.0  \n2    108048.0  \n3    176022.0  \n4    113560.0  ",
      "text/html": "<div>\n<style scoped>\n    .dataframe tbody tr th:only-of-type {\n        vertical-align: middle;\n    }\n\n    .dataframe tbody tr th {\n        vertical-align: top;\n    }\n\n    .dataframe thead th {\n        text-align: right;\n    }\n</style>\n<table border=\"1\" class=\"dataframe\">\n  <thead>\n    <tr style=\"text-align: right;\">\n      <th></th>\n      <th>year</th>\n      <th>state</th>\n      <th>congressional_district</th>\n      <th>party</th>\n      <th>candidatevotes</th>\n      <th>totalvotes</th>\n    </tr>\n  </thead>\n  <tbody>\n    <tr>\n      <th>0</th>\n      <td>1976</td>\n      <td>ALABAMA</td>\n      <td>1</td>\n      <td>REPUBLICAN</td>\n      <td>98257.0</td>\n      <td>157170.0</td>\n    </tr>\n    <tr>\n      <th>1</th>\n      <td>1976</td>\n      <td>ALABAMA</td>\n      <td>2</td>\n      <td>REPUBLICAN</td>\n      <td>90069.0</td>\n      <td>156362.0</td>\n    </tr>\n    <tr>\n      <th>2</th>\n      <td>1976</td>\n      <td>ALABAMA</td>\n      <td>3</td>\n      <td>DEMOCRAT</td>\n      <td>106935.0</td>\n      <td>108048.0</td>\n    </tr>\n    <tr>\n      <th>3</th>\n      <td>1976</td>\n      <td>ALABAMA</td>\n      <td>4</td>\n      <td>DEMOCRAT</td>\n      <td>141490.0</td>\n      <td>176022.0</td>\n    </tr>\n    <tr>\n      <th>4</th>\n      <td>1976</td>\n      <td>ALABAMA</td>\n      <td>5</td>\n      <td>DEMOCRAT</td>\n      <td>113553.0</td>\n      <td>113560.0</td>\n    </tr>\n  </tbody>\n</table>\n</div>"
     },
     "execution_count": 142,
     "metadata": {},
     "output_type": "execute_result"
    }
   ],
   "source": [
    "df_elections.head()"
   ],
   "metadata": {
    "collapsed": false,
    "ExecuteTime": {
     "start_time": "2023-11-22T18:12:59.175942Z",
     "end_time": "2023-11-22T18:12:59.293617Z"
    }
   }
  },
  {
   "cell_type": "markdown",
   "source": [
    "# Definition of new indicators"
   ],
   "metadata": {
    "collapsed": false
   }
  },
  {
   "cell_type": "markdown",
   "source": [
    "## Severity of the incident\n",
    "We start considering the ratio of killed, injured, and unharmed participants in the incidents with respect to the total number of participants. Subsequently, we define the _severity_ of the incidents as the weighted mean of the ratios just defined. We assign to `ratio_killed` the weight 0.5, to `ratio_injured` weight 0.3 and to `ratio_unharmed` weight 0.2."
   ],
   "metadata": {
    "collapsed": false
   }
  },
  {
   "cell_type": "code",
   "execution_count": 143,
   "outputs": [],
   "source": [
    "total = df_incidents['n_killed'] + df_incidents['n_injured'] + df_incidents['n_unharmed']\n",
    "df_incidents['ratio_killed'] = df_incidents['n_killed']/total*100\n",
    "df_incidents['ratio_injured'] = df_incidents['n_injured']/total*100\n",
    "df_incidents['ratio_unharmed'] = df_incidents['n_unharmed']/total*100"
   ],
   "metadata": {
    "collapsed": false,
    "ExecuteTime": {
     "start_time": "2023-11-22T18:12:59.207753Z",
     "end_time": "2023-11-22T18:12:59.471088Z"
    }
   }
  },
  {
   "cell_type": "code",
   "execution_count": 144,
   "outputs": [],
   "source": [
    "df_incidents['severity'] = 0.6*df_incidents['ratio_killed'] + 0.3*df_incidents['ratio_injured'] + 0.1*df_incidents['ratio_unharmed']"
   ],
   "metadata": {
    "collapsed": false,
    "ExecuteTime": {
     "start_time": "2023-11-22T18:12:59.246823Z",
     "end_time": "2023-11-22T18:12:59.474529Z"
    }
   }
  },
  {
   "cell_type": "code",
   "execution_count": 145,
   "outputs": [
    {
     "data": {
      "text/plain": "count    162068.000000\nmean         32.464753\nstd          17.181981\nmin          10.000000\n25%          20.000000\n50%          30.000000\n75%          45.000000\nmax          60.000000\nName: severity, dtype: float64"
     },
     "execution_count": 145,
     "metadata": {},
     "output_type": "execute_result"
    }
   ],
   "source": [
    "df_incidents['severity'].describe()"
   ],
   "metadata": {
    "collapsed": false,
    "ExecuteTime": {
     "start_time": "2023-11-22T18:12:59.269695Z",
     "end_time": "2023-11-22T18:12:59.567343Z"
    }
   }
  },
  {
   "cell_type": "code",
   "execution_count": 146,
   "outputs": [
    {
     "data": {
      "text/plain": "(array([29892.,  4927., 16490.,  1846., 59351.,  7394.,   325.,  5299.,\n          113., 36431.]),\n array([10., 15., 20., 25., 30., 35., 40., 45., 50., 55., 60.]),\n <BarContainer object of 10 artists>)"
     },
     "execution_count": 146,
     "metadata": {},
     "output_type": "execute_result"
    },
    {
     "data": {
      "text/plain": "<Figure size 1000x500 with 1 Axes>",
      "image/png": "[encoded data removed]"
     },
     "metadata": {},
     "output_type": "display_data"
    }
   ],
   "source": [
    "plt.figure(figsize=(10, 5))\n",
    "plt.hist(df_incidents['severity'], bins=10)"
   ],
   "metadata": {
    "collapsed": false,
    "ExecuteTime": {
     "start_time": "2023-11-22T18:12:59.319108Z",
     "end_time": "2023-11-22T18:12:59.928659Z"
    }
   }
  },
  {
   "cell_type": "code",
   "execution_count": 147,
   "outputs": [
    {
     "data": {
      "text/plain": "              date                 state    city_or_county  \\\n0       2015-05-02               Indiana      Indianapolis   \n1       2017-04-03          Pennsylvania              Kane   \n3       2016-10-15  District of Columbia        Washington   \n4              NaN          Pennsylvania        Pittsburgh   \n5       2014-01-18        North Carolina      Wayne County   \n...            ...                   ...               ...   \n239307  2016-01-11             Tennessee      Murfreesboro   \n239308         NaN              New York              Troy   \n239309  2017-08-17             Tennessee           Memphis   \n239310  2016-06-07              Colorado  Colorado Springs   \n239311  2016-06-12          Pennsylvania           Chester   \n\n                                   address  latitude  longitude  \\\n0            Lafayette Road and Pike Plaza   39.8322   -86.2492   \n1                                5647 US 6   41.6645   -78.7856   \n3       1000 block of Bladensburg Road, NE   38.9030   -76.9820   \n4          California and Marshall Avenues   40.4621   -80.0308   \n5       4700 block of U.S. Highway 70 East   35.1847   -77.9527   \n...                                    ...       ...        ...   \n239307                    Hazelwood Street   35.8624   -86.3695   \n239308            Pawling and Plum Avenues   42.7043   -73.6590   \n239309         Barron Ave and Pendleton St   35.1007   -89.9700   \n239310             601 Prospect Lake Drive   38.8251  -104.8020   \n239311      500 block of West Sixth Street   39.8469   -75.3679   \n\n        congressional_district  avg_age_participants  n_participants_child  \\\n0                          7.0                  19.0                   0.0   \n1                          5.0                  62.0                   0.0   \n3                          1.0                  26.0                   0.0   \n4                         14.0                  40.0                   0.0   \n5                         13.0                  65.0                   0.0   \n...                        ...                   ...                   ...   \n239307                     4.0                  23.0                   0.0   \n239308                    20.0                  88.0                   0.0   \n239309                     9.0                  58.0                   0.0   \n239310                     5.0                  68.0                   0.0   \n239311                     1.0                  22.0                   0.0   \n\n        n_participants_teen  n_participants_adult  n_males  n_females  \\\n0                       0.0                   1.0      1.0        0.0   \n1                       0.0                   1.0      1.0        0.0   \n3                       0.0                   1.0      1.0        0.0   \n4                       0.0                   1.0      1.0        0.0   \n5                       0.0                   1.0      1.0        0.0   \n...                     ...                   ...      ...        ...   \n239307                  0.0                   1.0      1.0        0.0   \n239308                  0.0                   2.0      2.0        0.0   \n239309                  0.0                   1.0      1.0        0.0   \n239310                  0.0                   1.0      2.0        0.0   \n239311                  0.0                   1.0      0.0        1.0   \n\n        n_killed  n_injured  n_arrested  n_unharmed  n_participants  \\\n0              0          1         0.0         0.0             1.0   \n1              1          0         0.0         0.0             1.0   \n3              0          1         0.0         0.0             2.0   \n4              0          1         0.0         1.0             2.0   \n5              0          1         0.0         0.0             1.0   \n...          ...        ...         ...         ...             ...   \n239307         0          1         0.0         0.0             1.0   \n239308         0          0         0.0         3.0             3.0   \n239309         0          1         0.0         0.0             1.0   \n239310         0          0         1.0         1.0             2.0   \n239311         0          1         0.0         0.0             1.0   \n\n                                incident_characteristics1  severity  \n0                                  Shot - Wounded/Injured      30.0  \n1               Shot - Dead (murder, accidental, suicide)      60.0  \n3                                  Shot - Wounded/Injured      30.0  \n4                                  Shot - Wounded/Injured      20.0  \n5                                  Shot - Wounded/Injured      30.0  \n...                                                   ...       ...  \n239307                             Shot - Wounded/Injured      30.0  \n239308  Armed robbery with injury/death and/or evidenc...      10.0  \n239309                             Shot - Wounded/Injured      30.0  \n239310                              Non-Shooting Incident      10.0  \n239311                             Shot - Wounded/Injured      30.0  \n\n[197202 rows x 20 columns]",
      "text/html": "<div>\n<style scoped>\n    .dataframe tbody tr th:only-of-type {\n        vertical-align: middle;\n    }\n\n    .dataframe tbody tr th {\n        vertical-align: top;\n    }\n\n    .dataframe thead th {\n        text-align: right;\n    }\n</style>\n<table border=\"1\" class=\"dataframe\">\n  <thead>\n    <tr style=\"text-align: right;\">\n      <th></th>\n      <th>date</th>\n      <th>state</th>\n      <th>city_or_county</th>\n      <th>address</th>\n      <th>latitude</th>\n      <th>longitude</th>\n      <th>congressional_district</th>\n      <th>avg_age_participants</th>\n      <th>n_participants_child</th>\n      <th>n_participants_teen</th>\n      <th>n_participants_adult</th>\n      <th>n_males</th>\n      <th>n_females</th>\n      <th>n_killed</th>\n      <th>n_injured</th>\n      <th>n_arrested</th>\n      <th>n_unharmed</th>\n      <th>n_participants</th>\n      <th>incident_characteristics1</th>\n      <th>severity</th>\n    </tr>\n  </thead>\n  <tbody>\n    <tr>\n      <th>0</th>\n      <td>2015-05-02</td>\n      <td>Indiana</td>\n      <td>Indianapolis</td>\n      <td>Lafayette Road and Pike Plaza</td>\n      <td>39.8322</td>\n      <td>-86.2492</td>\n      <td>7.0</td>\n      <td>19.0</td>\n      <td>0.0</td>\n      <td>0.0</td>\n      <td>1.0</td>\n      <td>1.0</td>\n      <td>0.0</td>\n      <td>0</td>\n      <td>1</td>\n      <td>0.0</td>\n      <td>0.0</td>\n      <td>1.0</td>\n      <td>Shot - Wounded/Injured</td>\n      <td>30.0</td>\n    </tr>\n    <tr>\n      <th>1</th>\n      <td>2017-04-03</td>\n      <td>Pennsylvania</td>\n      <td>Kane</td>\n      <td>5647 US 6</td>\n      <td>41.6645</td>\n      <td>-78.7856</td>\n      <td>5.0</td>\n      <td>62.0</td>\n      <td>0.0</td>\n      <td>0.0</td>\n      <td>1.0</td>\n      <td>1.0</td>\n      <td>0.0</td>\n      <td>1</td>\n      <td>0</td>\n      <td>0.0</td>\n      <td>0.0</td>\n      <td>1.0</td>\n      <td>Shot - Dead (murder, accidental, suicide)</td>\n      <td>60.0</td>\n    </tr>\n    <tr>\n      <th>3</th>\n      <td>2016-10-15</td>\n      <td>District of Columbia</td>\n      <td>Washington</td>\n      <td>1000 block of Bladensburg Road, NE</td>\n      <td>38.9030</td>\n      <td>-76.9820</td>\n      <td>1.0</td>\n      <td>26.0</td>\n      <td>0.0</td>\n      <td>0.0</td>\n      <td>1.0</td>\n      <td>1.0</td>\n      <td>0.0</td>\n      <td>0</td>\n      <td>1</td>\n      <td>0.0</td>\n      <td>0.0</td>\n      <td>2.0</td>\n      <td>Shot - Wounded/Injured</td>\n      <td>30.0</td>\n    </tr>\n    <tr>\n      <th>4</th>\n      <td>NaN</td>\n      <td>Pennsylvania</td>\n      <td>Pittsburgh</td>\n      <td>California and Marshall Avenues</td>\n      <td>40.4621</td>\n      <td>-80.0308</td>\n      <td>14.0</td>\n      <td>40.0</td>\n      <td>0.0</td>\n      <td>0.0</td>\n      <td>1.0</td>\n      <td>1.0</td>\n      <td>0.0</td>\n      <td>0</td>\n      <td>1</td>\n      <td>0.0</td>\n      <td>1.0</td>\n      <td>2.0</td>\n      <td>Shot - Wounded/Injured</td>\n      <td>20.0</td>\n    </tr>\n    <tr>\n      <th>5</th>\n      <td>2014-01-18</td>\n      <td>North Carolina</td>\n      <td>Wayne County</td>\n      <td>4700 block of U.S. Highway 70 East</td>\n      <td>35.1847</td>\n      <td>-77.9527</td>\n      <td>13.0</td>\n      <td>65.0</td>\n      <td>0.0</td>\n      <td>0.0</td>\n      <td>1.0</td>\n      <td>1.0</td>\n      <td>0.0</td>\n      <td>0</td>\n      <td>1</td>\n      <td>0.0</td>\n      <td>0.0</td>\n      <td>1.0</td>\n      <td>Shot - Wounded/Injured</td>\n      <td>30.0</td>\n    </tr>\n    <tr>\n      <th>...</th>\n      <td>...</td>\n      <td>...</td>\n      <td>...</td>\n      <td>...</td>\n      <td>...</td>\n      <td>...</td>\n      <td>...</td>\n      <td>...</td>\n      <td>...</td>\n      <td>...</td>\n      <td>...</td>\n      <td>...</td>\n      <td>...</td>\n      <td>...</td>\n      <td>...</td>\n      <td>...</td>\n      <td>...</td>\n      <td>...</td>\n      <td>...</td>\n      <td>...</td>\n    </tr>\n    <tr>\n      <th>239307</th>\n      <td>2016-01-11</td>\n      <td>Tennessee</td>\n      <td>Murfreesboro</td>\n      <td>Hazelwood Street</td>\n      <td>35.8624</td>\n      <td>-86.3695</td>\n      <td>4.0</td>\n      <td>23.0</td>\n      <td>0.0</td>\n      <td>0.0</td>\n      <td>1.0</td>\n      <td>1.0</td>\n      <td>0.0</td>\n      <td>0</td>\n      <td>1</td>\n      <td>0.0</td>\n      <td>0.0</td>\n      <td>1.0</td>\n      <td>Shot - Wounded/Injured</td>\n      <td>30.0</td>\n    </tr>\n    <tr>\n      <th>239308</th>\n      <td>NaN</td>\n      <td>New York</td>\n      <td>Troy</td>\n      <td>Pawling and Plum Avenues</td>\n      <td>42.7043</td>\n      <td>-73.6590</td>\n      <td>20.0</td>\n      <td>88.0</td>\n      <td>0.0</td>\n      <td>0.0</td>\n      <td>2.0</td>\n      <td>2.0</td>\n      <td>0.0</td>\n      <td>0</td>\n      <td>0</td>\n      <td>0.0</td>\n      <td>3.0</td>\n      <td>3.0</td>\n      <td>Armed robbery with injury/death and/or evidenc...</td>\n      <td>10.0</td>\n    </tr>\n    <tr>\n      <th>239309</th>\n      <td>2017-08-17</td>\n      <td>Tennessee</td>\n      <td>Memphis</td>\n      <td>Barron Ave and Pendleton St</td>\n      <td>35.1007</td>\n      <td>-89.9700</td>\n      <td>9.0</td>\n      <td>58.0</td>\n      <td>0.0</td>\n      <td>0.0</td>\n      <td>1.0</td>\n      <td>1.0</td>\n      <td>0.0</td>\n      <td>0</td>\n      <td>1</td>\n      <td>0.0</td>\n      <td>0.0</td>\n      <td>1.0</td>\n      <td>Shot - Wounded/Injured</td>\n      <td>30.0</td>\n    </tr>\n    <tr>\n      <th>239310</th>\n      <td>2016-06-07</td>\n      <td>Colorado</td>\n      <td>Colorado Springs</td>\n      <td>601 Prospect Lake Drive</td>\n      <td>38.8251</td>\n      <td>-104.8020</td>\n      <td>5.0</td>\n      <td>68.0</td>\n      <td>0.0</td>\n      <td>0.0</td>\n      <td>1.0</td>\n      <td>2.0</td>\n      <td>0.0</td>\n      <td>0</td>\n      <td>0</td>\n      <td>1.0</td>\n      <td>1.0</td>\n      <td>2.0</td>\n      <td>Non-Shooting Incident</td>\n      <td>10.0</td>\n    </tr>\n    <tr>\n      <th>239311</th>\n      <td>2016-06-12</td>\n      <td>Pennsylvania</td>\n      <td>Chester</td>\n      <td>500 block of West Sixth Street</td>\n      <td>39.8469</td>\n      <td>-75.3679</td>\n      <td>1.0</td>\n      <td>22.0</td>\n      <td>0.0</td>\n      <td>0.0</td>\n      <td>1.0</td>\n      <td>0.0</td>\n      <td>1.0</td>\n      <td>0</td>\n      <td>1</td>\n      <td>0.0</td>\n      <td>0.0</td>\n      <td>1.0</td>\n      <td>Shot - Wounded/Injured</td>\n      <td>30.0</td>\n    </tr>\n  </tbody>\n</table>\n<p>197202 rows × 20 columns</p>\n</div>"
     },
     "execution_count": 147,
     "metadata": {},
     "output_type": "execute_result"
    }
   ],
   "source": [
    "# We drop the columns of the ratios\n",
    "df_incidents.drop(['ratio_killed', 'ratio_injured', 'ratio_unharmed'], axis=1)"
   ],
   "metadata": {
    "collapsed": false,
    "ExecuteTime": {
     "start_time": "2023-11-22T18:12:59.758970Z",
     "end_time": "2023-11-22T18:12:59.929654Z"
    }
   }
  },
  {
   "cell_type": "markdown",
   "source": [],
   "metadata": {
    "collapsed": false
   }
  },
  {
   "cell_type": "markdown",
   "source": [
    "## Injured and killed in a given place and time\n",
    "We investigate how many injured and killed people have been involved w.r.t the total injured and\n",
    "killed people in the same congressional district in a month"
   ],
   "metadata": {
    "collapsed": false
   }
  },
  {
   "cell_type": "code",
   "execution_count": 148,
   "outputs": [],
   "source": [
    "df_incidents.date=pd.to_datetime(df_incidents.date)"
   ],
   "metadata": {
    "collapsed": false,
    "ExecuteTime": {
     "start_time": "2023-11-22T18:12:59.820112Z",
     "end_time": "2023-11-22T18:13:00.088545Z"
    }
   }
  },
  {
   "cell_type": "code",
   "execution_count": 149,
   "outputs": [
    {
     "name": "stdout",
     "output_type": "stream",
     "text": [
      "         state  congressional_district year_month  total_killed\n",
      "0      Alabama                     1.0      14-01             3\n",
      "1      Alabama                     1.0      14-02             5\n",
      "2      Alabama                     1.0      14-03             3\n",
      "3      Alabama                     1.0      14-04             3\n",
      "4      Alabama                     1.0      14-05             7\n",
      "...        ...                     ...        ...           ...\n",
      "21112  Wyoming                     1.0      17-05             0\n",
      "21113  Wyoming                     1.0      17-06             0\n",
      "21114  Wyoming                     1.0      17-07             0\n",
      "21115  Wyoming                     1.0      17-08             3\n",
      "21116  Wyoming                     1.0      17-09             1\n",
      "\n",
      "[21117 rows x 4 columns]\n"
     ]
    }
   ],
   "source": [
    "#- raggruppare in base al mese, congressional district, stato\n",
    "#- injured / tot. injured , killed / tot. killed in congr. and month\n",
    "\n",
    "df_incidents['year_month'] = df_incidents.date.dt.strftime('%y-%m')\n",
    "df_incidents.year_month.isnull().sum()\n",
    "\n",
    "tot_killed = df_incidents.groupby(['state', 'congressional_district', 'year_month'])['n_killed'].sum()\n",
    "# Convert the Series to a DataFrame and reset the index\n",
    "tot_killed_df = tot_killed.reset_index()\n",
    "\n",
    "# Rename the 'n_killed' column to a desired name\n",
    "tot_killed_df = tot_killed_df.rename(columns={'n_killed': 'total_killed'})\n",
    "\n",
    "# Print the resulting DataFrame\n",
    "print(tot_killed_df)\n",
    "\n",
    "\n",
    "#Same for the injured\n",
    "tot_injured = df_incidents.groupby(['state', 'congressional_district', 'year_month'])['n_injured'].sum()\n",
    "# Convert the Series to a DataFrame and reset the index\n",
    "tot_injured_df = tot_injured.reset_index()\n",
    "\n",
    "# Rename the 'n_killed' column to a desired name\n",
    "tot_injured_df = tot_injured_df.rename(columns={'n_injured': 'total_injured'})"
   ],
   "metadata": {
    "collapsed": false,
    "ExecuteTime": {
     "start_time": "2023-11-22T18:13:00.050008Z",
     "end_time": "2023-11-22T18:13:02.311494Z"
    }
   }
  },
  {
   "cell_type": "code",
   "execution_count": 150,
   "outputs": [],
   "source": [
    "# TODO: We recall that in the elections dataset, for the states that have just one congressional district, the number of the district was 0. We replace the zeros with 1"
   ],
   "metadata": {
    "collapsed": false,
    "ExecuteTime": {
     "start_time": "2023-11-22T18:13:02.311494Z",
     "end_time": "2023-11-22T18:13:02.318789Z"
    }
   }
  },
  {
   "cell_type": "code",
   "execution_count": 151,
   "outputs": [],
   "source": [
    "# We join the 'total_killed' and 'total_injured' columns to the incidents dataset\n",
    "df_incidents =pd.merge( df_incidents, tot_killed_df, on=['state', 'congressional_district', 'year_month'])"
   ],
   "metadata": {
    "collapsed": false,
    "ExecuteTime": {
     "start_time": "2023-11-22T18:13:02.320825Z",
     "end_time": "2023-11-22T18:13:02.566755Z"
    }
   }
  },
  {
   "cell_type": "code",
   "execution_count": 152,
   "outputs": [
    {
     "data": {
      "text/plain": "        date    state city_or_county                               address  \\\n0 2015-05-02  Indiana   Indianapolis         Lafayette Road and Pike Plaza   \n1 2015-05-03  Indiana   Indianapolis                   502 N. Rural Street   \n2 2015-05-25  Indiana   Indianapolis     800 block of Chapelwood Boulevard   \n3 2015-05-03  Indiana   Indianapolis  East 25th Street and North Post Road   \n4 2015-05-30  Indiana   Indianapolis                 3018 West 16th Street   \n\n   latitude  longitude  congressional_district  avg_age_participants  \\\n0   39.8322   -86.2492                     7.0                  19.0   \n1   39.7745   -86.1166                     7.0                  32.0   \n2   39.7759   -86.2940                     7.0                  36.0   \n3   39.8040   -86.0095                     7.0                  18.0   \n4   39.7882   -86.2091                     7.0                  53.0   \n\n   n_participants_child  n_participants_teen  ...  n_unharmed  n_participants  \\\n0                   0.0                  0.0  ...         0.0             1.0   \n1                   0.0                  0.0  ...         0.0             2.0   \n2                   0.0                  0.0  ...         0.0             2.0   \n3                   0.0                  0.0  ...         0.0             1.0   \n4                   0.0                  0.0  ...         0.0             1.0   \n\n                   incident_characteristics1  ratio_killed  ratio_injured  \\\n0                     Shot - Wounded/Injured           0.0          100.0   \n1  Shot - Dead (murder, accidental, suicide)         100.0            0.0   \n2  Shot - Dead (murder, accidental, suicide)         100.0            0.0   \n3  Shot - Dead (murder, accidental, suicide)         100.0            0.0   \n4                     Shot - Wounded/Injured           0.0          100.0   \n\n   ratio_unharmed  severity  year_month total_killed  total_injured  \n0             0.0      30.0       15-05            3              4  \n1             0.0      60.0       15-05            3              4  \n2             0.0      60.0       15-05            3              4  \n3             0.0      60.0       15-05            3              4  \n4             0.0      30.0       15-05            3              4  \n\n[5 rows x 26 columns]",
      "text/html": "<div>\n<style scoped>\n    .dataframe tbody tr th:only-of-type {\n        vertical-align: middle;\n    }\n\n    .dataframe tbody tr th {\n        vertical-align: top;\n    }\n\n    .dataframe thead th {\n        text-align: right;\n    }\n</style>\n<table border=\"1\" class=\"dataframe\">\n  <thead>\n    <tr style=\"text-align: right;\">\n      <th></th>\n      <th>date</th>\n      <th>state</th>\n      <th>city_or_county</th>\n      <th>address</th>\n      <th>latitude</th>\n      <th>longitude</th>\n      <th>congressional_district</th>\n      <th>avg_age_participants</th>\n      <th>n_participants_child</th>\n      <th>n_participants_teen</th>\n      <th>...</th>\n      <th>n_unharmed</th>\n      <th>n_participants</th>\n      <th>incident_characteristics1</th>\n      <th>ratio_killed</th>\n      <th>ratio_injured</th>\n      <th>ratio_unharmed</th>\n      <th>severity</th>\n      <th>year_month</th>\n      <th>total_killed</th>\n      <th>total_injured</th>\n    </tr>\n  </thead>\n  <tbody>\n    <tr>\n      <th>0</th>\n      <td>2015-05-02</td>\n      <td>Indiana</td>\n      <td>Indianapolis</td>\n      <td>Lafayette Road and Pike Plaza</td>\n      <td>39.8322</td>\n      <td>-86.2492</td>\n      <td>7.0</td>\n      <td>19.0</td>\n      <td>0.0</td>\n      <td>0.0</td>\n      <td>...</td>\n      <td>0.0</td>\n      <td>1.0</td>\n      <td>Shot - Wounded/Injured</td>\n      <td>0.0</td>\n      <td>100.0</td>\n      <td>0.0</td>\n      <td>30.0</td>\n      <td>15-05</td>\n      <td>3</td>\n      <td>4</td>\n    </tr>\n    <tr>\n      <th>1</th>\n      <td>2015-05-03</td>\n      <td>Indiana</td>\n      <td>Indianapolis</td>\n      <td>502 N. Rural Street</td>\n      <td>39.7745</td>\n      <td>-86.1166</td>\n      <td>7.0</td>\n      <td>32.0</td>\n      <td>0.0</td>\n      <td>0.0</td>\n      <td>...</td>\n      <td>0.0</td>\n      <td>2.0</td>\n      <td>Shot - Dead (murder, accidental, suicide)</td>\n      <td>100.0</td>\n      <td>0.0</td>\n      <td>0.0</td>\n      <td>60.0</td>\n      <td>15-05</td>\n      <td>3</td>\n      <td>4</td>\n    </tr>\n    <tr>\n      <th>2</th>\n      <td>2015-05-25</td>\n      <td>Indiana</td>\n      <td>Indianapolis</td>\n      <td>800 block of Chapelwood Boulevard</td>\n      <td>39.7759</td>\n      <td>-86.2940</td>\n      <td>7.0</td>\n      <td>36.0</td>\n      <td>0.0</td>\n      <td>0.0</td>\n      <td>...</td>\n      <td>0.0</td>\n      <td>2.0</td>\n      <td>Shot - Dead (murder, accidental, suicide)</td>\n      <td>100.0</td>\n      <td>0.0</td>\n      <td>0.0</td>\n      <td>60.0</td>\n      <td>15-05</td>\n      <td>3</td>\n      <td>4</td>\n    </tr>\n    <tr>\n      <th>3</th>\n      <td>2015-05-03</td>\n      <td>Indiana</td>\n      <td>Indianapolis</td>\n      <td>East 25th Street and North Post Road</td>\n      <td>39.8040</td>\n      <td>-86.0095</td>\n      <td>7.0</td>\n      <td>18.0</td>\n      <td>0.0</td>\n      <td>0.0</td>\n      <td>...</td>\n      <td>0.0</td>\n      <td>1.0</td>\n      <td>Shot - Dead (murder, accidental, suicide)</td>\n      <td>100.0</td>\n      <td>0.0</td>\n      <td>0.0</td>\n      <td>60.0</td>\n      <td>15-05</td>\n      <td>3</td>\n      <td>4</td>\n    </tr>\n    <tr>\n      <th>4</th>\n      <td>2015-05-30</td>\n      <td>Indiana</td>\n      <td>Indianapolis</td>\n      <td>3018 West 16th Street</td>\n      <td>39.7882</td>\n      <td>-86.2091</td>\n      <td>7.0</td>\n      <td>53.0</td>\n      <td>0.0</td>\n      <td>0.0</td>\n      <td>...</td>\n      <td>0.0</td>\n      <td>1.0</td>\n      <td>Shot - Wounded/Injured</td>\n      <td>0.0</td>\n      <td>100.0</td>\n      <td>0.0</td>\n      <td>30.0</td>\n      <td>15-05</td>\n      <td>3</td>\n      <td>4</td>\n    </tr>\n  </tbody>\n</table>\n<p>5 rows × 26 columns</p>\n</div>"
     },
     "execution_count": 152,
     "metadata": {},
     "output_type": "execute_result"
    }
   ],
   "source": [
    "df_incidents = pd.merge(df_incidents, tot_injured_df, on=['state', 'congressional_district', 'year_month'])\n",
    "df_incidents.head()"
   ],
   "metadata": {
    "collapsed": false,
    "ExecuteTime": {
     "start_time": "2023-11-22T18:13:02.562297Z",
     "end_time": "2023-11-22T18:13:02.772285Z"
    }
   }
  },
  {
   "cell_type": "code",
   "execution_count": 153,
   "outputs": [],
   "source": [
    "# We distinguish between the case with total_killed = 0, and total_killed != 0\n",
    "\n",
    "def f(x, y):\n",
    "    if y!=0:\n",
    "        return x/y\n",
    "    else:\n",
    "        return 0\n",
    "df_incidents['killed_by_district'] = df_incidents.apply(lambda row: f(row['n_killed'], row['total_killed']), axis=1)\n",
    "\n",
    "df_incidents['injured_by_district'] = df_incidents.apply(lambda row: f(row['n_injured'], row['total_injured']), axis=1)"
   ],
   "metadata": {
    "collapsed": false,
    "ExecuteTime": {
     "start_time": "2023-11-22T18:13:02.778874Z",
     "end_time": "2023-11-22T18:13:09.493695Z"
    }
   }
  },
  {
   "cell_type": "code",
   "execution_count": 153,
   "outputs": [],
   "source": [],
   "metadata": {
    "collapsed": false,
    "ExecuteTime": {
     "start_time": "2023-11-22T18:13:09.499083Z",
     "end_time": "2023-11-22T18:13:09.505307Z"
    }
   }
  },
  {
   "cell_type": "code",
   "execution_count": 153,
   "outputs": [],
   "source": [],
   "metadata": {
    "collapsed": false,
    "ExecuteTime": {
     "start_time": "2023-11-22T18:13:09.514672Z",
     "end_time": "2023-11-22T18:13:09.517676Z"
    }
   }
  },
  {
   "cell_type": "markdown",
   "source": [
    "# Aggregated dataset"
   ],
   "metadata": {
    "collapsed": false
   }
  },
  {
   "cell_type": "markdown",
   "source": [
    "We group the incidents that happened in the same congressional district of each state: label [state, congressional district] (and eventually in the same year, month).\n",
    "\n",
    "We consider the numerical features of the dataset df_incidents:\n",
    "- the mean of 'avg_age_participants'\n",
    "- the sum of the features 'n_participants_child'-'n_participants'\n",
    "\n",
    "We also add the 'povertyPercentage' feature of df_poverty for each state, year.\n",
    "\n",
    "Finally, given the year of the incident, we add the 'party', 'candidatevotes', 'totalvotes' features from the dataset df_elections for each [state, congressional district]."
   ],
   "metadata": {
    "collapsed": false
   }
  },
  {
   "cell_type": "code",
   "execution_count": 153,
   "outputs": [],
   "source": [],
   "metadata": {
    "collapsed": false,
    "ExecuteTime": {
     "start_time": "2023-11-22T18:13:09.525801Z",
     "end_time": "2023-11-22T18:13:09.631619Z"
    }
   }
  },
  {
   "cell_type": "code",
   "execution_count": 153,
   "outputs": [],
   "source": [],
   "metadata": {
    "collapsed": false,
    "ExecuteTime": {
     "start_time": "2023-11-22T18:13:09.540434Z",
     "end_time": "2023-11-22T18:13:09.632616Z"
    }
   }
  },
  {
   "cell_type": "code",
   "execution_count": 153,
   "outputs": [],
   "source": [],
   "metadata": {
    "collapsed": false,
    "ExecuteTime": {
     "start_time": "2023-11-22T18:13:09.551067Z",
     "end_time": "2023-11-22T18:13:09.632616Z"
    }
   }
  },
  {
   "cell_type": "code",
   "execution_count": 153,
   "outputs": [],
   "source": [],
   "metadata": {
    "collapsed": false,
    "ExecuteTime": {
     "start_time": "2023-11-22T18:13:09.566049Z",
     "end_time": "2023-11-22T18:13:09.632616Z"
    }
   }
  }
 ],
 "metadata": {
  "kernelspec": {
   "display_name": "Python 3",
   "language": "python",
   "name": "python3"
  },
  "language_info": {
   "codemirror_mode": {
    "name": "ipython",
    "version": 2
   },
   "file_extension": ".py",
   "mimetype": "text/x-python",
   "name": "python",
   "nbconvert_exporter": "python",
   "pygments_lexer": "ipython2",
   "version": "2.7.6"
  }
 },
 "nbformat": 4,
 "nbformat_minor": 0
}
