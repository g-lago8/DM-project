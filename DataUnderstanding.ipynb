{
 "cells": [
  {
   "cell_type": "markdown",
   "metadata": {
    "collapsed": false
   },
   "source": [
    "# Task 1.1 Data Cleaning & Understanding"
   ]
  },
  {
   "cell_type": "code",
   "execution_count": 193,
   "metadata": {
    "ExecuteTime": {
     "end_time": "2023-10-12T14:49:22.033023Z",
     "start_time": "2023-10-12T14:49:20.213798Z"
    },
    "collapsed": false
   },
   "outputs": [],
   "source": [
    "%matplotlib inline\n",
    "import math\n",
    "import numpy as np\n",
    "import pandas as pd\n",
    "import scipy.stats as stats\n",
    "import matplotlib.pyplot as plt\n",
    "\n",
    "from collections import defaultdict\n",
    "from scipy.stats import pearsonr"
   ]
  },
  {
   "cell_type": "markdown",
   "metadata": {
    "collapsed": false
   },
   "source": [
    "## Dataset Loading"
   ]
  },
  {
   "cell_type": "code",
   "execution_count": 194,
   "metadata": {
    "ExecuteTime": {
     "end_time": "2023-10-12T14:51:17.601018Z",
     "start_time": "2023-10-12T14:51:16.239675Z"
    },
    "collapsed": false
   },
   "outputs": [],
   "source": [
    "df_incidents = pd.read_csv('datasets_original/incidents.csv', sep=',', index_col=False, low_memory=False) # gun incidents in the USA\n",
    "# Note: since the first column isn't a column of indexes (it's the date column), we set index_col=False\n",
    "\n",
    "df_poverty = pd.read_csv('datasets_original/povertyByStateYear.csv', sep=',', index_col=False) # poverty percentage in the USA\n",
    "# Note: the first column isn't a column of indexes\n",
    "\n",
    "df_elections = pd.read_csv('datasets_original/year_state_district_house.csv', sep=',', index_col=False) # congressional elections in the USA\n",
    "# Note: the first column isn't a column of indexes"
   ]
  },
  {
   "cell_type": "code",
   "execution_count": 195,
   "metadata": {
    "ExecuteTime": {
     "end_time": "2023-10-12T14:52:56.024770Z",
     "start_time": "2023-10-12T14:52:55.996082Z"
    },
    "collapsed": false
   },
   "outputs": [
    {
     "name": "stdout",
     "output_type": "stream",
     "text": [
      "         date                 state city_or_county  \\\n",
      "0  2015-05-02               Indiana   Indianapolis   \n",
      "1  2017-04-03          Pennsylvania           Kane   \n",
      "2  2016-11-05              Michigan        Detroit   \n",
      "3  2016-10-15  District of Columbia     Washington   \n",
      "4  2030-06-14          Pennsylvania     Pittsburgh   \n",
      "\n",
      "                              address  latitude  longitude  \\\n",
      "0       Lafayette Road and Pike Plaza   39.8322   -86.2492   \n",
      "1                           5647 US 6   41.6645   -78.7856   \n",
      "2   6200 Block of East McNichols Road   42.4190   -83.0393   \n",
      "3  1000 block of Bladensburg Road, NE   38.9030   -76.9820   \n",
      "4     California and Marshall Avenues   40.4621   -80.0308   \n",
      "\n",
      "   congressional_district  state_house_district  state_senate_district  \\\n",
      "0                     7.0                  94.0                   33.0   \n",
      "1                     5.0                   NaN                    NaN   \n",
      "2                    14.0                   4.0                    2.0   \n",
      "3                     1.0                   NaN                    NaN   \n",
      "4                    14.0                   NaN                    NaN   \n",
      "\n",
      "   participant_age1  ... n_males n_females n_killed n_injured n_arrested  \\\n",
      "0              19.0  ...     1.0       0.0        0         1        0.0   \n",
      "1              62.0  ...     1.0       0.0        1         0        0.0   \n",
      "2               NaN  ...     NaN       NaN        0         1        0.0   \n",
      "3               NaN  ...     1.0       0.0        0         1        0.0   \n",
      "4               NaN  ...     1.0       0.0        0         1        0.0   \n",
      "\n",
      "  n_unharmed n_participants  \\\n",
      "0        0.0            1.0   \n",
      "1        0.0            1.0   \n",
      "2        1.0            2.0   \n",
      "3        0.0            2.0   \n",
      "4        1.0            2.0   \n",
      "\n",
      "                                               notes  \\\n",
      "0  Teen wounded while walking - Security guard at...   \n",
      "1                           shot self after accident   \n",
      "2                                             1 inj.   \n",
      "3                                                NaN   \n",
      "4                                                NaN   \n",
      "\n",
      "                   incident_characteristics1  \\\n",
      "0                     Shot - Wounded/Injured   \n",
      "1  Shot - Dead (murder, accidental, suicide)   \n",
      "2                     Shot - Wounded/Injured   \n",
      "3                     Shot - Wounded/Injured   \n",
      "4                     Shot - Wounded/Injured   \n",
      "\n",
      "              incident_characteristics2  \n",
      "0                                   NaN  \n",
      "1                              Suicide^  \n",
      "2                                   NaN  \n",
      "3                                   NaN  \n",
      "4  Drive-by (car to street, car to car)  \n",
      "\n",
      "[5 rows x 28 columns]\n"
     ]
    }
   ],
   "source": [
    "print(df_incidents.head())"
   ]
  },
  {
   "cell_type": "code",
   "execution_count": 196,
   "metadata": {
    "ExecuteTime": {
     "end_time": "2023-10-12T14:53:33.029233Z",
     "start_time": "2023-10-12T14:53:33.026612Z"
    },
    "collapsed": false
   },
   "outputs": [
    {
     "name": "stdout",
     "output_type": "stream",
     "text": [
      "           state  year  povertyPercentage\n",
      "0  United States  2020               11.5\n",
      "1        Alabama  2020               14.8\n",
      "2         Alaska  2020               11.5\n",
      "3        Arizona  2020               12.1\n",
      "4       Arkansas  2020               15.8\n"
     ]
    }
   ],
   "source": [
    "print(df_poverty.head())"
   ]
  },
  {
   "cell_type": "code",
   "execution_count": 197,
   "metadata": {
    "ExecuteTime": {
     "end_time": "2023-10-12T14:53:48.413183Z",
     "start_time": "2023-10-12T14:53:48.407603Z"
    },
    "collapsed": false
   },
   "outputs": [
    {
     "name": "stdout",
     "output_type": "stream",
     "text": [
      "   year    state  congressional_district       party  candidatevotes  \\\n",
      "0  1976  ALABAMA                       1  REPUBLICAN           98257   \n",
      "1  1976  ALABAMA                       2  REPUBLICAN           90069   \n",
      "2  1976  ALABAMA                       3    DEMOCRAT          106935   \n",
      "3  1976  ALABAMA                       4    DEMOCRAT          141490   \n",
      "4  1976  ALABAMA                       5    DEMOCRAT          113553   \n",
      "\n",
      "   totalvotes  \n",
      "0      157170  \n",
      "1      156362  \n",
      "2      108048  \n",
      "3      176022  \n",
      "4      113560  \n"
     ]
    }
   ],
   "source": [
    "print(df_elections.head())"
   ]
  },
  {
   "cell_type": "markdown",
   "metadata": {
    "collapsed": false
   },
   "source": [
    "## Basic Statistics"
   ]
  },
  {
   "cell_type": "code",
   "execution_count": 198,
   "metadata": {
    "ExecuteTime": {
     "end_time": "2023-10-12T14:54:36.944529Z",
     "start_time": "2023-10-12T14:54:36.802104Z"
    },
    "collapsed": false
   },
   "outputs": [
    {
     "name": "stdout",
     "output_type": "stream",
     "text": [
      "Info about df_incidents: \n",
      "\n",
      "<class 'pandas.core.frame.DataFrame'>\n",
      "RangeIndex: 239677 entries, 0 to 239676\n",
      "Data columns (total 28 columns):\n",
      " #   Column                     Non-Null Count   Dtype  \n",
      "---  ------                     --------------   -----  \n",
      " 0   date                       239677 non-null  object \n",
      " 1   state                      239677 non-null  object \n",
      " 2   city_or_county             239677 non-null  object \n",
      " 3   address                    223180 non-null  object \n",
      " 4   latitude                   231754 non-null  float64\n",
      " 5   longitude                  231754 non-null  float64\n",
      " 6   congressional_district     227733 non-null  float64\n",
      " 7   state_house_district       200905 non-null  float64\n",
      " 8   state_senate_district      207342 non-null  float64\n",
      " 9   participant_age1           147379 non-null  float64\n",
      " 10  participant_age_group1     197558 non-null  object \n",
      " 11  participant_gender1        203315 non-null  object \n",
      " 12  min_age_participants       164879 non-null  object \n",
      " 13  avg_age_participants       165057 non-null  object \n",
      " 14  max_age_participants       164969 non-null  object \n",
      " 15  n_participants_child       197573 non-null  object \n",
      " 16  n_participants_teen        197578 non-null  object \n",
      " 17  n_participants_adult       197575 non-null  object \n",
      " 18  n_males                    203315 non-null  float64\n",
      " 19  n_females                  203315 non-null  float64\n",
      " 20  n_killed                   239677 non-null  int64  \n",
      " 21  n_injured                  239677 non-null  int64  \n",
      " 22  n_arrested                 212051 non-null  float64\n",
      " 23  n_unharmed                 212051 non-null  float64\n",
      " 24  n_participants             239677 non-null  float64\n",
      " 25  notes                      158660 non-null  object \n",
      " 26  incident_characteristics1  239351 non-null  object \n",
      " 27  incident_characteristics2  141931 non-null  object \n",
      "dtypes: float64(11), int64(2), object(15)\n",
      "memory usage: 51.2+ MB\n"
     ]
    }
   ],
   "source": [
    "print(\"Info about df_incidents: \\n\")\n",
    "df_incidents.info()"
   ]
  },
  {
   "cell_type": "code",
   "execution_count": 199,
   "metadata": {},
   "outputs": [
    {
     "data": {
      "text/plain": [
       "array(['0.0', nan, '1.0', '2.0', '3.0', '4.0', '5.0', '15.0', '-864',\n",
       "       '6.0', '7.0', '762487', '-753', '-854', '444036', '-138', '10.0',\n",
       "       'ymwa4vyx', '9.0', '27.0', 'akendyt6a', '-927', '-130',\n",
       "       'x2aqam13iy', '445652', 'eqsa', '8.0', '-49', 'nt082ps', '-873',\n",
       "       '-427', '-947', 'wcrt3x4', 'p2eyl'], dtype=object)"
      ]
     },
     "execution_count": 199,
     "metadata": {},
     "output_type": "execute_result"
    }
   ],
   "source": [
    "df_incidents.n_participants_teen.unique()"
   ]
  },
  {
   "cell_type": "code",
   "execution_count": 200,
   "metadata": {
    "collapsed": false
   },
   "outputs": [
    {
     "name": "stdout",
     "output_type": "stream",
     "text": [
      "Info about df_poverty: \n",
      "\n",
      "<class 'pandas.core.frame.DataFrame'>\n",
      "RangeIndex: 884 entries, 0 to 883\n",
      "Data columns (total 3 columns):\n",
      " #   Column             Non-Null Count  Dtype  \n",
      "---  ------             --------------  -----  \n",
      " 0   state              884 non-null    object \n",
      " 1   year               884 non-null    int64  \n",
      " 2   povertyPercentage  832 non-null    float64\n",
      "dtypes: float64(1), int64(1), object(1)\n",
      "memory usage: 20.8+ KB\n"
     ]
    }
   ],
   "source": [
    "print(\"Info about df_poverty: \\n\")\n",
    "df_poverty.info()"
   ]
  },
  {
   "cell_type": "code",
   "execution_count": 201,
   "metadata": {
    "collapsed": false
   },
   "outputs": [
    {
     "name": "stdout",
     "output_type": "stream",
     "text": [
      "Info about df_elections: \n",
      "\n",
      "<class 'pandas.core.frame.DataFrame'>\n",
      "RangeIndex: 10441 entries, 0 to 10440\n",
      "Data columns (total 6 columns):\n",
      " #   Column                  Non-Null Count  Dtype \n",
      "---  ------                  --------------  ----- \n",
      " 0   year                    10441 non-null  int64 \n",
      " 1   state                   10441 non-null  object\n",
      " 2   congressional_district  10441 non-null  int64 \n",
      " 3   party                   10441 non-null  object\n",
      " 4   candidatevotes          10441 non-null  int64 \n",
      " 5   totalvotes              10441 non-null  int64 \n",
      "dtypes: int64(4), object(2)\n",
      "memory usage: 489.5+ KB\n"
     ]
    }
   ],
   "source": [
    "print(\"Info about df_elections: \\n\")\n",
    "df_elections.info()"
   ]
  },
  {
   "cell_type": "code",
   "execution_count": 202,
   "metadata": {
    "ExecuteTime": {
     "end_time": "2023-10-12T15:43:35.229871Z",
     "start_time": "2023-10-12T15:43:34.993039Z"
    },
    "collapsed": false
   },
   "outputs": [
    {
     "data": {
      "text/html": [
       "<div>\n",
       "<style scoped>\n",
       "    .dataframe tbody tr th:only-of-type {\n",
       "        vertical-align: middle;\n",
       "    }\n",
       "\n",
       "    .dataframe tbody tr th {\n",
       "        vertical-align: top;\n",
       "    }\n",
       "\n",
       "    .dataframe thead th {\n",
       "        text-align: right;\n",
       "    }\n",
       "</style>\n",
       "<table border=\"1\" class=\"dataframe\">\n",
       "  <thead>\n",
       "    <tr style=\"text-align: right;\">\n",
       "      <th></th>\n",
       "      <th>latitude</th>\n",
       "      <th>longitude</th>\n",
       "      <th>congressional_district</th>\n",
       "      <th>state_house_district</th>\n",
       "      <th>state_senate_district</th>\n",
       "      <th>participant_age1</th>\n",
       "      <th>n_males</th>\n",
       "      <th>n_females</th>\n",
       "      <th>n_killed</th>\n",
       "      <th>n_injured</th>\n",
       "      <th>n_arrested</th>\n",
       "      <th>n_unharmed</th>\n",
       "      <th>n_participants</th>\n",
       "    </tr>\n",
       "  </thead>\n",
       "  <tbody>\n",
       "    <tr>\n",
       "      <th>count</th>\n",
       "      <td>231754.000000</td>\n",
       "      <td>231754.000000</td>\n",
       "      <td>227733.000000</td>\n",
       "      <td>200905.000000</td>\n",
       "      <td>207342.00000</td>\n",
       "      <td>147379.000000</td>\n",
       "      <td>203315.000000</td>\n",
       "      <td>203315.000000</td>\n",
       "      <td>239677.000000</td>\n",
       "      <td>239677.000000</td>\n",
       "      <td>212051.000000</td>\n",
       "      <td>212051.000000</td>\n",
       "      <td>239677.000000</td>\n",
       "    </tr>\n",
       "    <tr>\n",
       "      <th>mean</th>\n",
       "      <td>37.546598</td>\n",
       "      <td>-89.338348</td>\n",
       "      <td>8.001265</td>\n",
       "      <td>55.447132</td>\n",
       "      <td>20.47711</td>\n",
       "      <td>30.295707</td>\n",
       "      <td>1.520252</td>\n",
       "      <td>0.212340</td>\n",
       "      <td>0.252290</td>\n",
       "      <td>0.494007</td>\n",
       "      <td>0.468439</td>\n",
       "      <td>0.494169</td>\n",
       "      <td>1.636895</td>\n",
       "    </tr>\n",
       "    <tr>\n",
       "      <th>std</th>\n",
       "      <td>5.130763</td>\n",
       "      <td>14.359546</td>\n",
       "      <td>8.480835</td>\n",
       "      <td>42.048117</td>\n",
       "      <td>14.20456</td>\n",
       "      <td>13.363592</td>\n",
       "      <td>0.996767</td>\n",
       "      <td>0.490888</td>\n",
       "      <td>0.521779</td>\n",
       "      <td>0.729952</td>\n",
       "      <td>0.851035</td>\n",
       "      <td>0.925566</td>\n",
       "      <td>1.252514</td>\n",
       "    </tr>\n",
       "    <tr>\n",
       "      <th>min</th>\n",
       "      <td>19.111400</td>\n",
       "      <td>-171.429000</td>\n",
       "      <td>0.000000</td>\n",
       "      <td>1.000000</td>\n",
       "      <td>1.00000</td>\n",
       "      <td>0.000000</td>\n",
       "      <td>0.000000</td>\n",
       "      <td>0.000000</td>\n",
       "      <td>0.000000</td>\n",
       "      <td>0.000000</td>\n",
       "      <td>0.000000</td>\n",
       "      <td>0.000000</td>\n",
       "      <td>0.000000</td>\n",
       "    </tr>\n",
       "    <tr>\n",
       "      <th>25%</th>\n",
       "      <td>33.903400</td>\n",
       "      <td>-94.158725</td>\n",
       "      <td>2.000000</td>\n",
       "      <td>21.000000</td>\n",
       "      <td>9.00000</td>\n",
       "      <td>21.000000</td>\n",
       "      <td>1.000000</td>\n",
       "      <td>0.000000</td>\n",
       "      <td>0.000000</td>\n",
       "      <td>0.000000</td>\n",
       "      <td>0.000000</td>\n",
       "      <td>0.000000</td>\n",
       "      <td>1.000000</td>\n",
       "    </tr>\n",
       "    <tr>\n",
       "      <th>50%</th>\n",
       "      <td>38.570600</td>\n",
       "      <td>-86.249600</td>\n",
       "      <td>5.000000</td>\n",
       "      <td>47.000000</td>\n",
       "      <td>19.00000</td>\n",
       "      <td>27.000000</td>\n",
       "      <td>1.000000</td>\n",
       "      <td>0.000000</td>\n",
       "      <td>0.000000</td>\n",
       "      <td>0.000000</td>\n",
       "      <td>0.000000</td>\n",
       "      <td>0.000000</td>\n",
       "      <td>1.000000</td>\n",
       "    </tr>\n",
       "    <tr>\n",
       "      <th>75%</th>\n",
       "      <td>41.437375</td>\n",
       "      <td>-80.048625</td>\n",
       "      <td>10.000000</td>\n",
       "      <td>84.000000</td>\n",
       "      <td>30.00000</td>\n",
       "      <td>37.000000</td>\n",
       "      <td>2.000000</td>\n",
       "      <td>0.000000</td>\n",
       "      <td>0.000000</td>\n",
       "      <td>1.000000</td>\n",
       "      <td>1.000000</td>\n",
       "      <td>1.000000</td>\n",
       "      <td>2.000000</td>\n",
       "    </tr>\n",
       "    <tr>\n",
       "      <th>max</th>\n",
       "      <td>71.336800</td>\n",
       "      <td>97.433100</td>\n",
       "      <td>53.000000</td>\n",
       "      <td>901.000000</td>\n",
       "      <td>94.00000</td>\n",
       "      <td>311.000000</td>\n",
       "      <td>61.000000</td>\n",
       "      <td>23.000000</td>\n",
       "      <td>50.000000</td>\n",
       "      <td>53.000000</td>\n",
       "      <td>63.000000</td>\n",
       "      <td>20.000000</td>\n",
       "      <td>103.000000</td>\n",
       "    </tr>\n",
       "  </tbody>\n",
       "</table>\n",
       "</div>"
      ],
      "text/plain": [
       "            latitude      longitude  congressional_district  \\\n",
       "count  231754.000000  231754.000000           227733.000000   \n",
       "mean       37.546598     -89.338348                8.001265   \n",
       "std         5.130763      14.359546                8.480835   \n",
       "min        19.111400    -171.429000                0.000000   \n",
       "25%        33.903400     -94.158725                2.000000   \n",
       "50%        38.570600     -86.249600                5.000000   \n",
       "75%        41.437375     -80.048625               10.000000   \n",
       "max        71.336800      97.433100               53.000000   \n",
       "\n",
       "       state_house_district  state_senate_district  participant_age1  \\\n",
       "count         200905.000000           207342.00000     147379.000000   \n",
       "mean              55.447132               20.47711         30.295707   \n",
       "std               42.048117               14.20456         13.363592   \n",
       "min                1.000000                1.00000          0.000000   \n",
       "25%               21.000000                9.00000         21.000000   \n",
       "50%               47.000000               19.00000         27.000000   \n",
       "75%               84.000000               30.00000         37.000000   \n",
       "max              901.000000               94.00000        311.000000   \n",
       "\n",
       "             n_males      n_females       n_killed      n_injured  \\\n",
       "count  203315.000000  203315.000000  239677.000000  239677.000000   \n",
       "mean        1.520252       0.212340       0.252290       0.494007   \n",
       "std         0.996767       0.490888       0.521779       0.729952   \n",
       "min         0.000000       0.000000       0.000000       0.000000   \n",
       "25%         1.000000       0.000000       0.000000       0.000000   \n",
       "50%         1.000000       0.000000       0.000000       0.000000   \n",
       "75%         2.000000       0.000000       0.000000       1.000000   \n",
       "max        61.000000      23.000000      50.000000      53.000000   \n",
       "\n",
       "          n_arrested     n_unharmed  n_participants  \n",
       "count  212051.000000  212051.000000   239677.000000  \n",
       "mean        0.468439       0.494169        1.636895  \n",
       "std         0.851035       0.925566        1.252514  \n",
       "min         0.000000       0.000000        0.000000  \n",
       "25%         0.000000       0.000000        1.000000  \n",
       "50%         0.000000       0.000000        1.000000  \n",
       "75%         1.000000       1.000000        2.000000  \n",
       "max        63.000000      20.000000      103.000000  "
      ]
     },
     "execution_count": 202,
     "metadata": {},
     "output_type": "execute_result"
    }
   ],
   "source": [
    "df_incidents.describe()"
   ]
  },
  {
   "cell_type": "code",
   "execution_count": 203,
   "metadata": {
    "ExecuteTime": {
     "end_time": "2023-10-12T15:43:41.082692Z",
     "start_time": "2023-10-12T15:43:41.052668Z"
    },
    "collapsed": false
   },
   "outputs": [
    {
     "data": {
      "text/html": [
       "<div>\n",
       "<style scoped>\n",
       "    .dataframe tbody tr th:only-of-type {\n",
       "        vertical-align: middle;\n",
       "    }\n",
       "\n",
       "    .dataframe tbody tr th {\n",
       "        vertical-align: top;\n",
       "    }\n",
       "\n",
       "    .dataframe thead th {\n",
       "        text-align: right;\n",
       "    }\n",
       "</style>\n",
       "<table border=\"1\" class=\"dataframe\">\n",
       "  <thead>\n",
       "    <tr style=\"text-align: right;\">\n",
       "      <th></th>\n",
       "      <th>year</th>\n",
       "      <th>povertyPercentage</th>\n",
       "    </tr>\n",
       "  </thead>\n",
       "  <tbody>\n",
       "    <tr>\n",
       "      <th>count</th>\n",
       "      <td>884.000000</td>\n",
       "      <td>832.000000</td>\n",
       "    </tr>\n",
       "    <tr>\n",
       "      <th>mean</th>\n",
       "      <td>2011.998869</td>\n",
       "      <td>12.535817</td>\n",
       "    </tr>\n",
       "    <tr>\n",
       "      <th>std</th>\n",
       "      <td>4.902330</td>\n",
       "      <td>3.205233</td>\n",
       "    </tr>\n",
       "    <tr>\n",
       "      <th>min</th>\n",
       "      <td>2004.000000</td>\n",
       "      <td>5.400000</td>\n",
       "    </tr>\n",
       "    <tr>\n",
       "      <th>25%</th>\n",
       "      <td>2008.000000</td>\n",
       "      <td>10.200000</td>\n",
       "    </tr>\n",
       "    <tr>\n",
       "      <th>50%</th>\n",
       "      <td>2012.000000</td>\n",
       "      <td>12.000000</td>\n",
       "    </tr>\n",
       "    <tr>\n",
       "      <th>75%</th>\n",
       "      <td>2016.000000</td>\n",
       "      <td>14.700000</td>\n",
       "    </tr>\n",
       "    <tr>\n",
       "      <th>max</th>\n",
       "      <td>2020.000000</td>\n",
       "      <td>21.800000</td>\n",
       "    </tr>\n",
       "  </tbody>\n",
       "</table>\n",
       "</div>"
      ],
      "text/plain": [
       "              year  povertyPercentage\n",
       "count   884.000000         832.000000\n",
       "mean   2011.998869          12.535817\n",
       "std       4.902330           3.205233\n",
       "min    2004.000000           5.400000\n",
       "25%    2008.000000          10.200000\n",
       "50%    2012.000000          12.000000\n",
       "75%    2016.000000          14.700000\n",
       "max    2020.000000          21.800000"
      ]
     },
     "execution_count": 203,
     "metadata": {},
     "output_type": "execute_result"
    }
   ],
   "source": [
    "df_poverty.describe()"
   ]
  },
  {
   "cell_type": "code",
   "execution_count": 204,
   "metadata": {
    "ExecuteTime": {
     "end_time": "2023-10-12T15:42:57.017649Z",
     "start_time": "2023-10-12T15:42:56.998223Z"
    },
    "collapsed": false
   },
   "outputs": [
    {
     "data": {
      "text/html": [
       "<div>\n",
       "<style scoped>\n",
       "    .dataframe tbody tr th:only-of-type {\n",
       "        vertical-align: middle;\n",
       "    }\n",
       "\n",
       "    .dataframe tbody tr th {\n",
       "        vertical-align: top;\n",
       "    }\n",
       "\n",
       "    .dataframe thead th {\n",
       "        text-align: right;\n",
       "    }\n",
       "</style>\n",
       "<table border=\"1\" class=\"dataframe\">\n",
       "  <thead>\n",
       "    <tr style=\"text-align: right;\">\n",
       "      <th></th>\n",
       "      <th>year</th>\n",
       "      <th>congressional_district</th>\n",
       "      <th>candidatevotes</th>\n",
       "      <th>totalvotes</th>\n",
       "    </tr>\n",
       "  </thead>\n",
       "  <tbody>\n",
       "    <tr>\n",
       "      <th>count</th>\n",
       "      <td>10441.000000</td>\n",
       "      <td>10441.000000</td>\n",
       "      <td>1.044100e+04</td>\n",
       "      <td>1.044100e+04</td>\n",
       "    </tr>\n",
       "    <tr>\n",
       "      <th>mean</th>\n",
       "      <td>1999.002011</td>\n",
       "      <td>9.873096</td>\n",
       "      <td>1.345276e+05</td>\n",
       "      <td>2.076422e+05</td>\n",
       "    </tr>\n",
       "    <tr>\n",
       "      <th>std</th>\n",
       "      <td>13.845898</td>\n",
       "      <td>10.017078</td>\n",
       "      <td>5.160721e+04</td>\n",
       "      <td>8.262643e+04</td>\n",
       "    </tr>\n",
       "    <tr>\n",
       "      <th>min</th>\n",
       "      <td>1976.000000</td>\n",
       "      <td>0.000000</td>\n",
       "      <td>-1.000000e+00</td>\n",
       "      <td>-1.000000e+00</td>\n",
       "    </tr>\n",
       "    <tr>\n",
       "      <th>25%</th>\n",
       "      <td>1988.000000</td>\n",
       "      <td>3.000000</td>\n",
       "      <td>1.004870e+05</td>\n",
       "      <td>1.554510e+05</td>\n",
       "    </tr>\n",
       "    <tr>\n",
       "      <th>50%</th>\n",
       "      <td>2000.000000</td>\n",
       "      <td>6.000000</td>\n",
       "      <td>1.290850e+05</td>\n",
       "      <td>2.004450e+05</td>\n",
       "    </tr>\n",
       "    <tr>\n",
       "      <th>75%</th>\n",
       "      <td>2012.000000</td>\n",
       "      <td>13.000000</td>\n",
       "      <td>1.653710e+05</td>\n",
       "      <td>2.555770e+05</td>\n",
       "    </tr>\n",
       "    <tr>\n",
       "      <th>max</th>\n",
       "      <td>2022.000000</td>\n",
       "      <td>53.000000</td>\n",
       "      <td>1.165136e+06</td>\n",
       "      <td>2.656104e+06</td>\n",
       "    </tr>\n",
       "  </tbody>\n",
       "</table>\n",
       "</div>"
      ],
      "text/plain": [
       "               year  congressional_district  candidatevotes    totalvotes\n",
       "count  10441.000000            10441.000000    1.044100e+04  1.044100e+04\n",
       "mean    1999.002011                9.873096    1.345276e+05  2.076422e+05\n",
       "std       13.845898               10.017078    5.160721e+04  8.262643e+04\n",
       "min     1976.000000                0.000000   -1.000000e+00 -1.000000e+00\n",
       "25%     1988.000000                3.000000    1.004870e+05  1.554510e+05\n",
       "50%     2000.000000                6.000000    1.290850e+05  2.004450e+05\n",
       "75%     2012.000000               13.000000    1.653710e+05  2.555770e+05\n",
       "max     2022.000000               53.000000    1.165136e+06  2.656104e+06"
      ]
     },
     "execution_count": 204,
     "metadata": {},
     "output_type": "execute_result"
    }
   ],
   "source": [
    "df_elections.describe()"
   ]
  },
  {
   "cell_type": "code",
   "execution_count": 205,
   "metadata": {
    "ExecuteTime": {
     "end_time": "2023-10-12T14:55:04.918020Z",
     "start_time": "2023-10-12T14:55:04.899798Z"
    },
    "collapsed": false
   },
   "outputs": [
    {
     "name": "stdout",
     "output_type": "stream",
     "text": [
      "Number of distinct values in 'date': \t 2437\n"
     ]
    }
   ],
   "source": [
    "# Here we justify why the date column in df_incidents can't be used as index column\n",
    "\n",
    "print(\"Number of distinct values in 'date': \\t\", df_incidents.date.nunique())\n",
    "\n",
    "# Since there are 239677 incidents, and it turns out that there are 2437 distinct dates, we deduce that on certain dates multiple incidents occurred. In conclusion, the dates are not a unique identifier for the incidents."
   ]
  },
  {
   "cell_type": "code",
   "execution_count": 206,
   "metadata": {
    "ExecuteTime": {
     "end_time": "2023-10-12T14:56:22.600613Z",
     "start_time": "2023-10-12T14:56:22.476012Z"
    },
    "collapsed": false
   },
   "outputs": [],
   "source": [
    "# Missing values detection\n",
    "# print the n. of missing values for each attribute\n"
   ]
  },
  {
   "cell_type": "raw",
   "metadata": {
    "collapsed": false
   },
   "source": [
    "Preparation: try to fix the most important missing values, e.g. congressinal_district, n_killed, n_injured, n_participants"
   ]
  },
  {
   "cell_type": "code",
   "execution_count": 207,
   "metadata": {
    "ExecuteTime": {
     "end_time": "2023-10-12T14:58:06.225813Z",
     "start_time": "2023-10-12T14:58:06.206782Z"
    },
    "collapsed": false
   },
   "outputs": [
    {
     "data": {
      "text/plain": [
       "state                False\n",
       "year                 False\n",
       "povertyPercentage     True\n",
       "dtype: bool"
      ]
     },
     "execution_count": 207,
     "metadata": {},
     "output_type": "execute_result"
    }
   ],
   "source": [
    "df_poverty.isnull().any()"
   ]
  },
  {
   "cell_type": "code",
   "execution_count": 208,
   "metadata": {
    "ExecuteTime": {
     "end_time": "2023-10-12T14:58:18.753617Z",
     "start_time": "2023-10-12T14:58:18.733926Z"
    },
    "collapsed": false
   },
   "outputs": [
    {
     "data": {
      "text/plain": [
       "year                      False\n",
       "state                     False\n",
       "congressional_district    False\n",
       "party                     False\n",
       "candidatevotes            False\n",
       "totalvotes                False\n",
       "dtype: bool"
      ]
     },
     "execution_count": 208,
     "metadata": {},
     "output_type": "execute_result"
    }
   ],
   "source": [
    "df_elections.isnull().any()"
   ]
  },
  {
   "cell_type": "markdown",
   "metadata": {
    "collapsed": false
   },
   "source": [
    "## Data Cleaning"
   ]
  },
  {
   "cell_type": "markdown",
   "metadata": {
    "collapsed": false
   },
   "source": [
    "### Deduplication\n",
    "\n",
    "In the first place we want to see if there are duplicate rows in the datasets."
   ]
  },
  {
   "cell_type": "code",
   "execution_count": 209,
   "metadata": {
    "collapsed": false
   },
   "outputs": [
    {
     "data": {
      "text/html": [
       "<div>\n",
       "<style scoped>\n",
       "    .dataframe tbody tr th:only-of-type {\n",
       "        vertical-align: middle;\n",
       "    }\n",
       "\n",
       "    .dataframe tbody tr th {\n",
       "        vertical-align: top;\n",
       "    }\n",
       "\n",
       "    .dataframe thead th {\n",
       "        text-align: right;\n",
       "    }\n",
       "</style>\n",
       "<table border=\"1\" class=\"dataframe\">\n",
       "  <thead>\n",
       "    <tr style=\"text-align: right;\">\n",
       "      <th></th>\n",
       "      <th>date</th>\n",
       "      <th>state</th>\n",
       "      <th>city_or_county</th>\n",
       "      <th>address</th>\n",
       "      <th>latitude</th>\n",
       "      <th>longitude</th>\n",
       "      <th>congressional_district</th>\n",
       "      <th>state_house_district</th>\n",
       "      <th>state_senate_district</th>\n",
       "      <th>participant_age1</th>\n",
       "      <th>...</th>\n",
       "      <th>n_males</th>\n",
       "      <th>n_females</th>\n",
       "      <th>n_killed</th>\n",
       "      <th>n_injured</th>\n",
       "      <th>n_arrested</th>\n",
       "      <th>n_unharmed</th>\n",
       "      <th>n_participants</th>\n",
       "      <th>notes</th>\n",
       "      <th>incident_characteristics1</th>\n",
       "      <th>incident_characteristics2</th>\n",
       "    </tr>\n",
       "  </thead>\n",
       "  <tbody>\n",
       "    <tr>\n",
       "      <th>778</th>\n",
       "      <td>2015-04-27</td>\n",
       "      <td>California</td>\n",
       "      <td>Oakland</td>\n",
       "      <td>1 Airport Drive</td>\n",
       "      <td>37.7116</td>\n",
       "      <td>-122.2120</td>\n",
       "      <td>13.0</td>\n",
       "      <td>18.0</td>\n",
       "      <td>9.0</td>\n",
       "      <td>NaN</td>\n",
       "      <td>...</td>\n",
       "      <td>NaN</td>\n",
       "      <td>NaN</td>\n",
       "      <td>0</td>\n",
       "      <td>0</td>\n",
       "      <td>NaN</td>\n",
       "      <td>NaN</td>\n",
       "      <td>0.0</td>\n",
       "      <td>NaN</td>\n",
       "      <td>Non-Shooting Incident</td>\n",
       "      <td>TSA Action</td>\n",
       "    </tr>\n",
       "    <tr>\n",
       "      <th>976</th>\n",
       "      <td>2016-03-21</td>\n",
       "      <td>Utah</td>\n",
       "      <td>Salt Lake City</td>\n",
       "      <td>776 N Terminal Dr.</td>\n",
       "      <td>40.7821</td>\n",
       "      <td>-111.9800</td>\n",
       "      <td>2.0</td>\n",
       "      <td>23.0</td>\n",
       "      <td>1.0</td>\n",
       "      <td>NaN</td>\n",
       "      <td>...</td>\n",
       "      <td>NaN</td>\n",
       "      <td>NaN</td>\n",
       "      <td>0</td>\n",
       "      <td>0</td>\n",
       "      <td>NaN</td>\n",
       "      <td>NaN</td>\n",
       "      <td>0.0</td>\n",
       "      <td>9mm</td>\n",
       "      <td>Non-Shooting Incident</td>\n",
       "      <td>TSA Action</td>\n",
       "    </tr>\n",
       "    <tr>\n",
       "      <th>1614</th>\n",
       "      <td>2016-03-14</td>\n",
       "      <td>District of Columbia</td>\n",
       "      <td>Washington</td>\n",
       "      <td>NaN</td>\n",
       "      <td>38.9075</td>\n",
       "      <td>-77.0176</td>\n",
       "      <td>1.0</td>\n",
       "      <td>NaN</td>\n",
       "      <td>NaN</td>\n",
       "      <td>NaN</td>\n",
       "      <td>...</td>\n",
       "      <td>NaN</td>\n",
       "      <td>NaN</td>\n",
       "      <td>0</td>\n",
       "      <td>0</td>\n",
       "      <td>NaN</td>\n",
       "      <td>NaN</td>\n",
       "      <td>0.0</td>\n",
       "      <td>NaN</td>\n",
       "      <td>Non-Shooting Incident</td>\n",
       "      <td>Possession (gun(s) found during commission of ...</td>\n",
       "    </tr>\n",
       "    <tr>\n",
       "      <th>3303</th>\n",
       "      <td>2015-06-24</td>\n",
       "      <td>Texas</td>\n",
       "      <td>San Antonio</td>\n",
       "      <td>9800 Airport Boulevard</td>\n",
       "      <td>29.5217</td>\n",
       "      <td>-98.4767</td>\n",
       "      <td>21.0</td>\n",
       "      <td>121.0</td>\n",
       "      <td>25.0</td>\n",
       "      <td>NaN</td>\n",
       "      <td>...</td>\n",
       "      <td>NaN</td>\n",
       "      <td>NaN</td>\n",
       "      <td>0</td>\n",
       "      <td>0</td>\n",
       "      <td>NaN</td>\n",
       "      <td>NaN</td>\n",
       "      <td>0.0</td>\n",
       "      <td>NaN</td>\n",
       "      <td>Non-Shooting Incident</td>\n",
       "      <td>TSA Action</td>\n",
       "    </tr>\n",
       "    <tr>\n",
       "      <th>3391</th>\n",
       "      <td>2015-09-04</td>\n",
       "      <td>Georgia</td>\n",
       "      <td>Atlanta</td>\n",
       "      <td>6000 North Terminal Parkway</td>\n",
       "      <td>33.6356</td>\n",
       "      <td>-84.4333</td>\n",
       "      <td>5.0</td>\n",
       "      <td>60.0</td>\n",
       "      <td>34.0</td>\n",
       "      <td>NaN</td>\n",
       "      <td>...</td>\n",
       "      <td>NaN</td>\n",
       "      <td>NaN</td>\n",
       "      <td>0</td>\n",
       "      <td>0</td>\n",
       "      <td>NaN</td>\n",
       "      <td>NaN</td>\n",
       "      <td>0.0</td>\n",
       "      <td>NaN</td>\n",
       "      <td>Non-Shooting Incident</td>\n",
       "      <td>TSA Action</td>\n",
       "    </tr>\n",
       "    <tr>\n",
       "      <th>...</th>\n",
       "      <td>...</td>\n",
       "      <td>...</td>\n",
       "      <td>...</td>\n",
       "      <td>...</td>\n",
       "      <td>...</td>\n",
       "      <td>...</td>\n",
       "      <td>...</td>\n",
       "      <td>...</td>\n",
       "      <td>...</td>\n",
       "      <td>...</td>\n",
       "      <td>...</td>\n",
       "      <td>...</td>\n",
       "      <td>...</td>\n",
       "      <td>...</td>\n",
       "      <td>...</td>\n",
       "      <td>...</td>\n",
       "      <td>...</td>\n",
       "      <td>...</td>\n",
       "      <td>...</td>\n",
       "      <td>...</td>\n",
       "      <td>...</td>\n",
       "    </tr>\n",
       "    <tr>\n",
       "      <th>237755</th>\n",
       "      <td>2015-12-29</td>\n",
       "      <td>District of Columbia</td>\n",
       "      <td>Washington</td>\n",
       "      <td>NaN</td>\n",
       "      <td>38.9075</td>\n",
       "      <td>-77.0176</td>\n",
       "      <td>1.0</td>\n",
       "      <td>NaN</td>\n",
       "      <td>NaN</td>\n",
       "      <td>NaN</td>\n",
       "      <td>...</td>\n",
       "      <td>NaN</td>\n",
       "      <td>NaN</td>\n",
       "      <td>0</td>\n",
       "      <td>0</td>\n",
       "      <td>1.0</td>\n",
       "      <td>0.0</td>\n",
       "      <td>1.0</td>\n",
       "      <td>NaN</td>\n",
       "      <td>Non-Shooting Incident</td>\n",
       "      <td>Possession (gun(s) found during commission of ...</td>\n",
       "    </tr>\n",
       "    <tr>\n",
       "      <th>238138</th>\n",
       "      <td>2016-02-19</td>\n",
       "      <td>Maryland</td>\n",
       "      <td>Baltimore</td>\n",
       "      <td>PO BOX 8766</td>\n",
       "      <td>39.1841</td>\n",
       "      <td>-76.6711</td>\n",
       "      <td>3.0</td>\n",
       "      <td>32.0</td>\n",
       "      <td>32.0</td>\n",
       "      <td>NaN</td>\n",
       "      <td>...</td>\n",
       "      <td>NaN</td>\n",
       "      <td>NaN</td>\n",
       "      <td>0</td>\n",
       "      <td>0</td>\n",
       "      <td>NaN</td>\n",
       "      <td>NaN</td>\n",
       "      <td>0.0</td>\n",
       "      <td>NaN</td>\n",
       "      <td>Non-Shooting Incident</td>\n",
       "      <td>TSA Action</td>\n",
       "    </tr>\n",
       "    <tr>\n",
       "      <th>239260</th>\n",
       "      <td>2015-01-14</td>\n",
       "      <td>Oklahoma</td>\n",
       "      <td>Oklahoma City</td>\n",
       "      <td>7100 Terminal Dr</td>\n",
       "      <td>35.3953</td>\n",
       "      <td>-97.5966</td>\n",
       "      <td>5.0</td>\n",
       "      <td>90.0</td>\n",
       "      <td>44.0</td>\n",
       "      <td>NaN</td>\n",
       "      <td>...</td>\n",
       "      <td>NaN</td>\n",
       "      <td>NaN</td>\n",
       "      <td>0</td>\n",
       "      <td>0</td>\n",
       "      <td>NaN</td>\n",
       "      <td>NaN</td>\n",
       "      <td>0.0</td>\n",
       "      <td>Will Rogers World Airport</td>\n",
       "      <td>TSA Action</td>\n",
       "      <td>NaN</td>\n",
       "    </tr>\n",
       "    <tr>\n",
       "      <th>239354</th>\n",
       "      <td>2030-04-03</td>\n",
       "      <td>New York</td>\n",
       "      <td>Rochester</td>\n",
       "      <td>1200 Brooks Ave</td>\n",
       "      <td>43.1309</td>\n",
       "      <td>-77.6696</td>\n",
       "      <td>25.0</td>\n",
       "      <td>137.0</td>\n",
       "      <td>56.0</td>\n",
       "      <td>NaN</td>\n",
       "      <td>...</td>\n",
       "      <td>1.0</td>\n",
       "      <td>0.0</td>\n",
       "      <td>0</td>\n",
       "      <td>0</td>\n",
       "      <td>0.0</td>\n",
       "      <td>1.0</td>\n",
       "      <td>1.0</td>\n",
       "      <td>TSA</td>\n",
       "      <td>Non-Shooting Incident</td>\n",
       "      <td>TSA Action</td>\n",
       "    </tr>\n",
       "    <tr>\n",
       "      <th>239520</th>\n",
       "      <td>2016-03-28</td>\n",
       "      <td>District of Columbia</td>\n",
       "      <td>Washington</td>\n",
       "      <td>NaN</td>\n",
       "      <td>38.9075</td>\n",
       "      <td>-77.0176</td>\n",
       "      <td>1.0</td>\n",
       "      <td>NaN</td>\n",
       "      <td>NaN</td>\n",
       "      <td>NaN</td>\n",
       "      <td>...</td>\n",
       "      <td>NaN</td>\n",
       "      <td>NaN</td>\n",
       "      <td>0</td>\n",
       "      <td>0</td>\n",
       "      <td>1.0</td>\n",
       "      <td>0.0</td>\n",
       "      <td>1.0</td>\n",
       "      <td>NaN</td>\n",
       "      <td>Non-Shooting Incident</td>\n",
       "      <td>Possession (gun(s) found during commission of ...</td>\n",
       "    </tr>\n",
       "  </tbody>\n",
       "</table>\n",
       "<p>573 rows × 28 columns</p>\n",
       "</div>"
      ],
      "text/plain": [
       "              date                 state  city_or_county  \\\n",
       "778     2015-04-27            California         Oakland   \n",
       "976     2016-03-21                  Utah  Salt Lake City   \n",
       "1614    2016-03-14  District of Columbia      Washington   \n",
       "3303    2015-06-24                 Texas     San Antonio   \n",
       "3391    2015-09-04               Georgia         Atlanta   \n",
       "...            ...                   ...             ...   \n",
       "237755  2015-12-29  District of Columbia      Washington   \n",
       "238138  2016-02-19              Maryland       Baltimore   \n",
       "239260  2015-01-14              Oklahoma   Oklahoma City   \n",
       "239354  2030-04-03              New York       Rochester   \n",
       "239520  2016-03-28  District of Columbia      Washington   \n",
       "\n",
       "                            address  latitude  longitude  \\\n",
       "778                 1 Airport Drive   37.7116  -122.2120   \n",
       "976              776 N Terminal Dr.   40.7821  -111.9800   \n",
       "1614                            NaN   38.9075   -77.0176   \n",
       "3303         9800 Airport Boulevard   29.5217   -98.4767   \n",
       "3391    6000 North Terminal Parkway   33.6356   -84.4333   \n",
       "...                             ...       ...        ...   \n",
       "237755                          NaN   38.9075   -77.0176   \n",
       "238138                  PO BOX 8766   39.1841   -76.6711   \n",
       "239260             7100 Terminal Dr   35.3953   -97.5966   \n",
       "239354              1200 Brooks Ave   43.1309   -77.6696   \n",
       "239520                          NaN   38.9075   -77.0176   \n",
       "\n",
       "        congressional_district  state_house_district  state_senate_district  \\\n",
       "778                       13.0                  18.0                    9.0   \n",
       "976                        2.0                  23.0                    1.0   \n",
       "1614                       1.0                   NaN                    NaN   \n",
       "3303                      21.0                 121.0                   25.0   \n",
       "3391                       5.0                  60.0                   34.0   \n",
       "...                        ...                   ...                    ...   \n",
       "237755                     1.0                   NaN                    NaN   \n",
       "238138                     3.0                  32.0                   32.0   \n",
       "239260                     5.0                  90.0                   44.0   \n",
       "239354                    25.0                 137.0                   56.0   \n",
       "239520                     1.0                   NaN                    NaN   \n",
       "\n",
       "        participant_age1  ... n_males n_females n_killed n_injured n_arrested  \\\n",
       "778                  NaN  ...     NaN       NaN        0         0        NaN   \n",
       "976                  NaN  ...     NaN       NaN        0         0        NaN   \n",
       "1614                 NaN  ...     NaN       NaN        0         0        NaN   \n",
       "3303                 NaN  ...     NaN       NaN        0         0        NaN   \n",
       "3391                 NaN  ...     NaN       NaN        0         0        NaN   \n",
       "...                  ...  ...     ...       ...      ...       ...        ...   \n",
       "237755               NaN  ...     NaN       NaN        0         0        1.0   \n",
       "238138               NaN  ...     NaN       NaN        0         0        NaN   \n",
       "239260               NaN  ...     NaN       NaN        0         0        NaN   \n",
       "239354               NaN  ...     1.0       0.0        0         0        0.0   \n",
       "239520               NaN  ...     NaN       NaN        0         0        1.0   \n",
       "\n",
       "       n_unharmed n_participants                      notes  \\\n",
       "778           NaN            0.0                        NaN   \n",
       "976           NaN            0.0                        9mm   \n",
       "1614          NaN            0.0                        NaN   \n",
       "3303          NaN            0.0                        NaN   \n",
       "3391          NaN            0.0                        NaN   \n",
       "...           ...            ...                        ...   \n",
       "237755        0.0            1.0                        NaN   \n",
       "238138        NaN            0.0                        NaN   \n",
       "239260        NaN            0.0  Will Rogers World Airport   \n",
       "239354        1.0            1.0                        TSA   \n",
       "239520        0.0            1.0                        NaN   \n",
       "\n",
       "        incident_characteristics1  \\\n",
       "778         Non-Shooting Incident   \n",
       "976         Non-Shooting Incident   \n",
       "1614        Non-Shooting Incident   \n",
       "3303        Non-Shooting Incident   \n",
       "3391        Non-Shooting Incident   \n",
       "...                           ...   \n",
       "237755      Non-Shooting Incident   \n",
       "238138      Non-Shooting Incident   \n",
       "239260                 TSA Action   \n",
       "239354      Non-Shooting Incident   \n",
       "239520      Non-Shooting Incident   \n",
       "\n",
       "                                incident_characteristics2  \n",
       "778                                            TSA Action  \n",
       "976                                            TSA Action  \n",
       "1614    Possession (gun(s) found during commission of ...  \n",
       "3303                                           TSA Action  \n",
       "3391                                           TSA Action  \n",
       "...                                                   ...  \n",
       "237755  Possession (gun(s) found during commission of ...  \n",
       "238138                                         TSA Action  \n",
       "239260                                                NaN  \n",
       "239354                                         TSA Action  \n",
       "239520  Possession (gun(s) found during commission of ...  \n",
       "\n",
       "[573 rows x 28 columns]"
      ]
     },
     "execution_count": 209,
     "metadata": {},
     "output_type": "execute_result"
    }
   ],
   "source": [
    "# We want to see if there are duplicate rows in df_incidents\n",
    "df_incidents[df_incidents.duplicated(keep=False)]"
   ]
  },
  {
   "cell_type": "code",
   "execution_count": 210,
   "metadata": {
    "collapsed": false
   },
   "outputs": [
    {
     "data": {
      "text/html": [
       "<div>\n",
       "<style scoped>\n",
       "    .dataframe tbody tr th:only-of-type {\n",
       "        vertical-align: middle;\n",
       "    }\n",
       "\n",
       "    .dataframe tbody tr th {\n",
       "        vertical-align: top;\n",
       "    }\n",
       "\n",
       "    .dataframe thead th {\n",
       "        text-align: right;\n",
       "    }\n",
       "</style>\n",
       "<table border=\"1\" class=\"dataframe\">\n",
       "  <thead>\n",
       "    <tr style=\"text-align: right;\">\n",
       "      <th></th>\n",
       "      <th>date</th>\n",
       "      <th>state</th>\n",
       "      <th>city_or_county</th>\n",
       "      <th>address</th>\n",
       "      <th>latitude</th>\n",
       "      <th>longitude</th>\n",
       "      <th>congressional_district</th>\n",
       "      <th>state_house_district</th>\n",
       "      <th>state_senate_district</th>\n",
       "      <th>participant_age1</th>\n",
       "      <th>...</th>\n",
       "      <th>n_males</th>\n",
       "      <th>n_females</th>\n",
       "      <th>n_killed</th>\n",
       "      <th>n_injured</th>\n",
       "      <th>n_arrested</th>\n",
       "      <th>n_unharmed</th>\n",
       "      <th>n_participants</th>\n",
       "      <th>notes</th>\n",
       "      <th>incident_characteristics1</th>\n",
       "      <th>incident_characteristics2</th>\n",
       "    </tr>\n",
       "  </thead>\n",
       "  <tbody>\n",
       "  </tbody>\n",
       "</table>\n",
       "<p>0 rows × 28 columns</p>\n",
       "</div>"
      ],
      "text/plain": [
       "Empty DataFrame\n",
       "Columns: [date, state, city_or_county, address, latitude, longitude, congressional_district, state_house_district, state_senate_district, participant_age1, participant_age_group1, participant_gender1, min_age_participants, avg_age_participants, max_age_participants, n_participants_child, n_participants_teen, n_participants_adult, n_males, n_females, n_killed, n_injured, n_arrested, n_unharmed, n_participants, notes, incident_characteristics1, incident_characteristics2]\n",
       "Index: []\n",
       "\n",
       "[0 rows x 28 columns]"
      ]
     },
     "execution_count": 210,
     "metadata": {},
     "output_type": "execute_result"
    }
   ],
   "source": [
    "df_incidents.drop_duplicates(inplace=True) # we drop the duplicated rows from the dataframe.\n",
    "# now there are not dup rows anymore, as we can check:\n",
    "df_incidents[df_incidents.duplicated()]"
   ]
  },
  {
   "cell_type": "markdown",
   "metadata": {},
   "source": [
    "### Dtype casting\n",
    "Now, we convert attributes in the desired data type.\n"
   ]
  },
  {
   "cell_type": "code",
   "execution_count": 211,
   "metadata": {},
   "outputs": [
    {
     "name": "stdout",
     "output_type": "stream",
     "text": [
      "Int64Index([2015, 2017, 2016, 2030, 2014, 2018, 2029, 2013, 2028], dtype='int64', name='date')\n",
      "Int64Index([5, 4, 11, 10, 6, 1, 3, 8, 12, 2, 7, 9], dtype='int64', name='date')\n",
      "Int64Index([ 2,  3,  5, 15, 14, 18, 25, 16,  1, 22, 19, 21,  6, 17, 26, 11, 27,\n",
      "             8, 30, 13, 23,  7,  4,  9, 28, 29, 24, 20, 12, 10, 31],\n",
      "           dtype='int64', name='date')\n"
     ]
    }
   ],
   "source": [
    "df_incidents.date=pd.to_datetime(df_incidents.date) # we convert the date column to datetime type\n",
    "print(pd.DatetimeIndex(df_incidents.date).year.unique()) # we check that the year column is correct\n",
    "print(pd.DatetimeIndex(df_incidents.date).month.unique()) # we check that the month column is correct\n",
    "print(pd.DatetimeIndex(df_incidents.date).day.unique()) # we check that the day column is correct\n"
   ]
  },
  {
   "cell_type": "code",
   "execution_count": 212,
   "metadata": {},
   "outputs": [
    {
     "data": {
      "text/plain": [
       "<StringArray>\n",
       "[             'Indiana',         'Pennsylvania',             'Michigan',\n",
       " 'District of Columbia',       'North Carolina',            'Louisiana',\n",
       "          'Connecticut',             'Virginia',             'Oklahoma',\n",
       "             'New York',             'Missouri',           'California',\n",
       "                'Texas',             'Illinois',                 'Ohio',\n",
       "           'Washington',              'Florida',       'South Carolina',\n",
       "              'Georgia',        'Massachusetts',            'Tennessee',\n",
       "        'West Virginia',           'New Jersey',             'Arkansas',\n",
       "         'Rhode Island',                'Maine',               'Nevada',\n",
       "             'Colorado',           'New Mexico',             'Maryland',\n",
       "               'Oregon',         'South Dakota',             'Kentucky',\n",
       "              'Alabama',              'Arizona',            'Minnesota',\n",
       "            'Wisconsin',          'Mississippi',               'Kansas',\n",
       "                 'Iowa',              'Wyoming',             'Nebraska',\n",
       "               'Alaska',                 'Utah',              'Montana',\n",
       "               'Hawaii',             'Delaware',                'Idaho',\n",
       "        'New Hampshire',              'Vermont',         'North Dakota']\n",
       "Length: 51, dtype: string"
      ]
     },
     "execution_count": 212,
     "metadata": {},
     "output_type": "execute_result"
    }
   ],
   "source": [
    "df_incidents.state= df_incidents.state.astype('string')\n",
    "df_incidents.state.unique() "
   ]
  },
  {
   "cell_type": "code",
   "execution_count": 213,
   "metadata": {},
   "outputs": [],
   "source": [
    "df_incidents.city_or_county= df_incidents.city_or_county.astype('string')\n",
    "df_incidents.address= df_incidents.address.astype('string')"
   ]
  },
  {
   "cell_type": "code",
   "execution_count": 214,
   "metadata": {},
   "outputs": [],
   "source": [
    "df_incidents.congressional_district= df_incidents.congressional_district.astype('Int64')"
   ]
  },
  {
   "cell_type": "code",
   "execution_count": 215,
   "metadata": {},
   "outputs": [
    {
     "name": "stdout",
     "output_type": "stream",
     "text": [
      "['Adult 18+' nan 'Teen 12-17' 'Child 0-11']\n"
     ]
    }
   ],
   "source": [
    "print(df_incidents.participant_age_group1.unique())\n",
    "df_incidents.participant_age_group1= df_incidents.participant_age_group1.astype('string')"
   ]
  },
  {
   "cell_type": "code",
   "execution_count": 216,
   "metadata": {},
   "outputs": [
    {
     "name": "stdout",
     "output_type": "stream",
     "text": [
      "['Male' nan 'Female' 'Male, female']\n",
      "Male            177899\n",
      "Female           25366\n",
      "Male, female         1\n",
      "Name: participant_gender1, dtype: int64\n",
      "<StringArray>\n",
      "['Male', <NA>, 'Female', 'Male, female']\n",
      "Length: 4, dtype: string\n"
     ]
    }
   ],
   "source": [
    "print(df_incidents.participant_gender1.unique())\n",
    "# print how many of each value there are\n",
    "print(df_incidents.participant_gender1.value_counts()) # there is only one that is labelled 'Male, female'\n",
    "# we decided to convert 'Male, female' to nan\n",
    "df_incidents.participant_gender1= df_incidents.participant_gender1.astype('string')\n",
    "print(df_incidents.participant_gender1.unique())\n"
   ]
  },
  {
   "cell_type": "code",
   "execution_count": null,
   "metadata": {},
   "outputs": [],
   "source": []
  },
  {
   "cell_type": "code",
   "execution_count": 217,
   "metadata": {},
   "outputs": [],
   "source": [
    "# convert the ages that are strings to nan\n",
    "def convert_to_float(x):\n",
    "    '''\n",
    "    This function checks if a string can be converted to a float.\n",
    "    '''\n",
    "    try:\n",
    "        return float(x)\n",
    "          \n",
    "    except ValueError:\n",
    "        return np.nan\n",
    "\n",
    "# convert the ages that are strings to nan\n",
    "df_incidents.min_age_participants=df_incidents.min_age_participants.apply(lambda x: convert_to_float(x))\n",
    "df_incidents.min_age_participants= df_incidents.min_age_participants.astype('Float64')\n",
    "\n",
    "# same for max_age and avg_age\n",
    "df_incidents.max_age_participants=df_incidents.max_age_participants.apply(lambda x: convert_to_float(x))\n",
    "df_incidents.max_age_participants= df_incidents.max_age_participants.astype('Float64')\n",
    "\n",
    "df_incidents.avg_age_participants=df_incidents.avg_age_participants.apply(lambda x: convert_to_float(x))\n",
    "df_incidents.avg_age_participants= df_incidents.avg_age_participants.astype('Float64')\n"
   ]
  },
  {
   "cell_type": "code",
   "execution_count": 218,
   "metadata": {},
   "outputs": [
    {
     "name": "stdout",
     "output_type": "stream",
     "text": [
      "['0.0' nan '1.0' '2.0' '3.0' '835473' '5.0' '4.0' '124130.0' '436587'\n",
      " '6yb1lceu3v' '6.0' '7.0' '886365.0' 'z6sp' '607874' '292381' '-73' '11.0'\n",
      " '25yerfqn6' '8.0' '-977.0' '77mw3iw3' '-884.0' 'j34' '-252.0']\n",
      "['0.0' nan '1.0' '2.0' '3.0' '4.0' '5.0' '15.0' '-864' '6.0' '7.0'\n",
      " '762487' '-753' '-854' '444036' '-138' '10.0' 'ymwa4vyx' '9.0' '27.0'\n",
      " 'akendyt6a' '-927' '-130' 'x2aqam13iy' '445652' 'eqsa' '8.0' '-49'\n",
      " 'nt082ps' '-873' '-427' '-947' 'wcrt3x4' 'p2eyl']\n",
      "['1.0' nan '5.0' '0.0' '3.0' '4.0' '2.0' '6.0' '7.0' '8.0' '10.0' '9.0'\n",
      " '28.0' '24.0' '12.0' '17.0' '13.0' '33.0' '16.0' '15.0' '638402.0' '11.0'\n",
      " '425457' '29.0' '18.0' '-496' '20.0' '21.0' 'ipw' '14.0' '32.0' '-991'\n",
      " '5uw' '-673' '22.0' '27.0' '-267' '19.0' '686533' '479961' '30.0'\n",
      " '298481' '63.0' '-601' '-918' '-622' 'jbpiz8upz' '25.0' '827900' '-355.0'\n",
      " '103.0']\n",
      "converted values\n",
      "<FloatingArray>\n",
      "[     0.0,     <NA>,      1.0,      2.0,      3.0, 835473.0,      5.0,\n",
      "      4.0, 124130.0, 436587.0,      6.0,      7.0, 886365.0, 607874.0,\n",
      " 292381.0,    -73.0,     11.0,      8.0,   -977.0,   -884.0,   -252.0]\n",
      "Length: 21, dtype: Float64\n"
     ]
    }
   ],
   "source": [
    "# we see the values for n_participants_child, teen and adult\n",
    "print(df_incidents.n_participants_child.unique())\n",
    "print(df_incidents.n_participants_teen.unique())\n",
    "print(df_incidents.n_participants_adult.unique())\n",
    "\n",
    "# convert the values that are strings to nan\n",
    "df_incidents.n_participants_child=df_incidents.n_participants_child.apply(lambda x: np.nan if is_number(x)==False else x)\n",
    "df_incidents.n_participants_child= df_incidents.n_participants_child.astype('Float64')\n",
    "\n",
    "df_incidents.n_participants_teen=df_incidents.n_participants_teen.apply(lambda x: np.nan if is_number(x)==False else x)\n",
    "df_incidents.n_participants_teen= df_incidents.n_participants_teen.astype('Float64')\n",
    "\n",
    "df_incidents.n_participants_adult=df_incidents.n_participants_adult.apply(lambda x: np.nan if is_number(x)==False else x)\n",
    "df_incidents.n_participants_adult= df_incidents.n_participants_adult.astype('Float64')\n",
    "print('converted values')\n",
    "print(df_incidents.n_participants_child.unique())"
   ]
  },
  {
   "cell_type": "code",
   "execution_count": 219,
   "metadata": {},
   "outputs": [
    {
     "name": "stdout",
     "output_type": "stream",
     "text": [
      "Shot - Wounded/Injured                                                                                  93910\n",
      "Shot - Dead (murder, accidental, suicide)                                                               45051\n",
      "Non-Shooting Incident                                                                                   41399\n",
      "Shots Fired - No Injuries                                                                               33940\n",
      "Armed robbery with injury/death and/or evidence of DGU found                                             7520\n",
      "Institution/Group/Business                                                                               4316\n",
      "TSA Action                                                                                               2561\n",
      "Brandishing/flourishing/open carry/lost/found                                                            1350\n",
      "Home Invasion                                                                                            1321\n",
      "Possession (gun(s) found during commission of other crimes)                                              1291\n",
      "Drug involvement                                                                                         1004\n",
      "Shots fired, no action (reported, no evidence found)                                                      959\n",
      "Gun(s) stolen from owner                                                                                  834\n",
      "Officer Involved Incident                                                                                 692\n",
      "ATF/LE Confiscation/Raid/Arrest                                                                           450\n",
      "Car-jacking                                                                                               389\n",
      "Animal shot/killed                                                                                        309\n",
      "Domestic Violence                                                                                         234\n",
      "Accidental Shooting                                                                                       229\n",
      "Gang involvement                                                                                          176\n",
      "School Incident                                                                                           118\n",
      "Sex crime involving firearm                                                                               103\n",
      "Kidnapping/abductions/hostage                                                                              95\n",
      "Drive-by (car to street, car to car)                                                                       89\n",
      "Implied Weapon                                                                                             88\n",
      "Pistol-whipping                                                                                            87\n",
      "Suicide - Attempt                                                                                          76\n",
      "Possession of gun by felon or prohibited person                                                            63\n",
      "Gun buy back action                                                                                        58\n",
      "Non-Aggression Incident                                                                                    51\n",
      "Defensive Use                                                                                              50\n",
      "Suicide^                                                                                                   34\n",
      "Criminal act with stolen gun                                                                               30\n",
      "Road rage                                                                                                  28\n",
      "Gun at school, no death/injury - elementary/secondary school                                               25\n",
      "Murder/Suicide                                                                                             24\n",
      "Bar/club incident - in or around establishment                                                             23\n",
      "LOCKDOWN/ALERT ONLY: No GV Incident Occurred Onsite                                                        13\n",
      "Guns stolen from law enforcement                                                                           10\n",
      "Stolen/Illegally owned gun{s} recovered during arrest/warrant                                               8\n",
      "Attempted Murder/Suicide (one variable unsuccessful)                                                        7\n",
      "BB/Pellet/Replica gun                                                                                       6\n",
      "Under the influence of alcohol or drugs (only applies to the subject/suspect/perpetrator )                  6\n",
      "Gun shop robbery or burglary                                                                                5\n",
      "ShotSpotter                                                                                                 5\n",
      "Child Involved Incident                                                                                     4\n",
      "Spree Shooting (multiple victims, multiple locations)                                                       4\n",
      "Hate crime                                                                                                  4\n",
      "House party                                                                                                 3\n",
      "Mass Shooting (4+ victims injured or killed excluding the subject/suspect/perpetrator, one location)        1\n",
      "Unlawful purchase/sale                                                                                      1\n",
      "Gun range/gun shop/gun show shooting                                                                        1\n",
      "Name: incident_characteristics1, dtype: int64\n",
      "Officer Involved Incident                                                  13879\n",
      "Drive-by (car to street, car to car)                                       11870\n",
      "Drug involvement                                                           11714\n",
      "Home Invasion                                                               8664\n",
      "Shot - Dead (murder, accidental, suicide)                                   8345\n",
      "                                                                           ...  \n",
      "Cleaning gun                                                                   1\n",
      "Child with gun - no shots fired                                                1\n",
      "Defensive Use - Crime occurs, victim shoots subject/suspect/perpetrator        1\n",
      "Officer Involved Shooting - Officer killed                                     1\n",
      "Hunting accident                                                               1\n",
      "Name: incident_characteristics2, Length: 90, dtype: int64\n"
     ]
    }
   ],
   "source": [
    "print(df_incidents.incident_characteristics1.value_counts())\n",
    "print(df_incidents.incident_characteristics2.value_counts())\n",
    "# spostare"
   ]
  },
  {
   "cell_type": "code",
   "execution_count": 220,
   "metadata": {},
   "outputs": [
    {
     "name": "stdout",
     "output_type": "stream",
     "text": [
      "<StringArray>\n",
      "[       'United States',              'Alabama',               'Alaska',\n",
      "              'Arizona',             'Arkansas',           'California',\n",
      "             'Colorado',          'Connecticut',             'Delaware',\n",
      " 'District of Columbia',              'Florida',              'Georgia',\n",
      "               'Hawaii',                'Idaho',             'Illinois',\n",
      "              'Indiana',                 'Iowa',               'Kansas',\n",
      "             'Kentucky',            'Louisiana',                'Maine',\n",
      "             'Maryland',        'Massachusetts',             'Michigan',\n",
      "            'Minnesota',          'Mississippi',             'Missouri',\n",
      "              'Montana',             'Nebraska',               'Nevada',\n",
      "        'New Hampshire',           'New Jersey',           'New Mexico',\n",
      "             'New York',       'North Carolina',         'North Dakota',\n",
      "                 'Ohio',             'Oklahoma',               'Oregon',\n",
      "         'Pennsylvania',         'Rhode Island',       'South Carolina',\n",
      "         'South Dakota',            'Tennessee',                'Texas',\n",
      "                 'Utah',              'Vermont',             'Virginia',\n",
      "           'Washington',        'West Virginia',            'Wisconsin',\n",
      "              'Wyoming']\n",
      "Length: 52, dtype: string\n"
     ]
    }
   ],
   "source": [
    "df_poverty.state= df_poverty.state.astype('string') \n",
    "print(df_poverty.state.unique())\n"
   ]
  },
  {
   "cell_type": "code",
   "execution_count": 221,
   "metadata": {},
   "outputs": [],
   "source": [
    "df_elections.state= df_elections.state.astype('string')\n",
    "df_elections.party= df_elections.party.astype('string')"
   ]
  },
  {
   "cell_type": "code",
   "execution_count": 256,
   "metadata": {},
   "outputs": [
    {
     "data": {
      "text/plain": [
       "70729          7000000.0\n",
       "113856    900000000000.0\n",
       "Name: min_age_participants, dtype: Float64"
      ]
     },
     "execution_count": 256,
     "metadata": {},
     "output_type": "execute_result"
    }
   ],
   "source": [
    "df_incidents.min_age_participants[df_incidents.min_age_participants>1000000 ]"
   ]
  },
  {
   "cell_type": "markdown",
   "metadata": {},
   "source": [
    "### Incoherent data \n",
    "Now, we fix data that are clearly non coherent, for example negative ages or too big number of participants, and variables of the wrong types, e.g. alphanumeric strings for ages etc.\n",
    "For now, we"
   ]
  },
  {
   "cell_type": "markdown",
   "metadata": {
    "collapsed": false
   },
   "source": [
    "## Data quality"
   ]
  },
  {
   "cell_type": "markdown",
   "metadata": {
    "collapsed": false
   },
   "source": [
    "#### Incidents"
   ]
  },
  {
   "cell_type": "code",
   "execution_count": 22,
   "metadata": {
    "ExecuteTime": {
     "end_time": "2023-10-12T16:49:34.349620Z",
     "start_time": "2023-10-12T16:49:34.173280Z"
    },
    "collapsed": false
   },
   "outputs": [
    {
     "data": {
      "image/png": "[encoded data removed]",
      "text/plain": [
       "<Figure size 640x480 with 1 Axes>"
      ]
     },
     "metadata": {},
     "output_type": "display_data"
    }
   ],
   "source": [
    "# We want to identify the dates in df_incidents that are erroneous\n",
    "\n",
    "df_incidents.date = pd.to_datetime(df_incidents.date, errors='coerce') # the invalid dates are set to NaT (=Not a Time)\n",
    "\n",
    "df_incidents.date.groupby(df_incidents.date.dt.year).count().plot(kind='bar')\n",
    "plt.show()\n",
    "\n",
    "# From the following histogram we deduce that there are some incidents that should have happened after 2023 (the year we are in), so it is certainly impossible for us to have this data today"
   ]
  },
  {
   "cell_type": "code",
   "execution_count": 23,
   "metadata": {
    "collapsed": false
   },
   "outputs": [
    {
     "data": {
      "text/html": [
       "<div>\n",
       "<style scoped>\n",
       "    .dataframe tbody tr th:only-of-type {\n",
       "        vertical-align: middle;\n",
       "    }\n",
       "\n",
       "    .dataframe tbody tr th {\n",
       "        vertical-align: top;\n",
       "    }\n",
       "\n",
       "    .dataframe thead th {\n",
       "        text-align: right;\n",
       "    }\n",
       "</style>\n",
       "<table border=\"1\" class=\"dataframe\">\n",
       "  <thead>\n",
       "    <tr style=\"text-align: right;\">\n",
       "      <th></th>\n",
       "      <th>date</th>\n",
       "      <th>state</th>\n",
       "      <th>city_or_county</th>\n",
       "      <th>address</th>\n",
       "      <th>latitude</th>\n",
       "      <th>longitude</th>\n",
       "      <th>congressional_district</th>\n",
       "      <th>state_house_district</th>\n",
       "      <th>state_senate_district</th>\n",
       "      <th>participant_age1</th>\n",
       "      <th>...</th>\n",
       "      <th>n_males</th>\n",
       "      <th>n_females</th>\n",
       "      <th>n_killed</th>\n",
       "      <th>n_injured</th>\n",
       "      <th>n_arrested</th>\n",
       "      <th>n_unharmed</th>\n",
       "      <th>n_participants</th>\n",
       "      <th>notes</th>\n",
       "      <th>incident_characteristics1</th>\n",
       "      <th>incident_characteristics2</th>\n",
       "    </tr>\n",
       "  </thead>\n",
       "  <tbody>\n",
       "    <tr>\n",
       "      <th>82</th>\n",
       "      <td>2029-05-13</td>\n",
       "      <td>New Mexico</td>\n",
       "      <td>Albuquerque</td>\n",
       "      <td>8700 block of Spotted Pony SW</td>\n",
       "      <td>35.0419</td>\n",
       "      <td>-106.7300</td>\n",
       "      <td>1.0</td>\n",
       "      <td>13.0</td>\n",
       "      <td>11.0</td>\n",
       "      <td>NaN</td>\n",
       "      <td>...</td>\n",
       "      <td>1.0</td>\n",
       "      <td>0.0</td>\n",
       "      <td>1</td>\n",
       "      <td>0</td>\n",
       "      <td>0.0</td>\n",
       "      <td>0.0</td>\n",
       "      <td>1.0</td>\n",
       "      <td>1mvk</td>\n",
       "      <td>Shot - Dead (murder, accidental, suicide)</td>\n",
       "      <td>NaN</td>\n",
       "    </tr>\n",
       "    <tr>\n",
       "      <th>108</th>\n",
       "      <td>2030-11-14</td>\n",
       "      <td>New York</td>\n",
       "      <td>Watertown</td>\n",
       "      <td>Route 11</td>\n",
       "      <td>43.9685</td>\n",
       "      <td>-75.9121</td>\n",
       "      <td>21.0</td>\n",
       "      <td>116.0</td>\n",
       "      <td>48.0</td>\n",
       "      <td>NaN</td>\n",
       "      <td>...</td>\n",
       "      <td>1.0</td>\n",
       "      <td>0.0</td>\n",
       "      <td>1</td>\n",
       "      <td>0</td>\n",
       "      <td>0.0</td>\n",
       "      <td>0.0</td>\n",
       "      <td>1.0</td>\n",
       "      <td>near County Rd 67, ofc followed truck, man sho...</td>\n",
       "      <td>Shot - Dead (murder, accidental, suicide)</td>\n",
       "      <td>Suicide^</td>\n",
       "    </tr>\n",
       "    <tr>\n",
       "      <th>186</th>\n",
       "      <td>2029-10-22</td>\n",
       "      <td>Arizona</td>\n",
       "      <td>Phoenix</td>\n",
       "      <td>2200 North 59th Avenue</td>\n",
       "      <td>33.4715</td>\n",
       "      <td>-112.1860</td>\n",
       "      <td>7.0</td>\n",
       "      <td>19.0</td>\n",
       "      <td>19.0</td>\n",
       "      <td>NaN</td>\n",
       "      <td>...</td>\n",
       "      <td>3.0</td>\n",
       "      <td>0.0</td>\n",
       "      <td>1</td>\n",
       "      <td>2</td>\n",
       "      <td>0.0</td>\n",
       "      <td>0.0</td>\n",
       "      <td>3.0</td>\n",
       "      <td>NaN</td>\n",
       "      <td>Shot - Wounded/Injured</td>\n",
       "      <td>Shot - Dead (murder, accidental, suicide)</td>\n",
       "    </tr>\n",
       "    <tr>\n",
       "      <th>550</th>\n",
       "      <td>2029-09-29</td>\n",
       "      <td>Nevada</td>\n",
       "      <td>Reno</td>\n",
       "      <td>1600 block of Wedekind Road</td>\n",
       "      <td>39.5465</td>\n",
       "      <td>-119.8020</td>\n",
       "      <td>2.0</td>\n",
       "      <td>24.0</td>\n",
       "      <td>13.0</td>\n",
       "      <td>NaN</td>\n",
       "      <td>...</td>\n",
       "      <td>1.0</td>\n",
       "      <td>1.0</td>\n",
       "      <td>1</td>\n",
       "      <td>0</td>\n",
       "      <td>0.0</td>\n",
       "      <td>1.0</td>\n",
       "      <td>2.0</td>\n",
       "      <td>NaN</td>\n",
       "      <td>Shot - Dead (murder, accidental, suicide)</td>\n",
       "      <td>Armed robbery with injury/death and/or evidenc...</td>\n",
       "    </tr>\n",
       "    <tr>\n",
       "      <th>573</th>\n",
       "      <td>2030-01-08</td>\n",
       "      <td>Indiana</td>\n",
       "      <td>Indianapolis</td>\n",
       "      <td>805 Bellhaven Place</td>\n",
       "      <td>39.7767</td>\n",
       "      <td>-85.9539</td>\n",
       "      <td>7.0</td>\n",
       "      <td>89.0</td>\n",
       "      <td>28.0</td>\n",
       "      <td>NaN</td>\n",
       "      <td>...</td>\n",
       "      <td>2.0</td>\n",
       "      <td>0.0</td>\n",
       "      <td>1</td>\n",
       "      <td>0</td>\n",
       "      <td>1.0</td>\n",
       "      <td>0.0</td>\n",
       "      <td>2.0</td>\n",
       "      <td>One brother shoots another to death after argu...</td>\n",
       "      <td>Shot - Dead (murder, accidental, suicide)</td>\n",
       "      <td>Domestic Violence</td>\n",
       "    </tr>\n",
       "  </tbody>\n",
       "</table>\n",
       "<p>5 rows × 28 columns</p>\n",
       "</div>"
      ],
      "text/plain": [
       "          date       state city_or_county                        address  \\\n",
       "82  2029-05-13  New Mexico    Albuquerque  8700 block of Spotted Pony SW   \n",
       "108 2030-11-14    New York      Watertown                       Route 11   \n",
       "186 2029-10-22     Arizona        Phoenix         2200 North 59th Avenue   \n",
       "550 2029-09-29      Nevada           Reno    1600 block of Wedekind Road   \n",
       "573 2030-01-08     Indiana   Indianapolis            805 Bellhaven Place   \n",
       "\n",
       "     latitude  longitude  congressional_district  state_house_district  \\\n",
       "82    35.0419  -106.7300                     1.0                  13.0   \n",
       "108   43.9685   -75.9121                    21.0                 116.0   \n",
       "186   33.4715  -112.1860                     7.0                  19.0   \n",
       "550   39.5465  -119.8020                     2.0                  24.0   \n",
       "573   39.7767   -85.9539                     7.0                  89.0   \n",
       "\n",
       "     state_senate_district  participant_age1  ... n_males n_females n_killed  \\\n",
       "82                    11.0               NaN  ...     1.0       0.0        1   \n",
       "108                   48.0               NaN  ...     1.0       0.0        1   \n",
       "186                   19.0               NaN  ...     3.0       0.0        1   \n",
       "550                   13.0               NaN  ...     1.0       1.0        1   \n",
       "573                   28.0               NaN  ...     2.0       0.0        1   \n",
       "\n",
       "    n_injured n_arrested n_unharmed n_participants  \\\n",
       "82          0        0.0        0.0            1.0   \n",
       "108         0        0.0        0.0            1.0   \n",
       "186         2        0.0        0.0            3.0   \n",
       "550         0        0.0        1.0            2.0   \n",
       "573         0        1.0        0.0            2.0   \n",
       "\n",
       "                                                 notes  \\\n",
       "82                                                1mvk   \n",
       "108  near County Rd 67, ofc followed truck, man sho...   \n",
       "186                                                NaN   \n",
       "550                                                NaN   \n",
       "573  One brother shoots another to death after argu...   \n",
       "\n",
       "                     incident_characteristics1  \\\n",
       "82   Shot - Dead (murder, accidental, suicide)   \n",
       "108  Shot - Dead (murder, accidental, suicide)   \n",
       "186                     Shot - Wounded/Injured   \n",
       "550  Shot - Dead (murder, accidental, suicide)   \n",
       "573  Shot - Dead (murder, accidental, suicide)   \n",
       "\n",
       "                             incident_characteristics2  \n",
       "82                                                 NaN  \n",
       "108                                           Suicide^  \n",
       "186          Shot - Dead (murder, accidental, suicide)  \n",
       "550  Armed robbery with injury/death and/or evidenc...  \n",
       "573                                  Domestic Violence  \n",
       "\n",
       "[5 rows x 28 columns]"
      ]
     },
     "execution_count": 23,
     "metadata": {},
     "output_type": "execute_result"
    }
   ],
   "source": [
    "# print some incidents with year > 2018, where some people were killed\n",
    "df_incidents[(df_incidents.date.dt.year > 2018) & (df_incidents.n_killed > 0)].head()"
   ]
  },
  {
   "cell_type": "markdown",
   "metadata": {
    "collapsed": false
   },
   "source": [
    "The incidents seem well documented, so we can't say that they are erroneous. We can surely say that the date is wrong."
   ]
  },
  {
   "cell_type": "markdown",
   "metadata": {
    "collapsed": false
   },
   "source": [
    "### Poverty"
   ]
  },
  {
   "cell_type": "code",
   "execution_count": 24,
   "metadata": {
    "collapsed": false
   },
   "outputs": [
    {
     "name": "stdout",
     "output_type": "stream",
     "text": [
      "Distinct Values in state: \t ['United States' 'Alabama' 'Alaska' 'Arizona' 'Arkansas' 'California'\n",
      " 'Colorado' 'Connecticut' 'Delaware' 'District of Columbia' 'Florida'\n",
      " 'Georgia' 'Hawaii' 'Idaho' 'Illinois' 'Indiana' 'Iowa' 'Kansas'\n",
      " 'Kentucky' 'Louisiana' 'Maine' 'Maryland' 'Massachusetts' 'Michigan'\n",
      " 'Minnesota' 'Mississippi' 'Missouri' 'Montana' 'Nebraska' 'Nevada'\n",
      " 'New Hampshire' 'New Jersey' 'New Mexico' 'New York' 'North Carolina'\n",
      " 'North Dakota' 'Ohio' 'Oklahoma' 'Oregon' 'Pennsylvania' 'Rhode Island'\n",
      " 'South Carolina' 'South Dakota' 'Tennessee' 'Texas' 'Utah' 'Vermont'\n",
      " 'Virginia' 'Washington' 'West Virginia' 'Wisconsin' 'Wyoming']\n",
      "total n. of states: \t\t 52\n"
     ]
    }
   ],
   "source": [
    "print(\"Distinct Values in state: \\t\", df_poverty.state.unique())\n",
    "print(\"total n. of states: \\t\\t\", df_poverty.state.nunique())"
   ]
  },
  {
   "cell_type": "code",
   "execution_count": 25,
   "metadata": {
    "collapsed": false
   },
   "outputs": [
    {
     "name": "stdout",
     "output_type": "stream",
     "text": [
      "Distinct Values in state: \t 52\n"
     ]
    }
   ],
   "source": [
    "print(\"Distinct Values in state: \\t\", df_poverty.state.nunique())\n",
    "# We notice that there are 52 states, however the USA has 50 distinct states\n",
    "# one is the average poverty in all the U.S., the other is the District of Columbia, which is not considered a state."
   ]
  },
  {
   "cell_type": "code",
   "execution_count": 26,
   "metadata": {
    "collapsed": false
   },
   "outputs": [
    {
     "data": {
      "text/plain": [
       "<Axes: title={'center': 'Poverty in the USA'}, xlabel='year'>"
      ]
     },
     "execution_count": 26,
     "metadata": {},
     "output_type": "execute_result"
    },
    {
     "data": {
      "image/png": "[encoded data removed]",
      "text/plain": [
       "<Figure size 640x480 with 1 Axes>"
      ]
     },
     "metadata": {},
     "output_type": "display_data"
    }
   ],
   "source": [
    "# made a graph with poverty over the years of the entire USA\n",
    "df_poverty[df_poverty.state == 'United States'].plot(x='year', y='povertyPercentage', kind='line', title='Poverty in the USA')"
   ]
  },
  {
   "cell_type": "code",
   "execution_count": 27,
   "metadata": {
    "collapsed": false
   },
   "outputs": [
    {
     "data": {
      "text/plain": [
       "<Axes: title={'center': 'Average poverty percentage of each state'}, xlabel='state'>"
      ]
     },
     "execution_count": 27,
     "metadata": {},
     "output_type": "execute_result"
    },
    {
     "data": {
      "image/png": "[encoded data removed]",
      "text/plain": [
       "<Figure size 1000x500 with 1 Axes>"
      ]
     },
     "metadata": {},
     "output_type": "display_data"
    }
   ],
   "source": [
    "# bar of the average poverty percentage of each state ordering by most poor state\n",
    "df_poverty[df_poverty.state != 'United States'].groupby('state').mean().sort_values(by='povertyPercentage', ascending=False).plot(kind='bar', title='Average poverty percentage of each state', y= 'povertyPercentage', figsize=(10,5))"
   ]
  },
  {
   "cell_type": "markdown",
   "metadata": {
    "collapsed": false
   },
   "source": [
    "### Elections"
   ]
  },
  {
   "cell_type": "code",
   "execution_count": 28,
   "metadata": {
    "ExecuteTime": {
     "end_time": "2023-10-12T16:10:43.320546Z",
     "start_time": "2023-10-12T16:10:43.302726Z"
    },
    "collapsed": false
   },
   "outputs": [
    {
     "name": "stdout",
     "output_type": "stream",
     "text": [
      "Distinct Values in state: \t ['ALABAMA' 'ALASKA' 'ARIZONA' 'ARKANSAS' 'CALIFORNIA' 'COLORADO'\n",
      " 'CONNECTICUT' 'DELAWARE' 'FLORIDA' 'GEORGIA' 'HAWAII' 'IDAHO' 'ILLINOIS'\n",
      " 'INDIANA' 'IOWA' 'KANSAS' 'KENTUCKY' 'LOUISIANA' 'MAINE' 'MARYLAND'\n",
      " 'MASSACHUSETTS' 'MICHIGAN' 'MINNESOTA' 'MISSISSIPPI' 'MISSOURI' 'MONTANA'\n",
      " 'NEBRASKA' 'NEVADA' 'NEW HAMPSHIRE' 'NEW JERSEY' 'NEW MEXICO' 'NEW YORK'\n",
      " 'NORTH CAROLINA' 'NORTH DAKOTA' 'OHIO' 'OKLAHOMA' 'OREGON' 'PENNSYLVANIA'\n",
      " 'RHODE ISLAND' 'SOUTH CAROLINA' 'SOUTH DAKOTA' 'TENNESSEE' 'TEXAS' 'UTAH'\n",
      " 'VERMONT' 'VIRGINIA' 'WASHINGTON' 'WEST VIRGINIA' 'WISCONSIN' 'WYOMING'\n",
      " 'DISTRICT OF COLUMBIA']\n"
     ]
    }
   ],
   "source": [
    "print(\"Distinct Values in state: \\t\", df_elections.state.unique())"
   ]
  },
  {
   "cell_type": "code",
   "execution_count": 29,
   "metadata": {
    "ExecuteTime": {
     "end_time": "2023-10-12T16:10:26.909607Z",
     "start_time": "2023-10-12T16:10:26.890715Z"
    },
    "collapsed": false
   },
   "outputs": [
    {
     "name": "stdout",
     "output_type": "stream",
     "text": [
      "Distinct Values in state: \t 51\n"
     ]
    }
   ],
   "source": [
    "print(\"Distinct Values in state: \\t\", df_elections.state.nunique())\n",
    "# There is an erroneous instance: 'DISTRICT OF COLUMBIA'"
   ]
  },
  {
   "cell_type": "markdown",
   "metadata": {
    "collapsed": false
   },
   "source": [
    "## Distributions"
   ]
  },
  {
   "cell_type": "markdown",
   "metadata": {},
   "source": [
    "### Ages"
   ]
  },
  {
   "cell_type": "code",
   "execution_count": 246,
   "metadata": {},
   "outputs": [
    {
     "ename": "AttributeError",
     "evalue": "Line2D.set() got an unexpected keyword argument 'kind'",
     "output_type": "error",
     "traceback": [
      "\u001b[1;31m---------------------------------------------------------------------------\u001b[0m",
      "\u001b[1;31mAttributeError\u001b[0m                            Traceback (most recent call last)",
      "\u001b[1;32mc:\\Users\\HUAWEI\\PycharmProjects\\DM-project\\DataUnderstanding.ipynb Cell 55\u001b[0m line \u001b[0;36m2\n\u001b[0;32m      <a href='vscode-notebook-cell:/c%3A/Users/HUAWEI/PycharmProjects/DM-project/DataUnderstanding.ipynb#Y144sZmlsZQ%3D%3D?line=0'>1</a>\u001b[0m fig, axes \u001b[39m=\u001b[39m plt\u001b[39m.\u001b[39msubplots(\u001b[39m2\u001b[39m,\u001b[39m2\u001b[39m, figsize\u001b[39m=\u001b[39m(\u001b[39m10\u001b[39m,\u001b[39m10\u001b[39m))\n\u001b[1;32m----> <a href='vscode-notebook-cell:/c%3A/Users/HUAWEI/PycharmProjects/DM-project/DataUnderstanding.ipynb#Y144sZmlsZQ%3D%3D?line=1'>2</a>\u001b[0m axes[\u001b[39m0\u001b[39;49m,\u001b[39m0\u001b[39;49m]\u001b[39m.\u001b[39;49mplot(df_incidents\u001b[39m.\u001b[39;49mmin_age_participants\u001b[39m.\u001b[39;49mvalue_counts(), kind\u001b[39m=\u001b[39;49m\u001b[39m'\u001b[39;49m\u001b[39mbar\u001b[39;49m\u001b[39m'\u001b[39;49m)\n\u001b[0;32m      <a href='vscode-notebook-cell:/c%3A/Users/HUAWEI/PycharmProjects/DM-project/DataUnderstanding.ipynb#Y144sZmlsZQ%3D%3D?line=2'>3</a>\u001b[0m axes[\u001b[39m1\u001b[39m,\u001b[39m0\u001b[39m]\u001b[39m.\u001b[39mplot(df_incidents\u001b[39m.\u001b[39mmax_age_participants\u001b[39m.\u001b[39mvalue_counts(), kind\u001b[39m=\u001b[39m\u001b[39m'\u001b[39m\u001b[39mbar\u001b[39m\u001b[39m'\u001b[39m)    \n\u001b[0;32m      <a href='vscode-notebook-cell:/c%3A/Users/HUAWEI/PycharmProjects/DM-project/DataUnderstanding.ipynb#Y144sZmlsZQ%3D%3D?line=3'>4</a>\u001b[0m axes[\u001b[39m0\u001b[39m,\u001b[39m1\u001b[39m]\u001b[39m.\u001b[39mplot(df_incidents\u001b[39m.\u001b[39mavg_age_participants\u001b[39m.\u001b[39mvalue_counts(), kind\u001b[39m=\u001b[39m\u001b[39m'\u001b[39m\u001b[39mbar\u001b[39m\u001b[39m'\u001b[39m)\n",
      "File \u001b[1;32m~\\AppData\\Roaming\\Python\\Python310\\site-packages\\matplotlib\\axes\\_axes.py:1688\u001b[0m, in \u001b[0;36mAxes.plot\u001b[1;34m(self, scalex, scaley, data, *args, **kwargs)\u001b[0m\n\u001b[0;32m   1445\u001b[0m \u001b[39m\"\"\"\u001b[39;00m\n\u001b[0;32m   1446\u001b[0m \u001b[39mPlot y versus x as lines and/or markers.\u001b[39;00m\n\u001b[0;32m   1447\u001b[0m \n\u001b[1;32m   (...)\u001b[0m\n\u001b[0;32m   1685\u001b[0m \u001b[39m(``'green'``) or hex strings (``'#008000'``).\u001b[39;00m\n\u001b[0;32m   1686\u001b[0m \u001b[39m\"\"\"\u001b[39;00m\n\u001b[0;32m   1687\u001b[0m kwargs \u001b[39m=\u001b[39m cbook\u001b[39m.\u001b[39mnormalize_kwargs(kwargs, mlines\u001b[39m.\u001b[39mLine2D)\n\u001b[1;32m-> 1688\u001b[0m lines \u001b[39m=\u001b[39m [\u001b[39m*\u001b[39m\u001b[39mself\u001b[39m\u001b[39m.\u001b[39m_get_lines(\u001b[39m*\u001b[39margs, data\u001b[39m=\u001b[39mdata, \u001b[39m*\u001b[39m\u001b[39m*\u001b[39mkwargs)]\n\u001b[0;32m   1689\u001b[0m \u001b[39mfor\u001b[39;00m line \u001b[39min\u001b[39;00m lines:\n\u001b[0;32m   1690\u001b[0m     \u001b[39mself\u001b[39m\u001b[39m.\u001b[39madd_line(line)\n",
      "File \u001b[1;32m~\\AppData\\Roaming\\Python\\Python310\\site-packages\\matplotlib\\axes\\_base.py:311\u001b[0m, in \u001b[0;36m_process_plot_var_args.__call__\u001b[1;34m(self, data, *args, **kwargs)\u001b[0m\n\u001b[0;32m    309\u001b[0m     this \u001b[39m+\u001b[39m\u001b[39m=\u001b[39m args[\u001b[39m0\u001b[39m],\n\u001b[0;32m    310\u001b[0m     args \u001b[39m=\u001b[39m args[\u001b[39m1\u001b[39m:]\n\u001b[1;32m--> 311\u001b[0m \u001b[39myield from\u001b[39;00m \u001b[39mself\u001b[39;49m\u001b[39m.\u001b[39;49m_plot_args(\n\u001b[0;32m    312\u001b[0m     this, kwargs, ambiguous_fmt_datakey\u001b[39m=\u001b[39;49mambiguous_fmt_datakey)\n",
      "File \u001b[1;32m~\\AppData\\Roaming\\Python\\Python310\\site-packages\\matplotlib\\axes\\_base.py:544\u001b[0m, in \u001b[0;36m_process_plot_var_args._plot_args\u001b[1;34m(self, tup, kwargs, return_kwargs, ambiguous_fmt_datakey)\u001b[0m\n\u001b[0;32m    542\u001b[0m     \u001b[39mreturn\u001b[39;00m \u001b[39mlist\u001b[39m(result)\n\u001b[0;32m    543\u001b[0m \u001b[39melse\u001b[39;00m:\n\u001b[1;32m--> 544\u001b[0m     \u001b[39mreturn\u001b[39;00m [l[\u001b[39m0\u001b[39m] \u001b[39mfor\u001b[39;00m l \u001b[39min\u001b[39;00m result]\n",
      "File \u001b[1;32m~\\AppData\\Roaming\\Python\\Python310\\site-packages\\matplotlib\\axes\\_base.py:544\u001b[0m, in \u001b[0;36m<listcomp>\u001b[1;34m(.0)\u001b[0m\n\u001b[0;32m    542\u001b[0m     \u001b[39mreturn\u001b[39;00m \u001b[39mlist\u001b[39m(result)\n\u001b[0;32m    543\u001b[0m \u001b[39melse\u001b[39;00m:\n\u001b[1;32m--> 544\u001b[0m     \u001b[39mreturn\u001b[39;00m [l[\u001b[39m0\u001b[39m] \u001b[39mfor\u001b[39;00m l \u001b[39min\u001b[39;00m result]\n",
      "File \u001b[1;32m~\\AppData\\Roaming\\Python\\Python310\\site-packages\\matplotlib\\axes\\_base.py:537\u001b[0m, in \u001b[0;36m<genexpr>\u001b[1;34m(.0)\u001b[0m\n\u001b[0;32m    534\u001b[0m \u001b[39melse\u001b[39;00m:\n\u001b[0;32m    535\u001b[0m     labels \u001b[39m=\u001b[39m [label] \u001b[39m*\u001b[39m n_datasets\n\u001b[1;32m--> 537\u001b[0m result \u001b[39m=\u001b[39m (make_artist(x[:, j \u001b[39m%\u001b[39;49m ncx], y[:, j \u001b[39m%\u001b[39;49m ncy], kw,\n\u001b[0;32m    538\u001b[0m                       {\u001b[39m*\u001b[39;49m\u001b[39m*\u001b[39;49mkwargs, \u001b[39m'\u001b[39;49m\u001b[39mlabel\u001b[39;49m\u001b[39m'\u001b[39;49m: label})\n\u001b[0;32m    539\u001b[0m           \u001b[39mfor\u001b[39;00m j, label \u001b[39min\u001b[39;00m \u001b[39menumerate\u001b[39m(labels))\n\u001b[0;32m    541\u001b[0m \u001b[39mif\u001b[39;00m return_kwargs:\n\u001b[0;32m    542\u001b[0m     \u001b[39mreturn\u001b[39;00m \u001b[39mlist\u001b[39m(result)\n",
      "File \u001b[1;32m~\\AppData\\Roaming\\Python\\Python310\\site-packages\\matplotlib\\axes\\_base.py:351\u001b[0m, in \u001b[0;36m_process_plot_var_args._makeline\u001b[1;34m(self, x, y, kw, kwargs)\u001b[0m\n\u001b[0;32m    349\u001b[0m default_dict \u001b[39m=\u001b[39m \u001b[39mself\u001b[39m\u001b[39m.\u001b[39m_getdefaults(\u001b[39mset\u001b[39m(), kw)\n\u001b[0;32m    350\u001b[0m \u001b[39mself\u001b[39m\u001b[39m.\u001b[39m_setdefaults(default_dict, kw)\n\u001b[1;32m--> 351\u001b[0m seg \u001b[39m=\u001b[39m mlines\u001b[39m.\u001b[39mLine2D(x, y, \u001b[39m*\u001b[39m\u001b[39m*\u001b[39mkw)\n\u001b[0;32m    352\u001b[0m \u001b[39mreturn\u001b[39;00m seg, kw\n",
      "File \u001b[1;32m~\\AppData\\Roaming\\Python\\Python310\\site-packages\\matplotlib\\_api\\deprecation.py:454\u001b[0m, in \u001b[0;36mmake_keyword_only.<locals>.wrapper\u001b[1;34m(*args, **kwargs)\u001b[0m\n\u001b[0;32m    448\u001b[0m \u001b[39mif\u001b[39;00m \u001b[39mlen\u001b[39m(args) \u001b[39m>\u001b[39m name_idx:\n\u001b[0;32m    449\u001b[0m     warn_deprecated(\n\u001b[0;32m    450\u001b[0m         since, message\u001b[39m=\u001b[39m\u001b[39m\"\u001b[39m\u001b[39mPassing the \u001b[39m\u001b[39m%(name)s\u001b[39;00m\u001b[39m \u001b[39m\u001b[39m%(obj_type)s\u001b[39;00m\u001b[39m \u001b[39m\u001b[39m\"\u001b[39m\n\u001b[0;32m    451\u001b[0m         \u001b[39m\"\u001b[39m\u001b[39mpositionally is deprecated since Matplotlib \u001b[39m\u001b[39m%(since)s\u001b[39;00m\u001b[39m; the \u001b[39m\u001b[39m\"\u001b[39m\n\u001b[0;32m    452\u001b[0m         \u001b[39m\"\u001b[39m\u001b[39mparameter will become keyword-only \u001b[39m\u001b[39m%(removal)s\u001b[39;00m\u001b[39m.\u001b[39m\u001b[39m\"\u001b[39m,\n\u001b[0;32m    453\u001b[0m         name\u001b[39m=\u001b[39mname, obj_type\u001b[39m=\u001b[39m\u001b[39mf\u001b[39m\u001b[39m\"\u001b[39m\u001b[39mparameter of \u001b[39m\u001b[39m{\u001b[39;00mfunc\u001b[39m.\u001b[39m\u001b[39m__name__\u001b[39m\u001b[39m}\u001b[39;00m\u001b[39m()\u001b[39m\u001b[39m\"\u001b[39m)\n\u001b[1;32m--> 454\u001b[0m \u001b[39mreturn\u001b[39;00m func(\u001b[39m*\u001b[39margs, \u001b[39m*\u001b[39m\u001b[39m*\u001b[39mkwargs)\n",
      "File \u001b[1;32m~\\AppData\\Roaming\\Python\\Python310\\site-packages\\matplotlib\\lines.py:393\u001b[0m, in \u001b[0;36mLine2D.__init__\u001b[1;34m(self, xdata, ydata, linewidth, linestyle, color, gapcolor, marker, markersize, markeredgewidth, markeredgecolor, markerfacecolor, markerfacecoloralt, fillstyle, antialiased, dash_capstyle, solid_capstyle, dash_joinstyle, solid_joinstyle, pickradius, drawstyle, markevery, **kwargs)\u001b[0m\n\u001b[0;32m    389\u001b[0m \u001b[39mself\u001b[39m\u001b[39m.\u001b[39mset_markeredgewidth(markeredgewidth)\n\u001b[0;32m    391\u001b[0m \u001b[39m# update kwargs before updating data to give the caller a\u001b[39;00m\n\u001b[0;32m    392\u001b[0m \u001b[39m# chance to init axes (and hence unit support)\u001b[39;00m\n\u001b[1;32m--> 393\u001b[0m \u001b[39mself\u001b[39;49m\u001b[39m.\u001b[39;49m_internal_update(kwargs)\n\u001b[0;32m    394\u001b[0m \u001b[39mself\u001b[39m\u001b[39m.\u001b[39m_pickradius \u001b[39m=\u001b[39m pickradius\n\u001b[0;32m    395\u001b[0m \u001b[39mself\u001b[39m\u001b[39m.\u001b[39mind_offset \u001b[39m=\u001b[39m \u001b[39m0\u001b[39m\n",
      "File \u001b[1;32m~\\AppData\\Roaming\\Python\\Python310\\site-packages\\matplotlib\\artist.py:1223\u001b[0m, in \u001b[0;36mArtist._internal_update\u001b[1;34m(self, kwargs)\u001b[0m\n\u001b[0;32m   1216\u001b[0m \u001b[39mdef\u001b[39;00m \u001b[39m_internal_update\u001b[39m(\u001b[39mself\u001b[39m, kwargs):\n\u001b[0;32m   1217\u001b[0m     \u001b[39m\"\"\"\u001b[39;00m\n\u001b[0;32m   1218\u001b[0m \u001b[39m    Update artist properties without prenormalizing them, but generating\u001b[39;00m\n\u001b[0;32m   1219\u001b[0m \u001b[39m    errors as if calling `set`.\u001b[39;00m\n\u001b[0;32m   1220\u001b[0m \n\u001b[0;32m   1221\u001b[0m \u001b[39m    The lack of prenormalization is to maintain backcompatibility.\u001b[39;00m\n\u001b[0;32m   1222\u001b[0m \u001b[39m    \"\"\"\u001b[39;00m\n\u001b[1;32m-> 1223\u001b[0m     \u001b[39mreturn\u001b[39;00m \u001b[39mself\u001b[39;49m\u001b[39m.\u001b[39;49m_update_props(\n\u001b[0;32m   1224\u001b[0m         kwargs, \u001b[39m\"\u001b[39;49m\u001b[39m{cls.__name__}\u001b[39;49;00m\u001b[39m.set() got an unexpected keyword argument \u001b[39;49m\u001b[39m\"\u001b[39;49m\n\u001b[0;32m   1225\u001b[0m         \u001b[39m\"\u001b[39;49m\u001b[39m{prop_name!r}\u001b[39;49;00m\u001b[39m\"\u001b[39;49m)\n",
      "File \u001b[1;32m~\\AppData\\Roaming\\Python\\Python310\\site-packages\\matplotlib\\artist.py:1197\u001b[0m, in \u001b[0;36mArtist._update_props\u001b[1;34m(self, props, errfmt)\u001b[0m\n\u001b[0;32m   1195\u001b[0m             func \u001b[39m=\u001b[39m \u001b[39mgetattr\u001b[39m(\u001b[39mself\u001b[39m, \u001b[39mf\u001b[39m\u001b[39m\"\u001b[39m\u001b[39mset_\u001b[39m\u001b[39m{\u001b[39;00mk\u001b[39m}\u001b[39;00m\u001b[39m\"\u001b[39m, \u001b[39mNone\u001b[39;00m)\n\u001b[0;32m   1196\u001b[0m             \u001b[39mif\u001b[39;00m \u001b[39mnot\u001b[39;00m callable(func):\n\u001b[1;32m-> 1197\u001b[0m                 \u001b[39mraise\u001b[39;00m \u001b[39mAttributeError\u001b[39;00m(\n\u001b[0;32m   1198\u001b[0m                     errfmt\u001b[39m.\u001b[39mformat(\u001b[39mcls\u001b[39m\u001b[39m=\u001b[39m\u001b[39mtype\u001b[39m(\u001b[39mself\u001b[39m), prop_name\u001b[39m=\u001b[39mk))\n\u001b[0;32m   1199\u001b[0m             ret\u001b[39m.\u001b[39mappend(func(v))\n\u001b[0;32m   1200\u001b[0m \u001b[39mif\u001b[39;00m ret:\n",
      "\u001b[1;31mAttributeError\u001b[0m: Line2D.set() got an unexpected keyword argument 'kind'"
     ]
    },
    {
     "data": {
      "image/png": "[encoded data removed]",
      "text/plain": [
       "<Figure size 1000x1000 with 4 Axes>"
      ]
     },
     "metadata": {},
     "output_type": "display_data"
    }
   ],
   "source": [
    "fig, axes = plt.subplots(2,2, figsize=(10,10))\n",
    "axes[0,0].plot(df_incidents.min_age_participants.value_counts(), kind='bar')\n",
    "axes[1,0].plot(df_incidents.max_age_participants.value_counts(), kind='bar')    \n",
    "axes[0,1].plot(df_incidents.avg_age_participants.value_counts(), kind='bar')\n"
   ]
  },
  {
   "cell_type": "code",
   "execution_count": 248,
   "metadata": {
    "ExecuteTime": {
     "end_time": "2023-10-12T15:00:20.082669Z",
     "start_time": "2023-10-12T15:00:19.790884Z"
    },
    "collapsed": false
   },
   "outputs": [
    {
     "data": {
      "image/png": "[encoded data removed]",
      "text/plain": [
       "<Figure size 640x480 with 1 Axes>"
      ]
     },
     "metadata": {},
     "output_type": "display_data"
    }
   ],
   "source": [
    "df_incidents['n_participants'].value_counts().plot(kind='bar', title='Number of participants')\n",
    "plt.show()"
   ]
  },
  {
   "cell_type": "code",
   "execution_count": null,
   "metadata": {},
   "outputs": [],
   "source": []
  },
  {
   "cell_type": "code",
   "execution_count": 31,
   "metadata": {
    "ExecuteTime": {
     "end_time": "2023-10-12T15:00:34.207551Z",
     "start_time": "2023-10-12T15:00:34.022613Z"
    },
    "collapsed": false
   },
   "outputs": [
    {
     "data": {
      "image/png": "[encoded data removed]",
      "text/plain": [
       "<Figure size 640x480 with 1 Axes>"
      ]
     },
     "metadata": {},
     "output_type": "display_data"
    }
   ],
   "source": [
    "df_incidents['n_killed'].value_counts().plot(kind='bar', title='Number of killed')\n",
    "plt.show()"
   ]
  },
  {
   "cell_type": "code",
   "execution_count": 32,
   "metadata": {
    "collapsed": false
   },
   "outputs": [
    {
     "data": {
      "text/plain": [
       "<Axes: title={'center': 'Number of killed > 3'}>"
      ]
     },
     "execution_count": 32,
     "metadata": {},
     "output_type": "execute_result"
    },
    {
     "data": {
      "image/png": "[encoded data removed]",
      "text/plain": [
       "<Figure size 640x480 with 1 Axes>"
      ]
     },
     "metadata": {},
     "output_type": "display_data"
    }
   ],
   "source": [
    "# plot the distribution of the number of killed people > 3\n",
    "df_incidents[df_incidents.n_killed > 3].n_killed.value_counts().plot(kind='bar', title='Number of killed > 3')"
   ]
  },
  {
   "cell_type": "markdown",
   "metadata": {
    "collapsed": false
   },
   "source": [
    "## Correlations"
   ]
  },
  {
   "cell_type": "markdown",
   "metadata": {
    "collapsed": false
   },
   "source": [
    "We wanna first see if there is a correlations between the poverty of the state and the number of gun incidents."
   ]
  },
  {
   "cell_type": "code",
   "execution_count": null,
   "metadata": {
    "collapsed": false
   },
   "outputs": [],
   "source": [
    "# show incidents happened in 2014\n",
    "df_incidents_2014=df_incidents[df_incidents.date.dt.year == 2014]\n",
    "# new df with total number of incidents per state\n",
    "df_incidents_2014_state = df_incidents_2014.groupby('state').size().reset_index(name='total_incidents')"
   ]
  },
  {
   "cell_type": "code",
   "execution_count": null,
   "metadata": {
    "collapsed": false
   },
   "outputs": [
    {
     "data": {
      "text/html": [
       "<div>\n",
       "<style scoped>\n",
       "    .dataframe tbody tr th:only-of-type {\n",
       "        vertical-align: middle;\n",
       "    }\n",
       "\n",
       "    .dataframe tbody tr th {\n",
       "        vertical-align: top;\n",
       "    }\n",
       "\n",
       "    .dataframe thead th {\n",
       "        text-align: right;\n",
       "    }\n",
       "</style>\n",
       "<table border=\"1\" class=\"dataframe\">\n",
       "  <thead>\n",
       "    <tr style=\"text-align: right;\">\n",
       "      <th></th>\n",
       "      <th>state</th>\n",
       "      <th>total_incidents</th>\n",
       "    </tr>\n",
       "  </thead>\n",
       "  <tbody>\n",
       "    <tr>\n",
       "      <th>0</th>\n",
       "      <td>Alabama</td>\n",
       "      <td>810</td>\n",
       "    </tr>\n",
       "    <tr>\n",
       "      <th>1</th>\n",
       "      <td>Alaska</td>\n",
       "      <td>122</td>\n",
       "    </tr>\n",
       "    <tr>\n",
       "      <th>2</th>\n",
       "      <td>Arizona</td>\n",
       "      <td>409</td>\n",
       "    </tr>\n",
       "    <tr>\n",
       "      <th>3</th>\n",
       "      <td>Arkansas</td>\n",
       "      <td>461</td>\n",
       "    </tr>\n",
       "    <tr>\n",
       "      <th>4</th>\n",
       "      <td>California</td>\n",
       "      <td>2752</td>\n",
       "    </tr>\n",
       "    <tr>\n",
       "      <th>5</th>\n",
       "      <td>Colorado</td>\n",
       "      <td>430</td>\n",
       "    </tr>\n",
       "    <tr>\n",
       "      <th>6</th>\n",
       "      <td>Connecticut</td>\n",
       "      <td>448</td>\n",
       "    </tr>\n",
       "    <tr>\n",
       "      <th>7</th>\n",
       "      <td>Delaware</td>\n",
       "      <td>346</td>\n",
       "    </tr>\n",
       "    <tr>\n",
       "      <th>8</th>\n",
       "      <td>District of Columbia</td>\n",
       "      <td>390</td>\n",
       "    </tr>\n",
       "    <tr>\n",
       "      <th>9</th>\n",
       "      <td>Florida</td>\n",
       "      <td>2084</td>\n",
       "    </tr>\n",
       "    <tr>\n",
       "      <th>10</th>\n",
       "      <td>Georgia</td>\n",
       "      <td>1557</td>\n",
       "    </tr>\n",
       "    <tr>\n",
       "      <th>11</th>\n",
       "      <td>Hawaii</td>\n",
       "      <td>32</td>\n",
       "    </tr>\n",
       "    <tr>\n",
       "      <th>12</th>\n",
       "      <td>Idaho</td>\n",
       "      <td>93</td>\n",
       "    </tr>\n",
       "    <tr>\n",
       "      <th>13</th>\n",
       "      <td>Illinois</td>\n",
       "      <td>2652</td>\n",
       "    </tr>\n",
       "    <tr>\n",
       "      <th>14</th>\n",
       "      <td>Indiana</td>\n",
       "      <td>820</td>\n",
       "    </tr>\n",
       "    <tr>\n",
       "      <th>15</th>\n",
       "      <td>Iowa</td>\n",
       "      <td>501</td>\n",
       "    </tr>\n",
       "    <tr>\n",
       "      <th>16</th>\n",
       "      <td>Kansas</td>\n",
       "      <td>329</td>\n",
       "    </tr>\n",
       "    <tr>\n",
       "      <th>17</th>\n",
       "      <td>Kentucky</td>\n",
       "      <td>650</td>\n",
       "    </tr>\n",
       "    <tr>\n",
       "      <th>18</th>\n",
       "      <td>Louisiana</td>\n",
       "      <td>1349</td>\n",
       "    </tr>\n",
       "    <tr>\n",
       "      <th>19</th>\n",
       "      <td>Maine</td>\n",
       "      <td>155</td>\n",
       "    </tr>\n",
       "    <tr>\n",
       "      <th>20</th>\n",
       "      <td>Maryland</td>\n",
       "      <td>684</td>\n",
       "    </tr>\n",
       "    <tr>\n",
       "      <th>21</th>\n",
       "      <td>Massachusetts</td>\n",
       "      <td>664</td>\n",
       "    </tr>\n",
       "    <tr>\n",
       "      <th>22</th>\n",
       "      <td>Michigan</td>\n",
       "      <td>1027</td>\n",
       "    </tr>\n",
       "    <tr>\n",
       "      <th>23</th>\n",
       "      <td>Minnesota</td>\n",
       "      <td>370</td>\n",
       "    </tr>\n",
       "    <tr>\n",
       "      <th>24</th>\n",
       "      <td>Mississippi</td>\n",
       "      <td>543</td>\n",
       "    </tr>\n",
       "    <tr>\n",
       "      <th>25</th>\n",
       "      <td>Missouri</td>\n",
       "      <td>1054</td>\n",
       "    </tr>\n",
       "    <tr>\n",
       "      <th>26</th>\n",
       "      <td>Montana</td>\n",
       "      <td>111</td>\n",
       "    </tr>\n",
       "    <tr>\n",
       "      <th>27</th>\n",
       "      <td>Nebraska</td>\n",
       "      <td>291</td>\n",
       "    </tr>\n",
       "    <tr>\n",
       "      <th>28</th>\n",
       "      <td>Nevada</td>\n",
       "      <td>254</td>\n",
       "    </tr>\n",
       "    <tr>\n",
       "      <th>29</th>\n",
       "      <td>New Hampshire</td>\n",
       "      <td>190</td>\n",
       "    </tr>\n",
       "    <tr>\n",
       "      <th>30</th>\n",
       "      <td>New Jersey</td>\n",
       "      <td>1196</td>\n",
       "    </tr>\n",
       "    <tr>\n",
       "      <th>31</th>\n",
       "      <td>New Mexico</td>\n",
       "      <td>254</td>\n",
       "    </tr>\n",
       "    <tr>\n",
       "      <th>32</th>\n",
       "      <td>New York</td>\n",
       "      <td>1538</td>\n",
       "    </tr>\n",
       "    <tr>\n",
       "      <th>33</th>\n",
       "      <td>North Carolina</td>\n",
       "      <td>1478</td>\n",
       "    </tr>\n",
       "    <tr>\n",
       "      <th>34</th>\n",
       "      <td>North Dakota</td>\n",
       "      <td>93</td>\n",
       "    </tr>\n",
       "    <tr>\n",
       "      <th>35</th>\n",
       "      <td>Ohio</td>\n",
       "      <td>1665</td>\n",
       "    </tr>\n",
       "    <tr>\n",
       "      <th>36</th>\n",
       "      <td>Oklahoma</td>\n",
       "      <td>488</td>\n",
       "    </tr>\n",
       "    <tr>\n",
       "      <th>37</th>\n",
       "      <td>Oregon</td>\n",
       "      <td>302</td>\n",
       "    </tr>\n",
       "    <tr>\n",
       "      <th>38</th>\n",
       "      <td>Pennsylvania</td>\n",
       "      <td>1718</td>\n",
       "    </tr>\n",
       "    <tr>\n",
       "      <th>39</th>\n",
       "      <td>Rhode Island</td>\n",
       "      <td>140</td>\n",
       "    </tr>\n",
       "    <tr>\n",
       "      <th>40</th>\n",
       "      <td>South Carolina</td>\n",
       "      <td>1271</td>\n",
       "    </tr>\n",
       "    <tr>\n",
       "      <th>41</th>\n",
       "      <td>South Dakota</td>\n",
       "      <td>64</td>\n",
       "    </tr>\n",
       "    <tr>\n",
       "      <th>42</th>\n",
       "      <td>Tennessee</td>\n",
       "      <td>1016</td>\n",
       "    </tr>\n",
       "    <tr>\n",
       "      <th>43</th>\n",
       "      <td>Texas</td>\n",
       "      <td>2111</td>\n",
       "    </tr>\n",
       "    <tr>\n",
       "      <th>44</th>\n",
       "      <td>Utah</td>\n",
       "      <td>173</td>\n",
       "    </tr>\n",
       "    <tr>\n",
       "      <th>45</th>\n",
       "      <td>Vermont</td>\n",
       "      <td>125</td>\n",
       "    </tr>\n",
       "    <tr>\n",
       "      <th>46</th>\n",
       "      <td>Virginia</td>\n",
       "      <td>769</td>\n",
       "    </tr>\n",
       "    <tr>\n",
       "      <th>47</th>\n",
       "      <td>Washington</td>\n",
       "      <td>471</td>\n",
       "    </tr>\n",
       "    <tr>\n",
       "      <th>48</th>\n",
       "      <td>West Virginia</td>\n",
       "      <td>226</td>\n",
       "    </tr>\n",
       "    <tr>\n",
       "      <th>49</th>\n",
       "      <td>Wisconsin</td>\n",
       "      <td>856</td>\n",
       "    </tr>\n",
       "    <tr>\n",
       "      <th>50</th>\n",
       "      <td>Wyoming</td>\n",
       "      <td>60</td>\n",
       "    </tr>\n",
       "  </tbody>\n",
       "</table>\n",
       "</div>"
      ],
      "text/plain": [
       "                   state  total_incidents\n",
       "0                Alabama              810\n",
       "1                 Alaska              122\n",
       "2                Arizona              409\n",
       "3               Arkansas              461\n",
       "4             California             2752\n",
       "5               Colorado              430\n",
       "6            Connecticut              448\n",
       "7               Delaware              346\n",
       "8   District of Columbia              390\n",
       "9                Florida             2084\n",
       "10               Georgia             1557\n",
       "11                Hawaii               32\n",
       "12                 Idaho               93\n",
       "13              Illinois             2652\n",
       "14               Indiana              820\n",
       "15                  Iowa              501\n",
       "16                Kansas              329\n",
       "17              Kentucky              650\n",
       "18             Louisiana             1349\n",
       "19                 Maine              155\n",
       "20              Maryland              684\n",
       "21         Massachusetts              664\n",
       "22              Michigan             1027\n",
       "23             Minnesota              370\n",
       "24           Mississippi              543\n",
       "25              Missouri             1054\n",
       "26               Montana              111\n",
       "27              Nebraska              291\n",
       "28                Nevada              254\n",
       "29         New Hampshire              190\n",
       "30            New Jersey             1196\n",
       "31            New Mexico              254\n",
       "32              New York             1538\n",
       "33        North Carolina             1478\n",
       "34          North Dakota               93\n",
       "35                  Ohio             1665\n",
       "36              Oklahoma              488\n",
       "37                Oregon              302\n",
       "38          Pennsylvania             1718\n",
       "39          Rhode Island              140\n",
       "40        South Carolina             1271\n",
       "41          South Dakota               64\n",
       "42             Tennessee             1016\n",
       "43                 Texas             2111\n",
       "44                  Utah              173\n",
       "45               Vermont              125\n",
       "46              Virginia              769\n",
       "47            Washington              471\n",
       "48         West Virginia              226\n",
       "49             Wisconsin              856\n",
       "50               Wyoming               60"
      ]
     },
     "execution_count": 34,
     "metadata": {},
     "output_type": "execute_result"
    }
   ],
   "source": [
    "df_incidents_2014_state\n"
   ]
  },
  {
   "cell_type": "code",
   "execution_count": null,
   "metadata": {
    "collapsed": false
   },
   "outputs": [
    {
     "name": "stderr",
     "output_type": "stream",
     "text": [
      "C:\\Users\\HUAWEI\\AppData\\Local\\Temp\\ipykernel_19496\\3494591839.py:3: UserWarning: Boolean Series key will be reindexed to match DataFrame index.\n",
      "  df_poverty[df_poverty.year==2014][df_poverty.state == state].povertyPercentage.values[0]\n",
      "C:\\Users\\HUAWEI\\AppData\\Local\\Temp\\ipykernel_19496\\3494591839.py:3: UserWarning: Boolean Series key will be reindexed to match DataFrame index.\n",
      "  df_poverty[df_poverty.year==2014][df_poverty.state == state].povertyPercentage.values[0]\n"
     ]
    }
   ],
   "source": [
    "for state in df_incidents_2014_state.state:\n",
    "    df_incidents_2014_state.loc[df_incidents_2014_state.state == state, 'povertyPercentage'] = \\\n",
    "        df_poverty[df_poverty.year==2014][df_poverty.state == state].povertyPercentage.values[0]"
   ]
  },
  {
   "cell_type": "code",
   "execution_count": null,
   "metadata": {
    "collapsed": false
   },
   "outputs": [
    {
     "data": {
      "text/html": [
       "<div>\n",
       "<style scoped>\n",
       "    .dataframe tbody tr th:only-of-type {\n",
       "        vertical-align: middle;\n",
       "    }\n",
       "\n",
       "    .dataframe tbody tr th {\n",
       "        vertical-align: top;\n",
       "    }\n",
       "\n",
       "    .dataframe thead th {\n",
       "        text-align: right;\n",
       "    }\n",
       "</style>\n",
       "<table border=\"1\" class=\"dataframe\">\n",
       "  <thead>\n",
       "    <tr style=\"text-align: right;\">\n",
       "      <th></th>\n",
       "      <th>state</th>\n",
       "      <th>total_incidents</th>\n",
       "      <th>povertyPercentage</th>\n",
       "    </tr>\n",
       "  </thead>\n",
       "  <tbody>\n",
       "    <tr>\n",
       "      <th>0</th>\n",
       "      <td>Alabama</td>\n",
       "      <td>810</td>\n",
       "      <td>16.8</td>\n",
       "    </tr>\n",
       "    <tr>\n",
       "      <th>1</th>\n",
       "      <td>Alaska</td>\n",
       "      <td>122</td>\n",
       "      <td>11.2</td>\n",
       "    </tr>\n",
       "    <tr>\n",
       "      <th>2</th>\n",
       "      <td>Arizona</td>\n",
       "      <td>409</td>\n",
       "      <td>18.1</td>\n",
       "    </tr>\n",
       "    <tr>\n",
       "      <th>3</th>\n",
       "      <td>Arkansas</td>\n",
       "      <td>461</td>\n",
       "      <td>16.8</td>\n",
       "    </tr>\n",
       "    <tr>\n",
       "      <th>4</th>\n",
       "      <td>California</td>\n",
       "      <td>2752</td>\n",
       "      <td>14.5</td>\n",
       "    </tr>\n",
       "    <tr>\n",
       "      <th>5</th>\n",
       "      <td>Colorado</td>\n",
       "      <td>430</td>\n",
       "      <td>10.2</td>\n",
       "    </tr>\n",
       "    <tr>\n",
       "      <th>6</th>\n",
       "      <td>Connecticut</td>\n",
       "      <td>448</td>\n",
       "      <td>9.2</td>\n",
       "    </tr>\n",
       "    <tr>\n",
       "      <th>7</th>\n",
       "      <td>Delaware</td>\n",
       "      <td>346</td>\n",
       "      <td>11.2</td>\n",
       "    </tr>\n",
       "    <tr>\n",
       "      <th>8</th>\n",
       "      <td>District of Columbia</td>\n",
       "      <td>390</td>\n",
       "      <td>17.3</td>\n",
       "    </tr>\n",
       "    <tr>\n",
       "      <th>9</th>\n",
       "      <td>Florida</td>\n",
       "      <td>2084</td>\n",
       "      <td>15.2</td>\n",
       "    </tr>\n",
       "    <tr>\n",
       "      <th>10</th>\n",
       "      <td>Georgia</td>\n",
       "      <td>1557</td>\n",
       "      <td>16.8</td>\n",
       "    </tr>\n",
       "    <tr>\n",
       "      <th>11</th>\n",
       "      <td>Hawaii</td>\n",
       "      <td>32</td>\n",
       "      <td>10.3</td>\n",
       "    </tr>\n",
       "    <tr>\n",
       "      <th>12</th>\n",
       "      <td>Idaho</td>\n",
       "      <td>93</td>\n",
       "      <td>11.9</td>\n",
       "    </tr>\n",
       "    <tr>\n",
       "      <th>13</th>\n",
       "      <td>Illinois</td>\n",
       "      <td>2652</td>\n",
       "      <td>12.2</td>\n",
       "    </tr>\n",
       "    <tr>\n",
       "      <th>14</th>\n",
       "      <td>Indiana</td>\n",
       "      <td>820</td>\n",
       "      <td>13.3</td>\n",
       "    </tr>\n",
       "    <tr>\n",
       "      <th>15</th>\n",
       "      <td>Iowa</td>\n",
       "      <td>501</td>\n",
       "      <td>10.1</td>\n",
       "    </tr>\n",
       "    <tr>\n",
       "      <th>16</th>\n",
       "      <td>Kansas</td>\n",
       "      <td>329</td>\n",
       "      <td>12.5</td>\n",
       "    </tr>\n",
       "    <tr>\n",
       "      <th>17</th>\n",
       "      <td>Kentucky</td>\n",
       "      <td>650</td>\n",
       "      <td>18.2</td>\n",
       "    </tr>\n",
       "    <tr>\n",
       "      <th>18</th>\n",
       "      <td>Louisiana</td>\n",
       "      <td>1349</td>\n",
       "      <td>20.6</td>\n",
       "    </tr>\n",
       "    <tr>\n",
       "      <th>19</th>\n",
       "      <td>Maine</td>\n",
       "      <td>155</td>\n",
       "      <td>13.2</td>\n",
       "    </tr>\n",
       "    <tr>\n",
       "      <th>20</th>\n",
       "      <td>Maryland</td>\n",
       "      <td>684</td>\n",
       "      <td>8.9</td>\n",
       "    </tr>\n",
       "    <tr>\n",
       "      <th>21</th>\n",
       "      <td>Massachusetts</td>\n",
       "      <td>664</td>\n",
       "      <td>11.5</td>\n",
       "    </tr>\n",
       "    <tr>\n",
       "      <th>22</th>\n",
       "      <td>Michigan</td>\n",
       "      <td>1027</td>\n",
       "      <td>12.9</td>\n",
       "    </tr>\n",
       "    <tr>\n",
       "      <th>23</th>\n",
       "      <td>Minnesota</td>\n",
       "      <td>370</td>\n",
       "      <td>8.3</td>\n",
       "    </tr>\n",
       "    <tr>\n",
       "      <th>24</th>\n",
       "      <td>Mississippi</td>\n",
       "      <td>543</td>\n",
       "      <td>20.8</td>\n",
       "    </tr>\n",
       "    <tr>\n",
       "      <th>25</th>\n",
       "      <td>Missouri</td>\n",
       "      <td>1054</td>\n",
       "      <td>11.0</td>\n",
       "    </tr>\n",
       "    <tr>\n",
       "      <th>26</th>\n",
       "      <td>Montana</td>\n",
       "      <td>111</td>\n",
       "      <td>11.9</td>\n",
       "    </tr>\n",
       "    <tr>\n",
       "      <th>27</th>\n",
       "      <td>Nebraska</td>\n",
       "      <td>291</td>\n",
       "      <td>10.6</td>\n",
       "    </tr>\n",
       "    <tr>\n",
       "      <th>28</th>\n",
       "      <td>Nevada</td>\n",
       "      <td>254</td>\n",
       "      <td>13.3</td>\n",
       "    </tr>\n",
       "    <tr>\n",
       "      <th>29</th>\n",
       "      <td>New Hampshire</td>\n",
       "      <td>190</td>\n",
       "      <td>6.9</td>\n",
       "    </tr>\n",
       "    <tr>\n",
       "      <th>30</th>\n",
       "      <td>New Jersey</td>\n",
       "      <td>1196</td>\n",
       "      <td>10.7</td>\n",
       "    </tr>\n",
       "    <tr>\n",
       "      <th>31</th>\n",
       "      <td>New Mexico</td>\n",
       "      <td>254</td>\n",
       "      <td>19.1</td>\n",
       "    </tr>\n",
       "    <tr>\n",
       "      <th>32</th>\n",
       "      <td>New York</td>\n",
       "      <td>1538</td>\n",
       "      <td>13.4</td>\n",
       "    </tr>\n",
       "    <tr>\n",
       "      <th>33</th>\n",
       "      <td>North Carolina</td>\n",
       "      <td>1478</td>\n",
       "      <td>15.3</td>\n",
       "    </tr>\n",
       "    <tr>\n",
       "      <th>34</th>\n",
       "      <td>North Dakota</td>\n",
       "      <td>93</td>\n",
       "      <td>10.5</td>\n",
       "    </tr>\n",
       "    <tr>\n",
       "      <th>35</th>\n",
       "      <td>Ohio</td>\n",
       "      <td>1665</td>\n",
       "      <td>14.3</td>\n",
       "    </tr>\n",
       "    <tr>\n",
       "      <th>36</th>\n",
       "      <td>Oklahoma</td>\n",
       "      <td>488</td>\n",
       "      <td>15.3</td>\n",
       "    </tr>\n",
       "    <tr>\n",
       "      <th>37</th>\n",
       "      <td>Oregon</td>\n",
       "      <td>302</td>\n",
       "      <td>12.7</td>\n",
       "    </tr>\n",
       "    <tr>\n",
       "      <th>38</th>\n",
       "      <td>Pennsylvania</td>\n",
       "      <td>1718</td>\n",
       "      <td>12.0</td>\n",
       "    </tr>\n",
       "    <tr>\n",
       "      <th>39</th>\n",
       "      <td>Rhode Island</td>\n",
       "      <td>140</td>\n",
       "      <td>11.5</td>\n",
       "    </tr>\n",
       "    <tr>\n",
       "      <th>40</th>\n",
       "      <td>South Carolina</td>\n",
       "      <td>1271</td>\n",
       "      <td>14.9</td>\n",
       "    </tr>\n",
       "    <tr>\n",
       "      <th>41</th>\n",
       "      <td>South Dakota</td>\n",
       "      <td>64</td>\n",
       "      <td>13.7</td>\n",
       "    </tr>\n",
       "    <tr>\n",
       "      <th>42</th>\n",
       "      <td>Tennessee</td>\n",
       "      <td>1016</td>\n",
       "      <td>15.6</td>\n",
       "    </tr>\n",
       "    <tr>\n",
       "      <th>43</th>\n",
       "      <td>Texas</td>\n",
       "      <td>2111</td>\n",
       "      <td>14.9</td>\n",
       "    </tr>\n",
       "    <tr>\n",
       "      <th>44</th>\n",
       "      <td>Utah</td>\n",
       "      <td>173</td>\n",
       "      <td>9.3</td>\n",
       "    </tr>\n",
       "    <tr>\n",
       "      <th>45</th>\n",
       "      <td>Vermont</td>\n",
       "      <td>125</td>\n",
       "      <td>9.9</td>\n",
       "    </tr>\n",
       "    <tr>\n",
       "      <th>46</th>\n",
       "      <td>Virginia</td>\n",
       "      <td>769</td>\n",
       "      <td>10.8</td>\n",
       "    </tr>\n",
       "    <tr>\n",
       "      <th>47</th>\n",
       "      <td>Washington</td>\n",
       "      <td>471</td>\n",
       "      <td>11.5</td>\n",
       "    </tr>\n",
       "    <tr>\n",
       "      <th>48</th>\n",
       "      <td>West Virginia</td>\n",
       "      <td>226</td>\n",
       "      <td>17.7</td>\n",
       "    </tr>\n",
       "    <tr>\n",
       "      <th>49</th>\n",
       "      <td>Wisconsin</td>\n",
       "      <td>856</td>\n",
       "      <td>11.0</td>\n",
       "    </tr>\n",
       "    <tr>\n",
       "      <th>50</th>\n",
       "      <td>Wyoming</td>\n",
       "      <td>60</td>\n",
       "      <td>10.1</td>\n",
       "    </tr>\n",
       "  </tbody>\n",
       "</table>\n",
       "</div>"
      ],
      "text/plain": [
       "                   state  total_incidents  povertyPercentage\n",
       "0                Alabama              810               16.8\n",
       "1                 Alaska              122               11.2\n",
       "2                Arizona              409               18.1\n",
       "3               Arkansas              461               16.8\n",
       "4             California             2752               14.5\n",
       "5               Colorado              430               10.2\n",
       "6            Connecticut              448                9.2\n",
       "7               Delaware              346               11.2\n",
       "8   District of Columbia              390               17.3\n",
       "9                Florida             2084               15.2\n",
       "10               Georgia             1557               16.8\n",
       "11                Hawaii               32               10.3\n",
       "12                 Idaho               93               11.9\n",
       "13              Illinois             2652               12.2\n",
       "14               Indiana              820               13.3\n",
       "15                  Iowa              501               10.1\n",
       "16                Kansas              329               12.5\n",
       "17              Kentucky              650               18.2\n",
       "18             Louisiana             1349               20.6\n",
       "19                 Maine              155               13.2\n",
       "20              Maryland              684                8.9\n",
       "21         Massachusetts              664               11.5\n",
       "22              Michigan             1027               12.9\n",
       "23             Minnesota              370                8.3\n",
       "24           Mississippi              543               20.8\n",
       "25              Missouri             1054               11.0\n",
       "26               Montana              111               11.9\n",
       "27              Nebraska              291               10.6\n",
       "28                Nevada              254               13.3\n",
       "29         New Hampshire              190                6.9\n",
       "30            New Jersey             1196               10.7\n",
       "31            New Mexico              254               19.1\n",
       "32              New York             1538               13.4\n",
       "33        North Carolina             1478               15.3\n",
       "34          North Dakota               93               10.5\n",
       "35                  Ohio             1665               14.3\n",
       "36              Oklahoma              488               15.3\n",
       "37                Oregon              302               12.7\n",
       "38          Pennsylvania             1718               12.0\n",
       "39          Rhode Island              140               11.5\n",
       "40        South Carolina             1271               14.9\n",
       "41          South Dakota               64               13.7\n",
       "42             Tennessee             1016               15.6\n",
       "43                 Texas             2111               14.9\n",
       "44                  Utah              173                9.3\n",
       "45               Vermont              125                9.9\n",
       "46              Virginia              769               10.8\n",
       "47            Washington              471               11.5\n",
       "48         West Virginia              226               17.7\n",
       "49             Wisconsin              856               11.0\n",
       "50               Wyoming               60               10.1"
      ]
     },
     "execution_count": 36,
     "metadata": {},
     "output_type": "execute_result"
    }
   ],
   "source": [
    "df_incidents_2014_state"
   ]
  },
  {
   "cell_type": "code",
   "execution_count": null,
   "metadata": {
    "collapsed": false
   },
   "outputs": [
    {
     "name": "stderr",
     "output_type": "stream",
     "text": [
      "C:\\Users\\HUAWEI\\AppData\\Local\\Temp\\ipykernel_19496\\1649330507.py:4: FutureWarning: The default value of numeric_only in DataFrame.corr is deprecated. In a future version, it will default to False. Select only valid columns or specify the value of numeric_only to silence this warning.\n",
      "  print(df_incidents_2014_state.corr())\n"
     ]
    },
    {
     "name": "stdout",
     "output_type": "stream",
     "text": [
      "                   total_incidents  povertyPercentage\n",
      "total_incidents           1.000000           0.251593\n",
      "povertyPercentage         0.251593           1.000000\n"
     ]
    },
    {
     "data": {
      "image/png": "[encoded data removed]",
      "text/plain": [
       "<Figure size 640x480 with 1 Axes>"
      ]
     },
     "metadata": {},
     "output_type": "display_data"
    }
   ],
   "source": [
    "# correlation between poverty and number of incidents\n",
    "df_incidents_2014_state.plot(x='povertyPercentage', y='total_incidents', kind='scatter', title='Correlation between poverty and number of incidents')\n",
    "# print the correlation coefficient\n",
    "print(df_incidents_2014_state.corr())"
   ]
  },
  {
   "cell_type": "code",
   "execution_count": null,
   "metadata": {},
   "outputs": [],
   "source": []
  }
 ],
 "metadata": {
  "kernelspec": {
   "display_name": "Python 3",
   "language": "python",
   "name": "python3"
  },
  "language_info": {
   "codemirror_mode": {
    "name": "ipython",
    "version": 3
   },
   "file_extension": ".py",
   "mimetype": "text/x-python",
   "name": "python",
   "nbconvert_exporter": "python",
   "pygments_lexer": "ipython3",
   "version": "3.10.8"
  }
 },
 "nbformat": 4,
 "nbformat_minor": 0
}
