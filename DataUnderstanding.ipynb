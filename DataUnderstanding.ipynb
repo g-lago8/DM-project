{
 "cells": [
  {
   "cell_type": "markdown",
   "source": [
    "# Task 1.1 Data Understanding"
   ],
   "metadata": {
    "collapsed": false
   }
  },
  {
   "cell_type": "code",
   "execution_count": 2,
   "outputs": [],
   "source": [
    "%matplotlib inline\n",
    "import math\n",
    "import numpy as np\n",
    "import pandas as pd\n",
    "import scipy.stats as stats\n",
    "import matplotlib.pyplot as plt\n",
    "\n",
    "from collections import defaultdict\n",
    "from scipy.stats import pearsonr"
   ],
   "metadata": {
    "collapsed": false,
    "ExecuteTime": {
     "start_time": "2023-10-12T14:49:20.213798Z",
     "end_time": "2023-10-12T14:49:22.033023Z"
    }
   }
  },
  {
   "cell_type": "markdown",
   "source": [
    "## Dataset Loading"
   ],
   "metadata": {
    "collapsed": false
   }
  },
  {
   "cell_type": "code",
   "execution_count": 3,
   "outputs": [],
   "source": [
    "df_incidents = pd.read_csv('incidents.csv', sep=',', index_col=False, low_memory=False) # gun incidents in the USA\n",
    "# Note: since the first column isn't a column of indexes (it's the date column), we set index_col=False\n",
    "\n",
    "df_poverty = pd.read_csv('povertyByStateYear.csv', sep=',', index_col=False) # poverty percentage in the USA\n",
    "# Note: the first column isn't a column of indexes\n",
    "\n",
    "df_elections = pd.read_csv('year_state_district_house.csv', sep=',', index_col=False) # congressional elections in the USA\n",
    "# Note: the first column isn't a column of indexes"
   ],
   "metadata": {
    "collapsed": false,
    "ExecuteTime": {
     "start_time": "2023-10-12T14:51:16.239675Z",
     "end_time": "2023-10-12T14:51:17.601018Z"
    }
   }
  },
  {
   "cell_type": "code",
   "execution_count": 7,
   "outputs": [
    {
     "name": "stdout",
     "output_type": "stream",
     "text": [
      "         date                 state city_or_county  \\\n",
      "0  2015-05-02               Indiana   Indianapolis   \n",
      "1  2017-04-03          Pennsylvania           Kane   \n",
      "2  2016-11-05              Michigan        Detroit   \n",
      "3  2016-10-15  District of Columbia     Washington   \n",
      "4  2030-06-14          Pennsylvania     Pittsburgh   \n",
      "\n",
      "                              address  latitude  longitude  \\\n",
      "0       Lafayette Road and Pike Plaza   39.8322   -86.2492   \n",
      "1                           5647 US 6   41.6645   -78.7856   \n",
      "2   6200 Block of East McNichols Road   42.4190   -83.0393   \n",
      "3  1000 block of Bladensburg Road, NE   38.9030   -76.9820   \n",
      "4     California and Marshall Avenues   40.4621   -80.0308   \n",
      "\n",
      "   congressional_district  state_house_district  state_senate_district  \\\n",
      "0                     7.0                  94.0                   33.0   \n",
      "1                     5.0                   NaN                    NaN   \n",
      "2                    14.0                   4.0                    2.0   \n",
      "3                     1.0                   NaN                    NaN   \n",
      "4                    14.0                   NaN                    NaN   \n",
      "\n",
      "   participant_age1  ... n_males n_females n_killed n_injured n_arrested  \\\n",
      "0              19.0  ...     1.0       0.0        0         1        0.0   \n",
      "1              62.0  ...     1.0       0.0        1         0        0.0   \n",
      "2               NaN  ...     NaN       NaN        0         1        0.0   \n",
      "3               NaN  ...     1.0       0.0        0         1        0.0   \n",
      "4               NaN  ...     1.0       0.0        0         1        0.0   \n",
      "\n",
      "  n_unharmed n_participants  \\\n",
      "0        0.0            1.0   \n",
      "1        0.0            1.0   \n",
      "2        1.0            2.0   \n",
      "3        0.0            2.0   \n",
      "4        1.0            2.0   \n",
      "\n",
      "                                               notes  \\\n",
      "0  Teen wounded while walking - Security guard at...   \n",
      "1                           shot self after accident   \n",
      "2                                             1 inj.   \n",
      "3                                                NaN   \n",
      "4                                                NaN   \n",
      "\n",
      "                   incident_characteristics1  \\\n",
      "0                     Shot - Wounded/Injured   \n",
      "1  Shot - Dead (murder, accidental, suicide)   \n",
      "2                     Shot - Wounded/Injured   \n",
      "3                     Shot - Wounded/Injured   \n",
      "4                     Shot - Wounded/Injured   \n",
      "\n",
      "              incident_characteristics2  \n",
      "0                                   NaN  \n",
      "1                              Suicide^  \n",
      "2                                   NaN  \n",
      "3                                   NaN  \n",
      "4  Drive-by (car to street, car to car)  \n",
      "\n",
      "[5 rows x 28 columns]\n"
     ]
    }
   ],
   "source": [
    "print(df_incidents.head())"
   ],
   "metadata": {
    "collapsed": false,
    "ExecuteTime": {
     "start_time": "2023-10-12T14:52:55.996082Z",
     "end_time": "2023-10-12T14:52:56.024770Z"
    }
   }
  },
  {
   "cell_type": "code",
   "execution_count": 8,
   "outputs": [
    {
     "name": "stdout",
     "output_type": "stream",
     "text": [
      "           state  year  povertyPercentage\n",
      "0  United States  2020               11.5\n",
      "1        Alabama  2020               14.8\n",
      "2         Alaska  2020               11.5\n",
      "3        Arizona  2020               12.1\n",
      "4       Arkansas  2020               15.8\n"
     ]
    }
   ],
   "source": [
    "print(df_poverty.head())"
   ],
   "metadata": {
    "collapsed": false,
    "ExecuteTime": {
     "start_time": "2023-10-12T14:53:33.026612Z",
     "end_time": "2023-10-12T14:53:33.029233Z"
    }
   }
  },
  {
   "cell_type": "code",
   "execution_count": 9,
   "outputs": [
    {
     "name": "stdout",
     "output_type": "stream",
     "text": [
      "   year    state  congressional_district       party  candidatevotes  \\\n",
      "0  1976  ALABAMA                       1  REPUBLICAN           98257   \n",
      "1  1976  ALABAMA                       2  REPUBLICAN           90069   \n",
      "2  1976  ALABAMA                       3    DEMOCRAT          106935   \n",
      "3  1976  ALABAMA                       4    DEMOCRAT          141490   \n",
      "4  1976  ALABAMA                       5    DEMOCRAT          113553   \n",
      "\n",
      "   totalvotes  \n",
      "0      157170  \n",
      "1      156362  \n",
      "2      108048  \n",
      "3      176022  \n",
      "4      113560  \n"
     ]
    }
   ],
   "source": [
    "print(df_elections.head())"
   ],
   "metadata": {
    "collapsed": false,
    "ExecuteTime": {
     "start_time": "2023-10-12T14:53:48.407603Z",
     "end_time": "2023-10-12T14:53:48.413183Z"
    }
   }
  },
  {
   "cell_type": "markdown",
   "source": [
    "## Basic Statistics"
   ],
   "metadata": {
    "collapsed": false
   }
  },
  {
   "cell_type": "code",
   "execution_count": 10,
   "outputs": [
    {
     "name": "stdout",
     "output_type": "stream",
     "text": [
      "<class 'pandas.core.frame.DataFrame'>\n",
      "RangeIndex: 239677 entries, 0 to 239676\n",
      "Data columns (total 28 columns):\n",
      " #   Column                     Non-Null Count   Dtype  \n",
      "---  ------                     --------------   -----  \n",
      " 0   date                       239677 non-null  object \n",
      " 1   state                      239677 non-null  object \n",
      " 2   city_or_county             239677 non-null  object \n",
      " 3   address                    223180 non-null  object \n",
      " 4   latitude                   231754 non-null  float64\n",
      " 5   longitude                  231754 non-null  float64\n",
      " 6   congressional_district     227733 non-null  float64\n",
      " 7   state_house_district       200905 non-null  float64\n",
      " 8   state_senate_district      207342 non-null  float64\n",
      " 9   participant_age1           147379 non-null  float64\n",
      " 10  participant_age_group1     197558 non-null  object \n",
      " 11  participant_gender1        203315 non-null  object \n",
      " 12  min_age_participants       164879 non-null  object \n",
      " 13  avg_age_participants       165057 non-null  object \n",
      " 14  max_age_participants       164969 non-null  object \n",
      " 15  n_participants_child       197573 non-null  object \n",
      " 16  n_participants_teen        197578 non-null  object \n",
      " 17  n_participants_adult       197575 non-null  object \n",
      " 18  n_males                    203315 non-null  float64\n",
      " 19  n_females                  203315 non-null  float64\n",
      " 20  n_killed                   239677 non-null  int64  \n",
      " 21  n_injured                  239677 non-null  int64  \n",
      " 22  n_arrested                 212051 non-null  float64\n",
      " 23  n_unharmed                 212051 non-null  float64\n",
      " 24  n_participants             239677 non-null  float64\n",
      " 25  notes                      158660 non-null  object \n",
      " 26  incident_characteristics1  239351 non-null  object \n",
      " 27  incident_characteristics2  141931 non-null  object \n",
      "dtypes: float64(11), int64(2), object(15)\n",
      "memory usage: 51.2+ MB\n",
      "\n",
      "<class 'pandas.core.frame.DataFrame'>\n",
      "RangeIndex: 884 entries, 0 to 883\n",
      "Data columns (total 3 columns):\n",
      " #   Column             Non-Null Count  Dtype  \n",
      "---  ------             --------------  -----  \n",
      " 0   state              884 non-null    object \n",
      " 1   year               884 non-null    int64  \n",
      " 2   povertyPercentage  832 non-null    float64\n",
      "dtypes: float64(1), int64(1), object(1)\n",
      "memory usage: 20.8+ KB\n",
      "\n",
      "<class 'pandas.core.frame.DataFrame'>\n",
      "RangeIndex: 10441 entries, 0 to 10440\n",
      "Data columns (total 6 columns):\n",
      " #   Column                  Non-Null Count  Dtype \n",
      "---  ------                  --------------  ----- \n",
      " 0   year                    10441 non-null  int64 \n",
      " 1   state                   10441 non-null  object\n",
      " 2   congressional_district  10441 non-null  int64 \n",
      " 3   party                   10441 non-null  object\n",
      " 4   candidatevotes          10441 non-null  int64 \n",
      " 5   totalvotes              10441 non-null  int64 \n",
      "dtypes: int64(4), object(2)\n",
      "memory usage: 489.6+ KB\n"
     ]
    }
   ],
   "source": [
    "df_incidents.info()\n",
    "print()\n",
    "df_poverty.info()\n",
    "print()\n",
    "df_elections.info()"
   ],
   "metadata": {
    "collapsed": false,
    "ExecuteTime": {
     "start_time": "2023-10-12T14:54:36.802104Z",
     "end_time": "2023-10-12T14:54:36.944529Z"
    }
   }
  },
  {
   "cell_type": "code",
   "execution_count": 19,
   "outputs": [
    {
     "data": {
      "text/plain": "            latitude      longitude  congressional_district  \\\ncount  231754.000000  231754.000000           227733.000000   \nmean       37.546598     -89.338348                8.001265   \nstd         5.130763      14.359546                8.480835   \nmin        19.111400    -171.429000                0.000000   \n25%        33.903400     -94.158725                2.000000   \n50%        38.570600     -86.249600                5.000000   \n75%        41.437375     -80.048625               10.000000   \nmax        71.336800      97.433100               53.000000   \n\n       state_house_district  state_senate_district  participant_age1  \\\ncount         200905.000000           207342.00000     147379.000000   \nmean              55.447132               20.47711         30.295707   \nstd               42.048117               14.20456         13.363592   \nmin                1.000000                1.00000          0.000000   \n25%               21.000000                9.00000         21.000000   \n50%               47.000000               19.00000         27.000000   \n75%               84.000000               30.00000         37.000000   \nmax              901.000000               94.00000        311.000000   \n\n             n_males      n_females       n_killed      n_injured  \\\ncount  203315.000000  203315.000000  239677.000000  239677.000000   \nmean        1.520252       0.212340       0.252290       0.494007   \nstd         0.996767       0.490888       0.521779       0.729952   \nmin         0.000000       0.000000       0.000000       0.000000   \n25%         1.000000       0.000000       0.000000       0.000000   \n50%         1.000000       0.000000       0.000000       0.000000   \n75%         2.000000       0.000000       0.000000       1.000000   \nmax        61.000000      23.000000      50.000000      53.000000   \n\n          n_arrested     n_unharmed  n_participants  \ncount  212051.000000  212051.000000   239677.000000  \nmean        0.468439       0.494169        1.636895  \nstd         0.851035       0.925566        1.252514  \nmin         0.000000       0.000000        0.000000  \n25%         0.000000       0.000000        1.000000  \n50%         0.000000       0.000000        1.000000  \n75%         1.000000       1.000000        2.000000  \nmax        63.000000      20.000000      103.000000  ",
      "text/html": "<div>\n<style scoped>\n    .dataframe tbody tr th:only-of-type {\n        vertical-align: middle;\n    }\n\n    .dataframe tbody tr th {\n        vertical-align: top;\n    }\n\n    .dataframe thead th {\n        text-align: right;\n    }\n</style>\n<table border=\"1\" class=\"dataframe\">\n  <thead>\n    <tr style=\"text-align: right;\">\n      <th></th>\n      <th>latitude</th>\n      <th>longitude</th>\n      <th>congressional_district</th>\n      <th>state_house_district</th>\n      <th>state_senate_district</th>\n      <th>participant_age1</th>\n      <th>n_males</th>\n      <th>n_females</th>\n      <th>n_killed</th>\n      <th>n_injured</th>\n      <th>n_arrested</th>\n      <th>n_unharmed</th>\n      <th>n_participants</th>\n    </tr>\n  </thead>\n  <tbody>\n    <tr>\n      <th>count</th>\n      <td>231754.000000</td>\n      <td>231754.000000</td>\n      <td>227733.000000</td>\n      <td>200905.000000</td>\n      <td>207342.00000</td>\n      <td>147379.000000</td>\n      <td>203315.000000</td>\n      <td>203315.000000</td>\n      <td>239677.000000</td>\n      <td>239677.000000</td>\n      <td>212051.000000</td>\n      <td>212051.000000</td>\n      <td>239677.000000</td>\n    </tr>\n    <tr>\n      <th>mean</th>\n      <td>37.546598</td>\n      <td>-89.338348</td>\n      <td>8.001265</td>\n      <td>55.447132</td>\n      <td>20.47711</td>\n      <td>30.295707</td>\n      <td>1.520252</td>\n      <td>0.212340</td>\n      <td>0.252290</td>\n      <td>0.494007</td>\n      <td>0.468439</td>\n      <td>0.494169</td>\n      <td>1.636895</td>\n    </tr>\n    <tr>\n      <th>std</th>\n      <td>5.130763</td>\n      <td>14.359546</td>\n      <td>8.480835</td>\n      <td>42.048117</td>\n      <td>14.20456</td>\n      <td>13.363592</td>\n      <td>0.996767</td>\n      <td>0.490888</td>\n      <td>0.521779</td>\n      <td>0.729952</td>\n      <td>0.851035</td>\n      <td>0.925566</td>\n      <td>1.252514</td>\n    </tr>\n    <tr>\n      <th>min</th>\n      <td>19.111400</td>\n      <td>-171.429000</td>\n      <td>0.000000</td>\n      <td>1.000000</td>\n      <td>1.00000</td>\n      <td>0.000000</td>\n      <td>0.000000</td>\n      <td>0.000000</td>\n      <td>0.000000</td>\n      <td>0.000000</td>\n      <td>0.000000</td>\n      <td>0.000000</td>\n      <td>0.000000</td>\n    </tr>\n    <tr>\n      <th>25%</th>\n      <td>33.903400</td>\n      <td>-94.158725</td>\n      <td>2.000000</td>\n      <td>21.000000</td>\n      <td>9.00000</td>\n      <td>21.000000</td>\n      <td>1.000000</td>\n      <td>0.000000</td>\n      <td>0.000000</td>\n      <td>0.000000</td>\n      <td>0.000000</td>\n      <td>0.000000</td>\n      <td>1.000000</td>\n    </tr>\n    <tr>\n      <th>50%</th>\n      <td>38.570600</td>\n      <td>-86.249600</td>\n      <td>5.000000</td>\n      <td>47.000000</td>\n      <td>19.00000</td>\n      <td>27.000000</td>\n      <td>1.000000</td>\n      <td>0.000000</td>\n      <td>0.000000</td>\n      <td>0.000000</td>\n      <td>0.000000</td>\n      <td>0.000000</td>\n      <td>1.000000</td>\n    </tr>\n    <tr>\n      <th>75%</th>\n      <td>41.437375</td>\n      <td>-80.048625</td>\n      <td>10.000000</td>\n      <td>84.000000</td>\n      <td>30.00000</td>\n      <td>37.000000</td>\n      <td>2.000000</td>\n      <td>0.000000</td>\n      <td>0.000000</td>\n      <td>1.000000</td>\n      <td>1.000000</td>\n      <td>1.000000</td>\n      <td>2.000000</td>\n    </tr>\n    <tr>\n      <th>max</th>\n      <td>71.336800</td>\n      <td>97.433100</td>\n      <td>53.000000</td>\n      <td>901.000000</td>\n      <td>94.00000</td>\n      <td>311.000000</td>\n      <td>61.000000</td>\n      <td>23.000000</td>\n      <td>50.000000</td>\n      <td>53.000000</td>\n      <td>63.000000</td>\n      <td>20.000000</td>\n      <td>103.000000</td>\n    </tr>\n  </tbody>\n</table>\n</div>"
     },
     "execution_count": 19,
     "metadata": {},
     "output_type": "execute_result"
    }
   ],
   "source": [
    "df_incidents.describe()"
   ],
   "metadata": {
    "collapsed": false,
    "ExecuteTime": {
     "start_time": "2023-10-12T15:43:34.993039Z",
     "end_time": "2023-10-12T15:43:35.229871Z"
    }
   }
  },
  {
   "cell_type": "code",
   "execution_count": 20,
   "outputs": [
    {
     "data": {
      "text/plain": "              year  povertyPercentage\ncount   884.000000         832.000000\nmean   2011.998869          12.535817\nstd       4.902330           3.205233\nmin    2004.000000           5.400000\n25%    2008.000000          10.200000\n50%    2012.000000          12.000000\n75%    2016.000000          14.700000\nmax    2020.000000          21.800000",
      "text/html": "<div>\n<style scoped>\n    .dataframe tbody tr th:only-of-type {\n        vertical-align: middle;\n    }\n\n    .dataframe tbody tr th {\n        vertical-align: top;\n    }\n\n    .dataframe thead th {\n        text-align: right;\n    }\n</style>\n<table border=\"1\" class=\"dataframe\">\n  <thead>\n    <tr style=\"text-align: right;\">\n      <th></th>\n      <th>year</th>\n      <th>povertyPercentage</th>\n    </tr>\n  </thead>\n  <tbody>\n    <tr>\n      <th>count</th>\n      <td>884.000000</td>\n      <td>832.000000</td>\n    </tr>\n    <tr>\n      <th>mean</th>\n      <td>2011.998869</td>\n      <td>12.535817</td>\n    </tr>\n    <tr>\n      <th>std</th>\n      <td>4.902330</td>\n      <td>3.205233</td>\n    </tr>\n    <tr>\n      <th>min</th>\n      <td>2004.000000</td>\n      <td>5.400000</td>\n    </tr>\n    <tr>\n      <th>25%</th>\n      <td>2008.000000</td>\n      <td>10.200000</td>\n    </tr>\n    <tr>\n      <th>50%</th>\n      <td>2012.000000</td>\n      <td>12.000000</td>\n    </tr>\n    <tr>\n      <th>75%</th>\n      <td>2016.000000</td>\n      <td>14.700000</td>\n    </tr>\n    <tr>\n      <th>max</th>\n      <td>2020.000000</td>\n      <td>21.800000</td>\n    </tr>\n  </tbody>\n</table>\n</div>"
     },
     "execution_count": 20,
     "metadata": {},
     "output_type": "execute_result"
    }
   ],
   "source": [
    "df_poverty.describe()"
   ],
   "metadata": {
    "collapsed": false,
    "ExecuteTime": {
     "start_time": "2023-10-12T15:43:41.052668Z",
     "end_time": "2023-10-12T15:43:41.082692Z"
    }
   }
  },
  {
   "cell_type": "code",
   "execution_count": 18,
   "outputs": [
    {
     "data": {
      "text/plain": "               year  congressional_district  candidatevotes    totalvotes\ncount  10441.000000            10441.000000    1.044100e+04  1.044100e+04\nmean    1999.002011                9.873096    1.345276e+05  2.076422e+05\nstd       13.845898               10.017078    5.160721e+04  8.262643e+04\nmin     1976.000000                0.000000   -1.000000e+00 -1.000000e+00\n25%     1988.000000                3.000000    1.004870e+05  1.554510e+05\n50%     2000.000000                6.000000    1.290850e+05  2.004450e+05\n75%     2012.000000               13.000000    1.653710e+05  2.555770e+05\nmax     2022.000000               53.000000    1.165136e+06  2.656104e+06",
      "text/html": "<div>\n<style scoped>\n    .dataframe tbody tr th:only-of-type {\n        vertical-align: middle;\n    }\n\n    .dataframe tbody tr th {\n        vertical-align: top;\n    }\n\n    .dataframe thead th {\n        text-align: right;\n    }\n</style>\n<table border=\"1\" class=\"dataframe\">\n  <thead>\n    <tr style=\"text-align: right;\">\n      <th></th>\n      <th>year</th>\n      <th>congressional_district</th>\n      <th>candidatevotes</th>\n      <th>totalvotes</th>\n    </tr>\n  </thead>\n  <tbody>\n    <tr>\n      <th>count</th>\n      <td>10441.000000</td>\n      <td>10441.000000</td>\n      <td>1.044100e+04</td>\n      <td>1.044100e+04</td>\n    </tr>\n    <tr>\n      <th>mean</th>\n      <td>1999.002011</td>\n      <td>9.873096</td>\n      <td>1.345276e+05</td>\n      <td>2.076422e+05</td>\n    </tr>\n    <tr>\n      <th>std</th>\n      <td>13.845898</td>\n      <td>10.017078</td>\n      <td>5.160721e+04</td>\n      <td>8.262643e+04</td>\n    </tr>\n    <tr>\n      <th>min</th>\n      <td>1976.000000</td>\n      <td>0.000000</td>\n      <td>-1.000000e+00</td>\n      <td>-1.000000e+00</td>\n    </tr>\n    <tr>\n      <th>25%</th>\n      <td>1988.000000</td>\n      <td>3.000000</td>\n      <td>1.004870e+05</td>\n      <td>1.554510e+05</td>\n    </tr>\n    <tr>\n      <th>50%</th>\n      <td>2000.000000</td>\n      <td>6.000000</td>\n      <td>1.290850e+05</td>\n      <td>2.004450e+05</td>\n    </tr>\n    <tr>\n      <th>75%</th>\n      <td>2012.000000</td>\n      <td>13.000000</td>\n      <td>1.653710e+05</td>\n      <td>2.555770e+05</td>\n    </tr>\n    <tr>\n      <th>max</th>\n      <td>2022.000000</td>\n      <td>53.000000</td>\n      <td>1.165136e+06</td>\n      <td>2.656104e+06</td>\n    </tr>\n  </tbody>\n</table>\n</div>"
     },
     "execution_count": 18,
     "metadata": {},
     "output_type": "execute_result"
    }
   ],
   "source": [
    "df_elections.describe()"
   ],
   "metadata": {
    "collapsed": false,
    "ExecuteTime": {
     "start_time": "2023-10-12T15:42:56.998223Z",
     "end_time": "2023-10-12T15:42:57.017649Z"
    }
   }
  },
  {
   "cell_type": "code",
   "execution_count": 11,
   "outputs": [
    {
     "name": "stdout",
     "output_type": "stream",
     "text": [
      "Number of distinct values in 'date': \t 2437\n"
     ]
    }
   ],
   "source": [
    "# Here we justify why the date column in df_incidents can't be used as index column\n",
    "\n",
    "print(\"Number of distinct values in 'date': \\t\", df_incidents.date.nunique())\n",
    "\n",
    "# Since there are 239677 incidents, and it turns out that there are 2437 distinct dates, we deduce that on certain dates multiple incidents occurred. In conclusion, the dates are not a unique identifier for the incidents."
   ],
   "metadata": {
    "collapsed": false,
    "ExecuteTime": {
     "start_time": "2023-10-12T14:55:04.899798Z",
     "end_time": "2023-10-12T14:55:04.918020Z"
    }
   }
  },
  {
   "cell_type": "code",
   "execution_count": 12,
   "outputs": [
    {
     "data": {
      "text/plain": "date                         False\nstate                        False\ncity_or_county               False\naddress                       True\nlatitude                      True\nlongitude                     True\ncongressional_district        True\nstate_house_district          True\nstate_senate_district         True\nparticipant_age1              True\nparticipant_age_group1        True\nparticipant_gender1           True\nmin_age_participants          True\navg_age_participants          True\nmax_age_participants          True\nn_participants_child          True\nn_participants_teen           True\nn_participants_adult          True\nn_males                       True\nn_females                     True\nn_killed                     False\nn_injured                    False\nn_arrested                    True\nn_unharmed                    True\nn_participants               False\nnotes                         True\nincident_characteristics1     True\nincident_characteristics2     True\ndtype: bool"
     },
     "execution_count": 12,
     "metadata": {},
     "output_type": "execute_result"
    }
   ],
   "source": [
    "# Missing values detection\n",
    "\n",
    "df_incidents.isnull().any()"
   ],
   "metadata": {
    "collapsed": false,
    "ExecuteTime": {
     "start_time": "2023-10-12T14:56:22.476012Z",
     "end_time": "2023-10-12T14:56:22.600613Z"
    }
   }
  },
  {
   "cell_type": "code",
   "execution_count": 13,
   "outputs": [
    {
     "data": {
      "text/plain": "state                False\nyear                 False\npovertyPercentage     True\ndtype: bool"
     },
     "execution_count": 13,
     "metadata": {},
     "output_type": "execute_result"
    }
   ],
   "source": [
    "df_poverty.isnull().any()"
   ],
   "metadata": {
    "collapsed": false,
    "ExecuteTime": {
     "start_time": "2023-10-12T14:58:06.206782Z",
     "end_time": "2023-10-12T14:58:06.225813Z"
    }
   }
  },
  {
   "cell_type": "code",
   "execution_count": 14,
   "outputs": [
    {
     "data": {
      "text/plain": "year                      False\nstate                     False\ncongressional_district    False\nparty                     False\ncandidatevotes            False\ntotalvotes                False\ndtype: bool"
     },
     "execution_count": 14,
     "metadata": {},
     "output_type": "execute_result"
    }
   ],
   "source": [
    "df_elections.isnull().any()"
   ],
   "metadata": {
    "collapsed": false,
    "ExecuteTime": {
     "start_time": "2023-10-12T14:58:18.733926Z",
     "end_time": "2023-10-12T14:58:18.753617Z"
    }
   }
  },
  {
   "cell_type": "markdown",
   "source": [
    "## Identification of outliers"
   ],
   "metadata": {
    "collapsed": false
   }
  },
  {
   "cell_type": "markdown",
   "source": [
    "### Incidents"
   ],
   "metadata": {
    "collapsed": false
   }
  },
  {
   "cell_type": "code",
   "execution_count": 28,
   "outputs": [
    {
     "data": {
      "text/plain": "<Figure size 640x480 with 1 Axes>",
      "image/png": "[encoded data removed]"
     },
     "metadata": {},
     "output_type": "display_data"
    }
   ],
   "source": [
    "# We want to identify the dates in df_incidents that are erroneous\n",
    "\n",
    "df_incidents.date = pd.to_datetime(df_incidents.date, errors='coerce') # the invalid dates are set to NaT (=Not a Time)\n",
    "\n",
    "df_incidents.date.groupby(df_incidents.date.dt.year).count().plot(kind='bar')\n",
    "plt.show()\n",
    "\n",
    "# From the following histogram we deduce that there are some incidents that should have happened after 2023 (the year we are in), so it is certainly impossible for us to have this data today"
   ],
   "metadata": {
    "collapsed": false,
    "ExecuteTime": {
     "start_time": "2023-10-12T16:49:34.173280Z",
     "end_time": "2023-10-12T16:49:34.349620Z"
    }
   }
  },
  {
   "cell_type": "code",
   "execution_count": null,
   "outputs": [],
   "source": [
    "# We eliminate the incidents with year > 2018 (?)"
   ],
   "metadata": {
    "collapsed": false
   }
  },
  {
   "cell_type": "markdown",
   "source": [
    "### Poverty"
   ],
   "metadata": {
    "collapsed": false
   }
  },
  {
   "cell_type": "code",
   "execution_count": 4,
   "outputs": [
    {
     "name": "stdout",
     "output_type": "stream",
     "text": [
      "Distinct Values in state: \t ['United States' 'Alabama' 'Alaska' 'Arizona' 'Arkansas' 'California'\n",
      " 'Colorado' 'Connecticut' 'Delaware' 'District of Columbia' 'Florida'\n",
      " 'Georgia' 'Hawaii' 'Idaho' 'Illinois' 'Indiana' 'Iowa' 'Kansas'\n",
      " 'Kentucky' 'Louisiana' 'Maine' 'Maryland' 'Massachusetts' 'Michigan'\n",
      " 'Minnesota' 'Mississippi' 'Missouri' 'Montana' 'Nebraska' 'Nevada'\n",
      " 'New Hampshire' 'New Jersey' 'New Mexico' 'New York' 'North Carolina'\n",
      " 'North Dakota' 'Ohio' 'Oklahoma' 'Oregon' 'Pennsylvania' 'Rhode Island'\n",
      " 'South Carolina' 'South Dakota' 'Tennessee' 'Texas' 'Utah' 'Vermont'\n",
      " 'Virginia' 'Washington' 'West Virginia' 'Wisconsin' 'Wyoming']\n"
     ]
    }
   ],
   "source": [
    "print(\"Distinct Values in state: \\t\", df_poverty.state.unique())"
   ],
   "metadata": {
    "collapsed": false
   }
  },
  {
   "cell_type": "code",
   "execution_count": 6,
   "outputs": [
    {
     "name": "stdout",
     "output_type": "stream",
     "text": [
      "Distinct Values in state: \t 52\n"
     ]
    }
   ],
   "source": [
    "print(\"Distinct Values in state: \\t\", df_poverty.state.nunique())\n",
    "# We notice that there are 52 states, however the USA has 50 distinct states\n",
    "# Observing the distinct values we notice that there are 2 erroneous instances: 'United States', and 'District of Columbia'"
   ],
   "metadata": {
    "collapsed": false
   }
  },
  {
   "cell_type": "code",
   "execution_count": 22,
   "outputs": [],
   "source": [],
   "metadata": {
    "collapsed": false,
    "ExecuteTime": {
     "start_time": "2023-10-12T16:07:49.393596Z",
     "end_time": "2023-10-12T16:07:49.409841Z"
    }
   }
  },
  {
   "cell_type": "markdown",
   "source": [
    "### Elections"
   ],
   "metadata": {
    "collapsed": false
   }
  },
  {
   "cell_type": "code",
   "execution_count": 26,
   "outputs": [
    {
     "name": "stdout",
     "output_type": "stream",
     "text": [
      "Distinct Values in state: \t ['ALABAMA' 'ALASKA' 'ARIZONA' 'ARKANSAS' 'CALIFORNIA' 'COLORADO'\n",
      " 'CONNECTICUT' 'DELAWARE' 'FLORIDA' 'GEORGIA' 'HAWAII' 'IDAHO' 'ILLINOIS'\n",
      " 'INDIANA' 'IOWA' 'KANSAS' 'KENTUCKY' 'LOUISIANA' 'MAINE' 'MARYLAND'\n",
      " 'MASSACHUSETTS' 'MICHIGAN' 'MINNESOTA' 'MISSISSIPPI' 'MISSOURI' 'MONTANA'\n",
      " 'NEBRASKA' 'NEVADA' 'NEW HAMPSHIRE' 'NEW JERSEY' 'NEW MEXICO' 'NEW YORK'\n",
      " 'NORTH CAROLINA' 'NORTH DAKOTA' 'OHIO' 'OKLAHOMA' 'OREGON' 'PENNSYLVANIA'\n",
      " 'RHODE ISLAND' 'SOUTH CAROLINA' 'SOUTH DAKOTA' 'TENNESSEE' 'TEXAS' 'UTAH'\n",
      " 'VERMONT' 'VIRGINIA' 'WASHINGTON' 'WEST VIRGINIA' 'WISCONSIN' 'WYOMING'\n",
      " 'DISTRICT OF COLUMBIA']\n"
     ]
    }
   ],
   "source": [
    "print(\"Distinct Values in state: \\t\", df_elections.state.unique())"
   ],
   "metadata": {
    "collapsed": false,
    "ExecuteTime": {
     "start_time": "2023-10-12T16:10:43.302726Z",
     "end_time": "2023-10-12T16:10:43.320546Z"
    }
   }
  },
  {
   "cell_type": "code",
   "execution_count": 25,
   "outputs": [
    {
     "name": "stdout",
     "output_type": "stream",
     "text": [
      "Distinct Values in state: \t 51\n"
     ]
    }
   ],
   "source": [
    "print(\"Distinct Values in state: \\t\", df_elections.state.nunique())\n",
    "# There is an erroneous instance: 'DISTRICT OF COLUMBIA'"
   ],
   "metadata": {
    "collapsed": false,
    "ExecuteTime": {
     "start_time": "2023-10-12T16:10:26.890715Z",
     "end_time": "2023-10-12T16:10:26.909607Z"
    }
   }
  },
  {
   "cell_type": "markdown",
   "source": [
    "## Distributions"
   ],
   "metadata": {
    "collapsed": false
   }
  },
  {
   "cell_type": "code",
   "execution_count": 15,
   "outputs": [
    {
     "data": {
      "text/plain": "<Figure size 640x480 with 1 Axes>",
      "image/png": "[encoded data removed]"
     },
     "metadata": {},
     "output_type": "display_data"
    }
   ],
   "source": [
    "df_incidents['n_participants'].value_counts().plot(kind='bar', title='Number of participants')\n",
    "plt.show()"
   ],
   "metadata": {
    "collapsed": false,
    "ExecuteTime": {
     "start_time": "2023-10-12T15:00:19.790884Z",
     "end_time": "2023-10-12T15:00:20.082669Z"
    }
   }
  },
  {
   "cell_type": "code",
   "execution_count": 16,
   "outputs": [
    {
     "data": {
      "text/plain": "<Figure size 640x480 with 1 Axes>",
      "image/png": "[encoded data removed]"
     },
     "metadata": {},
     "output_type": "display_data"
    }
   ],
   "source": [
    "df_incidents['n_killed'].value_counts().plot(kind='bar', title='Number of killed')\n",
    "plt.show()"
   ],
   "metadata": {
    "collapsed": false,
    "ExecuteTime": {
     "start_time": "2023-10-12T15:00:34.022613Z",
     "end_time": "2023-10-12T15:00:34.207551Z"
    }
   }
  },
  {
   "cell_type": "code",
   "execution_count": null,
   "outputs": [],
   "source": [],
   "metadata": {
    "collapsed": false
   }
  },
  {
   "cell_type": "code",
   "execution_count": null,
   "outputs": [],
   "source": [],
   "metadata": {
    "collapsed": false
   }
  }
 ],
 "metadata": {
  "kernelspec": {
   "display_name": "Python 3",
   "language": "python",
   "name": "python3"
  },
  "language_info": {
   "codemirror_mode": {
    "name": "ipython",
    "version": 2
   },
   "file_extension": ".py",
   "mimetype": "text/x-python",
   "name": "python",
   "nbconvert_exporter": "python",
   "pygments_lexer": "ipython2",
   "version": "2.7.6"
  }
 },
 "nbformat": 4,
 "nbformat_minor": 0
}
