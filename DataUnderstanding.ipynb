{
 "cells": [
  {
   "cell_type": "markdown",
   "metadata": {
    "collapsed": false
   },
   "source": [
    "# Task 1.1 Data Cleaning & Understanding"
   ]
  },
  {
   "cell_type": "code",
   "execution_count": 203,
   "metadata": {
    "ExecuteTime": {
     "end_time": "2023-10-12T14:49:22.033023Z",
     "start_time": "2023-10-12T14:49:20.213798Z"
    },
    "collapsed": false
   },
   "outputs": [],
   "source": [
    "%matplotlib inline\n",
    "import math\n",
    "import numpy as np\n",
    "import pandas as pd\n",
    "import scipy.stats as stats\n",
    "import matplotlib.pyplot as plt\n",
    "\n",
    "from collections import defaultdict\n",
    "from scipy.stats import pearsonr"
   ]
  },
  {
   "cell_type": "markdown",
   "metadata": {
    "collapsed": false
   },
   "source": [
    "## Dataset Loading"
   ]
  },
  {
   "cell_type": "code",
   "execution_count": 204,
   "metadata": {
    "ExecuteTime": {
     "end_time": "2023-10-12T14:51:17.601018Z",
     "start_time": "2023-10-12T14:51:16.239675Z"
    },
    "collapsed": false
   },
   "outputs": [],
   "source": [
    "df_incidents = pd.read_csv('datasets_original/incidents.csv', sep=',', index_col=False, low_memory=False) # gun incidents in the USA\n",
    "# Note: since the first column isn't a column of indexes (it's the date column), we set index_col=False\n",
    "\n",
    "df_poverty = pd.read_csv('datasets_original/povertyByStateYear.csv', sep=',', index_col=False) # poverty percentage in the USA\n",
    "# Note: the first column isn't a column of indexes\n",
    "\n",
    "df_elections = pd.read_csv('datasets_original/year_state_district_house.csv', sep=',', index_col=False) # congressional elections in the USA\n",
    "# Note: the first column isn't a column of indexes"
   ]
  },
  {
   "cell_type": "code",
   "execution_count": 205,
   "metadata": {
    "ExecuteTime": {
     "end_time": "2023-10-12T14:52:56.024770Z",
     "start_time": "2023-10-12T14:52:55.996082Z"
    },
    "collapsed": false
   },
   "outputs": [
    {
     "name": "stdout",
     "output_type": "stream",
     "text": [
      "         date                 state city_or_county  \\\n",
      "0  2015-05-02               Indiana   Indianapolis   \n",
      "1  2017-04-03          Pennsylvania           Kane   \n",
      "2  2016-11-05              Michigan        Detroit   \n",
      "3  2016-10-15  District of Columbia     Washington   \n",
      "4  2030-06-14          Pennsylvania     Pittsburgh   \n",
      "\n",
      "                              address  latitude  longitude  \\\n",
      "0       Lafayette Road and Pike Plaza   39.8322   -86.2492   \n",
      "1                           5647 US 6   41.6645   -78.7856   \n",
      "2   6200 Block of East McNichols Road   42.4190   -83.0393   \n",
      "3  1000 block of Bladensburg Road, NE   38.9030   -76.9820   \n",
      "4     California and Marshall Avenues   40.4621   -80.0308   \n",
      "\n",
      "   congressional_district  state_house_district  state_senate_district  \\\n",
      "0                     7.0                  94.0                   33.0   \n",
      "1                     5.0                   NaN                    NaN   \n",
      "2                    14.0                   4.0                    2.0   \n",
      "3                     1.0                   NaN                    NaN   \n",
      "4                    14.0                   NaN                    NaN   \n",
      "\n",
      "   participant_age1  ... n_males n_females n_killed n_injured n_arrested  \\\n",
      "0              19.0  ...     1.0       0.0        0         1        0.0   \n",
      "1              62.0  ...     1.0       0.0        1         0        0.0   \n",
      "2               NaN  ...     NaN       NaN        0         1        0.0   \n",
      "3               NaN  ...     1.0       0.0        0         1        0.0   \n",
      "4               NaN  ...     1.0       0.0        0         1        0.0   \n",
      "\n",
      "  n_unharmed n_participants  \\\n",
      "0        0.0            1.0   \n",
      "1        0.0            1.0   \n",
      "2        1.0            2.0   \n",
      "3        0.0            2.0   \n",
      "4        1.0            2.0   \n",
      "\n",
      "                                               notes  \\\n",
      "0  Teen wounded while walking - Security guard at...   \n",
      "1                           shot self after accident   \n",
      "2                                             1 inj.   \n",
      "3                                                NaN   \n",
      "4                                                NaN   \n",
      "\n",
      "                   incident_characteristics1  \\\n",
      "0                     Shot - Wounded/Injured   \n",
      "1  Shot - Dead (murder, accidental, suicide)   \n",
      "2                     Shot - Wounded/Injured   \n",
      "3                     Shot - Wounded/Injured   \n",
      "4                     Shot - Wounded/Injured   \n",
      "\n",
      "              incident_characteristics2  \n",
      "0                                   NaN  \n",
      "1                              Suicide^  \n",
      "2                                   NaN  \n",
      "3                                   NaN  \n",
      "4  Drive-by (car to street, car to car)  \n",
      "\n",
      "[5 rows x 28 columns]\n"
     ]
    }
   ],
   "source": [
    "print(df_incidents.head())"
   ]
  },
  {
   "cell_type": "code",
   "execution_count": 206,
   "metadata": {
    "ExecuteTime": {
     "end_time": "2023-10-12T14:53:33.029233Z",
     "start_time": "2023-10-12T14:53:33.026612Z"
    },
    "collapsed": false
   },
   "outputs": [
    {
     "name": "stdout",
     "output_type": "stream",
     "text": [
      "           state  year  povertyPercentage\n",
      "0  United States  2020               11.5\n",
      "1        Alabama  2020               14.8\n",
      "2         Alaska  2020               11.5\n",
      "3        Arizona  2020               12.1\n",
      "4       Arkansas  2020               15.8\n"
     ]
    }
   ],
   "source": [
    "print(df_poverty.head())"
   ]
  },
  {
   "cell_type": "code",
   "execution_count": 207,
   "metadata": {
    "ExecuteTime": {
     "end_time": "2023-10-12T14:53:48.413183Z",
     "start_time": "2023-10-12T14:53:48.407603Z"
    },
    "collapsed": false
   },
   "outputs": [
    {
     "name": "stdout",
     "output_type": "stream",
     "text": [
      "   year    state  congressional_district       party  candidatevotes  \\\n",
      "0  1976  ALABAMA                       1  REPUBLICAN           98257   \n",
      "1  1976  ALABAMA                       2  REPUBLICAN           90069   \n",
      "2  1976  ALABAMA                       3    DEMOCRAT          106935   \n",
      "3  1976  ALABAMA                       4    DEMOCRAT          141490   \n",
      "4  1976  ALABAMA                       5    DEMOCRAT          113553   \n",
      "\n",
      "   totalvotes  \n",
      "0      157170  \n",
      "1      156362  \n",
      "2      108048  \n",
      "3      176022  \n",
      "4      113560  \n"
     ]
    }
   ],
   "source": [
    "print(df_elections.head())"
   ]
  },
  {
   "cell_type": "markdown",
   "metadata": {
    "collapsed": false
   },
   "source": [
    "## Basic Statistics"
   ]
  },
  {
   "cell_type": "code",
   "execution_count": 264,
   "metadata": {
    "ExecuteTime": {
     "end_time": "2023-10-12T14:54:36.944529Z",
     "start_time": "2023-10-12T14:54:36.802104Z"
    },
    "collapsed": false
   },
   "outputs": [
    {
     "name": "stdout",
     "output_type": "stream",
     "text": [
      "Info about df_incidents: \n",
      "\n",
      "<class 'pandas.core.frame.DataFrame'>\n",
      "Int64Index: 239381 entries, 0 to 239676\n",
      "Data columns (total 28 columns):\n",
      " #   Column                     Dtype         \n",
      "---  ------                     -----         \n",
      " 0   date                       datetime64[ns]\n",
      " 1   state                      object        \n",
      " 2   city_or_county             string        \n",
      " 3   address                    string        \n",
      " 4   latitude                   float64       \n",
      " 5   longitude                  float64       \n",
      " 6   congressional_district     Int64         \n",
      " 7   state_house_district       float64       \n",
      " 8   state_senate_district      float64       \n",
      " 9   participant_age1           float64       \n",
      " 10  participant_age_group1     string        \n",
      " 11  participant_gender1        string        \n",
      " 12  min_age_participants       float64       \n",
      " 13  avg_age_participants       float64       \n",
      " 14  max_age_participants       float64       \n",
      " 15  n_participants_child       Float64       \n",
      " 16  n_participants_teen        Float64       \n",
      " 17  n_participants_adult       Float64       \n",
      " 18  n_males                    float64       \n",
      " 19  n_females                  float64       \n",
      " 20  n_killed                   int64         \n",
      " 21  n_injured                  int64         \n",
      " 22  n_arrested                 float64       \n",
      " 23  n_unharmed                 float64       \n",
      " 24  n_participants             float64       \n",
      " 25  notes                      object        \n",
      " 26  incident_characteristics1  object        \n",
      " 27  incident_characteristics2  object        \n",
      "dtypes: Float64(3), Int64(1), datetime64[ns](1), float64(13), int64(2), object(4), string(4)\n",
      "memory usage: 53.9+ MB\n"
     ]
    },
    {
     "name": "stderr",
     "output_type": "stream",
     "text": [
      "C:\\Users\\HUAWEI\\AppData\\Local\\Temp\\ipykernel_16720\\1662567342.py:2: FutureWarning: null_counts is deprecated. Use show_counts instead\n",
      "  df_incidents.info(null_counts=False)\n"
     ]
    }
   ],
   "source": [
    "print(\"Info about df_incidents: \\n\")\n",
    "df_incidents.info(null_counts=False)"
   ]
  },
  {
   "cell_type": "code",
   "execution_count": 209,
   "metadata": {},
   "outputs": [
    {
     "data": {
      "text/plain": "array(['0.0', nan, '1.0', '2.0', '3.0', '4.0', '5.0', '15.0', '-864',\n       '6.0', '7.0', '762487', '-753', '-854', '444036', '-138', '10.0',\n       'ymwa4vyx', '9.0', '27.0', 'akendyt6a', '-927', '-130',\n       'x2aqam13iy', '445652', 'eqsa', '8.0', '-49', 'nt082ps', '-873',\n       '-427', '-947', 'wcrt3x4', 'p2eyl'], dtype=object)"
     },
     "execution_count": 209,
     "metadata": {},
     "output_type": "execute_result"
    }
   ],
   "source": [
    "df_incidents.n_participants_teen.unique()"
   ]
  },
  {
   "cell_type": "markdown",
   "source": [],
   "metadata": {
    "collapsed": false
   }
  },
  {
   "cell_type": "code",
   "execution_count": 210,
   "metadata": {
    "collapsed": false
   },
   "outputs": [
    {
     "name": "stdout",
     "output_type": "stream",
     "text": [
      "Info about df_poverty: \n",
      "\n",
      "<class 'pandas.core.frame.DataFrame'>\n",
      "RangeIndex: 884 entries, 0 to 883\n",
      "Data columns (total 3 columns):\n",
      " #   Column             Non-Null Count  Dtype  \n",
      "---  ------             --------------  -----  \n",
      " 0   state              884 non-null    object \n",
      " 1   year               884 non-null    int64  \n",
      " 2   povertyPercentage  832 non-null    float64\n",
      "dtypes: float64(1), int64(1), object(1)\n",
      "memory usage: 20.8+ KB\n"
     ]
    }
   ],
   "source": [
    "print(\"Info about df_poverty: \\n\")\n",
    "df_poverty.info()"
   ]
  },
  {
   "cell_type": "code",
   "execution_count": 211,
   "metadata": {
    "collapsed": false
   },
   "outputs": [
    {
     "name": "stdout",
     "output_type": "stream",
     "text": [
      "Info about df_elections: \n",
      "\n",
      "<class 'pandas.core.frame.DataFrame'>\n",
      "RangeIndex: 10441 entries, 0 to 10440\n",
      "Data columns (total 6 columns):\n",
      " #   Column                  Non-Null Count  Dtype \n",
      "---  ------                  --------------  ----- \n",
      " 0   year                    10441 non-null  int64 \n",
      " 1   state                   10441 non-null  object\n",
      " 2   congressional_district  10441 non-null  int64 \n",
      " 3   party                   10441 non-null  object\n",
      " 4   candidatevotes          10441 non-null  int64 \n",
      " 5   totalvotes              10441 non-null  int64 \n",
      "dtypes: int64(4), object(2)\n",
      "memory usage: 489.5+ KB\n"
     ]
    }
   ],
   "source": [
    "print(\"Info about df_elections: \\n\")\n",
    "df_elections.info()"
   ]
  },
  {
   "cell_type": "code",
   "execution_count": 212,
   "metadata": {
    "ExecuteTime": {
     "end_time": "2023-10-12T15:43:35.229871Z",
     "start_time": "2023-10-12T15:43:34.993039Z"
    },
    "collapsed": false
   },
   "outputs": [
    {
     "data": {
      "text/plain": "            latitude      longitude  congressional_district  \\\ncount  231754.000000  231754.000000           227733.000000   \nmean       37.546598     -89.338348                8.001265   \nstd         5.130763      14.359546                8.480835   \nmin        19.111400    -171.429000                0.000000   \n25%        33.903400     -94.158725                2.000000   \n50%        38.570600     -86.249600                5.000000   \n75%        41.437375     -80.048625               10.000000   \nmax        71.336800      97.433100               53.000000   \n\n       state_house_district  state_senate_district  participant_age1  \\\ncount         200905.000000           207342.00000     147379.000000   \nmean              55.447132               20.47711         30.295707   \nstd               42.048117               14.20456         13.363592   \nmin                1.000000                1.00000          0.000000   \n25%               21.000000                9.00000         21.000000   \n50%               47.000000               19.00000         27.000000   \n75%               84.000000               30.00000         37.000000   \nmax              901.000000               94.00000        311.000000   \n\n             n_males      n_females       n_killed      n_injured  \\\ncount  203315.000000  203315.000000  239677.000000  239677.000000   \nmean        1.520252       0.212340       0.252290       0.494007   \nstd         0.996767       0.490888       0.521779       0.729952   \nmin         0.000000       0.000000       0.000000       0.000000   \n25%         1.000000       0.000000       0.000000       0.000000   \n50%         1.000000       0.000000       0.000000       0.000000   \n75%         2.000000       0.000000       0.000000       1.000000   \nmax        61.000000      23.000000      50.000000      53.000000   \n\n          n_arrested     n_unharmed  n_participants  \ncount  212051.000000  212051.000000   239677.000000  \nmean        0.468439       0.494169        1.636895  \nstd         0.851035       0.925566        1.252514  \nmin         0.000000       0.000000        0.000000  \n25%         0.000000       0.000000        1.000000  \n50%         0.000000       0.000000        1.000000  \n75%         1.000000       1.000000        2.000000  \nmax        63.000000      20.000000      103.000000  ",
      "text/html": "<div>\n<style scoped>\n    .dataframe tbody tr th:only-of-type {\n        vertical-align: middle;\n    }\n\n    .dataframe tbody tr th {\n        vertical-align: top;\n    }\n\n    .dataframe thead th {\n        text-align: right;\n    }\n</style>\n<table border=\"1\" class=\"dataframe\">\n  <thead>\n    <tr style=\"text-align: right;\">\n      <th></th>\n      <th>latitude</th>\n      <th>longitude</th>\n      <th>congressional_district</th>\n      <th>state_house_district</th>\n      <th>state_senate_district</th>\n      <th>participant_age1</th>\n      <th>n_males</th>\n      <th>n_females</th>\n      <th>n_killed</th>\n      <th>n_injured</th>\n      <th>n_arrested</th>\n      <th>n_unharmed</th>\n      <th>n_participants</th>\n    </tr>\n  </thead>\n  <tbody>\n    <tr>\n      <th>count</th>\n      <td>231754.000000</td>\n      <td>231754.000000</td>\n      <td>227733.000000</td>\n      <td>200905.000000</td>\n      <td>207342.00000</td>\n      <td>147379.000000</td>\n      <td>203315.000000</td>\n      <td>203315.000000</td>\n      <td>239677.000000</td>\n      <td>239677.000000</td>\n      <td>212051.000000</td>\n      <td>212051.000000</td>\n      <td>239677.000000</td>\n    </tr>\n    <tr>\n      <th>mean</th>\n      <td>37.546598</td>\n      <td>-89.338348</td>\n      <td>8.001265</td>\n      <td>55.447132</td>\n      <td>20.47711</td>\n      <td>30.295707</td>\n      <td>1.520252</td>\n      <td>0.212340</td>\n      <td>0.252290</td>\n      <td>0.494007</td>\n      <td>0.468439</td>\n      <td>0.494169</td>\n      <td>1.636895</td>\n    </tr>\n    <tr>\n      <th>std</th>\n      <td>5.130763</td>\n      <td>14.359546</td>\n      <td>8.480835</td>\n      <td>42.048117</td>\n      <td>14.20456</td>\n      <td>13.363592</td>\n      <td>0.996767</td>\n      <td>0.490888</td>\n      <td>0.521779</td>\n      <td>0.729952</td>\n      <td>0.851035</td>\n      <td>0.925566</td>\n      <td>1.252514</td>\n    </tr>\n    <tr>\n      <th>min</th>\n      <td>19.111400</td>\n      <td>-171.429000</td>\n      <td>0.000000</td>\n      <td>1.000000</td>\n      <td>1.00000</td>\n      <td>0.000000</td>\n      <td>0.000000</td>\n      <td>0.000000</td>\n      <td>0.000000</td>\n      <td>0.000000</td>\n      <td>0.000000</td>\n      <td>0.000000</td>\n      <td>0.000000</td>\n    </tr>\n    <tr>\n      <th>25%</th>\n      <td>33.903400</td>\n      <td>-94.158725</td>\n      <td>2.000000</td>\n      <td>21.000000</td>\n      <td>9.00000</td>\n      <td>21.000000</td>\n      <td>1.000000</td>\n      <td>0.000000</td>\n      <td>0.000000</td>\n      <td>0.000000</td>\n      <td>0.000000</td>\n      <td>0.000000</td>\n      <td>1.000000</td>\n    </tr>\n    <tr>\n      <th>50%</th>\n      <td>38.570600</td>\n      <td>-86.249600</td>\n      <td>5.000000</td>\n      <td>47.000000</td>\n      <td>19.00000</td>\n      <td>27.000000</td>\n      <td>1.000000</td>\n      <td>0.000000</td>\n      <td>0.000000</td>\n      <td>0.000000</td>\n      <td>0.000000</td>\n      <td>0.000000</td>\n      <td>1.000000</td>\n    </tr>\n    <tr>\n      <th>75%</th>\n      <td>41.437375</td>\n      <td>-80.048625</td>\n      <td>10.000000</td>\n      <td>84.000000</td>\n      <td>30.00000</td>\n      <td>37.000000</td>\n      <td>2.000000</td>\n      <td>0.000000</td>\n      <td>0.000000</td>\n      <td>1.000000</td>\n      <td>1.000000</td>\n      <td>1.000000</td>\n      <td>2.000000</td>\n    </tr>\n    <tr>\n      <th>max</th>\n      <td>71.336800</td>\n      <td>97.433100</td>\n      <td>53.000000</td>\n      <td>901.000000</td>\n      <td>94.00000</td>\n      <td>311.000000</td>\n      <td>61.000000</td>\n      <td>23.000000</td>\n      <td>50.000000</td>\n      <td>53.000000</td>\n      <td>63.000000</td>\n      <td>20.000000</td>\n      <td>103.000000</td>\n    </tr>\n  </tbody>\n</table>\n</div>"
     },
     "execution_count": 212,
     "metadata": {},
     "output_type": "execute_result"
    }
   ],
   "source": [
    "df_incidents.describe()"
   ]
  },
  {
   "cell_type": "code",
   "execution_count": 213,
   "metadata": {
    "ExecuteTime": {
     "end_time": "2023-10-12T15:43:41.082692Z",
     "start_time": "2023-10-12T15:43:41.052668Z"
    },
    "collapsed": false
   },
   "outputs": [
    {
     "data": {
      "text/plain": "              year  povertyPercentage\ncount   884.000000         832.000000\nmean   2011.998869          12.535817\nstd       4.902330           3.205233\nmin    2004.000000           5.400000\n25%    2008.000000          10.200000\n50%    2012.000000          12.000000\n75%    2016.000000          14.700000\nmax    2020.000000          21.800000",
      "text/html": "<div>\n<style scoped>\n    .dataframe tbody tr th:only-of-type {\n        vertical-align: middle;\n    }\n\n    .dataframe tbody tr th {\n        vertical-align: top;\n    }\n\n    .dataframe thead th {\n        text-align: right;\n    }\n</style>\n<table border=\"1\" class=\"dataframe\">\n  <thead>\n    <tr style=\"text-align: right;\">\n      <th></th>\n      <th>year</th>\n      <th>povertyPercentage</th>\n    </tr>\n  </thead>\n  <tbody>\n    <tr>\n      <th>count</th>\n      <td>884.000000</td>\n      <td>832.000000</td>\n    </tr>\n    <tr>\n      <th>mean</th>\n      <td>2011.998869</td>\n      <td>12.535817</td>\n    </tr>\n    <tr>\n      <th>std</th>\n      <td>4.902330</td>\n      <td>3.205233</td>\n    </tr>\n    <tr>\n      <th>min</th>\n      <td>2004.000000</td>\n      <td>5.400000</td>\n    </tr>\n    <tr>\n      <th>25%</th>\n      <td>2008.000000</td>\n      <td>10.200000</td>\n    </tr>\n    <tr>\n      <th>50%</th>\n      <td>2012.000000</td>\n      <td>12.000000</td>\n    </tr>\n    <tr>\n      <th>75%</th>\n      <td>2016.000000</td>\n      <td>14.700000</td>\n    </tr>\n    <tr>\n      <th>max</th>\n      <td>2020.000000</td>\n      <td>21.800000</td>\n    </tr>\n  </tbody>\n</table>\n</div>"
     },
     "execution_count": 213,
     "metadata": {},
     "output_type": "execute_result"
    }
   ],
   "source": [
    "df_poverty.describe()"
   ]
  },
  {
   "cell_type": "code",
   "execution_count": 214,
   "metadata": {
    "ExecuteTime": {
     "end_time": "2023-10-12T15:42:57.017649Z",
     "start_time": "2023-10-12T15:42:56.998223Z"
    },
    "collapsed": false
   },
   "outputs": [
    {
     "data": {
      "text/plain": "               year  congressional_district  candidatevotes    totalvotes\ncount  10441.000000            10441.000000    1.044100e+04  1.044100e+04\nmean    1999.002011                9.873096    1.345276e+05  2.076422e+05\nstd       13.845898               10.017078    5.160721e+04  8.262643e+04\nmin     1976.000000                0.000000   -1.000000e+00 -1.000000e+00\n25%     1988.000000                3.000000    1.004870e+05  1.554510e+05\n50%     2000.000000                6.000000    1.290850e+05  2.004450e+05\n75%     2012.000000               13.000000    1.653710e+05  2.555770e+05\nmax     2022.000000               53.000000    1.165136e+06  2.656104e+06",
      "text/html": "<div>\n<style scoped>\n    .dataframe tbody tr th:only-of-type {\n        vertical-align: middle;\n    }\n\n    .dataframe tbody tr th {\n        vertical-align: top;\n    }\n\n    .dataframe thead th {\n        text-align: right;\n    }\n</style>\n<table border=\"1\" class=\"dataframe\">\n  <thead>\n    <tr style=\"text-align: right;\">\n      <th></th>\n      <th>year</th>\n      <th>congressional_district</th>\n      <th>candidatevotes</th>\n      <th>totalvotes</th>\n    </tr>\n  </thead>\n  <tbody>\n    <tr>\n      <th>count</th>\n      <td>10441.000000</td>\n      <td>10441.000000</td>\n      <td>1.044100e+04</td>\n      <td>1.044100e+04</td>\n    </tr>\n    <tr>\n      <th>mean</th>\n      <td>1999.002011</td>\n      <td>9.873096</td>\n      <td>1.345276e+05</td>\n      <td>2.076422e+05</td>\n    </tr>\n    <tr>\n      <th>std</th>\n      <td>13.845898</td>\n      <td>10.017078</td>\n      <td>5.160721e+04</td>\n      <td>8.262643e+04</td>\n    </tr>\n    <tr>\n      <th>min</th>\n      <td>1976.000000</td>\n      <td>0.000000</td>\n      <td>-1.000000e+00</td>\n      <td>-1.000000e+00</td>\n    </tr>\n    <tr>\n      <th>25%</th>\n      <td>1988.000000</td>\n      <td>3.000000</td>\n      <td>1.004870e+05</td>\n      <td>1.554510e+05</td>\n    </tr>\n    <tr>\n      <th>50%</th>\n      <td>2000.000000</td>\n      <td>6.000000</td>\n      <td>1.290850e+05</td>\n      <td>2.004450e+05</td>\n    </tr>\n    <tr>\n      <th>75%</th>\n      <td>2012.000000</td>\n      <td>13.000000</td>\n      <td>1.653710e+05</td>\n      <td>2.555770e+05</td>\n    </tr>\n    <tr>\n      <th>max</th>\n      <td>2022.000000</td>\n      <td>53.000000</td>\n      <td>1.165136e+06</td>\n      <td>2.656104e+06</td>\n    </tr>\n  </tbody>\n</table>\n</div>"
     },
     "execution_count": 214,
     "metadata": {},
     "output_type": "execute_result"
    }
   ],
   "source": [
    "df_elections.describe()"
   ]
  },
  {
   "cell_type": "code",
   "execution_count": 215,
   "metadata": {
    "ExecuteTime": {
     "end_time": "2023-10-12T14:55:04.918020Z",
     "start_time": "2023-10-12T14:55:04.899798Z"
    },
    "collapsed": false
   },
   "outputs": [
    {
     "name": "stdout",
     "output_type": "stream",
     "text": [
      "Number of distinct values in 'date': \t 2437\n"
     ]
    }
   ],
   "source": [
    "# Here we justify why the date column in df_incidents can't be used as index column\n",
    "\n",
    "print(\"Number of distinct values in 'date': \\t\", df_incidents.date.nunique())\n",
    "\n",
    "# Since there are 239677 incidents, and it turns out that there are 2437 distinct dates, we deduce that on certain dates multiple incidents occurred. In conclusion, the dates are not a unique identifier for the incidents."
   ]
  },
  {
   "cell_type": "code",
   "execution_count": 216,
   "metadata": {
    "ExecuteTime": {
     "end_time": "2023-10-12T14:56:22.600613Z",
     "start_time": "2023-10-12T14:56:22.476012Z"
    },
    "collapsed": false
   },
   "outputs": [],
   "source": [
    "# Missing values detection\n",
    "# print the n. of missing values for each attribute\n"
   ]
  },
  {
   "cell_type": "raw",
   "metadata": {
    "collapsed": false
   },
   "source": [
    "Preparation: try to fix the most important missing values, e.g. congressinal_district, n_killed, n_injured, n_participants"
   ]
  },
  {
   "cell_type": "code",
   "execution_count": 217,
   "metadata": {
    "ExecuteTime": {
     "end_time": "2023-10-12T14:58:06.225813Z",
     "start_time": "2023-10-12T14:58:06.206782Z"
    },
    "collapsed": false
   },
   "outputs": [
    {
     "data": {
      "text/plain": "state                False\nyear                 False\npovertyPercentage     True\ndtype: bool"
     },
     "execution_count": 217,
     "metadata": {},
     "output_type": "execute_result"
    }
   ],
   "source": [
    "df_poverty.isnull().any()"
   ]
  },
  {
   "cell_type": "code",
   "execution_count": 218,
   "metadata": {
    "ExecuteTime": {
     "end_time": "2023-10-12T14:58:18.753617Z",
     "start_time": "2023-10-12T14:58:18.733926Z"
    },
    "collapsed": false
   },
   "outputs": [
    {
     "data": {
      "text/plain": "year                      False\nstate                     False\ncongressional_district    False\nparty                     False\ncandidatevotes            False\ntotalvotes                False\ndtype: bool"
     },
     "execution_count": 218,
     "metadata": {},
     "output_type": "execute_result"
    }
   ],
   "source": [
    "df_elections.isnull().any()"
   ]
  },
  {
   "cell_type": "markdown",
   "metadata": {
    "collapsed": false
   },
   "source": [
    "## Data Cleaning"
   ]
  },
  {
   "cell_type": "markdown",
   "metadata": {
    "collapsed": false
   },
   "source": [
    "### Deduplication\n",
    "\n",
    "In the first place we want to see if there are duplicate rows in the datasets."
   ]
  },
  {
   "cell_type": "code",
   "execution_count": 219,
   "metadata": {
    "collapsed": false
   },
   "outputs": [
    {
     "data": {
      "text/plain": "              date                 state        city_or_county  \\\n6750    2015-04-27            California               Oakland   \n10912   2015-06-24                 Texas           San Antonio   \n17801   2015-09-13                 Texas               Houston   \n23135   2015-07-15                 Texas  Dallas (Dfw Airport)   \n27214   2015-02-12                 Texas                Dallas   \n...            ...                   ...                   ...   \n237755  2015-12-29  District of Columbia            Washington   \n238138  2016-02-19              Maryland             Baltimore   \n239260  2015-01-14              Oklahoma         Oklahoma City   \n239354  2030-04-03              New York             Rochester   \n239520  2016-03-28  District of Columbia            Washington   \n\n                         address  latitude  longitude  congressional_district  \\\n6750             1 Airport Drive   37.7116  -122.2120                    13.0   \n10912     9800 Airport Boulevard   29.5217   -98.4767                    21.0   \n17801   2800 North Terminal Road   29.9872   -95.3477                    18.0   \n23135         3200 E Airfield Dr   32.8748   -97.0144                    24.0   \n27214      8008 Cedar Springs Rd   32.8410   -96.8486                    30.0   \n...                          ...       ...        ...                     ...   \n237755                       NaN   38.9075   -77.0176                     1.0   \n238138               PO BOX 8766   39.1841   -76.6711                     3.0   \n239260          7100 Terminal Dr   35.3953   -97.5966                     5.0   \n239354           1200 Brooks Ave   43.1309   -77.6696                    25.0   \n239520                       NaN   38.9075   -77.0176                     1.0   \n\n        state_house_district  state_senate_district  participant_age1  ...  \\\n6750                    18.0                    9.0               NaN  ...   \n10912                  121.0                   25.0               NaN  ...   \n17801                  141.0                   15.0               NaN  ...   \n23135                  115.0                   16.0               NaN  ...   \n27214                  103.0                   16.0               NaN  ...   \n...                      ...                    ...               ...  ...   \n237755                   NaN                    NaN               NaN  ...   \n238138                  32.0                   32.0               NaN  ...   \n239260                  90.0                   44.0               NaN  ...   \n239354                 137.0                   56.0               NaN  ...   \n239520                   NaN                    NaN               NaN  ...   \n\n       n_males n_females n_killed n_injured n_arrested n_unharmed  \\\n6750       NaN       NaN        0         0        NaN        NaN   \n10912      NaN       NaN        0         0        NaN        NaN   \n17801      NaN       NaN        0         0        NaN        NaN   \n23135      NaN       NaN        0         0        NaN        NaN   \n27214      NaN       NaN        0         0        NaN        NaN   \n...        ...       ...      ...       ...        ...        ...   \n237755     NaN       NaN        0         0        1.0        0.0   \n238138     NaN       NaN        0         0        NaN        NaN   \n239260     NaN       NaN        0         0        NaN        NaN   \n239354     1.0       0.0        0         0        0.0        1.0   \n239520     NaN       NaN        0         0        1.0        0.0   \n\n       n_participants                      notes  incident_characteristics1  \\\n6750              0.0                        NaN      Non-Shooting Incident   \n10912             0.0                        NaN      Non-Shooting Incident   \n17801             0.0                        NaN                 TSA Action   \n23135             0.0                        NaN      Non-Shooting Incident   \n27214             0.0  Dallas Love Field Airport      Non-Shooting Incident   \n...               ...                        ...                        ...   \n237755            1.0                        NaN      Non-Shooting Incident   \n238138            0.0                        NaN      Non-Shooting Incident   \n239260            0.0  Will Rogers World Airport                 TSA Action   \n239354            1.0                        TSA      Non-Shooting Incident   \n239520            1.0                        NaN      Non-Shooting Incident   \n\n                                incident_characteristics2  \n6750                                           TSA Action  \n10912                                          TSA Action  \n17801                                                 NaN  \n23135                                          TSA Action  \n27214                                          TSA Action  \n...                                                   ...  \n237755  Possession (gun(s) found during commission of ...  \n238138                                         TSA Action  \n239260                                                NaN  \n239354                                         TSA Action  \n239520  Possession (gun(s) found during commission of ...  \n\n[296 rows x 28 columns]",
      "text/html": "<div>\n<style scoped>\n    .dataframe tbody tr th:only-of-type {\n        vertical-align: middle;\n    }\n\n    .dataframe tbody tr th {\n        vertical-align: top;\n    }\n\n    .dataframe thead th {\n        text-align: right;\n    }\n</style>\n<table border=\"1\" class=\"dataframe\">\n  <thead>\n    <tr style=\"text-align: right;\">\n      <th></th>\n      <th>date</th>\n      <th>state</th>\n      <th>city_or_county</th>\n      <th>address</th>\n      <th>latitude</th>\n      <th>longitude</th>\n      <th>congressional_district</th>\n      <th>state_house_district</th>\n      <th>state_senate_district</th>\n      <th>participant_age1</th>\n      <th>...</th>\n      <th>n_males</th>\n      <th>n_females</th>\n      <th>n_killed</th>\n      <th>n_injured</th>\n      <th>n_arrested</th>\n      <th>n_unharmed</th>\n      <th>n_participants</th>\n      <th>notes</th>\n      <th>incident_characteristics1</th>\n      <th>incident_characteristics2</th>\n    </tr>\n  </thead>\n  <tbody>\n    <tr>\n      <th>6750</th>\n      <td>2015-04-27</td>\n      <td>California</td>\n      <td>Oakland</td>\n      <td>1 Airport Drive</td>\n      <td>37.7116</td>\n      <td>-122.2120</td>\n      <td>13.0</td>\n      <td>18.0</td>\n      <td>9.0</td>\n      <td>NaN</td>\n      <td>...</td>\n      <td>NaN</td>\n      <td>NaN</td>\n      <td>0</td>\n      <td>0</td>\n      <td>NaN</td>\n      <td>NaN</td>\n      <td>0.0</td>\n      <td>NaN</td>\n      <td>Non-Shooting Incident</td>\n      <td>TSA Action</td>\n    </tr>\n    <tr>\n      <th>10912</th>\n      <td>2015-06-24</td>\n      <td>Texas</td>\n      <td>San Antonio</td>\n      <td>9800 Airport Boulevard</td>\n      <td>29.5217</td>\n      <td>-98.4767</td>\n      <td>21.0</td>\n      <td>121.0</td>\n      <td>25.0</td>\n      <td>NaN</td>\n      <td>...</td>\n      <td>NaN</td>\n      <td>NaN</td>\n      <td>0</td>\n      <td>0</td>\n      <td>NaN</td>\n      <td>NaN</td>\n      <td>0.0</td>\n      <td>NaN</td>\n      <td>Non-Shooting Incident</td>\n      <td>TSA Action</td>\n    </tr>\n    <tr>\n      <th>17801</th>\n      <td>2015-09-13</td>\n      <td>Texas</td>\n      <td>Houston</td>\n      <td>2800 North Terminal Road</td>\n      <td>29.9872</td>\n      <td>-95.3477</td>\n      <td>18.0</td>\n      <td>141.0</td>\n      <td>15.0</td>\n      <td>NaN</td>\n      <td>...</td>\n      <td>NaN</td>\n      <td>NaN</td>\n      <td>0</td>\n      <td>0</td>\n      <td>NaN</td>\n      <td>NaN</td>\n      <td>0.0</td>\n      <td>NaN</td>\n      <td>TSA Action</td>\n      <td>NaN</td>\n    </tr>\n    <tr>\n      <th>23135</th>\n      <td>2015-07-15</td>\n      <td>Texas</td>\n      <td>Dallas (Dfw Airport)</td>\n      <td>3200 E Airfield Dr</td>\n      <td>32.8748</td>\n      <td>-97.0144</td>\n      <td>24.0</td>\n      <td>115.0</td>\n      <td>16.0</td>\n      <td>NaN</td>\n      <td>...</td>\n      <td>NaN</td>\n      <td>NaN</td>\n      <td>0</td>\n      <td>0</td>\n      <td>NaN</td>\n      <td>NaN</td>\n      <td>0.0</td>\n      <td>NaN</td>\n      <td>Non-Shooting Incident</td>\n      <td>TSA Action</td>\n    </tr>\n    <tr>\n      <th>27214</th>\n      <td>2015-02-12</td>\n      <td>Texas</td>\n      <td>Dallas</td>\n      <td>8008 Cedar Springs Rd</td>\n      <td>32.8410</td>\n      <td>-96.8486</td>\n      <td>30.0</td>\n      <td>103.0</td>\n      <td>16.0</td>\n      <td>NaN</td>\n      <td>...</td>\n      <td>NaN</td>\n      <td>NaN</td>\n      <td>0</td>\n      <td>0</td>\n      <td>NaN</td>\n      <td>NaN</td>\n      <td>0.0</td>\n      <td>Dallas Love Field Airport</td>\n      <td>Non-Shooting Incident</td>\n      <td>TSA Action</td>\n    </tr>\n    <tr>\n      <th>...</th>\n      <td>...</td>\n      <td>...</td>\n      <td>...</td>\n      <td>...</td>\n      <td>...</td>\n      <td>...</td>\n      <td>...</td>\n      <td>...</td>\n      <td>...</td>\n      <td>...</td>\n      <td>...</td>\n      <td>...</td>\n      <td>...</td>\n      <td>...</td>\n      <td>...</td>\n      <td>...</td>\n      <td>...</td>\n      <td>...</td>\n      <td>...</td>\n      <td>...</td>\n      <td>...</td>\n    </tr>\n    <tr>\n      <th>237755</th>\n      <td>2015-12-29</td>\n      <td>District of Columbia</td>\n      <td>Washington</td>\n      <td>NaN</td>\n      <td>38.9075</td>\n      <td>-77.0176</td>\n      <td>1.0</td>\n      <td>NaN</td>\n      <td>NaN</td>\n      <td>NaN</td>\n      <td>...</td>\n      <td>NaN</td>\n      <td>NaN</td>\n      <td>0</td>\n      <td>0</td>\n      <td>1.0</td>\n      <td>0.0</td>\n      <td>1.0</td>\n      <td>NaN</td>\n      <td>Non-Shooting Incident</td>\n      <td>Possession (gun(s) found during commission of ...</td>\n    </tr>\n    <tr>\n      <th>238138</th>\n      <td>2016-02-19</td>\n      <td>Maryland</td>\n      <td>Baltimore</td>\n      <td>PO BOX 8766</td>\n      <td>39.1841</td>\n      <td>-76.6711</td>\n      <td>3.0</td>\n      <td>32.0</td>\n      <td>32.0</td>\n      <td>NaN</td>\n      <td>...</td>\n      <td>NaN</td>\n      <td>NaN</td>\n      <td>0</td>\n      <td>0</td>\n      <td>NaN</td>\n      <td>NaN</td>\n      <td>0.0</td>\n      <td>NaN</td>\n      <td>Non-Shooting Incident</td>\n      <td>TSA Action</td>\n    </tr>\n    <tr>\n      <th>239260</th>\n      <td>2015-01-14</td>\n      <td>Oklahoma</td>\n      <td>Oklahoma City</td>\n      <td>7100 Terminal Dr</td>\n      <td>35.3953</td>\n      <td>-97.5966</td>\n      <td>5.0</td>\n      <td>90.0</td>\n      <td>44.0</td>\n      <td>NaN</td>\n      <td>...</td>\n      <td>NaN</td>\n      <td>NaN</td>\n      <td>0</td>\n      <td>0</td>\n      <td>NaN</td>\n      <td>NaN</td>\n      <td>0.0</td>\n      <td>Will Rogers World Airport</td>\n      <td>TSA Action</td>\n      <td>NaN</td>\n    </tr>\n    <tr>\n      <th>239354</th>\n      <td>2030-04-03</td>\n      <td>New York</td>\n      <td>Rochester</td>\n      <td>1200 Brooks Ave</td>\n      <td>43.1309</td>\n      <td>-77.6696</td>\n      <td>25.0</td>\n      <td>137.0</td>\n      <td>56.0</td>\n      <td>NaN</td>\n      <td>...</td>\n      <td>1.0</td>\n      <td>0.0</td>\n      <td>0</td>\n      <td>0</td>\n      <td>0.0</td>\n      <td>1.0</td>\n      <td>1.0</td>\n      <td>TSA</td>\n      <td>Non-Shooting Incident</td>\n      <td>TSA Action</td>\n    </tr>\n    <tr>\n      <th>239520</th>\n      <td>2016-03-28</td>\n      <td>District of Columbia</td>\n      <td>Washington</td>\n      <td>NaN</td>\n      <td>38.9075</td>\n      <td>-77.0176</td>\n      <td>1.0</td>\n      <td>NaN</td>\n      <td>NaN</td>\n      <td>NaN</td>\n      <td>...</td>\n      <td>NaN</td>\n      <td>NaN</td>\n      <td>0</td>\n      <td>0</td>\n      <td>1.0</td>\n      <td>0.0</td>\n      <td>1.0</td>\n      <td>NaN</td>\n      <td>Non-Shooting Incident</td>\n      <td>Possession (gun(s) found during commission of ...</td>\n    </tr>\n  </tbody>\n</table>\n<p>296 rows × 28 columns</p>\n</div>"
     },
     "execution_count": 219,
     "metadata": {},
     "output_type": "execute_result"
    }
   ],
   "source": [
    "# We want to see if there are duplicate rows in df_incidents\n",
    "df_incidents[df_incidents.duplicated()]"
   ]
  },
  {
   "cell_type": "code",
   "execution_count": 0,
   "metadata": {
    "collapsed": false
   },
   "outputs": [],
   "source": [
    "df_incidents.drop_duplicates(inplace=True) # we drop the duplicated rows from the dataframe."
   ]
  },
  {
   "cell_type": "markdown",
   "source": [
    "Now there are no duplicate rows anymore, as we can check:"
   ],
   "metadata": {
    "collapsed": false
   }
  },
  {
   "cell_type": "code",
   "execution_count": 220,
   "outputs": [
    {
     "data": {
      "text/plain": "Empty DataFrame\nColumns: [date, state, city_or_county, address, latitude, longitude, congressional_district, state_house_district, state_senate_district, participant_age1, participant_age_group1, participant_gender1, min_age_participants, avg_age_participants, max_age_participants, n_participants_child, n_participants_teen, n_participants_adult, n_males, n_females, n_killed, n_injured, n_arrested, n_unharmed, n_participants, notes, incident_characteristics1, incident_characteristics2]\nIndex: []\n\n[0 rows x 28 columns]",
      "text/html": "<div>\n<style scoped>\n    .dataframe tbody tr th:only-of-type {\n        vertical-align: middle;\n    }\n\n    .dataframe tbody tr th {\n        vertical-align: top;\n    }\n\n    .dataframe thead th {\n        text-align: right;\n    }\n</style>\n<table border=\"1\" class=\"dataframe\">\n  <thead>\n    <tr style=\"text-align: right;\">\n      <th></th>\n      <th>date</th>\n      <th>state</th>\n      <th>city_or_county</th>\n      <th>address</th>\n      <th>latitude</th>\n      <th>longitude</th>\n      <th>congressional_district</th>\n      <th>state_house_district</th>\n      <th>state_senate_district</th>\n      <th>participant_age1</th>\n      <th>...</th>\n      <th>n_males</th>\n      <th>n_females</th>\n      <th>n_killed</th>\n      <th>n_injured</th>\n      <th>n_arrested</th>\n      <th>n_unharmed</th>\n      <th>n_participants</th>\n      <th>notes</th>\n      <th>incident_characteristics1</th>\n      <th>incident_characteristics2</th>\n    </tr>\n  </thead>\n  <tbody>\n  </tbody>\n</table>\n<p>0 rows × 28 columns</p>\n</div>"
     },
     "execution_count": 220,
     "metadata": {},
     "output_type": "execute_result"
    }
   ],
   "source": [
    "df_incidents[df_incidents.duplicated()]"
   ],
   "metadata": {
    "collapsed": false
   }
  },
  {
   "cell_type": "markdown",
   "metadata": {},
   "source": [
    "### Dtype casting\n",
    "Now, we convert attributes in the desired data type.\n"
   ]
  },
  {
   "cell_type": "markdown",
   "source": [
    "##### cast the date column to datetime type"
   ],
   "metadata": {
    "collapsed": false
   }
  },
  {
   "cell_type": "code",
   "execution_count": 221,
   "metadata": {},
   "outputs": [
    {
     "name": "stdout",
     "output_type": "stream",
     "text": [
      "Int64Index([2015, 2017, 2016, 2030, 2014, 2018, 2029, 2013, 2028], dtype='int64', name='date')\n",
      "Int64Index([5, 4, 11, 10, 6, 1, 3, 8, 12, 2, 7, 9], dtype='int64', name='date')\n",
      "Int64Index([ 2,  3,  5, 15, 14, 18, 25, 16,  1, 22, 19, 21,  6, 17, 26, 11, 27,\n",
      "             8, 30, 13, 23,  7,  4,  9, 28, 29, 24, 20, 12, 10, 31],\n",
      "           dtype='int64', name='date')\n"
     ]
    }
   ],
   "source": [
    "df_incidents.date=pd.to_datetime(df_incidents.date) # we convert the date column to datetime type\n",
    "print(pd.DatetimeIndex(df_incidents.date).year.unique()) # we check that the year column is correct\n",
    "print(pd.DatetimeIndex(df_incidents.date).month.unique()) # we check that the month column is correct\n",
    "print(pd.DatetimeIndex(df_incidents.date).day.unique()) # we check that the day column is correct\n"
   ]
  },
  {
   "cell_type": "markdown",
   "source": [
    "#### cast the geographical info columns to string type"
   ],
   "metadata": {
    "collapsed": false
   }
  },
  {
   "cell_type": "markdown",
   "source": [
    "df_incidents.state= df_incidents.state.astype('string')\n",
    "df_incidents.state.unique() "
   ],
   "metadata": {
    "collapsed": false
   }
  },
  {
   "cell_type": "code",
   "execution_count": 222,
   "metadata": {},
   "outputs": [],
   "source": [
    "df_incidents.city_or_county= df_incidents.city_or_county.astype('string')\n",
    "df_incidents.address= df_incidents.address.astype('string')"
   ]
  },
  {
   "cell_type": "code",
   "execution_count": 223,
   "metadata": {},
   "outputs": [],
   "source": [
    "df_incidents.congressional_district= df_incidents.congressional_district.astype('Int64')"
   ]
  },
  {
   "cell_type": "code",
   "execution_count": 224,
   "metadata": {},
   "outputs": [
    {
     "name": "stdout",
     "output_type": "stream",
     "text": [
      "['Adult 18+' nan 'Teen 12-17' 'Child 0-11']\n"
     ]
    }
   ],
   "source": [
    "print(df_incidents.participant_age_group1.unique())\n",
    "df_incidents.participant_age_group1= df_incidents.participant_age_group1.astype('string')"
   ]
  },
  {
   "cell_type": "code",
   "execution_count": 225,
   "metadata": {},
   "outputs": [
    {
     "name": "stdout",
     "output_type": "stream",
     "text": [
      "['Male' nan 'Female' 'Male, female']\n",
      "Male            177899\n",
      "Female           25366\n",
      "Male, female         1\n",
      "Name: participant_gender1, dtype: int64\n",
      "<StringArray>\n",
      "['Male', <NA>, 'Female', 'Male, female']\n",
      "Length: 4, dtype: string\n"
     ]
    }
   ],
   "source": [
    "print(df_incidents.participant_gender1.unique())\n",
    "# print how many of each value there are\n",
    "print(df_incidents.participant_gender1.value_counts()) # there is only one that is labelled 'Male, female'\n",
    "df_incidents.participant_gender1= df_incidents.participant_gender1.astype('string')\n",
    "print(df_incidents.participant_gender1.unique())\n"
   ]
  },
  {
   "cell_type": "markdown",
   "source": [
    "#### cast the number of killed and injured to int type"
   ],
   "metadata": {
    "collapsed": false
   }
  },
  {
   "cell_type": "code",
   "execution_count": 226,
   "metadata": {},
   "outputs": [
    {
     "name": "stdout",
     "output_type": "stream",
     "text": [
      "0      19.0\n",
      "1      62.0\n",
      "2       NaN\n",
      "3    707477\n",
      "4       NaN\n",
      "Name: avg_age_participants, dtype: object\n",
      "0        19.0\n",
      "1        62.0\n",
      "2         NaN\n",
      "3    707477.0\n",
      "4         NaN\n",
      "Name: avg_age_participants, dtype: float64\n"
     ]
    }
   ],
   "source": [
    "# convert the ages that are strings to nan and cast the ages to float\n",
    "def convert_to_float(x):\n",
    "    \"\"\"\n",
    "    This function converts a string to float if possible, and to NaN otherwise.\n",
    "    \"\"\"\n",
    "    try:\n",
    "        return float(x)\n",
    "          \n",
    "    except ValueError:\n",
    "        return np.nan\n",
    "\n",
    "df_incidents.min_age_participants=df_incidents.min_age_participants.apply(lambda x: convert_to_float(x))\n",
    "# same for max_age and avg_age\n",
    "df_incidents.max_age_participants=df_incidents.max_age_participants.apply(lambda x: convert_to_float(x))\n",
    "df_incidents.avg_age_participants=df_incidents.avg_age_participants.apply(lambda x: convert_to_float(x))"
   ]
  },
  {
   "cell_type": "markdown",
   "source": [
    "#### cast the number of participants to int type"
   ],
   "metadata": {
    "collapsed": false
   }
  },
  {
   "cell_type": "code",
   "execution_count": 227,
   "metadata": {},
   "outputs": [
    {
     "name": "stdout",
     "output_type": "stream",
     "text": [
      "['0.0' nan '1.0' '2.0' '3.0' '835473' '5.0' '4.0' '124130.0' '436587'\n",
      " '6yb1lceu3v' '6.0' '7.0' '886365.0' 'z6sp' '607874' '292381' '-73' '11.0'\n",
      " '25yerfqn6' '8.0' '-977.0' '77mw3iw3' '-884.0' 'j34' '-252.0']\n",
      "['0.0' nan '1.0' '2.0' '3.0' '4.0' '5.0' '15.0' '-864' '6.0' '7.0'\n",
      " '762487' '-753' '-854' '444036' '-138' '10.0' 'ymwa4vyx' '9.0' '27.0'\n",
      " 'akendyt6a' '-927' '-130' 'x2aqam13iy' '445652' 'eqsa' '8.0' '-49'\n",
      " 'nt082ps' '-873' '-427' '-947' 'wcrt3x4' 'p2eyl']\n",
      "['1.0' nan '5.0' '0.0' '3.0' '4.0' '2.0' '6.0' '7.0' '8.0' '10.0' '9.0'\n",
      " '28.0' '24.0' '12.0' '17.0' '13.0' '33.0' '16.0' '15.0' '638402.0' '11.0'\n",
      " '425457' '29.0' '18.0' '-496' '20.0' '21.0' 'ipw' '14.0' '32.0' '-991'\n",
      " '5uw' '-673' '22.0' '27.0' '-267' '19.0' '686533' '479961' '30.0'\n",
      " '298481' '63.0' '-601' '-918' '-622' 'jbpiz8upz' '25.0' '827900' '-355.0'\n",
      " '103.0']\n",
      "converted values\n",
      "<FloatingArray>\n",
      "[     0.0,     <NA>,      1.0,      2.0,      3.0, 835473.0,      5.0,\n",
      "      4.0, 124130.0, 436587.0,      6.0,      7.0, 886365.0, 607874.0,\n",
      " 292381.0,    -73.0,     11.0,      8.0,   -977.0,   -884.0,   -252.0]\n",
      "Length: 21, dtype: Float64\n"
     ]
    }
   ],
   "source": [
    "# we see the values for n_participants_child, teen and adult\n",
    "print(df_incidents.n_participants_child.unique())\n",
    "print(df_incidents.n_participants_teen.unique())\n",
    "print(df_incidents.n_participants_adult.unique())\n",
    "\n",
    "# convert the values that are strings to nan\n",
    "df_incidents.n_participants_child=df_incidents.n_participants_child.apply(lambda x: convert_to_float(x))\n",
    "df_incidents.n_participants_child= df_incidents.n_participants_child.astype('Float64')\n",
    "\n",
    "df_incidents.n_participants_teen=df_incidents.n_participants_teen.apply(lambda x: convert_to_float(x))\n",
    "df_incidents.n_participants_teen= df_incidents.n_participants_teen.astype('Float64')\n",
    "\n",
    "df_incidents.n_participants_adult=df_incidents.n_participants_adult.apply(lambda x: convert_to_float(x))\n",
    "df_incidents.n_participants_adult= df_incidents.n_participants_adult.astype('Float64')\n",
    "print('converted values')\n",
    "print(df_incidents.n_participants_child.unique())"
   ]
  },
  {
   "cell_type": "code",
   "execution_count": 228,
   "metadata": {},
   "outputs": [],
   "source": [
    "#print(df_incidents.incident_characteristics1.value_counts())\n",
    "#print(df_incidents.incident_characteristics2.value_counts())\n",
    "# TODO: spostare"
   ]
  },
  {
   "cell_type": "code",
   "execution_count": 229,
   "metadata": {},
   "outputs": [
    {
     "name": "stdout",
     "output_type": "stream",
     "text": [
      "<StringArray>\n",
      "[       'United States',              'Alabama',               'Alaska',\n",
      "              'Arizona',             'Arkansas',           'California',\n",
      "             'Colorado',          'Connecticut',             'Delaware',\n",
      " 'District of Columbia',              'Florida',              'Georgia',\n",
      "               'Hawaii',                'Idaho',             'Illinois',\n",
      "              'Indiana',                 'Iowa',               'Kansas',\n",
      "             'Kentucky',            'Louisiana',                'Maine',\n",
      "             'Maryland',        'Massachusetts',             'Michigan',\n",
      "            'Minnesota',          'Mississippi',             'Missouri',\n",
      "              'Montana',             'Nebraska',               'Nevada',\n",
      "        'New Hampshire',           'New Jersey',           'New Mexico',\n",
      "             'New York',       'North Carolina',         'North Dakota',\n",
      "                 'Ohio',             'Oklahoma',               'Oregon',\n",
      "         'Pennsylvania',         'Rhode Island',       'South Carolina',\n",
      "         'South Dakota',            'Tennessee',                'Texas',\n",
      "                 'Utah',              'Vermont',             'Virginia',\n",
      "           'Washington',        'West Virginia',            'Wisconsin',\n",
      "              'Wyoming']\n",
      "Length: 52, dtype: string\n"
     ]
    }
   ],
   "source": [
    "df_poverty.state= df_poverty.state.astype('string') \n",
    "print(df_poverty.state.unique())\n"
   ]
  },
  {
   "cell_type": "code",
   "execution_count": 230,
   "metadata": {},
   "outputs": [],
   "source": [
    "df_elections.state= df_elections.state.astype('string')\n",
    "df_elections.party= df_elections.party.astype('string')"
   ]
  },
  {
   "cell_type": "code",
   "execution_count": 231,
   "metadata": {},
   "outputs": [
    {
     "data": {
      "text/plain": "70729     7.000000e+06\n113856    9.000000e+11\nName: min_age_participants, dtype: float64"
     },
     "execution_count": 231,
     "metadata": {},
     "output_type": "execute_result"
    }
   ],
   "source": [
    "df_incidents.min_age_participants[df_incidents.min_age_participants>1000000 ]"
   ]
  },
  {
   "cell_type": "markdown",
   "metadata": {},
   "source": [
    "### Incoherent data \n",
    "Now, we fix data that are clearly non-coherent, for example negative ages or too big number."
   ]
  },
  {
   "cell_type": "markdown",
   "source": [
    "#### Years of the incidents"
   ],
   "metadata": {
    "collapsed": false
   }
  },
  {
   "cell_type": "code",
   "execution_count": 243,
   "metadata": {
    "ExecuteTime": {
     "end_time": "2023-10-12T16:49:34.349620Z",
     "start_time": "2023-10-12T16:49:34.173280Z"
    },
    "collapsed": false
   },
   "outputs": [
    {
     "data": {
      "text/plain": "<Figure size 640x480 with 1 Axes>",
      "image/png": "[encoded data removed]"
     },
     "metadata": {},
     "output_type": "display_data"
    }
   ],
   "source": [
    "# We want to identify the dates in df_incidents that are erroneous\n",
    "\n",
    "df_incidents.date.groupby(df_incidents.date.dt.year).count().plot(kind='bar')\n",
    "plt.show()"
   ]
  },
  {
   "cell_type": "markdown",
   "source": [
    "\n",
    "From the  histogram we deduce that there are some incidents that should have happened after 2023 (the year we are in), so it is certainly impossible for us to have this data today"
   ],
   "metadata": {
    "collapsed": false
   }
  },
  {
   "cell_type": "markdown",
   "source": [
    "#### Ages of the participants"
   ],
   "metadata": {
    "collapsed": false
   }
  },
  {
   "cell_type": "code",
   "execution_count": 258,
   "outputs": [
    {
     "name": "stderr",
     "output_type": "stream",
     "text": [
      "C:\\Users\\HUAWEI\\AppData\\Local\\Temp\\ipykernel_16720\\1121726953.py:2: SettingWithCopyWarning: \n",
      "A value is trying to be set on a copy of a slice from a DataFrame\n",
      "\n",
      "See the caveats in the documentation: https://pandas.pydata.org/pandas-docs/stable/user_guide/indexing.html#returning-a-view-versus-a-copy\n",
      "  df_incidents.min_age_participants[df_incidents.min_age_participants<0] = np.nan\n",
      "C:\\Users\\HUAWEI\\AppData\\Local\\Temp\\ipykernel_16720\\1121726953.py:3: SettingWithCopyWarning: \n",
      "A value is trying to be set on a copy of a slice from a DataFrame\n",
      "\n",
      "See the caveats in the documentation: https://pandas.pydata.org/pandas-docs/stable/user_guide/indexing.html#returning-a-view-versus-a-copy\n",
      "  df_incidents.max_age_participants[df_incidents.max_age_participants<0] = np.nan\n",
      "C:\\Users\\HUAWEI\\AppData\\Local\\Temp\\ipykernel_16720\\1121726953.py:4: SettingWithCopyWarning: \n",
      "A value is trying to be set on a copy of a slice from a DataFrame\n",
      "\n",
      "See the caveats in the documentation: https://pandas.pydata.org/pandas-docs/stable/user_guide/indexing.html#returning-a-view-versus-a-copy\n",
      "  df_incidents.avg_age_participants[df_incidents.avg_age_participants<0] = np.nan\n",
      "C:\\Users\\HUAWEI\\AppData\\Local\\Temp\\ipykernel_16720\\1121726953.py:6: SettingWithCopyWarning: \n",
      "A value is trying to be set on a copy of a slice from a DataFrame\n",
      "\n",
      "See the caveats in the documentation: https://pandas.pydata.org/pandas-docs/stable/user_guide/indexing.html#returning-a-view-versus-a-copy\n",
      "  df_incidents.min_age_participants[df_incidents.min_age_participants>100] = np.nan\n",
      "C:\\Users\\HUAWEI\\AppData\\Local\\Temp\\ipykernel_16720\\1121726953.py:7: SettingWithCopyWarning: \n",
      "A value is trying to be set on a copy of a slice from a DataFrame\n",
      "\n",
      "See the caveats in the documentation: https://pandas.pydata.org/pandas-docs/stable/user_guide/indexing.html#returning-a-view-versus-a-copy\n",
      "  df_incidents.max_age_participants[df_incidents.max_age_participants>100] = np.nan\n",
      "C:\\Users\\HUAWEI\\AppData\\Local\\Temp\\ipykernel_16720\\1121726953.py:8: SettingWithCopyWarning: \n",
      "A value is trying to be set on a copy of a slice from a DataFrame\n",
      "\n",
      "See the caveats in the documentation: https://pandas.pydata.org/pandas-docs/stable/user_guide/indexing.html#returning-a-view-versus-a-copy\n",
      "  df_incidents.avg_age_participants[df_incidents.avg_age_participants>100] = np.nan\n"
     ]
    }
   ],
   "source": [
    "# We replace the ages that are negative with NaN\n",
    "df_incidents.min_age_participants[df_incidents.min_age_participants<0] = np.nan\n",
    "df_incidents.max_age_participants[df_incidents.max_age_participants<0] = np.nan\n",
    "df_incidents.avg_age_participants[df_incidents.avg_age_participants<0] = np.nan\n",
    "# We replace the ages that are too big with NaN\n",
    "df_incidents.min_age_participants[df_incidents.min_age_participants>100] = np.nan\n",
    "df_incidents.max_age_participants[df_incidents.max_age_participants>100] = np.nan\n",
    "df_incidents.avg_age_participants[df_incidents.avg_age_participants>100] = np.nan\n"
   ],
   "metadata": {
    "collapsed": false
   }
  },
  {
   "cell_type": "markdown",
   "source": [
    "#### Number of participants"
   ],
   "metadata": {
    "collapsed": false
   }
  },
  {
   "cell_type": "code",
   "execution_count": 234,
   "outputs": [
    {
     "name": "stdout",
     "output_type": "stream",
     "text": [
      "maximum number of participants 103.0, minimum number of participants 0.0\n",
      "maximum number of participants_child 886365.0, minimum number of participants_child -977.0\n",
      "maximum number of participants_teen 762487.0, minimum number of participants_teen -947.0\n",
      "maximum number of participants_adult 827900.0, minimum number of participants_adult -991.0\n"
     ]
    }
   ],
   "source": [
    "print(f'maximum number of participants {df_incidents.n_participants.max()}, minimum number of participants {df_incidents.n_participants.min()}')\n",
    "print(f'maximum number of participants_child {df_incidents.n_participants_child.max()}, minimum number of participants_child {df_incidents.n_participants_child.min()}')\n",
    "print(f'maximum number of participants_teen {df_incidents.n_participants_teen.max()}, minimum number of participants_teen {df_incidents.n_participants_teen.min()}')\n",
    "print(f'maximum number of participants_adult {df_incidents.n_participants_adult.max()}, minimum number of participants_adult {df_incidents.n_participants_adult.min()}')"
   ],
   "metadata": {
    "collapsed": false
   }
  },
  {
   "cell_type": "markdown",
   "source": [
    "The number of participants seems correct, but the numver of children, teens and adults is not correct, since there are negative or too big numbers ($>103$). For now we replace them with NaN."
   ],
   "metadata": {
    "collapsed": false
   }
  },
  {
   "cell_type": "code",
   "execution_count": 246,
   "outputs": [],
   "source": [
    "df_incidents.n_participants_child[df_incidents.n_participants_child<0] = np.nan\n",
    "df_incidents.n_participants_teen[df_incidents.n_participants_teen<0] = np.nan\n",
    "df_incidents.n_participants_adult[df_incidents.n_participants_adult<0] = np.nan\n",
    "df_incidents.n_participants_child[df_incidents.n_participants_child>103] = np.nan\n",
    "df_incidents.n_participants_teen[df_incidents.n_participants_teen>103] = np.nan\n",
    "df_incidents.n_participants_adult[df_incidents.n_participants_adult>103] = np.nan"
   ],
   "metadata": {
    "collapsed": false
   }
  },
  {
   "cell_type": "markdown",
   "source": [
    "#### Number of killed and injured"
   ],
   "metadata": {
    "collapsed": false
   }
  },
  {
   "cell_type": "code",
   "execution_count": 266,
   "outputs": [
    {
     "name": "stdout",
     "output_type": "stream",
     "text": [
      "maximum number of killed 50, minimum number of killed 0\n",
      "maximum number of injured 53, minimum number of injured 0\n",
      "maximum number of arrested 63.0, minimum number of arrested 0.0\n",
      "maximum numbber of hunarmed 20.0, minimum number of unharmed 0.0\n"
     ]
    }
   ],
   "source": [
    "print(f'maximum number of killed {df_incidents.n_killed.max()}, minimum number of killed {df_incidents.n_killed.min()}')\n",
    "print(f'maximum number of injured {df_incidents.n_injured.max()}, minimum number of injured {df_incidents.n_injured.min()}')\n",
    "print(f'maximum number of arrested {df_incidents.n_arrested.max()}, minimum number of arrested {df_incidents.n_arrested.min()}')\n",
    "print(f'maximum numbber of hunarmed {df_incidents.n_unharmed.max()}, minimum number of unharmed {df_incidents.n_unharmed.min()}')\n"
   ],
   "metadata": {
    "collapsed": false
   }
  },
  {
   "cell_type": "markdown",
   "source": [
    "The number of killed and injuried  seems reasonable, so we don't change anything."
   ],
   "metadata": {
    "collapsed": false
   }
  },
  {
   "cell_type": "markdown",
   "metadata": {
    "collapsed": false
   },
   "source": [
    "### Poverty"
   ]
  },
  {
   "cell_type": "code",
   "execution_count": 236,
   "outputs": [
    {
     "name": "stdout",
     "output_type": "stream",
     "text": [
      "Distinct Values in state: \t <StringArray>\n",
      "[       'United States',              'Alabama',               'Alaska',\n",
      "              'Arizona',             'Arkansas',           'California',\n",
      "             'Colorado',          'Connecticut',             'Delaware',\n",
      " 'District of Columbia',              'Florida',              'Georgia',\n",
      "               'Hawaii',                'Idaho',             'Illinois',\n",
      "              'Indiana',                 'Iowa',               'Kansas',\n",
      "             'Kentucky',            'Louisiana',                'Maine',\n",
      "             'Maryland',        'Massachusetts',             'Michigan',\n",
      "            'Minnesota',          'Mississippi',             'Missouri',\n",
      "              'Montana',             'Nebraska',               'Nevada',\n",
      "        'New Hampshire',           'New Jersey',           'New Mexico',\n",
      "             'New York',       'North Carolina',         'North Dakota',\n",
      "                 'Ohio',             'Oklahoma',               'Oregon',\n",
      "         'Pennsylvania',         'Rhode Island',       'South Carolina',\n",
      "         'South Dakota',            'Tennessee',                'Texas',\n",
      "                 'Utah',              'Vermont',             'Virginia',\n",
      "           'Washington',        'West Virginia',            'Wisconsin',\n",
      "              'Wyoming']\n",
      "Length: 52, dtype: string\n",
      "total n. of states: \t\t 52\n"
     ]
    }
   ],
   "source": [
    "print(\"Distinct Values in state: \\t\", df_poverty.state.unique())\n",
    "print(\"total n. of states: \\t\\t\", df_poverty.state.nunique())"
   ],
   "metadata": {
    "collapsed": false
   }
  },
  {
   "cell_type": "markdown",
   "metadata": {
    "collapsed": false
   },
   "source": [
    "### Elections"
   ]
  },
  {
   "cell_type": "code",
   "execution_count": 240,
   "metadata": {
    "ExecuteTime": {
     "end_time": "2023-10-12T16:10:43.320546Z",
     "start_time": "2023-10-12T16:10:43.302726Z"
    },
    "collapsed": false
   },
   "outputs": [
    {
     "name": "stdout",
     "output_type": "stream",
     "text": [
      "Distinct Values in state: \t <StringArray>\n",
      "[             'ALABAMA',               'ALASKA',              'ARIZONA',\n",
      "             'ARKANSAS',           'CALIFORNIA',             'COLORADO',\n",
      "          'CONNECTICUT',             'DELAWARE',              'FLORIDA',\n",
      "              'GEORGIA',               'HAWAII',                'IDAHO',\n",
      "             'ILLINOIS',              'INDIANA',                 'IOWA',\n",
      "               'KANSAS',             'KENTUCKY',            'LOUISIANA',\n",
      "                'MAINE',             'MARYLAND',        'MASSACHUSETTS',\n",
      "             'MICHIGAN',            'MINNESOTA',          'MISSISSIPPI',\n",
      "             'MISSOURI',              'MONTANA',             'NEBRASKA',\n",
      "               'NEVADA',        'NEW HAMPSHIRE',           'NEW JERSEY',\n",
      "           'NEW MEXICO',             'NEW YORK',       'NORTH CAROLINA',\n",
      "         'NORTH DAKOTA',                 'OHIO',             'OKLAHOMA',\n",
      "               'OREGON',         'PENNSYLVANIA',         'RHODE ISLAND',\n",
      "       'SOUTH CAROLINA',         'SOUTH DAKOTA',            'TENNESSEE',\n",
      "                'TEXAS',                 'UTAH',              'VERMONT',\n",
      "             'VIRGINIA',           'WASHINGTON',        'WEST VIRGINIA',\n",
      "            'WISCONSIN',              'WYOMING', 'DISTRICT OF COLUMBIA']\n",
      "Length: 51, dtype: string\n"
     ]
    }
   ],
   "source": [
    "print(\"Distinct Values in state: \\t\", df_elections.state.unique())"
   ]
  },
  {
   "cell_type": "code",
   "execution_count": 241,
   "metadata": {
    "ExecuteTime": {
     "end_time": "2023-10-12T16:10:26.909607Z",
     "start_time": "2023-10-12T16:10:26.890715Z"
    },
    "collapsed": false
   },
   "outputs": [
    {
     "name": "stdout",
     "output_type": "stream",
     "text": [
      "Distinct Values in state: \t 51\n"
     ]
    }
   ],
   "source": [
    "print(\"Distinct Values in state: \\t\", df_elections.state.nunique())\n",
    "# There is an erroneous instance: 'DISTRICT OF COLUMBIA'"
   ]
  },
  {
   "cell_type": "markdown",
   "source": [
    "## Data Exploration"
   ],
   "metadata": {
    "collapsed": false
   }
  },
  {
   "cell_type": "markdown",
   "source": [
    "Before dealing with the missing values, we should explore the data to understand how to fill them."
   ],
   "metadata": {
    "collapsed": false
   }
  },
  {
   "cell_type": "markdown",
   "metadata": {
    "collapsed": false
   },
   "source": [
    "### Distributions"
   ]
  },
  {
   "cell_type": "markdown",
   "metadata": {},
   "source": [
    "### Ages"
   ]
  },
  {
   "cell_type": "code",
   "execution_count": 300,
   "metadata": {},
   "outputs": [
    {
     "data": {
      "text/plain": "<Axes: >"
     },
     "execution_count": 300,
     "metadata": {},
     "output_type": "execute_result"
    },
    {
     "data": {
      "text/plain": "<Figure size 1000x800 with 6 Axes>",
      "image/png": "[encoded data removed]"
     },
     "metadata": {},
     "output_type": "display_data"
    }
   ],
   "source": [
    "# plot the distribution of the ages with a line plot\n",
    "fig, ax = plt.subplots(3,2)\n",
    "# adjust the size of the figure\n",
    "fig.set_figheight(8)\n",
    "fig.set_figwidth(10)\n",
    "df_incidents.min_age_participants.hist(ax=ax[0,0], bins=30)\n",
    "ax[0,0].set_title('Distribution of the minimum age of the participants')\n",
    "df_incidents.max_age_participants.hist(ax=ax[1,0], bins=30)\n",
    "ax[1,0].set_title('Distribution of the maximum age of the participants')\n",
    "df_incidents.avg_age_participants.hist(ax=ax[2,0], bins=30)\n",
    "ax[2,0].set_title('Distribution of the average age of the participants')\n",
    "# box plots\n",
    "df_incidents.min_age_participants.plot.box(ax=ax[0,1])\n",
    "df_incidents.max_age_participants.plot.box(ax=ax[1,1])\n",
    "df_incidents.avg_age_participants.plot.box(ax=ax[2,1])\n",
    "\n"
   ]
  },
  {
   "cell_type": "code",
   "execution_count": 291,
   "metadata": {
    "ExecuteTime": {
     "end_time": "2023-10-12T15:00:20.082669Z",
     "start_time": "2023-10-12T15:00:19.790884Z"
    },
    "collapsed": false
   },
   "outputs": [
    {
     "name": "stdout",
     "output_type": "stream",
     "text": [
      "number of outliers for min_age_participants: 6303\n"
     ]
    },
    {
     "data": {
      "text/plain": "<Figure size 640x1000 with 3 Axes>",
      "image/png": "[encoded data removed]"
     },
     "metadata": {},
     "output_type": "display_data"
    }
   ],
   "source": [
    "# plot the distribution of the ages with a box plot\n",
    "fig, ax = plt.subplots(3,1)\n",
    "# adjust the size of the figure\n",
    "fig.set_figheight(10)\n",
    "df_incidents.min_age_participants.plot.box(ax=ax[0])\n",
    "# compute how many outliers are out of the fences\n"
   ]
  },
  {
   "cell_type": "code",
   "execution_count": null,
   "metadata": {},
   "outputs": [],
   "source": []
  },
  {
   "cell_type": "code",
   "execution_count": null,
   "metadata": {
    "ExecuteTime": {
     "end_time": "2023-10-12T15:00:34.207551Z",
     "start_time": "2023-10-12T15:00:34.022613Z"
    },
    "collapsed": false
   },
   "outputs": [],
   "source": [
    "df_incidents['n_killed'].value_counts().plot(kind='bar', title='Number of killed')\n",
    "plt.show()"
   ]
  },
  {
   "cell_type": "code",
   "execution_count": null,
   "metadata": {
    "collapsed": false
   },
   "outputs": [],
   "source": [
    "# plot the distribution of the number of killed people > 3\n",
    "df_incidents[df_incidents.n_killed > 3].n_killed.value_counts().plot(kind='bar', title='Number of killed > 3')"
   ]
  },
  {
   "cell_type": "markdown",
   "metadata": {
    "collapsed": false
   },
   "source": [
    "## Correlations"
   ]
  },
  {
   "cell_type": "markdown",
   "metadata": {
    "collapsed": false
   },
   "source": [
    "We wanna first see if there is a correlations between the poverty of the state and the number of gun incidents."
   ]
  },
  {
   "cell_type": "code",
   "execution_count": null,
   "metadata": {
    "collapsed": false
   },
   "outputs": [],
   "source": [
    "# show incidents happened in 2014\n",
    "df_incidents_2014=df_incidents[df_incidents.date.dt.year == 2014]\n",
    "# new df with total number of incidents per state\n",
    "df_incidents_2014_state = df_incidents_2014.groupby('state').size().reset_index(name='total_incidents')"
   ]
  },
  {
   "cell_type": "code",
   "execution_count": null,
   "metadata": {
    "collapsed": false
   },
   "outputs": [],
   "source": [
    "df_incidents_2014_state\n"
   ]
  },
  {
   "cell_type": "code",
   "execution_count": null,
   "metadata": {
    "collapsed": false
   },
   "outputs": [],
   "source": [
    "for state in df_incidents_2014_state.state:\n",
    "    df_incidents_2014_state.loc[df_incidents_2014_state.state == state, 'povertyPercentage'] = \\\n",
    "        df_poverty[df_poverty.year==2014][df_poverty.state == state].povertyPercentage.values[0]"
   ]
  },
  {
   "cell_type": "code",
   "execution_count": null,
   "metadata": {
    "collapsed": false
   },
   "outputs": [],
   "source": [
    "df_incidents_2014_state"
   ]
  },
  {
   "cell_type": "code",
   "execution_count": null,
   "metadata": {
    "collapsed": false
   },
   "outputs": [],
   "source": [
    "# correlation between poverty and number of incidents\n",
    "df_incidents_2014_state.plot(x='povertyPercentage', y='total_incidents', kind='scatter', title='Correlation between poverty and number of incidents')\n",
    "# print the correlation coefficient\n",
    "print(df_incidents_2014_state.corr())"
   ]
  },
  {
   "cell_type": "code",
   "execution_count": null,
   "metadata": {},
   "outputs": [],
   "source": []
  },
  {
   "cell_type": "code",
   "execution_count": null,
   "outputs": [],
   "source": [],
   "metadata": {
    "collapsed": false
   }
  }
 ],
 "metadata": {
  "kernelspec": {
   "display_name": "Python 3",
   "language": "python",
   "name": "python3"
  },
  "language_info": {
   "codemirror_mode": {
    "name": "ipython",
    "version": 3
   },
   "file_extension": ".py",
   "mimetype": "text/x-python",
   "name": "python",
   "nbconvert_exporter": "python",
   "pygments_lexer": "ipython3",
   "version": "3.10.8"
  }
 },
 "nbformat": 4,
 "nbformat_minor": 0
}
